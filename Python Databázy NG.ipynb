{
 "cells":[
  {
   "cell_type":"markdown",
   "source":[
    "# Úvod do Databáz a DBMS"
   ],
   "attachments":{
    
   },
   "metadata":{
    "datalore":{
     "node_id":"Úvod do Databáz a DBMS",
     "type":"MD",
     "hide_input_from_viewers":false,
     "hide_output_from_viewers":false,
     "sheet_delimiter":true
    }
   }
  },
  {
   "cell_type":"markdown",
   "source":[
    "# 🔌 Kurz Python Databázy\n",
    "**🧑‍🏫 Lektor:** Miroslav Reiter  \n",
    "**📥 LinkedIn kontakt:** https:\/\/www.linkedin.com\/in\/miroslav-reiter\/  \n",
    "\n",
    "`*Testovaci* **Text**`\n",
    "\n",
    "**✅ Osnova:** https:\/\/itkurzy.sav.sk\/node\/178\n",
    "\n",
    "**🎞️ YouTube videá:** https:\/\/www.youtube.com\/c\/IT-AcademySK  \n",
    "**📇 Zdrojové kódy a materiály:** https:\/\/github.com\/miroslav-reiter\/Kurzy_SAV_Analytika_Python_R  \n",
    "\n",
    "**😊 Emojis:** Win + .  "
   ],
   "attachments":{
    
   },
   "metadata":{
    "datalore":{
     "node_id":"pmFpM1Ishk43Rn6KMyp5zq",
     "type":"MD",
     "hide_input_from_viewers":true,
     "hide_output_from_viewers":true
    }
   }
  },
  {
   "cell_type":"markdown",
   "source":[
    "# ⚒️ Najpoužívanejšie Nástroje Dátovej Analýzy\n",
    "- 🐍 **Python** - momentálne najpopulárnejší jazyk pre vedu o údajoch (Data science). Python je síce interpretovaný a pomalší jazyk ako C\/C++, ale využitím knižníc, ako je NumPy (a Pandas navyše), sa môžeme priblížiť rýchlosti C.  \n",
    "  \n",
    "- 🪐 **Jupyter** - nástroj s prostredím interaktívneho notebooku, mocný prieskumný, vizualizačný a komunikačný nástroj.\n",
    "  \n",
    "- 🐼 **Pandas** - nástroj na manipuláciu s tabuľkovými údajmi v Pythone. Je to obrovská knižnica, ale ak poznáte správne metódy, môžeme vytvoriť výkonnú analýzu.\n",
    "  \n",
    "- 📊 **Matplotlib** - grafická knižnica s rôznymi grafmi a vizualizáciami. V spojení s Pandas a Jupyter môžeme rýchlo získať prehľad o našich údajoch.  \n",
    "  \n",
    "- 🚀 **Numpy** - knižnica jazyka Python, ktorá poskytuje infraštruktúru pre prácu s vektormi, maticami a všeobecne viacrozmernými poliami.\n",
    "\n",
    "## 📚 Knižnice\/Moduly pre prácu s Databázami\n",
    "1. **pymysql**\n",
    "1. **psycopg2**\n",
    "1. sqlite3\n",
    "1. cx_Oracle\n",
    "1. pyodbc\n",
    "1. sqlalchemy\n",
    "\n",
    "😎 Existuje 300 000+ knižníc pre Python.  "
   ],
   "attachments":{
    
   },
   "metadata":{
    "datalore":{
     "node_id":"IAw4o1UBHaJDmIBHY6pWdg",
     "type":"MD",
     "hide_input_from_viewers":true,
     "hide_output_from_viewers":true
    }
   }
  },
  {
   "cell_type":"markdown",
   "source":[
    "# Čo je Databáza?\n",
    "\n",
    "1. Kontajnér na ukladanie a organizáciu údajov\n",
    "2. Kolekcia dát, ktoré sú systematicky usporiadané tak, aby bolo možné ľahko pristupovať k nim, spravovať ich a aktualizovať \n",
    "3. Sú nevyhnutné pre rôzne aplikácie a organizácie, pretože poskytujú efektívny spôsob, ako ukladať, načítať a analyzovať veľké objemy údajov\n",
    "\n",
    "# Čo je DBMS (Database Management System)?\n",
    "* Softvérový nástroj alebo súbor nástrojov používaný na vytváranie, spravovanie a prispôsobovanie databáz \n",
    "* Umožňuje používateľom ukladať, spracovávať a analyzovať veľké množstvo štruktúrovanej informácie a spravovať dáta s vysokou účinnosťou a bezpečnosťou"
   ],
   "attachments":{
    
   },
   "metadata":{
    "datalore":{
     "node_id":"RPo4MPDa5cOgj7oFQFoj3N",
     "type":"MD",
     "hide_input_from_viewers":true,
     "hide_output_from_viewers":true
    }
   }
  },
  {
   "cell_type":"markdown",
   "source":[
    "# Príklady Využitia Databáz \n",
    "1. Bankovníctvo: Na ukladanie informácií o klientoch, ich účtoch, transakciách, pôžičkách a iných finančných službách\n",
    "2. **Online obchody a e-commerce**: Na správu eshopu, zákazníckych údajov, objednávok, platobných informácií a historie nákupov\n",
    "3. Zdravotníctvo: Na ukladanie pacientskych záznamov, lekárskych predpisov, výsledkov testov a informácií o liečbe\n",
    "4. **Vzdelávanie**: Na správu študentských záznamov, kurzov, známok a registrácie\n",
    "5. Telekomunikácie: Na správu informácií o zákazníkoch, hovoroch, fakturácii a sieťových dátach\n",
    "6. Výroba: Na sledovanie výrobných procesov, zásob, objednávok a dodávateľských reťazcov\n",
    "7. Doprava a logistika: Na sledovanie zásielok, vozového parku, cestovných itinerárov a údajov o preprave\n",
    "8. Vládne a verejné služby: Na evidenciu občianskych údajov, daňových záznamov, evidencie vozidiel a iných verejných záznamov\n",
    "9. **Sociálne médiá a online platformy**: Na ukladanie údajov o používateľoch, ich interakciách, príspevkoch a sieťových vzťahoch\n",
    "10. **Vedecký výskum a dátovej analýzy**: Na ukladanie a analyzovanie veľkých súborov údajov v oblastiach ako genómika, klimatológia, fyzika a mnoho ďalších\n",
    "\n",
    "# DBMS Funkcie\n",
    "1. Ukladanie dát: Umožňuje ukladanie rôznych druhov dát v organizovanej forme\n",
    "2. Manipulácia s dátami: Podpora pre vytváranie, aktualizáciu, mazanie a vyhľadávanie dát\n",
    "3. Transakčný manažment: Zabezpečuje integritu dát pri súčasnom prístupe viacerých používateľov a zabezpečuje, že všetky transakcie sú kompletné a konzistentné\n",
    "4. Zabezpečenie a správa oprávnení: Umožňuje definovať, kto má prístup k akým dátam a aké operácie môže s dátami vykonávať\n",
    "5. Zálohovanie a obnova: Umožňuje zálohovanie dát a ich obnovu v prípade systémového zlyhania alebo straty dát"
   ],
   "attachments":{
    
   },
   "metadata":{
    "datalore":{
     "node_id":"CPgvkkAJ7NZPlqqjhsa2z2",
     "type":"MD",
     "hide_input_from_viewers":true,
     "hide_output_from_viewers":true
    }
   }
  },
  {
   "cell_type":"markdown",
   "source":[
    "# Konkrétne DBMS\/DB\n",
    "1. MySQL: Obľúbený open-source relačný databázový systém, ktorý je často používaný v web aplikáciách, vrátane online obchodov a webov\n",
    "2. PostgreSQL: Vysoko sofistikovaný open-source objektovo-relačný DBMS, známy pre svoju robustnosť, skalovateľnosť a podporu komplexných dátových typov\n",
    "3. Microsoft SQL Server: Komplexný komerčný DBMS od spoločnosti Microsoft, populárny vo firemnom prostredí, ponúka rozsiahle nástroje a integráciu s inými produktmi Microsoftu\n",
    "4. Oracle Database: Veľmi výkonný a rozšírený komerčný DBMS, používaný hlavne veľkými spoločnosťami a organizáciami pre kritické aplikácie\n",
    "5. MongoDB: Populárny NoSQL databázový systém orientovaný na dokumenty, vhodný pre aplikácie, ktoré vyžadujú rýchle spracovanie veľkého množstva nestrukturovaných dát\n",
    "6. SQLite: Ľahká, embeddable databáza, ktorá nevyžaduje samostatný serverový proces, často používaná v mobilných aplikáciách a malých webových projektoch\n",
    "7. IBM DB2: Výkonný komerčný DBMS, ktorý sa používa v rôznych podnikových a analytických aplikáciách\n",
    "8. Apache Cassandra: Škálovateľný, vysokovýkonný distribuovaný NoSQL DBMS, navrhnutý pre spracovanie veľkých objemov dát rozložených naprieč mnohými servermi\n",
    "9. Redis: Výkonný databázový systém v pamäti, ktorý sa často používa ako vyrovnávacia pamäť alebo na ukladanie dát v reálnom čase\n",
    "10. Amazon DynamoDB: Plne spravovaná NoSQL databázová služba poskytovaná Amazon Web Services, navrhnutá pre jednoduché škálovanie a vysokú dostupnosť"
   ],
   "attachments":{
    
   },
   "metadata":{
    "datalore":{
     "node_id":"7mkxSqmcyNKp5WM7dsKyRK",
     "type":"MD",
     "hide_input_from_viewers":true,
     "hide_output_from_viewers":true
    }
   }
  },
  {
   "cell_type":"markdown",
   "source":[
    "# Pripojenie sa na DB"
   ],
   "attachments":{
    
   },
   "metadata":{
    "datalore":{
     "node_id":"Lv1Or8fAb5V24rg7feUGku",
     "type":"MD",
     "hide_input_from_viewers":true,
     "hide_output_from_viewers":true
    }
   }
  },
  {
   "cell_type":"markdown",
   "source":[
    "## 🐬 MySQL \n",
    "Inštalátor: https:\/\/dev.mysql.com\/downloads\/mysql\/ | https:\/\/www.wampserver.com\/en\/  \n",
    "Porty: 3306-3311  \n",
    "User: root  \n",
    "Heslo: bez (Wamp)\/vase(MySql installer)  \n",
    "JDBC driver: https:\/\/dev.mysql.com\/downloads\/connector\/j\/  \n",
    "\n",
    "##  🐘 PostgreSQL \n",
    "Inštalátor: https:\/\/www.postgresql.org\/download\/windows\/  \n",
    "Porty: 5432  \n",
    "User: postgres  \n",
    "Heslo: vase(PostgreSQL installer)  \n",
    "JDBC driver: https:\/\/jdbc.postgresql.org\/download.html  \n",
    "\n",
    "##  🎩 Apache Derby  \n",
    "Inštalátor: https:\/\/db.apache.org\/derby\/derby_downloads.html  \n",
    "Porty: 1527  \n",
    "\n",
    "##  ☁️ Oracle DB  \n",
    "Inštalátor: https:\/\/www.oracle.com\/database\/technologies\/appdev\/xe.html  \n",
    "Porty: 1521  \n",
    "SID: xe  \n",
    "\n",
    "##  🦢 SQLite  \n",
    "Inštalátor: https:\/\/www.sqlite.org\/download.html  \n",
    "Porty: nemá porty  "
   ],
   "attachments":{
    
   },
   "metadata":{
    "datalore":{
     "node_id":"eYODywV6wh8VgwnfTfiKtQ",
     "type":"MD",
     "hide_input_from_viewers":true,
     "hide_output_from_viewers":true
    }
   }
  },
  {
   "cell_type":"markdown",
   "source":[
    "## 🗄️ Údaje na Testovacie Pripojenie na Databázu na DOMA\n",
    "### 🐬 MySQL \n",
    "**Hostiteľ [host]:** mysql57.r2.websupport.sk  \n",
    "Databáza [database\/schema]: Kurz_DB_SQL  \n",
    "**Používateľ [user]:** Kurz_DB_SQL  \n",
    "Heslo [password]: Buduci_analytik123  \n",
    "**Port:** 3311  \n",
    "\n",
    "### 🐘 PostgreSQL \n",
    "**Hostiteľ [host]:** postgresql.r2.websupport.sk  \n",
    "Databáza [database\/schema]: Kurz_VAVA_JDBC  \n",
    "**Používateľ [user]:** Kurz_VAVA_JDBC  \n",
    "Heslo [password]: Kurz_java_developeri_2023  \n",
    "**Port:** 5432   "
   ],
   "attachments":{
    
   },
   "metadata":{
    "datalore":{
     "node_id":"8OHBLPDqEidUtGXPZeogCd",
     "type":"MD",
     "hide_input_from_viewers":true,
     "hide_output_from_viewers":true
    }
   }
  },
  {
   "cell_type":"markdown",
   "source":[
    "# Výpis Všetkých Tabuliek (Tabuliek)"
   ],
   "attachments":{
    
   },
   "metadata":{
    "datalore":{
     "node_id":"Ytpwu6py5ucjmGTj2aZEO6",
     "type":"MD",
     "hide_input_from_viewers":true,
     "hide_output_from_viewers":true
    }
   }
  },
  {
   "cell_type":"code",
   "source":[
    "show tables;"
   ],
   "execution_count":1,
   "outputs":[
    {
     "data":{
      "text\/html":[
       "<div>\n",
       "<style scoped>\n",
       "    .dataframe tbody tr th:only-of-type {\n",
       "        vertical-align: middle;\n",
       "    }\n",
       "\n",
       "    .dataframe tbody tr th {\n",
       "        vertical-align: top;\n",
       "    }\n",
       "\n",
       "    .dataframe thead th {\n",
       "        text-align: right;\n",
       "    }\n",
       "<\/style>\n",
       "<table border=\"1\" class=\"dataframe\">\n",
       "  <thead>\n",
       "    <tr style=\"text-align: right;\">\n",
       "      <th><\/th>\n",
       "      <th>Tables_in_DB_MySQL<\/th>\n",
       "    <\/tr>\n",
       "  <\/thead>\n",
       "  <tbody>\n",
       "    <tr>\n",
       "      <th>0<\/th>\n",
       "      <td>DEPT<\/td>\n",
       "    <\/tr>\n",
       "    <tr>\n",
       "      <th>1<\/th>\n",
       "      <td>EMP<\/td>\n",
       "    <\/tr>\n",
       "    <tr>\n",
       "      <th>2<\/th>\n",
       "      <td>Studenti<\/td>\n",
       "    <\/tr>\n",
       "    <tr>\n",
       "      <th>3<\/th>\n",
       "      <td>T1<\/td>\n",
       "    <\/tr>\n",
       "    <tr>\n",
       "      <th>4<\/th>\n",
       "      <td>T10<\/td>\n",
       "    <\/tr>\n",
       "    <tr>\n",
       "      <th>5<\/th>\n",
       "      <td>T100<\/td>\n",
       "    <\/tr>\n",
       "    <tr>\n",
       "      <th>6<\/th>\n",
       "      <td>Znamky<\/td>\n",
       "    <\/tr>\n",
       "    <tr>\n",
       "      <th>7<\/th>\n",
       "      <td>nobel<\/td>\n",
       "    <\/tr>\n",
       "    <tr>\n",
       "      <th>8<\/th>\n",
       "      <td>world<\/td>\n",
       "    <\/tr>\n",
       "  <\/tbody>\n",
       "<\/table>\n",
       "<\/div>"
      ]
     },
     "metadata":{
      
     },
     "output_type":"display_data"
    }
   ],
   "metadata":{
    "datalore":{
     "node_id":"970fh9tZdcHUEy8K33LPdw",
     "type":"SQL",
     "hide_input_from_viewers":true,
     "hide_output_from_viewers":true,
     "sql_cell_properties":{
      "dbId":"o3xwDOTwGyDFOgwr0TtQr1",
      "variableName":"df_1",
      "dialect":"mysql.8"
     }
    }
   }
  },
  {
   "cell_type":"markdown",
   "source":[
    
   ],
   "attachments":{
    
   },
   "metadata":{
    "datalore":{
     "node_id":"QQITWgJ8QMPqSNLWiXNDmQ",
     "type":"MD",
     "hide_input_from_viewers":true,
     "hide_output_from_viewers":true
    }
   }
  },
  {
   "cell_type":"markdown",
   "source":[
    "# Prvé Dopyty v Jazyku SQL (Selecty)"
   ],
   "attachments":{
    
   },
   "metadata":{
    "datalore":{
     "node_id":"ZMOOpbJKlpCivBjRj1NMyB",
     "type":"MD",
     "hide_input_from_viewers":true,
     "hide_output_from_viewers":true
    }
   }
  },
  {
   "cell_type":"code",
   "source":[
    "select * from world;"
   ],
   "execution_count":2,
   "outputs":[
    {
     "data":{
      "text\/html":[
       "<div>\n",
       "<style scoped>\n",
       "    .dataframe tbody tr th:only-of-type {\n",
       "        vertical-align: middle;\n",
       "    }\n",
       "\n",
       "    .dataframe tbody tr th {\n",
       "        vertical-align: top;\n",
       "    }\n",
       "\n",
       "    .dataframe thead th {\n",
       "        text-align: right;\n",
       "    }\n",
       "<\/style>\n",
       "<table border=\"1\" class=\"dataframe\">\n",
       "  <thead>\n",
       "    <tr style=\"text-align: right;\">\n",
       "      <th><\/th>\n",
       "      <th>name<\/th>\n",
       "      <th>continent<\/th>\n",
       "      <th>area<\/th>\n",
       "      <th>population<\/th>\n",
       "      <th>gdp<\/th>\n",
       "      <th>capital<\/th>\n",
       "      <th>tld<\/th>\n",
       "      <th>flag<\/th>\n",
       "    <\/tr>\n",
       "  <\/thead>\n",
       "  <tbody>\n",
       "    <tr>\n",
       "      <th>0<\/th>\n",
       "      <td>Afghanistan<\/td>\n",
       "      <td>Asia<\/td>\n",
       "      <td>652230<\/td>\n",
       "      <td>25500100<\/td>\n",
       "      <td>2.036400e+10<\/td>\n",
       "      <td>Kabul<\/td>\n",
       "      <td>.af<\/td>\n",
       "      <td>\/\/upload.wikimedia.org\/wikipedia\/commons\/9\/9a\/...<\/td>\n",
       "    <\/tr>\n",
       "    <tr>\n",
       "      <th>1<\/th>\n",
       "      <td>Albania<\/td>\n",
       "      <td>Europe<\/td>\n",
       "      <td>28748<\/td>\n",
       "      <td>2821977<\/td>\n",
       "      <td>1.204400e+10<\/td>\n",
       "      <td>Tirana<\/td>\n",
       "      <td>.al<\/td>\n",
       "      <td>\/\/upload.wikimedia.org\/wikipedia\/commons\/3\/36\/...<\/td>\n",
       "    <\/tr>\n",
       "    <tr>\n",
       "      <th>2<\/th>\n",
       "      <td>Algeria<\/td>\n",
       "      <td>Africa<\/td>\n",
       "      <td>2381741<\/td>\n",
       "      <td>38700000<\/td>\n",
       "      <td>2.070210e+05<\/td>\n",
       "      <td>Algiers<\/td>\n",
       "      <td>.dz<\/td>\n",
       "      <td>\/\/upload.wikimedia.org\/wikipedia\/commons\/7\/77\/...<\/td>\n",
       "    <\/tr>\n",
       "    <tr>\n",
       "      <th>3<\/th>\n",
       "      <td>Andorra<\/td>\n",
       "      <td>Europe<\/td>\n",
       "      <td>468<\/td>\n",
       "      <td>76098<\/td>\n",
       "      <td>3.222000e+09<\/td>\n",
       "      <td>Andorra la Vella<\/td>\n",
       "      <td>.ad<\/td>\n",
       "      <td>\/\/upload.wikimedia.org\/wikipedia\/commons\/1\/19\/...<\/td>\n",
       "    <\/tr>\n",
       "    <tr>\n",
       "      <th>4<\/th>\n",
       "      <td>Angola<\/td>\n",
       "      <td>Africa<\/td>\n",
       "      <td>1246700<\/td>\n",
       "      <td>19183590<\/td>\n",
       "      <td>1.163080e+05<\/td>\n",
       "      <td>Luanda<\/td>\n",
       "      <td>.ao<\/td>\n",
       "      <td>\/\/upload.wikimedia.org\/wikipedia\/commons\/9\/9d\/...<\/td>\n",
       "    <\/tr>\n",
       "    <tr>\n",
       "      <th>...<\/th>\n",
       "      <td>...<\/td>\n",
       "      <td>...<\/td>\n",
       "      <td>...<\/td>\n",
       "      <td>...<\/td>\n",
       "      <td>...<\/td>\n",
       "      <td>...<\/td>\n",
       "      <td>...<\/td>\n",
       "      <td>...<\/td>\n",
       "    <\/tr>\n",
       "    <tr>\n",
       "      <th>190<\/th>\n",
       "      <td>Venezuela<\/td>\n",
       "      <td>South America<\/td>\n",
       "      <td>916445<\/td>\n",
       "      <td>28946101<\/td>\n",
       "      <td>3.824240e+05<\/td>\n",
       "      <td>Caracas<\/td>\n",
       "      <td>.ve<\/td>\n",
       "      <td>\/\/upload.wikimedia.org\/wikipedia\/commons\/0\/06\/...<\/td>\n",
       "    <\/tr>\n",
       "    <tr>\n",
       "      <th>191<\/th>\n",
       "      <td>Vietnam<\/td>\n",
       "      <td>Asia<\/td>\n",
       "      <td>331212<\/td>\n",
       "      <td>89708900<\/td>\n",
       "      <td>1.558200e+04<\/td>\n",
       "      <td>Hanoi<\/td>\n",
       "      <td>.vn<\/td>\n",
       "      <td>\/\/upload.wikimedia.org\/wikipedia\/commons\/2\/21\/...<\/td>\n",
       "    <\/tr>\n",
       "    <tr>\n",
       "      <th>192<\/th>\n",
       "      <td>Yemen<\/td>\n",
       "      <td>Asia<\/td>\n",
       "      <td>527968<\/td>\n",
       "      <td>25235000<\/td>\n",
       "      <td>3.283100e+10<\/td>\n",
       "      <td>Sana‘a<\/td>\n",
       "      <td>.ye<\/td>\n",
       "      <td>\/\/upload.wikimedia.org\/wikipedia\/commons\/8\/89\/...<\/td>\n",
       "    <\/tr>\n",
       "    <tr>\n",
       "      <th>193<\/th>\n",
       "      <td>Zambia<\/td>\n",
       "      <td>Africa<\/td>\n",
       "      <td>752612<\/td>\n",
       "      <td>15023315<\/td>\n",
       "      <td>2.149000e+10<\/td>\n",
       "      <td>Lusaka<\/td>\n",
       "      <td>.zm<\/td>\n",
       "      <td>\/\/upload.wikimedia.org\/wikipedia\/commons\/0\/06\/...<\/td>\n",
       "    <\/tr>\n",
       "    <tr>\n",
       "      <th>194<\/th>\n",
       "      <td>Zimbabwe<\/td>\n",
       "      <td>Africa<\/td>\n",
       "      <td>390757<\/td>\n",
       "      <td>13061239<\/td>\n",
       "      <td>9.802000e+09<\/td>\n",
       "      <td>Harare<\/td>\n",
       "      <td>.zw<\/td>\n",
       "      <td>\/\/upload.wikimedia.org\/wikipedia\/commons\/6\/6a\/...<\/td>\n",
       "    <\/tr>\n",
       "  <\/tbody>\n",
       "<\/table>\n",
       "<p>195 rows × 8 columns<\/p>\n",
       "<\/div>"
      ]
     },
     "metadata":{
      
     },
     "output_type":"display_data"
    }
   ],
   "metadata":{
    "datalore":{
     "node_id":"7J8pMkrF2DbY5EzKIOX1pj",
     "type":"SQL",
     "hide_input_from_viewers":true,
     "hide_output_from_viewers":true,
     "sql_cell_properties":{
      "dbId":"o3xwDOTwGyDFOgwr0TtQr1",
      "variableName":"df_2",
      "dialect":"mysql.8"
     }
    }
   }
  },
  {
   "cell_type":"markdown",
   "source":[
    "# SQL"
   ],
   "attachments":{
    
   },
   "metadata":{
    "datalore":{
     "node_id":"SQL",
     "type":"MD",
     "hide_input_from_viewers":false,
     "hide_output_from_viewers":false,
     "sheet_delimiter":true
    }
   }
  },
  {
   "cell_type":"markdown",
   "source":[
    "# 👌 Jazyk SQL\n",
    "* Skratka pre „Structured Query Language“ (Štruktúrovaný dopytovací jazyk), \n",
    "* Je štandardný jazyk používaný na správu a manipuláciu s dátami v relačných databázových systémoch. \n",
    "* Umožňuje vytvárať, upravovať, spravovať a dotazovať sa na databázy, čo zahŕňa operácie ako vkladanie, aktualizácia, mazanie a vyberanie dát. Jazyk SQL je široko používaný v oblasti databázového programovania a správy dát.  \n",
    "  \n",
    "1. DQL – Data Query Language\n",
    "2. DML – Data Manipulation Language\n",
    "3. DDL – Data Definition Language\n",
    "4. DCL – Data Control Language"
   ],
   "attachments":{
    
   },
   "metadata":{
    "datalore":{
     "node_id":"jlTSsPhEx0KmYbRcZegz49",
     "type":"MD",
     "hide_input_from_viewers":true,
     "hide_output_from_viewers":true
    }
   }
  },
  {
   "cell_type":"markdown",
   "source":[
    "# SQL Jazyk – DML"
   ],
   "attachments":{
    
   },
   "metadata":{
    "datalore":{
     "node_id":"EXLUXU3NUCnFTPFvxiJSDP",
     "type":"MD",
     "hide_input_from_viewers":true,
     "hide_output_from_viewers":true
    }
   }
  },
  {
   "cell_type":"markdown",
   "source":[
    "1. SELECT – výber dát  \n",
    "2. INSERT – vloženie dát \n",
    "3. UPDATE – aktualizácia dát \n",
    "4. DELETE – zmazanie dát \n",
    "5. UPSERT – aktualizácia a súčasne vkladanie dát   "
   ],
   "attachments":{
    
   },
   "metadata":{
    "datalore":{
     "node_id":"ZuVtuCdhJvFvvMQrZUr5fM",
     "type":"MD",
     "hide_input_from_viewers":true,
     "hide_output_from_viewers":true
    }
   }
  },
  {
   "cell_type":"markdown",
   "source":[
    "# Vlastnosti jazyka SQL\n",
    "1. Medzery navyše sú ignorované\n",
    "2. Nie je senzitívny na veľkosť písmen\n",
    "3. Príkazy sú oddeľované bodkočiarkou\n",
    "4. Klauzuly sú špeciálne kľúčové slová\n",
    "5. Výrazy vracajú skalárne hodnoty alebo tabuľky\n",
    "6. Predikát predstavuje podmienku – 3–hodnotová logika"
   ],
   "attachments":{
    
   },
   "metadata":{
    "datalore":{
     "node_id":"Cu186oBClg3KOcny4vn4EJ",
     "type":"MD",
     "hide_input_from_viewers":true,
     "hide_output_from_viewers":true
    }
   }
  },
  {
   "cell_type":"code",
   "source":[
    "SELECT * FROM EMP;"
   ],
   "execution_count":4,
   "outputs":[
    {
     "data":{
      "text\/html":[
       "<div>\n",
       "<style scoped>\n",
       "    .dataframe tbody tr th:only-of-type {\n",
       "        vertical-align: middle;\n",
       "    }\n",
       "\n",
       "    .dataframe tbody tr th {\n",
       "        vertical-align: top;\n",
       "    }\n",
       "\n",
       "    .dataframe thead th {\n",
       "        text-align: right;\n",
       "    }\n",
       "<\/style>\n",
       "<table border=\"1\" class=\"dataframe\">\n",
       "  <thead>\n",
       "    <tr style=\"text-align: right;\">\n",
       "      <th><\/th>\n",
       "      <th>EMPNO<\/th>\n",
       "      <th>ENAME<\/th>\n",
       "      <th>JOB<\/th>\n",
       "      <th>MGR<\/th>\n",
       "      <th>HIREDATE<\/th>\n",
       "      <th>SAL<\/th>\n",
       "      <th>COMM<\/th>\n",
       "      <th>DEPTNO<\/th>\n",
       "    <\/tr>\n",
       "  <\/thead>\n",
       "  <tbody>\n",
       "    <tr>\n",
       "      <th>0<\/th>\n",
       "      <td>7369<\/td>\n",
       "      <td>SMITH<\/td>\n",
       "      <td>CLERK<\/td>\n",
       "      <td>7902.0<\/td>\n",
       "      <td>1980-12-17<\/td>\n",
       "      <td>800<\/td>\n",
       "      <td>NaN<\/td>\n",
       "      <td>20<\/td>\n",
       "    <\/tr>\n",
       "    <tr>\n",
       "      <th>1<\/th>\n",
       "      <td>7499<\/td>\n",
       "      <td>ALLEN<\/td>\n",
       "      <td>SALESMAN<\/td>\n",
       "      <td>7698.0<\/td>\n",
       "      <td>1981-02-20<\/td>\n",
       "      <td>1600<\/td>\n",
       "      <td>300.0<\/td>\n",
       "      <td>30<\/td>\n",
       "    <\/tr>\n",
       "    <tr>\n",
       "      <th>2<\/th>\n",
       "      <td>7521<\/td>\n",
       "      <td>WARD<\/td>\n",
       "      <td>SALESMAN<\/td>\n",
       "      <td>7698.0<\/td>\n",
       "      <td>1981-02-22<\/td>\n",
       "      <td>1250<\/td>\n",
       "      <td>500.0<\/td>\n",
       "      <td>30<\/td>\n",
       "    <\/tr>\n",
       "    <tr>\n",
       "      <th>3<\/th>\n",
       "      <td>7566<\/td>\n",
       "      <td>JONES<\/td>\n",
       "      <td>MANAGER<\/td>\n",
       "      <td>7839.0<\/td>\n",
       "      <td>1981-04-02<\/td>\n",
       "      <td>2975<\/td>\n",
       "      <td>NaN<\/td>\n",
       "      <td>20<\/td>\n",
       "    <\/tr>\n",
       "    <tr>\n",
       "      <th>4<\/th>\n",
       "      <td>7654<\/td>\n",
       "      <td>MARTIN<\/td>\n",
       "      <td>SALESMAN<\/td>\n",
       "      <td>7698.0<\/td>\n",
       "      <td>1981-09-28<\/td>\n",
       "      <td>1250<\/td>\n",
       "      <td>1400.0<\/td>\n",
       "      <td>30<\/td>\n",
       "    <\/tr>\n",
       "    <tr>\n",
       "      <th>5<\/th>\n",
       "      <td>7698<\/td>\n",
       "      <td>BLAKE<\/td>\n",
       "      <td>MANAGER<\/td>\n",
       "      <td>7839.0<\/td>\n",
       "      <td>1981-05-01<\/td>\n",
       "      <td>2850<\/td>\n",
       "      <td>NaN<\/td>\n",
       "      <td>30<\/td>\n",
       "    <\/tr>\n",
       "    <tr>\n",
       "      <th>6<\/th>\n",
       "      <td>7782<\/td>\n",
       "      <td>CLARK<\/td>\n",
       "      <td>MANAGER<\/td>\n",
       "      <td>7839.0<\/td>\n",
       "      <td>1981-06-09<\/td>\n",
       "      <td>2450<\/td>\n",
       "      <td>NaN<\/td>\n",
       "      <td>10<\/td>\n",
       "    <\/tr>\n",
       "    <tr>\n",
       "      <th>7<\/th>\n",
       "      <td>7788<\/td>\n",
       "      <td>SCOTT<\/td>\n",
       "      <td>ANALYST<\/td>\n",
       "      <td>7566.0<\/td>\n",
       "      <td>1982-12-09<\/td>\n",
       "      <td>3000<\/td>\n",
       "      <td>NaN<\/td>\n",
       "      <td>20<\/td>\n",
       "    <\/tr>\n",
       "    <tr>\n",
       "      <th>8<\/th>\n",
       "      <td>7839<\/td>\n",
       "      <td>KING<\/td>\n",
       "      <td>PRESIDENT<\/td>\n",
       "      <td>NaN<\/td>\n",
       "      <td>1981-11-17<\/td>\n",
       "      <td>5000<\/td>\n",
       "      <td>NaN<\/td>\n",
       "      <td>10<\/td>\n",
       "    <\/tr>\n",
       "    <tr>\n",
       "      <th>9<\/th>\n",
       "      <td>7844<\/td>\n",
       "      <td>TURNER<\/td>\n",
       "      <td>SALESMAN<\/td>\n",
       "      <td>7698.0<\/td>\n",
       "      <td>1981-09-08<\/td>\n",
       "      <td>1500<\/td>\n",
       "      <td>0.0<\/td>\n",
       "      <td>30<\/td>\n",
       "    <\/tr>\n",
       "    <tr>\n",
       "      <th>10<\/th>\n",
       "      <td>7876<\/td>\n",
       "      <td>ADAMS<\/td>\n",
       "      <td>CLERK<\/td>\n",
       "      <td>7788.0<\/td>\n",
       "      <td>1983-01-12<\/td>\n",
       "      <td>1100<\/td>\n",
       "      <td>NaN<\/td>\n",
       "      <td>20<\/td>\n",
       "    <\/tr>\n",
       "    <tr>\n",
       "      <th>11<\/th>\n",
       "      <td>7900<\/td>\n",
       "      <td>JAMES<\/td>\n",
       "      <td>CLERK<\/td>\n",
       "      <td>7698.0<\/td>\n",
       "      <td>1981-12-03<\/td>\n",
       "      <td>950<\/td>\n",
       "      <td>NaN<\/td>\n",
       "      <td>30<\/td>\n",
       "    <\/tr>\n",
       "    <tr>\n",
       "      <th>12<\/th>\n",
       "      <td>7902<\/td>\n",
       "      <td>FORD<\/td>\n",
       "      <td>ANALYST<\/td>\n",
       "      <td>7566.0<\/td>\n",
       "      <td>1981-12-03<\/td>\n",
       "      <td>3000<\/td>\n",
       "      <td>NaN<\/td>\n",
       "      <td>20<\/td>\n",
       "    <\/tr>\n",
       "    <tr>\n",
       "      <th>13<\/th>\n",
       "      <td>7934<\/td>\n",
       "      <td>MILLER<\/td>\n",
       "      <td>CLERK<\/td>\n",
       "      <td>7782.0<\/td>\n",
       "      <td>1982-01-23<\/td>\n",
       "      <td>1300<\/td>\n",
       "      <td>NaN<\/td>\n",
       "      <td>10<\/td>\n",
       "    <\/tr>\n",
       "  <\/tbody>\n",
       "<\/table>\n",
       "<\/div>"
      ]
     },
     "metadata":{
      
     },
     "output_type":"display_data"
    }
   ],
   "metadata":{
    "datalore":{
     "node_id":"QmUzLlBvUWCzNLCUN2DwaJ",
     "type":"SQL",
     "hide_input_from_viewers":true,
     "hide_output_from_viewers":true,
     "sql_cell_properties":{
      "dbId":"30mmHcmNZfSWCiirkD4rnW",
      "variableName":"df_5",
      "dialect":"mysql.8"
     }
    }
   }
  },
  {
   "cell_type":"code",
   "source":[
    "-- Jednoriadkovy komentar\n",
    "\/*\n",
    "    Autor: Miroslav Reiter\n",
    "    Verzia: 1.0\n",
    "*\/\n",
    "# Jednoriadkovy komentar\n",
    "SELECT * FROM world;"
   ],
   "execution_count":8,
   "outputs":[
    {
     "data":{
      "text\/html":[
       "<div>\n",
       "<style scoped>\n",
       "    .dataframe tbody tr th:only-of-type {\n",
       "        vertical-align: middle;\n",
       "    }\n",
       "\n",
       "    .dataframe tbody tr th {\n",
       "        vertical-align: top;\n",
       "    }\n",
       "\n",
       "    .dataframe thead th {\n",
       "        text-align: right;\n",
       "    }\n",
       "<\/style>\n",
       "<table border=\"1\" class=\"dataframe\">\n",
       "  <thead>\n",
       "    <tr style=\"text-align: right;\">\n",
       "      <th><\/th>\n",
       "      <th>name<\/th>\n",
       "      <th>continent<\/th>\n",
       "      <th>area<\/th>\n",
       "      <th>population<\/th>\n",
       "      <th>gdp<\/th>\n",
       "      <th>capital<\/th>\n",
       "      <th>tld<\/th>\n",
       "      <th>flag<\/th>\n",
       "    <\/tr>\n",
       "  <\/thead>\n",
       "  <tbody>\n",
       "    <tr>\n",
       "      <th>0<\/th>\n",
       "      <td>Afghanistan<\/td>\n",
       "      <td>Asia<\/td>\n",
       "      <td>652230<\/td>\n",
       "      <td>25500100<\/td>\n",
       "      <td>2.036400e+10<\/td>\n",
       "      <td>Kabul<\/td>\n",
       "      <td>.af<\/td>\n",
       "      <td>\/\/upload.wikimedia.org\/wikipedia\/commons\/9\/9a\/...<\/td>\n",
       "    <\/tr>\n",
       "    <tr>\n",
       "      <th>1<\/th>\n",
       "      <td>Albania<\/td>\n",
       "      <td>Europe<\/td>\n",
       "      <td>28748<\/td>\n",
       "      <td>2821977<\/td>\n",
       "      <td>1.204400e+10<\/td>\n",
       "      <td>Tirana<\/td>\n",
       "      <td>.al<\/td>\n",
       "      <td>\/\/upload.wikimedia.org\/wikipedia\/commons\/3\/36\/...<\/td>\n",
       "    <\/tr>\n",
       "    <tr>\n",
       "      <th>2<\/th>\n",
       "      <td>Algeria<\/td>\n",
       "      <td>Africa<\/td>\n",
       "      <td>2381741<\/td>\n",
       "      <td>38700000<\/td>\n",
       "      <td>2.070210e+05<\/td>\n",
       "      <td>Algiers<\/td>\n",
       "      <td>.dz<\/td>\n",
       "      <td>\/\/upload.wikimedia.org\/wikipedia\/commons\/7\/77\/...<\/td>\n",
       "    <\/tr>\n",
       "    <tr>\n",
       "      <th>3<\/th>\n",
       "      <td>Andorra<\/td>\n",
       "      <td>Europe<\/td>\n",
       "      <td>468<\/td>\n",
       "      <td>76098<\/td>\n",
       "      <td>3.222000e+09<\/td>\n",
       "      <td>Andorra la Vella<\/td>\n",
       "      <td>.ad<\/td>\n",
       "      <td>\/\/upload.wikimedia.org\/wikipedia\/commons\/1\/19\/...<\/td>\n",
       "    <\/tr>\n",
       "    <tr>\n",
       "      <th>4<\/th>\n",
       "      <td>Angola<\/td>\n",
       "      <td>Africa<\/td>\n",
       "      <td>1246700<\/td>\n",
       "      <td>19183590<\/td>\n",
       "      <td>1.163080e+05<\/td>\n",
       "      <td>Luanda<\/td>\n",
       "      <td>.ao<\/td>\n",
       "      <td>\/\/upload.wikimedia.org\/wikipedia\/commons\/9\/9d\/...<\/td>\n",
       "    <\/tr>\n",
       "    <tr>\n",
       "      <th>...<\/th>\n",
       "      <td>...<\/td>\n",
       "      <td>...<\/td>\n",
       "      <td>...<\/td>\n",
       "      <td>...<\/td>\n",
       "      <td>...<\/td>\n",
       "      <td>...<\/td>\n",
       "      <td>...<\/td>\n",
       "      <td>...<\/td>\n",
       "    <\/tr>\n",
       "    <tr>\n",
       "      <th>385<\/th>\n",
       "      <td>Venezuela<\/td>\n",
       "      <td>South America<\/td>\n",
       "      <td>916445<\/td>\n",
       "      <td>28946101<\/td>\n",
       "      <td>3.824240e+05<\/td>\n",
       "      <td>Caracas<\/td>\n",
       "      <td>.ve<\/td>\n",
       "      <td>\/\/upload.wikimedia.org\/wikipedia\/commons\/0\/06\/...<\/td>\n",
       "    <\/tr>\n",
       "    <tr>\n",
       "      <th>386<\/th>\n",
       "      <td>Vietnam<\/td>\n",
       "      <td>Asia<\/td>\n",
       "      <td>331212<\/td>\n",
       "      <td>89708900<\/td>\n",
       "      <td>1.558200e+04<\/td>\n",
       "      <td>Hanoi<\/td>\n",
       "      <td>.vn<\/td>\n",
       "      <td>\/\/upload.wikimedia.org\/wikipedia\/commons\/2\/21\/...<\/td>\n",
       "    <\/tr>\n",
       "    <tr>\n",
       "      <th>387<\/th>\n",
       "      <td>Yemen<\/td>\n",
       "      <td>Asia<\/td>\n",
       "      <td>527968<\/td>\n",
       "      <td>25235000<\/td>\n",
       "      <td>3.283100e+10<\/td>\n",
       "      <td>Sana‘a<\/td>\n",
       "      <td>.ye<\/td>\n",
       "      <td>\/\/upload.wikimedia.org\/wikipedia\/commons\/8\/89\/...<\/td>\n",
       "    <\/tr>\n",
       "    <tr>\n",
       "      <th>388<\/th>\n",
       "      <td>Zambia<\/td>\n",
       "      <td>Africa<\/td>\n",
       "      <td>752612<\/td>\n",
       "      <td>15023315<\/td>\n",
       "      <td>2.149000e+10<\/td>\n",
       "      <td>Lusaka<\/td>\n",
       "      <td>.zm<\/td>\n",
       "      <td>\/\/upload.wikimedia.org\/wikipedia\/commons\/0\/06\/...<\/td>\n",
       "    <\/tr>\n",
       "    <tr>\n",
       "      <th>389<\/th>\n",
       "      <td>Zimbabwe<\/td>\n",
       "      <td>Africa<\/td>\n",
       "      <td>390757<\/td>\n",
       "      <td>13061239<\/td>\n",
       "      <td>9.802000e+09<\/td>\n",
       "      <td>Harare<\/td>\n",
       "      <td>.zw<\/td>\n",
       "      <td>\/\/upload.wikimedia.org\/wikipedia\/commons\/6\/6a\/...<\/td>\n",
       "    <\/tr>\n",
       "  <\/tbody>\n",
       "<\/table>\n",
       "<p>390 rows × 8 columns<\/p>\n",
       "<\/div>"
      ]
     },
     "metadata":{
      
     },
     "output_type":"display_data"
    }
   ],
   "metadata":{
    "datalore":{
     "node_id":"OaxozSDXwH23rLFyDjYO6e",
     "type":"SQL",
     "hide_input_from_viewers":true,
     "hide_output_from_viewers":true,
     "sql_cell_properties":{
      "dbId":"30mmHcmNZfSWCiirkD4rnW",
      "variableName":"df_6",
      "dialect":"mysql.8"
     }
    }
   }
  },
  {
   "cell_type":"code",
   "source":[
    "select * from world limit 5;\n",
    "select * from EMP limit 5;"
   ],
   "execution_count":10,
   "outputs":[
    {
     "data":{
      "text\/html":[
       "<div>\n",
       "<style scoped>\n",
       "    .dataframe tbody tr th:only-of-type {\n",
       "        vertical-align: middle;\n",
       "    }\n",
       "\n",
       "    .dataframe tbody tr th {\n",
       "        vertical-align: top;\n",
       "    }\n",
       "\n",
       "    .dataframe thead th {\n",
       "        text-align: right;\n",
       "    }\n",
       "<\/style>\n",
       "<table border=\"1\" class=\"dataframe\">\n",
       "  <thead>\n",
       "    <tr style=\"text-align: right;\">\n",
       "      <th><\/th>\n",
       "      <th>EMPNO<\/th>\n",
       "      <th>ENAME<\/th>\n",
       "      <th>JOB<\/th>\n",
       "      <th>MGR<\/th>\n",
       "      <th>HIREDATE<\/th>\n",
       "      <th>SAL<\/th>\n",
       "      <th>COMM<\/th>\n",
       "      <th>DEPTNO<\/th>\n",
       "    <\/tr>\n",
       "  <\/thead>\n",
       "  <tbody>\n",
       "    <tr>\n",
       "      <th>0<\/th>\n",
       "      <td>7369<\/td>\n",
       "      <td>SMITH<\/td>\n",
       "      <td>CLERK<\/td>\n",
       "      <td>7902<\/td>\n",
       "      <td>1980-12-17<\/td>\n",
       "      <td>800<\/td>\n",
       "      <td>NaN<\/td>\n",
       "      <td>20<\/td>\n",
       "    <\/tr>\n",
       "    <tr>\n",
       "      <th>1<\/th>\n",
       "      <td>7499<\/td>\n",
       "      <td>ALLEN<\/td>\n",
       "      <td>SALESMAN<\/td>\n",
       "      <td>7698<\/td>\n",
       "      <td>1981-02-20<\/td>\n",
       "      <td>1600<\/td>\n",
       "      <td>300.0<\/td>\n",
       "      <td>30<\/td>\n",
       "    <\/tr>\n",
       "    <tr>\n",
       "      <th>2<\/th>\n",
       "      <td>7521<\/td>\n",
       "      <td>WARD<\/td>\n",
       "      <td>SALESMAN<\/td>\n",
       "      <td>7698<\/td>\n",
       "      <td>1981-02-22<\/td>\n",
       "      <td>1250<\/td>\n",
       "      <td>500.0<\/td>\n",
       "      <td>30<\/td>\n",
       "    <\/tr>\n",
       "    <tr>\n",
       "      <th>3<\/th>\n",
       "      <td>7566<\/td>\n",
       "      <td>JONES<\/td>\n",
       "      <td>MANAGER<\/td>\n",
       "      <td>7839<\/td>\n",
       "      <td>1981-04-02<\/td>\n",
       "      <td>2975<\/td>\n",
       "      <td>NaN<\/td>\n",
       "      <td>20<\/td>\n",
       "    <\/tr>\n",
       "    <tr>\n",
       "      <th>4<\/th>\n",
       "      <td>7654<\/td>\n",
       "      <td>MARTIN<\/td>\n",
       "      <td>SALESMAN<\/td>\n",
       "      <td>7698<\/td>\n",
       "      <td>1981-09-28<\/td>\n",
       "      <td>1250<\/td>\n",
       "      <td>1400.0<\/td>\n",
       "      <td>30<\/td>\n",
       "    <\/tr>\n",
       "  <\/tbody>\n",
       "<\/table>\n",
       "<\/div>"
      ]
     },
     "metadata":{
      
     },
     "output_type":"display_data"
    }
   ],
   "metadata":{
    "datalore":{
     "node_id":"cwuSzStnvbjw5YxwmicBEX",
     "type":"SQL",
     "hide_input_from_viewers":true,
     "hide_output_from_viewers":true,
     "sql_cell_properties":{
      "dbId":"30mmHcmNZfSWCiirkD4rnW",
      "variableName":"df_7",
      "dialect":"mysql.8"
     }
    }
   }
  },
  {
   "cell_type":"code",
   "source":[
    "select * from world limit 4,5;"
   ],
   "execution_count":12,
   "outputs":[
    {
     "data":{
      "text\/html":[
       "<div>\n",
       "<style scoped>\n",
       "    .dataframe tbody tr th:only-of-type {\n",
       "        vertical-align: middle;\n",
       "    }\n",
       "\n",
       "    .dataframe tbody tr th {\n",
       "        vertical-align: top;\n",
       "    }\n",
       "\n",
       "    .dataframe thead th {\n",
       "        text-align: right;\n",
       "    }\n",
       "<\/style>\n",
       "<table border=\"1\" class=\"dataframe\">\n",
       "  <thead>\n",
       "    <tr style=\"text-align: right;\">\n",
       "      <th><\/th>\n",
       "      <th>name<\/th>\n",
       "      <th>continent<\/th>\n",
       "      <th>area<\/th>\n",
       "      <th>population<\/th>\n",
       "      <th>gdp<\/th>\n",
       "      <th>capital<\/th>\n",
       "      <th>tld<\/th>\n",
       "      <th>flag<\/th>\n",
       "    <\/tr>\n",
       "  <\/thead>\n",
       "  <tbody>\n",
       "    <tr>\n",
       "      <th>0<\/th>\n",
       "      <td>Angola<\/td>\n",
       "      <td>Africa<\/td>\n",
       "      <td>1246700<\/td>\n",
       "      <td>19183590<\/td>\n",
       "      <td>1.163080e+05<\/td>\n",
       "      <td>Luanda<\/td>\n",
       "      <td>.ao<\/td>\n",
       "      <td>\/\/upload.wikimedia.org\/wikipedia\/commons\/9\/9d\/...<\/td>\n",
       "    <\/tr>\n",
       "    <tr>\n",
       "      <th>1<\/th>\n",
       "      <td>Antigua and Barbuda<\/td>\n",
       "      <td>Caribbean<\/td>\n",
       "      <td>442<\/td>\n",
       "      <td>86295<\/td>\n",
       "      <td>1.176000e+09<\/td>\n",
       "      <td>St. John's<\/td>\n",
       "      <td>.ag<\/td>\n",
       "      <td>\/\/upload.wikimedia.org\/wikipedia\/commons\/8\/89\/...<\/td>\n",
       "    <\/tr>\n",
       "    <tr>\n",
       "      <th>2<\/th>\n",
       "      <td>Argentina<\/td>\n",
       "      <td>South America<\/td>\n",
       "      <td>2780400<\/td>\n",
       "      <td>42669500<\/td>\n",
       "      <td>4.770280e+05<\/td>\n",
       "      <td>Buenos Aires<\/td>\n",
       "      <td>.ar<\/td>\n",
       "      <td>\/\/upload.wikimedia.org\/wikipedia\/commons\/1\/1a\/...<\/td>\n",
       "    <\/tr>\n",
       "    <tr>\n",
       "      <th>3<\/th>\n",
       "      <td>Armenia<\/td>\n",
       "      <td>Eurasia<\/td>\n",
       "      <td>29743<\/td>\n",
       "      <td>3017400<\/td>\n",
       "      <td>9.950000e+09<\/td>\n",
       "      <td>Yerevan<\/td>\n",
       "      <td>.am<\/td>\n",
       "      <td>\/\/upload.wikimedia.org\/wikipedia\/commons\/2\/2f\/...<\/td>\n",
       "    <\/tr>\n",
       "    <tr>\n",
       "      <th>4<\/th>\n",
       "      <td>Australia<\/td>\n",
       "      <td>Oceania<\/td>\n",
       "      <td>7692024<\/td>\n",
       "      <td>23545500<\/td>\n",
       "      <td>1.564420e+05<\/td>\n",
       "      <td>Canberra<\/td>\n",
       "      <td>.au<\/td>\n",
       "      <td>\/\/upload.wikimedia.org\/wikipedia\/commons\/b\/b9\/...<\/td>\n",
       "    <\/tr>\n",
       "  <\/tbody>\n",
       "<\/table>\n",
       "<\/div>"
      ]
     },
     "metadata":{
      
     },
     "output_type":"display_data"
    }
   ],
   "metadata":{
    "datalore":{
     "node_id":"Qk5QjulfXkzDLuRaS89AeX",
     "type":"SQL",
     "hide_input_from_viewers":true,
     "hide_output_from_viewers":true,
     "sql_cell_properties":{
      "dbId":"30mmHcmNZfSWCiirkD4rnW",
      "variableName":"df_8",
      "dialect":"mysql.8"
     }
    }
   }
  },
  {
   "cell_type":"code",
   "source":[
    "# Filter - where\n",
    "select * from world\n",
    "where name = \"Slovakia\""
   ],
   "execution_count":13,
   "outputs":[
    {
     "data":{
      "text\/html":[
       "<div>\n",
       "<style scoped>\n",
       "    .dataframe tbody tr th:only-of-type {\n",
       "        vertical-align: middle;\n",
       "    }\n",
       "\n",
       "    .dataframe tbody tr th {\n",
       "        vertical-align: top;\n",
       "    }\n",
       "\n",
       "    .dataframe thead th {\n",
       "        text-align: right;\n",
       "    }\n",
       "<\/style>\n",
       "<table border=\"1\" class=\"dataframe\">\n",
       "  <thead>\n",
       "    <tr style=\"text-align: right;\">\n",
       "      <th><\/th>\n",
       "      <th>name<\/th>\n",
       "      <th>continent<\/th>\n",
       "      <th>area<\/th>\n",
       "      <th>population<\/th>\n",
       "      <th>gdp<\/th>\n",
       "      <th>capital<\/th>\n",
       "      <th>tld<\/th>\n",
       "      <th>flag<\/th>\n",
       "    <\/tr>\n",
       "  <\/thead>\n",
       "  <tbody>\n",
       "    <tr>\n",
       "      <th>0<\/th>\n",
       "      <td>Slovakia<\/td>\n",
       "      <td>Europe<\/td>\n",
       "      <td>49037<\/td>\n",
       "      <td>5415949<\/td>\n",
       "      <td>9.134900e+10<\/td>\n",
       "      <td>Bratislava<\/td>\n",
       "      <td>.sk<\/td>\n",
       "      <td>\/\/upload.wikimedia.org\/wikipedia\/commons\/e\/e6\/...<\/td>\n",
       "    <\/tr>\n",
       "    <tr>\n",
       "      <th>1<\/th>\n",
       "      <td>Slovakia<\/td>\n",
       "      <td>Europe<\/td>\n",
       "      <td>49037<\/td>\n",
       "      <td>5415949<\/td>\n",
       "      <td>9.134900e+10<\/td>\n",
       "      <td>Bratislava<\/td>\n",
       "      <td>.sk<\/td>\n",
       "      <td>\/\/upload.wikimedia.org\/wikipedia\/commons\/e\/e6\/...<\/td>\n",
       "    <\/tr>\n",
       "  <\/tbody>\n",
       "<\/table>\n",
       "<\/div>"
      ]
     },
     "metadata":{
      
     },
     "output_type":"display_data"
    }
   ],
   "metadata":{
    "datalore":{
     "node_id":"cTpIdUW0tKcbW3XMePMhhk",
     "type":"SQL",
     "hide_input_from_viewers":true,
     "hide_output_from_viewers":true,
     "sql_cell_properties":{
      "dbId":"30mmHcmNZfSWCiirkD4rnW",
      "variableName":"df_9",
      "dialect":"mysql.8"
     }
    }
   }
  },
  {
   "cell_type":"code",
   "source":[
    "select capital, population, name, population\n",
    "from world"
   ],
   "execution_count":15,
   "outputs":[
    {
     "data":{
      "text\/html":[
       "<div>\n",
       "<style scoped>\n",
       "    .dataframe tbody tr th:only-of-type {\n",
       "        vertical-align: middle;\n",
       "    }\n",
       "\n",
       "    .dataframe tbody tr th {\n",
       "        vertical-align: top;\n",
       "    }\n",
       "\n",
       "    .dataframe thead th {\n",
       "        text-align: right;\n",
       "    }\n",
       "<\/style>\n",
       "<table border=\"1\" class=\"dataframe\">\n",
       "  <thead>\n",
       "    <tr style=\"text-align: right;\">\n",
       "      <th><\/th>\n",
       "      <th>capital<\/th>\n",
       "      <th>population<\/th>\n",
       "      <th>name<\/th>\n",
       "      <th>population<\/th>\n",
       "    <\/tr>\n",
       "  <\/thead>\n",
       "  <tbody>\n",
       "    <tr>\n",
       "      <th>0<\/th>\n",
       "      <td>Kabul<\/td>\n",
       "      <td>25500100<\/td>\n",
       "      <td>Afghanistan<\/td>\n",
       "      <td>25500100<\/td>\n",
       "    <\/tr>\n",
       "    <tr>\n",
       "      <th>1<\/th>\n",
       "      <td>Tirana<\/td>\n",
       "      <td>2821977<\/td>\n",
       "      <td>Albania<\/td>\n",
       "      <td>2821977<\/td>\n",
       "    <\/tr>\n",
       "    <tr>\n",
       "      <th>2<\/th>\n",
       "      <td>Algiers<\/td>\n",
       "      <td>38700000<\/td>\n",
       "      <td>Algeria<\/td>\n",
       "      <td>38700000<\/td>\n",
       "    <\/tr>\n",
       "    <tr>\n",
       "      <th>3<\/th>\n",
       "      <td>Andorra la Vella<\/td>\n",
       "      <td>76098<\/td>\n",
       "      <td>Andorra<\/td>\n",
       "      <td>76098<\/td>\n",
       "    <\/tr>\n",
       "    <tr>\n",
       "      <th>4<\/th>\n",
       "      <td>Luanda<\/td>\n",
       "      <td>19183590<\/td>\n",
       "      <td>Angola<\/td>\n",
       "      <td>19183590<\/td>\n",
       "    <\/tr>\n",
       "    <tr>\n",
       "      <th>...<\/th>\n",
       "      <td>...<\/td>\n",
       "      <td>...<\/td>\n",
       "      <td>...<\/td>\n",
       "      <td>...<\/td>\n",
       "    <\/tr>\n",
       "    <tr>\n",
       "      <th>385<\/th>\n",
       "      <td>Caracas<\/td>\n",
       "      <td>28946101<\/td>\n",
       "      <td>Venezuela<\/td>\n",
       "      <td>28946101<\/td>\n",
       "    <\/tr>\n",
       "    <tr>\n",
       "      <th>386<\/th>\n",
       "      <td>Hanoi<\/td>\n",
       "      <td>89708900<\/td>\n",
       "      <td>Vietnam<\/td>\n",
       "      <td>89708900<\/td>\n",
       "    <\/tr>\n",
       "    <tr>\n",
       "      <th>387<\/th>\n",
       "      <td>Sana‘a<\/td>\n",
       "      <td>25235000<\/td>\n",
       "      <td>Yemen<\/td>\n",
       "      <td>25235000<\/td>\n",
       "    <\/tr>\n",
       "    <tr>\n",
       "      <th>388<\/th>\n",
       "      <td>Lusaka<\/td>\n",
       "      <td>15023315<\/td>\n",
       "      <td>Zambia<\/td>\n",
       "      <td>15023315<\/td>\n",
       "    <\/tr>\n",
       "    <tr>\n",
       "      <th>389<\/th>\n",
       "      <td>Harare<\/td>\n",
       "      <td>13061239<\/td>\n",
       "      <td>Zimbabwe<\/td>\n",
       "      <td>13061239<\/td>\n",
       "    <\/tr>\n",
       "  <\/tbody>\n",
       "<\/table>\n",
       "<p>390 rows × 4 columns<\/p>\n",
       "<\/div>"
      ]
     },
     "metadata":{
      
     },
     "output_type":"display_data"
    }
   ],
   "metadata":{
    "datalore":{
     "node_id":"qHfPXbmR3cngYAXKicw6xX",
     "type":"SQL",
     "hide_input_from_viewers":true,
     "hide_output_from_viewers":true,
     "sql_cell_properties":{
      "dbId":"30mmHcmNZfSWCiirkD4rnW",
      "variableName":"df_10",
      "dialect":"mysql.8"
     }
    }
   }
  },
  {
   "cell_type":"code",
   "source":[
    "select name, population, area\n",
    "from world\n",
    "where name = \"Slovakia\"\n",
    "or name = \"Poland\"\n",
    "or name = \"Hungary\""
   ],
   "execution_count":18,
   "outputs":[
    {
     "data":{
      "text\/html":[
       "<div>\n",
       "<style scoped>\n",
       "    .dataframe tbody tr th:only-of-type {\n",
       "        vertical-align: middle;\n",
       "    }\n",
       "\n",
       "    .dataframe tbody tr th {\n",
       "        vertical-align: top;\n",
       "    }\n",
       "\n",
       "    .dataframe thead th {\n",
       "        text-align: right;\n",
       "    }\n",
       "<\/style>\n",
       "<table border=\"1\" class=\"dataframe\">\n",
       "  <thead>\n",
       "    <tr style=\"text-align: right;\">\n",
       "      <th><\/th>\n",
       "      <th>name<\/th>\n",
       "      <th>population<\/th>\n",
       "      <th>area<\/th>\n",
       "    <\/tr>\n",
       "  <\/thead>\n",
       "  <tbody>\n",
       "    <tr>\n",
       "      <th>0<\/th>\n",
       "      <td>Hungary<\/td>\n",
       "      <td>9879000<\/td>\n",
       "      <td>93028<\/td>\n",
       "    <\/tr>\n",
       "    <tr>\n",
       "      <th>1<\/th>\n",
       "      <td>Poland<\/td>\n",
       "      <td>38496000<\/td>\n",
       "      <td>312679<\/td>\n",
       "    <\/tr>\n",
       "    <tr>\n",
       "      <th>2<\/th>\n",
       "      <td>Slovakia<\/td>\n",
       "      <td>5415949<\/td>\n",
       "      <td>49037<\/td>\n",
       "    <\/tr>\n",
       "    <tr>\n",
       "      <th>3<\/th>\n",
       "      <td>Hungary<\/td>\n",
       "      <td>9879000<\/td>\n",
       "      <td>93028<\/td>\n",
       "    <\/tr>\n",
       "    <tr>\n",
       "      <th>4<\/th>\n",
       "      <td>Poland<\/td>\n",
       "      <td>38496000<\/td>\n",
       "      <td>312679<\/td>\n",
       "    <\/tr>\n",
       "    <tr>\n",
       "      <th>5<\/th>\n",
       "      <td>Slovakia<\/td>\n",
       "      <td>5415949<\/td>\n",
       "      <td>49037<\/td>\n",
       "    <\/tr>\n",
       "  <\/tbody>\n",
       "<\/table>\n",
       "<\/div>"
      ]
     },
     "metadata":{
      
     },
     "output_type":"display_data"
    }
   ],
   "metadata":{
    "datalore":{
     "node_id":"THQThitrscyCdldv2APev3",
     "type":"SQL",
     "hide_input_from_viewers":true,
     "hide_output_from_viewers":true,
     "sql_cell_properties":{
      "dbId":"30mmHcmNZfSWCiirkD4rnW",
      "variableName":"df_11",
      "dialect":"mysql.8"
     }
    }
   }
  },
  {
   "cell_type":"code",
   "source":[
    "select name, population, area\n",
    "from world\n",
    "where name in (\"Hungary\", \"Slovakia\", \"Poland\")"
   ],
   "execution_count":19,
   "outputs":[
    {
     "data":{
      "text\/html":[
       "<div>\n",
       "<style scoped>\n",
       "    .dataframe tbody tr th:only-of-type {\n",
       "        vertical-align: middle;\n",
       "    }\n",
       "\n",
       "    .dataframe tbody tr th {\n",
       "        vertical-align: top;\n",
       "    }\n",
       "\n",
       "    .dataframe thead th {\n",
       "        text-align: right;\n",
       "    }\n",
       "<\/style>\n",
       "<table border=\"1\" class=\"dataframe\">\n",
       "  <thead>\n",
       "    <tr style=\"text-align: right;\">\n",
       "      <th><\/th>\n",
       "      <th>name<\/th>\n",
       "      <th>population<\/th>\n",
       "      <th>area<\/th>\n",
       "    <\/tr>\n",
       "  <\/thead>\n",
       "  <tbody>\n",
       "    <tr>\n",
       "      <th>0<\/th>\n",
       "      <td>Hungary<\/td>\n",
       "      <td>9879000<\/td>\n",
       "      <td>93028<\/td>\n",
       "    <\/tr>\n",
       "    <tr>\n",
       "      <th>1<\/th>\n",
       "      <td>Poland<\/td>\n",
       "      <td>38496000<\/td>\n",
       "      <td>312679<\/td>\n",
       "    <\/tr>\n",
       "    <tr>\n",
       "      <th>2<\/th>\n",
       "      <td>Slovakia<\/td>\n",
       "      <td>5415949<\/td>\n",
       "      <td>49037<\/td>\n",
       "    <\/tr>\n",
       "    <tr>\n",
       "      <th>3<\/th>\n",
       "      <td>Hungary<\/td>\n",
       "      <td>9879000<\/td>\n",
       "      <td>93028<\/td>\n",
       "    <\/tr>\n",
       "    <tr>\n",
       "      <th>4<\/th>\n",
       "      <td>Poland<\/td>\n",
       "      <td>38496000<\/td>\n",
       "      <td>312679<\/td>\n",
       "    <\/tr>\n",
       "    <tr>\n",
       "      <th>5<\/th>\n",
       "      <td>Slovakia<\/td>\n",
       "      <td>5415949<\/td>\n",
       "      <td>49037<\/td>\n",
       "    <\/tr>\n",
       "  <\/tbody>\n",
       "<\/table>\n",
       "<\/div>"
      ]
     },
     "metadata":{
      
     },
     "output_type":"display_data"
    }
   ],
   "metadata":{
    "datalore":{
     "node_id":"8bkdznygB5kqgmLsnmi7xG",
     "type":"SQL",
     "hide_input_from_viewers":true,
     "hide_output_from_viewers":true,
     "sql_cell_properties":{
      "dbId":"30mmHcmNZfSWCiirkD4rnW",
      "variableName":"df_12",
      "dialect":"mysql.8"
     }
    }
   }
  },
  {
   "cell_type":"code",
   "source":[
    "select name, continent, population\n",
    "from world\n",
    "where population between 5000000 and 10000000"
   ],
   "execution_count":21,
   "outputs":[
    {
     "data":{
      "text\/html":[
       "<div>\n",
       "<style scoped>\n",
       "    .dataframe tbody tr th:only-of-type {\n",
       "        vertical-align: middle;\n",
       "    }\n",
       "\n",
       "    .dataframe tbody tr th {\n",
       "        vertical-align: top;\n",
       "    }\n",
       "\n",
       "    .dataframe thead th {\n",
       "        text-align: right;\n",
       "    }\n",
       "<\/style>\n",
       "<table border=\"1\" class=\"dataframe\">\n",
       "  <thead>\n",
       "    <tr style=\"text-align: right;\">\n",
       "      <th><\/th>\n",
       "      <th>name<\/th>\n",
       "      <th>continent<\/th>\n",
       "      <th>population<\/th>\n",
       "    <\/tr>\n",
       "  <\/thead>\n",
       "  <tbody>\n",
       "    <tr>\n",
       "      <th>0<\/th>\n",
       "      <td>Austria<\/td>\n",
       "      <td>Europe<\/td>\n",
       "      <td>8504850<\/td>\n",
       "    <\/tr>\n",
       "    <tr>\n",
       "      <th>1<\/th>\n",
       "      <td>Azerbaijan<\/td>\n",
       "      <td>Asia<\/td>\n",
       "      <td>9477100<\/td>\n",
       "    <\/tr>\n",
       "    <tr>\n",
       "      <th>2<\/th>\n",
       "      <td>Belarus<\/td>\n",
       "      <td>Europe<\/td>\n",
       "      <td>9467000<\/td>\n",
       "    <\/tr>\n",
       "    <tr>\n",
       "      <th>3<\/th>\n",
       "      <td>Benin<\/td>\n",
       "      <td>Africa<\/td>\n",
       "      <td>9988068<\/td>\n",
       "    <\/tr>\n",
       "    <tr>\n",
       "      <th>4<\/th>\n",
       "      <td>Bulgaria<\/td>\n",
       "      <td>Europe<\/td>\n",
       "      <td>7245677<\/td>\n",
       "    <\/tr>\n",
       "    <tr>\n",
       "      <th>...<\/th>\n",
       "      <td>...<\/td>\n",
       "      <td>...<\/td>\n",
       "      <td>...<\/td>\n",
       "    <\/tr>\n",
       "    <tr>\n",
       "      <th>59<\/th>\n",
       "      <td>Switzerland<\/td>\n",
       "      <td>Europe<\/td>\n",
       "      <td>8160900<\/td>\n",
       "    <\/tr>\n",
       "    <tr>\n",
       "      <th>60<\/th>\n",
       "      <td>Tajikistan<\/td>\n",
       "      <td>Asia<\/td>\n",
       "      <td>8160000<\/td>\n",
       "    <\/tr>\n",
       "    <tr>\n",
       "      <th>61<\/th>\n",
       "      <td>Togo<\/td>\n",
       "      <td>Africa<\/td>\n",
       "      <td>6993000<\/td>\n",
       "    <\/tr>\n",
       "    <tr>\n",
       "      <th>62<\/th>\n",
       "      <td>Turkmenistan<\/td>\n",
       "      <td>Asia<\/td>\n",
       "      <td>5307000<\/td>\n",
       "    <\/tr>\n",
       "    <tr>\n",
       "      <th>63<\/th>\n",
       "      <td>United Arab Emirates<\/td>\n",
       "      <td>Asia<\/td>\n",
       "      <td>9446000<\/td>\n",
       "    <\/tr>\n",
       "  <\/tbody>\n",
       "<\/table>\n",
       "<p>64 rows × 3 columns<\/p>\n",
       "<\/div>"
      ]
     },
     "metadata":{
      
     },
     "output_type":"display_data"
    }
   ],
   "metadata":{
    "datalore":{
     "node_id":"luEypjiUVd3x5kScmYsZRP",
     "type":"SQL",
     "hide_input_from_viewers":true,
     "hide_output_from_viewers":true,
     "sql_cell_properties":{
      "dbId":"30mmHcmNZfSWCiirkD4rnW",
      "variableName":"df_13",
      "dialect":"mysql.8"
     }
    }
   }
  },
  {
   "cell_type":"code",
   "source":[
    "select * from EMP\n",
    "where sal BETWEEN 1000 and 2500;"
   ],
   "execution_count":22,
   "outputs":[
    {
     "data":{
      "text\/html":[
       "<div>\n",
       "<style scoped>\n",
       "    .dataframe tbody tr th:only-of-type {\n",
       "        vertical-align: middle;\n",
       "    }\n",
       "\n",
       "    .dataframe tbody tr th {\n",
       "        vertical-align: top;\n",
       "    }\n",
       "\n",
       "    .dataframe thead th {\n",
       "        text-align: right;\n",
       "    }\n",
       "<\/style>\n",
       "<table border=\"1\" class=\"dataframe\">\n",
       "  <thead>\n",
       "    <tr style=\"text-align: right;\">\n",
       "      <th><\/th>\n",
       "      <th>EMPNO<\/th>\n",
       "      <th>ENAME<\/th>\n",
       "      <th>JOB<\/th>\n",
       "      <th>MGR<\/th>\n",
       "      <th>HIREDATE<\/th>\n",
       "      <th>SAL<\/th>\n",
       "      <th>COMM<\/th>\n",
       "      <th>DEPTNO<\/th>\n",
       "    <\/tr>\n",
       "  <\/thead>\n",
       "  <tbody>\n",
       "    <tr>\n",
       "      <th>0<\/th>\n",
       "      <td>7499<\/td>\n",
       "      <td>ALLEN<\/td>\n",
       "      <td>SALESMAN<\/td>\n",
       "      <td>7698<\/td>\n",
       "      <td>1981-02-20<\/td>\n",
       "      <td>1600<\/td>\n",
       "      <td>300.0<\/td>\n",
       "      <td>30<\/td>\n",
       "    <\/tr>\n",
       "    <tr>\n",
       "      <th>1<\/th>\n",
       "      <td>7521<\/td>\n",
       "      <td>WARD<\/td>\n",
       "      <td>SALESMAN<\/td>\n",
       "      <td>7698<\/td>\n",
       "      <td>1981-02-22<\/td>\n",
       "      <td>1250<\/td>\n",
       "      <td>500.0<\/td>\n",
       "      <td>30<\/td>\n",
       "    <\/tr>\n",
       "    <tr>\n",
       "      <th>2<\/th>\n",
       "      <td>7654<\/td>\n",
       "      <td>MARTIN<\/td>\n",
       "      <td>SALESMAN<\/td>\n",
       "      <td>7698<\/td>\n",
       "      <td>1981-09-28<\/td>\n",
       "      <td>1250<\/td>\n",
       "      <td>1400.0<\/td>\n",
       "      <td>30<\/td>\n",
       "    <\/tr>\n",
       "    <tr>\n",
       "      <th>3<\/th>\n",
       "      <td>7782<\/td>\n",
       "      <td>CLARK<\/td>\n",
       "      <td>MANAGER<\/td>\n",
       "      <td>7839<\/td>\n",
       "      <td>1981-06-09<\/td>\n",
       "      <td>2450<\/td>\n",
       "      <td>NaN<\/td>\n",
       "      <td>10<\/td>\n",
       "    <\/tr>\n",
       "    <tr>\n",
       "      <th>4<\/th>\n",
       "      <td>7844<\/td>\n",
       "      <td>TURNER<\/td>\n",
       "      <td>SALESMAN<\/td>\n",
       "      <td>7698<\/td>\n",
       "      <td>1981-09-08<\/td>\n",
       "      <td>1500<\/td>\n",
       "      <td>0.0<\/td>\n",
       "      <td>30<\/td>\n",
       "    <\/tr>\n",
       "    <tr>\n",
       "      <th>5<\/th>\n",
       "      <td>7876<\/td>\n",
       "      <td>ADAMS<\/td>\n",
       "      <td>CLERK<\/td>\n",
       "      <td>7788<\/td>\n",
       "      <td>1983-01-12<\/td>\n",
       "      <td>1100<\/td>\n",
       "      <td>NaN<\/td>\n",
       "      <td>20<\/td>\n",
       "    <\/tr>\n",
       "    <tr>\n",
       "      <th>6<\/th>\n",
       "      <td>7934<\/td>\n",
       "      <td>MILLER<\/td>\n",
       "      <td>CLERK<\/td>\n",
       "      <td>7782<\/td>\n",
       "      <td>1982-01-23<\/td>\n",
       "      <td>1300<\/td>\n",
       "      <td>NaN<\/td>\n",
       "      <td>10<\/td>\n",
       "    <\/tr>\n",
       "  <\/tbody>\n",
       "<\/table>\n",
       "<\/div>"
      ]
     },
     "metadata":{
      
     },
     "output_type":"display_data"
    }
   ],
   "metadata":{
    "datalore":{
     "node_id":"5zuHjFCwaLYN4m1oPpx5pP",
     "type":"SQL",
     "hide_input_from_viewers":true,
     "hide_output_from_viewers":true,
     "sql_cell_properties":{
      "dbId":"30mmHcmNZfSWCiirkD4rnW",
      "variableName":"df_14",
      "dialect":"mysql.8"
     }
    }
   }
  },
  {
   "cell_type":"code",
   "source":[
    "# order by (Zotried)\n",
    "\n",
    "\/* select name, population from world\n",
    "order by name DESC *\/\n",
    "\n",
    "select name, population from world\n",
    "order by population ASC"
   ],
   "execution_count":27,
   "outputs":[
    {
     "data":{
      "text\/html":[
       "<div>\n",
       "<style scoped>\n",
       "    .dataframe tbody tr th:only-of-type {\n",
       "        vertical-align: middle;\n",
       "    }\n",
       "\n",
       "    .dataframe tbody tr th {\n",
       "        vertical-align: top;\n",
       "    }\n",
       "\n",
       "    .dataframe thead th {\n",
       "        text-align: right;\n",
       "    }\n",
       "<\/style>\n",
       "<table border=\"1\" class=\"dataframe\">\n",
       "  <thead>\n",
       "    <tr style=\"text-align: right;\">\n",
       "      <th><\/th>\n",
       "      <th>name<\/th>\n",
       "      <th>population<\/th>\n",
       "    <\/tr>\n",
       "  <\/thead>\n",
       "  <tbody>\n",
       "    <tr>\n",
       "      <th>0<\/th>\n",
       "      <td>Vatican City<\/td>\n",
       "      <td>839<\/td>\n",
       "    <\/tr>\n",
       "    <tr>\n",
       "      <th>1<\/th>\n",
       "      <td>Vatican City<\/td>\n",
       "      <td>839<\/td>\n",
       "    <\/tr>\n",
       "    <tr>\n",
       "      <th>2<\/th>\n",
       "      <td>Nauru<\/td>\n",
       "      <td>9945<\/td>\n",
       "    <\/tr>\n",
       "    <tr>\n",
       "      <th>3<\/th>\n",
       "      <td>Nauru<\/td>\n",
       "      <td>9945<\/td>\n",
       "    <\/tr>\n",
       "    <tr>\n",
       "      <th>4<\/th>\n",
       "      <td>Tuvalu<\/td>\n",
       "      <td>11323<\/td>\n",
       "    <\/tr>\n",
       "    <tr>\n",
       "      <th>...<\/th>\n",
       "      <td>...<\/td>\n",
       "      <td>...<\/td>\n",
       "    <\/tr>\n",
       "    <tr>\n",
       "      <th>385<\/th>\n",
       "      <td>United States<\/td>\n",
       "      <td>318320000<\/td>\n",
       "    <\/tr>\n",
       "    <tr>\n",
       "      <th>386<\/th>\n",
       "      <td>India<\/td>\n",
       "      <td>1246160000<\/td>\n",
       "    <\/tr>\n",
       "    <tr>\n",
       "      <th>387<\/th>\n",
       "      <td>India<\/td>\n",
       "      <td>1246160000<\/td>\n",
       "    <\/tr>\n",
       "    <tr>\n",
       "      <th>388<\/th>\n",
       "      <td>China<\/td>\n",
       "      <td>1365370000<\/td>\n",
       "    <\/tr>\n",
       "    <tr>\n",
       "      <th>389<\/th>\n",
       "      <td>China<\/td>\n",
       "      <td>1365370000<\/td>\n",
       "    <\/tr>\n",
       "  <\/tbody>\n",
       "<\/table>\n",
       "<p>390 rows × 2 columns<\/p>\n",
       "<\/div>"
      ]
     },
     "metadata":{
      
     },
     "output_type":"display_data"
    }
   ],
   "metadata":{
    "datalore":{
     "node_id":"4GaClQKz0uImUpGXLQnmZT",
     "type":"SQL",
     "hide_input_from_viewers":true,
     "hide_output_from_viewers":true,
     "sql_cell_properties":{
      "dbId":"30mmHcmNZfSWCiirkD4rnW",
      "variableName":"df_15",
      "dialect":"mysql.8"
     }
    }
   }
  },
  {
   "cell_type":"code",
   "source":[
    "# Distinct, Group by Zoskupenie\n",
    "select distinct continent from world\n",
    "order by continent;"
   ],
   "execution_count":30,
   "outputs":[
    {
     "data":{
      "text\/html":[
       "<div>\n",
       "<style scoped>\n",
       "    .dataframe tbody tr th:only-of-type {\n",
       "        vertical-align: middle;\n",
       "    }\n",
       "\n",
       "    .dataframe tbody tr th {\n",
       "        vertical-align: top;\n",
       "    }\n",
       "\n",
       "    .dataframe thead th {\n",
       "        text-align: right;\n",
       "    }\n",
       "<\/style>\n",
       "<table border=\"1\" class=\"dataframe\">\n",
       "  <thead>\n",
       "    <tr style=\"text-align: right;\">\n",
       "      <th><\/th>\n",
       "      <th>continent<\/th>\n",
       "    <\/tr>\n",
       "  <\/thead>\n",
       "  <tbody>\n",
       "    <tr>\n",
       "      <th>0<\/th>\n",
       "      <td>Africa<\/td>\n",
       "    <\/tr>\n",
       "    <tr>\n",
       "      <th>1<\/th>\n",
       "      <td>Asia<\/td>\n",
       "    <\/tr>\n",
       "    <tr>\n",
       "      <th>2<\/th>\n",
       "      <td>Caribbean<\/td>\n",
       "    <\/tr>\n",
       "    <tr>\n",
       "      <th>3<\/th>\n",
       "      <td>Eurasia<\/td>\n",
       "    <\/tr>\n",
       "    <tr>\n",
       "      <th>4<\/th>\n",
       "      <td>Europe<\/td>\n",
       "    <\/tr>\n",
       "    <tr>\n",
       "      <th>5<\/th>\n",
       "      <td>North America<\/td>\n",
       "    <\/tr>\n",
       "    <tr>\n",
       "      <th>6<\/th>\n",
       "      <td>Oceania<\/td>\n",
       "    <\/tr>\n",
       "    <tr>\n",
       "      <th>7<\/th>\n",
       "      <td>South America<\/td>\n",
       "    <\/tr>\n",
       "  <\/tbody>\n",
       "<\/table>\n",
       "<\/div>"
      ]
     },
     "metadata":{
      
     },
     "output_type":"display_data"
    }
   ],
   "metadata":{
    "datalore":{
     "node_id":"Bgj12of4CpaRgu7sXxz4Vz",
     "type":"SQL",
     "hide_input_from_viewers":true,
     "hide_output_from_viewers":true,
     "sql_cell_properties":{
      "dbId":"30mmHcmNZfSWCiirkD4rnW",
      "variableName":"df_16",
      "dialect":"mysql.8"
     }
    }
   }
  },
  {
   "cell_type":"code",
   "source":[
    "# Distinct, Group by Zoskupenie\n",
    "select continent from world\n",
    "group by continent\n",
    "order by continent;"
   ],
   "execution_count":32,
   "outputs":[
    {
     "data":{
      "text\/html":[
       "<div>\n",
       "<style scoped>\n",
       "    .dataframe tbody tr th:only-of-type {\n",
       "        vertical-align: middle;\n",
       "    }\n",
       "\n",
       "    .dataframe tbody tr th {\n",
       "        vertical-align: top;\n",
       "    }\n",
       "\n",
       "    .dataframe thead th {\n",
       "        text-align: right;\n",
       "    }\n",
       "<\/style>\n",
       "<table border=\"1\" class=\"dataframe\">\n",
       "  <thead>\n",
       "    <tr style=\"text-align: right;\">\n",
       "      <th><\/th>\n",
       "      <th>continent<\/th>\n",
       "    <\/tr>\n",
       "  <\/thead>\n",
       "  <tbody>\n",
       "    <tr>\n",
       "      <th>0<\/th>\n",
       "      <td>Africa<\/td>\n",
       "    <\/tr>\n",
       "    <tr>\n",
       "      <th>1<\/th>\n",
       "      <td>Asia<\/td>\n",
       "    <\/tr>\n",
       "    <tr>\n",
       "      <th>2<\/th>\n",
       "      <td>Caribbean<\/td>\n",
       "    <\/tr>\n",
       "    <tr>\n",
       "      <th>3<\/th>\n",
       "      <td>Eurasia<\/td>\n",
       "    <\/tr>\n",
       "    <tr>\n",
       "      <th>4<\/th>\n",
       "      <td>Europe<\/td>\n",
       "    <\/tr>\n",
       "    <tr>\n",
       "      <th>5<\/th>\n",
       "      <td>North America<\/td>\n",
       "    <\/tr>\n",
       "    <tr>\n",
       "      <th>6<\/th>\n",
       "      <td>Oceania<\/td>\n",
       "    <\/tr>\n",
       "    <tr>\n",
       "      <th>7<\/th>\n",
       "      <td>South America<\/td>\n",
       "    <\/tr>\n",
       "  <\/tbody>\n",
       "<\/table>\n",
       "<\/div>"
      ]
     },
     "metadata":{
      
     },
     "output_type":"display_data"
    }
   ],
   "metadata":{
    "datalore":{
     "node_id":"Zy3fLfBiZdSf2RXuElmp1y",
     "type":"SQL",
     "hide_input_from_viewers":true,
     "hide_output_from_viewers":true,
     "sql_cell_properties":{
      "dbId":"30mmHcmNZfSWCiirkD4rnW",
      "variableName":"df_17",
      "dialect":"mysql.8"
     }
    }
   }
  },
  {
   "cell_type":"code",
   "source":[
    
   ],
   "execution_count":null,
   "outputs":[
    
   ],
   "metadata":{
    "datalore":{
     "node_id":"A9G8czYWduySxW2KuYoawq",
     "type":"CODE",
     "hide_input_from_viewers":true,
     "hide_output_from_viewers":true
    }
   }
  },
  {
   "cell_type":"code",
   "source":[
    "\/*select count(*)\n",
    "from world;*\/\n",
    "\n",
    "select count(name)\n",
    "from world;"
   ],
   "execution_count":34,
   "outputs":[
    {
     "data":{
      "text\/html":[
       "<div>\n",
       "<style scoped>\n",
       "    .dataframe tbody tr th:only-of-type {\n",
       "        vertical-align: middle;\n",
       "    }\n",
       "\n",
       "    .dataframe tbody tr th {\n",
       "        vertical-align: top;\n",
       "    }\n",
       "\n",
       "    .dataframe thead th {\n",
       "        text-align: right;\n",
       "    }\n",
       "<\/style>\n",
       "<table border=\"1\" class=\"dataframe\">\n",
       "  <thead>\n",
       "    <tr style=\"text-align: right;\">\n",
       "      <th><\/th>\n",
       "      <th>count(name)<\/th>\n",
       "    <\/tr>\n",
       "  <\/thead>\n",
       "  <tbody>\n",
       "    <tr>\n",
       "      <th>0<\/th>\n",
       "      <td>390<\/td>\n",
       "    <\/tr>\n",
       "  <\/tbody>\n",
       "<\/table>\n",
       "<\/div>"
      ]
     },
     "metadata":{
      
     },
     "output_type":"display_data"
    }
   ],
   "metadata":{
    "datalore":{
     "node_id":"uMFOVIJlsz4imCoYn6h5Av",
     "type":"SQL",
     "hide_input_from_viewers":true,
     "hide_output_from_viewers":true,
     "sql_cell_properties":{
      "dbId":"30mmHcmNZfSWCiirkD4rnW",
      "variableName":"df_18",
      "dialect":"mysql.8"
     }
    }
   }
  },
  {
   "cell_type":"code",
   "source":[
    "select *\n",
    "from world;"
   ],
   "execution_count":35,
   "outputs":[
    {
     "data":{
      "text\/html":[
       "<div>\n",
       "<style scoped>\n",
       "    .dataframe tbody tr th:only-of-type {\n",
       "        vertical-align: middle;\n",
       "    }\n",
       "\n",
       "    .dataframe tbody tr th {\n",
       "        vertical-align: top;\n",
       "    }\n",
       "\n",
       "    .dataframe thead th {\n",
       "        text-align: right;\n",
       "    }\n",
       "<\/style>\n",
       "<table border=\"1\" class=\"dataframe\">\n",
       "  <thead>\n",
       "    <tr style=\"text-align: right;\">\n",
       "      <th><\/th>\n",
       "      <th>name<\/th>\n",
       "      <th>continent<\/th>\n",
       "      <th>area<\/th>\n",
       "      <th>population<\/th>\n",
       "      <th>gdp<\/th>\n",
       "      <th>capital<\/th>\n",
       "      <th>tld<\/th>\n",
       "      <th>flag<\/th>\n",
       "    <\/tr>\n",
       "  <\/thead>\n",
       "  <tbody>\n",
       "    <tr>\n",
       "      <th>0<\/th>\n",
       "      <td>Afghanistan<\/td>\n",
       "      <td>Asia<\/td>\n",
       "      <td>652230<\/td>\n",
       "      <td>25500100<\/td>\n",
       "      <td>2.036400e+10<\/td>\n",
       "      <td>Kabul<\/td>\n",
       "      <td>.af<\/td>\n",
       "      <td>\/\/upload.wikimedia.org\/wikipedia\/commons\/9\/9a\/...<\/td>\n",
       "    <\/tr>\n",
       "    <tr>\n",
       "      <th>1<\/th>\n",
       "      <td>Albania<\/td>\n",
       "      <td>Europe<\/td>\n",
       "      <td>28748<\/td>\n",
       "      <td>2821977<\/td>\n",
       "      <td>1.204400e+10<\/td>\n",
       "      <td>Tirana<\/td>\n",
       "      <td>.al<\/td>\n",
       "      <td>\/\/upload.wikimedia.org\/wikipedia\/commons\/3\/36\/...<\/td>\n",
       "    <\/tr>\n",
       "    <tr>\n",
       "      <th>2<\/th>\n",
       "      <td>Algeria<\/td>\n",
       "      <td>Africa<\/td>\n",
       "      <td>2381741<\/td>\n",
       "      <td>38700000<\/td>\n",
       "      <td>2.070210e+05<\/td>\n",
       "      <td>Algiers<\/td>\n",
       "      <td>.dz<\/td>\n",
       "      <td>\/\/upload.wikimedia.org\/wikipedia\/commons\/7\/77\/...<\/td>\n",
       "    <\/tr>\n",
       "    <tr>\n",
       "      <th>3<\/th>\n",
       "      <td>Andorra<\/td>\n",
       "      <td>Europe<\/td>\n",
       "      <td>468<\/td>\n",
       "      <td>76098<\/td>\n",
       "      <td>3.222000e+09<\/td>\n",
       "      <td>Andorra la Vella<\/td>\n",
       "      <td>.ad<\/td>\n",
       "      <td>\/\/upload.wikimedia.org\/wikipedia\/commons\/1\/19\/...<\/td>\n",
       "    <\/tr>\n",
       "    <tr>\n",
       "      <th>4<\/th>\n",
       "      <td>Angola<\/td>\n",
       "      <td>Africa<\/td>\n",
       "      <td>1246700<\/td>\n",
       "      <td>19183590<\/td>\n",
       "      <td>1.163080e+05<\/td>\n",
       "      <td>Luanda<\/td>\n",
       "      <td>.ao<\/td>\n",
       "      <td>\/\/upload.wikimedia.org\/wikipedia\/commons\/9\/9d\/...<\/td>\n",
       "    <\/tr>\n",
       "    <tr>\n",
       "      <th>...<\/th>\n",
       "      <td>...<\/td>\n",
       "      <td>...<\/td>\n",
       "      <td>...<\/td>\n",
       "      <td>...<\/td>\n",
       "      <td>...<\/td>\n",
       "      <td>...<\/td>\n",
       "      <td>...<\/td>\n",
       "      <td>...<\/td>\n",
       "    <\/tr>\n",
       "    <tr>\n",
       "      <th>385<\/th>\n",
       "      <td>Venezuela<\/td>\n",
       "      <td>South America<\/td>\n",
       "      <td>916445<\/td>\n",
       "      <td>28946101<\/td>\n",
       "      <td>3.824240e+05<\/td>\n",
       "      <td>Caracas<\/td>\n",
       "      <td>.ve<\/td>\n",
       "      <td>\/\/upload.wikimedia.org\/wikipedia\/commons\/0\/06\/...<\/td>\n",
       "    <\/tr>\n",
       "    <tr>\n",
       "      <th>386<\/th>\n",
       "      <td>Vietnam<\/td>\n",
       "      <td>Asia<\/td>\n",
       "      <td>331212<\/td>\n",
       "      <td>89708900<\/td>\n",
       "      <td>1.558200e+04<\/td>\n",
       "      <td>Hanoi<\/td>\n",
       "      <td>.vn<\/td>\n",
       "      <td>\/\/upload.wikimedia.org\/wikipedia\/commons\/2\/21\/...<\/td>\n",
       "    <\/tr>\n",
       "    <tr>\n",
       "      <th>387<\/th>\n",
       "      <td>Yemen<\/td>\n",
       "      <td>Asia<\/td>\n",
       "      <td>527968<\/td>\n",
       "      <td>25235000<\/td>\n",
       "      <td>3.283100e+10<\/td>\n",
       "      <td>Sana‘a<\/td>\n",
       "      <td>.ye<\/td>\n",
       "      <td>\/\/upload.wikimedia.org\/wikipedia\/commons\/8\/89\/...<\/td>\n",
       "    <\/tr>\n",
       "    <tr>\n",
       "      <th>388<\/th>\n",
       "      <td>Zambia<\/td>\n",
       "      <td>Africa<\/td>\n",
       "      <td>752612<\/td>\n",
       "      <td>15023315<\/td>\n",
       "      <td>2.149000e+10<\/td>\n",
       "      <td>Lusaka<\/td>\n",
       "      <td>.zm<\/td>\n",
       "      <td>\/\/upload.wikimedia.org\/wikipedia\/commons\/0\/06\/...<\/td>\n",
       "    <\/tr>\n",
       "    <tr>\n",
       "      <th>389<\/th>\n",
       "      <td>Zimbabwe<\/td>\n",
       "      <td>Africa<\/td>\n",
       "      <td>390757<\/td>\n",
       "      <td>13061239<\/td>\n",
       "      <td>9.802000e+09<\/td>\n",
       "      <td>Harare<\/td>\n",
       "      <td>.zw<\/td>\n",
       "      <td>\/\/upload.wikimedia.org\/wikipedia\/commons\/6\/6a\/...<\/td>\n",
       "    <\/tr>\n",
       "  <\/tbody>\n",
       "<\/table>\n",
       "<p>390 rows × 8 columns<\/p>\n",
       "<\/div>"
      ]
     },
     "metadata":{
      
     },
     "output_type":"display_data"
    }
   ],
   "metadata":{
    "datalore":{
     "node_id":"MA2o49DAhJIU7fQlHtE8Fe",
     "type":"SQL",
     "hide_input_from_viewers":true,
     "hide_output_from_viewers":true,
     "sql_cell_properties":{
      "dbId":"30mmHcmNZfSWCiirkD4rnW",
      "variableName":"df_19",
      "dialect":"mysql.8"
     }
    }
   }
  },
  {
   "cell_type":"code",
   "source":[
    "select *, cast(HIREDATE as char) from EMP;"
   ],
   "execution_count":36,
   "outputs":[
    {
     "data":{
      "text\/html":[
       "<div>\n",
       "<style scoped>\n",
       "    .dataframe tbody tr th:only-of-type {\n",
       "        vertical-align: middle;\n",
       "    }\n",
       "\n",
       "    .dataframe tbody tr th {\n",
       "        vertical-align: top;\n",
       "    }\n",
       "\n",
       "    .dataframe thead th {\n",
       "        text-align: right;\n",
       "    }\n",
       "<\/style>\n",
       "<table border=\"1\" class=\"dataframe\">\n",
       "  <thead>\n",
       "    <tr style=\"text-align: right;\">\n",
       "      <th><\/th>\n",
       "      <th>EMPNO<\/th>\n",
       "      <th>ENAME<\/th>\n",
       "      <th>JOB<\/th>\n",
       "      <th>MGR<\/th>\n",
       "      <th>HIREDATE<\/th>\n",
       "      <th>SAL<\/th>\n",
       "      <th>COMM<\/th>\n",
       "      <th>DEPTNO<\/th>\n",
       "      <th>cast(HIREDATE as char)<\/th>\n",
       "    <\/tr>\n",
       "  <\/thead>\n",
       "  <tbody>\n",
       "    <tr>\n",
       "      <th>0<\/th>\n",
       "      <td>7369<\/td>\n",
       "      <td>SMITH<\/td>\n",
       "      <td>CLERK<\/td>\n",
       "      <td>7902.0<\/td>\n",
       "      <td>1980-12-17<\/td>\n",
       "      <td>800<\/td>\n",
       "      <td>NaN<\/td>\n",
       "      <td>20<\/td>\n",
       "      <td>1980-12-17<\/td>\n",
       "    <\/tr>\n",
       "    <tr>\n",
       "      <th>1<\/th>\n",
       "      <td>7499<\/td>\n",
       "      <td>ALLEN<\/td>\n",
       "      <td>SALESMAN<\/td>\n",
       "      <td>7698.0<\/td>\n",
       "      <td>1981-02-20<\/td>\n",
       "      <td>1600<\/td>\n",
       "      <td>300.0<\/td>\n",
       "      <td>30<\/td>\n",
       "      <td>1981-02-20<\/td>\n",
       "    <\/tr>\n",
       "    <tr>\n",
       "      <th>2<\/th>\n",
       "      <td>7521<\/td>\n",
       "      <td>WARD<\/td>\n",
       "      <td>SALESMAN<\/td>\n",
       "      <td>7698.0<\/td>\n",
       "      <td>1981-02-22<\/td>\n",
       "      <td>1250<\/td>\n",
       "      <td>500.0<\/td>\n",
       "      <td>30<\/td>\n",
       "      <td>1981-02-22<\/td>\n",
       "    <\/tr>\n",
       "    <tr>\n",
       "      <th>3<\/th>\n",
       "      <td>7566<\/td>\n",
       "      <td>JONES<\/td>\n",
       "      <td>MANAGER<\/td>\n",
       "      <td>7839.0<\/td>\n",
       "      <td>1981-04-02<\/td>\n",
       "      <td>2975<\/td>\n",
       "      <td>NaN<\/td>\n",
       "      <td>20<\/td>\n",
       "      <td>1981-04-02<\/td>\n",
       "    <\/tr>\n",
       "    <tr>\n",
       "      <th>4<\/th>\n",
       "      <td>7654<\/td>\n",
       "      <td>MARTIN<\/td>\n",
       "      <td>SALESMAN<\/td>\n",
       "      <td>7698.0<\/td>\n",
       "      <td>1981-09-28<\/td>\n",
       "      <td>1250<\/td>\n",
       "      <td>1400.0<\/td>\n",
       "      <td>30<\/td>\n",
       "      <td>1981-09-28<\/td>\n",
       "    <\/tr>\n",
       "    <tr>\n",
       "      <th>5<\/th>\n",
       "      <td>7698<\/td>\n",
       "      <td>BLAKE<\/td>\n",
       "      <td>MANAGER<\/td>\n",
       "      <td>7839.0<\/td>\n",
       "      <td>1981-05-01<\/td>\n",
       "      <td>2850<\/td>\n",
       "      <td>NaN<\/td>\n",
       "      <td>30<\/td>\n",
       "      <td>1981-05-01<\/td>\n",
       "    <\/tr>\n",
       "    <tr>\n",
       "      <th>6<\/th>\n",
       "      <td>7782<\/td>\n",
       "      <td>CLARK<\/td>\n",
       "      <td>MANAGER<\/td>\n",
       "      <td>7839.0<\/td>\n",
       "      <td>1981-06-09<\/td>\n",
       "      <td>2450<\/td>\n",
       "      <td>NaN<\/td>\n",
       "      <td>10<\/td>\n",
       "      <td>1981-06-09<\/td>\n",
       "    <\/tr>\n",
       "    <tr>\n",
       "      <th>7<\/th>\n",
       "      <td>7788<\/td>\n",
       "      <td>SCOTT<\/td>\n",
       "      <td>ANALYST<\/td>\n",
       "      <td>7566.0<\/td>\n",
       "      <td>1982-12-09<\/td>\n",
       "      <td>3000<\/td>\n",
       "      <td>NaN<\/td>\n",
       "      <td>20<\/td>\n",
       "      <td>1982-12-09<\/td>\n",
       "    <\/tr>\n",
       "    <tr>\n",
       "      <th>8<\/th>\n",
       "      <td>7839<\/td>\n",
       "      <td>KING<\/td>\n",
       "      <td>PRESIDENT<\/td>\n",
       "      <td>NaN<\/td>\n",
       "      <td>1981-11-17<\/td>\n",
       "      <td>5000<\/td>\n",
       "      <td>NaN<\/td>\n",
       "      <td>10<\/td>\n",
       "      <td>1981-11-17<\/td>\n",
       "    <\/tr>\n",
       "    <tr>\n",
       "      <th>9<\/th>\n",
       "      <td>7844<\/td>\n",
       "      <td>TURNER<\/td>\n",
       "      <td>SALESMAN<\/td>\n",
       "      <td>7698.0<\/td>\n",
       "      <td>1981-09-08<\/td>\n",
       "      <td>1500<\/td>\n",
       "      <td>0.0<\/td>\n",
       "      <td>30<\/td>\n",
       "      <td>1981-09-08<\/td>\n",
       "    <\/tr>\n",
       "    <tr>\n",
       "      <th>10<\/th>\n",
       "      <td>7876<\/td>\n",
       "      <td>ADAMS<\/td>\n",
       "      <td>CLERK<\/td>\n",
       "      <td>7788.0<\/td>\n",
       "      <td>1983-01-12<\/td>\n",
       "      <td>1100<\/td>\n",
       "      <td>NaN<\/td>\n",
       "      <td>20<\/td>\n",
       "      <td>1983-01-12<\/td>\n",
       "    <\/tr>\n",
       "    <tr>\n",
       "      <th>11<\/th>\n",
       "      <td>7900<\/td>\n",
       "      <td>JAMES<\/td>\n",
       "      <td>CLERK<\/td>\n",
       "      <td>7698.0<\/td>\n",
       "      <td>1981-12-03<\/td>\n",
       "      <td>950<\/td>\n",
       "      <td>NaN<\/td>\n",
       "      <td>30<\/td>\n",
       "      <td>1981-12-03<\/td>\n",
       "    <\/tr>\n",
       "    <tr>\n",
       "      <th>12<\/th>\n",
       "      <td>7902<\/td>\n",
       "      <td>FORD<\/td>\n",
       "      <td>ANALYST<\/td>\n",
       "      <td>7566.0<\/td>\n",
       "      <td>1981-12-03<\/td>\n",
       "      <td>3000<\/td>\n",
       "      <td>NaN<\/td>\n",
       "      <td>20<\/td>\n",
       "      <td>1981-12-03<\/td>\n",
       "    <\/tr>\n",
       "    <tr>\n",
       "      <th>13<\/th>\n",
       "      <td>7934<\/td>\n",
       "      <td>MILLER<\/td>\n",
       "      <td>CLERK<\/td>\n",
       "      <td>7782.0<\/td>\n",
       "      <td>1982-01-23<\/td>\n",
       "      <td>1300<\/td>\n",
       "      <td>NaN<\/td>\n",
       "      <td>10<\/td>\n",
       "      <td>1982-01-23<\/td>\n",
       "    <\/tr>\n",
       "  <\/tbody>\n",
       "<\/table>\n",
       "<\/div>"
      ]
     },
     "metadata":{
      
     },
     "output_type":"display_data"
    }
   ],
   "metadata":{
    "datalore":{
     "node_id":"GOmIuxyhSIqmOysUTbtELp",
     "type":"SQL",
     "hide_input_from_viewers":true,
     "hide_output_from_viewers":true,
     "sql_cell_properties":{
      "dbId":"30mmHcmNZfSWCiirkD4rnW",
      "variableName":"df_20",
      "dialect":"mysql.8"
     }
    }
   }
  },
  {
   "cell_type":"code",
   "source":[
    "select cast('2023-11-29' as date);"
   ],
   "execution_count":37,
   "outputs":[
    {
     "data":{
      "text\/html":[
       "<div>\n",
       "<style scoped>\n",
       "    .dataframe tbody tr th:only-of-type {\n",
       "        vertical-align: middle;\n",
       "    }\n",
       "\n",
       "    .dataframe tbody tr th {\n",
       "        vertical-align: top;\n",
       "    }\n",
       "\n",
       "    .dataframe thead th {\n",
       "        text-align: right;\n",
       "    }\n",
       "<\/style>\n",
       "<table border=\"1\" class=\"dataframe\">\n",
       "  <thead>\n",
       "    <tr style=\"text-align: right;\">\n",
       "      <th><\/th>\n",
       "      <th>cast('2023-11-29' as date)<\/th>\n",
       "    <\/tr>\n",
       "  <\/thead>\n",
       "  <tbody>\n",
       "    <tr>\n",
       "      <th>0<\/th>\n",
       "      <td>2023-11-29<\/td>\n",
       "    <\/tr>\n",
       "  <\/tbody>\n",
       "<\/table>\n",
       "<\/div>"
      ]
     },
     "metadata":{
      
     },
     "output_type":"display_data"
    }
   ],
   "metadata":{
    "datalore":{
     "node_id":"MmniFZW8lGjSLeYo8XYpry",
     "type":"SQL",
     "hide_input_from_viewers":true,
     "hide_output_from_viewers":true,
     "sql_cell_properties":{
      "dbId":"30mmHcmNZfSWCiirkD4rnW",
      "variableName":"df_21",
      "dialect":"mysql.8"
     }
    }
   }
  },
  {
   "cell_type":"markdown",
   "source":[
    "# Pripojenie DB"
   ],
   "attachments":{
    
   },
   "metadata":{
    "datalore":{
     "node_id":"Pripojenie DB",
     "type":"MD",
     "hide_input_from_viewers":false,
     "hide_output_from_viewers":false,
     "sheet_delimiter":true
    }
   }
  },
  {
   "cell_type":"markdown",
   "source":[
    "# 📚 Inštalácia a Importy Potrebných Knižníc\n",
    "**PIP (package installer for Python)** - Správca Balíčkov pre moduly programovacieho jazyka Python, Tiež napísaný v Pythone, Licencia MIT.  \n",
    "Dokumentácia PIP: https:\/\/pip.pypa.io\/en\/stable\/\n",
    "\n",
    "**PyPI (The Python Package Index)** - Repozitár\/úložisko softvéru pre programovací jazyk Python  \n",
    "https:\/\/pypi.org\n",
    "\n",
    "```python\n",
    "# !pip list  \n",
    "# !pip install pymysql  \n",
    "# !pip install psycopg2\n",
    "\n",
    "# import pymysql  \n",
    "import pymysql as mys\n",
    "import psycopg2 as ps\n",
    "```\n",
    "## Dokumentácia\n",
    "[MySQL pymysql](https:\/\/pypi.org\/project\/pymysql\/)  \n",
    "[PostgreSQL - psycopg2](https:\/\/pypi.org\/project\/psycopg2\/)  "
   ],
   "attachments":{
    
   },
   "metadata":{
    "datalore":{
     "node_id":"5M4zrY1MrvzJDyRmlXk12b",
     "type":"MD",
     "hide_input_from_viewers":true,
     "hide_output_from_viewers":true
    }
   }
  },
  {
   "cell_type":"code",
   "source":[
    " \n",
    "# DBMS Knižnice\n",
    " \n",
    "\n",
    " \n",
    "# Linuxom chýba ODBC driver manage\n",
    "# Treba doinštalovať UnixODBC\n",
    "# Debian\/Ubuntu: sudo apt-get install unixodbc unixodbc-dev\n",
    "# Red Hat\/CentOS\/Fedora: sudo yum install unixODBC unixODBC-devel\n",
    "# import pyodbc\n",
    "\n",
    "# Tabuľky, Operácie\n",
    " \n",
    "\n",
    "# Environ\n",
    " "
   ],
   "execution_count":3,
   "outputs":[
    {
     "name":"stdout",
     "text":[
      "Requirement already satisfied: mysql-connector-python in \/opt\/python\/envs\/default\/lib\/python3.8\/site-packages (8.2.0)\r\n",
      "Requirement already satisfied: protobuf<=4.21.12,>=4.21.1 in \/opt\/python\/envs\/default\/lib\/python3.8\/site-packages (from mysql-connector-python) (4.21.12)\r\n",
      "\r\n",
      "\u001b[1m[\u001b[0m\u001b[34;49mnotice\u001b[0m\u001b[1;39;49m]\u001b[0m\u001b[39;49m A new release of pip is available: \u001b[0m\u001b[31;49m23.1.2\u001b[0m\u001b[39;49m -> \u001b[0m\u001b[32;49m23.3.1\u001b[0m\r\n",
      "\u001b[1m[\u001b[0m\u001b[34;49mnotice\u001b[0m\u001b[1;39;49m]\u001b[0m\u001b[39;49m To update, run: \u001b[0m\u001b[32;49mpip install --upgrade pip\u001b[0m\r\n",
      "Requirement already satisfied: pymysql in \/opt\/python\/envs\/default\/lib\/python3.8\/site-packages (1.0.3)\r\n",
      "\r\n",
      "\u001b[1m[\u001b[0m\u001b[34;49mnotice\u001b[0m\u001b[1;39;49m]\u001b[0m\u001b[39;49m A new release of pip is available: \u001b[0m\u001b[31;49m23.1.2\u001b[0m\u001b[39;49m -> \u001b[0m\u001b[32;49m23.3.1\u001b[0m\r\n",
      "\u001b[1m[\u001b[0m\u001b[34;49mnotice\u001b[0m\u001b[1;39;49m]\u001b[0m\u001b[39;49m To update, run: \u001b[0m\u001b[32;49mpip install --upgrade pip\u001b[0m\r\n",
      "Requirement already satisfied: cx_Oracle in \/opt\/python\/envs\/default\/lib\/python3.8\/site-packages (8.3.0)\r\n",
      "Requirement already satisfied: pyodbc in \/opt\/python\/envs\/default\/lib\/python3.8\/site-packages (5.0.1)\r\n",
      "Requirement already satisfied: sqlalchemy in \/opt\/python\/envs\/default\/lib\/python3.8\/site-packages (2.0.13)\r\n",
      "Requirement already satisfied: typing-extensions>=4.2.0 in \/opt\/python\/envs\/default\/lib\/python3.8\/site-packages (from sqlalchemy) (4.8.0)\r\n",
      "Requirement already satisfied: greenlet!=0.4.17 in \/opt\/python\/envs\/default\/lib\/python3.8\/site-packages (from sqlalchemy) (3.0.1)\r\n",
      "\r\n",
      "\u001b[1m[\u001b[0m\u001b[34;49mnotice\u001b[0m\u001b[1;39;49m]\u001b[0m\u001b[39;49m A new release of pip is available: \u001b[0m\u001b[31;49m23.1.2\u001b[0m\u001b[39;49m -> \u001b[0m\u001b[32;49m23.3.1\u001b[0m\r\n",
      "\u001b[1m[\u001b[0m\u001b[34;49mnotice\u001b[0m\u001b[1;39;49m]\u001b[0m\u001b[39;49m To update, run: \u001b[0m\u001b[32;49mpip install --upgrade pip\u001b[0m\r\n"
     ],
     "output_type":"stream"
    }
   ],
   "metadata":{
    "datalore":{
     "node_id":"jNBr4r7mMc3cBp9ofL3Fma",
     "type":"CODE",
     "hide_input_from_viewers":true,
     "hide_output_from_viewers":true
    }
   }
  },
  {
   "cell_type":"markdown",
   "source":[
    "# 🐬 Pripojenie sa na DB MySQL\n",
    "Inštalátor: https:\/\/dev.mysql.com\/downloads\/mysql\/ | https:\/\/www.wampserver.com\/en\/  \n",
    "Porty: 3306-3311  \n",
    "User: root  \n",
    "Heslo: bez (Wamp)\/vase(MySQL Installer)  \n",
    "JDBC driver: https:\/\/dev.mysql.com\/downloads\/connector\/j\/ "
   ],
   "attachments":{
    
   },
   "metadata":{
    "datalore":{
     "node_id":"3zvqV8qEInSU4sGby0YIC3",
     "type":"MD",
     "hide_input_from_viewers":true,
     "hide_output_from_viewers":true
    }
   }
  },
  {
   "cell_type":"code",
   "source":[
    " "
   ],
   "execution_count":7,
   "outputs":[
    {
     "name":"stdout",
     "text":[
      "(7369, 'SMITH', 'CLERK', 7902, datetime.date(1980, 12, 17), 800, None, 20)\n",
      "(7499, 'ALLEN', 'SALESMAN', 7698, datetime.date(1981, 2, 20), 1600, 300, 30)\n",
      "(7521, 'WARD', 'SALESMAN', 7698, datetime.date(1981, 2, 22), 1250, 500, 30)\n",
      "(7566, 'JONES', 'MANAGER', 7839, datetime.date(1981, 4, 2), 2975, None, 20)\n",
      "(7654, 'MARTIN', 'SALESMAN', 7698, datetime.date(1981, 9, 28), 1250, 1400, 30)\n",
      "(7698, 'BLAKE', 'MANAGER', 7839, datetime.date(1981, 5, 1), 2850, None, 30)\n",
      "(7782, 'CLARK', 'MANAGER', 7839, datetime.date(1981, 6, 9), 2450, None, 10)\n",
      "(7788, 'SCOTT', 'ANALYST', 7566, datetime.date(1982, 12, 9), 3000, None, 20)\n",
      "(7839, 'KING', 'PRESIDENT', None, datetime.date(1981, 11, 17), 5000, None, 10)\n",
      "(7844, 'TURNER', 'SALESMAN', 7698, datetime.date(1981, 9, 8), 1500, 0, 30)\n",
      "(7876, 'ADAMS', 'CLERK', 7788, datetime.date(1983, 1, 12), 1100, None, 20)\n",
      "(7900, 'JAMES', 'CLERK', 7698, datetime.date(1981, 12, 3), 950, None, 30)\n",
      "(7902, 'FORD', 'ANALYST', 7566, datetime.date(1981, 12, 3), 3000, None, 20)\n",
      "(7934, 'MILLER', 'CLERK', 7782, datetime.date(1982, 1, 23), 1300, None, 10)\n"
     ],
     "output_type":"stream"
    }
   ],
   "metadata":{
    "datalore":{
     "node_id":"8QOyPzfzO5YcUkEvyaHyXr",
     "type":"CODE",
     "hide_input_from_viewers":true,
     "hide_output_from_viewers":true
    }
   }
  },
  {
   "cell_type":"markdown",
   "source":[
    "# 🦢 Pripojenie sa na DB sqlite\n",
    "Inštalátor: https:\/\/www.sqlite.org\/download.html  \n",
    "Porty: nemá porty  "
   ],
   "attachments":{
    
   },
   "metadata":{
    "datalore":{
     "node_id":"xhDsmIl9s7kedsr4ICCtSo",
     "type":"MD",
     "hide_input_from_viewers":true,
     "hide_output_from_viewers":true
    }
   }
  },
  {
   "cell_type":"code",
   "source":[
    " "
   ],
   "execution_count":13,
   "outputs":[
    {
     "name":"stdout",
     "text":[
      "(1, 'Luís', 'Gonçalves', 'Embraer - Empresa Brasileira de Aeronáutica S.A.', 'Av. Brigadeiro Faria Lima, 2170', 'São José dos Campos', 'SP', 'Brazil', '12227-000', '+55 (12) 3923-5555', '+55 (12) 3923-5566', 'luisg@embraer.com.br', 3)\n",
      "(2, 'Leonie', 'Köhler', None, 'Theodor-Heuss-Straße 34', 'Stuttgart', None, 'Germany', '70174', '+49 0711 2842222', None, 'leonekohler@surfeu.de', 5)\n",
      "(3, 'François', 'Tremblay', None, '1498 rue Bélanger', 'Montréal', 'QC', 'Canada', 'H2G 1A7', '+1 (514) 721-4711', None, 'ftremblay@gmail.com', 3)\n",
      "(4, 'Bjørn', 'Hansen', None, 'Ullevålsveien 14', 'Oslo', None, 'Norway', '0171', '+47 22 44 22 22', None, 'bjorn.hansen@yahoo.no', 4)\n",
      "(5, 'František', 'Wichterlová', 'JetBrains s.r.o.', 'Klanova 9\/506', 'Prague', None, 'Czech Republic', '14700', '+420 2 4172 5555', '+420 2 4172 5555', 'frantisekw@jetbrains.com', 4)\n",
      "(6, 'Helena', 'Holý', None, 'Rilská 3174\/6', 'Prague', None, 'Czech Republic', '14300', '+420 2 4177 0449', None, 'hholy@gmail.com', 5)\n",
      "(7, 'Astrid', 'Gruber', None, 'Rotenturmstraße 4, 1010 Innere Stadt', 'Vienne', None, 'Austria', '1010', '+43 01 5134505', None, 'astrid.gruber@apple.at', 5)\n",
      "(8, 'Daan', 'Peeters', None, 'Grétrystraat 63', 'Brussels', None, 'Belgium', '1000', '+32 02 219 03 03', None, 'daan_peeters@apple.be', 4)\n",
      "(9, 'Kara', 'Nielsen', None, 'Sønder Boulevard 51', 'Copenhagen', None, 'Denmark', '1720', '+453 3331 9991', None, 'kara.nielsen@jubii.dk', 4)\n",
      "(10, 'Eduardo', 'Martins', 'Woodstock Discos', 'Rua Dr. Falcão Filho, 155', 'São Paulo', 'SP', 'Brazil', '01007-010', '+55 (11) 3033-5446', '+55 (11) 3033-4564', 'eduardo@woodstock.com.br', 4)\n",
      "(11, 'Alexandre', 'Rocha', 'Banco do Brasil S.A.', 'Av. Paulista, 2022', 'São Paulo', 'SP', 'Brazil', '01310-200', '+55 (11) 3055-3278', '+55 (11) 3055-8131', 'alero@uol.com.br', 5)\n",
      "(12, 'Roberto', 'Almeida', 'Riotur', 'Praça Pio X, 119', 'Rio de Janeiro', 'RJ', 'Brazil', '20040-020', '+55 (21) 2271-7000', '+55 (21) 2271-7070', 'roberto.almeida@riotur.gov.br', 3)\n",
      "(13, 'Fernanda', 'Ramos', None, 'Qe 7 Bloco G', 'Brasília', 'DF', 'Brazil', '71020-677', '+55 (61) 3363-5547', '+55 (61) 3363-7855', 'fernadaramos4@uol.com.br', 4)\n",
      "(14, 'Mark', 'Philips', 'Telus', '8210 111 ST NW', 'Edmonton', 'AB', 'Canada', 'T6G 2C7', '+1 (780) 434-4554', '+1 (780) 434-5565', 'mphilips12@shaw.ca', 5)\n",
      "(15, 'Jennifer', 'Peterson', 'Rogers Canada', '700 W Pender Street', 'Vancouver', 'BC', 'Canada', 'V6C 1G8', '+1 (604) 688-2255', '+1 (604) 688-8756', 'jenniferp@rogers.ca', 3)\n",
      "(16, 'Frank', 'Harris', 'Google Inc.', '1600 Amphitheatre Parkway', 'Mountain View', 'CA', 'USA', '94043-1351', '+1 (650) 253-0000', '+1 (650) 253-0000', 'fharris@google.com', 4)\n",
      "(17, 'Jack', 'Smith', 'Microsoft Corporation', '1 Microsoft Way', 'Redmond', 'WA', 'USA', '98052-8300', '+1 (425) 882-8080', '+1 (425) 882-8081', 'jacksmith@microsoft.com', 5)\n",
      "(18, 'Michelle', 'Brooks', None, '627 Broadway', 'New York', 'NY', 'USA', '10012-2612', '+1 (212) 221-3546', '+1 (212) 221-4679', 'michelleb@aol.com', 3)\n",
      "(19, 'Tim', 'Goyer', 'Apple Inc.', '1 Infinite Loop', 'Cupertino', 'CA', 'USA', '95014', '+1 (408) 996-1010', '+1 (408) 996-1011', 'tgoyer@apple.com', 3)\n",
      "(20, 'Dan', 'Miller', None, '541 Del Medio Avenue', 'Mountain View', 'CA', 'USA', '94040-111', '+1 (650) 644-3358', None, 'dmiller@comcast.com', 4)\n",
      "(21, 'Kathy', 'Chase', None, '801 W 4th Street', 'Reno', 'NV', 'USA', '89503', '+1 (775) 223-7665', None, 'kachase@hotmail.com', 5)\n",
      "(22, 'Heather', 'Leacock', None, '120 S Orange Ave', 'Orlando', 'FL', 'USA', '32801', '+1 (407) 999-7788', None, 'hleacock@gmail.com', 4)\n",
      "(23, 'John', 'Gordon', None, '69 Salem Street', 'Boston', 'MA', 'USA', '2113', '+1 (617) 522-1333', None, 'johngordon22@yahoo.com', 4)\n",
      "(24, 'Frank', 'Ralston', None, '162 E Superior Street', 'Chicago', 'IL', 'USA', '60611', '+1 (312) 332-3232', None, 'fralston@gmail.com', 3)\n",
      "(25, 'Victor', 'Stevens', None, '319 N. Frances Street', 'Madison', 'WI', 'USA', '53703', '+1 (608) 257-0597', None, 'vstevens@yahoo.com', 5)\n",
      "(26, 'Richard', 'Cunningham', None, '2211 W Berry Street', 'Fort Worth', 'TX', 'USA', '76110', '+1 (817) 924-7272', None, 'ricunningham@hotmail.com', 4)\n",
      "(27, 'Patrick', 'Gray', None, '1033 N Park Ave', 'Tucson', 'AZ', 'USA', '85719', '+1 (520) 622-4200', None, 'patrick.gray@aol.com', 4)\n",
      "(28, 'Julia', 'Barnett', None, '302 S 700 E', 'Salt Lake City', 'UT', 'USA', '84102', '+1 (801) 531-7272', None, 'jubarnett@gmail.com', 5)\n",
      "(29, 'Robert', 'Brown', None, '796 Dundas Street West', 'Toronto', 'ON', 'Canada', 'M6J 1V1', '+1 (416) 363-8888', None, 'robbrown@shaw.ca', 3)\n",
      "(30, 'Edward', 'Francis', None, '230 Elgin Street', 'Ottawa', 'ON', 'Canada', 'K2P 1L7', '+1 (613) 234-3322', None, 'edfrancis@yachoo.ca', 3)\n",
      "(31, 'Martha', 'Silk', None, '194A Chain Lake Drive', 'Halifax', 'NS', 'Canada', 'B3S 1C5', '+1 (902) 450-0450', None, 'marthasilk@gmail.com', 5)\n",
      "(32, 'Aaron', 'Mitchell', None, '696 Osborne Street', 'Winnipeg', 'MB', 'Canada', 'R3L 2B9', '+1 (204) 452-6452', None, 'aaronmitchell@yahoo.ca', 4)\n",
      "(33, 'Ellie', 'Sullivan', None, '5112 48 Street', 'Yellowknife', 'NT', 'Canada', 'X1A 1N6', '+1 (867) 920-2233', None, 'ellie.sullivan@shaw.ca', 3)\n",
      "(34, 'João', 'Fernandes', None, 'Rua da Assunção 53', 'Lisbon', None, 'Portugal', None, '+351 (213) 466-111', None, 'jfernandes@yahoo.pt', 4)\n",
      "(35, 'Madalena', 'Sampaio', None, 'Rua dos Campeões Europeus de Viena, 4350', 'Porto', None, 'Portugal', None, '+351 (225) 022-448', None, 'masampaio@sapo.pt', 4)\n",
      "(36, 'Hannah', 'Schneider', None, 'Tauentzienstraße 8', 'Berlin', None, 'Germany', '10789', '+49 030 26550280', None, 'hannah.schneider@yahoo.de', 5)\n",
      "(37, 'Fynn', 'Zimmermann', None, 'Berger Straße 10', 'Frankfurt', None, 'Germany', '60316', '+49 069 40598889', None, 'fzimmermann@yahoo.de', 3)\n",
      "(38, 'Niklas', 'Schröder', None, 'Barbarossastraße 19', 'Berlin', None, 'Germany', '10779', '+49 030 2141444', None, 'nschroder@surfeu.de', 3)\n",
      "(39, 'Camille', 'Bernard', None, '4, Rue Milton', 'Paris', None, 'France', '75009', '+33 01 49 70 65 65', None, 'camille.bernard@yahoo.fr', 4)\n",
      "(40, 'Dominique', 'Lefebvre', None, '8, Rue Hanovre', 'Paris', None, 'France', '75002', '+33 01 47 42 71 71', None, 'dominiquelefebvre@gmail.com', 4)\n",
      "(41, 'Marc', 'Dubois', None, '11, Place Bellecour', 'Lyon', None, 'France', '69002', '+33 04 78 30 30 30', None, 'marc.dubois@hotmail.com', 5)\n",
      "(42, 'Wyatt', 'Girard', None, '9, Place Louis Barthou', 'Bordeaux', None, 'France', '33000', '+33 05 56 96 96 96', None, 'wyatt.girard@yahoo.fr', 3)\n",
      "(43, 'Isabelle', 'Mercier', None, '68, Rue Jouvence', 'Dijon', None, 'France', '21000', '+33 03 80 73 66 99', None, 'isabelle_mercier@apple.fr', 3)\n",
      "(44, 'Terhi', 'Hämäläinen', None, 'Porthaninkatu 9', 'Helsinki', None, 'Finland', '00530', '+358 09 870 2000', None, 'terhi.hamalainen@apple.fi', 3)\n",
      "(45, 'Ladislav', 'Kovács', None, 'Erzsébet krt. 58.', 'Budapest', None, 'Hungary', 'H-1073', None, None, 'ladislav_kovacs@apple.hu', 3)\n",
      "(46, 'Hugh', \"O'Reilly\", None, '3 Chatham Street', 'Dublin', 'Dublin', 'Ireland', None, '+353 01 6792424', None, 'hughoreilly@apple.ie', 3)\n",
      "(47, 'Lucas', 'Mancini', None, 'Via Degli Scipioni, 43', 'Rome', 'RM', 'Italy', '00192', '+39 06 39733434', None, 'lucas.mancini@yahoo.it', 5)\n",
      "(48, 'Johannes', 'Van der Berg', None, 'Lijnbaansgracht 120bg', 'Amsterdam', 'VV', 'Netherlands', '1016', '+31 020 6223130', None, 'johavanderberg@yahoo.nl', 5)\n",
      "(49, 'Stanisław', 'Wójcik', None, 'Ordynacka 10', 'Warsaw', None, 'Poland', '00-358', '+48 22 828 37 39', None, 'stanisław.wójcik@wp.pl', 4)\n",
      "(50, 'Enrique', 'Muñoz', None, 'C\/ San Bernardo 85', 'Madrid', None, 'Spain', '28015', '+34 914 454 454', None, 'enrique_munoz@yahoo.es', 5)\n",
      "(51, 'Joakim', 'Johansson', None, 'Celsiusg. 9', 'Stockholm', None, 'Sweden', '11230', '+46 08-651 52 52', None, 'joakim.johansson@yahoo.se', 5)\n",
      "(52, 'Emma', 'Jones', None, '202 Hoxton Street', 'London', None, 'United Kingdom', 'N1 5LH', '+44 020 7707 0707', None, 'emma_jones@hotmail.com', 3)\n",
      "(53, 'Phil', 'Hughes', None, '113 Lupus St', 'London', None, 'United Kingdom', 'SW1V 3EN', '+44 020 7976 5722', None, 'phil.hughes@gmail.com', 3)\n",
      "(54, 'Steve', 'Murray', None, '110 Raeburn Pl', 'Edinburgh ', None, 'United Kingdom', 'EH4 1HH', '+44 0131 315 3300', None, 'steve.murray@yahoo.uk', 5)\n",
      "(55, 'Mark', 'Taylor', None, '421 Bourke Street', 'Sidney', 'NSW', 'Australia', '2010', '+61 (02) 9332 3633', None, 'mark.taylor@yahoo.au', 4)\n",
      "(56, 'Diego', 'Gutiérrez', None, '307 Macacha Güemes', 'Buenos Aires', None, 'Argentina', '1106', '+54 (0)11 4311 4333', None, 'diego.gutierrez@yahoo.ar', 4)\n",
      "(57, 'Luis', 'Rojas', None, 'Calle Lira, 198', 'Santiago', None, 'Chile', None, '+56 (0)2 635 4444', None, 'luisrojas@yahoo.cl', 5)\n",
      "(58, 'Manoj', 'Pareek', None, '12,Community Centre', 'Delhi', None, 'India', '110017', '+91 0124 39883988', None, 'manoj.pareek@rediff.com', 3)\n",
      "(59, 'Puja', 'Srivastava', None, '3,Raj Bhavan Road', 'Bangalore', None, 'India', '560001', '+91 080 22289999', None, 'puja_srivastava@yahoo.in', 3)\n"
     ],
     "output_type":"stream"
    }
   ],
   "metadata":{
    "datalore":{
     "node_id":"5vPiTZFKNlxhXAjWpxEWN3",
     "type":"CODE",
     "hide_input_from_viewers":true,
     "hide_output_from_viewers":true
    }
   }
  },
  {
   "cell_type":"markdown",
   "source":[
    "# 🐘 Pripojenie sa na DB PostgreSQL\n",
    "Inštalátor: https:\/\/www.postgresql.org\/download\/windows\/  \n",
    "Porty: 5432  \n",
    "User: postgres  \n",
    "Heslo: vase (PostgreSQL installer)  \n",
    "JDBC driver: https:\/\/jdbc.postgresql.org\/download.html  "
   ],
   "attachments":{
    
   },
   "metadata":{
    "datalore":{
     "node_id":"uaGcujhc6CzfvfaKSpZXfh",
     "type":"MD",
     "hide_input_from_viewers":true,
     "hide_output_from_viewers":true
    }
   }
  },
  {
   "cell_type":"code",
   "source":[
    " "
   ],
   "execution_count":22,
   "outputs":[
    {
     "name":"stdout",
     "text":[
      "('Afghanistan', 'Asia', 652230, 25500100, 20364000000.0, 'Kabul', '.af', '\/\/upload.wikimedia.org\/wikipedia\/commons\/9\/9a\/Flag_of_Afghanistan.svg')\n",
      "('Albania', 'Europe', 28748, 2821977, 12044000000.0, 'Tirana', '.al', '\/\/upload.wikimedia.org\/wikipedia\/commons\/3\/36\/Flag_of_Albania.svg')\n",
      "('Algeria', 'Africa', 2381741, 38700000, 207021.0, 'Algiers', '.dz', '\/\/upload.wikimedia.org\/wikipedia\/commons\/7\/77\/Flag_of_Algeria.svg')\n",
      "('Andorra', 'Europe', 468, 76098, 3222000000.0, 'Andorra la Vella', '.ad', '\/\/upload.wikimedia.org\/wikipedia\/commons\/1\/19\/Flag_of_Andorra.svg')\n",
      "('Angola', 'Africa', 1246700, 19183590, 116308.0, 'Luanda', '.ao', '\/\/upload.wikimedia.org\/wikipedia\/commons\/9\/9d\/Flag_of_Angola.svg')\n",
      "('Antigua and Barbuda', 'Caribbean', 442, 86295, 1176000000.0, \"St. John's\", '.ag', '\/\/upload.wikimedia.org\/wikipedia\/commons\/8\/89\/Flag_of_Antigua_and_Barbuda.svg')\n",
      "('Argentina', 'South America', 2780400, 42669500, 477028.0, 'Buenos Aires', '.ar', '\/\/upload.wikimedia.org\/wikipedia\/commons\/1\/1a\/Flag_of_Argentina.svg')\n",
      "('Armenia', 'Eurasia', 29743, 3017400, 9950000000.0, 'Yerevan', '.am', '\/\/upload.wikimedia.org\/wikipedia\/commons\/2\/2f\/Flag_of_Armenia.svg')\n",
      "('Australia', 'Oceania', 7692024, 23545500, 156442.0, 'Canberra', '.au', '\/\/upload.wikimedia.org\/wikipedia\/commons\/b\/b9\/Flag_of_Australia.svg')\n",
      "('Austria', 'Europe', 83871, 8504850, 394458.0, 'Vienna', '.at', '\/\/upload.wikimedia.org\/wikipedia\/commons\/4\/41\/Flag_of_Austria.svg')\n",
      "('Azerbaijan', 'Asia', 86600, 9477100, 68727000000.0, 'Baku', '.az', '\/\/upload.wikimedia.org\/wikipedia\/commons\/d\/dd\/Flag_of_Azerbaijan.svg')\n",
      "('Bahamas', 'Caribbean', 13878, 351461, 8043000000.0, 'Nassau', '.bs', '\/\/upload.wikimedia.org\/wikipedia\/commons\/9\/93\/Flag_of_the_Bahamas.svg')\n",
      "('Bahrain', 'Asia', 765, 1234571, 30362000000.0, 'Manama', '.bh', '\/\/upload.wikimedia.org\/wikipedia\/commons\/f\/f9\/Flag_of_Bahrain_1972.svg')\n",
      "('Bangladesh', 'Asia', 147570, 156557000, 127195.0, 'Dhaka', '.bd', '\/\/upload.wikimedia.org\/wikipedia\/commons\/f\/f9\/Flag_of_Bangladesh.svg')\n",
      "('Barbados', 'Caribbean', 430, 285000, 4533000000.0, 'Bridgetown', '.bb', '\/\/upload.wikimedia.org\/wikipedia\/commons\/e\/ef\/Flag_of_Barbados.svg')\n",
      "('Belarus', 'Europe', 207600, 9467000, 63259000000.0, 'Minsk', '.by', '\/\/upload.wikimedia.org\/wikipedia\/commons\/8\/85\/Flag_of_Belarus.svg')\n",
      "('Belgium', 'Europe', 30528, 11198638, 483402.0, 'City of Brussels', '.be', '\/\/upload.wikimedia.org\/wikipedia\/commons\/6\/65\/Flag_of_Belgium.svg')\n",
      "('Belize', 'North America', 22966, 349728, 1554000000.0, 'Belmopan', '.bz', '\/\/upload.wikimedia.org\/wikipedia\/commons\/e\/e7\/Flag_of_Belize.svg')\n",
      "('Benin', 'Africa', 112622, 9988068, 7557000000.0, 'Porto-Novo', '.bj', '\/\/upload.wikimedia.org\/wikipedia\/commons\/0\/0a\/Flag_of_Benin.svg')\n",
      "('Bhutan', 'Asia', 38394, 749090, 1861000000.0, 'Thimphu', '.bt', '\/\/upload.wikimedia.org\/wikipedia\/commons\/9\/91\/Flag_of_Bhutan.svg')\n",
      "('Bolivia', 'South America', 1098581, 10027254, 27035000000.0, 'Sucre', '.bo', '\/\/upload.wikimedia.org\/wikipedia\/commons\/4\/48\/Flag_of_Bolivia.svg')\n",
      "('Bosnia and Herzegovina', 'Europe', 51209, 3791622, 17319000000.0, 'Sarajevo', '.ba', '\/\/upload.wikimedia.org\/wikipedia\/commons\/b\/bf\/Flag_of_Bosnia_and_Herzegovina.svg')\n",
      "('Botswana', 'Africa', 582000, 2024904, 14410000000.0, 'Gaborone', '.bw', '\/\/upload.wikimedia.org\/wikipedia\/commons\/f\/fa\/Flag_of_Botswana.svg')\n",
      "('Brazil', 'South America', 8515767, 202794000, 225411.0, 'Brasília', '.br', '\/\/upload.wikimedia.org\/wikipedia\/commons\/0\/05\/Flag_of_Brazil.svg')\n",
      "('Brunei', 'Asia', 5765, 393162, 16954000000.0, 'Bandar Seri Begawan', '.bn', '\/\/upload.wikimedia.org\/wikipedia\/commons\/9\/9c\/Flag_of_Brunei.svg')\n",
      "('Bulgaria', 'Europe', 110879, 7245677, 50972000000.0, 'Sofia', '.bg', '\/\/upload.wikimedia.org\/wikipedia\/commons\/9\/9a\/Flag_of_Bulgaria.svg')\n",
      "('Burkina Faso', 'Africa', 272967, 17322796, 10687000000.0, 'Ouagadougou', '.bf', '\/\/upload.wikimedia.org\/wikipedia\/commons\/3\/31\/Flag_of_Burkina_Faso.svg')\n",
      "('Burundi', 'Africa', 27834, 9420248, 2257000000.0, 'Bujumbura', '.bi', '\/\/upload.wikimedia.org\/wikipedia\/commons\/5\/50\/Flag_of_Burundi.svg')\n",
      "('Cambodia', 'Asia', 181035, 15184116, 14038000000.0, 'Phnom Penh', '.kh', '\/\/upload.wikimedia.org\/wikipedia\/commons\/8\/83\/Flag_of_Cambodia.svg')\n",
      "('Cameroon', 'Africa', 475442, 20386799, 26094000000.0, 'Yaoundé', '.cm', '\/\/upload.wikimedia.org\/wikipedia\/commons\/4\/4f\/Flag_of_Cameroon.svg')\n",
      "('Canada', 'North America', 9984670, 35427524, 1585.0, 'Ottowa', '.ca', '\/\/upload.wikimedia.org\/wikipedia\/en\/c\/cf\/Flag_of_Canada.svg')\n",
      "('Cape Verde', 'Africa', 4033, 491875, 1903000000.0, 'Praia', '.cv', '\/\/upload.wikimedia.org\/wikipedia\/commons\/3\/38\/Flag_of_Cape_Verde.svg')\n",
      "('Central African Republic', 'Africa', 622984, 4709000, 2184000000.0, 'Bangui', '.cf', '\/\/upload.wikimedia.org\/wikipedia\/commons\/6\/6f\/Flag_of_the_Central_African_Republic.svg')\n",
      "('Chad', 'Africa', 1284000, 13211000, 10183000000.0, \"N'Djamena\", '.td', '\/\/upload.wikimedia.org\/wikipedia\/commons\/4\/4b\/Flag_of_Chad.svg')\n",
      "('Chile', 'South America', 756102, 17773000, 268314.0, 'Santiago', '.cl', '\/\/upload.wikimedia.org\/wikipedia\/commons\/7\/78\/Flag_of_Chile.svg')\n",
      "('China', 'Asia', 9596961, 1365370000, 83584.0, 'Beijing', '.cn', '\/\/upload.wikimedia.org\/wikipedia\/commons\/f\/fa\/Flag_of_the_People%27s_Republic_of_China.svg')\n",
      "('Colombia', 'South America', 1141748, 47662000, 369813.0, 'Bogotá', '.co', '\/\/upload.wikimedia.org\/wikipedia\/commons\/2\/21\/Flag_of_Colombia.svg')\n",
      "('Comoros', 'Africa', 1862, 743798, 616000000.0, 'Moroni', '.km', '\/\/upload.wikimedia.org\/wikipedia\/commons\/9\/94\/Flag_of_the_Comoros.svg')\n",
      "('Congo, Democratic Republic of', 'Africa', 2345000, 69360000, None, 'Kinshasa', '.cd', '\/\/upload.wikimedia.org\/wikipedia\/commons\/6\/6f\/Flag_of_the_Democratic_Republic_of_the_Congo.svg')\n",
      "('Congo, Republic of', 'Africa', 342000, 4559000, None, 'Brazzaville', '.cg', '\/\/upload.wikimedia.org\/wikipedia\/commons\/9\/92\/Flag_of_the_Republic_of_the_Congo.svg')\n",
      "('Costa Rica', 'North America', 51100, 4667096, 45107000000.0, 'San José', '.cr', '\/\/upload.wikimedia.org\/wikipedia\/commons\/f\/f2\/Flag_of_Costa_Rica.svg')\n",
      "(\"Côte d'Ivoire\", 'Africa', 322483, 23919000, 34506000000.0, 'Yamoussoukro', '.ci', '\/\/upload.wikimedia.org\/wikipedia\/commons\/f\/fe\/Flag_of_C%C3%B4te_d%27Ivoire.svg')\n",
      "('Croatia', 'Europe', 56594, 4290612, 56447000000.0, 'Zagreb', '.hr', '\/\/upload.wikimedia.org\/wikipedia\/commons\/1\/1b\/Flag_of_Croatia.svg')\n",
      "('Cuba', 'Caribbean', 109884, 11167325, 71017000000.0, 'Havana', '.cu', '\/\/upload.wikimedia.org\/wikipedia\/commons\/b\/bd\/Flag_of_Cuba.svg')\n",
      "('Cyprus', 'Asia', 9251, 865878, 22768000000.0, 'Nicosia', '.cy', '\/\/upload.wikimedia.org\/wikipedia\/commons\/d\/d4\/Flag_of_Cyprus.svg')\n",
      "('Czech Republic', 'Europe', 78865, 10517400, 196446.0, 'Prague', '.cz', '\/\/upload.wikimedia.org\/wikipedia\/commons\/c\/cb\/Flag_of_the_Czech_Republic.svg')\n",
      "('Denmark', 'Europe', 43094, 5634437, 314889.0, 'Copenhagen', '.dk', '\/\/upload.wikimedia.org\/wikipedia\/commons\/9\/9c\/Flag_of_Denmark.svg')\n",
      "('Djibouti', 'Africa', 23200, 886000, 1361000000.0, 'Djibouti', '.dj', '\/\/upload.wikimedia.org\/wikipedia\/commons\/3\/34\/Flag_of_Djibouti.svg')\n",
      "('Dominica', 'Caribbean', 751, 71293, 499000000.0, 'Roseau', '.dm', '\/\/upload.wikimedia.org\/wikipedia\/commons\/c\/c4\/Flag_of_Dominica.svg')\n",
      "('Dominican Republic', 'Caribbean', 48671, 9445281, 58898000000.0, 'Santo Domingo', '.do', '\/\/upload.wikimedia.org\/wikipedia\/commons\/9\/9f\/Flag_of_the_Dominican_Republic.svg')\n",
      "('Ecuador', 'South America', 276841, 15774200, 87495000000.0, 'Quito', '.ec', '\/\/upload.wikimedia.org\/wikipedia\/commons\/e\/e8\/Flag_of_Ecuador.svg')\n",
      "('Egypt', 'Asia', 1002450, 86736900, 254671.0, 'Cairo', '.eg', '\/\/upload.wikimedia.org\/wikipedia\/commons\/f\/fe\/Flag_of_Egypt.svg')\n",
      "('El Salvador', 'North America', 21041, 6384000, 23864000000.0, 'San Salvador', '.sv', '\/\/upload.wikimedia.org\/wikipedia\/commons\/3\/34\/Flag_of_El_Salvador.svg')\n",
      "('Equatorial Guinea', 'Africa', 28051, 1622000, 14491000000.0, 'Malabo', '.gq', '\/\/upload.wikimedia.org\/wikipedia\/commons\/3\/31\/Flag_of_Equatorial_Guinea.svg')\n",
      "('Eritrea', 'Africa', 117600, 6536000, 3108000000.0, 'Asmara', '.er', '\/\/upload.wikimedia.org\/wikipedia\/commons\/2\/29\/Flag_of_Eritrea.svg')\n",
      "('Estonia', 'Europe', 45227, 1315819, 22376000000.0, 'Tallinn', '.ee', '\/\/upload.wikimedia.org\/wikipedia\/commons\/8\/8f\/Flag_of_Estonia.svg')\n",
      "('Ethiopia', 'Africa', 1104300, 87952991, 41605000000.0, 'Addis Ababa', '.et', '\/\/upload.wikimedia.org\/wikipedia\/commons\/7\/71\/Flag_of_Ethiopia.svg')\n",
      "('Fiji', 'Oceania', 18272, 858038, 3999000000.0, 'Suva', '.fj', '\/\/upload.wikimedia.org\/wikipedia\/commons\/b\/ba\/Flag_of_Fiji.svg')\n",
      "('Finland', 'Europe', 338424, 5458038, 247389.0, 'Helsinki', '.fi', '\/\/upload.wikimedia.org\/wikipedia\/commons\/b\/bc\/Flag_of_Finland.svg')\n",
      "('France', 'Europe', 640679, 65906000, 261122.0, 'Paris', '.fr', '\/\/upload.wikimedia.org\/wikipedia\/commons\/c\/c3\/Flag_of_France.svg')\n",
      "('Gabon', 'Africa', 267668, 1711000, 24076000000.0, 'Libreville', '.ga', '\/\/upload.wikimedia.org\/wikipedia\/commons\/0\/04\/Flag_of_Gabon.svg')\n",
      "('Gambia', 'Africa', 11295, 1882450, None, 'Banjul', '.gm', '\/\/upload.wikimedia.org\/wikipedia\/commons\/7\/77\/Flag_of_The_Gambia.svg')\n",
      "('Georgia', 'Asia', 69700, 4490500, 15830000000.0, 'Tbilisi', '.ge', '\/\/upload.wikimedia.org\/wikipedia\/commons\/0\/0f\/Flag_of_Georgia.svg')\n",
      "('Germany', 'Europe', 357114, 80716000, 342596.0, 'Bonn', '.de', '\/\/upload.wikimedia.org\/wikipedia\/commons\/b\/ba\/Flag_of_Germany.svg')\n",
      "('Ghana', 'Africa', 238533, 27043093, 40711000000.0, 'Accra', '.gh', '\/\/upload.wikimedia.org\/wikipedia\/commons\/1\/19\/Flag_of_Ghana.svg')\n",
      "('Greece', 'Europe', 131990, 11123034, 248941.0, 'Athens', '.gr', '\/\/upload.wikimedia.org\/wikipedia\/commons\/5\/5c\/Flag_of_Greece.svg')\n",
      "('Grenada', 'Caribbean', 344, 103328, 783000000.0, \"St. George's\", '.gd', '\/\/upload.wikimedia.org\/wikipedia\/commons\/b\/bc\/Flag_of_Grenada.svg')\n",
      "('Guatemala', 'North America', 108889, 15806675, 50377000000.0, 'Guatemala City', '.gt', '\/\/upload.wikimedia.org\/wikipedia\/commons\/e\/ec\/Flag_of_Guatemala.svg')\n",
      "('Guinea', 'Africa', 245857, 10824200, 6092000000.0, 'Conakry', '.gn', '\/\/upload.wikimedia.org\/wikipedia\/commons\/e\/ed\/Flag_of_Guinea.svg')\n",
      "('Guinea-Bissau', 'Africa', 36125, 1746000, 849000000.0, 'Bissau', '.gw', '\/\/upload.wikimedia.org\/wikipedia\/commons\/0\/01\/Flag_of_Guinea-Bissau.svg')\n",
      "('Guyana', 'South America', 214969, 784894, 2851000000.0, 'Georgetown', '.gy', '\/\/upload.wikimedia.org\/wikipedia\/commons\/9\/99\/Flag_of_Guyana.svg')\n",
      "('Haiti', 'Caribbean', 27750, 10413211, 7187000000.0, 'Port-au-Prince', '.ht', '\/\/upload.wikimedia.org\/wikipedia\/commons\/5\/58\/Flag_of_Haiti_%281964-1986%29.svg')\n",
      "('Honduras', 'North America', 112492, 8555072, 18564000000.0, 'Tegucigalpa', '.hn', '\/\/upload.wikimedia.org\/wikipedia\/commons\/8\/82\/Flag_of_Honduras.svg')\n",
      "('Hungary', 'Europe', 93028, 9879000, 1246.0, 'Budapest', '.hu', '\/\/upload.wikimedia.org\/wikipedia\/commons\/c\/c1\/Flag_of_Hungary.svg')\n",
      "('Iceland', 'Europe', 103000, 326340, 13579000000.0, 'Reykjavík', '.is', '\/\/upload.wikimedia.org\/wikipedia\/commons\/c\/ce\/Flag_of_Iceland.svg')\n",
      "('India', 'Asia', 3166414, 1246160000, 187521.0, 'New Delhi', '.in', '\/\/upload.wikimedia.org\/wikipedia\/commons\/4\/41\/Flag_of_India.svg')\n",
      "('Indonesia', 'Asia', 1904569, 252164800, 878043.0, 'Jakarta', '.id', '\/\/upload.wikimedia.org\/wikipedia\/commons\/9\/9f\/Flag_of_Indonesia.svg')\n",
      "('Iran', 'Asia', 1648195, 77552000, 551588.0, 'Tehran', '.ir', '\/\/upload.wikimedia.org\/wikipedia\/commons\/c\/ca\/Flag_of_Iran.svg')\n",
      "('Iraq', 'Asia', 438317, 36004552, 14937.0, 'Baghdad', '.iq', '\/\/upload.wikimedia.org\/wikipedia\/commons\/f\/f6\/Flag_of_Iraq.svg')\n",
      "('Ireland', 'Europe', 70273, 4593100, 210638.0, 'Dublin', '.ie', '\/\/upload.wikimedia.org\/wikipedia\/commons\/4\/45\/Flag_of_Ireland.svg')\n",
      "('Israel', 'Asia', 20770, 8193900, 241069.0, 'Jerusalem', '.il', '\/\/upload.wikimedia.org\/wikipedia\/commons\/d\/d4\/Flag_of_Israel.svg')\n",
      "('Italy', 'Europe', 301336, 60782668, 201339.0, 'Rome', '.it', '\/\/upload.wikimedia.org\/wikipedia\/commons\/0\/03\/Flag_of_Italy.svg')\n",
      "('Jamaica', 'Caribbean', 10991, 2717991, 14795000000.0, 'Kingston', '.jm', '\/\/upload.wikimedia.org\/wikipedia\/commons\/0\/0a\/Flag_of_Jamaica.svg')\n",
      "('Japan', 'Asia', 377930, 127090000, 596018.0, 'Imperial Tokyo', '.jp', '\/\/upload.wikimedia.org\/wikipedia\/commons\/9\/9e\/Flag_of_Japan.svg')\n",
      "('Jordan', 'Asia', 89342, 6602190, 30937000000.0, 'Amman', '.jo', '\/\/upload.wikimedia.org\/wikipedia\/commons\/c\/c0\/Flag_of_Jordan.svg')\n",
      "('Kazakhstan', 'Europe', 2724900, 17244000, 202656.0, 'Astana', '.kz', '\/\/upload.wikimedia.org\/wikipedia\/commons\/d\/d3\/Flag_of_Kazakhstan.svg')\n",
      "('Kenya', 'Africa', 580367, 45546000, 40697000000.0, 'Nairobi', '.ke', '\/\/upload.wikimedia.org\/wikipedia\/commons\/4\/49\/Flag_of_Kenya.svg')\n",
      "('Kiribati', 'Oceania', 811, 106461, 176000000.0, 'South Tarawa', '.ki', '\/\/upload.wikimedia.org\/wikipedia\/commons\/d\/d3\/Flag_of_Kiribati.svg')\n",
      "('Kuwait', 'Asia', 17818, 3065850, 183219.0, 'Kuwait City', '.kw', '\/\/upload.wikimedia.org\/wikipedia\/commons\/a\/aa\/Flag_of_Kuwait.svg')\n",
      "('Kyrgyzstan', 'Asia', 199951, 5776570, 6475000000.0, 'Bishkek', '.kg', '\/\/upload.wikimedia.org\/wikipedia\/commons\/c\/c7\/Flag_of_Kyrgyzstan.svg')\n",
      "('Laos', 'Asia', 236800, 6580800, 9100000000.0, 'Vientiane', '.la', '\/\/upload.wikimedia.org\/wikipedia\/commons\/5\/56\/Flag_of_Laos.svg')\n",
      "('Latvia', 'Europe', 64559, 1996500, 28379000000.0, 'Riga', '.lv', '\/\/upload.wikimedia.org\/wikipedia\/commons\/8\/84\/Flag_of_Latvia.svg')\n",
      "('Lebanon', 'Asia', 10452, 4966000, 42490000000.0, 'Beirut', '.lb', '\/\/upload.wikimedia.org\/wikipedia\/commons\/5\/59\/Flag_of_Lebanon.svg')\n",
      "('Lesotho', 'Africa', 30355, 2098000, 2443000000.0, 'Maseru', '.ls', '\/\/upload.wikimedia.org\/wikipedia\/commons\/c\/c0\/Flag_of_Lesotho_%281987-2006%29.svg')\n",
      "('Liberia', 'Africa', 111369, 4397000, 1491000000.0, 'Monrovia', '.lr', '\/\/upload.wikimedia.org\/wikipedia\/commons\/b\/b8\/Flag_of_Liberia.svg')\n",
      "('Libya', 'Africa', 1759540, 6253000, 95802000000.0, 'Tripoli', '.ly', '\/\/upload.wikimedia.org\/wikipedia\/commons\/0\/05\/Flag_of_Libya.svg')\n",
      "('Liechtenstein', 'Europe', 160, 37132, 5827000000.0, 'Vaduz', '.li', '\/\/upload.wikimedia.org\/wikipedia\/commons\/4\/47\/Flag_of_Liechtenstein.svg')\n",
      "('Lithuania', 'Europe', 65300, 2939431, 42339000000.0, 'Vilnius', '.lt', '\/\/upload.wikimedia.org\/wikipedia\/commons\/1\/11\/Flag_of_Lithuania.svg')\n",
      "('Luxembourg', 'Europe', 2586, 549700, 55143000000.0, 'Luxembourg', '.lu', '\/\/upload.wikimedia.org\/wikipedia\/commons\/d\/da\/Flag_of_Luxembourg.svg')\n",
      "('Macedonia', 'Europe', 25713, 2062294, None, 'Skopje', '.mk', '\/\/upload.wikimedia.org\/wikipedia\/commons\/f\/f8\/Flag_of_Macedonia.svg')\n",
      "('Madagascar', 'Africa', 587041, 21263403, 9968000000.0, 'Antananarivo', '.mg', '\/\/upload.wikimedia.org\/wikipedia\/commons\/b\/bc\/Flag_of_Madagascar.svg')\n",
      "('Malawi', 'Africa', 118484, 16829000, 5653000000.0, 'Lilongwe', '.mw', '\/\/upload.wikimedia.org\/wikipedia\/commons\/1\/10\/Flag_of_Malawi_%282010-2012%29.svg')\n",
      "('Malaysia', 'Asia', 330803, 30177000, 304726.0, 'Kuala Lumpur', '.my', '\/\/upload.wikimedia.org\/wikipedia\/commons\/6\/66\/Flag_of_Malaysia.svg')\n",
      "('Maldives', 'Asia', 300, 317280, 2606000000.0, 'Malé', '.mv', '\/\/upload.wikimedia.org\/wikipedia\/commons\/0\/0f\/Flag_of_Maldives.svg')\n",
      "('Mali', 'Africa', 1240192, 15768000, 10262000000.0, 'Bamako', '.ml', '\/\/upload.wikimedia.org\/wikipedia\/commons\/9\/92\/Flag_of_Mali.svg')\n",
      "('Malta', 'Europe', 316, 416055, 8775000000.0, 'Valletta', '.mt', '\/\/upload.wikimedia.org\/wikipedia\/commons\/7\/73\/Flag_of_Malta.svg')\n",
      "('Marshall Islands', 'Oceania', 181, 56086, 198000000.0, 'Majuro', '.mh', '\/\/upload.wikimedia.org\/wikipedia\/commons\/2\/2e\/Flag_of_the_Marshall_Islands.svg')\n",
      "('Mauritania', 'Africa', 1030700, 3461041, 3866000000.0, 'Nouakchott', '.mr', '\/\/upload.wikimedia.org\/wikipedia\/commons\/4\/43\/Flag_of_Mauritania.svg')\n",
      "('Mauritius', 'Africa', 2040, 1257900, 11452000000.0, 'Port Louis', '.mu', '\/\/upload.wikimedia.org\/wikipedia\/commons\/7\/77\/Flag_of_Mauritius.svg')\n",
      "('Mexico', 'North America', 1964375, 119713203, 118366.0, 'Mexico City', '.mx', '\/\/upload.wikimedia.org\/wikipedia\/commons\/f\/fc\/Flag_of_Mexico.svg')\n",
      "('Micronesia, Federated States of', 'Oceania', 702, 101351, 327000000.0, 'Palikir', '.fm', '\/\/upload.wikimedia.org\/wikipedia\/commons\/e\/e4\/Flag_of_the_Federated_States_of_Micronesia.svg')\n",
      "('Moldova', 'Europe', 33846, 3557600, 7253000000.0, 'Chișinău', '.md', '\/\/upload.wikimedia.org\/wikipedia\/commons\/2\/27\/Flag_of_Moldova.svg')\n",
      "('Monaco', 'Europe', 2, 36950, 5707000000.0, 'Monaco-Ville', '.mc', '\/\/upload.wikimedia.org\/wikipedia\/commons\/e\/ea\/Flag_of_Monaco.svg')\n",
      "('Mongolia', 'Asia', 1564110, 2931300, 10271000000.0, 'Ulaanbaatar', '.mn', '\/\/upload.wikimedia.org\/wikipedia\/commons\/4\/4c\/Flag_of_Mongolia.svg')\n",
      "('Montenegro', 'Europe', 13812, 620029, 4046000000.0, 'Podgorica', '.me', '\/\/upload.wikimedia.org\/wikipedia\/commons\/6\/64\/Flag_of_Montenegro.svg')\n",
      "('Morocco', 'Africa', 446550, 33307500, 95992000000.0, 'Rabat', '.ma', '\/\/upload.wikimedia.org\/wikipedia\/commons\/2\/2c\/Flag_of_Morocco.svg')\n",
      "('Mozambique', 'Africa', 801590, 23700715, 14605000000.0, 'Maputo', '.mz', '\/\/upload.wikimedia.org\/wikipedia\/commons\/d\/d0\/Flag_of_Mozambique.svg')\n",
      "('Myanmar', 'Asia', 676578, 61120000, 59444000000.0, 'Naypyidaw', '.mm', '\/\/upload.wikimedia.org\/wikipedia\/commons\/8\/8c\/Flag_of_Myanmar.svg')\n",
      "('Namibia', 'Africa', 825615, 2113077, 12807000000.0, 'Windhoek', '.na', '\/\/upload.wikimedia.org\/wikipedia\/commons\/0\/00\/Flag_of_Namibia.svg')\n",
      "('Nauru', 'Oceania', 21, 9945, 121000000.0, 'Yaren District', '.nr', '\/\/upload.wikimedia.org\/wikipedia\/commons\/3\/30\/Flag_of_Nauru.svg')\n",
      "('Nepal', 'Asia', 147181, 26494504, 18029000000.0, 'Kathmandu', '.np', '\/\/upload.wikimedia.org\/wikipedia\/commons\/9\/9b\/Flag_of_Nepal.svg')\n",
      "('Netherlands', 'Europe', 41543, 16857500, 800535.0, 'Amsterdam', '.nl', '\/\/upload.wikimedia.org\/wikipedia\/commons\/2\/20\/Flag_of_the_Netherlands.svg')\n",
      "('New Zealand', 'Oceania', 270467, 4538520, 171256.0, 'Wellington', '.nz', '\/\/upload.wikimedia.org\/wikipedia\/commons\/3\/3e\/Flag_of_New_Zealand.svg')\n",
      "('Nicaragua', 'North America', 130373, 6071045, 10508000000.0, 'Managua', '.ni', '\/\/upload.wikimedia.org\/wikipedia\/commons\/1\/19\/Flag_of_Nicaragua.svg')\n",
      "('Niger', 'Africa', 1267000, 17138707, 6773000000.0, 'Niamey', '.ne', '\/\/upload.wikimedia.org\/wikipedia\/commons\/f\/f4\/Flag_of_Niger.svg')\n",
      "('Nigeria', 'Africa', 923768, 178517000, 28647.0, 'Abuja', '.ng', '\/\/upload.wikimedia.org\/wikipedia\/commons\/7\/79\/Flag_of_Nigeria.svg')\n",
      "('North Korea', 'Asia', 120538, 25027000, 14411000000.0, 'Pyongyang', '.kp', '\/\/upload.wikimedia.org\/wikipedia\/commons\/5\/51\/Flag_of_North_Korea.svg')\n",
      "('Norway', 'Europe', 323802, 5124383, 499667.0, 'Oslo', '.no', '\/\/upload.wikimedia.org\/wikipedia\/commons\/d\/d9\/Flag_of_Norway.svg')\n",
      "('Oman', 'Asia', 309500, 4020000, 78111000000.0, 'Muscat', '.om', '\/\/upload.wikimedia.org\/wikipedia\/commons\/d\/dd\/Flag_of_Oman.svg')\n",
      "('Pakistan', 'Asia', 881912, 188020000, 215117.0, 'Islamabad', '.pk', '\/\/upload.wikimedia.org\/wikipedia\/commons\/3\/32\/Flag_of_Pakistan.svg')\n",
      "('Palau', 'Oceania', 459, 20901, 213000000.0, 'Ngerulmud', '.pw', '\/\/upload.wikimedia.org\/wikipedia\/commons\/4\/48\/Flag_of_Palau.svg')\n",
      "('Panama', 'North America', 75417, 3405813, 36253000000.0, 'Panama City', '.pa', '\/\/upload.wikimedia.org\/wikipedia\/commons\/a\/ab\/Flag_of_Panama.svg')\n",
      "('Papua New Guinea', 'Oceania', 462840, 7398500, 15677000000.0, 'Port Moresby', '.pg', '\/\/upload.wikimedia.org\/wikipedia\/commons\/e\/e3\/Flag_of_Papua_New_Guinea.svg')\n",
      "('Paraguay', 'South America', 406752, 6783374, 25935000000.0, 'Asunción', '.py', '\/\/upload.wikimedia.org\/wikipedia\/commons\/2\/27\/Flag_of_Paraguay.svg')\n",
      "('Peru', 'South America', 1285216, 30475144, 204681.0, 'Lima', '.pe', '\/\/upload.wikimedia.org\/wikipedia\/commons\/c\/cf\/Flag_of_Peru.svg')\n",
      "('Philippines', 'Asia', 342353, 99804200, 250182.0, 'Manila', '.ph', '\/\/upload.wikimedia.org\/wikipedia\/commons\/9\/99\/Flag_of_the_Philippines.svg')\n",
      "('Poland', 'Europe', 312679, 38496000, 489852.0, 'Warsaw', '.pl', '\/\/upload.wikimedia.org\/wikipedia\/commons\/1\/12\/Flag_of_Poland.svg')\n",
      "('Portugal', 'Europe', 92090, 10477800, 212139.0, 'Lisbon', '.pt', '\/\/upload.wikimedia.org\/wikipedia\/commons\/5\/5c\/Flag_of_Portugal.svg')\n",
      "('Qatar', 'Asia', 11586, 2174035, 192402.0, 'Doha', '.qa', '\/\/upload.wikimedia.org\/wikipedia\/commons\/6\/65\/Flag_of_Qatar.svg')\n",
      "('Romania', 'Europe', 238391, 19942642, 169396.0, 'Bucharest', '.ro', '\/\/upload.wikimedia.org\/wikipedia\/commons\/7\/73\/Flag_of_Romania.svg')\n",
      "('Russia', 'Eurasia', 17125242, 146000000, 202981.0, 'Moscow', '.ru', '\/\/upload.wikimedia.org\/wikipedia\/commons\/f\/f3\/Flag_of_Russia.svg')\n",
      "('Rwanda', 'Africa', 26338, 10537222, 7103000000.0, 'Kigali', '.rw', '\/\/upload.wikimedia.org\/wikipedia\/commons\/1\/17\/Flag_of_Rwanda.svg')\n",
      "('Saint Kitts and Nevis', 'North America', 261, 55000, 765000000.0, 'Basseterre', '.kn', '\/\/upload.wikimedia.org\/wikipedia\/commons\/f\/fe\/Flag_of_Saint_Kitts_and_Nevis.svg')\n",
      "('Saint Lucia', 'Caribbean', 616, 180000, 1318000000.0, 'Castries', '.lc', '\/\/upload.wikimedia.org\/wikipedia\/commons\/9\/9f\/Flag_of_Saint_Lucia.svg')\n",
      "('Saint Vincent and the Grenadines', 'South America', 389, 109000, 694000000.0, 'Kingstown', '.vc', '\/\/upload.wikimedia.org\/wikipedia\/commons\/6\/6d\/Flag_of_Saint_Vincent_and_the_Grenadines.svg')\n",
      "('Samoa', 'Oceania', 2842, 187820, 681000000.0, 'Apia', '.ws', '\/\/upload.wikimedia.org\/wikipedia\/commons\/3\/31\/Flag_of_Samoa.svg')\n",
      "('San Marino', 'Europe', 61, 32637, 1853000000.0, 'San Marino', '.sm', '\/\/upload.wikimedia.org\/wikipedia\/commons\/b\/b1\/Flag_of_San_Marino.svg')\n",
      "('Sao Tomé and Príncipe', 'Africa', 964, 190428, 707000000.0, 'São Tomé', '.st', '\/\/upload.wikimedia.org\/wikipedia\/commons\/4\/4f\/Flag_of_Sao_Tome_and_Principe.svg')\n",
      "('Saudi Arabia', 'Asia', 2149690, 29994272, 71105.0, 'Riyadh', '.sa', '\/\/upload.wikimedia.org\/wikipedia\/commons\/0\/0d\/Flag_of_Saudi_Arabia.svg')\n",
      "('Senegal', 'Africa', 196722, 12873601, 13962000000.0, 'Dakar', '.sn', '\/\/upload.wikimedia.org\/wikipedia\/commons\/f\/fd\/Flag_of_Senegal.svg')\n",
      "('Serbia', 'Europe', 88361, 7181505, 38491000000.0, 'Belgrade', '.rs', '\/\/upload.wikimedia.org\/wikipedia\/commons\/6\/6d\/Flag_of_Serbia_%282004-2010%29.svg')\n",
      "('Seychelles', 'Africa', 452, 90945, 1031000000.0, 'Victoria', '.sc', '\/\/upload.wikimedia.org\/wikipedia\/commons\/f\/fc\/Flag_of_Seychelles.svg')\n",
      "('Sierra Leone', 'Africa', 71740, 6190280, 43366000000.0, 'Freetown', '.sl', '\/\/upload.wikimedia.org\/wikipedia\/commons\/1\/17\/Flag_of_Sierra_Leone.svg')\n",
      "('Singapore', 'Asia', 710, 5399200, 27652.0, 'Singapore', '.sg', '\/\/upload.wikimedia.org\/wikipedia\/commons\/4\/48\/Flag_of_Singapore.svg')\n",
      "('Slovakia', 'Europe', 49037, 5415949, 91349000000.0, 'Bratislava', '.sk', '\/\/upload.wikimedia.org\/wikipedia\/commons\/e\/e6\/Flag_of_Slovakia.svg')\n",
      "('Slovenia', 'Europe', 20273, 2063151, 45380000000.0, 'Ljubljana', '.si', '\/\/upload.wikimedia.org\/wikipedia\/commons\/f\/f0\/Flag_of_Slovenia.svg')\n",
      "('Solomon Islands', 'Oceania', 28896, 581344, 1010000000.0, 'Honiara', '.sb', '\/\/upload.wikimedia.org\/wikipedia\/commons\/7\/74\/Flag_of_the_Solomon_Islands.svg')\n",
      "('Somalia', 'Africa', 637657, 10806000, 1306000000.0, 'Mogadishu', '.so', '\/\/upload.wikimedia.org\/wikipedia\/commons\/a\/a0\/Flag_of_Somalia.svg')\n",
      "('South Africa', 'Africa', 1221037, 52981991, 384313.0, 'Pretoria', '.za', '\/\/upload.wikimedia.org\/wikipedia\/commons\/a\/af\/Flag_of_South_Africa.svg')\n",
      "('South Korea', 'Asia', 100210, 50423955, 11296.0, 'Seoul', '.kr', '\/\/upload.wikimedia.org\/wikipedia\/commons\/0\/09\/Flag_of_South_Korea.svg')\n",
      "('South Sudan', 'Africa', 619745, 11739000, 10060000000.0, 'Juba', '.ss', '\/\/upload.wikimedia.org\/wikipedia\/commons\/7\/7a\/Flag_of_South_Sudan.svg')\n",
      "('Spain', 'Europe', 505992, 46609700, 132213.0, 'Madrid', '.es', '\/\/upload.wikimedia.org\/wikipedia\/commons\/9\/9a\/Flag_of_Spain.svg')\n",
      "('Sri Lanka', 'Asia', 65610, 20277597, 59421000000.0, 'Sri Jayawardenepura Kotte', '.lk', '\/\/upload.wikimedia.org\/wikipedia\/commons\/1\/11\/Flag_of_Sri_Lanka.svg')\n",
      "('Sudan', 'Africa', 1886068, 37289406, 51453000000.0, 'Khartoum', '.sd', '\/\/upload.wikimedia.org\/wikipedia\/commons\/0\/01\/Flag_of_Sudan.svg')\n",
      "('Suriname', 'South America', 163820, 534189, 5012000000.0, 'Paramaribo', '.sr', '\/\/upload.wikimedia.org\/wikipedia\/commons\/6\/60\/Flag_of_Suriname.svg')\n",
      "('Swaziland', 'Africa', 17364, 1268000, 3861000000.0, 'Lobamba', '.sz', '\/\/upload.wikimedia.org\/wikipedia\/commons\/1\/1e\/Flag_of_Swaziland.svg')\n",
      "('Sweden', 'Europe', 450295, 9675885, 523804.0, 'Stockholm', '.se', '\/\/upload.wikimedia.org\/wikipedia\/commons\/4\/4c\/Flag_of_Sweden.svg')\n",
      "('Switzerland', 'Europe', 41284, 8160900, 631183.0, 'Bern', '.ch', '\/\/upload.wikimedia.org\/wikipedia\/commons\/f\/f3\/Flag_of_Switzerland.svg')\n",
      "('Syria', 'Asia', 185180, 21987000, 46540000000.0, 'Damascus', '.sy', '\/\/upload.wikimedia.org\/wikipedia\/commons\/5\/53\/Flag_of_Syria.svg')\n",
      "('Taiwan', 'Asia', 36193, 23386883, None, 'Taipei', '.tw', '\/\/upload.wikimedia.org\/wikipedia\/commons\/7\/72\/Flag_of_the_Republic_of_China.svg')\n",
      "('Tajikistan', 'Asia', 143100, 8160000, 7633000000.0, 'Dushanbe', '.tj', '\/\/upload.wikimedia.org\/wikipedia\/commons\/d\/d0\/Flag_of_Tajikistan.svg')\n",
      "('Tanzania', 'Africa', 945087, 44928923, 28249000000.0, 'Dodoma', '.tz', '\/\/upload.wikimedia.org\/wikipedia\/commons\/3\/38\/Flag_of_Tanzania.svg')\n",
      "('Thailand', 'Asia', 513120, 64456700, 385694.0, 'Bangkok', '.th', '\/\/upload.wikimedia.org\/wikipedia\/commons\/a\/a9\/Flag_of_Thailand.svg')\n",
      "('Timor-Leste', 'Asia', 14874, 1212107, 5387000000.0, 'Dili', '.tl', '\/\/upload.wikimedia.org\/wikipedia\/commons\/2\/26\/Flag_of_East_Timor.svg')\n",
      "('Togo', 'Africa', 56785, 6993000, 3917000000.0, 'Lomé', '.tg', '\/\/upload.wikimedia.org\/wikipedia\/commons\/9\/91\/Flag_of_Togo_%281958-1960%29.svg')\n",
      "('Tonga', 'Oceania', 747, 103036, 465000000.0, \"Nuku'alofa\", '.to', '\/\/upload.wikimedia.org\/wikipedia\/commons\/9\/9a\/Flag_of_Tonga.svg')\n",
      "('Trinidad and Tobago', 'Caribbean', 5130, 1328019, 23225000000.0, 'Port of Spain', '.tt', '\/\/upload.wikimedia.org\/wikipedia\/commons\/6\/64\/Flag_of_Trinidad_and_Tobago.svg')\n",
      "('Tunisia', 'Africa', 163610, 10886500, 45132000000.0, 'Tunis', '.tn', '\/\/upload.wikimedia.org\/wikipedia\/commons\/c\/ce\/Flag_of_Tunisia.svg')\n",
      "('Turkey', 'Asia', 783562, 76667864, 788299.0, 'Ankara', '.tr', '\/\/upload.wikimedia.org\/wikipedia\/commons\/b\/b4\/Flag_of_Turkey.svg')\n",
      "('Turkmenistan', 'Asia', 488100, 5307000, 33466000000.0, 'Aşgabat', '.tm', '\/\/upload.wikimedia.org\/wikipedia\/commons\/1\/1b\/Flag_of_Turkmenistan.svg')\n",
      "('Tuvalu', 'Oceania', 26, 11323, 40000000.0, 'Funafuti', '.tv', '\/\/upload.wikimedia.org\/wikipedia\/commons\/3\/38\/Flag_of_Tuvalu.svg')\n",
      "('Uganda', 'Africa', 241550, 35357000, 21736000000.0, 'Kampala', '.ug', '\/\/upload.wikimedia.org\/wikipedia\/commons\/4\/4e\/Flag_of_Uganda.svg')\n",
      "('Ukraine', 'Europe', 603500, 43009258, 176309.0, 'Kiev', '.ua', '\/\/upload.wikimedia.org\/wikipedia\/commons\/4\/49\/Flag_of_Ukraine.svg')\n",
      "('United Arab Emirates', 'Asia', 83600, 9446000, 383799.0, 'Abu Dhabi', '.ae', '\/\/upload.wikimedia.org\/wikipedia\/commons\/c\/cb\/Flag_of_the_United_Arab_Emirates.svg')\n",
      "('United Kingdom', 'Europe', 242900, 64105700, 24716.0, 'London', '.uk', '\/\/upload.wikimedia.org\/wikipedia\/commons\/a\/ae\/Flag_of_the_United_Kingdom.svg')\n",
      "('United States', 'North America', 9826675, 318320000, 162446.0, 'Washington, D.C.', '.us', '\/\/upload.wikimedia.org\/wikipedia\/commons\/a\/a4\/Flag_of_the_United_States.svg')\n",
      "('Uruguay', 'South America', 181034, 3286314, 49919000000.0, 'Montevideo', '.uy', '\/\/upload.wikimedia.org\/wikipedia\/commons\/f\/fe\/Flag_of_Uruguay.svg')\n",
      "('Uzbekistan', 'Asia', 447400, 30492800, 51414000000.0, 'Tashkent', '.uz', '\/\/upload.wikimedia.org\/wikipedia\/commons\/8\/84\/Flag_of_Uzbekistan.svg')\n",
      "('Vanuatu', 'Oceania', 12189, 264652, 752000000.0, 'Port Vila', '.vu', '\/\/upload.wikimedia.org\/wikipedia\/commons\/b\/bc\/Flag_of_Vanuatu.svg')\n",
      "('Vatican City', 'Europe', 0, 839, None, '', '.va', '\/\/upload.wikimedia.org\/wikipedia\/commons\/0\/00\/Flag_of_the_Vatican_City.svg')\n",
      "('Venezuela', 'South America', 916445, 28946101, 382424.0, 'Caracas', '.ve', '\/\/upload.wikimedia.org\/wikipedia\/commons\/0\/06\/Flag_of_Venezuela.svg')\n",
      "('Vietnam', 'Asia', 331212, 89708900, 15582.0, 'Hanoi', '.vn', '\/\/upload.wikimedia.org\/wikipedia\/commons\/2\/21\/Flag_of_Vietnam.svg')\n",
      "('Yemen', 'Asia', 527968, 25235000, 32831000000.0, 'Sana‘a', '.ye', '\/\/upload.wikimedia.org\/wikipedia\/commons\/8\/89\/Flag_of_Yemen.svg')\n",
      "('Zambia', 'Africa', 752612, 15023315, 21490000000.0, 'Lusaka', '.zm', '\/\/upload.wikimedia.org\/wikipedia\/commons\/0\/06\/Flag_of_Zambia.svg')\n",
      "('Zimbabwe', 'Africa', 390757, 13061239, 9802000000.0, 'Harare', '.zw', '\/\/upload.wikimedia.org\/wikipedia\/commons\/6\/6a\/Flag_of_Zimbabwe.svg')\n"
     ],
     "output_type":"stream"
    }
   ],
   "metadata":{
    "datalore":{
     "node_id":"yfcjf0Fca4DvDrcp9wIkz9",
     "type":"CODE",
     "hide_input_from_viewers":true,
     "hide_output_from_viewers":true
    }
   }
  },
  {
   "cell_type":"markdown",
   "source":[
    "# 🦭 Pripojenie sa na Maria DB\n",
    "Inštalátor: https:\/\/mariadb.org\/download\/?t=mariadb&p=mariadb&r=11.2.2&os=windows&cpu=x86_64&pkg=msi&m=gigenet   \n",
    "Porty: 3306  \n",
    "User: root    \n",
    "Heslo: vase    "
   ],
   "attachments":{
    
   },
   "metadata":{
    "datalore":{
     "node_id":"0sKUwGYcObZyUiRFdFSaPJ",
     "type":"MD",
     "hide_input_from_viewers":true,
     "hide_output_from_viewers":true
    }
   }
  },
  {
   "cell_type":"markdown",
   "source":[
    "# ☁️ Pripojenie sa na Oracle DB\n",
    "Inštalátor: https:\/\/www.oracle.com\/database\/technologies\/appdev\/xe.html  \n",
    "Porty: 1521  \n",
    "SID: xe  "
   ],
   "attachments":{
    
   },
   "metadata":{
    "datalore":{
     "node_id":"axQf7H7bJmqZoBYDphNpmp",
     "type":"MD",
     "hide_input_from_viewers":true,
     "hide_output_from_viewers":true
    }
   }
  },
  {
   "cell_type":"code",
   "source":[
    " "
   ],
   "execution_count":null,
   "outputs":[
    
   ],
   "metadata":{
    "datalore":{
     "node_id":"zBmz2XrVycx90ce6M4QCMQ",
     "type":"CODE",
     "hide_input_from_viewers":true,
     "hide_output_from_viewers":true
    }
   }
  },
  {
   "cell_type":"code",
   "source":[
    "!pip install cx_Oracle"
   ],
   "execution_count":23,
   "outputs":[
    {
     "name":"stdout",
     "text":[
      "Collecting cx_Oracle\r\n",
      "  Downloading cx_Oracle-8.3.0-cp38-cp38-manylinux_2_5_x86_64.manylinux1_x86_64.manylinux_2_12_x86_64.manylinux2010_x86_64.whl (891 kB)\r\n",
      "\u001b[?25l     \u001b[90m━━━━━━━━━━━━━━━━━━━━━━━━━━━━━━━━━━━━━━━━\u001b[0m \u001b[32m0.0\/891.5 kB\u001b[0m \u001b[31m?\u001b[0m eta \u001b[36m-:--:--\u001b[0m\r\u001b[2K     \u001b[90m━━━━━━━━━━━━━━━━━━━━━━━━━━━━━━━━━━━━━━\u001b[0m \u001b[32m891.5\/891.5 kB\u001b[0m \u001b[31m42.6 MB\/s\u001b[0m eta \u001b[36m0:00:00\u001b[0m\r\n",
      "\u001b[?25hInstalling collected packages: cx_Oracle\r\n",
      "Successfully installed cx_Oracle-8.3.0\r\n",
      "\r\n",
      "\u001b[1m[\u001b[0m\u001b[34;49mnotice\u001b[0m\u001b[1;39;49m]\u001b[0m\u001b[39;49m A new release of pip is available: \u001b[0m\u001b[31;49m23.1.2\u001b[0m\u001b[39;49m -> \u001b[0m\u001b[32;49m23.3.1\u001b[0m\r\n",
      "\u001b[1m[\u001b[0m\u001b[34;49mnotice\u001b[0m\u001b[1;39;49m]\u001b[0m\u001b[39;49m To update, run: \u001b[0m\u001b[32;49mpip install --upgrade pip\u001b[0m\r\n"
     ],
     "output_type":"stream"
    }
   ],
   "metadata":{
    "datalore":{
     "node_id":"UVeW0FfhXmdfMdNuZ2196W",
     "type":"CODE",
     "hide_input_from_viewers":true,
     "hide_output_from_viewers":true
    }
   }
  },
  {
   "cell_type":"markdown",
   "source":[
    "# 🪟 Pripojenie sa na Microsoft Access (pyodbc)\n",
    "Inštalátor: https:\/\/www.microsoft.com\/en-us\/microsoft-365\/access   \n",
    "Microsoft Access 2016 Runtime: https:\/\/www.microsoft.com\/en-us\/download\/confirmation.aspx?id=50040  \n",
    "\n",
    "- Linuxom chýba ODBC driver manage\n",
    "- Treba doinštalovať UnixODBC\n",
    "    - Debian\/Ubuntu: sudo apt-get install unixodbc unixodbc-dev\n",
    "    - Red Hat\/CentOS\/Fedora: sudo yum install unixODBC unixODBC-devel"
   ],
   "attachments":{
    
   },
   "metadata":{
    "datalore":{
     "node_id":"HvuyelWtkK3gWKxUnMlP0n",
     "type":"MD",
     "hide_input_from_viewers":true,
     "hide_output_from_viewers":true
    }
   }
  },
  {
   "cell_type":"code",
   "source":[
    " "
   ],
   "execution_count":null,
   "outputs":[
    
   ],
   "metadata":{
    "datalore":{
     "node_id":"yXAjPyci7ugf2DaQUhodp6",
     "type":"CODE",
     "hide_input_from_viewers":true,
     "hide_output_from_viewers":true
    }
   }
  },
  {
   "cell_type":"markdown",
   "source":[
    "# Kurzory"
   ],
   "attachments":{
    
   },
   "metadata":{
    "datalore":{
     "node_id":"Kurzory",
     "type":"MD",
     "hide_input_from_viewers":false,
     "hide_output_from_viewers":false,
     "sheet_delimiter":true
    }
   }
  },
  {
   "cell_type":"markdown",
   "source":[
    "# 🖱️ Kurzory (Cursors)\n",
    "- Nástroje používane pri práci s databázami \n",
    "- Kurzor v kontexte databázovej práce je v podstate ukazovateľ, ktorý umožňuje programátorovi vykonávať operácie na dátach v databáze, ako sú čítanie, aktualizácia, vkladanie alebo mazanie záznamov\n",
    "- Pri používaní Pythonu na prácu s databázami, ako sú napríklad SQLite, MySQL, PostgreSQL, alebo iné, programátori najprv vytvoria spojenie s databázou pomocou vhodného databázového adaptéra \n",
    "- Po vytvorení spojenia s databázou môžu pomocou metódy cursor() vytvoriť kurzor \n",
    "- Tento kurzor potom môžu používať na vykonávanie SQL príkazov"
   ],
   "attachments":{
    
   },
   "metadata":{
    "datalore":{
     "node_id":"i9pXJ3y3KARScCt7007b58",
     "type":"MD",
     "hide_input_from_viewers":true,
     "hide_output_from_viewers":true
    }
   }
  },
  {
   "cell_type":"code",
   "source":[
    " "
   ],
   "execution_count":16,
   "outputs":[
    {
     "name":"stdout",
     "text":[
      "(7369, 'SMITH', 'CLERK', 7902, datetime.date(1980, 12, 17), 800, None, 20)\n",
      "(7499, 'ALLEN', 'SALESMAN', 7698, datetime.date(1981, 2, 20), 1600, 300, 30)\n",
      "(7521, 'WARD', 'SALESMAN', 7698, datetime.date(1981, 2, 22), 1250, 500, 30)\n",
      "(7566, 'JONES', 'MANAGER', 7839, datetime.date(1981, 4, 2), 2975, None, 20)\n",
      "(7654, 'MARTIN', 'SALESMAN', 7698, datetime.date(1981, 9, 28), 1250, 1400, 30)\n",
      "(7698, 'BLAKE', 'MANAGER', 7839, datetime.date(1981, 5, 1), 2850, None, 30)\n",
      "(7782, 'CLARK', 'MANAGER', 7839, datetime.date(1981, 6, 9), 2450, None, 10)\n",
      "(7788, 'SCOTT', 'ANALYST', 7566, datetime.date(1982, 12, 9), 3000, None, 20)\n",
      "(7839, 'KING', 'PRESIDENT', None, datetime.date(1981, 11, 17), 5000, None, 10)\n",
      "(7844, 'TURNER', 'SALESMAN', 7698, datetime.date(1981, 9, 8), 1500, 0, 30)\n",
      "(7876, 'ADAMS', 'CLERK', 7788, datetime.date(1983, 1, 12), 1100, None, 20)\n",
      "(7900, 'JAMES', 'CLERK', 7698, datetime.date(1981, 12, 3), 950, None, 30)\n",
      "(7902, 'FORD', 'ANALYST', 7566, datetime.date(1981, 12, 3), 3000, None, 20)\n",
      "(7934, 'MILLER', 'CLERK', 7782, datetime.date(1982, 1, 23), 1300, None, 10)\n"
     ],
     "output_type":"stream"
    }
   ],
   "metadata":{
    "datalore":{
     "node_id":"q9q2Z2lTWj3O7lLb6acV4u",
     "type":"CODE",
     "hide_input_from_viewers":true,
     "hide_output_from_viewers":true
    }
   }
  },
  {
   "cell_type":"markdown",
   "source":[
    "## Typy DB Kurzorov\n",
    "**1. Statický kurzor (Static Cursor):**  \n",
    "    - Vracia snímku výsledkov SQL dopytu.  \n",
    "    - Neodráža zmeny v databáze po jeho vytvorení.  \n",
    "    - Je vhodný pre operácie, kde nie sú potrebné aktualizácie dát.  \n",
    "  \n",
    "**2. Dynamický kurzor (Dynamic Cursor):**  \n",
    "    - Reflektuje všetky zmeny v databáze v reálnom čase.  \n",
    "    - Je vhodný pre situácie, kde je potrebné vidieť aktuálne zmeny v databáze.  \n",
    "   \n",
    "**3. Kľúčový súborový kurzor (Keyset-driven Cursor):**  \n",
    "    - Uchováva kľúče (identifikátory) riadkov, ktoré sú výsledkom dopytu.  \n",
    "    - Reflektuje niektoré, ale nie všetky zmeny v databáze (napríklad nevidí novovzniknuté riadky).  \n",
    "\n",
    "**4.  Rýchly prechodný kurzor (Fast Forward-Only Cursor):**  \n",
    "    -  Umožňuje len prechádzanie dátami dopredu.  \n",
    "    -  Je optimalizovaný pre rýchle čítanie dát bez potreby návratu alebo aktualizácie.  \n",
    "\n",
    "**5.  Posuvný kurzor (Scrollable Cursor):**  \n",
    "     - Umožňuje prechádzanie dátami vpred aj vzad.  \n",
    "     - Užitočný pri aplikáciách, kde je potrebné návratné prechádzanie dát. "
   ],
   "attachments":{
    
   },
   "metadata":{
    "datalore":{
     "node_id":"KrRAwuClbdRGKSJnJPd4Co",
     "type":"MD",
     "hide_input_from_viewers":true,
     "hide_output_from_viewers":true
    }
   }
  },
  {
   "cell_type":"markdown",
   "source":[
    "# 💁 Fetching (Načítanie\/Získanie Výsledkov z DB)\n",
    "Metódy **fetchone**, **fetchall** a **fetchmany** určené na načítanie výsledkov z dotazu na databázu. Tu je prehľad ich funkcií a rozdielov:\n",
    "\n",
    "**1. fetchone:**  \n",
    "\n",
    "**Funkcia:** Táto metóda načíta nasledujúci riadok výsledkového setu z posledného vykonaného dotazu a vráti jediný riadok. Ak už nie sú žiadne ďalšie riadky, vráti None.  \n",
    "  \n",
    "**Použitie:** Ideálna, keď očakávate iba jeden riadok ako výsledok, alebo keď chcete spracovať riadky postupne (napr. z dôvodu obmedzenej pamäte).  \n",
    "\n",
    "**2. fetchall:**\n",
    "\n",
    "**Funkcia:** Načíta všetky zostávajúce riadky z výsledkového setu a vráti ich ako zoznam. Ak už nie sú žiadne riadky, vráti prázdny   zoznam.  \n",
    "\n",
    "**Použitie:** Vhodná pri dotazoch, kde očakávate malý počet výsledkov, alebo keď potrebujete naraz spracovať všetky výsledky.  \n",
    "\n",
    "**3. fetchmany(size=?):** \n",
    "\n",
    "**Funkcia:** Načíta určený počet riadkov (definovaný parametrom size) z výsledkového setu. Ak už nie sú dostupné žiadne ďalšie riadky, vráti menej ako size riadkov.  \n",
    "\n",
    "**Použitie:** Táto metóda je užitočná, keď potrebujete načítať výsledky v dávkach, čo môže byť efektívne z hľadiska pamäte pri spracovaní veľkých množstiev dát.\n",
    "Výber správnej metódy závisí od vašich potrieb a od toho, ako plánujete spracovávať výsledky dotazu. Napríklad, fetchone je užitočná pri sekvenčnom spracovaní riadkov, zatiaľ čo fetchall je pohodlná, keď chcete naraz získať všetky výsledky a fetchmany umožňuje efektívnejšie spracovanie pri práci s veľkými dátovými setmi."
   ],
   "attachments":{
    
   },
   "metadata":{
    "datalore":{
     "node_id":"GIwOOKNbT6s9g6Kgn5DJF1",
     "type":"MD",
     "hide_input_from_viewers":true,
     "hide_output_from_viewers":true
    }
   }
  },
  {
   "cell_type":"code",
   "source":[
    " "
   ],
   "execution_count":22,
   "outputs":[
    {
     "name":"stdout",
     "text":[
      "Vysledok: (7369, 'SMITH', 'CLERK', 7902, '1980-12-17', 800, None, 20)\n",
      "Vysledok 2: ((7369, 'SMITH', 'CLERK', 7902, '1980-12-17', 800, None, 20), (7499, 'ALLEN', 'SALESMAN', 7698, '1981-02-20', 1600, 300, 30), (7521, 'WARD', 'SALESMAN', 7698, '1981-02-22', 1250, 500, 30), (7566, 'JONES', 'MANAGER', 7839, '1981-04-02', 2975, None, 20), (7654, 'MARTIN', 'SALESMAN', 7698, '1981-09-28', 1250, 1400, 30), (7698, 'BLAKE', 'MANAGER', 7839, '1981-05-01', 2850, None, 30), (7782, 'CLARK', 'MANAGER', 7839, '1981-06-09', 2450, None, 10), (7788, 'SCOTT', 'ANALYST', 7566, '1982-12-09', 3000, None, 20), (7839, 'KING', 'PRESIDENT', None, '1981-11-17', 5000, None, 10), (7844, 'TURNER', 'SALESMAN', 7698, '1981-09-08', 1500, 0, 30), (7876, 'ADAMS', 'CLERK', 7788, '1983-01-12', 1100, None, 20), (7900, 'JAMES', 'CLERK', 7698, '1981-12-03', 950, None, 30), (7902, 'FORD', 'ANALYST', 7566, '1981-12-03', 3000, None, 20), (7934, 'MILLER', 'CLERK', 7782, '1982-01-23', 1300, None, 10), (7369, 'SMITH', 'CLERK', 7902, '17.12.1980', 800, None, 20), (7499, 'ALLEN', 'SALESMAN', 7698, '20.2.1981', 1600, 300, 30), (7521, 'WARD', 'SALESMAN', 7698, '22.2.1981', 1250, 500, 30), (7566, 'JONES', 'MANAGER', 7839, '2.4.1981', 2975, None, 20), (7654, 'MARTIN', 'SALESMAN', 7698, '28.9.1981', 1250, 1400, 30), (7698, 'BLAKE', 'MANAGER', 7839, '1.5.1981', 2850, None, 30), (7782, 'CLARK', 'MANAGER', 7839, '9.6.1981', 2450, None, 10), (7788, 'SCOTT', 'ANALYST', 7566, '9.12.1982', 3000, None, 20), (7839, 'KING', 'PRESIDENT', None, '17.11.1981', 5000, None, 10), (7844, 'TURNER', 'SALESMAN', 7698, '8.9.1981', 1500, 0, 30), (7876, 'ADAMS', 'CLERK', 7788, '12.1.1983', 1100, None, 20), (7900, 'JAMES', 'CLERK', 7698, '3.12.1981', 950, None, 30), (7902, 'FORD', 'ANALYST', 7566, '3.12.1981', 3000, None, 20), (7934, 'MILLER', 'CLERK', 7782, '23.1.1982', 1300, None, 10))\n",
      "Vysledok 3: ((7369, 'SMITH', 'CLERK', 7902, '1980-12-17', 800, None, 20), (7499, 'ALLEN', 'SALESMAN', 7698, '1981-02-20', 1600, 300, 30), (7521, 'WARD', 'SALESMAN', 7698, '1981-02-22', 1250, 500, 30))\n",
      "Vysledok 4: (('SMITH', 'CLERK', 800), ('ALLEN', 'SALESMAN', 1600), ('WARD', 'SALESMAN', 1250), ('JONES', 'MANAGER', 2975), ('MARTIN', 'SALESMAN', 1250), ('BLAKE', 'MANAGER', 2850), ('CLARK', 'MANAGER', 2450), ('SCOTT', 'ANALYST', 3000), ('KING', 'PRESIDENT', 5000), ('TURNER', 'SALESMAN', 1500), ('ADAMS', 'CLERK', 1100), ('JAMES', 'CLERK', 950), ('FORD', 'ANALYST', 3000), ('MILLER', 'CLERK', 1300), ('SMITH', 'CLERK', 800), ('ALLEN', 'SALESMAN', 1600), ('WARD', 'SALESMAN', 1250), ('JONES', 'MANAGER', 2975), ('MARTIN', 'SALESMAN', 1250), ('BLAKE', 'MANAGER', 2850), ('CLARK', 'MANAGER', 2450), ('SCOTT', 'ANALYST', 3000), ('KING', 'PRESIDENT', 5000), ('TURNER', 'SALESMAN', 1500), ('ADAMS', 'CLERK', 1100), ('JAMES', 'CLERK', 950), ('FORD', 'ANALYST', 3000), ('MILLER', 'CLERK', 1300))\n",
      "Vysledok 5: (('SMITH', 'CLERK', 800), ('JONES', 'MANAGER', 2975), ('SCOTT', 'ANALYST', 3000), ('ADAMS', 'CLERK', 1100), ('FORD', 'ANALYST', 3000), ('SMITH', 'CLERK', 800), ('JONES', 'MANAGER', 2975), ('SCOTT', 'ANALYST', 3000), ('ADAMS', 'CLERK', 1100), ('FORD', 'ANALYST', 3000))\n"
     ],
     "output_type":"stream"
    }
   ],
   "metadata":{
    "datalore":{
     "node_id":"5Ai5n2NXLpEWz4tXRmzWK9",
     "type":"CODE",
     "hide_input_from_viewers":true,
     "hide_output_from_viewers":true
    }
   }
  },
  {
   "cell_type":"markdown",
   "source":[
    "# DB a Pandas"
   ],
   "attachments":{
    
   },
   "metadata":{
    "datalore":{
     "node_id":"DB a Pandas",
     "type":"MD",
     "hide_input_from_viewers":false,
     "hide_output_from_viewers":false,
     "sheet_delimiter":true
    }
   }
  },
  {
   "cell_type":"markdown",
   "source":[
    "# 🐼 Pandas (Python Data Analysis Library)\n",
    "Knižnica programovacieho jazyka Python, ktorá sa používa pre prácu s dátami. Je špeciálne navrhnutá na manipuláciu a analýzu dátových štruktúr. Pandas je veľmi populárna knižnica v oblasti analýzy dát a vede o dátach v Python, pretože veľmi zjednodušuje proces spracovania a analýzy dát.\n",
    "Hlavné dátové štruktúry v Pandas sú:\n",
    "1. **DataFrame**: Je to **tabuľková dátová štruktúra**, ktorá obsahuje riadky a stĺpce. Každý stĺpec môže mať rôzny dátový typ (napríklad čísla, reťazce, dátumy). DataFrame je **vhodný** na reprezentáciu skutočných dát ako sú **tabuľky v Exceli** alebo **SQL tabuľky**.\n",
    "2. **Series**: Je **jednorozmerná dátová štruktúra** v Pandas. Môžete si ju predstaviť ako **jeden stĺpec dát z DataFrame**.\n",
    "\n",
    "Pandas ponúka rôzne funkcie pre čítanie, zapisovanie a manipuláciu s dátami:\n",
    "1. Čítanie dát: Pandas podporuje čítanie rôznych formátov dát ako CSV, Excel, JSON a SQL databázy.\n",
    "2. Základné manipulácie: Zmena hodnôt, pridávanie a mazanie stĺpcov a riadkov, filtrovanie dát a pod.\n",
    "3. Zlučovanie a spojovanie: Pandas umožňuje zlučovať dáta z rôznych zdrojov.\n",
    "4. Skupinové operácie: Ako súčet, priemer, maximálna hodnota pre skupiny dát.\n",
    "5. Časové rady: Špeciálne funkcie pre prácu s časovými radmi."
   ],
   "attachments":{
    
   },
   "metadata":{
    "datalore":{
     "node_id":"zIMnCP412DGL1TL7Sy2wMC",
     "type":"MD",
     "hide_input_from_viewers":true,
     "hide_output_from_viewers":true
    }
   }
  },
  {
   "cell_type":"markdown",
   "source":[
    "## Jednoduchý Pandas DataFrame"
   ],
   "attachments":{
    
   },
   "metadata":{
    "datalore":{
     "node_id":"jcX9uO1ShTMHMLhXeYWUP2",
     "type":"MD",
     "hide_input_from_viewers":true,
     "hide_output_from_viewers":true
    }
   }
  },
  {
   "cell_type":"code",
   "source":[
    " "
   ],
   "execution_count":31,
   "outputs":[
    {
     "name":"stdout",
     "text":[
      "    Meno  Vek       Mesto     Mzda Dátum narodenia\n",
      "0   Anna   28  Bratislava  1500.50      1994-02-14\n",
      "1  Peter   34      Košice  1200.00      1988-05-23\n",
      "2  Lucia   29      Žilina  2250.75      1993-08-31\n"
     ],
     "output_type":"stream"
    },
    {
     "data":{
      "text\/html":[
       "<div>\n",
       "<style scoped>\n",
       "    .dataframe tbody tr th:only-of-type {\n",
       "        vertical-align: middle;\n",
       "    }\n",
       "\n",
       "    .dataframe tbody tr th {\n",
       "        vertical-align: top;\n",
       "    }\n",
       "\n",
       "    .dataframe thead th {\n",
       "        text-align: right;\n",
       "    }\n",
       "<\/style>\n",
       "<table border=\"1\" class=\"dataframe\">\n",
       "  <thead>\n",
       "    <tr style=\"text-align: right;\">\n",
       "      <th><\/th>\n",
       "      <th>Meno<\/th>\n",
       "      <th>Vek<\/th>\n",
       "      <th>Mesto<\/th>\n",
       "      <th>Mzda<\/th>\n",
       "      <th>Dátum narodenia<\/th>\n",
       "    <\/tr>\n",
       "  <\/thead>\n",
       "  <tbody>\n",
       "    <tr>\n",
       "      <th>0<\/th>\n",
       "      <td>Anna<\/td>\n",
       "      <td>28<\/td>\n",
       "      <td>Bratislava<\/td>\n",
       "      <td>1500.50<\/td>\n",
       "      <td>1994-02-14<\/td>\n",
       "    <\/tr>\n",
       "    <tr>\n",
       "      <th>1<\/th>\n",
       "      <td>Peter<\/td>\n",
       "      <td>34<\/td>\n",
       "      <td>Košice<\/td>\n",
       "      <td>1200.00<\/td>\n",
       "      <td>1988-05-23<\/td>\n",
       "    <\/tr>\n",
       "    <tr>\n",
       "      <th>2<\/th>\n",
       "      <td>Lucia<\/td>\n",
       "      <td>29<\/td>\n",
       "      <td>Žilina<\/td>\n",
       "      <td>2250.75<\/td>\n",
       "      <td>1993-08-31<\/td>\n",
       "    <\/tr>\n",
       "  <\/tbody>\n",
       "<\/table>\n",
       "<\/div>"
      ]
     },
     "metadata":{
      
     },
     "output_type":"display_data"
    }
   ],
   "metadata":{
    "datalore":{
     "node_id":"TNeFaL8OngXKKx71X4ZSVI",
     "type":"CODE",
     "hide_input_from_viewers":true,
     "hide_output_from_viewers":true
    }
   }
  },
  {
   "cell_type":"markdown",
   "source":[
    "## Pandas DataFrame s indexami"
   ],
   "attachments":{
    
   },
   "metadata":{
    "datalore":{
     "node_id":"xI2wSfWX4s5XQ9CTmZtjzI",
     "type":"MD",
     "hide_input_from_viewers":true,
     "hide_output_from_viewers":true
    }
   }
  },
  {
   "cell_type":"code",
   "source":[
    " "
   ],
   "execution_count":32,
   "outputs":[
    {
     "name":"stdout",
     "text":[
      "    Meno  Vek       Mesto     Mzda Dátum narodenia\n",
      "a   Anna   28  Bratislava  1500.50      1994-02-14\n",
      "b  Peter   34      Košice  1200.00      1988-05-23\n",
      "c  Lucia   29      Žilina  2250.75      1993-08-31\n"
     ],
     "output_type":"stream"
    },
    {
     "data":{
      "text\/html":[
       "<div>\n",
       "<style scoped>\n",
       "    .dataframe tbody tr th:only-of-type {\n",
       "        vertical-align: middle;\n",
       "    }\n",
       "\n",
       "    .dataframe tbody tr th {\n",
       "        vertical-align: top;\n",
       "    }\n",
       "\n",
       "    .dataframe thead th {\n",
       "        text-align: right;\n",
       "    }\n",
       "<\/style>\n",
       "<table border=\"1\" class=\"dataframe\">\n",
       "  <thead>\n",
       "    <tr style=\"text-align: right;\">\n",
       "      <th><\/th>\n",
       "      <th>Meno<\/th>\n",
       "      <th>Vek<\/th>\n",
       "      <th>Mesto<\/th>\n",
       "      <th>Mzda<\/th>\n",
       "      <th>Dátum narodenia<\/th>\n",
       "    <\/tr>\n",
       "  <\/thead>\n",
       "  <tbody>\n",
       "    <tr>\n",
       "      <th>a<\/th>\n",
       "      <td>Anna<\/td>\n",
       "      <td>28<\/td>\n",
       "      <td>Bratislava<\/td>\n",
       "      <td>1500.50<\/td>\n",
       "      <td>1994-02-14<\/td>\n",
       "    <\/tr>\n",
       "    <tr>\n",
       "      <th>b<\/th>\n",
       "      <td>Peter<\/td>\n",
       "      <td>34<\/td>\n",
       "      <td>Košice<\/td>\n",
       "      <td>1200.00<\/td>\n",
       "      <td>1988-05-23<\/td>\n",
       "    <\/tr>\n",
       "    <tr>\n",
       "      <th>c<\/th>\n",
       "      <td>Lucia<\/td>\n",
       "      <td>29<\/td>\n",
       "      <td>Žilina<\/td>\n",
       "      <td>2250.75<\/td>\n",
       "      <td>1993-08-31<\/td>\n",
       "    <\/tr>\n",
       "  <\/tbody>\n",
       "<\/table>\n",
       "<\/div>"
      ]
     },
     "metadata":{
      
     },
     "output_type":"display_data"
    }
   ],
   "metadata":{
    "datalore":{
     "node_id":"YoKchzAbajmsNN910p6qrl",
     "type":"CODE",
     "hide_input_from_viewers":true,
     "hide_output_from_viewers":true
    }
   }
  },
  {
   "cell_type":"markdown",
   "source":[
    "## Pandas DataFrame z CSV Datasetu"
   ],
   "attachments":{
    
   },
   "metadata":{
    "datalore":{
     "node_id":"NwGcMjoAZ98AedWwAGgz2L",
     "type":"MD",
     "hide_input_from_viewers":true,
     "hide_output_from_viewers":true
    }
   }
  },
  {
   "cell_type":"code",
   "source":[
    " "
   ],
   "execution_count":33,
   "outputs":[
    {
     "name":"stdout",
     "text":[
      "                       Email Last Name            Country  Id First Name  \\\n",
      "0            Kaya@marcos.net    Ernser  Equatorial Guinea   0     Camden   \n",
      "1       Yasmeen@patricia.com   Bernier            Burundi   1        Jay   \n",
      "2  Lowell.Zboncak@shakira.tv   Abshire           Cambodia   2      Price   \n",
      "3         Kenton@maryam.name   Cormier            Uruguay   3     Norene   \n",
      "4     Elsie.Frami@leonel.net   Johnson         San Marino   4      Macey   \n",
      "\n",
      "    Created At  \n",
      "0   6. 6. 2006  \n",
      "1  15. 6. 1984  \n",
      "2   2. 2. 2006  \n",
      "3  3. 11. 1991  \n",
      "4  31. 3. 2009  \n"
     ],
     "output_type":"stream"
    },
    {
     "data":{
      "text\/html":[
       "<div>\n",
       "<style scoped>\n",
       "    .dataframe tbody tr th:only-of-type {\n",
       "        vertical-align: middle;\n",
       "    }\n",
       "\n",
       "    .dataframe tbody tr th {\n",
       "        vertical-align: top;\n",
       "    }\n",
       "\n",
       "    .dataframe thead th {\n",
       "        text-align: right;\n",
       "    }\n",
       "<\/style>\n",
       "<table border=\"1\" class=\"dataframe\">\n",
       "  <thead>\n",
       "    <tr style=\"text-align: right;\">\n",
       "      <th><\/th>\n",
       "      <th>Email<\/th>\n",
       "      <th>Last Name<\/th>\n",
       "      <th>Country<\/th>\n",
       "      <th>Id<\/th>\n",
       "      <th>First Name<\/th>\n",
       "      <th>Created At<\/th>\n",
       "    <\/tr>\n",
       "  <\/thead>\n",
       "  <tbody>\n",
       "    <tr>\n",
       "      <th>0<\/th>\n",
       "      <td>Kaya@marcos.net<\/td>\n",
       "      <td>Ernser<\/td>\n",
       "      <td>Equatorial Guinea<\/td>\n",
       "      <td>0<\/td>\n",
       "      <td>Camden<\/td>\n",
       "      <td>6. 6. 2006<\/td>\n",
       "    <\/tr>\n",
       "    <tr>\n",
       "      <th>1<\/th>\n",
       "      <td>Yasmeen@patricia.com<\/td>\n",
       "      <td>Bernier<\/td>\n",
       "      <td>Burundi<\/td>\n",
       "      <td>1<\/td>\n",
       "      <td>Jay<\/td>\n",
       "      <td>15. 6. 1984<\/td>\n",
       "    <\/tr>\n",
       "    <tr>\n",
       "      <th>2<\/th>\n",
       "      <td>Lowell.Zboncak@shakira.tv<\/td>\n",
       "      <td>Abshire<\/td>\n",
       "      <td>Cambodia<\/td>\n",
       "      <td>2<\/td>\n",
       "      <td>Price<\/td>\n",
       "      <td>2. 2. 2006<\/td>\n",
       "    <\/tr>\n",
       "    <tr>\n",
       "      <th>3<\/th>\n",
       "      <td>Kenton@maryam.name<\/td>\n",
       "      <td>Cormier<\/td>\n",
       "      <td>Uruguay<\/td>\n",
       "      <td>3<\/td>\n",
       "      <td>Norene<\/td>\n",
       "      <td>3. 11. 1991<\/td>\n",
       "    <\/tr>\n",
       "    <tr>\n",
       "      <th>4<\/th>\n",
       "      <td>Elsie.Frami@leonel.net<\/td>\n",
       "      <td>Johnson<\/td>\n",
       "      <td>San Marino<\/td>\n",
       "      <td>4<\/td>\n",
       "      <td>Macey<\/td>\n",
       "      <td>31. 3. 2009<\/td>\n",
       "    <\/tr>\n",
       "    <tr>\n",
       "      <th>...<\/th>\n",
       "      <td>...<\/td>\n",
       "      <td>...<\/td>\n",
       "      <td>...<\/td>\n",
       "      <td>...<\/td>\n",
       "      <td>...<\/td>\n",
       "      <td>...<\/td>\n",
       "    <\/tr>\n",
       "    <tr>\n",
       "      <th>29995<\/th>\n",
       "      <td>Nicole@keira.biz<\/td>\n",
       "      <td>Welch<\/td>\n",
       "      <td>Saint Martin<\/td>\n",
       "      <td>29995<\/td>\n",
       "      <td>Sibyl<\/td>\n",
       "      <td>19. 4. 2015<\/td>\n",
       "    <\/tr>\n",
       "    <tr>\n",
       "      <th>29996<\/th>\n",
       "      <td>Buddy@nicolas.biz<\/td>\n",
       "      <td>Cole<\/td>\n",
       "      <td>Romania<\/td>\n",
       "      <td>29996<\/td>\n",
       "      <td>Marina<\/td>\n",
       "      <td>13. 5. 1981<\/td>\n",
       "    <\/tr>\n",
       "    <tr>\n",
       "      <th>29997<\/th>\n",
       "      <td>Keegan@joelle.io<\/td>\n",
       "      <td>Emmerich<\/td>\n",
       "      <td>Dominica<\/td>\n",
       "      <td>29997<\/td>\n",
       "      <td>Devan<\/td>\n",
       "      <td>1. 2. 1981<\/td>\n",
       "    <\/tr>\n",
       "    <tr>\n",
       "      <th>29998<\/th>\n",
       "      <td>Leland_Hickle@ocie.info<\/td>\n",
       "      <td>Mante<\/td>\n",
       "      <td>Burkina Faso<\/td>\n",
       "      <td>29998<\/td>\n",
       "      <td>Diana<\/td>\n",
       "      <td>15. 3. 2003<\/td>\n",
       "    <\/tr>\n",
       "    <tr>\n",
       "      <th>29999<\/th>\n",
       "      <td>Ova@mohammad.ca<\/td>\n",
       "      <td>Haag<\/td>\n",
       "      <td>Suriname<\/td>\n",
       "      <td>29999<\/td>\n",
       "      <td>Noe<\/td>\n",
       "      <td>2. 11. 2011<\/td>\n",
       "    <\/tr>\n",
       "  <\/tbody>\n",
       "<\/table>\n",
       "<p>30000 rows × 6 columns<\/p>\n",
       "<\/div>"
      ]
     },
     "metadata":{
      
     },
     "output_type":"display_data"
    }
   ],
   "metadata":{
    "datalore":{
     "node_id":"iVFnJXWnA502FNhEnCtxdv",
     "type":"CODE",
     "hide_input_from_viewers":true,
     "hide_output_from_viewers":true
    }
   }
  },
  {
   "cell_type":"code",
   "source":[
    " "
   ],
   "execution_count":7,
   "outputs":[
    {
     "name":"stderr",
     "text":[
      "<ipython-input-7-7d56f72107d2>:8: UserWarning: pandas only supports SQLAlchemy connectable (engine\/connection) or database string URI or sqlite3 DBAPI2 connection. Other DBAPI2 objects are not tested. Please consider using SQLAlchemy.\n",
      "  df_zamestnanci = pd.read_sql_query(\"select * from EMP\", con = pripojenie)\n"
     ],
     "output_type":"stream"
    },
    {
     "data":{
      "text\/html":[
       "<div>\n",
       "<style scoped>\n",
       "    .dataframe tbody tr th:only-of-type {\n",
       "        vertical-align: middle;\n",
       "    }\n",
       "\n",
       "    .dataframe tbody tr th {\n",
       "        vertical-align: top;\n",
       "    }\n",
       "\n",
       "    .dataframe thead th {\n",
       "        text-align: right;\n",
       "    }\n",
       "<\/style>\n",
       "<table border=\"1\" class=\"dataframe\">\n",
       "  <thead>\n",
       "    <tr style=\"text-align: right;\">\n",
       "      <th><\/th>\n",
       "      <th>EMPNO<\/th>\n",
       "      <th>ENAME<\/th>\n",
       "      <th>JOB<\/th>\n",
       "      <th>MGR<\/th>\n",
       "      <th>HIREDATE<\/th>\n",
       "      <th>SAL<\/th>\n",
       "      <th>COMM<\/th>\n",
       "      <th>DEPTNO<\/th>\n",
       "    <\/tr>\n",
       "  <\/thead>\n",
       "  <tbody>\n",
       "    <tr>\n",
       "      <th>0<\/th>\n",
       "      <td>7369<\/td>\n",
       "      <td>SMITH<\/td>\n",
       "      <td>CLERK<\/td>\n",
       "      <td>7902.0<\/td>\n",
       "      <td>1980-12-17<\/td>\n",
       "      <td>800<\/td>\n",
       "      <td>NaN<\/td>\n",
       "      <td>20<\/td>\n",
       "    <\/tr>\n",
       "    <tr>\n",
       "      <th>1<\/th>\n",
       "      <td>7499<\/td>\n",
       "      <td>ALLEN<\/td>\n",
       "      <td>SALESMAN<\/td>\n",
       "      <td>7698.0<\/td>\n",
       "      <td>1981-02-20<\/td>\n",
       "      <td>1600<\/td>\n",
       "      <td>300.0<\/td>\n",
       "      <td>30<\/td>\n",
       "    <\/tr>\n",
       "    <tr>\n",
       "      <th>2<\/th>\n",
       "      <td>7521<\/td>\n",
       "      <td>WARD<\/td>\n",
       "      <td>SALESMAN<\/td>\n",
       "      <td>7698.0<\/td>\n",
       "      <td>1981-02-22<\/td>\n",
       "      <td>1250<\/td>\n",
       "      <td>500.0<\/td>\n",
       "      <td>30<\/td>\n",
       "    <\/tr>\n",
       "    <tr>\n",
       "      <th>3<\/th>\n",
       "      <td>7566<\/td>\n",
       "      <td>JONES<\/td>\n",
       "      <td>MANAGER<\/td>\n",
       "      <td>7839.0<\/td>\n",
       "      <td>1981-04-02<\/td>\n",
       "      <td>2975<\/td>\n",
       "      <td>NaN<\/td>\n",
       "      <td>20<\/td>\n",
       "    <\/tr>\n",
       "    <tr>\n",
       "      <th>4<\/th>\n",
       "      <td>7654<\/td>\n",
       "      <td>MARTIN<\/td>\n",
       "      <td>SALESMAN<\/td>\n",
       "      <td>7698.0<\/td>\n",
       "      <td>1981-09-28<\/td>\n",
       "      <td>1250<\/td>\n",
       "      <td>1400.0<\/td>\n",
       "      <td>30<\/td>\n",
       "    <\/tr>\n",
       "    <tr>\n",
       "      <th>5<\/th>\n",
       "      <td>7698<\/td>\n",
       "      <td>BLAKE<\/td>\n",
       "      <td>MANAGER<\/td>\n",
       "      <td>7839.0<\/td>\n",
       "      <td>1981-05-01<\/td>\n",
       "      <td>2850<\/td>\n",
       "      <td>NaN<\/td>\n",
       "      <td>30<\/td>\n",
       "    <\/tr>\n",
       "    <tr>\n",
       "      <th>6<\/th>\n",
       "      <td>7782<\/td>\n",
       "      <td>CLARK<\/td>\n",
       "      <td>MANAGER<\/td>\n",
       "      <td>7839.0<\/td>\n",
       "      <td>1981-06-09<\/td>\n",
       "      <td>2450<\/td>\n",
       "      <td>NaN<\/td>\n",
       "      <td>10<\/td>\n",
       "    <\/tr>\n",
       "    <tr>\n",
       "      <th>7<\/th>\n",
       "      <td>7788<\/td>\n",
       "      <td>SCOTT<\/td>\n",
       "      <td>ANALYST<\/td>\n",
       "      <td>7566.0<\/td>\n",
       "      <td>1982-12-09<\/td>\n",
       "      <td>3000<\/td>\n",
       "      <td>NaN<\/td>\n",
       "      <td>20<\/td>\n",
       "    <\/tr>\n",
       "    <tr>\n",
       "      <th>8<\/th>\n",
       "      <td>7839<\/td>\n",
       "      <td>KING<\/td>\n",
       "      <td>PRESIDENT<\/td>\n",
       "      <td>NaN<\/td>\n",
       "      <td>1981-11-17<\/td>\n",
       "      <td>5000<\/td>\n",
       "      <td>NaN<\/td>\n",
       "      <td>10<\/td>\n",
       "    <\/tr>\n",
       "    <tr>\n",
       "      <th>9<\/th>\n",
       "      <td>7844<\/td>\n",
       "      <td>TURNER<\/td>\n",
       "      <td>SALESMAN<\/td>\n",
       "      <td>7698.0<\/td>\n",
       "      <td>1981-09-08<\/td>\n",
       "      <td>1500<\/td>\n",
       "      <td>0.0<\/td>\n",
       "      <td>30<\/td>\n",
       "    <\/tr>\n",
       "    <tr>\n",
       "      <th>10<\/th>\n",
       "      <td>7876<\/td>\n",
       "      <td>ADAMS<\/td>\n",
       "      <td>CLERK<\/td>\n",
       "      <td>7788.0<\/td>\n",
       "      <td>1983-01-12<\/td>\n",
       "      <td>1100<\/td>\n",
       "      <td>NaN<\/td>\n",
       "      <td>20<\/td>\n",
       "    <\/tr>\n",
       "    <tr>\n",
       "      <th>11<\/th>\n",
       "      <td>7900<\/td>\n",
       "      <td>JAMES<\/td>\n",
       "      <td>CLERK<\/td>\n",
       "      <td>7698.0<\/td>\n",
       "      <td>1981-12-03<\/td>\n",
       "      <td>950<\/td>\n",
       "      <td>NaN<\/td>\n",
       "      <td>30<\/td>\n",
       "    <\/tr>\n",
       "    <tr>\n",
       "      <th>12<\/th>\n",
       "      <td>7902<\/td>\n",
       "      <td>FORD<\/td>\n",
       "      <td>ANALYST<\/td>\n",
       "      <td>7566.0<\/td>\n",
       "      <td>1981-12-03<\/td>\n",
       "      <td>3000<\/td>\n",
       "      <td>NaN<\/td>\n",
       "      <td>20<\/td>\n",
       "    <\/tr>\n",
       "    <tr>\n",
       "      <th>13<\/th>\n",
       "      <td>7934<\/td>\n",
       "      <td>MILLER<\/td>\n",
       "      <td>CLERK<\/td>\n",
       "      <td>7782.0<\/td>\n",
       "      <td>1982-01-23<\/td>\n",
       "      <td>1300<\/td>\n",
       "      <td>NaN<\/td>\n",
       "      <td>10<\/td>\n",
       "    <\/tr>\n",
       "  <\/tbody>\n",
       "<\/table>\n",
       "<\/div>"
      ]
     },
     "metadata":{
      
     },
     "output_type":"display_data"
    }
   ],
   "metadata":{
    "datalore":{
     "node_id":"2wGtSAfJZPrnwNOelGlGPn",
     "type":"CODE",
     "hide_input_from_viewers":true,
     "hide_output_from_viewers":true
    }
   }
  },
  {
   "cell_type":"code",
   "source":[
    " "
   ],
   "execution_count":23,
   "outputs":[
    {
     "name":"stderr",
     "text":[
      "<ipython-input-23-763327dbff23>:21: UserWarning: pandas only supports SQLAlchemy connectable (engine\/connection) or database string URI or sqlite3 DBAPI2 connection. Other DBAPI2 objects are not tested. Please consider using SQLAlchemy.\n",
      "  df_zamestnanci = pd.read_sql_query(\"select * from EMP\", con = pripojenie)\n"
     ],
     "output_type":"stream"
    },
    {
     "data":{
      "text\/html":[
       "<div>\n",
       "<style scoped>\n",
       "    .dataframe tbody tr th:only-of-type {\n",
       "        vertical-align: middle;\n",
       "    }\n",
       "\n",
       "    .dataframe tbody tr th {\n",
       "        vertical-align: top;\n",
       "    }\n",
       "\n",
       "    .dataframe thead th {\n",
       "        text-align: right;\n",
       "    }\n",
       "<\/style>\n",
       "<table border=\"1\" class=\"dataframe\">\n",
       "  <thead>\n",
       "    <tr style=\"text-align: right;\">\n",
       "      <th><\/th>\n",
       "      <th>EMPNO<\/th>\n",
       "      <th>ENAME<\/th>\n",
       "      <th>JOB<\/th>\n",
       "      <th>MGR<\/th>\n",
       "      <th>HIREDATE<\/th>\n",
       "      <th>SAL<\/th>\n",
       "      <th>COMM<\/th>\n",
       "      <th>DEPTNO<\/th>\n",
       "    <\/tr>\n",
       "  <\/thead>\n",
       "  <tbody>\n",
       "    <tr>\n",
       "      <th>0<\/th>\n",
       "      <td>7369<\/td>\n",
       "      <td>SMITH<\/td>\n",
       "      <td>CLERK<\/td>\n",
       "      <td>7902.0<\/td>\n",
       "      <td>1980-12-17<\/td>\n",
       "      <td>800<\/td>\n",
       "      <td>NaN<\/td>\n",
       "      <td>20<\/td>\n",
       "    <\/tr>\n",
       "    <tr>\n",
       "      <th>1<\/th>\n",
       "      <td>7499<\/td>\n",
       "      <td>ALLEN<\/td>\n",
       "      <td>SALESMAN<\/td>\n",
       "      <td>7698.0<\/td>\n",
       "      <td>1981-02-20<\/td>\n",
       "      <td>1600<\/td>\n",
       "      <td>300.0<\/td>\n",
       "      <td>30<\/td>\n",
       "    <\/tr>\n",
       "    <tr>\n",
       "      <th>2<\/th>\n",
       "      <td>7521<\/td>\n",
       "      <td>WARD<\/td>\n",
       "      <td>SALESMAN<\/td>\n",
       "      <td>7698.0<\/td>\n",
       "      <td>1981-02-22<\/td>\n",
       "      <td>1250<\/td>\n",
       "      <td>500.0<\/td>\n",
       "      <td>30<\/td>\n",
       "    <\/tr>\n",
       "    <tr>\n",
       "      <th>3<\/th>\n",
       "      <td>7566<\/td>\n",
       "      <td>JONES<\/td>\n",
       "      <td>MANAGER<\/td>\n",
       "      <td>7839.0<\/td>\n",
       "      <td>1981-04-02<\/td>\n",
       "      <td>2975<\/td>\n",
       "      <td>NaN<\/td>\n",
       "      <td>20<\/td>\n",
       "    <\/tr>\n",
       "    <tr>\n",
       "      <th>4<\/th>\n",
       "      <td>7654<\/td>\n",
       "      <td>MARTIN<\/td>\n",
       "      <td>SALESMAN<\/td>\n",
       "      <td>7698.0<\/td>\n",
       "      <td>1981-09-28<\/td>\n",
       "      <td>1250<\/td>\n",
       "      <td>1400.0<\/td>\n",
       "      <td>30<\/td>\n",
       "    <\/tr>\n",
       "    <tr>\n",
       "      <th>5<\/th>\n",
       "      <td>7698<\/td>\n",
       "      <td>BLAKE<\/td>\n",
       "      <td>MANAGER<\/td>\n",
       "      <td>7839.0<\/td>\n",
       "      <td>1981-05-01<\/td>\n",
       "      <td>2850<\/td>\n",
       "      <td>NaN<\/td>\n",
       "      <td>30<\/td>\n",
       "    <\/tr>\n",
       "    <tr>\n",
       "      <th>6<\/th>\n",
       "      <td>7782<\/td>\n",
       "      <td>CLARK<\/td>\n",
       "      <td>MANAGER<\/td>\n",
       "      <td>7839.0<\/td>\n",
       "      <td>1981-06-09<\/td>\n",
       "      <td>2450<\/td>\n",
       "      <td>NaN<\/td>\n",
       "      <td>10<\/td>\n",
       "    <\/tr>\n",
       "    <tr>\n",
       "      <th>7<\/th>\n",
       "      <td>7788<\/td>\n",
       "      <td>SCOTT<\/td>\n",
       "      <td>ANALYST<\/td>\n",
       "      <td>7566.0<\/td>\n",
       "      <td>1982-12-09<\/td>\n",
       "      <td>3000<\/td>\n",
       "      <td>NaN<\/td>\n",
       "      <td>20<\/td>\n",
       "    <\/tr>\n",
       "    <tr>\n",
       "      <th>8<\/th>\n",
       "      <td>7839<\/td>\n",
       "      <td>KING<\/td>\n",
       "      <td>PRESIDENT<\/td>\n",
       "      <td>NaN<\/td>\n",
       "      <td>1981-11-17<\/td>\n",
       "      <td>5000<\/td>\n",
       "      <td>NaN<\/td>\n",
       "      <td>10<\/td>\n",
       "    <\/tr>\n",
       "    <tr>\n",
       "      <th>9<\/th>\n",
       "      <td>7844<\/td>\n",
       "      <td>TURNER<\/td>\n",
       "      <td>SALESMAN<\/td>\n",
       "      <td>7698.0<\/td>\n",
       "      <td>1981-09-08<\/td>\n",
       "      <td>1500<\/td>\n",
       "      <td>0.0<\/td>\n",
       "      <td>30<\/td>\n",
       "    <\/tr>\n",
       "    <tr>\n",
       "      <th>10<\/th>\n",
       "      <td>7876<\/td>\n",
       "      <td>ADAMS<\/td>\n",
       "      <td>CLERK<\/td>\n",
       "      <td>7788.0<\/td>\n",
       "      <td>1983-01-12<\/td>\n",
       "      <td>1100<\/td>\n",
       "      <td>NaN<\/td>\n",
       "      <td>20<\/td>\n",
       "    <\/tr>\n",
       "    <tr>\n",
       "      <th>11<\/th>\n",
       "      <td>7900<\/td>\n",
       "      <td>JAMES<\/td>\n",
       "      <td>CLERK<\/td>\n",
       "      <td>7698.0<\/td>\n",
       "      <td>1981-12-03<\/td>\n",
       "      <td>950<\/td>\n",
       "      <td>NaN<\/td>\n",
       "      <td>30<\/td>\n",
       "    <\/tr>\n",
       "    <tr>\n",
       "      <th>12<\/th>\n",
       "      <td>7902<\/td>\n",
       "      <td>FORD<\/td>\n",
       "      <td>ANALYST<\/td>\n",
       "      <td>7566.0<\/td>\n",
       "      <td>1981-12-03<\/td>\n",
       "      <td>3000<\/td>\n",
       "      <td>NaN<\/td>\n",
       "      <td>20<\/td>\n",
       "    <\/tr>\n",
       "    <tr>\n",
       "      <th>13<\/th>\n",
       "      <td>7934<\/td>\n",
       "      <td>MILLER<\/td>\n",
       "      <td>CLERK<\/td>\n",
       "      <td>7782.0<\/td>\n",
       "      <td>1982-01-23<\/td>\n",
       "      <td>1300<\/td>\n",
       "      <td>NaN<\/td>\n",
       "      <td>10<\/td>\n",
       "    <\/tr>\n",
       "    <tr>\n",
       "      <th>14<\/th>\n",
       "      <td>7369<\/td>\n",
       "      <td>SMITH<\/td>\n",
       "      <td>CLERK<\/td>\n",
       "      <td>7902.0<\/td>\n",
       "      <td>17.12.1980<\/td>\n",
       "      <td>800<\/td>\n",
       "      <td>NaN<\/td>\n",
       "      <td>20<\/td>\n",
       "    <\/tr>\n",
       "    <tr>\n",
       "      <th>15<\/th>\n",
       "      <td>7499<\/td>\n",
       "      <td>ALLEN<\/td>\n",
       "      <td>SALESMAN<\/td>\n",
       "      <td>7698.0<\/td>\n",
       "      <td>20.2.1981<\/td>\n",
       "      <td>1600<\/td>\n",
       "      <td>300.0<\/td>\n",
       "      <td>30<\/td>\n",
       "    <\/tr>\n",
       "    <tr>\n",
       "      <th>16<\/th>\n",
       "      <td>7521<\/td>\n",
       "      <td>WARD<\/td>\n",
       "      <td>SALESMAN<\/td>\n",
       "      <td>7698.0<\/td>\n",
       "      <td>22.2.1981<\/td>\n",
       "      <td>1250<\/td>\n",
       "      <td>500.0<\/td>\n",
       "      <td>30<\/td>\n",
       "    <\/tr>\n",
       "    <tr>\n",
       "      <th>17<\/th>\n",
       "      <td>7566<\/td>\n",
       "      <td>JONES<\/td>\n",
       "      <td>MANAGER<\/td>\n",
       "      <td>7839.0<\/td>\n",
       "      <td>2.4.1981<\/td>\n",
       "      <td>2975<\/td>\n",
       "      <td>NaN<\/td>\n",
       "      <td>20<\/td>\n",
       "    <\/tr>\n",
       "    <tr>\n",
       "      <th>18<\/th>\n",
       "      <td>7654<\/td>\n",
       "      <td>MARTIN<\/td>\n",
       "      <td>SALESMAN<\/td>\n",
       "      <td>7698.0<\/td>\n",
       "      <td>28.9.1981<\/td>\n",
       "      <td>1250<\/td>\n",
       "      <td>1400.0<\/td>\n",
       "      <td>30<\/td>\n",
       "    <\/tr>\n",
       "    <tr>\n",
       "      <th>19<\/th>\n",
       "      <td>7698<\/td>\n",
       "      <td>BLAKE<\/td>\n",
       "      <td>MANAGER<\/td>\n",
       "      <td>7839.0<\/td>\n",
       "      <td>1.5.1981<\/td>\n",
       "      <td>2850<\/td>\n",
       "      <td>NaN<\/td>\n",
       "      <td>30<\/td>\n",
       "    <\/tr>\n",
       "    <tr>\n",
       "      <th>20<\/th>\n",
       "      <td>7782<\/td>\n",
       "      <td>CLARK<\/td>\n",
       "      <td>MANAGER<\/td>\n",
       "      <td>7839.0<\/td>\n",
       "      <td>9.6.1981<\/td>\n",
       "      <td>2450<\/td>\n",
       "      <td>NaN<\/td>\n",
       "      <td>10<\/td>\n",
       "    <\/tr>\n",
       "    <tr>\n",
       "      <th>21<\/th>\n",
       "      <td>7788<\/td>\n",
       "      <td>SCOTT<\/td>\n",
       "      <td>ANALYST<\/td>\n",
       "      <td>7566.0<\/td>\n",
       "      <td>9.12.1982<\/td>\n",
       "      <td>3000<\/td>\n",
       "      <td>NaN<\/td>\n",
       "      <td>20<\/td>\n",
       "    <\/tr>\n",
       "    <tr>\n",
       "      <th>22<\/th>\n",
       "      <td>7839<\/td>\n",
       "      <td>KING<\/td>\n",
       "      <td>PRESIDENT<\/td>\n",
       "      <td>NaN<\/td>\n",
       "      <td>17.11.1981<\/td>\n",
       "      <td>5000<\/td>\n",
       "      <td>NaN<\/td>\n",
       "      <td>10<\/td>\n",
       "    <\/tr>\n",
       "    <tr>\n",
       "      <th>23<\/th>\n",
       "      <td>7844<\/td>\n",
       "      <td>TURNER<\/td>\n",
       "      <td>SALESMAN<\/td>\n",
       "      <td>7698.0<\/td>\n",
       "      <td>8.9.1981<\/td>\n",
       "      <td>1500<\/td>\n",
       "      <td>0.0<\/td>\n",
       "      <td>30<\/td>\n",
       "    <\/tr>\n",
       "    <tr>\n",
       "      <th>24<\/th>\n",
       "      <td>7876<\/td>\n",
       "      <td>ADAMS<\/td>\n",
       "      <td>CLERK<\/td>\n",
       "      <td>7788.0<\/td>\n",
       "      <td>12.1.1983<\/td>\n",
       "      <td>1100<\/td>\n",
       "      <td>NaN<\/td>\n",
       "      <td>20<\/td>\n",
       "    <\/tr>\n",
       "    <tr>\n",
       "      <th>25<\/th>\n",
       "      <td>7900<\/td>\n",
       "      <td>JAMES<\/td>\n",
       "      <td>CLERK<\/td>\n",
       "      <td>7698.0<\/td>\n",
       "      <td>3.12.1981<\/td>\n",
       "      <td>950<\/td>\n",
       "      <td>NaN<\/td>\n",
       "      <td>30<\/td>\n",
       "    <\/tr>\n",
       "    <tr>\n",
       "      <th>26<\/th>\n",
       "      <td>7902<\/td>\n",
       "      <td>FORD<\/td>\n",
       "      <td>ANALYST<\/td>\n",
       "      <td>7566.0<\/td>\n",
       "      <td>3.12.1981<\/td>\n",
       "      <td>3000<\/td>\n",
       "      <td>NaN<\/td>\n",
       "      <td>20<\/td>\n",
       "    <\/tr>\n",
       "    <tr>\n",
       "      <th>27<\/th>\n",
       "      <td>7934<\/td>\n",
       "      <td>MILLER<\/td>\n",
       "      <td>CLERK<\/td>\n",
       "      <td>7782.0<\/td>\n",
       "      <td>23.1.1982<\/td>\n",
       "      <td>1300<\/td>\n",
       "      <td>NaN<\/td>\n",
       "      <td>10<\/td>\n",
       "    <\/tr>\n",
       "  <\/tbody>\n",
       "<\/table>\n",
       "<\/div>"
      ]
     },
     "metadata":{
      
     },
     "output_type":"display_data"
    }
   ],
   "metadata":{
    "datalore":{
     "node_id":"fFq97wRJDSIPnXKNB3gIO5",
     "type":"CODE",
     "hide_input_from_viewers":true,
     "hide_output_from_viewers":true
    }
   }
  },
  {
   "cell_type":"markdown",
   "source":[
    "# 🐼  Výber dát (Select) v Pandas\n",
    "\n",
    "## Dôležité Poznámky Pandas\n",
    "- Pri výbere podmnožín údajov sa používajú hranaté zátvorky []\n",
    "- V týchto zátvorkách môžete použiť jeden štítok stĺpca\/riadku, zoznam štítkov stĺpca\/riadku, časť štítkov, podmienený výraz alebo dvojbodku\n",
    "- Ak používate názvy riadkov a stĺpcov, vyberte konkrétne riadky a\/alebo stĺpce pomocou loc\n",
    "- Pri použití pozícií v tabuľke vyberte konkrétne riadky a\/alebo stĺpce pomocou iloc\n",
    "- Výberu môžete priradiť nové hodnoty na základe loc\/iloc\n",
    "\n",
    "https:\/\/pandas.pydata.org\/docs\/getting_started\/intro_tutorials\/03_subset_data.html"
   ],
   "attachments":{
    
   },
   "metadata":{
    "datalore":{
     "node_id":"AtTgIjnicyGLdyWALx4F7U",
     "type":"MD",
     "hide_input_from_viewers":true,
     "hide_output_from_viewers":true
    }
   }
  },
  {
   "cell_type":"code",
   "source":[
    " "
   ],
   "execution_count":36,
   "outputs":[
    {
     "data":{
      "text\/html":[
       "<pre>1      ALLEN\n",
       "2       WARD\n",
       "3      JONES\n",
       "4     MARTIN\n",
       "5      BLAKE\n",
       "6      CLARK\n",
       "7      SCOTT\n",
       "8       KING\n",
       "9     TURNER\n",
       "10     ADAMS\n",
       "12      FORD\n",
       "13    MILLER\n",
       "15     ALLEN\n",
       "16      WARD\n",
       "17     JONES\n",
       "18    MARTIN\n",
       "19     BLAKE\n",
       "20     CLARK\n",
       "21     SCOTT\n",
       "22      KING\n",
       "23    TURNER\n",
       "24     ADAMS\n",
       "26      FORD\n",
       "27    MILLER\n",
       "Name: ENAME, dtype: object<\/pre>"
      ]
     },
     "metadata":{
      
     },
     "output_type":"display_data"
    }
   ],
   "metadata":{
    "datalore":{
     "node_id":"GIsK4Jyly9Y3JjGa9KfUKm",
     "type":"CODE",
     "hide_input_from_viewers":true,
     "hide_output_from_viewers":true
    }
   }
  },
  {
   "cell_type":"markdown",
   "source":[
    "# Grafy"
   ],
   "attachments":{
    
   },
   "metadata":{
    "datalore":{
     "node_id":"ngZMW1z24iUQPbP3rl60vk",
     "type":"MD",
     "hide_input_from_viewers":true,
     "hide_output_from_viewers":true
    }
   }
  },
  {
   "cell_type":"code",
   "source":[
    " "
   ],
   "execution_count":37,
   "outputs":[
    {
     "data":{
      "image\/png":"[encoded data removed]"
     },
     "metadata":{
      "image\/png":{
       
      }
     },
     "output_type":"display_data"
    },
    {
     "data":{
      "image\/png":"[encoded data removed]"
     },
     "metadata":{
      "image\/png":{
       
      }
     },
     "output_type":"display_data"
    },
    {
     "data":{
      "image\/png":"[encoded data removed]"
     },
     "metadata":{
      "image\/png":{
       
      }
     },
     "output_type":"display_data"
    },
    {
     "data":{
      "image\/png":"[encoded data removed]"
     },
     "metadata":{
      "image\/png":{
       
      }
     },
     "output_type":"display_data"
    },
    {
     "data":{
      "image\/png":"[encoded data removed]"
     },
     "metadata":{
      "image\/png":{
       
      }
     },
     "output_type":"display_data"
    },
    {
     "data":{
      "image\/png":"[encoded data removed]"
     },
     "metadata":{
      "image\/png":{
       
      }
     },
     "output_type":"display_data"
    }
   ],
   "metadata":{
    "datalore":{
     "node_id":"vtTGAZUh2Vp64thqRKAvaq",
     "type":"CODE",
     "hide_input_from_viewers":true,
     "hide_output_from_viewers":true
    }
   }
  },
  {
   "cell_type":"markdown",
   "source":[
    "# Environs a Secrets"
   ],
   "attachments":{
    
   },
   "metadata":{
    "datalore":{
     "node_id":"Environs a Secrets",
     "type":"MD",
     "hide_input_from_viewers":false,
     "hide_output_from_viewers":false,
     "sheet_delimiter":true
    }
   }
  },
  {
   "cell_type":"markdown",
   "source":[
    "# 🌲 Premenné Prostredia (Environs - Environment variables)"
   ],
   "attachments":{
    
   },
   "metadata":{
    "datalore":{
     "node_id":"bPItc21P41FMfbp9b0qZwv",
     "type":"MD",
     "hide_input_from_viewers":true,
     "hide_output_from_viewers":true
    }
   }
  },
  {
   "cell_type":"code",
   "source":[
    " "
   ],
   "execution_count":null,
   "outputs":[
    
   ],
   "metadata":{
    "datalore":{
     "node_id":"QA12qJWTXbVi1RcZ2B2ppT",
     "type":"CODE",
     "hide_input_from_viewers":true,
     "hide_output_from_viewers":true
    }
   }
  },
  {
   "cell_type":"markdown",
   "source":[
    "# 🤐 Tajomstvá (Secrets) už označené ako zastaralé"
   ],
   "attachments":{
    
   },
   "metadata":{
    "datalore":{
     "node_id":"MqUk95etHn5VpYZeAG11IN",
     "type":"MD",
     "hide_input_from_viewers":true,
     "hide_output_from_viewers":true
    }
   }
  },
  {
   "cell_type":"code",
   "source":[
    
   ],
   "execution_count":null,
   "outputs":[
    
   ],
   "metadata":{
    "datalore":{
     "node_id":"1zagaqwuWpjDCLVRdl2qrM",
     "type":"CODE",
     "hide_input_from_viewers":true,
     "hide_output_from_viewers":true
    }
   }
  },
  {
   "cell_type":"markdown",
   "source":[
    "# 🔌 Pripojenie sa na Databázu PostgreSQL"
   ],
   "attachments":{
    
   },
   "metadata":{
    "datalore":{
     "node_id":"QXrmrKpyrhZHoR7W6DDInt",
     "type":"MD",
     "hide_input_from_viewers":true,
     "hide_output_from_viewers":true
    }
   }
  },
  {
   "cell_type":"code",
   "source":[
    " "
   ],
   "execution_count":null,
   "outputs":[
    
   ],
   "metadata":{
    "datalore":{
     "node_id":"z2uLvJP7HT5ufulIqCSnER",
     "type":"CODE",
     "hide_input_from_viewers":true,
     "hide_output_from_viewers":true
    }
   }
  },
  {
   "cell_type":"markdown",
   "source":[
    "# SQLAlchemy"
   ],
   "attachments":{
    
   },
   "metadata":{
    "datalore":{
     "node_id":"SQLAlchemy",
     "type":"MD",
     "hide_input_from_viewers":false,
     "hide_output_from_viewers":false,
     "sheet_delimiter":true
    }
   }
  },
  {
   "cell_type":"markdown",
   "source":[
    "# SQL Alchemy\n",
    "- Knižnica jazyka Python, ktorá sa používa pre prácu s databázami \n",
    "- Je to ORM (Object-Relational Mapping) nástroj, ktorý umožňuje programátorom pracovať s databázami pomocou objektovo orientovaného prístupu namiesto tradičných SQL dopytov \n",
    "- Poskytuje abstraktnú vrstvu, ktorá umožňuje programátorom komunikovať s rôznymi typmi databáz, ako napríklad MySQL, PostgreSQL, SQLite a ďalšie, bez toho, aby museli meniť svoj kód\n",
    "\n",
    "Hlavné výhody SQLAlchemy zahŕňajú:\n",
    "1. Abstrakcia databázy: Umožňuje programátorom písať databázový kód nezávisle od konkrétneho typu databázy.\n",
    "2. Objektovo-relačná transformácia: Umožňuje mapovať databázové tabuľky na Python triedy a objekty na riadky v tabuľkách, čo zjednodušuje manipuláciu s dátami.\n",
    "3. Flexibilita a mocnosť: Ponúka pokročilé funkcie ako transakčný manažment, lazy loading, automatické migrácie a iné.\n",
    "4. Podpora pre komplexné SQL dotazy: Aj keď je ORM mocný, SQLAlchemy stále umožňuje vykonávať surové SQL dotazy pre komplexné alebo špecifické operácie, ktoré nie sú priamo podporované ORM."
   ],
   "attachments":{
    
   },
   "metadata":{
    "datalore":{
     "node_id":"vfAtUq0PkZ77Xexz0ztnOR",
     "type":"MD",
     "hide_input_from_viewers":true,
     "hide_output_from_viewers":true
    }
   }
  },
  {
   "cell_type":"code",
   "source":[
    " "
   ],
   "execution_count":38,
   "outputs":[
    {
     "name":"stdout",
     "text":[
      "Requirement already satisfied: sqlalchemy in \/opt\/python\/envs\/default\/lib\/python3.8\/site-packages (2.0.13)\r\n",
      "Requirement already satisfied: typing-extensions>=4.2.0 in \/opt\/python\/envs\/default\/lib\/python3.8\/site-packages (from sqlalchemy) (4.8.0)\r\n",
      "Requirement already satisfied: greenlet!=0.4.17 in \/opt\/python\/envs\/default\/lib\/python3.8\/site-packages (from sqlalchemy) (3.0.1)\r\n",
      "\r\n",
      "\u001b[1m[\u001b[0m\u001b[34;49mnotice\u001b[0m\u001b[1;39;49m]\u001b[0m\u001b[39;49m A new release of pip is available: \u001b[0m\u001b[31;49m23.1.2\u001b[0m\u001b[39;49m -> \u001b[0m\u001b[32;49m23.3.1\u001b[0m\r\n",
      "\u001b[1m[\u001b[0m\u001b[34;49mnotice\u001b[0m\u001b[1;39;49m]\u001b[0m\u001b[39;49m To update, run: \u001b[0m\u001b[32;49mpip install --upgrade pip\u001b[0m\r\n"
     ],
     "output_type":"stream"
    }
   ],
   "metadata":{
    "datalore":{
     "node_id":"CwVAYADzL8x8LpATQBnfOK",
     "type":"CODE",
     "hide_input_from_viewers":true,
     "hide_output_from_viewers":true
    }
   }
  },
  {
   "cell_type":"markdown",
   "source":[
    "# In-memory SQLite engine\n",
    "                   \n",
    "Je v kontexte SQLAlchemy **špeciálny typ databázového engine**, ktorý sa používa na **vytvorenie databázy SQLite**, ktorá existuje **len v pamäti RAM počítača**, **nie na pevnom disku**. \n",
    "Tento engine je veľmi užitočný pre **rýchle testovanie** alebo pre dočasné **databázové operácie**, pretože **všetky dáta sa stratia, keď Pythonov proces**, ktorý **databázu vytvoril, skončí**.\n",
    "\n",
    "V SQLAlchemy vytvoríte in-memory SQLite engine pomocou nasledujúceho pripojovacieho reťazca:  \n",
    "`engine = create_engine('sqlite:\/\/\/:memory:')`"
   ],
   "attachments":{
    
   },
   "metadata":{
    "datalore":{
     "node_id":"0dn2OTEEqfnDuhmEG4MaiO",
     "type":"MD",
     "hide_input_from_viewers":true,
     "hide_output_from_viewers":true
    }
   }
  },
  {
   "cell_type":"code",
   "source":[
    " "
   ],
   "execution_count":60,
   "outputs":[
    
   ],
   "metadata":{
    "datalore":{
     "node_id":"rAxnoG37G83RhSNF9k2d1r",
     "type":"CODE",
     "hide_input_from_viewers":true,
     "hide_output_from_viewers":true
    }
   }
  },
  {
   "cell_type":"markdown",
   "source":[
    "## Deklaratívne Mapovanie Triedy\n",
    "- Je **prístup k definovaniu databázových modelov** a ich **vzťahov** priamo v Python kóde **pomocou tried a atribútov**. \n",
    "- Umožňuje programátorom pracovať s **databázovými tabuľkami** ako s **bežnými Python objektmi**, čo **zjednodušuje interakciu s databázou** a **zvyšuje čitateľnosť kódu**.\n",
    "- Pri deklaratívnom mapovaní v SQLAlchemy sa **definujú modely databázových tabuliek** ako **triedy Python**. \n",
    "- Tieto **triedy** sú zvyčajne **odvodené od základnej triedy**, ktorá sa nazýva **Base**, poskytovaná SQLAlchemy. \n",
    "- Každá trieda reprezentuje tabuľku v databáze, a jej atribúty reprezentujú stĺpce tejto tabuľky.\n",
    "- Deklaratívne mapovanie v SQLAlchemy poskytuje výhody ako **jednoduchšie** a **intuitívnejšie** **rozhranie** pre prácu s databázami, lepšiu integráciu s Python kódom a možnosť využitia funkcií **objektovo-relačného mapovania (ORM)**."
   ],
   "attachments":{
    
   },
   "metadata":{
    "datalore":{
     "node_id":"B8fgtxa14EPNZJUNyblXQv",
     "type":"MD",
     "hide_input_from_viewers":true,
     "hide_output_from_viewers":true
    }
   }
  },
  {
   "cell_type":"code",
   "source":[
    " "
   ],
   "execution_count":67,
   "outputs":[
    {
     "name":"stderr",
     "text":[
      "<ipython-input-67-0b5c0768b591>:4: MovedIn20Warning: The ``declarative_base()`` function is now available as sqlalchemy.orm.declarative_base(). (deprecated since: 2.0) (Background on SQLAlchemy 2.0 at: https:\/\/sqlalche.me\/e\/b8d9)\n",
      "  Base = declarative_base()\n"
     ],
     "output_type":"stream"
    }
   ],
   "metadata":{
    "datalore":{
     "node_id":"7eqD7Eh0kXdk5LXPXODVT2",
     "type":"CODE",
     "hide_input_from_viewers":true,
     "hide_output_from_viewers":true
    }
   }
  },
  {
   "cell_type":"code",
   "source":[
    " "
   ],
   "execution_count":68,
   "outputs":[
    
   ],
   "metadata":{
    "datalore":{
     "node_id":"ggu0eL5XyJvNOjXWUjwTc1",
     "type":"CODE",
     "hide_input_from_viewers":true,
     "hide_output_from_viewers":true
    }
   }
  },
  {
   "cell_type":"markdown",
   "source":[
    "# Príklad aj výpisom"
   ],
   "attachments":{
    
   },
   "metadata":{
    "datalore":{
     "node_id":"JwCWZCfpVjcgafEqCmiSP3",
     "type":"MD",
     "hide_input_from_viewers":true,
     "hide_output_from_viewers":true
    }
   }
  },
  {
   "cell_type":"code",
   "source":[
    " "
   ],
   "execution_count":74,
   "outputs":[
    {
     "name":"stdout",
     "text":[
      "ID: 1, Meno: Adam Sangala\n"
     ],
     "output_type":"stream"
    }
   ],
   "metadata":{
    "datalore":{
     "node_id":"itRr4G6SOuITAAIr8OfYpi",
     "type":"CODE",
     "hide_input_from_viewers":true,
     "hide_output_from_viewers":true
    }
   }
  },
  {
   "cell_type":"markdown",
   "source":[
    "# Viacerí Používatelia"
   ],
   "attachments":{
    
   },
   "metadata":{
    "datalore":{
     "node_id":"cR4Z8mrArQY5y12iyh6Cs2",
     "type":"MD",
     "hide_input_from_viewers":true,
     "hide_output_from_viewers":true
    }
   }
  },
  {
   "cell_type":"code",
   "source":[
    " "
   ],
   "execution_count":79,
   "outputs":[
    {
     "name":"stdout",
     "text":[
      "ID: 1, Meno: Adam Sangala\n",
      "ID: 2, Meno: Eva Kvetna\n",
      "ID: 3, Meno: Ivana Rozumna\n"
     ],
     "output_type":"stream"
    }
   ],
   "metadata":{
    "datalore":{
     "node_id":"zczD2HL7LDO1ErcS3LOLOh",
     "type":"CODE",
     "hide_input_from_viewers":true,
     "hide_output_from_viewers":true
    }
   }
  }
 ],
 "metadata":{
  "kernelspec":{
   "display_name":"Python",
   "language":"python",
   "name":"python"
  },
  "datalore":{
   "computation_mode":"JUPYTER",
   "package_manager":"pip",
   "base_environment":"default",
   "packages":[
    
   ],
   "report_row_ids":[
    
   ],
   "version":3
  }
 },
 "nbformat":4,
 "nbformat_minor":4
}