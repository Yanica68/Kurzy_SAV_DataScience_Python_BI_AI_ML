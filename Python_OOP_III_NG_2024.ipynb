{
 "cells":[
  {
   "cell_type":"markdown",
   "source":[
    "# Triedy"
   ],
   "attachments":{
    
   },
   "metadata":{
    "datalore":{
     "node_id":"Triedy",
     "type":"MD",
     "hide_input_from_viewers":false,
     "hide_output_from_viewers":false,
     "sheet_delimiter":true
    }
   }
  },
  {
   "cell_type":"markdown",
   "source":[
    "# 🐍 Kurz Python III. Pokročilý (Objektové Programovanie II)\n",
    "**🧑‍🏫 Lektor:** Miroslav Reiter  \n",
    "**📥 LinkedIn kontakt:** https:\/\/www.linkedin.com\/in\/miroslav-reiter\/  \n",
    "\n",
    "**✅ Osnova:** https:\/\/itkurzy.sav.sk\/node\/194\n",
    "\n",
    "**🎞️ YouTube videá:** https:\/\/www.youtube.com\/c\/IT-AcademySK  \n",
    "**📇 Zdrojové kódy a materiály:** https:\/\/github.com\/miroslav-reiter\/Kurzy_SAV_Analytika_Python_R  \n",
    "\n",
    "**😊 Emojis:** Win + .  "
   ],
   "attachments":{
    
   },
   "metadata":{
    "datalore":{
     "node_id":"qRdXhRnZVVPQc9OEaStvFK",
     "type":"MD",
     "hide_input_from_viewers":false,
     "hide_output_from_viewers":false,
     "report_properties":{
      "rowId":"e3SflrAZQKNNp9Bvno12Hw"
     }
    }
   }
  },
  {
   "cell_type":"markdown",
   "source":[
    "# 🦮 Triedy (Clasess)\n",
    "Python je multiparadigmový programovací jazyk, ktorý podporuje objektovo orientované programovanie (OOP) **prostredníctvom tried**, ktoré môžete definovať pomocou **kľúčového slova class**. \n",
    "\n",
    "Triedu si môžete predstaviť ako časť kódu, ktorá špecifikuje **údaje** a **správanie**, ktoré predstavujú a modelujú konkrétny **typ objektu**.\n",
    "\n",
    "Bežnou analógiou je, že trieda je ako plán domu. Pomocou nákresu môžete vytvoriť niekoľko domov a dokonca aj celé sídlisko. Každý betónový dom je objekt alebo príklad, ktorý je odvodený z plánu.\n",
    "\n",
    "Každá inštancia môže mať svoje vlastné vlastnosti, ako je farba, vlastník a dizajn interiéru. Tieto vlastnosti nesú to, čo je bežne známe ako stav objektu. Prípady môžu mať aj rôzne správanie, napríklad zamykanie dverí a okien, otváranie garážových brán, zapínanie a vypínanie svetiel, polievanie záhrady a ďalšie.\n",
    "\n",
    "V OOP bežne používate termín **atribúty** na označenie **vlastností** alebo **údajov** spojených s konkrétnym objektom danej triedy. V Pythone sú **atribúty premenné** definované **vo vnútri triedy** s cieľom **uložiť všetky požadované údaje**, aby trieda fungovala.\n",
    "\n",
    "Podobne budete používať termín **metódy** na označenie rôznych **správaní**, ktoré budú **objekty vykazovať**. Metódy sú **funkcie**, ktoré definujete **v rámci triedy**. Tieto funkcie zvyčajne fungujú na alebo s atribútmi základnej inštancie alebo triedy. **Atribúty** a **metódy** sa **súhrnne označujú** ako **členovia triedy** alebo **objektu**.\n",
    "\n",
    "Môžete písať plne **funkčné triedy** na **modelovanie skutočného sveta**. Tieto triedy vám pomôžu **lepšie zorganizovať váš kód** a **vyriešiť zložité programovacie problémy**.\n",
    "\n",
    "**Triedy** môžete **použiť** napríklad na **vytváranie objekto**v, ktoré **napodobňujú** ľudí, zvieratá, vozidlá, knihy, budovy, autá alebo iné objekty. Môžete tiež modelovať **virtuálne objekty**, ako je webový server, adresárový strom, chatbot, správca súborov a ďalšie."
   ],
   "attachments":{
    
   },
   "metadata":{
    "datalore":{
     "node_id":"JByBNsSDmT3R64DEDrxAoI",
     "type":"MD",
     "hide_input_from_viewers":true,
     "hide_output_from_viewers":true
    }
   }
  },
  {
   "cell_type":"code",
   "source":[
    
   ],
   "execution_count":14,
   "outputs":[
    {
     "name":"stdout",
     "text":[
      "Účastníci prednášky 'Python OOP':\n",
      "Peter\n",
      "Lucia\n"
     ],
     "output_type":"stream"
    }
   ],
   "metadata":{
    "datalore":{
     "node_id":"EDfHYFoX6Q4TPaI2EYeOy2",
     "type":"CODE",
     "hide_input_from_viewers":true,
     "hide_output_from_viewers":true
    }
   }
  },
  {
   "cell_type":"markdown",
   "source":[
    "## 🐶 Vytváranie objektov z triedy\n",
    "\n",
    "**Akcia vytvorenia konkrétnych objektov** z **existujúcej triedy** je známa ako **inštanciácia**. S každou inštanciou vytvoríte nový objekt cieľovej triedy.\n",
    "\n",
    "Ak chcete vytvoriť objekt triedy Python, ako je Gula, musíte zavolať **konštruktor triedy Gula()** s párom zátvoriek a sadou **vhodných argumentov**. Aké argumenty? V Pythone konštruktor triedy akceptuje rovnaké argumenty ako metóda .__init__(). V tomto príklade trieda Gula očakáva argument polomeru.\n",
    "\n",
    "Volanie konštruktora triedy s rôznymi hodnotami argumentov vám umožní vytvárať rôzne objekty alebo inštancie cieľovej triedy. Vo vyššie uvedenom príklade sú gula_1 a gula_2 samostatnými inštanciami Gule. Inými slovami, **sú to 2 rôzne a konkrétne gule**."
   ],
   "attachments":{
    
   },
   "metadata":{
    "datalore":{
     "node_id":"DcDUyZwpJTTeMveGiHPIDr",
     "type":"MD",
     "hide_input_from_viewers":true,
     "hide_output_from_viewers":true
    }
   }
  },
  {
   "cell_type":"code",
   "source":[
    " "
   ],
   "execution_count":1,
   "outputs":[
    {
     "ename":"ImportError",
     "evalue":"ImportError: cannot import name 'Gula' from '__main__' (unknown location)",
     "traceback":[
      "\u001b[0;31m---------------------------------------------------------------------------",
      "Traceback (most recent call last)",
      "    at line 2 in <module>",
      "ImportError: cannot import name 'Gula' from '__main__' (unknown location)"
     ],
     "output_type":"error"
    }
   ],
   "metadata":{
    "datalore":{
     "node_id":"KZEMMpCOoMpdNuIxhyVIon",
     "type":"CODE",
     "hide_input_from_viewers":true,
     "hide_output_from_viewers":true
    }
   }
  },
  {
   "cell_type":"code",
   "source":[
    
   ],
   "execution_count":null,
   "outputs":[
    
   ],
   "metadata":{
    "datalore":{
     "node_id":"6bIly90386ecKEz8Jr01SH",
     "type":"CODE",
     "hide_input_from_viewers":true,
     "hide_output_from_viewers":true
    }
   }
  },
  {
   "cell_type":"code",
   "source":[
    
   ],
   "execution_count":null,
   "outputs":[
    
   ],
   "metadata":{
    "datalore":{
     "node_id":"wO5kxzHnDnzgagDcaYMSYv",
     "type":"CODE",
     "hide_input_from_viewers":true,
     "hide_output_from_viewers":true
    }
   }
  },
  {
   "cell_type":"markdown",
   "source":[
    "## 🤔 Name Mangling"
   ],
   "attachments":{
    
   },
   "metadata":{
    "datalore":{
     "node_id":"OINy9iHgphMNNOq7Tl7iYG",
     "type":"MD",
     "hide_input_from_viewers":true,
     "hide_output_from_viewers":true
    }
   }
  },
  {
   "cell_type":"markdown",
   "source":[
    "Dôležitou konvenciou pomenovania, ktorú môžete vidieť a používať v triedach Pythonu, je pridanie dvoch podčiarkovníkov na začiatku k názvom atribútov a metód. Táto konvencia názvov spúšťa to, čo je známe ako name mangling (mangľovanie mien).\n",
    "\n",
    "Zmena názvu je automatická transformácia názvov, ktorá pred meno člena pripojí názov triedy, napríklad v metóde _ClassName__attribute alebo _ClassName__. Výsledkom je skrytie mena. Inými slovami, zmenené názvy nie sú k dispozícii na priamy prístup. Nie sú súčasťou verejného rozhrania API triedy.\n",
    "\n",
    "**Vstavaná funkcia vars()**, ktorá **vracia slovník všetkých členov** **spojených s daným objektom**. Tento **slovník** hrá dôležitú úlohu v triedach Pythonu napríklad pri atribúte .__dict__."
   ],
   "attachments":{
    
   },
   "metadata":{
    "datalore":{
     "node_id":"r5JsKiVaCaZyKFXLcf7FTF",
     "type":"MD",
     "hide_input_from_viewers":true,
     "hide_output_from_viewers":true
    }
   }
  },
  {
   "cell_type":"code",
   "source":[
    "class TriedaPriklad:\n",
    "    def __init__(self, data):\n",
    "        self.data = data\n",
    "    def __metoda(self):\n",
    "        print(self.data)\n",
    "\n",
    "instancia_priklad = TriedaPriklad(\"Servus!\")\n",
    "print(f\"Zoznam atribútov\/dát v Instancii\/Objekte: {vars(instancia_priklad)}\")\n",
    "\n",
    "print(f\"Zoznam atribútov\/dát a metód v Triede: {vars(TriedaPriklad)}\")\n",
    "\n",
    "instancia_priklad = TriedaPriklad(\"Servus!\")\n",
    "# AttributeError: 'TriedaPriklad' object has no attribute '__data'\n",
    "# instancia_priklad.__data\n",
    "\n",
    "# AttributeError: 'TriedaPriklad' object has no attribute '__metoda'\n",
    "# instancia_priklad.__metoda()"
   ],
   "execution_count":null,
   "outputs":[
    
   ],
   "metadata":{
    "datalore":{
     "node_id":"7X4K00ZEjLSbabTWlE3TS4",
     "type":"CODE",
     "hide_input_from_viewers":true,
     "hide_output_from_viewers":true
    }
   }
  },
  {
   "cell_type":"markdown",
   "source":[
    "## ✅ Výhody používania tried\n",
    "Triedy sú stavebnými kameňmi objektovo orientovaného programovania v Pythone. Umožňujú vám využiť silu Pythonu pri písaní a organizovaní kódu. Keď sa dozviete o triedach, budete môcť využívať všetky výhody, ktoré poskytujú. \n",
    "\n",
    "Pomocou tried môžete:\n",
    "1. Modelovať a riešiť zložité problémy v reálnom svete: Nájdete veľa situácií, v ktorých sa objekty vo vašom kóde mapujú na objekty skutočného sveta. To vám môže pomôcť premýšľať o zložitých problémoch, čo povedie k lepším riešeniam vašich problémov s programovaním.\n",
    "\n",
    "2. Opätovne použiž kód a vyhnúť sa opakovaniu (DRY): Môžete definovať hierarchie súvisiacich tried. Základné triedy na vrchole hierarchie poskytujú bežnú funkčnosť, ktorú môžete neskôr znova použiť v podtriedach nižšie v hierarchii. To vám umožní znížiť duplicitu kódu a podporiť opätovné použitie kódu.\n",
    "   \n",
    "3. Zapúzdriť súvisiace údaje a správanie do 1 entity: Triedy Pythonu môžete použiť na spojenie súvisiacich atribútov a metód do jedinej entity, objektu. To vám pomôže lepšie organizovať váš kód pomocou modulárnych a autonómnych entít, ktoré môžete dokonca opätovne použiť vo viacerých projektoch.\n",
    "   \n",
    "4. Abstrahovať detaily implementácie konceptov a objektov: Triedy môžete použiť na abstrahovanie detailov implementácie základných konceptov a objektov. To vám pomôže poskytnúť vašim používateľom intuitívne rozhrania (API) na spracovanie zložitých údajov a správania.\n",
    "   \n",
    "5. Odomknúť polymorfizmus pomocou bežných rozhraní: Môžete implementovať konkrétne rozhranie do niekoľkých mierne odlišných tried a používať ich vo svojom kóde zameniteľne. Vďaka tomu bude váš kód flexibilnejší a prispôsobivejší.\n",
    "    \n",
    "6.  Triedy Pythonu vám môžu pomôcť písať organizovanejší, štruktúrovaný, udržiavateľný, opakovane použiteľný, flexibilný a používateľsky prívetivejší kód. Sú skvelou pomôckou, ale v niektorých situáciách príliš skomplikujú vaše riešenia.\n",
    "\n",
    "V Pythone verejné atribúty a metódy triedy tvoria to, čo poznáte ako rozhranie triedy alebo aplikačné programové rozhranie (API)."
   ],
   "attachments":{
    
   },
   "metadata":{
    "datalore":{
     "node_id":"xuzZIs6LqTMcydRpnPJqMk",
     "type":"MD",
     "hide_input_from_viewers":true,
     "hide_output_from_viewers":true
    }
   }
  },
  {
   "cell_type":"markdown",
   "source":[
    "## ❌ Kedy sa vyhnúť používaniu tried\n",
    "\n",
    "Triedy Pythonu sú celkom skvelé a výkonné nástroje, ktoré môžete použiť vo viacerých scenároch. Z tohto dôvodu majú niektorí ľudia tendenciu nadužívať triedy a riešiť všetky svoje problémy s kódovaním pomocou nich. Niekedy však použitie triedy nie je najlepším riešením. Niekedy stačí pár funkcií.\n",
    "\n",
    "V praxi sa stretnete s niekoľkými situáciami, v ktorých by ste sa mali lekciám vyhnúť. Napríklad by ste nemali používať bežné kurzy, keď potrebujete:\n",
    "\n",
    "Uchovávajte iba údaje. Namiesto toho použite triedu údajov alebo pomenovanú n-tku.\n",
    "Poskytnite jedinú metódu. Namiesto toho použite funkciu.\n",
    "Dátové triedy, enumerácie a pomenované n-tice sú špeciálne navrhnuté na ukladanie údajov. Takže môžu byť najlepším riešením, ak vaša trieda nemá pripojené žiadne správanie.\n",
    "\n",
    "Ak má vaša trieda vo svojom rozhraní API jedinú metódu, nemusíte triedu vyžadovať. Namiesto toho použite funkciu, pokiaľ medzi hovormi nepotrebujete zachovať určitý stav. Ak sa neskôr objavia ďalšie metódy, vždy môžete vytvoriť triedu. Pamätajte na princíp Pythonu:\n",
    "\n",
    "Jednoduché je lepšie ako zložité. (zdroj)\n",
    "\n",
    "Okrem toho by ste sa mali vyhnúť vytváraniu vlastných tried, aby ste zabalili funkcie, ktoré sú dostupné prostredníctvom vstavaných typov alebo tried tretích strán. Použite priamo typ alebo triedu tretej strany.\n",
    "\n",
    "Nájdete mnoho ďalších všeobecných situácií, v ktorých možno nebudete musieť používať triedy v kóde Pythonu. Napríklad triedy nie sú potrebné, keď pracujete s:\n",
    "\n",
    "Malý a jednoduchý program alebo skript, ktorý nevyžaduje zložité dátové štruktúry alebo logiku. V tomto prípade môže byť používanie tried prehnané.\n",
    "\n",
    "Program kritický pre výkon. Triedy zvyšujú réžiu vášho programu, najmä keď potrebujete vytvoriť veľa objektov. Môže to ovplyvniť všeobecnú výkonnosť vášho kódu.\n",
    "\n",
    "Starý kódový základ. Ak existujúca kódová základňa nepoužíva triedy, nemali by ste ich zavádzať. Tým sa naruší súčasný štýl kódovania a naruší sa konzistencia kódu.\n",
    "\n",
    "Tím s iným štýlom kódovania. Ak váš súčasný tím nepoužíva triedy, držte sa ich štýlu kódovania. Tým sa zabezpečí konzistentnosť v rámci projektu.\n",
    "\n",
    "Kódová základňa, ktorá využíva funkčné programovanie. Ak je daná kódová základňa v súčasnosti napísaná funkčným prístupom, nemali by ste zavádzať triedy. Tým sa naruší základná paradigma kódovania."
   ],
   "attachments":{
    
   },
   "metadata":{
    "datalore":{
     "node_id":"eGFm1Y1Y1HuTHZ4K5joK6o",
     "type":"MD",
     "hide_input_from_viewers":true,
     "hide_output_from_viewers":true
    }
   }
  },
  {
   "cell_type":"code",
   "source":[
    "# AI trieda zakaznik a zistenie veku zakaznika z roku narodenia "
   ],
   "execution_count":null,
   "outputs":[
    
   ],
   "metadata":{
    "datalore":{
     "node_id":"rJ6mJsBcevp37q1IcckTBF",
     "type":"CODE",
     "hide_input_from_viewers":true,
     "hide_output_from_viewers":true
    }
   }
  },
  {
   "cell_type":"code",
   "source":[
    " "
   ],
   "execution_count":null,
   "outputs":[
    
   ],
   "metadata":{
    "datalore":{
     "node_id":"xdU9vZptAOtJnm3KoSUCtn",
     "type":"CODE",
     "hide_input_from_viewers":true,
     "hide_output_from_viewers":true
    }
   }
  },
  {
   "cell_type":"code",
   "source":[
    " "
   ],
   "execution_count":null,
   "outputs":[
    
   ],
   "metadata":{
    "datalore":{
     "node_id":"RYozsm6gBvHyKCmj1eZwnx",
     "type":"CODE",
     "hide_input_from_viewers":true,
     "hide_output_from_viewers":true
    }
   }
  },
  {
   "cell_type":"markdown",
   "source":[
    "# 📘 Mutovateľnosť\/Nemutovateľnosť\n",
    "\n",
    "V programovaní máte nemenný (immutable) objekt, ak nemôžete zmeniť stav objektu po jeho vytvorení. Naproti tomu meniteľný (mutabôe) objekt umožňuje po vytvorení upraviť jeho vnútorný stav. Stručne povedané, to, či môžete zmeniť stav objektu alebo obsiahnuté údaje, určuje, či je tento objekt mutable alebo immutable.\n",
    "\n",
    "* Príklady **mutable** objektov: list, set, dict, byte array  \n",
    "* Príklady **immutable** objektov: number (int, float, complex), string, tuple, frozen set, bytes"
   ],
   "attachments":{
    
   },
   "metadata":{
    "datalore":{
     "node_id":"PjrSyITUWLIhGaXHwNV29o",
     "type":"MD",
     "hide_input_from_viewers":false,
     "hide_output_from_viewers":false,
     "report_properties":{
      "rowId":"e3SflrAZQKNNp9Bvno12Hw"
     }
    }
   }
  },
  {
   "cell_type":"code",
   "source":[
    " "
   ],
   "execution_count":null,
   "outputs":[
    
   ],
   "metadata":{
    "datalore":{
     "node_id":"2FS7Rvv9XwbktAMfTP8Zla",
     "type":"CODE",
     "hide_input_from_viewers":true,
     "hide_output_from_viewers":true
    }
   }
  },
  {
   "cell_type":"code",
   "source":[
    " "
   ],
   "execution_count":null,
   "outputs":[
    
   ],
   "metadata":{
    "datalore":{
     "node_id":"hPVqVqBZq8lSiiWR3ik8eb",
     "type":"CODE",
     "hide_input_from_viewers":true,
     "hide_output_from_viewers":true
    }
   }
  },
  {
   "cell_type":"code",
   "source":[
    " "
   ],
   "execution_count":null,
   "outputs":[
    
   ],
   "metadata":{
    "datalore":{
     "node_id":"ma8fZBrXex6YgiGZHYp5JS",
     "type":"CODE",
     "hide_input_from_viewers":true,
     "hide_output_from_viewers":true
    }
   }
  },
  {
   "cell_type":"markdown",
   "source":[
    "# 🙆 Príklady z Praxe OOP"
   ],
   "attachments":{
    
   },
   "metadata":{
    "datalore":{
     "node_id":"A2HCi5l3ziRYBargIO6emM",
     "type":"MD",
     "hide_input_from_viewers":true,
     "hide_output_from_viewers":true
    }
   }
  },
  {
   "cell_type":"markdown",
   "source":[
    "## 🧾 GUI Formuláre (Graphical User Interface)"
   ],
   "attachments":{
    
   },
   "metadata":{
    "datalore":{
     "node_id":"uWlGxGTRXfJXMQoQERJdLZ",
     "type":"MD",
     "hide_input_from_viewers":true,
     "hide_output_from_viewers":true
    }
   }
  },
  {
   "cell_type":"code",
   "source":[
    "dpw_farba_tricka = \"Modra\""
   ],
   "execution_count":null,
   "outputs":[
    
   ],
   "metadata":{
    "datalore":{
     "node_id":"bOpqqosGrkWhd8RKIE9XA6",
     "type":"CONTROL",
     "hide_input_from_viewers":false,
     "hide_output_from_viewers":false,
     "report_properties":{
      "rowId":"e3SflrAZQKNNp9Bvno12Hw"
     },
     "controls_state":[
      {
       "type":"DROPDOWN",
       "label":"Farba tricka:",
       "variable":"dpw_farba_tricka",
       "value":"Modra",
       "values":[
        
       ],
       "items":[
        "Cierna",
        "Zelena",
        "Modra"
       ],
       "multiselect":false,
       "respectSelectionOrder":false
      }
     ]
    }
   }
  },
  {
   "cell_type":"code",
   "source":[
    "print(f\"Vybral si si: {dpw_farba_tricka}\")"
   ],
   "execution_count":null,
   "outputs":[
    
   ],
   "metadata":{
    "datalore":{
     "node_id":"dF0x8DAothXBswRNnNUGXN",
     "type":"CODE",
     "hide_input_from_viewers":false,
     "hide_output_from_viewers":false,
     "report_properties":{
      "rowId":"e3SflrAZQKNNp9Bvno12Hw"
     }
    }
   }
  },
  {
   "cell_type":"markdown",
   "source":[
    "## 🖨️ Modul pprint\n",
    "\n",
    "Poskytuje možnosť **„pekne vytlačiť“** ľubovoľné **dátové štruktúry Pythonu vo forme**, ktorú možno použiť ako vstup pre interpreta. \n",
    "\n",
    "Ak formátované štruktúry obsahujú objekty, ktoré nie sú základnými typmi Pythonu, reprezentáciu možno nebude možné načítať. To môže byť prípad, ak sú zahrnuté objekty, ako sú súbory, sockety alebo triedy, ako aj mnohé iné objekty, ktoré nie sú reprezentovateľné ako literály Pythonu.\n",
    "\n",
    "Formátovaná reprezentácia udržiava objekty na **jednom riadku**, ak je to možné, a **rozdeľuje ich** na **viacero riadkov**, ak sa **nezmestia do povolenej šírky**. Objekty PrettyPrinter vytvorte explicitne, ak potrebujete upraviť obmedzenie šírky. "
   ],
   "attachments":{
    
   },
   "metadata":{
    "datalore":{
     "node_id":"KaES0yAqhrBk0E9LFItB39",
     "type":"MD",
     "hide_input_from_viewers":true,
     "hide_output_from_viewers":true
    }
   }
  },
  {
   "cell_type":"code",
   "source":[
    " "
   ],
   "execution_count":null,
   "outputs":[
    
   ],
   "metadata":{
    "datalore":{
     "node_id":"MxmD6wSzcCZ1FoM3kz1pYv",
     "type":"CODE",
     "hide_input_from_viewers":true,
     "hide_output_from_viewers":true
    }
   }
  },
  {
   "cell_type":"code",
   "source":[
    " "
   ],
   "execution_count":null,
   "outputs":[
    
   ],
   "metadata":{
    "datalore":{
     "node_id":"0t2x9mKXaYMYYY2dYpoPWX",
     "type":"CODE",
     "hide_input_from_viewers":true,
     "hide_output_from_viewers":true
    }
   }
  },
  {
   "cell_type":"code",
   "source":[
    " "
   ],
   "execution_count":2,
   "outputs":[
    {
     "name":"stdout",
     "text":[
      "{'author': '',\n",
      " 'author_email': '\"A. Random Developer\" <author@example.com>',\n",
      " 'bugtrack_url': None,\n",
      " 'classifiers': ['Development Status :: 3 - Alpha',\n",
      "                 'Intended Audience :: Developers',\n",
      "                 'License :: OSI Approved :: MIT License',\n",
      "                 'Programming Language :: Python :: 3',\n",
      "                 'Programming Language :: Python :: 3 :: Only',\n",
      "                 'Programming Language :: Python :: 3.10',\n",
      "                 'Programming Language :: Python :: 3.11',\n",
      "                 'Programming Language :: Python :: 3.7',\n",
      "                 'Programming Language :: Python :: 3.8',\n",
      "                 'Programming Language :: Python :: 3.9',\n",
      "                 'Topic :: Software Development :: Build Tools'],\n",
      " 'description': '# A sample Python project\\n'\n",
      "                '\\n'\n",
      "                '![Python '\n",
      "                'Logo](https:\/\/www.python.org\/static\/community_logos\/python-logo.png '\n",
      "                '\"Sample inline image\")\\n'\n",
      "                '\\n'\n",
      "                'A sample project that exists as an aid to the [Python '\n",
      "                'Packaging User\\n'\n",
      "                \"Guide][packaging guide]'s [Tutorial on Packaging and \"\n",
      "                'Distributing\\n'\n",
      "                'Projects][distribution tutorial].\\n'\n",
      "                '\\n'\n",
      "                'This project does not aim to cover best practices for Python '\n",
      "                'project\\n'\n",
      "                'development as a whole. For example, it does not provide '\n",
      "                'guidance or tool\\n'\n",
      "                'recommendations for version control, documentation, or '\n",
      "                'testing.\\n'\n",
      "                '\\n'\n",
      "                '[The source for this project is available here][src].\\n'\n",
      "                '\\n'\n",
      "                'The metadata for a Python project is defined in the '\n",
      "                '`pyproject.toml` file,\\n'\n",
      "                'an example of which is included in this project. You should '\n",
      "                'edit this file\\n'\n",
      "                'accordingly to adapt this sample project to your needs.\\n'\n",
      "                '\\n'\n",
      "                '----\\n'\n",
      "                '\\n'\n",
      "                'This is the README file for the project.\\n'\n",
      "                '\\n'\n",
      "                'The file should use UTF-8 encoding and can be written using\\n'\n",
      "                '[reStructuredText][rst] or [markdown][md use] with the '\n",
      "                'appropriate [key set][md\\n'\n",
      "                'use]. It will be used to generate the project webpage on PyPI '\n",
      "                'and will be\\n'\n",
      "                'displayed as the project homepage on common code-hosting '\n",
      "                'services, and should be\\n'\n",
      "                'written for that purpose.\\n'\n",
      "                '\\n'\n",
      "                'Typical contents for this file would include an overview of '\n",
      "                'the project, basic\\n'\n",
      "                'usage examples, etc. Generally, including the project '\n",
      "                'changelog in here is not a\\n'\n",
      "                \"good idea, although a simple “What's New” section for the \"\n",
      "                'most recent version\\n'\n",
      "                'may be appropriate.\\n'\n",
      "                '\\n'\n",
      "                '[packaging guide]: https:\/\/packaging.python.org\\n'\n",
      "                '[distribution tutorial]: '\n",
      "                'https:\/\/packaging.python.org\/tutorials\/packaging-projects\/\\n'\n",
      "                '[src]: https:\/\/github.com\/pypa\/sampleproject\\n'\n",
      "                '[rst]: http:\/\/docutils.sourceforge.net\/rst.html\\n'\n",
      "                '[md]: https:\/\/tools.ietf.org\/html\/rfc7764#section-3.5 '\n",
      "                '\"CommonMark variant\"\\n'\n",
      "                '[md use]: '\n",
      "                'https:\/\/packaging.python.org\/specifications\/core-metadata\/#description-content-type-optional\\n',\n",
      " 'description_content_type': 'text\/markdown',\n",
      " 'docs_url': None,\n",
      " 'download_url': '',\n",
      " 'downloads': {'last_day': -1, 'last_month': -1, 'last_week': -1},\n",
      " 'home_page': '',\n",
      " 'keywords': 'sample,setuptools,development',\n",
      " 'license': 'Copyright (c) 2016 The Python Packaging Authority (PyPA)  '\n",
      "            'Permission is hereby granted, free of charge, to any person '\n",
      "            'obtaining a copy of this software and associated documentation '\n",
      "            'files (the \"Software\"), to deal in the Software without '\n",
      "            'restriction, including without limitation the rights to use, '\n",
      "            'copy, modify, merge, publish, distribute, sublicense, and\/or sell '\n",
      "            'copies of the Software, and to permit persons to whom the '\n",
      "            'Software is furnished to do so, subject to the following '\n",
      "            'conditions:  The above copyright notice and this permission '\n",
      "            'notice shall be included in all copies or substantial portions of '\n",
      "            'the Software.  THE SOFTWARE IS PROVIDED \"AS IS\", WITHOUT WARRANTY '\n",
      "            'OF ANY KIND, EXPRESS OR IMPLIED, INCLUDING BUT NOT LIMITED TO THE '\n",
      "            'WARRANTIES OF MERCHANTABILITY, FITNESS FOR A PARTICULAR PURPOSE '\n",
      "            'AND NONINFRINGEMENT. IN NO EVENT SHALL THE AUTHORS OR COPYRIGHT '\n",
      "            'HOLDERS BE LIABLE FOR ANY CLAIM, DAMAGES OR OTHER LIABILITY, '\n",
      "            'WHETHER IN AN ACTION OF CONTRACT, TORT OR OTHERWISE, ARISING '\n",
      "            'FROM, OUT OF OR IN CONNECTION WITH THE SOFTWARE OR THE USE OR '\n",
      "            'OTHER DEALINGS IN THE SOFTWARE. ',\n",
      " 'maintainer': '',\n",
      " 'maintainer_email': '\"A. Great Maintainer\" <maintainer@example.com>',\n",
      " 'name': 'sampleproject',\n",
      " 'package_url': 'https:\/\/pypi.org\/project\/sampleproject\/',\n",
      " 'platform': None,\n",
      " 'project_url': 'https:\/\/pypi.org\/project\/sampleproject\/',\n",
      " 'project_urls': {'Bug Reports': 'https:\/\/github.com\/pypa\/sampleproject\/issues',\n",
      "                  'Funding': 'https:\/\/donate.pypi.org',\n",
      "                  'Homepage': 'https:\/\/github.com\/pypa\/sampleproject',\n",
      "                  'Say Thanks!': 'http:\/\/saythanks.io\/to\/example',\n",
      "                  'Source': 'https:\/\/github.com\/pypa\/sampleproject\/'},\n",
      " 'release_url': 'https:\/\/pypi.org\/project\/sampleproject\/3.0.0\/',\n",
      " 'requires_dist': ['peppercorn',\n",
      "                   \"check-manifest ; extra == 'dev'\",\n",
      "                   \"coverage ; extra == 'test'\"],\n",
      " 'requires_python': '>=3.7',\n",
      " 'summary': 'A sample Python project',\n",
      " 'version': '3.0.0',\n",
      " 'yanked': False,\n",
      " 'yanked_reason': None}\n"
     ],
     "output_type":"stream"
    }
   ],
   "metadata":{
    "datalore":{
     "node_id":"gTHBHdap1Ng5TZOizCjGqM",
     "type":"CODE",
     "hide_input_from_viewers":true,
     "hide_output_from_viewers":true
    }
   }
  },
  {
   "cell_type":"code",
   "source":[
    " "
   ],
   "execution_count":3,
   "outputs":[
    {
     "name":"stdout",
     "text":[
      "{'author': '', 'author_email': '\"A. Random Developer\" <author@example.com>', 'bugtrack_url': None, 'classifiers': ['Development Status :: 3 - Alpha', 'Intended Audience :: Developers', 'License :: OSI Approved :: MIT License', 'Programming Language :: Python :: 3', 'Programming Language :: Python :: 3 :: Only', 'Programming Language :: Python :: 3.10', 'Programming Language :: Python :: 3.11', 'Programming Language :: Python :: 3.7', 'Programming Language :: Python :: 3.8', 'Programming Language :: Python :: 3.9', 'Topic :: Software Development :: Build Tools'], 'description': '# A sample Python project\\n\\n![Python Logo](https:\/\/www.python.org\/static\/community_logos\/python-logo.png \"Sample inline image\")\\n\\nA sample project that exists as an aid to the [Python Packaging User\\nGuide][packaging guide]\\'s [Tutorial on Packaging and Distributing\\nProjects][distribution tutorial].\\n\\nThis project does not aim to cover best practices for Python project\\ndevelopment as a whole. For example, it does not provide guidance or tool\\nrecommendations for version control, documentation, or testing.\\n\\n[The source for this project is available here][src].\\n\\nThe metadata for a Python project is defined in the `pyproject.toml` file,\\nan example of which is included in this project. You should edit this file\\naccordingly to adapt this sample project to your needs.\\n\\n----\\n\\nThis is the README file for the project.\\n\\nThe file should use UTF-8 encoding and can be written using\\n[reStructuredText][rst] or [markdown][md use] with the appropriate [key set][md\\nuse]. It will be used to generate the project webpage on PyPI and will be\\ndisplayed as the project homepage on common code-hosting services, and should be\\nwritten for that purpose.\\n\\nTypical contents for this file would include an overview of the project, basic\\nusage examples, etc. Generally, including the project changelog in here is not a\\ngood idea, although a simple “What\\'s New” section for the most recent version\\nmay be appropriate.\\n\\n[packaging guide]: https:\/\/packaging.python.org\\n[distribution tutorial]: https:\/\/packaging.python.org\/tutorials\/packaging-projects\/\\n[src]: https:\/\/github.com\/pypa\/sampleproject\\n[rst]: http:\/\/docutils.sourceforge.net\/rst.html\\n[md]: https:\/\/tools.ietf.org\/html\/rfc7764#section-3.5 \"CommonMark variant\"\\n[md use]: https:\/\/packaging.python.org\/specifications\/core-metadata\/#description-content-type-optional\\n', 'description_content_type': 'text\/markdown', 'docs_url': None, 'download_url': '', 'downloads': {'last_day': -1, 'last_month': -1, 'last_week': -1}, 'home_page': '', 'keywords': 'sample,setuptools,development', 'license': 'Copyright (c) 2016 The Python Packaging Authority (PyPA)  Permission is hereby granted, free of charge, to any person obtaining a copy of this software and associated documentation files (the \"Software\"), to deal in the Software without restriction, including without limitation the rights to use, copy, modify, merge, publish, distribute, sublicense, and\/or sell copies of the Software, and to permit persons to whom the Software is furnished to do so, subject to the following conditions:  The above copyright notice and this permission notice shall be included in all copies or substantial portions of the Software.  THE SOFTWARE IS PROVIDED \"AS IS\", WITHOUT WARRANTY OF ANY KIND, EXPRESS OR IMPLIED, INCLUDING BUT NOT LIMITED TO THE WARRANTIES OF MERCHANTABILITY, FITNESS FOR A PARTICULAR PURPOSE AND NONINFRINGEMENT. IN NO EVENT SHALL THE AUTHORS OR COPYRIGHT HOLDERS BE LIABLE FOR ANY CLAIM, DAMAGES OR OTHER LIABILITY, WHETHER IN AN ACTION OF CONTRACT, TORT OR OTHERWISE, ARISING FROM, OUT OF OR IN CONNECTION WITH THE SOFTWARE OR THE USE OR OTHER DEALINGS IN THE SOFTWARE. ', 'maintainer': '', 'maintainer_email': '\"A. Great Maintainer\" <maintainer@example.com>', 'name': 'sampleproject', 'package_url': 'https:\/\/pypi.org\/project\/sampleproject\/', 'platform': None, 'project_url': 'https:\/\/pypi.org\/project\/sampleproject\/', 'project_urls': {'Bug Reports': 'https:\/\/github.com\/pypa\/sampleproject\/issues', 'Funding': 'https:\/\/donate.pypi.org', 'Homepage': 'https:\/\/github.com\/pypa\/sampleproject', 'Say Thanks!': 'http:\/\/saythanks.io\/to\/example', 'Source': 'https:\/\/github.com\/pypa\/sampleproject\/'}, 'release_url': 'https:\/\/pypi.org\/project\/sampleproject\/3.0.0\/', 'requires_dist': ['peppercorn', \"check-manifest ; extra == 'dev'\", \"coverage ; extra == 'test'\"], 'requires_python': '>=3.7', 'summary': 'A sample Python project', 'version': '3.0.0', 'yanked': False, 'yanked_reason': None}\n"
     ],
     "output_type":"stream"
    }
   ],
   "metadata":{
    "datalore":{
     "node_id":"YH3rGmjy4xJLwcYtbL6PMB",
     "type":"CODE",
     "hide_input_from_viewers":true,
     "hide_output_from_viewers":true
    }
   }
  },
  {
   "cell_type":"code",
   "source":[
    " "
   ],
   "execution_count":4,
   "outputs":[
    {
     "name":"stdout",
     "text":[
      "{'author': '',\n",
      " 'author_email': '\"A. Random Developer\" <author@example.com>',\n",
      " 'bugtrack_url': None,\n",
      " 'classifiers': [...],\n",
      " 'description': '# A sample Python project\\n'\n",
      "                '\\n'\n",
      "                '![Python '\n",
      "                'Logo](https:\/\/www.python.org\/static\/community_logos\/python-logo.png '\n",
      "                '\"Sample inline image\")\\n'\n",
      "                '\\n'\n",
      "                'A sample project that exists as an aid to the [Python '\n",
      "                'Packaging User\\n'\n",
      "                \"Guide][packaging guide]'s [Tutorial on Packaging and \"\n",
      "                'Distributing\\n'\n",
      "                'Projects][distribution tutorial].\\n'\n",
      "                '\\n'\n",
      "                'This project does not aim to cover best practices for Python '\n",
      "                'project\\n'\n",
      "                'development as a whole. For example, it does not provide '\n",
      "                'guidance or tool\\n'\n",
      "                'recommendations for version control, documentation, or '\n",
      "                'testing.\\n'\n",
      "                '\\n'\n",
      "                '[The source for this project is available here][src].\\n'\n",
      "                '\\n'\n",
      "                'The metadata for a Python project is defined in the '\n",
      "                '`pyproject.toml` file,\\n'\n",
      "                'an example of which is included in this project. You should '\n",
      "                'edit this file\\n'\n",
      "                'accordingly to adapt this sample project to your needs.\\n'\n",
      "                '\\n'\n",
      "                '----\\n'\n",
      "                '\\n'\n",
      "                'This is the README file for the project.\\n'\n",
      "                '\\n'\n",
      "                'The file should use UTF-8 encoding and can be written using\\n'\n",
      "                '[reStructuredText][rst] or [markdown][md use] with the '\n",
      "                'appropriate [key set][md\\n'\n",
      "                'use]. It will be used to generate the project webpage on PyPI '\n",
      "                'and will be\\n'\n",
      "                'displayed as the project homepage on common code-hosting '\n",
      "                'services, and should be\\n'\n",
      "                'written for that purpose.\\n'\n",
      "                '\\n'\n",
      "                'Typical contents for this file would include an overview of '\n",
      "                'the project, basic\\n'\n",
      "                'usage examples, etc. Generally, including the project '\n",
      "                'changelog in here is not a\\n'\n",
      "                \"good idea, although a simple “What's New” section for the \"\n",
      "                'most recent version\\n'\n",
      "                'may be appropriate.\\n'\n",
      "                '\\n'\n",
      "                '[packaging guide]: https:\/\/packaging.python.org\\n'\n",
      "                '[distribution tutorial]: '\n",
      "                'https:\/\/packaging.python.org\/tutorials\/packaging-projects\/\\n'\n",
      "                '[src]: https:\/\/github.com\/pypa\/sampleproject\\n'\n",
      "                '[rst]: http:\/\/docutils.sourceforge.net\/rst.html\\n'\n",
      "                '[md]: https:\/\/tools.ietf.org\/html\/rfc7764#section-3.5 '\n",
      "                '\"CommonMark variant\"\\n'\n",
      "                '[md use]: '\n",
      "                'https:\/\/packaging.python.org\/specifications\/core-metadata\/#description-content-type-optional\\n',\n",
      " 'description_content_type': 'text\/markdown',\n",
      " 'docs_url': None,\n",
      " 'download_url': '',\n",
      " 'downloads': {...},\n",
      " 'home_page': '',\n",
      " 'keywords': 'sample,setuptools,development',\n",
      " 'license': 'Copyright (c) 2016 The Python Packaging Authority (PyPA)  '\n",
      "            'Permission is hereby granted, free of charge, to any person '\n",
      "            'obtaining a copy of this software and associated documentation '\n",
      "            'files (the \"Software\"), to deal in the Software without '\n",
      "            'restriction, including without limitation the rights to use, '\n",
      "            'copy, modify, merge, publish, distribute, sublicense, and\/or sell '\n",
      "            'copies of the Software, and to permit persons to whom the '\n",
      "            'Software is furnished to do so, subject to the following '\n",
      "            'conditions:  The above copyright notice and this permission '\n",
      "            'notice shall be included in all copies or substantial portions of '\n",
      "            'the Software.  THE SOFTWARE IS PROVIDED \"AS IS\", WITHOUT WARRANTY '\n",
      "            'OF ANY KIND, EXPRESS OR IMPLIED, INCLUDING BUT NOT LIMITED TO THE '\n",
      "            'WARRANTIES OF MERCHANTABILITY, FITNESS FOR A PARTICULAR PURPOSE '\n",
      "            'AND NONINFRINGEMENT. IN NO EVENT SHALL THE AUTHORS OR COPYRIGHT '\n",
      "            'HOLDERS BE LIABLE FOR ANY CLAIM, DAMAGES OR OTHER LIABILITY, '\n",
      "            'WHETHER IN AN ACTION OF CONTRACT, TORT OR OTHERWISE, ARISING '\n",
      "            'FROM, OUT OF OR IN CONNECTION WITH THE SOFTWARE OR THE USE OR '\n",
      "            'OTHER DEALINGS IN THE SOFTWARE. ',\n",
      " 'maintainer': '',\n",
      " 'maintainer_email': '\"A. Great Maintainer\" <maintainer@example.com>',\n",
      " 'name': 'sampleproject',\n",
      " 'package_url': 'https:\/\/pypi.org\/project\/sampleproject\/',\n",
      " 'platform': None,\n",
      " 'project_url': 'https:\/\/pypi.org\/project\/sampleproject\/',\n",
      " 'project_urls': {...},\n",
      " 'release_url': 'https:\/\/pypi.org\/project\/sampleproject\/3.0.0\/',\n",
      " 'requires_dist': [...],\n",
      " 'requires_python': '>=3.7',\n",
      " 'summary': 'A sample Python project',\n",
      " 'version': '3.0.0',\n",
      " 'yanked': False,\n",
      " 'yanked_reason': None}\n"
     ],
     "output_type":"stream"
    }
   ],
   "metadata":{
    "datalore":{
     "node_id":"RMDa6BYuXI2FuhbTGLEXKV",
     "type":"CODE",
     "hide_input_from_viewers":true,
     "hide_output_from_viewers":true
    }
   }
  },
  {
   "cell_type":"markdown",
   "source":[
    "# Duck Type"
   ],
   "attachments":{
    
   },
   "metadata":{
    "datalore":{
     "node_id":"Duck Type",
     "type":"MD",
     "hide_input_from_viewers":false,
     "hide_output_from_viewers":false,
     "sheet_delimiter":true
    }
   }
  },
  {
   "cell_type":"markdown",
   "source":[
    "# 🦆 Duck Typing \n",
    "* Programovací koncept používaný v dynamicky typovaných jazykoch ako je Python \n",
    "* Tento koncept hovorí, že ak objekt vyzerá ako kačka a kváka ako kačka, potom by sa s objektom malo zaobchádzať ako s kačkou \n",
    "* V kontexte programovania to znamená, že typ objektu je menej dôležitý než metódy (funkcie) alebo atribúty (vlastnosti), ktoré objekt poskytuje\n",
    "* V Pythonu sa teda nekladie dôraz na to, aby objekt patril k špecifickému typu alebo triede \n",
    "* Namiesto toho je dôležité, aby objekt implementoval požadované metódy alebo atribúty, ktoré sú potrebné pre danú operáciu alebo funkciu \n",
    "* Toto umožňuje väčšiu flexibilitu a znovupoužiteľnosť kódu"
   ],
   "attachments":{
    
   },
   "metadata":{
    "datalore":{
     "node_id":"dpDsrYzjP6dPSZWPP2f6dE",
     "type":"MD",
     "hide_input_from_viewers":true,
     "hide_output_from_viewers":true
    }
   }
  },
  {
   "cell_type":"code",
   "source":[
    
   ],
   "execution_count":21,
   "outputs":[
    {
     "name":"stdout",
     "text":[
      "🦆 Kačka kráča kvačkajúc.\n",
      "🧑 Osoba ide pokojným krokom.\n"
     ],
     "output_type":"stream"
    }
   ],
   "metadata":{
    "datalore":{
     "node_id":"v0lAfLTnCebFLpA4hg0bqq",
     "type":"CODE",
     "hide_input_from_viewers":true,
     "hide_output_from_viewers":true
    }
   }
  },
  {
   "cell_type":"code",
   "source":[
    
   ],
   "execution_count":3,
   "outputs":[
    {
     "name":"stdout",
     "text":[
      "🎸 Struny gitary šepkajú melódiu.\n",
      "🎹 Klávesy pianina rezonujú v harmónii.\n",
      "🥁 Bicie bubny vytvárajú rytmický pulz.\n"
     ],
     "output_type":"stream"
    }
   ],
   "metadata":{
    "datalore":{
     "node_id":"d3gZ1VarBblik1IgYuOTdr",
     "type":"CODE",
     "hide_input_from_viewers":true,
     "hide_output_from_viewers":true
    }
   }
  },
  {
   "cell_type":"markdown",
   "source":[
    "## ✅ Výhody Duck Typingu\n",
    "1. Flexibilita: Kód je flexibilnejší, pretože môže pracovať s rôznymi typmi objektov, pokiaľ spĺňajú potrebné rozhranie (metódy\/atribúty).\n",
    "2. Znovupoužiteľnosť kódu: Funkcie a metódy môžu byť ľahko znovupoužité pre rôzne typy objektov.\n",
    "3. Jednoduchosť: Kód je často jednoduchší a čitateľnejší, pretože sa zameriava na to, čo objekty robia, nie na to, čo sú."
   ],
   "attachments":{
    
   },
   "metadata":{
    "datalore":{
     "node_id":"I50S3gGIvHsTKP6fXzYa7N",
     "type":"MD",
     "hide_input_from_viewers":true,
     "hide_output_from_viewers":true
    }
   }
  },
  {
   "cell_type":"markdown",
   "source":[
    "## ❌ Nebezpečenstvá Duck Typingu\n",
    "1. Chyby za behu: Ak objekt, ktorý neposkytuje potrebné metódy alebo atribúty, je použitý v operácii, ktorá ich vyžaduje, môže to viesť k chybe za behu.\n",
    "2. Náročnosť na dokumentáciu: Je dôležité mať dobre zdokumentované, aké metódy alebo atribúty sú pre danú funkciu alebo metódu potrebné.\n",
    "3. Duck Typing je teda užitočný koncept, ktorý prispieva k flexibilite a dynamickosti Pythonu, ale je dôležité ho používať zodpovedne s ohľadom na potenciálne riziká."
   ],
   "attachments":{
    
   },
   "metadata":{
    "datalore":{
     "node_id":"H4Nj1IdYUB7Pie7Ka1fQfN",
     "type":"MD",
     "hide_input_from_viewers":true,
     "hide_output_from_viewers":true
    }
   }
  },
  {
   "cell_type":"markdown",
   "source":[
    "# Property"
   ],
   "attachments":{
    
   },
   "metadata":{
    "datalore":{
     "node_id":"Property",
     "type":"MD",
     "hide_input_from_viewers":false,
     "hide_output_from_viewers":false,
     "sheet_delimiter":true
    }
   }
  },
  {
   "cell_type":"markdown",
   "source":[
    "# 🏠 Vlastnosti (Property)\n",
    "1. Špeciálna funkcia v Pythone\n",
    "2. Umožňuje definovať metódy v triede, ktoré sa správajú ako atribúty \n",
    "3. K atribútom môžeme pristupovať a nastavovať ich hodnoty, ako keby boli obyčajné premenné\n",
    "4. Umožňuje nám obaľovať prístup k atribútom objektu a poskytuje väčšiu kontrolu nad tým, ako sú tieto atribúty nastavené a získavané\n",
    "5. V skutočnosti za tým bežia metódy, ktoré tieto operácie riadia"
   ],
   "attachments":{
    
   },
   "metadata":{
    "datalore":{
     "node_id":"Wf0FH4hkrgrFkwlDqhzHT5",
     "type":"MD",
     "hide_input_from_viewers":true,
     "hide_output_from_viewers":true
    }
   }
  },
  {
   "cell_type":"code",
   "source":[
    
   ],
   "execution_count":6,
   "outputs":[
    {
     "name":"stdout",
     "text":[
      "Osoba 🧑 ma: 35 rokov\n"
     ],
     "output_type":"stream"
    }
   ],
   "metadata":{
    "datalore":{
     "node_id":"lyje6bd1Q8HMXHrMxHXHGk",
     "type":"CODE",
     "hide_input_from_viewers":true,
     "hide_output_from_viewers":true
    }
   }
  },
  {
   "cell_type":"code",
   "source":[
    
   ],
   "execution_count":18,
   "outputs":[
    {
     "name":"stdout",
     "text":[
      "🟢 Obvod kruhu: 31.42 m\n",
      "🔴 Obsah kruhu: 78.54 m^2\n"
     ],
     "output_type":"stream"
    }
   ],
   "metadata":{
    "datalore":{
     "node_id":"T0dGEd8oNsTz1ZfQJSeFRX",
     "type":"CODE",
     "hide_input_from_viewers":true,
     "hide_output_from_viewers":true
    }
   }
  },
  {
   "cell_type":"markdown",
   "source":[
    "## 🧠 Cachovanie Výsledkov\n",
    "- Použitie property na cachovanie výsledkov drahých operácií je veľmi užitočné\n",
    "  \n",
    "- Predstavme si, že máme triedu Kruh s metódou na výpočet obsahu, ktorý chceme cachovať po prvej kalkulácii"
   ],
   "attachments":{
    
   },
   "metadata":{
    "datalore":{
     "node_id":"3z27xQTZxss3lbjx7bEf1l",
     "type":"MD",
     "hide_input_from_viewers":true,
     "hide_output_from_viewers":true
    }
   }
  },
  {
   "cell_type":"code",
   "source":[
    
   ],
   "execution_count":4,
   "outputs":[
    {
     "name":"stdout",
     "text":[
      "Výpočet obsahu kruhu...\n",
      "78.53981633974483\n",
      "78.53981633974483\n"
     ],
     "output_type":"stream"
    }
   ],
   "metadata":{
    "datalore":{
     "node_id":"N8qxOfqFNtBDRatstMbJfB",
     "type":"CODE",
     "hide_input_from_viewers":true,
     "hide_output_from_viewers":true
    }
   }
  },
  {
   "cell_type":"markdown",
   "source":[
    "## 🔎 Validácia a normalizácia\n",
    "Pomocou @property môžeme validovať a normalizovať dáta pri ich nastavovaní."
   ],
   "attachments":{
    
   },
   "metadata":{
    "datalore":{
     "node_id":"77s4KkOHOH2a4t5nqIyBdo",
     "type":"MD",
     "hide_input_from_viewers":true,
     "hide_output_from_viewers":true
    }
   }
  },
  {
   "cell_type":"code",
   "source":[
    " "
   ],
   "execution_count":8,
   "outputs":[
    {
     "name":"stdout",
     "text":[
      "💵 Cena produkt: 80 Eur\n",
      "🔖 Cena nemôže byť záporná!\n"
     ],
     "output_type":"stream"
    }
   ],
   "metadata":{
    "datalore":{
     "node_id":"w7nFqqKanhO4aTI64lQjm2",
     "type":"CODE",
     "hide_input_from_viewers":true,
     "hide_output_from_viewers":true
    }
   }
  },
  {
   "cell_type":"markdown",
   "source":[
    "## Readonly atribúty\n",
    "@property môže byť tiež použitá na vytvorenie atribútov, ktoré sú iba na čítanie a nemôžu byť zmenené."
   ],
   "attachments":{
    
   },
   "metadata":{
    "datalore":{
     "node_id":"LoVWyC2dwrxSsaEUPzef8q",
     "type":"MD",
     "hide_input_from_viewers":true,
     "hide_output_from_viewers":true
    }
   }
  },
  {
   "cell_type":"code",
   "source":[
    " "
   ],
   "execution_count":12,
   "outputs":[
    {
     "name":"stdout",
     "text":[
      "3.14159\n"
     ],
     "output_type":"stream"
    }
   ],
   "metadata":{
    "datalore":{
     "node_id":"S4gAoYgutgiWBi1tjfibqM",
     "type":"CODE",
     "hide_input_from_viewers":true,
     "hide_output_from_viewers":true
    }
   }
  },
  {
   "cell_type":"markdown",
   "source":[
    "## Ďalšie príklady @property"
   ],
   "attachments":{
    
   },
   "metadata":{
    "datalore":{
     "node_id":"HHxmgksIvQaDzy00KljQ3L",
     "type":"MD",
     "hide_input_from_viewers":true,
     "hide_output_from_viewers":true
    }
   }
  },
  {
   "cell_type":"code",
   "source":[
    
   ],
   "execution_count":17,
   "outputs":[
    {
     "name":"stdout",
     "text":[
      "karol.sangala@gmail.com\n"
     ],
     "output_type":"stream"
    }
   ],
   "metadata":{
    "datalore":{
     "node_id":"SYF0Qgy3RAI8ej6PXRKoBm",
     "type":"CODE",
     "hide_input_from_viewers":true,
     "hide_output_from_viewers":true
    }
   }
  },
  {
   "cell_type":"code",
   "source":[
    " "
   ],
   "execution_count":9,
   "outputs":[
    {
     "name":"stdout",
     "text":[
      "🌡️ Teplota: 0.0 v °C\n",
      "🤒 Teplota: 212.0 v °F\n"
     ],
     "output_type":"stream"
    }
   ],
   "metadata":{
    "datalore":{
     "node_id":"jFwZtmuce7u82kPsVJnHKF",
     "type":"CODE",
     "hide_input_from_viewers":true,
     "hide_output_from_viewers":true
    }
   }
  },
  {
   "cell_type":"markdown",
   "source":[
    "# UML"
   ],
   "attachments":{
    
   },
   "metadata":{
    "datalore":{
     "node_id":"UML",
     "type":"MD",
     "hide_input_from_viewers":false,
     "hide_output_from_viewers":false,
     "sheet_delimiter":true
    }
   }
  },
  {
   "cell_type":"markdown",
   "source":[
    "# ✨ Agregácia"
   ],
   "attachments":{
    
   },
   "metadata":{
    "datalore":{
     "node_id":"UVhToyayQ5HjCvH9g3UHAl",
     "type":"MD",
     "hide_input_from_viewers":true,
     "hide_output_from_viewers":true
    }
   }
  },
  {
   "cell_type":"markdown",
   "source":[
    "- Je špeciálny typ asociácie, ktorý predstavuje vzťah \"je súčasťou\" medzi nadradeným objektom (celkom) a podradenými objektmi (časťami) \n",
    "- Používa na vyjadrenie vzťahu \"celok-časť\", kde celok môže existovať nezávisle od svojich častí\n",
    "- V OOP sa agregácia obvykle implementuje prostredníctvom zloženia objektov, kde objekt obsahuje jeden alebo viaceré objekty iných tried ako svoje atribúty\n",
    "- Objekt obsahuje alebo využíva iné objekty ako svoje atribúty"
   ],
   "attachments":{
    
   },
   "metadata":{
    "datalore":{
     "node_id":"v1g5mFXoycmiXiGBYzucBF",
     "type":"MD",
     "hide_input_from_viewers":true,
     "hide_output_from_viewers":true
    }
   }
  },
  {
   "cell_type":"markdown",
   "source":[
    "# String"
   ],
   "attachments":{
    
   },
   "metadata":{
    "datalore":{
     "node_id":"String",
     "type":"MD",
     "hide_input_from_viewers":false,
     "hide_output_from_viewers":false,
     "sheet_delimiter":true
    }
   }
  },
  {
   "cell_type":"markdown",
   "source":[
    "# 🔢 String\n",
    "\n",
    "- https:\/\/docs.python.org\/3\/library\/string.html?highlight=string#module-string  \n",
    "- https:\/\/docs.python.org\/3\/library\/stdtypes.html#text-sequence-type-str  "
   ],
   "attachments":{
    
   },
   "metadata":{
    "datalore":{
     "node_id":"gKEeSHs7hWYiMMhX97Ili9",
     "type":"MD",
     "hide_input_from_viewers":true,
     "hide_output_from_viewers":true
    }
   }
  },
  {
   "cell_type":"markdown",
   "source":[
    "## String (Reťazcové) Konštanty"
   ],
   "attachments":{
    
   },
   "metadata":{
    "datalore":{
     "node_id":"uNCE1z8KyL45jKfYoZKAx4",
     "type":"MD",
     "hide_input_from_viewers":true,
     "hide_output_from_viewers":true
    }
   }
  },
  {
   "cell_type":"code",
   "source":[
    
   ],
   "execution_count":41,
   "outputs":[
    {
     "name":"stdout",
     "text":[
      "abcdefghijklmnopqrstuvwxyzABCDEFGHIJKLMNOPQRSTUVWXYZ\n",
      "abcdefghijklmnopqrstuvwxyz\n",
      "ABCDEFGHIJKLMNOPQRSTUVWXYZ\n",
      "0123456789\n",
      "0123456789abcdefABCDEF\n",
      "01234567\n",
      "!\"#$%&'()*+,-.\/:;<=>?@[\\]^_`{|}~\n",
      "0123456789abcdefghijklmnopqrstuvwxyzABCDEFGHIJKLMNOPQRSTUVWXYZ!\"#$%&'()*+,-.\/:;<=>?@[\\]^_`{|}~ \t\n",
      "\r\u000b\f\n",
      " \t\n",
      "\r\u000b\f\n"
     ],
     "output_type":"stream"
    }
   ],
   "metadata":{
    "datalore":{
     "node_id":"Ekfjix7GobWsUF4S9o0QrT",
     "type":"CODE",
     "hide_input_from_viewers":true,
     "hide_output_from_viewers":true
    }
   }
  },
  {
   "cell_type":"markdown",
   "source":[
    "## String (Reťazcové) Operátory"
   ],
   "attachments":{
    
   },
   "metadata":{
    "datalore":{
     "node_id":"O7kvMS9tQpU5PciggzC3jY",
     "type":"MD",
     "hide_input_from_viewers":true,
     "hide_output_from_viewers":true
    }
   }
  },
  {
   "cell_type":"code",
   "source":[
    " "
   ],
   "execution_count":83,
   "outputs":[
    {
     "name":"stdout",
     "text":[
      "Eva + Adam\n",
      "Eva Eva Eva Eva \n",
      "False\n",
      "True\n",
      "False\n",
      "True\n",
      "False\n",
      "\n"
     ],
     "output_type":"stream"
    },
    {
     "name":"stderr",
     "text":[
      "\n",
      "<>:11: SyntaxWarning: \"is\" with a literal. Did you mean \"==\"?\n",
      "<>:11: SyntaxWarning: \"is\" with a literal. Did you mean \"==\"?\n",
      "<ipython-input-83-92ae433f8d36>:11: SyntaxWarning: \"is\" with a literal. Did you mean \"==\"?\n",
      "  print(\"Adam\" is \"Eva\")\n"
     ],
     "output_type":"stream"
    }
   ],
   "metadata":{
    "datalore":{
     "node_id":"fOMCC6Y86AqA1neowgTCjX",
     "type":"CODE",
     "hide_input_from_viewers":true,
     "hide_output_from_viewers":true
    }
   }
  },
  {
   "cell_type":"code",
   "source":[
    " "
   ],
   "execution_count":86,
   "outputs":[
    {
     "name":"stdout",
     "text":[
      "False\n",
      "False\n",
      "True\n",
      "\n"
     ],
     "output_type":"stream"
    },
    {
     "name":"stderr",
     "text":[
      "\n",
      "<>:1: SyntaxWarning: \"is\" with a literal. Did you mean \"==\"?\n",
      "<>:1: SyntaxWarning: \"is\" with a literal. Did you mean \"==\"?\n",
      "<ipython-input-86-46645f55715c>:1: SyntaxWarning: \"is\" with a literal. Did you mean \"==\"?\n",
      "  print(\"Adam\" is \"Eva\")\n"
     ],
     "output_type":"stream"
    }
   ],
   "metadata":{
    "datalore":{
     "node_id":"bHadMLY7SW48hFwXgXQyN6",
     "type":"CODE",
     "hide_input_from_viewers":true,
     "hide_output_from_viewers":true
    }
   }
  },
  {
   "cell_type":"markdown",
   "source":[
    "## String (Reťazcové) Metódy\n",
    "Reťazce implementujú všetky bežné sekvenčné operácie spolu s ďalšími metódami nižšie.\n",
    "\n",
    "Reťazce tiež podporujú 2 štýly formátovania reťazcov:\n",
    "1. Poskytuje veľkú mieru flexibility a prispôsobenia (str.format(), Format String Syntax a Custom String Formatting) \n",
    "2. Založený na formátovaní štýlu C printf, ktorý zvláda užší rozsah typov. Je to o niečo ťažšie správne použiť, ale je často rýchlejší pre prípady, ktoré zvládne (formátovanie reťazcov v štýle printf)."
   ],
   "attachments":{
    
   },
   "metadata":{
    "datalore":{
     "node_id":"Ob2yJ83kpHw9cR0wAQQxKA",
     "type":"MD",
     "hide_input_from_viewers":true,
     "hide_output_from_viewers":true
    }
   }
  },
  {
   "cell_type":"code",
   "source":[
    " "
   ],
   "execution_count":97,
   "outputs":[
    {
     "name":"stdout",
     "text":[
      "capitalize -> Adam sangala\n",
      "casefold -> adam sangala\n",
      "title -> Adam Sangala\n",
      "upper -> ADAM SANGALA\n",
      "center ->        Adam Sangala      \n",
      "\n",
      "count -> 4\n",
      "count -> 1\n",
      "count -> 1\n",
      "count -> 0\n",
      "encode -> b'Adam Sangala'\n",
      "encode -> b'Adam Sangala'\n",
      "\n",
      "endswith -> True\n",
      "endswith -> False\n",
      "startswith -> True\n",
      "find -> 2\n",
      "find -> 4\n",
      "format 2+7 -> 9 \n",
      "\n",
      "index -> 4\n",
      "index -> 2\n"
     ],
     "output_type":"stream"
    }
   ],
   "metadata":{
    "datalore":{
     "node_id":"qIIB0vRBt85GBGa31CKwo6",
     "type":"CODE",
     "hide_input_from_viewers":true,
     "hide_output_from_viewers":true
    }
   }
  },
  {
   "cell_type":"code",
   "source":[
    " "
   ],
   "execution_count":113,
   "outputs":[
    {
     "name":"stdout",
     "text":[
      "isalnum -> False\n",
      "isalnum -> True\n",
      "isalpha -> False\n",
      "isascii -> True\n",
      "isdecimal -> False\n",
      "\n",
      "isdigit -> False\n",
      "isdigit -> True\n",
      "\n",
      "islower -> False\n",
      "islower -> True\n",
      "isnumeric -> True\n",
      "islower -> False\n"
     ],
     "output_type":"stream"
    }
   ],
   "metadata":{
    "datalore":{
     "node_id":"tWFgfeBUvwotHvZLcaKWsI",
     "type":"CODE",
     "hide_input_from_viewers":true,
     "hide_output_from_viewers":true
    }
   }
  },
  {
   "cell_type":"code",
   "source":[
    " "
   ],
   "execution_count":110,
   "outputs":[
    {
     "name":"stdout",
     "text":[
      "['False', 'None', 'True', 'and', 'as', 'assert', 'async', 'await', 'break', 'class', 'continue', 'def', 'del', 'elif', 'else', 'except', 'finally', 'for', 'from', 'global', 'if', 'import', 'in', 'is', 'lambda', 'nonlocal', 'not', 'or', 'pass', 'raise', 'return', 'try', 'while', 'with', 'yield']\n",
      "35\n",
      "isidentifier -> False\n",
      "isidentifier -> True\n"
     ],
     "output_type":"stream"
    }
   ],
   "metadata":{
    "datalore":{
     "node_id":"7k1hytcHecsHPc0zJfhZVC",
     "type":"CODE",
     "hide_input_from_viewers":true,
     "hide_output_from_viewers":true
    }
   }
  },
  {
   "cell_type":"code",
   "source":[
    
   ],
   "execution_count":144,
   "outputs":[
    {
     "name":"stdout",
     "text":[
      "isprintable -> True\n",
      "isprintable -> True\n",
      "isprintable -> False\n",
      "\n",
      "isspace -> False\n",
      "isspace -> True\n",
      "\n",
      "istitle -> True\n",
      "istitle -> False\n",
      "\n",
      "istitle -> False\n",
      "istitle -> True\n",
      "\n",
      "join ->  Adam Sangala,\n",
      "ljust -> Adam Sangala                                                                                                                                                                                                                                                                                                                                                                                                                                                                                                        \n",
      "ljust -> Adam Sangala**************************************\n"
     ],
     "output_type":"stream"
    }
   ],
   "metadata":{
    "datalore":{
     "node_id":"TMyBUCU6OQRszhmDQpNLz1",
     "type":"CODE",
     "hide_input_from_viewers":true,
     "hide_output_from_viewers":true
    }
   }
  },
  {
   "cell_type":"code",
   "source":[
    " "
   ],
   "execution_count":181,
   "outputs":[
    {
     "name":"stdout",
     "text":[
      "A. ['1', '2', '3']\n",
      "B. ['1', '2,3']\n",
      "C. ['1', '2', '', '3', '']\n",
      "D. ['1', '2', '3']\n",
      "E. ['1', '2 3']\n",
      "F. ['1', '2', '3']\n",
      "G. []\n",
      "H. ['One line']\n",
      "I. ['']\n"
     ],
     "output_type":"stream"
    }
   ],
   "metadata":{
    "datalore":{
     "node_id":"Oqln70oqOHTNW0TVKaeapg",
     "type":"CODE",
     "hide_input_from_viewers":true,
     "hide_output_from_viewers":true
    }
   }
  },
  {
   "cell_type":"markdown",
   "source":[
    "# Mutable"
   ],
   "attachments":{
    
   },
   "metadata":{
    "datalore":{
     "node_id":"Mutable",
     "type":"MD",
     "hide_input_from_viewers":false,
     "hide_output_from_viewers":false,
     "sheet_delimiter":true
    }
   }
  },
  {
   "cell_type":"markdown",
   "source":[
    "# 📘 Mutovateľnosť\/Nemutovateľnosť\n",
    "\n",
    "V programovaní máte nemenný (immutable) objekt, ak nemôžete zmeniť stav objektu po jeho vytvorení. Naproti tomu meniteľný (mutabôe) objekt umožňuje po vytvorení upraviť jeho vnútorný stav. Stručne povedané, to, či môžete zmeniť stav objektu alebo obsiahnuté údaje, určuje, či je tento objekt mutable alebo immutable.\n",
    "\n",
    "* Príklady **mutable** objektov: list, set, dict, byte array  \n",
    "* Príklady **immutable** objektov: number (int, float, complex), string, tuple, frozen set, bytes"
   ],
   "attachments":{
    
   },
   "metadata":{
    "datalore":{
     "node_id":"wRQMzNtETpI6ZwIL3g22YC",
     "type":"MD",
     "hide_input_from_viewers":true,
     "hide_output_from_viewers":true
    }
   }
  },
  {
   "cell_type":"code",
   "source":[
    " "
   ],
   "execution_count":10,
   "outputs":[
    {
     "name":"stdout",
     "text":[
      "Nazov podniku: ABC s.r.o. a id objektu: 140088948721200\n",
      "Nazov podniku: XYZ s.r.o. a id objektu: 140088948722480\n",
      "\n",
      "Pocet ntb: 32 a id objektu: 140089083331872\n",
      "Pocet ntb: 16 a id objektu: 140089083331360\n",
      "\n",
      "Zoznam zam: ['Karol', 'Monika', 'Ivan', 'Peter', 'Eva'] a id objektu: 140089015341824\n",
      "Zoznam zam: ['Karol', 'Monika', 'Ivan', 'Peter', 'Eva', 'Jozef'] a id objektu: 140089015341824\n",
      "Zoznam zam: ['Karol', 'Monika', 'Ivan', 'Peter', 'Eva', 'Jozef', 'Igor', 'Julia', 'Rado'] a id objektu: 140089015341824\n"
     ],
     "output_type":"stream"
    }
   ],
   "metadata":{
    "datalore":{
     "node_id":"5sZAAtfou8HS1uUiPMsfOt",
     "type":"CODE",
     "hide_input_from_viewers":true,
     "hide_output_from_viewers":true
    }
   }
  },
  {
   "cell_type":"markdown",
   "source":[
    "# RE"
   ],
   "attachments":{
    
   },
   "metadata":{
    "datalore":{
     "node_id":"RE",
     "type":"MD",
     "hide_input_from_viewers":false,
     "hide_output_from_viewers":false,
     "sheet_delimiter":true
    }
   }
  },
  {
   "cell_type":"markdown",
   "source":[
    "# 📟 Regulárne Výrazy (Regular Expressions Regex)\n",
    "\n",
    "https:\/\/docs.python.org\/3\/library\/re.html\n",
    "\n",
    "Modul re poskytuje **operácie porovnávania regulárnych výrazov** podobné tým, ktoré sa nachádzajú v Perle.\n",
    "\n",
    "Vzory aj reťazce, ktoré sa majú vyhľadávať, môžu byť **reťazce Unicode (str)**, ako aj **8-bitové reťazce (bajty)**. \n",
    "\n",
    "**Reťazce Unicode a 8-bitové reťazce však nemožno kombinovať**: to znamená, že reťazec Unicode nemôžete priradiť k bajtovému vzoru alebo naopak; podobne, keď žiadate o nahradenie, náhradný reťazec musí byť rovnakého typu ako vzor aj hľadaný reťazec.\n",
    "\n",
    "**Regulárne výrazy používajú znak spätnej lomky ('\\')** na označenie špeciálnych foriem alebo na umožnenie použitia špeciálnych znakov bez vyvolania ich špeciálneho významu. Toto koliduje s tým, že Python používa rovnaký znak na rovnaký účel v reťazcových literáloch; napríklad, aby ste zodpovedali **doslovnej spätnej lomke, možno budete musieť napísať '\\\\\\\\'** ako reťazec vzoru, pretože **regulárny výraz musí byť \\\\** a každá spätná lomka musí byť vyjadrená ako \\\\ vnútri bežného reťazcového literálu Pythonu"
   ],
   "attachments":{
    
   },
   "metadata":{
    "datalore":{
     "node_id":"Xs30zyj04MssIRuKPnXp8R",
     "type":"MD",
     "hide_input_from_viewers":true,
     "hide_output_from_viewers":true
    }
   }
  },
  {
   "cell_type":"code",
   "source":[
    " "
   ],
   "execution_count":null,
   "outputs":[
    
   ],
   "metadata":{
    "datalore":{
     "node_id":"J4aAz8XEQXVyG4mWWzRLOV",
     "type":"CODE",
     "hide_input_from_viewers":true,
     "hide_output_from_viewers":true
    }
   }
  },
  {
   "cell_type":"code",
   "source":[
    
   ],
   "execution_count":null,
   "outputs":[
    
   ],
   "metadata":{
    "datalore":{
     "node_id":"5fSnJTm5zVrZWWs8nEdid4",
     "type":"CODE",
     "hide_input_from_viewers":true,
     "hide_output_from_viewers":true
    }
   }
  },
  {
   "cell_type":"code",
   "source":[
    
   ],
   "execution_count":null,
   "outputs":[
    
   ],
   "metadata":{
    "datalore":{
     "node_id":"9yenOkb6m4rMyzozrCpVh9",
     "type":"CODE",
     "hide_input_from_viewers":true,
     "hide_output_from_viewers":true
    }
   }
  },
  {
   "cell_type":"code",
   "source":[
    " "
   ],
   "execution_count":null,
   "outputs":[
    
   ],
   "metadata":{
    "datalore":{
     "node_id":"D1So2FN2SF9QxqU45MCQsn",
     "type":"CODE",
     "hide_input_from_viewers":true,
     "hide_output_from_viewers":true
    }
   }
  },
  {
   "cell_type":"code",
   "source":[
    
   ],
   "execution_count":null,
   "outputs":[
    
   ],
   "metadata":{
    "datalore":{
     "node_id":"5U4FRWZqxtVsIuRAaauWma",
     "type":"CODE",
     "hide_input_from_viewers":true,
     "hide_output_from_viewers":true
    }
   }
  },
  {
   "cell_type":"code",
   "source":[
    
   ],
   "execution_count":null,
   "outputs":[
    
   ],
   "metadata":{
    "datalore":{
     "node_id":"7Y3C4SQ7cLc01iKnGHedbX",
     "type":"CODE",
     "hide_input_from_viewers":true,
     "hide_output_from_viewers":true
    }
   }
  },
  {
   "cell_type":"code",
   "source":[
    
   ],
   "execution_count":null,
   "outputs":[
    
   ],
   "metadata":{
    "datalore":{
     "node_id":"H55QVnPM5QSPLzuneX9Lab",
     "type":"CODE",
     "hide_input_from_viewers":true,
     "hide_output_from_viewers":true
    }
   }
  },
  {
   "cell_type":"code",
   "source":[
    
   ],
   "execution_count":null,
   "outputs":[
    
   ],
   "metadata":{
    "datalore":{
     "node_id":"iKTNnnzBxKEySJi7gGIV5i",
     "type":"CODE",
     "hide_input_from_viewers":true,
     "hide_output_from_viewers":true
    }
   }
  },
  {
   "cell_type":"code",
   "source":[
    
   ],
   "execution_count":null,
   "outputs":[
    
   ],
   "metadata":{
    "datalore":{
     "node_id":"0hO5CLq1ksNKP7uBS08gSr",
     "type":"CODE",
     "hide_input_from_viewers":true,
     "hide_output_from_viewers":true
    }
   }
  },
  {
   "cell_type":"code",
   "source":[
    
   ],
   "execution_count":null,
   "outputs":[
    
   ],
   "metadata":{
    "datalore":{
     "node_id":"FH0CK8WPYSfQesg013Z6cA",
     "type":"CODE",
     "hide_input_from_viewers":true,
     "hide_output_from_viewers":true
    }
   }
  },
  {
   "cell_type":"markdown",
   "source":[
    "# Type Hinting"
   ],
   "attachments":{
    
   },
   "metadata":{
    "datalore":{
     "node_id":"Type Hinting",
     "type":"MD",
     "hide_input_from_viewers":false,
     "hide_output_from_viewers":false,
     "sheet_delimiter":true
    }
   }
  },
  {
   "cell_type":"markdown",
   "source":[
    "# Type Hinting"
   ],
   "attachments":{
    
   },
   "metadata":{
    "datalore":{
     "node_id":"qhHZiy797RigJwdNjq1L3a",
     "type":"MD",
     "hide_input_from_viewers":true,
     "hide_output_from_viewers":true
    }
   }
  },
  {
   "cell_type":"code",
   "source":[
    " "
   ],
   "execution_count":25,
   "outputs":[
    {
     "data":{
      "text\/plain":[
       "'Ahoj, Karol'"
      ]
     },
     "metadata":{
      
     },
     "output_type":"display_data"
    }
   ],
   "metadata":{
    "datalore":{
     "node_id":"EoDN1tqUfg8tNSz6cbRMe7",
     "type":"CODE",
     "hide_input_from_viewers":true,
     "hide_output_from_viewers":true
    }
   }
  },
  {
   "cell_type":"code",
   "source":[
    " "
   ],
   "execution_count":51,
   "outputs":[
    {
     "name":"stdout",
     "text":[
      "2023-10-18 16:58:41.071814  -  Toto je sprava 1\n",
      "2023-10-18 16:58:43.075639  -  Toto je sprava 2\n",
      "2023-10-18 16:58:46.079165  -  Toto je sprava 3\n"
     ],
     "output_type":"stream"
    }
   ],
   "metadata":{
    "datalore":{
     "node_id":"PbeYH63yRzKqKgvlweSTA5",
     "type":"CODE",
     "hide_input_from_viewers":true,
     "hide_output_from_viewers":true
    }
   }
  },
  {
   "cell_type":"code",
   "source":[
    " "
   ],
   "execution_count":52,
   "outputs":[
    {
     "name":"stdout",
     "text":[
      "7\n"
     ],
     "output_type":"stream"
    }
   ],
   "metadata":{
    "datalore":{
     "node_id":"1MTYMXz9okEFdAg4x6iCmE",
     "type":"CODE",
     "hide_input_from_viewers":true,
     "hide_output_from_viewers":true
    }
   }
  },
  {
   "cell_type":"code",
   "source":[
    " "
   ],
   "execution_count":41,
   "outputs":[
    {
     "ename":"TypeError",
     "evalue":"unsupported operand type(s) for |: 'type' and 'type'",
     "traceback":[
      "\u001b[0;31m---------------------------------------------------------------------------",
      "Traceback (most recent call last)",
      "unsupported operand type(s) for |: 'type' and 'type'"
     ],
     "output_type":"error"
    }
   ],
   "metadata":{
    "datalore":{
     "node_id":"A1sjjEqk1Sfl2b2dXvqjKJ",
     "type":"CODE",
     "hide_input_from_viewers":true,
     "hide_output_from_viewers":true
    }
   }
  },
  {
   "cell_type":"code",
   "source":[
    " "
   ],
   "execution_count":42,
   "outputs":[
    {
     "name":"stdout",
     "text":[
      "7\n"
     ],
     "output_type":"stream"
    }
   ],
   "metadata":{
    "datalore":{
     "node_id":"L2GzKvve3pKP891fxvhwOx",
     "type":"CODE",
     "hide_input_from_viewers":true,
     "hide_output_from_viewers":true
    }
   }
  },
  {
   "cell_type":"code",
   "source":[
    " "
   ],
   "execution_count":37,
   "outputs":[
    {
     "name":"stdout",
     "text":[
      "Python Je Krasny Jazyk\n",
      "----------------------\n",
      "******** Python Je Krasny Jazyk ********\n"
     ],
     "output_type":"stream"
    }
   ],
   "metadata":{
    "datalore":{
     "node_id":"dkNUIffh81rVow3cZu8Apz",
     "type":"CODE",
     "hide_input_from_viewers":true,
     "hide_output_from_viewers":true
    }
   }
  },
  {
   "cell_type":"markdown",
   "source":[
    "# Collections"
   ],
   "attachments":{
    
   },
   "metadata":{
    "datalore":{
     "node_id":"Collections",
     "type":"MD",
     "hide_input_from_viewers":false,
     "hide_output_from_viewers":false,
     "sheet_delimiter":true
    }
   }
  },
  {
   "cell_type":"markdown",
   "source":[
    "# 🗳️ Collections a Deque ((Double-Ended Queue - Obojstranná Fronta)\n",
    "Princíp FIFO - First in First Out (Queue)\n",
    "\n",
    "https:\/\/docs.python.org\/3\/library\/collections.html?highlight=collections   "
   ],
   "attachments":{
    
   },
   "metadata":{
    "datalore":{
     "node_id":"jNIPzihD9NHVSTDaDO2Pda",
     "type":"MD",
     "hide_input_from_viewers":true,
     "hide_output_from_viewers":true
    }
   }
  },
  {
   "cell_type":"code",
   "source":[
    " "
   ],
   "execution_count":14,
   "outputs":[
    {
     "name":"stdout",
     "text":[
      "Obsah fronty deq1: deque([100, 99.99, 'NSC', True, None, [1, 2, 3]])\n"
     ],
     "output_type":"stream"
    }
   ],
   "metadata":{
    "datalore":{
     "node_id":"YtBWh14Dh6fXO7AqqCJwam",
     "type":"CODE",
     "hide_input_from_viewers":true,
     "hide_output_from_viewers":true
    }
   }
  },
  {
   "cell_type":"code",
   "source":[
    " "
   ],
   "execution_count":13,
   "outputs":[
    {
     "name":"stdout",
     "text":[
      "1. Obsah fronty deq_parne_cisla: deque([2, 4, 6, 8, 10])\n",
      "2. Obsah fronty deq_parne_cisla: deque([2, 4, 6, 8, 10, '1500', '1600', 20000])\n",
      "3. Obsah fronty deq_parne_cisla: deque(['166', 80, -8, 2, 4, 6, 8, 10, '1500', '1600', 20000])\n"
     ],
     "output_type":"stream"
    }
   ],
   "metadata":{
    "datalore":{
     "node_id":"EzKtJiioGhVDZx0iVNeUdb",
     "type":"CODE",
     "hide_input_from_viewers":true,
     "hide_output_from_viewers":true
    }
   }
  },
  {
   "cell_type":"code",
   "source":[
    " "
   ],
   "execution_count":12,
   "outputs":[
    {
     "name":"stdout",
     "text":[
      "dequeInstancia: deque([1, 2, 3, 4, 5, 6, 7, 8], maxlen=8)\n",
      "dequeInstancia2: deque([3, 4, 5, 6, 7, 8, 9, 10], maxlen=8)\n"
     ],
     "output_type":"stream"
    }
   ],
   "metadata":{
    "datalore":{
     "node_id":"wm0emcbdHVWWVzO7KWqftU",
     "type":"CODE",
     "hide_input_from_viewers":true,
     "hide_output_from_viewers":true
    }
   }
  },
  {
   "cell_type":"markdown",
   "source":[
    "# Reťazce a Seq"
   ],
   "attachments":{
    
   },
   "metadata":{
    "datalore":{
     "node_id":"Reťazce a Seq",
     "type":"MD",
     "hide_input_from_viewers":false,
     "hide_output_from_viewers":false,
     "sheet_delimiter":true
    }
   }
  },
  {
   "cell_type":"markdown",
   "source":[
    "# ⛓️‍💥Spájanie Reťazcov (Concatenating strings)\n",
    "\n",
    "Efektivita (Základné pravidlo optimalizácie)  \n",
    "Bez zbytočného presunu\/pohybu údajov  \n",
    "Stačí poznať Python spôsoby a vyhnete sa správaniu so zložitosťou O(n**2) namiesto lineárneho správania  "
   ],
   "attachments":{
    
   },
   "metadata":{
    "datalore":{
     "node_id":"G2QqK3dCakT9LK1i72hY8b",
     "type":"MD",
     "hide_input_from_viewers":true,
     "hide_output_from_viewers":true
    }
   }
  },
  {
   "cell_type":"code",
   "source":[
    " "
   ],
   "execution_count":null,
   "outputs":[
    
   ],
   "metadata":{
    "datalore":{
     "node_id":"8MrGgSvPYwFpkD4AfFSlbm",
     "type":"CODE",
     "hide_input_from_viewers":true,
     "hide_output_from_viewers":true
    }
   }
  },
  {
   "cell_type":"code",
   "source":[
    " "
   ],
   "execution_count":null,
   "outputs":[
    
   ],
   "metadata":{
    "datalore":{
     "node_id":"IikUoOvMJTXeoaObWpD3zV",
     "type":"CODE",
     "hide_input_from_viewers":true,
     "hide_output_from_viewers":true
    }
   }
  },
  {
   "cell_type":"markdown",
   "source":[
    "# 🌀 Aktualizácia Sekvencií (Updating Sequences)"
   ],
   "attachments":{
    
   },
   "metadata":{
    "datalore":{
     "node_id":"l96b9iqr0vqNxEXKziWzfE",
     "type":"MD",
     "hide_input_from_viewers":true,
     "hide_output_from_viewers":true
    }
   }
  },
  {
   "cell_type":"code",
   "source":[
    " "
   ],
   "execution_count":null,
   "outputs":[
    
   ],
   "metadata":{
    "datalore":{
     "node_id":"6aXUoeM3K6nGIl8hi3v6Da",
     "type":"CODE",
     "hide_input_from_viewers":true,
     "hide_output_from_viewers":true
    }
   }
  },
  {
   "cell_type":"markdown",
   "source":[
    "# 🕵️‍♂️ Hľadanie Sekvencií (Find Sequence)"
   ],
   "attachments":{
    
   },
   "metadata":{
    "datalore":{
     "node_id":"rwBdVp01tliJsK5b8pgccZ",
     "type":"MD",
     "hide_input_from_viewers":true,
     "hide_output_from_viewers":true
    }
   }
  },
  {
   "cell_type":"code",
   "source":[
    " "
   ],
   "execution_count":null,
   "outputs":[
    
   ],
   "metadata":{
    "datalore":{
     "node_id":"24q4mVKPtfwqF9nPFGx6yf",
     "type":"CODE",
     "hide_input_from_viewers":true,
     "hide_output_from_viewers":true
    }
   }
  },
  {
   "cell_type":"markdown",
   "source":[
    "# Decor"
   ],
   "attachments":{
    
   },
   "metadata":{
    "datalore":{
     "node_id":"Decor",
     "type":"MD",
     "hide_input_from_viewers":false,
     "hide_output_from_viewers":false,
     "sheet_delimiter":true
    }
   }
  },
  {
   "cell_type":"markdown",
   "source":[
    "# Dekorátory"
   ],
   "attachments":{
    
   },
   "metadata":{
    "datalore":{
     "node_id":"qZVrEENThNPY7h0UjgBaLF",
     "type":"MD",
     "hide_input_from_viewers":true,
     "hide_output_from_viewers":true
    }
   }
  },
  {
   "cell_type":"code",
   "source":[
    "# noinspection PyShadowingNames\n",
    "# type hinting (Python 3.5)\n",
    "def rozdiel(c1 , c2):\n",
    "    vysledok:float = c1 - c2\n",
    "    print(f\"Rozdiel cisel je: {vysledok}\")\n",
    "\n",
    "rozdiel(4,8)\n",
    "rozdiel(8,4)"
   ],
   "execution_count":null,
   "outputs":[
    
   ],
   "metadata":{
    "datalore":{
     "node_id":"uvUZ6DaF2evkDpsb1ERFrX",
     "type":"CODE",
     "hide_input_from_viewers":true,
     "hide_output_from_viewers":true
    }
   }
  },
  {
   "cell_type":"code",
   "source":[
    "# Chceme, aby funkcia subtract() vždy odčítala nižšie číslo od vyššieho. Takže keď volame (4,8), malo by to urobiť 8-4 nie 4-8. Aby sme to dosiahli"
   ],
   "execution_count":null,
   "outputs":[
    
   ],
   "metadata":{
    "datalore":{
     "node_id":"8np9wcddbr6yeXVWgMhnse",
     "type":"CODE",
     "hide_input_from_viewers":true,
     "hide_output_from_viewers":true
    }
   }
  },
  {
   "cell_type":"code",
   "source":[
    "def decorator_rozdiel(func):\n",
    "    def wrapper(c1, c2):\n",
    "        if c1 < c2:\n",
    "            c1, c2 = c2, c1\n",
    "        return func(c1, c2)\n",
    "    return wrapper\n",
    "\n",
    "roz = decorator_rozdiel(rozdiel)\n",
    "\n",
    "roz(4,8)\n",
    "roz(8,4)\n",
    "roz(8,200)\n",
    "roz(200,8)"
   ],
   "execution_count":null,
   "outputs":[
    
   ],
   "metadata":{
    "datalore":{
     "node_id":"uDEYwmu0O4b21rDFkITRM4",
     "type":"CODE",
     "hide_input_from_viewers":true,
     "hide_output_from_viewers":true
    }
   }
  },
  {
   "cell_type":"code",
   "source":[
    "# Môžeme použiť @syntax na zdobenie funkcie v 1 kroku\n",
    "# noinspection PyShadowingNames\n",
    "@decorator_rozdiel\n",
    "def rozdiel2(c1 , c2):\n",
    "    vysledok:float = c1 - c2\n",
    "    print(f\"Rozdiel cisel je: {vysledok}\")\n",
    "\n",
    "rozdiel2(4,8)\n",
    "rozdiel2(8,4)\n",
    "rozdiel2(8,200)\n",
    "rozdiel2(200,8)"
   ],
   "execution_count":null,
   "outputs":[
    
   ],
   "metadata":{
    "datalore":{
     "node_id":"9XElCAyvlwNqVfuvU5jKJs",
     "type":"CODE",
     "hide_input_from_viewers":true,
     "hide_output_from_viewers":true
    }
   }
  },
  {
   "cell_type":"code",
   "source":[
    "def instalovat_excel():\n",
    "    print(\"Microsoft inštalácia začala\")\n",
    "\n",
    "def instalovat_adobe_reader():\n",
    "    print(\"Adobe Reader inštalácia začala\")\n",
    "\n",
    "def instalovat_spotify():\n",
    "    print(\"Spotify inštalácia začala\")\n",
    "\n",
    "instalovat_excel()\n",
    "instalovat_adobe_reader()\n",
    "instalovat_spotify()"
   ],
   "execution_count":null,
   "outputs":[
    
   ],
   "metadata":{
    "datalore":{
     "node_id":"j2tLPYwse7d8OEOqpwZoV5",
     "type":"CODE",
     "hide_input_from_viewers":true,
     "hide_output_from_viewers":true
    }
   }
  },
  {
   "cell_type":"code",
   "source":[
    "# Teraz predpokladajme, že chceme vytlačiť správu:\n",
    "# Prijmite prosím zmluvné podmienky...\n",
    "# Chceme jednoduchým spôsobom bude vytvoriť 1 dekoračnú funkciu, ktorá to bude prezentovať\n",
    "# Pozor na chybu TypeError: 'NoneType' object is not callable\n",
    "# Váš dekoratér potrebuje vrátiť funkciu, ale nevracia nič, preto objekt 'TypeError: 'NoneType' nemožno volať'.\n",
    "def decorator_instalacia(func):\n",
    "    def wrapper():   \n",
    "        print(\"Prijmite prosím zmluvné podmienky...\\n\")\n",
    "        func()\n",
    "        # bez ()\n",
    "        return func\n",
    "    return wrapper()"
   ],
   "execution_count":null,
   "outputs":[
    
   ],
   "metadata":{
    "datalore":{
     "node_id":"vBinwqKTpbNR3s0L20qC0L",
     "type":"CODE",
     "hide_input_from_viewers":true,
     "hide_output_from_viewers":true
    }
   }
  },
  {
   "cell_type":"code",
   "source":[
    "@decorator_instalacia\n",
    "def instalovat_excel2():\n",
    "    print(\"Microsoft inštalácia začala\")\n",
    "\n",
    "@decorator_instalacia\n",
    "def instalovat_adobe_reader2():\n",
    "    print(\"Adobe Reader inštalácia začala\")\n",
    "\n",
    "@decorator_instalacia\n",
    "def instalovat_spotify2():\n",
    "    print(\"Spotify inštalácia začala\")\n",
    "\n",
    "instalovat_excel2()\n",
    "instalovat_adobe_reader()\n",
    "instalovat_spotify()"
   ],
   "execution_count":20,
   "outputs":[
    {
     "name":"stdout",
     "text":[
      "Prijmite prosím zmluvné podmienky...\n",
      "\n",
      "Microsoft inštalácia začala\n",
      "Prijmite prosím zmluvné podmienky...\n",
      "\n",
      "Adobe Reader inštalácia začala\n",
      "Prijmite prosím zmluvné podmienky...\n",
      "\n",
      "Spotify inštalácia začala\n",
      "Microsoft inštalácia začala\n",
      "\n"
     ],
     "output_type":"stream"
    },
    {
     "name":"stderr",
     "text":[
      "\n"
     ],
     "output_type":"stream"
    },
    {
     "ename":"NameError",
     "evalue":"name 'instalovat_adobe_reader' is not defined",
     "traceback":[
      "\u001b[0;31m---------------------------------------------------------------------------",
      "Traceback (most recent call last)",
      "name 'instalovat_adobe_reader' is not defined"
     ],
     "output_type":"error"
    }
   ],
   "metadata":{
    "datalore":{
     "node_id":"wGdWZso8eUDvyUNdWMXfuD",
     "type":"CODE",
     "hide_input_from_viewers":true,
     "hide_output_from_viewers":true
    }
   }
  },
  {
   "cell_type":"code",
   "source":[
    "def decor(func):\n",
    "    def decorated():\n",
    "        print(\"============\")\n",
    "        func()\n",
    "        print(\"============\")\n",
    "    return decorated\n",
    "\n",
    "@decor\n",
    "def tlacit_text():\n",
    "    print(\"Ahoj, Svet!\")\n",
    "\n",
    "tlacit_text()"
   ],
   "execution_count":21,
   "outputs":[
    {
     "name":"stdout",
     "text":[
      "============\n",
      "Ahoj, Svet!\n",
      "============\n"
     ],
     "output_type":"stream"
    }
   ],
   "metadata":{
    "datalore":{
     "node_id":"X7udDeUvgYK7UrI7di4Q93",
     "type":"CODE",
     "hide_input_from_viewers":true,
     "hide_output_from_viewers":true
    }
   }
  },
  {
   "cell_type":"markdown",
   "source":[
    "# Lambdy"
   ],
   "attachments":{
    
   },
   "metadata":{
    "datalore":{
     "node_id":"Lambdy",
     "type":"MD",
     "hide_input_from_viewers":false,
     "hide_output_from_viewers":false,
     "sheet_delimiter":true
    }
   }
  },
  {
   "cell_type":"markdown",
   "source":[
    "# Lambdy (Lambdas)\n",
    "\n",
    "Sú malé, anonymné funkcie, ktoré podliehajú prísnejšej, ale stručnejšej syntaxi ako bežné funkcie Pythonu.\n",
    "\n",
    "Alonzo Church formalizoval lambda kalkul, jazyk založený na čistej abstrakcii, v 30. rokoch 20. storočia. \n",
    "\n",
    "Funkcie lambda sa tiež označujú ako lambda abstrakcie, čo je priamy odkaz na abstrakciu pôvodného stvorenia Alonza Churcha.\n",
    "\n",
    "Lambda kalkulus dokáže zakódovať akýkoľvek výpočet. Je to Turingovo kompletný, ale na rozdiel od koncepcie Turingovho stroja je čistý a nezachováva žiadny stav.\n",
    "\n",
    "Funkčné jazyky majú svoj pôvod v matematickej logike a lambda kalkule, zatiaľ čo imperatívne programovacie jazyky zahŕňajú stavový model výpočtu, ktorý vynašiel Alan Turing. \n",
    "\n",
    "Dva výpočtové modely, lambda kalkul a Turingove stroje, sa dajú navzájom preložiť. Táto ekvivalencia je známa ako Church-Turingova hypotéza."
   ],
   "attachments":{
    
   },
   "metadata":{
    "datalore":{
     "node_id":"cWs4ZlWMiDjiAssibu0pni",
     "type":"MD",
     "hide_input_from_viewers":true,
     "hide_output_from_viewers":true
    }
   }
  },
  {
   "cell_type":"code",
   "source":[
    "def funkcia(x):\n",
    "    return x"
   ],
   "execution_count":null,
   "outputs":[
    
   ],
   "metadata":{
    "datalore":{
     "node_id":"6oqxBUcBeUlpBHSn05D2X0",
     "type":"CODE",
     "hide_input_from_viewers":true,
     "hide_output_from_viewers":true
    }
   }
  },
  {
   "cell_type":"code",
   "source":[
    "# Výraz sa skladá z:\n",
    "# Kľúčové slovo (keyword): lambda\n",
    "# Viazaná premenná (bound variable) - argument: x\n",
    "# Telo (body): x\n",
    "\n",
    "lambda x: x\n",
    "lambda x: x + 100\n",
    "# Uvedenú funkciu môžete použiť na argument tak, že funkciu a jej argument uzatvoríte do zátvoriek:\n",
    "(lambda x: x + 100)(10)"
   ],
   "execution_count":189,
   "outputs":[
    {
     "data":{
      "text\/plain":[
       "110"
      ]
     },
     "metadata":{
      
     },
     "output_type":"display_data"
    }
   ],
   "metadata":{
    "datalore":{
     "node_id":"Nx381dtrYk4cCtnJxQTR00",
     "type":"CODE",
     "hide_input_from_viewers":true,
     "hide_output_from_viewers":true
    }
   }
  },
  {
   "cell_type":"code",
   "source":[
    "print((lambda x: x + 100)(10))\n",
    "\n",
    "# Redukcia je stratégia lambda výpočtu na výpočet hodnoty výrazu. V aktuálnom príklade to pozostáva z nahradenia viazanej premennej x argumentom 10:\n",
    "\n",
    "# (lambda x: x + 100)(2) = lambda 10: 10 + 100\n",
    "#                      = 10 + 100\n",
    "#                      = 110"
   ],
   "execution_count":191,
   "outputs":[
    {
     "name":"stdout",
     "text":[
      "110\n"
     ],
     "output_type":"stream"
    }
   ],
   "metadata":{
    "datalore":{
     "node_id":"nho4jqxoGCNNURdMsOSYZW",
     "type":"CODE",
     "hide_input_from_viewers":true,
     "hide_output_from_viewers":true
    }
   }
  },
  {
   "cell_type":"code",
   "source":[
    "# Pretože funkcia lambda je výraz, možno ju pomenovať\n",
    "inkrementuj = lambda x: x + 1\n",
    "inkrementuj(2)"
   ],
   "execution_count":192,
   "outputs":[
    {
     "data":{
      "text\/plain":[
       "3"
      ]
     },
     "metadata":{
      
     },
     "output_type":"display_data"
    }
   ],
   "metadata":{
    "datalore":{
     "node_id":"OBlMOHuc4GpU1Kk26axUtL",
     "type":"CODE",
     "hide_input_from_viewers":true,
     "hide_output_from_viewers":true
    }
   }
  },
  {
   "cell_type":"code",
   "source":[
    "# Vyššie uvedená funkcia lambda je ekvivalentná tomuto zápisu\n",
    "def inkrementuj(x):\n",
    "    return x + 1\n",
    "\n",
    "inkrementuj(2)"
   ],
   "execution_count":194,
   "outputs":[
    {
     "data":{
      "text\/plain":[
       "3"
      ]
     },
     "metadata":{
      
     },
     "output_type":"display_data"
    }
   ],
   "metadata":{
    "datalore":{
     "node_id":"giVQ9tblEaCZQKMzBGWbPx",
     "type":"CODE",
     "hide_input_from_viewers":true,
     "hide_output_from_viewers":true
    }
   }
  },
  {
   "cell_type":"code",
   "source":[
    "klient_cele_meno = lambda meno, priezvisko: f'Cele meno klienta je: {meno.title()} {priezvisko.title()}'\n",
    "klient_cele_meno('Adam', 'Sangala')"
   ],
   "execution_count":196,
   "outputs":[
    {
     "data":{
      "text\/plain":[
       "'Cele meno klienta je: Adam Sangala'"
      ]
     },
     "metadata":{
      
     },
     "output_type":"display_data"
    }
   ],
   "metadata":{
    "datalore":{
     "node_id":"GT7zXtoa4xG0X3e4r6CdKY",
     "type":"CODE",
     "hide_input_from_viewers":true,
     "hide_output_from_viewers":true
    }
   }
  },
  {
   "cell_type":"markdown",
   "source":[
    "# Anonymné funkcie\n",
    "\n",
    "Nasledujúce výrazy sa môžu používať zameniteľne v závislosti od typu a kultúry programovacieho jazyka:\n",
    "1. Anonymné funkcie\n",
    "2. Funkcie lambda\n",
    "3. Lambda výrazy\n",
    "4. Lambda abstrakcie\n",
    "5. Lambda forma\n",
    "6. Funkčné literály"
   ],
   "attachments":{
    
   },
   "metadata":{
    "datalore":{
     "node_id":"QoEegVexjlewmD3APRAzFr",
     "type":"MD",
     "hide_input_from_viewers":true,
     "hide_output_from_viewers":true
    }
   }
  },
  {
   "cell_type":"code",
   "source":[
    "(lambda x, y: x + y)(7, 3)"
   ],
   "execution_count":205,
   "outputs":[
    {
     "data":{
      "text\/plain":[
       "5"
      ]
     },
     "metadata":{
      
     },
     "output_type":"display_data"
    }
   ],
   "metadata":{
    "datalore":{
     "node_id":"XvnH3KO1xIgtcL8vmOSHT9",
     "type":"CODE",
     "hide_input_from_viewers":true,
     "hide_output_from_viewers":true
    }
   }
  },
  {
   "cell_type":"code",
   "source":[
    "# Nasledujúce príklady ilustrujú možnosti, ktoré máte k dispozícii na odovzdávanie argumentov do výrazov lambda:\n",
    "print(f\"A. {(lambda x, y, z: x + y + z)(1, 2, 3)}\")\n",
    "print(f\"B. {(lambda x, y, z=3: x + y + z)(1, 2)}\")\n",
    "print(f\"C. {(lambda x, y, z=3: x + y + z)(1, y=2)}\")\n",
    "print(f\"D. {(lambda *args: sum(args))(1,2,3)}\")\n",
    "print(f\"E. {(lambda **kwargs: sum(kwargs.values()))(one=1, two=2, three=3)}\")\n",
    "print(f\"F. {(lambda x, *, y=0, z=0: x + y + z)(1, y=2, z=3)}\")"
   ],
   "execution_count":213,
   "outputs":[
    {
     "name":"stdout",
     "text":[
      "A. 6\n",
      "B. 6\n",
      "C. 6\n",
      "D. 6\n",
      "E. 6\n",
      "F. 6\n"
     ],
     "output_type":"stream"
    }
   ],
   "metadata":{
    "datalore":{
     "node_id":"MRchiFJsYpA4k7qZwkHsbW",
     "type":"CODE",
     "hide_input_from_viewers":true,
     "hide_output_from_viewers":true
    }
   }
  },
  {
   "cell_type":"markdown",
   "source":[
    "# Vhodné použitie výrazov lambda\n",
    "\n",
    "Niektoré z argumentov proti lambdas v Pythone sú:\n",
    "1. Problémy s čitateľnosťou\n",
    "2. Zavedenie funkčného spôsobu myslenia\n",
    "3. Ťažká syntax s kľúčovým slovom lambda\n",
    "\n",
    "\n",
    "Funkcie lambda majú vlastnosti, ktoré niekedy poskytujú hodnotu pre jazyk Python a pre vývojárov."
   ],
   "attachments":{
    
   },
   "metadata":{
    "datalore":{
     "node_id":"i1LsaYf9fhDAF3f9pPoXUS",
     "type":"MD",
     "hide_input_from_viewers":true,
     "hide_output_from_viewers":true
    }
   }
  },
  {
   "cell_type":"code",
   "source":[
    "print(list(map(lambda x: x.upper(), ['cat', 'dog', 'cow'])))\n",
    "print(list(map(lambda x: x.capitalize(), ['cat', 'dog', 'cow'])))\n",
    "\n",
    "print(list(filter(lambda x: 'o' in x, ['cat', 'dog', 'cow'])))\n",
    "\n",
    "even = lambda x: x%2 == 0\n",
    "print(list(filter(even, range(11))))\n",
    "\n",
    "from functools import reduce\n",
    "print(reduce(lambda acc, x: f'{acc} | {x}', ['cat', 'dog', 'cow']))"
   ],
   "execution_count":29,
   "outputs":[
    {
     "name":"stdout",
     "text":[
      "['CAT', 'DOG', 'COW']\n",
      "['Cat', 'Dog', 'Cow']\n",
      "['dog', 'cow']\n",
      "[0, 2, 4, 6, 8, 10]\n",
      "cat | dog | cow\n"
     ],
     "output_type":"stream"
    }
   ],
   "metadata":{
    "datalore":{
     "node_id":"lx68YD7B0oZhjyqTwsspHu",
     "type":"CODE",
     "hide_input_from_viewers":true,
     "hide_output_from_viewers":true
    }
   }
  },
  {
   "cell_type":"code",
   "source":[
    "ids = ['id1', 'id2', 'id30', 'id3', 'id22', 'id100']\n",
    "# Lexikografické triedenie\n",
    "print(sorted(ids)) \n",
    "\n",
    "# Číselné triedenie\n",
    "sorted_ids = sorted(ids, key=lambda x: int(x[2:])) \n",
    "print(sorted_ids)"
   ],
   "execution_count":224,
   "outputs":[
    {
     "name":"stdout",
     "text":[
      "['id1', 'id100', 'id2', 'id22', 'id3', 'id30']\n",
      "['id1', 'id2', 'id3', 'id22', 'id30', 'id100']\n"
     ],
     "output_type":"stream"
    }
   ],
   "metadata":{
    "datalore":{
     "node_id":"rE2Mtfwd6HHul9zt4V265E",
     "type":"CODE",
     "hide_input_from_viewers":true,
     "hide_output_from_viewers":true
    }
   }
  },
  {
   "cell_type":"markdown",
   "source":[
    "# OOP Metódy"
   ],
   "attachments":{
    
   },
   "metadata":{
    "datalore":{
     "node_id":"OOP Metódy",
     "type":"MD",
     "hide_input_from_viewers":false,
     "hide_output_from_viewers":false,
     "sheet_delimiter":true
    }
   }
  },
  {
   "cell_type":"markdown",
   "source":[
    "# Inštančné, Statické Metódy a Metódy Triedy "
   ],
   "attachments":{
    
   },
   "metadata":{
    "datalore":{
     "node_id":"6EDBBu2mvO1TZKSDgoenFG",
     "type":"MD",
     "hide_input_from_viewers":true,
     "hide_output_from_viewers":true
    }
   }
  },
  {
   "cell_type":"code",
   "source":[
    "class Trieda:\n",
    "    def metoda_instancna(self):\n",
    "        return \"Inštančná (Objektová) Metóda\", self\n",
    "\n",
    "    @classmethod\n",
    "    def metoda_triedy(cls):\n",
    "        return \"Metóda Triedy (Triedová Metóda)\", cls\n",
    "\n",
    "    @staticmethod\n",
    "    def metoda_staticka():\n",
    "        return \"Statická Metóda\""
   ],
   "execution_count":null,
   "outputs":[
    
   ],
   "metadata":{
    "datalore":{
     "node_id":"MsvLGgzHodwShRyN6tttkR",
     "type":"CODE",
     "hide_input_from_viewers":true,
     "hide_output_from_viewers":true
    }
   }
  },
  {
   "cell_type":"code",
   "source":[
    "objekt = Trieda()\n",
    "print(f\"1. metoda: {objekt.metoda_instancna()}\")\n",
    "print(f\"\\n2a. metoda: {Trieda.metoda_triedy()}\")\n",
    "# TypeError: metoda_instancna() missing 1 required positional argument: 'self'\n",
    "# print(f\"2b. metoda: {Trieda.metoda_instancna()}\")\n",
    "\n",
    "print(f\"\\n3a. metoda: {objekt.metoda_staticka()}\")\n",
    "print(f\"3b. metoda: {Trieda.metoda_staticka()}\")"
   ],
   "execution_count":27,
   "outputs":[
    {
     "name":"stdout",
     "text":[
      "1. metoda: ('Inštančná (Objektová) Metóda', <__main__.Trieda object at 0x7f6903f95e80>)\n",
      "\n",
      "2a. metoda: ('Metóda Triedy (Triedová Metóda)', <class '__main__.Trieda'>)\n",
      "\n",
      "3a. metoda: Statická Metóda\n",
      "3b. metoda: Statická Metóda\n"
     ],
     "output_type":"stream"
    }
   ],
   "metadata":{
    "datalore":{
     "node_id":"SVCLfnFyVOb0ejXrnoJAme",
     "type":"CODE",
     "hide_input_from_viewers":true,
     "hide_output_from_viewers":true
    }
   }
  }
 ],
 "metadata":{
  "kernelspec":{
   "display_name":"Python",
   "language":"python",
   "name":"python"
  },
  "datalore":{
   "computation_mode":"JUPYTER",
   "package_manager":"pip",
   "base_environment":"default",
   "packages":[
    
   ],
   "report_row_ids":[
    "e3SflrAZQKNNp9Bvno12Hw"
   ],
   "version":3
  }
 },
 "nbformat":4,
 "nbformat_minor":4
}