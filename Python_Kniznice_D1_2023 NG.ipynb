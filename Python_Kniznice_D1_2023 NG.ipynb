{
 "cells":[
  {
   "cell_type":"markdown",
   "source":[
    "# Kniznice"
   ],
   "attachments":{
    
   },
   "metadata":{
    "datalore":{
     "node_id":"Kniznice",
     "type":"MD",
     "hide_input_from_viewers":false,
     "hide_output_from_viewers":false,
     "sheet_delimiter":true
    }
   }
  },
  {
   "cell_type":"markdown",
   "source":[
    "## 🐍 Kurz Python Knižnice (Spracovanie a Vizualizácia Dát)\n",
    "**🧑‍🏫 Lektor:** Miroslav Reiter  \n",
    "**📥 LinkedIn kontakt:** https:\/\/www.linkedin.com\/in\/miroslav-reiter\/  \n",
    "\n",
    "`*Testovaci* **Text**`\n",
    "\n",
    "**✅ Osnova:** https:\/\/itkurzy.sav.sk\/node\/110 \n",
    "\n",
    "**🎞️ YouTube videá:** https:\/\/www.youtube.com\/c\/IT-AcademySK  \n",
    "**📇 Zdrojové kódy a materiály:** https:\/\/github.com\/miroslav-reiter\/Kurzy_SAV_Analytika_Python_R  \n",
    "\n",
    "**😊 Emojis:** Win + .  "
   ],
   "attachments":{
    
   },
   "metadata":{
    "datalore":{
     "node_id":"gtjaH8gOiCJE2ArnONNN4I",
     "type":"MD",
     "hide_input_from_viewers":true,
     "hide_output_from_viewers":true
    }
   }
  },
  {
   "cell_type":"markdown",
   "source":[
    "# ⚒️ Používané nástroje dátovej analýzy\n",
    "- 🐍 **Python** - momentálne najpopulárnejší jazyk pre vedu o údajoch (Data science). Python je síce interpretovaný a pomalší jazyk ako C\/C++, ale využitím knižníc, ako je NumPy (a Pandas navyše), sa môžeme priblížiť rýchlosti C.  \n",
    "  \n",
    "- 🪐 **Jupyter** - nástroj s prostredím interaktívneho notebooku, mocný prieskumný, vizualizačný a komunikačný nástroj.\n",
    "  \n",
    "- 🐼 **Pandas** - nástroj na manipuláciu s tabuľkovými údajmi v Pythone. Je to obrovská knižnica, ale ak poznáte správne metódy, môžeme vytvoriť výkonnú analýzu.\n",
    "  \n",
    "- 📊 **Matplotlib** - grafická knižnica s rôznymi grafmi a vizualizáciami. V spojení s Pandas a Jupyter môžeme rýchlo získať prehľad o našich údajoch.  \n",
    "  \n",
    "- 🚀 **Numpy** - knižnica jazyka Python, ktorá poskytuje infraštruktúru pre prácu s vektormi, maticami a všeobecne viacrozmernými poliami.\n",
    "\n",
    "😎 Existuje 300 000+ knižníc pre Python.  "
   ],
   "attachments":{
    
   },
   "metadata":{
    "datalore":{
     "node_id":"HlJXCNvBPNinkUIhkHUYU9",
     "type":"MD",
     "hide_input_from_viewers":true,
     "hide_output_from_viewers":true
    }
   }
  },
  {
   "cell_type":"markdown",
   "source":[
    "# 📚 PIP, Knižnice a ich verzie \n",
    "**PIP (package installer for Python)** - Správca Balíčkov pre moduly programovacieho jazyka Python, Tiež napísaný v Pythone, Licencia MIT.  \n",
    "Dokumentácia PIP: https:\/\/pip.pypa.io\/en\/stable\/\n",
    "\n",
    "**PyPI (The Python Package Index)** - Repozitár\/úložisko softvéru pre programovací jazyk Python  \n",
    "https:\/\/pypi.org"
   ],
   "attachments":{
    
   },
   "metadata":{
    "datalore":{
     "node_id":"utjXvhnaVEZx0y9tcUL1AW",
     "type":"MD",
     "hide_input_from_viewers":true,
     "hide_output_from_viewers":true
    }
   }
  },
  {
   "cell_type":"code",
   "source":[
    "  "
   ],
   "execution_count":2,
   "outputs":[
    {
     "ename":"ModuleNotFoundError",
     "evalue":"ModuleNotFoundError: No module named 'countryinfo'",
     "traceback":[
      "\u001b[0;31m---------------------------------------------------------------------------",
      "Traceback (most recent call last)",
      "ModuleNotFoundError: No module named 'countryinfo'"
     ],
     "output_type":"error"
    }
   ],
   "metadata":{
    "datalore":{
     "node_id":"6Fs41Jfqfvxlu0LDUKkzZG",
     "type":"CODE",
     "hide_input_from_viewers":true,
     "hide_output_from_viewers":true
    }
   }
  },
  {
   "cell_type":"code",
   "source":[
    "  "
   ],
   "execution_count":12,
   "outputs":[
    {
     "name":"stdout",
     "text":[
      "Zadaj nazov krajiny:  bahrain\n",
      "Hlavne mesto: Manama\n",
      "Hranice: []\n",
      "Meny: ['BHD']\n",
      "Jazyky: ['ar']\n",
      "Vlaky: \n"
     ],
     "output_type":"stream"
    }
   ],
   "metadata":{
    "datalore":{
     "node_id":"9qcpLqqMxlDm2F9q53LHot",
     "type":"CODE",
     "hide_input_from_viewers":true,
     "hide_output_from_viewers":true
    }
   }
  },
  {
   "cell_type":"code",
   "source":[
    "  "
   ],
   "execution_count":18,
   "outputs":[
    {
     "name":"stdout",
     "text":[
      "absl-py==1.4.0\r\n",
      "aiohttp==3.8.1\r\n",
      "aiosignal==1.3.1\r\n",
      "alabaster==0.7.13\r\n",
      "anyio==3.6.2\r\n",
      "appdirs==1.4.4\r\n",
      "argon2-cffi==21.3.0\r\n",
      "argon2-cffi-bindings==21.2.0\r\n",
      "astunparse==1.6.3\r\n",
      "async-timeout==4.0.2\r\n",
      "attrs==22.2.0\r\n",
      "Babel==2.12.1\r\n",
      "backcall==0.2.0\r\n",
      "beautifulsoup4==4.11.2\r\n",
      "bleach==6.0.0\r\n",
      "blis==0.7.9\r\n",
      "bokeh==2.3.0\r\n",
      "bonobo==0.6.4\r\n",
      "boto3==1.20.25\r\n",
      "botocore==1.23.54\r\n",
      "cachetools==5.3.0\r\n",
      "catalogue==2.0.8\r\n",
      "certifi==2022.12.7\r\n",
      "cffi==1.15.1\r\n",
      "charset-normalizer==2.0.12\r\n",
      "click==7.1.2\r\n",
      "click-plugins==1.1.1\r\n",
      "cligj==0.7.2\r\n",
      "colorama==0.4.6\r\n",
      "confection==0.0.4\r\n",
      "countryinfo==0.1.2\r\n",
      "cycler==0.11.0\r\n",
      "cymem==2.0.7\r\n",
      "decorator==5.1.1\r\n",
      "defusedxml==0.7.1\r\n",
      "descartes==1.1.0\r\n",
      "docutils==0.19\r\n",
      "fastai==2.7.11\r\n",
      "fastcore==1.5.28\r\n",
      "fastdownload==0.0.7\r\n",
      "fastprogress==1.0.3\r\n",
      "filelock==3.9.0\r\n",
      "Fiona==1.8.18\r\n",
      "flatbuffers==1.12\r\n",
      "fonttools==4.39.0\r\n",
      "frozenlist==1.3.3\r\n",
      "fs==2.4.16\r\n",
      "gast==0.4.0\r\n",
      "gensim==4.1.2\r\n",
      "geopandas==0.10.2\r\n",
      "google-auth==2.16.2\r\n",
      "google-auth-oauthlib==0.4.6\r\n",
      "google-pasta==0.2.0\r\n",
      "graphviz==0.8.4\r\n",
      "greenlet==2.0.2\r\n",
      "grpcio==1.51.3\r\n",
      "h5py==3.8.0\r\n",
      "huggingface-hub==0.13.0\r\n",
      "idna==3.4\r\n",
      "imageio==2.26.0\r\n",
      "imagesize==1.4.1\r\n",
      "importlib-metadata==6.0.0\r\n",
      "importlib-resources==5.12.0\r\n",
      "ipykernel==5.5.3\r\n",
      "ipython==7.31.1\r\n",
      "ipython-genutils==0.2.0\r\n",
      "ipywidgets==7.6.5\r\n",
      "jedi==0.17.2\r\n",
      "Jinja2==2.11.3\r\n",
      "jmespath==0.10.0\r\n",
      "joblib==1.2.0\r\n",
      "jsonschema==4.17.3\r\n",
      "jupyter-client==6.1.12\r\n",
      "jupyter-server==1.13.5\r\n",
      "jupyter_core==5.2.0\r\n",
      "jupyterlab-pygments==0.2.2\r\n",
      "jupyterlab-widgets==3.0.5\r\n",
      "keras==2.9.0\r\n",
      "Keras-Preprocessing==1.1.2\r\n",
      "kiwisolver==1.4.4\r\n",
      "kotlin-jupyter-kernel==0.11.0.208\r\n",
      "langcodes==3.3.0\r\n",
      "lets-plot==3.1.0\r\n",
      "libclang==15.0.6.1\r\n",
      "lxml==4.9.1\r\n",
      "Markdown==3.4.1\r\n",
      "MarkupSafe==2.1.2\r\n",
      "matplotlib==3.5.1\r\n",
      "matplotlib-inline==0.1.6\r\n",
      "mistune==2.0.5\r\n",
      "mondrian==0.8.1\r\n",
      "mpmath==1.3.0\r\n",
      "multidict==6.0.4\r\n",
      "munch==2.5.0\r\n",
      "murmurhash==1.0.9\r\n",
      "nbclassic==0.5.3\r\n",
      "nbclient==0.7.2\r\n",
      "nbconvert==7.2.9\r\n",
      "nbformat==5.1.3\r\n",
      "nest-asyncio==1.5.6\r\n",
      "networkx==3.0\r\n",
      "notebook==6.5.3\r\n",
      "notebook_shim==0.2.2\r\n",
      "numpy==1.23.5\r\n",
      "numpydoc==1.1.0\r\n",
      "oauthlib==3.2.2\r\n",
      "opencv-python-headless==4.5.4.60\r\n",
      "opt-einsum==3.3.0\r\n",
      "packaging==23.0\r\n",
      "palettable==3.3.0\r\n",
      "pandas==1.3.5\r\n",
      "pandas-datareader==0.10.0\r\n",
      "pandocfilters==1.5.0\r\n",
      "parso==0.7.1\r\n",
      "pathy==0.10.1\r\n",
      "patsy==0.5.3\r\n",
      "pbr==5.11.1\r\n",
      "pexpect==4.8.0\r\n",
      "pickleshare==0.7.5\r\n",
      "Pillow==9.4.0\r\n",
      "pkgutil_resolve_name==1.3.10\r\n",
      "platformdirs==3.1.0\r\n",
      "plotly==5.5.0\r\n",
      "preshed==3.0.8\r\n",
      "prometheus-client==0.16.0\r\n",
      "prompt-toolkit==3.0.38\r\n",
      "protobuf==3.19.6\r\n",
      "psutil==5.9.4\r\n",
      "psycopg2-binary==2.9.2\r\n",
      "ptyprocess==0.7.0\r\n",
      "py4j==0.10.9.5\r\n",
      "pyasn1==0.4.8\r\n",
      "pyasn1-modules==0.2.8\r\n",
      "pycparser==2.21\r\n",
      "pydantic==1.10.6\r\n",
      "Pygments==2.14.0\r\n",
      "PyMySQL==1.0.2\r\n",
      "pyparsing==3.0.9\r\n",
      "pypng==0.20220715.0\r\n",
      "pyproj==3.3.0\r\n",
      "pyrsistent==0.19.3\r\n",
      "pyspark==3.3.2\r\n",
      "python-dateutil==2.8.2\r\n",
      "python-slugify==1.2.6\r\n",
      "pytz==2022.7.1\r\n",
      "PyWavelets==1.4.1\r\n",
      "PyYAML==6.0\r\n",
      "pyzmq==25.0.0\r\n",
      "regex==2022.10.31\r\n",
      "requests==2.26.0\r\n",
      "requests-oauthlib==1.3.1\r\n",
      "rsa==4.9\r\n",
      "s3transfer==0.5.2\r\n",
      "sacremoses==0.0.53\r\n",
      "scikit-image==0.19.1\r\n",
      "scikit-learn==1.0.1\r\n",
      "scipy==1.10.1\r\n",
      "seaborn==0.11.2\r\n",
      "Send2Trash==1.8.0\r\n",
      "shapely==2.0.1\r\n",
      "six==1.16.0\r\n",
      "smart-open==6.3.0\r\n",
      "sniffio==1.3.0\r\n",
      "snowballstemmer==2.2.0\r\n",
      "soupsieve==2.4\r\n",
      "spacy==3.5.0\r\n",
      "spacy-legacy==3.0.12\r\n",
      "spacy-loggers==1.0.4\r\n",
      "Sphinx==6.1.3\r\n",
      "sphinxcontrib-applehelp==1.0.4\r\n",
      "sphinxcontrib-devhelp==1.0.2\r\n",
      "sphinxcontrib-htmlhelp==2.0.1\r\n",
      "sphinxcontrib-jsmath==1.0.1\r\n",
      "sphinxcontrib-qthelp==1.0.3\r\n",
      "sphinxcontrib-serializinghtml==1.1.5\r\n",
      "SQLAlchemy==1.4.26\r\n",
      "srsly==2.4.6\r\n",
      "statsmodels==0.13.1\r\n",
      "stevedore==1.32.0\r\n",
      "sympy==1.9\r\n",
      "tenacity==8.2.2\r\n",
      "tensorboard==2.9.1\r\n",
      "tensorboard-data-server==0.6.1\r\n",
      "tensorboard-plugin-wit==1.8.1\r\n",
      "tensorflow-cpu==2.9.3\r\n",
      "tensorflow-estimator==2.9.0\r\n",
      "tensorflow-io-gcs-filesystem==0.31.0\r\n",
      "termcolor==2.2.0\r\n",
      "terminado==0.17.1\r\n",
      "thinc==8.1.9\r\n",
      "threadpoolctl==3.1.0\r\n",
      "tifffile==2023.2.28\r\n",
      "tinycss2==1.2.1\r\n",
      "tokenizers==0.10.3\r\n",
      "torch==1.13.1+cpu\r\n",
      "torchvision==0.14.1+cpu\r\n",
      "tornado==6.2\r\n",
      "tqdm==4.65.0\r\n",
      "traitlets==5.9.0\r\n",
      "transformers==4.14.1\r\n",
      "typer==0.7.0\r\n",
      "typing_extensions==4.5.0\r\n",
      "Unidecode==1.3.6\r\n",
      "urllib3==1.26.14\r\n",
      "wasabi==1.1.1\r\n",
      "wcwidth==0.2.6\r\n",
      "webencodings==0.5.1\r\n",
      "websocket-client==1.5.1\r\n",
      "Werkzeug==2.2.3\r\n",
      "whistle==1.0.1\r\n",
      "widgetsnbextension==3.5.2\r\n",
      "wrapt==1.15.0\r\n",
      "xgboost==1.5.1\r\n",
      "xlrd==2.0.1\r\n",
      "yarl==1.8.2\r\n",
      "zipp==3.15.0\r\n"
     ],
     "output_type":"stream"
    }
   ],
   "metadata":{
    "datalore":{
     "node_id":"Qf2fGBT29Tp85ig2h3H6be",
     "type":"CODE",
     "hide_input_from_viewers":true,
     "hide_output_from_viewers":true
    }
   }
  },
  {
   "cell_type":"code",
   "source":[
    "  "
   ],
   "execution_count":null,
   "outputs":[
    
   ],
   "metadata":{
    "datalore":{
     "node_id":"vXhEMhQaQDN2QTvhMIF6rf",
     "type":"CODE",
     "hide_input_from_viewers":true,
     "hide_output_from_viewers":true
    }
   }
  },
  {
   "cell_type":"markdown",
   "source":[
    "# 💀 Spracovanie Chýb (Exception - Výnimiek), Údajov, Dátového Toku\n",
    "try - except - finally"
   ],
   "attachments":{
    
   },
   "metadata":{
    "datalore":{
     "node_id":"O6f5kWGeujRXtOQVWAlLTl",
     "type":"MD",
     "hide_input_from_viewers":true,
     "hide_output_from_viewers":true
    }
   }
  },
  {
   "cell_type":"code",
   "source":[
    "  "
   ],
   "execution_count":36,
   "outputs":[
    {
     "name":"stdout",
     "text":[
      "✅ Moduly\/Kniznice boli nacitane...\n",
      " Pandas verzia: 1.3.5\n",
      " Numpy verzia: 1.23.5\n",
      "Moduly\/Kniznice neboli nacitane...\n",
      "Tento text sa vypise vzdy\n"
     ],
     "output_type":"stream"
    }
   ],
   "metadata":{
    "datalore":{
     "node_id":"xxC61eI2Oqyzy8GmzzwrET",
     "type":"CODE",
     "hide_input_from_viewers":true,
     "hide_output_from_viewers":true
    }
   }
  },
  {
   "cell_type":"markdown",
   "source":[
    "# Matplotlib"
   ],
   "attachments":{
    
   },
   "metadata":{
    "datalore":{
     "node_id":"Matplotlib",
     "type":"MD",
     "hide_input_from_viewers":false,
     "hide_output_from_viewers":false,
     "sheet_delimiter":true
    }
   }
  },
  {
   "cell_type":"code",
   "source":[
    " "
   ],
   "execution_count":null,
   "outputs":[
    
   ],
   "metadata":{
    "datalore":{
     "node_id":"vZRVvjmHrdLSaK5J6pKuUk",
     "type":"CODE",
     "hide_input_from_viewers":true,
     "hide_output_from_viewers":true
    }
   }
  },
  {
   "cell_type":"code",
   "source":[
    " "
   ],
   "execution_count":44,
   "outputs":[
    {
     "data":{
      "image\/png":"[encoded data removed]"
     },
     "metadata":{
      "image\/png":{
       
      }
     },
     "output_type":"display_data"
    }
   ],
   "metadata":{
    "datalore":{
     "node_id":"CYT4zYZFuVOkkz2EfqffMi",
     "type":"CODE",
     "hide_input_from_viewers":true,
     "hide_output_from_viewers":true
    }
   }
  },
  {
   "cell_type":"markdown",
   "source":[
    "# Loc (Location) Umiestnenie title"
   ],
   "attachments":{
    
   },
   "metadata":{
    "datalore":{
     "node_id":"M4szRJMM42JbIK04dMFwCo",
     "type":"MD",
     "hide_input_from_viewers":true,
     "hide_output_from_viewers":true
    }
   }
  },
  {
   "cell_type":"code",
   "source":[
    " "
   ],
   "execution_count":49,
   "outputs":[
    {
     "data":{
      "image\/png":"[encoded data removed]"
     },
     "metadata":{
      "image\/png":{
       
      }
     },
     "output_type":"display_data"
    }
   ],
   "metadata":{
    "datalore":{
     "node_id":"li3nQ6BRP7RdJzCIGD2OT9",
     "type":"CODE",
     "hide_input_from_viewers":true,
     "hide_output_from_viewers":true
    }
   }
  },
  {
   "cell_type":"markdown",
   "source":[
    "# Fontsize, Color, Style - Veľkosť, farba, štýl textu"
   ],
   "attachments":{
    
   },
   "metadata":{
    "datalore":{
     "node_id":"v4AkIRfBMDsNIn0Pw2KOuo",
     "type":"MD",
     "hide_input_from_viewers":true,
     "hide_output_from_viewers":true
    }
   }
  },
  {
   "cell_type":"code",
   "source":[
    " "
   ],
   "execution_count":59,
   "outputs":[
    {
     "data":{
      "image\/png":"[encoded data removed]"
     },
     "metadata":{
      "image\/png":{
       
      }
     },
     "output_type":"display_data"
    }
   ],
   "metadata":{
    "datalore":{
     "node_id":"Jia3CatgVFtyxN0elofPY2",
     "type":"CODE",
     "hide_input_from_viewers":true,
     "hide_output_from_viewers":true
    }
   }
  },
  {
   "cell_type":"markdown",
   "source":[
    "# Matematické Výrazy"
   ],
   "attachments":{
    
   },
   "metadata":{
    "datalore":{
     "node_id":"JMamYx8KIa9JSid4svKoG5",
     "type":"MD",
     "hide_input_from_viewers":true,
     "hide_output_from_viewers":true
    }
   }
  },
  {
   "cell_type":"code",
   "source":[
    " "
   ],
   "execution_count":1,
   "outputs":[
    {
     "data":{
      "image\/png":"[encoded data removed]"
     },
     "metadata":{
      "image\/png":{
       
      }
     },
     "output_type":"display_data"
    }
   ],
   "metadata":{
    "datalore":{
     "node_id":"eTwgzddnJxiCXug1b6r5M0",
     "type":"CODE",
     "hide_input_from_viewers":true,
     "hide_output_from_viewers":true
    }
   }
  },
  {
   "cell_type":"code",
   "source":[
    " "
   ],
   "execution_count":79,
   "outputs":[
    {
     "data":{
      "image\/png":"[encoded data removed]"
     },
     "metadata":{
      "image\/png":{
       
      }
     },
     "output_type":"display_data"
    }
   ],
   "metadata":{
    "datalore":{
     "node_id":"6X0NB2lxILO3qaWSVUXJMU",
     "type":"CODE",
     "hide_input_from_viewers":true,
     "hide_output_from_viewers":true
    }
   }
  },
  {
   "cell_type":"code",
   "source":[
    " "
   ],
   "execution_count":112,
   "outputs":[
    {
     "data":{
      "image\/png":"[encoded data removed]"
     },
     "metadata":{
      "image\/png":{
       
      }
     },
     "output_type":"display_data"
    }
   ],
   "metadata":{
    "datalore":{
     "node_id":"SJ73cxypclDffVGRmVASuf",
     "type":"CODE",
     "hide_input_from_viewers":true,
     "hide_output_from_viewers":true
    }
   }
  },
  {
   "cell_type":"code",
   "source":[
    " "
   ],
   "execution_count":132,
   "outputs":[
    {
     "data":{
      "image\/png":"[encoded data removed]"
     },
     "metadata":{
      "image\/png":{
       
      }
     },
     "output_type":"display_data"
    }
   ],
   "metadata":{
    "datalore":{
     "node_id":"RepLhnHWp7XrGkHfvXgbt4",
     "type":"CODE",
     "hide_input_from_viewers":true,
     "hide_output_from_viewers":true
    }
   }
  },
  {
   "cell_type":"code",
   "source":[
    " "
   ],
   "execution_count":120,
   "outputs":[
    {
     "data":{
      "image\/png":"[encoded data removed]"
     },
     "metadata":{
      "image\/png":{
       
      }
     },
     "output_type":"display_data"
    }
   ],
   "metadata":{
    "datalore":{
     "node_id":"Py8EzHZXJUfN7lPZswkrSj",
     "type":"CODE",
     "hide_input_from_viewers":true,
     "hide_output_from_viewers":true
    }
   }
  },
  {
   "cell_type":"markdown",
   "source":[
    "# Pandas"
   ],
   "attachments":{
    
   },
   "metadata":{
    "datalore":{
     "node_id":"Pandas",
     "type":"MD",
     "hide_input_from_viewers":false,
     "hide_output_from_viewers":false,
     "sheet_delimiter":true
    }
   }
  },
  {
   "cell_type":"code",
   "source":[
    " "
   ],
   "execution_count":3,
   "outputs":[
    {
     "name":"stdout",
     "text":[
      "       mena   vek\n",
      "0     Peter  35.0\n",
      "1   Jarmila  28.0\n",
      "2      Jana  21.0\n",
      "3  Veronika  32.0\n",
      "4      Igor   NaN\n"
     ],
     "output_type":"stream"
    },
    {
     "data":{
      "text\/html":[
       "<div>\n",
       "<style scoped>\n",
       "    .dataframe tbody tr th:only-of-type {\n",
       "        vertical-align: middle;\n",
       "    }\n",
       "\n",
       "    .dataframe tbody tr th {\n",
       "        vertical-align: top;\n",
       "    }\n",
       "\n",
       "    .dataframe thead th {\n",
       "        text-align: right;\n",
       "    }\n",
       "<\/style>\n",
       "<table border=\"1\" class=\"dataframe\">\n",
       "  <thead>\n",
       "    <tr style=\"text-align: right;\">\n",
       "      <th><\/th>\n",
       "      <th>mena<\/th>\n",
       "      <th>vek<\/th>\n",
       "    <\/tr>\n",
       "  <\/thead>\n",
       "  <tbody>\n",
       "    <tr>\n",
       "      <th>0<\/th>\n",
       "      <td>Peter<\/td>\n",
       "      <td>35.0<\/td>\n",
       "    <\/tr>\n",
       "    <tr>\n",
       "      <th>1<\/th>\n",
       "      <td>Jarmila<\/td>\n",
       "      <td>28.0<\/td>\n",
       "    <\/tr>\n",
       "    <tr>\n",
       "      <th>2<\/th>\n",
       "      <td>Jana<\/td>\n",
       "      <td>21.0<\/td>\n",
       "    <\/tr>\n",
       "    <tr>\n",
       "      <th>3<\/th>\n",
       "      <td>Veronika<\/td>\n",
       "      <td>32.0<\/td>\n",
       "    <\/tr>\n",
       "    <tr>\n",
       "      <th>4<\/th>\n",
       "      <td>Igor<\/td>\n",
       "      <td>NaN<\/td>\n",
       "    <\/tr>\n",
       "  <\/tbody>\n",
       "<\/table>\n",
       "<\/div>"
      ]
     },
     "metadata":{
      
     },
     "output_type":"display_data"
    },
    {
     "data":{
      "text\/html":[
       "<div>\n",
       "<style scoped>\n",
       "    .dataframe tbody tr th:only-of-type {\n",
       "        vertical-align: middle;\n",
       "    }\n",
       "\n",
       "    .dataframe tbody tr th {\n",
       "        vertical-align: top;\n",
       "    }\n",
       "\n",
       "    .dataframe thead th {\n",
       "        text-align: right;\n",
       "    }\n",
       "<\/style>\n",
       "<table border=\"1\" class=\"dataframe\">\n",
       "  <thead>\n",
       "    <tr style=\"text-align: right;\">\n",
       "      <th><\/th>\n",
       "      <th>mena<\/th>\n",
       "      <th>vek<\/th>\n",
       "    <\/tr>\n",
       "  <\/thead>\n",
       "  <tbody>\n",
       "    <tr>\n",
       "      <th>0<\/th>\n",
       "      <td>Peter<\/td>\n",
       "      <td>35.0<\/td>\n",
       "    <\/tr>\n",
       "    <tr>\n",
       "      <th>1<\/th>\n",
       "      <td>Jarmila<\/td>\n",
       "      <td>28.0<\/td>\n",
       "    <\/tr>\n",
       "    <tr>\n",
       "      <th>2<\/th>\n",
       "      <td>Jana<\/td>\n",
       "      <td>21.0<\/td>\n",
       "    <\/tr>\n",
       "    <tr>\n",
       "      <th>3<\/th>\n",
       "      <td>Veronika<\/td>\n",
       "      <td>32.0<\/td>\n",
       "    <\/tr>\n",
       "    <tr>\n",
       "      <th>4<\/th>\n",
       "      <td>Igor<\/td>\n",
       "      <td>NaN<\/td>\n",
       "    <\/tr>\n",
       "  <\/tbody>\n",
       "<\/table>\n",
       "<\/div>"
      ]
     },
     "metadata":{
      
     },
     "output_type":"display_data"
    }
   ],
   "metadata":{
    "datalore":{
     "node_id":"21SsZLDs8jyA4eTU021soY",
     "type":"CODE",
     "hide_input_from_viewers":true,
     "hide_output_from_viewers":true
    }
   }
  },
  {
   "cell_type":"markdown",
   "source":[
    "# Výber dát (Data Slice)"
   ],
   "attachments":{
    
   },
   "metadata":{
    "datalore":{
     "node_id":"5HoZ0QGwk1JBYDSwlnH71c",
     "type":"MD",
     "hide_input_from_viewers":true,
     "hide_output_from_viewers":true
    }
   }
  },
  {
   "cell_type":"code",
   "source":[
    " "
   ],
   "execution_count":4,
   "outputs":[
    {
     "name":"stdout",
     "text":[
      " Pocet poloziek v Dataframe: 10\n",
      "Prve 3 zaznamy\/riadok: \n"
     ],
     "output_type":"stream"
    },
    {
     "data":{
      "text\/html":[
       "<div>\n",
       "<style scoped>\n",
       "    .dataframe tbody tr th:only-of-type {\n",
       "        vertical-align: middle;\n",
       "    }\n",
       "\n",
       "    .dataframe tbody tr th {\n",
       "        vertical-align: top;\n",
       "    }\n",
       "\n",
       "    .dataframe thead th {\n",
       "        text-align: right;\n",
       "    }\n",
       "<\/style>\n",
       "<table border=\"1\" class=\"dataframe\">\n",
       "  <thead>\n",
       "    <tr style=\"text-align: right;\">\n",
       "      <th><\/th>\n",
       "      <th>mena<\/th>\n",
       "      <th>vek<\/th>\n",
       "    <\/tr>\n",
       "  <\/thead>\n",
       "  <tbody>\n",
       "    <tr>\n",
       "      <th>0<\/th>\n",
       "      <td>Peter<\/td>\n",
       "      <td>35.0<\/td>\n",
       "    <\/tr>\n",
       "    <tr>\n",
       "      <th>1<\/th>\n",
       "      <td>Jarmila<\/td>\n",
       "      <td>28.0<\/td>\n",
       "    <\/tr>\n",
       "  <\/tbody>\n",
       "<\/table>\n",
       "<\/div>"
      ]
     },
     "metadata":{
      
     },
     "output_type":"display_data"
    }
   ],
   "metadata":{
    "datalore":{
     "node_id":"1P7A1zZojQvF7Z5hcKNVzY",
     "type":"CODE",
     "hide_input_from_viewers":true,
     "hide_output_from_viewers":true
    }
   }
  },
  {
   "cell_type":"code",
   "source":[
    " "
   ],
   "execution_count":153,
   "outputs":[
    {
     "name":"stdout",
     "text":[
      "Posledne 3 zaznamy\/riadok: \n"
     ],
     "output_type":"stream"
    },
    {
     "data":{
      "text\/html":[
       "<div>\n",
       "<style scoped>\n",
       "    .dataframe tbody tr th:only-of-type {\n",
       "        vertical-align: middle;\n",
       "    }\n",
       "\n",
       "    .dataframe tbody tr th {\n",
       "        vertical-align: top;\n",
       "    }\n",
       "\n",
       "    .dataframe thead th {\n",
       "        text-align: right;\n",
       "    }\n",
       "<\/style>\n",
       "<table border=\"1\" class=\"dataframe\">\n",
       "  <thead>\n",
       "    <tr style=\"text-align: right;\">\n",
       "      <th><\/th>\n",
       "      <th>mena<\/th>\n",
       "      <th>vek<\/th>\n",
       "    <\/tr>\n",
       "  <\/thead>\n",
       "  <tbody>\n",
       "    <tr>\n",
       "      <th>2<\/th>\n",
       "      <td>Jana<\/td>\n",
       "      <td>21<\/td>\n",
       "    <\/tr>\n",
       "    <tr>\n",
       "      <th>3<\/th>\n",
       "      <td>Veronika<\/td>\n",
       "      <td>32<\/td>\n",
       "    <\/tr>\n",
       "  <\/tbody>\n",
       "<\/table>\n",
       "<\/div>"
      ]
     },
     "metadata":{
      
     },
     "output_type":"display_data"
    }
   ],
   "metadata":{
    "datalore":{
     "node_id":"v5HQibd84Iki0MQpQCNlin",
     "type":"CODE",
     "hide_input_from_viewers":true,
     "hide_output_from_viewers":true
    }
   }
  },
  {
   "cell_type":"code",
   "source":[
    " "
   ],
   "execution_count":155,
   "outputs":[
    {
     "name":"stdout",
     "text":[
      "<class 'pandas.core.frame.DataFrame'>\n",
      "RangeIndex: 4 entries, 0 to 3\n",
      "Data columns (total 2 columns):\n",
      " #   Column  Non-Null Count  Dtype \n",
      "---  ------  --------------  ----- \n",
      " 0   mena    4 non-null      object\n",
      " 1   vek     4 non-null      int64 \n",
      "dtypes: int64(1), object(1)\n",
      "memory usage: 192.0+ bytes\n"
     ],
     "output_type":"stream"
    },
    {
     "data":{
      "text\/plain":[
       "pandas.core.frame.DataFrame"
      ]
     },
     "metadata":{
      
     },
     "output_type":"display_data"
    }
   ],
   "metadata":{
    "datalore":{
     "node_id":"UnvWou8NxxZW6dMV1xk219",
     "type":"CODE",
     "hide_input_from_viewers":true,
     "hide_output_from_viewers":true
    }
   }
  },
  {
   "cell_type":"code",
   "source":[
    " "
   ],
   "execution_count":159,
   "outputs":[
    {
     "data":{
      "text\/html":[
       "<pre>mena    5\n",
       "vek     4\n",
       "dtype: int64<\/pre>"
      ]
     },
     "metadata":{
      
     },
     "output_type":"display_data"
    }
   ],
   "metadata":{
    "datalore":{
     "node_id":"2IJYs6RtViDEGlq7cHblsB",
     "type":"CODE",
     "hide_input_from_viewers":true,
     "hide_output_from_viewers":true
    }
   }
  },
  {
   "cell_type":"code",
   "source":[
    " "
   ],
   "execution_count":165,
   "outputs":[
    {
     "name":"stdout",
     "text":[
      "vek    29.0\n",
      "dtype: float64\n",
      "mena    Veronika\n",
      "vek         35.0\n",
      "dtype: object\n"
     ],
     "output_type":"stream"
    },
    {
     "name":"stderr",
     "text":[
      "<ipython-input-165-8ebff90eb94d>:1: FutureWarning: Dropping of nuisance columns in DataFrame reductions (with 'numeric_only=None') is deprecated; in a future version this will raise TypeError.  Select only valid columns before calling the reduction.\n",
      "  print(df_studenti.mean())\n"
     ],
     "output_type":"stream"
    }
   ],
   "metadata":{
    "datalore":{
     "node_id":"pQmtJsPnb8ApenFGUmaiGM",
     "type":"CODE",
     "hide_input_from_viewers":true,
     "hide_output_from_viewers":true
    }
   }
  },
  {
   "cell_type":"code",
   "source":[
    " "
   ],
   "execution_count":167,
   "outputs":[
    {
     "data":{
      "text\/html":[
       "<div>\n",
       "<style scoped>\n",
       "    .dataframe tbody tr th:only-of-type {\n",
       "        vertical-align: middle;\n",
       "    }\n",
       "\n",
       "    .dataframe tbody tr th {\n",
       "        vertical-align: top;\n",
       "    }\n",
       "\n",
       "    .dataframe thead th {\n",
       "        text-align: right;\n",
       "    }\n",
       "<\/style>\n",
       "<table border=\"1\" class=\"dataframe\">\n",
       "  <thead>\n",
       "    <tr style=\"text-align: right;\">\n",
       "      <th><\/th>\n",
       "      <th>date<\/th>\n",
       "      <th>visitors<\/th>\n",
       "      <th>pageviews<\/th>\n",
       "      <th>visits<\/th>\n",
       "      <th>views_per_visit<\/th>\n",
       "      <th>bounce_rate<\/th>\n",
       "      <th>visit_duration<\/th>\n",
       "    <\/tr>\n",
       "  <\/thead>\n",
       "  <tbody>\n",
       "    <tr>\n",
       "      <th>0<\/th>\n",
       "      <td>2023-03-13<\/td>\n",
       "      <td>2068<\/td>\n",
       "      <td>6742<\/td>\n",
       "      <td>2430<\/td>\n",
       "      <td>2.77<\/td>\n",
       "      <td>63<\/td>\n",
       "      <td>198<\/td>\n",
       "    <\/tr>\n",
       "    <tr>\n",
       "      <th>1<\/th>\n",
       "      <td>2023-03-14<\/td>\n",
       "      <td>1990<\/td>\n",
       "      <td>6332<\/td>\n",
       "      <td>2252<\/td>\n",
       "      <td>2.81<\/td>\n",
       "      <td>61<\/td>\n",
       "      <td>193<\/td>\n",
       "    <\/tr>\n",
       "    <tr>\n",
       "      <th>2<\/th>\n",
       "      <td>2023-03-15<\/td>\n",
       "      <td>1976<\/td>\n",
       "      <td>6125<\/td>\n",
       "      <td>2279<\/td>\n",
       "      <td>2.69<\/td>\n",
       "      <td>62<\/td>\n",
       "      <td>199<\/td>\n",
       "    <\/tr>\n",
       "    <tr>\n",
       "      <th>3<\/th>\n",
       "      <td>2023-03-16<\/td>\n",
       "      <td>1894<\/td>\n",
       "      <td>6710<\/td>\n",
       "      <td>2261<\/td>\n",
       "      <td>2.97<\/td>\n",
       "      <td>62<\/td>\n",
       "      <td>204<\/td>\n",
       "    <\/tr>\n",
       "    <tr>\n",
       "      <th>4<\/th>\n",
       "      <td>2023-03-17<\/td>\n",
       "      <td>1465<\/td>\n",
       "      <td>5008<\/td>\n",
       "      <td>1717<\/td>\n",
       "      <td>2.91<\/td>\n",
       "      <td>62<\/td>\n",
       "      <td>182<\/td>\n",
       "    <\/tr>\n",
       "    <tr>\n",
       "      <th>5<\/th>\n",
       "      <td>2023-03-18<\/td>\n",
       "      <td>893<\/td>\n",
       "      <td>1820<\/td>\n",
       "      <td>967<\/td>\n",
       "      <td>1.88<\/td>\n",
       "      <td>73<\/td>\n",
       "      <td>79<\/td>\n",
       "    <\/tr>\n",
       "    <tr>\n",
       "      <th>6<\/th>\n",
       "      <td>2023-03-19<\/td>\n",
       "      <td>953<\/td>\n",
       "      <td>2058<\/td>\n",
       "      <td>1039<\/td>\n",
       "      <td>1.98<\/td>\n",
       "      <td>72<\/td>\n",
       "      <td>94<\/td>\n",
       "    <\/tr>\n",
       "    <tr>\n",
       "      <th>7<\/th>\n",
       "      <td>2023-03-20<\/td>\n",
       "      <td>1958<\/td>\n",
       "      <td>6095<\/td>\n",
       "      <td>2242<\/td>\n",
       "      <td>2.72<\/td>\n",
       "      <td>63<\/td>\n",
       "      <td>183<\/td>\n",
       "    <\/tr>\n",
       "    <tr>\n",
       "      <th>8<\/th>\n",
       "      <td>2023-03-21<\/td>\n",
       "      <td>2073<\/td>\n",
       "      <td>6315<\/td>\n",
       "      <td>2414<\/td>\n",
       "      <td>2.61<\/td>\n",
       "      <td>63<\/td>\n",
       "      <td>151<\/td>\n",
       "    <\/tr>\n",
       "    <tr>\n",
       "      <th>9<\/th>\n",
       "      <td>2023-03-22<\/td>\n",
       "      <td>2013<\/td>\n",
       "      <td>6321<\/td>\n",
       "      <td>2311<\/td>\n",
       "      <td>2.73<\/td>\n",
       "      <td>63<\/td>\n",
       "      <td>171<\/td>\n",
       "    <\/tr>\n",
       "    <tr>\n",
       "      <th>10<\/th>\n",
       "      <td>2023-03-23<\/td>\n",
       "      <td>2123<\/td>\n",
       "      <td>6352<\/td>\n",
       "      <td>2447<\/td>\n",
       "      <td>2.60<\/td>\n",
       "      <td>64<\/td>\n",
       "      <td>157<\/td>\n",
       "    <\/tr>\n",
       "    <tr>\n",
       "      <th>11<\/th>\n",
       "      <td>2023-03-24<\/td>\n",
       "      <td>1701<\/td>\n",
       "      <td>5135<\/td>\n",
       "      <td>1990<\/td>\n",
       "      <td>2.57<\/td>\n",
       "      <td>64<\/td>\n",
       "      <td>160<\/td>\n",
       "    <\/tr>\n",
       "    <tr>\n",
       "      <th>12<\/th>\n",
       "      <td>2023-03-25<\/td>\n",
       "      <td>1076<\/td>\n",
       "      <td>2374<\/td>\n",
       "      <td>1176<\/td>\n",
       "      <td>2.02<\/td>\n",
       "      <td>67<\/td>\n",
       "      <td>83<\/td>\n",
       "    <\/tr>\n",
       "    <tr>\n",
       "      <th>13<\/th>\n",
       "      <td>2023-03-26<\/td>\n",
       "      <td>1152<\/td>\n",
       "      <td>2454<\/td>\n",
       "      <td>1239<\/td>\n",
       "      <td>1.98<\/td>\n",
       "      <td>71<\/td>\n",
       "      <td>69<\/td>\n",
       "    <\/tr>\n",
       "    <tr>\n",
       "      <th>14<\/th>\n",
       "      <td>2023-03-27<\/td>\n",
       "      <td>2118<\/td>\n",
       "      <td>7209<\/td>\n",
       "      <td>2419<\/td>\n",
       "      <td>2.97<\/td>\n",
       "      <td>61<\/td>\n",
       "      <td>176<\/td>\n",
       "    <\/tr>\n",
       "    <tr>\n",
       "      <th>15<\/th>\n",
       "      <td>2023-03-28<\/td>\n",
       "      <td>2015<\/td>\n",
       "      <td>6146<\/td>\n",
       "      <td>2262<\/td>\n",
       "      <td>2.50<\/td>\n",
       "      <td>62<\/td>\n",
       "      <td>134<\/td>\n",
       "    <\/tr>\n",
       "    <tr>\n",
       "      <th>16<\/th>\n",
       "      <td>2023-03-29<\/td>\n",
       "      <td>1954<\/td>\n",
       "      <td>6615<\/td>\n",
       "      <td>2308<\/td>\n",
       "      <td>2.86<\/td>\n",
       "      <td>62<\/td>\n",
       "      <td>160<\/td>\n",
       "    <\/tr>\n",
       "    <tr>\n",
       "      <th>17<\/th>\n",
       "      <td>2023-03-30<\/td>\n",
       "      <td>1960<\/td>\n",
       "      <td>6232<\/td>\n",
       "      <td>2256<\/td>\n",
       "      <td>2.76<\/td>\n",
       "      <td>62<\/td>\n",
       "      <td>145<\/td>\n",
       "    <\/tr>\n",
       "    <tr>\n",
       "      <th>18<\/th>\n",
       "      <td>2023-03-31<\/td>\n",
       "      <td>1685<\/td>\n",
       "      <td>5392<\/td>\n",
       "      <td>1940<\/td>\n",
       "      <td>2.78<\/td>\n",
       "      <td>64<\/td>\n",
       "      <td>158<\/td>\n",
       "    <\/tr>\n",
       "    <tr>\n",
       "      <th>19<\/th>\n",
       "      <td>2023-04-01<\/td>\n",
       "      <td>1144<\/td>\n",
       "      <td>2386<\/td>\n",
       "      <td>1224<\/td>\n",
       "      <td>1.95<\/td>\n",
       "      <td>71<\/td>\n",
       "      <td>63<\/td>\n",
       "    <\/tr>\n",
       "    <tr>\n",
       "      <th>20<\/th>\n",
       "      <td>2023-04-02<\/td>\n",
       "      <td>1451<\/td>\n",
       "      <td>3472<\/td>\n",
       "      <td>1580<\/td>\n",
       "      <td>2.20<\/td>\n",
       "      <td>69<\/td>\n",
       "      <td>95<\/td>\n",
       "    <\/tr>\n",
       "    <tr>\n",
       "      <th>21<\/th>\n",
       "      <td>2023-04-03<\/td>\n",
       "      <td>2228<\/td>\n",
       "      <td>7731<\/td>\n",
       "      <td>2608<\/td>\n",
       "      <td>2.48<\/td>\n",
       "      <td>61<\/td>\n",
       "      <td>131<\/td>\n",
       "    <\/tr>\n",
       "    <tr>\n",
       "      <th>22<\/th>\n",
       "      <td>2023-04-04<\/td>\n",
       "      <td>3456<\/td>\n",
       "      <td>10873<\/td>\n",
       "      <td>4109<\/td>\n",
       "      <td>2.42<\/td>\n",
       "      <td>68<\/td>\n",
       "      <td>180<\/td>\n",
       "    <\/tr>\n",
       "    <tr>\n",
       "      <th>23<\/th>\n",
       "      <td>2023-04-05<\/td>\n",
       "      <td>1104<\/td>\n",
       "      <td>9656<\/td>\n",
       "      <td>2014<\/td>\n",
       "      <td>5.00<\/td>\n",
       "      <td>52<\/td>\n",
       "      <td>459<\/td>\n",
       "    <\/tr>\n",
       "    <tr>\n",
       "      <th>24<\/th>\n",
       "      <td>2023-04-06<\/td>\n",
       "      <td>1304<\/td>\n",
       "      <td>8717<\/td>\n",
       "      <td>2208<\/td>\n",
       "      <td>3.63<\/td>\n",
       "      <td>46<\/td>\n",
       "      <td>412<\/td>\n",
       "    <\/tr>\n",
       "    <tr>\n",
       "      <th>25<\/th>\n",
       "      <td>2023-04-07<\/td>\n",
       "      <td>1844<\/td>\n",
       "      <td>11852<\/td>\n",
       "      <td>3333<\/td>\n",
       "      <td>3.25<\/td>\n",
       "      <td>35<\/td>\n",
       "      <td>442<\/td>\n",
       "    <\/tr>\n",
       "    <tr>\n",
       "      <th>26<\/th>\n",
       "      <td>2023-04-08<\/td>\n",
       "      <td>1316<\/td>\n",
       "      <td>6744<\/td>\n",
       "      <td>2265<\/td>\n",
       "      <td>3.39<\/td>\n",
       "      <td>41<\/td>\n",
       "      <td>412<\/td>\n",
       "    <\/tr>\n",
       "    <tr>\n",
       "      <th>27<\/th>\n",
       "      <td>2023-04-09<\/td>\n",
       "      <td>1168<\/td>\n",
       "      <td>6007<\/td>\n",
       "      <td>1931<\/td>\n",
       "      <td>3.55<\/td>\n",
       "      <td>47<\/td>\n",
       "      <td>396<\/td>\n",
       "    <\/tr>\n",
       "    <tr>\n",
       "      <th>28<\/th>\n",
       "      <td>2023-04-10<\/td>\n",
       "      <td>1229<\/td>\n",
       "      <td>5910<\/td>\n",
       "      <td>1984<\/td>\n",
       "      <td>2.73<\/td>\n",
       "      <td>46<\/td>\n",
       "      <td>364<\/td>\n",
       "    <\/tr>\n",
       "    <tr>\n",
       "      <th>29<\/th>\n",
       "      <td>2023-04-11<\/td>\n",
       "      <td>1101<\/td>\n",
       "      <td>11671<\/td>\n",
       "      <td>1974<\/td>\n",
       "      <td>6.00<\/td>\n",
       "      <td>44<\/td>\n",
       "      <td>584<\/td>\n",
       "    <\/tr>\n",
       "    <tr>\n",
       "      <th>30<\/th>\n",
       "      <td>2023-04-12<\/td>\n",
       "      <td>293<\/td>\n",
       "      <td>2215<\/td>\n",
       "      <td>412<\/td>\n",
       "      <td>7.13<\/td>\n",
       "      <td>52<\/td>\n",
       "      <td>619<\/td>\n",
       "    <\/tr>\n",
       "  <\/tbody>\n",
       "<\/table>\n",
       "<\/div>"
      ]
     },
     "metadata":{
      
     },
     "output_type":"display_data"
    }
   ],
   "metadata":{
    "datalore":{
     "node_id":"KSyKQhAph3OOe8L7vnMfms",
     "type":"CODE",
     "hide_input_from_viewers":true,
     "hide_output_from_viewers":true
    }
   }
  },
  {
   "cell_type":"code",
   "source":[
    "from lets_plot import * \n",
    "ggplot() + \\\n",
    "geom_line(aes(x=\"date\", y=\"bounce_rate\"), data=df_navstevnici_web_ba1, sampling=\"none\" if df_navstevnici_web_ba1.size < 2500 else sampling_systematic(n=2500)) + \\\n",
    "ggtitle(\"Chart\") "
   ],
   "execution_count":169,
   "outputs":[
    {
     "data":{
      "text\/html":[
       "<html lang=\"en\">\n",
       "   <head>\n",
       "       <script type=\"text\/javascript\" data-lets-plot-script=\"library\" src=\"https:\/\/cdn.jsdelivr.net\/gh\/JetBrains\/lets-plot@v3.1.0\/js-package\/distr\/lets-plot.min.js\"><\/script>\n",
       "   <\/head>\n",
       "   <body>\n",
       "          <div id=\"zzLNKX\"><\/div>\n",
       "   <script type=\"text\/javascript\" data-lets-plot-script=\"plot\">\n",
       "       var plotSpec={\n",
       "\"mapping\":{\n",
       "},\n",
       "\"data_meta\":{\n",
       "},\n",
       "\"ggtitle\":{\n",
       "\"text\":\"Chart\"\n",
       "},\n",
       "\"kind\":\"plot\",\n",
       "\"scales\":[],\n",
       "\"layers\":[{\n",
       "\"geom\":\"line\",\n",
       "\"data\":{\n",
       "\"date\":[\"2023-03-13\",\"2023-03-14\",\"2023-03-15\",\"2023-03-16\",\"2023-03-17\",\"2023-03-18\",\"2023-03-19\",\"2023-03-20\",\"2023-03-21\",\"2023-03-22\",\"2023-03-23\",\"2023-03-24\",\"2023-03-25\",\"2023-03-26\",\"2023-03-27\",\"2023-03-28\",\"2023-03-29\",\"2023-03-30\",\"2023-03-31\",\"2023-04-01\",\"2023-04-02\",\"2023-04-03\",\"2023-04-04\",\"2023-04-05\",\"2023-04-06\",\"2023-04-07\",\"2023-04-08\",\"2023-04-09\",\"2023-04-10\",\"2023-04-11\",\"2023-04-12\"],\n",
       "\"bounce_rate\":[63.0,61.0,62.0,62.0,62.0,73.0,72.0,63.0,63.0,63.0,64.0,64.0,67.0,71.0,61.0,62.0,62.0,62.0,64.0,71.0,69.0,61.0,68.0,52.0,46.0,35.0,41.0,47.0,46.0,44.0,52.0]\n",
       "},\n",
       "\"mapping\":{\n",
       "\"x\":\"date\",\n",
       "\"y\":\"bounce_rate\"\n",
       "},\n",
       "\"sampling\":\"none\",\n",
       "\"data_meta\":{\n",
       "}\n",
       "}],\n",
       "\"metainfo_list\":[]\n",
       "};\n",
       "       var plotContainer = document.getElementById(\"zzLNKX\");\n",
       "       LetsPlot.buildPlotFromProcessedSpecs(plotSpec, -1, -1, plotContainer);\n",
       "   <\/script>\n",
       "   <\/body>\n",
       "<\/html>"
      ]
     },
     "metadata":{
      
     },
     "output_type":"display_data"
    }
   ],
   "metadata":{
    "datalore":{
     "node_id":"S3PEIJPze8GzZehLpyjKdi",
     "type":"PLOT",
     "hide_input_from_viewers":true,
     "hide_output_from_viewers":true,
     "plot_state":{
      "label":"Chart",
      "sampling":true,
      "reactive":true,
      "plots":[
       {
        "type":"LINE",
        "variable":"df_navstevnici_web_ba1",
        "xAxis":{
         "label":"",
         "value":"date",
         "scale":"NONE"
        },
        "yAxis":{
         "label":"",
         "value":"bounce_rate",
         "scale":"NONE"
        },
        "colorAxis":{
         "label":"",
         "scale":"NONE"
        }
       }
      ]
     }
    }
   }
  },
  {
   "cell_type":"code",
   "source":[
    " "
   ],
   "execution_count":168,
   "outputs":[
    {
     "data":{
      "text\/html":[
       "<html lang=\"en\">\n",
       "   <head>\n",
       "       <script type=\"text\/javascript\" data-lets-plot-script=\"library\" src=\"https:\/\/cdn.jsdelivr.net\/gh\/JetBrains\/lets-plot@v3.1.0\/js-package\/distr\/lets-plot.min.js\"><\/script>\n",
       "   <\/head>\n",
       "   <body>\n",
       "          <div id=\"W1U7af\"><\/div>\n",
       "   <script type=\"text\/javascript\" data-lets-plot-script=\"plot\">\n",
       "       var plotSpec={\n",
       "\"data\":{\n",
       "\"date\":[\"2023-03-13\",\"2023-03-14\",\"2023-03-15\",\"2023-03-16\",\"2023-03-17\",\"2023-03-18\",\"2023-03-19\",\"2023-03-20\",\"2023-03-21\",\"2023-03-22\",\"2023-03-23\",\"2023-03-24\",\"2023-03-25\",\"2023-03-26\",\"2023-03-27\",\"2023-03-28\",\"2023-03-29\",\"2023-03-30\",\"2023-03-31\",\"2023-04-01\",\"2023-04-02\",\"2023-04-03\",\"2023-04-04\",\"2023-04-05\",\"2023-04-06\",\"2023-04-07\",\"2023-04-08\",\"2023-04-09\",\"2023-04-10\",\"2023-04-11\",\"2023-04-12\"],\n",
       "\"bounce_rate\":[63.0,61.0,62.0,62.0,62.0,73.0,72.0,63.0,63.0,63.0,64.0,64.0,67.0,71.0,61.0,62.0,62.0,62.0,64.0,71.0,69.0,61.0,68.0,52.0,46.0,35.0,41.0,47.0,46.0,44.0,52.0]\n",
       "},\n",
       "\"mapping\":{\n",
       "},\n",
       "\"data_meta\":{\n",
       "},\n",
       "\"kind\":\"plot\",\n",
       "\"scales\":[],\n",
       "\"layers\":[{\n",
       "\"geom\":\"line\",\n",
       "\"mapping\":{\n",
       "\"x\":\"date\",\n",
       "\"y\":\"bounce_rate\"\n",
       "},\n",
       "\"data_meta\":{\n",
       "},\n",
       "\"data\":{\n",
       "}\n",
       "}],\n",
       "\"metainfo_list\":[]\n",
       "};\n",
       "       var plotContainer = document.getElementById(\"W1U7af\");\n",
       "       LetsPlot.buildPlotFromProcessedSpecs(plotSpec, -1, -1, plotContainer);\n",
       "   <\/script>\n",
       "   <\/body>\n",
       "<\/html>"
      ]
     },
     "metadata":{
      
     },
     "output_type":"display_data"
    }
   ],
   "metadata":{
    "datalore":{
     "node_id":"Qg7B4YlQlD1gsTyClwdSIa",
     "type":"CODE",
     "hide_input_from_viewers":true,
     "hide_output_from_viewers":true
    }
   }
  },
  {
   "cell_type":"markdown",
   "source":[
    "# Numpy"
   ],
   "attachments":{
    
   },
   "metadata":{
    "datalore":{
     "node_id":"Numpy",
     "type":"MD",
     "hide_input_from_viewers":false,
     "hide_output_from_viewers":false,
     "sheet_delimiter":true
    }
   }
  },
  {
   "cell_type":"code",
   "source":[
    
   ],
   "execution_count":null,
   "outputs":[
    
   ],
   "metadata":{
    "datalore":{
     "node_id":"qcYkZiqk24QTC3WvG11ZBN",
     "type":"CODE",
     "hide_input_from_viewers":true,
     "hide_output_from_viewers":true
    }
   }
  }
 ],
 "metadata":{
  "kernelspec":{
   "display_name":"Python",
   "language":"python",
   "name":"python"
  },
  "datalore":{
   "computation_mode":"JUPYTER",
   "package_manager":"pip",
   "base_environment":"default",
   "packages":[
    
   ],
   "report_row_ids":[
    
   ],
   "version":3
  }
 },
 "nbformat":4,
 "nbformat_minor":4
}