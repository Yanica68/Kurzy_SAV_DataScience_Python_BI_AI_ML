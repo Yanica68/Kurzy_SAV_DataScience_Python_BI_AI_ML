{
 "cells":[
  {
   "cell_type":"markdown",
   "source":[
    "# Knižnice"
   ],
   "attachments":{},
   "metadata":{
    "datalore":{
     "node_id":"Knižnice",
     "type":"MD",
     "hide_input_from_viewers":false,
     "hide_output_from_viewers":false,
     "sheet_delimiter":true
    }
   }
  },
  {
   "cell_type":"markdown",
   "source":[
    "## 🐍 Kurz Interaktívne Vizualizácie v Pythone I. Začiatočník (Plotly a Bokeh)\n",
    "**🧑‍🏫 Lektor:** Miroslav Reiter  \n",
    "**📥 LinkedIn kontakt:** https:\/\/www.linkedin.com\/in\/miroslav-reiter\/  \n",
    "\n",
    "`*Testovaci* **Text**`\n",
    "\n",
    "**✅ Osnova:** https:\/\/itkurzy.sav.sk\/node\/225\n",
    "\n",
    "**🎞️ YouTube videá:** https:\/\/www.youtube.com\/c\/IT-AcademySK  \n",
    "**📇 Zdrojové kódy a materiály:** https:\/\/github.com\/miroslav-reiter\/Kurzy_SAV_Analytika_Python_R  \n",
    "\n",
    "**😊 Emojis:** Win + .  "
   ],
   "attachments":{},
   "metadata":{
    "datalore":{
     "node_id":"gtjaH8gOiCJE2ArnONNN4I",
     "type":"MD",
     "hide_input_from_viewers":false,
     "hide_output_from_viewers":false,
     "report_properties":{
      "rowId":"BuaxZHVowM1NDgIm5SGTW6"
     }
    }
   }
  },
  {
   "cell_type":"markdown",
   "source":[
    "# ⚒️ Používané nástroje dátovej analýzy\n",
    "- 🐍 **Python** - momentálne najpopulárnejší jazyk pre vedu o údajoch (Data science). Python je síce interpretovaný a pomalší jazyk ako C\/C++, ale využitím knižníc, ako je NumPy (a Pandas navyše), sa môžeme priblížiť rýchlosti C.  \n",
    "  \n",
    "- 🪐 **Jupyter** - nástroj s prostredím interaktívneho notebooku, mocný prieskumný, vizualizačný a komunikačný nástroj.\n",
    "  \n",
    "- 🐼 **Pandas** - nástroj na manipuláciu s tabuľkovými údajmi v Pythone. Je to obrovská knižnica, ale ak poznáte správne metódy, môžeme vytvoriť výkonnú analýzu.\n",
    "  \n",
    "- 📊 **Plotly** - dynamická grafická knižnica s rôznymi grafmi a vizualizáciami. V spojení s Pandas a Jupyter môžeme rýchlo získať prehľad o našich údajoch.  \n",
    "  \n",
    "- 🚀 **Bokeh** - knižnica v Pythone určená na tvorbu interaktívnych vizualizácií, ktoré možno ľahko zobrazovať v prehliadači. Umožňuje vytvárať dynamické grafy, tabuľky a mapy s podporou pre veľké množstvo dát a interakcií.\n",
    "\n",
    "😎 Existuje 300 000+ knižníc pre Python.  "
   ],
   "attachments":{},
   "metadata":{
    "datalore":{
     "node_id":"HlJXCNvBPNinkUIhkHUYU9",
     "type":"MD",
     "hide_input_from_viewers":false,
     "hide_output_from_viewers":false,
     "report_properties":{
      "rowId":"nT01gqoCPDuxVxR1lZEjaG"
     }
    }
   }
  },
  {
   "cell_type":"markdown",
   "source":[
    "# 📚 PIP, Knižnice a ich verzie \n",
    "**PIP (package installer for Python)** - Správca Balíčkov pre moduly programovacieho jazyka Python, Tiež napísaný v Pythone, Licencia MIT.  \n",
    "Dokumentácia PIP: https:\/\/pip.pypa.io\/en\/stable\/\n",
    "\n",
    "**PyPI (The Python Package Index)** - Repozitár\/úložisko softvéru pre programovací jazyk Python  \n",
    "https:\/\/pypi.org\n",
    "1"
   ],
   "attachments":{},
   "metadata":{
    "datalore":{
     "node_id":"utjXvhnaVEZx0y9tcUL1AW",
     "type":"MD",
     "hide_input_from_viewers":false,
     "hide_output_from_viewers":false,
     "report_properties":{
      "rowId":"HnEJbqSEA5YeuN0S9J1MeG"
     }
    }
   }
  },
  {
   "cell_type":"code",
   "source":[
    "# !pip list"
   ],
   "execution_count":11,
   "outputs":[
    {
     "name":"stdout",
     "text":[
      "Requirement already satisfied: plotly in \/opt\/python\/envs\/default\/lib\/python3.8\/site-packages (5.14.1)\r\n",
      "Requirement already satisfied: tenacity>=6.2.0 in \/opt\/python\/envs\/default\/lib\/python3.8\/site-packages (from plotly) (8.5.0)\r\n",
      "Requirement already satisfied: packaging in \/opt\/python\/envs\/default\/lib\/python3.8\/site-packages (from plotly) (24.1)\r\n",
      "\r\n",
      "\u001b[1m[\u001b[0m\u001b[34;49mnotice\u001b[0m\u001b[1;39;49m]\u001b[0m\u001b[39;49m A new release of pip is available: \u001b[0m\u001b[31;49m23.1.2\u001b[0m\u001b[39;49m -> \u001b[0m\u001b[32;49m24.2\u001b[0m\r\n",
      "\u001b[1m[\u001b[0m\u001b[34;49mnotice\u001b[0m\u001b[1;39;49m]\u001b[0m\u001b[39;49m To update, run: \u001b[0m\u001b[32;49mpip install --upgrade pip\u001b[0m\r\n"
     ],
     "output_type":"stream"
    }
   ],
   "metadata":{
    "datalore":{
     "node_id":"9qcpLqqMxlDm2F9q53LHot",
     "type":"CODE",
     "hide_input_from_viewers":false,
     "hide_output_from_viewers":false,
     "report_properties":{
      "rowId":"dt5hnZzXUFlltVlRnzQ6cE"
     }
    }
   }
  },
  {
   "cell_type":"code",
   "source":[],
   "execution_count":3,
   "outputs":[
    {
     "name":"stdout",
     "text":[
      "Package                       Version\r\n",
      "----------------------------- ----------------\r\n",
      "absl-py                       2.0.0\r\n",
      "aiohttp                       3.8.4\r\n",
      "aiosignal                     1.3.1\r\n",
      "alabaster                     0.7.13\r\n",
      "annotated-types               0.6.0\r\n",
      "anyio                         3.7.1\r\n",
      "argon2-cffi                   23.1.0\r\n",
      "argon2-cffi-bindings          21.2.0\r\n",
      "astunparse                    1.6.3\r\n",
      "async-timeout                 4.0.3\r\n",
      "attrs                         23.1.0\r\n",
      "Babel                         2.13.0\r\n",
      "backcall                      0.2.0\r\n",
      "beautifulsoup4                4.12.2\r\n",
      "bleach                        6.1.0\r\n",
      "blis                          0.7.11\r\n",
      "bokeh                         3.1.1\r\n",
      "boto3                         1.26.133\r\n",
      "botocore                      1.29.165\r\n",
      "cachetools                    5.3.1\r\n",
      "catalogue                     2.0.10\r\n",
      "certifi                       2023.7.22\r\n",
      "cffi                          1.16.0\r\n",
      "charset-normalizer            3.3.0\r\n",
      "click                         8.1.7\r\n",
      "click-plugins                 1.1.1\r\n",
      "cligj                         0.7.2\r\n",
      "cloudpathlib                  0.15.1\r\n",
      "cmake                         3.27.6\r\n",
      "confection                    0.1.3\r\n",
      "contourpy                     1.1.1\r\n",
      "countryinfo                   0.1.2\r\n",
      "cycler                        0.12.1\r\n",
      "cymem                         2.0.8\r\n",
      "decorator                     5.1.1\r\n",
      "defusedxml                    0.7.1\r\n",
      "descartes                     1.1.0\r\n",
      "docutils                      0.20.1\r\n",
      "duckdb                        0.7.1\r\n",
      "exceptiongroup                1.1.3\r\n",
      "fastai                        2.7.12\r\n",
      "fastcore                      1.5.29\r\n",
      "fastdownload                  0.0.7\r\n",
      "fastjsonschema                2.18.1\r\n",
      "fastprogress                  1.0.3\r\n",
      "filelock                      3.12.4\r\n",
      "Fiona                         1.9.3\r\n",
      "flatbuffers                   23.5.26\r\n",
      "fonttools                     4.43.1\r\n",
      "frozenlist                    1.4.0\r\n",
      "fsspec                        2023.9.2\r\n",
      "gast                          0.4.0\r\n",
      "gensim                        4.3.1\r\n",
      "geopandas                     0.13.0\r\n",
      "google-auth                   2.23.3\r\n",
      "google-auth-oauthlib          0.4.6\r\n",
      "google-pasta                  0.2.0\r\n",
      "greenlet                      3.0.0\r\n",
      "grpcio                        1.59.0\r\n",
      "h5py                          3.10.0\r\n",
      "huggingface-hub               0.18.0\r\n",
      "idna                          3.4\r\n",
      "imageio                       2.31.5\r\n",
      "imagesize                     1.4.1\r\n",
      "importlib-metadata            6.8.0\r\n",
      "importlib-resources           6.1.0\r\n",
      "ipykernel                     5.5.3\r\n",
      "ipython                       7.31.1\r\n",
      "ipython-genutils              0.2.0\r\n",
      "ipywidgets                    7.6.5\r\n",
      "jedi                          0.17.2\r\n",
      "Jinja2                        3.1.2\r\n",
      "jmespath                      1.0.1\r\n",
      "joblib                        1.3.2\r\n",
      "jsonschema                    4.19.1\r\n",
      "jsonschema-specifications     2023.7.1\r\n",
      "jupyter-client                6.1.12\r\n",
      "jupyter_core                  5.4.0\r\n",
      "jupyter-server                1.24.0\r\n",
      "jupyterlab-pygments           0.2.2\r\n",
      "jupyterlab-widgets            3.0.9\r\n",
      "keras                         2.10.0\r\n",
      "Keras-Preprocessing           1.1.2\r\n",
      "kiwisolver                    1.4.5\r\n",
      "kotlin-jupyter-kernel         0.11.0.377\r\n",
      "langcodes                     3.3.0\r\n",
      "lazy_loader                   0.3\r\n",
      "lets-plot                     4.0.1\r\n",
      "libclang                      16.0.6\r\n",
      "lit                           17.0.2\r\n",
      "lxml                          4.9.2\r\n",
      "Markdown                      3.5\r\n",
      "MarkupSafe                    2.1.3\r\n",
      "matplotlib                    3.7.1\r\n",
      "matplotlib-inline             0.1.6\r\n",
      "mistune                       3.0.2\r\n",
      "mpmath                        1.3.0\r\n",
      "multidict                     6.0.4\r\n",
      "munch                         4.0.0\r\n",
      "murmurhash                    1.0.10\r\n",
      "nbclassic                     1.0.0\r\n",
      "nbclient                      0.8.0\r\n",
      "nbconvert                     7.9.2\r\n",
      "nbformat                      5.8.0\r\n",
      "nest-asyncio                  1.5.8\r\n",
      "networkx                      3.1\r\n",
      "notebook                      6.5.6\r\n",
      "notebook_shim                 0.2.3\r\n",
      "numpy                         1.24.3\r\n",
      "numpydoc                      1.5.0\r\n",
      "oauthlib                      3.2.2\r\n",
      "opencv-python-headless        4.7.0.72\r\n",
      "opt-einsum                    3.3.0\r\n",
      "packaging                     23.2\r\n",
      "palettable                    3.3.3\r\n",
      "pandas                        1.5.3\r\n",
      "pandas-datareader             0.10.0\r\n",
      "pandocfilters                 1.5.0\r\n",
      "parso                         0.7.1\r\n",
      "pathy                         0.10.2\r\n",
      "patsy                         0.5.3\r\n",
      "pexpect                       4.8.0\r\n",
      "pickleshare                   0.7.5\r\n",
      "Pillow                        10.0.1\r\n",
      "pip                           23.1.2\r\n",
      "pkgutil_resolve_name          1.3.10\r\n",
      "platformdirs                  3.11.0\r\n",
      "plotly                        5.14.1\r\n",
      "preshed                       3.0.9\r\n",
      "prometheus-client             0.17.1\r\n",
      "prompt-toolkit                3.0.39\r\n",
      "protobuf                      3.19.6\r\n",
      "psycopg2-binary               2.9.6\r\n",
      "ptyprocess                    0.7.0\r\n",
      "py4j                          0.10.9.7\r\n",
      "pyasn1                        0.5.0\r\n",
      "pyasn1-modules                0.3.0\r\n",
      "pycparser                     2.21\r\n",
      "pydantic                      2.4.2\r\n",
      "pydantic_core                 2.10.1\r\n",
      "Pygments                      2.16.1\r\n",
      "PyMySQL                       1.0.3\r\n",
      "pyparsing                     3.1.1\r\n",
      "pypng                         0.20220715.0\r\n",
      "pyproj                        3.5.0\r\n",
      "pyspark                       3.4.0\r\n",
      "python-dateutil               2.8.2\r\n",
      "pytz                          2023.3.post1\r\n",
      "PyWavelets                    1.4.1\r\n",
      "PyYAML                        6.0.1\r\n",
      "pyzmq                         24.0.1\r\n",
      "referencing                   0.30.2\r\n",
      "regex                         2023.10.3\r\n",
      "requests                      2.30.0\r\n",
      "requests-oauthlib             1.3.1\r\n",
      "rpds-py                       0.10.6\r\n",
      "rsa                           4.9\r\n",
      "s3transfer                    0.6.2\r\n",
      "scikit-image                  0.20.0\r\n",
      "scikit-learn                  1.2.2\r\n",
      "scipy                         1.9.1\r\n",
      "seaborn                       0.12.2\r\n",
      "Send2Trash                    1.8.2\r\n",
      "setuptools                    68.2.2\r\n",
      "shapely                       2.0.1\r\n",
      "six                           1.16.0\r\n",
      "smart-open                    6.4.0\r\n",
      "sniffio                       1.3.0\r\n",
      "snowballstemmer               2.2.0\r\n",
      "soupsieve                     2.5\r\n",
      "spacy                         3.7.1\r\n",
      "spacy-legacy                  3.0.12\r\n",
      "spacy-loggers                 1.0.5\r\n",
      "Sphinx                        7.1.2\r\n",
      "sphinxcontrib-applehelp       1.0.4\r\n",
      "sphinxcontrib-devhelp         1.0.2\r\n",
      "sphinxcontrib-htmlhelp        2.0.1\r\n",
      "sphinxcontrib-jsmath          1.0.1\r\n",
      "sphinxcontrib-qthelp          1.0.3\r\n",
      "sphinxcontrib-serializinghtml 1.1.5\r\n",
      "SQLAlchemy                    2.0.13\r\n",
      "srsly                         2.4.8\r\n",
      "statsmodels                   0.14.0\r\n",
      "sympy                         1.12\r\n",
      "tenacity                      8.2.3\r\n",
      "tensorboard                   2.10.1\r\n",
      "tensorboard-data-server       0.6.1\r\n",
      "tensorboard-plugin-wit        1.8.1\r\n",
      "tensorflow-cpu                2.10.1\r\n",
      "tensorflow-estimator          2.10.0\r\n",
      "tensorflow-io-gcs-filesystem  0.34.0\r\n",
      "termcolor                     2.3.0\r\n",
      "terminado                     0.17.1\r\n",
      "thinc                         8.2.1\r\n",
      "threadpoolctl                 3.2.0\r\n",
      "tifffile                      2023.7.10\r\n",
      "tinycss2                      1.2.1\r\n",
      "tokenizers                    0.13.3\r\n",
      "torch                         2.0.1+cu117\r\n",
      "torchvision                   0.15.2+rocm5.4.2\r\n",
      "tornado                       6.3.3\r\n",
      "tqdm                          4.66.1\r\n",
      "traitlets                     5.11.2\r\n",
      "transformers                  4.29.1\r\n",
      "triton                        2.0.0\r\n",
      "typer                         0.9.0\r\n",
      "typing_extensions             4.8.0\r\n",
      "urllib3                       1.26.17\r\n",
      "wasabi                        1.1.2\r\n",
      "wcwidth                       0.2.8\r\n",
      "weasel                        0.3.2\r\n",
      "webencodings                  0.5.1\r\n",
      "websocket-client              1.6.4\r\n",
      "Werkzeug                      3.0.0\r\n",
      "wheel                         0.41.2\r\n",
      "widgetsnbextension            3.5.2\r\n",
      "wrapt                         1.15.0\r\n",
      "xgboost                       1.7.5\r\n",
      "xlrd                          2.0.1\r\n",
      "xyzservices                   2023.10.0\r\n",
      "yarl                          1.9.2\r\n",
      "zipp                          3.17.0\r\n",
      "\r\n",
      "\u001b[1m[\u001b[0m\u001b[34;49mnotice\u001b[0m\u001b[1;39;49m]\u001b[0m\u001b[39;49m A new release of pip is available: \u001b[0m\u001b[31;49m23.1.2\u001b[0m\u001b[39;49m -> \u001b[0m\u001b[32;49m23.3.1\u001b[0m\r\n",
      "\u001b[1m[\u001b[0m\u001b[34;49mnotice\u001b[0m\u001b[1;39;49m]\u001b[0m\u001b[39;49m To update, run: \u001b[0m\u001b[32;49mpip install --upgrade pip\u001b[0m\r\n"
     ],
     "output_type":"stream"
    }
   ],
   "metadata":{
    "datalore":{
     "node_id":"Qf2fGBT29Tp85ig2h3H6be",
     "type":"CODE",
     "hide_input_from_viewers":false,
     "hide_output_from_viewers":false,
     "report_properties":{
      "rowId":"iF77wHN3KjirO3UBNMvq29"
     }
    }
   }
  },
  {
   "cell_type":"markdown",
   "source":[
    "# 📜 Verzie vizualizačných knižnic \n",
    "try - except - finally  \n",
    "\n",
    "https:\/\/docs.python.org\/3\/tutorial\/errors.html "
   ],
   "attachments":{},
   "metadata":{
    "datalore":{
     "node_id":"O6f5kWGeujRXtOQVWAlLTl",
     "type":"MD",
     "hide_input_from_viewers":false,
     "hide_output_from_viewers":false,
     "report_properties":{
      "rowId":"E9cX2hSUAeBjar0TwM5syB"
     }
    }
   }
  },
  {
   "cell_type":"code",
   "source":[],
   "execution_count":14,
   "outputs":[
    {
     "name":"stdout",
     "text":[
      "✅ Moduly\/kniznice boli nacitane\n",
      "Plotly verzia: 5.14.1\n",
      "Bokeh verzia: 3.1.1\n",
      "Seaborn verzia: 0.12.2\n",
      "Matplotlib verzia: 3.7.1\n",
      "Squarify verzia: 0.4.4\n"
     ],
     "output_type":"stream"
    }
   ],
   "metadata":{
    "datalore":{
     "node_id":"V0v8HOOhd9hhVxJnX8q4eL",
     "type":"CODE",
     "hide_input_from_viewers":true,
     "hide_output_from_viewers":true
    }
   }
  },
  {
   "cell_type":"code",
   "source":[],
   "execution_count":13,
   "outputs":[
    {
     "name":"stdout",
     "text":[
      "TRY:\n",
      "✅ Moduly\/kniznice boli nacitane\n",
      "Plotly verzia: 5.14.1\n",
      "Bokeh verzia: 3.1.1\n",
      "Seaborn verzia: 0.12.2\n",
      "Matplotlib verzia: 3.7.1\n",
      "Squarify verzia: 0.4.4\n",
      "\n",
      "FINALLY: Tento text sa vypise vzdy\n"
     ],
     "output_type":"stream"
    }
   ],
   "metadata":{
    "datalore":{
     "node_id":"xxC61eI2Oqyzy8GmzzwrET",
     "type":"CODE",
     "hide_input_from_viewers":false,
     "hide_output_from_viewers":false,
     "report_properties":{
      "rowId":"csTaUBzwY1G6f6IoNz36lu"
     }
    }
   }
  },
  {
   "cell_type":"markdown",
   "source":[
    "# 📊 Príklad na použitie Plotly"
   ],
   "attachments":{},
   "metadata":{
    "datalore":{
     "node_id":"9nZeU67HPQXJSgN5qZb7h6",
     "type":"MD",
     "hide_input_from_viewers":true,
     "hide_output_from_viewers":true
    }
   }
  },
  {
   "cell_type":"code",
   "source":[],
   "execution_count":2,
   "outputs":[
    {
     "data":{
      "application\/vnd.plotly.v1+json":{
       "data":[
        {
         "mode":"lines",
         "name":"Line Chart",
         "x":[
          1,
          2,
          3,
          4,
          5
         ],
         "y":[
          10,
          14,
          12,
          8,
          16
         ],
         "type":"scatter"
        }
       ],
       "layout":{
        "template":{
         "data":{
          "histogram2dcontour":[
           {
            "type":"histogram2dcontour",
            "colorbar":{
             "outlinewidth":0,
             "ticks":""
            },
            "colorscale":[
             [
              0,
              "#0d0887"
             ],
             [
              0.1111111111111111,
              "#46039f"
             ],
             [
              0.2222222222222222,
              "#7201a8"
             ],
             [
              0.3333333333333333,
              "#9c179e"
             ],
             [
              0.4444444444444444,
              "#bd3786"
             ],
             [
              0.5555555555555556,
              "#d8576b"
             ],
             [
              0.6666666666666666,
              "#ed7953"
             ],
             [
              0.7777777777777778,
              "#fb9f3a"
             ],
             [
              0.8888888888888888,
              "#fdca26"
             ],
             [
              1,
              "#f0f921"
             ]
            ]
           }
          ],
          "choropleth":[
           {
            "type":"choropleth",
            "colorbar":{
             "outlinewidth":0,
             "ticks":""
            }
           }
          ],
          "histogram2d":[
           {
            "type":"histogram2d",
            "colorbar":{
             "outlinewidth":0,
             "ticks":""
            },
            "colorscale":[
             [
              0,
              "#0d0887"
             ],
             [
              0.1111111111111111,
              "#46039f"
             ],
             [
              0.2222222222222222,
              "#7201a8"
             ],
             [
              0.3333333333333333,
              "#9c179e"
             ],
             [
              0.4444444444444444,
              "#bd3786"
             ],
             [
              0.5555555555555556,
              "#d8576b"
             ],
             [
              0.6666666666666666,
              "#ed7953"
             ],
             [
              0.7777777777777778,
              "#fb9f3a"
             ],
             [
              0.8888888888888888,
              "#fdca26"
             ],
             [
              1,
              "#f0f921"
             ]
            ]
           }
          ],
          "heatmap":[
           {
            "type":"heatmap",
            "colorbar":{
             "outlinewidth":0,
             "ticks":""
            },
            "colorscale":[
             [
              0,
              "#0d0887"
             ],
             [
              0.1111111111111111,
              "#46039f"
             ],
             [
              0.2222222222222222,
              "#7201a8"
             ],
             [
              0.3333333333333333,
              "#9c179e"
             ],
             [
              0.4444444444444444,
              "#bd3786"
             ],
             [
              0.5555555555555556,
              "#d8576b"
             ],
             [
              0.6666666666666666,
              "#ed7953"
             ],
             [
              0.7777777777777778,
              "#fb9f3a"
             ],
             [
              0.8888888888888888,
              "#fdca26"
             ],
             [
              1,
              "#f0f921"
             ]
            ]
           }
          ],
          "heatmapgl":[
           {
            "type":"heatmapgl",
            "colorbar":{
             "outlinewidth":0,
             "ticks":""
            },
            "colorscale":[
             [
              0,
              "#0d0887"
             ],
             [
              0.1111111111111111,
              "#46039f"
             ],
             [
              0.2222222222222222,
              "#7201a8"
             ],
             [
              0.3333333333333333,
              "#9c179e"
             ],
             [
              0.4444444444444444,
              "#bd3786"
             ],
             [
              0.5555555555555556,
              "#d8576b"
             ],
             [
              0.6666666666666666,
              "#ed7953"
             ],
             [
              0.7777777777777778,
              "#fb9f3a"
             ],
             [
              0.8888888888888888,
              "#fdca26"
             ],
             [
              1,
              "#f0f921"
             ]
            ]
           }
          ],
          "contourcarpet":[
           {
            "type":"contourcarpet",
            "colorbar":{
             "outlinewidth":0,
             "ticks":""
            }
           }
          ],
          "contour":[
           {
            "type":"contour",
            "colorbar":{
             "outlinewidth":0,
             "ticks":""
            },
            "colorscale":[
             [
              0,
              "#0d0887"
             ],
             [
              0.1111111111111111,
              "#46039f"
             ],
             [
              0.2222222222222222,
              "#7201a8"
             ],
             [
              0.3333333333333333,
              "#9c179e"
             ],
             [
              0.4444444444444444,
              "#bd3786"
             ],
             [
              0.5555555555555556,
              "#d8576b"
             ],
             [
              0.6666666666666666,
              "#ed7953"
             ],
             [
              0.7777777777777778,
              "#fb9f3a"
             ],
             [
              0.8888888888888888,
              "#fdca26"
             ],
             [
              1,
              "#f0f921"
             ]
            ]
           }
          ],
          "surface":[
           {
            "type":"surface",
            "colorbar":{
             "outlinewidth":0,
             "ticks":""
            },
            "colorscale":[
             [
              0,
              "#0d0887"
             ],
             [
              0.1111111111111111,
              "#46039f"
             ],
             [
              0.2222222222222222,
              "#7201a8"
             ],
             [
              0.3333333333333333,
              "#9c179e"
             ],
             [
              0.4444444444444444,
              "#bd3786"
             ],
             [
              0.5555555555555556,
              "#d8576b"
             ],
             [
              0.6666666666666666,
              "#ed7953"
             ],
             [
              0.7777777777777778,
              "#fb9f3a"
             ],
             [
              0.8888888888888888,
              "#fdca26"
             ],
             [
              1,
              "#f0f921"
             ]
            ]
           }
          ],
          "mesh3d":[
           {
            "type":"mesh3d",
            "colorbar":{
             "outlinewidth":0,
             "ticks":""
            }
           }
          ],
          "scatter":[
           {
            "fillpattern":{
             "fillmode":"overlay",
             "size":10,
             "solidity":0.2
            },
            "type":"scatter"
           }
          ],
          "parcoords":[
           {
            "type":"parcoords",
            "line":{
             "colorbar":{
              "outlinewidth":0,
              "ticks":""
             }
            }
           }
          ],
          "scatterpolargl":[
           {
            "type":"scatterpolargl",
            "marker":{
             "colorbar":{
              "outlinewidth":0,
              "ticks":""
             }
            }
           }
          ],
          "bar":[
           {
            "error_x":{
             "color":"#2a3f5f"
            },
            "error_y":{
             "color":"#2a3f5f"
            },
            "marker":{
             "line":{
              "color":"#E5ECF6",
              "width":0.5
             },
             "pattern":{
              "fillmode":"overlay",
              "size":10,
              "solidity":0.2
             }
            },
            "type":"bar"
           }
          ],
          "scattergeo":[
           {
            "type":"scattergeo",
            "marker":{
             "colorbar":{
              "outlinewidth":0,
              "ticks":""
             }
            }
           }
          ],
          "scatterpolar":[
           {
            "type":"scatterpolar",
            "marker":{
             "colorbar":{
              "outlinewidth":0,
              "ticks":""
             }
            }
           }
          ],
          "histogram":[
           {
            "marker":{
             "pattern":{
              "fillmode":"overlay",
              "size":10,
              "solidity":0.2
             }
            },
            "type":"histogram"
           }
          ],
          "scattergl":[
           {
            "type":"scattergl",
            "marker":{
             "colorbar":{
              "outlinewidth":0,
              "ticks":""
             }
            }
           }
          ],
          "scatter3d":[
           {
            "type":"scatter3d",
            "line":{
             "colorbar":{
              "outlinewidth":0,
              "ticks":""
             }
            },
            "marker":{
             "colorbar":{
              "outlinewidth":0,
              "ticks":""
             }
            }
           }
          ],
          "scattermapbox":[
           {
            "type":"scattermapbox",
            "marker":{
             "colorbar":{
              "outlinewidth":0,
              "ticks":""
             }
            }
           }
          ],
          "scatterternary":[
           {
            "type":"scatterternary",
            "marker":{
             "colorbar":{
              "outlinewidth":0,
              "ticks":""
             }
            }
           }
          ],
          "scattercarpet":[
           {
            "type":"scattercarpet",
            "marker":{
             "colorbar":{
              "outlinewidth":0,
              "ticks":""
             }
            }
           }
          ],
          "carpet":[
           {
            "aaxis":{
             "endlinecolor":"#2a3f5f",
             "gridcolor":"white",
             "linecolor":"white",
             "minorgridcolor":"white",
             "startlinecolor":"#2a3f5f"
            },
            "baxis":{
             "endlinecolor":"#2a3f5f",
             "gridcolor":"white",
             "linecolor":"white",
             "minorgridcolor":"white",
             "startlinecolor":"#2a3f5f"
            },
            "type":"carpet"
           }
          ],
          "table":[
           {
            "cells":{
             "fill":{
              "color":"#EBF0F8"
             },
             "line":{
              "color":"white"
             }
            },
            "header":{
             "fill":{
              "color":"#C8D4E3"
             },
             "line":{
              "color":"white"
             }
            },
            "type":"table"
           }
          ],
          "barpolar":[
           {
            "marker":{
             "line":{
              "color":"#E5ECF6",
              "width":0.5
             },
             "pattern":{
              "fillmode":"overlay",
              "size":10,
              "solidity":0.2
             }
            },
            "type":"barpolar"
           }
          ],
          "pie":[
           {
            "automargin":true,
            "type":"pie"
           }
          ]
         },
         "layout":{
          "autotypenumbers":"strict",
          "colorway":[
           "#636efa",
           "#EF553B",
           "#00cc96",
           "#ab63fa",
           "#FFA15A",
           "#19d3f3",
           "#FF6692",
           "#B6E880",
           "#FF97FF",
           "#FECB52"
          ],
          "font":{
           "color":"#2a3f5f"
          },
          "hovermode":"closest",
          "hoverlabel":{
           "align":"left"
          },
          "paper_bgcolor":"white",
          "plot_bgcolor":"#E5ECF6",
          "polar":{
           "bgcolor":"#E5ECF6",
           "angularaxis":{
            "gridcolor":"white",
            "linecolor":"white",
            "ticks":""
           },
           "radialaxis":{
            "gridcolor":"white",
            "linecolor":"white",
            "ticks":""
           }
          },
          "ternary":{
           "bgcolor":"#E5ECF6",
           "aaxis":{
            "gridcolor":"white",
            "linecolor":"white",
            "ticks":""
           },
           "baxis":{
            "gridcolor":"white",
            "linecolor":"white",
            "ticks":""
           },
           "caxis":{
            "gridcolor":"white",
            "linecolor":"white",
            "ticks":""
           }
          },
          "coloraxis":{
           "colorbar":{
            "outlinewidth":0,
            "ticks":""
           }
          },
          "colorscale":{
           "sequential":[
            [
             0,
             "#0d0887"
            ],
            [
             0.1111111111111111,
             "#46039f"
            ],
            [
             0.2222222222222222,
             "#7201a8"
            ],
            [
             0.3333333333333333,
             "#9c179e"
            ],
            [
             0.4444444444444444,
             "#bd3786"
            ],
            [
             0.5555555555555556,
             "#d8576b"
            ],
            [
             0.6666666666666666,
             "#ed7953"
            ],
            [
             0.7777777777777778,
             "#fb9f3a"
            ],
            [
             0.8888888888888888,
             "#fdca26"
            ],
            [
             1,
             "#f0f921"
            ]
           ],
           "sequentialminus":[
            [
             0,
             "#0d0887"
            ],
            [
             0.1111111111111111,
             "#46039f"
            ],
            [
             0.2222222222222222,
             "#7201a8"
            ],
            [
             0.3333333333333333,
             "#9c179e"
            ],
            [
             0.4444444444444444,
             "#bd3786"
            ],
            [
             0.5555555555555556,
             "#d8576b"
            ],
            [
             0.6666666666666666,
             "#ed7953"
            ],
            [
             0.7777777777777778,
             "#fb9f3a"
            ],
            [
             0.8888888888888888,
             "#fdca26"
            ],
            [
             1,
             "#f0f921"
            ]
           ],
           "diverging":[
            [
             0,
             "#8e0152"
            ],
            [
             0.1,
             "#c51b7d"
            ],
            [
             0.2,
             "#de77ae"
            ],
            [
             0.3,
             "#f1b6da"
            ],
            [
             0.4,
             "#fde0ef"
            ],
            [
             0.5,
             "#f7f7f7"
            ],
            [
             0.6,
             "#e6f5d0"
            ],
            [
             0.7,
             "#b8e186"
            ],
            [
             0.8,
             "#7fbc41"
            ],
            [
             0.9,
             "#4d9221"
            ],
            [
             1,
             "#276419"
            ]
           ]
          },
          "xaxis":{
           "gridcolor":"white",
           "linecolor":"white",
           "ticks":"",
           "title":{
            "standoff":15
           },
           "zerolinecolor":"white",
           "automargin":true,
           "zerolinewidth":2
          },
          "yaxis":{
           "gridcolor":"white",
           "linecolor":"white",
           "ticks":"",
           "title":{
            "standoff":15
           },
           "zerolinecolor":"white",
           "automargin":true,
           "zerolinewidth":2
          },
          "scene":{
           "xaxis":{
            "backgroundcolor":"#E5ECF6",
            "gridcolor":"white",
            "linecolor":"white",
            "showbackground":true,
            "ticks":"",
            "zerolinecolor":"white",
            "gridwidth":2
           },
           "yaxis":{
            "backgroundcolor":"#E5ECF6",
            "gridcolor":"white",
            "linecolor":"white",
            "showbackground":true,
            "ticks":"",
            "zerolinecolor":"white",
            "gridwidth":2
           },
           "zaxis":{
            "backgroundcolor":"#E5ECF6",
            "gridcolor":"white",
            "linecolor":"white",
            "showbackground":true,
            "ticks":"",
            "zerolinecolor":"white",
            "gridwidth":2
           }
          },
          "shapedefaults":{
           "line":{
            "color":"#2a3f5f"
           }
          },
          "annotationdefaults":{
           "arrowcolor":"#2a3f5f",
           "arrowhead":0,
           "arrowwidth":1
          },
          "geo":{
           "bgcolor":"white",
           "landcolor":"#E5ECF6",
           "subunitcolor":"white",
           "showland":true,
           "showlakes":true,
           "lakecolor":"white"
          },
          "title":{
           "x":0.05
          },
          "mapbox":{
           "style":"light"
          }
         }
        }
       },
       "config":{
        "plotlyServerURL":"https:\/\/plot.ly"
       }
      }
     },
     "metadata":{},
     "output_type":"display_data"
    }
   ],
   "metadata":{
    "datalore":{
     "node_id":"pJKsT83yGfF6ZUc2u9NzI6",
     "type":"CODE",
     "hide_input_from_viewers":false,
     "hide_output_from_viewers":false,
     "report_properties":{
      "rowId":"WBOAojo2SfYR7FtzUsMDna"
     }
    }
   }
  },
  {
   "cell_type":"markdown",
   "source":[
    "# 📈 Príklad na použitie Bokeh"
   ],
   "attachments":{},
   "metadata":{
    "datalore":{
     "node_id":"tsdIQ9XGjereK4lpOTMNED",
     "type":"MD",
     "hide_input_from_viewers":true,
     "hide_output_from_viewers":true
    }
   }
  },
  {
   "cell_type":"code",
   "source":[],
   "execution_count":17,
   "outputs":[
    {
     "data":{
      "text\/html":[
       "<style>\n",
       "        .bk-notebook-logo {\n",
       "            display: block;\n",
       "            width: 20px;\n",
       "            height: 20px;\n",
       "            background-image: url(data:image\/png;base64,iVBORw0KGgoAAAANSUhEUgAAABQAAAAUCAYAAACNiR0NAAAABHNCSVQICAgIfAhkiAAAAAlwSFlzAAALEgAACxIB0t1+\/AAAABx0RVh0U29mdHdhcmUAQWRvYmUgRmlyZXdvcmtzIENTNui8sowAAAOkSURBVDiNjZRtaJVlGMd\/1\/08zzln5zjP1LWcU9N0NkN8m2CYjpgQYQXqSs0I84OLIC0hkEKoPtiH3gmKoiJDU7QpLgoLjLIQCpEsNJ1vqUOdO7ppbuec5+V+rj4ctwzd8IIbbi6u+8f1539dt3A78eXC7QizUF7gyV1fD1Yqg4JWz84yffhm0qkFqBogB9rM8tZdtwVsPUhWhGcFJngGeWrPzHm5oaMmkfEg1usvLFyc8jLRqDOMru7AyC8saQr7GG7f5fvDeH7Ej8CM66nIF+8yngt6HWaKh7k49Soy9nXurCi1o3qUbS3zWfrYeQDTB\/Qj6kX6Ybhw4B+bOYoLKCC9H3Nu\/leUTZ1JdRWkkn2ldcCamzrcf47KKXdAJllSlxAOkRgyHsGC\/zRday5Qld9DyoM4\/q\/rUoy\/CXh3jzOu3bHUVZeU+DEn8FInkPBFlu3+nW3Nw0mk6vCDiWg8CeJaxEwuHS3+z5RgY+YBR6V1Z1nxSOfoaPa4LASWxxdNp+VWTk7+4vzaou8v8PN+xo+KY2xsw6une2frhw05CTYOmQvsEhjhWjn0bmXPjpE1+kplmmkP3suftwTubK9Vq22qKmrBhpY4jvd5afdRA3wGjFAgcnTK2s4hY0\/GPNIb0nErGMCRxWOOX64Z8RAC4oCXdklmEvcL8o0BfkNK4lUg9HTl+oPlQxdNo3Mg4Nv175e\/1LDGzZen30MEjRUtmXSfiTVu1kK8W4txyV6BMKlbgk3lMwYCiusNy9fVfvvwMxv8Ynl6vxoByANLTWplvuj\/nF9m2+PDtt1eiHPBr1oIfhCChQMBw6Aw0UulqTKZdfVvfG7VcfIqLG9bcldL\/+pdWTLxLUy8Qq38heUIjh4XlzZxzQm19lLFlr8vdQ97rjZVOLf8nclzckbcD4wxXMidpX30sFd37Fv\/GtwwhzhxGVAprjbg0gCAEeIgwCZyTV2Z1REEW8O4py0wsjeloKoMr6iCY6dP92H6Vw\/oTyICIthibxjm\/DfN9lVz8IqtqKYLUXfoKVMVQVVJOElGjrnnUt9T9wbgp8AyYKaGlqingHZU\/uG2NTZSVqwHQTWkx9hxjkpWDaCg6Ckj5qebgBVbT3V3NNXMSiWSDdGV3hrtzla7J+duwPOToIg42ChPQOQjspnSlp1V+Gjdged7+8UN5CRAV7a5EdFNwCjEaBR27b3W890TE7g24NAP\/mMDXRWrGoFPQI9ls\/MWO2dWFAar\/xcOIImbbpA3zgAAAABJRU5ErkJggg==);\n",
       "        }\n",
       "    <\/style>\n",
       "    <div>\n",
       "        <a href=\"https:\/\/bokeh.org\" target=\"_blank\" class=\"bk-notebook-logo\"><\/a>\n",
       "        <span id=\"f2730913-885d-4d8f-b702-50958a56c6f2\">Loading BokehJS ...<\/span>\n",
       "    <\/div>\n"
      ]
     },
     "metadata":{},
     "output_type":"display_data"
    },
    {
     "data":{
      "text\/html":[
       "<script>(function(root) {\n",
       "  function now() {\n",
       "    return new Date();\n",
       "  }\n",
       "\n",
       "  const force = true;\n",
       "\n",
       "  if (typeof root._bokeh_onload_callbacks === \"undefined\" || force === true) {\n",
       "    root._bokeh_onload_callbacks = [];\n",
       "    root._bokeh_is_loading = undefined;\n",
       "  }\n",
       "\n",
       "const JS_MIME_TYPE = 'application\/javascript';\n",
       "  const HTML_MIME_TYPE = 'text\/html';\n",
       "  const EXEC_MIME_TYPE = 'application\/vnd.bokehjs_exec.v0+json';\n",
       "  const CLASS_NAME = 'output_bokeh rendered_html';\n",
       "\n",
       "  \/**\n",
       "   * Render data to the DOM node\n",
       "   *\/\n",
       "  function render(props, node) {\n",
       "    const script = document.createElement(\"script\");\n",
       "    node.appendChild(script);\n",
       "  }\n",
       "\n",
       "  \/**\n",
       "   * Handle when an output is cleared or removed\n",
       "   *\/\n",
       "  function handleClearOutput(event, handle) {\n",
       "    const cell = handle.cell;\n",
       "\n",
       "    const id = cell.output_area._bokeh_element_id;\n",
       "    const server_id = cell.output_area._bokeh_server_id;\n",
       "    \/\/ Clean up Bokeh references\n",
       "    if (id != null && id in Bokeh.index) {\n",
       "      Bokeh.index[id].model.document.clear();\n",
       "      delete Bokeh.index[id];\n",
       "    }\n",
       "\n",
       "    if (server_id !== undefined) {\n",
       "      \/\/ Clean up Bokeh references\n",
       "      const cmd_clean = \"from bokeh.io.state import curstate; print(curstate().uuid_to_server['\" + server_id + \"'].get_sessions()[0].document.roots[0]._id)\";\n",
       "      cell.notebook.kernel.execute(cmd_clean, {\n",
       "        iopub: {\n",
       "          output: function(msg) {\n",
       "            const id = msg.content.text.trim();\n",
       "            if (id in Bokeh.index) {\n",
       "              Bokeh.index[id].model.document.clear();\n",
       "              delete Bokeh.index[id];\n",
       "            }\n",
       "          }\n",
       "        }\n",
       "      });\n",
       "      \/\/ Destroy server and session\n",
       "      const cmd_destroy = \"import bokeh.io.notebook as ion; ion.destroy_server('\" + server_id + \"')\";\n",
       "      cell.notebook.kernel.execute(cmd_destroy);\n",
       "    }\n",
       "  }\n",
       "\n",
       "  \/**\n",
       "   * Handle when a new output is added\n",
       "   *\/\n",
       "  function handleAddOutput(event, handle) {\n",
       "    const output_area = handle.output_area;\n",
       "    const output = handle.output;\n",
       "\n",
       "    \/\/ limit handleAddOutput to display_data with EXEC_MIME_TYPE content only\n",
       "    if ((output.output_type != \"display_data\") || (!Object.prototype.hasOwnProperty.call(output.data, EXEC_MIME_TYPE))) {\n",
       "      return\n",
       "    }\n",
       "\n",
       "    const toinsert = output_area.element.find(\".\" + CLASS_NAME.split(' ')[0]);\n",
       "\n",
       "    if (output.metadata[EXEC_MIME_TYPE][\"id\"] !== undefined) {\n",
       "      toinsert[toinsert.length - 1].firstChild.textContent = output.data[JS_MIME_TYPE];\n",
       "      \/\/ store reference to embed id on output_area\n",
       "      output_area._bokeh_element_id = output.metadata[EXEC_MIME_TYPE][\"id\"];\n",
       "    }\n",
       "    if (output.metadata[EXEC_MIME_TYPE][\"server_id\"] !== undefined) {\n",
       "      const bk_div = document.createElement(\"div\");\n",
       "      bk_div.innerHTML = output.data[HTML_MIME_TYPE];\n",
       "      const script_attrs = bk_div.children[0].attributes;\n",
       "      for (let i = 0; i < script_attrs.length; i++) {\n",
       "        toinsert[toinsert.length - 1].firstChild.setAttribute(script_attrs[i].name, script_attrs[i].value);\n",
       "        toinsert[toinsert.length - 1].firstChild.textContent = bk_div.children[0].textContent\n",
       "      }\n",
       "      \/\/ store reference to server id on output_area\n",
       "      output_area._bokeh_server_id = output.metadata[EXEC_MIME_TYPE][\"server_id\"];\n",
       "    }\n",
       "  }\n",
       "\n",
       "  function register_renderer(events, OutputArea) {\n",
       "\n",
       "    function append_mime(data, metadata, element) {\n",
       "      \/\/ create a DOM node to render to\n",
       "      const toinsert = this.create_output_subarea(\n",
       "        metadata,\n",
       "        CLASS_NAME,\n",
       "        EXEC_MIME_TYPE\n",
       "      );\n",
       "      this.keyboard_manager.register_events(toinsert);\n",
       "      \/\/ Render to node\n",
       "      const props = {data: data, metadata: metadata[EXEC_MIME_TYPE]};\n",
       "      render(props, toinsert[toinsert.length - 1]);\n",
       "      element.append(toinsert);\n",
       "      return toinsert\n",
       "    }\n",
       "\n",
       "    \/* Handle when an output is cleared or removed *\/\n",
       "    events.on('clear_output.CodeCell', handleClearOutput);\n",
       "    events.on('delete.Cell', handleClearOutput);\n",
       "\n",
       "    \/* Handle when a new output is added *\/\n",
       "    events.on('output_added.OutputArea', handleAddOutput);\n",
       "\n",
       "    \/**\n",
       "     * Register the mime type and append_mime function with output_area\n",
       "     *\/\n",
       "    OutputArea.prototype.register_mime_type(EXEC_MIME_TYPE, append_mime, {\n",
       "      \/* Is output safe? *\/\n",
       "      safe: true,\n",
       "      \/* Index of renderer in `output_area.display_order` *\/\n",
       "      index: 0\n",
       "    });\n",
       "  }\n",
       "\n",
       "  \/\/ register the mime type if in Jupyter Notebook environment and previously unregistered\n",
       "  if (root.Jupyter !== undefined) {\n",
       "    const events = require('base\/js\/events');\n",
       "    const OutputArea = require('notebook\/js\/outputarea').OutputArea;\n",
       "\n",
       "    if (OutputArea.prototype.mime_types().indexOf(EXEC_MIME_TYPE) == -1) {\n",
       "      register_renderer(events, OutputArea);\n",
       "    }\n",
       "  }\n",
       "  if (typeof (root._bokeh_timeout) === \"undefined\" || force === true) {\n",
       "    root._bokeh_timeout = Date.now() + 5000;\n",
       "    root._bokeh_failed_load = false;\n",
       "  }\n",
       "\n",
       "  const NB_LOAD_WARNING = {'data': {'text\/html':\n",
       "     \"<div style='background-color: #fdd'>\\n\"+\n",
       "     \"<p>\\n\"+\n",
       "     \"BokehJS does not appear to have successfully loaded. If loading BokehJS from CDN, this \\n\"+\n",
       "     \"may be due to a slow or bad network connection. Possible fixes:\\n\"+\n",
       "     \"<\/p>\\n\"+\n",
       "     \"<ul>\\n\"+\n",
       "     \"<li>re-rerun `output_notebook()` to attempt to load from CDN again, or<\/li>\\n\"+\n",
       "     \"<li>use INLINE resources instead, as so:<\/li>\\n\"+\n",
       "     \"<\/ul>\\n\"+\n",
       "     \"<code>\\n\"+\n",
       "     \"from bokeh.resources import INLINE\\n\"+\n",
       "     \"output_notebook(resources=INLINE)\\n\"+\n",
       "     \"<\/code>\\n\"+\n",
       "     \"<\/div>\"}};\n",
       "\n",
       "  function display_loaded() {\n",
       "    const el = document.getElementById(\"f2730913-885d-4d8f-b702-50958a56c6f2\");\n",
       "    if (el != null) {\n",
       "      el.textContent = \"BokehJS is loading...\";\n",
       "    }\n",
       "    if (root.Bokeh !== undefined) {\n",
       "      if (el != null) {\n",
       "        el.textContent = \"BokehJS \" + root.Bokeh.version + \" successfully loaded.\";\n",
       "      }\n",
       "    } else if (Date.now() < root._bokeh_timeout) {\n",
       "      setTimeout(display_loaded, 100)\n",
       "    }\n",
       "  }\n",
       "\n",
       "  function run_callbacks() {\n",
       "    try {\n",
       "      root._bokeh_onload_callbacks.forEach(function(callback) {\n",
       "        if (callback != null)\n",
       "          callback();\n",
       "      });\n",
       "    } finally {\n",
       "      delete root._bokeh_onload_callbacks\n",
       "    }\n",
       "    console.debug(\"Bokeh: all callbacks have finished\");\n",
       "  }\n",
       "\n",
       "  function load_libs(css_urls, js_urls, callback) {\n",
       "    if (css_urls == null) css_urls = [];\n",
       "    if (js_urls == null) js_urls = [];\n",
       "\n",
       "    root._bokeh_onload_callbacks.push(callback);\n",
       "    if (root._bokeh_is_loading > 0) {\n",
       "      console.debug(\"Bokeh: BokehJS is being loaded, scheduling callback at\", now());\n",
       "      return null;\n",
       "    }\n",
       "    if (js_urls == null || js_urls.length === 0) {\n",
       "      run_callbacks();\n",
       "      return null;\n",
       "    }\n",
       "    console.debug(\"Bokeh: BokehJS not loaded, scheduling load and callback at\", now());\n",
       "    root._bokeh_is_loading = css_urls.length + js_urls.length;\n",
       "\n",
       "    function on_load() {\n",
       "      root._bokeh_is_loading--;\n",
       "      if (root._bokeh_is_loading === 0) {\n",
       "        console.debug(\"Bokeh: all BokehJS libraries\/stylesheets loaded\");\n",
       "        run_callbacks()\n",
       "      }\n",
       "    }\n",
       "\n",
       "    function on_error(url) {\n",
       "      console.error(\"failed to load \" + url);\n",
       "    }\n",
       "\n",
       "    for (let i = 0; i < css_urls.length; i++) {\n",
       "      const url = css_urls[i];\n",
       "      const element = document.createElement(\"link\");\n",
       "      element.onload = on_load;\n",
       "      element.onerror = on_error.bind(null, url);\n",
       "      element.rel = \"stylesheet\";\n",
       "      element.type = \"text\/css\";\n",
       "      element.href = url;\n",
       "      console.debug(\"Bokeh: injecting link tag for BokehJS stylesheet: \", url);\n",
       "      document.body.appendChild(element);\n",
       "    }\n",
       "\n",
       "    for (let i = 0; i < js_urls.length; i++) {\n",
       "      const url = js_urls[i];\n",
       "      const element = document.createElement('script');\n",
       "      element.onload = on_load;\n",
       "      element.onerror = on_error.bind(null, url);\n",
       "      element.async = false;\n",
       "      element.src = url;\n",
       "      console.debug(\"Bokeh: injecting script tag for BokehJS library: \", url);\n",
       "      document.head.appendChild(element);\n",
       "    }\n",
       "  };\n",
       "\n",
       "  function inject_raw_css(css) {\n",
       "    const element = document.createElement(\"style\");\n",
       "    element.appendChild(document.createTextNode(css));\n",
       "    document.body.appendChild(element);\n",
       "  }\n",
       "\n",
       "  const js_urls = [\"https:\/\/cdn.bokeh.org\/bokeh\/release\/bokeh-3.1.1.min.js\", \"https:\/\/cdn.bokeh.org\/bokeh\/release\/bokeh-gl-3.1.1.min.js\", \"https:\/\/cdn.bokeh.org\/bokeh\/release\/bokeh-widgets-3.1.1.min.js\", \"https:\/\/cdn.bokeh.org\/bokeh\/release\/bokeh-tables-3.1.1.min.js\", \"https:\/\/cdn.bokeh.org\/bokeh\/release\/bokeh-mathjax-3.1.1.min.js\"];\n",
       "  const css_urls = [];\n",
       "\n",
       "  const inline_js = [    function(Bokeh) {\n",
       "      Bokeh.set_log_level(\"info\");\n",
       "    },\n",
       "function(Bokeh) {\n",
       "    }\n",
       "  ];\n",
       "\n",
       "  function run_inline_js() {\n",
       "    if (root.Bokeh !== undefined || force === true) {\n",
       "          for (let i = 0; i < inline_js.length; i++) {\n",
       "      inline_js[i].call(root, root.Bokeh);\n",
       "    }\n",
       "if (force === true) {\n",
       "        display_loaded();\n",
       "      }} else if (Date.now() < root._bokeh_timeout) {\n",
       "      setTimeout(run_inline_js, 100);\n",
       "    } else if (!root._bokeh_failed_load) {\n",
       "      console.log(\"Bokeh: BokehJS failed to load within specified timeout.\");\n",
       "      root._bokeh_failed_load = true;\n",
       "    } else if (force !== true) {\n",
       "      const cell = $(document.getElementById(\"f2730913-885d-4d8f-b702-50958a56c6f2\")).parents('.cell').data().cell;\n",
       "      cell.output_area.append_execute_result(NB_LOAD_WARNING)\n",
       "    }\n",
       "  }\n",
       "\n",
       "  if (root._bokeh_is_loading === 0) {\n",
       "    console.debug(\"Bokeh: BokehJS loaded, going straight to plotting\");\n",
       "    run_inline_js();\n",
       "  } else {\n",
       "    load_libs(css_urls, js_urls, function() {\n",
       "      console.debug(\"Bokeh: BokehJS plotting callback run at\", now());\n",
       "      run_inline_js();\n",
       "    });\n",
       "  }\n",
       "}(window));<\/script><script>(function(root) {\n",
       "  function now() {\n",
       "    return new Date();\n",
       "  }\n",
       "\n",
       "  const force = true;\n",
       "\n",
       "  if (typeof root._bokeh_onload_callbacks === \"undefined\" || force === true) {\n",
       "    root._bokeh_onload_callbacks = [];\n",
       "    root._bokeh_is_loading = undefined;\n",
       "  }\n",
       "\n",
       "\n",
       "  if (typeof (root._bokeh_timeout) === \"undefined\" || force === true) {\n",
       "    root._bokeh_timeout = Date.now() + 5000;\n",
       "    root._bokeh_failed_load = false;\n",
       "  }\n",
       "\n",
       "  const NB_LOAD_WARNING = {'data': {'text\/html':\n",
       "     \"<div style='background-color: #fdd'>\\n\"+\n",
       "     \"<p>\\n\"+\n",
       "     \"BokehJS does not appear to have successfully loaded. If loading BokehJS from CDN, this \\n\"+\n",
       "     \"may be due to a slow or bad network connection. Possible fixes:\\n\"+\n",
       "     \"<\/p>\\n\"+\n",
       "     \"<ul>\\n\"+\n",
       "     \"<li>re-rerun `output_notebook()` to attempt to load from CDN again, or<\/li>\\n\"+\n",
       "     \"<li>use INLINE resources instead, as so:<\/li>\\n\"+\n",
       "     \"<\/ul>\\n\"+\n",
       "     \"<code>\\n\"+\n",
       "     \"from bokeh.resources import INLINE\\n\"+\n",
       "     \"output_notebook(resources=INLINE)\\n\"+\n",
       "     \"<\/code>\\n\"+\n",
       "     \"<\/div>\"}};\n",
       "\n",
       "  function display_loaded() {\n",
       "    const el = document.getElementById(\"f2730913-885d-4d8f-b702-50958a56c6f2\");\n",
       "    if (el != null) {\n",
       "      el.textContent = \"BokehJS is loading...\";\n",
       "    }\n",
       "    if (root.Bokeh !== undefined) {\n",
       "      if (el != null) {\n",
       "        el.textContent = \"BokehJS \" + root.Bokeh.version + \" successfully loaded.\";\n",
       "      }\n",
       "    } else if (Date.now() < root._bokeh_timeout) {\n",
       "      setTimeout(display_loaded, 100)\n",
       "    }\n",
       "  }\n",
       "\n",
       "  function run_callbacks() {\n",
       "    try {\n",
       "      root._bokeh_onload_callbacks.forEach(function(callback) {\n",
       "        if (callback != null)\n",
       "          callback();\n",
       "      });\n",
       "    } finally {\n",
       "      delete root._bokeh_onload_callbacks\n",
       "    }\n",
       "    console.debug(\"Bokeh: all callbacks have finished\");\n",
       "  }\n",
       "\n",
       "  function load_libs(css_urls, js_urls, callback) {\n",
       "    if (css_urls == null) css_urls = [];\n",
       "    if (js_urls == null) js_urls = [];\n",
       "\n",
       "    root._bokeh_onload_callbacks.push(callback);\n",
       "    if (root._bokeh_is_loading > 0) {\n",
       "      console.debug(\"Bokeh: BokehJS is being loaded, scheduling callback at\", now());\n",
       "      return null;\n",
       "    }\n",
       "    if (js_urls == null || js_urls.length === 0) {\n",
       "      run_callbacks();\n",
       "      return null;\n",
       "    }\n",
       "    console.debug(\"Bokeh: BokehJS not loaded, scheduling load and callback at\", now());\n",
       "    root._bokeh_is_loading = css_urls.length + js_urls.length;\n",
       "\n",
       "    function on_load() {\n",
       "      root._bokeh_is_loading--;\n",
       "      if (root._bokeh_is_loading === 0) {\n",
       "        console.debug(\"Bokeh: all BokehJS libraries\/stylesheets loaded\");\n",
       "        run_callbacks()\n",
       "      }\n",
       "    }\n",
       "\n",
       "    function on_error(url) {\n",
       "      console.error(\"failed to load \" + url);\n",
       "    }\n",
       "\n",
       "    for (let i = 0; i < css_urls.length; i++) {\n",
       "      const url = css_urls[i];\n",
       "      const element = document.createElement(\"link\");\n",
       "      element.onload = on_load;\n",
       "      element.onerror = on_error.bind(null, url);\n",
       "      element.rel = \"stylesheet\";\n",
       "      element.type = \"text\/css\";\n",
       "      element.href = url;\n",
       "      console.debug(\"Bokeh: injecting link tag for BokehJS stylesheet: \", url);\n",
       "      document.body.appendChild(element);\n",
       "    }\n",
       "\n",
       "    for (let i = 0; i < js_urls.length; i++) {\n",
       "      const url = js_urls[i];\n",
       "      const element = document.createElement('script');\n",
       "      element.onload = on_load;\n",
       "      element.onerror = on_error.bind(null, url);\n",
       "      element.async = false;\n",
       "      element.src = url;\n",
       "      console.debug(\"Bokeh: injecting script tag for BokehJS library: \", url);\n",
       "      document.head.appendChild(element);\n",
       "    }\n",
       "  };\n",
       "\n",
       "  function inject_raw_css(css) {\n",
       "    const element = document.createElement(\"style\");\n",
       "    element.appendChild(document.createTextNode(css));\n",
       "    document.body.appendChild(element);\n",
       "  }\n",
       "\n",
       "  const js_urls = [\"https:\/\/cdn.bokeh.org\/bokeh\/release\/bokeh-3.1.1.min.js\", \"https:\/\/cdn.bokeh.org\/bokeh\/release\/bokeh-gl-3.1.1.min.js\", \"https:\/\/cdn.bokeh.org\/bokeh\/release\/bokeh-widgets-3.1.1.min.js\", \"https:\/\/cdn.bokeh.org\/bokeh\/release\/bokeh-tables-3.1.1.min.js\", \"https:\/\/cdn.bokeh.org\/bokeh\/release\/bokeh-mathjax-3.1.1.min.js\"];\n",
       "  const css_urls = [];\n",
       "\n",
       "  const inline_js = [    function(Bokeh) {\n",
       "      Bokeh.set_log_level(\"info\");\n",
       "    },\n",
       "function(Bokeh) {\n",
       "    }\n",
       "  ];\n",
       "\n",
       "  function run_inline_js() {\n",
       "    if (root.Bokeh !== undefined || force === true) {\n",
       "          for (let i = 0; i < inline_js.length; i++) {\n",
       "      inline_js[i].call(root, root.Bokeh);\n",
       "    }\n",
       "if (force === true) {\n",
       "        display_loaded();\n",
       "      }} else if (Date.now() < root._bokeh_timeout) {\n",
       "      setTimeout(run_inline_js, 100);\n",
       "    } else if (!root._bokeh_failed_load) {\n",
       "      console.log(\"Bokeh: BokehJS failed to load within specified timeout.\");\n",
       "      root._bokeh_failed_load = true;\n",
       "    } else if (force !== true) {\n",
       "      const cell = $(document.getElementById(\"f2730913-885d-4d8f-b702-50958a56c6f2\")).parents('.cell').data().cell;\n",
       "      cell.output_area.append_execute_result(NB_LOAD_WARNING)\n",
       "    }\n",
       "  }\n",
       "\n",
       "  if (root._bokeh_is_loading === 0) {\n",
       "    console.debug(\"Bokeh: BokehJS loaded, going straight to plotting\");\n",
       "    run_inline_js();\n",
       "  } else {\n",
       "    load_libs(css_urls, js_urls, function() {\n",
       "      console.debug(\"Bokeh: BokehJS plotting callback run at\", now());\n",
       "      run_inline_js();\n",
       "    });\n",
       "  }\n",
       "}(window));<\/script>"
      ]
     },
     "metadata":{},
     "output_type":"display_data"
    },
    {
     "data":{
      "text\/html":[
       "\n",
       "  <div id=\"d928f51f-9903-407a-8728-3b4d1a968fc6\" data-root-id=\"p1382\" style=\"display: contents;\"><\/div>\n"
      ]
     },
     "metadata":{},
     "output_type":"display_data"
    },
    {
     "data":{
      "text\/html":[
       "<script>(function(root) {\n",
       "  function embed_document(root) {\n",
       "  const docs_json = {\"c8cd9b3c-faa1-4702-ba18-45bc967aeeea\":{\"version\":\"3.1.1\",\"title\":\"Bokeh Application\",\"defs\":[],\"roots\":[{\"type\":\"object\",\"name\":\"Figure\",\"id\":\"p1382\",\"attributes\":{\"x_range\":{\"type\":\"object\",\"name\":\"DataRange1d\",\"id\":\"p1383\"},\"y_range\":{\"type\":\"object\",\"name\":\"DataRange1d\",\"id\":\"p1384\"},\"x_scale\":{\"type\":\"object\",\"name\":\"LinearScale\",\"id\":\"p1396\"},\"y_scale\":{\"type\":\"object\",\"name\":\"LinearScale\",\"id\":\"p1398\"},\"title\":{\"type\":\"object\",\"name\":\"Title\",\"id\":\"p1385\",\"attributes\":{\"text\":\"Jednoduch\\u00fd Bokeh graf\"}},\"renderers\":[{\"type\":\"object\",\"name\":\"GlyphRenderer\",\"id\":\"p1435\",\"attributes\":{\"data_source\":{\"type\":\"object\",\"name\":\"ColumnDataSource\",\"id\":\"p1429\",\"attributes\":{\"selected\":{\"type\":\"object\",\"name\":\"Selection\",\"id\":\"p1431\",\"attributes\":{\"indices\":[],\"line_indices\":[]}},\"selection_policy\":{\"type\":\"object\",\"name\":\"UnionRenderers\",\"id\":\"p1430\"},\"data\":{\"type\":\"map\",\"entries\":[[\"x\",[1,2,3,4,5]],[\"y\",[10,14,12,8,16]]]}}},\"view\":{\"type\":\"object\",\"name\":\"CDSView\",\"id\":\"p1436\",\"attributes\":{\"filter\":{\"type\":\"object\",\"name\":\"AllIndices\",\"id\":\"p1437\"}}},\"glyph\":{\"type\":\"object\",\"name\":\"Line\",\"id\":\"p1432\",\"attributes\":{\"x\":{\"type\":\"field\",\"field\":\"x\"},\"y\":{\"type\":\"field\",\"field\":\"y\"},\"line_color\":\"#1f77b4\",\"line_width\":2}},\"nonselection_glyph\":{\"type\":\"object\",\"name\":\"Line\",\"id\":\"p1433\",\"attributes\":{\"x\":{\"type\":\"field\",\"field\":\"x\"},\"y\":{\"type\":\"field\",\"field\":\"y\"},\"line_color\":\"#1f77b4\",\"line_alpha\":0.1,\"line_width\":2}},\"muted_glyph\":{\"type\":\"object\",\"name\":\"Line\",\"id\":\"p1434\",\"attributes\":{\"x\":{\"type\":\"field\",\"field\":\"x\"},\"y\":{\"type\":\"field\",\"field\":\"y\"},\"line_color\":\"#1f77b4\",\"line_alpha\":0.2,\"line_width\":2}}}}],\"toolbar\":{\"type\":\"object\",\"name\":\"Toolbar\",\"id\":\"p1391\",\"attributes\":{\"tools\":[{\"type\":\"object\",\"name\":\"PanTool\",\"id\":\"p1414\"},{\"type\":\"object\",\"name\":\"WheelZoomTool\",\"id\":\"p1415\"},{\"type\":\"object\",\"name\":\"BoxZoomTool\",\"id\":\"p1416\",\"attributes\":{\"overlay\":{\"type\":\"object\",\"name\":\"BoxAnnotation\",\"id\":\"p1417\",\"attributes\":{\"syncable\":false,\"level\":\"overlay\",\"visible\":false,\"left_units\":\"canvas\",\"right_units\":\"canvas\",\"bottom_units\":\"canvas\",\"top_units\":\"canvas\",\"line_color\":\"black\",\"line_alpha\":1.0,\"line_width\":2,\"line_dash\":[4,4],\"fill_color\":\"lightgrey\",\"fill_alpha\":0.5}}}},{\"type\":\"object\",\"name\":\"SaveTool\",\"id\":\"p1418\"},{\"type\":\"object\",\"name\":\"ResetTool\",\"id\":\"p1419\"},{\"type\":\"object\",\"name\":\"HelpTool\",\"id\":\"p1420\"}]}},\"left\":[{\"type\":\"object\",\"name\":\"LinearAxis\",\"id\":\"p1407\",\"attributes\":{\"ticker\":{\"type\":\"object\",\"name\":\"BasicTicker\",\"id\":\"p1410\",\"attributes\":{\"mantissas\":[1,2,5]}},\"formatter\":{\"type\":\"object\",\"name\":\"BasicTickFormatter\",\"id\":\"p1409\"},\"axis_label\":\"y\",\"major_label_policy\":{\"type\":\"object\",\"name\":\"AllLabels\",\"id\":\"p1408\"}}}],\"below\":[{\"type\":\"object\",\"name\":\"LinearAxis\",\"id\":\"p1400\",\"attributes\":{\"ticker\":{\"type\":\"object\",\"name\":\"BasicTicker\",\"id\":\"p1403\",\"attributes\":{\"mantissas\":[1,2,5]}},\"formatter\":{\"type\":\"object\",\"name\":\"BasicTickFormatter\",\"id\":\"p1402\"},\"axis_label\":\"x\",\"major_label_policy\":{\"type\":\"object\",\"name\":\"AllLabels\",\"id\":\"p1401\"}}}],\"center\":[{\"type\":\"object\",\"name\":\"Grid\",\"id\":\"p1406\",\"attributes\":{\"axis\":{\"id\":\"p1400\"}}},{\"type\":\"object\",\"name\":\"Grid\",\"id\":\"p1413\",\"attributes\":{\"dimension\":1,\"axis\":{\"id\":\"p1407\"}}},{\"type\":\"object\",\"name\":\"Legend\",\"id\":\"p1438\",\"attributes\":{\"items\":[{\"type\":\"object\",\"name\":\"LegendItem\",\"id\":\"p1439\",\"attributes\":{\"label\":{\"type\":\"value\",\"value\":\"Line\"},\"renderers\":[{\"id\":\"p1435\"}]}}]}}]}}],\"callbacks\":{\"type\":\"map\"}}};\n",
       "  const render_items = [{\"docid\":\"c8cd9b3c-faa1-4702-ba18-45bc967aeeea\",\"roots\":{\"p1382\":\"d928f51f-9903-407a-8728-3b4d1a968fc6\"},\"root_ids\":[\"p1382\"],\"notebook_comms_target\":\"p1453\"}];\n",
       "  root.Bokeh.embed.embed_items_notebook(docs_json, render_items);\n",
       "  }\n",
       "  if (root.Bokeh !== undefined) {\n",
       "    embed_document(root);\n",
       "  } else {\n",
       "    let attempts = 0;\n",
       "    const timer = setInterval(function(root) {\n",
       "      if (root.Bokeh !== undefined) {\n",
       "        clearInterval(timer);\n",
       "        embed_document(root);\n",
       "      } else {\n",
       "        attempts++;\n",
       "        if (attempts > 100) {\n",
       "          clearInterval(timer);\n",
       "          console.log(\"Bokeh: ERROR: Unable to run BokehJS code because BokehJS library is missing\");\n",
       "        }\n",
       "      }\n",
       "    }, 10, root)\n",
       "  }\n",
       "})(window);<\/script><script><\/script>"
      ]
     },
     "metadata":{},
     "output_type":"display_data"
    },
    {
     "data":{
      "text\/html":[
       "<p><code>&lt;Bokeh Notebook handle for <strong>In[17]<\/strong>&gt;<\/code><\/p>"
      ]
     },
     "metadata":{},
     "output_type":"display_data"
    }
   ],
   "metadata":{
    "datalore":{
     "node_id":"lxu23ZZDtd75p5JMDyXnt8",
     "type":"CODE",
     "hide_input_from_viewers":true,
     "hide_output_from_viewers":true
    }
   }
  },
  {
   "cell_type":"code",
   "source":[],
   "execution_count":16,
   "outputs":[],
   "metadata":{
    "datalore":{
     "node_id":"Go4cn1W4BSpOvJIdPZK4vf",
     "type":"CODE",
     "hide_input_from_viewers":true,
     "hide_output_from_viewers":true
    }
   }
  },
  {
   "cell_type":"markdown",
   "source":[
    "# Plotly Predstavenie"
   ],
   "attachments":{},
   "metadata":{
    "datalore":{
     "node_id":"Plotly Predstavenie",
     "type":"MD",
     "hide_input_from_viewers":false,
     "hide_output_from_viewers":false,
     "sheet_delimiter":true
    }
   }
  },
  {
   "cell_type":"markdown",
   "source":[
    "# 📊 Čo je Plotly?\n",
    "- Najpopulárnejšia Python knižnica na vytváranie dynamických grafov\n",
    "- Tvorba interaktívnych grafov a vizualizácií\n",
    "- Vhodná pre vývojárov, dátových vedcov a analytikov\n",
    "- Stĺpcové grafy, čiarové grafy, teplotné mapy, 3D grafy, geografické mapy \n",
    "- Používatelia môžu klikať, približovať a skúmať údaje priamo v grafickom výstupe"
   ],
   "attachments":{},
   "metadata":{
    "datalore":{
     "node_id":"sBkFOJqk06JAobymyL2LIl",
     "type":"MD",
     "hide_input_from_viewers":true,
     "hide_output_from_viewers":true
    }
   }
  },
  {
   "cell_type":"markdown",
   "source":[
    "# 📊 Stĺpcový graf 1\n",
    "- Stĺpcový graf (Bar Chart) pre porovnanie kategórií\n",
    "\n",
    "**Použitie**:\n",
    "Stĺpcový graf je výborný na porovnávanie kategórií. Každý stĺpec reprezentuje určitú hodnotu pre danú kategóriu, pričom dĺžka stĺpca odráža jej veľkosť.\n",
    "\n",
    "**Aplikácie**:\n",
    "Porovnávanie kategórií: Predaj produktov, počet hlasov v prieskume, návštevnosť stránok podľa regiónov.\n",
    "Zoskupené stĺpce (grouped bar chart): Umožňuje porovnať viacero kategórií pre každú skupinu (napr. predaje produktov v rôznych rokoch).\n",
    "\n",
    "**Tipy**:\n",
    "Pri veľkom počte kategórií použite horizontálne stĺpce namiesto vertikálnych, aby sa dalo lepšie čítať názvy kategórií.\n",
    "Ak chcete porovnávať viac dátových sérií v rôznych kategóriách, použite zoskupené stĺpcové grafy.\n",
    "\n",
    "**Príklady**:\n",
    "Porovnanie predajov produktov v štyroch rôznych krajinách.\n",
    "Výsledky rôznych kandidátov v komunálnych voľbách."
   ],
   "attachments":{},
   "metadata":{
    "datalore":{
     "node_id":"hLlTpADp4yIQsrKrsr31zw",
     "type":"MD",
     "hide_input_from_viewers":true,
     "hide_output_from_viewers":true
    }
   }
  },
  {
   "cell_type":"code",
   "source":[],
   "execution_count":18,
   "outputs":[
    {
     "data":{
      "application\/vnd.plotly.v1+json":{
       "data":[
        {
         "alignmentgroup":"True",
         "hovertemplate":"variable=Python<br>Mesiac=%{x}<br>value=%{y}<extra><\/extra>",
         "legendgroup":"Python",
         "marker":{
          "color":"#636efa",
          "pattern":{
           "shape":""
          }
         },
         "name":"Python",
         "offsetgroup":"Python",
         "orientation":"v",
         "showlegend":true,
         "textposition":"auto",
         "x":[
          "Január",
          "Február",
          "Marec",
          "Apríl",
          "Máj",
          "Jún",
          "Júl",
          "August",
          "September",
          "Október",
          "November",
          "December"
         ],
         "xaxis":"x",
         "y":[
          220,
          230,
          210,
          240,
          250,
          260,
          270,
          275,
          290,
          300,
          320,
          330
         ],
         "yaxis":"y",
         "type":"bar"
        },
        {
         "alignmentgroup":"True",
         "hovertemplate":"variable=Java<br>Mesiac=%{x}<br>value=%{y}<extra><\/extra>",
         "legendgroup":"Java",
         "marker":{
          "color":"#EF553B",
          "pattern":{
           "shape":""
          }
         },
         "name":"Java",
         "offsetgroup":"Java",
         "orientation":"v",
         "showlegend":true,
         "textposition":"auto",
         "x":[
          "Január",
          "Február",
          "Marec",
          "Apríl",
          "Máj",
          "Jún",
          "Júl",
          "August",
          "September",
          "Október",
          "November",
          "December"
         ],
         "xaxis":"x",
         "y":[
          180,
          190,
          170,
          200,
          210,
          215,
          220,
          230,
          240,
          250,
          260,
          270
         ],
         "yaxis":"y",
         "type":"bar"
        },
        {
         "alignmentgroup":"True",
         "hovertemplate":"variable=JavaScript<br>Mesiac=%{x}<br>value=%{y}<extra><\/extra>",
         "legendgroup":"JavaScript",
         "marker":{
          "color":"#00cc96",
          "pattern":{
           "shape":""
          }
         },
         "name":"JavaScript",
         "offsetgroup":"JavaScript",
         "orientation":"v",
         "showlegend":true,
         "textposition":"auto",
         "x":[
          "Január",
          "Február",
          "Marec",
          "Apríl",
          "Máj",
          "Jún",
          "Júl",
          "August",
          "September",
          "Október",
          "November",
          "December"
         ],
         "xaxis":"x",
         "y":[
          150,
          160,
          145,
          155,
          165,
          170,
          180,
          185,
          195,
          200,
          210,
          220
         ],
         "yaxis":"y",
         "type":"bar"
        }
       ],
       "layout":{
        "template":{
         "data":{
          "histogram2dcontour":[
           {
            "type":"histogram2dcontour",
            "colorbar":{
             "outlinewidth":0,
             "ticks":""
            },
            "colorscale":[
             [
              0,
              "#0d0887"
             ],
             [
              0.1111111111111111,
              "#46039f"
             ],
             [
              0.2222222222222222,
              "#7201a8"
             ],
             [
              0.3333333333333333,
              "#9c179e"
             ],
             [
              0.4444444444444444,
              "#bd3786"
             ],
             [
              0.5555555555555556,
              "#d8576b"
             ],
             [
              0.6666666666666666,
              "#ed7953"
             ],
             [
              0.7777777777777778,
              "#fb9f3a"
             ],
             [
              0.8888888888888888,
              "#fdca26"
             ],
             [
              1,
              "#f0f921"
             ]
            ]
           }
          ],
          "choropleth":[
           {
            "type":"choropleth",
            "colorbar":{
             "outlinewidth":0,
             "ticks":""
            }
           }
          ],
          "histogram2d":[
           {
            "type":"histogram2d",
            "colorbar":{
             "outlinewidth":0,
             "ticks":""
            },
            "colorscale":[
             [
              0,
              "#0d0887"
             ],
             [
              0.1111111111111111,
              "#46039f"
             ],
             [
              0.2222222222222222,
              "#7201a8"
             ],
             [
              0.3333333333333333,
              "#9c179e"
             ],
             [
              0.4444444444444444,
              "#bd3786"
             ],
             [
              0.5555555555555556,
              "#d8576b"
             ],
             [
              0.6666666666666666,
              "#ed7953"
             ],
             [
              0.7777777777777778,
              "#fb9f3a"
             ],
             [
              0.8888888888888888,
              "#fdca26"
             ],
             [
              1,
              "#f0f921"
             ]
            ]
           }
          ],
          "heatmap":[
           {
            "type":"heatmap",
            "colorbar":{
             "outlinewidth":0,
             "ticks":""
            },
            "colorscale":[
             [
              0,
              "#0d0887"
             ],
             [
              0.1111111111111111,
              "#46039f"
             ],
             [
              0.2222222222222222,
              "#7201a8"
             ],
             [
              0.3333333333333333,
              "#9c179e"
             ],
             [
              0.4444444444444444,
              "#bd3786"
             ],
             [
              0.5555555555555556,
              "#d8576b"
             ],
             [
              0.6666666666666666,
              "#ed7953"
             ],
             [
              0.7777777777777778,
              "#fb9f3a"
             ],
             [
              0.8888888888888888,
              "#fdca26"
             ],
             [
              1,
              "#f0f921"
             ]
            ]
           }
          ],
          "heatmapgl":[
           {
            "type":"heatmapgl",
            "colorbar":{
             "outlinewidth":0,
             "ticks":""
            },
            "colorscale":[
             [
              0,
              "#0d0887"
             ],
             [
              0.1111111111111111,
              "#46039f"
             ],
             [
              0.2222222222222222,
              "#7201a8"
             ],
             [
              0.3333333333333333,
              "#9c179e"
             ],
             [
              0.4444444444444444,
              "#bd3786"
             ],
             [
              0.5555555555555556,
              "#d8576b"
             ],
             [
              0.6666666666666666,
              "#ed7953"
             ],
             [
              0.7777777777777778,
              "#fb9f3a"
             ],
             [
              0.8888888888888888,
              "#fdca26"
             ],
             [
              1,
              "#f0f921"
             ]
            ]
           }
          ],
          "contourcarpet":[
           {
            "type":"contourcarpet",
            "colorbar":{
             "outlinewidth":0,
             "ticks":""
            }
           }
          ],
          "contour":[
           {
            "type":"contour",
            "colorbar":{
             "outlinewidth":0,
             "ticks":""
            },
            "colorscale":[
             [
              0,
              "#0d0887"
             ],
             [
              0.1111111111111111,
              "#46039f"
             ],
             [
              0.2222222222222222,
              "#7201a8"
             ],
             [
              0.3333333333333333,
              "#9c179e"
             ],
             [
              0.4444444444444444,
              "#bd3786"
             ],
             [
              0.5555555555555556,
              "#d8576b"
             ],
             [
              0.6666666666666666,
              "#ed7953"
             ],
             [
              0.7777777777777778,
              "#fb9f3a"
             ],
             [
              0.8888888888888888,
              "#fdca26"
             ],
             [
              1,
              "#f0f921"
             ]
            ]
           }
          ],
          "surface":[
           {
            "type":"surface",
            "colorbar":{
             "outlinewidth":0,
             "ticks":""
            },
            "colorscale":[
             [
              0,
              "#0d0887"
             ],
             [
              0.1111111111111111,
              "#46039f"
             ],
             [
              0.2222222222222222,
              "#7201a8"
             ],
             [
              0.3333333333333333,
              "#9c179e"
             ],
             [
              0.4444444444444444,
              "#bd3786"
             ],
             [
              0.5555555555555556,
              "#d8576b"
             ],
             [
              0.6666666666666666,
              "#ed7953"
             ],
             [
              0.7777777777777778,
              "#fb9f3a"
             ],
             [
              0.8888888888888888,
              "#fdca26"
             ],
             [
              1,
              "#f0f921"
             ]
            ]
           }
          ],
          "mesh3d":[
           {
            "type":"mesh3d",
            "colorbar":{
             "outlinewidth":0,
             "ticks":""
            }
           }
          ],
          "scatter":[
           {
            "fillpattern":{
             "fillmode":"overlay",
             "size":10,
             "solidity":0.2
            },
            "type":"scatter"
           }
          ],
          "parcoords":[
           {
            "type":"parcoords",
            "line":{
             "colorbar":{
              "outlinewidth":0,
              "ticks":""
             }
            }
           }
          ],
          "scatterpolargl":[
           {
            "type":"scatterpolargl",
            "marker":{
             "colorbar":{
              "outlinewidth":0,
              "ticks":""
             }
            }
           }
          ],
          "bar":[
           {
            "error_x":{
             "color":"#2a3f5f"
            },
            "error_y":{
             "color":"#2a3f5f"
            },
            "marker":{
             "line":{
              "color":"#E5ECF6",
              "width":0.5
             },
             "pattern":{
              "fillmode":"overlay",
              "size":10,
              "solidity":0.2
             }
            },
            "type":"bar"
           }
          ],
          "scattergeo":[
           {
            "type":"scattergeo",
            "marker":{
             "colorbar":{
              "outlinewidth":0,
              "ticks":""
             }
            }
           }
          ],
          "scatterpolar":[
           {
            "type":"scatterpolar",
            "marker":{
             "colorbar":{
              "outlinewidth":0,
              "ticks":""
             }
            }
           }
          ],
          "histogram":[
           {
            "marker":{
             "pattern":{
              "fillmode":"overlay",
              "size":10,
              "solidity":0.2
             }
            },
            "type":"histogram"
           }
          ],
          "scattergl":[
           {
            "type":"scattergl",
            "marker":{
             "colorbar":{
              "outlinewidth":0,
              "ticks":""
             }
            }
           }
          ],
          "scatter3d":[
           {
            "type":"scatter3d",
            "line":{
             "colorbar":{
              "outlinewidth":0,
              "ticks":""
             }
            },
            "marker":{
             "colorbar":{
              "outlinewidth":0,
              "ticks":""
             }
            }
           }
          ],
          "scattermapbox":[
           {
            "type":"scattermapbox",
            "marker":{
             "colorbar":{
              "outlinewidth":0,
              "ticks":""
             }
            }
           }
          ],
          "scatterternary":[
           {
            "type":"scatterternary",
            "marker":{
             "colorbar":{
              "outlinewidth":0,
              "ticks":""
             }
            }
           }
          ],
          "scattercarpet":[
           {
            "type":"scattercarpet",
            "marker":{
             "colorbar":{
              "outlinewidth":0,
              "ticks":""
             }
            }
           }
          ],
          "carpet":[
           {
            "aaxis":{
             "endlinecolor":"#2a3f5f",
             "gridcolor":"white",
             "linecolor":"white",
             "minorgridcolor":"white",
             "startlinecolor":"#2a3f5f"
            },
            "baxis":{
             "endlinecolor":"#2a3f5f",
             "gridcolor":"white",
             "linecolor":"white",
             "minorgridcolor":"white",
             "startlinecolor":"#2a3f5f"
            },
            "type":"carpet"
           }
          ],
          "table":[
           {
            "cells":{
             "fill":{
              "color":"#EBF0F8"
             },
             "line":{
              "color":"white"
             }
            },
            "header":{
             "fill":{
              "color":"#C8D4E3"
             },
             "line":{
              "color":"white"
             }
            },
            "type":"table"
           }
          ],
          "barpolar":[
           {
            "marker":{
             "line":{
              "color":"#E5ECF6",
              "width":0.5
             },
             "pattern":{
              "fillmode":"overlay",
              "size":10,
              "solidity":0.2
             }
            },
            "type":"barpolar"
           }
          ],
          "pie":[
           {
            "automargin":true,
            "type":"pie"
           }
          ]
         },
         "layout":{
          "autotypenumbers":"strict",
          "colorway":[
           "#636efa",
           "#EF553B",
           "#00cc96",
           "#ab63fa",
           "#FFA15A",
           "#19d3f3",
           "#FF6692",
           "#B6E880",
           "#FF97FF",
           "#FECB52"
          ],
          "font":{
           "color":"#2a3f5f"
          },
          "hovermode":"closest",
          "hoverlabel":{
           "align":"left"
          },
          "paper_bgcolor":"white",
          "plot_bgcolor":"#E5ECF6",
          "polar":{
           "bgcolor":"#E5ECF6",
           "angularaxis":{
            "gridcolor":"white",
            "linecolor":"white",
            "ticks":""
           },
           "radialaxis":{
            "gridcolor":"white",
            "linecolor":"white",
            "ticks":""
           }
          },
          "ternary":{
           "bgcolor":"#E5ECF6",
           "aaxis":{
            "gridcolor":"white",
            "linecolor":"white",
            "ticks":""
           },
           "baxis":{
            "gridcolor":"white",
            "linecolor":"white",
            "ticks":""
           },
           "caxis":{
            "gridcolor":"white",
            "linecolor":"white",
            "ticks":""
           }
          },
          "coloraxis":{
           "colorbar":{
            "outlinewidth":0,
            "ticks":""
           }
          },
          "colorscale":{
           "sequential":[
            [
             0,
             "#0d0887"
            ],
            [
             0.1111111111111111,
             "#46039f"
            ],
            [
             0.2222222222222222,
             "#7201a8"
            ],
            [
             0.3333333333333333,
             "#9c179e"
            ],
            [
             0.4444444444444444,
             "#bd3786"
            ],
            [
             0.5555555555555556,
             "#d8576b"
            ],
            [
             0.6666666666666666,
             "#ed7953"
            ],
            [
             0.7777777777777778,
             "#fb9f3a"
            ],
            [
             0.8888888888888888,
             "#fdca26"
            ],
            [
             1,
             "#f0f921"
            ]
           ],
           "sequentialminus":[
            [
             0,
             "#0d0887"
            ],
            [
             0.1111111111111111,
             "#46039f"
            ],
            [
             0.2222222222222222,
             "#7201a8"
            ],
            [
             0.3333333333333333,
             "#9c179e"
            ],
            [
             0.4444444444444444,
             "#bd3786"
            ],
            [
             0.5555555555555556,
             "#d8576b"
            ],
            [
             0.6666666666666666,
             "#ed7953"
            ],
            [
             0.7777777777777778,
             "#fb9f3a"
            ],
            [
             0.8888888888888888,
             "#fdca26"
            ],
            [
             1,
             "#f0f921"
            ]
           ],
           "diverging":[
            [
             0,
             "#8e0152"
            ],
            [
             0.1,
             "#c51b7d"
            ],
            [
             0.2,
             "#de77ae"
            ],
            [
             0.3,
             "#f1b6da"
            ],
            [
             0.4,
             "#fde0ef"
            ],
            [
             0.5,
             "#f7f7f7"
            ],
            [
             0.6,
             "#e6f5d0"
            ],
            [
             0.7,
             "#b8e186"
            ],
            [
             0.8,
             "#7fbc41"
            ],
            [
             0.9,
             "#4d9221"
            ],
            [
             1,
             "#276419"
            ]
           ]
          },
          "xaxis":{
           "gridcolor":"white",
           "linecolor":"white",
           "ticks":"",
           "title":{
            "standoff":15
           },
           "zerolinecolor":"white",
           "automargin":true,
           "zerolinewidth":2
          },
          "yaxis":{
           "gridcolor":"white",
           "linecolor":"white",
           "ticks":"",
           "title":{
            "standoff":15
           },
           "zerolinecolor":"white",
           "automargin":true,
           "zerolinewidth":2
          },
          "scene":{
           "xaxis":{
            "backgroundcolor":"#E5ECF6",
            "gridcolor":"white",
            "linecolor":"white",
            "showbackground":true,
            "ticks":"",
            "zerolinecolor":"white",
            "gridwidth":2
           },
           "yaxis":{
            "backgroundcolor":"#E5ECF6",
            "gridcolor":"white",
            "linecolor":"white",
            "showbackground":true,
            "ticks":"",
            "zerolinecolor":"white",
            "gridwidth":2
           },
           "zaxis":{
            "backgroundcolor":"#E5ECF6",
            "gridcolor":"white",
            "linecolor":"white",
            "showbackground":true,
            "ticks":"",
            "zerolinecolor":"white",
            "gridwidth":2
           }
          },
          "shapedefaults":{
           "line":{
            "color":"#2a3f5f"
           }
          },
          "annotationdefaults":{
           "arrowcolor":"#2a3f5f",
           "arrowhead":0,
           "arrowwidth":1
          },
          "geo":{
           "bgcolor":"white",
           "landcolor":"#E5ECF6",
           "subunitcolor":"white",
           "showland":true,
           "showlakes":true,
           "lakecolor":"white"
          },
          "title":{
           "x":0.05
          },
          "mapbox":{
           "style":"light"
          }
         }
        },
        "xaxis":{
         "anchor":"y",
         "domain":[
          0,
          1
         ],
         "title":{
          "text":"Mesiac"
         }
        },
        "yaxis":{
         "anchor":"x",
         "domain":[
          0,
          1
         ],
         "title":{
          "text":"value"
         }
        },
        "legend":{
         "title":{
          "text":"variable"
         },
         "tracegroupgap":0
        },
        "title":{
         "text":"Predaje online kurzov programovania za rok"
        },
        "barmode":"relative"
       },
       "config":{
        "plotlyServerURL":"https:\/\/plot.ly"
       }
      }
     },
     "metadata":{},
     "output_type":"display_data"
    }
   ],
   "metadata":{
    "datalore":{
     "node_id":"HCXmjg2bhBmX2zsVQYjBsP",
     "type":"CODE",
     "hide_input_from_viewers":true,
     "hide_output_from_viewers":true
    }
   }
  },
  {
   "cell_type":"markdown",
   "source":[
    "# 📊 Stĺpcový graf 2"
   ],
   "attachments":{},
   "metadata":{
    "datalore":{
     "node_id":"CQV7l85Erfa01Cu4IRjg2C",
     "type":"MD",
     "hide_input_from_viewers":true,
     "hide_output_from_viewers":true
    }
   }
  },
  {
   "cell_type":"code",
   "source":[],
   "execution_count":19,
   "outputs":[
    {
     "data":{
      "application\/vnd.plotly.v1+json":{
       "data":[
        {
         "alignmentgroup":"True",
         "hovertemplate":"Kurz=Python<br>Mesiac=%{x}<br>Počet predaných kurzov=%{y}<extra><\/extra>",
         "legendgroup":"Python",
         "marker":{
          "color":"#636efa",
          "pattern":{
           "shape":""
          }
         },
         "name":"Python",
         "offsetgroup":"Python",
         "orientation":"v",
         "showlegend":true,
         "textposition":"auto",
         "x":[
          "Január",
          "Február",
          "Marec",
          "Apríl",
          "Máj",
          "Jún",
          "Júl",
          "August",
          "September",
          "Október",
          "November",
          "December"
         ],
         "xaxis":"x",
         "y":[
          220,
          230,
          210,
          240,
          250,
          260,
          270,
          275,
          290,
          300,
          320,
          330
         ],
         "yaxis":"y",
         "type":"bar"
        },
        {
         "alignmentgroup":"True",
         "hovertemplate":"Kurz=Java<br>Mesiac=%{x}<br>Počet predaných kurzov=%{y}<extra><\/extra>",
         "legendgroup":"Java",
         "marker":{
          "color":"#EF553B",
          "pattern":{
           "shape":""
          }
         },
         "name":"Java",
         "offsetgroup":"Java",
         "orientation":"v",
         "showlegend":true,
         "textposition":"auto",
         "x":[
          "Január",
          "Február",
          "Marec",
          "Apríl",
          "Máj",
          "Jún",
          "Júl",
          "August",
          "September",
          "Október",
          "November",
          "December"
         ],
         "xaxis":"x",
         "y":[
          180,
          190,
          170,
          200,
          210,
          215,
          220,
          230,
          240,
          250,
          260,
          270
         ],
         "yaxis":"y",
         "type":"bar"
        },
        {
         "alignmentgroup":"True",
         "hovertemplate":"Kurz=JavaScript<br>Mesiac=%{x}<br>Počet predaných kurzov=%{y}<extra><\/extra>",
         "legendgroup":"JavaScript",
         "marker":{
          "color":"#00cc96",
          "pattern":{
           "shape":""
          }
         },
         "name":"JavaScript",
         "offsetgroup":"JavaScript",
         "orientation":"v",
         "showlegend":true,
         "textposition":"auto",
         "x":[
          "Január",
          "Február",
          "Marec",
          "Apríl",
          "Máj",
          "Jún",
          "Júl",
          "August",
          "September",
          "Október",
          "November",
          "December"
         ],
         "xaxis":"x",
         "y":[
          150,
          160,
          145,
          155,
          165,
          170,
          180,
          185,
          195,
          200,
          210,
          220
         ],
         "yaxis":"y",
         "type":"bar"
        }
       ],
       "layout":{
        "template":{
         "data":{
          "histogram2dcontour":[
           {
            "type":"histogram2dcontour",
            "colorbar":{
             "outlinewidth":0,
             "ticks":""
            },
            "colorscale":[
             [
              0,
              "#0d0887"
             ],
             [
              0.1111111111111111,
              "#46039f"
             ],
             [
              0.2222222222222222,
              "#7201a8"
             ],
             [
              0.3333333333333333,
              "#9c179e"
             ],
             [
              0.4444444444444444,
              "#bd3786"
             ],
             [
              0.5555555555555556,
              "#d8576b"
             ],
             [
              0.6666666666666666,
              "#ed7953"
             ],
             [
              0.7777777777777778,
              "#fb9f3a"
             ],
             [
              0.8888888888888888,
              "#fdca26"
             ],
             [
              1,
              "#f0f921"
             ]
            ]
           }
          ],
          "choropleth":[
           {
            "type":"choropleth",
            "colorbar":{
             "outlinewidth":0,
             "ticks":""
            }
           }
          ],
          "histogram2d":[
           {
            "type":"histogram2d",
            "colorbar":{
             "outlinewidth":0,
             "ticks":""
            },
            "colorscale":[
             [
              0,
              "#0d0887"
             ],
             [
              0.1111111111111111,
              "#46039f"
             ],
             [
              0.2222222222222222,
              "#7201a8"
             ],
             [
              0.3333333333333333,
              "#9c179e"
             ],
             [
              0.4444444444444444,
              "#bd3786"
             ],
             [
              0.5555555555555556,
              "#d8576b"
             ],
             [
              0.6666666666666666,
              "#ed7953"
             ],
             [
              0.7777777777777778,
              "#fb9f3a"
             ],
             [
              0.8888888888888888,
              "#fdca26"
             ],
             [
              1,
              "#f0f921"
             ]
            ]
           }
          ],
          "heatmap":[
           {
            "type":"heatmap",
            "colorbar":{
             "outlinewidth":0,
             "ticks":""
            },
            "colorscale":[
             [
              0,
              "#0d0887"
             ],
             [
              0.1111111111111111,
              "#46039f"
             ],
             [
              0.2222222222222222,
              "#7201a8"
             ],
             [
              0.3333333333333333,
              "#9c179e"
             ],
             [
              0.4444444444444444,
              "#bd3786"
             ],
             [
              0.5555555555555556,
              "#d8576b"
             ],
             [
              0.6666666666666666,
              "#ed7953"
             ],
             [
              0.7777777777777778,
              "#fb9f3a"
             ],
             [
              0.8888888888888888,
              "#fdca26"
             ],
             [
              1,
              "#f0f921"
             ]
            ]
           }
          ],
          "heatmapgl":[
           {
            "type":"heatmapgl",
            "colorbar":{
             "outlinewidth":0,
             "ticks":""
            },
            "colorscale":[
             [
              0,
              "#0d0887"
             ],
             [
              0.1111111111111111,
              "#46039f"
             ],
             [
              0.2222222222222222,
              "#7201a8"
             ],
             [
              0.3333333333333333,
              "#9c179e"
             ],
             [
              0.4444444444444444,
              "#bd3786"
             ],
             [
              0.5555555555555556,
              "#d8576b"
             ],
             [
              0.6666666666666666,
              "#ed7953"
             ],
             [
              0.7777777777777778,
              "#fb9f3a"
             ],
             [
              0.8888888888888888,
              "#fdca26"
             ],
             [
              1,
              "#f0f921"
             ]
            ]
           }
          ],
          "contourcarpet":[
           {
            "type":"contourcarpet",
            "colorbar":{
             "outlinewidth":0,
             "ticks":""
            }
           }
          ],
          "contour":[
           {
            "type":"contour",
            "colorbar":{
             "outlinewidth":0,
             "ticks":""
            },
            "colorscale":[
             [
              0,
              "#0d0887"
             ],
             [
              0.1111111111111111,
              "#46039f"
             ],
             [
              0.2222222222222222,
              "#7201a8"
             ],
             [
              0.3333333333333333,
              "#9c179e"
             ],
             [
              0.4444444444444444,
              "#bd3786"
             ],
             [
              0.5555555555555556,
              "#d8576b"
             ],
             [
              0.6666666666666666,
              "#ed7953"
             ],
             [
              0.7777777777777778,
              "#fb9f3a"
             ],
             [
              0.8888888888888888,
              "#fdca26"
             ],
             [
              1,
              "#f0f921"
             ]
            ]
           }
          ],
          "surface":[
           {
            "type":"surface",
            "colorbar":{
             "outlinewidth":0,
             "ticks":""
            },
            "colorscale":[
             [
              0,
              "#0d0887"
             ],
             [
              0.1111111111111111,
              "#46039f"
             ],
             [
              0.2222222222222222,
              "#7201a8"
             ],
             [
              0.3333333333333333,
              "#9c179e"
             ],
             [
              0.4444444444444444,
              "#bd3786"
             ],
             [
              0.5555555555555556,
              "#d8576b"
             ],
             [
              0.6666666666666666,
              "#ed7953"
             ],
             [
              0.7777777777777778,
              "#fb9f3a"
             ],
             [
              0.8888888888888888,
              "#fdca26"
             ],
             [
              1,
              "#f0f921"
             ]
            ]
           }
          ],
          "mesh3d":[
           {
            "type":"mesh3d",
            "colorbar":{
             "outlinewidth":0,
             "ticks":""
            }
           }
          ],
          "scatter":[
           {
            "fillpattern":{
             "fillmode":"overlay",
             "size":10,
             "solidity":0.2
            },
            "type":"scatter"
           }
          ],
          "parcoords":[
           {
            "type":"parcoords",
            "line":{
             "colorbar":{
              "outlinewidth":0,
              "ticks":""
             }
            }
           }
          ],
          "scatterpolargl":[
           {
            "type":"scatterpolargl",
            "marker":{
             "colorbar":{
              "outlinewidth":0,
              "ticks":""
             }
            }
           }
          ],
          "bar":[
           {
            "error_x":{
             "color":"#2a3f5f"
            },
            "error_y":{
             "color":"#2a3f5f"
            },
            "marker":{
             "line":{
              "color":"#E5ECF6",
              "width":0.5
             },
             "pattern":{
              "fillmode":"overlay",
              "size":10,
              "solidity":0.2
             }
            },
            "type":"bar"
           }
          ],
          "scattergeo":[
           {
            "type":"scattergeo",
            "marker":{
             "colorbar":{
              "outlinewidth":0,
              "ticks":""
             }
            }
           }
          ],
          "scatterpolar":[
           {
            "type":"scatterpolar",
            "marker":{
             "colorbar":{
              "outlinewidth":0,
              "ticks":""
             }
            }
           }
          ],
          "histogram":[
           {
            "marker":{
             "pattern":{
              "fillmode":"overlay",
              "size":10,
              "solidity":0.2
             }
            },
            "type":"histogram"
           }
          ],
          "scattergl":[
           {
            "type":"scattergl",
            "marker":{
             "colorbar":{
              "outlinewidth":0,
              "ticks":""
             }
            }
           }
          ],
          "scatter3d":[
           {
            "type":"scatter3d",
            "line":{
             "colorbar":{
              "outlinewidth":0,
              "ticks":""
             }
            },
            "marker":{
             "colorbar":{
              "outlinewidth":0,
              "ticks":""
             }
            }
           }
          ],
          "scattermapbox":[
           {
            "type":"scattermapbox",
            "marker":{
             "colorbar":{
              "outlinewidth":0,
              "ticks":""
             }
            }
           }
          ],
          "scatterternary":[
           {
            "type":"scatterternary",
            "marker":{
             "colorbar":{
              "outlinewidth":0,
              "ticks":""
             }
            }
           }
          ],
          "scattercarpet":[
           {
            "type":"scattercarpet",
            "marker":{
             "colorbar":{
              "outlinewidth":0,
              "ticks":""
             }
            }
           }
          ],
          "carpet":[
           {
            "aaxis":{
             "endlinecolor":"#2a3f5f",
             "gridcolor":"white",
             "linecolor":"white",
             "minorgridcolor":"white",
             "startlinecolor":"#2a3f5f"
            },
            "baxis":{
             "endlinecolor":"#2a3f5f",
             "gridcolor":"white",
             "linecolor":"white",
             "minorgridcolor":"white",
             "startlinecolor":"#2a3f5f"
            },
            "type":"carpet"
           }
          ],
          "table":[
           {
            "cells":{
             "fill":{
              "color":"#EBF0F8"
             },
             "line":{
              "color":"white"
             }
            },
            "header":{
             "fill":{
              "color":"#C8D4E3"
             },
             "line":{
              "color":"white"
             }
            },
            "type":"table"
           }
          ],
          "barpolar":[
           {
            "marker":{
             "line":{
              "color":"#E5ECF6",
              "width":0.5
             },
             "pattern":{
              "fillmode":"overlay",
              "size":10,
              "solidity":0.2
             }
            },
            "type":"barpolar"
           }
          ],
          "pie":[
           {
            "automargin":true,
            "type":"pie"
           }
          ]
         },
         "layout":{
          "autotypenumbers":"strict",
          "colorway":[
           "#636efa",
           "#EF553B",
           "#00cc96",
           "#ab63fa",
           "#FFA15A",
           "#19d3f3",
           "#FF6692",
           "#B6E880",
           "#FF97FF",
           "#FECB52"
          ],
          "font":{
           "color":"#2a3f5f"
          },
          "hovermode":"closest",
          "hoverlabel":{
           "align":"left"
          },
          "paper_bgcolor":"white",
          "plot_bgcolor":"#E5ECF6",
          "polar":{
           "bgcolor":"#E5ECF6",
           "angularaxis":{
            "gridcolor":"white",
            "linecolor":"white",
            "ticks":""
           },
           "radialaxis":{
            "gridcolor":"white",
            "linecolor":"white",
            "ticks":""
           }
          },
          "ternary":{
           "bgcolor":"#E5ECF6",
           "aaxis":{
            "gridcolor":"white",
            "linecolor":"white",
            "ticks":""
           },
           "baxis":{
            "gridcolor":"white",
            "linecolor":"white",
            "ticks":""
           },
           "caxis":{
            "gridcolor":"white",
            "linecolor":"white",
            "ticks":""
           }
          },
          "coloraxis":{
           "colorbar":{
            "outlinewidth":0,
            "ticks":""
           }
          },
          "colorscale":{
           "sequential":[
            [
             0,
             "#0d0887"
            ],
            [
             0.1111111111111111,
             "#46039f"
            ],
            [
             0.2222222222222222,
             "#7201a8"
            ],
            [
             0.3333333333333333,
             "#9c179e"
            ],
            [
             0.4444444444444444,
             "#bd3786"
            ],
            [
             0.5555555555555556,
             "#d8576b"
            ],
            [
             0.6666666666666666,
             "#ed7953"
            ],
            [
             0.7777777777777778,
             "#fb9f3a"
            ],
            [
             0.8888888888888888,
             "#fdca26"
            ],
            [
             1,
             "#f0f921"
            ]
           ],
           "sequentialminus":[
            [
             0,
             "#0d0887"
            ],
            [
             0.1111111111111111,
             "#46039f"
            ],
            [
             0.2222222222222222,
             "#7201a8"
            ],
            [
             0.3333333333333333,
             "#9c179e"
            ],
            [
             0.4444444444444444,
             "#bd3786"
            ],
            [
             0.5555555555555556,
             "#d8576b"
            ],
            [
             0.6666666666666666,
             "#ed7953"
            ],
            [
             0.7777777777777778,
             "#fb9f3a"
            ],
            [
             0.8888888888888888,
             "#fdca26"
            ],
            [
             1,
             "#f0f921"
            ]
           ],
           "diverging":[
            [
             0,
             "#8e0152"
            ],
            [
             0.1,
             "#c51b7d"
            ],
            [
             0.2,
             "#de77ae"
            ],
            [
             0.3,
             "#f1b6da"
            ],
            [
             0.4,
             "#fde0ef"
            ],
            [
             0.5,
             "#f7f7f7"
            ],
            [
             0.6,
             "#e6f5d0"
            ],
            [
             0.7,
             "#b8e186"
            ],
            [
             0.8,
             "#7fbc41"
            ],
            [
             0.9,
             "#4d9221"
            ],
            [
             1,
             "#276419"
            ]
           ]
          },
          "xaxis":{
           "gridcolor":"white",
           "linecolor":"white",
           "ticks":"",
           "title":{
            "standoff":15
           },
           "zerolinecolor":"white",
           "automargin":true,
           "zerolinewidth":2
          },
          "yaxis":{
           "gridcolor":"white",
           "linecolor":"white",
           "ticks":"",
           "title":{
            "standoff":15
           },
           "zerolinecolor":"white",
           "automargin":true,
           "zerolinewidth":2
          },
          "scene":{
           "xaxis":{
            "backgroundcolor":"#E5ECF6",
            "gridcolor":"white",
            "linecolor":"white",
            "showbackground":true,
            "ticks":"",
            "zerolinecolor":"white",
            "gridwidth":2
           },
           "yaxis":{
            "backgroundcolor":"#E5ECF6",
            "gridcolor":"white",
            "linecolor":"white",
            "showbackground":true,
            "ticks":"",
            "zerolinecolor":"white",
            "gridwidth":2
           },
           "zaxis":{
            "backgroundcolor":"#E5ECF6",
            "gridcolor":"white",
            "linecolor":"white",
            "showbackground":true,
            "ticks":"",
            "zerolinecolor":"white",
            "gridwidth":2
           }
          },
          "shapedefaults":{
           "line":{
            "color":"#2a3f5f"
           }
          },
          "annotationdefaults":{
           "arrowcolor":"#2a3f5f",
           "arrowhead":0,
           "arrowwidth":1
          },
          "geo":{
           "bgcolor":"white",
           "landcolor":"#E5ECF6",
           "subunitcolor":"white",
           "showland":true,
           "showlakes":true,
           "lakecolor":"white"
          },
          "title":{
           "x":0.05
          },
          "mapbox":{
           "style":"light"
          }
         }
        },
        "xaxis":{
         "anchor":"y",
         "domain":[
          0,
          1
         ],
         "title":{
          "text":"Mesiac"
         }
        },
        "yaxis":{
         "anchor":"x",
         "domain":[
          0,
          1
         ],
         "title":{
          "text":"Počet predaných kurzov"
         },
         "range":[
          0,
          350
         ]
        },
        "legend":{
         "title":{
          "text":"Kurz"
         },
         "tracegroupgap":0
        },
        "title":{
         "text":"Predaje online kurzov programovania za rok"
        },
        "barmode":"group",
        "updatemenus":[
         {
          "buttons":[
           {
            "args":[
             {
              "visible":[
               true,
               true,
               true
              ]
             }
            ],
            "label":"Všetky kurzy",
            "method":"update"
           },
           {
            "args":[
             {
              "visible":[
               true,
               false,
               false
              ]
             }
            ],
            "label":"Python",
            "method":"update"
           },
           {
            "args":[
             {
              "visible":[
               false,
               true,
               false
              ]
             }
            ],
            "label":"Java",
            "method":"update"
           },
           {
            "args":[
             {
              "visible":[
               false,
               false,
               true
              ]
             }
            ],
            "label":"JavaScript",
            "method":"update"
           }
          ],
          "direction":"down",
          "showactive":true
         }
        ]
       },
       "config":{
        "plotlyServerURL":"https:\/\/plot.ly"
       }
      }
     },
     "metadata":{},
     "output_type":"display_data"
    }
   ],
   "metadata":{
    "datalore":{
     "node_id":"HJD7IUdEOXJJ3Wxh45EiHE",
     "type":"CODE",
     "hide_input_from_viewers":true,
     "hide_output_from_viewers":true
    }
   }
  },
  {
   "cell_type":"markdown",
   "source":[
    "# 📊 Stĺpcový graf 3"
   ],
   "attachments":{},
   "metadata":{
    "datalore":{
     "node_id":"rJMN3M1V7RxHhh6xlZ3u1p",
     "type":"MD",
     "hide_input_from_viewers":true,
     "hide_output_from_viewers":true
    }
   }
  },
  {
   "cell_type":"code",
   "source":[],
   "execution_count":20,
   "outputs":[
    {
     "data":{
      "application\/vnd.plotly.v1+json":{
       "data":[
        {
         "alignmentgroup":"True",
         "hovertemplate":"Názov kurzu=%{x}<br>Mesiac=Január<br>Počet predaných kurzov=%{y}<extra><\/extra>",
         "legendgroup":"Python",
         "marker":{
          "color":"#636efa",
          "pattern":{
           "shape":""
          }
         },
         "name":"Python",
         "offsetgroup":"Python",
         "orientation":"v",
         "showlegend":true,
         "textposition":"auto",
         "x":[
          "Python"
         ],
         "xaxis":"x",
         "y":[
          220
         ],
         "yaxis":"y",
         "type":"bar"
        },
        {
         "alignmentgroup":"True",
         "hovertemplate":"Názov kurzu=%{x}<br>Mesiac=Január<br>Počet predaných kurzov=%{y}<extra><\/extra>",
         "legendgroup":"Java",
         "marker":{
          "color":"#EF553B",
          "pattern":{
           "shape":""
          }
         },
         "name":"Java",
         "offsetgroup":"Java",
         "orientation":"v",
         "showlegend":true,
         "textposition":"auto",
         "x":[
          "Java"
         ],
         "xaxis":"x",
         "y":[
          180
         ],
         "yaxis":"y",
         "type":"bar"
        },
        {
         "alignmentgroup":"True",
         "hovertemplate":"Názov kurzu=%{x}<br>Mesiac=Január<br>Počet predaných kurzov=%{y}<extra><\/extra>",
         "legendgroup":"JavaScript",
         "marker":{
          "color":"#00cc96",
          "pattern":{
           "shape":""
          }
         },
         "name":"JavaScript",
         "offsetgroup":"JavaScript",
         "orientation":"v",
         "showlegend":true,
         "textposition":"auto",
         "x":[
          "JavaScript"
         ],
         "xaxis":"x",
         "y":[
          150
         ],
         "yaxis":"y",
         "type":"bar"
        }
       ],
       "layout":{
        "template":{
         "data":{
          "histogram2dcontour":[
           {
            "type":"histogram2dcontour",
            "colorbar":{
             "outlinewidth":0,
             "ticks":""
            },
            "colorscale":[
             [
              0,
              "#0d0887"
             ],
             [
              0.1111111111111111,
              "#46039f"
             ],
             [
              0.2222222222222222,
              "#7201a8"
             ],
             [
              0.3333333333333333,
              "#9c179e"
             ],
             [
              0.4444444444444444,
              "#bd3786"
             ],
             [
              0.5555555555555556,
              "#d8576b"
             ],
             [
              0.6666666666666666,
              "#ed7953"
             ],
             [
              0.7777777777777778,
              "#fb9f3a"
             ],
             [
              0.8888888888888888,
              "#fdca26"
             ],
             [
              1,
              "#f0f921"
             ]
            ]
           }
          ],
          "choropleth":[
           {
            "type":"choropleth",
            "colorbar":{
             "outlinewidth":0,
             "ticks":""
            }
           }
          ],
          "histogram2d":[
           {
            "type":"histogram2d",
            "colorbar":{
             "outlinewidth":0,
             "ticks":""
            },
            "colorscale":[
             [
              0,
              "#0d0887"
             ],
             [
              0.1111111111111111,
              "#46039f"
             ],
             [
              0.2222222222222222,
              "#7201a8"
             ],
             [
              0.3333333333333333,
              "#9c179e"
             ],
             [
              0.4444444444444444,
              "#bd3786"
             ],
             [
              0.5555555555555556,
              "#d8576b"
             ],
             [
              0.6666666666666666,
              "#ed7953"
             ],
             [
              0.7777777777777778,
              "#fb9f3a"
             ],
             [
              0.8888888888888888,
              "#fdca26"
             ],
             [
              1,
              "#f0f921"
             ]
            ]
           }
          ],
          "heatmap":[
           {
            "type":"heatmap",
            "colorbar":{
             "outlinewidth":0,
             "ticks":""
            },
            "colorscale":[
             [
              0,
              "#0d0887"
             ],
             [
              0.1111111111111111,
              "#46039f"
             ],
             [
              0.2222222222222222,
              "#7201a8"
             ],
             [
              0.3333333333333333,
              "#9c179e"
             ],
             [
              0.4444444444444444,
              "#bd3786"
             ],
             [
              0.5555555555555556,
              "#d8576b"
             ],
             [
              0.6666666666666666,
              "#ed7953"
             ],
             [
              0.7777777777777778,
              "#fb9f3a"
             ],
             [
              0.8888888888888888,
              "#fdca26"
             ],
             [
              1,
              "#f0f921"
             ]
            ]
           }
          ],
          "heatmapgl":[
           {
            "type":"heatmapgl",
            "colorbar":{
             "outlinewidth":0,
             "ticks":""
            },
            "colorscale":[
             [
              0,
              "#0d0887"
             ],
             [
              0.1111111111111111,
              "#46039f"
             ],
             [
              0.2222222222222222,
              "#7201a8"
             ],
             [
              0.3333333333333333,
              "#9c179e"
             ],
             [
              0.4444444444444444,
              "#bd3786"
             ],
             [
              0.5555555555555556,
              "#d8576b"
             ],
             [
              0.6666666666666666,
              "#ed7953"
             ],
             [
              0.7777777777777778,
              "#fb9f3a"
             ],
             [
              0.8888888888888888,
              "#fdca26"
             ],
             [
              1,
              "#f0f921"
             ]
            ]
           }
          ],
          "contourcarpet":[
           {
            "type":"contourcarpet",
            "colorbar":{
             "outlinewidth":0,
             "ticks":""
            }
           }
          ],
          "contour":[
           {
            "type":"contour",
            "colorbar":{
             "outlinewidth":0,
             "ticks":""
            },
            "colorscale":[
             [
              0,
              "#0d0887"
             ],
             [
              0.1111111111111111,
              "#46039f"
             ],
             [
              0.2222222222222222,
              "#7201a8"
             ],
             [
              0.3333333333333333,
              "#9c179e"
             ],
             [
              0.4444444444444444,
              "#bd3786"
             ],
             [
              0.5555555555555556,
              "#d8576b"
             ],
             [
              0.6666666666666666,
              "#ed7953"
             ],
             [
              0.7777777777777778,
              "#fb9f3a"
             ],
             [
              0.8888888888888888,
              "#fdca26"
             ],
             [
              1,
              "#f0f921"
             ]
            ]
           }
          ],
          "surface":[
           {
            "type":"surface",
            "colorbar":{
             "outlinewidth":0,
             "ticks":""
            },
            "colorscale":[
             [
              0,
              "#0d0887"
             ],
             [
              0.1111111111111111,
              "#46039f"
             ],
             [
              0.2222222222222222,
              "#7201a8"
             ],
             [
              0.3333333333333333,
              "#9c179e"
             ],
             [
              0.4444444444444444,
              "#bd3786"
             ],
             [
              0.5555555555555556,
              "#d8576b"
             ],
             [
              0.6666666666666666,
              "#ed7953"
             ],
             [
              0.7777777777777778,
              "#fb9f3a"
             ],
             [
              0.8888888888888888,
              "#fdca26"
             ],
             [
              1,
              "#f0f921"
             ]
            ]
           }
          ],
          "mesh3d":[
           {
            "type":"mesh3d",
            "colorbar":{
             "outlinewidth":0,
             "ticks":""
            }
           }
          ],
          "scatter":[
           {
            "fillpattern":{
             "fillmode":"overlay",
             "size":10,
             "solidity":0.2
            },
            "type":"scatter"
           }
          ],
          "parcoords":[
           {
            "type":"parcoords",
            "line":{
             "colorbar":{
              "outlinewidth":0,
              "ticks":""
             }
            }
           }
          ],
          "scatterpolargl":[
           {
            "type":"scatterpolargl",
            "marker":{
             "colorbar":{
              "outlinewidth":0,
              "ticks":""
             }
            }
           }
          ],
          "bar":[
           {
            "error_x":{
             "color":"#2a3f5f"
            },
            "error_y":{
             "color":"#2a3f5f"
            },
            "marker":{
             "line":{
              "color":"#E5ECF6",
              "width":0.5
             },
             "pattern":{
              "fillmode":"overlay",
              "size":10,
              "solidity":0.2
             }
            },
            "type":"bar"
           }
          ],
          "scattergeo":[
           {
            "type":"scattergeo",
            "marker":{
             "colorbar":{
              "outlinewidth":0,
              "ticks":""
             }
            }
           }
          ],
          "scatterpolar":[
           {
            "type":"scatterpolar",
            "marker":{
             "colorbar":{
              "outlinewidth":0,
              "ticks":""
             }
            }
           }
          ],
          "histogram":[
           {
            "marker":{
             "pattern":{
              "fillmode":"overlay",
              "size":10,
              "solidity":0.2
             }
            },
            "type":"histogram"
           }
          ],
          "scattergl":[
           {
            "type":"scattergl",
            "marker":{
             "colorbar":{
              "outlinewidth":0,
              "ticks":""
             }
            }
           }
          ],
          "scatter3d":[
           {
            "type":"scatter3d",
            "line":{
             "colorbar":{
              "outlinewidth":0,
              "ticks":""
             }
            },
            "marker":{
             "colorbar":{
              "outlinewidth":0,
              "ticks":""
             }
            }
           }
          ],
          "scattermapbox":[
           {
            "type":"scattermapbox",
            "marker":{
             "colorbar":{
              "outlinewidth":0,
              "ticks":""
             }
            }
           }
          ],
          "scatterternary":[
           {
            "type":"scatterternary",
            "marker":{
             "colorbar":{
              "outlinewidth":0,
              "ticks":""
             }
            }
           }
          ],
          "scattercarpet":[
           {
            "type":"scattercarpet",
            "marker":{
             "colorbar":{
              "outlinewidth":0,
              "ticks":""
             }
            }
           }
          ],
          "carpet":[
           {
            "aaxis":{
             "endlinecolor":"#2a3f5f",
             "gridcolor":"white",
             "linecolor":"white",
             "minorgridcolor":"white",
             "startlinecolor":"#2a3f5f"
            },
            "baxis":{
             "endlinecolor":"#2a3f5f",
             "gridcolor":"white",
             "linecolor":"white",
             "minorgridcolor":"white",
             "startlinecolor":"#2a3f5f"
            },
            "type":"carpet"
           }
          ],
          "table":[
           {
            "cells":{
             "fill":{
              "color":"#EBF0F8"
             },
             "line":{
              "color":"white"
             }
            },
            "header":{
             "fill":{
              "color":"#C8D4E3"
             },
             "line":{
              "color":"white"
             }
            },
            "type":"table"
           }
          ],
          "barpolar":[
           {
            "marker":{
             "line":{
              "color":"#E5ECF6",
              "width":0.5
             },
             "pattern":{
              "fillmode":"overlay",
              "size":10,
              "solidity":0.2
             }
            },
            "type":"barpolar"
           }
          ],
          "pie":[
           {
            "automargin":true,
            "type":"pie"
           }
          ]
         },
         "layout":{
          "autotypenumbers":"strict",
          "colorway":[
           "#636efa",
           "#EF553B",
           "#00cc96",
           "#ab63fa",
           "#FFA15A",
           "#19d3f3",
           "#FF6692",
           "#B6E880",
           "#FF97FF",
           "#FECB52"
          ],
          "font":{
           "color":"#2a3f5f"
          },
          "hovermode":"closest",
          "hoverlabel":{
           "align":"left"
          },
          "paper_bgcolor":"white",
          "plot_bgcolor":"#E5ECF6",
          "polar":{
           "bgcolor":"#E5ECF6",
           "angularaxis":{
            "gridcolor":"white",
            "linecolor":"white",
            "ticks":""
           },
           "radialaxis":{
            "gridcolor":"white",
            "linecolor":"white",
            "ticks":""
           }
          },
          "ternary":{
           "bgcolor":"#E5ECF6",
           "aaxis":{
            "gridcolor":"white",
            "linecolor":"white",
            "ticks":""
           },
           "baxis":{
            "gridcolor":"white",
            "linecolor":"white",
            "ticks":""
           },
           "caxis":{
            "gridcolor":"white",
            "linecolor":"white",
            "ticks":""
           }
          },
          "coloraxis":{
           "colorbar":{
            "outlinewidth":0,
            "ticks":""
           }
          },
          "colorscale":{
           "sequential":[
            [
             0,
             "#0d0887"
            ],
            [
             0.1111111111111111,
             "#46039f"
            ],
            [
             0.2222222222222222,
             "#7201a8"
            ],
            [
             0.3333333333333333,
             "#9c179e"
            ],
            [
             0.4444444444444444,
             "#bd3786"
            ],
            [
             0.5555555555555556,
             "#d8576b"
            ],
            [
             0.6666666666666666,
             "#ed7953"
            ],
            [
             0.7777777777777778,
             "#fb9f3a"
            ],
            [
             0.8888888888888888,
             "#fdca26"
            ],
            [
             1,
             "#f0f921"
            ]
           ],
           "sequentialminus":[
            [
             0,
             "#0d0887"
            ],
            [
             0.1111111111111111,
             "#46039f"
            ],
            [
             0.2222222222222222,
             "#7201a8"
            ],
            [
             0.3333333333333333,
             "#9c179e"
            ],
            [
             0.4444444444444444,
             "#bd3786"
            ],
            [
             0.5555555555555556,
             "#d8576b"
            ],
            [
             0.6666666666666666,
             "#ed7953"
            ],
            [
             0.7777777777777778,
             "#fb9f3a"
            ],
            [
             0.8888888888888888,
             "#fdca26"
            ],
            [
             1,
             "#f0f921"
            ]
           ],
           "diverging":[
            [
             0,
             "#8e0152"
            ],
            [
             0.1,
             "#c51b7d"
            ],
            [
             0.2,
             "#de77ae"
            ],
            [
             0.3,
             "#f1b6da"
            ],
            [
             0.4,
             "#fde0ef"
            ],
            [
             0.5,
             "#f7f7f7"
            ],
            [
             0.6,
             "#e6f5d0"
            ],
            [
             0.7,
             "#b8e186"
            ],
            [
             0.8,
             "#7fbc41"
            ],
            [
             0.9,
             "#4d9221"
            ],
            [
             1,
             "#276419"
            ]
           ]
          },
          "xaxis":{
           "gridcolor":"white",
           "linecolor":"white",
           "ticks":"",
           "title":{
            "standoff":15
           },
           "zerolinecolor":"white",
           "automargin":true,
           "zerolinewidth":2
          },
          "yaxis":{
           "gridcolor":"white",
           "linecolor":"white",
           "ticks":"",
           "title":{
            "standoff":15
           },
           "zerolinecolor":"white",
           "automargin":true,
           "zerolinewidth":2
          },
          "scene":{
           "xaxis":{
            "backgroundcolor":"#E5ECF6",
            "gridcolor":"white",
            "linecolor":"white",
            "showbackground":true,
            "ticks":"",
            "zerolinecolor":"white",
            "gridwidth":2
           },
           "yaxis":{
            "backgroundcolor":"#E5ECF6",
            "gridcolor":"white",
            "linecolor":"white",
            "showbackground":true,
            "ticks":"",
            "zerolinecolor":"white",
            "gridwidth":2
           },
           "zaxis":{
            "backgroundcolor":"#E5ECF6",
            "gridcolor":"white",
            "linecolor":"white",
            "showbackground":true,
            "ticks":"",
            "zerolinecolor":"white",
            "gridwidth":2
           }
          },
          "shapedefaults":{
           "line":{
            "color":"#2a3f5f"
           }
          },
          "annotationdefaults":{
           "arrowcolor":"#2a3f5f",
           "arrowhead":0,
           "arrowwidth":1
          },
          "geo":{
           "bgcolor":"white",
           "landcolor":"#E5ECF6",
           "subunitcolor":"white",
           "showland":true,
           "showlakes":true,
           "lakecolor":"white"
          },
          "title":{
           "x":0.05
          },
          "mapbox":{
           "style":"light"
          }
         }
        },
        "xaxis":{
         "anchor":"y",
         "domain":[
          0,
          1
         ],
         "title":{
          "text":"Názov kurzu"
         },
         "categoryorder":"array",
         "categoryarray":[
          "Python",
          "Java",
          "JavaScript"
         ]
        },
        "yaxis":{
         "anchor":"x",
         "domain":[
          0,
          1
         ],
         "title":{
          "text":"Počet predaných kurzov"
         },
         "range":[
          0,
          350
         ]
        },
        "legend":{
         "title":{
          "text":"Názov kurzu"
         },
         "tracegroupgap":0
        },
        "title":{
         "text":"Predaje online kurzov programovania za jednotlivé mesiace"
        },
        "barmode":"relative",
        "updatemenus":[
         {
          "buttons":[
           {
            "args":[
             null,
             {
              "frame":{
               "duration":500,
               "redraw":true
              },
              "mode":"immediate",
              "fromcurrent":true,
              "transition":{
               "duration":500,
               "easing":"linear"
              }
             }
            ],
            "label":"&#9654;",
            "method":"animate"
           },
           {
            "args":[
             [
              null
             ],
             {
              "frame":{
               "duration":0,
               "redraw":true
              },
              "mode":"immediate",
              "fromcurrent":true,
              "transition":{
               "duration":0,
               "easing":"linear"
              }
             }
            ],
            "label":"&#9724;",
            "method":"animate"
           }
          ],
          "direction":"left",
          "pad":{
           "r":10,
           "t":70
          },
          "showactive":false,
          "type":"buttons",
          "x":0.1,
          "xanchor":"right",
          "y":0,
          "yanchor":"top"
         }
        ],
        "sliders":[
         {
          "active":0,
          "currentvalue":{
           "prefix":"Mesiac="
          },
          "len":0.9,
          "pad":{
           "b":10,
           "t":60
          },
          "steps":[
           {
            "args":[
             [
              "Január"
             ],
             {
              "frame":{
               "duration":0,
               "redraw":true
              },
              "mode":"immediate",
              "fromcurrent":true,
              "transition":{
               "duration":0,
               "easing":"linear"
              }
             }
            ],
            "label":"Január",
            "method":"animate"
           },
           {
            "args":[
             [
              "Február"
             ],
             {
              "frame":{
               "duration":0,
               "redraw":true
              },
              "mode":"immediate",
              "fromcurrent":true,
              "transition":{
               "duration":0,
               "easing":"linear"
              }
             }
            ],
            "label":"Február",
            "method":"animate"
           },
           {
            "args":[
             [
              "Marec"
             ],
             {
              "frame":{
               "duration":0,
               "redraw":true
              },
              "mode":"immediate",
              "fromcurrent":true,
              "transition":{
               "duration":0,
               "easing":"linear"
              }
             }
            ],
            "label":"Marec",
            "method":"animate"
           },
           {
            "args":[
             [
              "Apríl"
             ],
             {
              "frame":{
               "duration":0,
               "redraw":true
              },
              "mode":"immediate",
              "fromcurrent":true,
              "transition":{
               "duration":0,
               "easing":"linear"
              }
             }
            ],
            "label":"Apríl",
            "method":"animate"
           },
           {
            "args":[
             [
              "Máj"
             ],
             {
              "frame":{
               "duration":0,
               "redraw":true
              },
              "mode":"immediate",
              "fromcurrent":true,
              "transition":{
               "duration":0,
               "easing":"linear"
              }
             }
            ],
            "label":"Máj",
            "method":"animate"
           },
           {
            "args":[
             [
              "Jún"
             ],
             {
              "frame":{
               "duration":0,
               "redraw":true
              },
              "mode":"immediate",
              "fromcurrent":true,
              "transition":{
               "duration":0,
               "easing":"linear"
              }
             }
            ],
            "label":"Jún",
            "method":"animate"
           },
           {
            "args":[
             [
              "Júl"
             ],
             {
              "frame":{
               "duration":0,
               "redraw":true
              },
              "mode":"immediate",
              "fromcurrent":true,
              "transition":{
               "duration":0,
               "easing":"linear"
              }
             }
            ],
            "label":"Júl",
            "method":"animate"
           },
           {
            "args":[
             [
              "August"
             ],
             {
              "frame":{
               "duration":0,
               "redraw":true
              },
              "mode":"immediate",
              "fromcurrent":true,
              "transition":{
               "duration":0,
               "easing":"linear"
              }
             }
            ],
            "label":"August",
            "method":"animate"
           },
           {
            "args":[
             [
              "September"
             ],
             {
              "frame":{
               "duration":0,
               "redraw":true
              },
              "mode":"immediate",
              "fromcurrent":true,
              "transition":{
               "duration":0,
               "easing":"linear"
              }
             }
            ],
            "label":"September",
            "method":"animate"
           },
           {
            "args":[
             [
              "Október"
             ],
             {
              "frame":{
               "duration":0,
               "redraw":true
              },
              "mode":"immediate",
              "fromcurrent":true,
              "transition":{
               "duration":0,
               "easing":"linear"
              }
             }
            ],
            "label":"Október",
            "method":"animate"
           },
           {
            "args":[
             [
              "November"
             ],
             {
              "frame":{
               "duration":0,
               "redraw":true
              },
              "mode":"immediate",
              "fromcurrent":true,
              "transition":{
               "duration":0,
               "easing":"linear"
              }
             }
            ],
            "label":"November",
            "method":"animate"
           },
           {
            "args":[
             [
              "December"
             ],
             {
              "frame":{
               "duration":0,
               "redraw":true
              },
              "mode":"immediate",
              "fromcurrent":true,
              "transition":{
               "duration":0,
               "easing":"linear"
              }
             }
            ],
            "label":"December",
            "method":"animate"
           }
          ],
          "x":0.1,
          "xanchor":"left",
          "y":0,
          "yanchor":"top"
         }
        ]
       },
       "frames":[
        {
         "data":[
          {
           "alignmentgroup":"True",
           "hovertemplate":"Názov kurzu=%{x}<br>Mesiac=Január<br>Počet predaných kurzov=%{y}<extra><\/extra>",
           "legendgroup":"Python",
           "marker":{
            "color":"#636efa",
            "pattern":{
             "shape":""
            }
           },
           "name":"Python",
           "offsetgroup":"Python",
           "orientation":"v",
           "showlegend":true,
           "textposition":"auto",
           "x":[
            "Python"
           ],
           "xaxis":"x",
           "y":[
            220
           ],
           "yaxis":"y",
           "type":"bar"
          },
          {
           "alignmentgroup":"True",
           "hovertemplate":"Názov kurzu=%{x}<br>Mesiac=Január<br>Počet predaných kurzov=%{y}<extra><\/extra>",
           "legendgroup":"Java",
           "marker":{
            "color":"#EF553B",
            "pattern":{
             "shape":""
            }
           },
           "name":"Java",
           "offsetgroup":"Java",
           "orientation":"v",
           "showlegend":true,
           "textposition":"auto",
           "x":[
            "Java"
           ],
           "xaxis":"x",
           "y":[
            180
           ],
           "yaxis":"y",
           "type":"bar"
          },
          {
           "alignmentgroup":"True",
           "hovertemplate":"Názov kurzu=%{x}<br>Mesiac=Január<br>Počet predaných kurzov=%{y}<extra><\/extra>",
           "legendgroup":"JavaScript",
           "marker":{
            "color":"#00cc96",
            "pattern":{
             "shape":""
            }
           },
           "name":"JavaScript",
           "offsetgroup":"JavaScript",
           "orientation":"v",
           "showlegend":true,
           "textposition":"auto",
           "x":[
            "JavaScript"
           ],
           "xaxis":"x",
           "y":[
            150
           ],
           "yaxis":"y",
           "type":"bar"
          }
         ],
         "name":"Január"
        },
        {
         "data":[
          {
           "alignmentgroup":"True",
           "hovertemplate":"Názov kurzu=%{x}<br>Mesiac=Február<br>Počet predaných kurzov=%{y}<extra><\/extra>",
           "legendgroup":"Python",
           "marker":{
            "color":"#636efa",
            "pattern":{
             "shape":""
            }
           },
           "name":"Python",
           "offsetgroup":"Python",
           "orientation":"v",
           "showlegend":true,
           "textposition":"auto",
           "x":[
            "Python"
           ],
           "xaxis":"x",
           "y":[
            230
           ],
           "yaxis":"y",
           "type":"bar"
          },
          {
           "alignmentgroup":"True",
           "hovertemplate":"Názov kurzu=%{x}<br>Mesiac=Február<br>Počet predaných kurzov=%{y}<extra><\/extra>",
           "legendgroup":"Java",
           "marker":{
            "color":"#EF553B",
            "pattern":{
             "shape":""
            }
           },
           "name":"Java",
           "offsetgroup":"Java",
           "orientation":"v",
           "showlegend":true,
           "textposition":"auto",
           "x":[
            "Java"
           ],
           "xaxis":"x",
           "y":[
            190
           ],
           "yaxis":"y",
           "type":"bar"
          },
          {
           "alignmentgroup":"True",
           "hovertemplate":"Názov kurzu=%{x}<br>Mesiac=Február<br>Počet predaných kurzov=%{y}<extra><\/extra>",
           "legendgroup":"JavaScript",
           "marker":{
            "color":"#00cc96",
            "pattern":{
             "shape":""
            }
           },
           "name":"JavaScript",
           "offsetgroup":"JavaScript",
           "orientation":"v",
           "showlegend":true,
           "textposition":"auto",
           "x":[
            "JavaScript"
           ],
           "xaxis":"x",
           "y":[
            160
           ],
           "yaxis":"y",
           "type":"bar"
          }
         ],
         "name":"Február"
        },
        {
         "data":[
          {
           "alignmentgroup":"True",
           "hovertemplate":"Názov kurzu=%{x}<br>Mesiac=Marec<br>Počet predaných kurzov=%{y}<extra><\/extra>",
           "legendgroup":"Python",
           "marker":{
            "color":"#636efa",
            "pattern":{
             "shape":""
            }
           },
           "name":"Python",
           "offsetgroup":"Python",
           "orientation":"v",
           "showlegend":true,
           "textposition":"auto",
           "x":[
            "Python"
           ],
           "xaxis":"x",
           "y":[
            210
           ],
           "yaxis":"y",
           "type":"bar"
          },
          {
           "alignmentgroup":"True",
           "hovertemplate":"Názov kurzu=%{x}<br>Mesiac=Marec<br>Počet predaných kurzov=%{y}<extra><\/extra>",
           "legendgroup":"Java",
           "marker":{
            "color":"#EF553B",
            "pattern":{
             "shape":""
            }
           },
           "name":"Java",
           "offsetgroup":"Java",
           "orientation":"v",
           "showlegend":true,
           "textposition":"auto",
           "x":[
            "Java"
           ],
           "xaxis":"x",
           "y":[
            170
           ],
           "yaxis":"y",
           "type":"bar"
          },
          {
           "alignmentgroup":"True",
           "hovertemplate":"Názov kurzu=%{x}<br>Mesiac=Marec<br>Počet predaných kurzov=%{y}<extra><\/extra>",
           "legendgroup":"JavaScript",
           "marker":{
            "color":"#00cc96",
            "pattern":{
             "shape":""
            }
           },
           "name":"JavaScript",
           "offsetgroup":"JavaScript",
           "orientation":"v",
           "showlegend":true,
           "textposition":"auto",
           "x":[
            "JavaScript"
           ],
           "xaxis":"x",
           "y":[
            145
           ],
           "yaxis":"y",
           "type":"bar"
          }
         ],
         "name":"Marec"
        },
        {
         "data":[
          {
           "alignmentgroup":"True",
           "hovertemplate":"Názov kurzu=%{x}<br>Mesiac=Apríl<br>Počet predaných kurzov=%{y}<extra><\/extra>",
           "legendgroup":"Python",
           "marker":{
            "color":"#636efa",
            "pattern":{
             "shape":""
            }
           },
           "name":"Python",
           "offsetgroup":"Python",
           "orientation":"v",
           "showlegend":true,
           "textposition":"auto",
           "x":[
            "Python"
           ],
           "xaxis":"x",
           "y":[
            240
           ],
           "yaxis":"y",
           "type":"bar"
          },
          {
           "alignmentgroup":"True",
           "hovertemplate":"Názov kurzu=%{x}<br>Mesiac=Apríl<br>Počet predaných kurzov=%{y}<extra><\/extra>",
           "legendgroup":"Java",
           "marker":{
            "color":"#EF553B",
            "pattern":{
             "shape":""
            }
           },
           "name":"Java",
           "offsetgroup":"Java",
           "orientation":"v",
           "showlegend":true,
           "textposition":"auto",
           "x":[
            "Java"
           ],
           "xaxis":"x",
           "y":[
            200
           ],
           "yaxis":"y",
           "type":"bar"
          },
          {
           "alignmentgroup":"True",
           "hovertemplate":"Názov kurzu=%{x}<br>Mesiac=Apríl<br>Počet predaných kurzov=%{y}<extra><\/extra>",
           "legendgroup":"JavaScript",
           "marker":{
            "color":"#00cc96",
            "pattern":{
             "shape":""
            }
           },
           "name":"JavaScript",
           "offsetgroup":"JavaScript",
           "orientation":"v",
           "showlegend":true,
           "textposition":"auto",
           "x":[
            "JavaScript"
           ],
           "xaxis":"x",
           "y":[
            155
           ],
           "yaxis":"y",
           "type":"bar"
          }
         ],
         "name":"Apríl"
        },
        {
         "data":[
          {
           "alignmentgroup":"True",
           "hovertemplate":"Názov kurzu=%{x}<br>Mesiac=Máj<br>Počet predaných kurzov=%{y}<extra><\/extra>",
           "legendgroup":"Python",
           "marker":{
            "color":"#636efa",
            "pattern":{
             "shape":""
            }
           },
           "name":"Python",
           "offsetgroup":"Python",
           "orientation":"v",
           "showlegend":true,
           "textposition":"auto",
           "x":[
            "Python"
           ],
           "xaxis":"x",
           "y":[
            250
           ],
           "yaxis":"y",
           "type":"bar"
          },
          {
           "alignmentgroup":"True",
           "hovertemplate":"Názov kurzu=%{x}<br>Mesiac=Máj<br>Počet predaných kurzov=%{y}<extra><\/extra>",
           "legendgroup":"Java",
           "marker":{
            "color":"#EF553B",
            "pattern":{
             "shape":""
            }
           },
           "name":"Java",
           "offsetgroup":"Java",
           "orientation":"v",
           "showlegend":true,
           "textposition":"auto",
           "x":[
            "Java"
           ],
           "xaxis":"x",
           "y":[
            210
           ],
           "yaxis":"y",
           "type":"bar"
          },
          {
           "alignmentgroup":"True",
           "hovertemplate":"Názov kurzu=%{x}<br>Mesiac=Máj<br>Počet predaných kurzov=%{y}<extra><\/extra>",
           "legendgroup":"JavaScript",
           "marker":{
            "color":"#00cc96",
            "pattern":{
             "shape":""
            }
           },
           "name":"JavaScript",
           "offsetgroup":"JavaScript",
           "orientation":"v",
           "showlegend":true,
           "textposition":"auto",
           "x":[
            "JavaScript"
           ],
           "xaxis":"x",
           "y":[
            165
           ],
           "yaxis":"y",
           "type":"bar"
          }
         ],
         "name":"Máj"
        },
        {
         "data":[
          {
           "alignmentgroup":"True",
           "hovertemplate":"Názov kurzu=%{x}<br>Mesiac=Jún<br>Počet predaných kurzov=%{y}<extra><\/extra>",
           "legendgroup":"Python",
           "marker":{
            "color":"#636efa",
            "pattern":{
             "shape":""
            }
           },
           "name":"Python",
           "offsetgroup":"Python",
           "orientation":"v",
           "showlegend":true,
           "textposition":"auto",
           "x":[
            "Python"
           ],
           "xaxis":"x",
           "y":[
            260
           ],
           "yaxis":"y",
           "type":"bar"
          },
          {
           "alignmentgroup":"True",
           "hovertemplate":"Názov kurzu=%{x}<br>Mesiac=Jún<br>Počet predaných kurzov=%{y}<extra><\/extra>",
           "legendgroup":"Java",
           "marker":{
            "color":"#EF553B",
            "pattern":{
             "shape":""
            }
           },
           "name":"Java",
           "offsetgroup":"Java",
           "orientation":"v",
           "showlegend":true,
           "textposition":"auto",
           "x":[
            "Java"
           ],
           "xaxis":"x",
           "y":[
            215
           ],
           "yaxis":"y",
           "type":"bar"
          },
          {
           "alignmentgroup":"True",
           "hovertemplate":"Názov kurzu=%{x}<br>Mesiac=Jún<br>Počet predaných kurzov=%{y}<extra><\/extra>",
           "legendgroup":"JavaScript",
           "marker":{
            "color":"#00cc96",
            "pattern":{
             "shape":""
            }
           },
           "name":"JavaScript",
           "offsetgroup":"JavaScript",
           "orientation":"v",
           "showlegend":true,
           "textposition":"auto",
           "x":[
            "JavaScript"
           ],
           "xaxis":"x",
           "y":[
            170
           ],
           "yaxis":"y",
           "type":"bar"
          }
         ],
         "name":"Jún"
        },
        {
         "data":[
          {
           "alignmentgroup":"True",
           "hovertemplate":"Názov kurzu=%{x}<br>Mesiac=Júl<br>Počet predaných kurzov=%{y}<extra><\/extra>",
           "legendgroup":"Python",
           "marker":{
            "color":"#636efa",
            "pattern":{
             "shape":""
            }
           },
           "name":"Python",
           "offsetgroup":"Python",
           "orientation":"v",
           "showlegend":true,
           "textposition":"auto",
           "x":[
            "Python"
           ],
           "xaxis":"x",
           "y":[
            270
           ],
           "yaxis":"y",
           "type":"bar"
          },
          {
           "alignmentgroup":"True",
           "hovertemplate":"Názov kurzu=%{x}<br>Mesiac=Júl<br>Počet predaných kurzov=%{y}<extra><\/extra>",
           "legendgroup":"Java",
           "marker":{
            "color":"#EF553B",
            "pattern":{
             "shape":""
            }
           },
           "name":"Java",
           "offsetgroup":"Java",
           "orientation":"v",
           "showlegend":true,
           "textposition":"auto",
           "x":[
            "Java"
           ],
           "xaxis":"x",
           "y":[
            220
           ],
           "yaxis":"y",
           "type":"bar"
          },
          {
           "alignmentgroup":"True",
           "hovertemplate":"Názov kurzu=%{x}<br>Mesiac=Júl<br>Počet predaných kurzov=%{y}<extra><\/extra>",
           "legendgroup":"JavaScript",
           "marker":{
            "color":"#00cc96",
            "pattern":{
             "shape":""
            }
           },
           "name":"JavaScript",
           "offsetgroup":"JavaScript",
           "orientation":"v",
           "showlegend":true,
           "textposition":"auto",
           "x":[
            "JavaScript"
           ],
           "xaxis":"x",
           "y":[
            180
           ],
           "yaxis":"y",
           "type":"bar"
          }
         ],
         "name":"Júl"
        },
        {
         "data":[
          {
           "alignmentgroup":"True",
           "hovertemplate":"Názov kurzu=%{x}<br>Mesiac=August<br>Počet predaných kurzov=%{y}<extra><\/extra>",
           "legendgroup":"Python",
           "marker":{
            "color":"#636efa",
            "pattern":{
             "shape":""
            }
           },
           "name":"Python",
           "offsetgroup":"Python",
           "orientation":"v",
           "showlegend":true,
           "textposition":"auto",
           "x":[
            "Python"
           ],
           "xaxis":"x",
           "y":[
            275
           ],
           "yaxis":"y",
           "type":"bar"
          },
          {
           "alignmentgroup":"True",
           "hovertemplate":"Názov kurzu=%{x}<br>Mesiac=August<br>Počet predaných kurzov=%{y}<extra><\/extra>",
           "legendgroup":"Java",
           "marker":{
            "color":"#EF553B",
            "pattern":{
             "shape":""
            }
           },
           "name":"Java",
           "offsetgroup":"Java",
           "orientation":"v",
           "showlegend":true,
           "textposition":"auto",
           "x":[
            "Java"
           ],
           "xaxis":"x",
           "y":[
            230
           ],
           "yaxis":"y",
           "type":"bar"
          },
          {
           "alignmentgroup":"True",
           "hovertemplate":"Názov kurzu=%{x}<br>Mesiac=August<br>Počet predaných kurzov=%{y}<extra><\/extra>",
           "legendgroup":"JavaScript",
           "marker":{
            "color":"#00cc96",
            "pattern":{
             "shape":""
            }
           },
           "name":"JavaScript",
           "offsetgroup":"JavaScript",
           "orientation":"v",
           "showlegend":true,
           "textposition":"auto",
           "x":[
            "JavaScript"
           ],
           "xaxis":"x",
           "y":[
            185
           ],
           "yaxis":"y",
           "type":"bar"
          }
         ],
         "name":"August"
        },
        {
         "data":[
          {
           "alignmentgroup":"True",
           "hovertemplate":"Názov kurzu=%{x}<br>Mesiac=September<br>Počet predaných kurzov=%{y}<extra><\/extra>",
           "legendgroup":"Python",
           "marker":{
            "color":"#636efa",
            "pattern":{
             "shape":""
            }
           },
           "name":"Python",
           "offsetgroup":"Python",
           "orientation":"v",
           "showlegend":true,
           "textposition":"auto",
           "x":[
            "Python"
           ],
           "xaxis":"x",
           "y":[
            290
           ],
           "yaxis":"y",
           "type":"bar"
          },
          {
           "alignmentgroup":"True",
           "hovertemplate":"Názov kurzu=%{x}<br>Mesiac=September<br>Počet predaných kurzov=%{y}<extra><\/extra>",
           "legendgroup":"Java",
           "marker":{
            "color":"#EF553B",
            "pattern":{
             "shape":""
            }
           },
           "name":"Java",
           "offsetgroup":"Java",
           "orientation":"v",
           "showlegend":true,
           "textposition":"auto",
           "x":[
            "Java"
           ],
           "xaxis":"x",
           "y":[
            240
           ],
           "yaxis":"y",
           "type":"bar"
          },
          {
           "alignmentgroup":"True",
           "hovertemplate":"Názov kurzu=%{x}<br>Mesiac=September<br>Počet predaných kurzov=%{y}<extra><\/extra>",
           "legendgroup":"JavaScript",
           "marker":{
            "color":"#00cc96",
            "pattern":{
             "shape":""
            }
           },
           "name":"JavaScript",
           "offsetgroup":"JavaScript",
           "orientation":"v",
           "showlegend":true,
           "textposition":"auto",
           "x":[
            "JavaScript"
           ],
           "xaxis":"x",
           "y":[
            195
           ],
           "yaxis":"y",
           "type":"bar"
          }
         ],
         "name":"September"
        },
        {
         "data":[
          {
           "alignmentgroup":"True",
           "hovertemplate":"Názov kurzu=%{x}<br>Mesiac=Október<br>Počet predaných kurzov=%{y}<extra><\/extra>",
           "legendgroup":"Python",
           "marker":{
            "color":"#636efa",
            "pattern":{
             "shape":""
            }
           },
           "name":"Python",
           "offsetgroup":"Python",
           "orientation":"v",
           "showlegend":true,
           "textposition":"auto",
           "x":[
            "Python"
           ],
           "xaxis":"x",
           "y":[
            300
           ],
           "yaxis":"y",
           "type":"bar"
          },
          {
           "alignmentgroup":"True",
           "hovertemplate":"Názov kurzu=%{x}<br>Mesiac=Október<br>Počet predaných kurzov=%{y}<extra><\/extra>",
           "legendgroup":"Java",
           "marker":{
            "color":"#EF553B",
            "pattern":{
             "shape":""
            }
           },
           "name":"Java",
           "offsetgroup":"Java",
           "orientation":"v",
           "showlegend":true,
           "textposition":"auto",
           "x":[
            "Java"
           ],
           "xaxis":"x",
           "y":[
            250
           ],
           "yaxis":"y",
           "type":"bar"
          },
          {
           "alignmentgroup":"True",
           "hovertemplate":"Názov kurzu=%{x}<br>Mesiac=Október<br>Počet predaných kurzov=%{y}<extra><\/extra>",
           "legendgroup":"JavaScript",
           "marker":{
            "color":"#00cc96",
            "pattern":{
             "shape":""
            }
           },
           "name":"JavaScript",
           "offsetgroup":"JavaScript",
           "orientation":"v",
           "showlegend":true,
           "textposition":"auto",
           "x":[
            "JavaScript"
           ],
           "xaxis":"x",
           "y":[
            200
           ],
           "yaxis":"y",
           "type":"bar"
          }
         ],
         "name":"Október"
        },
        {
         "data":[
          {
           "alignmentgroup":"True",
           "hovertemplate":"Názov kurzu=%{x}<br>Mesiac=November<br>Počet predaných kurzov=%{y}<extra><\/extra>",
           "legendgroup":"Python",
           "marker":{
            "color":"#636efa",
            "pattern":{
             "shape":""
            }
           },
           "name":"Python",
           "offsetgroup":"Python",
           "orientation":"v",
           "showlegend":true,
           "textposition":"auto",
           "x":[
            "Python"
           ],
           "xaxis":"x",
           "y":[
            320
           ],
           "yaxis":"y",
           "type":"bar"
          },
          {
           "alignmentgroup":"True",
           "hovertemplate":"Názov kurzu=%{x}<br>Mesiac=November<br>Počet predaných kurzov=%{y}<extra><\/extra>",
           "legendgroup":"Java",
           "marker":{
            "color":"#EF553B",
            "pattern":{
             "shape":""
            }
           },
           "name":"Java",
           "offsetgroup":"Java",
           "orientation":"v",
           "showlegend":true,
           "textposition":"auto",
           "x":[
            "Java"
           ],
           "xaxis":"x",
           "y":[
            260
           ],
           "yaxis":"y",
           "type":"bar"
          },
          {
           "alignmentgroup":"True",
           "hovertemplate":"Názov kurzu=%{x}<br>Mesiac=November<br>Počet predaných kurzov=%{y}<extra><\/extra>",
           "legendgroup":"JavaScript",
           "marker":{
            "color":"#00cc96",
            "pattern":{
             "shape":""
            }
           },
           "name":"JavaScript",
           "offsetgroup":"JavaScript",
           "orientation":"v",
           "showlegend":true,
           "textposition":"auto",
           "x":[
            "JavaScript"
           ],
           "xaxis":"x",
           "y":[
            210
           ],
           "yaxis":"y",
           "type":"bar"
          }
         ],
         "name":"November"
        },
        {
         "data":[
          {
           "alignmentgroup":"True",
           "hovertemplate":"Názov kurzu=%{x}<br>Mesiac=December<br>Počet predaných kurzov=%{y}<extra><\/extra>",
           "legendgroup":"Python",
           "marker":{
            "color":"#636efa",
            "pattern":{
             "shape":""
            }
           },
           "name":"Python",
           "offsetgroup":"Python",
           "orientation":"v",
           "showlegend":true,
           "textposition":"auto",
           "x":[
            "Python"
           ],
           "xaxis":"x",
           "y":[
            330
           ],
           "yaxis":"y",
           "type":"bar"
          },
          {
           "alignmentgroup":"True",
           "hovertemplate":"Názov kurzu=%{x}<br>Mesiac=December<br>Počet predaných kurzov=%{y}<extra><\/extra>",
           "legendgroup":"Java",
           "marker":{
            "color":"#EF553B",
            "pattern":{
             "shape":""
            }
           },
           "name":"Java",
           "offsetgroup":"Java",
           "orientation":"v",
           "showlegend":true,
           "textposition":"auto",
           "x":[
            "Java"
           ],
           "xaxis":"x",
           "y":[
            270
           ],
           "yaxis":"y",
           "type":"bar"
          },
          {
           "alignmentgroup":"True",
           "hovertemplate":"Názov kurzu=%{x}<br>Mesiac=December<br>Počet predaných kurzov=%{y}<extra><\/extra>",
           "legendgroup":"JavaScript",
           "marker":{
            "color":"#00cc96",
            "pattern":{
             "shape":""
            }
           },
           "name":"JavaScript",
           "offsetgroup":"JavaScript",
           "orientation":"v",
           "showlegend":true,
           "textposition":"auto",
           "x":[
            "JavaScript"
           ],
           "xaxis":"x",
           "y":[
            220
           ],
           "yaxis":"y",
           "type":"bar"
          }
         ],
         "name":"December"
        }
       ],
       "config":{
        "plotlyServerURL":"https:\/\/plot.ly"
       }
      }
     },
     "metadata":{},
     "output_type":"display_data"
    }
   ],
   "metadata":{
    "datalore":{
     "node_id":"Tuo7qEaGOhukLD43n3Q2ZF",
     "type":"CODE",
     "hide_input_from_viewers":true,
     "hide_output_from_viewers":true
    }
   }
  },
  {
   "cell_type":"markdown",
   "source":[
    "# 🥧 Koláčový graf (Pie Chart)\n",
    "- na zobrazenie relatívnych proporcií alebo podielov v celku\n",
    "\n",
    "**Použitie:**\n",
    "Koláčový graf zobrazuje relatívne podiely jednotlivých kategórií ako segmenty kruhu. Je vhodný na zobrazenie rozdelenia alebo proporcií z celkového súboru dát.\n",
    "\n",
    "**Aplikácie:**\n",
    "Podiely kategórií: Zobrazenie podielu rôznych kategórií na celkovej hodnote (napr. trhový podiel firiem, percentuálne rozdelenie výdavkov).\n",
    "Percentuálne rozdelenie: Vizualizácia toho, ako sú dáta rozdelené medzi rôzne skupiny (napr. ako sa rozdeľujú náklady na projekt medzi rôzne položky).\n",
    "\n",
    "**Tipy:**\n",
    "Použite koláčový graf, iba ak máte relatívne malé množstvo kategórií (ideálne 5-6), aby bola vizualizácia prehľadná. Ak máte veľa kategórií, zvoľte iný typ grafu, napr. stĺpcový graf.\n",
    "Zvýraznite najdôležitejšie segmenty tým, že ich vizuálne oddelíte (napr. tzv. „exploded pie chart“), aby boli okamžite viditeľné.\n",
    "Každý segment by mal mať označenie (percentuálny podiel alebo hodnota), aby bol význam grafu zrejmý.\n",
    "\n",
    "**Príklad:**\n",
    "Rozdelenie firemného rozpočtu medzi rôzne oddelenia.\n",
    "Percentuálny podiel rôznych výrobkov na celkovom predaji."
   ],
   "attachments":{},
   "metadata":{
    "datalore":{
     "node_id":"BDCbfZKGaltotvkLkf2mWW",
     "type":"MD",
     "hide_input_from_viewers":true,
     "hide_output_from_viewers":true
    }
   }
  },
  {
   "cell_type":"code",
   "source":[],
   "execution_count":2,
   "outputs":[
    {
     "data":{
      "application\/vnd.plotly.v1+json":{
       "data":[
        {
         "domain":{
          "x":[
           0,
           1
          ],
          "y":[
           0,
           1
          ]
         },
         "hovertemplate":"Kategória=%{label}<br>Výdavky=%{value}<extra><\/extra>",
         "labels":[
          "Mäso",
          "Ovocie",
          "Zelenina",
          "Mliečne výrobky",
          "Cereálie",
          "Sladkosti"
         ],
         "legendgroup":"",
         "name":"",
         "showlegend":true,
         "values":[
          300,
          150,
          120,
          200,
          80,
          100
         ],
         "type":"pie"
        }
       ],
       "layout":{
        "template":{
         "data":{
          "histogram2dcontour":[
           {
            "type":"histogram2dcontour",
            "colorbar":{
             "outlinewidth":0,
             "ticks":""
            },
            "colorscale":[
             [
              0,
              "#0d0887"
             ],
             [
              0.1111111111111111,
              "#46039f"
             ],
             [
              0.2222222222222222,
              "#7201a8"
             ],
             [
              0.3333333333333333,
              "#9c179e"
             ],
             [
              0.4444444444444444,
              "#bd3786"
             ],
             [
              0.5555555555555556,
              "#d8576b"
             ],
             [
              0.6666666666666666,
              "#ed7953"
             ],
             [
              0.7777777777777778,
              "#fb9f3a"
             ],
             [
              0.8888888888888888,
              "#fdca26"
             ],
             [
              1,
              "#f0f921"
             ]
            ]
           }
          ],
          "choropleth":[
           {
            "type":"choropleth",
            "colorbar":{
             "outlinewidth":0,
             "ticks":""
            }
           }
          ],
          "histogram2d":[
           {
            "type":"histogram2d",
            "colorbar":{
             "outlinewidth":0,
             "ticks":""
            },
            "colorscale":[
             [
              0,
              "#0d0887"
             ],
             [
              0.1111111111111111,
              "#46039f"
             ],
             [
              0.2222222222222222,
              "#7201a8"
             ],
             [
              0.3333333333333333,
              "#9c179e"
             ],
             [
              0.4444444444444444,
              "#bd3786"
             ],
             [
              0.5555555555555556,
              "#d8576b"
             ],
             [
              0.6666666666666666,
              "#ed7953"
             ],
             [
              0.7777777777777778,
              "#fb9f3a"
             ],
             [
              0.8888888888888888,
              "#fdca26"
             ],
             [
              1,
              "#f0f921"
             ]
            ]
           }
          ],
          "heatmap":[
           {
            "type":"heatmap",
            "colorbar":{
             "outlinewidth":0,
             "ticks":""
            },
            "colorscale":[
             [
              0,
              "#0d0887"
             ],
             [
              0.1111111111111111,
              "#46039f"
             ],
             [
              0.2222222222222222,
              "#7201a8"
             ],
             [
              0.3333333333333333,
              "#9c179e"
             ],
             [
              0.4444444444444444,
              "#bd3786"
             ],
             [
              0.5555555555555556,
              "#d8576b"
             ],
             [
              0.6666666666666666,
              "#ed7953"
             ],
             [
              0.7777777777777778,
              "#fb9f3a"
             ],
             [
              0.8888888888888888,
              "#fdca26"
             ],
             [
              1,
              "#f0f921"
             ]
            ]
           }
          ],
          "heatmapgl":[
           {
            "type":"heatmapgl",
            "colorbar":{
             "outlinewidth":0,
             "ticks":""
            },
            "colorscale":[
             [
              0,
              "#0d0887"
             ],
             [
              0.1111111111111111,
              "#46039f"
             ],
             [
              0.2222222222222222,
              "#7201a8"
             ],
             [
              0.3333333333333333,
              "#9c179e"
             ],
             [
              0.4444444444444444,
              "#bd3786"
             ],
             [
              0.5555555555555556,
              "#d8576b"
             ],
             [
              0.6666666666666666,
              "#ed7953"
             ],
             [
              0.7777777777777778,
              "#fb9f3a"
             ],
             [
              0.8888888888888888,
              "#fdca26"
             ],
             [
              1,
              "#f0f921"
             ]
            ]
           }
          ],
          "contourcarpet":[
           {
            "type":"contourcarpet",
            "colorbar":{
             "outlinewidth":0,
             "ticks":""
            }
           }
          ],
          "contour":[
           {
            "type":"contour",
            "colorbar":{
             "outlinewidth":0,
             "ticks":""
            },
            "colorscale":[
             [
              0,
              "#0d0887"
             ],
             [
              0.1111111111111111,
              "#46039f"
             ],
             [
              0.2222222222222222,
              "#7201a8"
             ],
             [
              0.3333333333333333,
              "#9c179e"
             ],
             [
              0.4444444444444444,
              "#bd3786"
             ],
             [
              0.5555555555555556,
              "#d8576b"
             ],
             [
              0.6666666666666666,
              "#ed7953"
             ],
             [
              0.7777777777777778,
              "#fb9f3a"
             ],
             [
              0.8888888888888888,
              "#fdca26"
             ],
             [
              1,
              "#f0f921"
             ]
            ]
           }
          ],
          "surface":[
           {
            "type":"surface",
            "colorbar":{
             "outlinewidth":0,
             "ticks":""
            },
            "colorscale":[
             [
              0,
              "#0d0887"
             ],
             [
              0.1111111111111111,
              "#46039f"
             ],
             [
              0.2222222222222222,
              "#7201a8"
             ],
             [
              0.3333333333333333,
              "#9c179e"
             ],
             [
              0.4444444444444444,
              "#bd3786"
             ],
             [
              0.5555555555555556,
              "#d8576b"
             ],
             [
              0.6666666666666666,
              "#ed7953"
             ],
             [
              0.7777777777777778,
              "#fb9f3a"
             ],
             [
              0.8888888888888888,
              "#fdca26"
             ],
             [
              1,
              "#f0f921"
             ]
            ]
           }
          ],
          "mesh3d":[
           {
            "type":"mesh3d",
            "colorbar":{
             "outlinewidth":0,
             "ticks":""
            }
           }
          ],
          "scatter":[
           {
            "fillpattern":{
             "fillmode":"overlay",
             "size":10,
             "solidity":0.2
            },
            "type":"scatter"
           }
          ],
          "parcoords":[
           {
            "type":"parcoords",
            "line":{
             "colorbar":{
              "outlinewidth":0,
              "ticks":""
             }
            }
           }
          ],
          "scatterpolargl":[
           {
            "type":"scatterpolargl",
            "marker":{
             "colorbar":{
              "outlinewidth":0,
              "ticks":""
             }
            }
           }
          ],
          "bar":[
           {
            "error_x":{
             "color":"#2a3f5f"
            },
            "error_y":{
             "color":"#2a3f5f"
            },
            "marker":{
             "line":{
              "color":"#E5ECF6",
              "width":0.5
             },
             "pattern":{
              "fillmode":"overlay",
              "size":10,
              "solidity":0.2
             }
            },
            "type":"bar"
           }
          ],
          "scattergeo":[
           {
            "type":"scattergeo",
            "marker":{
             "colorbar":{
              "outlinewidth":0,
              "ticks":""
             }
            }
           }
          ],
          "scatterpolar":[
           {
            "type":"scatterpolar",
            "marker":{
             "colorbar":{
              "outlinewidth":0,
              "ticks":""
             }
            }
           }
          ],
          "histogram":[
           {
            "marker":{
             "pattern":{
              "fillmode":"overlay",
              "size":10,
              "solidity":0.2
             }
            },
            "type":"histogram"
           }
          ],
          "scattergl":[
           {
            "type":"scattergl",
            "marker":{
             "colorbar":{
              "outlinewidth":0,
              "ticks":""
             }
            }
           }
          ],
          "scatter3d":[
           {
            "type":"scatter3d",
            "line":{
             "colorbar":{
              "outlinewidth":0,
              "ticks":""
             }
            },
            "marker":{
             "colorbar":{
              "outlinewidth":0,
              "ticks":""
             }
            }
           }
          ],
          "scattermapbox":[
           {
            "type":"scattermapbox",
            "marker":{
             "colorbar":{
              "outlinewidth":0,
              "ticks":""
             }
            }
           }
          ],
          "scatterternary":[
           {
            "type":"scatterternary",
            "marker":{
             "colorbar":{
              "outlinewidth":0,
              "ticks":""
             }
            }
           }
          ],
          "scattercarpet":[
           {
            "type":"scattercarpet",
            "marker":{
             "colorbar":{
              "outlinewidth":0,
              "ticks":""
             }
            }
           }
          ],
          "carpet":[
           {
            "aaxis":{
             "endlinecolor":"#2a3f5f",
             "gridcolor":"white",
             "linecolor":"white",
             "minorgridcolor":"white",
             "startlinecolor":"#2a3f5f"
            },
            "baxis":{
             "endlinecolor":"#2a3f5f",
             "gridcolor":"white",
             "linecolor":"white",
             "minorgridcolor":"white",
             "startlinecolor":"#2a3f5f"
            },
            "type":"carpet"
           }
          ],
          "table":[
           {
            "cells":{
             "fill":{
              "color":"#EBF0F8"
             },
             "line":{
              "color":"white"
             }
            },
            "header":{
             "fill":{
              "color":"#C8D4E3"
             },
             "line":{
              "color":"white"
             }
            },
            "type":"table"
           }
          ],
          "barpolar":[
           {
            "marker":{
             "line":{
              "color":"#E5ECF6",
              "width":0.5
             },
             "pattern":{
              "fillmode":"overlay",
              "size":10,
              "solidity":0.2
             }
            },
            "type":"barpolar"
           }
          ],
          "pie":[
           {
            "automargin":true,
            "type":"pie"
           }
          ]
         },
         "layout":{
          "autotypenumbers":"strict",
          "colorway":[
           "#636efa",
           "#EF553B",
           "#00cc96",
           "#ab63fa",
           "#FFA15A",
           "#19d3f3",
           "#FF6692",
           "#B6E880",
           "#FF97FF",
           "#FECB52"
          ],
          "font":{
           "color":"#2a3f5f"
          },
          "hovermode":"closest",
          "hoverlabel":{
           "align":"left"
          },
          "paper_bgcolor":"white",
          "plot_bgcolor":"#E5ECF6",
          "polar":{
           "bgcolor":"#E5ECF6",
           "angularaxis":{
            "gridcolor":"white",
            "linecolor":"white",
            "ticks":""
           },
           "radialaxis":{
            "gridcolor":"white",
            "linecolor":"white",
            "ticks":""
           }
          },
          "ternary":{
           "bgcolor":"#E5ECF6",
           "aaxis":{
            "gridcolor":"white",
            "linecolor":"white",
            "ticks":""
           },
           "baxis":{
            "gridcolor":"white",
            "linecolor":"white",
            "ticks":""
           },
           "caxis":{
            "gridcolor":"white",
            "linecolor":"white",
            "ticks":""
           }
          },
          "coloraxis":{
           "colorbar":{
            "outlinewidth":0,
            "ticks":""
           }
          },
          "colorscale":{
           "sequential":[
            [
             0,
             "#0d0887"
            ],
            [
             0.1111111111111111,
             "#46039f"
            ],
            [
             0.2222222222222222,
             "#7201a8"
            ],
            [
             0.3333333333333333,
             "#9c179e"
            ],
            [
             0.4444444444444444,
             "#bd3786"
            ],
            [
             0.5555555555555556,
             "#d8576b"
            ],
            [
             0.6666666666666666,
             "#ed7953"
            ],
            [
             0.7777777777777778,
             "#fb9f3a"
            ],
            [
             0.8888888888888888,
             "#fdca26"
            ],
            [
             1,
             "#f0f921"
            ]
           ],
           "sequentialminus":[
            [
             0,
             "#0d0887"
            ],
            [
             0.1111111111111111,
             "#46039f"
            ],
            [
             0.2222222222222222,
             "#7201a8"
            ],
            [
             0.3333333333333333,
             "#9c179e"
            ],
            [
             0.4444444444444444,
             "#bd3786"
            ],
            [
             0.5555555555555556,
             "#d8576b"
            ],
            [
             0.6666666666666666,
             "#ed7953"
            ],
            [
             0.7777777777777778,
             "#fb9f3a"
            ],
            [
             0.8888888888888888,
             "#fdca26"
            ],
            [
             1,
             "#f0f921"
            ]
           ],
           "diverging":[
            [
             0,
             "#8e0152"
            ],
            [
             0.1,
             "#c51b7d"
            ],
            [
             0.2,
             "#de77ae"
            ],
            [
             0.3,
             "#f1b6da"
            ],
            [
             0.4,
             "#fde0ef"
            ],
            [
             0.5,
             "#f7f7f7"
            ],
            [
             0.6,
             "#e6f5d0"
            ],
            [
             0.7,
             "#b8e186"
            ],
            [
             0.8,
             "#7fbc41"
            ],
            [
             0.9,
             "#4d9221"
            ],
            [
             1,
             "#276419"
            ]
           ]
          },
          "xaxis":{
           "gridcolor":"white",
           "linecolor":"white",
           "ticks":"",
           "title":{
            "standoff":15
           },
           "zerolinecolor":"white",
           "automargin":true,
           "zerolinewidth":2
          },
          "yaxis":{
           "gridcolor":"white",
           "linecolor":"white",
           "ticks":"",
           "title":{
            "standoff":15
           },
           "zerolinecolor":"white",
           "automargin":true,
           "zerolinewidth":2
          },
          "scene":{
           "xaxis":{
            "backgroundcolor":"#E5ECF6",
            "gridcolor":"white",
            "linecolor":"white",
            "showbackground":true,
            "ticks":"",
            "zerolinecolor":"white",
            "gridwidth":2
           },
           "yaxis":{
            "backgroundcolor":"#E5ECF6",
            "gridcolor":"white",
            "linecolor":"white",
            "showbackground":true,
            "ticks":"",
            "zerolinecolor":"white",
            "gridwidth":2
           },
           "zaxis":{
            "backgroundcolor":"#E5ECF6",
            "gridcolor":"white",
            "linecolor":"white",
            "showbackground":true,
            "ticks":"",
            "zerolinecolor":"white",
            "gridwidth":2
           }
          },
          "shapedefaults":{
           "line":{
            "color":"#2a3f5f"
           }
          },
          "annotationdefaults":{
           "arrowcolor":"#2a3f5f",
           "arrowhead":0,
           "arrowwidth":1
          },
          "geo":{
           "bgcolor":"white",
           "landcolor":"#E5ECF6",
           "subunitcolor":"white",
           "showland":true,
           "showlakes":true,
           "lakecolor":"white"
          },
          "title":{
           "x":0.05
          },
          "mapbox":{
           "style":"light"
          }
         }
        },
        "legend":{
         "tracegroupgap":0
        },
        "title":{
         "text":"Rozdelenie výdavkov na jedlo"
        }
       },
       "config":{
        "plotlyServerURL":"https:\/\/plot.ly"
       }
      }
     },
     "metadata":{},
     "output_type":"display_data"
    }
   ],
   "metadata":{
    "datalore":{
     "node_id":"n7XQLrfG2QQBryCdDfBWgU",
     "type":"CODE",
     "hide_input_from_viewers":true,
     "hide_output_from_viewers":true
    }
   }
  },
  {
   "cell_type":"markdown",
   "source":[
    "# 🥧 Koláčový graf (Pie Chart) 2"
   ],
   "attachments":{},
   "metadata":{
    "datalore":{
     "node_id":"tmn9GbKlrsQoFML9nF7nif",
     "type":"MD",
     "hide_input_from_viewers":true,
     "hide_output_from_viewers":true
    }
   }
  },
  {
   "cell_type":"code",
   "source":[],
   "execution_count":21,
   "outputs":[
    {
     "data":{
      "application\/vnd.plotly.v1+json":{
       "data":[
        {
         "labels":[
          "Mäso",
          "Ovocie",
          "Zelenina",
          "Mliečne výrobky",
          "Cereálie",
          "Sladkosti"
         ],
         "name":"Všetky kategórie",
         "values":[
          300,
          150,
          120,
          200,
          80,
          100
         ],
         "type":"pie"
        }
       ],
       "layout":{
        "template":{
         "data":{
          "histogram2dcontour":[
           {
            "type":"histogram2dcontour",
            "colorbar":{
             "outlinewidth":0,
             "ticks":""
            },
            "colorscale":[
             [
              0,
              "#0d0887"
             ],
             [
              0.1111111111111111,
              "#46039f"
             ],
             [
              0.2222222222222222,
              "#7201a8"
             ],
             [
              0.3333333333333333,
              "#9c179e"
             ],
             [
              0.4444444444444444,
              "#bd3786"
             ],
             [
              0.5555555555555556,
              "#d8576b"
             ],
             [
              0.6666666666666666,
              "#ed7953"
             ],
             [
              0.7777777777777778,
              "#fb9f3a"
             ],
             [
              0.8888888888888888,
              "#fdca26"
             ],
             [
              1,
              "#f0f921"
             ]
            ]
           }
          ],
          "choropleth":[
           {
            "type":"choropleth",
            "colorbar":{
             "outlinewidth":0,
             "ticks":""
            }
           }
          ],
          "histogram2d":[
           {
            "type":"histogram2d",
            "colorbar":{
             "outlinewidth":0,
             "ticks":""
            },
            "colorscale":[
             [
              0,
              "#0d0887"
             ],
             [
              0.1111111111111111,
              "#46039f"
             ],
             [
              0.2222222222222222,
              "#7201a8"
             ],
             [
              0.3333333333333333,
              "#9c179e"
             ],
             [
              0.4444444444444444,
              "#bd3786"
             ],
             [
              0.5555555555555556,
              "#d8576b"
             ],
             [
              0.6666666666666666,
              "#ed7953"
             ],
             [
              0.7777777777777778,
              "#fb9f3a"
             ],
             [
              0.8888888888888888,
              "#fdca26"
             ],
             [
              1,
              "#f0f921"
             ]
            ]
           }
          ],
          "heatmap":[
           {
            "type":"heatmap",
            "colorbar":{
             "outlinewidth":0,
             "ticks":""
            },
            "colorscale":[
             [
              0,
              "#0d0887"
             ],
             [
              0.1111111111111111,
              "#46039f"
             ],
             [
              0.2222222222222222,
              "#7201a8"
             ],
             [
              0.3333333333333333,
              "#9c179e"
             ],
             [
              0.4444444444444444,
              "#bd3786"
             ],
             [
              0.5555555555555556,
              "#d8576b"
             ],
             [
              0.6666666666666666,
              "#ed7953"
             ],
             [
              0.7777777777777778,
              "#fb9f3a"
             ],
             [
              0.8888888888888888,
              "#fdca26"
             ],
             [
              1,
              "#f0f921"
             ]
            ]
           }
          ],
          "heatmapgl":[
           {
            "type":"heatmapgl",
            "colorbar":{
             "outlinewidth":0,
             "ticks":""
            },
            "colorscale":[
             [
              0,
              "#0d0887"
             ],
             [
              0.1111111111111111,
              "#46039f"
             ],
             [
              0.2222222222222222,
              "#7201a8"
             ],
             [
              0.3333333333333333,
              "#9c179e"
             ],
             [
              0.4444444444444444,
              "#bd3786"
             ],
             [
              0.5555555555555556,
              "#d8576b"
             ],
             [
              0.6666666666666666,
              "#ed7953"
             ],
             [
              0.7777777777777778,
              "#fb9f3a"
             ],
             [
              0.8888888888888888,
              "#fdca26"
             ],
             [
              1,
              "#f0f921"
             ]
            ]
           }
          ],
          "contourcarpet":[
           {
            "type":"contourcarpet",
            "colorbar":{
             "outlinewidth":0,
             "ticks":""
            }
           }
          ],
          "contour":[
           {
            "type":"contour",
            "colorbar":{
             "outlinewidth":0,
             "ticks":""
            },
            "colorscale":[
             [
              0,
              "#0d0887"
             ],
             [
              0.1111111111111111,
              "#46039f"
             ],
             [
              0.2222222222222222,
              "#7201a8"
             ],
             [
              0.3333333333333333,
              "#9c179e"
             ],
             [
              0.4444444444444444,
              "#bd3786"
             ],
             [
              0.5555555555555556,
              "#d8576b"
             ],
             [
              0.6666666666666666,
              "#ed7953"
             ],
             [
              0.7777777777777778,
              "#fb9f3a"
             ],
             [
              0.8888888888888888,
              "#fdca26"
             ],
             [
              1,
              "#f0f921"
             ]
            ]
           }
          ],
          "surface":[
           {
            "type":"surface",
            "colorbar":{
             "outlinewidth":0,
             "ticks":""
            },
            "colorscale":[
             [
              0,
              "#0d0887"
             ],
             [
              0.1111111111111111,
              "#46039f"
             ],
             [
              0.2222222222222222,
              "#7201a8"
             ],
             [
              0.3333333333333333,
              "#9c179e"
             ],
             [
              0.4444444444444444,
              "#bd3786"
             ],
             [
              0.5555555555555556,
              "#d8576b"
             ],
             [
              0.6666666666666666,
              "#ed7953"
             ],
             [
              0.7777777777777778,
              "#fb9f3a"
             ],
             [
              0.8888888888888888,
              "#fdca26"
             ],
             [
              1,
              "#f0f921"
             ]
            ]
           }
          ],
          "mesh3d":[
           {
            "type":"mesh3d",
            "colorbar":{
             "outlinewidth":0,
             "ticks":""
            }
           }
          ],
          "scatter":[
           {
            "fillpattern":{
             "fillmode":"overlay",
             "size":10,
             "solidity":0.2
            },
            "type":"scatter"
           }
          ],
          "parcoords":[
           {
            "type":"parcoords",
            "line":{
             "colorbar":{
              "outlinewidth":0,
              "ticks":""
             }
            }
           }
          ],
          "scatterpolargl":[
           {
            "type":"scatterpolargl",
            "marker":{
             "colorbar":{
              "outlinewidth":0,
              "ticks":""
             }
            }
           }
          ],
          "bar":[
           {
            "error_x":{
             "color":"#2a3f5f"
            },
            "error_y":{
             "color":"#2a3f5f"
            },
            "marker":{
             "line":{
              "color":"#E5ECF6",
              "width":0.5
             },
             "pattern":{
              "fillmode":"overlay",
              "size":10,
              "solidity":0.2
             }
            },
            "type":"bar"
           }
          ],
          "scattergeo":[
           {
            "type":"scattergeo",
            "marker":{
             "colorbar":{
              "outlinewidth":0,
              "ticks":""
             }
            }
           }
          ],
          "scatterpolar":[
           {
            "type":"scatterpolar",
            "marker":{
             "colorbar":{
              "outlinewidth":0,
              "ticks":""
             }
            }
           }
          ],
          "histogram":[
           {
            "marker":{
             "pattern":{
              "fillmode":"overlay",
              "size":10,
              "solidity":0.2
             }
            },
            "type":"histogram"
           }
          ],
          "scattergl":[
           {
            "type":"scattergl",
            "marker":{
             "colorbar":{
              "outlinewidth":0,
              "ticks":""
             }
            }
           }
          ],
          "scatter3d":[
           {
            "type":"scatter3d",
            "line":{
             "colorbar":{
              "outlinewidth":0,
              "ticks":""
             }
            },
            "marker":{
             "colorbar":{
              "outlinewidth":0,
              "ticks":""
             }
            }
           }
          ],
          "scattermapbox":[
           {
            "type":"scattermapbox",
            "marker":{
             "colorbar":{
              "outlinewidth":0,
              "ticks":""
             }
            }
           }
          ],
          "scatterternary":[
           {
            "type":"scatterternary",
            "marker":{
             "colorbar":{
              "outlinewidth":0,
              "ticks":""
             }
            }
           }
          ],
          "scattercarpet":[
           {
            "type":"scattercarpet",
            "marker":{
             "colorbar":{
              "outlinewidth":0,
              "ticks":""
             }
            }
           }
          ],
          "carpet":[
           {
            "aaxis":{
             "endlinecolor":"#2a3f5f",
             "gridcolor":"white",
             "linecolor":"white",
             "minorgridcolor":"white",
             "startlinecolor":"#2a3f5f"
            },
            "baxis":{
             "endlinecolor":"#2a3f5f",
             "gridcolor":"white",
             "linecolor":"white",
             "minorgridcolor":"white",
             "startlinecolor":"#2a3f5f"
            },
            "type":"carpet"
           }
          ],
          "table":[
           {
            "cells":{
             "fill":{
              "color":"#EBF0F8"
             },
             "line":{
              "color":"white"
             }
            },
            "header":{
             "fill":{
              "color":"#C8D4E3"
             },
             "line":{
              "color":"white"
             }
            },
            "type":"table"
           }
          ],
          "barpolar":[
           {
            "marker":{
             "line":{
              "color":"#E5ECF6",
              "width":0.5
             },
             "pattern":{
              "fillmode":"overlay",
              "size":10,
              "solidity":0.2
             }
            },
            "type":"barpolar"
           }
          ],
          "pie":[
           {
            "automargin":true,
            "type":"pie"
           }
          ]
         },
         "layout":{
          "autotypenumbers":"strict",
          "colorway":[
           "#636efa",
           "#EF553B",
           "#00cc96",
           "#ab63fa",
           "#FFA15A",
           "#19d3f3",
           "#FF6692",
           "#B6E880",
           "#FF97FF",
           "#FECB52"
          ],
          "font":{
           "color":"#2a3f5f"
          },
          "hovermode":"closest",
          "hoverlabel":{
           "align":"left"
          },
          "paper_bgcolor":"white",
          "plot_bgcolor":"#E5ECF6",
          "polar":{
           "bgcolor":"#E5ECF6",
           "angularaxis":{
            "gridcolor":"white",
            "linecolor":"white",
            "ticks":""
           },
           "radialaxis":{
            "gridcolor":"white",
            "linecolor":"white",
            "ticks":""
           }
          },
          "ternary":{
           "bgcolor":"#E5ECF6",
           "aaxis":{
            "gridcolor":"white",
            "linecolor":"white",
            "ticks":""
           },
           "baxis":{
            "gridcolor":"white",
            "linecolor":"white",
            "ticks":""
           },
           "caxis":{
            "gridcolor":"white",
            "linecolor":"white",
            "ticks":""
           }
          },
          "coloraxis":{
           "colorbar":{
            "outlinewidth":0,
            "ticks":""
           }
          },
          "colorscale":{
           "sequential":[
            [
             0,
             "#0d0887"
            ],
            [
             0.1111111111111111,
             "#46039f"
            ],
            [
             0.2222222222222222,
             "#7201a8"
            ],
            [
             0.3333333333333333,
             "#9c179e"
            ],
            [
             0.4444444444444444,
             "#bd3786"
            ],
            [
             0.5555555555555556,
             "#d8576b"
            ],
            [
             0.6666666666666666,
             "#ed7953"
            ],
            [
             0.7777777777777778,
             "#fb9f3a"
            ],
            [
             0.8888888888888888,
             "#fdca26"
            ],
            [
             1,
             "#f0f921"
            ]
           ],
           "sequentialminus":[
            [
             0,
             "#0d0887"
            ],
            [
             0.1111111111111111,
             "#46039f"
            ],
            [
             0.2222222222222222,
             "#7201a8"
            ],
            [
             0.3333333333333333,
             "#9c179e"
            ],
            [
             0.4444444444444444,
             "#bd3786"
            ],
            [
             0.5555555555555556,
             "#d8576b"
            ],
            [
             0.6666666666666666,
             "#ed7953"
            ],
            [
             0.7777777777777778,
             "#fb9f3a"
            ],
            [
             0.8888888888888888,
             "#fdca26"
            ],
            [
             1,
             "#f0f921"
            ]
           ],
           "diverging":[
            [
             0,
             "#8e0152"
            ],
            [
             0.1,
             "#c51b7d"
            ],
            [
             0.2,
             "#de77ae"
            ],
            [
             0.3,
             "#f1b6da"
            ],
            [
             0.4,
             "#fde0ef"
            ],
            [
             0.5,
             "#f7f7f7"
            ],
            [
             0.6,
             "#e6f5d0"
            ],
            [
             0.7,
             "#b8e186"
            ],
            [
             0.8,
             "#7fbc41"
            ],
            [
             0.9,
             "#4d9221"
            ],
            [
             1,
             "#276419"
            ]
           ]
          },
          "xaxis":{
           "gridcolor":"white",
           "linecolor":"white",
           "ticks":"",
           "title":{
            "standoff":15
           },
           "zerolinecolor":"white",
           "automargin":true,
           "zerolinewidth":2
          },
          "yaxis":{
           "gridcolor":"white",
           "linecolor":"white",
           "ticks":"",
           "title":{
            "standoff":15
           },
           "zerolinecolor":"white",
           "automargin":true,
           "zerolinewidth":2
          },
          "scene":{
           "xaxis":{
            "backgroundcolor":"#E5ECF6",
            "gridcolor":"white",
            "linecolor":"white",
            "showbackground":true,
            "ticks":"",
            "zerolinecolor":"white",
            "gridwidth":2
           },
           "yaxis":{
            "backgroundcolor":"#E5ECF6",
            "gridcolor":"white",
            "linecolor":"white",
            "showbackground":true,
            "ticks":"",
            "zerolinecolor":"white",
            "gridwidth":2
           },
           "zaxis":{
            "backgroundcolor":"#E5ECF6",
            "gridcolor":"white",
            "linecolor":"white",
            "showbackground":true,
            "ticks":"",
            "zerolinecolor":"white",
            "gridwidth":2
           }
          },
          "shapedefaults":{
           "line":{
            "color":"#2a3f5f"
           }
          },
          "annotationdefaults":{
           "arrowcolor":"#2a3f5f",
           "arrowhead":0,
           "arrowwidth":1
          },
          "geo":{
           "bgcolor":"white",
           "landcolor":"#E5ECF6",
           "subunitcolor":"white",
           "showland":true,
           "showlakes":true,
           "lakecolor":"white"
          },
          "title":{
           "x":0.05
          },
          "mapbox":{
           "style":"light"
          }
         }
        },
        "updatemenus":[
         {
          "buttons":[
           {
            "args":[
             {
              "labels":[
               [
                "Mäso",
                "Ovocie",
                "Zelenina",
                "Mliečne výrobky",
                "Cereálie",
                "Sladkosti"
               ]
              ],
              "values":[
               [
                300,
                150,
                120,
                200,
                80,
                100
               ]
              ],
              "visible":true
             },
             {
              "title":"Všetky kategórie"
             }
            ],
            "label":"Všetky kategórie",
            "method":"update"
           },
           {
            "args":[
             {
              "labels":[
               [
                "Mäso"
               ]
              ],
              "values":[
               [
                300
               ]
              ],
              "visible":true
             },
             {
              "title":"Mäso"
             }
            ],
            "label":"Mäso",
            "method":"update"
           },
           {
            "args":[
             {
              "labels":[
               [
                "Ovocie"
               ]
              ],
              "values":[
               [
                150
               ]
              ],
              "visible":true
             },
             {
              "title":"Ovocie"
             }
            ],
            "label":"Ovocie",
            "method":"update"
           },
           {
            "args":[
             {
              "labels":[
               [
                "Zelenina"
               ]
              ],
              "values":[
               [
                120
               ]
              ],
              "visible":true
             },
             {
              "title":"Zelenina"
             }
            ],
            "label":"Zelenina",
            "method":"update"
           },
           {
            "args":[
             {
              "labels":[
               [
                "Mliečne výrobky"
               ]
              ],
              "values":[
               [
                200
               ]
              ],
              "visible":true
             },
             {
              "title":"Mliečne výrobky"
             }
            ],
            "label":"Mliečne výrobky",
            "method":"update"
           },
           {
            "args":[
             {
              "labels":[
               [
                "Cereálie"
               ]
              ],
              "values":[
               [
                80
               ]
              ],
              "visible":true
             },
             {
              "title":"Cereálie"
             }
            ],
            "label":"Cereálie",
            "method":"update"
           },
           {
            "args":[
             {
              "labels":[
               [
                "Sladkosti"
               ]
              ],
              "values":[
               [
                100
               ]
              ],
              "visible":true
             },
             {
              "title":"Sladkosti"
             }
            ],
            "label":"Sladkosti",
            "method":"update"
           }
          ],
          "direction":"down",
          "showactive":true
         }
        ]
       },
       "config":{
        "plotlyServerURL":"https:\/\/plot.ly"
       }
      }
     },
     "metadata":{},
     "output_type":"display_data"
    }
   ],
   "metadata":{
    "datalore":{
     "node_id":"YDBKYsnJojNUusT3B4h5CM",
     "type":"CODE",
     "hide_input_from_viewers":true,
     "hide_output_from_viewers":true
    }
   }
  },
  {
   "cell_type":"markdown",
   "source":[
    "# 📈 Čiarový graf (Line Chart)\n",
    "- pre trendové zobrazenie dát v čase\n",
    "\n",
    "**Použitie**:\n",
    "Čiarový graf je ideálny na zobrazenie vývoja a zmien dát v čase. Jeho najväčšou výhodou je, že umožňuje jednoducho sledovať trendy, sezónnosť, či prípadné výkyvy.\n",
    "\n",
    "**Aplikácie**:\n",
    "Časové rady: Zmena hodnôt premenných v čase, ako sú predaje, ceny akcií, návštevnosť webu.\n",
    "Porovnanie trendov: Vizualizácia viacerých časových radov na jednom grafe (napr. porovnanie predajov medzi rôznymi produktami alebo regiónmi).\n",
    "\n",
    "**Tipy**:\n",
    "Pri viacerých čiarach na jednom grafe používajte rôzne farby alebo štýly čiar (napr. bodkovanú alebo prerušovanú čiaru) pre lepšie rozlíšenie.\n",
    "Ak máte veľké množstvo dátových bodov, skúste ich redukovať alebo zoskupiť, aby graf zostal prehľadný.\n",
    "\n",
    "**Príklady**:\n",
    "Sledovanie dennej teploty počas roka.\n",
    "Vizualizácia výnosov akcií dvoch konkurenčných spoločností za posledných 10 rokov."
   ],
   "attachments":{},
   "metadata":{
    "datalore":{
     "node_id":"FZB1U6qHJZmWPxeTCdqEgm",
     "type":"MD",
     "hide_input_from_viewers":true,
     "hide_output_from_viewers":true
    }
   }
  },
  {
   "cell_type":"code",
   "source":[],
   "execution_count":22,
   "outputs":[
    {
     "data":{
      "application\/vnd.plotly.v1+json":{
       "data":[
        {
         "hovertemplate":"Hodina=%{x}<br>Teplota=%{y}<extra><\/extra>",
         "legendgroup":"",
         "line":{
          "color":"#636efa",
          "dash":"solid"
         },
         "marker":{
          "symbol":"circle"
         },
         "mode":"lines",
         "name":"",
         "orientation":"v",
         "showlegend":false,
         "x":[
          0,
          1,
          2,
          3,
          4,
          5,
          6,
          7,
          8,
          9,
          10,
          11,
          12,
          13,
          14,
          15,
          16,
          17,
          18,
          19,
          20,
          21,
          22,
          23
         ],
         "xaxis":"x",
         "y":[
          2,
          3,
          4,
          5,
          6,
          8,
          10,
          12,
          15,
          18,
          21,
          23,
          25,
          27,
          28,
          29,
          30,
          28,
          26,
          24,
          20,
          18,
          15,
          10
         ],
         "yaxis":"y",
         "type":"scatter"
        }
       ],
       "layout":{
        "template":{
         "data":{
          "histogram2dcontour":[
           {
            "type":"histogram2dcontour",
            "colorbar":{
             "outlinewidth":0,
             "ticks":""
            },
            "colorscale":[
             [
              0,
              "#0d0887"
             ],
             [
              0.1111111111111111,
              "#46039f"
             ],
             [
              0.2222222222222222,
              "#7201a8"
             ],
             [
              0.3333333333333333,
              "#9c179e"
             ],
             [
              0.4444444444444444,
              "#bd3786"
             ],
             [
              0.5555555555555556,
              "#d8576b"
             ],
             [
              0.6666666666666666,
              "#ed7953"
             ],
             [
              0.7777777777777778,
              "#fb9f3a"
             ],
             [
              0.8888888888888888,
              "#fdca26"
             ],
             [
              1,
              "#f0f921"
             ]
            ]
           }
          ],
          "choropleth":[
           {
            "type":"choropleth",
            "colorbar":{
             "outlinewidth":0,
             "ticks":""
            }
           }
          ],
          "histogram2d":[
           {
            "type":"histogram2d",
            "colorbar":{
             "outlinewidth":0,
             "ticks":""
            },
            "colorscale":[
             [
              0,
              "#0d0887"
             ],
             [
              0.1111111111111111,
              "#46039f"
             ],
             [
              0.2222222222222222,
              "#7201a8"
             ],
             [
              0.3333333333333333,
              "#9c179e"
             ],
             [
              0.4444444444444444,
              "#bd3786"
             ],
             [
              0.5555555555555556,
              "#d8576b"
             ],
             [
              0.6666666666666666,
              "#ed7953"
             ],
             [
              0.7777777777777778,
              "#fb9f3a"
             ],
             [
              0.8888888888888888,
              "#fdca26"
             ],
             [
              1,
              "#f0f921"
             ]
            ]
           }
          ],
          "heatmap":[
           {
            "type":"heatmap",
            "colorbar":{
             "outlinewidth":0,
             "ticks":""
            },
            "colorscale":[
             [
              0,
              "#0d0887"
             ],
             [
              0.1111111111111111,
              "#46039f"
             ],
             [
              0.2222222222222222,
              "#7201a8"
             ],
             [
              0.3333333333333333,
              "#9c179e"
             ],
             [
              0.4444444444444444,
              "#bd3786"
             ],
             [
              0.5555555555555556,
              "#d8576b"
             ],
             [
              0.6666666666666666,
              "#ed7953"
             ],
             [
              0.7777777777777778,
              "#fb9f3a"
             ],
             [
              0.8888888888888888,
              "#fdca26"
             ],
             [
              1,
              "#f0f921"
             ]
            ]
           }
          ],
          "heatmapgl":[
           {
            "type":"heatmapgl",
            "colorbar":{
             "outlinewidth":0,
             "ticks":""
            },
            "colorscale":[
             [
              0,
              "#0d0887"
             ],
             [
              0.1111111111111111,
              "#46039f"
             ],
             [
              0.2222222222222222,
              "#7201a8"
             ],
             [
              0.3333333333333333,
              "#9c179e"
             ],
             [
              0.4444444444444444,
              "#bd3786"
             ],
             [
              0.5555555555555556,
              "#d8576b"
             ],
             [
              0.6666666666666666,
              "#ed7953"
             ],
             [
              0.7777777777777778,
              "#fb9f3a"
             ],
             [
              0.8888888888888888,
              "#fdca26"
             ],
             [
              1,
              "#f0f921"
             ]
            ]
           }
          ],
          "contourcarpet":[
           {
            "type":"contourcarpet",
            "colorbar":{
             "outlinewidth":0,
             "ticks":""
            }
           }
          ],
          "contour":[
           {
            "type":"contour",
            "colorbar":{
             "outlinewidth":0,
             "ticks":""
            },
            "colorscale":[
             [
              0,
              "#0d0887"
             ],
             [
              0.1111111111111111,
              "#46039f"
             ],
             [
              0.2222222222222222,
              "#7201a8"
             ],
             [
              0.3333333333333333,
              "#9c179e"
             ],
             [
              0.4444444444444444,
              "#bd3786"
             ],
             [
              0.5555555555555556,
              "#d8576b"
             ],
             [
              0.6666666666666666,
              "#ed7953"
             ],
             [
              0.7777777777777778,
              "#fb9f3a"
             ],
             [
              0.8888888888888888,
              "#fdca26"
             ],
             [
              1,
              "#f0f921"
             ]
            ]
           }
          ],
          "surface":[
           {
            "type":"surface",
            "colorbar":{
             "outlinewidth":0,
             "ticks":""
            },
            "colorscale":[
             [
              0,
              "#0d0887"
             ],
             [
              0.1111111111111111,
              "#46039f"
             ],
             [
              0.2222222222222222,
              "#7201a8"
             ],
             [
              0.3333333333333333,
              "#9c179e"
             ],
             [
              0.4444444444444444,
              "#bd3786"
             ],
             [
              0.5555555555555556,
              "#d8576b"
             ],
             [
              0.6666666666666666,
              "#ed7953"
             ],
             [
              0.7777777777777778,
              "#fb9f3a"
             ],
             [
              0.8888888888888888,
              "#fdca26"
             ],
             [
              1,
              "#f0f921"
             ]
            ]
           }
          ],
          "mesh3d":[
           {
            "type":"mesh3d",
            "colorbar":{
             "outlinewidth":0,
             "ticks":""
            }
           }
          ],
          "scatter":[
           {
            "fillpattern":{
             "fillmode":"overlay",
             "size":10,
             "solidity":0.2
            },
            "type":"scatter"
           }
          ],
          "parcoords":[
           {
            "type":"parcoords",
            "line":{
             "colorbar":{
              "outlinewidth":0,
              "ticks":""
             }
            }
           }
          ],
          "scatterpolargl":[
           {
            "type":"scatterpolargl",
            "marker":{
             "colorbar":{
              "outlinewidth":0,
              "ticks":""
             }
            }
           }
          ],
          "bar":[
           {
            "error_x":{
             "color":"#2a3f5f"
            },
            "error_y":{
             "color":"#2a3f5f"
            },
            "marker":{
             "line":{
              "color":"#E5ECF6",
              "width":0.5
             },
             "pattern":{
              "fillmode":"overlay",
              "size":10,
              "solidity":0.2
             }
            },
            "type":"bar"
           }
          ],
          "scattergeo":[
           {
            "type":"scattergeo",
            "marker":{
             "colorbar":{
              "outlinewidth":0,
              "ticks":""
             }
            }
           }
          ],
          "scatterpolar":[
           {
            "type":"scatterpolar",
            "marker":{
             "colorbar":{
              "outlinewidth":0,
              "ticks":""
             }
            }
           }
          ],
          "histogram":[
           {
            "marker":{
             "pattern":{
              "fillmode":"overlay",
              "size":10,
              "solidity":0.2
             }
            },
            "type":"histogram"
           }
          ],
          "scattergl":[
           {
            "type":"scattergl",
            "marker":{
             "colorbar":{
              "outlinewidth":0,
              "ticks":""
             }
            }
           }
          ],
          "scatter3d":[
           {
            "type":"scatter3d",
            "line":{
             "colorbar":{
              "outlinewidth":0,
              "ticks":""
             }
            },
            "marker":{
             "colorbar":{
              "outlinewidth":0,
              "ticks":""
             }
            }
           }
          ],
          "scattermapbox":[
           {
            "type":"scattermapbox",
            "marker":{
             "colorbar":{
              "outlinewidth":0,
              "ticks":""
             }
            }
           }
          ],
          "scatterternary":[
           {
            "type":"scatterternary",
            "marker":{
             "colorbar":{
              "outlinewidth":0,
              "ticks":""
             }
            }
           }
          ],
          "scattercarpet":[
           {
            "type":"scattercarpet",
            "marker":{
             "colorbar":{
              "outlinewidth":0,
              "ticks":""
             }
            }
           }
          ],
          "carpet":[
           {
            "aaxis":{
             "endlinecolor":"#2a3f5f",
             "gridcolor":"white",
             "linecolor":"white",
             "minorgridcolor":"white",
             "startlinecolor":"#2a3f5f"
            },
            "baxis":{
             "endlinecolor":"#2a3f5f",
             "gridcolor":"white",
             "linecolor":"white",
             "minorgridcolor":"white",
             "startlinecolor":"#2a3f5f"
            },
            "type":"carpet"
           }
          ],
          "table":[
           {
            "cells":{
             "fill":{
              "color":"#EBF0F8"
             },
             "line":{
              "color":"white"
             }
            },
            "header":{
             "fill":{
              "color":"#C8D4E3"
             },
             "line":{
              "color":"white"
             }
            },
            "type":"table"
           }
          ],
          "barpolar":[
           {
            "marker":{
             "line":{
              "color":"#E5ECF6",
              "width":0.5
             },
             "pattern":{
              "fillmode":"overlay",
              "size":10,
              "solidity":0.2
             }
            },
            "type":"barpolar"
           }
          ],
          "pie":[
           {
            "automargin":true,
            "type":"pie"
           }
          ]
         },
         "layout":{
          "autotypenumbers":"strict",
          "colorway":[
           "#636efa",
           "#EF553B",
           "#00cc96",
           "#ab63fa",
           "#FFA15A",
           "#19d3f3",
           "#FF6692",
           "#B6E880",
           "#FF97FF",
           "#FECB52"
          ],
          "font":{
           "color":"#2a3f5f"
          },
          "hovermode":"closest",
          "hoverlabel":{
           "align":"left"
          },
          "paper_bgcolor":"white",
          "plot_bgcolor":"#E5ECF6",
          "polar":{
           "bgcolor":"#E5ECF6",
           "angularaxis":{
            "gridcolor":"white",
            "linecolor":"white",
            "ticks":""
           },
           "radialaxis":{
            "gridcolor":"white",
            "linecolor":"white",
            "ticks":""
           }
          },
          "ternary":{
           "bgcolor":"#E5ECF6",
           "aaxis":{
            "gridcolor":"white",
            "linecolor":"white",
            "ticks":""
           },
           "baxis":{
            "gridcolor":"white",
            "linecolor":"white",
            "ticks":""
           },
           "caxis":{
            "gridcolor":"white",
            "linecolor":"white",
            "ticks":""
           }
          },
          "coloraxis":{
           "colorbar":{
            "outlinewidth":0,
            "ticks":""
           }
          },
          "colorscale":{
           "sequential":[
            [
             0,
             "#0d0887"
            ],
            [
             0.1111111111111111,
             "#46039f"
            ],
            [
             0.2222222222222222,
             "#7201a8"
            ],
            [
             0.3333333333333333,
             "#9c179e"
            ],
            [
             0.4444444444444444,
             "#bd3786"
            ],
            [
             0.5555555555555556,
             "#d8576b"
            ],
            [
             0.6666666666666666,
             "#ed7953"
            ],
            [
             0.7777777777777778,
             "#fb9f3a"
            ],
            [
             0.8888888888888888,
             "#fdca26"
            ],
            [
             1,
             "#f0f921"
            ]
           ],
           "sequentialminus":[
            [
             0,
             "#0d0887"
            ],
            [
             0.1111111111111111,
             "#46039f"
            ],
            [
             0.2222222222222222,
             "#7201a8"
            ],
            [
             0.3333333333333333,
             "#9c179e"
            ],
            [
             0.4444444444444444,
             "#bd3786"
            ],
            [
             0.5555555555555556,
             "#d8576b"
            ],
            [
             0.6666666666666666,
             "#ed7953"
            ],
            [
             0.7777777777777778,
             "#fb9f3a"
            ],
            [
             0.8888888888888888,
             "#fdca26"
            ],
            [
             1,
             "#f0f921"
            ]
           ],
           "diverging":[
            [
             0,
             "#8e0152"
            ],
            [
             0.1,
             "#c51b7d"
            ],
            [
             0.2,
             "#de77ae"
            ],
            [
             0.3,
             "#f1b6da"
            ],
            [
             0.4,
             "#fde0ef"
            ],
            [
             0.5,
             "#f7f7f7"
            ],
            [
             0.6,
             "#e6f5d0"
            ],
            [
             0.7,
             "#b8e186"
            ],
            [
             0.8,
             "#7fbc41"
            ],
            [
             0.9,
             "#4d9221"
            ],
            [
             1,
             "#276419"
            ]
           ]
          },
          "xaxis":{
           "gridcolor":"white",
           "linecolor":"white",
           "ticks":"",
           "title":{
            "standoff":15
           },
           "zerolinecolor":"white",
           "automargin":true,
           "zerolinewidth":2
          },
          "yaxis":{
           "gridcolor":"white",
           "linecolor":"white",
           "ticks":"",
           "title":{
            "standoff":15
           },
           "zerolinecolor":"white",
           "automargin":true,
           "zerolinewidth":2
          },
          "scene":{
           "xaxis":{
            "backgroundcolor":"#E5ECF6",
            "gridcolor":"white",
            "linecolor":"white",
            "showbackground":true,
            "ticks":"",
            "zerolinecolor":"white",
            "gridwidth":2
           },
           "yaxis":{
            "backgroundcolor":"#E5ECF6",
            "gridcolor":"white",
            "linecolor":"white",
            "showbackground":true,
            "ticks":"",
            "zerolinecolor":"white",
            "gridwidth":2
           },
           "zaxis":{
            "backgroundcolor":"#E5ECF6",
            "gridcolor":"white",
            "linecolor":"white",
            "showbackground":true,
            "ticks":"",
            "zerolinecolor":"white",
            "gridwidth":2
           }
          },
          "shapedefaults":{
           "line":{
            "color":"#2a3f5f"
           }
          },
          "annotationdefaults":{
           "arrowcolor":"#2a3f5f",
           "arrowhead":0,
           "arrowwidth":1
          },
          "geo":{
           "bgcolor":"white",
           "landcolor":"#E5ECF6",
           "subunitcolor":"white",
           "showland":true,
           "showlakes":true,
           "lakecolor":"white"
          },
          "title":{
           "x":0.05
          },
          "mapbox":{
           "style":"light"
          }
         }
        },
        "xaxis":{
         "anchor":"y",
         "domain":[
          0,
          1
         ],
         "title":{
          "text":"Hodina"
         }
        },
        "yaxis":{
         "anchor":"x",
         "domain":[
          0,
          1
         ],
         "title":{
          "text":"Teplota"
         }
        },
        "legend":{
         "tracegroupgap":0
        },
        "title":{
         "text":"Vývoj teploty počas dňa"
        }
       },
       "config":{
        "plotlyServerURL":"https:\/\/plot.ly"
       }
      }
     },
     "metadata":{},
     "output_type":"display_data"
    }
   ],
   "metadata":{
    "datalore":{
     "node_id":"iaj53EnJz4vvSwEYwcxNAK",
     "type":"CODE",
     "hide_input_from_viewers":true,
     "hide_output_from_viewers":true
    }
   }
  },
  {
   "cell_type":"markdown",
   "source":[
    "# 📈 Čiarový graf (Line Chart) 2"
   ],
   "attachments":{},
   "metadata":{
    "datalore":{
     "node_id":"lEwrLkiYnnMWzpw2daQn1t",
     "type":"MD",
     "hide_input_from_viewers":true,
     "hide_output_from_viewers":true
    }
   }
  },
  {
   "cell_type":"code",
   "source":[],
   "execution_count":23,
   "outputs":[
    {
     "data":{
      "application\/vnd.plotly.v1+json":{
       "data":[
        {
         "mode":"lines+markers",
         "name":"Teplota",
         "x":[
          0,
          1,
          2,
          3,
          4,
          5,
          6,
          7,
          8,
          9,
          10,
          11,
          12,
          13,
          14,
          15,
          16,
          17,
          18,
          19,
          20,
          21,
          22,
          23
         ],
         "y":[
          2,
          3,
          4,
          5,
          6,
          8,
          10,
          12,
          15,
          18,
          21,
          23,
          25,
          27,
          28,
          29,
          30,
          28,
          26,
          24,
          20,
          18,
          15,
          10
         ],
         "type":"scatter"
        }
       ],
       "layout":{
        "template":{
         "data":{
          "histogram2dcontour":[
           {
            "type":"histogram2dcontour",
            "colorbar":{
             "outlinewidth":0,
             "ticks":""
            },
            "colorscale":[
             [
              0,
              "#0d0887"
             ],
             [
              0.1111111111111111,
              "#46039f"
             ],
             [
              0.2222222222222222,
              "#7201a8"
             ],
             [
              0.3333333333333333,
              "#9c179e"
             ],
             [
              0.4444444444444444,
              "#bd3786"
             ],
             [
              0.5555555555555556,
              "#d8576b"
             ],
             [
              0.6666666666666666,
              "#ed7953"
             ],
             [
              0.7777777777777778,
              "#fb9f3a"
             ],
             [
              0.8888888888888888,
              "#fdca26"
             ],
             [
              1,
              "#f0f921"
             ]
            ]
           }
          ],
          "choropleth":[
           {
            "type":"choropleth",
            "colorbar":{
             "outlinewidth":0,
             "ticks":""
            }
           }
          ],
          "histogram2d":[
           {
            "type":"histogram2d",
            "colorbar":{
             "outlinewidth":0,
             "ticks":""
            },
            "colorscale":[
             [
              0,
              "#0d0887"
             ],
             [
              0.1111111111111111,
              "#46039f"
             ],
             [
              0.2222222222222222,
              "#7201a8"
             ],
             [
              0.3333333333333333,
              "#9c179e"
             ],
             [
              0.4444444444444444,
              "#bd3786"
             ],
             [
              0.5555555555555556,
              "#d8576b"
             ],
             [
              0.6666666666666666,
              "#ed7953"
             ],
             [
              0.7777777777777778,
              "#fb9f3a"
             ],
             [
              0.8888888888888888,
              "#fdca26"
             ],
             [
              1,
              "#f0f921"
             ]
            ]
           }
          ],
          "heatmap":[
           {
            "type":"heatmap",
            "colorbar":{
             "outlinewidth":0,
             "ticks":""
            },
            "colorscale":[
             [
              0,
              "#0d0887"
             ],
             [
              0.1111111111111111,
              "#46039f"
             ],
             [
              0.2222222222222222,
              "#7201a8"
             ],
             [
              0.3333333333333333,
              "#9c179e"
             ],
             [
              0.4444444444444444,
              "#bd3786"
             ],
             [
              0.5555555555555556,
              "#d8576b"
             ],
             [
              0.6666666666666666,
              "#ed7953"
             ],
             [
              0.7777777777777778,
              "#fb9f3a"
             ],
             [
              0.8888888888888888,
              "#fdca26"
             ],
             [
              1,
              "#f0f921"
             ]
            ]
           }
          ],
          "heatmapgl":[
           {
            "type":"heatmapgl",
            "colorbar":{
             "outlinewidth":0,
             "ticks":""
            },
            "colorscale":[
             [
              0,
              "#0d0887"
             ],
             [
              0.1111111111111111,
              "#46039f"
             ],
             [
              0.2222222222222222,
              "#7201a8"
             ],
             [
              0.3333333333333333,
              "#9c179e"
             ],
             [
              0.4444444444444444,
              "#bd3786"
             ],
             [
              0.5555555555555556,
              "#d8576b"
             ],
             [
              0.6666666666666666,
              "#ed7953"
             ],
             [
              0.7777777777777778,
              "#fb9f3a"
             ],
             [
              0.8888888888888888,
              "#fdca26"
             ],
             [
              1,
              "#f0f921"
             ]
            ]
           }
          ],
          "contourcarpet":[
           {
            "type":"contourcarpet",
            "colorbar":{
             "outlinewidth":0,
             "ticks":""
            }
           }
          ],
          "contour":[
           {
            "type":"contour",
            "colorbar":{
             "outlinewidth":0,
             "ticks":""
            },
            "colorscale":[
             [
              0,
              "#0d0887"
             ],
             [
              0.1111111111111111,
              "#46039f"
             ],
             [
              0.2222222222222222,
              "#7201a8"
             ],
             [
              0.3333333333333333,
              "#9c179e"
             ],
             [
              0.4444444444444444,
              "#bd3786"
             ],
             [
              0.5555555555555556,
              "#d8576b"
             ],
             [
              0.6666666666666666,
              "#ed7953"
             ],
             [
              0.7777777777777778,
              "#fb9f3a"
             ],
             [
              0.8888888888888888,
              "#fdca26"
             ],
             [
              1,
              "#f0f921"
             ]
            ]
           }
          ],
          "surface":[
           {
            "type":"surface",
            "colorbar":{
             "outlinewidth":0,
             "ticks":""
            },
            "colorscale":[
             [
              0,
              "#0d0887"
             ],
             [
              0.1111111111111111,
              "#46039f"
             ],
             [
              0.2222222222222222,
              "#7201a8"
             ],
             [
              0.3333333333333333,
              "#9c179e"
             ],
             [
              0.4444444444444444,
              "#bd3786"
             ],
             [
              0.5555555555555556,
              "#d8576b"
             ],
             [
              0.6666666666666666,
              "#ed7953"
             ],
             [
              0.7777777777777778,
              "#fb9f3a"
             ],
             [
              0.8888888888888888,
              "#fdca26"
             ],
             [
              1,
              "#f0f921"
             ]
            ]
           }
          ],
          "mesh3d":[
           {
            "type":"mesh3d",
            "colorbar":{
             "outlinewidth":0,
             "ticks":""
            }
           }
          ],
          "scatter":[
           {
            "fillpattern":{
             "fillmode":"overlay",
             "size":10,
             "solidity":0.2
            },
            "type":"scatter"
           }
          ],
          "parcoords":[
           {
            "type":"parcoords",
            "line":{
             "colorbar":{
              "outlinewidth":0,
              "ticks":""
             }
            }
           }
          ],
          "scatterpolargl":[
           {
            "type":"scatterpolargl",
            "marker":{
             "colorbar":{
              "outlinewidth":0,
              "ticks":""
             }
            }
           }
          ],
          "bar":[
           {
            "error_x":{
             "color":"#2a3f5f"
            },
            "error_y":{
             "color":"#2a3f5f"
            },
            "marker":{
             "line":{
              "color":"#E5ECF6",
              "width":0.5
             },
             "pattern":{
              "fillmode":"overlay",
              "size":10,
              "solidity":0.2
             }
            },
            "type":"bar"
           }
          ],
          "scattergeo":[
           {
            "type":"scattergeo",
            "marker":{
             "colorbar":{
              "outlinewidth":0,
              "ticks":""
             }
            }
           }
          ],
          "scatterpolar":[
           {
            "type":"scatterpolar",
            "marker":{
             "colorbar":{
              "outlinewidth":0,
              "ticks":""
             }
            }
           }
          ],
          "histogram":[
           {
            "marker":{
             "pattern":{
              "fillmode":"overlay",
              "size":10,
              "solidity":0.2
             }
            },
            "type":"histogram"
           }
          ],
          "scattergl":[
           {
            "type":"scattergl",
            "marker":{
             "colorbar":{
              "outlinewidth":0,
              "ticks":""
             }
            }
           }
          ],
          "scatter3d":[
           {
            "type":"scatter3d",
            "line":{
             "colorbar":{
              "outlinewidth":0,
              "ticks":""
             }
            },
            "marker":{
             "colorbar":{
              "outlinewidth":0,
              "ticks":""
             }
            }
           }
          ],
          "scattermapbox":[
           {
            "type":"scattermapbox",
            "marker":{
             "colorbar":{
              "outlinewidth":0,
              "ticks":""
             }
            }
           }
          ],
          "scatterternary":[
           {
            "type":"scatterternary",
            "marker":{
             "colorbar":{
              "outlinewidth":0,
              "ticks":""
             }
            }
           }
          ],
          "scattercarpet":[
           {
            "type":"scattercarpet",
            "marker":{
             "colorbar":{
              "outlinewidth":0,
              "ticks":""
             }
            }
           }
          ],
          "carpet":[
           {
            "aaxis":{
             "endlinecolor":"#2a3f5f",
             "gridcolor":"white",
             "linecolor":"white",
             "minorgridcolor":"white",
             "startlinecolor":"#2a3f5f"
            },
            "baxis":{
             "endlinecolor":"#2a3f5f",
             "gridcolor":"white",
             "linecolor":"white",
             "minorgridcolor":"white",
             "startlinecolor":"#2a3f5f"
            },
            "type":"carpet"
           }
          ],
          "table":[
           {
            "cells":{
             "fill":{
              "color":"#EBF0F8"
             },
             "line":{
              "color":"white"
             }
            },
            "header":{
             "fill":{
              "color":"#C8D4E3"
             },
             "line":{
              "color":"white"
             }
            },
            "type":"table"
           }
          ],
          "barpolar":[
           {
            "marker":{
             "line":{
              "color":"#E5ECF6",
              "width":0.5
             },
             "pattern":{
              "fillmode":"overlay",
              "size":10,
              "solidity":0.2
             }
            },
            "type":"barpolar"
           }
          ],
          "pie":[
           {
            "automargin":true,
            "type":"pie"
           }
          ]
         },
         "layout":{
          "autotypenumbers":"strict",
          "colorway":[
           "#636efa",
           "#EF553B",
           "#00cc96",
           "#ab63fa",
           "#FFA15A",
           "#19d3f3",
           "#FF6692",
           "#B6E880",
           "#FF97FF",
           "#FECB52"
          ],
          "font":{
           "color":"#2a3f5f"
          },
          "hovermode":"closest",
          "hoverlabel":{
           "align":"left"
          },
          "paper_bgcolor":"white",
          "plot_bgcolor":"#E5ECF6",
          "polar":{
           "bgcolor":"#E5ECF6",
           "angularaxis":{
            "gridcolor":"white",
            "linecolor":"white",
            "ticks":""
           },
           "radialaxis":{
            "gridcolor":"white",
            "linecolor":"white",
            "ticks":""
           }
          },
          "ternary":{
           "bgcolor":"#E5ECF6",
           "aaxis":{
            "gridcolor":"white",
            "linecolor":"white",
            "ticks":""
           },
           "baxis":{
            "gridcolor":"white",
            "linecolor":"white",
            "ticks":""
           },
           "caxis":{
            "gridcolor":"white",
            "linecolor":"white",
            "ticks":""
           }
          },
          "coloraxis":{
           "colorbar":{
            "outlinewidth":0,
            "ticks":""
           }
          },
          "colorscale":{
           "sequential":[
            [
             0,
             "#0d0887"
            ],
            [
             0.1111111111111111,
             "#46039f"
            ],
            [
             0.2222222222222222,
             "#7201a8"
            ],
            [
             0.3333333333333333,
             "#9c179e"
            ],
            [
             0.4444444444444444,
             "#bd3786"
            ],
            [
             0.5555555555555556,
             "#d8576b"
            ],
            [
             0.6666666666666666,
             "#ed7953"
            ],
            [
             0.7777777777777778,
             "#fb9f3a"
            ],
            [
             0.8888888888888888,
             "#fdca26"
            ],
            [
             1,
             "#f0f921"
            ]
           ],
           "sequentialminus":[
            [
             0,
             "#0d0887"
            ],
            [
             0.1111111111111111,
             "#46039f"
            ],
            [
             0.2222222222222222,
             "#7201a8"
            ],
            [
             0.3333333333333333,
             "#9c179e"
            ],
            [
             0.4444444444444444,
             "#bd3786"
            ],
            [
             0.5555555555555556,
             "#d8576b"
            ],
            [
             0.6666666666666666,
             "#ed7953"
            ],
            [
             0.7777777777777778,
             "#fb9f3a"
            ],
            [
             0.8888888888888888,
             "#fdca26"
            ],
            [
             1,
             "#f0f921"
            ]
           ],
           "diverging":[
            [
             0,
             "#8e0152"
            ],
            [
             0.1,
             "#c51b7d"
            ],
            [
             0.2,
             "#de77ae"
            ],
            [
             0.3,
             "#f1b6da"
            ],
            [
             0.4,
             "#fde0ef"
            ],
            [
             0.5,
             "#f7f7f7"
            ],
            [
             0.6,
             "#e6f5d0"
            ],
            [
             0.7,
             "#b8e186"
            ],
            [
             0.8,
             "#7fbc41"
            ],
            [
             0.9,
             "#4d9221"
            ],
            [
             1,
             "#276419"
            ]
           ]
          },
          "xaxis":{
           "gridcolor":"white",
           "linecolor":"white",
           "ticks":"",
           "title":{
            "standoff":15
           },
           "zerolinecolor":"white",
           "automargin":true,
           "zerolinewidth":2
          },
          "yaxis":{
           "gridcolor":"white",
           "linecolor":"white",
           "ticks":"",
           "title":{
            "standoff":15
           },
           "zerolinecolor":"white",
           "automargin":true,
           "zerolinewidth":2
          },
          "scene":{
           "xaxis":{
            "backgroundcolor":"#E5ECF6",
            "gridcolor":"white",
            "linecolor":"white",
            "showbackground":true,
            "ticks":"",
            "zerolinecolor":"white",
            "gridwidth":2
           },
           "yaxis":{
            "backgroundcolor":"#E5ECF6",
            "gridcolor":"white",
            "linecolor":"white",
            "showbackground":true,
            "ticks":"",
            "zerolinecolor":"white",
            "gridwidth":2
           },
           "zaxis":{
            "backgroundcolor":"#E5ECF6",
            "gridcolor":"white",
            "linecolor":"white",
            "showbackground":true,
            "ticks":"",
            "zerolinecolor":"white",
            "gridwidth":2
           }
          },
          "shapedefaults":{
           "line":{
            "color":"#2a3f5f"
           }
          },
          "annotationdefaults":{
           "arrowcolor":"#2a3f5f",
           "arrowhead":0,
           "arrowwidth":1
          },
          "geo":{
           "bgcolor":"white",
           "landcolor":"#E5ECF6",
           "subunitcolor":"white",
           "showland":true,
           "showlakes":true,
           "lakecolor":"white"
          },
          "title":{
           "x":0.05
          },
          "mapbox":{
           "style":"light"
          }
         }
        },
        "updatemenus":[
         {
          "buttons":[
           {
            "args":[
             {
              "x":[
               [
                0,
                1,
                2,
                3,
                4,
                5,
                6,
                7,
                8,
                9,
                10,
                11,
                12,
                13,
                14,
                15,
                16,
                17,
                18,
                19,
                20,
                21,
                22,
                23
               ]
              ],
              "y":[
               [
                2,
                3,
                4,
                5,
                6,
                8,
                10,
                12,
                15,
                18,
                21,
                23,
                25,
                27,
                28,
                29,
                30,
                28,
                26,
                24,
                20,
                18,
                15,
                10
               ]
              ]
             },
             {
              "title":"Teplota počas celého dňa"
             }
            ],
            "label":"Celý deň",
            "method":"update"
           },
           {
            "args":[
             {
              "x":[
               [
                0,
                1,
                2,
                3,
                4,
                5,
                6,
                7,
                8
               ]
              ],
              "y":[
               [
                2,
                3,
                4,
                5,
                6,
                8,
                10,
                12,
                15
               ]
              ]
             },
             {
              "title":"Teplota počas rána"
             }
            ],
            "label":"Ráno (0-8)",
            "method":"update"
           },
           {
            "args":[
             {
              "x":[
               [
                9,
                10,
                11,
                12,
                13,
                14,
                15,
                16
               ]
              ],
              "y":[
               [
                18,
                21,
                23,
                25,
                27,
                28,
                29,
                30
               ]
              ]
             },
             {
              "title":"Teplota počas popoludnia"
             }
            ],
            "label":"Popoludnie (9-16)",
            "method":"update"
           },
           {
            "args":[
             {
              "x":[
               [
                17,
                18,
                19,
                20,
                21,
                22,
                23
               ]
              ],
              "y":[
               [
                28,
                26,
                24,
                20,
                18,
                15,
                10
               ]
              ]
             },
             {
              "title":"Teplota počas večera"
             }
            ],
            "label":"Večer (17-23)",
            "method":"update"
           }
          ],
          "direction":"down",
          "showactive":true
         }
        ],
        "title":{
         "text":"Vývoj teploty počas dňa"
        },
        "xaxis":{
         "title":{
          "text":"Hodina"
         },
         "rangeslider":{
          "visible":true
         },
         "type":"linear"
        },
        "yaxis":{
         "title":{
          "text":"Teplota (°C)"
         }
        },
        "dragmode":"zoom",
        "hovermode":"x unified"
       },
       "config":{
        "plotlyServerURL":"https:\/\/plot.ly"
       }
      }
     },
     "metadata":{},
     "output_type":"display_data"
    }
   ],
   "metadata":{
    "datalore":{
     "node_id":"8KIkbepU3c4CQxGRq7oCFJ",
     "type":"CODE",
     "hide_input_from_viewers":true,
     "hide_output_from_viewers":true
    }
   }
  },
  {
   "cell_type":"markdown",
   "source":[
    "# 🗺️ Mapy\n",
    "- Mapy v Plotly umožňujú vytvárať interaktívne geografické vizualizácie s vrstvami bodov, čiar alebo farebnými plochami na základe geografických údajov.\n",
    "- Podporuje rôzne typy máp, ako sú chloropleth mapy, scattergeo a mapové grafy s prispôsobiteľnými prvkami.\n",
    "- Interaktívne funkcie umožňujú používateľom priblížiť, posúvať a skúmať údaje v reálnom geografickom kontexte priamo v prehliadači.\n",
    "\n",
    "Mapa slúži na zobrazenie geografických dát alebo na vizualizáciu dát v tabuľkovom formáte pomocou farebných odstupňovaní (heatmapa). Je vhodná na analýzu dát, ktoré súvisia s miestom alebo priestorom.\n",
    "\n",
    "**Aplikácie:**\n",
    "Geografické dáta: Vizualizácia dát podľa geografických regiónov, ako sú demografické údaje, predaje podľa regiónov, hustota obyvateľstva.\n",
    "Heatmapa (teplotná mapa): Zobrazenie intenzity alebo frekvencie výskytu hodnôt v tabuľkách alebo mriežkach (napr. korelácia medzi premennými, hustota výskytu udalostí).\n",
    "\n",
    "**Tipy:**\n",
    "Pre geografické mapy používajte choropleth maps, kde sú oblasti (napr. štáty, regióny) farebne odlíšené podľa hodnoty (napr. HDP, počet obyvateľov).\n",
    "Uistite sa, že farebná škála je dobre zvolená – mala by byť intuitívna a prehľadná (napr. teplé farby pre vyššie hodnoty, studené pre nižšie).\n",
    "Pre heatmapy, ktoré zobrazujú korelácie alebo vzory, používajte gradientné farebné schémy, ktoré umožnia jasne rozlíšiť nízke a vysoké hodnoty.\n",
    "\n",
    "**Príklad (geografická mapa):**\n",
    "Mapa zobrazujúca počet predajov v rôznych krajinách alebo regiónoch.\n",
    "Vizualizácia voličských preferencií v rámci krajiny.\n",
    "\n",
    "**Príklad (heatmapa):**\n",
    "Korelačná matica pre premenné vo výskume (napr. vzťahy medzi ekonomickými ukazovateľmi).\n",
    "Teplotná mapa zobrazujúca intenzitu návštevníkov na webovej stránke podľa miesta kliknutí."
   ],
   "attachments":{},
   "metadata":{
    "datalore":{
     "node_id":"zqxfCDqF0clud8wzf9KtMC",
     "type":"MD",
     "hide_input_from_viewers":true,
     "hide_output_from_viewers":true
    }
   }
  },
  {
   "cell_type":"code",
   "source":[],
   "execution_count":35,
   "outputs":[
    {
     "data":{
      "application\/vnd.plotly.v1+json":{
       "data":[
        {
         "hovertemplate":"<b>%{hovertext}<\/b><br><br>Populácia=%{marker.size}<br>Latitude=%{lat}<br>Longitude=%{lon}<extra><\/extra>",
         "hovertext":[
          "Bratislava",
          "Košice",
          "Prešov",
          "Žilina",
          "Nitra"
         ],
         "lat":[
          48.14816,
          48.71639,
          49.00169,
          49.2231,
          48.30885
         ],
         "legendgroup":"",
         "lon":[
          17.10674,
          21.26107,
          21.23943,
          18.74002,
          18.08685
         ],
         "marker":{
          "color":"#636efa",
          "size":[
           432000,
           239000,
           89000,
           82000,
           79000
          ],
          "sizemode":"area",
          "sizeref":1080
         },
         "mode":"markers",
         "name":"",
         "showlegend":false,
         "subplot":"mapbox",
         "type":"scattermapbox"
        }
       ],
       "layout":{
        "template":{
         "data":{
          "histogram2dcontour":[
           {
            "type":"histogram2dcontour",
            "colorbar":{
             "outlinewidth":0,
             "ticks":""
            },
            "colorscale":[
             [
              0,
              "#0d0887"
             ],
             [
              0.1111111111111111,
              "#46039f"
             ],
             [
              0.2222222222222222,
              "#7201a8"
             ],
             [
              0.3333333333333333,
              "#9c179e"
             ],
             [
              0.4444444444444444,
              "#bd3786"
             ],
             [
              0.5555555555555556,
              "#d8576b"
             ],
             [
              0.6666666666666666,
              "#ed7953"
             ],
             [
              0.7777777777777778,
              "#fb9f3a"
             ],
             [
              0.8888888888888888,
              "#fdca26"
             ],
             [
              1,
              "#f0f921"
             ]
            ]
           }
          ],
          "choropleth":[
           {
            "type":"choropleth",
            "colorbar":{
             "outlinewidth":0,
             "ticks":""
            }
           }
          ],
          "histogram2d":[
           {
            "type":"histogram2d",
            "colorbar":{
             "outlinewidth":0,
             "ticks":""
            },
            "colorscale":[
             [
              0,
              "#0d0887"
             ],
             [
              0.1111111111111111,
              "#46039f"
             ],
             [
              0.2222222222222222,
              "#7201a8"
             ],
             [
              0.3333333333333333,
              "#9c179e"
             ],
             [
              0.4444444444444444,
              "#bd3786"
             ],
             [
              0.5555555555555556,
              "#d8576b"
             ],
             [
              0.6666666666666666,
              "#ed7953"
             ],
             [
              0.7777777777777778,
              "#fb9f3a"
             ],
             [
              0.8888888888888888,
              "#fdca26"
             ],
             [
              1,
              "#f0f921"
             ]
            ]
           }
          ],
          "heatmap":[
           {
            "type":"heatmap",
            "colorbar":{
             "outlinewidth":0,
             "ticks":""
            },
            "colorscale":[
             [
              0,
              "#0d0887"
             ],
             [
              0.1111111111111111,
              "#46039f"
             ],
             [
              0.2222222222222222,
              "#7201a8"
             ],
             [
              0.3333333333333333,
              "#9c179e"
             ],
             [
              0.4444444444444444,
              "#bd3786"
             ],
             [
              0.5555555555555556,
              "#d8576b"
             ],
             [
              0.6666666666666666,
              "#ed7953"
             ],
             [
              0.7777777777777778,
              "#fb9f3a"
             ],
             [
              0.8888888888888888,
              "#fdca26"
             ],
             [
              1,
              "#f0f921"
             ]
            ]
           }
          ],
          "heatmapgl":[
           {
            "type":"heatmapgl",
            "colorbar":{
             "outlinewidth":0,
             "ticks":""
            },
            "colorscale":[
             [
              0,
              "#0d0887"
             ],
             [
              0.1111111111111111,
              "#46039f"
             ],
             [
              0.2222222222222222,
              "#7201a8"
             ],
             [
              0.3333333333333333,
              "#9c179e"
             ],
             [
              0.4444444444444444,
              "#bd3786"
             ],
             [
              0.5555555555555556,
              "#d8576b"
             ],
             [
              0.6666666666666666,
              "#ed7953"
             ],
             [
              0.7777777777777778,
              "#fb9f3a"
             ],
             [
              0.8888888888888888,
              "#fdca26"
             ],
             [
              1,
              "#f0f921"
             ]
            ]
           }
          ],
          "contourcarpet":[
           {
            "type":"contourcarpet",
            "colorbar":{
             "outlinewidth":0,
             "ticks":""
            }
           }
          ],
          "contour":[
           {
            "type":"contour",
            "colorbar":{
             "outlinewidth":0,
             "ticks":""
            },
            "colorscale":[
             [
              0,
              "#0d0887"
             ],
             [
              0.1111111111111111,
              "#46039f"
             ],
             [
              0.2222222222222222,
              "#7201a8"
             ],
             [
              0.3333333333333333,
              "#9c179e"
             ],
             [
              0.4444444444444444,
              "#bd3786"
             ],
             [
              0.5555555555555556,
              "#d8576b"
             ],
             [
              0.6666666666666666,
              "#ed7953"
             ],
             [
              0.7777777777777778,
              "#fb9f3a"
             ],
             [
              0.8888888888888888,
              "#fdca26"
             ],
             [
              1,
              "#f0f921"
             ]
            ]
           }
          ],
          "surface":[
           {
            "type":"surface",
            "colorbar":{
             "outlinewidth":0,
             "ticks":""
            },
            "colorscale":[
             [
              0,
              "#0d0887"
             ],
             [
              0.1111111111111111,
              "#46039f"
             ],
             [
              0.2222222222222222,
              "#7201a8"
             ],
             [
              0.3333333333333333,
              "#9c179e"
             ],
             [
              0.4444444444444444,
              "#bd3786"
             ],
             [
              0.5555555555555556,
              "#d8576b"
             ],
             [
              0.6666666666666666,
              "#ed7953"
             ],
             [
              0.7777777777777778,
              "#fb9f3a"
             ],
             [
              0.8888888888888888,
              "#fdca26"
             ],
             [
              1,
              "#f0f921"
             ]
            ]
           }
          ],
          "mesh3d":[
           {
            "type":"mesh3d",
            "colorbar":{
             "outlinewidth":0,
             "ticks":""
            }
           }
          ],
          "scatter":[
           {
            "fillpattern":{
             "fillmode":"overlay",
             "size":10,
             "solidity":0.2
            },
            "type":"scatter"
           }
          ],
          "parcoords":[
           {
            "type":"parcoords",
            "line":{
             "colorbar":{
              "outlinewidth":0,
              "ticks":""
             }
            }
           }
          ],
          "scatterpolargl":[
           {
            "type":"scatterpolargl",
            "marker":{
             "colorbar":{
              "outlinewidth":0,
              "ticks":""
             }
            }
           }
          ],
          "bar":[
           {
            "error_x":{
             "color":"#2a3f5f"
            },
            "error_y":{
             "color":"#2a3f5f"
            },
            "marker":{
             "line":{
              "color":"#E5ECF6",
              "width":0.5
             },
             "pattern":{
              "fillmode":"overlay",
              "size":10,
              "solidity":0.2
             }
            },
            "type":"bar"
           }
          ],
          "scattergeo":[
           {
            "type":"scattergeo",
            "marker":{
             "colorbar":{
              "outlinewidth":0,
              "ticks":""
             }
            }
           }
          ],
          "scatterpolar":[
           {
            "type":"scatterpolar",
            "marker":{
             "colorbar":{
              "outlinewidth":0,
              "ticks":""
             }
            }
           }
          ],
          "histogram":[
           {
            "marker":{
             "pattern":{
              "fillmode":"overlay",
              "size":10,
              "solidity":0.2
             }
            },
            "type":"histogram"
           }
          ],
          "scattergl":[
           {
            "type":"scattergl",
            "marker":{
             "colorbar":{
              "outlinewidth":0,
              "ticks":""
             }
            }
           }
          ],
          "scatter3d":[
           {
            "type":"scatter3d",
            "line":{
             "colorbar":{
              "outlinewidth":0,
              "ticks":""
             }
            },
            "marker":{
             "colorbar":{
              "outlinewidth":0,
              "ticks":""
             }
            }
           }
          ],
          "scattermapbox":[
           {
            "type":"scattermapbox",
            "marker":{
             "colorbar":{
              "outlinewidth":0,
              "ticks":""
             }
            }
           }
          ],
          "scatterternary":[
           {
            "type":"scatterternary",
            "marker":{
             "colorbar":{
              "outlinewidth":0,
              "ticks":""
             }
            }
           }
          ],
          "scattercarpet":[
           {
            "type":"scattercarpet",
            "marker":{
             "colorbar":{
              "outlinewidth":0,
              "ticks":""
             }
            }
           }
          ],
          "carpet":[
           {
            "aaxis":{
             "endlinecolor":"#2a3f5f",
             "gridcolor":"white",
             "linecolor":"white",
             "minorgridcolor":"white",
             "startlinecolor":"#2a3f5f"
            },
            "baxis":{
             "endlinecolor":"#2a3f5f",
             "gridcolor":"white",
             "linecolor":"white",
             "minorgridcolor":"white",
             "startlinecolor":"#2a3f5f"
            },
            "type":"carpet"
           }
          ],
          "table":[
           {
            "cells":{
             "fill":{
              "color":"#EBF0F8"
             },
             "line":{
              "color":"white"
             }
            },
            "header":{
             "fill":{
              "color":"#C8D4E3"
             },
             "line":{
              "color":"white"
             }
            },
            "type":"table"
           }
          ],
          "barpolar":[
           {
            "marker":{
             "line":{
              "color":"#E5ECF6",
              "width":0.5
             },
             "pattern":{
              "fillmode":"overlay",
              "size":10,
              "solidity":0.2
             }
            },
            "type":"barpolar"
           }
          ],
          "pie":[
           {
            "automargin":true,
            "type":"pie"
           }
          ]
         },
         "layout":{
          "autotypenumbers":"strict",
          "colorway":[
           "#636efa",
           "#EF553B",
           "#00cc96",
           "#ab63fa",
           "#FFA15A",
           "#19d3f3",
           "#FF6692",
           "#B6E880",
           "#FF97FF",
           "#FECB52"
          ],
          "font":{
           "color":"#2a3f5f"
          },
          "hovermode":"closest",
          "hoverlabel":{
           "align":"left"
          },
          "paper_bgcolor":"white",
          "plot_bgcolor":"#E5ECF6",
          "polar":{
           "bgcolor":"#E5ECF6",
           "angularaxis":{
            "gridcolor":"white",
            "linecolor":"white",
            "ticks":""
           },
           "radialaxis":{
            "gridcolor":"white",
            "linecolor":"white",
            "ticks":""
           }
          },
          "ternary":{
           "bgcolor":"#E5ECF6",
           "aaxis":{
            "gridcolor":"white",
            "linecolor":"white",
            "ticks":""
           },
           "baxis":{
            "gridcolor":"white",
            "linecolor":"white",
            "ticks":""
           },
           "caxis":{
            "gridcolor":"white",
            "linecolor":"white",
            "ticks":""
           }
          },
          "coloraxis":{
           "colorbar":{
            "outlinewidth":0,
            "ticks":""
           }
          },
          "colorscale":{
           "sequential":[
            [
             0,
             "#0d0887"
            ],
            [
             0.1111111111111111,
             "#46039f"
            ],
            [
             0.2222222222222222,
             "#7201a8"
            ],
            [
             0.3333333333333333,
             "#9c179e"
            ],
            [
             0.4444444444444444,
             "#bd3786"
            ],
            [
             0.5555555555555556,
             "#d8576b"
            ],
            [
             0.6666666666666666,
             "#ed7953"
            ],
            [
             0.7777777777777778,
             "#fb9f3a"
            ],
            [
             0.8888888888888888,
             "#fdca26"
            ],
            [
             1,
             "#f0f921"
            ]
           ],
           "sequentialminus":[
            [
             0,
             "#0d0887"
            ],
            [
             0.1111111111111111,
             "#46039f"
            ],
            [
             0.2222222222222222,
             "#7201a8"
            ],
            [
             0.3333333333333333,
             "#9c179e"
            ],
            [
             0.4444444444444444,
             "#bd3786"
            ],
            [
             0.5555555555555556,
             "#d8576b"
            ],
            [
             0.6666666666666666,
             "#ed7953"
            ],
            [
             0.7777777777777778,
             "#fb9f3a"
            ],
            [
             0.8888888888888888,
             "#fdca26"
            ],
            [
             1,
             "#f0f921"
            ]
           ],
           "diverging":[
            [
             0,
             "#8e0152"
            ],
            [
             0.1,
             "#c51b7d"
            ],
            [
             0.2,
             "#de77ae"
            ],
            [
             0.3,
             "#f1b6da"
            ],
            [
             0.4,
             "#fde0ef"
            ],
            [
             0.5,
             "#f7f7f7"
            ],
            [
             0.6,
             "#e6f5d0"
            ],
            [
             0.7,
             "#b8e186"
            ],
            [
             0.8,
             "#7fbc41"
            ],
            [
             0.9,
             "#4d9221"
            ],
            [
             1,
             "#276419"
            ]
           ]
          },
          "xaxis":{
           "gridcolor":"white",
           "linecolor":"white",
           "ticks":"",
           "title":{
            "standoff":15
           },
           "zerolinecolor":"white",
           "automargin":true,
           "zerolinewidth":2
          },
          "yaxis":{
           "gridcolor":"white",
           "linecolor":"white",
           "ticks":"",
           "title":{
            "standoff":15
           },
           "zerolinecolor":"white",
           "automargin":true,
           "zerolinewidth":2
          },
          "scene":{
           "xaxis":{
            "backgroundcolor":"#E5ECF6",
            "gridcolor":"white",
            "linecolor":"white",
            "showbackground":true,
            "ticks":"",
            "zerolinecolor":"white",
            "gridwidth":2
           },
           "yaxis":{
            "backgroundcolor":"#E5ECF6",
            "gridcolor":"white",
            "linecolor":"white",
            "showbackground":true,
            "ticks":"",
            "zerolinecolor":"white",
            "gridwidth":2
           },
           "zaxis":{
            "backgroundcolor":"#E5ECF6",
            "gridcolor":"white",
            "linecolor":"white",
            "showbackground":true,
            "ticks":"",
            "zerolinecolor":"white",
            "gridwidth":2
           }
          },
          "shapedefaults":{
           "line":{
            "color":"#2a3f5f"
           }
          },
          "annotationdefaults":{
           "arrowcolor":"#2a3f5f",
           "arrowhead":0,
           "arrowwidth":1
          },
          "geo":{
           "bgcolor":"white",
           "landcolor":"#E5ECF6",
           "subunitcolor":"white",
           "showland":true,
           "showlakes":true,
           "lakecolor":"white"
          },
          "title":{
           "x":0.05
          },
          "mapbox":{
           "style":"light"
          }
         }
        },
        "mapbox":{
         "domain":{
          "x":[
           0,
           1
          ],
          "y":[
           0,
           1
          ]
         },
         "center":{
          "lat":48.679638,
          "lon":19.286822
         },
         "zoom":6,
         "style":"open-street-map"
        },
        "legend":{
         "tracegroupgap":0,
         "itemsizing":"constant"
        },
        "title":{
         "text":"Populácia miest na Slovensku"
        }
       },
       "config":{
        "plotlyServerURL":"https:\/\/plot.ly"
       }
      }
     },
     "metadata":{},
     "output_type":"display_data"
    }
   ],
   "metadata":{
    "datalore":{
     "node_id":"J9mX1Ug4BZruON8lYaEJDM",
     "type":"CODE",
     "hide_input_from_viewers":true,
     "hide_output_from_viewers":true
    }
   }
  },
  {
   "cell_type":"markdown",
   "source":[
    "# 🗺️ Mapy 2"
   ],
   "attachments":{},
   "metadata":{
    "datalore":{
     "node_id":"abfDbwEYUxBIqaUOAhO0Hy",
     "type":"MD",
     "hide_input_from_viewers":true,
     "hide_output_from_viewers":true
    }
   }
  },
  {
   "cell_type":"code",
   "source":[],
   "execution_count":36,
   "outputs":[
    {
     "data":{
      "application\/vnd.plotly.v1+json":{
       "data":[
        {
         "hoverinfo":"text",
         "lat":[
          48.14816,
          48.71639,
          49.00169,
          49.2231,
          48.30885,
          48.37741,
          48.89452,
          48.73949,
          49.05827,
          49.06632
         ],
         "lon":[
          17.10674,
          21.26107,
          21.23943,
          18.74002,
          18.08685,
          17.58844,
          18.04497,
          19.14619,
          20.29753,
          18.92255
         ],
         "marker":{
          "color":[
           432000,
           239000,
           89000,
           82000,
           79000,
           65000,
           56000,
           78000,
           52000,
           54000
          ],
          "colorscale":[
           [
            0,
            "#0d0887"
           ],
           [
            0.1111111111111111,
            "#46039f"
           ],
           [
            0.2222222222222222,
            "#7201a8"
           ],
           [
            0.3333333333333333,
            "#9c179e"
           ],
           [
            0.4444444444444444,
            "#bd3786"
           ],
           [
            0.5555555555555556,
            "#d8576b"
           ],
           [
            0.6666666666666666,
            "#ed7953"
           ],
           [
            0.7777777777777778,
            "#fb9f3a"
           ],
           [
            0.8888888888888888,
            "#fdca26"
           ],
           [
            1,
            "#f0f921"
           ]
          ],
          "showscale":true,
          "size":[
           86.4,
           47.8,
           17.8,
           16.4,
           15.8,
           13,
           11.2,
           15.6,
           10.4,
           10.8
          ],
          "sizemode":"area",
          "sizeref":0.05
         },
         "mode":"markers",
         "name":"Všetky mestá",
         "text":[
          "Bratislava - Populácia: 432000",
          "Košice - Populácia: 239000",
          "Prešov - Populácia: 89000",
          "Žilina - Populácia: 82000",
          "Nitra - Populácia: 79000",
          "Trnava - Populácia: 65000",
          "Trenčín - Populácia: 56000",
          "Banská Bystrica - Populácia: 78000",
          "Poprad - Populácia: 52000",
          "Martin - Populácia: 54000"
         ],
         "visible":true,
         "type":"scattermapbox"
        },
        {
         "hoverinfo":"text",
         "lat":[
          48.14816,
          48.71639
         ],
         "lon":[
          17.10674,
          21.26107
         ],
         "marker":{
          "color":[
           432000,
           239000
          ],
          "colorscale":[
           [
            0,
            "#0d0887"
           ],
           [
            0.1111111111111111,
            "#46039f"
           ],
           [
            0.2222222222222222,
            "#7201a8"
           ],
           [
            0.3333333333333333,
            "#9c179e"
           ],
           [
            0.4444444444444444,
            "#bd3786"
           ],
           [
            0.5555555555555556,
            "#d8576b"
           ],
           [
            0.6666666666666666,
            "#ed7953"
           ],
           [
            0.7777777777777778,
            "#fb9f3a"
           ],
           [
            0.8888888888888888,
            "#fdca26"
           ],
           [
            1,
            "#f0f921"
           ]
          ],
          "showscale":false,
          "size":[
           86.4,
           47.8
          ],
          "sizemode":"area",
          "sizeref":0.05
         },
         "mode":"markers",
         "name":"Veľké mestá",
         "text":[
          "Bratislava - Populácia: 432000",
          "Košice - Populácia: 239000"
         ],
         "visible":false,
         "type":"scattermapbox"
        },
        {
         "hoverinfo":"text",
         "lat":[
          49.00169,
          49.2231,
          48.30885,
          48.37741,
          48.89452,
          48.73949,
          49.05827,
          49.06632
         ],
         "lon":[
          21.23943,
          18.74002,
          18.08685,
          17.58844,
          18.04497,
          19.14619,
          20.29753,
          18.92255
         ],
         "marker":{
          "color":[
           89000,
           82000,
           79000,
           65000,
           56000,
           78000,
           52000,
           54000
          ],
          "colorscale":[
           [
            0,
            "#0d0887"
           ],
           [
            0.1111111111111111,
            "#46039f"
           ],
           [
            0.2222222222222222,
            "#7201a8"
           ],
           [
            0.3333333333333333,
            "#9c179e"
           ],
           [
            0.4444444444444444,
            "#bd3786"
           ],
           [
            0.5555555555555556,
            "#d8576b"
           ],
           [
            0.6666666666666666,
            "#ed7953"
           ],
           [
            0.7777777777777778,
            "#fb9f3a"
           ],
           [
            0.8888888888888888,
            "#fdca26"
           ],
           [
            1,
            "#f0f921"
           ]
          ],
          "showscale":false,
          "size":[
           17.8,
           16.4,
           15.8,
           13,
           11.2,
           15.6,
           10.4,
           10.8
          ],
          "sizemode":"area",
          "sizeref":0.05
         },
         "mode":"markers",
         "name":"Stredné mestá",
         "text":[
          "Prešov - Populácia: 89000",
          "Žilina - Populácia: 82000",
          "Nitra - Populácia: 79000",
          "Trnava - Populácia: 65000",
          "Trenčín - Populácia: 56000",
          "Banská Bystrica - Populácia: 78000",
          "Poprad - Populácia: 52000",
          "Martin - Populácia: 54000"
         ],
         "visible":false,
         "type":"scattermapbox"
        }
       ],
       "layout":{
        "template":{
         "data":{
          "histogram2dcontour":[
           {
            "type":"histogram2dcontour",
            "colorbar":{
             "outlinewidth":0,
             "ticks":""
            },
            "colorscale":[
             [
              0,
              "#0d0887"
             ],
             [
              0.1111111111111111,
              "#46039f"
             ],
             [
              0.2222222222222222,
              "#7201a8"
             ],
             [
              0.3333333333333333,
              "#9c179e"
             ],
             [
              0.4444444444444444,
              "#bd3786"
             ],
             [
              0.5555555555555556,
              "#d8576b"
             ],
             [
              0.6666666666666666,
              "#ed7953"
             ],
             [
              0.7777777777777778,
              "#fb9f3a"
             ],
             [
              0.8888888888888888,
              "#fdca26"
             ],
             [
              1,
              "#f0f921"
             ]
            ]
           }
          ],
          "choropleth":[
           {
            "type":"choropleth",
            "colorbar":{
             "outlinewidth":0,
             "ticks":""
            }
           }
          ],
          "histogram2d":[
           {
            "type":"histogram2d",
            "colorbar":{
             "outlinewidth":0,
             "ticks":""
            },
            "colorscale":[
             [
              0,
              "#0d0887"
             ],
             [
              0.1111111111111111,
              "#46039f"
             ],
             [
              0.2222222222222222,
              "#7201a8"
             ],
             [
              0.3333333333333333,
              "#9c179e"
             ],
             [
              0.4444444444444444,
              "#bd3786"
             ],
             [
              0.5555555555555556,
              "#d8576b"
             ],
             [
              0.6666666666666666,
              "#ed7953"
             ],
             [
              0.7777777777777778,
              "#fb9f3a"
             ],
             [
              0.8888888888888888,
              "#fdca26"
             ],
             [
              1,
              "#f0f921"
             ]
            ]
           }
          ],
          "heatmap":[
           {
            "type":"heatmap",
            "colorbar":{
             "outlinewidth":0,
             "ticks":""
            },
            "colorscale":[
             [
              0,
              "#0d0887"
             ],
             [
              0.1111111111111111,
              "#46039f"
             ],
             [
              0.2222222222222222,
              "#7201a8"
             ],
             [
              0.3333333333333333,
              "#9c179e"
             ],
             [
              0.4444444444444444,
              "#bd3786"
             ],
             [
              0.5555555555555556,
              "#d8576b"
             ],
             [
              0.6666666666666666,
              "#ed7953"
             ],
             [
              0.7777777777777778,
              "#fb9f3a"
             ],
             [
              0.8888888888888888,
              "#fdca26"
             ],
             [
              1,
              "#f0f921"
             ]
            ]
           }
          ],
          "heatmapgl":[
           {
            "type":"heatmapgl",
            "colorbar":{
             "outlinewidth":0,
             "ticks":""
            },
            "colorscale":[
             [
              0,
              "#0d0887"
             ],
             [
              0.1111111111111111,
              "#46039f"
             ],
             [
              0.2222222222222222,
              "#7201a8"
             ],
             [
              0.3333333333333333,
              "#9c179e"
             ],
             [
              0.4444444444444444,
              "#bd3786"
             ],
             [
              0.5555555555555556,
              "#d8576b"
             ],
             [
              0.6666666666666666,
              "#ed7953"
             ],
             [
              0.7777777777777778,
              "#fb9f3a"
             ],
             [
              0.8888888888888888,
              "#fdca26"
             ],
             [
              1,
              "#f0f921"
             ]
            ]
           }
          ],
          "contourcarpet":[
           {
            "type":"contourcarpet",
            "colorbar":{
             "outlinewidth":0,
             "ticks":""
            }
           }
          ],
          "contour":[
           {
            "type":"contour",
            "colorbar":{
             "outlinewidth":0,
             "ticks":""
            },
            "colorscale":[
             [
              0,
              "#0d0887"
             ],
             [
              0.1111111111111111,
              "#46039f"
             ],
             [
              0.2222222222222222,
              "#7201a8"
             ],
             [
              0.3333333333333333,
              "#9c179e"
             ],
             [
              0.4444444444444444,
              "#bd3786"
             ],
             [
              0.5555555555555556,
              "#d8576b"
             ],
             [
              0.6666666666666666,
              "#ed7953"
             ],
             [
              0.7777777777777778,
              "#fb9f3a"
             ],
             [
              0.8888888888888888,
              "#fdca26"
             ],
             [
              1,
              "#f0f921"
             ]
            ]
           }
          ],
          "surface":[
           {
            "type":"surface",
            "colorbar":{
             "outlinewidth":0,
             "ticks":""
            },
            "colorscale":[
             [
              0,
              "#0d0887"
             ],
             [
              0.1111111111111111,
              "#46039f"
             ],
             [
              0.2222222222222222,
              "#7201a8"
             ],
             [
              0.3333333333333333,
              "#9c179e"
             ],
             [
              0.4444444444444444,
              "#bd3786"
             ],
             [
              0.5555555555555556,
              "#d8576b"
             ],
             [
              0.6666666666666666,
              "#ed7953"
             ],
             [
              0.7777777777777778,
              "#fb9f3a"
             ],
             [
              0.8888888888888888,
              "#fdca26"
             ],
             [
              1,
              "#f0f921"
             ]
            ]
           }
          ],
          "mesh3d":[
           {
            "type":"mesh3d",
            "colorbar":{
             "outlinewidth":0,
             "ticks":""
            }
           }
          ],
          "scatter":[
           {
            "fillpattern":{
             "fillmode":"overlay",
             "size":10,
             "solidity":0.2
            },
            "type":"scatter"
           }
          ],
          "parcoords":[
           {
            "type":"parcoords",
            "line":{
             "colorbar":{
              "outlinewidth":0,
              "ticks":""
             }
            }
           }
          ],
          "scatterpolargl":[
           {
            "type":"scatterpolargl",
            "marker":{
             "colorbar":{
              "outlinewidth":0,
              "ticks":""
             }
            }
           }
          ],
          "bar":[
           {
            "error_x":{
             "color":"#2a3f5f"
            },
            "error_y":{
             "color":"#2a3f5f"
            },
            "marker":{
             "line":{
              "color":"#E5ECF6",
              "width":0.5
             },
             "pattern":{
              "fillmode":"overlay",
              "size":10,
              "solidity":0.2
             }
            },
            "type":"bar"
           }
          ],
          "scattergeo":[
           {
            "type":"scattergeo",
            "marker":{
             "colorbar":{
              "outlinewidth":0,
              "ticks":""
             }
            }
           }
          ],
          "scatterpolar":[
           {
            "type":"scatterpolar",
            "marker":{
             "colorbar":{
              "outlinewidth":0,
              "ticks":""
             }
            }
           }
          ],
          "histogram":[
           {
            "marker":{
             "pattern":{
              "fillmode":"overlay",
              "size":10,
              "solidity":0.2
             }
            },
            "type":"histogram"
           }
          ],
          "scattergl":[
           {
            "type":"scattergl",
            "marker":{
             "colorbar":{
              "outlinewidth":0,
              "ticks":""
             }
            }
           }
          ],
          "scatter3d":[
           {
            "type":"scatter3d",
            "line":{
             "colorbar":{
              "outlinewidth":0,
              "ticks":""
             }
            },
            "marker":{
             "colorbar":{
              "outlinewidth":0,
              "ticks":""
             }
            }
           }
          ],
          "scattermapbox":[
           {
            "type":"scattermapbox",
            "marker":{
             "colorbar":{
              "outlinewidth":0,
              "ticks":""
             }
            }
           }
          ],
          "scatterternary":[
           {
            "type":"scatterternary",
            "marker":{
             "colorbar":{
              "outlinewidth":0,
              "ticks":""
             }
            }
           }
          ],
          "scattercarpet":[
           {
            "type":"scattercarpet",
            "marker":{
             "colorbar":{
              "outlinewidth":0,
              "ticks":""
             }
            }
           }
          ],
          "carpet":[
           {
            "aaxis":{
             "endlinecolor":"#2a3f5f",
             "gridcolor":"white",
             "linecolor":"white",
             "minorgridcolor":"white",
             "startlinecolor":"#2a3f5f"
            },
            "baxis":{
             "endlinecolor":"#2a3f5f",
             "gridcolor":"white",
             "linecolor":"white",
             "minorgridcolor":"white",
             "startlinecolor":"#2a3f5f"
            },
            "type":"carpet"
           }
          ],
          "table":[
           {
            "cells":{
             "fill":{
              "color":"#EBF0F8"
             },
             "line":{
              "color":"white"
             }
            },
            "header":{
             "fill":{
              "color":"#C8D4E3"
             },
             "line":{
              "color":"white"
             }
            },
            "type":"table"
           }
          ],
          "barpolar":[
           {
            "marker":{
             "line":{
              "color":"#E5ECF6",
              "width":0.5
             },
             "pattern":{
              "fillmode":"overlay",
              "size":10,
              "solidity":0.2
             }
            },
            "type":"barpolar"
           }
          ],
          "pie":[
           {
            "automargin":true,
            "type":"pie"
           }
          ]
         },
         "layout":{
          "autotypenumbers":"strict",
          "colorway":[
           "#636efa",
           "#EF553B",
           "#00cc96",
           "#ab63fa",
           "#FFA15A",
           "#19d3f3",
           "#FF6692",
           "#B6E880",
           "#FF97FF",
           "#FECB52"
          ],
          "font":{
           "color":"#2a3f5f"
          },
          "hovermode":"closest",
          "hoverlabel":{
           "align":"left"
          },
          "paper_bgcolor":"white",
          "plot_bgcolor":"#E5ECF6",
          "polar":{
           "bgcolor":"#E5ECF6",
           "angularaxis":{
            "gridcolor":"white",
            "linecolor":"white",
            "ticks":""
           },
           "radialaxis":{
            "gridcolor":"white",
            "linecolor":"white",
            "ticks":""
           }
          },
          "ternary":{
           "bgcolor":"#E5ECF6",
           "aaxis":{
            "gridcolor":"white",
            "linecolor":"white",
            "ticks":""
           },
           "baxis":{
            "gridcolor":"white",
            "linecolor":"white",
            "ticks":""
           },
           "caxis":{
            "gridcolor":"white",
            "linecolor":"white",
            "ticks":""
           }
          },
          "coloraxis":{
           "colorbar":{
            "outlinewidth":0,
            "ticks":""
           }
          },
          "colorscale":{
           "sequential":[
            [
             0,
             "#0d0887"
            ],
            [
             0.1111111111111111,
             "#46039f"
            ],
            [
             0.2222222222222222,
             "#7201a8"
            ],
            [
             0.3333333333333333,
             "#9c179e"
            ],
            [
             0.4444444444444444,
             "#bd3786"
            ],
            [
             0.5555555555555556,
             "#d8576b"
            ],
            [
             0.6666666666666666,
             "#ed7953"
            ],
            [
             0.7777777777777778,
             "#fb9f3a"
            ],
            [
             0.8888888888888888,
             "#fdca26"
            ],
            [
             1,
             "#f0f921"
            ]
           ],
           "sequentialminus":[
            [
             0,
             "#0d0887"
            ],
            [
             0.1111111111111111,
             "#46039f"
            ],
            [
             0.2222222222222222,
             "#7201a8"
            ],
            [
             0.3333333333333333,
             "#9c179e"
            ],
            [
             0.4444444444444444,
             "#bd3786"
            ],
            [
             0.5555555555555556,
             "#d8576b"
            ],
            [
             0.6666666666666666,
             "#ed7953"
            ],
            [
             0.7777777777777778,
             "#fb9f3a"
            ],
            [
             0.8888888888888888,
             "#fdca26"
            ],
            [
             1,
             "#f0f921"
            ]
           ],
           "diverging":[
            [
             0,
             "#8e0152"
            ],
            [
             0.1,
             "#c51b7d"
            ],
            [
             0.2,
             "#de77ae"
            ],
            [
             0.3,
             "#f1b6da"
            ],
            [
             0.4,
             "#fde0ef"
            ],
            [
             0.5,
             "#f7f7f7"
            ],
            [
             0.6,
             "#e6f5d0"
            ],
            [
             0.7,
             "#b8e186"
            ],
            [
             0.8,
             "#7fbc41"
            ],
            [
             0.9,
             "#4d9221"
            ],
            [
             1,
             "#276419"
            ]
           ]
          },
          "xaxis":{
           "gridcolor":"white",
           "linecolor":"white",
           "ticks":"",
           "title":{
            "standoff":15
           },
           "zerolinecolor":"white",
           "automargin":true,
           "zerolinewidth":2
          },
          "yaxis":{
           "gridcolor":"white",
           "linecolor":"white",
           "ticks":"",
           "title":{
            "standoff":15
           },
           "zerolinecolor":"white",
           "automargin":true,
           "zerolinewidth":2
          },
          "scene":{
           "xaxis":{
            "backgroundcolor":"#E5ECF6",
            "gridcolor":"white",
            "linecolor":"white",
            "showbackground":true,
            "ticks":"",
            "zerolinecolor":"white",
            "gridwidth":2
           },
           "yaxis":{
            "backgroundcolor":"#E5ECF6",
            "gridcolor":"white",
            "linecolor":"white",
            "showbackground":true,
            "ticks":"",
            "zerolinecolor":"white",
            "gridwidth":2
           },
           "zaxis":{
            "backgroundcolor":"#E5ECF6",
            "gridcolor":"white",
            "linecolor":"white",
            "showbackground":true,
            "ticks":"",
            "zerolinecolor":"white",
            "gridwidth":2
           }
          },
          "shapedefaults":{
           "line":{
            "color":"#2a3f5f"
           }
          },
          "annotationdefaults":{
           "arrowcolor":"#2a3f5f",
           "arrowhead":0,
           "arrowwidth":1
          },
          "geo":{
           "bgcolor":"white",
           "landcolor":"#E5ECF6",
           "subunitcolor":"white",
           "showland":true,
           "showlakes":true,
           "lakecolor":"white"
          },
          "title":{
           "x":0.05
          },
          "mapbox":{
           "style":"light"
          }
         }
        },
        "updatemenus":[
         {
          "buttons":[
           {
            "args":[
             {
              "visible":[
               true,
               false,
               false
              ]
             },
             {
              "title":"Všetky mestá"
             }
            ],
            "label":"Všetky mestá",
            "method":"update"
           },
           {
            "args":[
             {
              "visible":[
               false,
               true,
               false
              ]
             },
             {
              "title":"Veľké mestá (nad 100 000)"
             }
            ],
            "label":"Veľké mestá",
            "method":"update"
           },
           {
            "args":[
             {
              "visible":[
               false,
               false,
               true
              ]
             },
             {
              "title":"Stredné mestá (50 000 - 100 000)"
             }
            ],
            "label":"Stredné mestá",
            "method":"update"
           }
          ],
          "direction":"down",
          "showactive":true
         }
        ],
        "mapbox":{
         "center":{
          "lat":48.5,
          "lon":19
         },
         "style":"open-street-map",
         "zoom":6
        },
        "margin":{
         "r":0,
         "t":40,
         "l":0,
         "b":0
        }
       },
       "config":{
        "plotlyServerURL":"https:\/\/plot.ly"
       }
      }
     },
     "metadata":{},
     "output_type":"display_data"
    }
   ],
   "metadata":{
    "datalore":{
     "node_id":"D6wrjF6uzX7oRhwMAjcl3f",
     "type":"CODE",
     "hide_input_from_viewers":true,
     "hide_output_from_viewers":true
    }
   }
  },
  {
   "cell_type":"markdown",
   "source":[
    "# 🌐 Kombinovaný graf"
   ],
   "attachments":{},
   "metadata":{
    "datalore":{
     "node_id":"tWs8r0XlzGKmaCF2nzo4og",
     "type":"MD",
     "hide_input_from_viewers":true,
     "hide_output_from_viewers":true
    }
   }
  },
  {
   "cell_type":"code",
   "source":[],
   "execution_count":24,
   "outputs":[
    {
     "data":{
      "application\/vnd.plotly.v1+json":{
       "data":[
        {
         "name":"Stĺpcový graf",
         "x":[
          "A",
          "B",
          "C",
          "D"
         ],
         "y":[
          10,
          20,
          30,
          40
         ],
         "type":"bar",
         "xaxis":"x",
         "yaxis":"y"
        },
        {
         "labels":[
          "A",
          "B",
          "C",
          "D"
         ],
         "name":"Koláčový graf",
         "values":[
          50,
          30,
          40,
          60
         ],
         "type":"pie",
         "domain":{
          "x":[
           0.55,
           1
          ],
          "y":[
           0.625,
           1
          ]
         }
        },
        {
         "mode":"lines+markers",
         "name":"Čiarový graf",
         "x":[
          "A",
          "B",
          "C",
          "D"
         ],
         "y":[
          15,
          25,
          35,
          45
         ],
         "type":"scatter",
         "xaxis":"x2",
         "yaxis":"y2"
        },
        {
         "mode":"markers",
         "name":"Bodový graf",
         "x":[
          "A",
          "B",
          "C",
          "D"
         ],
         "y":[
          100,
          150,
          200,
          250
         ],
         "type":"scatter",
         "xaxis":"x3",
         "yaxis":"y3"
        }
       ],
       "layout":{
        "template":{
         "data":{
          "histogram2dcontour":[
           {
            "type":"histogram2dcontour",
            "colorbar":{
             "outlinewidth":0,
             "ticks":""
            },
            "colorscale":[
             [
              0,
              "#0d0887"
             ],
             [
              0.1111111111111111,
              "#46039f"
             ],
             [
              0.2222222222222222,
              "#7201a8"
             ],
             [
              0.3333333333333333,
              "#9c179e"
             ],
             [
              0.4444444444444444,
              "#bd3786"
             ],
             [
              0.5555555555555556,
              "#d8576b"
             ],
             [
              0.6666666666666666,
              "#ed7953"
             ],
             [
              0.7777777777777778,
              "#fb9f3a"
             ],
             [
              0.8888888888888888,
              "#fdca26"
             ],
             [
              1,
              "#f0f921"
             ]
            ]
           }
          ],
          "choropleth":[
           {
            "type":"choropleth",
            "colorbar":{
             "outlinewidth":0,
             "ticks":""
            }
           }
          ],
          "histogram2d":[
           {
            "type":"histogram2d",
            "colorbar":{
             "outlinewidth":0,
             "ticks":""
            },
            "colorscale":[
             [
              0,
              "#0d0887"
             ],
             [
              0.1111111111111111,
              "#46039f"
             ],
             [
              0.2222222222222222,
              "#7201a8"
             ],
             [
              0.3333333333333333,
              "#9c179e"
             ],
             [
              0.4444444444444444,
              "#bd3786"
             ],
             [
              0.5555555555555556,
              "#d8576b"
             ],
             [
              0.6666666666666666,
              "#ed7953"
             ],
             [
              0.7777777777777778,
              "#fb9f3a"
             ],
             [
              0.8888888888888888,
              "#fdca26"
             ],
             [
              1,
              "#f0f921"
             ]
            ]
           }
          ],
          "heatmap":[
           {
            "type":"heatmap",
            "colorbar":{
             "outlinewidth":0,
             "ticks":""
            },
            "colorscale":[
             [
              0,
              "#0d0887"
             ],
             [
              0.1111111111111111,
              "#46039f"
             ],
             [
              0.2222222222222222,
              "#7201a8"
             ],
             [
              0.3333333333333333,
              "#9c179e"
             ],
             [
              0.4444444444444444,
              "#bd3786"
             ],
             [
              0.5555555555555556,
              "#d8576b"
             ],
             [
              0.6666666666666666,
              "#ed7953"
             ],
             [
              0.7777777777777778,
              "#fb9f3a"
             ],
             [
              0.8888888888888888,
              "#fdca26"
             ],
             [
              1,
              "#f0f921"
             ]
            ]
           }
          ],
          "heatmapgl":[
           {
            "type":"heatmapgl",
            "colorbar":{
             "outlinewidth":0,
             "ticks":""
            },
            "colorscale":[
             [
              0,
              "#0d0887"
             ],
             [
              0.1111111111111111,
              "#46039f"
             ],
             [
              0.2222222222222222,
              "#7201a8"
             ],
             [
              0.3333333333333333,
              "#9c179e"
             ],
             [
              0.4444444444444444,
              "#bd3786"
             ],
             [
              0.5555555555555556,
              "#d8576b"
             ],
             [
              0.6666666666666666,
              "#ed7953"
             ],
             [
              0.7777777777777778,
              "#fb9f3a"
             ],
             [
              0.8888888888888888,
              "#fdca26"
             ],
             [
              1,
              "#f0f921"
             ]
            ]
           }
          ],
          "contourcarpet":[
           {
            "type":"contourcarpet",
            "colorbar":{
             "outlinewidth":0,
             "ticks":""
            }
           }
          ],
          "contour":[
           {
            "type":"contour",
            "colorbar":{
             "outlinewidth":0,
             "ticks":""
            },
            "colorscale":[
             [
              0,
              "#0d0887"
             ],
             [
              0.1111111111111111,
              "#46039f"
             ],
             [
              0.2222222222222222,
              "#7201a8"
             ],
             [
              0.3333333333333333,
              "#9c179e"
             ],
             [
              0.4444444444444444,
              "#bd3786"
             ],
             [
              0.5555555555555556,
              "#d8576b"
             ],
             [
              0.6666666666666666,
              "#ed7953"
             ],
             [
              0.7777777777777778,
              "#fb9f3a"
             ],
             [
              0.8888888888888888,
              "#fdca26"
             ],
             [
              1,
              "#f0f921"
             ]
            ]
           }
          ],
          "surface":[
           {
            "type":"surface",
            "colorbar":{
             "outlinewidth":0,
             "ticks":""
            },
            "colorscale":[
             [
              0,
              "#0d0887"
             ],
             [
              0.1111111111111111,
              "#46039f"
             ],
             [
              0.2222222222222222,
              "#7201a8"
             ],
             [
              0.3333333333333333,
              "#9c179e"
             ],
             [
              0.4444444444444444,
              "#bd3786"
             ],
             [
              0.5555555555555556,
              "#d8576b"
             ],
             [
              0.6666666666666666,
              "#ed7953"
             ],
             [
              0.7777777777777778,
              "#fb9f3a"
             ],
             [
              0.8888888888888888,
              "#fdca26"
             ],
             [
              1,
              "#f0f921"
             ]
            ]
           }
          ],
          "mesh3d":[
           {
            "type":"mesh3d",
            "colorbar":{
             "outlinewidth":0,
             "ticks":""
            }
           }
          ],
          "scatter":[
           {
            "fillpattern":{
             "fillmode":"overlay",
             "size":10,
             "solidity":0.2
            },
            "type":"scatter"
           }
          ],
          "parcoords":[
           {
            "type":"parcoords",
            "line":{
             "colorbar":{
              "outlinewidth":0,
              "ticks":""
             }
            }
           }
          ],
          "scatterpolargl":[
           {
            "type":"scatterpolargl",
            "marker":{
             "colorbar":{
              "outlinewidth":0,
              "ticks":""
             }
            }
           }
          ],
          "bar":[
           {
            "error_x":{
             "color":"#2a3f5f"
            },
            "error_y":{
             "color":"#2a3f5f"
            },
            "marker":{
             "line":{
              "color":"#E5ECF6",
              "width":0.5
             },
             "pattern":{
              "fillmode":"overlay",
              "size":10,
              "solidity":0.2
             }
            },
            "type":"bar"
           }
          ],
          "scattergeo":[
           {
            "type":"scattergeo",
            "marker":{
             "colorbar":{
              "outlinewidth":0,
              "ticks":""
             }
            }
           }
          ],
          "scatterpolar":[
           {
            "type":"scatterpolar",
            "marker":{
             "colorbar":{
              "outlinewidth":0,
              "ticks":""
             }
            }
           }
          ],
          "histogram":[
           {
            "marker":{
             "pattern":{
              "fillmode":"overlay",
              "size":10,
              "solidity":0.2
             }
            },
            "type":"histogram"
           }
          ],
          "scattergl":[
           {
            "type":"scattergl",
            "marker":{
             "colorbar":{
              "outlinewidth":0,
              "ticks":""
             }
            }
           }
          ],
          "scatter3d":[
           {
            "type":"scatter3d",
            "line":{
             "colorbar":{
              "outlinewidth":0,
              "ticks":""
             }
            },
            "marker":{
             "colorbar":{
              "outlinewidth":0,
              "ticks":""
             }
            }
           }
          ],
          "scattermapbox":[
           {
            "type":"scattermapbox",
            "marker":{
             "colorbar":{
              "outlinewidth":0,
              "ticks":""
             }
            }
           }
          ],
          "scatterternary":[
           {
            "type":"scatterternary",
            "marker":{
             "colorbar":{
              "outlinewidth":0,
              "ticks":""
             }
            }
           }
          ],
          "scattercarpet":[
           {
            "type":"scattercarpet",
            "marker":{
             "colorbar":{
              "outlinewidth":0,
              "ticks":""
             }
            }
           }
          ],
          "carpet":[
           {
            "aaxis":{
             "endlinecolor":"#2a3f5f",
             "gridcolor":"white",
             "linecolor":"white",
             "minorgridcolor":"white",
             "startlinecolor":"#2a3f5f"
            },
            "baxis":{
             "endlinecolor":"#2a3f5f",
             "gridcolor":"white",
             "linecolor":"white",
             "minorgridcolor":"white",
             "startlinecolor":"#2a3f5f"
            },
            "type":"carpet"
           }
          ],
          "table":[
           {
            "cells":{
             "fill":{
              "color":"#EBF0F8"
             },
             "line":{
              "color":"white"
             }
            },
            "header":{
             "fill":{
              "color":"#C8D4E3"
             },
             "line":{
              "color":"white"
             }
            },
            "type":"table"
           }
          ],
          "barpolar":[
           {
            "marker":{
             "line":{
              "color":"#E5ECF6",
              "width":0.5
             },
             "pattern":{
              "fillmode":"overlay",
              "size":10,
              "solidity":0.2
             }
            },
            "type":"barpolar"
           }
          ],
          "pie":[
           {
            "automargin":true,
            "type":"pie"
           }
          ]
         },
         "layout":{
          "autotypenumbers":"strict",
          "colorway":[
           "#636efa",
           "#EF553B",
           "#00cc96",
           "#ab63fa",
           "#FFA15A",
           "#19d3f3",
           "#FF6692",
           "#B6E880",
           "#FF97FF",
           "#FECB52"
          ],
          "font":{
           "color":"#2a3f5f"
          },
          "hovermode":"closest",
          "hoverlabel":{
           "align":"left"
          },
          "paper_bgcolor":"white",
          "plot_bgcolor":"#E5ECF6",
          "polar":{
           "bgcolor":"#E5ECF6",
           "angularaxis":{
            "gridcolor":"white",
            "linecolor":"white",
            "ticks":""
           },
           "radialaxis":{
            "gridcolor":"white",
            "linecolor":"white",
            "ticks":""
           }
          },
          "ternary":{
           "bgcolor":"#E5ECF6",
           "aaxis":{
            "gridcolor":"white",
            "linecolor":"white",
            "ticks":""
           },
           "baxis":{
            "gridcolor":"white",
            "linecolor":"white",
            "ticks":""
           },
           "caxis":{
            "gridcolor":"white",
            "linecolor":"white",
            "ticks":""
           }
          },
          "coloraxis":{
           "colorbar":{
            "outlinewidth":0,
            "ticks":""
           }
          },
          "colorscale":{
           "sequential":[
            [
             0,
             "#0d0887"
            ],
            [
             0.1111111111111111,
             "#46039f"
            ],
            [
             0.2222222222222222,
             "#7201a8"
            ],
            [
             0.3333333333333333,
             "#9c179e"
            ],
            [
             0.4444444444444444,
             "#bd3786"
            ],
            [
             0.5555555555555556,
             "#d8576b"
            ],
            [
             0.6666666666666666,
             "#ed7953"
            ],
            [
             0.7777777777777778,
             "#fb9f3a"
            ],
            [
             0.8888888888888888,
             "#fdca26"
            ],
            [
             1,
             "#f0f921"
            ]
           ],
           "sequentialminus":[
            [
             0,
             "#0d0887"
            ],
            [
             0.1111111111111111,
             "#46039f"
            ],
            [
             0.2222222222222222,
             "#7201a8"
            ],
            [
             0.3333333333333333,
             "#9c179e"
            ],
            [
             0.4444444444444444,
             "#bd3786"
            ],
            [
             0.5555555555555556,
             "#d8576b"
            ],
            [
             0.6666666666666666,
             "#ed7953"
            ],
            [
             0.7777777777777778,
             "#fb9f3a"
            ],
            [
             0.8888888888888888,
             "#fdca26"
            ],
            [
             1,
             "#f0f921"
            ]
           ],
           "diverging":[
            [
             0,
             "#8e0152"
            ],
            [
             0.1,
             "#c51b7d"
            ],
            [
             0.2,
             "#de77ae"
            ],
            [
             0.3,
             "#f1b6da"
            ],
            [
             0.4,
             "#fde0ef"
            ],
            [
             0.5,
             "#f7f7f7"
            ],
            [
             0.6,
             "#e6f5d0"
            ],
            [
             0.7,
             "#b8e186"
            ],
            [
             0.8,
             "#7fbc41"
            ],
            [
             0.9,
             "#4d9221"
            ],
            [
             1,
             "#276419"
            ]
           ]
          },
          "xaxis":{
           "gridcolor":"white",
           "linecolor":"white",
           "ticks":"",
           "title":{
            "standoff":15
           },
           "zerolinecolor":"white",
           "automargin":true,
           "zerolinewidth":2
          },
          "yaxis":{
           "gridcolor":"white",
           "linecolor":"white",
           "ticks":"",
           "title":{
            "standoff":15
           },
           "zerolinecolor":"white",
           "automargin":true,
           "zerolinewidth":2
          },
          "scene":{
           "xaxis":{
            "backgroundcolor":"#E5ECF6",
            "gridcolor":"white",
            "linecolor":"white",
            "showbackground":true,
            "ticks":"",
            "zerolinecolor":"white",
            "gridwidth":2
           },
           "yaxis":{
            "backgroundcolor":"#E5ECF6",
            "gridcolor":"white",
            "linecolor":"white",
            "showbackground":true,
            "ticks":"",
            "zerolinecolor":"white",
            "gridwidth":2
           },
           "zaxis":{
            "backgroundcolor":"#E5ECF6",
            "gridcolor":"white",
            "linecolor":"white",
            "showbackground":true,
            "ticks":"",
            "zerolinecolor":"white",
            "gridwidth":2
           }
          },
          "shapedefaults":{
           "line":{
            "color":"#2a3f5f"
           }
          },
          "annotationdefaults":{
           "arrowcolor":"#2a3f5f",
           "arrowhead":0,
           "arrowwidth":1
          },
          "geo":{
           "bgcolor":"white",
           "landcolor":"#E5ECF6",
           "subunitcolor":"white",
           "showland":true,
           "showlakes":true,
           "lakecolor":"white"
          },
          "title":{
           "x":0.05
          },
          "mapbox":{
           "style":"light"
          }
         }
        },
        "xaxis":{
         "anchor":"y",
         "domain":[
          0,
          0.45
         ]
        },
        "yaxis":{
         "anchor":"x",
         "domain":[
          0.625,
          1
         ]
        },
        "xaxis2":{
         "anchor":"y2",
         "domain":[
          0,
          0.45
         ]
        },
        "yaxis2":{
         "anchor":"x2",
         "domain":[
          0,
          0.375
         ]
        },
        "xaxis3":{
         "anchor":"y3",
         "domain":[
          0.55,
          1
         ]
        },
        "yaxis3":{
         "anchor":"x3",
         "domain":[
          0,
          0.375
         ]
        },
        "annotations":[
         {
          "font":{
           "size":16
          },
          "showarrow":false,
          "text":"Stĺpcový graf",
          "x":0.225,
          "xanchor":"center",
          "xref":"paper",
          "y":1,
          "yanchor":"bottom",
          "yref":"paper"
         },
         {
          "font":{
           "size":16
          },
          "showarrow":false,
          "text":"Koláčový graf",
          "x":0.775,
          "xanchor":"center",
          "xref":"paper",
          "y":1,
          "yanchor":"bottom",
          "yref":"paper"
         },
         {
          "font":{
           "size":16
          },
          "showarrow":false,
          "text":"Čiarový graf",
          "x":0.225,
          "xanchor":"center",
          "xref":"paper",
          "y":0.375,
          "yanchor":"bottom",
          "yref":"paper"
         },
         {
          "font":{
           "size":16
          },
          "showarrow":false,
          "text":"Bodový graf",
          "x":0.775,
          "xanchor":"center",
          "xref":"paper",
          "y":0.375,
          "yanchor":"bottom",
          "yref":"paper"
         }
        ],
        "title":{
         "text":"Interaktívny Dashboard so Štyrmi Grafmi"
        },
        "height":800,
        "showlegend":false
       },
       "config":{
        "plotlyServerURL":"https:\/\/plot.ly"
       }
      }
     },
     "metadata":{},
     "output_type":"display_data"
    }
   ],
   "metadata":{
    "datalore":{
     "node_id":"AcjP47GY6Dqv1ye9E4jJwL",
     "type":"CODE",
     "hide_input_from_viewers":true,
     "hide_output_from_viewers":true
    }
   }
  },
  {
   "cell_type":"markdown",
   "source":[
    "# Plotly Príklady"
   ],
   "attachments":{},
   "metadata":{
    "datalore":{
     "node_id":"Plotly Príklady",
     "type":"MD",
     "hide_input_from_viewers":false,
     "hide_output_from_viewers":false,
     "sheet_delimiter":true
    }
   }
  },
  {
   "cell_type":"markdown",
   "source":[
    "# Plotly \n",
    "- Výkonná knižnica pre Python, ktorá sa používa na vytváranie interaktívnych a vizuálne atraktívnych grafikov a vizualizácií dát"
   ],
   "attachments":{},
   "metadata":{
    "datalore":{
     "node_id":"3eyieyIrQw4zfCcPbHhmAK",
     "type":"MD",
     "hide_input_from_viewers":true,
     "hide_output_from_viewers":true
    }
   }
  },
  {
   "cell_type":"markdown",
   "source":[
    "# 📈 Základný čiarový graf"
   ],
   "attachments":{},
   "metadata":{
    "datalore":{
     "node_id":"RLltO2aqbBlKJYtShNJEwS",
     "type":"MD",
     "hide_input_from_viewers":true,
     "hide_output_from_viewers":true
    }
   }
  },
  {
   "cell_type":"code",
   "source":[],
   "execution_count":21,
   "outputs":[
    {
     "data":{
      "application\/vnd.plotly.v1+json":{
       "data":[
        {
         "mode":"lines+markers",
         "x":[
          "Január",
          "Február",
          "Marec",
          "Apríl"
         ],
         "y":[
          10,
          15,
          13,
          17
         ],
         "type":"scatter"
        }
       ],
       "layout":{
        "template":{
         "data":{
          "histogram2dcontour":[
           {
            "type":"histogram2dcontour",
            "colorbar":{
             "outlinewidth":0,
             "ticks":""
            },
            "colorscale":[
             [
              0,
              "#0d0887"
             ],
             [
              0.1111111111111111,
              "#46039f"
             ],
             [
              0.2222222222222222,
              "#7201a8"
             ],
             [
              0.3333333333333333,
              "#9c179e"
             ],
             [
              0.4444444444444444,
              "#bd3786"
             ],
             [
              0.5555555555555556,
              "#d8576b"
             ],
             [
              0.6666666666666666,
              "#ed7953"
             ],
             [
              0.7777777777777778,
              "#fb9f3a"
             ],
             [
              0.8888888888888888,
              "#fdca26"
             ],
             [
              1,
              "#f0f921"
             ]
            ]
           }
          ],
          "choropleth":[
           {
            "type":"choropleth",
            "colorbar":{
             "outlinewidth":0,
             "ticks":""
            }
           }
          ],
          "histogram2d":[
           {
            "type":"histogram2d",
            "colorbar":{
             "outlinewidth":0,
             "ticks":""
            },
            "colorscale":[
             [
              0,
              "#0d0887"
             ],
             [
              0.1111111111111111,
              "#46039f"
             ],
             [
              0.2222222222222222,
              "#7201a8"
             ],
             [
              0.3333333333333333,
              "#9c179e"
             ],
             [
              0.4444444444444444,
              "#bd3786"
             ],
             [
              0.5555555555555556,
              "#d8576b"
             ],
             [
              0.6666666666666666,
              "#ed7953"
             ],
             [
              0.7777777777777778,
              "#fb9f3a"
             ],
             [
              0.8888888888888888,
              "#fdca26"
             ],
             [
              1,
              "#f0f921"
             ]
            ]
           }
          ],
          "heatmap":[
           {
            "type":"heatmap",
            "colorbar":{
             "outlinewidth":0,
             "ticks":""
            },
            "colorscale":[
             [
              0,
              "#0d0887"
             ],
             [
              0.1111111111111111,
              "#46039f"
             ],
             [
              0.2222222222222222,
              "#7201a8"
             ],
             [
              0.3333333333333333,
              "#9c179e"
             ],
             [
              0.4444444444444444,
              "#bd3786"
             ],
             [
              0.5555555555555556,
              "#d8576b"
             ],
             [
              0.6666666666666666,
              "#ed7953"
             ],
             [
              0.7777777777777778,
              "#fb9f3a"
             ],
             [
              0.8888888888888888,
              "#fdca26"
             ],
             [
              1,
              "#f0f921"
             ]
            ]
           }
          ],
          "heatmapgl":[
           {
            "type":"heatmapgl",
            "colorbar":{
             "outlinewidth":0,
             "ticks":""
            },
            "colorscale":[
             [
              0,
              "#0d0887"
             ],
             [
              0.1111111111111111,
              "#46039f"
             ],
             [
              0.2222222222222222,
              "#7201a8"
             ],
             [
              0.3333333333333333,
              "#9c179e"
             ],
             [
              0.4444444444444444,
              "#bd3786"
             ],
             [
              0.5555555555555556,
              "#d8576b"
             ],
             [
              0.6666666666666666,
              "#ed7953"
             ],
             [
              0.7777777777777778,
              "#fb9f3a"
             ],
             [
              0.8888888888888888,
              "#fdca26"
             ],
             [
              1,
              "#f0f921"
             ]
            ]
           }
          ],
          "contourcarpet":[
           {
            "type":"contourcarpet",
            "colorbar":{
             "outlinewidth":0,
             "ticks":""
            }
           }
          ],
          "contour":[
           {
            "type":"contour",
            "colorbar":{
             "outlinewidth":0,
             "ticks":""
            },
            "colorscale":[
             [
              0,
              "#0d0887"
             ],
             [
              0.1111111111111111,
              "#46039f"
             ],
             [
              0.2222222222222222,
              "#7201a8"
             ],
             [
              0.3333333333333333,
              "#9c179e"
             ],
             [
              0.4444444444444444,
              "#bd3786"
             ],
             [
              0.5555555555555556,
              "#d8576b"
             ],
             [
              0.6666666666666666,
              "#ed7953"
             ],
             [
              0.7777777777777778,
              "#fb9f3a"
             ],
             [
              0.8888888888888888,
              "#fdca26"
             ],
             [
              1,
              "#f0f921"
             ]
            ]
           }
          ],
          "surface":[
           {
            "type":"surface",
            "colorbar":{
             "outlinewidth":0,
             "ticks":""
            },
            "colorscale":[
             [
              0,
              "#0d0887"
             ],
             [
              0.1111111111111111,
              "#46039f"
             ],
             [
              0.2222222222222222,
              "#7201a8"
             ],
             [
              0.3333333333333333,
              "#9c179e"
             ],
             [
              0.4444444444444444,
              "#bd3786"
             ],
             [
              0.5555555555555556,
              "#d8576b"
             ],
             [
              0.6666666666666666,
              "#ed7953"
             ],
             [
              0.7777777777777778,
              "#fb9f3a"
             ],
             [
              0.8888888888888888,
              "#fdca26"
             ],
             [
              1,
              "#f0f921"
             ]
            ]
           }
          ],
          "mesh3d":[
           {
            "type":"mesh3d",
            "colorbar":{
             "outlinewidth":0,
             "ticks":""
            }
           }
          ],
          "scatter":[
           {
            "fillpattern":{
             "fillmode":"overlay",
             "size":10,
             "solidity":0.2
            },
            "type":"scatter"
           }
          ],
          "parcoords":[
           {
            "type":"parcoords",
            "line":{
             "colorbar":{
              "outlinewidth":0,
              "ticks":""
             }
            }
           }
          ],
          "scatterpolargl":[
           {
            "type":"scatterpolargl",
            "marker":{
             "colorbar":{
              "outlinewidth":0,
              "ticks":""
             }
            }
           }
          ],
          "bar":[
           {
            "error_x":{
             "color":"#2a3f5f"
            },
            "error_y":{
             "color":"#2a3f5f"
            },
            "marker":{
             "line":{
              "color":"#E5ECF6",
              "width":0.5
             },
             "pattern":{
              "fillmode":"overlay",
              "size":10,
              "solidity":0.2
             }
            },
            "type":"bar"
           }
          ],
          "scattergeo":[
           {
            "type":"scattergeo",
            "marker":{
             "colorbar":{
              "outlinewidth":0,
              "ticks":""
             }
            }
           }
          ],
          "scatterpolar":[
           {
            "type":"scatterpolar",
            "marker":{
             "colorbar":{
              "outlinewidth":0,
              "ticks":""
             }
            }
           }
          ],
          "histogram":[
           {
            "marker":{
             "pattern":{
              "fillmode":"overlay",
              "size":10,
              "solidity":0.2
             }
            },
            "type":"histogram"
           }
          ],
          "scattergl":[
           {
            "type":"scattergl",
            "marker":{
             "colorbar":{
              "outlinewidth":0,
              "ticks":""
             }
            }
           }
          ],
          "scatter3d":[
           {
            "type":"scatter3d",
            "line":{
             "colorbar":{
              "outlinewidth":0,
              "ticks":""
             }
            },
            "marker":{
             "colorbar":{
              "outlinewidth":0,
              "ticks":""
             }
            }
           }
          ],
          "scattermapbox":[
           {
            "type":"scattermapbox",
            "marker":{
             "colorbar":{
              "outlinewidth":0,
              "ticks":""
             }
            }
           }
          ],
          "scatterternary":[
           {
            "type":"scatterternary",
            "marker":{
             "colorbar":{
              "outlinewidth":0,
              "ticks":""
             }
            }
           }
          ],
          "scattercarpet":[
           {
            "type":"scattercarpet",
            "marker":{
             "colorbar":{
              "outlinewidth":0,
              "ticks":""
             }
            }
           }
          ],
          "carpet":[
           {
            "aaxis":{
             "endlinecolor":"#2a3f5f",
             "gridcolor":"white",
             "linecolor":"white",
             "minorgridcolor":"white",
             "startlinecolor":"#2a3f5f"
            },
            "baxis":{
             "endlinecolor":"#2a3f5f",
             "gridcolor":"white",
             "linecolor":"white",
             "minorgridcolor":"white",
             "startlinecolor":"#2a3f5f"
            },
            "type":"carpet"
           }
          ],
          "table":[
           {
            "cells":{
             "fill":{
              "color":"#EBF0F8"
             },
             "line":{
              "color":"white"
             }
            },
            "header":{
             "fill":{
              "color":"#C8D4E3"
             },
             "line":{
              "color":"white"
             }
            },
            "type":"table"
           }
          ],
          "barpolar":[
           {
            "marker":{
             "line":{
              "color":"#E5ECF6",
              "width":0.5
             },
             "pattern":{
              "fillmode":"overlay",
              "size":10,
              "solidity":0.2
             }
            },
            "type":"barpolar"
           }
          ],
          "pie":[
           {
            "automargin":true,
            "type":"pie"
           }
          ]
         },
         "layout":{
          "autotypenumbers":"strict",
          "colorway":[
           "#636efa",
           "#EF553B",
           "#00cc96",
           "#ab63fa",
           "#FFA15A",
           "#19d3f3",
           "#FF6692",
           "#B6E880",
           "#FF97FF",
           "#FECB52"
          ],
          "font":{
           "color":"#2a3f5f"
          },
          "hovermode":"closest",
          "hoverlabel":{
           "align":"left"
          },
          "paper_bgcolor":"white",
          "plot_bgcolor":"#E5ECF6",
          "polar":{
           "bgcolor":"#E5ECF6",
           "angularaxis":{
            "gridcolor":"white",
            "linecolor":"white",
            "ticks":""
           },
           "radialaxis":{
            "gridcolor":"white",
            "linecolor":"white",
            "ticks":""
           }
          },
          "ternary":{
           "bgcolor":"#E5ECF6",
           "aaxis":{
            "gridcolor":"white",
            "linecolor":"white",
            "ticks":""
           },
           "baxis":{
            "gridcolor":"white",
            "linecolor":"white",
            "ticks":""
           },
           "caxis":{
            "gridcolor":"white",
            "linecolor":"white",
            "ticks":""
           }
          },
          "coloraxis":{
           "colorbar":{
            "outlinewidth":0,
            "ticks":""
           }
          },
          "colorscale":{
           "sequential":[
            [
             0,
             "#0d0887"
            ],
            [
             0.1111111111111111,
             "#46039f"
            ],
            [
             0.2222222222222222,
             "#7201a8"
            ],
            [
             0.3333333333333333,
             "#9c179e"
            ],
            [
             0.4444444444444444,
             "#bd3786"
            ],
            [
             0.5555555555555556,
             "#d8576b"
            ],
            [
             0.6666666666666666,
             "#ed7953"
            ],
            [
             0.7777777777777778,
             "#fb9f3a"
            ],
            [
             0.8888888888888888,
             "#fdca26"
            ],
            [
             1,
             "#f0f921"
            ]
           ],
           "sequentialminus":[
            [
             0,
             "#0d0887"
            ],
            [
             0.1111111111111111,
             "#46039f"
            ],
            [
             0.2222222222222222,
             "#7201a8"
            ],
            [
             0.3333333333333333,
             "#9c179e"
            ],
            [
             0.4444444444444444,
             "#bd3786"
            ],
            [
             0.5555555555555556,
             "#d8576b"
            ],
            [
             0.6666666666666666,
             "#ed7953"
            ],
            [
             0.7777777777777778,
             "#fb9f3a"
            ],
            [
             0.8888888888888888,
             "#fdca26"
            ],
            [
             1,
             "#f0f921"
            ]
           ],
           "diverging":[
            [
             0,
             "#8e0152"
            ],
            [
             0.1,
             "#c51b7d"
            ],
            [
             0.2,
             "#de77ae"
            ],
            [
             0.3,
             "#f1b6da"
            ],
            [
             0.4,
             "#fde0ef"
            ],
            [
             0.5,
             "#f7f7f7"
            ],
            [
             0.6,
             "#e6f5d0"
            ],
            [
             0.7,
             "#b8e186"
            ],
            [
             0.8,
             "#7fbc41"
            ],
            [
             0.9,
             "#4d9221"
            ],
            [
             1,
             "#276419"
            ]
           ]
          },
          "xaxis":{
           "gridcolor":"white",
           "linecolor":"white",
           "ticks":"",
           "title":{
            "standoff":15
           },
           "zerolinecolor":"white",
           "automargin":true,
           "zerolinewidth":2
          },
          "yaxis":{
           "gridcolor":"white",
           "linecolor":"white",
           "ticks":"",
           "title":{
            "standoff":15
           },
           "zerolinecolor":"white",
           "automargin":true,
           "zerolinewidth":2
          },
          "scene":{
           "xaxis":{
            "backgroundcolor":"#E5ECF6",
            "gridcolor":"white",
            "linecolor":"white",
            "showbackground":true,
            "ticks":"",
            "zerolinecolor":"white",
            "gridwidth":2
           },
           "yaxis":{
            "backgroundcolor":"#E5ECF6",
            "gridcolor":"white",
            "linecolor":"white",
            "showbackground":true,
            "ticks":"",
            "zerolinecolor":"white",
            "gridwidth":2
           },
           "zaxis":{
            "backgroundcolor":"#E5ECF6",
            "gridcolor":"white",
            "linecolor":"white",
            "showbackground":true,
            "ticks":"",
            "zerolinecolor":"white",
            "gridwidth":2
           }
          },
          "shapedefaults":{
           "line":{
            "color":"#2a3f5f"
           }
          },
          "annotationdefaults":{
           "arrowcolor":"#2a3f5f",
           "arrowhead":0,
           "arrowwidth":1
          },
          "geo":{
           "bgcolor":"white",
           "landcolor":"#E5ECF6",
           "subunitcolor":"white",
           "showland":true,
           "showlakes":true,
           "lakecolor":"white"
          },
          "title":{
           "x":0.05
          },
          "mapbox":{
           "style":"light"
          }
         }
        }
       },
       "config":{
        "plotlyServerURL":"https:\/\/plot.ly"
       }
      }
     },
     "metadata":{},
     "output_type":"display_data"
    }
   ],
   "metadata":{
    "datalore":{
     "node_id":"JBw5UCgKmzMgRVB5zesAdP",
     "type":"CODE",
     "hide_input_from_viewers":true,
     "hide_output_from_viewers":true
    }
   }
  },
  {
   "cell_type":"markdown",
   "source":[
    "# 📊 Stĺpcový graf\n",
    "Sú užitočné na porovnávanie hodnôt medzi rôznymi kategóriami. Tento príklad ukazuje, ako vytvoriť základný stĺpcový graf."
   ],
   "attachments":{},
   "metadata":{
    "datalore":{
     "node_id":"7F3RFA8bbMClK4G7LAhgcJ",
     "type":"MD",
     "hide_input_from_viewers":true,
     "hide_output_from_viewers":true
    }
   }
  },
  {
   "cell_type":"code",
   "source":[],
   "execution_count":22,
   "outputs":[
    {
     "data":{
      "application\/vnd.plotly.v1+json":{
       "data":[
        {
         "x":[
          "Produkt A",
          "Produkt B",
          "Produkt C"
         ],
         "y":[
          20,
          34,
          30
         ],
         "type":"bar"
        }
       ],
       "layout":{
        "template":{
         "data":{
          "histogram2dcontour":[
           {
            "type":"histogram2dcontour",
            "colorbar":{
             "outlinewidth":0,
             "ticks":""
            },
            "colorscale":[
             [
              0,
              "#0d0887"
             ],
             [
              0.1111111111111111,
              "#46039f"
             ],
             [
              0.2222222222222222,
              "#7201a8"
             ],
             [
              0.3333333333333333,
              "#9c179e"
             ],
             [
              0.4444444444444444,
              "#bd3786"
             ],
             [
              0.5555555555555556,
              "#d8576b"
             ],
             [
              0.6666666666666666,
              "#ed7953"
             ],
             [
              0.7777777777777778,
              "#fb9f3a"
             ],
             [
              0.8888888888888888,
              "#fdca26"
             ],
             [
              1,
              "#f0f921"
             ]
            ]
           }
          ],
          "choropleth":[
           {
            "type":"choropleth",
            "colorbar":{
             "outlinewidth":0,
             "ticks":""
            }
           }
          ],
          "histogram2d":[
           {
            "type":"histogram2d",
            "colorbar":{
             "outlinewidth":0,
             "ticks":""
            },
            "colorscale":[
             [
              0,
              "#0d0887"
             ],
             [
              0.1111111111111111,
              "#46039f"
             ],
             [
              0.2222222222222222,
              "#7201a8"
             ],
             [
              0.3333333333333333,
              "#9c179e"
             ],
             [
              0.4444444444444444,
              "#bd3786"
             ],
             [
              0.5555555555555556,
              "#d8576b"
             ],
             [
              0.6666666666666666,
              "#ed7953"
             ],
             [
              0.7777777777777778,
              "#fb9f3a"
             ],
             [
              0.8888888888888888,
              "#fdca26"
             ],
             [
              1,
              "#f0f921"
             ]
            ]
           }
          ],
          "heatmap":[
           {
            "type":"heatmap",
            "colorbar":{
             "outlinewidth":0,
             "ticks":""
            },
            "colorscale":[
             [
              0,
              "#0d0887"
             ],
             [
              0.1111111111111111,
              "#46039f"
             ],
             [
              0.2222222222222222,
              "#7201a8"
             ],
             [
              0.3333333333333333,
              "#9c179e"
             ],
             [
              0.4444444444444444,
              "#bd3786"
             ],
             [
              0.5555555555555556,
              "#d8576b"
             ],
             [
              0.6666666666666666,
              "#ed7953"
             ],
             [
              0.7777777777777778,
              "#fb9f3a"
             ],
             [
              0.8888888888888888,
              "#fdca26"
             ],
             [
              1,
              "#f0f921"
             ]
            ]
           }
          ],
          "heatmapgl":[
           {
            "type":"heatmapgl",
            "colorbar":{
             "outlinewidth":0,
             "ticks":""
            },
            "colorscale":[
             [
              0,
              "#0d0887"
             ],
             [
              0.1111111111111111,
              "#46039f"
             ],
             [
              0.2222222222222222,
              "#7201a8"
             ],
             [
              0.3333333333333333,
              "#9c179e"
             ],
             [
              0.4444444444444444,
              "#bd3786"
             ],
             [
              0.5555555555555556,
              "#d8576b"
             ],
             [
              0.6666666666666666,
              "#ed7953"
             ],
             [
              0.7777777777777778,
              "#fb9f3a"
             ],
             [
              0.8888888888888888,
              "#fdca26"
             ],
             [
              1,
              "#f0f921"
             ]
            ]
           }
          ],
          "contourcarpet":[
           {
            "type":"contourcarpet",
            "colorbar":{
             "outlinewidth":0,
             "ticks":""
            }
           }
          ],
          "contour":[
           {
            "type":"contour",
            "colorbar":{
             "outlinewidth":0,
             "ticks":""
            },
            "colorscale":[
             [
              0,
              "#0d0887"
             ],
             [
              0.1111111111111111,
              "#46039f"
             ],
             [
              0.2222222222222222,
              "#7201a8"
             ],
             [
              0.3333333333333333,
              "#9c179e"
             ],
             [
              0.4444444444444444,
              "#bd3786"
             ],
             [
              0.5555555555555556,
              "#d8576b"
             ],
             [
              0.6666666666666666,
              "#ed7953"
             ],
             [
              0.7777777777777778,
              "#fb9f3a"
             ],
             [
              0.8888888888888888,
              "#fdca26"
             ],
             [
              1,
              "#f0f921"
             ]
            ]
           }
          ],
          "surface":[
           {
            "type":"surface",
            "colorbar":{
             "outlinewidth":0,
             "ticks":""
            },
            "colorscale":[
             [
              0,
              "#0d0887"
             ],
             [
              0.1111111111111111,
              "#46039f"
             ],
             [
              0.2222222222222222,
              "#7201a8"
             ],
             [
              0.3333333333333333,
              "#9c179e"
             ],
             [
              0.4444444444444444,
              "#bd3786"
             ],
             [
              0.5555555555555556,
              "#d8576b"
             ],
             [
              0.6666666666666666,
              "#ed7953"
             ],
             [
              0.7777777777777778,
              "#fb9f3a"
             ],
             [
              0.8888888888888888,
              "#fdca26"
             ],
             [
              1,
              "#f0f921"
             ]
            ]
           }
          ],
          "mesh3d":[
           {
            "type":"mesh3d",
            "colorbar":{
             "outlinewidth":0,
             "ticks":""
            }
           }
          ],
          "scatter":[
           {
            "fillpattern":{
             "fillmode":"overlay",
             "size":10,
             "solidity":0.2
            },
            "type":"scatter"
           }
          ],
          "parcoords":[
           {
            "type":"parcoords",
            "line":{
             "colorbar":{
              "outlinewidth":0,
              "ticks":""
             }
            }
           }
          ],
          "scatterpolargl":[
           {
            "type":"scatterpolargl",
            "marker":{
             "colorbar":{
              "outlinewidth":0,
              "ticks":""
             }
            }
           }
          ],
          "bar":[
           {
            "error_x":{
             "color":"#2a3f5f"
            },
            "error_y":{
             "color":"#2a3f5f"
            },
            "marker":{
             "line":{
              "color":"#E5ECF6",
              "width":0.5
             },
             "pattern":{
              "fillmode":"overlay",
              "size":10,
              "solidity":0.2
             }
            },
            "type":"bar"
           }
          ],
          "scattergeo":[
           {
            "type":"scattergeo",
            "marker":{
             "colorbar":{
              "outlinewidth":0,
              "ticks":""
             }
            }
           }
          ],
          "scatterpolar":[
           {
            "type":"scatterpolar",
            "marker":{
             "colorbar":{
              "outlinewidth":0,
              "ticks":""
             }
            }
           }
          ],
          "histogram":[
           {
            "marker":{
             "pattern":{
              "fillmode":"overlay",
              "size":10,
              "solidity":0.2
             }
            },
            "type":"histogram"
           }
          ],
          "scattergl":[
           {
            "type":"scattergl",
            "marker":{
             "colorbar":{
              "outlinewidth":0,
              "ticks":""
             }
            }
           }
          ],
          "scatter3d":[
           {
            "type":"scatter3d",
            "line":{
             "colorbar":{
              "outlinewidth":0,
              "ticks":""
             }
            },
            "marker":{
             "colorbar":{
              "outlinewidth":0,
              "ticks":""
             }
            }
           }
          ],
          "scattermapbox":[
           {
            "type":"scattermapbox",
            "marker":{
             "colorbar":{
              "outlinewidth":0,
              "ticks":""
             }
            }
           }
          ],
          "scatterternary":[
           {
            "type":"scatterternary",
            "marker":{
             "colorbar":{
              "outlinewidth":0,
              "ticks":""
             }
            }
           }
          ],
          "scattercarpet":[
           {
            "type":"scattercarpet",
            "marker":{
             "colorbar":{
              "outlinewidth":0,
              "ticks":""
             }
            }
           }
          ],
          "carpet":[
           {
            "aaxis":{
             "endlinecolor":"#2a3f5f",
             "gridcolor":"white",
             "linecolor":"white",
             "minorgridcolor":"white",
             "startlinecolor":"#2a3f5f"
            },
            "baxis":{
             "endlinecolor":"#2a3f5f",
             "gridcolor":"white",
             "linecolor":"white",
             "minorgridcolor":"white",
             "startlinecolor":"#2a3f5f"
            },
            "type":"carpet"
           }
          ],
          "table":[
           {
            "cells":{
             "fill":{
              "color":"#EBF0F8"
             },
             "line":{
              "color":"white"
             }
            },
            "header":{
             "fill":{
              "color":"#C8D4E3"
             },
             "line":{
              "color":"white"
             }
            },
            "type":"table"
           }
          ],
          "barpolar":[
           {
            "marker":{
             "line":{
              "color":"#E5ECF6",
              "width":0.5
             },
             "pattern":{
              "fillmode":"overlay",
              "size":10,
              "solidity":0.2
             }
            },
            "type":"barpolar"
           }
          ],
          "pie":[
           {
            "automargin":true,
            "type":"pie"
           }
          ]
         },
         "layout":{
          "autotypenumbers":"strict",
          "colorway":[
           "#636efa",
           "#EF553B",
           "#00cc96",
           "#ab63fa",
           "#FFA15A",
           "#19d3f3",
           "#FF6692",
           "#B6E880",
           "#FF97FF",
           "#FECB52"
          ],
          "font":{
           "color":"#2a3f5f"
          },
          "hovermode":"closest",
          "hoverlabel":{
           "align":"left"
          },
          "paper_bgcolor":"white",
          "plot_bgcolor":"#E5ECF6",
          "polar":{
           "bgcolor":"#E5ECF6",
           "angularaxis":{
            "gridcolor":"white",
            "linecolor":"white",
            "ticks":""
           },
           "radialaxis":{
            "gridcolor":"white",
            "linecolor":"white",
            "ticks":""
           }
          },
          "ternary":{
           "bgcolor":"#E5ECF6",
           "aaxis":{
            "gridcolor":"white",
            "linecolor":"white",
            "ticks":""
           },
           "baxis":{
            "gridcolor":"white",
            "linecolor":"white",
            "ticks":""
           },
           "caxis":{
            "gridcolor":"white",
            "linecolor":"white",
            "ticks":""
           }
          },
          "coloraxis":{
           "colorbar":{
            "outlinewidth":0,
            "ticks":""
           }
          },
          "colorscale":{
           "sequential":[
            [
             0,
             "#0d0887"
            ],
            [
             0.1111111111111111,
             "#46039f"
            ],
            [
             0.2222222222222222,
             "#7201a8"
            ],
            [
             0.3333333333333333,
             "#9c179e"
            ],
            [
             0.4444444444444444,
             "#bd3786"
            ],
            [
             0.5555555555555556,
             "#d8576b"
            ],
            [
             0.6666666666666666,
             "#ed7953"
            ],
            [
             0.7777777777777778,
             "#fb9f3a"
            ],
            [
             0.8888888888888888,
             "#fdca26"
            ],
            [
             1,
             "#f0f921"
            ]
           ],
           "sequentialminus":[
            [
             0,
             "#0d0887"
            ],
            [
             0.1111111111111111,
             "#46039f"
            ],
            [
             0.2222222222222222,
             "#7201a8"
            ],
            [
             0.3333333333333333,
             "#9c179e"
            ],
            [
             0.4444444444444444,
             "#bd3786"
            ],
            [
             0.5555555555555556,
             "#d8576b"
            ],
            [
             0.6666666666666666,
             "#ed7953"
            ],
            [
             0.7777777777777778,
             "#fb9f3a"
            ],
            [
             0.8888888888888888,
             "#fdca26"
            ],
            [
             1,
             "#f0f921"
            ]
           ],
           "diverging":[
            [
             0,
             "#8e0152"
            ],
            [
             0.1,
             "#c51b7d"
            ],
            [
             0.2,
             "#de77ae"
            ],
            [
             0.3,
             "#f1b6da"
            ],
            [
             0.4,
             "#fde0ef"
            ],
            [
             0.5,
             "#f7f7f7"
            ],
            [
             0.6,
             "#e6f5d0"
            ],
            [
             0.7,
             "#b8e186"
            ],
            [
             0.8,
             "#7fbc41"
            ],
            [
             0.9,
             "#4d9221"
            ],
            [
             1,
             "#276419"
            ]
           ]
          },
          "xaxis":{
           "gridcolor":"white",
           "linecolor":"white",
           "ticks":"",
           "title":{
            "standoff":15
           },
           "zerolinecolor":"white",
           "automargin":true,
           "zerolinewidth":2
          },
          "yaxis":{
           "gridcolor":"white",
           "linecolor":"white",
           "ticks":"",
           "title":{
            "standoff":15
           },
           "zerolinecolor":"white",
           "automargin":true,
           "zerolinewidth":2
          },
          "scene":{
           "xaxis":{
            "backgroundcolor":"#E5ECF6",
            "gridcolor":"white",
            "linecolor":"white",
            "showbackground":true,
            "ticks":"",
            "zerolinecolor":"white",
            "gridwidth":2
           },
           "yaxis":{
            "backgroundcolor":"#E5ECF6",
            "gridcolor":"white",
            "linecolor":"white",
            "showbackground":true,
            "ticks":"",
            "zerolinecolor":"white",
            "gridwidth":2
           },
           "zaxis":{
            "backgroundcolor":"#E5ECF6",
            "gridcolor":"white",
            "linecolor":"white",
            "showbackground":true,
            "ticks":"",
            "zerolinecolor":"white",
            "gridwidth":2
           }
          },
          "shapedefaults":{
           "line":{
            "color":"#2a3f5f"
           }
          },
          "annotationdefaults":{
           "arrowcolor":"#2a3f5f",
           "arrowhead":0,
           "arrowwidth":1
          },
          "geo":{
           "bgcolor":"white",
           "landcolor":"#E5ECF6",
           "subunitcolor":"white",
           "showland":true,
           "showlakes":true,
           "lakecolor":"white"
          },
          "title":{
           "x":0.05
          },
          "mapbox":{
           "style":"light"
          }
         }
        }
       },
       "config":{
        "plotlyServerURL":"https:\/\/plot.ly"
       }
      }
     },
     "metadata":{},
     "output_type":"display_data"
    }
   ],
   "metadata":{
    "datalore":{
     "node_id":"eb49T3dmTBnl2P9Pl6xX2v",
     "type":"CODE",
     "hide_input_from_viewers":true,
     "hide_output_from_viewers":true
    }
   }
  },
  {
   "cell_type":"markdown",
   "source":[
    "# 🥧 Koláčový graf\n",
    "Sú vhodné na zobrazovanie percentuálneho rozdelenia kategórií voči celku."
   ],
   "attachments":{},
   "metadata":{
    "datalore":{
     "node_id":"LwlKFqoy2iGASvdTjD1AZC",
     "type":"MD",
     "hide_input_from_viewers":true,
     "hide_output_from_viewers":true
    }
   }
  },
  {
   "cell_type":"code",
   "source":[],
   "execution_count":23,
   "outputs":[
    {
     "data":{
      "application\/vnd.plotly.v1+json":{
       "data":[
        {
         "labels":[
          "Oddelenie A",
          "Oddelenie B",
          "Oddelenie C"
         ],
         "values":[
          450,
          300,
          250
         ],
         "type":"pie"
        }
       ],
       "layout":{
        "template":{
         "data":{
          "histogram2dcontour":[
           {
            "type":"histogram2dcontour",
            "colorbar":{
             "outlinewidth":0,
             "ticks":""
            },
            "colorscale":[
             [
              0,
              "#0d0887"
             ],
             [
              0.1111111111111111,
              "#46039f"
             ],
             [
              0.2222222222222222,
              "#7201a8"
             ],
             [
              0.3333333333333333,
              "#9c179e"
             ],
             [
              0.4444444444444444,
              "#bd3786"
             ],
             [
              0.5555555555555556,
              "#d8576b"
             ],
             [
              0.6666666666666666,
              "#ed7953"
             ],
             [
              0.7777777777777778,
              "#fb9f3a"
             ],
             [
              0.8888888888888888,
              "#fdca26"
             ],
             [
              1,
              "#f0f921"
             ]
            ]
           }
          ],
          "choropleth":[
           {
            "type":"choropleth",
            "colorbar":{
             "outlinewidth":0,
             "ticks":""
            }
           }
          ],
          "histogram2d":[
           {
            "type":"histogram2d",
            "colorbar":{
             "outlinewidth":0,
             "ticks":""
            },
            "colorscale":[
             [
              0,
              "#0d0887"
             ],
             [
              0.1111111111111111,
              "#46039f"
             ],
             [
              0.2222222222222222,
              "#7201a8"
             ],
             [
              0.3333333333333333,
              "#9c179e"
             ],
             [
              0.4444444444444444,
              "#bd3786"
             ],
             [
              0.5555555555555556,
              "#d8576b"
             ],
             [
              0.6666666666666666,
              "#ed7953"
             ],
             [
              0.7777777777777778,
              "#fb9f3a"
             ],
             [
              0.8888888888888888,
              "#fdca26"
             ],
             [
              1,
              "#f0f921"
             ]
            ]
           }
          ],
          "heatmap":[
           {
            "type":"heatmap",
            "colorbar":{
             "outlinewidth":0,
             "ticks":""
            },
            "colorscale":[
             [
              0,
              "#0d0887"
             ],
             [
              0.1111111111111111,
              "#46039f"
             ],
             [
              0.2222222222222222,
              "#7201a8"
             ],
             [
              0.3333333333333333,
              "#9c179e"
             ],
             [
              0.4444444444444444,
              "#bd3786"
             ],
             [
              0.5555555555555556,
              "#d8576b"
             ],
             [
              0.6666666666666666,
              "#ed7953"
             ],
             [
              0.7777777777777778,
              "#fb9f3a"
             ],
             [
              0.8888888888888888,
              "#fdca26"
             ],
             [
              1,
              "#f0f921"
             ]
            ]
           }
          ],
          "heatmapgl":[
           {
            "type":"heatmapgl",
            "colorbar":{
             "outlinewidth":0,
             "ticks":""
            },
            "colorscale":[
             [
              0,
              "#0d0887"
             ],
             [
              0.1111111111111111,
              "#46039f"
             ],
             [
              0.2222222222222222,
              "#7201a8"
             ],
             [
              0.3333333333333333,
              "#9c179e"
             ],
             [
              0.4444444444444444,
              "#bd3786"
             ],
             [
              0.5555555555555556,
              "#d8576b"
             ],
             [
              0.6666666666666666,
              "#ed7953"
             ],
             [
              0.7777777777777778,
              "#fb9f3a"
             ],
             [
              0.8888888888888888,
              "#fdca26"
             ],
             [
              1,
              "#f0f921"
             ]
            ]
           }
          ],
          "contourcarpet":[
           {
            "type":"contourcarpet",
            "colorbar":{
             "outlinewidth":0,
             "ticks":""
            }
           }
          ],
          "contour":[
           {
            "type":"contour",
            "colorbar":{
             "outlinewidth":0,
             "ticks":""
            },
            "colorscale":[
             [
              0,
              "#0d0887"
             ],
             [
              0.1111111111111111,
              "#46039f"
             ],
             [
              0.2222222222222222,
              "#7201a8"
             ],
             [
              0.3333333333333333,
              "#9c179e"
             ],
             [
              0.4444444444444444,
              "#bd3786"
             ],
             [
              0.5555555555555556,
              "#d8576b"
             ],
             [
              0.6666666666666666,
              "#ed7953"
             ],
             [
              0.7777777777777778,
              "#fb9f3a"
             ],
             [
              0.8888888888888888,
              "#fdca26"
             ],
             [
              1,
              "#f0f921"
             ]
            ]
           }
          ],
          "surface":[
           {
            "type":"surface",
            "colorbar":{
             "outlinewidth":0,
             "ticks":""
            },
            "colorscale":[
             [
              0,
              "#0d0887"
             ],
             [
              0.1111111111111111,
              "#46039f"
             ],
             [
              0.2222222222222222,
              "#7201a8"
             ],
             [
              0.3333333333333333,
              "#9c179e"
             ],
             [
              0.4444444444444444,
              "#bd3786"
             ],
             [
              0.5555555555555556,
              "#d8576b"
             ],
             [
              0.6666666666666666,
              "#ed7953"
             ],
             [
              0.7777777777777778,
              "#fb9f3a"
             ],
             [
              0.8888888888888888,
              "#fdca26"
             ],
             [
              1,
              "#f0f921"
             ]
            ]
           }
          ],
          "mesh3d":[
           {
            "type":"mesh3d",
            "colorbar":{
             "outlinewidth":0,
             "ticks":""
            }
           }
          ],
          "scatter":[
           {
            "fillpattern":{
             "fillmode":"overlay",
             "size":10,
             "solidity":0.2
            },
            "type":"scatter"
           }
          ],
          "parcoords":[
           {
            "type":"parcoords",
            "line":{
             "colorbar":{
              "outlinewidth":0,
              "ticks":""
             }
            }
           }
          ],
          "scatterpolargl":[
           {
            "type":"scatterpolargl",
            "marker":{
             "colorbar":{
              "outlinewidth":0,
              "ticks":""
             }
            }
           }
          ],
          "bar":[
           {
            "error_x":{
             "color":"#2a3f5f"
            },
            "error_y":{
             "color":"#2a3f5f"
            },
            "marker":{
             "line":{
              "color":"#E5ECF6",
              "width":0.5
             },
             "pattern":{
              "fillmode":"overlay",
              "size":10,
              "solidity":0.2
             }
            },
            "type":"bar"
           }
          ],
          "scattergeo":[
           {
            "type":"scattergeo",
            "marker":{
             "colorbar":{
              "outlinewidth":0,
              "ticks":""
             }
            }
           }
          ],
          "scatterpolar":[
           {
            "type":"scatterpolar",
            "marker":{
             "colorbar":{
              "outlinewidth":0,
              "ticks":""
             }
            }
           }
          ],
          "histogram":[
           {
            "marker":{
             "pattern":{
              "fillmode":"overlay",
              "size":10,
              "solidity":0.2
             }
            },
            "type":"histogram"
           }
          ],
          "scattergl":[
           {
            "type":"scattergl",
            "marker":{
             "colorbar":{
              "outlinewidth":0,
              "ticks":""
             }
            }
           }
          ],
          "scatter3d":[
           {
            "type":"scatter3d",
            "line":{
             "colorbar":{
              "outlinewidth":0,
              "ticks":""
             }
            },
            "marker":{
             "colorbar":{
              "outlinewidth":0,
              "ticks":""
             }
            }
           }
          ],
          "scattermapbox":[
           {
            "type":"scattermapbox",
            "marker":{
             "colorbar":{
              "outlinewidth":0,
              "ticks":""
             }
            }
           }
          ],
          "scatterternary":[
           {
            "type":"scatterternary",
            "marker":{
             "colorbar":{
              "outlinewidth":0,
              "ticks":""
             }
            }
           }
          ],
          "scattercarpet":[
           {
            "type":"scattercarpet",
            "marker":{
             "colorbar":{
              "outlinewidth":0,
              "ticks":""
             }
            }
           }
          ],
          "carpet":[
           {
            "aaxis":{
             "endlinecolor":"#2a3f5f",
             "gridcolor":"white",
             "linecolor":"white",
             "minorgridcolor":"white",
             "startlinecolor":"#2a3f5f"
            },
            "baxis":{
             "endlinecolor":"#2a3f5f",
             "gridcolor":"white",
             "linecolor":"white",
             "minorgridcolor":"white",
             "startlinecolor":"#2a3f5f"
            },
            "type":"carpet"
           }
          ],
          "table":[
           {
            "cells":{
             "fill":{
              "color":"#EBF0F8"
             },
             "line":{
              "color":"white"
             }
            },
            "header":{
             "fill":{
              "color":"#C8D4E3"
             },
             "line":{
              "color":"white"
             }
            },
            "type":"table"
           }
          ],
          "barpolar":[
           {
            "marker":{
             "line":{
              "color":"#E5ECF6",
              "width":0.5
             },
             "pattern":{
              "fillmode":"overlay",
              "size":10,
              "solidity":0.2
             }
            },
            "type":"barpolar"
           }
          ],
          "pie":[
           {
            "automargin":true,
            "type":"pie"
           }
          ]
         },
         "layout":{
          "autotypenumbers":"strict",
          "colorway":[
           "#636efa",
           "#EF553B",
           "#00cc96",
           "#ab63fa",
           "#FFA15A",
           "#19d3f3",
           "#FF6692",
           "#B6E880",
           "#FF97FF",
           "#FECB52"
          ],
          "font":{
           "color":"#2a3f5f"
          },
          "hovermode":"closest",
          "hoverlabel":{
           "align":"left"
          },
          "paper_bgcolor":"white",
          "plot_bgcolor":"#E5ECF6",
          "polar":{
           "bgcolor":"#E5ECF6",
           "angularaxis":{
            "gridcolor":"white",
            "linecolor":"white",
            "ticks":""
           },
           "radialaxis":{
            "gridcolor":"white",
            "linecolor":"white",
            "ticks":""
           }
          },
          "ternary":{
           "bgcolor":"#E5ECF6",
           "aaxis":{
            "gridcolor":"white",
            "linecolor":"white",
            "ticks":""
           },
           "baxis":{
            "gridcolor":"white",
            "linecolor":"white",
            "ticks":""
           },
           "caxis":{
            "gridcolor":"white",
            "linecolor":"white",
            "ticks":""
           }
          },
          "coloraxis":{
           "colorbar":{
            "outlinewidth":0,
            "ticks":""
           }
          },
          "colorscale":{
           "sequential":[
            [
             0,
             "#0d0887"
            ],
            [
             0.1111111111111111,
             "#46039f"
            ],
            [
             0.2222222222222222,
             "#7201a8"
            ],
            [
             0.3333333333333333,
             "#9c179e"
            ],
            [
             0.4444444444444444,
             "#bd3786"
            ],
            [
             0.5555555555555556,
             "#d8576b"
            ],
            [
             0.6666666666666666,
             "#ed7953"
            ],
            [
             0.7777777777777778,
             "#fb9f3a"
            ],
            [
             0.8888888888888888,
             "#fdca26"
            ],
            [
             1,
             "#f0f921"
            ]
           ],
           "sequentialminus":[
            [
             0,
             "#0d0887"
            ],
            [
             0.1111111111111111,
             "#46039f"
            ],
            [
             0.2222222222222222,
             "#7201a8"
            ],
            [
             0.3333333333333333,
             "#9c179e"
            ],
            [
             0.4444444444444444,
             "#bd3786"
            ],
            [
             0.5555555555555556,
             "#d8576b"
            ],
            [
             0.6666666666666666,
             "#ed7953"
            ],
            [
             0.7777777777777778,
             "#fb9f3a"
            ],
            [
             0.8888888888888888,
             "#fdca26"
            ],
            [
             1,
             "#f0f921"
            ]
           ],
           "diverging":[
            [
             0,
             "#8e0152"
            ],
            [
             0.1,
             "#c51b7d"
            ],
            [
             0.2,
             "#de77ae"
            ],
            [
             0.3,
             "#f1b6da"
            ],
            [
             0.4,
             "#fde0ef"
            ],
            [
             0.5,
             "#f7f7f7"
            ],
            [
             0.6,
             "#e6f5d0"
            ],
            [
             0.7,
             "#b8e186"
            ],
            [
             0.8,
             "#7fbc41"
            ],
            [
             0.9,
             "#4d9221"
            ],
            [
             1,
             "#276419"
            ]
           ]
          },
          "xaxis":{
           "gridcolor":"white",
           "linecolor":"white",
           "ticks":"",
           "title":{
            "standoff":15
           },
           "zerolinecolor":"white",
           "automargin":true,
           "zerolinewidth":2
          },
          "yaxis":{
           "gridcolor":"white",
           "linecolor":"white",
           "ticks":"",
           "title":{
            "standoff":15
           },
           "zerolinecolor":"white",
           "automargin":true,
           "zerolinewidth":2
          },
          "scene":{
           "xaxis":{
            "backgroundcolor":"#E5ECF6",
            "gridcolor":"white",
            "linecolor":"white",
            "showbackground":true,
            "ticks":"",
            "zerolinecolor":"white",
            "gridwidth":2
           },
           "yaxis":{
            "backgroundcolor":"#E5ECF6",
            "gridcolor":"white",
            "linecolor":"white",
            "showbackground":true,
            "ticks":"",
            "zerolinecolor":"white",
            "gridwidth":2
           },
           "zaxis":{
            "backgroundcolor":"#E5ECF6",
            "gridcolor":"white",
            "linecolor":"white",
            "showbackground":true,
            "ticks":"",
            "zerolinecolor":"white",
            "gridwidth":2
           }
          },
          "shapedefaults":{
           "line":{
            "color":"#2a3f5f"
           }
          },
          "annotationdefaults":{
           "arrowcolor":"#2a3f5f",
           "arrowhead":0,
           "arrowwidth":1
          },
          "geo":{
           "bgcolor":"white",
           "landcolor":"#E5ECF6",
           "subunitcolor":"white",
           "showland":true,
           "showlakes":true,
           "lakecolor":"white"
          },
          "title":{
           "x":0.05
          },
          "mapbox":{
           "style":"light"
          }
         }
        }
       },
       "config":{
        "plotlyServerURL":"https:\/\/plot.ly"
       }
      }
     },
     "metadata":{},
     "output_type":"display_data"
    }
   ],
   "metadata":{
    "datalore":{
     "node_id":"dvZo6KJYDUMF1A6olkiQtf",
     "type":"CODE",
     "hide_input_from_viewers":true,
     "hide_output_from_viewers":true
    }
   }
  },
  {
   "cell_type":"markdown",
   "source":[
    "## 3D Scatter Plot\n",
    "Sú užitočné na zobrazovanie vzťahov medzi 3 premennými"
   ],
   "attachments":{},
   "metadata":{
    "datalore":{
     "node_id":"DjJt8bc888p2k7cm9lLcNk",
     "type":"MD",
     "hide_input_from_viewers":true,
     "hide_output_from_viewers":true
    }
   }
  },
  {
   "cell_type":"code",
   "source":[],
   "execution_count":24,
   "outputs":[
    {
     "data":{
      "application\/vnd.plotly.v1+json":{
       "data":[
        {
         "marker":{
          "color":[
           0.6820653796601972,
           0.5586768745473264,
           0.06001379972303755,
           0.8687855721154328,
           0.04254531642898163,
           0.9308038009359638,
           0.6247330660552156,
           0.24803705186187153,
           0.9032817402190967,
           0.9843150461049475,
           0.8687755143988798,
           0.667590741590958,
           0.8124816157794016,
           0.835082624947618,
           0.22550067860837186,
           0.39854733993212654,
           0.25112799747579173,
           0.9789277814878361,
           0.3345045114923133,
           0.7077498194427163,
           0.042719942718599024,
           0.09270968363866816,
           0.18313319084502266,
           0.5412950155695668,
           0.7210099192233539,
           0.048584791330635646,
           0.9541882844837369,
           0.9323074781368906,
           0.07882238814941378,
           0.6025600284399839,
           0.7675091114303086,
           0.505195015690172,
           0.2954043368265217,
           0.7736249612108056,
           0.12410288711078077,
           0.7246502283014994,
           0.3819713796306562,
           0.42920121206017803,
           0.11896222106994048,
           0.6211557178240212,
           0.07322028921790935,
           0.5094916384231564,
           0.4414433238226412,
           0.8299375665860285,
           0.8252733022028508,
           0.6820940766064868,
           0.024602405222176382,
           0.04695380326867249,
           0.8864732289758905,
           0.07114686796659786,
           0.9407588925555861,
           0.07529134806709936,
           0.2554546712624882,
           0.6527768714560718,
           0.026264522376235,
           0.5298048082821546,
           0.5566546359113873,
           0.8345567309846663,
           0.9204958163775728,
           0.32130749613962784,
           0.7135309835671155,
           0.45504712989014917,
           0.8078981110762676,
           0.6126652481543843,
           0.5131062118168155,
           0.3108275344323792,
           0.8866817769698091,
           0.6010341218789882,
           0.06461937621558278,
           0.8210169148082809,
           0.38589918529152023,
           0.06625493089060064,
           0.6560854547636011,
           0.6987448270548114,
           0.14222909958593344,
           0.3933124888485149,
           0.4466304547526364,
           0.030368678561662255,
           0.4514114802284611,
           0.3275998220692896,
           0.6709849730464872,
           0.5008255608280062,
           0.615682091758216,
           0.2976641470846483,
           0.03872089834825876,
           0.6111055584174293,
           0.2893129670029849,
           0.6139970775229014,
           0.7413329054361422,
           0.6122373258135724,
           0.28948069141511046,
           0.1795694639797808,
           0.33615163012790095,
           0.09500342364474246,
           0.8534068489963236,
           0.1539317529153169,
           0.9568746806543685,
           0.9294378463015808,
           0.8926287278930244,
           0.6060532333148038
          ],
          "colorscale":[
           [
            0,
            "#440154"
           ],
           [
            0.1111111111111111,
            "#482878"
           ],
           [
            0.2222222222222222,
            "#3e4989"
           ],
           [
            0.3333333333333333,
            "#31688e"
           ],
           [
            0.4444444444444444,
            "#26828e"
           ],
           [
            0.5555555555555556,
            "#1f9e89"
           ],
           [
            0.6666666666666666,
            "#35b779"
           ],
           [
            0.7777777777777778,
            "#6ece58"
           ],
           [
            0.8888888888888888,
            "#b5de2b"
           ],
           [
            1,
            "#fde725"
           ]
          ],
          "opacity":0.8,
          "size":12
         },
         "mode":"markers",
         "x":[
          0.23533537000490623,
          0.9278170094668414,
          0.5546378041514832,
          0.14674133149099633,
          0.004779275684670736,
          0.30101823675092587,
          0.26598044276903177,
          0.9958658692671961,
          0.7450156871834048,
          0.1612255912520626,
          0.6937126844016824,
          0.32269418841747954,
          0.49093797266020156,
          0.42436510719338705,
          0.8452872780695472,
          0.40309867264247246,
          0.23720186476339822,
          0.3134143015119075,
          0.9062877944854453,
          0.9973832561528663,
          0.6905247525287481,
          0.2138344554036662,
          0.8274189248979352,
          0.8000720683372877,
          0.3387618789795257,
          0.692335634426782,
          0.901886137762905,
          0.6797919378860875,
          0.45992438218817056,
          0.8266197009999371,
          0.5802550393973387,
          0.418668368151357,
          0.7126740421205189,
          0.8464639948173546,
          0.2373265102458778,
          0.33653860720705575,
          0.49201458323833736,
          0.27448146136252827,
          0.8362295556928774,
          0.5728301171858556,
          0.497304942665461,
          0.6348050887397384,
          0.7215682156487053,
          0.32696313999090953,
          0.4213105703239939,
          0.49203912508695813,
          0.6375646667777779,
          0.36172924449655464,
          0.03812279542976982,
          0.23794458026889198,
          0.11030031339219226,
          0.37118532885744593,
          0.9825229752387151,
          0.1306247044113954,
          0.5724913889832043,
          0.692719500968296,
          0.3747563049716264,
          0.056271325667511696,
          0.28013722011106634,
          0.7782024287082719,
          0.6025520849189256,
          0.5923364630066541,
          0.9941077807619175,
          0.4158693506419795,
          0.4412637649186524,
          0.29176666438027854,
          0.6916658397513125,
          0.5913922526836615,
          0.3872838866783159,
          0.6657274560867678,
          0.055762254737990236,
          0.7791871527090787,
          0.1944789964565945,
          0.09237694589012391,
          0.33469574707084293,
          0.95925992515124,
          0.4191867059238611,
          0.9659804263796915,
          0.42974537068818197,
          0.9656523704358658,
          0.2165409268199705,
          0.19214668478186436,
          0.464582257717439,
          0.816142685173673,
          0.45266901037137075,
          0.6490837325212491,
          0.9824879578953257,
          0.5869178885273502,
          0.026926917986399457,
          0.5627127433684538,
          0.19334665786599403,
          0.2498227735898485,
          0.45368442835752365,
          0.6747523068011914,
          0.8170227780174126,
          0.4202420389247016,
          0.6893444641456292,
          0.03135906001707689,
          0.31368011401845697,
          0.8740082400303713
         ],
         "y":[
          0.17050844982397007,
          0.6556097453107116,
          0.12695434673775552,
          0.12602427744711564,
          0.9902835092508495,
          0.8632218029678491,
          0.8908987729483493,
          0.9810873569695228,
          0.49036076117798355,
          0.795231922198753,
          0.13682890768783973,
          0.2339665882048494,
          0.12371244774052292,
          0.4076812974563663,
          0.40618285124360753,
          0.15072285798472662,
          0.05445035650487018,
          0.2768229983860552,
          0.9505503370417642,
          0.08496743253760897,
          0.3990956637887224,
          0.39327946428297145,
          0.6112717997010825,
          0.9843094270729952,
          0.2125434649505188,
          0.8477695541894824,
          0.20372914014572807,
          0.9283550304191522,
          0.2254388424232675,
          0.3658066038321034,
          0.7914670954641142,
          0.5615641334157123,
          0.1646717799078311,
          0.26948092791145173,
          0.8584155911013184,
          0.3773558399647682,
          0.724892195740745,
          0.4145058969882045,
          0.43490796840021284,
          0.31739584759715245,
          0.2808278097412149,
          0.44198705690749707,
          0.3361832624489741,
          0.909894395384796,
          0.5165194615353638,
          0.11246549315871879,
          0.4404915564159724,
          0.21188839443012408,
          0.5291346269004988,
          0.33131763734085173,
          0.022029156540707473,
          0.5370547020048559,
          0.7368982609615808,
          0.7479322912292622,
          0.5106249278551518,
          0.6151480846319817,
          0.8519193649139069,
          0.35478281524219113,
          0.41625975193393594,
          0.3588970769934984,
          0.1640495447202781,
          0.8041393996855934,
          0.8634836997483485,
          0.5793616902527291,
          0.2985654740162057,
          0.3536020135370903,
          0.7344543754327115,
          0.8846654361041274,
          0.7201660737098134,
          0.97812011258259,
          0.1294391948031719,
          0.3730881862184269,
          0.32796489680070784,
          0.6002049555331954,
          0.3241444941821304,
          0.8257791359993992,
          0.22825381300317282,
          0.48351840568616455,
          0.5786150723564544,
          0.3565330995942011,
          0.28599551635454423,
          0.4154077886581914,
          0.8296833123838484,
          0.3949843025288071,
          0.36810564113105326,
          0.20197370757206623,
          0.6600887953726496,
          0.1924974999537893,
          0.09788962614786523,
          0.02543316349716296,
          0.03942074679265117,
          0.9825329209646783,
          0.8420781171875577,
          0.8857095755535552,
          0.5549807770318387,
          0.5670715538732211,
          0.3376518281614078,
          0.009070010158850117,
          0.6465821955338882,
          0.5565354348853168
         ],
         "z":[
          0.6820653796601972,
          0.5586768745473264,
          0.06001379972303755,
          0.8687855721154328,
          0.04254531642898163,
          0.9308038009359638,
          0.6247330660552156,
          0.24803705186187153,
          0.9032817402190967,
          0.9843150461049475,
          0.8687755143988798,
          0.667590741590958,
          0.8124816157794016,
          0.835082624947618,
          0.22550067860837186,
          0.39854733993212654,
          0.25112799747579173,
          0.9789277814878361,
          0.3345045114923133,
          0.7077498194427163,
          0.042719942718599024,
          0.09270968363866816,
          0.18313319084502266,
          0.5412950155695668,
          0.7210099192233539,
          0.048584791330635646,
          0.9541882844837369,
          0.9323074781368906,
          0.07882238814941378,
          0.6025600284399839,
          0.7675091114303086,
          0.505195015690172,
          0.2954043368265217,
          0.7736249612108056,
          0.12410288711078077,
          0.7246502283014994,
          0.3819713796306562,
          0.42920121206017803,
          0.11896222106994048,
          0.6211557178240212,
          0.07322028921790935,
          0.5094916384231564,
          0.4414433238226412,
          0.8299375665860285,
          0.8252733022028508,
          0.6820940766064868,
          0.024602405222176382,
          0.04695380326867249,
          0.8864732289758905,
          0.07114686796659786,
          0.9407588925555861,
          0.07529134806709936,
          0.2554546712624882,
          0.6527768714560718,
          0.026264522376235,
          0.5298048082821546,
          0.5566546359113873,
          0.8345567309846663,
          0.9204958163775728,
          0.32130749613962784,
          0.7135309835671155,
          0.45504712989014917,
          0.8078981110762676,
          0.6126652481543843,
          0.5131062118168155,
          0.3108275344323792,
          0.8866817769698091,
          0.6010341218789882,
          0.06461937621558278,
          0.8210169148082809,
          0.38589918529152023,
          0.06625493089060064,
          0.6560854547636011,
          0.6987448270548114,
          0.14222909958593344,
          0.3933124888485149,
          0.4466304547526364,
          0.030368678561662255,
          0.4514114802284611,
          0.3275998220692896,
          0.6709849730464872,
          0.5008255608280062,
          0.615682091758216,
          0.2976641470846483,
          0.03872089834825876,
          0.6111055584174293,
          0.2893129670029849,
          0.6139970775229014,
          0.7413329054361422,
          0.6122373258135724,
          0.28948069141511046,
          0.1795694639797808,
          0.33615163012790095,
          0.09500342364474246,
          0.8534068489963236,
          0.1539317529153169,
          0.9568746806543685,
          0.9294378463015808,
          0.8926287278930244,
          0.6060532333148038
         ],
         "type":"scatter3d"
        }
       ],
       "layout":{
        "template":{
         "data":{
          "histogram2dcontour":[
           {
            "type":"histogram2dcontour",
            "colorbar":{
             "outlinewidth":0,
             "ticks":""
            },
            "colorscale":[
             [
              0,
              "#0d0887"
             ],
             [
              0.1111111111111111,
              "#46039f"
             ],
             [
              0.2222222222222222,
              "#7201a8"
             ],
             [
              0.3333333333333333,
              "#9c179e"
             ],
             [
              0.4444444444444444,
              "#bd3786"
             ],
             [
              0.5555555555555556,
              "#d8576b"
             ],
             [
              0.6666666666666666,
              "#ed7953"
             ],
             [
              0.7777777777777778,
              "#fb9f3a"
             ],
             [
              0.8888888888888888,
              "#fdca26"
             ],
             [
              1,
              "#f0f921"
             ]
            ]
           }
          ],
          "choropleth":[
           {
            "type":"choropleth",
            "colorbar":{
             "outlinewidth":0,
             "ticks":""
            }
           }
          ],
          "histogram2d":[
           {
            "type":"histogram2d",
            "colorbar":{
             "outlinewidth":0,
             "ticks":""
            },
            "colorscale":[
             [
              0,
              "#0d0887"
             ],
             [
              0.1111111111111111,
              "#46039f"
             ],
             [
              0.2222222222222222,
              "#7201a8"
             ],
             [
              0.3333333333333333,
              "#9c179e"
             ],
             [
              0.4444444444444444,
              "#bd3786"
             ],
             [
              0.5555555555555556,
              "#d8576b"
             ],
             [
              0.6666666666666666,
              "#ed7953"
             ],
             [
              0.7777777777777778,
              "#fb9f3a"
             ],
             [
              0.8888888888888888,
              "#fdca26"
             ],
             [
              1,
              "#f0f921"
             ]
            ]
           }
          ],
          "heatmap":[
           {
            "type":"heatmap",
            "colorbar":{
             "outlinewidth":0,
             "ticks":""
            },
            "colorscale":[
             [
              0,
              "#0d0887"
             ],
             [
              0.1111111111111111,
              "#46039f"
             ],
             [
              0.2222222222222222,
              "#7201a8"
             ],
             [
              0.3333333333333333,
              "#9c179e"
             ],
             [
              0.4444444444444444,
              "#bd3786"
             ],
             [
              0.5555555555555556,
              "#d8576b"
             ],
             [
              0.6666666666666666,
              "#ed7953"
             ],
             [
              0.7777777777777778,
              "#fb9f3a"
             ],
             [
              0.8888888888888888,
              "#fdca26"
             ],
             [
              1,
              "#f0f921"
             ]
            ]
           }
          ],
          "heatmapgl":[
           {
            "type":"heatmapgl",
            "colorbar":{
             "outlinewidth":0,
             "ticks":""
            },
            "colorscale":[
             [
              0,
              "#0d0887"
             ],
             [
              0.1111111111111111,
              "#46039f"
             ],
             [
              0.2222222222222222,
              "#7201a8"
             ],
             [
              0.3333333333333333,
              "#9c179e"
             ],
             [
              0.4444444444444444,
              "#bd3786"
             ],
             [
              0.5555555555555556,
              "#d8576b"
             ],
             [
              0.6666666666666666,
              "#ed7953"
             ],
             [
              0.7777777777777778,
              "#fb9f3a"
             ],
             [
              0.8888888888888888,
              "#fdca26"
             ],
             [
              1,
              "#f0f921"
             ]
            ]
           }
          ],
          "contourcarpet":[
           {
            "type":"contourcarpet",
            "colorbar":{
             "outlinewidth":0,
             "ticks":""
            }
           }
          ],
          "contour":[
           {
            "type":"contour",
            "colorbar":{
             "outlinewidth":0,
             "ticks":""
            },
            "colorscale":[
             [
              0,
              "#0d0887"
             ],
             [
              0.1111111111111111,
              "#46039f"
             ],
             [
              0.2222222222222222,
              "#7201a8"
             ],
             [
              0.3333333333333333,
              "#9c179e"
             ],
             [
              0.4444444444444444,
              "#bd3786"
             ],
             [
              0.5555555555555556,
              "#d8576b"
             ],
             [
              0.6666666666666666,
              "#ed7953"
             ],
             [
              0.7777777777777778,
              "#fb9f3a"
             ],
             [
              0.8888888888888888,
              "#fdca26"
             ],
             [
              1,
              "#f0f921"
             ]
            ]
           }
          ],
          "surface":[
           {
            "type":"surface",
            "colorbar":{
             "outlinewidth":0,
             "ticks":""
            },
            "colorscale":[
             [
              0,
              "#0d0887"
             ],
             [
              0.1111111111111111,
              "#46039f"
             ],
             [
              0.2222222222222222,
              "#7201a8"
             ],
             [
              0.3333333333333333,
              "#9c179e"
             ],
             [
              0.4444444444444444,
              "#bd3786"
             ],
             [
              0.5555555555555556,
              "#d8576b"
             ],
             [
              0.6666666666666666,
              "#ed7953"
             ],
             [
              0.7777777777777778,
              "#fb9f3a"
             ],
             [
              0.8888888888888888,
              "#fdca26"
             ],
             [
              1,
              "#f0f921"
             ]
            ]
           }
          ],
          "mesh3d":[
           {
            "type":"mesh3d",
            "colorbar":{
             "outlinewidth":0,
             "ticks":""
            }
           }
          ],
          "scatter":[
           {
            "fillpattern":{
             "fillmode":"overlay",
             "size":10,
             "solidity":0.2
            },
            "type":"scatter"
           }
          ],
          "parcoords":[
           {
            "type":"parcoords",
            "line":{
             "colorbar":{
              "outlinewidth":0,
              "ticks":""
             }
            }
           }
          ],
          "scatterpolargl":[
           {
            "type":"scatterpolargl",
            "marker":{
             "colorbar":{
              "outlinewidth":0,
              "ticks":""
             }
            }
           }
          ],
          "bar":[
           {
            "error_x":{
             "color":"#2a3f5f"
            },
            "error_y":{
             "color":"#2a3f5f"
            },
            "marker":{
             "line":{
              "color":"#E5ECF6",
              "width":0.5
             },
             "pattern":{
              "fillmode":"overlay",
              "size":10,
              "solidity":0.2
             }
            },
            "type":"bar"
           }
          ],
          "scattergeo":[
           {
            "type":"scattergeo",
            "marker":{
             "colorbar":{
              "outlinewidth":0,
              "ticks":""
             }
            }
           }
          ],
          "scatterpolar":[
           {
            "type":"scatterpolar",
            "marker":{
             "colorbar":{
              "outlinewidth":0,
              "ticks":""
             }
            }
           }
          ],
          "histogram":[
           {
            "marker":{
             "pattern":{
              "fillmode":"overlay",
              "size":10,
              "solidity":0.2
             }
            },
            "type":"histogram"
           }
          ],
          "scattergl":[
           {
            "type":"scattergl",
            "marker":{
             "colorbar":{
              "outlinewidth":0,
              "ticks":""
             }
            }
           }
          ],
          "scatter3d":[
           {
            "type":"scatter3d",
            "line":{
             "colorbar":{
              "outlinewidth":0,
              "ticks":""
             }
            },
            "marker":{
             "colorbar":{
              "outlinewidth":0,
              "ticks":""
             }
            }
           }
          ],
          "scattermapbox":[
           {
            "type":"scattermapbox",
            "marker":{
             "colorbar":{
              "outlinewidth":0,
              "ticks":""
             }
            }
           }
          ],
          "scatterternary":[
           {
            "type":"scatterternary",
            "marker":{
             "colorbar":{
              "outlinewidth":0,
              "ticks":""
             }
            }
           }
          ],
          "scattercarpet":[
           {
            "type":"scattercarpet",
            "marker":{
             "colorbar":{
              "outlinewidth":0,
              "ticks":""
             }
            }
           }
          ],
          "carpet":[
           {
            "aaxis":{
             "endlinecolor":"#2a3f5f",
             "gridcolor":"white",
             "linecolor":"white",
             "minorgridcolor":"white",
             "startlinecolor":"#2a3f5f"
            },
            "baxis":{
             "endlinecolor":"#2a3f5f",
             "gridcolor":"white",
             "linecolor":"white",
             "minorgridcolor":"white",
             "startlinecolor":"#2a3f5f"
            },
            "type":"carpet"
           }
          ],
          "table":[
           {
            "cells":{
             "fill":{
              "color":"#EBF0F8"
             },
             "line":{
              "color":"white"
             }
            },
            "header":{
             "fill":{
              "color":"#C8D4E3"
             },
             "line":{
              "color":"white"
             }
            },
            "type":"table"
           }
          ],
          "barpolar":[
           {
            "marker":{
             "line":{
              "color":"#E5ECF6",
              "width":0.5
             },
             "pattern":{
              "fillmode":"overlay",
              "size":10,
              "solidity":0.2
             }
            },
            "type":"barpolar"
           }
          ],
          "pie":[
           {
            "automargin":true,
            "type":"pie"
           }
          ]
         },
         "layout":{
          "autotypenumbers":"strict",
          "colorway":[
           "#636efa",
           "#EF553B",
           "#00cc96",
           "#ab63fa",
           "#FFA15A",
           "#19d3f3",
           "#FF6692",
           "#B6E880",
           "#FF97FF",
           "#FECB52"
          ],
          "font":{
           "color":"#2a3f5f"
          },
          "hovermode":"closest",
          "hoverlabel":{
           "align":"left"
          },
          "paper_bgcolor":"white",
          "plot_bgcolor":"#E5ECF6",
          "polar":{
           "bgcolor":"#E5ECF6",
           "angularaxis":{
            "gridcolor":"white",
            "linecolor":"white",
            "ticks":""
           },
           "radialaxis":{
            "gridcolor":"white",
            "linecolor":"white",
            "ticks":""
           }
          },
          "ternary":{
           "bgcolor":"#E5ECF6",
           "aaxis":{
            "gridcolor":"white",
            "linecolor":"white",
            "ticks":""
           },
           "baxis":{
            "gridcolor":"white",
            "linecolor":"white",
            "ticks":""
           },
           "caxis":{
            "gridcolor":"white",
            "linecolor":"white",
            "ticks":""
           }
          },
          "coloraxis":{
           "colorbar":{
            "outlinewidth":0,
            "ticks":""
           }
          },
          "colorscale":{
           "sequential":[
            [
             0,
             "#0d0887"
            ],
            [
             0.1111111111111111,
             "#46039f"
            ],
            [
             0.2222222222222222,
             "#7201a8"
            ],
            [
             0.3333333333333333,
             "#9c179e"
            ],
            [
             0.4444444444444444,
             "#bd3786"
            ],
            [
             0.5555555555555556,
             "#d8576b"
            ],
            [
             0.6666666666666666,
             "#ed7953"
            ],
            [
             0.7777777777777778,
             "#fb9f3a"
            ],
            [
             0.8888888888888888,
             "#fdca26"
            ],
            [
             1,
             "#f0f921"
            ]
           ],
           "sequentialminus":[
            [
             0,
             "#0d0887"
            ],
            [
             0.1111111111111111,
             "#46039f"
            ],
            [
             0.2222222222222222,
             "#7201a8"
            ],
            [
             0.3333333333333333,
             "#9c179e"
            ],
            [
             0.4444444444444444,
             "#bd3786"
            ],
            [
             0.5555555555555556,
             "#d8576b"
            ],
            [
             0.6666666666666666,
             "#ed7953"
            ],
            [
             0.7777777777777778,
             "#fb9f3a"
            ],
            [
             0.8888888888888888,
             "#fdca26"
            ],
            [
             1,
             "#f0f921"
            ]
           ],
           "diverging":[
            [
             0,
             "#8e0152"
            ],
            [
             0.1,
             "#c51b7d"
            ],
            [
             0.2,
             "#de77ae"
            ],
            [
             0.3,
             "#f1b6da"
            ],
            [
             0.4,
             "#fde0ef"
            ],
            [
             0.5,
             "#f7f7f7"
            ],
            [
             0.6,
             "#e6f5d0"
            ],
            [
             0.7,
             "#b8e186"
            ],
            [
             0.8,
             "#7fbc41"
            ],
            [
             0.9,
             "#4d9221"
            ],
            [
             1,
             "#276419"
            ]
           ]
          },
          "xaxis":{
           "gridcolor":"white",
           "linecolor":"white",
           "ticks":"",
           "title":{
            "standoff":15
           },
           "zerolinecolor":"white",
           "automargin":true,
           "zerolinewidth":2
          },
          "yaxis":{
           "gridcolor":"white",
           "linecolor":"white",
           "ticks":"",
           "title":{
            "standoff":15
           },
           "zerolinecolor":"white",
           "automargin":true,
           "zerolinewidth":2
          },
          "scene":{
           "xaxis":{
            "backgroundcolor":"#E5ECF6",
            "gridcolor":"white",
            "linecolor":"white",
            "showbackground":true,
            "ticks":"",
            "zerolinecolor":"white",
            "gridwidth":2
           },
           "yaxis":{
            "backgroundcolor":"#E5ECF6",
            "gridcolor":"white",
            "linecolor":"white",
            "showbackground":true,
            "ticks":"",
            "zerolinecolor":"white",
            "gridwidth":2
           },
           "zaxis":{
            "backgroundcolor":"#E5ECF6",
            "gridcolor":"white",
            "linecolor":"white",
            "showbackground":true,
            "ticks":"",
            "zerolinecolor":"white",
            "gridwidth":2
           }
          },
          "shapedefaults":{
           "line":{
            "color":"#2a3f5f"
           }
          },
          "annotationdefaults":{
           "arrowcolor":"#2a3f5f",
           "arrowhead":0,
           "arrowwidth":1
          },
          "geo":{
           "bgcolor":"white",
           "landcolor":"#E5ECF6",
           "subunitcolor":"white",
           "showland":true,
           "showlakes":true,
           "lakecolor":"white"
          },
          "title":{
           "x":0.05
          },
          "mapbox":{
           "style":"light"
          }
         }
        }
       },
       "config":{
        "plotlyServerURL":"https:\/\/plot.ly"
       }
      }
     },
     "metadata":{},
     "output_type":"display_data"
    }
   ],
   "metadata":{
    "datalore":{
     "node_id":"6K8doCB8zxdoIbnUnzlBtH",
     "type":"CODE",
     "hide_input_from_viewers":true,
     "hide_output_from_viewers":true
    }
   }
  },
  {
   "cell_type":"markdown",
   "source":[
    "## 🌡️ Heatmapy\n",
    "Sú užitočné na zobrazovanie intenzity alebo četnosti v dvojrozmernom formáte, často používané pre zobrazovanie dát v mriežke."
   ],
   "attachments":{},
   "metadata":{
    "datalore":{
     "node_id":"ei7ggPIQ0AC83FCprDaK0J",
     "type":"MD",
     "hide_input_from_viewers":true,
     "hide_output_from_viewers":true
    }
   }
  },
  {
   "cell_type":"code",
   "source":[],
   "execution_count":25,
   "outputs":[
    {
     "data":{
      "application\/vnd.plotly.v1+json":{
       "data":[
        {
         "z":[
          [
           1,
           20,
           30
          ],
          [
           20,
           1,
           60
          ],
          [
           30,
           60,
           1
          ]
         ],
         "type":"heatmap"
        }
       ],
       "layout":{
        "template":{
         "data":{
          "histogram2dcontour":[
           {
            "type":"histogram2dcontour",
            "colorbar":{
             "outlinewidth":0,
             "ticks":""
            },
            "colorscale":[
             [
              0,
              "#0d0887"
             ],
             [
              0.1111111111111111,
              "#46039f"
             ],
             [
              0.2222222222222222,
              "#7201a8"
             ],
             [
              0.3333333333333333,
              "#9c179e"
             ],
             [
              0.4444444444444444,
              "#bd3786"
             ],
             [
              0.5555555555555556,
              "#d8576b"
             ],
             [
              0.6666666666666666,
              "#ed7953"
             ],
             [
              0.7777777777777778,
              "#fb9f3a"
             ],
             [
              0.8888888888888888,
              "#fdca26"
             ],
             [
              1,
              "#f0f921"
             ]
            ]
           }
          ],
          "choropleth":[
           {
            "type":"choropleth",
            "colorbar":{
             "outlinewidth":0,
             "ticks":""
            }
           }
          ],
          "histogram2d":[
           {
            "type":"histogram2d",
            "colorbar":{
             "outlinewidth":0,
             "ticks":""
            },
            "colorscale":[
             [
              0,
              "#0d0887"
             ],
             [
              0.1111111111111111,
              "#46039f"
             ],
             [
              0.2222222222222222,
              "#7201a8"
             ],
             [
              0.3333333333333333,
              "#9c179e"
             ],
             [
              0.4444444444444444,
              "#bd3786"
             ],
             [
              0.5555555555555556,
              "#d8576b"
             ],
             [
              0.6666666666666666,
              "#ed7953"
             ],
             [
              0.7777777777777778,
              "#fb9f3a"
             ],
             [
              0.8888888888888888,
              "#fdca26"
             ],
             [
              1,
              "#f0f921"
             ]
            ]
           }
          ],
          "heatmap":[
           {
            "type":"heatmap",
            "colorbar":{
             "outlinewidth":0,
             "ticks":""
            },
            "colorscale":[
             [
              0,
              "#0d0887"
             ],
             [
              0.1111111111111111,
              "#46039f"
             ],
             [
              0.2222222222222222,
              "#7201a8"
             ],
             [
              0.3333333333333333,
              "#9c179e"
             ],
             [
              0.4444444444444444,
              "#bd3786"
             ],
             [
              0.5555555555555556,
              "#d8576b"
             ],
             [
              0.6666666666666666,
              "#ed7953"
             ],
             [
              0.7777777777777778,
              "#fb9f3a"
             ],
             [
              0.8888888888888888,
              "#fdca26"
             ],
             [
              1,
              "#f0f921"
             ]
            ]
           }
          ],
          "heatmapgl":[
           {
            "type":"heatmapgl",
            "colorbar":{
             "outlinewidth":0,
             "ticks":""
            },
            "colorscale":[
             [
              0,
              "#0d0887"
             ],
             [
              0.1111111111111111,
              "#46039f"
             ],
             [
              0.2222222222222222,
              "#7201a8"
             ],
             [
              0.3333333333333333,
              "#9c179e"
             ],
             [
              0.4444444444444444,
              "#bd3786"
             ],
             [
              0.5555555555555556,
              "#d8576b"
             ],
             [
              0.6666666666666666,
              "#ed7953"
             ],
             [
              0.7777777777777778,
              "#fb9f3a"
             ],
             [
              0.8888888888888888,
              "#fdca26"
             ],
             [
              1,
              "#f0f921"
             ]
            ]
           }
          ],
          "contourcarpet":[
           {
            "type":"contourcarpet",
            "colorbar":{
             "outlinewidth":0,
             "ticks":""
            }
           }
          ],
          "contour":[
           {
            "type":"contour",
            "colorbar":{
             "outlinewidth":0,
             "ticks":""
            },
            "colorscale":[
             [
              0,
              "#0d0887"
             ],
             [
              0.1111111111111111,
              "#46039f"
             ],
             [
              0.2222222222222222,
              "#7201a8"
             ],
             [
              0.3333333333333333,
              "#9c179e"
             ],
             [
              0.4444444444444444,
              "#bd3786"
             ],
             [
              0.5555555555555556,
              "#d8576b"
             ],
             [
              0.6666666666666666,
              "#ed7953"
             ],
             [
              0.7777777777777778,
              "#fb9f3a"
             ],
             [
              0.8888888888888888,
              "#fdca26"
             ],
             [
              1,
              "#f0f921"
             ]
            ]
           }
          ],
          "surface":[
           {
            "type":"surface",
            "colorbar":{
             "outlinewidth":0,
             "ticks":""
            },
            "colorscale":[
             [
              0,
              "#0d0887"
             ],
             [
              0.1111111111111111,
              "#46039f"
             ],
             [
              0.2222222222222222,
              "#7201a8"
             ],
             [
              0.3333333333333333,
              "#9c179e"
             ],
             [
              0.4444444444444444,
              "#bd3786"
             ],
             [
              0.5555555555555556,
              "#d8576b"
             ],
             [
              0.6666666666666666,
              "#ed7953"
             ],
             [
              0.7777777777777778,
              "#fb9f3a"
             ],
             [
              0.8888888888888888,
              "#fdca26"
             ],
             [
              1,
              "#f0f921"
             ]
            ]
           }
          ],
          "mesh3d":[
           {
            "type":"mesh3d",
            "colorbar":{
             "outlinewidth":0,
             "ticks":""
            }
           }
          ],
          "scatter":[
           {
            "fillpattern":{
             "fillmode":"overlay",
             "size":10,
             "solidity":0.2
            },
            "type":"scatter"
           }
          ],
          "parcoords":[
           {
            "type":"parcoords",
            "line":{
             "colorbar":{
              "outlinewidth":0,
              "ticks":""
             }
            }
           }
          ],
          "scatterpolargl":[
           {
            "type":"scatterpolargl",
            "marker":{
             "colorbar":{
              "outlinewidth":0,
              "ticks":""
             }
            }
           }
          ],
          "bar":[
           {
            "error_x":{
             "color":"#2a3f5f"
            },
            "error_y":{
             "color":"#2a3f5f"
            },
            "marker":{
             "line":{
              "color":"#E5ECF6",
              "width":0.5
             },
             "pattern":{
              "fillmode":"overlay",
              "size":10,
              "solidity":0.2
             }
            },
            "type":"bar"
           }
          ],
          "scattergeo":[
           {
            "type":"scattergeo",
            "marker":{
             "colorbar":{
              "outlinewidth":0,
              "ticks":""
             }
            }
           }
          ],
          "scatterpolar":[
           {
            "type":"scatterpolar",
            "marker":{
             "colorbar":{
              "outlinewidth":0,
              "ticks":""
             }
            }
           }
          ],
          "histogram":[
           {
            "marker":{
             "pattern":{
              "fillmode":"overlay",
              "size":10,
              "solidity":0.2
             }
            },
            "type":"histogram"
           }
          ],
          "scattergl":[
           {
            "type":"scattergl",
            "marker":{
             "colorbar":{
              "outlinewidth":0,
              "ticks":""
             }
            }
           }
          ],
          "scatter3d":[
           {
            "type":"scatter3d",
            "line":{
             "colorbar":{
              "outlinewidth":0,
              "ticks":""
             }
            },
            "marker":{
             "colorbar":{
              "outlinewidth":0,
              "ticks":""
             }
            }
           }
          ],
          "scattermapbox":[
           {
            "type":"scattermapbox",
            "marker":{
             "colorbar":{
              "outlinewidth":0,
              "ticks":""
             }
            }
           }
          ],
          "scatterternary":[
           {
            "type":"scatterternary",
            "marker":{
             "colorbar":{
              "outlinewidth":0,
              "ticks":""
             }
            }
           }
          ],
          "scattercarpet":[
           {
            "type":"scattercarpet",
            "marker":{
             "colorbar":{
              "outlinewidth":0,
              "ticks":""
             }
            }
           }
          ],
          "carpet":[
           {
            "aaxis":{
             "endlinecolor":"#2a3f5f",
             "gridcolor":"white",
             "linecolor":"white",
             "minorgridcolor":"white",
             "startlinecolor":"#2a3f5f"
            },
            "baxis":{
             "endlinecolor":"#2a3f5f",
             "gridcolor":"white",
             "linecolor":"white",
             "minorgridcolor":"white",
             "startlinecolor":"#2a3f5f"
            },
            "type":"carpet"
           }
          ],
          "table":[
           {
            "cells":{
             "fill":{
              "color":"#EBF0F8"
             },
             "line":{
              "color":"white"
             }
            },
            "header":{
             "fill":{
              "color":"#C8D4E3"
             },
             "line":{
              "color":"white"
             }
            },
            "type":"table"
           }
          ],
          "barpolar":[
           {
            "marker":{
             "line":{
              "color":"#E5ECF6",
              "width":0.5
             },
             "pattern":{
              "fillmode":"overlay",
              "size":10,
              "solidity":0.2
             }
            },
            "type":"barpolar"
           }
          ],
          "pie":[
           {
            "automargin":true,
            "type":"pie"
           }
          ]
         },
         "layout":{
          "autotypenumbers":"strict",
          "colorway":[
           "#636efa",
           "#EF553B",
           "#00cc96",
           "#ab63fa",
           "#FFA15A",
           "#19d3f3",
           "#FF6692",
           "#B6E880",
           "#FF97FF",
           "#FECB52"
          ],
          "font":{
           "color":"#2a3f5f"
          },
          "hovermode":"closest",
          "hoverlabel":{
           "align":"left"
          },
          "paper_bgcolor":"white",
          "plot_bgcolor":"#E5ECF6",
          "polar":{
           "bgcolor":"#E5ECF6",
           "angularaxis":{
            "gridcolor":"white",
            "linecolor":"white",
            "ticks":""
           },
           "radialaxis":{
            "gridcolor":"white",
            "linecolor":"white",
            "ticks":""
           }
          },
          "ternary":{
           "bgcolor":"#E5ECF6",
           "aaxis":{
            "gridcolor":"white",
            "linecolor":"white",
            "ticks":""
           },
           "baxis":{
            "gridcolor":"white",
            "linecolor":"white",
            "ticks":""
           },
           "caxis":{
            "gridcolor":"white",
            "linecolor":"white",
            "ticks":""
           }
          },
          "coloraxis":{
           "colorbar":{
            "outlinewidth":0,
            "ticks":""
           }
          },
          "colorscale":{
           "sequential":[
            [
             0,
             "#0d0887"
            ],
            [
             0.1111111111111111,
             "#46039f"
            ],
            [
             0.2222222222222222,
             "#7201a8"
            ],
            [
             0.3333333333333333,
             "#9c179e"
            ],
            [
             0.4444444444444444,
             "#bd3786"
            ],
            [
             0.5555555555555556,
             "#d8576b"
            ],
            [
             0.6666666666666666,
             "#ed7953"
            ],
            [
             0.7777777777777778,
             "#fb9f3a"
            ],
            [
             0.8888888888888888,
             "#fdca26"
            ],
            [
             1,
             "#f0f921"
            ]
           ],
           "sequentialminus":[
            [
             0,
             "#0d0887"
            ],
            [
             0.1111111111111111,
             "#46039f"
            ],
            [
             0.2222222222222222,
             "#7201a8"
            ],
            [
             0.3333333333333333,
             "#9c179e"
            ],
            [
             0.4444444444444444,
             "#bd3786"
            ],
            [
             0.5555555555555556,
             "#d8576b"
            ],
            [
             0.6666666666666666,
             "#ed7953"
            ],
            [
             0.7777777777777778,
             "#fb9f3a"
            ],
            [
             0.8888888888888888,
             "#fdca26"
            ],
            [
             1,
             "#f0f921"
            ]
           ],
           "diverging":[
            [
             0,
             "#8e0152"
            ],
            [
             0.1,
             "#c51b7d"
            ],
            [
             0.2,
             "#de77ae"
            ],
            [
             0.3,
             "#f1b6da"
            ],
            [
             0.4,
             "#fde0ef"
            ],
            [
             0.5,
             "#f7f7f7"
            ],
            [
             0.6,
             "#e6f5d0"
            ],
            [
             0.7,
             "#b8e186"
            ],
            [
             0.8,
             "#7fbc41"
            ],
            [
             0.9,
             "#4d9221"
            ],
            [
             1,
             "#276419"
            ]
           ]
          },
          "xaxis":{
           "gridcolor":"white",
           "linecolor":"white",
           "ticks":"",
           "title":{
            "standoff":15
           },
           "zerolinecolor":"white",
           "automargin":true,
           "zerolinewidth":2
          },
          "yaxis":{
           "gridcolor":"white",
           "linecolor":"white",
           "ticks":"",
           "title":{
            "standoff":15
           },
           "zerolinecolor":"white",
           "automargin":true,
           "zerolinewidth":2
          },
          "scene":{
           "xaxis":{
            "backgroundcolor":"#E5ECF6",
            "gridcolor":"white",
            "linecolor":"white",
            "showbackground":true,
            "ticks":"",
            "zerolinecolor":"white",
            "gridwidth":2
           },
           "yaxis":{
            "backgroundcolor":"#E5ECF6",
            "gridcolor":"white",
            "linecolor":"white",
            "showbackground":true,
            "ticks":"",
            "zerolinecolor":"white",
            "gridwidth":2
           },
           "zaxis":{
            "backgroundcolor":"#E5ECF6",
            "gridcolor":"white",
            "linecolor":"white",
            "showbackground":true,
            "ticks":"",
            "zerolinecolor":"white",
            "gridwidth":2
           }
          },
          "shapedefaults":{
           "line":{
            "color":"#2a3f5f"
           }
          },
          "annotationdefaults":{
           "arrowcolor":"#2a3f5f",
           "arrowhead":0,
           "arrowwidth":1
          },
          "geo":{
           "bgcolor":"white",
           "landcolor":"#E5ECF6",
           "subunitcolor":"white",
           "showland":true,
           "showlakes":true,
           "lakecolor":"white"
          },
          "title":{
           "x":0.05
          },
          "mapbox":{
           "style":"light"
          }
         }
        }
       },
       "config":{
        "plotlyServerURL":"https:\/\/plot.ly"
       }
      }
     },
     "metadata":{},
     "output_type":"display_data"
    }
   ],
   "metadata":{
    "datalore":{
     "node_id":"7iJPtTJJo5jr8kN9EObvDh",
     "type":"CODE",
     "hide_input_from_viewers":true,
     "hide_output_from_viewers":true
    }
   }
  },
  {
   "cell_type":"markdown",
   "source":[
    "# Bublinový graf\n",
    "Bublinové grafy rozširujú scatter ploty tým, že veľkosť bubliny reprezentuje ďalšiu dimenziu dát"
   ],
   "attachments":{},
   "metadata":{
    "datalore":{
     "node_id":"JoYxDS2SrasUNmwX7yekpB",
     "type":"MD",
     "hide_input_from_viewers":true,
     "hide_output_from_viewers":true
    }
   }
  },
  {
   "cell_type":"code",
   "source":[],
   "execution_count":27,
   "outputs":[
    {
     "data":{
      "application\/vnd.plotly.v1+json":{
       "data":[
        {
         "marker":{
          "size":[
           30,
           80,
           200,
           100
          ]
         },
         "mode":"markers",
         "x":[
          1,
          2,
          3,
          4
         ],
         "y":[
          10,
          11,
          12,
          13
         ],
         "type":"scatter"
        }
       ],
       "layout":{
        "template":{
         "data":{
          "histogram2dcontour":[
           {
            "type":"histogram2dcontour",
            "colorbar":{
             "outlinewidth":0,
             "ticks":""
            },
            "colorscale":[
             [
              0,
              "#0d0887"
             ],
             [
              0.1111111111111111,
              "#46039f"
             ],
             [
              0.2222222222222222,
              "#7201a8"
             ],
             [
              0.3333333333333333,
              "#9c179e"
             ],
             [
              0.4444444444444444,
              "#bd3786"
             ],
             [
              0.5555555555555556,
              "#d8576b"
             ],
             [
              0.6666666666666666,
              "#ed7953"
             ],
             [
              0.7777777777777778,
              "#fb9f3a"
             ],
             [
              0.8888888888888888,
              "#fdca26"
             ],
             [
              1,
              "#f0f921"
             ]
            ]
           }
          ],
          "choropleth":[
           {
            "type":"choropleth",
            "colorbar":{
             "outlinewidth":0,
             "ticks":""
            }
           }
          ],
          "histogram2d":[
           {
            "type":"histogram2d",
            "colorbar":{
             "outlinewidth":0,
             "ticks":""
            },
            "colorscale":[
             [
              0,
              "#0d0887"
             ],
             [
              0.1111111111111111,
              "#46039f"
             ],
             [
              0.2222222222222222,
              "#7201a8"
             ],
             [
              0.3333333333333333,
              "#9c179e"
             ],
             [
              0.4444444444444444,
              "#bd3786"
             ],
             [
              0.5555555555555556,
              "#d8576b"
             ],
             [
              0.6666666666666666,
              "#ed7953"
             ],
             [
              0.7777777777777778,
              "#fb9f3a"
             ],
             [
              0.8888888888888888,
              "#fdca26"
             ],
             [
              1,
              "#f0f921"
             ]
            ]
           }
          ],
          "heatmap":[
           {
            "type":"heatmap",
            "colorbar":{
             "outlinewidth":0,
             "ticks":""
            },
            "colorscale":[
             [
              0,
              "#0d0887"
             ],
             [
              0.1111111111111111,
              "#46039f"
             ],
             [
              0.2222222222222222,
              "#7201a8"
             ],
             [
              0.3333333333333333,
              "#9c179e"
             ],
             [
              0.4444444444444444,
              "#bd3786"
             ],
             [
              0.5555555555555556,
              "#d8576b"
             ],
             [
              0.6666666666666666,
              "#ed7953"
             ],
             [
              0.7777777777777778,
              "#fb9f3a"
             ],
             [
              0.8888888888888888,
              "#fdca26"
             ],
             [
              1,
              "#f0f921"
             ]
            ]
           }
          ],
          "heatmapgl":[
           {
            "type":"heatmapgl",
            "colorbar":{
             "outlinewidth":0,
             "ticks":""
            },
            "colorscale":[
             [
              0,
              "#0d0887"
             ],
             [
              0.1111111111111111,
              "#46039f"
             ],
             [
              0.2222222222222222,
              "#7201a8"
             ],
             [
              0.3333333333333333,
              "#9c179e"
             ],
             [
              0.4444444444444444,
              "#bd3786"
             ],
             [
              0.5555555555555556,
              "#d8576b"
             ],
             [
              0.6666666666666666,
              "#ed7953"
             ],
             [
              0.7777777777777778,
              "#fb9f3a"
             ],
             [
              0.8888888888888888,
              "#fdca26"
             ],
             [
              1,
              "#f0f921"
             ]
            ]
           }
          ],
          "contourcarpet":[
           {
            "type":"contourcarpet",
            "colorbar":{
             "outlinewidth":0,
             "ticks":""
            }
           }
          ],
          "contour":[
           {
            "type":"contour",
            "colorbar":{
             "outlinewidth":0,
             "ticks":""
            },
            "colorscale":[
             [
              0,
              "#0d0887"
             ],
             [
              0.1111111111111111,
              "#46039f"
             ],
             [
              0.2222222222222222,
              "#7201a8"
             ],
             [
              0.3333333333333333,
              "#9c179e"
             ],
             [
              0.4444444444444444,
              "#bd3786"
             ],
             [
              0.5555555555555556,
              "#d8576b"
             ],
             [
              0.6666666666666666,
              "#ed7953"
             ],
             [
              0.7777777777777778,
              "#fb9f3a"
             ],
             [
              0.8888888888888888,
              "#fdca26"
             ],
             [
              1,
              "#f0f921"
             ]
            ]
           }
          ],
          "surface":[
           {
            "type":"surface",
            "colorbar":{
             "outlinewidth":0,
             "ticks":""
            },
            "colorscale":[
             [
              0,
              "#0d0887"
             ],
             [
              0.1111111111111111,
              "#46039f"
             ],
             [
              0.2222222222222222,
              "#7201a8"
             ],
             [
              0.3333333333333333,
              "#9c179e"
             ],
             [
              0.4444444444444444,
              "#bd3786"
             ],
             [
              0.5555555555555556,
              "#d8576b"
             ],
             [
              0.6666666666666666,
              "#ed7953"
             ],
             [
              0.7777777777777778,
              "#fb9f3a"
             ],
             [
              0.8888888888888888,
              "#fdca26"
             ],
             [
              1,
              "#f0f921"
             ]
            ]
           }
          ],
          "mesh3d":[
           {
            "type":"mesh3d",
            "colorbar":{
             "outlinewidth":0,
             "ticks":""
            }
           }
          ],
          "scatter":[
           {
            "fillpattern":{
             "fillmode":"overlay",
             "size":10,
             "solidity":0.2
            },
            "type":"scatter"
           }
          ],
          "parcoords":[
           {
            "type":"parcoords",
            "line":{
             "colorbar":{
              "outlinewidth":0,
              "ticks":""
             }
            }
           }
          ],
          "scatterpolargl":[
           {
            "type":"scatterpolargl",
            "marker":{
             "colorbar":{
              "outlinewidth":0,
              "ticks":""
             }
            }
           }
          ],
          "bar":[
           {
            "error_x":{
             "color":"#2a3f5f"
            },
            "error_y":{
             "color":"#2a3f5f"
            },
            "marker":{
             "line":{
              "color":"#E5ECF6",
              "width":0.5
             },
             "pattern":{
              "fillmode":"overlay",
              "size":10,
              "solidity":0.2
             }
            },
            "type":"bar"
           }
          ],
          "scattergeo":[
           {
            "type":"scattergeo",
            "marker":{
             "colorbar":{
              "outlinewidth":0,
              "ticks":""
             }
            }
           }
          ],
          "scatterpolar":[
           {
            "type":"scatterpolar",
            "marker":{
             "colorbar":{
              "outlinewidth":0,
              "ticks":""
             }
            }
           }
          ],
          "histogram":[
           {
            "marker":{
             "pattern":{
              "fillmode":"overlay",
              "size":10,
              "solidity":0.2
             }
            },
            "type":"histogram"
           }
          ],
          "scattergl":[
           {
            "type":"scattergl",
            "marker":{
             "colorbar":{
              "outlinewidth":0,
              "ticks":""
             }
            }
           }
          ],
          "scatter3d":[
           {
            "type":"scatter3d",
            "line":{
             "colorbar":{
              "outlinewidth":0,
              "ticks":""
             }
            },
            "marker":{
             "colorbar":{
              "outlinewidth":0,
              "ticks":""
             }
            }
           }
          ],
          "scattermapbox":[
           {
            "type":"scattermapbox",
            "marker":{
             "colorbar":{
              "outlinewidth":0,
              "ticks":""
             }
            }
           }
          ],
          "scatterternary":[
           {
            "type":"scatterternary",
            "marker":{
             "colorbar":{
              "outlinewidth":0,
              "ticks":""
             }
            }
           }
          ],
          "scattercarpet":[
           {
            "type":"scattercarpet",
            "marker":{
             "colorbar":{
              "outlinewidth":0,
              "ticks":""
             }
            }
           }
          ],
          "carpet":[
           {
            "aaxis":{
             "endlinecolor":"#2a3f5f",
             "gridcolor":"white",
             "linecolor":"white",
             "minorgridcolor":"white",
             "startlinecolor":"#2a3f5f"
            },
            "baxis":{
             "endlinecolor":"#2a3f5f",
             "gridcolor":"white",
             "linecolor":"white",
             "minorgridcolor":"white",
             "startlinecolor":"#2a3f5f"
            },
            "type":"carpet"
           }
          ],
          "table":[
           {
            "cells":{
             "fill":{
              "color":"#EBF0F8"
             },
             "line":{
              "color":"white"
             }
            },
            "header":{
             "fill":{
              "color":"#C8D4E3"
             },
             "line":{
              "color":"white"
             }
            },
            "type":"table"
           }
          ],
          "barpolar":[
           {
            "marker":{
             "line":{
              "color":"#E5ECF6",
              "width":0.5
             },
             "pattern":{
              "fillmode":"overlay",
              "size":10,
              "solidity":0.2
             }
            },
            "type":"barpolar"
           }
          ],
          "pie":[
           {
            "automargin":true,
            "type":"pie"
           }
          ]
         },
         "layout":{
          "autotypenumbers":"strict",
          "colorway":[
           "#636efa",
           "#EF553B",
           "#00cc96",
           "#ab63fa",
           "#FFA15A",
           "#19d3f3",
           "#FF6692",
           "#B6E880",
           "#FF97FF",
           "#FECB52"
          ],
          "font":{
           "color":"#2a3f5f"
          },
          "hovermode":"closest",
          "hoverlabel":{
           "align":"left"
          },
          "paper_bgcolor":"white",
          "plot_bgcolor":"#E5ECF6",
          "polar":{
           "bgcolor":"#E5ECF6",
           "angularaxis":{
            "gridcolor":"white",
            "linecolor":"white",
            "ticks":""
           },
           "radialaxis":{
            "gridcolor":"white",
            "linecolor":"white",
            "ticks":""
           }
          },
          "ternary":{
           "bgcolor":"#E5ECF6",
           "aaxis":{
            "gridcolor":"white",
            "linecolor":"white",
            "ticks":""
           },
           "baxis":{
            "gridcolor":"white",
            "linecolor":"white",
            "ticks":""
           },
           "caxis":{
            "gridcolor":"white",
            "linecolor":"white",
            "ticks":""
           }
          },
          "coloraxis":{
           "colorbar":{
            "outlinewidth":0,
            "ticks":""
           }
          },
          "colorscale":{
           "sequential":[
            [
             0,
             "#0d0887"
            ],
            [
             0.1111111111111111,
             "#46039f"
            ],
            [
             0.2222222222222222,
             "#7201a8"
            ],
            [
             0.3333333333333333,
             "#9c179e"
            ],
            [
             0.4444444444444444,
             "#bd3786"
            ],
            [
             0.5555555555555556,
             "#d8576b"
            ],
            [
             0.6666666666666666,
             "#ed7953"
            ],
            [
             0.7777777777777778,
             "#fb9f3a"
            ],
            [
             0.8888888888888888,
             "#fdca26"
            ],
            [
             1,
             "#f0f921"
            ]
           ],
           "sequentialminus":[
            [
             0,
             "#0d0887"
            ],
            [
             0.1111111111111111,
             "#46039f"
            ],
            [
             0.2222222222222222,
             "#7201a8"
            ],
            [
             0.3333333333333333,
             "#9c179e"
            ],
            [
             0.4444444444444444,
             "#bd3786"
            ],
            [
             0.5555555555555556,
             "#d8576b"
            ],
            [
             0.6666666666666666,
             "#ed7953"
            ],
            [
             0.7777777777777778,
             "#fb9f3a"
            ],
            [
             0.8888888888888888,
             "#fdca26"
            ],
            [
             1,
             "#f0f921"
            ]
           ],
           "diverging":[
            [
             0,
             "#8e0152"
            ],
            [
             0.1,
             "#c51b7d"
            ],
            [
             0.2,
             "#de77ae"
            ],
            [
             0.3,
             "#f1b6da"
            ],
            [
             0.4,
             "#fde0ef"
            ],
            [
             0.5,
             "#f7f7f7"
            ],
            [
             0.6,
             "#e6f5d0"
            ],
            [
             0.7,
             "#b8e186"
            ],
            [
             0.8,
             "#7fbc41"
            ],
            [
             0.9,
             "#4d9221"
            ],
            [
             1,
             "#276419"
            ]
           ]
          },
          "xaxis":{
           "gridcolor":"white",
           "linecolor":"white",
           "ticks":"",
           "title":{
            "standoff":15
           },
           "zerolinecolor":"white",
           "automargin":true,
           "zerolinewidth":2
          },
          "yaxis":{
           "gridcolor":"white",
           "linecolor":"white",
           "ticks":"",
           "title":{
            "standoff":15
           },
           "zerolinecolor":"white",
           "automargin":true,
           "zerolinewidth":2
          },
          "scene":{
           "xaxis":{
            "backgroundcolor":"#E5ECF6",
            "gridcolor":"white",
            "linecolor":"white",
            "showbackground":true,
            "ticks":"",
            "zerolinecolor":"white",
            "gridwidth":2
           },
           "yaxis":{
            "backgroundcolor":"#E5ECF6",
            "gridcolor":"white",
            "linecolor":"white",
            "showbackground":true,
            "ticks":"",
            "zerolinecolor":"white",
            "gridwidth":2
           },
           "zaxis":{
            "backgroundcolor":"#E5ECF6",
            "gridcolor":"white",
            "linecolor":"white",
            "showbackground":true,
            "ticks":"",
            "zerolinecolor":"white",
            "gridwidth":2
           }
          },
          "shapedefaults":{
           "line":{
            "color":"#2a3f5f"
           }
          },
          "annotationdefaults":{
           "arrowcolor":"#2a3f5f",
           "arrowhead":0,
           "arrowwidth":1
          },
          "geo":{
           "bgcolor":"white",
           "landcolor":"#E5ECF6",
           "subunitcolor":"white",
           "showland":true,
           "showlakes":true,
           "lakecolor":"white"
          },
          "title":{
           "x":0.05
          },
          "mapbox":{
           "style":"light"
          }
         }
        }
       },
       "config":{
        "plotlyServerURL":"https:\/\/plot.ly"
       }
      }
     },
     "metadata":{},
     "output_type":"display_data"
    }
   ],
   "metadata":{
    "datalore":{
     "node_id":"0B4GuyNt67Oq9q1JbVISdf",
     "type":"CODE",
     "hide_input_from_viewers":true,
     "hide_output_from_viewers":true
    }
   }
  },
  {
   "cell_type":"markdown",
   "source":[
    "## Box Plot\n",
    "Box ploty (alebo box-and-whisker grafy) sú užitočné na zobrazovanie distribúcie dát cez kvartily, odhalenie odľahlých hodnôt a porovnanie distribúcií medzi rôznymi skupinami."
   ],
   "attachments":{},
   "metadata":{
    "datalore":{
     "node_id":"Nrcp9aWEsyHmwbGmIx8aVI",
     "type":"MD",
     "hide_input_from_viewers":true,
     "hide_output_from_viewers":true
    }
   }
  },
  {
   "cell_type":"code",
   "source":[],
   "execution_count":28,
   "outputs":[
    {
     "data":{
      "application\/vnd.plotly.v1+json":{
       "data":[
        {
         "name":"Skupina 1",
         "y":[
          1,
          2,
          3,
          4,
          5
         ],
         "type":"box"
        },
        {
         "name":"Skupina 2",
         "y":[
          1,
          2,
          2,
          3,
          5
         ],
         "type":"box"
        }
       ],
       "layout":{
        "template":{
         "data":{
          "histogram2dcontour":[
           {
            "type":"histogram2dcontour",
            "colorbar":{
             "outlinewidth":0,
             "ticks":""
            },
            "colorscale":[
             [
              0,
              "#0d0887"
             ],
             [
              0.1111111111111111,
              "#46039f"
             ],
             [
              0.2222222222222222,
              "#7201a8"
             ],
             [
              0.3333333333333333,
              "#9c179e"
             ],
             [
              0.4444444444444444,
              "#bd3786"
             ],
             [
              0.5555555555555556,
              "#d8576b"
             ],
             [
              0.6666666666666666,
              "#ed7953"
             ],
             [
              0.7777777777777778,
              "#fb9f3a"
             ],
             [
              0.8888888888888888,
              "#fdca26"
             ],
             [
              1,
              "#f0f921"
             ]
            ]
           }
          ],
          "choropleth":[
           {
            "type":"choropleth",
            "colorbar":{
             "outlinewidth":0,
             "ticks":""
            }
           }
          ],
          "histogram2d":[
           {
            "type":"histogram2d",
            "colorbar":{
             "outlinewidth":0,
             "ticks":""
            },
            "colorscale":[
             [
              0,
              "#0d0887"
             ],
             [
              0.1111111111111111,
              "#46039f"
             ],
             [
              0.2222222222222222,
              "#7201a8"
             ],
             [
              0.3333333333333333,
              "#9c179e"
             ],
             [
              0.4444444444444444,
              "#bd3786"
             ],
             [
              0.5555555555555556,
              "#d8576b"
             ],
             [
              0.6666666666666666,
              "#ed7953"
             ],
             [
              0.7777777777777778,
              "#fb9f3a"
             ],
             [
              0.8888888888888888,
              "#fdca26"
             ],
             [
              1,
              "#f0f921"
             ]
            ]
           }
          ],
          "heatmap":[
           {
            "type":"heatmap",
            "colorbar":{
             "outlinewidth":0,
             "ticks":""
            },
            "colorscale":[
             [
              0,
              "#0d0887"
             ],
             [
              0.1111111111111111,
              "#46039f"
             ],
             [
              0.2222222222222222,
              "#7201a8"
             ],
             [
              0.3333333333333333,
              "#9c179e"
             ],
             [
              0.4444444444444444,
              "#bd3786"
             ],
             [
              0.5555555555555556,
              "#d8576b"
             ],
             [
              0.6666666666666666,
              "#ed7953"
             ],
             [
              0.7777777777777778,
              "#fb9f3a"
             ],
             [
              0.8888888888888888,
              "#fdca26"
             ],
             [
              1,
              "#f0f921"
             ]
            ]
           }
          ],
          "heatmapgl":[
           {
            "type":"heatmapgl",
            "colorbar":{
             "outlinewidth":0,
             "ticks":""
            },
            "colorscale":[
             [
              0,
              "#0d0887"
             ],
             [
              0.1111111111111111,
              "#46039f"
             ],
             [
              0.2222222222222222,
              "#7201a8"
             ],
             [
              0.3333333333333333,
              "#9c179e"
             ],
             [
              0.4444444444444444,
              "#bd3786"
             ],
             [
              0.5555555555555556,
              "#d8576b"
             ],
             [
              0.6666666666666666,
              "#ed7953"
             ],
             [
              0.7777777777777778,
              "#fb9f3a"
             ],
             [
              0.8888888888888888,
              "#fdca26"
             ],
             [
              1,
              "#f0f921"
             ]
            ]
           }
          ],
          "contourcarpet":[
           {
            "type":"contourcarpet",
            "colorbar":{
             "outlinewidth":0,
             "ticks":""
            }
           }
          ],
          "contour":[
           {
            "type":"contour",
            "colorbar":{
             "outlinewidth":0,
             "ticks":""
            },
            "colorscale":[
             [
              0,
              "#0d0887"
             ],
             [
              0.1111111111111111,
              "#46039f"
             ],
             [
              0.2222222222222222,
              "#7201a8"
             ],
             [
              0.3333333333333333,
              "#9c179e"
             ],
             [
              0.4444444444444444,
              "#bd3786"
             ],
             [
              0.5555555555555556,
              "#d8576b"
             ],
             [
              0.6666666666666666,
              "#ed7953"
             ],
             [
              0.7777777777777778,
              "#fb9f3a"
             ],
             [
              0.8888888888888888,
              "#fdca26"
             ],
             [
              1,
              "#f0f921"
             ]
            ]
           }
          ],
          "surface":[
           {
            "type":"surface",
            "colorbar":{
             "outlinewidth":0,
             "ticks":""
            },
            "colorscale":[
             [
              0,
              "#0d0887"
             ],
             [
              0.1111111111111111,
              "#46039f"
             ],
             [
              0.2222222222222222,
              "#7201a8"
             ],
             [
              0.3333333333333333,
              "#9c179e"
             ],
             [
              0.4444444444444444,
              "#bd3786"
             ],
             [
              0.5555555555555556,
              "#d8576b"
             ],
             [
              0.6666666666666666,
              "#ed7953"
             ],
             [
              0.7777777777777778,
              "#fb9f3a"
             ],
             [
              0.8888888888888888,
              "#fdca26"
             ],
             [
              1,
              "#f0f921"
             ]
            ]
           }
          ],
          "mesh3d":[
           {
            "type":"mesh3d",
            "colorbar":{
             "outlinewidth":0,
             "ticks":""
            }
           }
          ],
          "scatter":[
           {
            "fillpattern":{
             "fillmode":"overlay",
             "size":10,
             "solidity":0.2
            },
            "type":"scatter"
           }
          ],
          "parcoords":[
           {
            "type":"parcoords",
            "line":{
             "colorbar":{
              "outlinewidth":0,
              "ticks":""
             }
            }
           }
          ],
          "scatterpolargl":[
           {
            "type":"scatterpolargl",
            "marker":{
             "colorbar":{
              "outlinewidth":0,
              "ticks":""
             }
            }
           }
          ],
          "bar":[
           {
            "error_x":{
             "color":"#2a3f5f"
            },
            "error_y":{
             "color":"#2a3f5f"
            },
            "marker":{
             "line":{
              "color":"#E5ECF6",
              "width":0.5
             },
             "pattern":{
              "fillmode":"overlay",
              "size":10,
              "solidity":0.2
             }
            },
            "type":"bar"
           }
          ],
          "scattergeo":[
           {
            "type":"scattergeo",
            "marker":{
             "colorbar":{
              "outlinewidth":0,
              "ticks":""
             }
            }
           }
          ],
          "scatterpolar":[
           {
            "type":"scatterpolar",
            "marker":{
             "colorbar":{
              "outlinewidth":0,
              "ticks":""
             }
            }
           }
          ],
          "histogram":[
           {
            "marker":{
             "pattern":{
              "fillmode":"overlay",
              "size":10,
              "solidity":0.2
             }
            },
            "type":"histogram"
           }
          ],
          "scattergl":[
           {
            "type":"scattergl",
            "marker":{
             "colorbar":{
              "outlinewidth":0,
              "ticks":""
             }
            }
           }
          ],
          "scatter3d":[
           {
            "type":"scatter3d",
            "line":{
             "colorbar":{
              "outlinewidth":0,
              "ticks":""
             }
            },
            "marker":{
             "colorbar":{
              "outlinewidth":0,
              "ticks":""
             }
            }
           }
          ],
          "scattermapbox":[
           {
            "type":"scattermapbox",
            "marker":{
             "colorbar":{
              "outlinewidth":0,
              "ticks":""
             }
            }
           }
          ],
          "scatterternary":[
           {
            "type":"scatterternary",
            "marker":{
             "colorbar":{
              "outlinewidth":0,
              "ticks":""
             }
            }
           }
          ],
          "scattercarpet":[
           {
            "type":"scattercarpet",
            "marker":{
             "colorbar":{
              "outlinewidth":0,
              "ticks":""
             }
            }
           }
          ],
          "carpet":[
           {
            "aaxis":{
             "endlinecolor":"#2a3f5f",
             "gridcolor":"white",
             "linecolor":"white",
             "minorgridcolor":"white",
             "startlinecolor":"#2a3f5f"
            },
            "baxis":{
             "endlinecolor":"#2a3f5f",
             "gridcolor":"white",
             "linecolor":"white",
             "minorgridcolor":"white",
             "startlinecolor":"#2a3f5f"
            },
            "type":"carpet"
           }
          ],
          "table":[
           {
            "cells":{
             "fill":{
              "color":"#EBF0F8"
             },
             "line":{
              "color":"white"
             }
            },
            "header":{
             "fill":{
              "color":"#C8D4E3"
             },
             "line":{
              "color":"white"
             }
            },
            "type":"table"
           }
          ],
          "barpolar":[
           {
            "marker":{
             "line":{
              "color":"#E5ECF6",
              "width":0.5
             },
             "pattern":{
              "fillmode":"overlay",
              "size":10,
              "solidity":0.2
             }
            },
            "type":"barpolar"
           }
          ],
          "pie":[
           {
            "automargin":true,
            "type":"pie"
           }
          ]
         },
         "layout":{
          "autotypenumbers":"strict",
          "colorway":[
           "#636efa",
           "#EF553B",
           "#00cc96",
           "#ab63fa",
           "#FFA15A",
           "#19d3f3",
           "#FF6692",
           "#B6E880",
           "#FF97FF",
           "#FECB52"
          ],
          "font":{
           "color":"#2a3f5f"
          },
          "hovermode":"closest",
          "hoverlabel":{
           "align":"left"
          },
          "paper_bgcolor":"white",
          "plot_bgcolor":"#E5ECF6",
          "polar":{
           "bgcolor":"#E5ECF6",
           "angularaxis":{
            "gridcolor":"white",
            "linecolor":"white",
            "ticks":""
           },
           "radialaxis":{
            "gridcolor":"white",
            "linecolor":"white",
            "ticks":""
           }
          },
          "ternary":{
           "bgcolor":"#E5ECF6",
           "aaxis":{
            "gridcolor":"white",
            "linecolor":"white",
            "ticks":""
           },
           "baxis":{
            "gridcolor":"white",
            "linecolor":"white",
            "ticks":""
           },
           "caxis":{
            "gridcolor":"white",
            "linecolor":"white",
            "ticks":""
           }
          },
          "coloraxis":{
           "colorbar":{
            "outlinewidth":0,
            "ticks":""
           }
          },
          "colorscale":{
           "sequential":[
            [
             0,
             "#0d0887"
            ],
            [
             0.1111111111111111,
             "#46039f"
            ],
            [
             0.2222222222222222,
             "#7201a8"
            ],
            [
             0.3333333333333333,
             "#9c179e"
            ],
            [
             0.4444444444444444,
             "#bd3786"
            ],
            [
             0.5555555555555556,
             "#d8576b"
            ],
            [
             0.6666666666666666,
             "#ed7953"
            ],
            [
             0.7777777777777778,
             "#fb9f3a"
            ],
            [
             0.8888888888888888,
             "#fdca26"
            ],
            [
             1,
             "#f0f921"
            ]
           ],
           "sequentialminus":[
            [
             0,
             "#0d0887"
            ],
            [
             0.1111111111111111,
             "#46039f"
            ],
            [
             0.2222222222222222,
             "#7201a8"
            ],
            [
             0.3333333333333333,
             "#9c179e"
            ],
            [
             0.4444444444444444,
             "#bd3786"
            ],
            [
             0.5555555555555556,
             "#d8576b"
            ],
            [
             0.6666666666666666,
             "#ed7953"
            ],
            [
             0.7777777777777778,
             "#fb9f3a"
            ],
            [
             0.8888888888888888,
             "#fdca26"
            ],
            [
             1,
             "#f0f921"
            ]
           ],
           "diverging":[
            [
             0,
             "#8e0152"
            ],
            [
             0.1,
             "#c51b7d"
            ],
            [
             0.2,
             "#de77ae"
            ],
            [
             0.3,
             "#f1b6da"
            ],
            [
             0.4,
             "#fde0ef"
            ],
            [
             0.5,
             "#f7f7f7"
            ],
            [
             0.6,
             "#e6f5d0"
            ],
            [
             0.7,
             "#b8e186"
            ],
            [
             0.8,
             "#7fbc41"
            ],
            [
             0.9,
             "#4d9221"
            ],
            [
             1,
             "#276419"
            ]
           ]
          },
          "xaxis":{
           "gridcolor":"white",
           "linecolor":"white",
           "ticks":"",
           "title":{
            "standoff":15
           },
           "zerolinecolor":"white",
           "automargin":true,
           "zerolinewidth":2
          },
          "yaxis":{
           "gridcolor":"white",
           "linecolor":"white",
           "ticks":"",
           "title":{
            "standoff":15
           },
           "zerolinecolor":"white",
           "automargin":true,
           "zerolinewidth":2
          },
          "scene":{
           "xaxis":{
            "backgroundcolor":"#E5ECF6",
            "gridcolor":"white",
            "linecolor":"white",
            "showbackground":true,
            "ticks":"",
            "zerolinecolor":"white",
            "gridwidth":2
           },
           "yaxis":{
            "backgroundcolor":"#E5ECF6",
            "gridcolor":"white",
            "linecolor":"white",
            "showbackground":true,
            "ticks":"",
            "zerolinecolor":"white",
            "gridwidth":2
           },
           "zaxis":{
            "backgroundcolor":"#E5ECF6",
            "gridcolor":"white",
            "linecolor":"white",
            "showbackground":true,
            "ticks":"",
            "zerolinecolor":"white",
            "gridwidth":2
           }
          },
          "shapedefaults":{
           "line":{
            "color":"#2a3f5f"
           }
          },
          "annotationdefaults":{
           "arrowcolor":"#2a3f5f",
           "arrowhead":0,
           "arrowwidth":1
          },
          "geo":{
           "bgcolor":"white",
           "landcolor":"#E5ECF6",
           "subunitcolor":"white",
           "showland":true,
           "showlakes":true,
           "lakecolor":"white"
          },
          "title":{
           "x":0.05
          },
          "mapbox":{
           "style":"light"
          }
         }
        }
       },
       "config":{
        "plotlyServerURL":"https:\/\/plot.ly"
       }
      }
     },
     "metadata":{},
     "output_type":"display_data"
    }
   ],
   "metadata":{
    "datalore":{
     "node_id":"LKUx3VEl3Lv9fl4MTSkEou",
     "type":"CODE",
     "hide_input_from_viewers":true,
     "hide_output_from_viewers":true
    }
   }
  },
  {
   "cell_type":"code",
   "source":[],
   "execution_count":29,
   "outputs":[
    {
     "data":{
      "application\/vnd.plotly.v1+json":{
       "data":[
        {
         "base":1000,
         "measure":[
          "relative",
          "relative",
          "total",
          "relative",
          "total"
         ],
         "x":[
          "Štart",
          "Predaj",
          "Marketing",
          "Vývoj",
          "Zisk"
         ],
         "y":[
          0,
          400,
          -300,
          -200,
          300
         ],
         "type":"waterfall"
        }
       ],
       "layout":{
        "template":{
         "data":{
          "histogram2dcontour":[
           {
            "type":"histogram2dcontour",
            "colorbar":{
             "outlinewidth":0,
             "ticks":""
            },
            "colorscale":[
             [
              0,
              "#0d0887"
             ],
             [
              0.1111111111111111,
              "#46039f"
             ],
             [
              0.2222222222222222,
              "#7201a8"
             ],
             [
              0.3333333333333333,
              "#9c179e"
             ],
             [
              0.4444444444444444,
              "#bd3786"
             ],
             [
              0.5555555555555556,
              "#d8576b"
             ],
             [
              0.6666666666666666,
              "#ed7953"
             ],
             [
              0.7777777777777778,
              "#fb9f3a"
             ],
             [
              0.8888888888888888,
              "#fdca26"
             ],
             [
              1,
              "#f0f921"
             ]
            ]
           }
          ],
          "choropleth":[
           {
            "type":"choropleth",
            "colorbar":{
             "outlinewidth":0,
             "ticks":""
            }
           }
          ],
          "histogram2d":[
           {
            "type":"histogram2d",
            "colorbar":{
             "outlinewidth":0,
             "ticks":""
            },
            "colorscale":[
             [
              0,
              "#0d0887"
             ],
             [
              0.1111111111111111,
              "#46039f"
             ],
             [
              0.2222222222222222,
              "#7201a8"
             ],
             [
              0.3333333333333333,
              "#9c179e"
             ],
             [
              0.4444444444444444,
              "#bd3786"
             ],
             [
              0.5555555555555556,
              "#d8576b"
             ],
             [
              0.6666666666666666,
              "#ed7953"
             ],
             [
              0.7777777777777778,
              "#fb9f3a"
             ],
             [
              0.8888888888888888,
              "#fdca26"
             ],
             [
              1,
              "#f0f921"
             ]
            ]
           }
          ],
          "heatmap":[
           {
            "type":"heatmap",
            "colorbar":{
             "outlinewidth":0,
             "ticks":""
            },
            "colorscale":[
             [
              0,
              "#0d0887"
             ],
             [
              0.1111111111111111,
              "#46039f"
             ],
             [
              0.2222222222222222,
              "#7201a8"
             ],
             [
              0.3333333333333333,
              "#9c179e"
             ],
             [
              0.4444444444444444,
              "#bd3786"
             ],
             [
              0.5555555555555556,
              "#d8576b"
             ],
             [
              0.6666666666666666,
              "#ed7953"
             ],
             [
              0.7777777777777778,
              "#fb9f3a"
             ],
             [
              0.8888888888888888,
              "#fdca26"
             ],
             [
              1,
              "#f0f921"
             ]
            ]
           }
          ],
          "heatmapgl":[
           {
            "type":"heatmapgl",
            "colorbar":{
             "outlinewidth":0,
             "ticks":""
            },
            "colorscale":[
             [
              0,
              "#0d0887"
             ],
             [
              0.1111111111111111,
              "#46039f"
             ],
             [
              0.2222222222222222,
              "#7201a8"
             ],
             [
              0.3333333333333333,
              "#9c179e"
             ],
             [
              0.4444444444444444,
              "#bd3786"
             ],
             [
              0.5555555555555556,
              "#d8576b"
             ],
             [
              0.6666666666666666,
              "#ed7953"
             ],
             [
              0.7777777777777778,
              "#fb9f3a"
             ],
             [
              0.8888888888888888,
              "#fdca26"
             ],
             [
              1,
              "#f0f921"
             ]
            ]
           }
          ],
          "contourcarpet":[
           {
            "type":"contourcarpet",
            "colorbar":{
             "outlinewidth":0,
             "ticks":""
            }
           }
          ],
          "contour":[
           {
            "type":"contour",
            "colorbar":{
             "outlinewidth":0,
             "ticks":""
            },
            "colorscale":[
             [
              0,
              "#0d0887"
             ],
             [
              0.1111111111111111,
              "#46039f"
             ],
             [
              0.2222222222222222,
              "#7201a8"
             ],
             [
              0.3333333333333333,
              "#9c179e"
             ],
             [
              0.4444444444444444,
              "#bd3786"
             ],
             [
              0.5555555555555556,
              "#d8576b"
             ],
             [
              0.6666666666666666,
              "#ed7953"
             ],
             [
              0.7777777777777778,
              "#fb9f3a"
             ],
             [
              0.8888888888888888,
              "#fdca26"
             ],
             [
              1,
              "#f0f921"
             ]
            ]
           }
          ],
          "surface":[
           {
            "type":"surface",
            "colorbar":{
             "outlinewidth":0,
             "ticks":""
            },
            "colorscale":[
             [
              0,
              "#0d0887"
             ],
             [
              0.1111111111111111,
              "#46039f"
             ],
             [
              0.2222222222222222,
              "#7201a8"
             ],
             [
              0.3333333333333333,
              "#9c179e"
             ],
             [
              0.4444444444444444,
              "#bd3786"
             ],
             [
              0.5555555555555556,
              "#d8576b"
             ],
             [
              0.6666666666666666,
              "#ed7953"
             ],
             [
              0.7777777777777778,
              "#fb9f3a"
             ],
             [
              0.8888888888888888,
              "#fdca26"
             ],
             [
              1,
              "#f0f921"
             ]
            ]
           }
          ],
          "mesh3d":[
           {
            "type":"mesh3d",
            "colorbar":{
             "outlinewidth":0,
             "ticks":""
            }
           }
          ],
          "scatter":[
           {
            "fillpattern":{
             "fillmode":"overlay",
             "size":10,
             "solidity":0.2
            },
            "type":"scatter"
           }
          ],
          "parcoords":[
           {
            "type":"parcoords",
            "line":{
             "colorbar":{
              "outlinewidth":0,
              "ticks":""
             }
            }
           }
          ],
          "scatterpolargl":[
           {
            "type":"scatterpolargl",
            "marker":{
             "colorbar":{
              "outlinewidth":0,
              "ticks":""
             }
            }
           }
          ],
          "bar":[
           {
            "error_x":{
             "color":"#2a3f5f"
            },
            "error_y":{
             "color":"#2a3f5f"
            },
            "marker":{
             "line":{
              "color":"#E5ECF6",
              "width":0.5
             },
             "pattern":{
              "fillmode":"overlay",
              "size":10,
              "solidity":0.2
             }
            },
            "type":"bar"
           }
          ],
          "scattergeo":[
           {
            "type":"scattergeo",
            "marker":{
             "colorbar":{
              "outlinewidth":0,
              "ticks":""
             }
            }
           }
          ],
          "scatterpolar":[
           {
            "type":"scatterpolar",
            "marker":{
             "colorbar":{
              "outlinewidth":0,
              "ticks":""
             }
            }
           }
          ],
          "histogram":[
           {
            "marker":{
             "pattern":{
              "fillmode":"overlay",
              "size":10,
              "solidity":0.2
             }
            },
            "type":"histogram"
           }
          ],
          "scattergl":[
           {
            "type":"scattergl",
            "marker":{
             "colorbar":{
              "outlinewidth":0,
              "ticks":""
             }
            }
           }
          ],
          "scatter3d":[
           {
            "type":"scatter3d",
            "line":{
             "colorbar":{
              "outlinewidth":0,
              "ticks":""
             }
            },
            "marker":{
             "colorbar":{
              "outlinewidth":0,
              "ticks":""
             }
            }
           }
          ],
          "scattermapbox":[
           {
            "type":"scattermapbox",
            "marker":{
             "colorbar":{
              "outlinewidth":0,
              "ticks":""
             }
            }
           }
          ],
          "scatterternary":[
           {
            "type":"scatterternary",
            "marker":{
             "colorbar":{
              "outlinewidth":0,
              "ticks":""
             }
            }
           }
          ],
          "scattercarpet":[
           {
            "type":"scattercarpet",
            "marker":{
             "colorbar":{
              "outlinewidth":0,
              "ticks":""
             }
            }
           }
          ],
          "carpet":[
           {
            "aaxis":{
             "endlinecolor":"#2a3f5f",
             "gridcolor":"white",
             "linecolor":"white",
             "minorgridcolor":"white",
             "startlinecolor":"#2a3f5f"
            },
            "baxis":{
             "endlinecolor":"#2a3f5f",
             "gridcolor":"white",
             "linecolor":"white",
             "minorgridcolor":"white",
             "startlinecolor":"#2a3f5f"
            },
            "type":"carpet"
           }
          ],
          "table":[
           {
            "cells":{
             "fill":{
              "color":"#EBF0F8"
             },
             "line":{
              "color":"white"
             }
            },
            "header":{
             "fill":{
              "color":"#C8D4E3"
             },
             "line":{
              "color":"white"
             }
            },
            "type":"table"
           }
          ],
          "barpolar":[
           {
            "marker":{
             "line":{
              "color":"#E5ECF6",
              "width":0.5
             },
             "pattern":{
              "fillmode":"overlay",
              "size":10,
              "solidity":0.2
             }
            },
            "type":"barpolar"
           }
          ],
          "pie":[
           {
            "automargin":true,
            "type":"pie"
           }
          ]
         },
         "layout":{
          "autotypenumbers":"strict",
          "colorway":[
           "#636efa",
           "#EF553B",
           "#00cc96",
           "#ab63fa",
           "#FFA15A",
           "#19d3f3",
           "#FF6692",
           "#B6E880",
           "#FF97FF",
           "#FECB52"
          ],
          "font":{
           "color":"#2a3f5f"
          },
          "hovermode":"closest",
          "hoverlabel":{
           "align":"left"
          },
          "paper_bgcolor":"white",
          "plot_bgcolor":"#E5ECF6",
          "polar":{
           "bgcolor":"#E5ECF6",
           "angularaxis":{
            "gridcolor":"white",
            "linecolor":"white",
            "ticks":""
           },
           "radialaxis":{
            "gridcolor":"white",
            "linecolor":"white",
            "ticks":""
           }
          },
          "ternary":{
           "bgcolor":"#E5ECF6",
           "aaxis":{
            "gridcolor":"white",
            "linecolor":"white",
            "ticks":""
           },
           "baxis":{
            "gridcolor":"white",
            "linecolor":"white",
            "ticks":""
           },
           "caxis":{
            "gridcolor":"white",
            "linecolor":"white",
            "ticks":""
           }
          },
          "coloraxis":{
           "colorbar":{
            "outlinewidth":0,
            "ticks":""
           }
          },
          "colorscale":{
           "sequential":[
            [
             0,
             "#0d0887"
            ],
            [
             0.1111111111111111,
             "#46039f"
            ],
            [
             0.2222222222222222,
             "#7201a8"
            ],
            [
             0.3333333333333333,
             "#9c179e"
            ],
            [
             0.4444444444444444,
             "#bd3786"
            ],
            [
             0.5555555555555556,
             "#d8576b"
            ],
            [
             0.6666666666666666,
             "#ed7953"
            ],
            [
             0.7777777777777778,
             "#fb9f3a"
            ],
            [
             0.8888888888888888,
             "#fdca26"
            ],
            [
             1,
             "#f0f921"
            ]
           ],
           "sequentialminus":[
            [
             0,
             "#0d0887"
            ],
            [
             0.1111111111111111,
             "#46039f"
            ],
            [
             0.2222222222222222,
             "#7201a8"
            ],
            [
             0.3333333333333333,
             "#9c179e"
            ],
            [
             0.4444444444444444,
             "#bd3786"
            ],
            [
             0.5555555555555556,
             "#d8576b"
            ],
            [
             0.6666666666666666,
             "#ed7953"
            ],
            [
             0.7777777777777778,
             "#fb9f3a"
            ],
            [
             0.8888888888888888,
             "#fdca26"
            ],
            [
             1,
             "#f0f921"
            ]
           ],
           "diverging":[
            [
             0,
             "#8e0152"
            ],
            [
             0.1,
             "#c51b7d"
            ],
            [
             0.2,
             "#de77ae"
            ],
            [
             0.3,
             "#f1b6da"
            ],
            [
             0.4,
             "#fde0ef"
            ],
            [
             0.5,
             "#f7f7f7"
            ],
            [
             0.6,
             "#e6f5d0"
            ],
            [
             0.7,
             "#b8e186"
            ],
            [
             0.8,
             "#7fbc41"
            ],
            [
             0.9,
             "#4d9221"
            ],
            [
             1,
             "#276419"
            ]
           ]
          },
          "xaxis":{
           "gridcolor":"white",
           "linecolor":"white",
           "ticks":"",
           "title":{
            "standoff":15
           },
           "zerolinecolor":"white",
           "automargin":true,
           "zerolinewidth":2
          },
          "yaxis":{
           "gridcolor":"white",
           "linecolor":"white",
           "ticks":"",
           "title":{
            "standoff":15
           },
           "zerolinecolor":"white",
           "automargin":true,
           "zerolinewidth":2
          },
          "scene":{
           "xaxis":{
            "backgroundcolor":"#E5ECF6",
            "gridcolor":"white",
            "linecolor":"white",
            "showbackground":true,
            "ticks":"",
            "zerolinecolor":"white",
            "gridwidth":2
           },
           "yaxis":{
            "backgroundcolor":"#E5ECF6",
            "gridcolor":"white",
            "linecolor":"white",
            "showbackground":true,
            "ticks":"",
            "zerolinecolor":"white",
            "gridwidth":2
           },
           "zaxis":{
            "backgroundcolor":"#E5ECF6",
            "gridcolor":"white",
            "linecolor":"white",
            "showbackground":true,
            "ticks":"",
            "zerolinecolor":"white",
            "gridwidth":2
           }
          },
          "shapedefaults":{
           "line":{
            "color":"#2a3f5f"
           }
          },
          "annotationdefaults":{
           "arrowcolor":"#2a3f5f",
           "arrowhead":0,
           "arrowwidth":1
          },
          "geo":{
           "bgcolor":"white",
           "landcolor":"#E5ECF6",
           "subunitcolor":"white",
           "showland":true,
           "showlakes":true,
           "lakecolor":"white"
          },
          "title":{
           "x":0.05
          },
          "mapbox":{
           "style":"light"
          }
         }
        }
       },
       "config":{
        "plotlyServerURL":"https:\/\/plot.ly"
       }
      }
     },
     "metadata":{},
     "output_type":"display_data"
    }
   ],
   "metadata":{
    "datalore":{
     "node_id":"JMBrzlpzyxIMLlnjBDXvGT",
     "type":"CODE",
     "hide_input_from_viewers":true,
     "hide_output_from_viewers":true
    }
   }
  },
  {
   "cell_type":"markdown",
   "source":[
    "# bokeh"
   ],
   "attachments":{},
   "metadata":{
    "datalore":{
     "node_id":"bokeh",
     "type":"MD",
     "hide_input_from_viewers":false,
     "hide_output_from_viewers":false,
     "sheet_delimiter":true
    }
   }
  },
  {
   "cell_type":"code",
   "source":[],
   "execution_count":43,
   "outputs":[
    {
     "data":{
      "text\/html":[
       "<style>\n",
       "        .bk-notebook-logo {\n",
       "            display: block;\n",
       "            width: 20px;\n",
       "            height: 20px;\n",
       "            background-image: url(data:image\/png;base64,iVBORw0KGgoAAAANSUhEUgAAABQAAAAUCAYAAACNiR0NAAAABHNCSVQICAgIfAhkiAAAAAlwSFlzAAALEgAACxIB0t1+\/AAAABx0RVh0U29mdHdhcmUAQWRvYmUgRmlyZXdvcmtzIENTNui8sowAAAOkSURBVDiNjZRtaJVlGMd\/1\/08zzln5zjP1LWcU9N0NkN8m2CYjpgQYQXqSs0I84OLIC0hkEKoPtiH3gmKoiJDU7QpLgoLjLIQCpEsNJ1vqUOdO7ppbuec5+V+rj4ctwzd8IIbbi6u+8f1539dt3A78eXC7QizUF7gyV1fD1Yqg4JWz84yffhm0qkFqBogB9rM8tZdtwVsPUhWhGcFJngGeWrPzHm5oaMmkfEg1usvLFyc8jLRqDOMru7AyC8saQr7GG7f5fvDeH7Ej8CM66nIF+8yngt6HWaKh7k49Soy9nXurCi1o3qUbS3zWfrYeQDTB\/Qj6kX6Ybhw4B+bOYoLKCC9H3Nu\/leUTZ1JdRWkkn2ldcCamzrcf47KKXdAJllSlxAOkRgyHsGC\/zRday5Qld9DyoM4\/q\/rUoy\/CXh3jzOu3bHUVZeU+DEn8FInkPBFlu3+nW3Nw0mk6vCDiWg8CeJaxEwuHS3+z5RgY+YBR6V1Z1nxSOfoaPa4LASWxxdNp+VWTk7+4vzaou8v8PN+xo+KY2xsw6une2frhw05CTYOmQvsEhjhWjn0bmXPjpE1+kplmmkP3suftwTubK9Vq22qKmrBhpY4jvd5afdRA3wGjFAgcnTK2s4hY0\/GPNIb0nErGMCRxWOOX64Z8RAC4oCXdklmEvcL8o0BfkNK4lUg9HTl+oPlQxdNo3Mg4Nv175e\/1LDGzZen30MEjRUtmXSfiTVu1kK8W4txyV6BMKlbgk3lMwYCiusNy9fVfvvwMxv8Ynl6vxoByANLTWplvuj\/nF9m2+PDtt1eiHPBr1oIfhCChQMBw6Aw0UulqTKZdfVvfG7VcfIqLG9bcldL\/+pdWTLxLUy8Qq38heUIjh4XlzZxzQm19lLFlr8vdQ97rjZVOLf8nclzckbcD4wxXMidpX30sFd37Fv\/GtwwhzhxGVAprjbg0gCAEeIgwCZyTV2Z1REEW8O4py0wsjeloKoMr6iCY6dP92H6Vw\/oTyICIthibxjm\/DfN9lVz8IqtqKYLUXfoKVMVQVVJOElGjrnnUt9T9wbgp8AyYKaGlqingHZU\/uG2NTZSVqwHQTWkx9hxjkpWDaCg6Ckj5qebgBVbT3V3NNXMSiWSDdGV3hrtzla7J+duwPOToIg42ChPQOQjspnSlp1V+Gjdged7+8UN5CRAV7a5EdFNwCjEaBR27b3W890TE7g24NAP\/mMDXRWrGoFPQI9ls\/MWO2dWFAar\/xcOIImbbpA3zgAAAABJRU5ErkJggg==);\n",
       "        }\n",
       "    <\/style>\n",
       "    <div>\n",
       "        <a href=\"https:\/\/bokeh.org\" target=\"_blank\" class=\"bk-notebook-logo\"><\/a>\n",
       "        <span id=\"ae86fbcc-6c64-4250-af4e-e5bd6f0f52b7\">Loading BokehJS ...<\/span>\n",
       "    <\/div>\n"
      ]
     },
     "metadata":{},
     "output_type":"display_data"
    },
    {
     "data":{
      "text\/html":[
       "<script>(function(root) {\n",
       "  function now() {\n",
       "    return new Date();\n",
       "  }\n",
       "\n",
       "  const force = true;\n",
       "\n",
       "  if (typeof root._bokeh_onload_callbacks === \"undefined\" || force === true) {\n",
       "    root._bokeh_onload_callbacks = [];\n",
       "    root._bokeh_is_loading = undefined;\n",
       "  }\n",
       "\n",
       "const JS_MIME_TYPE = 'application\/javascript';\n",
       "  const HTML_MIME_TYPE = 'text\/html';\n",
       "  const EXEC_MIME_TYPE = 'application\/vnd.bokehjs_exec.v0+json';\n",
       "  const CLASS_NAME = 'output_bokeh rendered_html';\n",
       "\n",
       "  \/**\n",
       "   * Render data to the DOM node\n",
       "   *\/\n",
       "  function render(props, node) {\n",
       "    const script = document.createElement(\"script\");\n",
       "    node.appendChild(script);\n",
       "  }\n",
       "\n",
       "  \/**\n",
       "   * Handle when an output is cleared or removed\n",
       "   *\/\n",
       "  function handleClearOutput(event, handle) {\n",
       "    const cell = handle.cell;\n",
       "\n",
       "    const id = cell.output_area._bokeh_element_id;\n",
       "    const server_id = cell.output_area._bokeh_server_id;\n",
       "    \/\/ Clean up Bokeh references\n",
       "    if (id != null && id in Bokeh.index) {\n",
       "      Bokeh.index[id].model.document.clear();\n",
       "      delete Bokeh.index[id];\n",
       "    }\n",
       "\n",
       "    if (server_id !== undefined) {\n",
       "      \/\/ Clean up Bokeh references\n",
       "      const cmd_clean = \"from bokeh.io.state import curstate; print(curstate().uuid_to_server['\" + server_id + \"'].get_sessions()[0].document.roots[0]._id)\";\n",
       "      cell.notebook.kernel.execute(cmd_clean, {\n",
       "        iopub: {\n",
       "          output: function(msg) {\n",
       "            const id = msg.content.text.trim();\n",
       "            if (id in Bokeh.index) {\n",
       "              Bokeh.index[id].model.document.clear();\n",
       "              delete Bokeh.index[id];\n",
       "            }\n",
       "          }\n",
       "        }\n",
       "      });\n",
       "      \/\/ Destroy server and session\n",
       "      const cmd_destroy = \"import bokeh.io.notebook as ion; ion.destroy_server('\" + server_id + \"')\";\n",
       "      cell.notebook.kernel.execute(cmd_destroy);\n",
       "    }\n",
       "  }\n",
       "\n",
       "  \/**\n",
       "   * Handle when a new output is added\n",
       "   *\/\n",
       "  function handleAddOutput(event, handle) {\n",
       "    const output_area = handle.output_area;\n",
       "    const output = handle.output;\n",
       "\n",
       "    \/\/ limit handleAddOutput to display_data with EXEC_MIME_TYPE content only\n",
       "    if ((output.output_type != \"display_data\") || (!Object.prototype.hasOwnProperty.call(output.data, EXEC_MIME_TYPE))) {\n",
       "      return\n",
       "    }\n",
       "\n",
       "    const toinsert = output_area.element.find(\".\" + CLASS_NAME.split(' ')[0]);\n",
       "\n",
       "    if (output.metadata[EXEC_MIME_TYPE][\"id\"] !== undefined) {\n",
       "      toinsert[toinsert.length - 1].firstChild.textContent = output.data[JS_MIME_TYPE];\n",
       "      \/\/ store reference to embed id on output_area\n",
       "      output_area._bokeh_element_id = output.metadata[EXEC_MIME_TYPE][\"id\"];\n",
       "    }\n",
       "    if (output.metadata[EXEC_MIME_TYPE][\"server_id\"] !== undefined) {\n",
       "      const bk_div = document.createElement(\"div\");\n",
       "      bk_div.innerHTML = output.data[HTML_MIME_TYPE];\n",
       "      const script_attrs = bk_div.children[0].attributes;\n",
       "      for (let i = 0; i < script_attrs.length; i++) {\n",
       "        toinsert[toinsert.length - 1].firstChild.setAttribute(script_attrs[i].name, script_attrs[i].value);\n",
       "        toinsert[toinsert.length - 1].firstChild.textContent = bk_div.children[0].textContent\n",
       "      }\n",
       "      \/\/ store reference to server id on output_area\n",
       "      output_area._bokeh_server_id = output.metadata[EXEC_MIME_TYPE][\"server_id\"];\n",
       "    }\n",
       "  }\n",
       "\n",
       "  function register_renderer(events, OutputArea) {\n",
       "\n",
       "    function append_mime(data, metadata, element) {\n",
       "      \/\/ create a DOM node to render to\n",
       "      const toinsert = this.create_output_subarea(\n",
       "        metadata,\n",
       "        CLASS_NAME,\n",
       "        EXEC_MIME_TYPE\n",
       "      );\n",
       "      this.keyboard_manager.register_events(toinsert);\n",
       "      \/\/ Render to node\n",
       "      const props = {data: data, metadata: metadata[EXEC_MIME_TYPE]};\n",
       "      render(props, toinsert[toinsert.length - 1]);\n",
       "      element.append(toinsert);\n",
       "      return toinsert\n",
       "    }\n",
       "\n",
       "    \/* Handle when an output is cleared or removed *\/\n",
       "    events.on('clear_output.CodeCell', handleClearOutput);\n",
       "    events.on('delete.Cell', handleClearOutput);\n",
       "\n",
       "    \/* Handle when a new output is added *\/\n",
       "    events.on('output_added.OutputArea', handleAddOutput);\n",
       "\n",
       "    \/**\n",
       "     * Register the mime type and append_mime function with output_area\n",
       "     *\/\n",
       "    OutputArea.prototype.register_mime_type(EXEC_MIME_TYPE, append_mime, {\n",
       "      \/* Is output safe? *\/\n",
       "      safe: true,\n",
       "      \/* Index of renderer in `output_area.display_order` *\/\n",
       "      index: 0\n",
       "    });\n",
       "  }\n",
       "\n",
       "  \/\/ register the mime type if in Jupyter Notebook environment and previously unregistered\n",
       "  if (root.Jupyter !== undefined) {\n",
       "    const events = require('base\/js\/events');\n",
       "    const OutputArea = require('notebook\/js\/outputarea').OutputArea;\n",
       "\n",
       "    if (OutputArea.prototype.mime_types().indexOf(EXEC_MIME_TYPE) == -1) {\n",
       "      register_renderer(events, OutputArea);\n",
       "    }\n",
       "  }\n",
       "  if (typeof (root._bokeh_timeout) === \"undefined\" || force === true) {\n",
       "    root._bokeh_timeout = Date.now() + 5000;\n",
       "    root._bokeh_failed_load = false;\n",
       "  }\n",
       "\n",
       "  const NB_LOAD_WARNING = {'data': {'text\/html':\n",
       "     \"<div style='background-color: #fdd'>\\n\"+\n",
       "     \"<p>\\n\"+\n",
       "     \"BokehJS does not appear to have successfully loaded. If loading BokehJS from CDN, this \\n\"+\n",
       "     \"may be due to a slow or bad network connection. Possible fixes:\\n\"+\n",
       "     \"<\/p>\\n\"+\n",
       "     \"<ul>\\n\"+\n",
       "     \"<li>re-rerun `output_notebook()` to attempt to load from CDN again, or<\/li>\\n\"+\n",
       "     \"<li>use INLINE resources instead, as so:<\/li>\\n\"+\n",
       "     \"<\/ul>\\n\"+\n",
       "     \"<code>\\n\"+\n",
       "     \"from bokeh.resources import INLINE\\n\"+\n",
       "     \"output_notebook(resources=INLINE)\\n\"+\n",
       "     \"<\/code>\\n\"+\n",
       "     \"<\/div>\"}};\n",
       "\n",
       "  function display_loaded() {\n",
       "    const el = document.getElementById(\"ae86fbcc-6c64-4250-af4e-e5bd6f0f52b7\");\n",
       "    if (el != null) {\n",
       "      el.textContent = \"BokehJS is loading...\";\n",
       "    }\n",
       "    if (root.Bokeh !== undefined) {\n",
       "      if (el != null) {\n",
       "        el.textContent = \"BokehJS \" + root.Bokeh.version + \" successfully loaded.\";\n",
       "      }\n",
       "    } else if (Date.now() < root._bokeh_timeout) {\n",
       "      setTimeout(display_loaded, 100)\n",
       "    }\n",
       "  }\n",
       "\n",
       "  function run_callbacks() {\n",
       "    try {\n",
       "      root._bokeh_onload_callbacks.forEach(function(callback) {\n",
       "        if (callback != null)\n",
       "          callback();\n",
       "      });\n",
       "    } finally {\n",
       "      delete root._bokeh_onload_callbacks\n",
       "    }\n",
       "    console.debug(\"Bokeh: all callbacks have finished\");\n",
       "  }\n",
       "\n",
       "  function load_libs(css_urls, js_urls, callback) {\n",
       "    if (css_urls == null) css_urls = [];\n",
       "    if (js_urls == null) js_urls = [];\n",
       "\n",
       "    root._bokeh_onload_callbacks.push(callback);\n",
       "    if (root._bokeh_is_loading > 0) {\n",
       "      console.debug(\"Bokeh: BokehJS is being loaded, scheduling callback at\", now());\n",
       "      return null;\n",
       "    }\n",
       "    if (js_urls == null || js_urls.length === 0) {\n",
       "      run_callbacks();\n",
       "      return null;\n",
       "    }\n",
       "    console.debug(\"Bokeh: BokehJS not loaded, scheduling load and callback at\", now());\n",
       "    root._bokeh_is_loading = css_urls.length + js_urls.length;\n",
       "\n",
       "    function on_load() {\n",
       "      root._bokeh_is_loading--;\n",
       "      if (root._bokeh_is_loading === 0) {\n",
       "        console.debug(\"Bokeh: all BokehJS libraries\/stylesheets loaded\");\n",
       "        run_callbacks()\n",
       "      }\n",
       "    }\n",
       "\n",
       "    function on_error(url) {\n",
       "      console.error(\"failed to load \" + url);\n",
       "    }\n",
       "\n",
       "    for (let i = 0; i < css_urls.length; i++) {\n",
       "      const url = css_urls[i];\n",
       "      const element = document.createElement(\"link\");\n",
       "      element.onload = on_load;\n",
       "      element.onerror = on_error.bind(null, url);\n",
       "      element.rel = \"stylesheet\";\n",
       "      element.type = \"text\/css\";\n",
       "      element.href = url;\n",
       "      console.debug(\"Bokeh: injecting link tag for BokehJS stylesheet: \", url);\n",
       "      document.body.appendChild(element);\n",
       "    }\n",
       "\n",
       "    for (let i = 0; i < js_urls.length; i++) {\n",
       "      const url = js_urls[i];\n",
       "      const element = document.createElement('script');\n",
       "      element.onload = on_load;\n",
       "      element.onerror = on_error.bind(null, url);\n",
       "      element.async = false;\n",
       "      element.src = url;\n",
       "      console.debug(\"Bokeh: injecting script tag for BokehJS library: \", url);\n",
       "      document.head.appendChild(element);\n",
       "    }\n",
       "  };\n",
       "\n",
       "  function inject_raw_css(css) {\n",
       "    const element = document.createElement(\"style\");\n",
       "    element.appendChild(document.createTextNode(css));\n",
       "    document.body.appendChild(element);\n",
       "  }\n",
       "\n",
       "  const js_urls = [\"https:\/\/cdn.bokeh.org\/bokeh\/release\/bokeh-3.1.1.min.js\", \"https:\/\/cdn.bokeh.org\/bokeh\/release\/bokeh-gl-3.1.1.min.js\", \"https:\/\/cdn.bokeh.org\/bokeh\/release\/bokeh-widgets-3.1.1.min.js\", \"https:\/\/cdn.bokeh.org\/bokeh\/release\/bokeh-tables-3.1.1.min.js\", \"https:\/\/cdn.bokeh.org\/bokeh\/release\/bokeh-mathjax-3.1.1.min.js\"];\n",
       "  const css_urls = [];\n",
       "\n",
       "  const inline_js = [    function(Bokeh) {\n",
       "      Bokeh.set_log_level(\"info\");\n",
       "    },\n",
       "function(Bokeh) {\n",
       "    }\n",
       "  ];\n",
       "\n",
       "  function run_inline_js() {\n",
       "    if (root.Bokeh !== undefined || force === true) {\n",
       "          for (let i = 0; i < inline_js.length; i++) {\n",
       "      inline_js[i].call(root, root.Bokeh);\n",
       "    }\n",
       "if (force === true) {\n",
       "        display_loaded();\n",
       "      }} else if (Date.now() < root._bokeh_timeout) {\n",
       "      setTimeout(run_inline_js, 100);\n",
       "    } else if (!root._bokeh_failed_load) {\n",
       "      console.log(\"Bokeh: BokehJS failed to load within specified timeout.\");\n",
       "      root._bokeh_failed_load = true;\n",
       "    } else if (force !== true) {\n",
       "      const cell = $(document.getElementById(\"ae86fbcc-6c64-4250-af4e-e5bd6f0f52b7\")).parents('.cell').data().cell;\n",
       "      cell.output_area.append_execute_result(NB_LOAD_WARNING)\n",
       "    }\n",
       "  }\n",
       "\n",
       "  if (root._bokeh_is_loading === 0) {\n",
       "    console.debug(\"Bokeh: BokehJS loaded, going straight to plotting\");\n",
       "    run_inline_js();\n",
       "  } else {\n",
       "    load_libs(css_urls, js_urls, function() {\n",
       "      console.debug(\"Bokeh: BokehJS plotting callback run at\", now());\n",
       "      run_inline_js();\n",
       "    });\n",
       "  }\n",
       "}(window));<\/script><script>(function(root) {\n",
       "  function now() {\n",
       "    return new Date();\n",
       "  }\n",
       "\n",
       "  const force = true;\n",
       "\n",
       "  if (typeof root._bokeh_onload_callbacks === \"undefined\" || force === true) {\n",
       "    root._bokeh_onload_callbacks = [];\n",
       "    root._bokeh_is_loading = undefined;\n",
       "  }\n",
       "\n",
       "\n",
       "  if (typeof (root._bokeh_timeout) === \"undefined\" || force === true) {\n",
       "    root._bokeh_timeout = Date.now() + 5000;\n",
       "    root._bokeh_failed_load = false;\n",
       "  }\n",
       "\n",
       "  const NB_LOAD_WARNING = {'data': {'text\/html':\n",
       "     \"<div style='background-color: #fdd'>\\n\"+\n",
       "     \"<p>\\n\"+\n",
       "     \"BokehJS does not appear to have successfully loaded. If loading BokehJS from CDN, this \\n\"+\n",
       "     \"may be due to a slow or bad network connection. Possible fixes:\\n\"+\n",
       "     \"<\/p>\\n\"+\n",
       "     \"<ul>\\n\"+\n",
       "     \"<li>re-rerun `output_notebook()` to attempt to load from CDN again, or<\/li>\\n\"+\n",
       "     \"<li>use INLINE resources instead, as so:<\/li>\\n\"+\n",
       "     \"<\/ul>\\n\"+\n",
       "     \"<code>\\n\"+\n",
       "     \"from bokeh.resources import INLINE\\n\"+\n",
       "     \"output_notebook(resources=INLINE)\\n\"+\n",
       "     \"<\/code>\\n\"+\n",
       "     \"<\/div>\"}};\n",
       "\n",
       "  function display_loaded() {\n",
       "    const el = document.getElementById(\"ae86fbcc-6c64-4250-af4e-e5bd6f0f52b7\");\n",
       "    if (el != null) {\n",
       "      el.textContent = \"BokehJS is loading...\";\n",
       "    }\n",
       "    if (root.Bokeh !== undefined) {\n",
       "      if (el != null) {\n",
       "        el.textContent = \"BokehJS \" + root.Bokeh.version + \" successfully loaded.\";\n",
       "      }\n",
       "    } else if (Date.now() < root._bokeh_timeout) {\n",
       "      setTimeout(display_loaded, 100)\n",
       "    }\n",
       "  }\n",
       "\n",
       "  function run_callbacks() {\n",
       "    try {\n",
       "      root._bokeh_onload_callbacks.forEach(function(callback) {\n",
       "        if (callback != null)\n",
       "          callback();\n",
       "      });\n",
       "    } finally {\n",
       "      delete root._bokeh_onload_callbacks\n",
       "    }\n",
       "    console.debug(\"Bokeh: all callbacks have finished\");\n",
       "  }\n",
       "\n",
       "  function load_libs(css_urls, js_urls, callback) {\n",
       "    if (css_urls == null) css_urls = [];\n",
       "    if (js_urls == null) js_urls = [];\n",
       "\n",
       "    root._bokeh_onload_callbacks.push(callback);\n",
       "    if (root._bokeh_is_loading > 0) {\n",
       "      console.debug(\"Bokeh: BokehJS is being loaded, scheduling callback at\", now());\n",
       "      return null;\n",
       "    }\n",
       "    if (js_urls == null || js_urls.length === 0) {\n",
       "      run_callbacks();\n",
       "      return null;\n",
       "    }\n",
       "    console.debug(\"Bokeh: BokehJS not loaded, scheduling load and callback at\", now());\n",
       "    root._bokeh_is_loading = css_urls.length + js_urls.length;\n",
       "\n",
       "    function on_load() {\n",
       "      root._bokeh_is_loading--;\n",
       "      if (root._bokeh_is_loading === 0) {\n",
       "        console.debug(\"Bokeh: all BokehJS libraries\/stylesheets loaded\");\n",
       "        run_callbacks()\n",
       "      }\n",
       "    }\n",
       "\n",
       "    function on_error(url) {\n",
       "      console.error(\"failed to load \" + url);\n",
       "    }\n",
       "\n",
       "    for (let i = 0; i < css_urls.length; i++) {\n",
       "      const url = css_urls[i];\n",
       "      const element = document.createElement(\"link\");\n",
       "      element.onload = on_load;\n",
       "      element.onerror = on_error.bind(null, url);\n",
       "      element.rel = \"stylesheet\";\n",
       "      element.type = \"text\/css\";\n",
       "      element.href = url;\n",
       "      console.debug(\"Bokeh: injecting link tag for BokehJS stylesheet: \", url);\n",
       "      document.body.appendChild(element);\n",
       "    }\n",
       "\n",
       "    for (let i = 0; i < js_urls.length; i++) {\n",
       "      const url = js_urls[i];\n",
       "      const element = document.createElement('script');\n",
       "      element.onload = on_load;\n",
       "      element.onerror = on_error.bind(null, url);\n",
       "      element.async = false;\n",
       "      element.src = url;\n",
       "      console.debug(\"Bokeh: injecting script tag for BokehJS library: \", url);\n",
       "      document.head.appendChild(element);\n",
       "    }\n",
       "  };\n",
       "\n",
       "  function inject_raw_css(css) {\n",
       "    const element = document.createElement(\"style\");\n",
       "    element.appendChild(document.createTextNode(css));\n",
       "    document.body.appendChild(element);\n",
       "  }\n",
       "\n",
       "  const js_urls = [\"https:\/\/cdn.bokeh.org\/bokeh\/release\/bokeh-3.1.1.min.js\", \"https:\/\/cdn.bokeh.org\/bokeh\/release\/bokeh-gl-3.1.1.min.js\", \"https:\/\/cdn.bokeh.org\/bokeh\/release\/bokeh-widgets-3.1.1.min.js\", \"https:\/\/cdn.bokeh.org\/bokeh\/release\/bokeh-tables-3.1.1.min.js\", \"https:\/\/cdn.bokeh.org\/bokeh\/release\/bokeh-mathjax-3.1.1.min.js\"];\n",
       "  const css_urls = [];\n",
       "\n",
       "  const inline_js = [    function(Bokeh) {\n",
       "      Bokeh.set_log_level(\"info\");\n",
       "    },\n",
       "function(Bokeh) {\n",
       "    }\n",
       "  ];\n",
       "\n",
       "  function run_inline_js() {\n",
       "    if (root.Bokeh !== undefined || force === true) {\n",
       "          for (let i = 0; i < inline_js.length; i++) {\n",
       "      inline_js[i].call(root, root.Bokeh);\n",
       "    }\n",
       "if (force === true) {\n",
       "        display_loaded();\n",
       "      }} else if (Date.now() < root._bokeh_timeout) {\n",
       "      setTimeout(run_inline_js, 100);\n",
       "    } else if (!root._bokeh_failed_load) {\n",
       "      console.log(\"Bokeh: BokehJS failed to load within specified timeout.\");\n",
       "      root._bokeh_failed_load = true;\n",
       "    } else if (force !== true) {\n",
       "      const cell = $(document.getElementById(\"ae86fbcc-6c64-4250-af4e-e5bd6f0f52b7\")).parents('.cell').data().cell;\n",
       "      cell.output_area.append_execute_result(NB_LOAD_WARNING)\n",
       "    }\n",
       "  }\n",
       "\n",
       "  if (root._bokeh_is_loading === 0) {\n",
       "    console.debug(\"Bokeh: BokehJS loaded, going straight to plotting\");\n",
       "    run_inline_js();\n",
       "  } else {\n",
       "    load_libs(css_urls, js_urls, function() {\n",
       "      console.debug(\"Bokeh: BokehJS plotting callback run at\", now());\n",
       "      run_inline_js();\n",
       "    });\n",
       "  }\n",
       "}(window));<\/script>"
      ]
     },
     "metadata":{},
     "output_type":"display_data"
    },
    {
     "data":{
      "text\/html":[
       "\n",
       "  <div id=\"e42a84f2-20d1-4ba9-9031-707d4984f703\" data-root-id=\"p1010\" style=\"display: contents;\"><\/div>\n"
      ]
     },
     "metadata":{},
     "output_type":"display_data"
    },
    {
     "data":{
      "text\/html":[
       "<script>(function(root) {\n",
       "  function embed_document(root) {\n",
       "  const docs_json = {\"c7c619a5-5e51-409e-8279-9478058fe0bb\":{\"version\":\"3.1.1\",\"title\":\"Bokeh Application\",\"defs\":[],\"roots\":[{\"type\":\"object\",\"name\":\"Figure\",\"id\":\"p1010\",\"attributes\":{\"height\":350,\"x_range\":{\"type\":\"object\",\"name\":\"FactorRange\",\"id\":\"p1020\",\"attributes\":{\"factors\":[\"Pondelok\",\"Utorok\",\"Streda\",\"\\u0160tvrtok\",\"Piatok\",\"Sobota\",\"Nede\\u013ea\"]}},\"y_range\":{\"type\":\"object\",\"name\":\"DataRange1d\",\"id\":\"p1012\",\"attributes\":{\"start\":0}},\"x_scale\":{\"type\":\"object\",\"name\":\"CategoricalScale\",\"id\":\"p1024\"},\"y_scale\":{\"type\":\"object\",\"name\":\"LinearScale\",\"id\":\"p1026\"},\"title\":{\"type\":\"object\",\"name\":\"Title\",\"id\":\"p1013\",\"attributes\":{\"text\":\"Teploty po\\u010das t\\u00fd\\u017ed\\u0148a\"}},\"renderers\":[{\"type\":\"object\",\"name\":\"GlyphRenderer\",\"id\":\"p1056\",\"attributes\":{\"data_source\":{\"type\":\"object\",\"name\":\"ColumnDataSource\",\"id\":\"p1007\",\"attributes\":{\"selected\":{\"type\":\"object\",\"name\":\"Selection\",\"id\":\"p1008\",\"attributes\":{\"indices\":[],\"line_indices\":[]}},\"selection_policy\":{\"type\":\"object\",\"name\":\"UnionRenderers\",\"id\":\"p1009\"},\"data\":{\"type\":\"map\",\"entries\":[[\"dni\",[\"Pondelok\",\"Utorok\",\"Streda\",\"\\u0160tvrtok\",\"Piatok\",\"Sobota\",\"Nede\\u013ea\"]],[\"teploty\",[15,17,14,18,21,22,19]]]}}},\"view\":{\"type\":\"object\",\"name\":\"CDSView\",\"id\":\"p1057\",\"attributes\":{\"filter\":{\"type\":\"object\",\"name\":\"AllIndices\",\"id\":\"p1058\"}}},\"glyph\":{\"type\":\"object\",\"name\":\"VBar\",\"id\":\"p1053\",\"attributes\":{\"x\":{\"type\":\"field\",\"field\":\"dni\"},\"width\":{\"type\":\"value\",\"value\":0.5},\"top\":{\"type\":\"field\",\"field\":\"teploty\"},\"line_color\":{\"type\":\"value\",\"value\":\"#1f77b4\"},\"fill_color\":{\"type\":\"value\",\"value\":\"#1f77b4\"}}},\"nonselection_glyph\":{\"type\":\"object\",\"name\":\"VBar\",\"id\":\"p1054\",\"attributes\":{\"x\":{\"type\":\"field\",\"field\":\"dni\"},\"width\":{\"type\":\"value\",\"value\":0.5},\"top\":{\"type\":\"field\",\"field\":\"teploty\"},\"line_color\":{\"type\":\"value\",\"value\":\"#1f77b4\"},\"line_alpha\":{\"type\":\"value\",\"value\":0.1},\"fill_color\":{\"type\":\"value\",\"value\":\"#1f77b4\"},\"fill_alpha\":{\"type\":\"value\",\"value\":0.1},\"hatch_alpha\":{\"type\":\"value\",\"value\":0.1}}},\"muted_glyph\":{\"type\":\"object\",\"name\":\"VBar\",\"id\":\"p1055\",\"attributes\":{\"x\":{\"type\":\"field\",\"field\":\"dni\"},\"width\":{\"type\":\"value\",\"value\":0.5},\"top\":{\"type\":\"field\",\"field\":\"teploty\"},\"line_color\":{\"type\":\"value\",\"value\":\"#1f77b4\"},\"line_alpha\":{\"type\":\"value\",\"value\":0.2},\"fill_color\":{\"type\":\"value\",\"value\":\"#1f77b4\"},\"fill_alpha\":{\"type\":\"value\",\"value\":0.2},\"hatch_alpha\":{\"type\":\"value\",\"value\":0.2}}}}}],\"toolbar\":{\"type\":\"object\",\"name\":\"Toolbar\",\"id\":\"p1019\",\"attributes\":{\"tools\":[{\"type\":\"object\",\"name\":\"PanTool\",\"id\":\"p1041\"},{\"type\":\"object\",\"name\":\"BoxZoomTool\",\"id\":\"p1042\",\"attributes\":{\"overlay\":{\"type\":\"object\",\"name\":\"BoxAnnotation\",\"id\":\"p1043\",\"attributes\":{\"syncable\":false,\"level\":\"overlay\",\"visible\":false,\"left_units\":\"canvas\",\"right_units\":\"canvas\",\"bottom_units\":\"canvas\",\"top_units\":\"canvas\",\"line_color\":\"black\",\"line_alpha\":1.0,\"line_width\":2,\"line_dash\":[4,4],\"fill_color\":\"lightgrey\",\"fill_alpha\":0.5}}}},{\"type\":\"object\",\"name\":\"ResetTool\",\"id\":\"p1044\"},{\"type\":\"object\",\"name\":\"HoverTool\",\"id\":\"p1059\",\"attributes\":{\"renderers\":\"auto\",\"tooltips\":[[\"De\\u0148\",\"@dni\"],[\"Teplota\",\"@teploty\"]]}}]}},\"left\":[{\"type\":\"object\",\"name\":\"LinearAxis\",\"id\":\"p1034\",\"attributes\":{\"ticker\":{\"type\":\"object\",\"name\":\"BasicTicker\",\"id\":\"p1035\",\"attributes\":{\"mantissas\":[1,2,5]}},\"formatter\":{\"type\":\"object\",\"name\":\"BasicTickFormatter\",\"id\":\"p1037\"},\"major_label_policy\":{\"type\":\"object\",\"name\":\"AllLabels\",\"id\":\"p1036\"}}}],\"below\":[{\"type\":\"object\",\"name\":\"CategoricalAxis\",\"id\":\"p1028\",\"attributes\":{\"ticker\":{\"type\":\"object\",\"name\":\"CategoricalTicker\",\"id\":\"p1029\"},\"formatter\":{\"type\":\"object\",\"name\":\"CategoricalTickFormatter\",\"id\":\"p1031\"},\"major_label_policy\":{\"type\":\"object\",\"name\":\"AllLabels\",\"id\":\"p1030\"}}}],\"center\":[{\"type\":\"object\",\"name\":\"Grid\",\"id\":\"p1033\",\"attributes\":{\"axis\":{\"id\":\"p1028\"},\"grid_line_color\":null}},{\"type\":\"object\",\"name\":\"Grid\",\"id\":\"p1040\",\"attributes\":{\"dimension\":1,\"axis\":{\"id\":\"p1034\"}}}]}}],\"callbacks\":{\"type\":\"map\"}}};\n",
       "  const render_items = [{\"docid\":\"c7c619a5-5e51-409e-8279-9478058fe0bb\",\"roots\":{\"p1010\":\"e42a84f2-20d1-4ba9-9031-707d4984f703\"},\"root_ids\":[\"p1010\"]}];\n",
       "  root.Bokeh.embed.embed_items_notebook(docs_json, render_items);\n",
       "  }\n",
       "  if (root.Bokeh !== undefined) {\n",
       "    embed_document(root);\n",
       "  } else {\n",
       "    let attempts = 0;\n",
       "    const timer = setInterval(function(root) {\n",
       "      if (root.Bokeh !== undefined) {\n",
       "        clearInterval(timer);\n",
       "        embed_document(root);\n",
       "      } else {\n",
       "        attempts++;\n",
       "        if (attempts > 100) {\n",
       "          clearInterval(timer);\n",
       "          console.log(\"Bokeh: ERROR: Unable to run BokehJS code because BokehJS library is missing\");\n",
       "        }\n",
       "      }\n",
       "    }, 10, root)\n",
       "  }\n",
       "})(window);<\/script><script><\/script>"
      ]
     },
     "metadata":{},
     "output_type":"display_data"
    }
   ],
   "metadata":{
    "datalore":{
     "node_id":"lWyQ3h97jIdCUhW1NIqyXK",
     "type":"CODE",
     "hide_input_from_viewers":true,
     "hide_output_from_viewers":true
    }
   }
  },
  {
   "cell_type":"markdown",
   "source":[
    "# Body"
   ],
   "attachments":{},
   "metadata":{
    "datalore":{
     "node_id":"RmL7kwJdJ6tv34YHz8fxvl",
     "type":"MD",
     "hide_input_from_viewers":true,
     "hide_output_from_viewers":true
    }
   }
  },
  {
   "cell_type":"code",
   "source":[],
   "execution_count":47,
   "outputs":[
    {
     "data":{
      "text\/html":[
       "<style>\n",
       "        .bk-notebook-logo {\n",
       "            display: block;\n",
       "            width: 20px;\n",
       "            height: 20px;\n",
       "            background-image: url(data:image\/png;base64,iVBORw0KGgoAAAANSUhEUgAAABQAAAAUCAYAAACNiR0NAAAABHNCSVQICAgIfAhkiAAAAAlwSFlzAAALEgAACxIB0t1+\/AAAABx0RVh0U29mdHdhcmUAQWRvYmUgRmlyZXdvcmtzIENTNui8sowAAAOkSURBVDiNjZRtaJVlGMd\/1\/08zzln5zjP1LWcU9N0NkN8m2CYjpgQYQXqSs0I84OLIC0hkEKoPtiH3gmKoiJDU7QpLgoLjLIQCpEsNJ1vqUOdO7ppbuec5+V+rj4ctwzd8IIbbi6u+8f1539dt3A78eXC7QizUF7gyV1fD1Yqg4JWz84yffhm0qkFqBogB9rM8tZdtwVsPUhWhGcFJngGeWrPzHm5oaMmkfEg1usvLFyc8jLRqDOMru7AyC8saQr7GG7f5fvDeH7Ej8CM66nIF+8yngt6HWaKh7k49Soy9nXurCi1o3qUbS3zWfrYeQDTB\/Qj6kX6Ybhw4B+bOYoLKCC9H3Nu\/leUTZ1JdRWkkn2ldcCamzrcf47KKXdAJllSlxAOkRgyHsGC\/zRday5Qld9DyoM4\/q\/rUoy\/CXh3jzOu3bHUVZeU+DEn8FInkPBFlu3+nW3Nw0mk6vCDiWg8CeJaxEwuHS3+z5RgY+YBR6V1Z1nxSOfoaPa4LASWxxdNp+VWTk7+4vzaou8v8PN+xo+KY2xsw6une2frhw05CTYOmQvsEhjhWjn0bmXPjpE1+kplmmkP3suftwTubK9Vq22qKmrBhpY4jvd5afdRA3wGjFAgcnTK2s4hY0\/GPNIb0nErGMCRxWOOX64Z8RAC4oCXdklmEvcL8o0BfkNK4lUg9HTl+oPlQxdNo3Mg4Nv175e\/1LDGzZen30MEjRUtmXSfiTVu1kK8W4txyV6BMKlbgk3lMwYCiusNy9fVfvvwMxv8Ynl6vxoByANLTWplvuj\/nF9m2+PDtt1eiHPBr1oIfhCChQMBw6Aw0UulqTKZdfVvfG7VcfIqLG9bcldL\/+pdWTLxLUy8Qq38heUIjh4XlzZxzQm19lLFlr8vdQ97rjZVOLf8nclzckbcD4wxXMidpX30sFd37Fv\/GtwwhzhxGVAprjbg0gCAEeIgwCZyTV2Z1REEW8O4py0wsjeloKoMr6iCY6dP92H6Vw\/oTyICIthibxjm\/DfN9lVz8IqtqKYLUXfoKVMVQVVJOElGjrnnUt9T9wbgp8AyYKaGlqingHZU\/uG2NTZSVqwHQTWkx9hxjkpWDaCg6Ckj5qebgBVbT3V3NNXMSiWSDdGV3hrtzla7J+duwPOToIg42ChPQOQjspnSlp1V+Gjdged7+8UN5CRAV7a5EdFNwCjEaBR27b3W890TE7g24NAP\/mMDXRWrGoFPQI9ls\/MWO2dWFAar\/xcOIImbbpA3zgAAAABJRU5ErkJggg==);\n",
       "        }\n",
       "    <\/style>\n",
       "    <div>\n",
       "        <a href=\"https:\/\/bokeh.org\" target=\"_blank\" class=\"bk-notebook-logo\"><\/a>\n",
       "        <span id=\"c219106f-e9c6-4a25-9482-2625953e0d80\">Loading BokehJS ...<\/span>\n",
       "    <\/div>\n"
      ]
     },
     "metadata":{},
     "output_type":"display_data"
    },
    {
     "data":{
      "text\/html":[
       "<script>(function(root) {\n",
       "  function now() {\n",
       "    return new Date();\n",
       "  }\n",
       "\n",
       "  const force = true;\n",
       "\n",
       "  if (typeof root._bokeh_onload_callbacks === \"undefined\" || force === true) {\n",
       "    root._bokeh_onload_callbacks = [];\n",
       "    root._bokeh_is_loading = undefined;\n",
       "  }\n",
       "\n",
       "const JS_MIME_TYPE = 'application\/javascript';\n",
       "  const HTML_MIME_TYPE = 'text\/html';\n",
       "  const EXEC_MIME_TYPE = 'application\/vnd.bokehjs_exec.v0+json';\n",
       "  const CLASS_NAME = 'output_bokeh rendered_html';\n",
       "\n",
       "  \/**\n",
       "   * Render data to the DOM node\n",
       "   *\/\n",
       "  function render(props, node) {\n",
       "    const script = document.createElement(\"script\");\n",
       "    node.appendChild(script);\n",
       "  }\n",
       "\n",
       "  \/**\n",
       "   * Handle when an output is cleared or removed\n",
       "   *\/\n",
       "  function handleClearOutput(event, handle) {\n",
       "    const cell = handle.cell;\n",
       "\n",
       "    const id = cell.output_area._bokeh_element_id;\n",
       "    const server_id = cell.output_area._bokeh_server_id;\n",
       "    \/\/ Clean up Bokeh references\n",
       "    if (id != null && id in Bokeh.index) {\n",
       "      Bokeh.index[id].model.document.clear();\n",
       "      delete Bokeh.index[id];\n",
       "    }\n",
       "\n",
       "    if (server_id !== undefined) {\n",
       "      \/\/ Clean up Bokeh references\n",
       "      const cmd_clean = \"from bokeh.io.state import curstate; print(curstate().uuid_to_server['\" + server_id + \"'].get_sessions()[0].document.roots[0]._id)\";\n",
       "      cell.notebook.kernel.execute(cmd_clean, {\n",
       "        iopub: {\n",
       "          output: function(msg) {\n",
       "            const id = msg.content.text.trim();\n",
       "            if (id in Bokeh.index) {\n",
       "              Bokeh.index[id].model.document.clear();\n",
       "              delete Bokeh.index[id];\n",
       "            }\n",
       "          }\n",
       "        }\n",
       "      });\n",
       "      \/\/ Destroy server and session\n",
       "      const cmd_destroy = \"import bokeh.io.notebook as ion; ion.destroy_server('\" + server_id + \"')\";\n",
       "      cell.notebook.kernel.execute(cmd_destroy);\n",
       "    }\n",
       "  }\n",
       "\n",
       "  \/**\n",
       "   * Handle when a new output is added\n",
       "   *\/\n",
       "  function handleAddOutput(event, handle) {\n",
       "    const output_area = handle.output_area;\n",
       "    const output = handle.output;\n",
       "\n",
       "    \/\/ limit handleAddOutput to display_data with EXEC_MIME_TYPE content only\n",
       "    if ((output.output_type != \"display_data\") || (!Object.prototype.hasOwnProperty.call(output.data, EXEC_MIME_TYPE))) {\n",
       "      return\n",
       "    }\n",
       "\n",
       "    const toinsert = output_area.element.find(\".\" + CLASS_NAME.split(' ')[0]);\n",
       "\n",
       "    if (output.metadata[EXEC_MIME_TYPE][\"id\"] !== undefined) {\n",
       "      toinsert[toinsert.length - 1].firstChild.textContent = output.data[JS_MIME_TYPE];\n",
       "      \/\/ store reference to embed id on output_area\n",
       "      output_area._bokeh_element_id = output.metadata[EXEC_MIME_TYPE][\"id\"];\n",
       "    }\n",
       "    if (output.metadata[EXEC_MIME_TYPE][\"server_id\"] !== undefined) {\n",
       "      const bk_div = document.createElement(\"div\");\n",
       "      bk_div.innerHTML = output.data[HTML_MIME_TYPE];\n",
       "      const script_attrs = bk_div.children[0].attributes;\n",
       "      for (let i = 0; i < script_attrs.length; i++) {\n",
       "        toinsert[toinsert.length - 1].firstChild.setAttribute(script_attrs[i].name, script_attrs[i].value);\n",
       "        toinsert[toinsert.length - 1].firstChild.textContent = bk_div.children[0].textContent\n",
       "      }\n",
       "      \/\/ store reference to server id on output_area\n",
       "      output_area._bokeh_server_id = output.metadata[EXEC_MIME_TYPE][\"server_id\"];\n",
       "    }\n",
       "  }\n",
       "\n",
       "  function register_renderer(events, OutputArea) {\n",
       "\n",
       "    function append_mime(data, metadata, element) {\n",
       "      \/\/ create a DOM node to render to\n",
       "      const toinsert = this.create_output_subarea(\n",
       "        metadata,\n",
       "        CLASS_NAME,\n",
       "        EXEC_MIME_TYPE\n",
       "      );\n",
       "      this.keyboard_manager.register_events(toinsert);\n",
       "      \/\/ Render to node\n",
       "      const props = {data: data, metadata: metadata[EXEC_MIME_TYPE]};\n",
       "      render(props, toinsert[toinsert.length - 1]);\n",
       "      element.append(toinsert);\n",
       "      return toinsert\n",
       "    }\n",
       "\n",
       "    \/* Handle when an output is cleared or removed *\/\n",
       "    events.on('clear_output.CodeCell', handleClearOutput);\n",
       "    events.on('delete.Cell', handleClearOutput);\n",
       "\n",
       "    \/* Handle when a new output is added *\/\n",
       "    events.on('output_added.OutputArea', handleAddOutput);\n",
       "\n",
       "    \/**\n",
       "     * Register the mime type and append_mime function with output_area\n",
       "     *\/\n",
       "    OutputArea.prototype.register_mime_type(EXEC_MIME_TYPE, append_mime, {\n",
       "      \/* Is output safe? *\/\n",
       "      safe: true,\n",
       "      \/* Index of renderer in `output_area.display_order` *\/\n",
       "      index: 0\n",
       "    });\n",
       "  }\n",
       "\n",
       "  \/\/ register the mime type if in Jupyter Notebook environment and previously unregistered\n",
       "  if (root.Jupyter !== undefined) {\n",
       "    const events = require('base\/js\/events');\n",
       "    const OutputArea = require('notebook\/js\/outputarea').OutputArea;\n",
       "\n",
       "    if (OutputArea.prototype.mime_types().indexOf(EXEC_MIME_TYPE) == -1) {\n",
       "      register_renderer(events, OutputArea);\n",
       "    }\n",
       "  }\n",
       "  if (typeof (root._bokeh_timeout) === \"undefined\" || force === true) {\n",
       "    root._bokeh_timeout = Date.now() + 5000;\n",
       "    root._bokeh_failed_load = false;\n",
       "  }\n",
       "\n",
       "  const NB_LOAD_WARNING = {'data': {'text\/html':\n",
       "     \"<div style='background-color: #fdd'>\\n\"+\n",
       "     \"<p>\\n\"+\n",
       "     \"BokehJS does not appear to have successfully loaded. If loading BokehJS from CDN, this \\n\"+\n",
       "     \"may be due to a slow or bad network connection. Possible fixes:\\n\"+\n",
       "     \"<\/p>\\n\"+\n",
       "     \"<ul>\\n\"+\n",
       "     \"<li>re-rerun `output_notebook()` to attempt to load from CDN again, or<\/li>\\n\"+\n",
       "     \"<li>use INLINE resources instead, as so:<\/li>\\n\"+\n",
       "     \"<\/ul>\\n\"+\n",
       "     \"<code>\\n\"+\n",
       "     \"from bokeh.resources import INLINE\\n\"+\n",
       "     \"output_notebook(resources=INLINE)\\n\"+\n",
       "     \"<\/code>\\n\"+\n",
       "     \"<\/div>\"}};\n",
       "\n",
       "  function display_loaded() {\n",
       "    const el = document.getElementById(\"c219106f-e9c6-4a25-9482-2625953e0d80\");\n",
       "    if (el != null) {\n",
       "      el.textContent = \"BokehJS is loading...\";\n",
       "    }\n",
       "    if (root.Bokeh !== undefined) {\n",
       "      if (el != null) {\n",
       "        el.textContent = \"BokehJS \" + root.Bokeh.version + \" successfully loaded.\";\n",
       "      }\n",
       "    } else if (Date.now() < root._bokeh_timeout) {\n",
       "      setTimeout(display_loaded, 100)\n",
       "    }\n",
       "  }\n",
       "\n",
       "  function run_callbacks() {\n",
       "    try {\n",
       "      root._bokeh_onload_callbacks.forEach(function(callback) {\n",
       "        if (callback != null)\n",
       "          callback();\n",
       "      });\n",
       "    } finally {\n",
       "      delete root._bokeh_onload_callbacks\n",
       "    }\n",
       "    console.debug(\"Bokeh: all callbacks have finished\");\n",
       "  }\n",
       "\n",
       "  function load_libs(css_urls, js_urls, callback) {\n",
       "    if (css_urls == null) css_urls = [];\n",
       "    if (js_urls == null) js_urls = [];\n",
       "\n",
       "    root._bokeh_onload_callbacks.push(callback);\n",
       "    if (root._bokeh_is_loading > 0) {\n",
       "      console.debug(\"Bokeh: BokehJS is being loaded, scheduling callback at\", now());\n",
       "      return null;\n",
       "    }\n",
       "    if (js_urls == null || js_urls.length === 0) {\n",
       "      run_callbacks();\n",
       "      return null;\n",
       "    }\n",
       "    console.debug(\"Bokeh: BokehJS not loaded, scheduling load and callback at\", now());\n",
       "    root._bokeh_is_loading = css_urls.length + js_urls.length;\n",
       "\n",
       "    function on_load() {\n",
       "      root._bokeh_is_loading--;\n",
       "      if (root._bokeh_is_loading === 0) {\n",
       "        console.debug(\"Bokeh: all BokehJS libraries\/stylesheets loaded\");\n",
       "        run_callbacks()\n",
       "      }\n",
       "    }\n",
       "\n",
       "    function on_error(url) {\n",
       "      console.error(\"failed to load \" + url);\n",
       "    }\n",
       "\n",
       "    for (let i = 0; i < css_urls.length; i++) {\n",
       "      const url = css_urls[i];\n",
       "      const element = document.createElement(\"link\");\n",
       "      element.onload = on_load;\n",
       "      element.onerror = on_error.bind(null, url);\n",
       "      element.rel = \"stylesheet\";\n",
       "      element.type = \"text\/css\";\n",
       "      element.href = url;\n",
       "      console.debug(\"Bokeh: injecting link tag for BokehJS stylesheet: \", url);\n",
       "      document.body.appendChild(element);\n",
       "    }\n",
       "\n",
       "    for (let i = 0; i < js_urls.length; i++) {\n",
       "      const url = js_urls[i];\n",
       "      const element = document.createElement('script');\n",
       "      element.onload = on_load;\n",
       "      element.onerror = on_error.bind(null, url);\n",
       "      element.async = false;\n",
       "      element.src = url;\n",
       "      console.debug(\"Bokeh: injecting script tag for BokehJS library: \", url);\n",
       "      document.head.appendChild(element);\n",
       "    }\n",
       "  };\n",
       "\n",
       "  function inject_raw_css(css) {\n",
       "    const element = document.createElement(\"style\");\n",
       "    element.appendChild(document.createTextNode(css));\n",
       "    document.body.appendChild(element);\n",
       "  }\n",
       "\n",
       "  const js_urls = [\"https:\/\/cdn.bokeh.org\/bokeh\/release\/bokeh-3.1.1.min.js\", \"https:\/\/cdn.bokeh.org\/bokeh\/release\/bokeh-gl-3.1.1.min.js\", \"https:\/\/cdn.bokeh.org\/bokeh\/release\/bokeh-widgets-3.1.1.min.js\", \"https:\/\/cdn.bokeh.org\/bokeh\/release\/bokeh-tables-3.1.1.min.js\", \"https:\/\/cdn.bokeh.org\/bokeh\/release\/bokeh-mathjax-3.1.1.min.js\"];\n",
       "  const css_urls = [];\n",
       "\n",
       "  const inline_js = [    function(Bokeh) {\n",
       "      Bokeh.set_log_level(\"info\");\n",
       "    },\n",
       "function(Bokeh) {\n",
       "    }\n",
       "  ];\n",
       "\n",
       "  function run_inline_js() {\n",
       "    if (root.Bokeh !== undefined || force === true) {\n",
       "          for (let i = 0; i < inline_js.length; i++) {\n",
       "      inline_js[i].call(root, root.Bokeh);\n",
       "    }\n",
       "if (force === true) {\n",
       "        display_loaded();\n",
       "      }} else if (Date.now() < root._bokeh_timeout) {\n",
       "      setTimeout(run_inline_js, 100);\n",
       "    } else if (!root._bokeh_failed_load) {\n",
       "      console.log(\"Bokeh: BokehJS failed to load within specified timeout.\");\n",
       "      root._bokeh_failed_load = true;\n",
       "    } else if (force !== true) {\n",
       "      const cell = $(document.getElementById(\"c219106f-e9c6-4a25-9482-2625953e0d80\")).parents('.cell').data().cell;\n",
       "      cell.output_area.append_execute_result(NB_LOAD_WARNING)\n",
       "    }\n",
       "  }\n",
       "\n",
       "  if (root._bokeh_is_loading === 0) {\n",
       "    console.debug(\"Bokeh: BokehJS loaded, going straight to plotting\");\n",
       "    run_inline_js();\n",
       "  } else {\n",
       "    load_libs(css_urls, js_urls, function() {\n",
       "      console.debug(\"Bokeh: BokehJS plotting callback run at\", now());\n",
       "      run_inline_js();\n",
       "    });\n",
       "  }\n",
       "}(window));<\/script><script>(function(root) {\n",
       "  function now() {\n",
       "    return new Date();\n",
       "  }\n",
       "\n",
       "  const force = true;\n",
       "\n",
       "  if (typeof root._bokeh_onload_callbacks === \"undefined\" || force === true) {\n",
       "    root._bokeh_onload_callbacks = [];\n",
       "    root._bokeh_is_loading = undefined;\n",
       "  }\n",
       "\n",
       "\n",
       "  if (typeof (root._bokeh_timeout) === \"undefined\" || force === true) {\n",
       "    root._bokeh_timeout = Date.now() + 5000;\n",
       "    root._bokeh_failed_load = false;\n",
       "  }\n",
       "\n",
       "  const NB_LOAD_WARNING = {'data': {'text\/html':\n",
       "     \"<div style='background-color: #fdd'>\\n\"+\n",
       "     \"<p>\\n\"+\n",
       "     \"BokehJS does not appear to have successfully loaded. If loading BokehJS from CDN, this \\n\"+\n",
       "     \"may be due to a slow or bad network connection. Possible fixes:\\n\"+\n",
       "     \"<\/p>\\n\"+\n",
       "     \"<ul>\\n\"+\n",
       "     \"<li>re-rerun `output_notebook()` to attempt to load from CDN again, or<\/li>\\n\"+\n",
       "     \"<li>use INLINE resources instead, as so:<\/li>\\n\"+\n",
       "     \"<\/ul>\\n\"+\n",
       "     \"<code>\\n\"+\n",
       "     \"from bokeh.resources import INLINE\\n\"+\n",
       "     \"output_notebook(resources=INLINE)\\n\"+\n",
       "     \"<\/code>\\n\"+\n",
       "     \"<\/div>\"}};\n",
       "\n",
       "  function display_loaded() {\n",
       "    const el = document.getElementById(\"c219106f-e9c6-4a25-9482-2625953e0d80\");\n",
       "    if (el != null) {\n",
       "      el.textContent = \"BokehJS is loading...\";\n",
       "    }\n",
       "    if (root.Bokeh !== undefined) {\n",
       "      if (el != null) {\n",
       "        el.textContent = \"BokehJS \" + root.Bokeh.version + \" successfully loaded.\";\n",
       "      }\n",
       "    } else if (Date.now() < root._bokeh_timeout) {\n",
       "      setTimeout(display_loaded, 100)\n",
       "    }\n",
       "  }\n",
       "\n",
       "  function run_callbacks() {\n",
       "    try {\n",
       "      root._bokeh_onload_callbacks.forEach(function(callback) {\n",
       "        if (callback != null)\n",
       "          callback();\n",
       "      });\n",
       "    } finally {\n",
       "      delete root._bokeh_onload_callbacks\n",
       "    }\n",
       "    console.debug(\"Bokeh: all callbacks have finished\");\n",
       "  }\n",
       "\n",
       "  function load_libs(css_urls, js_urls, callback) {\n",
       "    if (css_urls == null) css_urls = [];\n",
       "    if (js_urls == null) js_urls = [];\n",
       "\n",
       "    root._bokeh_onload_callbacks.push(callback);\n",
       "    if (root._bokeh_is_loading > 0) {\n",
       "      console.debug(\"Bokeh: BokehJS is being loaded, scheduling callback at\", now());\n",
       "      return null;\n",
       "    }\n",
       "    if (js_urls == null || js_urls.length === 0) {\n",
       "      run_callbacks();\n",
       "      return null;\n",
       "    }\n",
       "    console.debug(\"Bokeh: BokehJS not loaded, scheduling load and callback at\", now());\n",
       "    root._bokeh_is_loading = css_urls.length + js_urls.length;\n",
       "\n",
       "    function on_load() {\n",
       "      root._bokeh_is_loading--;\n",
       "      if (root._bokeh_is_loading === 0) {\n",
       "        console.debug(\"Bokeh: all BokehJS libraries\/stylesheets loaded\");\n",
       "        run_callbacks()\n",
       "      }\n",
       "    }\n",
       "\n",
       "    function on_error(url) {\n",
       "      console.error(\"failed to load \" + url);\n",
       "    }\n",
       "\n",
       "    for (let i = 0; i < css_urls.length; i++) {\n",
       "      const url = css_urls[i];\n",
       "      const element = document.createElement(\"link\");\n",
       "      element.onload = on_load;\n",
       "      element.onerror = on_error.bind(null, url);\n",
       "      element.rel = \"stylesheet\";\n",
       "      element.type = \"text\/css\";\n",
       "      element.href = url;\n",
       "      console.debug(\"Bokeh: injecting link tag for BokehJS stylesheet: \", url);\n",
       "      document.body.appendChild(element);\n",
       "    }\n",
       "\n",
       "    for (let i = 0; i < js_urls.length; i++) {\n",
       "      const url = js_urls[i];\n",
       "      const element = document.createElement('script');\n",
       "      element.onload = on_load;\n",
       "      element.onerror = on_error.bind(null, url);\n",
       "      element.async = false;\n",
       "      element.src = url;\n",
       "      console.debug(\"Bokeh: injecting script tag for BokehJS library: \", url);\n",
       "      document.head.appendChild(element);\n",
       "    }\n",
       "  };\n",
       "\n",
       "  function inject_raw_css(css) {\n",
       "    const element = document.createElement(\"style\");\n",
       "    element.appendChild(document.createTextNode(css));\n",
       "    document.body.appendChild(element);\n",
       "  }\n",
       "\n",
       "  const js_urls = [\"https:\/\/cdn.bokeh.org\/bokeh\/release\/bokeh-3.1.1.min.js\", \"https:\/\/cdn.bokeh.org\/bokeh\/release\/bokeh-gl-3.1.1.min.js\", \"https:\/\/cdn.bokeh.org\/bokeh\/release\/bokeh-widgets-3.1.1.min.js\", \"https:\/\/cdn.bokeh.org\/bokeh\/release\/bokeh-tables-3.1.1.min.js\", \"https:\/\/cdn.bokeh.org\/bokeh\/release\/bokeh-mathjax-3.1.1.min.js\"];\n",
       "  const css_urls = [];\n",
       "\n",
       "  const inline_js = [    function(Bokeh) {\n",
       "      Bokeh.set_log_level(\"info\");\n",
       "    },\n",
       "function(Bokeh) {\n",
       "    }\n",
       "  ];\n",
       "\n",
       "  function run_inline_js() {\n",
       "    if (root.Bokeh !== undefined || force === true) {\n",
       "          for (let i = 0; i < inline_js.length; i++) {\n",
       "      inline_js[i].call(root, root.Bokeh);\n",
       "    }\n",
       "if (force === true) {\n",
       "        display_loaded();\n",
       "      }} else if (Date.now() < root._bokeh_timeout) {\n",
       "      setTimeout(run_inline_js, 100);\n",
       "    } else if (!root._bokeh_failed_load) {\n",
       "      console.log(\"Bokeh: BokehJS failed to load within specified timeout.\");\n",
       "      root._bokeh_failed_load = true;\n",
       "    } else if (force !== true) {\n",
       "      const cell = $(document.getElementById(\"c219106f-e9c6-4a25-9482-2625953e0d80\")).parents('.cell').data().cell;\n",
       "      cell.output_area.append_execute_result(NB_LOAD_WARNING)\n",
       "    }\n",
       "  }\n",
       "\n",
       "  if (root._bokeh_is_loading === 0) {\n",
       "    console.debug(\"Bokeh: BokehJS loaded, going straight to plotting\");\n",
       "    run_inline_js();\n",
       "  } else {\n",
       "    load_libs(css_urls, js_urls, function() {\n",
       "      console.debug(\"Bokeh: BokehJS plotting callback run at\", now());\n",
       "      run_inline_js();\n",
       "    });\n",
       "  }\n",
       "}(window));<\/script>"
      ]
     },
     "metadata":{},
     "output_type":"display_data"
    },
    {
     "data":{
      "text\/html":[
       "\n",
       "  <div id=\"d880001e-9723-44aa-9a7b-b8c3cad3dd53\" data-root-id=\"p1437\" style=\"display: contents;\"><\/div>\n"
      ]
     },
     "metadata":{},
     "output_type":"display_data"
    },
    {
     "data":{
      "text\/html":[
       "<script>(function(root) {\n",
       "  function embed_document(root) {\n",
       "  const docs_json = {\"9f3529de-614b-490a-bd85-50411ad0280e\":{\"version\":\"3.1.1\",\"title\":\"Bokeh Application\",\"defs\":[],\"roots\":[{\"type\":\"object\",\"name\":\"Figure\",\"id\":\"p1437\",\"attributes\":{\"width\":700,\"height\":400,\"x_range\":{\"type\":\"object\",\"name\":\"DataRange1d\",\"id\":\"p1439\"},\"y_range\":{\"type\":\"object\",\"name\":\"DataRange1d\",\"id\":\"p1438\"},\"x_scale\":{\"type\":\"object\",\"name\":\"LinearScale\",\"id\":\"p1451\"},\"y_scale\":{\"type\":\"object\",\"name\":\"LinearScale\",\"id\":\"p1453\"},\"title\":{\"type\":\"object\",\"name\":\"Title\",\"id\":\"p1440\",\"attributes\":{\"text\":\"Popul\\u00e1cia miest na Slovensku\"}},\"renderers\":[{\"type\":\"object\",\"name\":\"GlyphRenderer\",\"id\":\"p1482\",\"attributes\":{\"data_source\":{\"type\":\"object\",\"name\":\"ColumnDataSource\",\"id\":\"p1433\",\"attributes\":{\"selected\":{\"type\":\"object\",\"name\":\"Selection\",\"id\":\"p1434\",\"attributes\":{\"indices\":[],\"line_indices\":[]}},\"selection_policy\":{\"type\":\"object\",\"name\":\"UnionRenderers\",\"id\":\"p1435\"},\"data\":{\"type\":\"map\",\"entries\":[[\"miesta\",[\"Bratislava\",\"Ko\\u0161ice\",\"Pre\\u0161ov\",\"\\u017dilina\",\"Bansk\\u00e1 Bystrica\"]],[\"populacia\",[440000,240000,89000,81000,78000]],[\"x\",[17.1077,21.2512,21.2333,18.74,19.1474]],[\"y\",[48.1486,48.7164,48.9978,49.2217,48.7353]]]}}},\"view\":{\"type\":\"object\",\"name\":\"CDSView\",\"id\":\"p1483\",\"attributes\":{\"filter\":{\"type\":\"object\",\"name\":\"AllIndices\",\"id\":\"p1484\"}}},\"glyph\":{\"type\":\"object\",\"name\":\"Circle\",\"id\":\"p1479\",\"attributes\":{\"x\":{\"type\":\"field\",\"field\":\"x\"},\"y\":{\"type\":\"field\",\"field\":\"y\"},\"size\":{\"type\":\"value\",\"value\":10},\"line_color\":{\"type\":\"field\",\"field\":\"populacia\",\"transform\":{\"type\":\"object\",\"name\":\"LinearColorMapper\",\"id\":\"p1436\",\"attributes\":{\"palette\":[\"#440154\",\"#440255\",\"#440357\",\"#450558\",\"#45065A\",\"#45085B\",\"#46095C\",\"#460B5E\",\"#460C5F\",\"#460E61\",\"#470F62\",\"#471163\",\"#471265\",\"#471466\",\"#471567\",\"#471669\",\"#47186A\",\"#48196B\",\"#481A6C\",\"#481C6E\",\"#481D6F\",\"#481E70\",\"#482071\",\"#482172\",\"#482273\",\"#482374\",\"#472575\",\"#472676\",\"#472777\",\"#472878\",\"#472A79\",\"#472B7A\",\"#472C7B\",\"#462D7C\",\"#462F7C\",\"#46307D\",\"#46317E\",\"#45327F\",\"#45347F\",\"#453580\",\"#453681\",\"#443781\",\"#443982\",\"#433A83\",\"#433B83\",\"#433C84\",\"#423D84\",\"#423E85\",\"#424085\",\"#414186\",\"#414286\",\"#404387\",\"#404487\",\"#3F4587\",\"#3F4788\",\"#3E4888\",\"#3E4989\",\"#3D4A89\",\"#3D4B89\",\"#3D4C89\",\"#3C4D8A\",\"#3C4E8A\",\"#3B508A\",\"#3B518A\",\"#3A528B\",\"#3A538B\",\"#39548B\",\"#39558B\",\"#38568B\",\"#38578C\",\"#37588C\",\"#37598C\",\"#365A8C\",\"#365B8C\",\"#355C8C\",\"#355D8C\",\"#345E8D\",\"#345F8D\",\"#33608D\",\"#33618D\",\"#32628D\",\"#32638D\",\"#31648D\",\"#31658D\",\"#31668D\",\"#30678D\",\"#30688D\",\"#2F698D\",\"#2F6A8D\",\"#2E6B8E\",\"#2E6C8E\",\"#2E6D8E\",\"#2D6E8E\",\"#2D6F8E\",\"#2C708E\",\"#2C718E\",\"#2C728E\",\"#2B738E\",\"#2B748E\",\"#2A758E\",\"#2A768E\",\"#2A778E\",\"#29788E\",\"#29798E\",\"#287A8E\",\"#287A8E\",\"#287B8E\",\"#277C8E\",\"#277D8E\",\"#277E8E\",\"#267F8E\",\"#26808E\",\"#26818E\",\"#25828E\",\"#25838D\",\"#24848D\",\"#24858D\",\"#24868D\",\"#23878D\",\"#23888D\",\"#23898D\",\"#22898D\",\"#228A8D\",\"#228B8D\",\"#218C8D\",\"#218D8C\",\"#218E8C\",\"#208F8C\",\"#20908C\",\"#20918C\",\"#1F928C\",\"#1F938B\",\"#1F948B\",\"#1F958B\",\"#1F968B\",\"#1E978A\",\"#1E988A\",\"#1E998A\",\"#1E998A\",\"#1E9A89\",\"#1E9B89\",\"#1E9C89\",\"#1E9D88\",\"#1E9E88\",\"#1E9F88\",\"#1EA087\",\"#1FA187\",\"#1FA286\",\"#1FA386\",\"#20A485\",\"#20A585\",\"#21A685\",\"#21A784\",\"#22A784\",\"#23A883\",\"#23A982\",\"#24AA82\",\"#25AB81\",\"#26AC81\",\"#27AD80\",\"#28AE7F\",\"#29AF7F\",\"#2AB07E\",\"#2BB17D\",\"#2CB17D\",\"#2EB27C\",\"#2FB37B\",\"#30B47A\",\"#32B57A\",\"#33B679\",\"#35B778\",\"#36B877\",\"#38B976\",\"#39B976\",\"#3BBA75\",\"#3DBB74\",\"#3EBC73\",\"#40BD72\",\"#42BE71\",\"#44BE70\",\"#45BF6F\",\"#47C06E\",\"#49C16D\",\"#4BC26C\",\"#4DC26B\",\"#4FC369\",\"#51C468\",\"#53C567\",\"#55C666\",\"#57C665\",\"#59C764\",\"#5BC862\",\"#5EC961\",\"#60C960\",\"#62CA5F\",\"#64CB5D\",\"#67CC5C\",\"#69CC5B\",\"#6BCD59\",\"#6DCE58\",\"#70CE56\",\"#72CF55\",\"#74D054\",\"#77D052\",\"#79D151\",\"#7CD24F\",\"#7ED24E\",\"#81D34C\",\"#83D34B\",\"#86D449\",\"#88D547\",\"#8BD546\",\"#8DD644\",\"#90D643\",\"#92D741\",\"#95D73F\",\"#97D83E\",\"#9AD83C\",\"#9DD93A\",\"#9FD938\",\"#A2DA37\",\"#A5DA35\",\"#A7DB33\",\"#AADB32\",\"#ADDC30\",\"#AFDC2E\",\"#B2DD2C\",\"#B5DD2B\",\"#B7DD29\",\"#BADE27\",\"#BDDE26\",\"#BFDF24\",\"#C2DF22\",\"#C5DF21\",\"#C7E01F\",\"#CAE01E\",\"#CDE01D\",\"#CFE11C\",\"#D2E11B\",\"#D4E11A\",\"#D7E219\",\"#DAE218\",\"#DCE218\",\"#DFE318\",\"#E1E318\",\"#E4E318\",\"#E7E419\",\"#E9E419\",\"#ECE41A\",\"#EEE51B\",\"#F1E51C\",\"#F3E51E\",\"#F6E61F\",\"#F8E621\",\"#FAE622\",\"#FDE724\"],\"low\":78000,\"high\":440000}}},\"fill_color\":{\"type\":\"field\",\"field\":\"populacia\",\"transform\":{\"id\":\"p1436\"}},\"fill_alpha\":{\"type\":\"value\",\"value\":0.6},\"hatch_color\":{\"type\":\"field\",\"field\":\"populacia\",\"transform\":{\"id\":\"p1436\"}}}},\"nonselection_glyph\":{\"type\":\"object\",\"name\":\"Circle\",\"id\":\"p1480\",\"attributes\":{\"x\":{\"type\":\"field\",\"field\":\"x\"},\"y\":{\"type\":\"field\",\"field\":\"y\"},\"size\":{\"type\":\"value\",\"value\":10},\"line_color\":{\"type\":\"field\",\"field\":\"populacia\",\"transform\":{\"id\":\"p1436\"}},\"line_alpha\":{\"type\":\"value\",\"value\":0.1},\"fill_color\":{\"type\":\"field\",\"field\":\"populacia\",\"transform\":{\"id\":\"p1436\"}},\"fill_alpha\":{\"type\":\"value\",\"value\":0.1},\"hatch_color\":{\"type\":\"field\",\"field\":\"populacia\",\"transform\":{\"id\":\"p1436\"}},\"hatch_alpha\":{\"type\":\"value\",\"value\":0.1}}},\"muted_glyph\":{\"type\":\"object\",\"name\":\"Circle\",\"id\":\"p1481\",\"attributes\":{\"x\":{\"type\":\"field\",\"field\":\"x\"},\"y\":{\"type\":\"field\",\"field\":\"y\"},\"size\":{\"type\":\"value\",\"value\":10},\"line_color\":{\"type\":\"field\",\"field\":\"populacia\",\"transform\":{\"id\":\"p1436\"}},\"line_alpha\":{\"type\":\"value\",\"value\":0.2},\"fill_color\":{\"type\":\"field\",\"field\":\"populacia\",\"transform\":{\"id\":\"p1436\"}},\"fill_alpha\":{\"type\":\"value\",\"value\":0.2},\"hatch_color\":{\"type\":\"field\",\"field\":\"populacia\",\"transform\":{\"id\":\"p1436\"}},\"hatch_alpha\":{\"type\":\"value\",\"value\":0.2}}}}}],\"toolbar\":{\"type\":\"object\",\"name\":\"Toolbar\",\"id\":\"p1446\",\"attributes\":{\"tools\":[{\"type\":\"object\",\"name\":\"PanTool\",\"id\":\"p1469\"},{\"type\":\"object\",\"name\":\"WheelZoomTool\",\"id\":\"p1470\"},{\"type\":\"object\",\"name\":\"ResetTool\",\"id\":\"p1471\"},{\"type\":\"object\",\"name\":\"HoverTool\",\"id\":\"p1485\",\"attributes\":{\"renderers\":\"auto\",\"tooltips\":[[\"Mesto\",\"@miesta\"],[\"Popul\\u00e1cia\",\"@populacia\"]]}}]}},\"toolbar_location\":\"above\",\"left\":[{\"type\":\"object\",\"name\":\"LinearAxis\",\"id\":\"p1462\",\"attributes\":{\"ticker\":{\"type\":\"object\",\"name\":\"BasicTicker\",\"id\":\"p1463\",\"attributes\":{\"mantissas\":[1,2,5]}},\"formatter\":{\"type\":\"object\",\"name\":\"BasicTickFormatter\",\"id\":\"p1465\"},\"axis_label\":\"Zemepisn\\u00e1 \\u0161\\u00edrka\",\"major_label_policy\":{\"type\":\"object\",\"name\":\"AllLabels\",\"id\":\"p1464\"}}}],\"below\":[{\"type\":\"object\",\"name\":\"LinearAxis\",\"id\":\"p1455\",\"attributes\":{\"ticker\":{\"type\":\"object\",\"name\":\"BasicTicker\",\"id\":\"p1456\",\"attributes\":{\"mantissas\":[1,2,5]}},\"formatter\":{\"type\":\"object\",\"name\":\"BasicTickFormatter\",\"id\":\"p1458\"},\"axis_label\":\"Zemepisn\\u00e1 d\\u013a\\u017eka\",\"major_label_policy\":{\"type\":\"object\",\"name\":\"AllLabels\",\"id\":\"p1457\"}}}],\"center\":[{\"type\":\"object\",\"name\":\"Grid\",\"id\":\"p1461\",\"attributes\":{\"axis\":{\"id\":\"p1455\"}}},{\"type\":\"object\",\"name\":\"Grid\",\"id\":\"p1468\",\"attributes\":{\"dimension\":1,\"axis\":{\"id\":\"p1462\"}}}]}}],\"callbacks\":{\"type\":\"map\"}}};\n",
       "  const render_items = [{\"docid\":\"9f3529de-614b-490a-bd85-50411ad0280e\",\"roots\":{\"p1437\":\"d880001e-9723-44aa-9a7b-b8c3cad3dd53\"},\"root_ids\":[\"p1437\"]}];\n",
       "  root.Bokeh.embed.embed_items_notebook(docs_json, render_items);\n",
       "  }\n",
       "  if (root.Bokeh !== undefined) {\n",
       "    embed_document(root);\n",
       "  } else {\n",
       "    let attempts = 0;\n",
       "    const timer = setInterval(function(root) {\n",
       "      if (root.Bokeh !== undefined) {\n",
       "        clearInterval(timer);\n",
       "        embed_document(root);\n",
       "      } else {\n",
       "        attempts++;\n",
       "        if (attempts > 100) {\n",
       "          clearInterval(timer);\n",
       "          console.log(\"Bokeh: ERROR: Unable to run BokehJS code because BokehJS library is missing\");\n",
       "        }\n",
       "      }\n",
       "    }, 10, root)\n",
       "  }\n",
       "})(window);<\/script><script><\/script>"
      ]
     },
     "metadata":{},
     "output_type":"display_data"
    }
   ],
   "metadata":{
    "datalore":{
     "node_id":"7b9JghR7E8ecFkvVVnLH1l",
     "type":"CODE",
     "hide_input_from_viewers":true,
     "hide_output_from_viewers":true
    }
   }
  },
  {
   "cell_type":"markdown",
   "source":[
    "# Dynamické dáta - ceny akcií"
   ],
   "attachments":{},
   "metadata":{
    "datalore":{
     "node_id":"trFQn48MzotYOI1EGE8dEp",
     "type":"MD",
     "hide_input_from_viewers":true,
     "hide_output_from_viewers":true
    }
   }
  },
  {
   "cell_type":"code",
   "source":[],
   "execution_count":53,
   "outputs":[
    {
     "data":{
      "text\/html":[
       "<style>\n",
       "        .bk-notebook-logo {\n",
       "            display: block;\n",
       "            width: 20px;\n",
       "            height: 20px;\n",
       "            background-image: url(data:image\/png;base64,iVBORw0KGgoAAAANSUhEUgAAABQAAAAUCAYAAACNiR0NAAAABHNCSVQICAgIfAhkiAAAAAlwSFlzAAALEgAACxIB0t1+\/AAAABx0RVh0U29mdHdhcmUAQWRvYmUgRmlyZXdvcmtzIENTNui8sowAAAOkSURBVDiNjZRtaJVlGMd\/1\/08zzln5zjP1LWcU9N0NkN8m2CYjpgQYQXqSs0I84OLIC0hkEKoPtiH3gmKoiJDU7QpLgoLjLIQCpEsNJ1vqUOdO7ppbuec5+V+rj4ctwzd8IIbbi6u+8f1539dt3A78eXC7QizUF7gyV1fD1Yqg4JWz84yffhm0qkFqBogB9rM8tZdtwVsPUhWhGcFJngGeWrPzHm5oaMmkfEg1usvLFyc8jLRqDOMru7AyC8saQr7GG7f5fvDeH7Ej8CM66nIF+8yngt6HWaKh7k49Soy9nXurCi1o3qUbS3zWfrYeQDTB\/Qj6kX6Ybhw4B+bOYoLKCC9H3Nu\/leUTZ1JdRWkkn2ldcCamzrcf47KKXdAJllSlxAOkRgyHsGC\/zRday5Qld9DyoM4\/q\/rUoy\/CXh3jzOu3bHUVZeU+DEn8FInkPBFlu3+nW3Nw0mk6vCDiWg8CeJaxEwuHS3+z5RgY+YBR6V1Z1nxSOfoaPa4LASWxxdNp+VWTk7+4vzaou8v8PN+xo+KY2xsw6une2frhw05CTYOmQvsEhjhWjn0bmXPjpE1+kplmmkP3suftwTubK9Vq22qKmrBhpY4jvd5afdRA3wGjFAgcnTK2s4hY0\/GPNIb0nErGMCRxWOOX64Z8RAC4oCXdklmEvcL8o0BfkNK4lUg9HTl+oPlQxdNo3Mg4Nv175e\/1LDGzZen30MEjRUtmXSfiTVu1kK8W4txyV6BMKlbgk3lMwYCiusNy9fVfvvwMxv8Ynl6vxoByANLTWplvuj\/nF9m2+PDtt1eiHPBr1oIfhCChQMBw6Aw0UulqTKZdfVvfG7VcfIqLG9bcldL\/+pdWTLxLUy8Qq38heUIjh4XlzZxzQm19lLFlr8vdQ97rjZVOLf8nclzckbcD4wxXMidpX30sFd37Fv\/GtwwhzhxGVAprjbg0gCAEeIgwCZyTV2Z1REEW8O4py0wsjeloKoMr6iCY6dP92H6Vw\/oTyICIthibxjm\/DfN9lVz8IqtqKYLUXfoKVMVQVVJOElGjrnnUt9T9wbgp8AyYKaGlqingHZU\/uG2NTZSVqwHQTWkx9hxjkpWDaCg6Ckj5qebgBVbT3V3NNXMSiWSDdGV3hrtzla7J+duwPOToIg42ChPQOQjspnSlp1V+Gjdged7+8UN5CRAV7a5EdFNwCjEaBR27b3W890TE7g24NAP\/mMDXRWrGoFPQI9ls\/MWO2dWFAar\/xcOIImbbpA3zgAAAABJRU5ErkJggg==);\n",
       "        }\n",
       "    <\/style>\n",
       "    <div>\n",
       "        <a href=\"https:\/\/bokeh.org\" target=\"_blank\" class=\"bk-notebook-logo\"><\/a>\n",
       "        <span id=\"cb944c4b-1441-4cde-9b00-e900c9fb02c1\">Loading BokehJS ...<\/span>\n",
       "    <\/div>\n"
      ]
     },
     "metadata":{},
     "output_type":"display_data"
    },
    {
     "data":{
      "text\/html":[
       "<script>(function(root) {\n",
       "  function now() {\n",
       "    return new Date();\n",
       "  }\n",
       "\n",
       "  const force = true;\n",
       "\n",
       "  if (typeof root._bokeh_onload_callbacks === \"undefined\" || force === true) {\n",
       "    root._bokeh_onload_callbacks = [];\n",
       "    root._bokeh_is_loading = undefined;\n",
       "  }\n",
       "\n",
       "const JS_MIME_TYPE = 'application\/javascript';\n",
       "  const HTML_MIME_TYPE = 'text\/html';\n",
       "  const EXEC_MIME_TYPE = 'application\/vnd.bokehjs_exec.v0+json';\n",
       "  const CLASS_NAME = 'output_bokeh rendered_html';\n",
       "\n",
       "  \/**\n",
       "   * Render data to the DOM node\n",
       "   *\/\n",
       "  function render(props, node) {\n",
       "    const script = document.createElement(\"script\");\n",
       "    node.appendChild(script);\n",
       "  }\n",
       "\n",
       "  \/**\n",
       "   * Handle when an output is cleared or removed\n",
       "   *\/\n",
       "  function handleClearOutput(event, handle) {\n",
       "    const cell = handle.cell;\n",
       "\n",
       "    const id = cell.output_area._bokeh_element_id;\n",
       "    const server_id = cell.output_area._bokeh_server_id;\n",
       "    \/\/ Clean up Bokeh references\n",
       "    if (id != null && id in Bokeh.index) {\n",
       "      Bokeh.index[id].model.document.clear();\n",
       "      delete Bokeh.index[id];\n",
       "    }\n",
       "\n",
       "    if (server_id !== undefined) {\n",
       "      \/\/ Clean up Bokeh references\n",
       "      const cmd_clean = \"from bokeh.io.state import curstate; print(curstate().uuid_to_server['\" + server_id + \"'].get_sessions()[0].document.roots[0]._id)\";\n",
       "      cell.notebook.kernel.execute(cmd_clean, {\n",
       "        iopub: {\n",
       "          output: function(msg) {\n",
       "            const id = msg.content.text.trim();\n",
       "            if (id in Bokeh.index) {\n",
       "              Bokeh.index[id].model.document.clear();\n",
       "              delete Bokeh.index[id];\n",
       "            }\n",
       "          }\n",
       "        }\n",
       "      });\n",
       "      \/\/ Destroy server and session\n",
       "      const cmd_destroy = \"import bokeh.io.notebook as ion; ion.destroy_server('\" + server_id + \"')\";\n",
       "      cell.notebook.kernel.execute(cmd_destroy);\n",
       "    }\n",
       "  }\n",
       "\n",
       "  \/**\n",
       "   * Handle when a new output is added\n",
       "   *\/\n",
       "  function handleAddOutput(event, handle) {\n",
       "    const output_area = handle.output_area;\n",
       "    const output = handle.output;\n",
       "\n",
       "    \/\/ limit handleAddOutput to display_data with EXEC_MIME_TYPE content only\n",
       "    if ((output.output_type != \"display_data\") || (!Object.prototype.hasOwnProperty.call(output.data, EXEC_MIME_TYPE))) {\n",
       "      return\n",
       "    }\n",
       "\n",
       "    const toinsert = output_area.element.find(\".\" + CLASS_NAME.split(' ')[0]);\n",
       "\n",
       "    if (output.metadata[EXEC_MIME_TYPE][\"id\"] !== undefined) {\n",
       "      toinsert[toinsert.length - 1].firstChild.textContent = output.data[JS_MIME_TYPE];\n",
       "      \/\/ store reference to embed id on output_area\n",
       "      output_area._bokeh_element_id = output.metadata[EXEC_MIME_TYPE][\"id\"];\n",
       "    }\n",
       "    if (output.metadata[EXEC_MIME_TYPE][\"server_id\"] !== undefined) {\n",
       "      const bk_div = document.createElement(\"div\");\n",
       "      bk_div.innerHTML = output.data[HTML_MIME_TYPE];\n",
       "      const script_attrs = bk_div.children[0].attributes;\n",
       "      for (let i = 0; i < script_attrs.length; i++) {\n",
       "        toinsert[toinsert.length - 1].firstChild.setAttribute(script_attrs[i].name, script_attrs[i].value);\n",
       "        toinsert[toinsert.length - 1].firstChild.textContent = bk_div.children[0].textContent\n",
       "      }\n",
       "      \/\/ store reference to server id on output_area\n",
       "      output_area._bokeh_server_id = output.metadata[EXEC_MIME_TYPE][\"server_id\"];\n",
       "    }\n",
       "  }\n",
       "\n",
       "  function register_renderer(events, OutputArea) {\n",
       "\n",
       "    function append_mime(data, metadata, element) {\n",
       "      \/\/ create a DOM node to render to\n",
       "      const toinsert = this.create_output_subarea(\n",
       "        metadata,\n",
       "        CLASS_NAME,\n",
       "        EXEC_MIME_TYPE\n",
       "      );\n",
       "      this.keyboard_manager.register_events(toinsert);\n",
       "      \/\/ Render to node\n",
       "      const props = {data: data, metadata: metadata[EXEC_MIME_TYPE]};\n",
       "      render(props, toinsert[toinsert.length - 1]);\n",
       "      element.append(toinsert);\n",
       "      return toinsert\n",
       "    }\n",
       "\n",
       "    \/* Handle when an output is cleared or removed *\/\n",
       "    events.on('clear_output.CodeCell', handleClearOutput);\n",
       "    events.on('delete.Cell', handleClearOutput);\n",
       "\n",
       "    \/* Handle when a new output is added *\/\n",
       "    events.on('output_added.OutputArea', handleAddOutput);\n",
       "\n",
       "    \/**\n",
       "     * Register the mime type and append_mime function with output_area\n",
       "     *\/\n",
       "    OutputArea.prototype.register_mime_type(EXEC_MIME_TYPE, append_mime, {\n",
       "      \/* Is output safe? *\/\n",
       "      safe: true,\n",
       "      \/* Index of renderer in `output_area.display_order` *\/\n",
       "      index: 0\n",
       "    });\n",
       "  }\n",
       "\n",
       "  \/\/ register the mime type if in Jupyter Notebook environment and previously unregistered\n",
       "  if (root.Jupyter !== undefined) {\n",
       "    const events = require('base\/js\/events');\n",
       "    const OutputArea = require('notebook\/js\/outputarea').OutputArea;\n",
       "\n",
       "    if (OutputArea.prototype.mime_types().indexOf(EXEC_MIME_TYPE) == -1) {\n",
       "      register_renderer(events, OutputArea);\n",
       "    }\n",
       "  }\n",
       "  if (typeof (root._bokeh_timeout) === \"undefined\" || force === true) {\n",
       "    root._bokeh_timeout = Date.now() + 5000;\n",
       "    root._bokeh_failed_load = false;\n",
       "  }\n",
       "\n",
       "  const NB_LOAD_WARNING = {'data': {'text\/html':\n",
       "     \"<div style='background-color: #fdd'>\\n\"+\n",
       "     \"<p>\\n\"+\n",
       "     \"BokehJS does not appear to have successfully loaded. If loading BokehJS from CDN, this \\n\"+\n",
       "     \"may be due to a slow or bad network connection. Possible fixes:\\n\"+\n",
       "     \"<\/p>\\n\"+\n",
       "     \"<ul>\\n\"+\n",
       "     \"<li>re-rerun `output_notebook()` to attempt to load from CDN again, or<\/li>\\n\"+\n",
       "     \"<li>use INLINE resources instead, as so:<\/li>\\n\"+\n",
       "     \"<\/ul>\\n\"+\n",
       "     \"<code>\\n\"+\n",
       "     \"from bokeh.resources import INLINE\\n\"+\n",
       "     \"output_notebook(resources=INLINE)\\n\"+\n",
       "     \"<\/code>\\n\"+\n",
       "     \"<\/div>\"}};\n",
       "\n",
       "  function display_loaded() {\n",
       "    const el = document.getElementById(\"cb944c4b-1441-4cde-9b00-e900c9fb02c1\");\n",
       "    if (el != null) {\n",
       "      el.textContent = \"BokehJS is loading...\";\n",
       "    }\n",
       "    if (root.Bokeh !== undefined) {\n",
       "      if (el != null) {\n",
       "        el.textContent = \"BokehJS \" + root.Bokeh.version + \" successfully loaded.\";\n",
       "      }\n",
       "    } else if (Date.now() < root._bokeh_timeout) {\n",
       "      setTimeout(display_loaded, 100)\n",
       "    }\n",
       "  }\n",
       "\n",
       "  function run_callbacks() {\n",
       "    try {\n",
       "      root._bokeh_onload_callbacks.forEach(function(callback) {\n",
       "        if (callback != null)\n",
       "          callback();\n",
       "      });\n",
       "    } finally {\n",
       "      delete root._bokeh_onload_callbacks\n",
       "    }\n",
       "    console.debug(\"Bokeh: all callbacks have finished\");\n",
       "  }\n",
       "\n",
       "  function load_libs(css_urls, js_urls, callback) {\n",
       "    if (css_urls == null) css_urls = [];\n",
       "    if (js_urls == null) js_urls = [];\n",
       "\n",
       "    root._bokeh_onload_callbacks.push(callback);\n",
       "    if (root._bokeh_is_loading > 0) {\n",
       "      console.debug(\"Bokeh: BokehJS is being loaded, scheduling callback at\", now());\n",
       "      return null;\n",
       "    }\n",
       "    if (js_urls == null || js_urls.length === 0) {\n",
       "      run_callbacks();\n",
       "      return null;\n",
       "    }\n",
       "    console.debug(\"Bokeh: BokehJS not loaded, scheduling load and callback at\", now());\n",
       "    root._bokeh_is_loading = css_urls.length + js_urls.length;\n",
       "\n",
       "    function on_load() {\n",
       "      root._bokeh_is_loading--;\n",
       "      if (root._bokeh_is_loading === 0) {\n",
       "        console.debug(\"Bokeh: all BokehJS libraries\/stylesheets loaded\");\n",
       "        run_callbacks()\n",
       "      }\n",
       "    }\n",
       "\n",
       "    function on_error(url) {\n",
       "      console.error(\"failed to load \" + url);\n",
       "    }\n",
       "\n",
       "    for (let i = 0; i < css_urls.length; i++) {\n",
       "      const url = css_urls[i];\n",
       "      const element = document.createElement(\"link\");\n",
       "      element.onload = on_load;\n",
       "      element.onerror = on_error.bind(null, url);\n",
       "      element.rel = \"stylesheet\";\n",
       "      element.type = \"text\/css\";\n",
       "      element.href = url;\n",
       "      console.debug(\"Bokeh: injecting link tag for BokehJS stylesheet: \", url);\n",
       "      document.body.appendChild(element);\n",
       "    }\n",
       "\n",
       "    for (let i = 0; i < js_urls.length; i++) {\n",
       "      const url = js_urls[i];\n",
       "      const element = document.createElement('script');\n",
       "      element.onload = on_load;\n",
       "      element.onerror = on_error.bind(null, url);\n",
       "      element.async = false;\n",
       "      element.src = url;\n",
       "      console.debug(\"Bokeh: injecting script tag for BokehJS library: \", url);\n",
       "      document.head.appendChild(element);\n",
       "    }\n",
       "  };\n",
       "\n",
       "  function inject_raw_css(css) {\n",
       "    const element = document.createElement(\"style\");\n",
       "    element.appendChild(document.createTextNode(css));\n",
       "    document.body.appendChild(element);\n",
       "  }\n",
       "\n",
       "  const js_urls = [\"https:\/\/cdn.bokeh.org\/bokeh\/release\/bokeh-3.1.1.min.js\", \"https:\/\/cdn.bokeh.org\/bokeh\/release\/bokeh-gl-3.1.1.min.js\", \"https:\/\/cdn.bokeh.org\/bokeh\/release\/bokeh-widgets-3.1.1.min.js\", \"https:\/\/cdn.bokeh.org\/bokeh\/release\/bokeh-tables-3.1.1.min.js\", \"https:\/\/cdn.bokeh.org\/bokeh\/release\/bokeh-mathjax-3.1.1.min.js\"];\n",
       "  const css_urls = [];\n",
       "\n",
       "  const inline_js = [    function(Bokeh) {\n",
       "      Bokeh.set_log_level(\"info\");\n",
       "    },\n",
       "function(Bokeh) {\n",
       "    }\n",
       "  ];\n",
       "\n",
       "  function run_inline_js() {\n",
       "    if (root.Bokeh !== undefined || force === true) {\n",
       "          for (let i = 0; i < inline_js.length; i++) {\n",
       "      inline_js[i].call(root, root.Bokeh);\n",
       "    }\n",
       "if (force === true) {\n",
       "        display_loaded();\n",
       "      }} else if (Date.now() < root._bokeh_timeout) {\n",
       "      setTimeout(run_inline_js, 100);\n",
       "    } else if (!root._bokeh_failed_load) {\n",
       "      console.log(\"Bokeh: BokehJS failed to load within specified timeout.\");\n",
       "      root._bokeh_failed_load = true;\n",
       "    } else if (force !== true) {\n",
       "      const cell = $(document.getElementById(\"cb944c4b-1441-4cde-9b00-e900c9fb02c1\")).parents('.cell').data().cell;\n",
       "      cell.output_area.append_execute_result(NB_LOAD_WARNING)\n",
       "    }\n",
       "  }\n",
       "\n",
       "  if (root._bokeh_is_loading === 0) {\n",
       "    console.debug(\"Bokeh: BokehJS loaded, going straight to plotting\");\n",
       "    run_inline_js();\n",
       "  } else {\n",
       "    load_libs(css_urls, js_urls, function() {\n",
       "      console.debug(\"Bokeh: BokehJS plotting callback run at\", now());\n",
       "      run_inline_js();\n",
       "    });\n",
       "  }\n",
       "}(window));<\/script><script>(function(root) {\n",
       "  function now() {\n",
       "    return new Date();\n",
       "  }\n",
       "\n",
       "  const force = true;\n",
       "\n",
       "  if (typeof root._bokeh_onload_callbacks === \"undefined\" || force === true) {\n",
       "    root._bokeh_onload_callbacks = [];\n",
       "    root._bokeh_is_loading = undefined;\n",
       "  }\n",
       "\n",
       "\n",
       "  if (typeof (root._bokeh_timeout) === \"undefined\" || force === true) {\n",
       "    root._bokeh_timeout = Date.now() + 5000;\n",
       "    root._bokeh_failed_load = false;\n",
       "  }\n",
       "\n",
       "  const NB_LOAD_WARNING = {'data': {'text\/html':\n",
       "     \"<div style='background-color: #fdd'>\\n\"+\n",
       "     \"<p>\\n\"+\n",
       "     \"BokehJS does not appear to have successfully loaded. If loading BokehJS from CDN, this \\n\"+\n",
       "     \"may be due to a slow or bad network connection. Possible fixes:\\n\"+\n",
       "     \"<\/p>\\n\"+\n",
       "     \"<ul>\\n\"+\n",
       "     \"<li>re-rerun `output_notebook()` to attempt to load from CDN again, or<\/li>\\n\"+\n",
       "     \"<li>use INLINE resources instead, as so:<\/li>\\n\"+\n",
       "     \"<\/ul>\\n\"+\n",
       "     \"<code>\\n\"+\n",
       "     \"from bokeh.resources import INLINE\\n\"+\n",
       "     \"output_notebook(resources=INLINE)\\n\"+\n",
       "     \"<\/code>\\n\"+\n",
       "     \"<\/div>\"}};\n",
       "\n",
       "  function display_loaded() {\n",
       "    const el = document.getElementById(\"cb944c4b-1441-4cde-9b00-e900c9fb02c1\");\n",
       "    if (el != null) {\n",
       "      el.textContent = \"BokehJS is loading...\";\n",
       "    }\n",
       "    if (root.Bokeh !== undefined) {\n",
       "      if (el != null) {\n",
       "        el.textContent = \"BokehJS \" + root.Bokeh.version + \" successfully loaded.\";\n",
       "      }\n",
       "    } else if (Date.now() < root._bokeh_timeout) {\n",
       "      setTimeout(display_loaded, 100)\n",
       "    }\n",
       "  }\n",
       "\n",
       "  function run_callbacks() {\n",
       "    try {\n",
       "      root._bokeh_onload_callbacks.forEach(function(callback) {\n",
       "        if (callback != null)\n",
       "          callback();\n",
       "      });\n",
       "    } finally {\n",
       "      delete root._bokeh_onload_callbacks\n",
       "    }\n",
       "    console.debug(\"Bokeh: all callbacks have finished\");\n",
       "  }\n",
       "\n",
       "  function load_libs(css_urls, js_urls, callback) {\n",
       "    if (css_urls == null) css_urls = [];\n",
       "    if (js_urls == null) js_urls = [];\n",
       "\n",
       "    root._bokeh_onload_callbacks.push(callback);\n",
       "    if (root._bokeh_is_loading > 0) {\n",
       "      console.debug(\"Bokeh: BokehJS is being loaded, scheduling callback at\", now());\n",
       "      return null;\n",
       "    }\n",
       "    if (js_urls == null || js_urls.length === 0) {\n",
       "      run_callbacks();\n",
       "      return null;\n",
       "    }\n",
       "    console.debug(\"Bokeh: BokehJS not loaded, scheduling load and callback at\", now());\n",
       "    root._bokeh_is_loading = css_urls.length + js_urls.length;\n",
       "\n",
       "    function on_load() {\n",
       "      root._bokeh_is_loading--;\n",
       "      if (root._bokeh_is_loading === 0) {\n",
       "        console.debug(\"Bokeh: all BokehJS libraries\/stylesheets loaded\");\n",
       "        run_callbacks()\n",
       "      }\n",
       "    }\n",
       "\n",
       "    function on_error(url) {\n",
       "      console.error(\"failed to load \" + url);\n",
       "    }\n",
       "\n",
       "    for (let i = 0; i < css_urls.length; i++) {\n",
       "      const url = css_urls[i];\n",
       "      const element = document.createElement(\"link\");\n",
       "      element.onload = on_load;\n",
       "      element.onerror = on_error.bind(null, url);\n",
       "      element.rel = \"stylesheet\";\n",
       "      element.type = \"text\/css\";\n",
       "      element.href = url;\n",
       "      console.debug(\"Bokeh: injecting link tag for BokehJS stylesheet: \", url);\n",
       "      document.body.appendChild(element);\n",
       "    }\n",
       "\n",
       "    for (let i = 0; i < js_urls.length; i++) {\n",
       "      const url = js_urls[i];\n",
       "      const element = document.createElement('script');\n",
       "      element.onload = on_load;\n",
       "      element.onerror = on_error.bind(null, url);\n",
       "      element.async = false;\n",
       "      element.src = url;\n",
       "      console.debug(\"Bokeh: injecting script tag for BokehJS library: \", url);\n",
       "      document.head.appendChild(element);\n",
       "    }\n",
       "  };\n",
       "\n",
       "  function inject_raw_css(css) {\n",
       "    const element = document.createElement(\"style\");\n",
       "    element.appendChild(document.createTextNode(css));\n",
       "    document.body.appendChild(element);\n",
       "  }\n",
       "\n",
       "  const js_urls = [\"https:\/\/cdn.bokeh.org\/bokeh\/release\/bokeh-3.1.1.min.js\", \"https:\/\/cdn.bokeh.org\/bokeh\/release\/bokeh-gl-3.1.1.min.js\", \"https:\/\/cdn.bokeh.org\/bokeh\/release\/bokeh-widgets-3.1.1.min.js\", \"https:\/\/cdn.bokeh.org\/bokeh\/release\/bokeh-tables-3.1.1.min.js\", \"https:\/\/cdn.bokeh.org\/bokeh\/release\/bokeh-mathjax-3.1.1.min.js\"];\n",
       "  const css_urls = [];\n",
       "\n",
       "  const inline_js = [    function(Bokeh) {\n",
       "      Bokeh.set_log_level(\"info\");\n",
       "    },\n",
       "function(Bokeh) {\n",
       "    }\n",
       "  ];\n",
       "\n",
       "  function run_inline_js() {\n",
       "    if (root.Bokeh !== undefined || force === true) {\n",
       "          for (let i = 0; i < inline_js.length; i++) {\n",
       "      inline_js[i].call(root, root.Bokeh);\n",
       "    }\n",
       "if (force === true) {\n",
       "        display_loaded();\n",
       "      }} else if (Date.now() < root._bokeh_timeout) {\n",
       "      setTimeout(run_inline_js, 100);\n",
       "    } else if (!root._bokeh_failed_load) {\n",
       "      console.log(\"Bokeh: BokehJS failed to load within specified timeout.\");\n",
       "      root._bokeh_failed_load = true;\n",
       "    } else if (force !== true) {\n",
       "      const cell = $(document.getElementById(\"cb944c4b-1441-4cde-9b00-e900c9fb02c1\")).parents('.cell').data().cell;\n",
       "      cell.output_area.append_execute_result(NB_LOAD_WARNING)\n",
       "    }\n",
       "  }\n",
       "\n",
       "  if (root._bokeh_is_loading === 0) {\n",
       "    console.debug(\"Bokeh: BokehJS loaded, going straight to plotting\");\n",
       "    run_inline_js();\n",
       "  } else {\n",
       "    load_libs(css_urls, js_urls, function() {\n",
       "      console.debug(\"Bokeh: BokehJS plotting callback run at\", now());\n",
       "      run_inline_js();\n",
       "    });\n",
       "  }\n",
       "}(window));<\/script>"
      ]
     },
     "metadata":{},
     "output_type":"display_data"
    },
    {
     "data":{
      "text\/html":[
       "\n",
       "  <div id=\"f8a0a587-fa49-421b-a13b-57d577b72309\" data-root-id=\"p2420\" style=\"display: contents;\"><\/div>\n"
      ]
     },
     "metadata":{},
     "output_type":"display_data"
    },
    {
     "data":{
      "text\/html":[
       "<script>(function(root) {\n",
       "  function embed_document(root) {\n",
       "  const docs_json = {\"5caf1e04-58e3-496b-8a67-b52552977451\":{\"version\":\"3.1.1\",\"title\":\"Bokeh Application\",\"defs\":[],\"roots\":[{\"type\":\"object\",\"name\":\"Figure\",\"id\":\"p2420\",\"attributes\":{\"width\":700,\"height\":350,\"x_range\":{\"type\":\"object\",\"name\":\"FactorRange\",\"id\":\"p2430\",\"attributes\":{\"factors\":[\"2024-01-02\",\"2024-02-15\",\"2024-03-10\",\"2024-04-20\",\"2024-07-10\",\"2024-10-12\"]}},\"y_range\":{\"type\":\"object\",\"name\":\"DataRange1d\",\"id\":\"p2422\"},\"x_scale\":{\"type\":\"object\",\"name\":\"CategoricalScale\",\"id\":\"p2434\"},\"y_scale\":{\"type\":\"object\",\"name\":\"LinearScale\",\"id\":\"p2436\"},\"title\":{\"type\":\"object\",\"name\":\"Title\",\"id\":\"p2423\",\"attributes\":{\"text\":\"V\\u00fdvoj ceny akci\\u00ed Google (Alphabet Inc.) za rok 2024\"}},\"renderers\":[{\"type\":\"object\",\"name\":\"GlyphRenderer\",\"id\":\"p2466\",\"attributes\":{\"data_source\":{\"type\":\"object\",\"name\":\"ColumnDataSource\",\"id\":\"p2417\",\"attributes\":{\"selected\":{\"type\":\"object\",\"name\":\"Selection\",\"id\":\"p2418\",\"attributes\":{\"indices\":[],\"line_indices\":[]}},\"selection_policy\":{\"type\":\"object\",\"name\":\"UnionRenderers\",\"id\":\"p2419\"},\"data\":{\"type\":\"map\",\"entries\":[[\"index\",{\"type\":\"ndarray\",\"array\":{\"type\":\"bytes\",\"data\":\"AAAAAAEAAAACAAAAAwAAAAQAAAAFAAAA\"},\"shape\":[6],\"dtype\":\"int32\",\"order\":\"little\"}],[\"dny\",{\"type\":\"ndarray\",\"array\":[\"2024-01-02\",\"2024-02-15\",\"2024-03-10\",\"2024-04-20\",\"2024-07-10\",\"2024-10-12\"],\"shape\":[6],\"dtype\":\"object\",\"order\":\"little\"}],[\"cena\",{\"type\":\"ndarray\",\"array\":{\"type\":\"bytes\",\"data\":\"AAAAAADIYkCkcD0K1wtkQKRwPQrXw2NAXI\/C9SicZUAAAAAAAPhnQMP1KFyPimRA\"},\"shape\":[6],\"dtype\":\"float64\",\"order\":\"little\"}]]}}},\"view\":{\"type\":\"object\",\"name\":\"CDSView\",\"id\":\"p2467\",\"attributes\":{\"filter\":{\"type\":\"object\",\"name\":\"AllIndices\",\"id\":\"p2468\"}}},\"glyph\":{\"type\":\"object\",\"name\":\"Line\",\"id\":\"p2463\",\"attributes\":{\"x\":{\"type\":\"field\",\"field\":\"dny\"},\"y\":{\"type\":\"field\",\"field\":\"cena\"},\"line_color\":\"green\",\"line_width\":2}},\"nonselection_glyph\":{\"type\":\"object\",\"name\":\"Line\",\"id\":\"p2464\",\"attributes\":{\"x\":{\"type\":\"field\",\"field\":\"dny\"},\"y\":{\"type\":\"field\",\"field\":\"cena\"},\"line_color\":\"green\",\"line_alpha\":0.1,\"line_width\":2}},\"muted_glyph\":{\"type\":\"object\",\"name\":\"Line\",\"id\":\"p2465\",\"attributes\":{\"x\":{\"type\":\"field\",\"field\":\"dny\"},\"y\":{\"type\":\"field\",\"field\":\"cena\"},\"line_color\":\"green\",\"line_alpha\":0.2,\"line_width\":2}}}}],\"toolbar\":{\"type\":\"object\",\"name\":\"Toolbar\",\"id\":\"p2429\",\"attributes\":{\"tools\":[{\"type\":\"object\",\"name\":\"PanTool\",\"id\":\"p2451\"},{\"type\":\"object\",\"name\":\"BoxZoomTool\",\"id\":\"p2452\",\"attributes\":{\"overlay\":{\"type\":\"object\",\"name\":\"BoxAnnotation\",\"id\":\"p2453\",\"attributes\":{\"syncable\":false,\"level\":\"overlay\",\"visible\":false,\"left_units\":\"canvas\",\"right_units\":\"canvas\",\"bottom_units\":\"canvas\",\"top_units\":\"canvas\",\"line_color\":\"black\",\"line_alpha\":1.0,\"line_width\":2,\"line_dash\":[4,4],\"fill_color\":\"lightgrey\",\"fill_alpha\":0.5}}}},{\"type\":\"object\",\"name\":\"ResetTool\",\"id\":\"p2454\"}]}},\"left\":[{\"type\":\"object\",\"name\":\"LinearAxis\",\"id\":\"p2444\",\"attributes\":{\"ticker\":{\"type\":\"object\",\"name\":\"BasicTicker\",\"id\":\"p2445\",\"attributes\":{\"mantissas\":[1,2,5]}},\"formatter\":{\"type\":\"object\",\"name\":\"BasicTickFormatter\",\"id\":\"p2447\"},\"axis_label\":\"Cena akci\\u00ed v USD\",\"major_label_policy\":{\"type\":\"object\",\"name\":\"AllLabels\",\"id\":\"p2446\"}}}],\"below\":[{\"type\":\"object\",\"name\":\"CategoricalAxis\",\"id\":\"p2438\",\"attributes\":{\"ticker\":{\"type\":\"object\",\"name\":\"CategoricalTicker\",\"id\":\"p2439\"},\"formatter\":{\"type\":\"object\",\"name\":\"CategoricalTickFormatter\",\"id\":\"p2441\"},\"axis_label\":\"D\\u00e1tum\",\"major_label_policy\":{\"type\":\"object\",\"name\":\"AllLabels\",\"id\":\"p2440\"}}}],\"center\":[{\"type\":\"object\",\"name\":\"Grid\",\"id\":\"p2443\",\"attributes\":{\"axis\":{\"id\":\"p2438\"}}},{\"type\":\"object\",\"name\":\"Grid\",\"id\":\"p2450\",\"attributes\":{\"dimension\":1,\"axis\":{\"id\":\"p2444\"}}}]}}],\"callbacks\":{\"type\":\"map\"}}};\n",
       "  const render_items = [{\"docid\":\"5caf1e04-58e3-496b-8a67-b52552977451\",\"roots\":{\"p2420\":\"f8a0a587-fa49-421b-a13b-57d577b72309\"},\"root_ids\":[\"p2420\"]}];\n",
       "  root.Bokeh.embed.embed_items_notebook(docs_json, render_items);\n",
       "  }\n",
       "  if (root.Bokeh !== undefined) {\n",
       "    embed_document(root);\n",
       "  } else {\n",
       "    let attempts = 0;\n",
       "    const timer = setInterval(function(root) {\n",
       "      if (root.Bokeh !== undefined) {\n",
       "        clearInterval(timer);\n",
       "        embed_document(root);\n",
       "      } else {\n",
       "        attempts++;\n",
       "        if (attempts > 100) {\n",
       "          clearInterval(timer);\n",
       "          console.log(\"Bokeh: ERROR: Unable to run BokehJS code because BokehJS library is missing\");\n",
       "        }\n",
       "      }\n",
       "    }, 10, root)\n",
       "  }\n",
       "})(window);<\/script><script><\/script>"
      ]
     },
     "metadata":{},
     "output_type":"display_data"
    }
   ],
   "metadata":{
    "datalore":{
     "node_id":"V2uinrpFpvwWRz7AELOaT5",
     "type":"CODE",
     "hide_input_from_viewers":true,
     "hide_output_from_viewers":true
    }
   }
  },
  {
   "cell_type":"markdown",
   "source":[
    "# Príklad 4: Interaktívny graf výdavkov na rôzne kategórie"
   ],
   "attachments":{},
   "metadata":{
    "datalore":{
     "node_id":"UoxflSfGaZykQyUUaBppdP",
     "type":"MD",
     "hide_input_from_viewers":true,
     "hide_output_from_viewers":true
    }
   }
  },
  {
   "cell_type":"code",
   "source":[],
   "execution_count":56,
   "outputs":[
    {
     "data":{
      "text\/html":[
       "<style>\n",
       "        .bk-notebook-logo {\n",
       "            display: block;\n",
       "            width: 20px;\n",
       "            height: 20px;\n",
       "            background-image: url(data:image\/png;base64,iVBORw0KGgoAAAANSUhEUgAAABQAAAAUCAYAAACNiR0NAAAABHNCSVQICAgIfAhkiAAAAAlwSFlzAAALEgAACxIB0t1+\/AAAABx0RVh0U29mdHdhcmUAQWRvYmUgRmlyZXdvcmtzIENTNui8sowAAAOkSURBVDiNjZRtaJVlGMd\/1\/08zzln5zjP1LWcU9N0NkN8m2CYjpgQYQXqSs0I84OLIC0hkEKoPtiH3gmKoiJDU7QpLgoLjLIQCpEsNJ1vqUOdO7ppbuec5+V+rj4ctwzd8IIbbi6u+8f1539dt3A78eXC7QizUF7gyV1fD1Yqg4JWz84yffhm0qkFqBogB9rM8tZdtwVsPUhWhGcFJngGeWrPzHm5oaMmkfEg1usvLFyc8jLRqDOMru7AyC8saQr7GG7f5fvDeH7Ej8CM66nIF+8yngt6HWaKh7k49Soy9nXurCi1o3qUbS3zWfrYeQDTB\/Qj6kX6Ybhw4B+bOYoLKCC9H3Nu\/leUTZ1JdRWkkn2ldcCamzrcf47KKXdAJllSlxAOkRgyHsGC\/zRday5Qld9DyoM4\/q\/rUoy\/CXh3jzOu3bHUVZeU+DEn8FInkPBFlu3+nW3Nw0mk6vCDiWg8CeJaxEwuHS3+z5RgY+YBR6V1Z1nxSOfoaPa4LASWxxdNp+VWTk7+4vzaou8v8PN+xo+KY2xsw6une2frhw05CTYOmQvsEhjhWjn0bmXPjpE1+kplmmkP3suftwTubK9Vq22qKmrBhpY4jvd5afdRA3wGjFAgcnTK2s4hY0\/GPNIb0nErGMCRxWOOX64Z8RAC4oCXdklmEvcL8o0BfkNK4lUg9HTl+oPlQxdNo3Mg4Nv175e\/1LDGzZen30MEjRUtmXSfiTVu1kK8W4txyV6BMKlbgk3lMwYCiusNy9fVfvvwMxv8Ynl6vxoByANLTWplvuj\/nF9m2+PDtt1eiHPBr1oIfhCChQMBw6Aw0UulqTKZdfVvfG7VcfIqLG9bcldL\/+pdWTLxLUy8Qq38heUIjh4XlzZxzQm19lLFlr8vdQ97rjZVOLf8nclzckbcD4wxXMidpX30sFd37Fv\/GtwwhzhxGVAprjbg0gCAEeIgwCZyTV2Z1REEW8O4py0wsjeloKoMr6iCY6dP92H6Vw\/oTyICIthibxjm\/DfN9lVz8IqtqKYLUXfoKVMVQVVJOElGjrnnUt9T9wbgp8AyYKaGlqingHZU\/uG2NTZSVqwHQTWkx9hxjkpWDaCg6Ckj5qebgBVbT3V3NNXMSiWSDdGV3hrtzla7J+duwPOToIg42ChPQOQjspnSlp1V+Gjdged7+8UN5CRAV7a5EdFNwCjEaBR27b3W890TE7g24NAP\/mMDXRWrGoFPQI9ls\/MWO2dWFAar\/xcOIImbbpA3zgAAAABJRU5ErkJggg==);\n",
       "        }\n",
       "    <\/style>\n",
       "    <div>\n",
       "        <a href=\"https:\/\/bokeh.org\" target=\"_blank\" class=\"bk-notebook-logo\"><\/a>\n",
       "        <span id=\"da0b4377-9595-4f2f-9061-2b1193ff24da\">Loading BokehJS ...<\/span>\n",
       "    <\/div>\n"
      ]
     },
     "metadata":{},
     "output_type":"display_data"
    },
    {
     "data":{
      "text\/html":[
       "<script>(function(root) {\n",
       "  function now() {\n",
       "    return new Date();\n",
       "  }\n",
       "\n",
       "  const force = true;\n",
       "\n",
       "  if (typeof root._bokeh_onload_callbacks === \"undefined\" || force === true) {\n",
       "    root._bokeh_onload_callbacks = [];\n",
       "    root._bokeh_is_loading = undefined;\n",
       "  }\n",
       "\n",
       "const JS_MIME_TYPE = 'application\/javascript';\n",
       "  const HTML_MIME_TYPE = 'text\/html';\n",
       "  const EXEC_MIME_TYPE = 'application\/vnd.bokehjs_exec.v0+json';\n",
       "  const CLASS_NAME = 'output_bokeh rendered_html';\n",
       "\n",
       "  \/**\n",
       "   * Render data to the DOM node\n",
       "   *\/\n",
       "  function render(props, node) {\n",
       "    const script = document.createElement(\"script\");\n",
       "    node.appendChild(script);\n",
       "  }\n",
       "\n",
       "  \/**\n",
       "   * Handle when an output is cleared or removed\n",
       "   *\/\n",
       "  function handleClearOutput(event, handle) {\n",
       "    const cell = handle.cell;\n",
       "\n",
       "    const id = cell.output_area._bokeh_element_id;\n",
       "    const server_id = cell.output_area._bokeh_server_id;\n",
       "    \/\/ Clean up Bokeh references\n",
       "    if (id != null && id in Bokeh.index) {\n",
       "      Bokeh.index[id].model.document.clear();\n",
       "      delete Bokeh.index[id];\n",
       "    }\n",
       "\n",
       "    if (server_id !== undefined) {\n",
       "      \/\/ Clean up Bokeh references\n",
       "      const cmd_clean = \"from bokeh.io.state import curstate; print(curstate().uuid_to_server['\" + server_id + \"'].get_sessions()[0].document.roots[0]._id)\";\n",
       "      cell.notebook.kernel.execute(cmd_clean, {\n",
       "        iopub: {\n",
       "          output: function(msg) {\n",
       "            const id = msg.content.text.trim();\n",
       "            if (id in Bokeh.index) {\n",
       "              Bokeh.index[id].model.document.clear();\n",
       "              delete Bokeh.index[id];\n",
       "            }\n",
       "          }\n",
       "        }\n",
       "      });\n",
       "      \/\/ Destroy server and session\n",
       "      const cmd_destroy = \"import bokeh.io.notebook as ion; ion.destroy_server('\" + server_id + \"')\";\n",
       "      cell.notebook.kernel.execute(cmd_destroy);\n",
       "    }\n",
       "  }\n",
       "\n",
       "  \/**\n",
       "   * Handle when a new output is added\n",
       "   *\/\n",
       "  function handleAddOutput(event, handle) {\n",
       "    const output_area = handle.output_area;\n",
       "    const output = handle.output;\n",
       "\n",
       "    \/\/ limit handleAddOutput to display_data with EXEC_MIME_TYPE content only\n",
       "    if ((output.output_type != \"display_data\") || (!Object.prototype.hasOwnProperty.call(output.data, EXEC_MIME_TYPE))) {\n",
       "      return\n",
       "    }\n",
       "\n",
       "    const toinsert = output_area.element.find(\".\" + CLASS_NAME.split(' ')[0]);\n",
       "\n",
       "    if (output.metadata[EXEC_MIME_TYPE][\"id\"] !== undefined) {\n",
       "      toinsert[toinsert.length - 1].firstChild.textContent = output.data[JS_MIME_TYPE];\n",
       "      \/\/ store reference to embed id on output_area\n",
       "      output_area._bokeh_element_id = output.metadata[EXEC_MIME_TYPE][\"id\"];\n",
       "    }\n",
       "    if (output.metadata[EXEC_MIME_TYPE][\"server_id\"] !== undefined) {\n",
       "      const bk_div = document.createElement(\"div\");\n",
       "      bk_div.innerHTML = output.data[HTML_MIME_TYPE];\n",
       "      const script_attrs = bk_div.children[0].attributes;\n",
       "      for (let i = 0; i < script_attrs.length; i++) {\n",
       "        toinsert[toinsert.length - 1].firstChild.setAttribute(script_attrs[i].name, script_attrs[i].value);\n",
       "        toinsert[toinsert.length - 1].firstChild.textContent = bk_div.children[0].textContent\n",
       "      }\n",
       "      \/\/ store reference to server id on output_area\n",
       "      output_area._bokeh_server_id = output.metadata[EXEC_MIME_TYPE][\"server_id\"];\n",
       "    }\n",
       "  }\n",
       "\n",
       "  function register_renderer(events, OutputArea) {\n",
       "\n",
       "    function append_mime(data, metadata, element) {\n",
       "      \/\/ create a DOM node to render to\n",
       "      const toinsert = this.create_output_subarea(\n",
       "        metadata,\n",
       "        CLASS_NAME,\n",
       "        EXEC_MIME_TYPE\n",
       "      );\n",
       "      this.keyboard_manager.register_events(toinsert);\n",
       "      \/\/ Render to node\n",
       "      const props = {data: data, metadata: metadata[EXEC_MIME_TYPE]};\n",
       "      render(props, toinsert[toinsert.length - 1]);\n",
       "      element.append(toinsert);\n",
       "      return toinsert\n",
       "    }\n",
       "\n",
       "    \/* Handle when an output is cleared or removed *\/\n",
       "    events.on('clear_output.CodeCell', handleClearOutput);\n",
       "    events.on('delete.Cell', handleClearOutput);\n",
       "\n",
       "    \/* Handle when a new output is added *\/\n",
       "    events.on('output_added.OutputArea', handleAddOutput);\n",
       "\n",
       "    \/**\n",
       "     * Register the mime type and append_mime function with output_area\n",
       "     *\/\n",
       "    OutputArea.prototype.register_mime_type(EXEC_MIME_TYPE, append_mime, {\n",
       "      \/* Is output safe? *\/\n",
       "      safe: true,\n",
       "      \/* Index of renderer in `output_area.display_order` *\/\n",
       "      index: 0\n",
       "    });\n",
       "  }\n",
       "\n",
       "  \/\/ register the mime type if in Jupyter Notebook environment and previously unregistered\n",
       "  if (root.Jupyter !== undefined) {\n",
       "    const events = require('base\/js\/events');\n",
       "    const OutputArea = require('notebook\/js\/outputarea').OutputArea;\n",
       "\n",
       "    if (OutputArea.prototype.mime_types().indexOf(EXEC_MIME_TYPE) == -1) {\n",
       "      register_renderer(events, OutputArea);\n",
       "    }\n",
       "  }\n",
       "  if (typeof (root._bokeh_timeout) === \"undefined\" || force === true) {\n",
       "    root._bokeh_timeout = Date.now() + 5000;\n",
       "    root._bokeh_failed_load = false;\n",
       "  }\n",
       "\n",
       "  const NB_LOAD_WARNING = {'data': {'text\/html':\n",
       "     \"<div style='background-color: #fdd'>\\n\"+\n",
       "     \"<p>\\n\"+\n",
       "     \"BokehJS does not appear to have successfully loaded. If loading BokehJS from CDN, this \\n\"+\n",
       "     \"may be due to a slow or bad network connection. Possible fixes:\\n\"+\n",
       "     \"<\/p>\\n\"+\n",
       "     \"<ul>\\n\"+\n",
       "     \"<li>re-rerun `output_notebook()` to attempt to load from CDN again, or<\/li>\\n\"+\n",
       "     \"<li>use INLINE resources instead, as so:<\/li>\\n\"+\n",
       "     \"<\/ul>\\n\"+\n",
       "     \"<code>\\n\"+\n",
       "     \"from bokeh.resources import INLINE\\n\"+\n",
       "     \"output_notebook(resources=INLINE)\\n\"+\n",
       "     \"<\/code>\\n\"+\n",
       "     \"<\/div>\"}};\n",
       "\n",
       "  function display_loaded() {\n",
       "    const el = document.getElementById(\"da0b4377-9595-4f2f-9061-2b1193ff24da\");\n",
       "    if (el != null) {\n",
       "      el.textContent = \"BokehJS is loading...\";\n",
       "    }\n",
       "    if (root.Bokeh !== undefined) {\n",
       "      if (el != null) {\n",
       "        el.textContent = \"BokehJS \" + root.Bokeh.version + \" successfully loaded.\";\n",
       "      }\n",
       "    } else if (Date.now() < root._bokeh_timeout) {\n",
       "      setTimeout(display_loaded, 100)\n",
       "    }\n",
       "  }\n",
       "\n",
       "  function run_callbacks() {\n",
       "    try {\n",
       "      root._bokeh_onload_callbacks.forEach(function(callback) {\n",
       "        if (callback != null)\n",
       "          callback();\n",
       "      });\n",
       "    } finally {\n",
       "      delete root._bokeh_onload_callbacks\n",
       "    }\n",
       "    console.debug(\"Bokeh: all callbacks have finished\");\n",
       "  }\n",
       "\n",
       "  function load_libs(css_urls, js_urls, callback) {\n",
       "    if (css_urls == null) css_urls = [];\n",
       "    if (js_urls == null) js_urls = [];\n",
       "\n",
       "    root._bokeh_onload_callbacks.push(callback);\n",
       "    if (root._bokeh_is_loading > 0) {\n",
       "      console.debug(\"Bokeh: BokehJS is being loaded, scheduling callback at\", now());\n",
       "      return null;\n",
       "    }\n",
       "    if (js_urls == null || js_urls.length === 0) {\n",
       "      run_callbacks();\n",
       "      return null;\n",
       "    }\n",
       "    console.debug(\"Bokeh: BokehJS not loaded, scheduling load and callback at\", now());\n",
       "    root._bokeh_is_loading = css_urls.length + js_urls.length;\n",
       "\n",
       "    function on_load() {\n",
       "      root._bokeh_is_loading--;\n",
       "      if (root._bokeh_is_loading === 0) {\n",
       "        console.debug(\"Bokeh: all BokehJS libraries\/stylesheets loaded\");\n",
       "        run_callbacks()\n",
       "      }\n",
       "    }\n",
       "\n",
       "    function on_error(url) {\n",
       "      console.error(\"failed to load \" + url);\n",
       "    }\n",
       "\n",
       "    for (let i = 0; i < css_urls.length; i++) {\n",
       "      const url = css_urls[i];\n",
       "      const element = document.createElement(\"link\");\n",
       "      element.onload = on_load;\n",
       "      element.onerror = on_error.bind(null, url);\n",
       "      element.rel = \"stylesheet\";\n",
       "      element.type = \"text\/css\";\n",
       "      element.href = url;\n",
       "      console.debug(\"Bokeh: injecting link tag for BokehJS stylesheet: \", url);\n",
       "      document.body.appendChild(element);\n",
       "    }\n",
       "\n",
       "    for (let i = 0; i < js_urls.length; i++) {\n",
       "      const url = js_urls[i];\n",
       "      const element = document.createElement('script');\n",
       "      element.onload = on_load;\n",
       "      element.onerror = on_error.bind(null, url);\n",
       "      element.async = false;\n",
       "      element.src = url;\n",
       "      console.debug(\"Bokeh: injecting script tag for BokehJS library: \", url);\n",
       "      document.head.appendChild(element);\n",
       "    }\n",
       "  };\n",
       "\n",
       "  function inject_raw_css(css) {\n",
       "    const element = document.createElement(\"style\");\n",
       "    element.appendChild(document.createTextNode(css));\n",
       "    document.body.appendChild(element);\n",
       "  }\n",
       "\n",
       "  const js_urls = [\"https:\/\/cdn.bokeh.org\/bokeh\/release\/bokeh-3.1.1.min.js\", \"https:\/\/cdn.bokeh.org\/bokeh\/release\/bokeh-gl-3.1.1.min.js\", \"https:\/\/cdn.bokeh.org\/bokeh\/release\/bokeh-widgets-3.1.1.min.js\", \"https:\/\/cdn.bokeh.org\/bokeh\/release\/bokeh-tables-3.1.1.min.js\", \"https:\/\/cdn.bokeh.org\/bokeh\/release\/bokeh-mathjax-3.1.1.min.js\"];\n",
       "  const css_urls = [];\n",
       "\n",
       "  const inline_js = [    function(Bokeh) {\n",
       "      Bokeh.set_log_level(\"info\");\n",
       "    },\n",
       "function(Bokeh) {\n",
       "    }\n",
       "  ];\n",
       "\n",
       "  function run_inline_js() {\n",
       "    if (root.Bokeh !== undefined || force === true) {\n",
       "          for (let i = 0; i < inline_js.length; i++) {\n",
       "      inline_js[i].call(root, root.Bokeh);\n",
       "    }\n",
       "if (force === true) {\n",
       "        display_loaded();\n",
       "      }} else if (Date.now() < root._bokeh_timeout) {\n",
       "      setTimeout(run_inline_js, 100);\n",
       "    } else if (!root._bokeh_failed_load) {\n",
       "      console.log(\"Bokeh: BokehJS failed to load within specified timeout.\");\n",
       "      root._bokeh_failed_load = true;\n",
       "    } else if (force !== true) {\n",
       "      const cell = $(document.getElementById(\"da0b4377-9595-4f2f-9061-2b1193ff24da\")).parents('.cell').data().cell;\n",
       "      cell.output_area.append_execute_result(NB_LOAD_WARNING)\n",
       "    }\n",
       "  }\n",
       "\n",
       "  if (root._bokeh_is_loading === 0) {\n",
       "    console.debug(\"Bokeh: BokehJS loaded, going straight to plotting\");\n",
       "    run_inline_js();\n",
       "  } else {\n",
       "    load_libs(css_urls, js_urls, function() {\n",
       "      console.debug(\"Bokeh: BokehJS plotting callback run at\", now());\n",
       "      run_inline_js();\n",
       "    });\n",
       "  }\n",
       "}(window));<\/script><script>(function(root) {\n",
       "  function now() {\n",
       "    return new Date();\n",
       "  }\n",
       "\n",
       "  const force = true;\n",
       "\n",
       "  if (typeof root._bokeh_onload_callbacks === \"undefined\" || force === true) {\n",
       "    root._bokeh_onload_callbacks = [];\n",
       "    root._bokeh_is_loading = undefined;\n",
       "  }\n",
       "\n",
       "\n",
       "  if (typeof (root._bokeh_timeout) === \"undefined\" || force === true) {\n",
       "    root._bokeh_timeout = Date.now() + 5000;\n",
       "    root._bokeh_failed_load = false;\n",
       "  }\n",
       "\n",
       "  const NB_LOAD_WARNING = {'data': {'text\/html':\n",
       "     \"<div style='background-color: #fdd'>\\n\"+\n",
       "     \"<p>\\n\"+\n",
       "     \"BokehJS does not appear to have successfully loaded. If loading BokehJS from CDN, this \\n\"+\n",
       "     \"may be due to a slow or bad network connection. Possible fixes:\\n\"+\n",
       "     \"<\/p>\\n\"+\n",
       "     \"<ul>\\n\"+\n",
       "     \"<li>re-rerun `output_notebook()` to attempt to load from CDN again, or<\/li>\\n\"+\n",
       "     \"<li>use INLINE resources instead, as so:<\/li>\\n\"+\n",
       "     \"<\/ul>\\n\"+\n",
       "     \"<code>\\n\"+\n",
       "     \"from bokeh.resources import INLINE\\n\"+\n",
       "     \"output_notebook(resources=INLINE)\\n\"+\n",
       "     \"<\/code>\\n\"+\n",
       "     \"<\/div>\"}};\n",
       "\n",
       "  function display_loaded() {\n",
       "    const el = document.getElementById(\"da0b4377-9595-4f2f-9061-2b1193ff24da\");\n",
       "    if (el != null) {\n",
       "      el.textContent = \"BokehJS is loading...\";\n",
       "    }\n",
       "    if (root.Bokeh !== undefined) {\n",
       "      if (el != null) {\n",
       "        el.textContent = \"BokehJS \" + root.Bokeh.version + \" successfully loaded.\";\n",
       "      }\n",
       "    } else if (Date.now() < root._bokeh_timeout) {\n",
       "      setTimeout(display_loaded, 100)\n",
       "    }\n",
       "  }\n",
       "\n",
       "  function run_callbacks() {\n",
       "    try {\n",
       "      root._bokeh_onload_callbacks.forEach(function(callback) {\n",
       "        if (callback != null)\n",
       "          callback();\n",
       "      });\n",
       "    } finally {\n",
       "      delete root._bokeh_onload_callbacks\n",
       "    }\n",
       "    console.debug(\"Bokeh: all callbacks have finished\");\n",
       "  }\n",
       "\n",
       "  function load_libs(css_urls, js_urls, callback) {\n",
       "    if (css_urls == null) css_urls = [];\n",
       "    if (js_urls == null) js_urls = [];\n",
       "\n",
       "    root._bokeh_onload_callbacks.push(callback);\n",
       "    if (root._bokeh_is_loading > 0) {\n",
       "      console.debug(\"Bokeh: BokehJS is being loaded, scheduling callback at\", now());\n",
       "      return null;\n",
       "    }\n",
       "    if (js_urls == null || js_urls.length === 0) {\n",
       "      run_callbacks();\n",
       "      return null;\n",
       "    }\n",
       "    console.debug(\"Bokeh: BokehJS not loaded, scheduling load and callback at\", now());\n",
       "    root._bokeh_is_loading = css_urls.length + js_urls.length;\n",
       "\n",
       "    function on_load() {\n",
       "      root._bokeh_is_loading--;\n",
       "      if (root._bokeh_is_loading === 0) {\n",
       "        console.debug(\"Bokeh: all BokehJS libraries\/stylesheets loaded\");\n",
       "        run_callbacks()\n",
       "      }\n",
       "    }\n",
       "\n",
       "    function on_error(url) {\n",
       "      console.error(\"failed to load \" + url);\n",
       "    }\n",
       "\n",
       "    for (let i = 0; i < css_urls.length; i++) {\n",
       "      const url = css_urls[i];\n",
       "      const element = document.createElement(\"link\");\n",
       "      element.onload = on_load;\n",
       "      element.onerror = on_error.bind(null, url);\n",
       "      element.rel = \"stylesheet\";\n",
       "      element.type = \"text\/css\";\n",
       "      element.href = url;\n",
       "      console.debug(\"Bokeh: injecting link tag for BokehJS stylesheet: \", url);\n",
       "      document.body.appendChild(element);\n",
       "    }\n",
       "\n",
       "    for (let i = 0; i < js_urls.length; i++) {\n",
       "      const url = js_urls[i];\n",
       "      const element = document.createElement('script');\n",
       "      element.onload = on_load;\n",
       "      element.onerror = on_error.bind(null, url);\n",
       "      element.async = false;\n",
       "      element.src = url;\n",
       "      console.debug(\"Bokeh: injecting script tag for BokehJS library: \", url);\n",
       "      document.head.appendChild(element);\n",
       "    }\n",
       "  };\n",
       "\n",
       "  function inject_raw_css(css) {\n",
       "    const element = document.createElement(\"style\");\n",
       "    element.appendChild(document.createTextNode(css));\n",
       "    document.body.appendChild(element);\n",
       "  }\n",
       "\n",
       "  const js_urls = [\"https:\/\/cdn.bokeh.org\/bokeh\/release\/bokeh-3.1.1.min.js\", \"https:\/\/cdn.bokeh.org\/bokeh\/release\/bokeh-gl-3.1.1.min.js\", \"https:\/\/cdn.bokeh.org\/bokeh\/release\/bokeh-widgets-3.1.1.min.js\", \"https:\/\/cdn.bokeh.org\/bokeh\/release\/bokeh-tables-3.1.1.min.js\", \"https:\/\/cdn.bokeh.org\/bokeh\/release\/bokeh-mathjax-3.1.1.min.js\"];\n",
       "  const css_urls = [];\n",
       "\n",
       "  const inline_js = [    function(Bokeh) {\n",
       "      Bokeh.set_log_level(\"info\");\n",
       "    },\n",
       "function(Bokeh) {\n",
       "    }\n",
       "  ];\n",
       "\n",
       "  function run_inline_js() {\n",
       "    if (root.Bokeh !== undefined || force === true) {\n",
       "          for (let i = 0; i < inline_js.length; i++) {\n",
       "      inline_js[i].call(root, root.Bokeh);\n",
       "    }\n",
       "if (force === true) {\n",
       "        display_loaded();\n",
       "      }} else if (Date.now() < root._bokeh_timeout) {\n",
       "      setTimeout(run_inline_js, 100);\n",
       "    } else if (!root._bokeh_failed_load) {\n",
       "      console.log(\"Bokeh: BokehJS failed to load within specified timeout.\");\n",
       "      root._bokeh_failed_load = true;\n",
       "    } else if (force !== true) {\n",
       "      const cell = $(document.getElementById(\"da0b4377-9595-4f2f-9061-2b1193ff24da\")).parents('.cell').data().cell;\n",
       "      cell.output_area.append_execute_result(NB_LOAD_WARNING)\n",
       "    }\n",
       "  }\n",
       "\n",
       "  if (root._bokeh_is_loading === 0) {\n",
       "    console.debug(\"Bokeh: BokehJS loaded, going straight to plotting\");\n",
       "    run_inline_js();\n",
       "  } else {\n",
       "    load_libs(css_urls, js_urls, function() {\n",
       "      console.debug(\"Bokeh: BokehJS plotting callback run at\", now());\n",
       "      run_inline_js();\n",
       "    });\n",
       "  }\n",
       "}(window));<\/script>"
      ]
     },
     "metadata":{},
     "output_type":"display_data"
    },
    {
     "data":{
      "text\/html":[
       "\n",
       "  <div id=\"bfee49af-5685-4125-92b8-17a6a6638b08\" data-root-id=\"p2908\" style=\"display: contents;\"><\/div>\n"
      ]
     },
     "metadata":{},
     "output_type":"display_data"
    },
    {
     "data":{
      "text\/html":[
       "<script>(function(root) {\n",
       "  function embed_document(root) {\n",
       "  const docs_json = {\"80e55017-dca1-40ff-974d-7e244c4115de\":{\"version\":\"3.1.1\",\"title\":\"Bokeh Application\",\"defs\":[],\"roots\":[{\"type\":\"object\",\"name\":\"Figure\",\"id\":\"p2908\",\"attributes\":{\"height\":350,\"x_range\":{\"type\":\"object\",\"name\":\"FactorRange\",\"id\":\"p2918\",\"attributes\":{\"factors\":[\"N\\u00e1jom\",\"Potraviny\",\"Doprava\",\"Z\\u00e1bava\",\"Oble\\u010denie\"]}},\"y_range\":{\"type\":\"object\",\"name\":\"DataRange1d\",\"id\":\"p2910\"},\"x_scale\":{\"type\":\"object\",\"name\":\"CategoricalScale\",\"id\":\"p2922\"},\"y_scale\":{\"type\":\"object\",\"name\":\"LinearScale\",\"id\":\"p2924\"},\"title\":{\"type\":\"object\",\"name\":\"Title\",\"id\":\"p2911\",\"attributes\":{\"text\":\"Mesa\\u010dn\\u00e9 v\\u00fddavky\"}},\"renderers\":[{\"type\":\"object\",\"name\":\"GlyphRenderer\",\"id\":\"p2955\",\"attributes\":{\"data_source\":{\"type\":\"object\",\"name\":\"ColumnDataSource\",\"id\":\"p2905\",\"attributes\":{\"selected\":{\"type\":\"object\",\"name\":\"Selection\",\"id\":\"p2906\",\"attributes\":{\"indices\":[],\"line_indices\":[]}},\"selection_policy\":{\"type\":\"object\",\"name\":\"UnionRenderers\",\"id\":\"p2907\"},\"data\":{\"type\":\"map\",\"entries\":[[\"kategorie\",[\"N\\u00e1jom\",\"Potraviny\",\"Doprava\",\"Z\\u00e1bava\",\"Oble\\u010denie\"]],[\"vydavky\",[500,250,100,150,80]]]}}},\"view\":{\"type\":\"object\",\"name\":\"CDSView\",\"id\":\"p2956\",\"attributes\":{\"filter\":{\"type\":\"object\",\"name\":\"AllIndices\",\"id\":\"p2957\"}}},\"glyph\":{\"type\":\"object\",\"name\":\"VBar\",\"id\":\"p2952\",\"attributes\":{\"x\":{\"type\":\"field\",\"field\":\"kategorie\"},\"width\":{\"type\":\"value\",\"value\":0.5},\"top\":{\"type\":\"field\",\"field\":\"vydavky\"},\"line_color\":{\"type\":\"value\",\"value\":\"#1f77b4\"},\"fill_color\":{\"type\":\"field\",\"field\":\"kategorie\",\"transform\":{\"type\":\"object\",\"name\":\"CategoricalColorMapper\",\"id\":\"p2948\",\"attributes\":{\"palette\":[\"#2b83ba\",\"#abdda4\",\"#ffffbf\",\"#fdae61\",\"#d7191c\"],\"factors\":[\"N\\u00e1jom\",\"Potraviny\",\"Doprava\",\"Z\\u00e1bava\",\"Oble\\u010denie\"]}}}}},\"nonselection_glyph\":{\"type\":\"object\",\"name\":\"VBar\",\"id\":\"p2953\",\"attributes\":{\"x\":{\"type\":\"field\",\"field\":\"kategorie\"},\"width\":{\"type\":\"value\",\"value\":0.5},\"top\":{\"type\":\"field\",\"field\":\"vydavky\"},\"line_color\":{\"type\":\"value\",\"value\":\"#1f77b4\"},\"line_alpha\":{\"type\":\"value\",\"value\":0.1},\"fill_color\":{\"type\":\"field\",\"field\":\"kategorie\",\"transform\":{\"id\":\"p2948\"}},\"fill_alpha\":{\"type\":\"value\",\"value\":0.1},\"hatch_alpha\":{\"type\":\"value\",\"value\":0.1}}},\"muted_glyph\":{\"type\":\"object\",\"name\":\"VBar\",\"id\":\"p2954\",\"attributes\":{\"x\":{\"type\":\"field\",\"field\":\"kategorie\"},\"width\":{\"type\":\"value\",\"value\":0.5},\"top\":{\"type\":\"field\",\"field\":\"vydavky\"},\"line_color\":{\"type\":\"value\",\"value\":\"#1f77b4\"},\"line_alpha\":{\"type\":\"value\",\"value\":0.2},\"fill_color\":{\"type\":\"field\",\"field\":\"kategorie\",\"transform\":{\"id\":\"p2948\"}},\"fill_alpha\":{\"type\":\"value\",\"value\":0.2},\"hatch_alpha\":{\"type\":\"value\",\"value\":0.2}}}}}],\"toolbar\":{\"type\":\"object\",\"name\":\"Toolbar\",\"id\":\"p2917\",\"attributes\":{\"tools\":[{\"type\":\"object\",\"name\":\"PanTool\",\"id\":\"p2939\"},{\"type\":\"object\",\"name\":\"BoxZoomTool\",\"id\":\"p2940\",\"attributes\":{\"overlay\":{\"type\":\"object\",\"name\":\"BoxAnnotation\",\"id\":\"p2941\",\"attributes\":{\"syncable\":false,\"level\":\"overlay\",\"visible\":false,\"left_units\":\"canvas\",\"right_units\":\"canvas\",\"bottom_units\":\"canvas\",\"top_units\":\"canvas\",\"line_color\":\"black\",\"line_alpha\":1.0,\"line_width\":2,\"line_dash\":[4,4],\"fill_color\":\"lightgrey\",\"fill_alpha\":0.5}}}},{\"type\":\"object\",\"name\":\"ResetTool\",\"id\":\"p2942\"},{\"type\":\"object\",\"name\":\"HoverTool\",\"id\":\"p2958\",\"attributes\":{\"renderers\":\"auto\",\"tooltips\":[[\"Kateg\\u00f3ria\",\"@kategorie\"],[\"V\\u00fddavky\",\"@vydavky \\u20ac\"]]}}]}},\"left\":[{\"type\":\"object\",\"name\":\"LinearAxis\",\"id\":\"p2932\",\"attributes\":{\"ticker\":{\"type\":\"object\",\"name\":\"BasicTicker\",\"id\":\"p2933\",\"attributes\":{\"mantissas\":[1,2,5]}},\"formatter\":{\"type\":\"object\",\"name\":\"BasicTickFormatter\",\"id\":\"p2935\"},\"major_label_policy\":{\"type\":\"object\",\"name\":\"AllLabels\",\"id\":\"p2934\"}}}],\"below\":[{\"type\":\"object\",\"name\":\"CategoricalAxis\",\"id\":\"p2926\",\"attributes\":{\"ticker\":{\"type\":\"object\",\"name\":\"CategoricalTicker\",\"id\":\"p2927\"},\"formatter\":{\"type\":\"object\",\"name\":\"CategoricalTickFormatter\",\"id\":\"p2929\"},\"major_label_policy\":{\"type\":\"object\",\"name\":\"AllLabels\",\"id\":\"p2928\"}}}],\"center\":[{\"type\":\"object\",\"name\":\"Grid\",\"id\":\"p2931\",\"attributes\":{\"axis\":{\"id\":\"p2926\"}}},{\"type\":\"object\",\"name\":\"Grid\",\"id\":\"p2938\",\"attributes\":{\"dimension\":1,\"axis\":{\"id\":\"p2932\"}}}]}}],\"callbacks\":{\"type\":\"map\"}}};\n",
       "  const render_items = [{\"docid\":\"80e55017-dca1-40ff-974d-7e244c4115de\",\"roots\":{\"p2908\":\"bfee49af-5685-4125-92b8-17a6a6638b08\"},\"root_ids\":[\"p2908\"]}];\n",
       "  root.Bokeh.embed.embed_items_notebook(docs_json, render_items);\n",
       "  }\n",
       "  if (root.Bokeh !== undefined) {\n",
       "    embed_document(root);\n",
       "  } else {\n",
       "    let attempts = 0;\n",
       "    const timer = setInterval(function(root) {\n",
       "      if (root.Bokeh !== undefined) {\n",
       "        clearInterval(timer);\n",
       "        embed_document(root);\n",
       "      } else {\n",
       "        attempts++;\n",
       "        if (attempts > 100) {\n",
       "          clearInterval(timer);\n",
       "          console.log(\"Bokeh: ERROR: Unable to run BokehJS code because BokehJS library is missing\");\n",
       "        }\n",
       "      }\n",
       "    }, 10, root)\n",
       "  }\n",
       "})(window);<\/script><script><\/script>"
      ]
     },
     "metadata":{},
     "output_type":"display_data"
    }
   ],
   "metadata":{
    "datalore":{
     "node_id":"mJf03176UYGEmkHy3qDKxg",
     "type":"CODE",
     "hide_input_from_viewers":true,
     "hide_output_from_viewers":true
    }
   }
  }
 ],
 "metadata":{
  "kernelspec":{
   "display_name":"Python",
   "language":"python",
   "name":"python"
  },
  "datalore":{
   "computation_mode":"JUPYTER",
   "package_manager":"pip",
   "base_environment":"default",
   "packages":[],
   "report_row_ids":[
    "BuaxZHVowM1NDgIm5SGTW6",
    "nT01gqoCPDuxVxR1lZEjaG",
    "HnEJbqSEA5YeuN0S9J1MeG",
    "dt5hnZzXUFlltVlRnzQ6cE",
    "iF77wHN3KjirO3UBNMvq29",
    "fkCSJJhXTqtJ0foV4CZkjt",
    "E9cX2hSUAeBjar0TwM5syB",
    "csTaUBzwY1G6f6IoNz36lu",
    "WBOAojo2SfYR7FtzUsMDna",
    "4Ml2nJBg3YA5b888QcDtvX",
    "OUKhS7mp8fwrY3964Ez5y2",
    "m2yJ0WSWZS9uU0PymTdk79",
    "g0B6TRajuZsVSDETVtF4XR",
    "dLyUYYqxeb0pGMnsTKYOJk",
    "XmrrntkpfqpOEv14b1AWu4",
    "xdvYR1r5V3JHEb1AKLtndL",
    "2Bx7dAyMwfFgln8QkHrpJq",
    "YLZVSgnIbSmavWbowrdS8q",
    "g7KfLAHAMyhSnO4Na3rtV2",
    "xS8HaGjyVIprXoHLzaZeG6",
    "yDnUZRdNbM8mTn9X47mDZP",
    "DDn7df11BmiRIZOvOfmH3x",
    "S0Db82KeEH6AMyZTsAzoNq",
    "OtQfIcnqT3bqgAGqS1GBrC",
    "ODTjgljc4F3gclXmhwTVSu",
    "U8WIV4tF0QEKHBplKZyDbc",
    "9nUi8dnJaJs1hA8dxPH3Hl",
    "PFqY3pQMHxzDThg6JKK739",
    "FMUGO3BhTNVzCt2y6deLRi",
    "RgqbOcIgNklcFGM46c39fN",
    "6V665QJ9YOu9wzx7OCKIhb",
    "myhhnezgQ0zvYlWpblthei",
    "y4aNfeuepxv0VtxamAA5vR",
    "micetiPPogLZ8yu6ioRsxF",
    "jBbIE1LidcCwStSAPH686f",
    "FHLb1t5D4UzHBPFKU8z9be",
    "HILTdb7mG4v80s6SHesxY7",
    "piFepyW9JQBjGesRNWdPHa",
    "X6nqi3oJwt16DJftTl0Z0q",
    "05Cu7Nw9CpGsa9aW93eKFA",
    "CJU41iHhNU085OV3ueY0PG",
    "OOGPy5OMyaVQSFQgwsNSSK",
    "CjgWXCSVrTczqlFotxVOXu",
    "djVznlnjdEwp9DpWqJCd58",
    "XNnoBuYVjp4XptuOzsnllh",
    "SZ4tB7Mrwqg6y4Ep90mk03",
    "SEP0IYSTXURbeKKiUMzukE",
    "mbdbzZklzOhFA9VaNO2LuF",
    "L7c9OdwRdJCrVIJjBI9FTE",
    "rruqSWkjmMnZ2BIvB3MSgX",
    "titqCmfkhMtEm1p8NjaGqC",
    "p9DgjhAmfNTcIvw8PlvEvn",
    "1AGXVeheUwlx0CoYOKaVos",
    "qTSjJR9z2qsSoz8xBd2Ixz",
    "MiCZDHRulYDa8k83MEERnW",
    "q6WzQrLyYicFIz3mhHX9rh",
    "uCjThPLnrYKsUJWnC8Rdbc",
    "0YQg2poAuoghVGOMNpoiNy",
    "G7EWHNHgoSNB0QBANJfxs3",
    "S8iYHru66vQ4dKnsKHWIqm",
    "5kv1w4O5BsIKftFfvTYt9R",
    "QVcZYHEOXcko9BWCtk55bz",
    "aJP3y2yXBzjJFE1t5NJMIN",
    "JW6knZSqV20BbILMOudfR1",
    "PCzzRbx4j9O16J55u6XezX",
    "lIsaieeolgRO4Vobl2iJSN",
    "aTu6IdH6uXEwUIlBHYhTcy"
   ],
   "version":3
  }
 },
 "nbformat":4,
 "nbformat_minor":4
}