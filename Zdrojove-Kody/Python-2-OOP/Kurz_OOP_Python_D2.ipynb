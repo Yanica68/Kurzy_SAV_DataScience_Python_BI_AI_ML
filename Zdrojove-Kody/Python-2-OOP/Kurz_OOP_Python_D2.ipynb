{
 "cells": [
  {
   "cell_type": "markdown",
   "id": "8fc18c47",
   "metadata": {},
   "source": [
    "# 🐍Python Objektové programovanie\n"
   ]
  },
  {
   "cell_type": "markdown",
   "id": "0b4492a7",
   "metadata": {},
   "source": [
    "# I. Zapúzdrenie (enkapsulácia)"
   ]
  },
  {
   "cell_type": "code",
   "execution_count": 42,
   "id": "c662c502",
   "metadata": {
    "ExecuteTime": {
     "end_time": "2022-04-28T08:25:13.767692Z",
     "start_time": "2022-04-28T08:25:13.728724Z"
    }
   },
   "outputs": [
    {
     "ename": "TypeError",
     "evalue": "__init__() takes from 1 to 3 positional arguments but 4 were given",
     "output_type": "error",
     "traceback": [
      "\u001b[1;31m---------------------------------------------------------------------------\u001b[0m",
      "\u001b[1;31mTypeError\u001b[0m                                 Traceback (most recent call last)",
      "\u001b[1;32mC:\\Users\\ADMINI~1\\AppData\\Local\\Temp/ipykernel_20940/692183590.py\u001b[0m in \u001b[0;36m<module>\u001b[1;34m\u001b[0m\n\u001b[0;32m     49\u001b[0m \u001b[1;33m\u001b[0m\u001b[0m\n\u001b[0;32m     50\u001b[0m \u001b[1;33m\u001b[0m\u001b[0m\n\u001b[1;32m---> 51\u001b[1;33m \u001b[0mzak03\u001b[0m \u001b[1;33m=\u001b[0m \u001b[0mZakaznik\u001b[0m\u001b[1;33m(\u001b[0m\u001b[1;34m\"Adam\"\u001b[0m\u001b[1;33m,\u001b[0m\u001b[1;34m\"Sangala\"\u001b[0m\u001b[1;33m,\u001b[0m \u001b[1;34m\"adam@nieco.sk\"\u001b[0m\u001b[1;33m)\u001b[0m\u001b[1;33m\u001b[0m\u001b[1;33m\u001b[0m\u001b[0m\n\u001b[0m\u001b[0;32m     52\u001b[0m \u001b[0mprint\u001b[0m\u001b[1;33m(\u001b[0m\u001b[0mzak03\u001b[0m\u001b[1;33m)\u001b[0m\u001b[1;33m\u001b[0m\u001b[1;33m\u001b[0m\u001b[0m\n\u001b[0;32m     53\u001b[0m \u001b[1;33m\u001b[0m\u001b[0m\n",
      "\u001b[1;31mTypeError\u001b[0m: __init__() takes from 1 to 3 positional arguments but 4 were given"
     ]
    }
   ],
   "source": [
    "class Zakaznik:\n",
    "    # Atributy\n",
    "    # Verejne/public\n",
    "    meno = str()\n",
    "    mobil = str()\n",
    "    lokacia = [\"Ruzinov\", \"Petrzalka\", \"Nove Mesto\", \"Stare Mesto\"]\n",
    "    pozicia = str()\n",
    "    priezvisko = str()\n",
    "    email = str()\n",
    "    id = str()\n",
    "    # Chraneny/protected\n",
    "    _mzda = 1980.56\n",
    "    # Sukromna/private datova zlozka/vlastnost/atribut/data\n",
    "    __heslo = \"12345sr\"\n",
    "\n",
    "    # Konstruktor, inicializacna metoda\n",
    "    def __init__(self, meno=\"\", priezvisko=\"\", email=\"zakaznik@abc.sk\", iq=115, id=0):\n",
    "        self.meno = meno\n",
    "        self.priezvisko = priezvisko\n",
    "        self.email = email\n",
    "        self.iq = iq\n",
    "        self.id = id\n",
    "        \n",
    "    def __init__(self, meno=\"\", priezvisko=\"\", email=\"zakaznik@abc.sk\"):\n",
    "        self.meno = meno\n",
    "        self.priezvisko = priezvisko\n",
    "        self.email = email\n",
    "\n",
    "    def __init__(self, meno=\"\", mobil=\"\"):\n",
    "        self.meno = meno\n",
    "        self.mobil = mobil\n",
    "\n",
    "    # Sukromna metoda/Private method\n",
    "    def __vypis_tajne_info(self):\n",
    "        print(\"Tajne info...\")\n",
    "        \n",
    "    # Chranena metoda/Protected metho\n",
    "    def _vypis_chranene_info(self):\n",
    "        print(\"Chranene info\")\n",
    "        \n",
    "    # Verejna metoda/Public method\n",
    "    def cita_vop(self):\n",
    "        print(\"Som precital vop...\")\n",
    "        self.__vypis_tajne_info()\n",
    "    \n",
    "    # toString/Repr\n",
    "    def __repr__(self):\n",
    "        return \"Meno: {}, Priezvisko: {}, Email: {}\".format(self.meno, self.priezvisko, self.email)\n",
    "\n",
    "\n",
    "zak03 = Zakaznik(\"Adam\",\"Sangala\", \"adam@nieco.sk\")\n",
    "print(zak03)\n",
    "\n",
    "print(\"\\n-----------\")\n",
    "zak01 = Zakaznik()\n",
    "print(\"zak01 mobil -->\", zak01.mobil)\n",
    "zak01.cita_vop()\n",
    "print(zak01)\n",
    "print(id(zak01))\n",
    "\n",
    "\n",
    "zak02 = Zakaznik(mobil=\"0908123456\")\n",
    "print(\"\\nzak02 mobil -->\", zak02.mobil)\n",
    "zak02.cita_vop()\n",
    "print(zak02)\n",
    "print(id(zak02))\n",
    "\n",
    "print(\"Su rovnake --> \", zak01 is zak02)"
   ]
  },
  {
   "cell_type": "code",
   "execution_count": 58,
   "id": "4340e2b8",
   "metadata": {
    "ExecuteTime": {
     "end_time": "2022-04-28T08:44:43.558886Z",
     "start_time": "2022-04-28T08:44:43.543887Z"
    }
   },
   "outputs": [
    {
     "name": "stdout",
     "output_type": "stream",
     "text": [
      "Jano\n",
      "Dlhy\n",
      "2. Meno --> Jano, Priezvisko --> Dlhy, Heslo --> 1234\n",
      "2. Meno --> Iveta, Priezvisko --> Kratka, Heslo --> 1234\n",
      "5 <class 'str'>\n",
      "5 <class 'str'>\n"
     ]
    }
   ],
   "source": [
    "# Globalny priestor/global scope\n",
    "class Zamestnanec:\n",
    "    # Verejne atributy/data\n",
    "    meno = \"\"\n",
    "    priezvisko = \"\"\n",
    "    # Sukromne atributy/data\n",
    "    __mzda = \"\"\n",
    "    __heslo = \"1234\"\n",
    "    \n",
    "    # Konstruktor\n",
    "    def __init__(self, m, p):\n",
    "        \"\"\"\n",
    "            m - meno\n",
    "            p - priezvisko\n",
    "        \"\"\"\n",
    "        self.meno = m\n",
    "        self.priezvisko = p\n",
    "    \n",
    "    # toString/repr Chceme pekne vypisy pre objekty\n",
    "    def __repr__(self):\n",
    "        # Lokalny priestor/local scope\n",
    "        return \"1. Meno --> {}, Priezvisko --> {}, Heslo --> {}\".format(self.meno, self.priezvisko, self.__heslo)\n",
    "    \n",
    "    def __str__(self):\n",
    "        # Lokalny priestor/local scope\n",
    "        return \"2. Meno --> {}, Priezvisko --> {}, Heslo --> {}\".format(self.meno, self.priezvisko, self.__heslo)\n",
    "        \n",
    "jano = Zamestnanec(\"Jano\",\"Dlhy\")\n",
    "print(jano.meno)\n",
    "print(jano.priezvisko)\n",
    "print(jano)\n",
    "\n",
    "iveta = Zamestnanec(\"Iveta\",\"Kratka\")\n",
    "print(iveta)\n",
    "a = 5\n",
    "b = 3.5\n",
    "c = \"Karol\"\n",
    "\n",
    "print(repr(a), type(repr(a)))\n",
    "print(str(a), type(str(a)))"
   ]
  },
  {
   "cell_type": "markdown",
   "id": "680faef7",
   "metadata": {},
   "source": [
    "# II. Dedičnosť (Generalizácia) Inheritance"
   ]
  },
  {
   "cell_type": "code",
   "execution_count": 69,
   "id": "d206b52e",
   "metadata": {
    "ExecuteTime": {
     "end_time": "2022-04-28T09:28:19.855510Z",
     "start_time": "2022-04-28T09:28:19.833511Z"
    }
   },
   "outputs": [
    {
     "name": "stdout",
     "output_type": "stream",
     "text": [
      "\n",
      "Zviera:\n",
      "meno je , ma farbu ['cierna', 'modra', 'hneda'], pocet noh je 0, druh je \n",
      "Hybem sa...\n",
      "meno je lev, ma farbu ['cierna', 'modra', 'hneda'], pocet noh je 0, druh je \n",
      "meno je lev, ma farbu ['cierna', 'modra', 'hneda'], pocet noh je 4, druh je \n",
      "\n",
      "Lev:\n",
      "meno je Lev pustovy, ma farbu ['cierna', 'modra', 'hneda'], pocet noh je 4, druh je \n",
      "Utekam...\n",
      "meno je Lev pustovy, ma farbu ['cierna', 'modra', 'hneda'], pocet noh je 4, druh je levy\n"
     ]
    }
   ],
   "source": [
    "# Rodicovska trieda/parent class\n",
    "# Nadradenna trieda/sup class\n",
    "# Bazova trieda/base class\n",
    "class Zviera:\n",
    "    farba = [\"cierna\", \"modra\",\"hneda\"]\n",
    "    pocet_noh = int()\n",
    "    druh = str()\n",
    "    meno = str()\n",
    "    \n",
    "    def pohyb(self):\n",
    "        print(\"Hybem sa...\")\n",
    "    \n",
    "    def __str__(self):\n",
    "        return f\"meno je {self.meno}, ma farbu {self.farba}, pocet noh je {self.pocet_noh}, druh je {self.druh}\"\n",
    "\n",
    "# Detska trieda/child class\n",
    "# Podradena trieda/sub class\n",
    "# Odvodena trieda\n",
    "class Lev(Zviera):\n",
    "    meno = \"Lev pustovy\"\n",
    "    pocet_noh = 4\n",
    "    rychlost = 80\n",
    "    hmotnost = 190\n",
    "    dlzka_zivota = 15\n",
    "    \n",
    "    def pohyb(self):\n",
    "        print(\"Utekam...\")\n",
    "\n",
    "print(\"\\nZviera:\")\n",
    "zviera1 = Zviera()\n",
    "print(zviera1)\n",
    "zviera1.pohyb()\n",
    "\n",
    "zviera1.meno = \"lev\"\n",
    "print(zviera1)\n",
    "\n",
    "zviera1.pocet_noh = 4\n",
    "print(zviera1)\n",
    "\n",
    "print(\"\\nLev:\")\n",
    "simba = Lev()\n",
    "print(simba)\n",
    "simba.pohyb()\n",
    "simba.pocet_noh = 4\n",
    "simba.druh = \"levy\"\n",
    "\n",
    "print(simba)\n"
   ]
  },
  {
   "cell_type": "code",
   "execution_count": 85,
   "id": "9671e338",
   "metadata": {
    "ExecuteTime": {
     "end_time": "2022-04-28T09:49:05.178126Z",
     "start_time": "2022-04-28T09:49:05.154129Z"
    }
   },
   "outputs": [
    {
     "name": "stdout",
     "output_type": "stream",
     "text": [
      "Tvar:\n",
      "49.0\n",
      "28\n",
      "\n",
      "Kruh:\n",
      "314.16\n",
      "62.83\n"
     ]
    }
   ],
   "source": [
    "import math\n",
    "\n",
    "class Tvar:\n",
    "    \"\"\"\n",
    "        Geometricky 2D tvar\n",
    "    \"\"\"\n",
    "    a = float()\n",
    "    farba = str()\n",
    "    obvod = float()\n",
    "    obsah = float()\n",
    "    \n",
    "    def __init__(self, a):\n",
    "        self.a = a\n",
    "        \n",
    "    def __init__(self, a, farba):\n",
    "        self.a = a\n",
    "        self.farba = farba\n",
    "        \n",
    "class Stvorec(Tvar):\n",
    "    def vypocitaj_obsah(self):\n",
    "        return math.pow(self.a, 2)\n",
    "    \n",
    "    def vypocitaj_obvod(self):\n",
    "        return 4 * self.a\n",
    "\n",
    "class Kruh(Tvar):\n",
    "    def vypocitaj_obsah(self):\n",
    "        return round(math.pi * math.pow(self.a, 2), 2)\n",
    "    \n",
    "    def vypocitaj_obvod(self):\n",
    "        return round(2 * math.pi * self.a, 2)\n",
    "\n",
    "print(\"Tvar:\")\n",
    "tvar1 = Tvar(5, \"cierna\")\n",
    "stvorec1 = Stvorec(7,\"modra\")\n",
    "print(stvorec1.vypocitaj_obsah())\n",
    "print(stvorec1.vypocitaj_obvod())\n",
    "\n",
    "print(\"\\nKruh:\")\n",
    "kruh1 = Kruh(10, \"cierna\")\n",
    "print(kruh1.vypocitaj_obsah())\n",
    "print(kruh1.vypocitaj_obvod())"
   ]
  },
  {
   "cell_type": "markdown",
   "id": "a8d287bb",
   "metadata": {},
   "source": [
    "# III. Viacnásobna dedičnosť (Multiple inheritance)"
   ]
  },
  {
   "cell_type": "code",
   "execution_count": 107,
   "id": "7b457b49",
   "metadata": {
    "ExecuteTime": {
     "end_time": "2022-04-28T11:01:23.349340Z",
     "start_time": "2022-04-28T11:01:23.329346Z"
    },
    "scrolled": true
   },
   "outputs": [
    {
     "name": "stdout",
     "output_type": "stream",
     "text": [
      "Otec: \n",
      "A\n",
      "Otcovo nieco\n",
      "\n",
      "Syn: \n",
      "C\n",
      "A\n",
      "B\n",
      "Syn nieco\n",
      "Mamina nieco\n",
      "Mamina nieco\n",
      "Otcovo nieco\n",
      "\n",
      "MRO: \n",
      "[<class '__main__.Mama'>, <class 'object'>]\n",
      "[<class '__main__.Syn'>, <class '__main__.Mama'>, <class '__main__.Otec'>, <class 'object'>]\n"
     ]
    }
   ],
   "source": [
    "# MRO method resolution order - dedičnosť s rovnakou metodou/spravanim\n",
    "\n",
    "class Otec(object):\n",
    "    def sprav_A(self):\n",
    "        print(\"A\")\n",
    "        \n",
    "    def vypis_nieco(self):\n",
    "        print(\"Otcovo nieco\")\n",
    "\n",
    "class Mama(object):\n",
    "    def sprav_B(self):\n",
    "        print(\"B\")\n",
    "        \n",
    "    def vypis_nieco(self):\n",
    "        print(\"Mamina nieco\")\n",
    "    \n",
    "class Syn(Mama, Otec):\n",
    "    def sprav_C(self):\n",
    "        print(\"C\")\n",
    "        \n",
    "    def vypis_nieco(self):\n",
    "        print(\"Syn nieco\")\n",
    "        super().vypis_nieco()\n",
    "        Mama.vypis_nieco(self)\n",
    "        Otec.vypis_nieco(self)\n",
    " \n",
    "print(\"Otec: \")\n",
    "karol = Otec()\n",
    "karol.sprav_A()\n",
    "karol.vypis_nieco()\n",
    "\n",
    "print(\"\\nSyn: \")\n",
    "erik = Syn()\n",
    "erik.sprav_C()\n",
    "erik.sprav_A()\n",
    "erik.sprav_B()\n",
    "erik.vypis_nieco()\n",
    "\n",
    "print(\"\\nMRO: \")\n",
    "print(Mama.mro())\n",
    "print(Syn.mro())"
   ]
  },
  {
   "cell_type": "markdown",
   "id": "eeb6126a",
   "metadata": {},
   "source": [
    "# IV. Polymorfizmus (Mnohotvárnosť)"
   ]
  },
  {
   "cell_type": "code",
   "execution_count": 125,
   "id": "4ac69239",
   "metadata": {
    "ExecuteTime": {
     "end_time": "2022-04-28T11:35:54.993949Z",
     "start_time": "2022-04-28T11:35:54.977945Z"
    }
   },
   "outputs": [
    {
     "name": "stdout",
     "output_type": "stream",
     "text": [
      "\n",
      "kocka1:\n",
      "a -->  10\n",
      "Objem -->  1000.0\n",
      "a -->  10\n",
      "Povrch -->  600.0\n",
      "\n",
      "kocka2:\n",
      "a -->  2\n",
      "Objem -->  8.0\n",
      "a -->  2\n",
      "Povrch -->  24.0\n",
      "\n",
      "Gula\n",
      "a -->  10\n",
      "Objem -->  4188.790204786391\n",
      "a -->  10\n",
      "Povrch -->  1256.6370614359173\n"
     ]
    }
   ],
   "source": [
    "# Pygame\n",
    "import math\n",
    "class Tvar:\n",
    "    \"\"\"\n",
    "        3D Tvar/objekt\n",
    "    \"\"\"\n",
    "    nazov = \"Tvar\"\n",
    "    \n",
    "    def __str__(self):\n",
    "        return \"Som tvar\"\n",
    "\n",
    "class Kocka(Tvar):    \n",
    "    a = float()\n",
    "    \n",
    "    def __init__(self, a=10):\n",
    "        self.a = a\n",
    "    \n",
    "    def vypocitaj_objem(self, a):\n",
    "        return math.pow(a, 3)\n",
    "    \n",
    "    def vypocitaj_povrch(self, a):\n",
    "        return 6 * math.pow(a, 2)\n",
    "\n",
    "class Gula(Kocka):\n",
    "    def vypocitaj_objem(self, a):\n",
    "        return 4/3 * math.pi * math.pow(a, 3)\n",
    "    \n",
    "    def vypocitaj_povrch(self, a):\n",
    "        return 4 * math.pi * math.pow(a, 2)\n",
    "    \n",
    "tvar1 = Tvar()\n",
    "#tvar1.nazov\n",
    "\n",
    "kocka1 = Kocka()\n",
    "print(\"\\nkocka1:\")\n",
    "print(\"a --> \",kocka1.a)\n",
    "print(\"Objem --> \", kocka1.vypocitaj_objem(10))\n",
    "print(\"a --> \",kocka1.a)\n",
    "print(\"Povrch --> \", kocka1.vypocitaj_povrch(10))\n",
    "\n",
    "print(\"\\nkocka2:\")\n",
    "kocka2 = Kocka(2)\n",
    "print(\"a --> \",kocka2.a)\n",
    "print(\"Objem --> \", kocka2.vypocitaj_objem(2))\n",
    "print(\"a --> \",kocka2.a)\n",
    "print(\"Povrch --> \", kocka2.vypocitaj_povrch(2))\n",
    "# kocka1.nazov\n",
    "\n",
    "print(\"\\nGula\")\n",
    "gula1 = Gula()\n",
    "print(\"a --> \",gula1.a)\n",
    "print(\"Objem --> \", gula1.vypocitaj_objem(10))\n",
    "print(\"a --> \",gula1.a)\n",
    "print(\"Povrch --> \", gula1.vypocitaj_povrch(10))\n",
    "\n"
   ]
  },
  {
   "cell_type": "markdown",
   "id": "5d4d7d4f",
   "metadata": {},
   "source": [
    "# VI. Chyby/vynimky (Errors/Exceptions)"
   ]
  },
  {
   "cell_type": "code",
   "execution_count": 126,
   "id": "6570dd74",
   "metadata": {
    "ExecuteTime": {
     "end_time": "2022-04-28T11:37:53.881561Z",
     "start_time": "2022-04-28T11:37:53.853562Z"
    }
   },
   "outputs": [
    {
     "ename": "RuntimeError",
     "evalue": "Nastala chyba, help me",
     "output_type": "error",
     "traceback": [
      "\u001b[1;31m---------------------------------------------------------------------------\u001b[0m",
      "\u001b[1;31mRuntimeError\u001b[0m                              Traceback (most recent call last)",
      "\u001b[1;32mC:\\Users\\ADMINI~1\\AppData\\Local\\Temp/ipykernel_20940/581232495.py\u001b[0m in \u001b[0;36m<module>\u001b[1;34m\u001b[0m\n\u001b[1;32m----> 1\u001b[1;33m \u001b[1;32mraise\u001b[0m \u001b[0mRuntimeError\u001b[0m\u001b[1;33m(\u001b[0m\u001b[1;34m\"Nastala chyba, help me\"\u001b[0m\u001b[1;33m)\u001b[0m\u001b[1;33m\u001b[0m\u001b[1;33m\u001b[0m\u001b[0m\n\u001b[0m",
      "\u001b[1;31mRuntimeError\u001b[0m: Nastala chyba, help me"
     ]
    }
   ],
   "source": [
    "raise RuntimeError(\"Nastala chyba, help me\")"
   ]
  },
  {
   "cell_type": "code",
   "execution_count": 127,
   "id": "3045c8ca",
   "metadata": {
    "ExecuteTime": {
     "end_time": "2022-04-28T11:38:45.258833Z",
     "start_time": "2022-04-28T11:38:45.245828Z"
    }
   },
   "outputs": [
    {
     "ename": "ArithmeticError",
     "evalue": "Nastala chyba vypoctu",
     "output_type": "error",
     "traceback": [
      "\u001b[1;31m---------------------------------------------------------------------------\u001b[0m",
      "\u001b[1;31mArithmeticError\u001b[0m                           Traceback (most recent call last)",
      "\u001b[1;32mC:\\Users\\ADMINI~1\\AppData\\Local\\Temp/ipykernel_20940/848992040.py\u001b[0m in \u001b[0;36m<module>\u001b[1;34m\u001b[0m\n\u001b[1;32m----> 1\u001b[1;33m \u001b[1;32mraise\u001b[0m \u001b[0mArithmeticError\u001b[0m\u001b[1;33m(\u001b[0m\u001b[1;34m\"Nastala chyba vypoctu\"\u001b[0m\u001b[1;33m)\u001b[0m\u001b[1;33m\u001b[0m\u001b[1;33m\u001b[0m\u001b[0m\n\u001b[0m",
      "\u001b[1;31mArithmeticError\u001b[0m: Nastala chyba vypoctu"
     ]
    }
   ],
   "source": [
    "raise ArithmeticError(\"Nastala chyba vypoctu\")"
   ]
  },
  {
   "cell_type": "code",
   "execution_count": null,
   "id": "57d6f121",
   "metadata": {},
   "outputs": [],
   "source": []
  }
 ],
 "metadata": {
  "kernelspec": {
   "display_name": "Python 3 (ipykernel)",
   "language": "python",
   "name": "python3"
  },
  "language_info": {
   "codemirror_mode": {
    "name": "ipython",
    "version": 3
   },
   "file_extension": ".py",
   "mimetype": "text/x-python",
   "name": "python",
   "nbconvert_exporter": "python",
   "pygments_lexer": "ipython3",
   "version": "3.9.7"
  },
  "toc": {
   "base_numbering": 1,
   "nav_menu": {},
   "number_sections": true,
   "sideBar": true,
   "skip_h1_title": false,
   "title_cell": "Table of Contents",
   "title_sidebar": "Contents",
   "toc_cell": false,
   "toc_position": {},
   "toc_section_display": true,
   "toc_window_display": false
  },
  "varInspector": {
   "cols": {
    "lenName": 16,
    "lenType": 16,
    "lenVar": 40
   },
   "kernels_config": {
    "python": {
     "delete_cmd_postfix": "",
     "delete_cmd_prefix": "del ",
     "library": "var_list.py",
     "varRefreshCmd": "print(var_dic_list())"
    },
    "r": {
     "delete_cmd_postfix": ") ",
     "delete_cmd_prefix": "rm(",
     "library": "var_list.r",
     "varRefreshCmd": "cat(var_dic_list()) "
    }
   },
   "oldHeight": 369.826,
   "position": {
    "height": "40px",
    "left": "734.222px",
    "right": "20px",
    "top": "116px",
    "width": "352px"
   },
   "types_to_exclude": [
    "module",
    "function",
    "builtin_function_or_method",
    "instance",
    "_Feature"
   ],
   "varInspector_section_display": "none",
   "window_display": true
  }
 },
 "nbformat": 4,
 "nbformat_minor": 5
}
