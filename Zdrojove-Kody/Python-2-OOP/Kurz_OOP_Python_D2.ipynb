{
 "cells": [
  {
   "cell_type": "markdown",
   "id": "b4c74ebe",
   "metadata": {},
   "source": [
    "# 🐍 Python Objektové Programovanie"
   ]
  },
  {
   "cell_type": "markdown",
   "id": "83519d28",
   "metadata": {},
   "source": [
    "## Best practices (Odporúčané postupy) pri OOP\n",
    "1. Pouzivanie docstringov v triedach a metodach\n",
    "2. Spravanie sa realizuje cez metody/def\n",
    "3. Ak chcete citat, menit, zapisovat stavy/atributy tak idealne cez metody\n",
    "4. Nastav si atributy(datove zlozky/vlastnosti) v konstruktor\n",
    "5. Vyuzivaj zapuzdrenie/enkapsulaciu pre ochranu dat, cize selektivny priviligovany pristup k datam. Rozhoduje co je interna/sukromna informacia a co je verejna\n",
    "6. Poskytuj retazcove reprezentacie objektom Pouzivaj str() a repr()\n",
    "7. Vyuzivaj princip DRY (Dont repeat yourself) napr. prostrednictvom dedicnosti, nemusis opakovanie tvorit atributy/chovanie. Dedi sa vsetko\n",
    "8. Vyuzivaj prekrytie eq/ekvivalencie. Rozhodnie na zaklade coho su 2 objekty rovnake/ekvivaletne. Meno, IBAN, vsetko, viac poloziek"
   ]
  },
  {
   "cell_type": "code",
   "execution_count": 1,
   "id": "4059a130",
   "metadata": {
    "ExecuteTime": {
     "end_time": "2022-06-30T07:10:39.491420Z",
     "start_time": "2022-06-30T07:10:39.477396Z"
    }
   },
   "outputs": [
    {
     "name": "stdout",
     "output_type": "stream",
     "text": [
      "The Zen of Python, by Tim Peters\n",
      "\n",
      "Beautiful is better than ugly.\n",
      "Explicit is better than implicit.\n",
      "Simple is better than complex.\n",
      "Complex is better than complicated.\n",
      "Flat is better than nested.\n",
      "Sparse is better than dense.\n",
      "Readability counts.\n",
      "Special cases aren't special enough to break the rules.\n",
      "Although practicality beats purity.\n",
      "Errors should never pass silently.\n",
      "Unless explicitly silenced.\n",
      "In the face of ambiguity, refuse the temptation to guess.\n",
      "There should be one-- and preferably only one --obvious way to do it.\n",
      "Although that way may not be obvious at first unless you're Dutch.\n",
      "Now is better than never.\n",
      "Although never is often better than *right* now.\n",
      "If the implementation is hard to explain, it's a bad idea.\n",
      "If the implementation is easy to explain, it may be a good idea.\n",
      "Namespaces are one honking great idea -- let's do more of those!\n"
     ]
    }
   ],
   "source": [
    "import this"
   ]
  },
  {
   "cell_type": "markdown",
   "id": "b286efc3",
   "metadata": {},
   "source": [
    "## I. Zapúzdrenie (Enkapsulácia)"
   ]
  },
  {
   "cell_type": "code",
   "execution_count": 21,
   "id": "81b56d2b",
   "metadata": {
    "ExecuteTime": {
     "end_time": "2022-06-30T07:43:52.291972Z",
     "start_time": "2022-06-30T07:43:52.273948Z"
    }
   },
   "outputs": [
    {
     "name": "stdout",
     "output_type": "stream",
     "text": [
      "Vlastnik uctu meno -->  Adam\n",
      "Vlastnik uctu priezvisko -->  Sangala\n",
      "\n",
      "ucet_slsp\n",
      "Vlastnik uctu meno -->  Karol\n",
      "Vlastnik uctu priezvisko -->  Sidor\n",
      "Zostatok uctu Karol Sidora -->  2500\n",
      "Zostatok uctu Karol Sidora -->  2522\n",
      "Zostatok uctu Karol Sidora -->  2511\n"
     ]
    }
   ],
   "source": [
    "# objekt = stav(atributy/datove zlozky) + spravanie(metody/def)\n",
    "\n",
    "class BankovyUcet:\n",
    "    \"\"\"\n",
    "        Autor:\n",
    "        Popis:\n",
    "    \"\"\"\n",
    "    \n",
    "    # set - zapis, zmena, nastavenie\n",
    "    # get - citanie\n",
    "    def set_zostatok_uctu(self, zostatok):\n",
    "        self.zostatok = zostatok\n",
    "    \n",
    "    def vklad(self, suma_penazi):\n",
    "        self.zostatok += suma_penazi\n",
    "#         self.zostatok = self.zostatok + suma_penazi\n",
    "\n",
    "    def vyber(self, suma_penazi):\n",
    "        self.zostatok -= suma_penazi\n",
    "\n",
    "    def set_vlastnik(self, m, p):\n",
    "        \"\"\"\n",
    "            m - krstne meno\n",
    "            p - priezvisko\n",
    "        \"\"\"\n",
    "        self.meno = m;\n",
    "        self.priezvisko = p;\n",
    "\n",
    "ucet_tb = BankovyUcet()\n",
    "# ucet_tb.suma_penazi = 10\n",
    "# ucet_tb.set_zostatok_uctu(500)\n",
    "ucet_tb.set_vlastnik(\"Adam\", \"Sangala\")\n",
    "\n",
    "print(\"Vlastnik uctu meno --> \", ucet_tb.meno)\n",
    "print(\"Vlastnik uctu priezvisko --> \", ucet_tb.priezvisko)\n",
    "\n",
    "# print(ucet_tb.zostatok)\n",
    "# print(ucet_tb.suma_penazi)\n",
    "# print(ucet_tb.zostatok)\n",
    "\n",
    "ucet_slsp = BankovyUcet()\n",
    "ucet_fio = BankovyUcet()\n",
    "\n",
    "print(\"\\nucet_slsp\")\n",
    "ucet_slsp.set_vlastnik(\"Karol\",\"Sidor\")\n",
    "print(\"Vlastnik uctu meno --> \", ucet_slsp.meno)\n",
    "print(\"Vlastnik uctu priezvisko --> \", ucet_slsp.priezvisko)\n",
    "ucet_slsp.set_zostatok_uctu(2500)\n",
    "print(\"Zostatok uctu Karol Sidora --> \", ucet_slsp.zostatok)\n",
    "ucet_slsp.vklad(22)\n",
    "print(\"Zostatok uctu Karol Sidora --> \", ucet_slsp.zostatok)\n",
    "ucet_slsp.vyber(11)\n",
    "print(\"Zostatok uctu Karol Sidora --> \", ucet_slsp.zostatok)\n"
   ]
  },
  {
   "cell_type": "markdown",
   "id": "4aeab384",
   "metadata": {},
   "source": [
    "### Nastavenie/zapis/zmeny atributov v konstruktore"
   ]
  },
  {
   "cell_type": "code",
   "execution_count": 37,
   "id": "f0f6abbb",
   "metadata": {
    "ExecuteTime": {
     "end_time": "2022-06-30T08:06:07.065596Z",
     "start_time": "2022-06-30T08:06:07.032600Z"
    }
   },
   "outputs": [
    {
     "name": "stdout",
     "output_type": "stream",
     "text": [
      "\n",
      "Monika:\n",
      "SK12345\n",
      "600\n",
      "609\n",
      "2022-06-30\n",
      "\n",
      "Igor:\n"
     ]
    },
    {
     "ename": "ValueError",
     "evalue": "Nepovoleny zostatok na ucet",
     "output_type": "error",
     "traceback": [
      "\u001b[1;31m---------------------------------------------------------------------------\u001b[0m",
      "\u001b[1;31mValueError\u001b[0m                                Traceback (most recent call last)",
      "\u001b[1;32mC:\\Users\\ADMINI~1\\AppData\\Local\\Temp/ipykernel_26004/630826695.py\u001b[0m in \u001b[0;36m<module>\u001b[1;34m\u001b[0m\n\u001b[0;32m     38\u001b[0m \u001b[1;33m\u001b[0m\u001b[0m\n\u001b[0;32m     39\u001b[0m \u001b[0mprint\u001b[0m\u001b[1;33m(\u001b[0m\u001b[1;34m\"\\nIgor:\"\u001b[0m\u001b[1;33m)\u001b[0m\u001b[1;33m\u001b[0m\u001b[1;33m\u001b[0m\u001b[0m\n\u001b[1;32m---> 40\u001b[1;33m \u001b[0mucet_tb_igor\u001b[0m \u001b[1;33m=\u001b[0m \u001b[0mBankovyUcet\u001b[0m\u001b[1;33m(\u001b[0m\u001b[1;34m\"Igor\"\u001b[0m\u001b[1;33m,\u001b[0m \u001b[1;34m\"Ma\"\u001b[0m\u001b[1;33m,\u001b[0m \u001b[1;34m\"SK78912\"\u001b[0m\u001b[1;33m,\u001b[0m \u001b[1;33m-\u001b[0m\u001b[1;36m1000\u001b[0m\u001b[1;33m)\u001b[0m\u001b[1;33m\u001b[0m\u001b[1;33m\u001b[0m\u001b[0m\n\u001b[0m\u001b[0;32m     41\u001b[0m \u001b[0mprint\u001b[0m\u001b[1;33m(\u001b[0m\u001b[0mucet_tb_igor\u001b[0m\u001b[1;33m.\u001b[0m\u001b[0mzostatok\u001b[0m\u001b[1;33m)\u001b[0m\u001b[1;33m\u001b[0m\u001b[1;33m\u001b[0m\u001b[0m\n\u001b[0;32m     42\u001b[0m \u001b[1;33m\u001b[0m\u001b[0m\n",
      "\u001b[1;32mC:\\Users\\ADMINI~1\\AppData\\Local\\Temp/ipykernel_26004/630826695.py\u001b[0m in \u001b[0;36m__init__\u001b[1;34m(self, m, p, IBAN, zostatok)\u001b[0m\n\u001b[0;32m     17\u001b[0m \u001b[1;33m\u001b[0m\u001b[0m\n\u001b[0;32m     18\u001b[0m         \u001b[1;32mif\u001b[0m \u001b[0mzostatok\u001b[0m \u001b[1;33m<=\u001b[0m \u001b[1;33m-\u001b[0m\u001b[1;36m1000\u001b[0m\u001b[1;33m:\u001b[0m\u001b[1;33m\u001b[0m\u001b[1;33m\u001b[0m\u001b[0m\n\u001b[1;32m---> 19\u001b[1;33m             \u001b[1;32mraise\u001b[0m \u001b[0mValueError\u001b[0m\u001b[1;33m(\u001b[0m\u001b[1;34m\"Nepovoleny zostatok na ucet\"\u001b[0m\u001b[1;33m)\u001b[0m\u001b[1;33m\u001b[0m\u001b[1;33m\u001b[0m\u001b[0m\n\u001b[0m\u001b[0;32m     20\u001b[0m         \u001b[1;32melse\u001b[0m\u001b[1;33m:\u001b[0m\u001b[1;33m\u001b[0m\u001b[1;33m\u001b[0m\u001b[0m\n\u001b[0;32m     21\u001b[0m             \u001b[0mself\u001b[0m\u001b[1;33m.\u001b[0m\u001b[0mzostatok\u001b[0m \u001b[1;33m=\u001b[0m \u001b[0mzostatok\u001b[0m\u001b[1;33m\u001b[0m\u001b[1;33m\u001b[0m\u001b[0m\n",
      "\u001b[1;31mValueError\u001b[0m: Nepovoleny zostatok na ucet"
     ]
    }
   ],
   "source": [
    "import datetime\n",
    "class BankovyUcet:\n",
    "    \n",
    "    \"\"\"\n",
    "        Autor:\n",
    "        Popis:\n",
    "    \"\"\"\n",
    "    \n",
    "    def __init__(self, m, p, IBAN, zostatok = 10):\n",
    "        \"\"\"\n",
    "            m - krstne meno\n",
    "            p - priezvisko\n",
    "        \"\"\"\n",
    "        self.meno = m;\n",
    "        self.priezvisko = p;\n",
    "        self.IBAN = IBAN\n",
    "        self.datum_zalozenia = datetime.datetime.now().date()\n",
    "        \n",
    "        if zostatok <= -1000:\n",
    "            raise ValueError(\"Nepovoleny zostatok na ucet\")\n",
    "        else:\n",
    "            self.zostatok = zostatok\n",
    "        \n",
    "    def vklad(self, suma_penazi):\n",
    "        self.zostatok += suma_penazi\n",
    "#         self.zostatok = self.zostatok + suma_penazi\n",
    "\n",
    "    def vyber(self, suma_penazi):\n",
    "        self.zostatok -= suma_penazi\n",
    "\n",
    "print(\"\\nMonika:\")\n",
    "ucet_tb_monika = BankovyUcet(\"Monika\", \"Papierova\", \"SK12345\", 600)\n",
    "print(ucet_tb_monika.IBAN)\n",
    "print(ucet_tb_monika.zostatok)\n",
    "\n",
    "ucet_tb_monika.vklad(9)\n",
    "print(ucet_tb_monika.zostatok)\n",
    "print(ucet_tb_monika.datum_zalozenia)\n",
    "\n",
    "print(\"\\nIgor:\")\n",
    "ucet_tb_igor = BankovyUcet(\"Igor\", \"Ma\", \"SK78912\", -1000)\n",
    "print(ucet_tb_igor.zostatok)\n",
    "\n"
   ]
  },
  {
   "cell_type": "code",
   "execution_count": 43,
   "id": "b35e9ae9",
   "metadata": {
    "ExecuteTime": {
     "end_time": "2022-06-30T08:18:12.167400Z",
     "start_time": "2022-06-30T08:18:12.138882Z"
    }
   },
   "outputs": [
    {
     "name": "stdout",
     "output_type": "stream",
     "text": [
      "\n",
      "Monika:\n",
      "SK12345\n",
      "600\n",
      "609\n",
      "2022-06-30\n",
      "\n",
      "Igor:\n",
      "1000\n",
      "Adresa banky --> Obchodna ulica 12\n"
     ]
    },
    {
     "ename": "AttributeError",
     "evalue": "'BankovyUcet' object has no attribute '__rodne_cislo'",
     "output_type": "error",
     "traceback": [
      "\u001b[1;31m---------------------------------------------------------------------------\u001b[0m",
      "\u001b[1;31mAttributeError\u001b[0m                            Traceback (most recent call last)",
      "\u001b[1;32mC:\\Users\\ADMINI~1\\AppData\\Local\\Temp/ipykernel_26004/2938495395.py\u001b[0m in \u001b[0;36m<module>\u001b[1;34m\u001b[0m\n\u001b[0;32m     52\u001b[0m \u001b[0mprint\u001b[0m\u001b[1;33m(\u001b[0m\u001b[0mucet_tb_igor\u001b[0m\u001b[1;33m.\u001b[0m\u001b[0mzostatok\u001b[0m\u001b[1;33m)\u001b[0m\u001b[1;33m\u001b[0m\u001b[1;33m\u001b[0m\u001b[0m\n\u001b[0;32m     53\u001b[0m \u001b[0mprint\u001b[0m\u001b[1;33m(\u001b[0m\u001b[1;34m\"Adresa banky -->\"\u001b[0m\u001b[1;33m,\u001b[0m \u001b[0mucet_tb_igor\u001b[0m\u001b[1;33m.\u001b[0m\u001b[0madresa_banka\u001b[0m\u001b[1;33m)\u001b[0m\u001b[1;33m\u001b[0m\u001b[1;33m\u001b[0m\u001b[0m\n\u001b[1;32m---> 54\u001b[1;33m \u001b[0mprint\u001b[0m\u001b[1;33m(\u001b[0m\u001b[1;34m\"Rodne cislo -->\"\u001b[0m\u001b[1;33m,\u001b[0m \u001b[0mucet_tb_igor\u001b[0m\u001b[1;33m.\u001b[0m\u001b[0m__rodne_cislo\u001b[0m\u001b[1;33m)\u001b[0m\u001b[1;33m\u001b[0m\u001b[1;33m\u001b[0m\u001b[0m\n\u001b[0m\u001b[0;32m     55\u001b[0m \u001b[0mprint\u001b[0m\u001b[1;33m(\u001b[0m\u001b[1;34m\"Disponent -->\"\u001b[0m\u001b[1;33m,\u001b[0m\u001b[0mucet_tb_igor\u001b[0m\u001b[1;33m.\u001b[0m\u001b[0m_disponent\u001b[0m\u001b[1;33m)\u001b[0m\u001b[1;33m\u001b[0m\u001b[1;33m\u001b[0m\u001b[0m\n\u001b[0;32m     56\u001b[0m \u001b[1;33m\u001b[0m\u001b[0m\n",
      "\u001b[1;31mAttributeError\u001b[0m: 'BankovyUcet' object has no attribute '__rodne_cislo'"
     ]
    }
   ],
   "source": [
    "import datetime\n",
    "class BankovyUcet:\n",
    "    # Modifikatory pristup\n",
    "    # Verejne/public datove zlozky/atributy\n",
    "    adresa_banka = \"Obchodna ulica 12\"\n",
    "    \n",
    "    # Sukromne/private\n",
    "    __rodne_cislo = \"861203/7439\"\n",
    "    __heslo_pouzivatela = \"123456\"\n",
    "    \n",
    "    # Chranene/protected\n",
    "    _disponent = \"Ivana\"\n",
    "    \n",
    "    \"\"\"\n",
    "        Autor:\n",
    "        Popis:\n",
    "    \"\"\"\n",
    "    \n",
    "    def __init__(self, m, p, IBAN, zostatok = 10):\n",
    "        \"\"\"\n",
    "            m - krstne meno\n",
    "            p - priezvisko\n",
    "        \"\"\"\n",
    "        self.meno = m;\n",
    "        self.priezvisko = p;\n",
    "        self.IBAN = IBAN\n",
    "        self.datum_zalozenia = datetime.datetime.now().date()\n",
    "        \n",
    "        if zostatok <= -1000:\n",
    "            raise ValueError(\"Nepovoleny zostatok na ucet\")\n",
    "        else:\n",
    "            self.zostatok = zostatok\n",
    "        \n",
    "    def vklad(self, suma_penazi):\n",
    "        self.zostatok += suma_penazi\n",
    "#         self.zostatok = self.zostatok + suma_penazi\n",
    "\n",
    "    def vyber(self, suma_penazi):\n",
    "        self.zostatok -= suma_penazi\n",
    "\n",
    "print(\"\\nMonika:\")\n",
    "ucet_tb_monika = BankovyUcet(\"Monika\", \"Papierova\", \"SK12345\", 600)\n",
    "print(ucet_tb_monika.IBAN)\n",
    "print(ucet_tb_monika.zostatok)\n",
    "\n",
    "ucet_tb_monika.vklad(9)\n",
    "print(ucet_tb_monika.zostatok)\n",
    "print(ucet_tb_monika.datum_zalozenia)\n",
    "\n",
    "print(\"\\nIgor:\")\n",
    "ucet_tb_igor = BankovyUcet(\"Igor\", \"Ma\", \"SK78912\", 1000)\n",
    "print(ucet_tb_igor.zostatok)\n",
    "print(\"Adresa banky -->\", ucet_tb_igor.adresa_banka)\n",
    "print(\"Rodne cislo -->\", ucet_tb_igor.__rodne_cislo)\n",
    "print(\"Disponent -->\",ucet_tb_igor._disponent)\n",
    "\n"
   ]
  },
  {
   "cell_type": "markdown",
   "id": "f7626fdc",
   "metadata": {},
   "source": [
    "## II. Dedicnost (Inheritance)"
   ]
  },
  {
   "cell_type": "code",
   "execution_count": 52,
   "id": "a4f7c3da",
   "metadata": {
    "ExecuteTime": {
     "end_time": "2022-06-30T08:51:30.658588Z",
     "start_time": "2022-06-30T08:51:30.643589Z"
    }
   },
   "outputs": [
    {
     "name": "stdout",
     "output_type": "stream",
     "text": [
      "bu\n",
      "Nazov banky -->  CSOB\n",
      "Adresa banky -->  Obchodna ulica 12\n",
      "\n",
      "bsu\n",
      "Nazov banky -->  CSOB\n",
      "Adresa banky -->  Obchodna ulica 12\n",
      "Adresa banky -->  89\n",
      "\n",
      "biu\n",
      "Nazov banky -->  CSOB\n",
      "Adresa banky -->  Obchodna ulica 12\n",
      "Adresa banky -->  7000\n"
     ]
    }
   ],
   "source": [
    "class Bankovy_Ucet(object):\n",
    "    adresa_banka = \"Obchodna ulica 12\"\n",
    "    nazov_banky = \"CSOB\"\n",
    "    ISBN = \"SK123...\"\n",
    "    \n",
    "    # Sukromne/private\n",
    "    __rodne_cislo = \"861203/7439\"\n",
    "    __heslo_pouzivatela = \"123456\"\n",
    "    \n",
    "    # Chranene/protected\n",
    "    _disponent = \"Ivana\" \n",
    "    \n",
    "    def set_zostatok_uctu(self, zostatok):\n",
    "        self.zostatok = zostatok\n",
    "    \n",
    "    def vklad(self, suma_penazi):\n",
    "        self.zostatok += suma_penazi\n",
    "\n",
    "class Bankovy_Sporiaci_Ucet(Bankovy_Ucet):\n",
    "    pass\n",
    "\n",
    "class Bankovy_Investicny_Ucet(Bankovy_Ucet):\n",
    "    pass\n",
    "\n",
    "bu = Bankovy_Ucet()\n",
    "print(\"bu\")\n",
    "print(\"Nazov banky --> \", bu.nazov_banky)\n",
    "print(\"Adresa banky --> \", bu.adresa_banka)\n",
    "\n",
    "bsu = Bankovy_Sporiaci_Ucet()\n",
    "print(\"\\nbsu\")\n",
    "print(\"Nazov banky --> \", bsu.nazov_banky)\n",
    "print(\"Adresa banky --> \", bsu.adresa_banka)\n",
    "bsu.set_zostatok_uctu(89)\n",
    "print(\"Adresa banky --> \", bsu.zostatok)\n",
    "\n",
    "biu = Bankovy_Investicny_Ucet()\n",
    "print(\"\\nbiu\")\n",
    "print(\"Nazov banky --> \", biu.nazov_banky)\n",
    "print(\"Adresa banky --> \", biu.adresa_banka)\n",
    "biu.set_zostatok_uctu(7000)\n",
    "print(\"Adresa banky --> \", biu.zostatok)"
   ]
  },
  {
   "cell_type": "code",
   "execution_count": 62,
   "id": "f4448331",
   "metadata": {
    "ExecuteTime": {
     "end_time": "2022-06-30T09:35:53.642080Z",
     "start_time": "2022-06-30T09:35:53.614083Z"
    }
   },
   "outputs": [
    {
     "name": "stdout",
     "output_type": "stream",
     "text": [
      "\n",
      "Zviera objekty: \n",
      "Nazov zvierata: , ma farbu: ['cierna', 'modra', 'zelena', 'hneda'], ma hmotnost 0.0\n",
      "Nazov zvierata: , ma farbu: ['cierna', 'modra', 'zelena', 'hneda'], ma hmotnost 0.0\n",
      "\n",
      "Cicavce objekty: \n",
      "Nazov zvierata: Pes, ma farbu: ['cierna', 'modra', 'zelena', 'hneda'], ma hmotnost 20\n",
      "Nazov zvierata: Pes, ma farbu: ['cierna', 'modra', 'zelena', 'hneda'], ma hmotnost 20\n",
      "Utekam...\n",
      "\n",
      "Pes objekty: \n",
      "Nazov zvierata: Pes, ma farbu: ['cierna', 'modra', 'zelena', 'hneda'], ma hmotnost 2.5\n",
      "Pomaly Utekam...\n"
     ]
    }
   ],
   "source": [
    "class Zviera(object):\n",
    "    nazov = str()\n",
    "    vek = int()\n",
    "    farba = [\"cierna\", \"modra\", \"zelena\", \"hneda\"]\n",
    "    hmotnost = float()\n",
    "    \n",
    "    def pohyb(self):\n",
    "        print(\"Hybem sa...\")\n",
    "    \n",
    "    # Override/prepisanie\n",
    "    def __str__(self):\n",
    "        return f\"Nazov zvierata: {self.nazov}, ma farbu: {self.farba}, ma hmotnost {self.hmotnost}\"\n",
    "        \n",
    "class Cicavec(Zviera):\n",
    "    nazov = \"Pes\"\n",
    "    pocet_noh = 4\n",
    "    rychlost = 15\n",
    "    hmotnost = 20\n",
    "    dlzka_zivota = 15\n",
    "    \n",
    "    # Override\n",
    "    def pohyb(self):\n",
    "        print(\"Utekam...\")\n",
    "\n",
    "class Pes(Cicavec):\n",
    "    rasa = \"Pomeranian\"\n",
    "    hmotnost = 2.5\n",
    "    dlzka_zivota = 10\n",
    "    \n",
    "    # Override\n",
    "    def pohyb(self):\n",
    "        print(\"Pomaly Utekam...\")\n",
    "    \n",
    "print(\"\\nZviera objekty: \")\n",
    "zviera1 = Zviera()\n",
    "zviera2 = Zviera()\n",
    "print(zviera1)\n",
    "print(zviera2)\n",
    "# <__main__.Zviera object at 0x000001A1136C1160>\n",
    "\n",
    "print(\"\\nCicavce objekty: \")\n",
    "cicavec1 = Cicavec()\n",
    "cicavec2 = Cicavec()\n",
    "print(cicavec1)\n",
    "print(cicavec2)\n",
    "cicavec1.pohyb()\n",
    "\n",
    "print(\"\\nPes objekty: \")\n",
    "pes1 = Pes()\n",
    "print(pes1)\n",
    "pes1.pohyb()\n"
   ]
  },
  {
   "cell_type": "markdown",
   "id": "abecdc53",
   "metadata": {},
   "source": [
    "### Viacnasobna Dedicnost"
   ]
  },
  {
   "cell_type": "code",
   "execution_count": 80,
   "id": "557057ce",
   "metadata": {
    "ExecuteTime": {
     "end_time": "2022-06-30T09:56:36.970372Z",
     "start_time": "2022-06-30T09:56:36.949375Z"
    }
   },
   "outputs": [
    {
     "name": "stdout",
     "output_type": "stream",
     "text": [
      "Otec: \n",
      "A\n",
      "Otcovo nieco\n",
      "\n",
      "Syn: \n",
      "Karol\n",
      "98\n",
      "A\n",
      "B\n",
      "Syn nieco\n",
      "Otcovo nieco\n",
      "Otcovo nieco\n",
      "Mamine nieco\n",
      "C\n",
      "Syn nieco\n",
      "Otcovo nieco\n",
      "Otcovo nieco\n",
      "Mamine nieco\n",
      "\n",
      "MRO\n",
      "[<class '__main__.Mama'>, <class 'object'>]\n",
      "[<class '__main__.Otec'>, <class 'object'>]\n",
      "[<class '__main__.Syn'>, <class '__main__.Otec'>, <class '__main__.Mama'>, <class 'object'>]\n"
     ]
    }
   ],
   "source": [
    "class Otec(object):\n",
    "    meno = \"Karol\"\n",
    "    hmotnost = 98\n",
    "    \n",
    "    def sprav_A(self):\n",
    "        print(\"A\")\n",
    "    \n",
    "    def vypis_nieco(self):\n",
    "        print(\"Otcovo nieco\")\n",
    "\n",
    "class Mama(object):\n",
    "    meno = \"Katka\"\n",
    "    hmotnost = 54\n",
    "    \n",
    "    def sprav_B(self):\n",
    "        print(\"B\")\n",
    "    \n",
    "    def vypis_nieco(self):\n",
    "        print(\"Mamine nieco\")\n",
    "        \n",
    "class Syn(Otec, Mama):\n",
    "    def sprav_C(self):\n",
    "        print(\"C\")\n",
    "        \n",
    "    def vypis_nieco(self):\n",
    "        print(\"Syn nieco\")\n",
    "        super().vypis_nieco()\n",
    "        Otec.vypis_nieco(self)\n",
    "        Mama.vypis_nieco(self)\n",
    "\n",
    "print(\"Otec: \")\n",
    "karol = Otec()\n",
    "karol.sprav_A()\n",
    "karol.vypis_nieco()\n",
    "\n",
    "print(\"\\nSyn: \")\n",
    "dusan = Syn()\n",
    "print(dusan.meno)\n",
    "print(dusan.hmotnost)\n",
    "dusan.sprav_A()\n",
    "dusan.sprav_B()\n",
    "dusan.vypis_nieco()\n",
    "\n",
    "dusan.sprav_C()\n",
    "dusan.vypis_nieco()\n",
    "\n",
    "print(\"\\nMRO\")\n",
    "# Method resolution order\n",
    "print(Mama.mro())\n",
    "print(Otec.mro())\n",
    "print(Syn.mro())"
   ]
  },
  {
   "cell_type": "markdown",
   "id": "e16e5c4e",
   "metadata": {},
   "source": [
    "## III. Equal (Ekvivalencia) - Zhodnost/rovnakost objektov"
   ]
  },
  {
   "cell_type": "code",
   "execution_count": 89,
   "id": "3f717b23",
   "metadata": {
    "ExecuteTime": {
     "end_time": "2022-06-30T10:09:19.040528Z",
     "start_time": "2022-06-30T10:09:19.012491Z"
    }
   },
   "outputs": [
    {
     "name": "stdout",
     "output_type": "stream",
     "text": [
      "\n",
      "Monika:\n",
      "SK12345\n",
      "600\n",
      "609\n",
      "2022-06-30\n",
      "\n",
      "Igor:\n",
      "1000\n",
      "\n",
      "Su tie ucty rovnake? --> False\n",
      "Su tie ucty rovnake? --> False\n",
      "\n",
      "Rovnakost Monikine ucty:\n",
      "Su tie ucty rovnake? --> True\n",
      "\n",
      "Rovnakost Igorove ucty:\n",
      "Su tie ucty rovnake? --> True\n"
     ]
    }
   ],
   "source": [
    "import datetime\n",
    "class BankovyUcet:\n",
    "    # Modifikatory pristup\n",
    "    # Verejne/public datove zlozky/atributy\n",
    "    adresa_banka = \"Obchodna ulica 12\"\n",
    "    \n",
    "    # Sukromne/private\n",
    "    __rodne_cislo = \"861203/7439\"\n",
    "    __heslo_pouzivatela = \"123456\"\n",
    "    \n",
    "    # Chranene/protected\n",
    "    _disponent = \"Ivana\"\n",
    "    \n",
    "    \"\"\"\n",
    "        Autor:\n",
    "        Popis:\n",
    "    \"\"\"\n",
    "    \n",
    "    def __init__(self, m, p, IBAN, zostatok = 10):\n",
    "        \"\"\"\n",
    "            m - krstne meno\n",
    "            p - priezvisko\n",
    "        \"\"\"\n",
    "        self.meno = m;\n",
    "        self.priezvisko = p;\n",
    "        self.IBAN = IBAN\n",
    "        self.datum_zalozenia = datetime.datetime.now().date()\n",
    "        \n",
    "        if zostatok <= -1000:\n",
    "            raise ValueError(\"Nepovoleny zostatok na ucet\")\n",
    "        else:\n",
    "            self.zostatok = zostatok\n",
    "            \n",
    "    def __eq__(self, dalsi):\n",
    "        return True if self.IBAN == dalsi.IBAN else False\n",
    "        \n",
    "    def vklad(self, suma_penazi):\n",
    "        self.zostatok += suma_penazi\n",
    "#         self.zostatok = self.zostatok + suma_penazi\n",
    "\n",
    "    def vyber(self, suma_penazi):\n",
    "        self.zostatok -= suma_penazi\n",
    "\n",
    "print(\"\\nMonika:\")\n",
    "ucet_tb_monika = BankovyUcet(\"Monika\", \"Papierova\", \"SK12345\", 600)\n",
    "print(ucet_tb_monika.IBAN)\n",
    "print(ucet_tb_monika.zostatok)\n",
    "ucet_tb_monika2 = BankovyUcet(\"Monika\", \"Papierova\", \"SK12345\", 600)\n",
    "\n",
    "ucet_tb_monika.vklad(9)\n",
    "print(ucet_tb_monika.zostatok)\n",
    "print(ucet_tb_monika.datum_zalozenia)\n",
    "\n",
    "print(\"\\nIgor:\")\n",
    "ucet_tb_igor = BankovyUcet(\"Igor\", \"Ma\", \"SK78912\", 1000)\n",
    "print(ucet_tb_igor.zostatok)\n",
    "ucet_tb_igor2 = BankovyUcet(\"Igor\", \"Ma\", \"SK78912\", 1000)\n",
    "\n",
    "\n",
    "print(\"\\nSu tie ucty rovnake? -->\", ucet_tb_monika == ucet_tb_igor)\n",
    "print(\"Su tie ucty rovnake? -->\", ucet_tb_monika is ucet_tb_igor)\n",
    "print(\"\\nRovnakost Monikine ucty:\")\n",
    "print(\"Su tie ucty rovnake? -->\", ucet_tb_monika == ucet_tb_monika2)\n",
    "\n",
    "print(\"\\nRovnakost Igorove ucty:\")\n",
    "print(\"Su tie ucty rovnake? -->\", ucet_tb_igor == ucet_tb_igor2)\n"
   ]
  },
  {
   "cell_type": "markdown",
   "id": "4f036a33",
   "metadata": {},
   "source": [
    "## IV. Polymorfizmus (Mnohotvárnosť)"
   ]
  },
  {
   "cell_type": "code",
   "execution_count": 100,
   "id": "06f4b3eb",
   "metadata": {
    "ExecuteTime": {
     "end_time": "2022-06-30T11:25:39.247143Z",
     "start_time": "2022-06-30T11:25:39.227822Z"
    }
   },
   "outputs": [
    {
     "name": "stdout",
     "output_type": "stream",
     "text": [
      "Som tvar\n",
      "Kocka1\n",
      "a -->  5\n",
      "objem kocka --> 1000.0\n",
      "povrh kocka --> 600.0\n",
      "\n",
      "Kocka2\n",
      "a -->  2\n",
      "objem kocka --> 8.0\n",
      "povrh kocka --> 24.0\n",
      "\n",
      "Gula\n",
      "a -->  2\n",
      "objem kocka --> 33.510321638291124\n",
      "povrh kocka --> 50.26548245743669\n"
     ]
    }
   ],
   "source": [
    "#pygame\n",
    "import math\n",
    "\n",
    "class Tvar(object):\n",
    "    \"\"\"\n",
    "        3D Tvar/objekt\n",
    "    \n",
    "    \"\"\"\n",
    "    \n",
    "    nazov = \"Tvar\"\n",
    "    \n",
    "    def __str__(self):\n",
    "        return \"Som tvar\"\n",
    "\n",
    "class Kocka(Tvar):\n",
    "    a = float()\n",
    "    \n",
    "    def __init__(self, a = 5):\n",
    "        self.a = a\n",
    "    \n",
    "    def vypocitat_objem(self, a = 5):\n",
    "        return math.pow(a, 3)\n",
    "    \n",
    "    def vypocitat_povrch(self, a = 5):\n",
    "        return 6 * math.pow(a, 2)\n",
    "\n",
    "    \n",
    "class Gula(Kocka):\n",
    "    \n",
    "    def vypocitat_objem(self, a):\n",
    "        return 4/3 * math.pi * math.pow(a, 3)\n",
    "    \n",
    "    def vypocitat_povrch(self, a):\n",
    "        return 4 * math.pi * math.pow(a, 2)\n",
    "\n",
    "obj_tvar = Tvar()\n",
    "print(obj_tvar)\n",
    "\n",
    "kocka1 = Kocka()\n",
    "print(\"Kocka1\")\n",
    "print(\"a --> \", kocka1.a)\n",
    "print(\"objem kocka -->\", kocka1.vypocitat_objem(10))\n",
    "print(\"povrh kocka -->\", kocka1.vypocitat_povrch(10))\n",
    "\n",
    "kocka2 = Kocka(2)\n",
    "print(\"\\nKocka2\")\n",
    "print(\"a --> \", kocka2.a)\n",
    "print(\"objem kocka -->\", kocka2.vypocitat_objem(2))\n",
    "print(\"povrh kocka -->\", kocka2.vypocitat_povrch(2))\n",
    "\n",
    "gula = Gula(2)\n",
    "print(\"\\nGula\")\n",
    "print(\"a --> \", gula.a)\n",
    "print(\"objem kocka -->\", gula.vypocitat_objem(2))\n",
    "print(\"povrh kocka -->\", gula.vypocitat_povrch(2))"
   ]
  },
  {
   "cell_type": "markdown",
   "id": "00cf0800",
   "metadata": {},
   "source": [
    "# V. Iteratory"
   ]
  },
  {
   "cell_type": "code",
   "execution_count": 114,
   "id": "b297226f",
   "metadata": {
    "ExecuteTime": {
     "end_time": "2022-06-30T11:33:39.190891Z",
     "start_time": "2022-06-30T11:33:39.168342Z"
    }
   },
   "outputs": [
    {
     "name": "stdout",
     "output_type": "stream",
     "text": [
      "(1, 2, 3, 4, 5)\n",
      "1\n",
      "2\n",
      "3\n",
      "4\n",
      "5\n",
      "\n",
      "\n",
      "<str_iterator object at 0x000001A1143A5B80>\n",
      "K\n",
      "a\n",
      "r\n",
      "o\n",
      "l\n"
     ]
    }
   ],
   "source": [
    "# String, tupple/tica, zoznam/list, slovniky/dict\n",
    "tica_cisel = (1,2,3,4,5)\n",
    "print(tica_cisel)\n",
    "\n",
    "it_tica_cisel = iter(tica_cisel)\n",
    "# print(next(it_tica_cisel))\n",
    "# print(next(it_tica_cisel))\n",
    "# print(next(it_tica_cisel))\n",
    "\n",
    "for i in it_tica_cisel:\n",
    "    print(i)\n",
    "\n",
    "print(\"\\n\")\n",
    "meno = \"Karol\"\n",
    "it_meno = iter(meno)\n",
    "print(it_meno)\n",
    "# print(next(it_meno))\n",
    "# print(next(it_meno))\n",
    "\n",
    "for i in it_meno:\n",
    "    print(i)"
   ]
  },
  {
   "cell_type": "code",
   "execution_count": 122,
   "id": "967ee22c",
   "metadata": {
    "ExecuteTime": {
     "end_time": "2022-06-30T11:40:23.427481Z",
     "start_time": "2022-06-30T11:40:23.389874Z"
    }
   },
   "outputs": [
    {
     "name": "stdout",
     "output_type": "stream",
     "text": [
      "0\n",
      "1\n",
      "2\n"
     ]
    },
    {
     "ename": "StopIteration",
     "evalue": "Si prekrocil Maximum Iteracie",
     "output_type": "error",
     "traceback": [
      "\u001b[1;31m---------------------------------------------------------------------------\u001b[0m",
      "\u001b[1;31mStopIteration\u001b[0m                             Traceback (most recent call last)",
      "\u001b[1;32mC:\\Users\\ADMINI~1\\AppData\\Local\\Temp/ipykernel_26004/3498935253.py\u001b[0m in \u001b[0;36m<module>\u001b[1;34m\u001b[0m\n\u001b[0;32m     21\u001b[0m \u001b[0mprint\u001b[0m\u001b[1;33m(\u001b[0m\u001b[0mnext\u001b[0m\u001b[1;33m(\u001b[0m\u001b[0mit_ciselnik1\u001b[0m\u001b[1;33m)\u001b[0m\u001b[1;33m)\u001b[0m\u001b[1;33m\u001b[0m\u001b[1;33m\u001b[0m\u001b[0m\n\u001b[0;32m     22\u001b[0m \u001b[0mprint\u001b[0m\u001b[1;33m(\u001b[0m\u001b[0mnext\u001b[0m\u001b[1;33m(\u001b[0m\u001b[0mit_ciselnik1\u001b[0m\u001b[1;33m)\u001b[0m\u001b[1;33m)\u001b[0m\u001b[1;33m\u001b[0m\u001b[1;33m\u001b[0m\u001b[0m\n\u001b[1;32m---> 23\u001b[1;33m \u001b[0mprint\u001b[0m\u001b[1;33m(\u001b[0m\u001b[0mnext\u001b[0m\u001b[1;33m(\u001b[0m\u001b[0mit_ciselnik1\u001b[0m\u001b[1;33m)\u001b[0m\u001b[1;33m)\u001b[0m\u001b[1;33m\u001b[0m\u001b[1;33m\u001b[0m\u001b[0m\n\u001b[0m",
      "\u001b[1;32mC:\\Users\\ADMINI~1\\AppData\\Local\\Temp/ipykernel_26004/3498935253.py\u001b[0m in \u001b[0;36m__next__\u001b[1;34m(self)\u001b[0m\n\u001b[0;32m     10\u001b[0m     \u001b[1;32mdef\u001b[0m \u001b[0m__next__\u001b[0m\u001b[1;33m(\u001b[0m\u001b[0mself\u001b[0m\u001b[1;33m)\u001b[0m\u001b[1;33m:\u001b[0m\u001b[1;33m\u001b[0m\u001b[1;33m\u001b[0m\u001b[0m\n\u001b[0;32m     11\u001b[0m         \u001b[1;32mif\u001b[0m\u001b[1;33m(\u001b[0m\u001b[0mself\u001b[0m\u001b[1;33m.\u001b[0m\u001b[0mcislo\u001b[0m \u001b[1;33m>\u001b[0m \u001b[0mself\u001b[0m\u001b[1;33m.\u001b[0m\u001b[0mmaximum\u001b[0m\u001b[1;33m)\u001b[0m\u001b[1;33m:\u001b[0m\u001b[1;33m\u001b[0m\u001b[1;33m\u001b[0m\u001b[0m\n\u001b[1;32m---> 12\u001b[1;33m             \u001b[1;32mraise\u001b[0m \u001b[0mStopIteration\u001b[0m\u001b[1;33m(\u001b[0m\u001b[1;34m\"Si prekrocil Maximum Iteracie\"\u001b[0m\u001b[1;33m)\u001b[0m\u001b[1;33m\u001b[0m\u001b[1;33m\u001b[0m\u001b[0m\n\u001b[0m\u001b[0;32m     13\u001b[0m         \u001b[0mx\u001b[0m \u001b[1;33m=\u001b[0m \u001b[0mself\u001b[0m\u001b[1;33m.\u001b[0m\u001b[0mcislo\u001b[0m\u001b[1;33m\u001b[0m\u001b[1;33m\u001b[0m\u001b[0m\n\u001b[0;32m     14\u001b[0m         \u001b[0mself\u001b[0m\u001b[1;33m.\u001b[0m\u001b[0mcislo\u001b[0m \u001b[1;33m+=\u001b[0m \u001b[1;36m1\u001b[0m\u001b[1;33m\u001b[0m\u001b[1;33m\u001b[0m\u001b[0m\n",
      "\u001b[1;31mStopIteration\u001b[0m: Si prekrocil Maximum Iteracie"
     ]
    }
   ],
   "source": [
    "class Ciselnik(object):\n",
    "    \n",
    "    def __init__(self, maximum):\n",
    "        self.maximum = maximum\n",
    "    \n",
    "    def __iter__(self):\n",
    "        self.cislo = 0\n",
    "        return self\n",
    "    \n",
    "    def __next__(self):\n",
    "        if(self.cislo > self.maximum):\n",
    "            raise StopIteration(\"Si prekrocil Maximum Iteracie\")\n",
    "        x = self.cislo\n",
    "        self.cislo += 1\n",
    "        return x\n",
    "    \n",
    "ciselnik1 = Ciselnik(2)\n",
    "it_ciselnik1 = iter(ciselnik1)\n",
    "\n",
    "print(next(it_ciselnik1))\n",
    "print(next(it_ciselnik1))\n",
    "print(next(it_ciselnik1))\n",
    "print(next(it_ciselnik1))"
   ]
  },
  {
   "cell_type": "code",
   "execution_count": 128,
   "id": "21d9cfa6",
   "metadata": {
    "ExecuteTime": {
     "end_time": "2022-06-30T11:44:03.541939Z",
     "start_time": "2022-06-30T11:44:03.529134Z"
    }
   },
   "outputs": [
    {
     "name": "stdout",
     "output_type": "stream",
     "text": [
      "1\n",
      "2\n",
      "4\n",
      "8\n",
      "\n",
      "for cyklus\n",
      "1\n",
      "2\n",
      "4\n",
      "8\n",
      "16\n",
      "32\n",
      "64\n"
     ]
    }
   ],
   "source": [
    "class Ciselnik_Dvojnasobny(object):\n",
    "    \n",
    "    def __init__(self, maximum):\n",
    "        self.maximum = maximum\n",
    "    \n",
    "    def __iter__(self):\n",
    "        self.cislo = 1\n",
    "        return self\n",
    "    \n",
    "    def __next__(self):\n",
    "        if(self.cislo > self.maximum):\n",
    "            raise StopIteration(\"Si prekrocil Maximum Iteracie\")\n",
    "        x = self.cislo\n",
    "        self.cislo *= 2\n",
    "        return x\n",
    "    \n",
    "ciselnik_dvojnasobny = Ciselnik_Dvojnasobny(100)\n",
    "it_ciselnik1 = iter(ciselnik_dvojnasobny)\n",
    "\n",
    "print(next(it_ciselnik1))\n",
    "print(next(it_ciselnik1))\n",
    "print(next(it_ciselnik1))\n",
    "print(next(it_ciselnik1))\n",
    "\n",
    "print(\"\\nfor cyklus\")\n",
    "for i in it_ciselnik1:\n",
    "    print(i)"
   ]
  },
  {
   "cell_type": "code",
   "execution_count": 140,
   "id": "5eeea2fe",
   "metadata": {
    "ExecuteTime": {
     "end_time": "2022-06-30T11:49:15.227452Z",
     "start_time": "2022-06-30T11:49:15.215405Z"
    }
   },
   "outputs": [
    {
     "name": "stdout",
     "output_type": "stream",
     "text": [
      "GC je zapnuty -->  True\n",
      "GC je zapnuty -->  False\n",
      "GC je zapnuty -->  True\n",
      "(147, 11, 15)\n",
      "[{'collections': 539, 'collected': 37155, 'uncollectable': 0}, {'collections': 48, 'collected': 91155, 'uncollectable': 0}, {'collections': 3, 'collected': 15598, 'uncollectable': 0}]\n"
     ]
    }
   ],
   "source": [
    "import gc\n",
    "# print(gc.__doc__)\n",
    "print(\"GC je zapnuty --> \", gc.isenabled())\n",
    "gc.disable()\n",
    "print(\"GC je zapnuty --> \", gc.isenabled())\n",
    "gc.enable()\n",
    "print(\"GC je zapnuty --> \", gc.isenabled())\n",
    "print(gc.get_count())\n",
    "print(gc.get_stats())\n"
   ]
  },
  {
   "cell_type": "code",
   "execution_count": 138,
   "id": "3cf692d7",
   "metadata": {
    "ExecuteTime": {
     "end_time": "2022-06-30T11:48:29.349686Z",
     "start_time": "2022-06-30T11:48:29.339689Z"
    }
   },
   "outputs": [
    {
     "name": "stdout",
     "output_type": "stream",
     "text": [
      "CPython\n",
      "3.9.7\n"
     ]
    }
   ],
   "source": [
    "import platform\n",
    "print(platform.python_implementation())\n",
    "print(platform.python_version())"
   ]
  },
  {
   "cell_type": "code",
   "execution_count": 147,
   "id": "d7bce91f",
   "metadata": {
    "ExecuteTime": {
     "end_time": "2022-06-30T11:58:40.102688Z",
     "start_time": "2022-06-30T11:58:40.080131Z"
    }
   },
   "outputs": [
    {
     "name": "stdout",
     "output_type": "stream",
     "text": [
      "1791341994176\n",
      "1791341994176\n",
      "Predtym\n",
      "True\n",
      "True\n",
      "Potom\n",
      "True\n",
      "False\n",
      "Cisla\n",
      "True\n",
      "True\n"
     ]
    },
    {
     "name": "stderr",
     "output_type": "stream",
     "text": [
      "<>:17: SyntaxWarning: \"is\" with a literal. Did you mean \"==\"?\n",
      "<>:17: SyntaxWarning: \"is\" with a literal. Did you mean \"==\"?\n",
      "C:\\Users\\ADMINI~1\\AppData\\Local\\Temp/ipykernel_26004/3841564597.py:17: SyntaxWarning: \"is\" with a literal. Did you mean \"==\"?\n",
      "  print(10**3 is 1000)\n"
     ]
    }
   ],
   "source": [
    "a = [0,1,2,3,4,5]\n",
    "b = a\n",
    "\n",
    "print(id(a))\n",
    "print(id(b))\n",
    "\n",
    "print(\"Predtym\")\n",
    "print(b == a)\n",
    "print(b is a)\n",
    "\n",
    "print(\"Potom\")\n",
    "b = a[:]\n",
    "print(b == a)\n",
    "print(b is a)\n",
    "\n",
    "print(\"Cisla\")\n",
    "print(10**3 is 1000)\n",
    "print(10**3 == 1000)"
   ]
  },
  {
   "cell_type": "code",
   "execution_count": null,
   "id": "8a52f5e3",
   "metadata": {},
   "outputs": [],
   "source": []
  }
 ],
 "metadata": {
  "kernelspec": {
   "display_name": "Python 3 (ipykernel)",
   "language": "python",
   "name": "python3"
  },
  "language_info": {
   "codemirror_mode": {
    "name": "ipython",
    "version": 3
   },
   "file_extension": ".py",
   "mimetype": "text/x-python",
   "name": "python",
   "nbconvert_exporter": "python",
   "pygments_lexer": "ipython3",
   "version": "3.9.7"
  },
  "toc": {
   "base_numbering": 1,
   "nav_menu": {},
   "number_sections": true,
   "sideBar": true,
   "skip_h1_title": false,
   "title_cell": "Table of Contents",
   "title_sidebar": "Contents",
   "toc_cell": false,
   "toc_position": {
    "height": "calc(100% - 180px)",
    "left": "10px",
    "top": "150px",
    "width": "261.113px"
   },
   "toc_section_display": true,
   "toc_window_display": false
  },
  "varInspector": {
   "cols": {
    "lenName": 16,
    "lenType": 16,
    "lenVar": 40
   },
   "kernels_config": {
    "python": {
     "delete_cmd_postfix": "",
     "delete_cmd_prefix": "del ",
     "library": "var_list.py",
     "varRefreshCmd": "print(var_dic_list())"
    },
    "r": {
     "delete_cmd_postfix": ") ",
     "delete_cmd_prefix": "rm(",
     "library": "var_list.r",
     "varRefreshCmd": "cat(var_dic_list()) "
    }
   },
   "oldHeight": 181.851,
   "position": {
    "height": "239.84px",
    "left": "618.611px",
    "right": "20px",
    "top": "21px",
    "width": "333px"
   },
   "types_to_exclude": [
    "module",
    "function",
    "builtin_function_or_method",
    "instance",
    "_Feature"
   ],
   "varInspector_section_display": "block",
   "window_display": true
  }
 },
 "nbformat": 4,
 "nbformat_minor": 5
}
