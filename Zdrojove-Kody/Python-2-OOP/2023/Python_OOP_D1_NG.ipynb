{
 "cells":[
  {
   "cell_type":"markdown",
   "source":[
    "# 🐍 Kurz Python Princípy OOP\n",
    "**🧑‍🏫 Lektor:** Miroslav Reiter  \n",
    "**📥 LinkedIn kontakt:** https:\/\/www.linkedin.com\/in\/miroslav-reiter\/  \n",
    "\n",
    "**✅ Osnova:** https:\/\/itkurzy.sav.sk\/node\/94   \n",
    "\n",
    "**🎞️ YouTube videá:** https:\/\/www.youtube.com\/c\/IT-AcademySK  \n",
    "**📇 Zdrojové kódy a materiály:** https:\/\/github.com\/miroslav-reiter\/Kurzy_SAV_Analytika_Python_R  \n",
    "\n",
    "**😊 Emojis:** Win + .  "
   ],
   "attachments":{
    
   },
   "metadata":{
    "datalore":{
     "node_id":"qRdXhRnZVVPQc9OEaStvFK",
     "type":"MD",
     "hide_input_from_viewers":false,
     "hide_output_from_viewers":false,
     "report_properties":{
      "rowId":"e3SflrAZQKNNp9Bvno12Hw"
     }
    }
   }
  },
  {
   "cell_type":"markdown",
   "source":[
    "## 🏘️🗃️ I. Premenné a Objekty\n",
    "Premenné = Primitívne objekty = Primitívy  \n",
    "* **Všetko v Pythone je v skutočnosti objekt**  \n",
    "* Každá entita má nejaké metadáta (nazývané atribúty) a súvisiace funkcie (nazývané metódy).   \n",
    "* K týmto atribútom a metódam sa pristupuje prostredníctvom bodkovej syntaxe. \n",
    "* Áno, aj čísla, funkcie, zlomky alebo moduly\n",
    "\n",
    "**Python využíva** na písanie programov **objektovo orientovaný programovania prístup** (OOP).   \n",
    "**Procedurálne programovanie** je orientované na procedúry a využíva funkcie\/definície (def).  \n",
    "**Objektovo orientované programovanie** (OOP) používa **objekty**.\n",
    "\n",
    "### IntelliSense: Ctrl + Enter"
   ],
   "attachments":{
    
   },
   "metadata":{
    "datalore":{
     "node_id":"JUfWMCHKoqfIN5eNYzWbKA",
     "type":"MD",
     "hide_input_from_viewers":false,
     "hide_output_from_viewers":false,
     "report_properties":{
      "rowId":"e3SflrAZQKNNp9Bvno12Hw"
     }
    }
   }
  },
  {
   "cell_type":"code",
   "source":[
    
   ],
   "execution_count":1,
   "outputs":[
    {
     "name":"stdout",
     "text":[
      "DataloreMetric\t SQLError\t a\t b\t c\t d\t e\t f\t g\t \n",
      "h\t json\t logging\t os\t \n"
     ],
     "output_type":"stream"
    }
   ],
   "metadata":{
    "datalore":{
     "node_id":"RQ2tdP345DBalX4VWLv9Qi",
     "type":"CODE",
     "hide_input_from_viewers":false,
     "hide_output_from_viewers":false,
     "report_properties":{
      "rowId":"e3SflrAZQKNNp9Bvno12Hw"
     }
    }
   }
  },
  {
   "cell_type":"markdown",
   "source":[
    "## 📔📓 II. Objekty\n",
    "**Objekt** = **Podstatné meno**  \n",
    "Objekty sú súborom dát a metód, ktoré fungujú na základe údajov, ktoré uchovávajú. Dáta si môžete predstaviť ako premenné a metódy vytvárajú funkcionalitu.  \n",
    "\n",
    "### Príklady\n",
    "Objekty = ...\n",
    "\n",
    "### Z čoho je objekt zložený\/čo obsahuje:\n",
    "1. Stavy\/**Atributy**\/Vlastnosti\/Datove Zlozky\/Data:  \n",
    "...\n",
    "2. Chovanie\/Spravanie - Def\/Funkcie\/**Metody** - Slovesa:   \n",
    "   ... "
   ],
   "attachments":{
    
   },
   "metadata":{
    "datalore":{
     "node_id":"ekNUYv2IgEBdllCBSjmsI6",
     "type":"MD",
     "hide_input_from_viewers":false,
     "hide_output_from_viewers":false,
     "report_properties":{
      "rowId":"e3SflrAZQKNNp9Bvno12Hw"
     }
    }
   }
  },
  {
   "cell_type":"markdown",
   "source":[
    "\n",
    "   \n",
    "Zapisnik Journal  \n",
    "farba = ciernu  \n",
    "sirka, vyska = 20, 30  \n",
    "pocet_listov = 80   \n",
    "robit_poznamky()  \n"
   ],
   "attachments":{
    
   },
   "metadata":{
    "datalore":{
     "node_id":"0G7vA4ayiubp0mvZplhfFf",
     "type":"MD",
     "hide_input_from_viewers":false,
     "hide_output_from_viewers":false,
     "report_properties":{
      "rowId":"e3SflrAZQKNNp9Bvno12Hw"
     }
    }
   }
  },
  {
   "cell_type":"markdown",
   "source":[
    "## 🐕 III. Triedy (Classes)\n",
    "V OOP píšete triedy, ktoré reprezentujú veci a situácie v reálnom svete.\n",
    "Trieda slúži ako plán (blueprint) na vytváranie objektov.  \n",
    "Vytvárate objekty založené na triedach. \n",
    "\n",
    "* Manual\/navod ako vytvorit objekty\n",
    "* Trieda (abstraktne) - blueprinty\n",
    "* Objekt (konkretne) - instancie triedy"
   ],
   "attachments":{
    
   },
   "metadata":{
    "datalore":{
     "node_id":"F0p9TONJsKda7z9HNqiVLB",
     "type":"MD",
     "hide_input_from_viewers":false,
     "hide_output_from_viewers":false,
     "report_properties":{
      "rowId":"e3SflrAZQKNNp9Bvno12Hw"
     }
    }
   }
  },
  {
   "cell_type":"code",
   "source":[
    "# Trieda"
   ],
   "execution_count":2,
   "outputs":[
    {
     "name":"stdout",
     "text":[
      "Meno psika pred priradenim: \n",
      "Meno psika po priradeni: Luigi\n",
      "\n",
      "Rasa psika pred priradenim: \n",
      "Meno psika po priradeni: Pomik\n",
      "Lezi a je mu dobre...\n",
      "Spi...\n",
      "Ako sa vola --> Luigi\n",
      "Je lenivy --> False\n",
      "Kolko ma rokov --> 0\n",
      "\n",
      "Po priradenie veku:\n",
      "Ako sa vola --> Luigi\n",
      "Je lenivy --> False\n",
      "Kolko ma rokov --> 1\n",
      "\n",
      "2. objekt mario:\n",
      "Ako sa vola --> Mario\n",
      "Je lenivy --> True\n",
      "Kolko ma rokov --> 1\n"
     ],
     "output_type":"stream"
    }
   ],
   "metadata":{
    "datalore":{
     "node_id":"V1qtio03ud4kzH2tFxRwCH",
     "type":"CODE",
     "hide_input_from_viewers":false,
     "hide_output_from_viewers":false,
     "report_properties":{
      "rowId":"e3SflrAZQKNNp9Bvno12Hw"
     }
    }
   }
  },
  {
   "cell_type":"markdown",
   "source":[
    "## 📘 IV. Objekty, id, __str__, mutovatelnost\/nemutovatelnost\n",
    "* Príklady mutable objektov: list, set, dict, byte array  \n",
    "* Príklady immutable objektov: number (int, float, complex), string, tuple, frozen set, bytes"
   ],
   "attachments":{
    
   },
   "metadata":{
    "datalore":{
     "node_id":"PjrSyITUWLIhGaXHwNV29o",
     "type":"MD",
     "hide_input_from_viewers":false,
     "hide_output_from_viewers":false,
     "report_properties":{
      "rowId":"e3SflrAZQKNNp9Bvno12Hw"
     }
    }
   }
  },
  {
   "cell_type":"code",
   "source":[
    
   ],
   "execution_count":3,
   "outputs":[
    {
     "name":"stdout",
     "text":[
      "Nazov --> Uvod do Kreativity\n",
      "ISBN --> 66546546\n",
      "Pocet stran --> 500\n",
      "Nazov --> Kreativita pre pokrocilych\n",
      "ISBN --> 87985464\n",
      "Pocet stran --> 300\n",
      "\n",
      "Objekt 1: 140001401235200\n",
      "Objekt 2: 140001401234144\n",
      "Objekt 3: 140001401234048\n",
      "\n",
      "Su rovnake objekty 02 a 03: False\n",
      "Su rovnake objekty 02 a 03: True\n",
      "Nazov --> Kreativita pre pokrocilych\n",
      "ISBN --> 87985464\n",
      "Pocet stran --> 300\n",
      "\n",
      "IS Su rovnake objekty 02 a 03: True\n",
      "Su rovnake objekty 02 a 03: True\n",
      "\n",
      "Nazov 02:  Nova Kreativita 2022\n",
      "Nazov 03:  Nova Kreativita 2022\n",
      "obj 01:  Nazov --> Uvod do Kreativity ISBN --> 66546546 Pocet stran --> 500\n",
      "obj 02:  Nazov --> Nova Kreativita 2022 ISBN --> 87985464 Pocet stran --> 300\n",
      "obj 03:  Nazov --> Nova Kreativita 2022 ISBN --> 87985464 Pocet stran --> 300\n"
     ],
     "output_type":"stream"
    }
   ],
   "metadata":{
    "datalore":{
     "node_id":"pmgIhNOdrC0OqASjYU5YpM",
     "type":"CODE",
     "hide_input_from_viewers":false,
     "hide_output_from_viewers":false,
     "report_properties":{
      "rowId":"e3SflrAZQKNNp9Bvno12Hw"
     }
    }
   }
  },
  {
   "cell_type":"markdown",
   "source":[
    "## 🧑‍🔬 V. Konštruktory (__init__) a del + datetime"
   ],
   "attachments":{
    
   },
   "metadata":{
    "datalore":{
     "node_id":"BvTjSg3PfZMnVzYlbyhH17",
     "type":"MD",
     "hide_input_from_viewers":false,
     "hide_output_from_viewers":false,
     "report_properties":{
      "rowId":"e3SflrAZQKNNp9Bvno12Hw"
     }
    }
   }
  },
  {
   "cell_type":"code",
   "source":[
    
   ],
   "execution_count":5,
   "outputs":[
    {
     "name":"stdout",
     "text":[
      "1. byt\n",
      "Hura som v konstruktore, objekt byt je vytvoreny...\n",
      "2. byt\n",
      "Hura som v konstruktore, objekt byt je vytvoreny...\n",
      "3. byt\n",
      "Hura som v konstruktore, objekt byt je vytvoreny...\n",
      "\n",
      "Hura som v destruktore, objekt byt je zruseny...\n",
      "2023-03-21 21:12:25.657711  -  <class '__main__.Byt'>  vymazany objekt...\n",
      "\n",
      "Hura som v destruktore, objekt byt je zruseny...\n",
      "2023-03-21 21:12:25.657815  -  <class '__main__.Byt'>  vymazany objekt...\n",
      "\n",
      "Hura som v destruktore, objekt byt je zruseny...\n",
      "2023-03-21 21:12:25.658013  -  <class '__main__.Byt'>  vymazany objekt...\n"
     ],
     "output_type":"stream"
    }
   ],
   "metadata":{
    "datalore":{
     "node_id":"H8Vu2FMxeMRCttEfKJcv9T",
     "type":"CODE",
     "hide_input_from_viewers":false,
     "hide_output_from_viewers":false,
     "report_properties":{
      "rowId":"e3SflrAZQKNNp9Bvno12Hw"
     }
    }
   }
  },
  {
   "cell_type":"markdown",
   "source":[
    "## 🔒 Modifikátory Prístupu"
   ],
   "attachments":{
    
   },
   "metadata":{
    "datalore":{
     "node_id":"Q7UJbrq93qniEgqJnFoTiy",
     "type":"MD",
     "hide_input_from_viewers":true,
     "hide_output_from_viewers":true
    }
   }
  },
  {
   "cell_type":"code",
   "source":[
    
   ],
   "execution_count":6,
   "outputs":[
    {
     "name":"stdout",
     "text":[
      "Stvoril som cloveka s menom: Adam a s priezviskom: Sangala\n",
      "Email je info@abc.sk\n",
      "Stvoril som cloveka s menom: Eva a s priezviskom: Sangalova\n",
      "Email je info@abc.sk\n",
      "Stvoril som cloveka s menom: Peter a s priezviskom: Rychly\n",
      "Email je info@abc.sk\n",
      "Stvoril som cloveka s menom: Milan a s priezviskom: Rychly\n",
      "Email je info@abc.sk\n",
      "Stvoril som cloveka s menom: Peter a s priezviskom: Dlhy\n",
      "Email je info@abc.sk\n",
      "Stvoril som cloveka s menom: Ivan a s priezviskom: Hrozny\n",
      "Email je info@abc.sk\n",
      "\n",
      "    Toto je clovek...\n",
      "    Docstring\n",
      "    \n",
      "    \n"
     ],
     "output_type":"stream"
    }
   ],
   "metadata":{
    "datalore":{
     "node_id":"zfviDIJSVPfgzJsQN7Cmpz",
     "type":"CODE",
     "hide_input_from_viewers":false,
     "hide_output_from_viewers":false,
     "report_properties":{
      "rowId":"e3SflrAZQKNNp9Bvno12Hw"
     }
    }
   }
  },
  {
   "cell_type":"markdown",
   "source":[
    "# Príklady z Praxe OOP"
   ],
   "attachments":{
    
   },
   "metadata":{
    "datalore":{
     "node_id":"A2HCi5l3ziRYBargIO6emM",
     "type":"MD",
     "hide_input_from_viewers":true,
     "hide_output_from_viewers":true
    }
   }
  },
  {
   "cell_type":"markdown",
   "source":[
    "## Tabuľky (prettytable)"
   ],
   "attachments":{
    
   },
   "metadata":{
    "datalore":{
     "node_id":"UfALBl7D0WoPOPPstUpDai",
     "type":"MD",
     "hide_input_from_viewers":true,
     "hide_output_from_viewers":true
    }
   }
  },
  {
   "cell_type":"code",
   "source":[
    "#!pip install prettytable"
   ],
   "execution_count":7,
   "outputs":[
    {
     "ename":"ModuleNotFoundError",
     "evalue":"ModuleNotFoundError: No module named 'prettytable'",
     "traceback":[
      "\u001b[0;31m---------------------------------------------------------------------------",
      "Traceback (most recent call last)",
      "    at line 3 in <module>",
      "ModuleNotFoundError: No module named 'prettytable'"
     ],
     "output_type":"error"
    }
   ],
   "metadata":{
    "datalore":{
     "node_id":"9botSW2S3M661qYFAWTvoX",
     "type":"CODE",
     "hide_input_from_viewers":false,
     "hide_output_from_viewers":false,
     "report_properties":{
      "rowId":"e3SflrAZQKNNp9Bvno12Hw"
     }
    }
   }
  },
  {
   "cell_type":"code",
   "source":[
    "#!pip install prettytable\n"
   ],
   "execution_count":null,
   "outputs":[
    {
     "data":{
      "text\/html":[
       "<table>\n",
       "    <thead>\n",
       "        <tr>\n",
       "            <th>Meno<\/th>\n",
       "            <th>Priezvisko<\/th>\n",
       "            <th>Vek<\/th>\n",
       "            <th>Vyska<\/th>\n",
       "        <\/tr>\n",
       "    <\/thead>\n",
       "    <tbody>\n",
       "        <tr>\n",
       "            <td>Adam<\/td>\n",
       "            <td>Sangala<\/td>\n",
       "            <td>35<\/td>\n",
       "            <td>198.53<\/td>\n",
       "        <\/tr>\n",
       "        <tr>\n",
       "            <td>Eva<\/td>\n",
       "            <td>Sangalova<\/td>\n",
       "            <td>32<\/td>\n",
       "            <td>198.53<\/td>\n",
       "        <\/tr>\n",
       "        <tr>\n",
       "            <td>Peter<\/td>\n",
       "            <td>Sangala<\/td>\n",
       "            <td>29<\/td>\n",
       "            <td>198.53<\/td>\n",
       "        <\/tr>\n",
       "    <\/tbody>\n",
       "<\/table>"
      ]
     },
     "metadata":{
      
     },
     "output_type":"display_data"
    }
   ],
   "metadata":{
    "datalore":{
     "node_id":"HBvne568wJVA5weCFCk1R1",
     "type":"CODE",
     "hide_input_from_viewers":false,
     "hide_output_from_viewers":false,
     "report_properties":{
      "rowId":"e3SflrAZQKNNp9Bvno12Hw"
     }
    }
   }
  },
  {
   "cell_type":"markdown",
   "source":[
    "## 🧾 GUI Formuláre (Graphical User Interface)"
   ],
   "attachments":{
    
   },
   "metadata":{
    "datalore":{
     "node_id":"uWlGxGTRXfJXMQoQERJdLZ",
     "type":"MD",
     "hide_input_from_viewers":true,
     "hide_output_from_viewers":true
    }
   }
  },
  {
   "cell_type":"code",
   "source":[
    "txt_meno = \"Eva\""
   ],
   "execution_count":null,
   "outputs":[
    
   ],
   "metadata":{
    "datalore":{
     "node_id":"ORbtkucIdvAEmbpQlKXYIN",
     "type":"CONTROL",
     "hide_input_from_viewers":false,
     "hide_output_from_viewers":false,
     "report_properties":{
      "rowId":"e3SflrAZQKNNp9Bvno12Hw"
     },
     "controls_state":[
      {
       "type":"INPUT",
       "label":"Meno:",
       "variable":"txt_meno",
       "value":"Eva",
       "multiline":false
      }
     ]
    }
   }
  },
  {
   "cell_type":"code",
   "source":[
    "print(f\"Ahoj {txt_meno}\")"
   ],
   "execution_count":null,
   "outputs":[
    {
     "name":"stdout",
     "text":[
      "Ahoj Eva\n"
     ],
     "output_type":"stream"
    }
   ],
   "metadata":{
    "datalore":{
     "node_id":"uqrdmzc0n0RZf0IbRdqa3v",
     "type":"CODE",
     "hide_input_from_viewers":false,
     "hide_output_from_viewers":false,
     "report_properties":{
      "rowId":"e3SflrAZQKNNp9Bvno12Hw"
     }
    }
   }
  },
  {
   "cell_type":"code",
   "source":[
    "dpw_farba_tricka = \"Modra\""
   ],
   "execution_count":null,
   "outputs":[
    
   ],
   "metadata":{
    "datalore":{
     "node_id":"bOpqqosGrkWhd8RKIE9XA6",
     "type":"CONTROL",
     "hide_input_from_viewers":false,
     "hide_output_from_viewers":false,
     "report_properties":{
      "rowId":"e3SflrAZQKNNp9Bvno12Hw"
     },
     "controls_state":[
      {
       "type":"DROPDOWN",
       "label":"Farba tricka:",
       "variable":"dpw_farba_tricka",
       "value":"Modra",
       "values":[
        
       ],
       "items":[
        "Cierna",
        "Zelena",
        "Modra"
       ],
       "multiselect":false
      }
     ]
    }
   }
  },
  {
   "cell_type":"code",
   "source":[
    "print(f\"Vybral si si: {dpw_farba_tricka}\")"
   ],
   "execution_count":null,
   "outputs":[
    {
     "name":"stdout",
     "text":[
      "Vybral si si: Modra\n"
     ],
     "output_type":"stream"
    }
   ],
   "metadata":{
    "datalore":{
     "node_id":"dF0x8DAothXBswRNnNUGXN",
     "type":"CODE",
     "hide_input_from_viewers":false,
     "hide_output_from_viewers":false,
     "report_properties":{
      "rowId":"e3SflrAZQKNNp9Bvno12Hw"
     }
    }
   }
  }
 ],
 "metadata":{
  "kernelspec":{
   "display_name":"Python",
   "language":"python",
   "name":"python"
  },
  "datalore":{
   "computation_mode":"REACTIVE",
   "package_manager":"pip",
   "base_environment":"default",
   "packages":[
    
   ],
   "report_row_ids":[
    "e3SflrAZQKNNp9Bvno12Hw"
   ],
   "version":2
  }
 },
 "nbformat":4,
 "nbformat_minor":4
}