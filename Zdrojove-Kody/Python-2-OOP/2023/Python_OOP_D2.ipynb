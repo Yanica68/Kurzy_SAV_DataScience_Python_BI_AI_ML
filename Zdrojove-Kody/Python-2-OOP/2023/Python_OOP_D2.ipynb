{
 "cells":[
  {
   "cell_type":"markdown",
   "source":[
    "# 🐍 Kurz Python Princípy OOP\n",
    "**🧑‍🏫 Lektor:** Miroslav Reiter  \n",
    "**📥 LinkedIn kontakt:** https:\/\/www.linkedin.com\/in\/miroslav-reiter\/  \n",
    "\n",
    "**✅ Osnova:** https:\/\/itkurzy.sav.sk\/node\/94   \n",
    "\n",
    "**🎞️ YouTube videá:** https:\/\/www.youtube.com\/c\/IT-AcademySK  \n",
    "**📇 Zdrojové kódy a materiály:** https:\/\/github.com\/miroslav-reiter\/Kurzy_SAV_Analytika_Python_R  \n",
    "\n",
    "**😊 Emojis:** Win + .  "
   ],
   "attachments":{
    
   },
   "metadata":{
    "datalore":{
     "node_id":"qRdXhRnZVVPQc9OEaStvFK",
     "type":"MD",
     "hide_input_from_viewers":false,
     "hide_output_from_viewers":false,
     "report_properties":{
      "rowId":"IX1cz5DYqo21Yt1Me23rGR",
      "x":0,
      "relativeY":0,
      "height":6
     }
    }
   }
  },
  {
   "cell_type":"markdown",
   "source":[
    "## 🦁🐆 I. Dedičnosť (Generalizácia is-a) Inheritance\n",
    "Rodicovska trieda\/parent class  \n",
    "Nadradena trieda\/sup class  \n",
    "Bazova trieda\/base class  "
   ],
   "attachments":{
    
   },
   "metadata":{
    "datalore":{
     "node_id":"7ZQDC1cfjTY8q4fL5L2fy3",
     "type":"MD",
     "hide_input_from_viewers":true,
     "hide_output_from_viewers":true,
     "report_properties":{
      "rowId":"IX1cz5DYqo21Yt1Me23rGR"
     }
    }
   }
  },
  {
   "cell_type":"code",
   "source":[
    "# Rodicovska trieda\/parent class\n",
    "# Nadradena trieda\/sup class\n",
    "# Bazova trieda\/base class"
   ],
   "execution_count":1,
   "outputs":[
    {
     "name":"stdout",
     "text":[
      "\n",
      "Vseobecne zviera:\n",
      "zviera01: Meno je: , ma farbu: ['cierna', 'biela', 'hneda'], pocet noh je: 0, ma druh: \n",
      "Hybem sa...\n",
      "\n",
      "Lev Simba:\n",
      "Bezi...\n"
     ],
     "output_type":"stream"
    }
   ],
   "metadata":{
    "datalore":{
     "node_id":"UpBBeRgCzPpVV8tQa2Uvv8",
     "type":"CODE",
     "hide_input_from_viewers":true,
     "hide_output_from_viewers":true,
     "report_properties":{
      "rowId":"IX1cz5DYqo21Yt1Me23rGR"
     }
    }
   }
  },
  {
   "cell_type":"markdown",
   "source":[
    "## 🧑‍🏫 II. isinstance a issubclass"
   ],
   "attachments":{
    
   },
   "metadata":{
    "datalore":{
     "node_id":"13iGea8JlzKNWqIVQz8YiN",
     "type":"MD",
     "hide_input_from_viewers":true,
     "hide_output_from_viewers":true
    }
   }
  },
  {
   "cell_type":"code",
   "source":[
    
   ],
   "execution_count":null,
   "outputs":[
    
   ],
   "metadata":{
    "datalore":{
     "node_id":"4tmiBxM2FURRD1DvVjxMnW",
     "type":"CODE",
     "hide_input_from_viewers":true,
     "hide_output_from_viewers":true
    }
   }
  },
  {
   "cell_type":"markdown",
   "source":[
    "## 👨‍👩‍👦 III. Viacnasobná Dedičnosť (Multiple Inheritance)\n",
    "MRO Method Resolution Order"
   ],
   "attachments":{
    
   },
   "metadata":{
    "datalore":{
     "node_id":"AhN8aG7Mx3gbNtKayAhEas",
     "type":"MD",
     "hide_input_from_viewers":true,
     "hide_output_from_viewers":true,
     "report_properties":{
      "rowId":"IX1cz5DYqo21Yt1Me23rGR"
     }
    }
   }
  },
  {
   "cell_type":"code",
   "source":[
    
   ],
   "execution_count":null,
   "outputs":[
    
   ],
   "metadata":{
    "datalore":{
     "node_id":"uLeInAkoo85mdtZ4HKbIgi",
     "type":"CODE",
     "hide_input_from_viewers":true,
     "hide_output_from_viewers":true,
     "report_properties":{
      "rowId":"IX1cz5DYqo21Yt1Me23rGR"
     }
    }
   }
  },
  {
   "cell_type":"code",
   "source":[
    
   ],
   "execution_count":3,
   "outputs":[
    
   ],
   "metadata":{
    "datalore":{
     "node_id":"wDpy6Z37lLqRZ74sUQTCcs",
     "type":"CODE",
     "hide_input_from_viewers":true,
     "hide_output_from_viewers":true,
     "report_properties":{
      "rowId":"IX1cz5DYqo21Yt1Me23rGR"
     }
    }
   }
  },
  {
   "cell_type":"code",
   "source":[
    
   ],
   "execution_count":6,
   "outputs":[
    
   ],
   "metadata":{
    "datalore":{
     "node_id":"TRrWKFHp9bTAjDDvXk6Rsu",
     "type":"CODE",
     "hide_input_from_viewers":true,
     "hide_output_from_viewers":true,
     "report_properties":{
      "rowId":"IX1cz5DYqo21Yt1Me23rGR"
     }
    }
   }
  },
  {
   "cell_type":"markdown",
   "source":[
    "## 🔒 Modifikátory Prístupu"
   ],
   "attachments":{
    
   },
   "metadata":{
    "datalore":{
     "node_id":"eW5sP5Zz9rkAmmyqsyIRJB",
     "type":"MD",
     "hide_input_from_viewers":true,
     "hide_output_from_viewers":true
    }
   }
  },
  {
   "cell_type":"code",
   "source":[
    
   ],
   "execution_count":null,
   "outputs":[
    
   ],
   "metadata":{
    "datalore":{
     "node_id":"uMCjPf47OScdjzmGFdvyUa",
     "type":"CODE",
     "hide_input_from_viewers":true,
     "hide_output_from_viewers":true
    }
   }
  },
  {
   "cell_type":"markdown",
   "source":[
    "## 📓 Kompozícia (Composition) has-a\n",
    "Kompozitna (Composite class)  \n",
    "Komponent (Component class)  "
   ],
   "attachments":{
    
   },
   "metadata":{
    "datalore":{
     "node_id":"5PpOEdBsoUdIrUggs3AZ5s",
     "type":"MD",
     "hide_input_from_viewers":false,
     "hide_output_from_viewers":false,
     "report_properties":{
      "rowId":"IX1cz5DYqo21Yt1Me23rGR",
      "x":0,
      "relativeY":6,
      "width":0.5,
      "height":6
     }
    }
   }
  },
  {
   "cell_type":"code",
   "source":[
    
   ],
   "execution_count":null,
   "outputs":[
    
   ],
   "metadata":{
    "datalore":{
     "node_id":"rd2anOubzkBLSFMHim2OpX",
     "type":"CODE",
     "hide_input_from_viewers":true,
     "hide_output_from_viewers":true
    }
   }
  },
  {
   "cell_type":"markdown",
   "source":[
    "## 🆔 IV. Identita  \n",
    "objekt.atribut   \n",
    "objekt.metoda() \n",
    "Trieda.atribut   \n",
    "\n",
    "**objekt.atribut**\n",
    "karol.rum  \n",
    "karol.pivo  \n",
    "karol.sangala.rum  \n",
    "karol.sangala.senior.rum  \n",
    "\n",
    "**objekt.metoda()**  \n",
    "karol.zaplat()  \n",
    "karol.pod()  \n",
    "karol.sangala.zaplat()\n",
    "karol.sangala.senior.zaplat()"
   ],
   "attachments":{
    
   },
   "metadata":{
    "datalore":{
     "node_id":"wiBb5cb8f2EFNaGsB8gc7J",
     "type":"MD",
     "hide_input_from_viewers":true,
     "hide_output_from_viewers":true,
     "report_properties":{
      "rowId":"MmoOcJ4U00cyd3XmBOapen"
     }
    }
   }
  },
  {
   "cell_type":"markdown",
   "source":[
    "## 🧊 V. Polymorfizmus (Mnohotvarost)"
   ],
   "attachments":{
    
   },
   "metadata":{
    "datalore":{
     "node_id":"D8y3EJcshsJh8s3lSe3lnk",
     "type":"MD",
     "hide_input_from_viewers":true,
     "hide_output_from_viewers":true
    }
   }
  },
  {
   "cell_type":"code",
   "source":[
    
   ],
   "execution_count":8,
   "outputs":[
    {
     "name":"stdout",
     "text":[
      "Objem kocky 1: 125.0 m^3\n",
      "Objem kocky 2: 1000.0 m^3\n",
      "Objem gula 1: 523.5987755982989 m^3\n",
      "Objem gula 2: 4188.790204786391 m^3\n"
     ],
     "output_type":"stream"
    }
   ],
   "metadata":{
    "datalore":{
     "node_id":"EUTYELfaaHnKF31Dt1FV8e",
     "type":"CODE",
     "hide_input_from_viewers":true,
     "hide_output_from_viewers":true
    }
   }
  },
  {
   "cell_type":"code",
   "source":[
    
   ],
   "execution_count":null,
   "outputs":[
    
   ],
   "metadata":{
    "datalore":{
     "node_id":"FMfyfw39J7df6zSPAV6UYA",
     "type":"CODE",
     "hide_input_from_viewers":true,
     "hide_output_from_viewers":true
    }
   }
  },
  {
   "cell_type":"markdown",
   "source":[
    "## 💀 VI. Raise vyvolanie chyb\/vynimiek\n",
    "raise ArithmeticError(\"Nastala chyba vypoctu\")  \n",
    "raise AttributeError(\"Chyba ti prislusny atribut\")  "
   ],
   "attachments":{
    
   },
   "metadata":{
    "datalore":{
     "node_id":"ydZacnCriYnCrBquLFWEoV",
     "type":"MD",
     "hide_input_from_viewers":true,
     "hide_output_from_viewers":true
    }
   }
  },
  {
   "cell_type":"code",
   "source":[
    
   ],
   "execution_count":15,
   "outputs":[
    {
     "ename":"ModuleNotFoundError",
     "evalue":"ModuleNotFoundError: Chyba ti prislusny modul",
     "traceback":[
      "\u001b[0;31m---------------------------------------------------------------------------",
      "Traceback (most recent call last)",
      "    at line 3 in <module>",
      "ModuleNotFoundError: Chyba ti prislusny modul"
     ],
     "output_type":"error"
    }
   ],
   "metadata":{
    "datalore":{
     "node_id":"kQRfgpZyxjxOHiWJbtcK2b",
     "type":"CODE",
     "hide_input_from_viewers":true,
     "hide_output_from_viewers":true
    }
   }
  },
  {
   "cell_type":"code",
   "source":[
    
   ],
   "execution_count":null,
   "outputs":[
    
   ],
   "metadata":{
    "datalore":{
     "node_id":"XIQ5HhLhT8tdhcdOovNsZT",
     "type":"CODE",
     "hide_input_from_viewers":true,
     "hide_output_from_viewers":true
    }
   }
  },
  {
   "cell_type":"code",
   "source":[
    
   ],
   "execution_count":null,
   "outputs":[
    
   ],
   "metadata":{
    "datalore":{
     "node_id":"4ig85lI46jBS4DfTpZ6BXO",
     "type":"CODE",
     "hide_input_from_viewers":true,
     "hide_output_from_viewers":true
    }
   }
  }
 ],
 "metadata":{
  "kernelspec":{
   "display_name":"Python",
   "language":"python",
   "name":"python"
  },
  "datalore":{
   "computation_mode":"REACTIVE",
   "package_manager":"pip",
   "base_environment":"default",
   "packages":[
    
   ],
   "report_row_ids":[
    "IX1cz5DYqo21Yt1Me23rGR",
    "MmoOcJ4U00cyd3XmBOapen"
   ],
   "version":2
  }
 },
 "nbformat":4,
 "nbformat_minor":4
}