{
 "cells":[
  {
   "cell_type":"markdown",
   "source":[
    "# 🐍 Kurz Python Princípy OOP\n",
    "**🧑‍🏫 Lektor:** Miroslav Reiter  \n",
    "**📥 LinkedIn kontakt:** https:\/\/www.linkedin.com\/in\/miroslav-reiter\/  \n",
    "\n",
    "**✅ Osnova:** https:\/\/itkurzy.sav.sk\/node\/94   \n",
    "\n",
    "**🎞️ YouTube videá:** https:\/\/www.youtube.com\/c\/IT-AcademySK  \n",
    "**📇 Zdrojové kódy a materiály:** https:\/\/github.com\/miroslav-reiter\/Kurzy_SAV_Analytika_Python_R  \n",
    "\n",
    "**😊 Emojis:** Win + .  "
   ],
   "attachments":{
    
   },
   "metadata":{
    "datalore":{
     "node_id":"qRdXhRnZVVPQc9OEaStvFK",
     "type":"MD",
     "hide_input_from_viewers":false,
     "hide_output_from_viewers":false,
     "report_properties":{
      "rowId":"e3SflrAZQKNNp9Bvno12Hw"
     }
    }
   }
  },
  {
   "cell_type":"markdown",
   "source":[
    "## 🏘️🗃️ I. Premenné a Objekty\n",
    "Premenné = Primitívne objekty = Primitívy  \n",
    "* **Všetko v Pythone je v skutočnosti objekt**  \n",
    "* Každá entita má nejaké metadáta (nazývané atribúty) a súvisiace funkcie (nazývané metódy).   \n",
    "* K týmto atribútom a metódam sa pristupuje prostredníctvom bodkovej syntaxe. \n",
    "* Áno, aj čísla, funkcie, zlomky alebo moduly\n",
    "\n",
    "**Python využíva** na písanie programov **objektovo orientovaný programovania prístup** (OOP).   \n",
    "**Procedurálne programovanie** je orientované na procedúry a využíva funkcie\/definície (def).  \n",
    "**Objektovo orientované programovanie** (OOP) používa **objekty**.\n",
    "\n",
    "### IntelliSense: Ctrl + Enter"
   ],
   "attachments":{
    
   },
   "metadata":{
    "datalore":{
     "node_id":"JUfWMCHKoqfIN5eNYzWbKA",
     "type":"MD",
     "hide_input_from_viewers":false,
     "hide_output_from_viewers":false,
     "report_properties":{
      "rowId":"e3SflrAZQKNNp9Bvno12Hw"
     }
    }
   }
  },
  {
   "cell_type":"code",
   "source":[
    "a = \"Kurz Python OOP Principy\"\n",
    "# Cele\n",
    "b = 2\n",
    "# Realne\n",
    "c = 5.58\n",
    "d = True\n",
    "e = None\n",
    "# Complex\n",
    "f = 5 + 2j\n",
    "# Bajty\n",
    "g = b\"Ahoj\"\n",
    "h = memoryview(bytes(4))\n",
    "import datetime\n",
    "i = datetime.datetime.now()\n",
    "print(f\"Dnes je: {i}\")\n",
    "\n",
    "# Zoznam (list)\n",
    "j = [\"Patricia\", \"Miroslav\", \"Maria\", \"Emilia\"]\n",
    "\n",
    "# tice (tupple) ()\n",
    "k = (5, 8, 9, 6)\n",
    "\n",
    "# Slovnik (dict) {kluc:hodnota} {key:value}\n",
    "l = {\"programator\":\"Jaro\", \"analytik\":\"Monika\"}\n",
    "\n",
    "# Mnozina (set) {hodnoty\/kluce}\n",
    "l = {\"programator\", \"analytik\"}\n",
    "\n",
    "# Zoznam objektov\/premenne\n",
    "# %who\n",
    "# %whos\n",
    "%who_ls"
   ],
   "execution_count":4,
   "outputs":[
    {
     "name":"stdout",
     "text":[
      "Dnes je: 2023-03-22 08:58:20.824321\n"
     ],
     "output_type":"stream"
    },
    {
     "data":{
      "text\/plain":[
       "['DataloreMetric',\n",
       " 'SQLError',\n",
       " 'a',\n",
       " 'b',\n",
       " 'c',\n",
       " 'd',\n",
       " 'datetime',\n",
       " 'e',\n",
       " 'f',\n",
       " 'g',\n",
       " 'h',\n",
       " 'i',\n",
       " 'j',\n",
       " 'json',\n",
       " 'k',\n",
       " 'l',\n",
       " 'logging',\n",
       " 'os']"
      ]
     },
     "metadata":{
      
     },
     "output_type":"display_data"
    }
   ],
   "metadata":{
    "datalore":{
     "node_id":"RQ2tdP345DBalX4VWLv9Qi",
     "type":"CODE",
     "hide_input_from_viewers":false,
     "hide_output_from_viewers":false,
     "report_properties":{
      "rowId":"e3SflrAZQKNNp9Bvno12Hw"
     }
    }
   }
  },
  {
   "cell_type":"markdown",
   "source":[
    "## 📔📓 II. Objekty\n",
    "**Objekt** = **Podstatné meno**  \n",
    "Objekty sú súborom dát a metód, ktoré fungujú na základe údajov, ktoré uchovávajú. Dáta si môžete predstaviť ako premenné a metódy vytvárajú funkcionalitu.  \n",
    "\n",
    "### Príklady\n",
    "Objekty   \n",
    "* strom lipa,   \n",
    "* zalohova faktura,   \n",
    "* kniha coelho,   \n",
    "* film kocur v cizman,   \n",
    "* kurz python oop  \n",
    "\n",
    "### Z čoho je objekt zložený\/čo obsahuje:\n",
    "1. Stavy\/**Atributy**\/Vlastnosti\/Datove Zlozky\/Data:  \n",
    "...\n",
    "2. Chovanie\/Spravanie - Def\/Funkcie\/**Metody** - Slovesa:   \n",
    "   ... "
   ],
   "attachments":{
    
   },
   "metadata":{
    "datalore":{
     "node_id":"ekNUYv2IgEBdllCBSjmsI6",
     "type":"MD",
     "hide_input_from_viewers":false,
     "hide_output_from_viewers":false,
     "report_properties":{
      "rowId":"e3SflrAZQKNNp9Bvno12Hw"
     }
    }
   }
  },
  {
   "cell_type":"markdown",
   "source":[
    "\n",
    "1. objekt = Zapisnik Journal  \n",
    "# Vlastnosti\/Atributy\/Datove zlozky - (podstatne, pridavne, cislovky, kombinacia)\n",
    "farba = ciernu  \n",
    "sirka, vyska = 20, 30  \n",
    "pocet_listov = 80   \n",
    "\n",
    "# Chovanie\/Spravanie\/Metody (def) - (slovesa)\n",
    "robit_poznamky()  \n",
    "vloz_zalozku()\n",
    "\n",
    "2. objekt = strom lipa\n",
    "# Vlastnosti\/Atributy\n",
    "vek\n",
    "vyska\n",
    "hmotnost\n",
    "druh\n",
    "cena\n",
    "\n",
    "# Chovanie\/Spravanie\n",
    "rastie()\n",
    "dava_kyslik()\n",
    "dava_plody()"
   ],
   "attachments":{
    
   },
   "metadata":{
    "datalore":{
     "node_id":"0G7vA4ayiubp0mvZplhfFf",
     "type":"MD",
     "hide_input_from_viewers":false,
     "hide_output_from_viewers":false,
     "report_properties":{
      "rowId":"e3SflrAZQKNNp9Bvno12Hw"
     }
    }
   }
  },
  {
   "cell_type":"code",
   "source":[
    "\"ahoj svet\".capitalize()\n",
    "\"ahoj svet\".isnumeric()\n",
    "True.real"
   ],
   "execution_count":7,
   "outputs":[
    {
     "data":{
      "text\/plain":[
       "1"
      ]
     },
     "metadata":{
      
     },
     "output_type":"display_data"
    }
   ],
   "metadata":{
    "datalore":{
     "node_id":"sCr9XkPWTZJXwKMwE4ieFf",
     "type":"CODE",
     "hide_input_from_viewers":true,
     "hide_output_from_viewers":true
    }
   }
  },
  {
   "cell_type":"markdown",
   "source":[
    "## 🐕 III. Triedy (Classes)\n",
    "V OOP píšete triedy, ktoré reprezentujú veci a situácie v reálnom svete.\n",
    "Trieda slúži ako plán (blueprint) na vytváranie objektov.  \n",
    "Vytvárate objekty založené na triedach. \n",
    "\n",
    "* Manual\/navod ako vytvorit objekty\n",
    "* Trieda (abstraktne) - blueprinty - strom, ovocie, zelenina, clovek\n",
    "* Objekt (konkretne) - instancie triedy - dub ..., jablko ...\n",
    "\n",
    "Kuchar\n",
    "Trieda (Recept) (Podstate meno - abstrakcia)\n",
    "1. Si napisem recept\/si vytvorime\/napisem triedu\n",
    "2. Si najdem recept\/pouzijeme-stiahne existujucu triedu\/y\n",
    "3. Si najdem a upravim\/pouzijeme-stiahne + modifikujem"
   ],
   "attachments":{
    
   },
   "metadata":{
    "datalore":{
     "node_id":"F0p9TONJsKda7z9HNqiVLB",
     "type":"MD",
     "hide_input_from_viewers":false,
     "hide_output_from_viewers":false,
     "report_properties":{
      "rowId":"e3SflrAZQKNNp9Bvno12Hw"
     }
    }
   }
  },
  {
   "cell_type":"code",
   "source":[
    "# Trieda\n",
    "class Pes:\n",
    "    pass\n",
    "\n",
    "# Objekt \/ instancia triedy\n",
    "# nazov\/meno = typ\n",
    "luigi = Pes()\n",
    "mario = Pes()\n",
    "yoshi = Pes()\n",
    "rexo = Pes()"
   ],
   "execution_count":12,
   "outputs":[
    
   ],
   "metadata":{
    "datalore":{
     "node_id":"V1qtio03ud4kzH2tFxRwCH",
     "type":"CODE",
     "hide_input_from_viewers":false,
     "hide_output_from_viewers":false,
     "report_properties":{
      "rowId":"e3SflrAZQKNNp9Bvno12Hw"
     }
    }
   }
  },
  {
   "cell_type":"markdown",
   "source":[
    "## 📘 IV. Objekty, id, __str__, mutovatelnost\/nemutovatelnost\n",
    "* Príklady mutable objektov: list, set, dict, byte array  \n",
    "* Príklady immutable objektov: number (int, float, complex), string, tuple, frozen set, bytes"
   ],
   "attachments":{
    
   },
   "metadata":{
    "datalore":{
     "node_id":"PjrSyITUWLIhGaXHwNV29o",
     "type":"MD",
     "hide_input_from_viewers":false,
     "hide_output_from_viewers":false,
     "report_properties":{
      "rowId":"e3SflrAZQKNNp9Bvno12Hw"
     }
    }
   }
  },
  {
   "cell_type":"code",
   "source":[
    "class Pes:\n",
    "    # 1. Vlastnosti (Property), premenne, Data\/Datove Zlozky\n",
    "    meno = \"\"\n",
    "    rasa = str()\n",
    "    je_lenivy = False\n",
    "    vek = 0\n",
    "    hmotnost = 0.2\n",
    "    pohlavia = [\"samec\", \"samica\"]\n",
    "\n",
    "    # 2. Metody (def), chovanie\n",
    "    def lezi(self):\n",
    "        print(\"Lezi a je mu dobre...\")\n",
    "\n",
    "    def spi(self):\n",
    "        print(\"Spi...\")\n",
    "    \n",
    "    def vypis_info_vsetky(self):\n",
    "        print(f\"Ako sa vola --> {self.meno}\")\n",
    "        print(f\"Kolko ma rokov --> {self.vek}\")\n",
    "        print(f\"Aka je to rasa --> {self.rasa}\")\n",
    "\n",
    "rexik = Pes()\n",
    "print(f\"rexik je lenivy: {rexik.je_lenivy}\")\n",
    "print(f\"rexik meno: {rexik.meno}\")\n",
    "\n",
    "rexik.meno = \"rexik domaci\"\n",
    "print(f\"rexik meno: {rexik.meno}\")\n",
    "print(f\"rexik rasa: {rexik.rasa}\")\n",
    "\n",
    "rexik.rasa = \"nemecky ovciak\"\n",
    "print(f\"rexik rasa: {rexik.rasa}\")\n",
    "\n",
    "lassie = Pes()\n",
    "lassie.meno = \"Lassie\"\n",
    "lassie.rasa = \"Kolia\"\n",
    "lassie.vek = 3\n",
    "\n",
    "lassie.lezi()\n",
    "lassie.spi()\n",
    "lassie.vypis_info_vsetky()\n"
   ],
   "execution_count":26,
   "outputs":[
    {
     "name":"stdout",
     "text":[
      "rexik je lenivy: False\n",
      "rexik meno: \n",
      "rexik meno: rexik domaci\n",
      "rexik rasa: \n",
      "rexik rasa: nemecky ovciak\n",
      "Lezi a je mu dobre...\n",
      "Spi...\n",
      "Ako sa vola --> Lassie\n",
      "Kolko ma rokov --> 3\n",
      "Aka je to rasa --> Kolia\n"
     ],
     "output_type":"stream"
    }
   ],
   "metadata":{
    "datalore":{
     "node_id":"2FS7Rvv9XwbktAMfTP8Zla",
     "type":"CODE",
     "hide_input_from_viewers":true,
     "hide_output_from_viewers":true
    }
   }
  },
  {
   "cell_type":"code",
   "source":[
    "doge = Pes()\n",
    "doge.meno = \"Doge\"\n",
    "doge.rasa = \"akita inu\"\n",
    "doge.vek = 5\n",
    "\n",
    "doge.vypis_info_vsetky()"
   ],
   "execution_count":27,
   "outputs":[
    {
     "name":"stdout",
     "text":[
      "Ako sa vola --> Doge\n",
      "Kolko ma rokov --> 5\n",
      "Aka je to rasa --> akita inu\n"
     ],
     "output_type":"stream"
    }
   ],
   "metadata":{
    "datalore":{
     "node_id":"hPVqVqBZq8lSiiWR3ik8eb",
     "type":"CODE",
     "hide_input_from_viewers":true,
     "hide_output_from_viewers":true
    }
   }
  },
  {
   "cell_type":"markdown",
   "source":[
    "## IV. Objekty, id, __str__"
   ],
   "attachments":{
    
   },
   "metadata":{
    "datalore":{
     "node_id":"aCidcLXnWuEFWVFumDm7PH",
     "type":"MD",
     "hide_input_from_viewers":true,
     "hide_output_from_viewers":true
    }
   }
  },
  {
   "cell_type":"code",
   "source":[
    "class Kniha:\n",
    "    \"\"\" DocString - Dokumentacny retazec\n",
    "        Eshop - Python Programovanie Knihy\n",
    "        @author Adam Sangala\n",
    "        @version 1.0\n",
    "        @example obj_kniha = Kniha()\n",
    "    \"\"\"\n",
    "\n",
    "    # 1. Property\/Vlastnosti (atributy)\n",
    "    nazov = str()\n",
    "    cena = 20 #float()\n",
    "    pocet_stran = 60 #int()\n",
    "    ISBN = str()\n",
    "    autor = \"Paul Barry\" # str()\n",
    "    zaner = [\"programovanie\", \"python\"] # list()\n",
    "\n",
    "    # 2.Chovanie\/Metody\n",
    "    def vypis_info(self):\n",
    "        print(f\"Nazov --> {self.nazov}\")\n",
    "        print(f\"Autor --> {self.autor}\")\n",
    "        print(f\"Pocet stran --> {self.pocet_stran}\")\n",
    "\n",
    "    def __str__(self):\n",
    "        return f\"Nazov objektu: {self.nazov} a pocet stran je: {self.pocet_stran} a autor je: {self.autor}\"\n",
    "\n",
    "kniha1 = Kniha()\n",
    "kniha2 = Kniha()\n",
    "kniha3 = Kniha()\n",
    "kniha2 = kniha3\n",
    "\n",
    "print(f\"kniha1: {id(kniha1)}\")\n",
    "print(f\"kniha2: {id(kniha2)}\")\n",
    "print(f\"kniha3: {id(kniha3)}\")\n",
    "\n",
    "meno = \"Adam\"\n",
    "vek = 35\n",
    "print(f\"\\nmeno: {id(meno)}\")\n",
    "print(f\"vek: {id(vek)} \\n\")\n",
    "\n",
    "# == operator porovnania - equality operator\n",
    "# is operator identity\n",
    "print(f\"Tieto objekty kniha1 a kniha2 su rovnake: {kniha1 == kniha2}\")\n",
    "print(f\"Tieto objekty kniha1 a kniha2 su rovnake: {id(kniha1) == id(kniha2)}\")\n",
    "print(f\"Tieto objekty kniha1 a kniha2 su rovnake: {kniha1 is kniha2}\")\n",
    "\n",
    "print(f\"Tieto objekty kniha2 a kniha3 su rovnake: {kniha2 is kniha3}\\n\")\n",
    "\n",
    "kniha1.nazov = \"Head First Python\"\n",
    "kniha1.vypis_info()\n",
    "\n",
    "kniha2.nazov = \"Head First Python 2. edition\"\n",
    "kniha2.vypis_info()\n",
    "\n",
    "kniha3.nazov = \"Head First Python 2. edition\"\n",
    "kniha3.vypis_info()\n",
    "\n",
    "print(f\"\\nCo som zac: {kniha1}\")\n",
    "print(f\"Akeho som typu: {type(kniha1)}\\n\")\n",
    "\n",
    "print(f\"Co som zac: {kniha2}\")\n",
    "print(f\"Akeho som typu: {type(kniha2)}\")\n",
    "\n",
    "kniha2 = Kniha()\n",
    "\n",
    "print(dir(kniha1))\n",
    "print(kniha1.__doc__)\n",
    "print(kniha1)\n",
    "\n",
    "kniha5 = Kniha()\n",
    "kniha5.nazov = \"OCA\/OCP Java\"\n",
    "kniha5.autor = \"Kathy Sierra\"\n",
    "print(kniha5)"
   ],
   "execution_count":61,
   "outputs":[
    {
     "name":"stdout",
     "text":[
      "kniha1: 139816260522480\n",
      "kniha2: 139816260559728\n",
      "kniha3: 139816260559728\n",
      "\n",
      "meno: 139816176435056\n",
      "vek: 139816326366592 \n",
      "\n",
      "Tieto objekty kniha1 a kniha2 su rovnake: False\n",
      "Tieto objekty kniha1 a kniha2 su rovnake: False\n",
      "Tieto objekty kniha1 a kniha2 su rovnake: False\n",
      "Tieto objekty kniha2 a kniha3 su rovnake: True\n",
      "\n",
      "Nazov --> Head First Python\n",
      "Autor --> Paul Barry\n",
      "Pocet stran --> 60\n",
      "Nazov --> Head First Python 2. edition\n",
      "Autor --> Paul Barry\n",
      "Pocet stran --> 60\n",
      "Nazov --> Head First Python 2. edition\n",
      "Autor --> Paul Barry\n",
      "Pocet stran --> 60\n",
      "\n",
      "Co som zac: Nazov objektu: Head First Python a pocet stran je: 60 a autor je: Paul Barry\n",
      "Akeho som typu: <class '__main__.Kniha'>\n",
      "\n",
      "Co som zac: Nazov objektu: Head First Python 2. edition a pocet stran je: 60 a autor je: Paul Barry\n",
      "Akeho som typu: <class '__main__.Kniha'>\n",
      "['ISBN', '__class__', '__delattr__', '__dict__', '__dir__', '__doc__', '__eq__', '__format__', '__ge__', '__getattribute__', '__gt__', '__hash__', '__init__', '__init_subclass__', '__le__', '__lt__', '__module__', '__ne__', '__new__', '__reduce__', '__reduce_ex__', '__repr__', '__setattr__', '__sizeof__', '__str__', '__subclasshook__', '__weakref__', 'autor', 'cena', 'nazov', 'pocet_stran', 'vypis_info', 'zaner']\n",
      " DocString - Dokumentacny retazec\n",
      "        Eshop - Python Programovanie Knihy\n",
      "        @author Adam Sangala\n",
      "        @version 1.0\n",
      "        @example obj_kniha = Kniha()\n",
      "    \n",
      "Nazov objektu: Head First Python a pocet stran je: 60 a autor je: Paul Barry\n",
      "Nazov objektu: OCA\/OCP Java a pocet stran je: 60 a autor je: Kathy Sierra\n"
     ],
     "output_type":"stream"
    }
   ],
   "metadata":{
    "datalore":{
     "node_id":"ma8fZBrXex6YgiGZHYp5JS",
     "type":"CODE",
     "hide_input_from_viewers":true,
     "hide_output_from_viewers":true
    }
   }
  },
  {
   "cell_type":"markdown",
   "source":[
    "## 🧑‍🔬 V. Konštruktory (__init__) a del + datetime"
   ],
   "attachments":{
    
   },
   "metadata":{
    "datalore":{
     "node_id":"BvTjSg3PfZMnVzYlbyhH17",
     "type":"MD",
     "hide_input_from_viewers":false,
     "hide_output_from_viewers":false,
     "report_properties":{
      "rowId":"e3SflrAZQKNNp9Bvno12Hw"
     }
    }
   }
  },
  {
   "cell_type":"code",
   "source":[
    "from datetime import datetime\n",
    "\n",
    "class Byt:\n",
    "    cena = float()\n",
    "    adresa = str()\n",
    "    vymera = float()\n",
    "    lokalita = str()\n",
    "    poschodie = int()\n",
    "    datum_vystavby = datetime.now()\n",
    "\n",
    "    def __init__(self):\n",
    "        print(\"Hura som v konstruktore, objekt je vytvoreny...\")\n",
    "        self.cena = 200_000\n",
    "        self.lokalita = \"Bratislava Nove Mesto\"\n",
    "\n",
    "    def __del__(self):\n",
    "        print(\"Hura som v destruktor, objekt je zruseny...\")\n",
    "        print(f\"Dňa: {datetime.now()} sme vymazali objekt: {self.__class__}\")\n",
    "\n",
    "\n",
    "# Nazov objektu (byt1) = Volanie konstruktora, Typ\/Trieda\n",
    "byt1 = Byt()\n",
    "byt2 = Byt()\n",
    "\n",
    "del byt1, byt2\n",
    "del Byt"
   ],
   "execution_count":70,
   "outputs":[
    {
     "name":"stdout",
     "text":[
      "Hura som v konstruktore, objekt je vytvoreny...\n",
      "Hura som v dekonstruktore, objekt je zruseny...\n",
      "Dňa: 2023-03-22 12:32:43.593097 sme vymazali objekt: <class '__main__.Byt'>\n",
      "Hura som v konstruktore, objekt je vytvoreny...\n",
      "Hura som v dekonstruktore, objekt je zruseny...\n",
      "Dňa: 2023-03-22 12:32:43.593300 sme vymazali objekt: <class '__main__.Byt'>\n",
      "Hura som v destruktor, objekt je zruseny...\n",
      "Dňa: 2023-03-22 12:32:43.593440 sme vymazali objekt: <class '__main__.Byt'>\n"
     ],
     "output_type":"stream"
    }
   ],
   "metadata":{
    "datalore":{
     "node_id":"H8Vu2FMxeMRCttEfKJcv9T",
     "type":"CODE",
     "hide_input_from_viewers":false,
     "hide_output_from_viewers":false,
     "report_properties":{
      "rowId":"e3SflrAZQKNNp9Bvno12Hw"
     }
    }
   }
  },
  {
   "cell_type":"markdown",
   "source":[
    "## 🔒 Modifikátory Prístupu"
   ],
   "attachments":{
    
   },
   "metadata":{
    "datalore":{
     "node_id":"Q7UJbrq93qniEgqJnFoTiy",
     "type":"MD",
     "hide_input_from_viewers":true,
     "hide_output_from_viewers":true
    }
   }
  },
  {
   "cell_type":"code",
   "source":[
    
   ],
   "execution_count":6,
   "outputs":[
    {
     "name":"stdout",
     "text":[
      "Stvoril som cloveka s menom: Adam a s priezviskom: Sangala\n",
      "Email je info@abc.sk\n",
      "Stvoril som cloveka s menom: Eva a s priezviskom: Sangalova\n",
      "Email je info@abc.sk\n",
      "Stvoril som cloveka s menom: Peter a s priezviskom: Rychly\n",
      "Email je info@abc.sk\n",
      "Stvoril som cloveka s menom: Milan a s priezviskom: Rychly\n",
      "Email je info@abc.sk\n",
      "Stvoril som cloveka s menom: Peter a s priezviskom: Dlhy\n",
      "Email je info@abc.sk\n",
      "Stvoril som cloveka s menom: Ivan a s priezviskom: Hrozny\n",
      "Email je info@abc.sk\n",
      "\n",
      "    Toto je clovek...\n",
      "    Docstring\n",
      "    \n",
      "    \n"
     ],
     "output_type":"stream"
    }
   ],
   "metadata":{
    "datalore":{
     "node_id":"zfviDIJSVPfgzJsQN7Cmpz",
     "type":"CODE",
     "hide_input_from_viewers":false,
     "hide_output_from_viewers":false,
     "report_properties":{
      "rowId":"e3SflrAZQKNNp9Bvno12Hw"
     }
    }
   }
  },
  {
   "cell_type":"markdown",
   "source":[
    "# Príklady z Praxe OOP"
   ],
   "attachments":{
    
   },
   "metadata":{
    "datalore":{
     "node_id":"A2HCi5l3ziRYBargIO6emM",
     "type":"MD",
     "hide_input_from_viewers":true,
     "hide_output_from_viewers":true
    }
   }
  },
  {
   "cell_type":"markdown",
   "source":[
    "## Tabuľky (prettytable)"
   ],
   "attachments":{
    
   },
   "metadata":{
    "datalore":{
     "node_id":"UfALBl7D0WoPOPPstUpDai",
     "type":"MD",
     "hide_input_from_viewers":true,
     "hide_output_from_viewers":true
    }
   }
  },
  {
   "cell_type":"code",
   "source":[
    "#!pip install prettytable\n",
    "\n",
    "import prettytable\n",
    "\n",
    "tabulka_zakaznici = prettytable.PrettyTable([\"Meno\", \"Priezvisko\", \"Email\", \"Kontakt\"])\n",
    "print(tabulka_zakaznici)"
   ],
   "execution_count":72,
   "outputs":[
    {
     "name":"stdout",
     "text":[
      "+------+------------+-------+---------+\n",
      "| Meno | Priezvisko | Email | Kontakt |\n",
      "+------+------------+-------+---------+\n",
      "+------+------------+-------+---------+\n"
     ],
     "output_type":"stream"
    }
   ],
   "metadata":{
    "datalore":{
     "node_id":"9botSW2S3M661qYFAWTvoX",
     "type":"CODE",
     "hide_input_from_viewers":false,
     "hide_output_from_viewers":false,
     "report_properties":{
      "rowId":"e3SflrAZQKNNp9Bvno12Hw"
     }
    }
   }
  },
  {
   "cell_type":"code",
   "source":[
    "#!pip install prettytable\n",
    "\n",
    "from prettytable import PrettyTable\n",
    "\n",
    "tabulka_zakaznici = PrettyTable([\"Meno\", \"Priezvisko\", \"Email\", \"Kontakt\"])\n",
    "print(tabulka_zakaznici)\n",
    "\n",
    "tabulka_zakaznici.add_row([\"Mario\", \"Sangala\", \"abc@nieco.sk\", 123])\n",
    "tabulka_zakaznici.add_row([\"Ivana\", \"Sangala\", \"abc@nieco.sk\", 456])\n",
    "tabulka_zakaznici.add_row([\"Monika\", \"Selicka\", \"abc@nieco.sk\", 852])\n",
    "\n",
    "\n",
    "print(tabulka_zakaznici)"
   ],
   "execution_count":81,
   "outputs":[
    {
     "name":"stdout",
     "text":[
      "+------+------------+-------+---------+\n",
      "| Meno | Priezvisko | Email | Kontakt |\n",
      "+------+------------+-------+---------+\n",
      "+------+------------+-------+---------+\n",
      "+--------+------------+--------------+---------+\n",
      "|  Meno  | Priezvisko |    Email     | Kontakt |\n",
      "+--------+------------+--------------+---------+\n",
      "| Mario  |  Sangala   | abc@nieco.sk |   123   |\n",
      "| Ivana  |  Sangala   | abc@nieco.sk |   456   |\n",
      "| Monika |  Selicka   | abc@nieco.sk |   852   |\n",
      "+--------+------------+--------------+---------+\n"
     ],
     "output_type":"stream"
    }
   ],
   "metadata":{
    "datalore":{
     "node_id":"HBvne568wJVA5weCFCk1R1",
     "type":"CODE",
     "hide_input_from_viewers":false,
     "hide_output_from_viewers":false,
     "report_properties":{
      "rowId":"e3SflrAZQKNNp9Bvno12Hw"
     }
    }
   }
  },
  {
   "cell_type":"markdown",
   "source":[
    "## 🧾 GUI Formuláre (Graphical User Interface)"
   ],
   "attachments":{
    
   },
   "metadata":{
    "datalore":{
     "node_id":"uWlGxGTRXfJXMQoQERJdLZ",
     "type":"MD",
     "hide_input_from_viewers":true,
     "hide_output_from_viewers":true
    }
   }
  },
  {
   "cell_type":"code",
   "source":[
    "txt_meno = \"Eva\""
   ],
   "execution_count":null,
   "outputs":[
    
   ],
   "metadata":{
    "datalore":{
     "node_id":"ORbtkucIdvAEmbpQlKXYIN",
     "type":"CONTROL",
     "hide_input_from_viewers":false,
     "hide_output_from_viewers":false,
     "report_properties":{
      "rowId":"e3SflrAZQKNNp9Bvno12Hw"
     },
     "controls_state":[
      {
       "type":"INPUT",
       "label":"Meno:",
       "variable":"txt_meno",
       "value":"Eva",
       "multiline":false
      }
     ]
    }
   }
  },
  {
   "cell_type":"code",
   "source":[
    "print(f\"Ahoj {txt_meno}\")"
   ],
   "execution_count":null,
   "outputs":[
    {
     "name":"stdout",
     "text":[
      "Ahoj Eva\n"
     ],
     "output_type":"stream"
    }
   ],
   "metadata":{
    "datalore":{
     "node_id":"uqrdmzc0n0RZf0IbRdqa3v",
     "type":"CODE",
     "hide_input_from_viewers":false,
     "hide_output_from_viewers":false,
     "report_properties":{
      "rowId":"e3SflrAZQKNNp9Bvno12Hw"
     }
    }
   }
  },
  {
   "cell_type":"code",
   "source":[
    "dpw_farba_tricka = \"Modra\""
   ],
   "execution_count":null,
   "outputs":[
    
   ],
   "metadata":{
    "datalore":{
     "node_id":"bOpqqosGrkWhd8RKIE9XA6",
     "type":"CONTROL",
     "hide_input_from_viewers":false,
     "hide_output_from_viewers":false,
     "report_properties":{
      "rowId":"e3SflrAZQKNNp9Bvno12Hw"
     },
     "controls_state":[
      {
       "type":"DROPDOWN",
       "label":"Farba tricka:",
       "variable":"dpw_farba_tricka",
       "value":"Modra",
       "values":[
        
       ],
       "items":[
        "Cierna",
        "Zelena",
        "Modra"
       ],
       "multiselect":false
      }
     ]
    }
   }
  },
  {
   "cell_type":"code",
   "source":[
    "print(f\"Vybral si si: {dpw_farba_tricka}\")"
   ],
   "execution_count":null,
   "outputs":[
    {
     "name":"stdout",
     "text":[
      "Vybral si si: Modra\n"
     ],
     "output_type":"stream"
    }
   ],
   "metadata":{
    "datalore":{
     "node_id":"dF0x8DAothXBswRNnNUGXN",
     "type":"CODE",
     "hide_input_from_viewers":false,
     "hide_output_from_viewers":false,
     "report_properties":{
      "rowId":"e3SflrAZQKNNp9Bvno12Hw"
     }
    }
   }
  },
  {
   "cell_type":"markdown",
   "source":[
    "## Modul Copy 👯\n",
    "Ako Vytvoriť Úplne Nezávislú Kópiu Objektu v Pythone?  \n",
    "**Dokumentácia:** https:\/\/docs.python.org\/3\/library\/copy.html#copy.deepcopy  \n",
    "\n",
    "Príkazy priradenia (=) v Pythone nekopírujú objekty, ale vytvárajú väzby medzi cieľom a objektom. Pre kolekcie, ktoré sú meniteľné alebo obsahujú meniteľné položky, je niekedy potrebná kópia, aby bolo možné zmeniť jednu kópiu bez zmeny druhej. Tento modul poskytuje všeobecné operácie plytkého a hlbokého kopírovania. \n",
    "  \n",
    "* Ak chcete získať úplne nezávislú kópiu objektu, môžete použiť funkciu copy.deepcopy().  \n",
    "  \n",
    "* Plytké\/shallow kópia znamená, že obsah slovníka sa nekopíruje podľa hodnoty, ale len vytvorí nový odkaz.  \n",
    "  \n",
    "* Hĺbková\/deep kópia skopíruje celý obsah podľa hodnoty.  "
   ],
   "attachments":{
    
   },
   "metadata":{
    "datalore":{
     "node_id":"KaES0yAqhrBk0E9LFItB39",
     "type":"MD",
     "hide_input_from_viewers":true,
     "hide_output_from_viewers":true
    }
   }
  },
  {
   "cell_type":"code",
   "source":[
    "# modul copy\n",
    "import copy\n",
    "zoznam1 = list(\"ADAM\")\n",
    "# Plytka kopia\/shallow copy\n",
    "zoznam2 = copy.copy(zoznam1)\n",
    "\n",
    "# Hlboka kopia\/deep copy\n",
    "zoznam3 = copy.deepcopy(zoznam1)\n",
    "\n",
    "print(f\"je zoznam1 a zoznam2 rovnaky: {zoznam1 is zoznam2}\")\n",
    "print(f\"je zoznam1 a zoznam3 rovnaky: {zoznam1 is zoznam3}\")\n",
    "print(f\"je zoznam2 a zoznam3 rovnaky: {zoznam2 is zoznam3}\")"
   ],
   "execution_count":83,
   "outputs":[
    {
     "name":"stdout",
     "text":[
      "je zoznam1 a zoznam2 rovnaky: False\n",
      "je zoznam1 a zoznam3 rovnaky: False\n",
      "je zoznam2 a zoznam3 rovnaky: False\n"
     ],
     "output_type":"stream"
    }
   ],
   "metadata":{
    "datalore":{
     "node_id":"gTHBHdap1Ng5TZOizCjGqM",
     "type":"CODE",
     "hide_input_from_viewers":true,
     "hide_output_from_viewers":true
    }
   }
  }
 ],
 "metadata":{
  "kernelspec":{
   "display_name":"Python",
   "language":"python",
   "name":"python"
  },
  "datalore":{
   "computation_mode":"JUPYTER",
   "package_manager":"pip",
   "base_environment":"default",
   "packages":[
    
   ],
   "report_row_ids":[
    "e3SflrAZQKNNp9Bvno12Hw"
   ],
   "version":2
  }
 },
 "nbformat":4,
 "nbformat_minor":4
}