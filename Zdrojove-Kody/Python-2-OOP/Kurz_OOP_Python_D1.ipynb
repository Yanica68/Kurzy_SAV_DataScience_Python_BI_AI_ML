{
 "cells": [
  {
   "cell_type": "markdown",
   "id": "499cb4be",
   "metadata": {},
   "source": [
    "# 🐍 Python Objektové Programovanie"
   ]
  },
  {
   "cell_type": "markdown",
   "id": "ba2b44b9",
   "metadata": {},
   "source": [
    "## I. Premenné a objekty"
   ]
  },
  {
   "cell_type": "code",
   "execution_count": 10,
   "id": "5ff8a26e",
   "metadata": {
    "ExecuteTime": {
     "end_time": "2022-06-29T07:39:57.431266Z",
     "start_time": "2022-06-29T07:39:57.402272Z"
    }
   },
   "outputs": [
    {
     "name": "stdout",
     "output_type": "stream",
     "text": [
      "----------------------------\n",
      "\n",
      "NamespaceMagics\t a\t autopep8\t b\t c\t d\t e\t f\t g\t \n",
      "get_ipython\t getsizeof\t h\t json\t np\t var_dic_list\t \n",
      "----------------------------\n",
      "\n",
      "Variable          Type                          Data/Info\n",
      "---------------------------------------------------------\n",
      "NamespaceMagics   MetaHasTraits                 <class 'IPython.core.magi<...>mespace.NamespaceMagics'>\n",
      "a                 int                           1\n",
      "autopep8          module                        <module 'autopep8' from '<...>e-packages\\\\autopep8.py'>\n",
      "b                 float                         9.98\n",
      "c                 bool                          True\n",
      "d                 str                           Milan\n",
      "e                 list                          n=3\n",
      "f                 tuple                         n=3\n",
      "g                 dict                          n=2\n",
      "get_ipython       function                      <function get_ipython at 0x0000024D3D837940>\n",
      "getsizeof         builtin_function_or_method    <built-in function getsizeof>\n",
      "h                 NoneType                      None\n",
      "json              module                        <module 'json' from 'C:\\\\<...>\\lib\\\\json\\\\__init__.py'>\n",
      "np                module                        <module 'numpy' from 'C:\\<...>ges\\\\numpy\\\\__init__.py'>\n",
      "var_dic_list      function                      <function var_dic_list at 0x0000024D3FABD310>\n",
      "----------------------------\n",
      "\n",
      "----------------------------\n",
      "\n",
      "dict_keys(['__name__', '__doc__', '__package__', '__loader__', '__spec__', '__builtin__', '__builtins__', '_ih', '_oh', '_dh', 'In', 'Out', 'get_ipython', 'exit', 'quit', '_', '__', '___', 'json', 'autopep8', 'getsizeof', 'NamespaceMagics', '_nms', '_Jupyter', 'np', '_getsizeof', '_getshapeof', 'var_dic_list', '_i', '_ii', '_iii', '_i1', 'a', '_i2', 'b', '_2', '_i3', '_i4', '_i5', 'c', 'd', 'e', 'f', 'g', 'h', '_i6', '_i7', '_7', '_i8', '_i9', '_i10'])\n",
      "----------------------------\n",
      "\n",
      "dict_values(['__main__', 'Automatically created module for IPython interactive environment', None, None, None, <module 'builtins' (built-in)>, <module 'builtins' (built-in)>, ['', '# Všetko v Pythone je objekt\\n# Primitivne objekty/premenne/primitivy\\na = 1', '# Všetko v Pythone je objekt\\n# Primitivne objekty/premenne/primitivy\\na = 1\\nb = 9.98\\n\\n# Zoznam vsetkeho - objekty/premenne\\ndir()', \"# Všetko v Pythone je objekt\\n# Primitivne objekty/premenne/primitivy\\na = 1\\nb = 9.98\\n\\n# Zoznam vsetkeho - objekty/premenne\\ndir()\\n# Zoznam moje objekty/premenne\\nget_ipython().run_line_magic('who', '')\", \"# Všetko v Pythone je objekt\\n# Primitivne objekty/premenne/primitivy\\na = 1\\nb = 9.98\\n\\n# Zoznam vsetkeho - objekty/premenne\\ndir()\\n# Zoznam moje objekty/premenne\\nget_ipython().run_line_magic('who', '')\\n\\n# Zoznam moje objekty/premenne\\nget_ipython().run_line_magic('whos', '')\", '# Všetko v Pythone je objekt\\n# Primitivne objekty/premenne/primitivy\\na = 1\\nb = 9.98\\nc = True\\nd = \"Milan\"\\ne = [\"Adam\", \"Eva\", \"Karol\"]\\n#  Tica/Tupple - Nemenitelny zoznam\\nf = (1, 2, 3)\\n# Slovnik/Dict\\ng = {\"Mama\": \"Eva\", \"Otec\": \"Adam\"}\\nh = None\\n\\n# Zoznam vsetkeho - objekty/premenne - nazvy\\ndir()\\n# Zoznam moje objekty/premenne - nazvy\\nget_ipython().run_line_magic(\\'who\\', \\'\\')\\n\\n# Zoznam moje objekty/premenne - nazvy + typy + hodnoty\\nget_ipython().run_line_magic(\\'whos\\', \\'\\')', '# Všetko v Pythone je objekt\\n# Primitivne objekty/premenne/primitivy\\na = 1\\nb = 9.98\\nc = True\\nd = \"Milan\"\\ne = [\"Adam\", \"Eva\", \"Karol\"]\\n#  Tica/Tupple - Nemenitelny zoznam\\nf = (1, 2, 3)\\n# Slovnik/Dict\\ng = {\"Mama\": \"Eva\", \"Otec\": \"Adam\"}\\nh = None\\n\\n# Zoznam vsetkeho - objekty/premenne - nazvy\\ndir()\\nprint(\"----------------------------\\\\n\")\\n# Zoznam moje objekty/premenne - nazvy\\nget_ipython().run_line_magic(\\'who\\', \\'\\')\\n\\nprint(\"----------------------------\\\\n\")\\n# Zoznam moje objekty/premenne - nazvy + typy + hodnoty\\nget_ipython().run_line_magic(\\'whos\\', \\'\\')', '# Všetko v Pythone je objekt\\n# Primitivne objekty/premenne/primitivy\\na = 1\\nb = 9.98\\nc = True\\nd = \"Milan\"\\ne = [\"Adam\", \"Eva\", \"Karol\"]\\n#  Tica/Tupple - Nemenitelny zoznam\\nf = (1, 2, 3)\\n# Slovnik/Dict\\ng = {\"Mama\": \"Eva\", \"Otec\": \"Adam\"}\\nh = None\\n\\n# Zoznam vsetkeho - objekty/premenne - nazvy\\ndir()\\nprint(\"----------------------------\\\\n\")\\n# Zoznam moje objekty/premenne - nazvy\\nget_ipython().run_line_magic(\\'who\\', \\'\\')\\n\\nprint(\"----------------------------\\\\n\")\\n# Zoznam moje objekty/premenne - nazvy + typy + hodnoty\\nget_ipython().run_line_magic(\\'whos\\', \\'\\')\\n\\nprint(\"----------------------------\\\\n\")\\n# Zoznam moje objekty/premenne - nazvy + typy + hodnoty\\nget_ipython().run_line_magic(\\'who_ls\\', \\'\\')', '# Všetko v Pythone je objekt\\n# Primitivne objekty/premenne/primitivy\\na = 1\\nb = 9.98\\nc = True\\nd = \"Milan\"\\ne = [\"Adam\", \"Eva\", \"Karol\"]\\n#  Tica/Tupple - Nemenitelny zoznam\\nf = (1, 2, 3)\\n# Slovnik/Dict\\ng = {\"Mama\": \"Eva\", \"Otec\": \"Adam\"}\\nh = None\\n\\n# Zoznam vsetkeho - objekty/premenne - nazvy\\ndir()\\nprint(\"----------------------------\\\\n\")\\n# Zoznam moje objekty/premenne - nazvy\\nget_ipython().run_line_magic(\\'who\\', \\'\\')\\n\\nprint(\"----------------------------\\\\n\")\\n# Zoznam moje objekty/premenne - nazvy + typy + hodnoty\\nget_ipython().run_line_magic(\\'whos\\', \\'\\')\\n\\nprint(\"----------------------------\\\\n\")\\n# Zoznam moje objekty/premenne - nazvy\\nget_ipython().run_line_magic(\\'who_ls\\', \\'\\')\\n\\nprint(\"----------------------------\\\\n\")\\n# Zoznam moje objekty/premenne - nazvy\\nprint(vars())', '# Všetko v Pythone je objekt\\n# Primitivne objekty/premenne/primitivy\\na = 1\\nb = 9.98\\nc = True\\nd = \"Milan\"\\ne = [\"Adam\", \"Eva\", \"Karol\"]\\n#  Tica/Tupple - Nemenitelny zoznam\\nf = (1, 2, 3)\\n# Slovnik/Dict\\ng = {\"Mama\": \"Eva\", \"Otec\": \"Adam\"}\\nh = None\\n\\n# Zoznam vsetkeho - objekty/premenne - nazvy\\ndir()\\nprint(\"----------------------------\\\\n\")\\n# Zoznam moje objekty/premenne - nazvy\\nget_ipython().run_line_magic(\\'who\\', \\'\\')\\n\\nprint(\"----------------------------\\\\n\")\\n# Zoznam moje objekty/premenne - nazvy + typy + hodnoty\\nget_ipython().run_line_magic(\\'whos\\', \\'\\')\\n\\nprint(\"----------------------------\\\\n\")\\n# Zoznam moje objekty/premenne - nazvy\\nget_ipython().run_line_magic(\\'who_ls\\', \\'\\')\\n\\nprint(\"----------------------------\\\\n\")\\n# Zoznam moje objekty/premenne - nazvy\\nprint(vars().keys())', '# Všetko v Pythone je objekt\\n# Primitivne objekty/premenne/primitivy\\na = 1\\nb = 9.98\\nc = True\\nd = \"Milan\"\\ne = [\"Adam\", \"Eva\", \"Karol\"]\\n#  Tica/Tupple - Nemenitelny zoznam\\nf = (1, 2, 3)\\n# Slovnik/Dict\\ng = {\"Mama\": \"Eva\", \"Otec\": \"Adam\"}\\nh = None\\n\\n# Zoznam vsetkeho - objekty/premenne - nazvy\\ndir()\\nprint(\"----------------------------\\\\n\")\\n# Zoznam moje objekty/premenne - nazvy\\nget_ipython().run_line_magic(\\'who\\', \\'\\')\\n\\nprint(\"----------------------------\\\\n\")\\n# Zoznam moje objekty/premenne - nazvy + typy + hodnoty\\nget_ipython().run_line_magic(\\'whos\\', \\'\\')\\n\\nprint(\"----------------------------\\\\n\")\\n# Zoznam moje objekty/premenne - nazvy\\nget_ipython().run_line_magic(\\'who_ls\\', \\'\\')\\n\\nprint(\"----------------------------\\\\n\")\\n# Zoznam moje objekty/premenne - nazvy/kluce\\nprint(vars().keys())\\n\\nprint(\"----------------------------\\\\n\")\\n# Zoznam moje objekty/premenne - hodnoty\\nprint(vars().values())'], {2: ['In', 'NamespaceMagics', 'Out', '_', '_Jupyter', '__', '___', '__builtin__', '__builtins__', '__doc__', '__loader__', '__name__', '__package__', '__spec__', '_dh', '_getshapeof', '_getsizeof', '_i', '_i1', '_i2', '_ih', '_ii', '_iii', '_nms', '_oh', 'a', 'autopep8', 'b', 'exit', 'get_ipython', 'getsizeof', 'json', 'np', 'quit', 'var_dic_list'], 7: ['NamespaceMagics', 'a', 'autopep8', 'b', 'c', 'd', 'e', 'f', 'g', 'get_ipython', 'getsizeof', 'h', 'json', 'np', 'var_dic_list']}, ['C:\\\\Users\\\\Administrator\\\\!SAV_Python_OOP_Reiter'], ['', '# Všetko v Pythone je objekt\\n# Primitivne objekty/premenne/primitivy\\na = 1', '# Všetko v Pythone je objekt\\n# Primitivne objekty/premenne/primitivy\\na = 1\\nb = 9.98\\n\\n# Zoznam vsetkeho - objekty/premenne\\ndir()', \"# Všetko v Pythone je objekt\\n# Primitivne objekty/premenne/primitivy\\na = 1\\nb = 9.98\\n\\n# Zoznam vsetkeho - objekty/premenne\\ndir()\\n# Zoznam moje objekty/premenne\\nget_ipython().run_line_magic('who', '')\", \"# Všetko v Pythone je objekt\\n# Primitivne objekty/premenne/primitivy\\na = 1\\nb = 9.98\\n\\n# Zoznam vsetkeho - objekty/premenne\\ndir()\\n# Zoznam moje objekty/premenne\\nget_ipython().run_line_magic('who', '')\\n\\n# Zoznam moje objekty/premenne\\nget_ipython().run_line_magic('whos', '')\", '# Všetko v Pythone je objekt\\n# Primitivne objekty/premenne/primitivy\\na = 1\\nb = 9.98\\nc = True\\nd = \"Milan\"\\ne = [\"Adam\", \"Eva\", \"Karol\"]\\n#  Tica/Tupple - Nemenitelny zoznam\\nf = (1, 2, 3)\\n# Slovnik/Dict\\ng = {\"Mama\": \"Eva\", \"Otec\": \"Adam\"}\\nh = None\\n\\n# Zoznam vsetkeho - objekty/premenne - nazvy\\ndir()\\n# Zoznam moje objekty/premenne - nazvy\\nget_ipython().run_line_magic(\\'who\\', \\'\\')\\n\\n# Zoznam moje objekty/premenne - nazvy + typy + hodnoty\\nget_ipython().run_line_magic(\\'whos\\', \\'\\')', '# Všetko v Pythone je objekt\\n# Primitivne objekty/premenne/primitivy\\na = 1\\nb = 9.98\\nc = True\\nd = \"Milan\"\\ne = [\"Adam\", \"Eva\", \"Karol\"]\\n#  Tica/Tupple - Nemenitelny zoznam\\nf = (1, 2, 3)\\n# Slovnik/Dict\\ng = {\"Mama\": \"Eva\", \"Otec\": \"Adam\"}\\nh = None\\n\\n# Zoznam vsetkeho - objekty/premenne - nazvy\\ndir()\\nprint(\"----------------------------\\\\n\")\\n# Zoznam moje objekty/premenne - nazvy\\nget_ipython().run_line_magic(\\'who\\', \\'\\')\\n\\nprint(\"----------------------------\\\\n\")\\n# Zoznam moje objekty/premenne - nazvy + typy + hodnoty\\nget_ipython().run_line_magic(\\'whos\\', \\'\\')', '# Všetko v Pythone je objekt\\n# Primitivne objekty/premenne/primitivy\\na = 1\\nb = 9.98\\nc = True\\nd = \"Milan\"\\ne = [\"Adam\", \"Eva\", \"Karol\"]\\n#  Tica/Tupple - Nemenitelny zoznam\\nf = (1, 2, 3)\\n# Slovnik/Dict\\ng = {\"Mama\": \"Eva\", \"Otec\": \"Adam\"}\\nh = None\\n\\n# Zoznam vsetkeho - objekty/premenne - nazvy\\ndir()\\nprint(\"----------------------------\\\\n\")\\n# Zoznam moje objekty/premenne - nazvy\\nget_ipython().run_line_magic(\\'who\\', \\'\\')\\n\\nprint(\"----------------------------\\\\n\")\\n# Zoznam moje objekty/premenne - nazvy + typy + hodnoty\\nget_ipython().run_line_magic(\\'whos\\', \\'\\')\\n\\nprint(\"----------------------------\\\\n\")\\n# Zoznam moje objekty/premenne - nazvy + typy + hodnoty\\nget_ipython().run_line_magic(\\'who_ls\\', \\'\\')', '# Všetko v Pythone je objekt\\n# Primitivne objekty/premenne/primitivy\\na = 1\\nb = 9.98\\nc = True\\nd = \"Milan\"\\ne = [\"Adam\", \"Eva\", \"Karol\"]\\n#  Tica/Tupple - Nemenitelny zoznam\\nf = (1, 2, 3)\\n# Slovnik/Dict\\ng = {\"Mama\": \"Eva\", \"Otec\": \"Adam\"}\\nh = None\\n\\n# Zoznam vsetkeho - objekty/premenne - nazvy\\ndir()\\nprint(\"----------------------------\\\\n\")\\n# Zoznam moje objekty/premenne - nazvy\\nget_ipython().run_line_magic(\\'who\\', \\'\\')\\n\\nprint(\"----------------------------\\\\n\")\\n# Zoznam moje objekty/premenne - nazvy + typy + hodnoty\\nget_ipython().run_line_magic(\\'whos\\', \\'\\')\\n\\nprint(\"----------------------------\\\\n\")\\n# Zoznam moje objekty/premenne - nazvy\\nget_ipython().run_line_magic(\\'who_ls\\', \\'\\')\\n\\nprint(\"----------------------------\\\\n\")\\n# Zoznam moje objekty/premenne - nazvy\\nprint(vars())', '# Všetko v Pythone je objekt\\n# Primitivne objekty/premenne/primitivy\\na = 1\\nb = 9.98\\nc = True\\nd = \"Milan\"\\ne = [\"Adam\", \"Eva\", \"Karol\"]\\n#  Tica/Tupple - Nemenitelny zoznam\\nf = (1, 2, 3)\\n# Slovnik/Dict\\ng = {\"Mama\": \"Eva\", \"Otec\": \"Adam\"}\\nh = None\\n\\n# Zoznam vsetkeho - objekty/premenne - nazvy\\ndir()\\nprint(\"----------------------------\\\\n\")\\n# Zoznam moje objekty/premenne - nazvy\\nget_ipython().run_line_magic(\\'who\\', \\'\\')\\n\\nprint(\"----------------------------\\\\n\")\\n# Zoznam moje objekty/premenne - nazvy + typy + hodnoty\\nget_ipython().run_line_magic(\\'whos\\', \\'\\')\\n\\nprint(\"----------------------------\\\\n\")\\n# Zoznam moje objekty/premenne - nazvy\\nget_ipython().run_line_magic(\\'who_ls\\', \\'\\')\\n\\nprint(\"----------------------------\\\\n\")\\n# Zoznam moje objekty/premenne - nazvy\\nprint(vars().keys())', '# Všetko v Pythone je objekt\\n# Primitivne objekty/premenne/primitivy\\na = 1\\nb = 9.98\\nc = True\\nd = \"Milan\"\\ne = [\"Adam\", \"Eva\", \"Karol\"]\\n#  Tica/Tupple - Nemenitelny zoznam\\nf = (1, 2, 3)\\n# Slovnik/Dict\\ng = {\"Mama\": \"Eva\", \"Otec\": \"Adam\"}\\nh = None\\n\\n# Zoznam vsetkeho - objekty/premenne - nazvy\\ndir()\\nprint(\"----------------------------\\\\n\")\\n# Zoznam moje objekty/premenne - nazvy\\nget_ipython().run_line_magic(\\'who\\', \\'\\')\\n\\nprint(\"----------------------------\\\\n\")\\n# Zoznam moje objekty/premenne - nazvy + typy + hodnoty\\nget_ipython().run_line_magic(\\'whos\\', \\'\\')\\n\\nprint(\"----------------------------\\\\n\")\\n# Zoznam moje objekty/premenne - nazvy\\nget_ipython().run_line_magic(\\'who_ls\\', \\'\\')\\n\\nprint(\"----------------------------\\\\n\")\\n# Zoznam moje objekty/premenne - nazvy/kluce\\nprint(vars().keys())\\n\\nprint(\"----------------------------\\\\n\")\\n# Zoznam moje objekty/premenne - hodnoty\\nprint(vars().values())'], {2: ['In', 'NamespaceMagics', 'Out', '_', '_Jupyter', '__', '___', '__builtin__', '__builtins__', '__doc__', '__loader__', '__name__', '__package__', '__spec__', '_dh', '_getshapeof', '_getsizeof', '_i', '_i1', '_i2', '_ih', '_ii', '_iii', '_nms', '_oh', 'a', 'autopep8', 'b', 'exit', 'get_ipython', 'getsizeof', 'json', 'np', 'quit', 'var_dic_list'], 7: ['NamespaceMagics', 'a', 'autopep8', 'b', 'c', 'd', 'e', 'f', 'g', 'get_ipython', 'getsizeof', 'h', 'json', 'np', 'var_dic_list']}, <function get_ipython at 0x0000024D3D837940>, <IPython.core.autocall.ZMQExitAutocall object at 0x0000024D3F6233D0>, <IPython.core.autocall.ZMQExitAutocall object at 0x0000024D3F6233D0>, ['NamespaceMagics', 'a', 'autopep8', 'b', 'c', 'd', 'e', 'f', 'g', 'get_ipython', 'getsizeof', 'h', 'json', 'np', 'var_dic_list'], ['In', 'NamespaceMagics', 'Out', '_', '_Jupyter', '__', '___', '__builtin__', '__builtins__', '__doc__', '__loader__', '__name__', '__package__', '__spec__', '_dh', '_getshapeof', '_getsizeof', '_i', '_i1', '_i2', '_ih', '_ii', '_iii', '_nms', '_oh', 'a', 'autopep8', 'b', 'exit', 'get_ipython', 'getsizeof', 'json', 'np', 'quit', 'var_dic_list'], '', <module 'json' from 'C:\\\\ProgramData\\\\Anaconda3\\\\lib\\\\json\\\\__init__.py'>, <module 'autopep8' from 'C:\\\\ProgramData\\\\Anaconda3\\\\lib\\\\site-packages\\\\autopep8.py'>, <built-in function getsizeof>, <class 'IPython.core.magics.namespace.NamespaceMagics'>, <IPython.core.magics.namespace.NamespaceMagics object at 0x0000024D3F7820A0>, <ipykernel.zmqshell.ZMQInteractiveShell object at 0x0000024D3F663AC0>, <module 'numpy' from 'C:\\\\ProgramData\\\\Anaconda3\\\\lib\\\\site-packages\\\\numpy\\\\__init__.py'>, <function _getsizeof at 0x0000024D3F77A670>, <function _getshapeof at 0x0000024D3F6AE790>, <function var_dic_list at 0x0000024D3FABD310>, '# Všetko v Pythone je objekt\\n# Primitivne objekty/premenne/primitivy\\na = 1\\nb = 9.98\\nc = True\\nd = \"Milan\"\\ne = [\"Adam\", \"Eva\", \"Karol\"]\\n#  Tica/Tupple - Nemenitelny zoznam\\nf = (1, 2, 3)\\n# Slovnik/Dict\\ng = {\"Mama\": \"Eva\", \"Otec\": \"Adam\"}\\nh = None\\n\\n# Zoznam vsetkeho - objekty/premenne - nazvy\\ndir()\\nprint(\"----------------------------\\\\n\")\\n# Zoznam moje objekty/premenne - nazvy\\n%who\\n\\nprint(\"----------------------------\\\\n\")\\n# Zoznam moje objekty/premenne - nazvy + typy + hodnoty\\n%whos\\n\\nprint(\"----------------------------\\\\n\")\\n# Zoznam moje objekty/premenne - nazvy\\n%who_ls\\n\\nprint(\"----------------------------\\\\n\")\\n# Zoznam moje objekty/premenne - nazvy\\nprint(vars().keys())', '# Všetko v Pythone je objekt\\n# Primitivne objekty/premenne/primitivy\\na = 1\\nb = 9.98\\nc = True\\nd = \"Milan\"\\ne = [\"Adam\", \"Eva\", \"Karol\"]\\n#  Tica/Tupple - Nemenitelny zoznam\\nf = (1, 2, 3)\\n# Slovnik/Dict\\ng = {\"Mama\": \"Eva\", \"Otec\": \"Adam\"}\\nh = None\\n\\n# Zoznam vsetkeho - objekty/premenne - nazvy\\ndir()\\nprint(\"----------------------------\\\\n\")\\n# Zoznam moje objekty/premenne - nazvy\\n%who\\n\\nprint(\"----------------------------\\\\n\")\\n# Zoznam moje objekty/premenne - nazvy + typy + hodnoty\\n%whos\\n\\nprint(\"----------------------------\\\\n\")\\n# Zoznam moje objekty/premenne - nazvy\\n%who_ls\\n\\nprint(\"----------------------------\\\\n\")\\n# Zoznam moje objekty/premenne - nazvy\\nprint(vars())', '# Všetko v Pythone je objekt\\n# Primitivne objekty/premenne/primitivy\\na = 1\\nb = 9.98\\nc = True\\nd = \"Milan\"\\ne = [\"Adam\", \"Eva\", \"Karol\"]\\n#  Tica/Tupple - Nemenitelny zoznam\\nf = (1, 2, 3)\\n# Slovnik/Dict\\ng = {\"Mama\": \"Eva\", \"Otec\": \"Adam\"}\\nh = None\\n\\n# Zoznam vsetkeho - objekty/premenne - nazvy\\ndir()\\nprint(\"----------------------------\\\\n\")\\n# Zoznam moje objekty/premenne - nazvy\\n%who\\n\\nprint(\"----------------------------\\\\n\")\\n# Zoznam moje objekty/premenne - nazvy + typy + hodnoty\\n%whos\\n\\nprint(\"----------------------------\\\\n\")\\n# Zoznam moje objekty/premenne - nazvy + typy + hodnoty\\n%who_ls', '# Všetko v Pythone je objekt\\n# Primitivne objekty/premenne/primitivy\\na = 1', 1, '# Všetko v Pythone je objekt\\n# Primitivne objekty/premenne/primitivy\\na = 1\\nb = 9.98\\n\\n# Zoznam vsetkeho - objekty/premenne\\ndir()', 9.98, ['In', 'NamespaceMagics', 'Out', '_', '_Jupyter', '__', '___', '__builtin__', '__builtins__', '__doc__', '__loader__', '__name__', '__package__', '__spec__', '_dh', '_getshapeof', '_getsizeof', '_i', '_i1', '_i2', '_ih', '_ii', '_iii', '_nms', '_oh', 'a', 'autopep8', 'b', 'exit', 'get_ipython', 'getsizeof', 'json', 'np', 'quit', 'var_dic_list'], '# Všetko v Pythone je objekt\\n# Primitivne objekty/premenne/primitivy\\na = 1\\nb = 9.98\\n\\n# Zoznam vsetkeho - objekty/premenne\\ndir()\\n# Zoznam moje objekty/premenne\\n%who', '# Všetko v Pythone je objekt\\n# Primitivne objekty/premenne/primitivy\\na = 1\\nb = 9.98\\n\\n# Zoznam vsetkeho - objekty/premenne\\ndir()\\n# Zoznam moje objekty/premenne\\n%who\\n\\n# Zoznam moje objekty/premenne\\n%whos', '# Všetko v Pythone je objekt\\n# Primitivne objekty/premenne/primitivy\\na = 1\\nb = 9.98\\nc = True\\nd = \"Milan\"\\ne = [\"Adam\", \"Eva\", \"Karol\"]\\n#  Tica/Tupple - Nemenitelny zoznam\\nf = (1, 2, 3)\\n# Slovnik/Dict\\ng = {\"Mama\": \"Eva\", \"Otec\": \"Adam\"}\\nh = None\\n\\n# Zoznam vsetkeho - objekty/premenne - nazvy\\ndir()\\n# Zoznam moje objekty/premenne - nazvy\\n%who\\n\\n# Zoznam moje objekty/premenne - nazvy + typy + hodnoty\\n%whos', True, 'Milan', ['Adam', 'Eva', 'Karol'], (1, 2, 3), {'Mama': 'Eva', 'Otec': 'Adam'}, None, '# Všetko v Pythone je objekt\\n# Primitivne objekty/premenne/primitivy\\na = 1\\nb = 9.98\\nc = True\\nd = \"Milan\"\\ne = [\"Adam\", \"Eva\", \"Karol\"]\\n#  Tica/Tupple - Nemenitelny zoznam\\nf = (1, 2, 3)\\n# Slovnik/Dict\\ng = {\"Mama\": \"Eva\", \"Otec\": \"Adam\"}\\nh = None\\n\\n# Zoznam vsetkeho - objekty/premenne - nazvy\\ndir()\\nprint(\"----------------------------\\\\n\")\\n# Zoznam moje objekty/premenne - nazvy\\n%who\\n\\nprint(\"----------------------------\\\\n\")\\n# Zoznam moje objekty/premenne - nazvy + typy + hodnoty\\n%whos', '# Všetko v Pythone je objekt\\n# Primitivne objekty/premenne/primitivy\\na = 1\\nb = 9.98\\nc = True\\nd = \"Milan\"\\ne = [\"Adam\", \"Eva\", \"Karol\"]\\n#  Tica/Tupple - Nemenitelny zoznam\\nf = (1, 2, 3)\\n# Slovnik/Dict\\ng = {\"Mama\": \"Eva\", \"Otec\": \"Adam\"}\\nh = None\\n\\n# Zoznam vsetkeho - objekty/premenne - nazvy\\ndir()\\nprint(\"----------------------------\\\\n\")\\n# Zoznam moje objekty/premenne - nazvy\\n%who\\n\\nprint(\"----------------------------\\\\n\")\\n# Zoznam moje objekty/premenne - nazvy + typy + hodnoty\\n%whos\\n\\nprint(\"----------------------------\\\\n\")\\n# Zoznam moje objekty/premenne - nazvy + typy + hodnoty\\n%who_ls', ['NamespaceMagics', 'a', 'autopep8', 'b', 'c', 'd', 'e', 'f', 'g', 'get_ipython', 'getsizeof', 'h', 'json', 'np', 'var_dic_list'], '# Všetko v Pythone je objekt\\n# Primitivne objekty/premenne/primitivy\\na = 1\\nb = 9.98\\nc = True\\nd = \"Milan\"\\ne = [\"Adam\", \"Eva\", \"Karol\"]\\n#  Tica/Tupple - Nemenitelny zoznam\\nf = (1, 2, 3)\\n# Slovnik/Dict\\ng = {\"Mama\": \"Eva\", \"Otec\": \"Adam\"}\\nh = None\\n\\n# Zoznam vsetkeho - objekty/premenne - nazvy\\ndir()\\nprint(\"----------------------------\\\\n\")\\n# Zoznam moje objekty/premenne - nazvy\\n%who\\n\\nprint(\"----------------------------\\\\n\")\\n# Zoznam moje objekty/premenne - nazvy + typy + hodnoty\\n%whos\\n\\nprint(\"----------------------------\\\\n\")\\n# Zoznam moje objekty/premenne - nazvy\\n%who_ls\\n\\nprint(\"----------------------------\\\\n\")\\n# Zoznam moje objekty/premenne - nazvy\\nprint(vars())', '# Všetko v Pythone je objekt\\n# Primitivne objekty/premenne/primitivy\\na = 1\\nb = 9.98\\nc = True\\nd = \"Milan\"\\ne = [\"Adam\", \"Eva\", \"Karol\"]\\n#  Tica/Tupple - Nemenitelny zoznam\\nf = (1, 2, 3)\\n# Slovnik/Dict\\ng = {\"Mama\": \"Eva\", \"Otec\": \"Adam\"}\\nh = None\\n\\n# Zoznam vsetkeho - objekty/premenne - nazvy\\ndir()\\nprint(\"----------------------------\\\\n\")\\n# Zoznam moje objekty/premenne - nazvy\\n%who\\n\\nprint(\"----------------------------\\\\n\")\\n# Zoznam moje objekty/premenne - nazvy + typy + hodnoty\\n%whos\\n\\nprint(\"----------------------------\\\\n\")\\n# Zoznam moje objekty/premenne - nazvy\\n%who_ls\\n\\nprint(\"----------------------------\\\\n\")\\n# Zoznam moje objekty/premenne - nazvy\\nprint(vars().keys())', '# Všetko v Pythone je objekt\\n# Primitivne objekty/premenne/primitivy\\na = 1\\nb = 9.98\\nc = True\\nd = \"Milan\"\\ne = [\"Adam\", \"Eva\", \"Karol\"]\\n#  Tica/Tupple - Nemenitelny zoznam\\nf = (1, 2, 3)\\n# Slovnik/Dict\\ng = {\"Mama\": \"Eva\", \"Otec\": \"Adam\"}\\nh = None\\n\\n# Zoznam vsetkeho - objekty/premenne - nazvy\\ndir()\\nprint(\"----------------------------\\\\n\")\\n# Zoznam moje objekty/premenne - nazvy\\n%who\\n\\nprint(\"----------------------------\\\\n\")\\n# Zoznam moje objekty/premenne - nazvy + typy + hodnoty\\n%whos\\n\\nprint(\"----------------------------\\\\n\")\\n# Zoznam moje objekty/premenne - nazvy\\n%who_ls\\n\\nprint(\"----------------------------\\\\n\")\\n# Zoznam moje objekty/premenne - nazvy/kluce\\nprint(vars().keys())\\n\\nprint(\"----------------------------\\\\n\")\\n# Zoznam moje objekty/premenne - hodnoty\\nprint(vars().values())'])\n"
     ]
    }
   ],
   "source": [
    "# Všetko v Pythone je objekt\n",
    "# Primitivne objekty/premenne/primitivy\n",
    "a = 1\n",
    "b = 9.98\n",
    "c = True\n",
    "d = \"Milan\"\n",
    "e = [\"Adam\", \"Eva\", \"Karol\"]\n",
    "#  Tica/Tupple - Nemenitelny zoznam\n",
    "f = (1, 2, 3)\n",
    "# Slovnik/Dict\n",
    "g = {\"Mama\": \"Eva\", \"Otec\": \"Adam\"}\n",
    "h = None\n",
    "\n",
    "# Zoznam vsetkeho - objekty/premenne - nazvy\n",
    "dir()\n",
    "print(\"----------------------------\\n\")\n",
    "# Zoznam moje objekty/premenne - nazvy\n",
    "%who\n",
    "\n",
    "print(\"----------------------------\\n\")\n",
    "# Zoznam moje objekty/premenne - nazvy + typy + hodnoty\n",
    "%whos\n",
    "\n",
    "print(\"----------------------------\\n\")\n",
    "# Zoznam moje objekty/premenne - nazvy\n",
    "%who_ls\n",
    "\n",
    "print(\"----------------------------\\n\")\n",
    "# Zoznam moje objekty/premenne - nazvy/kluce\n",
    "print(vars().keys())\n",
    "\n",
    "print(\"----------------------------\\n\")\n",
    "# Zoznam moje objekty/premenne - hodnoty\n",
    "print(vars().values())\n"
   ]
  },
  {
   "cell_type": "markdown",
   "id": "a3fbd99d",
   "metadata": {},
   "source": [
    "# II. Objekty (Objects)"
   ]
  },
  {
   "cell_type": "code",
   "execution_count": null,
   "id": "802b2738",
   "metadata": {},
   "outputs": [],
   "source": [
    "# Objektom moze byt v principe cokolvek\n",
    "# Objekt = Podstatne meno\n",
    "strom dub\n",
    "\n",
    "1. Stavy/Atributy/Vlastnosti - *Datove zlozky/Data* - Podstatne meno\n",
    "vyska, cena, farba, typ, pocet_listov, nazov\n",
    "\n",
    "2. Spravanie/Chovanie - def/Funkcie/*Metody* - Slovesa \n",
    "rastie, stoji, dava_plody, rozprava\n",
    "\n",
    "# Stavy\n",
    "zapisnik žurnal - objekt\n",
    "sirka = 20\n",
    "vyska = 10\n",
    "pocet_listov = 100\n",
    "\n",
    "# Chovanie\n",
    "robit_poznamky()\n",
    "citat()"
   ]
  },
  {
   "cell_type": "markdown",
   "id": "23848bcf",
   "metadata": {},
   "source": [
    "# III. Triedy (Class)"
   ]
  },
  {
   "cell_type": "code",
   "execution_count": 12,
   "id": "d0b3f412",
   "metadata": {
    "ExecuteTime": {
     "end_time": "2022-06-29T08:10:03.894529Z",
     "start_time": "2022-06-29T08:10:03.886892Z"
    }
   },
   "outputs": [],
   "source": [
    "# Manual/navod ako vytvorit/pracovat s objektami\n",
    "# Ctrl + /\n",
    "# 1. Pisem/tvorim vlastne triedy\n",
    "# 2. Zoberiem existujuce triedy/kopirovat/pozicat\n",
    "# 3. Kombinacia\n",
    "\n",
    "class Pes:\n",
    "    \"\"\"\n",
    "        Trieda (abstraktne) - blueprinty/odtlacky\n",
    "        Objekty (konkretne) - instancia triedy\n",
    "    \n",
    "    \"\"\"\n",
    "    # prazdna instrukcia\n",
    "    pass\n",
    "\n"
   ]
  },
  {
   "cell_type": "code",
   "execution_count": 36,
   "id": "deb25d3b",
   "metadata": {
    "ExecuteTime": {
     "end_time": "2022-06-29T08:50:10.335017Z",
     "start_time": "2022-06-29T08:50:10.323231Z"
    }
   },
   "outputs": [
    {
     "name": "stdout",
     "output_type": "stream",
     "text": [
      "Lezi a je mu dobre...\n",
      "Spim...\n",
      "Haf haf\n",
      "Ako sa vola -->  Luigi\n",
      "Je lenivy -->  False\n",
      "Kolko ma rokov -->  0\n"
     ]
    }
   ],
   "source": [
    "class Pes:\n",
    "   # 1. Stavy/Atributy/Vlastnosti - *Datove zlozky/Data* - Podstatne meno\n",
    "    rasa = \"\" # str()\n",
    "    meno = str()\n",
    "    je_lenivy = False # bool()\n",
    "    vek = 0 # int()\n",
    "    vyska = 0.0 # float()\n",
    "    pohlavie = [\"samec\", \"samica\"] # list()\n",
    "    velkost = (0,0,0) # tupple()\n",
    "    \n",
    "    # 2. Spravanie/Chovanie - def/Funkcie/*Metody* - Slovesa \n",
    "    def lezi(self):\n",
    "        print(\"Lezi a je mu dobre...\")\n",
    "        \n",
    "    def steka(self):\n",
    "        print(\"Haf haf\")\n",
    "        \n",
    "    def spi(self):\n",
    "        print(\"Spim...\")\n",
    "        \n",
    "    def vypis_info_vsetky(self):\n",
    "        print(\"Ako sa vola --> \", self.meno)\n",
    "        print(\"Je lenivy --> \", self.je_lenivy)\n",
    "        print(\"Kolko ma rokov --> \", self.vek)\n",
    "    \n",
    "# Objekty\n",
    "# Nazov objektu = Typ/Trieda\n",
    "luigi = Pes()\n",
    "luigi.lezi()\n",
    "luigi.spi()\n",
    "luigi.steka()\n",
    "luigi.meno = \"Luigi\"\n",
    "\n",
    "luigi.vypis_info_vsetky()\n",
    "\n",
    "\n",
    "# print(luigi)\n",
    "# print(type(luigi))\n",
    "\n",
    "# mario = Pes()\n",
    "# yoshi = Pes()\n",
    "# rexo = Pes()\n",
    "\n",
    "# print(f\"Meno psa --> {luigi.meno}\")\n",
    "# luigi.meno = \"Luigi\"\n",
    "# print(f\"Meno psa --> {luigi.meno}\")\n",
    "\n",
    "# print(f\"\\nRasa psa --> {luigi.rasa}\")\n",
    "# luigi.rasa = \"pomik\"\n",
    "# print(f\"Rasa psa --> {luigi.rasa}\")\n",
    "# luigi.je_lenivy = True\n",
    "# luigi.vek = 1\n",
    "# luigi.velkost = 3.4\n",
    "# luigi.pohlavie = [\"samec\"]\n",
    "\n",
    "# print(f\"Vek psa --> {luigi.vek}\")\n",
    "\n",
    "# # 1. Identita (Princip identita)\n",
    "# # karol.rum\n",
    "# # karol.pivo\n",
    "\n",
    "# doggo = Pes()\n",
    "# doggo.meno = \"Doggo\"\n",
    "# doggo.vek = 5\n",
    "# doggo.rasa = \"Nemecky vlciak\"\n",
    "# doggo.je_lenivy = False\n",
    "\n",
    "# print(doggo.meno)\n"
   ]
  },
  {
   "cell_type": "code",
   "execution_count": 49,
   "id": "5eaebf53",
   "metadata": {
    "ExecuteTime": {
     "end_time": "2022-06-29T09:28:56.388817Z",
     "start_time": "2022-06-29T09:28:56.368820Z"
    }
   },
   "outputs": [
    {
     "name": "stdout",
     "output_type": "stream",
     "text": [
      "Nazov -->  Uvod do kreativity\n",
      "Autor -->  MIT\n",
      "Pocet stran -->  300\n",
      "\n",
      "Nazov -->  Kreativita pre pokrocilych\n",
      "Autor -->  Cambridge\n",
      "Pocet stran -->  485\n",
      "ID ucebnica python --> 2530839623904\n",
      "ID ucebnica java --> 2530849294032\n",
      "False\n",
      "True\n",
      "False\n",
      "True\n",
      "\n",
      "ID ucebnica_informatika_vs --> 2530839623904\n",
      "ID ucebnica python --> 2530839623904\n",
      "True\n",
      "True\n"
     ]
    }
   ],
   "source": [
    "class Kniha:\n",
    "    nazov = str()\n",
    "    autor = str()\n",
    "    isbn = str()\n",
    "    pocet_stran = int()\n",
    "    zaner = list()\n",
    "    \n",
    "    def vypis_info(self):\n",
    "        print(\"Nazov --> \", self.nazov)\n",
    "        print(\"Autor --> \", self.autor)\n",
    "        print(\"Pocet stran --> \", self.pocet_stran)\n",
    "        \n",
    "# Tvorime objekty = instancie triedy\n",
    "obj_kniha_kreativity_01 = Kniha()\n",
    "obj_kniha_kreativity_01.nazov = \"Uvod do kreativity\"\n",
    "obj_kniha_kreativity_01.pocet_stran = 300\n",
    "obj_kniha_kreativity_01.autor = \"MIT\"\n",
    "obj_kniha_kreativity_01.vypis_info()\n",
    "\n",
    "obj_kniha_kreativity_02 = Kniha()\n",
    "obj_kniha_kreativity_02.nazov = \"Kreativita pre pokrocilych\"\n",
    "obj_kniha_kreativity_02.pocet_stran = 485\n",
    "obj_kniha_kreativity_02.autor = \"Cambridge\"\n",
    "print(\"\")\n",
    "obj_kniha_kreativity_02.vypis_info()\n",
    "\n",
    "\n",
    "ucebnica_python = Kniha()\n",
    "ucebnica_java = Kniha()\n",
    "\n",
    "print(\"ID ucebnica python -->\", id(ucebnica_python))\n",
    "print(\"ID ucebnica java -->\", id(ucebnica_java))\n",
    "print(ucebnica_python == ucebnica_java)\n",
    "print(ucebnica_python == ucebnica_python)\n",
    "\n",
    "print(ucebnica_python is ucebnica_java)\n",
    "print(ucebnica_python is ucebnica_python)\n",
    "\n",
    "ucebnica_informatika_vs = Kniha()\n",
    "ucebnica_informatika_vs = ucebnica_python\n",
    "print(\"\\nID ucebnica_informatika_vs -->\", id(ucebnica_informatika_vs))\n",
    "print(\"ID ucebnica python -->\", id(ucebnica_python))\n",
    "print(ucebnica_informatika_vs == ucebnica_python)\n",
    "print(ucebnica_informatika_vs is ucebnica_python)"
   ]
  },
  {
   "cell_type": "markdown",
   "id": "49cdd63b",
   "metadata": {},
   "source": [
    "## IV. Konštruktory "
   ]
  },
  {
   "cell_type": "code",
   "execution_count": 69,
   "id": "cf7e4890",
   "metadata": {
    "ExecuteTime": {
     "end_time": "2022-06-29T09:58:21.359734Z",
     "start_time": "2022-06-29T09:58:21.326492Z"
    }
   },
   "outputs": [
    {
     "name": "stdout",
     "output_type": "stream",
     "text": [
      "1. dom\n",
      "Hura som v konstruktore, objekt dom je vytvoreny\n",
      "Vymera -->  300 m^2\n",
      "Cena -->  850000 Eur\n",
      "Adresa -->  ['Ivanka pri Dunaji']\n",
      "Datum vystavby -->  2022-06-29 11:58:21.334508\n",
      "Pocet izieb -->  5\n",
      "\n",
      "2. dom\n",
      "Hura som v konstruktore, objekt dom je vytvoreny\n",
      "Vymera -->  300 m^2\n",
      "Cena -->  850000 Eur\n",
      "Adresa -->  ['Ivanka pri Dunaji']\n",
      "Datum vystavby -->  2022-06-29 11:58:21.334508\n",
      "Pocet izieb -->  5\n",
      "\n",
      "\n",
      "Vymera -->  300 m^2\n",
      "Cena -->  1000000 Eur\n",
      "Adresa -->  ['Dubravka']\n",
      "Datum vystavby -->  2022-06-29 11:58:21.334508\n",
      "Pocet izieb -->  5\n",
      "2022-06-29 11:58:21.334508\n",
      "\n",
      "Dom 1 -->  2530841022864\n",
      "Dom 2 -->  2530841025744\n"
     ]
    }
   ],
   "source": [
    "import datetime\n",
    "\n",
    "class Dom:\n",
    "    # Datove zlozky/data/atributy\n",
    "    vymera = float()\n",
    "    pocet_izieb = int()\n",
    "    cena = float()\n",
    "    adresa = list()\n",
    "    pocet_poschodi = int()\n",
    "    # is, has, can\n",
    "    is_nebytovy_priestor = bool()\n",
    "    datum_vystavby = datetime.datetime.now()\n",
    "    \n",
    "    # Konstruktor/specialna metoda\n",
    "    def __init__(self):\n",
    "        print(\"Hura som v konstruktore, objekt dom je vytvoreny\")\n",
    "        self.vymera = 300\n",
    "        self.pocet_izieb = 5\n",
    "        self.cena = 850000\n",
    "        self.adresa = [\"Ivanka pri Dunaji\"]\n",
    "    \n",
    "    # Metody/def/chovanie\n",
    "    def vypis_info_vsetky(self):\n",
    "        print(\"Vymera --> \", self.vymera, \"m^2\")\n",
    "        print(\"Cena --> \", self.cena, \"Eur\")\n",
    "        print(\"Adresa --> \", self.adresa)\n",
    "        print(\"Datum vystavby --> \", self.datum_vystavby)\n",
    "        print(\"Pocet izieb --> \", self.pocet_izieb)\n",
    "        \n",
    "# Objekty/instancie triedy\n",
    "print(\"1. dom\")\n",
    "dom1 = Dom()\n",
    "dom1.vypis_info_vsetky()\n",
    "\n",
    "print(\"\\n2. dom\")\n",
    "dom2 = Dom()\n",
    "dom2.vypis_info_vsetky()\n",
    "dom2.adresa = [\"Dubravka\"]\n",
    "dom2.cena = 1000000\n",
    "\n",
    "print(\"\\n\")\n",
    "dom2.vypis_info_vsetky()\n",
    "print(dom2.datum_vystavby)\n",
    "\n",
    "# del dom1, dom2\n",
    "print(\"\\nDom 1 --> \", id(dom1))\n",
    "print(\"Dom 2 --> \", id(dom2))"
   ]
  },
  {
   "cell_type": "markdown",
   "id": "b714bd82",
   "metadata": {},
   "source": [
    "# V. Deštruktory, pendulum"
   ]
  },
  {
   "cell_type": "code",
   "execution_count": 70,
   "id": "41fa4cee",
   "metadata": {
    "ExecuteTime": {
     "end_time": "2022-06-29T10:54:24.640322Z",
     "start_time": "2022-06-29T10:54:19.498443Z"
    }
   },
   "outputs": [
    {
     "name": "stdout",
     "output_type": "stream",
     "text": [
      "Requirement already satisfied: pendulum in c:\\programdata\\anaconda3\\lib\\site-packages (2.1.2)\n",
      "Requirement already satisfied: pytzdata>=2020.1 in c:\\programdata\\anaconda3\\lib\\site-packages (from pendulum) (2020.1)\n",
      "Requirement already satisfied: python-dateutil<3.0,>=2.6 in c:\\programdata\\anaconda3\\lib\\site-packages (from pendulum) (2.8.2)\n",
      "Requirement already satisfied: six>=1.5 in c:\\programdata\\anaconda3\\lib\\site-packages (from python-dateutil<3.0,>=2.6->pendulum) (1.16.0)\n"
     ]
    }
   ],
   "source": [
    "!pip install pendulum"
   ]
  },
  {
   "cell_type": "code",
   "execution_count": 93,
   "id": "af4f908f",
   "metadata": {
    "ExecuteTime": {
     "end_time": "2022-06-29T11:24:32.288794Z",
     "start_time": "2022-06-29T11:24:32.271798Z"
    }
   },
   "outputs": [
    {
     "name": "stdout",
     "output_type": "stream",
     "text": [
      "2022-06-29T13:24:32.275795+02:00  - Clovek Adam bol vytvoreny a ma mzdu 1598.23\n",
      "2022-06-29T13:24:32.276795+02:00  - Clovek Eva bol vytvoreny a ma mzdu 1965.31\n",
      "2022-06-29T13:24:32.276795+02:00 \n",
      "Objekt/instancia triedy bola vymazana... <class '__main__.Clovek'>\n",
      "2022-06-29T13:24:32.276795+02:00  - Clovek Milan bol vytvoreny a ma mzdu 1297.42\n",
      "2022-06-29T13:24:32.276795+02:00 \n",
      "Objekt/instancia triedy bola vymazana... <class '__main__.Clovek'>\n",
      "2022-06-29T13:24:32.276795+02:00  - Clovek Oto bol vytvoreny a ma mzdu 1400\n",
      "2022-06-29T13:24:32.276795+02:00 \n",
      "Objekt/instancia triedy bola vymazana... <class '__main__.Clovek'>\n",
      "2022-06-29T13:24:32.277795+02:00  - Clovek Peter bol vytvoreny a ma mzdu 1400\n",
      "2022-06-29T13:24:32.277795+02:00 \n",
      "Objekt/instancia triedy bola vymazana... <class '__main__.Clovek'>\n",
      "2022-06-29T13:24:32.277795+02:00 \n",
      "Objekt/instancia triedy bola vymazana... <class '__main__.Clovek'>\n",
      "2022-06-29T13:24:32.277795+02:00 \n",
      "Objekt/instancia triedy bola vymazana... <class '__main__.Clovek'>\n"
     ]
    }
   ],
   "source": [
    "import pendulum\n",
    "import re\n",
    "import pandas\n",
    "\n",
    "class Clovek:\n",
    "    \"\"\"\n",
    "        Dokumentacny retazec\n",
    "        Sem piseme dokumentaciu...\n",
    "    \"\"\"\n",
    "    meno = str()\n",
    "    priezvisko = str()\n",
    "    mzda = .0\n",
    "    vek = int()\n",
    "    # Zapuzdrenie - Enkapsulacia\n",
    "    # Skryvanie informacie\n",
    "    _heslo_PC = \"1234\"\n",
    "    __heslo_Banka = \"heslo\"\n",
    "    \n",
    "    # Konstruktor\n",
    "    def __init__(self, meno = \"Peter\", mzda = 1400):\n",
    "        self.meno = meno\n",
    "        self.mzda = mzda\n",
    "        print(pendulum.now(), f\" - Clovek {self.meno} bol vytvoreny a ma mzdu {self.mzda}\")\n",
    "\n",
    "    # Destruktor\n",
    "    def __del__(self):\n",
    "        print(pendulum.now(), \"\\nObjekt/instancia triedy bola vymazana...\", self.__class__)\n",
    "    \n",
    "# print(adam.__doc__)\n",
    "# print(Clovek.__doc__)\n",
    "clovek1 = Clovek(\"Adam\", 1598.23)\n",
    "clovek2 = Clovek(\"Eva\", 1965.31)\n",
    "clovek3 = Clovek(\"Milan\", 1297.42)\n",
    "clovek4 = Clovek(\"Oto\")\n",
    "clovek5 = Clovek()\n",
    "\n",
    "del clovek1, clovek2\n"
   ]
  },
  {
   "cell_type": "code",
   "execution_count": 102,
   "id": "f82a3699",
   "metadata": {
    "ExecuteTime": {
     "end_time": "2022-06-29T11:29:20.626539Z",
     "start_time": "2022-06-29T11:29:20.608015Z"
    }
   },
   "outputs": [
    {
     "name": "stdout",
     "output_type": "stream",
     "text": [
      "2022-06-29T13:29:20.611015+02:00\n",
      "2022-06-29T21:29:20.611015+10:00\n",
      "2022-06-29T07:29:20.611015-04:00\n",
      "2022-07-01T13:29:20.611015+02:00\n"
     ]
    }
   ],
   "source": [
    "import pendulum\n",
    "dnes_ba = pendulum.now(\"Europe/Bratislava\")\n",
    "dnes_sy = pendulum.now(\"Australia/Sydney\")\n",
    "dnes_to = pendulum.now(\"America/Toronto\")\n",
    "\n",
    "print(dnes_ba)\n",
    "print(dnes_sy)\n",
    "print(dnes_to)\n",
    "\n",
    "# Default support for common datetime formats\n",
    "# print(dnes_ba.to_iso8601_string())\n",
    "\n",
    "# Shifting\n",
    "dnes_ba = dnes_ba.add(days=2)\n",
    "print(dnes_ba)\n",
    "\n"
   ]
  },
  {
   "cell_type": "code",
   "execution_count": 108,
   "id": "1909aac6",
   "metadata": {
    "ExecuteTime": {
     "end_time": "2022-06-29T16:19:43.066472Z",
     "start_time": "2022-06-29T16:19:43.056473Z"
    }
   },
   "outputs": [
    {
     "name": "stdout",
     "output_type": "stream",
     "text": [
      "+-------+-----+---------+\n",
      "|  Meno | Vek |   Mzda  |\n",
      "+-------+-----+---------+\n",
      "|  Adam |  28 | 1899.43 |\n",
      "|  Eva  |  28 | 1899.43 |\n",
      "| Milan |  28 | 1899.43 |\n",
      "+-------+-----+---------+\n"
     ]
    }
   ],
   "source": [
    "#!pip install prettytable\n",
    "import prettytable\n",
    "tabulka = prettytable.PrettyTable([\"Meno\", \"Vek\", \"Mzda\"])\n",
    "tabulka.add_row([\"Adam\", 28, 1899.43])\n",
    "tabulka.add_row([\"Eva\", 28, 1899.43])\n",
    "tabulka.add_row([\"Milan\", 28, 1899.43])\n",
    "print(tabulka)\n"
   ]
  },
  {
   "cell_type": "code",
   "execution_count": null,
   "id": "ea5a4fc4",
   "metadata": {},
   "outputs": [],
   "source": []
  }
 ],
 "metadata": {
  "kernelspec": {
   "display_name": "Python 3 (ipykernel)",
   "language": "python",
   "name": "python3"
  },
  "language_info": {
   "codemirror_mode": {
    "name": "ipython",
    "version": 3
   },
   "file_extension": ".py",
   "mimetype": "text/x-python",
   "name": "python",
   "nbconvert_exporter": "python",
   "pygments_lexer": "ipython3",
   "version": "3.9.7"
  },
  "toc": {
   "base_numbering": 1,
   "nav_menu": {},
   "number_sections": true,
   "sideBar": true,
   "skip_h1_title": false,
   "title_cell": "Table of Contents",
   "title_sidebar": "Contents",
   "toc_cell": false,
   "toc_position": {},
   "toc_section_display": true,
   "toc_window_display": false
  },
  "varInspector": {
   "cols": {
    "lenName": 16,
    "lenType": 16,
    "lenVar": 40
   },
   "kernels_config": {
    "python": {
     "delete_cmd_postfix": "",
     "delete_cmd_prefix": "del ",
     "library": "var_list.py",
     "varRefreshCmd": "print(var_dic_list())"
    },
    "r": {
     "delete_cmd_postfix": ") ",
     "delete_cmd_prefix": "rm(",
     "library": "var_list.r",
     "varRefreshCmd": "cat(var_dic_list()) "
    }
   },
   "oldHeight": 401.815,
   "position": {
    "height": "40px",
    "left": "541.762px",
    "right": "20px",
    "top": "90px",
    "width": "417px"
   },
   "types_to_exclude": [
    "module",
    "function",
    "builtin_function_or_method",
    "instance",
    "_Feature"
   ],
   "varInspector_section_display": "none",
   "window_display": true
  }
 },
 "nbformat": 4,
 "nbformat_minor": 5
}
