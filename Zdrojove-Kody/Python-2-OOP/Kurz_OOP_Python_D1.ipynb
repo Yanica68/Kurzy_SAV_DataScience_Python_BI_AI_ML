{
 "cells": [
  {
   "cell_type": "markdown",
   "id": "8c8c4897",
   "metadata": {},
   "source": [
    "# 🐍Python Objektové programovanie\n"
   ]
  },
  {
   "cell_type": "markdown",
   "id": "838169ff",
   "metadata": {},
   "source": [
    "## I. Premenné a objekty"
   ]
  },
  {
   "cell_type": "code",
   "execution_count": 20,
   "id": "d7a3574a",
   "metadata": {
    "scrolled": false
   },
   "outputs": [],
   "source": [
    "# Primitivne objekty/premmene/primitivy\n",
    "a = 1\n",
    "b = 3.2\n",
    "c = True\n",
    "d = \"Adam\"\n",
    "e = [\"Mama\", \"Otec\", \"Teta\"]\n",
    "f = (1, 2, 3)\n",
    "g = {\"Mama\":\"Maria\", \"Otec\": \"Karol\"}\n",
    "h = None\n",
    "\n",
    "# Zoznam vsetkeho - objekty/premenne\n",
    "# dir()\n",
    "# Zoznam moje objekty/premenne - názvy aj typ a hodnoty\n",
    "# %who\n",
    "# print(\"-----------------------------------------\\n\")\n",
    "\n",
    "# # Zoznam moje objekty/premenne\n",
    "# %whos\n",
    "\n",
    "# print(\"-----------------------------------------\\n\")\n",
    "# # Zoznam moje objekty/premenne\n",
    "# %who_ls\n",
    "\n",
    "# print(vars())\n",
    "\n",
    "# Zoznam vsetkeho - objekty/premenne - len nazvy (slovnik)\n",
    "# vars().keys()\n",
    "\n",
    "# Zoznam vsetkeho - objekty/premenne - len hodnoty (slovnik)\n",
    "# vars().values()"
   ]
  },
  {
   "cell_type": "markdown",
   "id": "21b3fd98",
   "metadata": {},
   "source": [
    "## Aktivácia doplnku Variable inspector\n",
    "pip install jupyter_contrib_nbextensions  \n",
    "jupyter contrib nbextension install --user  \n",
    "jupyter nbextension enable varInspector/ "
   ]
  },
  {
   "cell_type": "markdown",
   "id": "76a4616c",
   "metadata": {},
   "source": [
    "## II. Objekty"
   ]
  },
  {
   "cell_type": "code",
   "execution_count": null,
   "id": "c483b08e",
   "metadata": {},
   "outputs": [],
   "source": [
    "Objekt = Podstatné meno\n",
    "Objekt = Strom\n",
    "\n",
    "1. Stavy/Atributy/Vlastnosti - *Datove Zlozky/Data* - Podstatne mena\n",
    "vyska, cena, farba, typstrom, pocet listkov\n",
    "\n",
    "2. Spravanie/Chovanie - Def/Funkcie/*Metody* - Slovesa\n",
    "rastie, dava_plody, rozprava\n",
    "\n",
    "zapisnik/journal\n",
    "\n",
    "farba = cierny\n",
    "sirka, vyska = 20 cm\n",
    "pocet_listov = 80\n",
    "\n",
    "robit_poznamky()\n",
    "citat()\n",
    "\n"
   ]
  },
  {
   "cell_type": "markdown",
   "id": "996554f2",
   "metadata": {},
   "source": [
    "## III. Triedy (Class)"
   ]
  },
  {
   "cell_type": "code",
   "execution_count": 52,
   "id": "bdf5a47a",
   "metadata": {
    "scrolled": true
   },
   "outputs": [
    {
     "name": "stdout",
     "output_type": "stream",
     "text": [
      "Na zaciatku/Pred priradeni hodnot:\n",
      "Spi...\n",
      "Haf haf\n",
      "Ako sa vola --> \n",
      "Je lenivy --> False\n",
      "Kolko ma rokov --> 0\n",
      "\n",
      "Po priradeni hodnot:\n",
      "Ako sa vola --> Rexo\n",
      "Je lenivy --> True\n",
      "Kolko ma rokov --> 5\n",
      "samec\n"
     ]
    }
   ],
   "source": [
    "# Manual/Navod ako vytvorit objetky\n",
    "\n",
    "# Trieda\n",
    "class Pes:\n",
    "    \"\"\"\n",
    "        Trieda manual/navod ako vytvarat objekty \n",
    "        Kuchar - recept podla, ktoreho navarim jedlo\n",
    "        Architekt - plan podla, ktoreho postavam budovu\n",
    "        Trieda (abstraktne) - blueprinty\n",
    "        Objekt (konkretne) - instancie triedy\n",
    "    \"\"\"\n",
    "    # 1. Stavy/Atributy/Vlastnosti - *Datove Zlozky/Data* - Podstatne mena\n",
    "    rasa = \"\"         # str()\n",
    "    meno = str()\n",
    "    jeLenivy = False  # bool()\n",
    "    vek = 0           # int()\n",
    "    vyska = 0.0       # float()\n",
    "    pohlavie = [\"samec\", \"samica\"]  # list()\n",
    "    velkost = (0, 0, 0) # tuple()\n",
    "    \n",
    "    # 2. Spravanie/Chovanie - Def/Funkcie/*Metody* - Slovesa\n",
    "    def lezi(self):\n",
    "        print(\"Lezi a je mu dobre...\")\n",
    "        \n",
    "    def steka(self):\n",
    "        print(\"Haf haf\")\n",
    " \n",
    "    def spi(self):\n",
    "        print(\"Spi...\")\n",
    "        \n",
    "    def vypis_info_vsetky(self):\n",
    "        print(\"Ako sa vola -->\", self.meno)\n",
    "        print(\"Je lenivy -->\", self.jeLenivy)\n",
    "        print(\"Kolko ma rokov -->\", self.vek)\n",
    " \n",
    "# print(\"Nazov: \", luigi)\n",
    "# print(\"Typ: \", type(luigi))\n",
    "\n",
    "# Objekty\n",
    "# Nazov objekt = Typ/Trieda\n",
    "luigi = Pes()\n",
    "mario = Pes()\n",
    "\n",
    "# print(\"Na zaciatku/Pred priradeni hodnot:\")\n",
    "# print(luigi.meno)\n",
    "# print(luigi.vek)\n",
    "# print(luigi.rasa)\n",
    "# print(luigi.jeLenivy)\n",
    "\n",
    "luigi.meno = \"Luigi\"\n",
    "luigi.vek = 2\n",
    "luigi.rasa = \"Pomik\"\n",
    "luigi.jeLenivy = True\n",
    "\n",
    "# print(\"\\nPo priradeni hodnot:\")\n",
    "# print(luigi.meno)\n",
    "# print(luigi.vek)\n",
    "# print(luigi.rasa)\n",
    "# print(luigi.jeLenivy)\n",
    "\n",
    "# Vytvorte si idealny objekt psik\n",
    "print(\"Na zaciatku/Pred priradeni hodnot:\")\n",
    "rexo = Pes()\n",
    "rexo.spi()\n",
    "rexo.steka()\n",
    "rexo.vypis_info_vsetky()\n",
    "\n",
    "print(\"\\nPo priradeni hodnot:\")\n",
    "rexo.meno = \"Rexo\"\n",
    "rexo.vek = 5\n",
    "rexo.jeLenivy = True\n",
    "rexo.vypis_info_vsetky()\n",
    "print(rexo.pohlavie[0])"
   ]
  },
  {
   "cell_type": "code",
   "execution_count": 65,
   "id": "7b2a0bb1",
   "metadata": {},
   "outputs": [
    {
     "name": "stdout",
     "output_type": "stream",
     "text": [
      "Nazov -->  Uvod do kreativity\n",
      "ISBN -->  4564646\n",
      "Pocet stran -->  450\n",
      "\n",
      "Objekt kniha1 -->  2269552093120\n",
      "Objekt kniha2 -->  2269551665216\n",
      "Su rovnake -->  False\n",
      "\n",
      "Objekt kniha1 -->  2269552093120\n",
      "Objekt kniha2 -->  2269552093120\n",
      "Su rovnake -->  True\n",
      "['ISBN', '__class__', '__delattr__', '__dict__', '__dir__', '__doc__', '__eq__', '__format__', '__ge__', '__getattribute__', '__gt__', '__hash__', '__init__', '__init_subclass__', '__le__', '__lt__', '__module__', '__ne__', '__new__', '__reduce__', '__reduce_ex__', '__repr__', '__setattr__', '__sizeof__', '__str__', '__subclasshook__', '__weakref__', 'autor', 'nazov', 'pocet_stran', 'vypis_info', 'zaner']\n"
     ]
    }
   ],
   "source": [
    "class Kniha:\n",
    "    nazov = str()\n",
    "    ISBN = str()\n",
    "    autor = str()\n",
    "    pocet_stran = int()\n",
    "    zaner = list()\n",
    "    \n",
    "    def vypis_info(self):\n",
    "        print(\"Nazov --> \", self.nazov)\n",
    "        print(\"ISBN --> \", self.ISBN)\n",
    "        print(\"Pocet stran --> \", self.pocet_stran)\n",
    "        \n",
    "obj_kniha_kreativita_01 = Kniha()\n",
    "obj_kniha_kreativita_01.nazov = \"Uvod do kreativity\"\n",
    "obj_kniha_kreativita_01.pocet_stran = 450\n",
    "obj_kniha_kreativita_01.ISBN = \"4564646\"\n",
    "\n",
    "obj_kniha_kreativita_01.vypis_info()\n",
    "# print(dir(Kniha))\n",
    "\n",
    "obj_kniha_kreativita_02 = Kniha()\n",
    "obj_kniha_kreativita_02.nazov = \"Kreativita pre pokročilýcg\"\n",
    "obj_kniha_kreativita_02.pocet_stran = 732\n",
    "obj_kniha_kreativita_02.ISBN = \"7978322\"\n",
    "\n",
    "kniha1 = Kniha()\n",
    "kniha2 = Kniha()\n",
    "\n",
    "print(\"\\nObjekt kniha1 --> \", id(kniha1))\n",
    "print(\"Objekt kniha2 --> \", id(kniha2))\n",
    "print(\"Su rovnake --> \", id(kniha1) == id(kniha2))\n",
    "\n",
    "kniha2 = kniha1\n",
    "\n",
    "print(\"\\nObjekt kniha1 --> \", id(kniha1))\n",
    "print(\"Objekt kniha2 --> \", id(kniha2))\n",
    "print(\"Su rovnake --> \", id(kniha1) == id(kniha2))\n",
    "\n",
    "print(dir(kniha1))\n"
   ]
  },
  {
   "cell_type": "markdown",
   "id": "f0959e56",
   "metadata": {},
   "source": [
    "## IV. Konstruktory"
   ]
  },
  {
   "cell_type": "code",
   "execution_count": 82,
   "id": "ff28d90f",
   "metadata": {},
   "outputs": [
    {
     "name": "stdout",
     "output_type": "stream",
     "text": [
      "1. dom\n",
      "Hura som v konstruktore, objekt dom je vytvoreny\n",
      "Pocet poschodi -->  3\n",
      "Cena -->  299000.99\n",
      "Vymera -->  0.0\n",
      "Adresa -->  ['Ruzinov']\n",
      "\n",
      "2. dom\n",
      "Hura som v konstruktore, objekt dom je vytvoreny\n",
      "Pocet poschodi -->  3\n",
      "Cena -->  299000.99\n",
      "Vymera -->  0.0\n",
      "Adresa -->  ['Ruzinov']\n"
     ]
    }
   ],
   "source": [
    "import datetime\n",
    "\n",
    "class Dom:\n",
    "    pocet_poschodi = int()\n",
    "    adresa = list()\n",
    "    supisne_cislo = str()\n",
    "    vymera = float()\n",
    "    typ_strecha = tuple()\n",
    "    cena = float()\n",
    "    datum_vystavby = datetime.datetime.now()\n",
    "  \n",
    "    # Konstruktor\n",
    "    def __init__(self):\n",
    "        print(\"Hura som v konstruktore, objekt dom je vytvoreny\")\n",
    "        self.pocet_poschodi = 3\n",
    "        self.cena = 299_000.99\n",
    "        self.adresa = [\"Ruzinov\"]\n",
    "        \n",
    "    def vypis_info_vsetky(self):\n",
    "        print(\"Pocet poschodi --> \", self.pocet_poschodi)\n",
    "        print(\"Cena --> \", self.cena)\n",
    "        print(\"Vymera --> \", self.vymera)\n",
    "        print(\"Adresa --> \", self.adresa)\n",
    "    \n",
    "# Nazov objekt = Konstruktor / Typ/Trieda  \n",
    "print(\"1. dom\")\n",
    "dom1 = Dom()\n",
    "dom1.vypis_info_vsetky()\n",
    "\n",
    "print(\"\\n2. dom\")\n",
    "dom2 = Dom()\n",
    "dom2.vypis_info_vsetky()\n",
    "\n",
    "# Vymaz/odstran objekt\n",
    "# del dom1\n",
    "\n"
   ]
  },
  {
   "cell_type": "code",
   "execution_count": 119,
   "id": "24d8605d",
   "metadata": {},
   "outputs": [
    {
     "name": "stdout",
     "output_type": "stream",
     "text": [
      "Stvoril som cloveka s menom:  Karol , hmotnost: 94.5 , vyska: 180.5\n",
      "Stvoril som cloveka s meno: Karol, hmotnostou: 94.5 a vyskou: 180.5\n",
      "Stvoril som cloveka s menom: Karol, hmotnostou: 94.5 a vyskou: 180.5\n",
      "-----------\n",
      "Stvoril som cloveka s menom:  Jozef , hmotnost: 100.3 , vyska: 191.3\n",
      "Stvoril som cloveka s meno: Jozef, hmotnostou: 100.3 a vyskou: 191.3\n",
      "Stvoril som cloveka s menom: Jozef, hmotnostou: 100.3 a vyskou: 191.3\n",
      "-----------\n",
      "Stvoril som cloveka s menom:  Adam , hmotnost: 95.8 , vyska: 186.7\n",
      "Stvoril som cloveka s meno: Adam, hmotnostou: 95.8 a vyskou: 186.7\n",
      "Stvoril som cloveka s menom: Adam, hmotnostou: 95.8 a vyskou: 186.7\n",
      "\n",
      "Objekt/instancia triedy clovek bola vymazana... <class '__main__.Clovek'>\n",
      "2022-04-27 17:55:29.452822  -  <class '__main__.Clovek'> vymazany objekt...\n",
      "2022-04-27T17:55:29.453822+02:00  -  <class '__main__.Clovek'> vymazany objekt...\n",
      "-----------\n",
      "Stvoril som cloveka s menom:  Eva , hmotnost: 95.8 , vyska: 186.7\n",
      "Stvoril som cloveka s meno: Eva, hmotnostou: 95.8 a vyskou: 186.7\n",
      "Stvoril som cloveka s menom: Eva, hmotnostou: 95.8 a vyskou: 186.7\n",
      "\n",
      "Objekt/instancia triedy clovek bola vymazana... <class '__main__.Clovek'>\n",
      "2022-04-27 17:55:29.457822  -  <class '__main__.Clovek'> vymazany objekt...\n",
      "2022-04-27T17:55:29.457822+02:00  -  <class '__main__.Clovek'> vymazany objekt...\n",
      "-----------\n",
      "Stvoril som cloveka s menom:  Maria , hmotnost: 52.3 , vyska: 186.7\n",
      "Stvoril som cloveka s meno: Maria, hmotnostou: 52.3 a vyskou: 186.7\n",
      "Stvoril som cloveka s menom: Maria, hmotnostou: 52.3 a vyskou: 186.7\n",
      "\n",
      "Objekt/instancia triedy clovek bola vymazana... <class '__main__.Clovek'>\n",
      "2022-04-27 17:55:29.457822  -  <class '__main__.Clovek'> vymazany objekt...\n",
      "2022-04-27T17:55:29.458823+02:00  -  <class '__main__.Clovek'> vymazany objekt...\n",
      "-----------\n",
      "Stvoril som cloveka s menom:  Adam , hmotnost: 60 , vyska: 186.7\n",
      "Stvoril som cloveka s meno: Adam, hmotnostou: 60 a vyskou: 186.7\n",
      "Stvoril som cloveka s menom: Adam, hmotnostou: 60 a vyskou: 186.7\n",
      "\n",
      "Objekt/instancia triedy clovek bola vymazana... <class '__main__.Clovek'>\n",
      "2022-04-27 17:55:29.461823  -  <class '__main__.Clovek'> vymazany objekt...\n",
      "2022-04-27T17:55:29.462836+02:00  -  <class '__main__.Clovek'> vymazany objekt...\n",
      "-----------\n",
      "Stvoril som cloveka s menom:  Ivan , hmotnost: 70 , vyska: 130\n",
      "Stvoril som cloveka s meno: Ivan, hmotnostou: 70 a vyskou: 130\n",
      "Stvoril som cloveka s menom: Ivan, hmotnostou: 70 a vyskou: 130\n",
      "\n",
      "Objekt/instancia triedy clovek bola vymazana... <class '__main__.Clovek'>\n",
      "2022-04-27 17:55:29.462836  -  <class '__main__.Clovek'> vymazany objekt...\n",
      "2022-04-27T17:55:29.468830+02:00  -  <class '__main__.Clovek'> vymazany objekt...\n",
      "\n",
      "Objekt/instancia triedy clovek bola vymazana... <class '__main__.Clovek'>\n",
      "2022-04-27 17:55:29.469849  -  <class '__main__.Clovek'> vymazany objekt...\n",
      "2022-04-27T17:55:29.469849+02:00  -  <class '__main__.Clovek'> vymazany objekt...\n",
      "\n",
      "Objekt/instancia triedy clovek bola vymazana... <class '__main__.Clovek'>\n",
      "2022-04-27 17:55:29.470848  -  <class '__main__.Clovek'> vymazany objekt...\n",
      "2022-04-27T17:55:29.470848+02:00  -  <class '__main__.Clovek'> vymazany objekt...\n"
     ]
    }
   ],
   "source": [
    "# !pip install pendulum\n",
    "import pendulum\n",
    "\n",
    "class Clovek:\n",
    "    meno = str()\n",
    "    priezvisko = str()\n",
    "    hmotnost = .0\n",
    "    mzda = .0\n",
    "    vyska = .0\n",
    "    farba_vlasov = list()\n",
    "    __email = str()\n",
    "    \n",
    "    # Konstruktor\n",
    "    def __init__(self, meno = \"Adam\", hmotnost = 95.8, vyska = 186.7):\n",
    "        self.meno = meno\n",
    "        self.hmotnost = hmotnost\n",
    "        self.vyska = vyska\n",
    "        print(\"Stvoril som cloveka s menom: \", self.meno, \", hmotnost:\", self.hmotnost, \", vyska:\", self.vyska)\n",
    "        print(\"Stvoril som cloveka s meno: {}, hmotnostou: {} a vyskou: {}\".format(self.meno, self.hmotnost, self.vyska))\n",
    "        print(f\"Stvoril som cloveka s menom: {self.meno}, hmotnostou: {self.hmotnost} a vyskou: {self.vyska}\")\n",
    "\n",
    "    # Destruktor\n",
    "    def __del__(self):\n",
    "        print(\"\\nObjekt/instancia triedy clovek bola vymazana...\", self.__class__)\n",
    "        print(datetime.datetime.now() , \" - \", self.__class__, \"vymazany objekt...\")\n",
    "        print(pendulum.now() , \" - \", self.__class__, \"vymazany objekt...\")\n",
    "\n",
    "        \n",
    "\n",
    "karol = Clovek(\"Karol\", 94.5, 180.5)\n",
    "print(\"-----------\")\n",
    "jozef = Clovek(\"Jozef\", 100.3, 191.3)\n",
    "print(\"-----------\")\n",
    "clovek3 = Clovek()\n",
    "print(\"-----------\")\n",
    "clovek4 = Clovek(\"Eva\")\n",
    "print(\"-----------\")\n",
    "clovek5 = Clovek(\"Maria\", 52.3)\n",
    "print(\"-----------\")\n",
    "clovek6 = Clovek(hmotnost = 60)\n",
    "print(\"-----------\")\n",
    "clovek7 = Clovek(hmotnost = 70, vyska = 130, meno = \"Ivan\")\n",
    "\n",
    "del karol, jozef\n"
   ]
  },
  {
   "cell_type": "code",
   "execution_count": 113,
   "id": "3cb75f8b",
   "metadata": {},
   "outputs": [
    {
     "name": "stdout",
     "output_type": "stream",
     "text": [
      "Requirement already satisfied: pendulum in c:\\programdata\\anaconda3\\lib\\site-packages (2.1.2)\n",
      "Requirement already satisfied: python-dateutil<3.0,>=2.6 in c:\\programdata\\anaconda3\\lib\\site-packages (from pendulum) (2.8.2)\n",
      "Requirement already satisfied: pytzdata>=2020.1 in c:\\programdata\\anaconda3\\lib\\site-packages (from pendulum) (2020.1)\n",
      "Requirement already satisfied: six>=1.5 in c:\\programdata\\anaconda3\\lib\\site-packages (from python-dateutil<3.0,>=2.6->pendulum) (1.16.0)\n"
     ]
    }
   ],
   "source": []
  },
  {
   "cell_type": "code",
   "execution_count": 124,
   "id": "72766016",
   "metadata": {},
   "outputs": [
    {
     "name": "stdout",
     "output_type": "stream",
     "text": [
      "2022-04-27T11:57:18.890972-04:00\n"
     ]
    }
   ],
   "source": [
    "import pendulum\n",
    "now = pendulum.now(\"America/Toronto\")\n",
    "print(now)"
   ]
  },
  {
   "cell_type": "code",
   "execution_count": null,
   "id": "d007449a",
   "metadata": {},
   "outputs": [],
   "source": []
  }
 ],
 "metadata": {
  "kernelspec": {
   "display_name": "Python 3 (ipykernel)",
   "language": "python",
   "name": "python3"
  },
  "language_info": {
   "codemirror_mode": {
    "name": "ipython",
    "version": 3
   },
   "file_extension": ".py",
   "mimetype": "text/x-python",
   "name": "python",
   "nbconvert_exporter": "python",
   "pygments_lexer": "ipython3",
   "version": "3.9.7"
  },
  "varInspector": {
   "cols": {
    "lenName": 16,
    "lenType": 16,
    "lenVar": 40
   },
   "kernels_config": {
    "python": {
     "delete_cmd_postfix": "",
     "delete_cmd_prefix": "del ",
     "library": "var_list.py",
     "varRefreshCmd": "print(var_dic_list())"
    },
    "r": {
     "delete_cmd_postfix": ") ",
     "delete_cmd_prefix": "rm(",
     "library": "var_list.r",
     "varRefreshCmd": "cat(var_dic_list()) "
    }
   },
   "oldHeight": 385.806,
   "position": {
    "height": "40px",
    "left": "583.556px",
    "right": "20px",
    "top": "38px",
    "width": "440px"
   },
   "types_to_exclude": [
    "module",
    "function",
    "builtin_function_or_method",
    "instance",
    "_Feature"
   ],
   "varInspector_section_display": "none",
   "window_display": true
  }
 },
 "nbformat": 4,
 "nbformat_minor": 5
}
