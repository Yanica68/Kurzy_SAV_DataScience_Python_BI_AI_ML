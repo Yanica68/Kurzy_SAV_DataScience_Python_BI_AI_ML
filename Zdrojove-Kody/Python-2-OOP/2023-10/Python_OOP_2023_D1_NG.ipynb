{
 "cells":[
  {
   "cell_type":"markdown",
   "source":[
    "# 🐍 Kurz Python II. Mierne Pokročilý (OOP)\n",
    "**🧑‍🏫 Lektor:** Miroslav Reiter  \n",
    "**📥 LinkedIn kontakt:** https:\/\/www.linkedin.com\/in\/miroslav-reiter\/  \n",
    "\n",
    "**✅ Osnova:** https:\/\/itkurzy.sav.sk\/node\/94 \n",
    "\n",
    "**🎞️ YouTube videá:** https:\/\/www.youtube.com\/c\/IT-AcademySK  \n",
    "**📇 Zdrojové kódy a materiály:** https:\/\/github.com\/miroslav-reiter\/Kurzy_SAV_Analytika_Python_R  \n",
    "\n",
    "**😊 Emojis:** Win + .  "
   ],
   "attachments":{
    
   },
   "metadata":{
    "datalore":{
     "node_id":"qRdXhRnZVVPQc9OEaStvFK",
     "type":"MD",
     "hide_input_from_viewers":false,
     "hide_output_from_viewers":false,
     "report_properties":{
      "rowId":"e3SflrAZQKNNp9Bvno12Hw"
     }
    }
   }
  },
  {
   "cell_type":"markdown",
   "source":[
    "## 🗃️ Premenné a Objekty\n",
    "Premenné = Primitívne objekty = Primitívy  \n",
    "* **Všetko v Pythone je v skutočnosti objekt**  \n",
    "* Každá entita má nejaké metadáta (nazývané atribúty) a súvisiace funkcie (nazývané metódy).   \n",
    "* K týmto atribútom a metódam sa pristupuje prostredníctvom bodkovej syntaxe. \n",
    "* Áno, aj čísla, funkcie, zlomky alebo moduly\n",
    "\n",
    "**Python využíva** na písanie programov **objektovo orientovaný programovania prístup** (OOP).   \n",
    "**Procedurálne programovanie** je orientované na procedúry a využíva funkcie\/definície (def).  \n",
    "**Objektovo orientované programovanie** (OOP) používa **objekty**.\n",
    "\n",
    "IntelliSense: Ctrl + Enter"
   ],
   "attachments":{
    
   },
   "metadata":{
    "datalore":{
     "node_id":"JUfWMCHKoqfIN5eNYzWbKA",
     "type":"MD",
     "hide_input_from_viewers":false,
     "hide_output_from_viewers":false,
     "report_properties":{
      "rowId":"e3SflrAZQKNNp9Bvno12Hw"
     }
    }
   }
  },
  {
   "cell_type":"code",
   "source":[
    "  \n",
    "# Cele\n",
    "  \n",
    "# Realne\n",
    "\n",
    "# Complex\n",
    " \n",
    "# Bajty\n",
    "\n",
    "\n",
    "\n",
    "# Zoznam (list)\n",
    "\n",
    "# tice (tupple) ()\n",
    "\n",
    "# Slovnik (dict) {kluc:hodnota} {key:value}\n",
    "\n",
    "# Mnozina (set) {hodnoty\/kluce}\n",
    "\n",
    "\n",
    "# Zoznam objektov\/premenne"
   ],
   "execution_count":4,
   "outputs":[
    {
     "name":"stdout",
     "text":[
      "Dnes je: 2023-03-22 08:58:20.824321\n"
     ],
     "output_type":"stream"
    },
    {
     "data":{
      "text\/plain":[
       "['DataloreMetric',\n",
       " 'SQLError',\n",
       " 'a',\n",
       " 'b',\n",
       " 'c',\n",
       " 'd',\n",
       " 'datetime',\n",
       " 'e',\n",
       " 'f',\n",
       " 'g',\n",
       " 'h',\n",
       " 'i',\n",
       " 'j',\n",
       " 'json',\n",
       " 'k',\n",
       " 'l',\n",
       " 'logging',\n",
       " 'os']"
      ]
     },
     "metadata":{
      
     },
     "output_type":"display_data"
    }
   ],
   "metadata":{
    "datalore":{
     "node_id":"RQ2tdP345DBalX4VWLv9Qi",
     "type":"CODE",
     "hide_input_from_viewers":false,
     "hide_output_from_viewers":false,
     "report_properties":{
      "rowId":"e3SflrAZQKNNp9Bvno12Hw"
     }
    }
   }
  },
  {
   "cell_type":"markdown",
   "source":[
    "## 📓 Objekty\n",
    "**Objekt** = **Podstatné meno**  \n",
    "Objekty sú súborom dát a metód, ktoré fungujú na základe údajov, ktoré uchovávajú. Dáta si môžete predstaviť ako premenné a metódy vytvárajú funkcionalitu.  \n",
    "\n",
    "Príklady\n",
    "Objekty   \n",
    "* strom lipa,   \n",
    "* zalohova faktura,   \n",
    "* kniha coelho,   \n",
    "* film kocur v cizman,   \n",
    "* kurz python oop  \n",
    "\n",
    "Z čoho je objekt zložený\/čo obsahuje:\n",
    "1. Stavy\/**Atributy**\/Vlastnosti\/Datove Zlozky\/Data:  \n",
    "...\n",
    "2. Chovanie\/Spravanie - Def\/Funkcie\/**Metody** - Slovesa:   \n",
    "   ... "
   ],
   "attachments":{
    
   },
   "metadata":{
    "datalore":{
     "node_id":"ekNUYv2IgEBdllCBSjmsI6",
     "type":"MD",
     "hide_input_from_viewers":false,
     "hide_output_from_viewers":false,
     "report_properties":{
      "rowId":"e3SflrAZQKNNp9Bvno12Hw"
     }
    }
   }
  },
  {
   "cell_type":"markdown",
   "source":[
    "1. objekt = Zapisnik Journal  \n",
    "**Vlastnosti\/Atributy\/Datove zlozky** - (podstatne, pridavne, cislovky, kombinacia)\n",
    "farba = ciernu  \n",
    "sirka, vyska = 20, 30  \n",
    "pocet_listov = 80   \n",
    "\n",
    "**Chovanie\/Spravanie\/Metody (def)** - (slovesá)\n",
    "robit_poznamky()  \n",
    "vloz_zalozku()\n",
    "\n",
    "1. objekt = strom lipa\n",
    "**Vlastnosti\/Atributy**\n",
    "vek\n",
    "vyska\n",
    "hmotnost\n",
    "druh\n",
    "cena\n",
    "\n",
    "**Chovanie\/Spravanie**\n",
    "rastie()\n",
    "dava_kyslik()\n",
    "dava_plody()"
   ],
   "attachments":{
    
   },
   "metadata":{
    "datalore":{
     "node_id":"0G7vA4ayiubp0mvZplhfFf",
     "type":"MD",
     "hide_input_from_viewers":false,
     "hide_output_from_viewers":false,
     "report_properties":{
      "rowId":"e3SflrAZQKNNp9Bvno12Hw"
     }
    }
   }
  },
  {
   "cell_type":"code",
   "source":[
    " "
   ],
   "execution_count":7,
   "outputs":[
    {
     "data":{
      "text\/plain":[
       "1"
      ]
     },
     "metadata":{
      
     },
     "output_type":"display_data"
    }
   ],
   "metadata":{
    "datalore":{
     "node_id":"sCr9XkPWTZJXwKMwE4ieFf",
     "type":"CODE",
     "hide_input_from_viewers":true,
     "hide_output_from_viewers":true
    }
   }
  },
  {
   "cell_type":"markdown",
   "source":[
    "## 🐕 Triedy (Classes)\n",
    "V OOP píšete triedy, ktoré reprezentujú veci a situácie v reálnom svete.\n",
    "Trieda slúži ako plán (blueprint) na vytváranie objektov.  \n",
    "Vytvárate objekty založené na triedach. \n",
    "\n",
    "* Manual\/navod ako vytvorit objekty\n",
    "* Trieda (abstraktne) - blueprinty - strom, ovocie, zelenina, clovek\n",
    "* Objekt (konkretne) - instancie triedy - dub ..., jablko ...\n",
    "\n",
    "Kuchar\n",
    "Trieda (Recept) (Podstate meno - abstrakcia)\n",
    "1. Si napisem recept\/si vytvorime\/napisem triedu\n",
    "2. Si najdem recept\/pouzijeme-stiahne existujucu triedu\/y\n",
    "3. Si najdem a upravim\/pouzijeme-stiahne + modifikujem"
   ],
   "attachments":{
    
   },
   "metadata":{
    "datalore":{
     "node_id":"F0p9TONJsKda7z9HNqiVLB",
     "type":"MD",
     "hide_input_from_viewers":false,
     "hide_output_from_viewers":false,
     "report_properties":{
      "rowId":"e3SflrAZQKNNp9Bvno12Hw"
     }
    }
   }
  },
  {
   "cell_type":"code",
   "source":[
    "# Trieda\n",
    "\n",
    "\n",
    "# Objekt \/ instancia triedy\n",
    "# nazov\/meno = typ\n",
    "  "
   ],
   "execution_count":12,
   "outputs":[
    
   ],
   "metadata":{
    "datalore":{
     "node_id":"V1qtio03ud4kzH2tFxRwCH",
     "type":"CODE",
     "hide_input_from_viewers":false,
     "hide_output_from_viewers":false,
     "report_properties":{
      "rowId":"e3SflrAZQKNNp9Bvno12Hw"
     }
    }
   }
  },
  {
   "cell_type":"markdown",
   "source":[
    "## 📘 Objekty, id, __str__, mutovatelnost\/nemutovatelnost\n",
    "* Príklady mutable objektov: list, set, dict, byte array  \n",
    "* Príklady immutable objektov: number (int, float, complex), string, tuple, frozen set, bytes"
   ],
   "attachments":{
    
   },
   "metadata":{
    "datalore":{
     "node_id":"PjrSyITUWLIhGaXHwNV29o",
     "type":"MD",
     "hide_input_from_viewers":false,
     "hide_output_from_viewers":false,
     "report_properties":{
      "rowId":"e3SflrAZQKNNp9Bvno12Hw"
     }
    }
   }
  },
  {
   "cell_type":"code",
   "source":[
    
   ],
   "execution_count":26,
   "outputs":[
    {
     "name":"stdout",
     "text":[
      "rexik je lenivy: False\n",
      "rexik meno: \n",
      "rexik meno: rexik domaci\n",
      "rexik rasa: \n",
      "rexik rasa: nemecky ovciak\n",
      "Lezi a je mu dobre...\n",
      "Spi...\n",
      "Ako sa vola --> Lassie\n",
      "Kolko ma rokov --> 3\n",
      "Aka je to rasa --> Kolia\n"
     ],
     "output_type":"stream"
    }
   ],
   "metadata":{
    "datalore":{
     "node_id":"2FS7Rvv9XwbktAMfTP8Zla",
     "type":"CODE",
     "hide_input_from_viewers":true,
     "hide_output_from_viewers":true
    }
   }
  },
  {
   "cell_type":"code",
   "source":[
    
   ],
   "execution_count":27,
   "outputs":[
    {
     "name":"stdout",
     "text":[
      "Ako sa vola --> Doge\n",
      "Kolko ma rokov --> 5\n",
      "Aka je to rasa --> akita inu\n"
     ],
     "output_type":"stream"
    }
   ],
   "metadata":{
    "datalore":{
     "node_id":"hPVqVqBZq8lSiiWR3ik8eb",
     "type":"CODE",
     "hide_input_from_viewers":true,
     "hide_output_from_viewers":true
    }
   }
  },
  {
   "cell_type":"code",
   "source":[
    
   ],
   "execution_count":61,
   "outputs":[
    {
     "name":"stdout",
     "text":[
      "kniha1: 139816260522480\n",
      "kniha2: 139816260559728\n",
      "kniha3: 139816260559728\n",
      "\n",
      "meno: 139816176435056\n",
      "vek: 139816326366592 \n",
      "\n",
      "Tieto objekty kniha1 a kniha2 su rovnake: False\n",
      "Tieto objekty kniha1 a kniha2 su rovnake: False\n",
      "Tieto objekty kniha1 a kniha2 su rovnake: False\n",
      "Tieto objekty kniha2 a kniha3 su rovnake: True\n",
      "\n",
      "Nazov --> Head First Python\n",
      "Autor --> Paul Barry\n",
      "Pocet stran --> 60\n",
      "Nazov --> Head First Python 2. edition\n",
      "Autor --> Paul Barry\n",
      "Pocet stran --> 60\n",
      "Nazov --> Head First Python 2. edition\n",
      "Autor --> Paul Barry\n",
      "Pocet stran --> 60\n",
      "\n",
      "Co som zac: Nazov objektu: Head First Python a pocet stran je: 60 a autor je: Paul Barry\n",
      "Akeho som typu: <class '__main__.Kniha'>\n",
      "\n",
      "Co som zac: Nazov objektu: Head First Python 2. edition a pocet stran je: 60 a autor je: Paul Barry\n",
      "Akeho som typu: <class '__main__.Kniha'>\n",
      "['ISBN', '__class__', '__delattr__', '__dict__', '__dir__', '__doc__', '__eq__', '__format__', '__ge__', '__getattribute__', '__gt__', '__hash__', '__init__', '__init_subclass__', '__le__', '__lt__', '__module__', '__ne__', '__new__', '__reduce__', '__reduce_ex__', '__repr__', '__setattr__', '__sizeof__', '__str__', '__subclasshook__', '__weakref__', 'autor', 'cena', 'nazov', 'pocet_stran', 'vypis_info', 'zaner']\n",
      " DocString - Dokumentacny retazec\n",
      "        Eshop - Python Programovanie Knihy\n",
      "        @author Adam Sangala\n",
      "        @version 1.0\n",
      "        @example obj_kniha = Kniha()\n",
      "    \n",
      "Nazov objektu: Head First Python a pocet stran je: 60 a autor je: Paul Barry\n",
      "Nazov objektu: OCA\/OCP Java a pocet stran je: 60 a autor je: Kathy Sierra\n"
     ],
     "output_type":"stream"
    }
   ],
   "metadata":{
    "datalore":{
     "node_id":"ma8fZBrXex6YgiGZHYp5JS",
     "type":"CODE",
     "hide_input_from_viewers":true,
     "hide_output_from_viewers":true
    }
   }
  },
  {
   "cell_type":"markdown",
   "source":[
    "## 🧑‍🔬 Konštruktory (__init__) a del + datetime"
   ],
   "attachments":{
    
   },
   "metadata":{
    "datalore":{
     "node_id":"BvTjSg3PfZMnVzYlbyhH17",
     "type":"MD",
     "hide_input_from_viewers":false,
     "hide_output_from_viewers":false,
     "report_properties":{
      "rowId":"e3SflrAZQKNNp9Bvno12Hw"
     }
    }
   }
  },
  {
   "cell_type":"code",
   "source":[
    
   ],
   "execution_count":70,
   "outputs":[
    {
     "name":"stdout",
     "text":[
      "Hura som v konstruktore, objekt je vytvoreny...\n",
      "Hura som v dekonstruktore, objekt je zruseny...\n",
      "Dňa: 2023-03-22 12:32:43.593097 sme vymazali objekt: <class '__main__.Byt'>\n",
      "Hura som v konstruktore, objekt je vytvoreny...\n",
      "Hura som v dekonstruktore, objekt je zruseny...\n",
      "Dňa: 2023-03-22 12:32:43.593300 sme vymazali objekt: <class '__main__.Byt'>\n",
      "Hura som v destruktor, objekt je zruseny...\n",
      "Dňa: 2023-03-22 12:32:43.593440 sme vymazali objekt: <class '__main__.Byt'>\n"
     ],
     "output_type":"stream"
    }
   ],
   "metadata":{
    "datalore":{
     "node_id":"H8Vu2FMxeMRCttEfKJcv9T",
     "type":"CODE",
     "hide_input_from_viewers":false,
     "hide_output_from_viewers":false,
     "report_properties":{
      "rowId":"e3SflrAZQKNNp9Bvno12Hw"
     }
    }
   }
  },
  {
   "cell_type":"markdown",
   "source":[
    "## 🔒 Modifikátory Prístupu"
   ],
   "attachments":{
    
   },
   "metadata":{
    "datalore":{
     "node_id":"Q7UJbrq93qniEgqJnFoTiy",
     "type":"MD",
     "hide_input_from_viewers":true,
     "hide_output_from_viewers":true
    }
   }
  },
  {
   "cell_type":"code",
   "source":[
    
   ],
   "execution_count":6,
   "outputs":[
    {
     "name":"stdout",
     "text":[
      "Stvoril som cloveka s menom: Adam a s priezviskom: Sangala\n",
      "Email je info@abc.sk\n",
      "Stvoril som cloveka s menom: Eva a s priezviskom: Sangalova\n",
      "Email je info@abc.sk\n",
      "Stvoril som cloveka s menom: Peter a s priezviskom: Rychly\n",
      "Email je info@abc.sk\n",
      "Stvoril som cloveka s menom: Milan a s priezviskom: Rychly\n",
      "Email je info@abc.sk\n",
      "Stvoril som cloveka s menom: Peter a s priezviskom: Dlhy\n",
      "Email je info@abc.sk\n",
      "Stvoril som cloveka s menom: Ivan a s priezviskom: Hrozny\n",
      "Email je info@abc.sk\n",
      "\n",
      "    Toto je clovek...\n",
      "    Docstring\n",
      "    \n",
      "    \n"
     ],
     "output_type":"stream"
    }
   ],
   "metadata":{
    "datalore":{
     "node_id":"zfviDIJSVPfgzJsQN7Cmpz",
     "type":"CODE",
     "hide_input_from_viewers":false,
     "hide_output_from_viewers":false,
     "report_properties":{
      "rowId":"e3SflrAZQKNNp9Bvno12Hw"
     }
    }
   }
  },
  {
   "cell_type":"markdown",
   "source":[
    "# Príklady z Praxe OOP"
   ],
   "attachments":{
    
   },
   "metadata":{
    "datalore":{
     "node_id":"A2HCi5l3ziRYBargIO6emM",
     "type":"MD",
     "hide_input_from_viewers":true,
     "hide_output_from_viewers":true
    }
   }
  },
  {
   "cell_type":"markdown",
   "source":[
    "## Tabuľky (prettytable)"
   ],
   "attachments":{
    
   },
   "metadata":{
    "datalore":{
     "node_id":"UfALBl7D0WoPOPPstUpDai",
     "type":"MD",
     "hide_input_from_viewers":true,
     "hide_output_from_viewers":true
    }
   }
  },
  {
   "cell_type":"code",
   "source":[
    "#!pip install prettytable"
   ],
   "execution_count":72,
   "outputs":[
    {
     "name":"stdout",
     "text":[
      "+------+------------+-------+---------+\n",
      "| Meno | Priezvisko | Email | Kontakt |\n",
      "+------+------------+-------+---------+\n",
      "+------+------------+-------+---------+\n"
     ],
     "output_type":"stream"
    }
   ],
   "metadata":{
    "datalore":{
     "node_id":"9botSW2S3M661qYFAWTvoX",
     "type":"CODE",
     "hide_input_from_viewers":false,
     "hide_output_from_viewers":false,
     "report_properties":{
      "rowId":"e3SflrAZQKNNp9Bvno12Hw"
     }
    }
   }
  },
  {
   "cell_type":"code",
   "source":[
    "#!pip install prettytable\n",
    "\n",
    "from prettytable import PrettyTable\n",
    "\n",
    "tabulka_zakaznici = PrettyTable([\"Meno\", \"Priezvisko\", \"Email\", \"Kontakt\"])\n",
    "print(tabulka_zakaznici)\n",
    "\n",
    "tabulka_zakaznici.add_row([\"Mario\", \"Sangala\", \"abc@nieco.sk\", 123])\n",
    "tabulka_zakaznici.add_row([\"Ivana\", \"Sangala\", \"abc@nieco.sk\", 456])\n",
    "tabulka_zakaznici.add_row([\"Monika\", \"Selicka\", \"abc@nieco.sk\", 852])\n",
    "\n",
    "\n",
    "print(tabulka_zakaznici)"
   ],
   "execution_count":81,
   "outputs":[
    {
     "name":"stdout",
     "text":[
      "+------+------------+-------+---------+\n",
      "| Meno | Priezvisko | Email | Kontakt |\n",
      "+------+------------+-------+---------+\n",
      "+------+------------+-------+---------+\n",
      "+--------+------------+--------------+---------+\n",
      "|  Meno  | Priezvisko |    Email     | Kontakt |\n",
      "+--------+------------+--------------+---------+\n",
      "| Mario  |  Sangala   | abc@nieco.sk |   123   |\n",
      "| Ivana  |  Sangala   | abc@nieco.sk |   456   |\n",
      "| Monika |  Selicka   | abc@nieco.sk |   852   |\n",
      "+--------+------------+--------------+---------+\n"
     ],
     "output_type":"stream"
    }
   ],
   "metadata":{
    "datalore":{
     "node_id":"HBvne568wJVA5weCFCk1R1",
     "type":"CODE",
     "hide_input_from_viewers":false,
     "hide_output_from_viewers":false,
     "report_properties":{
      "rowId":"e3SflrAZQKNNp9Bvno12Hw"
     }
    }
   }
  },
  {
   "cell_type":"markdown",
   "source":[
    "## 🧾 GUI Formuláre (Graphical User Interface)"
   ],
   "attachments":{
    
   },
   "metadata":{
    "datalore":{
     "node_id":"uWlGxGTRXfJXMQoQERJdLZ",
     "type":"MD",
     "hide_input_from_viewers":true,
     "hide_output_from_viewers":true
    }
   }
  },
  {
   "cell_type":"code",
   "source":[
    "dpw_farba_tricka = \"Modra\""
   ],
   "execution_count":null,
   "outputs":[
    
   ],
   "metadata":{
    "datalore":{
     "node_id":"bOpqqosGrkWhd8RKIE9XA6",
     "type":"CONTROL",
     "hide_input_from_viewers":false,
     "hide_output_from_viewers":false,
     "report_properties":{
      "rowId":"e3SflrAZQKNNp9Bvno12Hw"
     },
     "controls_state":[
      {
       "type":"DROPDOWN",
       "label":"Farba tricka:",
       "variable":"dpw_farba_tricka",
       "value":"Modra",
       "values":[
        
       ],
       "items":[
        "Cierna",
        "Zelena",
        "Modra"
       ],
       "multiselect":false,
       "respectSelectionOrder":false
      }
     ]
    }
   }
  },
  {
   "cell_type":"code",
   "source":[
    "print(f\"Vybral si si: {dpw_farba_tricka}\")"
   ],
   "execution_count":null,
   "outputs":[
    {
     "name":"stdout",
     "text":[
      "Vybral si si: Modra\n"
     ],
     "output_type":"stream"
    }
   ],
   "metadata":{
    "datalore":{
     "node_id":"dF0x8DAothXBswRNnNUGXN",
     "type":"CODE",
     "hide_input_from_viewers":false,
     "hide_output_from_viewers":false,
     "report_properties":{
      "rowId":"e3SflrAZQKNNp9Bvno12Hw"
     }
    }
   }
  },
  {
   "cell_type":"markdown",
   "source":[
    "## Modul Copy 👯\n",
    "Ako Vytvoriť Úplne Nezávislú Kópiu Objektu v Pythone?  \n",
    "**Dokumentácia:** https:\/\/docs.python.org\/3\/library\/copy.html#copy.deepcopy  \n",
    "\n",
    "Príkazy priradenia (=) v Pythone nekopírujú objekty, ale vytvárajú väzby medzi cieľom a objektom. Pre kolekcie, ktoré sú meniteľné alebo obsahujú meniteľné položky, je niekedy potrebná kópia, aby bolo možné zmeniť jednu kópiu bez zmeny druhej. Tento modul poskytuje všeobecné operácie plytkého a hlbokého kopírovania. \n",
    "  \n",
    "* Ak chcete získať úplne nezávislú kópiu objektu, môžete použiť funkciu copy.deepcopy().  \n",
    "  \n",
    "* Plytké\/shallow kópia znamená, že obsah slovníka sa nekopíruje podľa hodnoty, ale len vytvorí nový odkaz.  \n",
    "  \n",
    "* Hĺbková\/deep kópia skopíruje celý obsah podľa hodnoty.  "
   ],
   "attachments":{
    
   },
   "metadata":{
    "datalore":{
     "node_id":"KaES0yAqhrBk0E9LFItB39",
     "type":"MD",
     "hide_input_from_viewers":true,
     "hide_output_from_viewers":true
    }
   }
  },
  {
   "cell_type":"code",
   "source":[
    
   ],
   "execution_count":83,
   "outputs":[
    {
     "name":"stdout",
     "text":[
      "je zoznam1 a zoznam2 rovnaky: False\n",
      "je zoznam1 a zoznam3 rovnaky: False\n",
      "je zoznam2 a zoznam3 rovnaky: False\n"
     ],
     "output_type":"stream"
    }
   ],
   "metadata":{
    "datalore":{
     "node_id":"gTHBHdap1Ng5TZOizCjGqM",
     "type":"CODE",
     "hide_input_from_viewers":true,
     "hide_output_from_viewers":true
    }
   }
  }
 ],
 "metadata":{
  "kernelspec":{
   "display_name":"Python",
   "language":"python",
   "name":"python"
  },
  "datalore":{
   "computation_mode":"JUPYTER",
   "package_manager":"pip",
   "base_environment":"default",
   "packages":[
    
   ],
   "report_row_ids":[
    "e3SflrAZQKNNp9Bvno12Hw"
   ],
   "version":3
  }
 },
 "nbformat":4,
 "nbformat_minor":4
}