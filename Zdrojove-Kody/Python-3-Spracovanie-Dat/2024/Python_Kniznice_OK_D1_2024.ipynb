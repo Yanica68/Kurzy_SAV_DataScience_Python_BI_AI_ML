{
 "cells": [
  {
   "cell_type": "markdown",
   "source": [
    "# Kniznice"
   ],
   "attachments": {},
   "metadata": {
    "datalore": {
     "node_id": "Kniznice",
     "type": "MD",
     "hide_input_from_viewers": false,
     "hide_output_from_viewers": false,
     "sheet_delimiter": true
    }
   }
  },
  {
   "cell_type": "markdown",
   "source": [
    "## 🐍 Kurz Python Knižnice (Spracovanie a Vizualizácia Dát)\n",
    "**🧑‍🏫 Lektor:** Miroslav Reiter  \n",
    "**📥 LinkedIn kontakt:** https://www.linkedin.com/in/miroslav-reiter/  \n",
    "\n",
    "`*Testovaci* **Text**`\n",
    "\n",
    "**✅ Osnova:** https://itkurzy.sav.sk/node/110 \n",
    "\n",
    "**🎞️ YouTube videá:** https://www.youtube.com/c/IT-AcademySK  \n",
    "**📇 Zdrojové kódy a materiály:** https://github.com/miroslav-reiter/Kurzy_SAV_Analytika_Python_R  \n",
    "\n",
    "**😊 Emojis:** Win + .  "
   ],
   "attachments": {},
   "metadata": {
    "datalore": {
     "node_id": "gtjaH8gOiCJE2ArnONNN4I",
     "type": "MD",
     "hide_input_from_viewers": false,
     "hide_output_from_viewers": false,
     "report_properties": {
      "rowId": "BuaxZHVowM1NDgIm5SGTW6"
     }
    }
   }
  },
  {
   "cell_type": "markdown",
   "source": [
    "# ⚒️ Používané nástroje dátovej analýzy\n",
    "- 🐍 **Python** - momentálne najpopulárnejší jazyk pre vedu o údajoch (Data science). Python je síce interpretovaný a pomalší jazyk ako C/C++, ale využitím knižníc, ako je NumPy (a Pandas navyše), sa môžeme priblížiť rýchlosti C.  \n",
    "  \n",
    "- 🪐 **Jupyter** - nástroj s prostredím interaktívneho notebooku, mocný prieskumný, vizualizačný a komunikačný nástroj.\n",
    "  \n",
    "- 🐼 **Pandas** - nástroj na manipuláciu s tabuľkovými údajmi v Pythone. Je to obrovská knižnica, ale ak poznáte správne metódy, môžeme vytvoriť výkonnú analýzu.\n",
    "  \n",
    "- 📊 **Matplotlib** - grafická knižnica s rôznymi grafmi a vizualizáciami. V spojení s Pandas a Jupyter môžeme rýchlo získať prehľad o našich údajoch.  \n",
    "  \n",
    "- 🚀 **NumPy** - knižnica jazyka Python, ktorá poskytuje infraštruktúru pre prácu s vektormi, maticami a všeobecne viacrozmernými poliami.\n",
    "\n",
    "😎 Existuje 300 000+ knižníc pre Python.  "
   ],
   "attachments": {},
   "metadata": {
    "datalore": {
     "node_id": "HlJXCNvBPNinkUIhkHUYU9",
     "type": "MD",
     "hide_input_from_viewers": false,
     "hide_output_from_viewers": false,
     "report_properties": {
      "rowId": "nT01gqoCPDuxVxR1lZEjaG"
     }
    }
   }
  },
  {
   "cell_type": "markdown",
   "source": [
    "# 📚 PIP, Knižnice a ich verzie \n",
    "**PIP (package installer for Python)** - Správca Balíčkov pre moduly programovacieho jazyka Python, Tiež napísaný v Pythone, Licencia MIT.  \n",
    "Dokumentácia PIP: https://pip.pypa.io/en/stable/\n",
    "\n",
    "**PyPI (The Python Package Index)** - Repozitár/úložisko softvéru pre programovací jazyk Python  \n",
    "https://pypi.org\n",
    "1"
   ],
   "attachments": {},
   "metadata": {
    "datalore": {
     "node_id": "utjXvhnaVEZx0y9tcUL1AW",
     "type": "MD",
     "hide_input_from_viewers": false,
     "hide_output_from_viewers": false,
     "report_properties": {
      "rowId": "HnEJbqSEA5YeuN0S9J1MeG"
     }
    }
   }
  },
  {
   "cell_type": "code",
   "source": [
    "# !pip list\n",
    "!pip install countryinfo"
   ],
   "execution_count": 3,
   "outputs": [
    {
     "name": "stdout",
     "text": [
      "Collecting countryinfo\r\n",
      "  Downloading countryinfo-0.1.2-py3-none-any.whl (602 kB)\r\n",
      "\u001B[?25l     \u001B[90m━━━━━━━━━━━━━━━━━━━━━━━━━━━━━━━━━━━━━━━━\u001B[0m \u001B[32m0.0/602.2 kB\u001B[0m \u001B[31m?\u001B[0m eta \u001B[36m-:--:--\u001B[0m\r\u001B[2K     \u001B[90m━━━━━━━━━━━━━━━━━━━━━━━━━━━━━━━━━━━━━━\u001B[0m \u001B[32m602.2/602.2 kB\u001B[0m \u001B[31m36.1 MB/s\u001B[0m eta \u001B[36m0:00:00\u001B[0m\r\n",
      "\u001B[?25hInstalling collected packages: countryinfo\r\n",
      "Successfully installed countryinfo-0.1.2\r\n",
      "\r\n",
      "\u001B[1m[\u001B[0m\u001B[34;49mnotice\u001B[0m\u001B[1;39;49m]\u001B[0m\u001B[39;49m A new release of pip is available: \u001B[0m\u001B[31;49m23.1.2\u001B[0m\u001B[39;49m -> \u001B[0m\u001B[32;49m24.0\u001B[0m\r\n",
      "\u001B[1m[\u001B[0m\u001B[34;49mnotice\u001B[0m\u001B[1;39;49m]\u001B[0m\u001B[39;49m To update, run: \u001B[0m\u001B[32;49mpip install --upgrade pip\u001B[0m\r\n"
     ],
     "output_type": "stream"
    }
   ],
   "metadata": {
    "datalore": {
     "node_id": "9qcpLqqMxlDm2F9q53LHot",
     "type": "CODE",
     "hide_input_from_viewers": false,
     "hide_output_from_viewers": false,
     "report_properties": {
      "rowId": "dt5hnZzXUFlltVlRnzQ6cE"
     }
    }
   }
  },
  {
   "cell_type": "code",
   "source": [
    "# import countryinfo\n",
    "from countryinfo import CountryInfo\n",
    "kraj = CountryInfo(\"Slovakia\")\n",
    "\n",
    "print(f\"Slovakia: {kraj.info()}\")\n",
    "print(f\"Slovakia Hlavne mesto: {kraj.capital()}\")"
   ],
   "execution_count": 5,
   "outputs": [
    {
     "name": "stdout",
     "text": [
      "Slovakia: {'name': 'Slovakia', 'altSpellings': ['SK', 'Slovak Republic', 'Slovenská republika'], 'area': 49037, 'borders': ['AUT', 'CZE', 'HUN', 'POL', 'UKR'], 'callingCodes': ['421'], 'capital': 'Bratislava', 'capital_latlng': [48.151699, 17.109306], 'currencies': ['EUR'], 'demonym': 'Slovak', 'flag': '', 'geoJSON': {'type': 'FeatureCollection', 'features': [{'type': 'Feature', 'id': 'SVK', 'properties': {'name': 'Slovakia'}, 'geometry': {'type': 'Polygon', 'coordinates': [[[18.853144, 49.49623], [18.909575, 49.435846], [19.320713, 49.571574], [19.825023, 49.217125], [20.415839, 49.431453], [20.887955, 49.328772], [21.607808, 49.470107], [22.558138, 49.085738], [22.280842, 48.825392], [22.085608, 48.422264], [21.872236, 48.319971], [20.801294, 48.623854], [20.473562, 48.56285], [20.239054, 48.327567], [19.769471, 48.202691], [19.661364, 48.266615], [19.174365, 48.111379], [18.777025, 48.081768], [18.696513, 47.880954], [17.857133, 47.758429], [17.488473, 47.867466], [16.979667, 48.123497], [16.879983, 48.470013], [16.960288, 48.596982], [17.101985, 48.816969], [17.545007, 48.800019], [17.886485, 48.903475], [17.913512, 48.996493], [18.104973, 49.043983], [18.170498, 49.271515], [18.399994, 49.315001], [18.554971, 49.495015], [18.853144, 49.49623]]]}}]}, 'ISO': {'alpha2': 'SK', 'alpha3': 'SVK'}, 'languages': ['sk'], 'latlng': [48.66666666, 19.5], 'nativeName': 'Slovensko', 'population': 5415949, 'provinces': ['Banskobystricky', 'Bratislavsky', 'Kosicky', 'Nitriansky', 'Presovsky', 'Trenciansky', 'Trnavsky', 'Zilinsky'], 'region': 'Europe', 'subregion': 'Eastern Europe', 'timezones': ['UTC+01:00'], 'tld': ['.sk'], 'translations': {'de': 'Slowakei', 'es': 'República Eslovaca', 'fr': 'Slovaquie', 'ja': 'スロバキア', 'it': 'Slovacchia'}, 'wiki': 'http://en.wikipedia.org/wiki/slovakia'}\n",
      "Slovakia Hlavne mesto: Bratislava\n"
     ],
     "output_type": "stream"
    }
   ],
   "metadata": {
    "datalore": {
     "node_id": "Qf2fGBT29Tp85ig2h3H6be",
     "type": "CODE",
     "hide_input_from_viewers": false,
     "hide_output_from_viewers": false,
     "report_properties": {
      "rowId": "iF77wHN3KjirO3UBNMvq29"
     }
    }
   }
  },
  {
   "cell_type": "markdown",
   "source": [
    "# 💀 Spracovanie Chýb (Exception - Výnimiek), Údajov, Dátového Toku\n",
    "try - except - finally  \n",
    "\n",
    "https://docs.python.org/3/tutorial/errors.html "
   ],
   "attachments": {},
   "metadata": {
    "datalore": {
     "node_id": "O6f5kWGeujRXtOQVWAlLTl",
     "type": "MD",
     "hide_input_from_viewers": false,
     "hide_output_from_viewers": false,
     "report_properties": {
      "rowId": "E9cX2hSUAeBjar0TwM5syB"
     }
    }
   }
  },
  {
   "cell_type": "code",
   "source": [
    "try:\n",
    "    # Dataframes (Dátové Rámce = Tabuľky)\n",
    "    # Import, export, statistiky, cistenie\n",
    "    import pandas as pd\n",
    "    # Matematika, VVP, polia (arrays), matice (matrix), statistiky\n",
    "    import numpy as np\n",
    "    # Grafy, vizualizacie, farby, diagramy\n",
    "    import matplotlib.pyplot as plt\n",
    "    # Parsovanie ,stahovanie udajov z webstranky\n",
    "    import pyparsing as pp\n",
    "    import bonobo\n",
    "     \n",
    "    print(f\"TRY: \")\n",
    "    print(f\"✅ Moduly/Kniznice boli nacitane...\")\n",
    "    print(f\"Pandas verzia: {pd.__version__}\")\n",
    "    print(f\"Numpy verzia: {np.__version__}\")\n",
    "    print(f\"Pyparsing verzia: {pp.__version__}\")\n",
    "    \n",
    "except Exception:\n",
    "    print(f\"EXCEPT: \")\n",
    "    print(f\"😒 Moduly/Kniznice neboli nacitane...\")\n",
    "\n",
    "finally:\n",
    "    print(\"FINALLY: Tento text sa vypise vzdy\")"
   ],
   "execution_count": 13,
   "outputs": [
    {
     "name": "stdout",
     "text": [
      "EXCEPT: \n",
      "😒 Moduly/Kniznice neboli nacitane...\n",
      "FINALLY: Tento text sa vypise vzdy\n"
     ],
     "output_type": "stream"
    }
   ],
   "metadata": {
    "datalore": {
     "node_id": "xxC61eI2Oqyzy8GmzzwrET",
     "type": "CODE",
     "hide_input_from_viewers": false,
     "hide_output_from_viewers": false,
     "report_properties": {
      "rowId": "csTaUBzwY1G6f6IoNz36lu"
     }
    }
   }
  },
  {
   "cell_type": "code",
   "source": [],
   "execution_count": 28,
   "outputs": [
    {
     "name": "stdout",
     "text": [
      "Zadaj nejake cislo:  karol\n",
      "Zadaj platne cislo a nie retazec...\n",
      "Zadaj nejake cislo:    \n",
      "Zadaj platne cislo a nie retazec...\n",
      "Zadaj nejake cislo:  47\n",
      "Cislo: 47\n"
     ],
     "output_type": "stream"
    }
   ],
   "metadata": {
    "datalore": {
     "node_id": "pJKsT83yGfF6ZUc2u9NzI6",
     "type": "CODE",
     "hide_input_from_viewers": false,
     "hide_output_from_viewers": false,
     "report_properties": {
      "rowId": "WBOAojo2SfYR7FtzUsMDna"
     }
    }
   }
  },
  {
   "cell_type": "markdown",
   "source": [
    "# Pandas Základy"
   ],
   "attachments": {},
   "metadata": {
    "datalore": {
     "node_id": "Pandas Základy",
     "type": "MD",
     "hide_input_from_viewers": false,
     "hide_output_from_viewers": false,
     "sheet_delimiter": true
    }
   }
  },
  {
   "cell_type": "markdown",
   "source": [
    "# 🐼 Pandas (Python Data Analysis Library)\n",
    "\n",
    "- Nástroj na manipuláciu s tabuľkovými údajmi v Pythone. \n",
    "- Je to obrovská knižnica, ale ak používate správne metódy, môžeme vytvoriť výkonné analýzy údajov.\n"
   ],
   "attachments": {},
   "metadata": {
    "datalore": {
     "node_id": "iwhhjraiHtYOrngrYu20CF",
     "type": "MD",
     "hide_input_from_viewers": true,
     "hide_output_from_viewers": true
    }
   }
  },
  {
   "cell_type": "markdown",
   "source": [
    "## Vytvorenie DataFrame a Series"
   ],
   "attachments": {},
   "metadata": {
    "datalore": {
     "node_id": "7B4nGocVceNZdDsznYFwiv",
     "type": "MD",
     "hide_input_from_viewers": true,
     "hide_output_from_viewers": true
    }
   }
  },
  {
   "cell_type": "code",
   "source": [
    "import pandas as pd\n",
    "\n",
    "# objetk (odkaz na objekt) = modul.Trieda (Tyo objekt)\n",
    "data_seria = pd.Series([1,3,50,-5,96])\n",
    "data_seria"
   ],
   "execution_count": 9,
   "outputs": [
    {
     "data": {
      "text/html": [
       "<pre>0     1\n",
       "1     3\n",
       "2    50\n",
       "3    -5\n",
       "4    96\n",
       "dtype: int64</pre>"
      ]
     },
     "metadata": {},
     "output_type": "display_data"
    }
   ],
   "metadata": {
    "datalore": {
     "node_id": "60ICCivULU6YmSsUnPo9jk",
     "type": "CODE",
     "hide_input_from_viewers": true,
     "hide_output_from_viewers": true
    }
   }
  },
  {
   "cell_type": "code",
   "source": [
    "import pandas as pd\n",
    "\n",
    "data_frame = pd.DataFrame([1,2,8,9,3], [1,2,8,9,3])\n",
    "\n",
    "# {} slovniky/dict, key:value\n",
    "tabulka = pd.DataFrame({\n",
    "    \"ID Studenta\" : [1,2,8,9,3],\n",
    "    \"Student\": [\"Dalibor\", \"Ervin\", \"Ingrid\", \"Andrejka\", \"Marianna\"],\n",
    "    \"Dochadzka\": [True, True, False, False, True],\n",
    "    \"Pocet Bodov\": [96.5, 56.36, 78.96, 20.31, 36]\n",
    "})\n",
    "\n",
    "tabulka.dtypes"
   ],
   "execution_count": 25,
   "outputs": [
    {
     "data": {
      "text/html": [
       "<pre>ID Studenta      int64\n",
       "Student         object\n",
       "Dochadzka         bool\n",
       "Pocet Bodov    float64\n",
       "dtype: object</pre>"
      ]
     },
     "metadata": {},
     "output_type": "display_data"
    }
   ],
   "metadata": {
    "datalore": {
     "node_id": "r9qxG3YBYrThp0aAlNeulo",
     "type": "CODE",
     "hide_input_from_viewers": true,
     "hide_output_from_viewers": true
    }
   }
  },
  {
   "cell_type": "code",
   "source": [
    "tabulka"
   ],
   "execution_count": 26,
   "outputs": [
    {
     "data": {
      "text/html": [
       "<div>\n",
       "<style scoped>\n",
       "    .dataframe tbody tr th:only-of-type {\n",
       "        vertical-align: middle;\n",
       "    }\n",
       "\n",
       "    .dataframe tbody tr th {\n",
       "        vertical-align: top;\n",
       "    }\n",
       "\n",
       "    .dataframe thead th {\n",
       "        text-align: right;\n",
       "    }\n",
       "</style>\n",
       "<table border=\"1\" class=\"dataframe\">\n",
       "  <thead>\n",
       "    <tr style=\"text-align: right;\">\n",
       "      <th></th>\n",
       "      <th>ID Studenta</th>\n",
       "      <th>Student</th>\n",
       "      <th>Dochadzka</th>\n",
       "      <th>Pocet Bodov</th>\n",
       "    </tr>\n",
       "  </thead>\n",
       "  <tbody>\n",
       "    <tr>\n",
       "      <th>0</th>\n",
       "      <td>1</td>\n",
       "      <td>Dalibor</td>\n",
       "      <td>True</td>\n",
       "      <td>96.50</td>\n",
       "    </tr>\n",
       "    <tr>\n",
       "      <th>1</th>\n",
       "      <td>2</td>\n",
       "      <td>Ervin</td>\n",
       "      <td>True</td>\n",
       "      <td>56.36</td>\n",
       "    </tr>\n",
       "    <tr>\n",
       "      <th>2</th>\n",
       "      <td>8</td>\n",
       "      <td>Ingrid</td>\n",
       "      <td>False</td>\n",
       "      <td>78.96</td>\n",
       "    </tr>\n",
       "    <tr>\n",
       "      <th>3</th>\n",
       "      <td>9</td>\n",
       "      <td>Andrejka</td>\n",
       "      <td>False</td>\n",
       "      <td>20.31</td>\n",
       "    </tr>\n",
       "    <tr>\n",
       "      <th>4</th>\n",
       "      <td>3</td>\n",
       "      <td>Marianna</td>\n",
       "      <td>True</td>\n",
       "      <td>36.00</td>\n",
       "    </tr>\n",
       "  </tbody>\n",
       "</table>\n",
       "</div>"
      ]
     },
     "metadata": {},
     "output_type": "display_data"
    }
   ],
   "metadata": {
    "datalore": {
     "node_id": "9nOgnlBq0d9vZNSmglHymS",
     "type": "CODE",
     "hide_input_from_viewers": true,
     "hide_output_from_viewers": true
    }
   }
  },
  {
   "cell_type": "markdown",
   "source": [
    "## Zisťovanie a nastavovanie dátových typov\n",
    "Pre zistenie dátového typu stĺpca môžete použiť vlastnosť .dtypes na DataFrame alebo .dtype na Series:"
   ],
   "attachments": {},
   "metadata": {
    "datalore": {
     "node_id": "WjemJHU2bT7EgdpCQ3AZdo",
     "type": "MD",
     "hide_input_from_viewers": true,
     "hide_output_from_viewers": true
    }
   }
  },
  {
   "cell_type": "code",
   "source": [
    "import pandas as pd\n",
    "import numpy as np\n",
    "\n",
    "df_test_data = pd.DataFrame({\n",
    "    \"Object\": [\"Texty\", \"Python je Super\", \"Priklady\"],\n",
    "    \"int64\": [1,2,0],\n",
    "    \"Int64\": pd.Series([1,2, np.nan], dtype=pd.Int64Dtype()),\n",
    "    \"float64\": [1.1, 2.2, 3.14],\n",
    "    \"bool\": [True, False, True],\n",
    "    \"datetime64\": pd.to_datetime([\"2024-03-20\", \"2024-12-31\", \"2024-01-01\"]),\n",
    "    \"timedelta\": pd.to_timedelta([\"1 days\", \"3 days\", pd.NaT]),\n",
    "\"category\": pd.Series([\"kvety\", \"topanky\", \"kurzy\"], dtype=\"category\")\n",
    "})\n",
    "df_test_data\n",
    "\n",
    "print(df_test_data.dtypes)"
   ],
   "execution_count": 45,
   "outputs": [
    {
     "name": "stdout",
     "text": [
      "Object                 object\n",
      "int64                   int64\n",
      "Int64                   Int64\n",
      "float64               float64\n",
      "bool                     bool\n",
      "datetime64     datetime64[ns]\n",
      "timedelta     timedelta64[ns]\n",
      "category             category\n",
      "dtype: object\n"
     ],
     "output_type": "stream"
    }
   ],
   "metadata": {
    "datalore": {
     "node_id": "vmydY15qDB0Up4pkb56mUC",
     "type": "CODE",
     "hide_input_from_viewers": true,
     "hide_output_from_viewers": true
    }
   }
  },
  {
   "cell_type": "markdown",
   "source": [
    "## Pandas dtypes"
   ],
   "attachments": {},
   "metadata": {
    "datalore": {
     "node_id": "IYHsVLseotQA8GZkJ1pawh",
     "type": "MD",
     "hide_input_from_viewers": true,
     "hide_output_from_viewers": true
    }
   }
  },
  {
   "cell_type": "code",
   "source": [],
   "execution_count": 10,
   "outputs": [
    {
     "name": "stdout",
     "text": [
      "     Object  Int64  int64  Float64   Bool Datetime64 Timedelta[ns] Category\n",
      "0      text      1      1      1.1   True 2023-01-01           NaT        a\n",
      "1  v Pandas      2      2      2.2  False 2023-01-02        1 days        b\n",
      "2   príklad   <NA>      3      3.3   True 2023-01-03        2 days        a\n",
      "Object                    object\n",
      "Int64                      Int64\n",
      "int64                      int64\n",
      "Float64                  float64\n",
      "Bool                        bool\n",
      "Datetime64        datetime64[ns]\n",
      "Timedelta[ns]    timedelta64[ns]\n",
      "Category                category\n",
      "dtype: object\n"
     ],
     "output_type": "stream"
    },
    {
     "data": {
      "text/html": [
       "<div>\n",
       "<style scoped>\n",
       "    .dataframe tbody tr th:only-of-type {\n",
       "        vertical-align: middle;\n",
       "    }\n",
       "\n",
       "    .dataframe tbody tr th {\n",
       "        vertical-align: top;\n",
       "    }\n",
       "\n",
       "    .dataframe thead th {\n",
       "        text-align: right;\n",
       "    }\n",
       "</style>\n",
       "<table border=\"1\" class=\"dataframe\">\n",
       "  <thead>\n",
       "    <tr style=\"text-align: right;\">\n",
       "      <th></th>\n",
       "      <th>Object</th>\n",
       "      <th>Int64</th>\n",
       "      <th>int64</th>\n",
       "      <th>Float64</th>\n",
       "      <th>Bool</th>\n",
       "      <th>Datetime64</th>\n",
       "      <th>Timedelta[ns]</th>\n",
       "      <th>Category</th>\n",
       "    </tr>\n",
       "  </thead>\n",
       "  <tbody>\n",
       "    <tr>\n",
       "      <th>0</th>\n",
       "      <td>text</td>\n",
       "      <td>1</td>\n",
       "      <td>1</td>\n",
       "      <td>1.1</td>\n",
       "      <td>True</td>\n",
       "      <td>2023-01-01</td>\n",
       "      <td>NaT</td>\n",
       "      <td>a</td>\n",
       "    </tr>\n",
       "    <tr>\n",
       "      <th>1</th>\n",
       "      <td>v Pandas</td>\n",
       "      <td>2</td>\n",
       "      <td>2</td>\n",
       "      <td>2.2</td>\n",
       "      <td>False</td>\n",
       "      <td>2023-01-02</td>\n",
       "      <td>1 days</td>\n",
       "      <td>b</td>\n",
       "    </tr>\n",
       "    <tr>\n",
       "      <th>2</th>\n",
       "      <td>príklad</td>\n",
       "      <td>&lt;NA&gt;</td>\n",
       "      <td>3</td>\n",
       "      <td>3.3</td>\n",
       "      <td>True</td>\n",
       "      <td>2023-01-03</td>\n",
       "      <td>2 days</td>\n",
       "      <td>a</td>\n",
       "    </tr>\n",
       "  </tbody>\n",
       "</table>\n",
       "</div>"
      ]
     },
     "metadata": {},
     "output_type": "display_data"
    }
   ],
   "metadata": {
    "datalore": {
     "node_id": "JYyte7IfDdWmNUuZhijK4y",
     "type": "CODE",
     "hide_input_from_viewers": true,
     "hide_output_from_viewers": true
    }
   }
  },
  {
   "cell_type": "markdown",
   "source": [
    "## Základy s Dátumami a Časmi"
   ],
   "attachments": {},
   "metadata": {
    "datalore": {
     "node_id": "37yQygOKntHHrxa6NYkQGs",
     "type": "MD",
     "hide_input_from_viewers": true,
     "hide_output_from_viewers": true
    }
   }
  },
  {
   "cell_type": "code",
   "source": [],
   "execution_count": 11,
   "outputs": [
    {
     "name": "stdout",
     "text": [
      "        Date            Datetime\n",
      "0 2023-01-01 2023-01-01 10:00:00\n",
      "1 2023-01-02 2023-01-02 11:30:00\n",
      "2 2023-01-03 2023-01-03 15:45:00\n"
     ],
     "output_type": "stream"
    }
   ],
   "metadata": {
    "datalore": {
     "node_id": "jXs7eAGBVINhXVqzVUa4KG",
     "type": "CODE",
     "hide_input_from_viewers": true,
     "hide_output_from_viewers": true
    }
   }
  },
  {
   "cell_type": "code",
   "source": [],
   "execution_count": 12,
   "outputs": [
    {
     "name": "stdout",
     "text": [
      "        Date            Datetime  Year  Month  Day  Hour  Minute\n",
      "0 2023-01-01 2023-01-01 10:00:00  2023      1    1    10       0\n",
      "1 2023-01-02 2023-01-02 11:30:00  2023      1    2    11      30\n",
      "2 2023-01-03 2023-01-03 15:45:00  2023      1    3    15      45\n"
     ],
     "output_type": "stream"
    }
   ],
   "metadata": {
    "datalore": {
     "node_id": "TXZWZJ33Var0kxZWr76woo",
     "type": "CODE",
     "hide_input_from_viewers": true,
     "hide_output_from_viewers": true
    }
   }
  },
  {
   "cell_type": "code",
   "source": [],
   "execution_count": 13,
   "outputs": [
    {
     "name": "stdout",
     "text": [
      "        Date            Datetime  Year  Month  Day  Hour  Minute  \\\n",
      "0 2023-01-01 2023-01-01 10:00:00  2023      1    1    10       0   \n",
      "1 2023-01-02 2023-01-02 11:30:00  2023      1    2    11      30   \n",
      "2 2023-01-03 2023-01-03 15:45:00  2023      1    3    15      45   \n",
      "\n",
      "  Date_plus_1day Diff_days  \n",
      "0     2023-01-02    1 days  \n",
      "1     2023-01-03    1 days  \n",
      "2     2023-01-04    1 days  \n"
     ],
     "output_type": "stream"
    }
   ],
   "metadata": {
    "datalore": {
     "node_id": "3Oz4NFK39ZIwikq5YRUBTZ",
     "type": "CODE",
     "hide_input_from_viewers": true,
     "hide_output_from_viewers": true
    }
   }
  },
  {
   "cell_type": "code",
   "source": [],
   "execution_count": 15,
   "outputs": [
    {
     "name": "stdout",
     "text": [
      "            Hodnota\n",
      "2023-01-01        1\n",
      "2023-01-02        2\n",
      "2023-01-03        3\n",
      "2023-01-04        4\n",
      "2023-01-05        5\n",
      "2023-01-06        6\n",
      "2023-01-07        7\n",
      "2023-01-08        8\n",
      "2023-01-09        9\n",
      "2023-01-10       10\n",
      "2023-01-11       11\n",
      "2023-01-12       12\n",
      "2023-01-13       13\n",
      "2023-01-14       14\n",
      "2023-01-15       15\n",
      "2023-01-16       16\n",
      "2023-01-17       17\n",
      "2023-01-18       18\n",
      "2023-01-19       19\n",
      "2023-01-20       20\n",
      "2023-01-21       21\n",
      "2023-01-22       22\n",
      "2023-01-23       23\n",
      "2023-01-24       24\n",
      "2023-01-25       25\n",
      "2023-01-26       26\n",
      "2023-01-27       27\n",
      "2023-01-28       28\n",
      "2023-01-29       29\n",
      "2023-01-30       30\n",
      "2023-01-31       31\n"
     ],
     "output_type": "stream"
    },
    {
     "data": {
      "text/plain": [
       "DatetimeIndex(['2023-01-01', '2023-01-02', '2023-01-03', '2023-01-04',\n",
       "               '2023-01-05', '2023-01-06', '2023-01-07', '2023-01-08',\n",
       "               '2023-01-09', '2023-01-10', '2023-01-11', '2023-01-12',\n",
       "               '2023-01-13', '2023-01-14', '2023-01-15', '2023-01-16',\n",
       "               '2023-01-17', '2023-01-18', '2023-01-19', '2023-01-20',\n",
       "               '2023-01-21', '2023-01-22', '2023-01-23', '2023-01-24',\n",
       "               '2023-01-25', '2023-01-26', '2023-01-27', '2023-01-28',\n",
       "               '2023-01-29', '2023-01-30', '2023-01-31'],\n",
       "              dtype='datetime64[ns]', freq='D')"
      ]
     },
     "metadata": {},
     "output_type": "display_data"
    }
   ],
   "metadata": {
    "datalore": {
     "node_id": "o8ZrBlER4k2oboHxhiS1h6",
     "type": "CODE",
     "hide_input_from_viewers": true,
     "hide_output_from_viewers": true
    }
   }
  },
  {
   "cell_type": "markdown",
   "source": [
    "## Frekvencie v pd.date_range()\n",
    "Frekvencia (freq parameter) určuje intervaly medzi dátumami v rozsahu. Napríklad, 'D' pre dni, 'W' pre týždne, 'M' pre koniec mesiaca, 'Q' pre koniec štvrťroka, atď. Ak potrebujete rozsah dátumov pre každú nedeľu v januári 2023"
   ],
   "attachments": {},
   "metadata": {
    "datalore": {
     "node_id": "PRrm9Z3AMLaYCK41EHYMaW",
     "type": "MD",
     "hide_input_from_viewers": true,
     "hide_output_from_viewers": true
    }
   }
  },
  {
   "cell_type": "code",
   "source": [],
   "execution_count": 17,
   "outputs": [
    {
     "name": "stdout",
     "text": [
      "DatetimeIndex(['2024-01-07', '2024-01-14', '2024-01-21', '2024-01-28'], dtype='datetime64[ns]', freq='W-SUN')\n"
     ],
     "output_type": "stream"
    }
   ],
   "metadata": {
    "datalore": {
     "node_id": "FeBD1vQjk4hl5ZIAGBsWtr",
     "type": "CODE",
     "hide_input_from_viewers": true,
     "hide_output_from_viewers": true
    }
   }
  },
  {
   "cell_type": "markdown",
   "source": [
    "## Načítanie dátového súboru do Pandas DataFrame"
   ],
   "attachments": {},
   "metadata": {
    "datalore": {
     "node_id": "tFcU0x2expd98bxTXnn7OV",
     "type": "MD",
     "hide_input_from_viewers": true,
     "hide_output_from_viewers": true
    }
   }
  },
  {
   "cell_type": "code",
   "source": [],
   "execution_count": 18,
   "outputs": [
    {
     "name": "stdout",
     "text": [
      "   identifikátor    meno  vek  príjem dátum_nastupu\n",
      "0            101   Jozef   28    2500    2020-04-01\n",
      "1            102   Elena   34    3200    2019-05-15\n",
      "2            103   Marek   45    4500    2018-02-20\n",
      "3            104  Zuzana   29    2750    2021-01-30\n",
      "4            105   Lukáš   38    3000    2020-11-10\n"
     ],
     "output_type": "stream"
    }
   ],
   "metadata": {
    "datalore": {
     "node_id": "IyjIljOa09Y0ls1i3rAw42",
     "type": "CODE",
     "hide_input_from_viewers": true,
     "hide_output_from_viewers": true
    }
   }
  },
  {
   "cell_type": "markdown",
   "source": [
    "## Čistenie dát"
   ],
   "attachments": {},
   "metadata": {
    "datalore": {
     "node_id": "Nmh9775HhYrXlmmTNbnh2R",
     "type": "MD",
     "hide_input_from_viewers": true,
     "hide_output_from_viewers": true
    }
   }
  },
  {
   "cell_type": "code",
   "source": [],
   "execution_count": 22,
   "outputs": [
    {
     "name": "stderr",
     "text": [
      "<ipython-input-22-48e541687889>:5: FutureWarning: The default value of numeric_only in DataFrame.mean is deprecated. In a future version, it will default to False. In addition, specifying 'numeric_only=None' is deprecated. Select only valid columns or specify the value of numeric_only to silence this warning.\n",
      "  df_filled = df_zamestnanci.fillna(df_zamestnanci.mean())\n"
     ],
     "output_type": "stream"
    }
   ],
   "metadata": {
    "datalore": {
     "node_id": "ahcV3PI87yiZz8TWP6NuBA",
     "type": "CODE",
     "hide_input_from_viewers": true,
     "hide_output_from_viewers": true
    }
   }
  },
  {
   "cell_type": "code",
   "source": [],
   "execution_count": 27,
   "outputs": [
    {
     "name": "stdout",
     "text": [
      "       identifikátor        vek       príjem\n",
      "count       5.000000   5.000000     5.000000\n",
      "mean      103.000000  34.800000  3190.000000\n",
      "std         1.581139   6.978539   778.138805\n",
      "min       101.000000  28.000000  2500.000000\n",
      "25%       102.000000  29.000000  2750.000000\n",
      "50%       103.000000  34.000000  3000.000000\n",
      "75%       104.000000  38.000000  3200.000000\n",
      "max       105.000000  45.000000  4500.000000\n",
      "5\n",
      "3190.0\n"
     ],
     "output_type": "stream"
    }
   ],
   "metadata": {
    "datalore": {
     "node_id": "RSC9zlJsiNAql3OLhfbwNU",
     "type": "CODE",
     "hide_input_from_viewers": true,
     "hide_output_from_viewers": true
    }
   }
  },
  {
   "cell_type": "markdown",
   "source": [
    "# Pandas Projekt"
   ],
   "attachments": {},
   "metadata": {
    "datalore": {
     "node_id": "Pandas Projekt",
     "type": "MD",
     "hide_input_from_viewers": false,
     "hide_output_from_viewers": false,
     "sheet_delimiter": true
    }
   }
  },
  {
   "cell_type": "markdown",
   "source": [
    "# Pandas (Python Data Analysis Library)"
   ],
   "attachments": {},
   "metadata": {
    "datalore": {
     "node_id": "j9lMhZpVTbYwuC4w9mV3pv",
     "type": "MD",
     "hide_input_from_viewers": true,
     "hide_output_from_viewers": true
    }
   }
  },
  {
   "cell_type": "markdown",
   "source": [
    "## Načítanie dát z CSV súboru"
   ],
   "attachments": {},
   "metadata": {
    "datalore": {
     "node_id": "vpwykkQa0ARuUUHdwKX8cn",
     "type": "MD",
     "hide_input_from_viewers": true,
     "hide_output_from_viewers": true
    }
   }
  },
  {
   "cell_type": "code",
   "source": [
    "import pandas as pd\n",
    "\n",
    "df_zamestnanci = pd.read_csv(\"zamestnanci.csv\")\n",
    "\n",
    "display(df_zamestnanci)\n",
    "\n",
    "#df_zamestnanci.head(3)\n",
    "df_zamestnanci.tail()"
   ],
   "execution_count": 53,
   "outputs": [
    {
     "data": {
      "text/html": [
       "<div>\n",
       "<style scoped>\n",
       "    .dataframe tbody tr th:only-of-type {\n",
       "        vertical-align: middle;\n",
       "    }\n",
       "\n",
       "    .dataframe tbody tr th {\n",
       "        vertical-align: top;\n",
       "    }\n",
       "\n",
       "    .dataframe thead th {\n",
       "        text-align: right;\n",
       "    }\n",
       "</style>\n",
       "<table border=\"1\" class=\"dataframe\">\n",
       "  <thead>\n",
       "    <tr style=\"text-align: right;\">\n",
       "      <th></th>\n",
       "      <th>ID</th>\n",
       "      <th>Meno</th>\n",
       "      <th>Vek</th>\n",
       "      <th>Mesto</th>\n",
       "      <th>Plat</th>\n",
       "    </tr>\n",
       "  </thead>\n",
       "  <tbody>\n",
       "    <tr>\n",
       "      <th>0</th>\n",
       "      <td>1</td>\n",
       "      <td>Ján</td>\n",
       "      <td>28</td>\n",
       "      <td>Bratislava</td>\n",
       "      <td>1200</td>\n",
       "    </tr>\n",
       "    <tr>\n",
       "      <th>1</th>\n",
       "      <td>2</td>\n",
       "      <td>Eva</td>\n",
       "      <td>34</td>\n",
       "      <td>Košice</td>\n",
       "      <td>1500</td>\n",
       "    </tr>\n",
       "    <tr>\n",
       "      <th>2</th>\n",
       "      <td>3</td>\n",
       "      <td>Peter</td>\n",
       "      <td>45</td>\n",
       "      <td>Prešov</td>\n",
       "      <td>1100</td>\n",
       "    </tr>\n",
       "    <tr>\n",
       "      <th>3</th>\n",
       "      <td>4</td>\n",
       "      <td>Lucia</td>\n",
       "      <td>29</td>\n",
       "      <td>Žilina</td>\n",
       "      <td>1300</td>\n",
       "    </tr>\n",
       "    <tr>\n",
       "      <th>4</th>\n",
       "      <td>5</td>\n",
       "      <td>Tomáš</td>\n",
       "      <td>23</td>\n",
       "      <td>Banská Bystrica</td>\n",
       "      <td>1400</td>\n",
       "    </tr>\n",
       "  </tbody>\n",
       "</table>\n",
       "</div>"
      ]
     },
     "metadata": {},
     "output_type": "display_data"
    },
    {
     "data": {
      "text/html": [
       "<div>\n",
       "<style scoped>\n",
       "    .dataframe tbody tr th:only-of-type {\n",
       "        vertical-align: middle;\n",
       "    }\n",
       "\n",
       "    .dataframe tbody tr th {\n",
       "        vertical-align: top;\n",
       "    }\n",
       "\n",
       "    .dataframe thead th {\n",
       "        text-align: right;\n",
       "    }\n",
       "</style>\n",
       "<table border=\"1\" class=\"dataframe\">\n",
       "  <thead>\n",
       "    <tr style=\"text-align: right;\">\n",
       "      <th></th>\n",
       "      <th>ID</th>\n",
       "      <th>Meno</th>\n",
       "      <th>Vek</th>\n",
       "      <th>Mesto</th>\n",
       "      <th>Plat</th>\n",
       "    </tr>\n",
       "  </thead>\n",
       "  <tbody>\n",
       "    <tr>\n",
       "      <th>2</th>\n",
       "      <td>3</td>\n",
       "      <td>Peter</td>\n",
       "      <td>45</td>\n",
       "      <td>Prešov</td>\n",
       "      <td>1100</td>\n",
       "    </tr>\n",
       "    <tr>\n",
       "      <th>3</th>\n",
       "      <td>4</td>\n",
       "      <td>Lucia</td>\n",
       "      <td>29</td>\n",
       "      <td>Žilina</td>\n",
       "      <td>1300</td>\n",
       "    </tr>\n",
       "    <tr>\n",
       "      <th>4</th>\n",
       "      <td>5</td>\n",
       "      <td>Tomáš</td>\n",
       "      <td>23</td>\n",
       "      <td>Banská Bystrica</td>\n",
       "      <td>1400</td>\n",
       "    </tr>\n",
       "  </tbody>\n",
       "</table>\n",
       "</div>"
      ]
     },
     "metadata": {},
     "output_type": "display_data"
    }
   ],
   "metadata": {
    "datalore": {
     "node_id": "aiR55SoLRYFrTcaWNKRRbW",
     "type": "CODE",
     "hide_input_from_viewers": true,
     "hide_output_from_viewers": true
    }
   }
  },
  {
   "cell_type": "markdown",
   "source": [
    "## Výber stĺpcov a riadkov"
   ],
   "attachments": {},
   "metadata": {
    "datalore": {
     "node_id": "rmGY60MKDZNx8D36CzcZyz",
     "type": "MD",
     "hide_input_from_viewers": true,
     "hide_output_from_viewers": true
    }
   }
  },
  {
   "cell_type": "code",
   "source": [
    "# select meno from df_zamestnanci\n",
    "vybrany_stlpec_meno = df_zamestnanci[\"Meno\"]\n",
    "#df_zamestnanci\n",
    "\n",
    "vybrane_riadky = df_zamestnanci[df_zamestnanci[\"Plat\"]>1200]\n",
    "vybrane_riadky"
   ],
   "execution_count": 63,
   "outputs": [
    {
     "data": {
      "text/html": [
       "<div>\n",
       "<style scoped>\n",
       "    .dataframe tbody tr th:only-of-type {\n",
       "        vertical-align: middle;\n",
       "    }\n",
       "\n",
       "    .dataframe tbody tr th {\n",
       "        vertical-align: top;\n",
       "    }\n",
       "\n",
       "    .dataframe thead th {\n",
       "        text-align: right;\n",
       "    }\n",
       "</style>\n",
       "<table border=\"1\" class=\"dataframe\">\n",
       "  <thead>\n",
       "    <tr style=\"text-align: right;\">\n",
       "      <th></th>\n",
       "      <th>ID</th>\n",
       "      <th>Meno</th>\n",
       "      <th>Vek</th>\n",
       "      <th>Mesto</th>\n",
       "      <th>Plat</th>\n",
       "    </tr>\n",
       "  </thead>\n",
       "  <tbody>\n",
       "    <tr>\n",
       "      <th>1</th>\n",
       "      <td>2</td>\n",
       "      <td>Eva</td>\n",
       "      <td>34</td>\n",
       "      <td>Košice</td>\n",
       "      <td>1500</td>\n",
       "    </tr>\n",
       "    <tr>\n",
       "      <th>3</th>\n",
       "      <td>4</td>\n",
       "      <td>Lucia</td>\n",
       "      <td>29</td>\n",
       "      <td>Žilina</td>\n",
       "      <td>1300</td>\n",
       "    </tr>\n",
       "    <tr>\n",
       "      <th>4</th>\n",
       "      <td>5</td>\n",
       "      <td>Tomáš</td>\n",
       "      <td>23</td>\n",
       "      <td>Banská Bystrica</td>\n",
       "      <td>1400</td>\n",
       "    </tr>\n",
       "  </tbody>\n",
       "</table>\n",
       "</div>"
      ]
     },
     "metadata": {},
     "output_type": "display_data"
    }
   ],
   "metadata": {
    "datalore": {
     "node_id": "pbe32xUQRmyRJjBWsOKKAc",
     "type": "CODE",
     "hide_input_from_viewers": true,
     "hide_output_from_viewers": true
    }
   }
  },
  {
   "cell_type": "markdown",
   "source": [
    "## Zmena hodnôt v DataFrame"
   ],
   "attachments": {},
   "metadata": {
    "datalore": {
     "node_id": "4neBfVW3FBUcPdSjFkJWqN",
     "type": "MD",
     "hide_input_from_viewers": true,
     "hide_output_from_viewers": true
    }
   }
  },
  {
   "cell_type": "code",
   "source": [
    "df_zamestnanci.loc[df_zamestnanci[\"Plat\"] <= 1200, \"Plat\"] = 1250\n",
    "df_zamestnanci"
   ],
   "execution_count": 67,
   "outputs": [
    {
     "data": {
      "text/html": [
       "<div>\n",
       "<style scoped>\n",
       "    .dataframe tbody tr th:only-of-type {\n",
       "        vertical-align: middle;\n",
       "    }\n",
       "\n",
       "    .dataframe tbody tr th {\n",
       "        vertical-align: top;\n",
       "    }\n",
       "\n",
       "    .dataframe thead th {\n",
       "        text-align: right;\n",
       "    }\n",
       "</style>\n",
       "<table border=\"1\" class=\"dataframe\">\n",
       "  <thead>\n",
       "    <tr style=\"text-align: right;\">\n",
       "      <th></th>\n",
       "      <th>ID</th>\n",
       "      <th>Meno</th>\n",
       "      <th>Vek</th>\n",
       "      <th>Mesto</th>\n",
       "      <th>Plat</th>\n",
       "    </tr>\n",
       "  </thead>\n",
       "  <tbody>\n",
       "    <tr>\n",
       "      <th>0</th>\n",
       "      <td>1</td>\n",
       "      <td>Ján</td>\n",
       "      <td>28</td>\n",
       "      <td>Bratislava</td>\n",
       "      <td>1250</td>\n",
       "    </tr>\n",
       "    <tr>\n",
       "      <th>1</th>\n",
       "      <td>2</td>\n",
       "      <td>Eva</td>\n",
       "      <td>34</td>\n",
       "      <td>Košice</td>\n",
       "      <td>1500</td>\n",
       "    </tr>\n",
       "    <tr>\n",
       "      <th>2</th>\n",
       "      <td>3</td>\n",
       "      <td>Peter</td>\n",
       "      <td>45</td>\n",
       "      <td>Prešov</td>\n",
       "      <td>1250</td>\n",
       "    </tr>\n",
       "    <tr>\n",
       "      <th>3</th>\n",
       "      <td>4</td>\n",
       "      <td>Lucia</td>\n",
       "      <td>29</td>\n",
       "      <td>Žilina</td>\n",
       "      <td>1300</td>\n",
       "    </tr>\n",
       "    <tr>\n",
       "      <th>4</th>\n",
       "      <td>5</td>\n",
       "      <td>Tomáš</td>\n",
       "      <td>23</td>\n",
       "      <td>Banská Bystrica</td>\n",
       "      <td>1400</td>\n",
       "    </tr>\n",
       "  </tbody>\n",
       "</table>\n",
       "</div>"
      ]
     },
     "metadata": {},
     "output_type": "display_data"
    }
   ],
   "metadata": {
    "datalore": {
     "node_id": "IDGIP5Phg0m8hzUyFSEJEk",
     "type": "CODE",
     "hide_input_from_viewers": true,
     "hide_output_from_viewers": true
    }
   }
  },
  {
   "cell_type": "markdown",
   "source": [
    "## Zoskupenie a agregácia dát"
   ],
   "attachments": {},
   "metadata": {
    "datalore": {
     "node_id": "4j8HMTfVjCt2EowzMveK8R",
     "type": "MD",
     "hide_input_from_viewers": true,
     "hide_output_from_viewers": true
    }
   }
  },
  {
   "cell_type": "code",
   "source": [
    "import pandas as pd\n",
    "\n",
    "df_zamestnanci2 = pd.read_csv(\"zamestnanci-100R.csv\")\n",
    "df_zamestnanci2\n",
    "\n",
    "skupinovy_priemer = df_zamestnanci2.groupby(\"Mesto\")[\"Mzda\"].mean()\n",
    "skupinovy_priemer\n",
    "\n",
    "skupinovy_max = df_zamestnanci2.groupby(\"Mesto\")[\"Mzda\"].max()\n",
    "skupinovy_max"
   ],
   "execution_count": 74,
   "outputs": [
    {
     "data": {
      "text/html": [
       "<pre>Mesto\n",
       "Banská Bystrica    4874\n",
       "Bratislava         4945\n",
       "Košice             4751\n",
       "Martin             4273\n",
       "Nitra              4970\n",
       "Poprad             4900\n",
       "Prešov             4979\n",
       "Trenčín            4398\n",
       "Trnava             4256\n",
       "Žilina             4813\n",
       "Name: Mzda, dtype: int64</pre>"
      ]
     },
     "metadata": {},
     "output_type": "display_data"
    }
   ],
   "metadata": {
    "datalore": {
     "node_id": "4c7hGFBEUz9bkzITbYPQqq",
     "type": "CODE",
     "hide_input_from_viewers": true,
     "hide_output_from_viewers": true
    }
   }
  },
  {
   "cell_type": "code",
   "source": [],
   "execution_count": 2,
   "outputs": [
    {
     "name": "stdout",
     "text": [
      "   ID   Meno Priezvisko  Vek       Mesto  Mzda       Datum  Mzda_po_Zdaneni  \\\n",
      "0   1  Pavol    Horváth   39       Nitra  2050  2022-01-02           1845.0   \n",
      "1   2  Lukáš     Slovak   28      Prešov  2831  2022-01-09           2547.9   \n",
      "2   3  Matej     Farkaš   33      Žilina  1912  2022-01-16           1720.8   \n",
      "3   4  Tomáš     Farkaš   50      Prešov  2564  2022-01-23           2307.6   \n",
      "4   5  Pavol      Baláž   26  Bratislava  1981  2022-01-30           1782.9   \n",
      "\n",
      "   Mzda_Pohyblivy_Priemer  Mzda_Expanzny_Priemer  \n",
      "0                     NaN            2050.000000  \n",
      "1                     NaN            2440.500000  \n",
      "2             2264.333333            2264.333333  \n",
      "3             2435.666667            2339.250000  \n",
      "4             2152.333333            2267.600000  \n"
     ],
     "output_type": "stream"
    }
   ],
   "metadata": {
    "datalore": {
     "node_id": "hWjYgvR3tAx7RY4T1Y0rnP",
     "type": "CODE",
     "hide_input_from_viewers": true,
     "hide_output_from_viewers": true
    }
   }
  },
  {
   "cell_type": "markdown",
   "source": [
    "## Práca s dátumami"
   ],
   "attachments": {},
   "metadata": {
    "datalore": {
     "node_id": "9XhTsJHCRPJMfCV45uFHXL",
     "type": "MD",
     "hide_input_from_viewers": true,
     "hide_output_from_viewers": true
    }
   }
  },
  {
   "cell_type": "code",
   "source": [
    "import pandas as pd\n",
    "\n",
    "df_zamestnanci3 = pd.read_csv(\"zamestnanci2-100R.csv\")\n",
    "df_zamestnanci3[\"Datum\"] = pd.to_datetime(df_zamestnanci3[\"Datum\"])\n",
    "\n",
    "df_zamestnanci3[\"Rok\"] = df_zamestnanci3[\"Datum\"].dt.year\n",
    "\n",
    "df_zamestnanci3_po_datume = df_zamestnanci3[df_zamestnanci3[\"Datum\"] < \"2023-01-01\"]\n",
    "\n",
    "df_zamestnanci3_po_datume"
   ],
   "execution_count": 10,
   "outputs": [
    {
     "data": {
      "text/html": [
       "<div>\n",
       "<style scoped>\n",
       "    .dataframe tbody tr th:only-of-type {\n",
       "        vertical-align: middle;\n",
       "    }\n",
       "\n",
       "    .dataframe tbody tr th {\n",
       "        vertical-align: top;\n",
       "    }\n",
       "\n",
       "    .dataframe thead th {\n",
       "        text-align: right;\n",
       "    }\n",
       "</style>\n",
       "<table border=\"1\" class=\"dataframe\">\n",
       "  <thead>\n",
       "    <tr style=\"text-align: right;\">\n",
       "      <th></th>\n",
       "      <th>ID</th>\n",
       "      <th>Meno</th>\n",
       "      <th>Priezvisko</th>\n",
       "      <th>Vek</th>\n",
       "      <th>Mesto</th>\n",
       "      <th>Mzda</th>\n",
       "      <th>Datum</th>\n",
       "      <th>Mzda_po_Zdaneni</th>\n",
       "      <th>Mzda_Pohyblivy_Priemer</th>\n",
       "      <th>Mzda_Expanzny_Priemer</th>\n",
       "      <th>Rok</th>\n",
       "    </tr>\n",
       "  </thead>\n",
       "  <tbody>\n",
       "    <tr>\n",
       "      <th>0</th>\n",
       "      <td>1</td>\n",
       "      <td>Pavol</td>\n",
       "      <td>Horváth</td>\n",
       "      <td>39</td>\n",
       "      <td>Nitra</td>\n",
       "      <td>2050</td>\n",
       "      <td>2022-01-02</td>\n",
       "      <td>1845.0</td>\n",
       "      <td>NaN</td>\n",
       "      <td>2050.000000</td>\n",
       "      <td>2022</td>\n",
       "    </tr>\n",
       "    <tr>\n",
       "      <th>1</th>\n",
       "      <td>2</td>\n",
       "      <td>Lukáš</td>\n",
       "      <td>Slovak</td>\n",
       "      <td>28</td>\n",
       "      <td>Prešov</td>\n",
       "      <td>2831</td>\n",
       "      <td>2022-01-09</td>\n",
       "      <td>2547.9</td>\n",
       "      <td>NaN</td>\n",
       "      <td>2440.500000</td>\n",
       "      <td>2022</td>\n",
       "    </tr>\n",
       "    <tr>\n",
       "      <th>2</th>\n",
       "      <td>3</td>\n",
       "      <td>Matej</td>\n",
       "      <td>Farkaš</td>\n",
       "      <td>33</td>\n",
       "      <td>Žilina</td>\n",
       "      <td>1912</td>\n",
       "      <td>2022-01-16</td>\n",
       "      <td>1720.8</td>\n",
       "      <td>2264.333333</td>\n",
       "      <td>2264.333333</td>\n",
       "      <td>2022</td>\n",
       "    </tr>\n",
       "    <tr>\n",
       "      <th>3</th>\n",
       "      <td>4</td>\n",
       "      <td>Tomáš</td>\n",
       "      <td>Farkaš</td>\n",
       "      <td>50</td>\n",
       "      <td>Prešov</td>\n",
       "      <td>2564</td>\n",
       "      <td>2022-01-23</td>\n",
       "      <td>2307.6</td>\n",
       "      <td>2435.666667</td>\n",
       "      <td>2339.250000</td>\n",
       "      <td>2022</td>\n",
       "    </tr>\n",
       "    <tr>\n",
       "      <th>4</th>\n",
       "      <td>5</td>\n",
       "      <td>Pavol</td>\n",
       "      <td>Baláž</td>\n",
       "      <td>26</td>\n",
       "      <td>Bratislava</td>\n",
       "      <td>1981</td>\n",
       "      <td>2022-01-30</td>\n",
       "      <td>1782.9</td>\n",
       "      <td>2152.333333</td>\n",
       "      <td>2267.600000</td>\n",
       "      <td>2022</td>\n",
       "    </tr>\n",
       "    <tr>\n",
       "      <th>5</th>\n",
       "      <td>6</td>\n",
       "      <td>Robert</td>\n",
       "      <td>Tóth</td>\n",
       "      <td>23</td>\n",
       "      <td>Bratislava</td>\n",
       "      <td>1412</td>\n",
       "      <td>2022-02-06</td>\n",
       "      <td>1270.8</td>\n",
       "      <td>1985.666667</td>\n",
       "      <td>2125.000000</td>\n",
       "      <td>2022</td>\n",
       "    </tr>\n",
       "    <tr>\n",
       "      <th>6</th>\n",
       "      <td>7</td>\n",
       "      <td>Martin</td>\n",
       "      <td>Varga</td>\n",
       "      <td>33</td>\n",
       "      <td>Nitra</td>\n",
       "      <td>3749</td>\n",
       "      <td>2022-02-13</td>\n",
       "      <td>2999.2</td>\n",
       "      <td>2380.666667</td>\n",
       "      <td>2357.000000</td>\n",
       "      <td>2022</td>\n",
       "    </tr>\n",
       "    <tr>\n",
       "      <th>7</th>\n",
       "      <td>8</td>\n",
       "      <td>Pavol</td>\n",
       "      <td>Baláž</td>\n",
       "      <td>46</td>\n",
       "      <td>Banská Bystrica</td>\n",
       "      <td>1459</td>\n",
       "      <td>2022-02-20</td>\n",
       "      <td>1313.1</td>\n",
       "      <td>2206.666667</td>\n",
       "      <td>2244.750000</td>\n",
       "      <td>2022</td>\n",
       "    </tr>\n",
       "    <tr>\n",
       "      <th>8</th>\n",
       "      <td>9</td>\n",
       "      <td>Matej</td>\n",
       "      <td>Nagy</td>\n",
       "      <td>20</td>\n",
       "      <td>Prešov</td>\n",
       "      <td>4572</td>\n",
       "      <td>2022-02-27</td>\n",
       "      <td>3657.6</td>\n",
       "      <td>3260.000000</td>\n",
       "      <td>2503.333333</td>\n",
       "      <td>2022</td>\n",
       "    </tr>\n",
       "    <tr>\n",
       "      <th>9</th>\n",
       "      <td>10</td>\n",
       "      <td>Tomáš</td>\n",
       "      <td>Varga</td>\n",
       "      <td>37</td>\n",
       "      <td>Trenčín</td>\n",
       "      <td>4243</td>\n",
       "      <td>2022-03-06</td>\n",
       "      <td>3394.4</td>\n",
       "      <td>3424.666667</td>\n",
       "      <td>2677.300000</td>\n",
       "      <td>2022</td>\n",
       "    </tr>\n",
       "    <tr>\n",
       "      <th>10</th>\n",
       "      <td>11</td>\n",
       "      <td>Lukáš</td>\n",
       "      <td>Slovak</td>\n",
       "      <td>53</td>\n",
       "      <td>Nitra</td>\n",
       "      <td>4970</td>\n",
       "      <td>2022-03-13</td>\n",
       "      <td>3976.0</td>\n",
       "      <td>4595.000000</td>\n",
       "      <td>2885.727273</td>\n",
       "      <td>2022</td>\n",
       "    </tr>\n",
       "    <tr>\n",
       "      <th>11</th>\n",
       "      <td>12</td>\n",
       "      <td>Matej</td>\n",
       "      <td>Varga</td>\n",
       "      <td>36</td>\n",
       "      <td>Martin</td>\n",
       "      <td>2370</td>\n",
       "      <td>2022-03-20</td>\n",
       "      <td>2133.0</td>\n",
       "      <td>3861.000000</td>\n",
       "      <td>2842.750000</td>\n",
       "      <td>2022</td>\n",
       "    </tr>\n",
       "    <tr>\n",
       "      <th>12</th>\n",
       "      <td>13</td>\n",
       "      <td>Matej</td>\n",
       "      <td>Tóth</td>\n",
       "      <td>43</td>\n",
       "      <td>Bratislava</td>\n",
       "      <td>1480</td>\n",
       "      <td>2022-03-27</td>\n",
       "      <td>1332.0</td>\n",
       "      <td>2940.000000</td>\n",
       "      <td>2737.923077</td>\n",
       "      <td>2022</td>\n",
       "    </tr>\n",
       "    <tr>\n",
       "      <th>13</th>\n",
       "      <td>14</td>\n",
       "      <td>Martin</td>\n",
       "      <td>Varga</td>\n",
       "      <td>20</td>\n",
       "      <td>Nitra</td>\n",
       "      <td>3194</td>\n",
       "      <td>2022-04-03</td>\n",
       "      <td>2555.2</td>\n",
       "      <td>2348.000000</td>\n",
       "      <td>2770.500000</td>\n",
       "      <td>2022</td>\n",
       "    </tr>\n",
       "    <tr>\n",
       "      <th>14</th>\n",
       "      <td>15</td>\n",
       "      <td>Michal</td>\n",
       "      <td>Slovak</td>\n",
       "      <td>36</td>\n",
       "      <td>Prešov</td>\n",
       "      <td>4047</td>\n",
       "      <td>2022-04-10</td>\n",
       "      <td>3237.6</td>\n",
       "      <td>2907.000000</td>\n",
       "      <td>2855.600000</td>\n",
       "      <td>2022</td>\n",
       "    </tr>\n",
       "    <tr>\n",
       "      <th>15</th>\n",
       "      <td>16</td>\n",
       "      <td>Tomáš</td>\n",
       "      <td>Tóth</td>\n",
       "      <td>37</td>\n",
       "      <td>Bratislava</td>\n",
       "      <td>2579</td>\n",
       "      <td>2022-04-17</td>\n",
       "      <td>2321.1</td>\n",
       "      <td>3273.333333</td>\n",
       "      <td>2838.312500</td>\n",
       "      <td>2022</td>\n",
       "    </tr>\n",
       "    <tr>\n",
       "      <th>16</th>\n",
       "      <td>17</td>\n",
       "      <td>Peter</td>\n",
       "      <td>Molnár</td>\n",
       "      <td>49</td>\n",
       "      <td>Žilina</td>\n",
       "      <td>4406</td>\n",
       "      <td>2022-04-24</td>\n",
       "      <td>3524.8</td>\n",
       "      <td>3677.333333</td>\n",
       "      <td>2930.529412</td>\n",
       "      <td>2022</td>\n",
       "    </tr>\n",
       "    <tr>\n",
       "      <th>17</th>\n",
       "      <td>18</td>\n",
       "      <td>Matej</td>\n",
       "      <td>Farkaš</td>\n",
       "      <td>24</td>\n",
       "      <td>Nitra</td>\n",
       "      <td>3644</td>\n",
       "      <td>2022-05-01</td>\n",
       "      <td>2915.2</td>\n",
       "      <td>3543.000000</td>\n",
       "      <td>2970.166667</td>\n",
       "      <td>2022</td>\n",
       "    </tr>\n",
       "    <tr>\n",
       "      <th>18</th>\n",
       "      <td>19</td>\n",
       "      <td>Michal</td>\n",
       "      <td>Farkaš</td>\n",
       "      <td>58</td>\n",
       "      <td>Trnava</td>\n",
       "      <td>4256</td>\n",
       "      <td>2022-05-08</td>\n",
       "      <td>3404.8</td>\n",
       "      <td>4102.000000</td>\n",
       "      <td>3037.842105</td>\n",
       "      <td>2022</td>\n",
       "    </tr>\n",
       "    <tr>\n",
       "      <th>19</th>\n",
       "      <td>20</td>\n",
       "      <td>Peter</td>\n",
       "      <td>Szabó</td>\n",
       "      <td>50</td>\n",
       "      <td>Bratislava</td>\n",
       "      <td>4945</td>\n",
       "      <td>2022-05-15</td>\n",
       "      <td>3956.0</td>\n",
       "      <td>4281.666667</td>\n",
       "      <td>3133.200000</td>\n",
       "      <td>2022</td>\n",
       "    </tr>\n",
       "    <tr>\n",
       "      <th>20</th>\n",
       "      <td>21</td>\n",
       "      <td>Tomáš</td>\n",
       "      <td>Molnár</td>\n",
       "      <td>57</td>\n",
       "      <td>Prešov</td>\n",
       "      <td>2143</td>\n",
       "      <td>2022-05-22</td>\n",
       "      <td>1928.7</td>\n",
       "      <td>3781.333333</td>\n",
       "      <td>3086.047619</td>\n",
       "      <td>2022</td>\n",
       "    </tr>\n",
       "    <tr>\n",
       "      <th>21</th>\n",
       "      <td>22</td>\n",
       "      <td>Ján</td>\n",
       "      <td>Molnár</td>\n",
       "      <td>56</td>\n",
       "      <td>Košice</td>\n",
       "      <td>4018</td>\n",
       "      <td>2022-05-29</td>\n",
       "      <td>3214.4</td>\n",
       "      <td>3702.000000</td>\n",
       "      <td>3128.409091</td>\n",
       "      <td>2022</td>\n",
       "    </tr>\n",
       "    <tr>\n",
       "      <th>22</th>\n",
       "      <td>23</td>\n",
       "      <td>Robert</td>\n",
       "      <td>Varga</td>\n",
       "      <td>35</td>\n",
       "      <td>Trenčín</td>\n",
       "      <td>3041</td>\n",
       "      <td>2022-06-05</td>\n",
       "      <td>2432.8</td>\n",
       "      <td>3067.333333</td>\n",
       "      <td>3124.608696</td>\n",
       "      <td>2022</td>\n",
       "    </tr>\n",
       "    <tr>\n",
       "      <th>23</th>\n",
       "      <td>24</td>\n",
       "      <td>Michal</td>\n",
       "      <td>Farkaš</td>\n",
       "      <td>57</td>\n",
       "      <td>Poprad</td>\n",
       "      <td>3959</td>\n",
       "      <td>2022-06-12</td>\n",
       "      <td>3167.2</td>\n",
       "      <td>3672.666667</td>\n",
       "      <td>3159.375000</td>\n",
       "      <td>2022</td>\n",
       "    </tr>\n",
       "    <tr>\n",
       "      <th>24</th>\n",
       "      <td>25</td>\n",
       "      <td>Juraj</td>\n",
       "      <td>Slovak</td>\n",
       "      <td>18</td>\n",
       "      <td>Banská Bystrica</td>\n",
       "      <td>3859</td>\n",
       "      <td>2022-06-19</td>\n",
       "      <td>3087.2</td>\n",
       "      <td>3619.666667</td>\n",
       "      <td>3187.360000</td>\n",
       "      <td>2022</td>\n",
       "    </tr>\n",
       "    <tr>\n",
       "      <th>25</th>\n",
       "      <td>26</td>\n",
       "      <td>Ján</td>\n",
       "      <td>Kováč</td>\n",
       "      <td>28</td>\n",
       "      <td>Poprad</td>\n",
       "      <td>3165</td>\n",
       "      <td>2022-06-26</td>\n",
       "      <td>2532.0</td>\n",
       "      <td>3661.000000</td>\n",
       "      <td>3186.500000</td>\n",
       "      <td>2022</td>\n",
       "    </tr>\n",
       "    <tr>\n",
       "      <th>26</th>\n",
       "      <td>27</td>\n",
       "      <td>Robert</td>\n",
       "      <td>Kováč</td>\n",
       "      <td>45</td>\n",
       "      <td>Prešov</td>\n",
       "      <td>3379</td>\n",
       "      <td>2022-07-03</td>\n",
       "      <td>2703.2</td>\n",
       "      <td>3467.666667</td>\n",
       "      <td>3193.629630</td>\n",
       "      <td>2022</td>\n",
       "    </tr>\n",
       "    <tr>\n",
       "      <th>27</th>\n",
       "      <td>28</td>\n",
       "      <td>Martin</td>\n",
       "      <td>Tóth</td>\n",
       "      <td>42</td>\n",
       "      <td>Martin</td>\n",
       "      <td>2535</td>\n",
       "      <td>2022-07-10</td>\n",
       "      <td>2281.5</td>\n",
       "      <td>3026.333333</td>\n",
       "      <td>3170.107143</td>\n",
       "      <td>2022</td>\n",
       "    </tr>\n",
       "    <tr>\n",
       "      <th>28</th>\n",
       "      <td>29</td>\n",
       "      <td>Pavol</td>\n",
       "      <td>Farkaš</td>\n",
       "      <td>40</td>\n",
       "      <td>Martin</td>\n",
       "      <td>2657</td>\n",
       "      <td>2022-07-17</td>\n",
       "      <td>2391.3</td>\n",
       "      <td>2857.000000</td>\n",
       "      <td>3152.413793</td>\n",
       "      <td>2022</td>\n",
       "    </tr>\n",
       "    <tr>\n",
       "      <th>29</th>\n",
       "      <td>30</td>\n",
       "      <td>Lukáš</td>\n",
       "      <td>Farkaš</td>\n",
       "      <td>48</td>\n",
       "      <td>Košice</td>\n",
       "      <td>2970</td>\n",
       "      <td>2022-07-24</td>\n",
       "      <td>2673.0</td>\n",
       "      <td>2720.666667</td>\n",
       "      <td>3146.333333</td>\n",
       "      <td>2022</td>\n",
       "    </tr>\n",
       "    <tr>\n",
       "      <th>30</th>\n",
       "      <td>31</td>\n",
       "      <td>Juraj</td>\n",
       "      <td>Kováč</td>\n",
       "      <td>47</td>\n",
       "      <td>Banská Bystrica</td>\n",
       "      <td>3749</td>\n",
       "      <td>2022-07-31</td>\n",
       "      <td>2999.2</td>\n",
       "      <td>3125.333333</td>\n",
       "      <td>3165.774194</td>\n",
       "      <td>2022</td>\n",
       "    </tr>\n",
       "    <tr>\n",
       "      <th>31</th>\n",
       "      <td>32</td>\n",
       "      <td>Martin</td>\n",
       "      <td>Farkaš</td>\n",
       "      <td>59</td>\n",
       "      <td>Trnava</td>\n",
       "      <td>4151</td>\n",
       "      <td>2022-08-07</td>\n",
       "      <td>3320.8</td>\n",
       "      <td>3623.333333</td>\n",
       "      <td>3196.562500</td>\n",
       "      <td>2022</td>\n",
       "    </tr>\n",
       "    <tr>\n",
       "      <th>32</th>\n",
       "      <td>33</td>\n",
       "      <td>Tomáš</td>\n",
       "      <td>Varga</td>\n",
       "      <td>52</td>\n",
       "      <td>Košice</td>\n",
       "      <td>4630</td>\n",
       "      <td>2022-08-14</td>\n",
       "      <td>3704.0</td>\n",
       "      <td>4176.666667</td>\n",
       "      <td>3240.000000</td>\n",
       "      <td>2022</td>\n",
       "    </tr>\n",
       "    <tr>\n",
       "      <th>33</th>\n",
       "      <td>34</td>\n",
       "      <td>Martin</td>\n",
       "      <td>Nagy</td>\n",
       "      <td>24</td>\n",
       "      <td>Poprad</td>\n",
       "      <td>3389</td>\n",
       "      <td>2022-08-21</td>\n",
       "      <td>2711.2</td>\n",
       "      <td>4056.666667</td>\n",
       "      <td>3244.382353</td>\n",
       "      <td>2022</td>\n",
       "    </tr>\n",
       "    <tr>\n",
       "      <th>34</th>\n",
       "      <td>35</td>\n",
       "      <td>Pavol</td>\n",
       "      <td>Horváth</td>\n",
       "      <td>33</td>\n",
       "      <td>Košice</td>\n",
       "      <td>2531</td>\n",
       "      <td>2022-08-28</td>\n",
       "      <td>2277.9</td>\n",
       "      <td>3516.666667</td>\n",
       "      <td>3224.000000</td>\n",
       "      <td>2022</td>\n",
       "    </tr>\n",
       "    <tr>\n",
       "      <th>35</th>\n",
       "      <td>36</td>\n",
       "      <td>Tomáš</td>\n",
       "      <td>Molnár</td>\n",
       "      <td>43</td>\n",
       "      <td>Poprad</td>\n",
       "      <td>3716</td>\n",
       "      <td>2022-09-04</td>\n",
       "      <td>2972.8</td>\n",
       "      <td>3212.000000</td>\n",
       "      <td>3237.666667</td>\n",
       "      <td>2022</td>\n",
       "    </tr>\n",
       "    <tr>\n",
       "      <th>36</th>\n",
       "      <td>37</td>\n",
       "      <td>Juraj</td>\n",
       "      <td>Szabó</td>\n",
       "      <td>19</td>\n",
       "      <td>Bratislava</td>\n",
       "      <td>1915</td>\n",
       "      <td>2022-09-11</td>\n",
       "      <td>1723.5</td>\n",
       "      <td>2720.666667</td>\n",
       "      <td>3201.918919</td>\n",
       "      <td>2022</td>\n",
       "    </tr>\n",
       "    <tr>\n",
       "      <th>37</th>\n",
       "      <td>38</td>\n",
       "      <td>Pavol</td>\n",
       "      <td>Tóth</td>\n",
       "      <td>18</td>\n",
       "      <td>Martin</td>\n",
       "      <td>2248</td>\n",
       "      <td>2022-09-18</td>\n",
       "      <td>2023.2</td>\n",
       "      <td>2626.333333</td>\n",
       "      <td>3176.815789</td>\n",
       "      <td>2022</td>\n",
       "    </tr>\n",
       "    <tr>\n",
       "      <th>38</th>\n",
       "      <td>39</td>\n",
       "      <td>Peter</td>\n",
       "      <td>Nagy</td>\n",
       "      <td>29</td>\n",
       "      <td>Bratislava</td>\n",
       "      <td>3987</td>\n",
       "      <td>2022-09-25</td>\n",
       "      <td>3189.6</td>\n",
       "      <td>2716.666667</td>\n",
       "      <td>3197.589744</td>\n",
       "      <td>2022</td>\n",
       "    </tr>\n",
       "    <tr>\n",
       "      <th>39</th>\n",
       "      <td>40</td>\n",
       "      <td>Lukáš</td>\n",
       "      <td>Kováč</td>\n",
       "      <td>22</td>\n",
       "      <td>Trenčín</td>\n",
       "      <td>3739</td>\n",
       "      <td>2022-10-02</td>\n",
       "      <td>2991.2</td>\n",
       "      <td>3324.666667</td>\n",
       "      <td>3211.125000</td>\n",
       "      <td>2022</td>\n",
       "    </tr>\n",
       "    <tr>\n",
       "      <th>40</th>\n",
       "      <td>41</td>\n",
       "      <td>Juraj</td>\n",
       "      <td>Molnár</td>\n",
       "      <td>54</td>\n",
       "      <td>Banská Bystrica</td>\n",
       "      <td>1235</td>\n",
       "      <td>2022-10-09</td>\n",
       "      <td>1111.5</td>\n",
       "      <td>2987.000000</td>\n",
       "      <td>3162.926829</td>\n",
       "      <td>2022</td>\n",
       "    </tr>\n",
       "    <tr>\n",
       "      <th>41</th>\n",
       "      <td>42</td>\n",
       "      <td>Peter</td>\n",
       "      <td>Farkaš</td>\n",
       "      <td>49</td>\n",
       "      <td>Trnava</td>\n",
       "      <td>1795</td>\n",
       "      <td>2022-10-16</td>\n",
       "      <td>1615.5</td>\n",
       "      <td>2256.333333</td>\n",
       "      <td>3130.357143</td>\n",
       "      <td>2022</td>\n",
       "    </tr>\n",
       "    <tr>\n",
       "      <th>42</th>\n",
       "      <td>43</td>\n",
       "      <td>Robert</td>\n",
       "      <td>Szabó</td>\n",
       "      <td>26</td>\n",
       "      <td>Poprad</td>\n",
       "      <td>4446</td>\n",
       "      <td>2022-10-23</td>\n",
       "      <td>3556.8</td>\n",
       "      <td>2492.000000</td>\n",
       "      <td>3160.953488</td>\n",
       "      <td>2022</td>\n",
       "    </tr>\n",
       "    <tr>\n",
       "      <th>43</th>\n",
       "      <td>44</td>\n",
       "      <td>Juraj</td>\n",
       "      <td>Farkaš</td>\n",
       "      <td>58</td>\n",
       "      <td>Trnava</td>\n",
       "      <td>1751</td>\n",
       "      <td>2022-10-30</td>\n",
       "      <td>1575.9</td>\n",
       "      <td>2664.000000</td>\n",
       "      <td>3128.909091</td>\n",
       "      <td>2022</td>\n",
       "    </tr>\n",
       "    <tr>\n",
       "      <th>44</th>\n",
       "      <td>45</td>\n",
       "      <td>Robert</td>\n",
       "      <td>Slovak</td>\n",
       "      <td>52</td>\n",
       "      <td>Poprad</td>\n",
       "      <td>2587</td>\n",
       "      <td>2022-11-06</td>\n",
       "      <td>2328.3</td>\n",
       "      <td>2928.000000</td>\n",
       "      <td>3116.866667</td>\n",
       "      <td>2022</td>\n",
       "    </tr>\n",
       "    <tr>\n",
       "      <th>45</th>\n",
       "      <td>46</td>\n",
       "      <td>Tomáš</td>\n",
       "      <td>Slovak</td>\n",
       "      <td>36</td>\n",
       "      <td>Prešov</td>\n",
       "      <td>2831</td>\n",
       "      <td>2022-11-13</td>\n",
       "      <td>2547.9</td>\n",
       "      <td>2389.666667</td>\n",
       "      <td>3110.652174</td>\n",
       "      <td>2022</td>\n",
       "    </tr>\n",
       "    <tr>\n",
       "      <th>46</th>\n",
       "      <td>47</td>\n",
       "      <td>Peter</td>\n",
       "      <td>Szabó</td>\n",
       "      <td>33</td>\n",
       "      <td>Košice</td>\n",
       "      <td>4646</td>\n",
       "      <td>2022-11-20</td>\n",
       "      <td>3716.8</td>\n",
       "      <td>3354.666667</td>\n",
       "      <td>3143.319149</td>\n",
       "      <td>2022</td>\n",
       "    </tr>\n",
       "    <tr>\n",
       "      <th>47</th>\n",
       "      <td>48</td>\n",
       "      <td>Lukáš</td>\n",
       "      <td>Szabó</td>\n",
       "      <td>20</td>\n",
       "      <td>Trenčín</td>\n",
       "      <td>3327</td>\n",
       "      <td>2022-11-27</td>\n",
       "      <td>2661.6</td>\n",
       "      <td>3601.333333</td>\n",
       "      <td>3147.145833</td>\n",
       "      <td>2022</td>\n",
       "    </tr>\n",
       "    <tr>\n",
       "      <th>48</th>\n",
       "      <td>49</td>\n",
       "      <td>Pavol</td>\n",
       "      <td>Kováč</td>\n",
       "      <td>37</td>\n",
       "      <td>Martin</td>\n",
       "      <td>2468</td>\n",
       "      <td>2022-12-04</td>\n",
       "      <td>2221.2</td>\n",
       "      <td>3480.333333</td>\n",
       "      <td>3133.285714</td>\n",
       "      <td>2022</td>\n",
       "    </tr>\n",
       "    <tr>\n",
       "      <th>49</th>\n",
       "      <td>50</td>\n",
       "      <td>Matej</td>\n",
       "      <td>Szabó</td>\n",
       "      <td>41</td>\n",
       "      <td>Poprad</td>\n",
       "      <td>4900</td>\n",
       "      <td>2022-12-11</td>\n",
       "      <td>3920.0</td>\n",
       "      <td>3565.000000</td>\n",
       "      <td>3168.620000</td>\n",
       "      <td>2022</td>\n",
       "    </tr>\n",
       "    <tr>\n",
       "      <th>50</th>\n",
       "      <td>51</td>\n",
       "      <td>Martin</td>\n",
       "      <td>Varga</td>\n",
       "      <td>50</td>\n",
       "      <td>Trnava</td>\n",
       "      <td>3638</td>\n",
       "      <td>2022-12-18</td>\n",
       "      <td>2910.4</td>\n",
       "      <td>3668.666667</td>\n",
       "      <td>3177.823529</td>\n",
       "      <td>2022</td>\n",
       "    </tr>\n",
       "    <tr>\n",
       "      <th>51</th>\n",
       "      <td>52</td>\n",
       "      <td>Ján</td>\n",
       "      <td>Farkaš</td>\n",
       "      <td>41</td>\n",
       "      <td>Trenčín</td>\n",
       "      <td>4398</td>\n",
       "      <td>2022-12-25</td>\n",
       "      <td>3518.4</td>\n",
       "      <td>4312.000000</td>\n",
       "      <td>3201.288462</td>\n",
       "      <td>2022</td>\n",
       "    </tr>\n",
       "  </tbody>\n",
       "</table>\n",
       "</div>"
      ]
     },
     "metadata": {},
     "output_type": "display_data"
    }
   ],
   "metadata": {
    "datalore": {
     "node_id": "WLnqoPb0nxNAogxi3aEFV1",
     "type": "CODE",
     "hide_input_from_viewers": true,
     "hide_output_from_viewers": true
    }
   }
  },
  {
   "cell_type": "markdown",
   "source": [
    "## Práca s chýbajúcimi dátami"
   ],
   "attachments": {},
   "metadata": {
    "datalore": {
     "node_id": "4jTPXXfuEcK06ewt86zhWO",
     "type": "MD",
     "hide_input_from_viewers": true,
     "hide_output_from_viewers": true
    }
   }
  },
  {
   "cell_type": "code",
   "source": [
    "df_zamestnanci3 = df_zamestnanci3.dropna()\n",
    "df_zamestnanci3 \n",
    "\n",
    "df_zamestnanci3[\"Mzda\"].fillna(df_zamestnanci3[\"Mzda\"].mean())"
   ],
   "execution_count": 4,
   "outputs": [
    {
     "data": {
      "text/html": [
       "<pre>2     1912\n",
       "3     2564\n",
       "4     1981\n",
       "5     1412\n",
       "6     3749\n",
       "      ... \n",
       "95    2265\n",
       "96    1598\n",
       "97    1295\n",
       "98    3402\n",
       "99    2719\n",
       "Name: Mzda, Length: 98, dtype: int64</pre>"
      ]
     },
     "metadata": {},
     "output_type": "display_data"
    }
   ],
   "metadata": {
    "datalore": {
     "node_id": "2Cx9W5Huqs1JRo76qjCYEv",
     "type": "CODE",
     "hide_input_from_viewers": true,
     "hide_output_from_viewers": true
    }
   }
  },
  {
   "cell_type": "markdown",
   "source": [
    "## Vytváranie nových stĺpcov z existujúcich"
   ],
   "attachments": {},
   "metadata": {
    "datalore": {
     "node_id": "pvLds3WyEphWMIw1sV5vOY",
     "type": "MD",
     "hide_input_from_viewers": true,
     "hide_output_from_viewers": true
    }
   }
  },
  {
   "cell_type": "code",
   "source": [
    "\n",
    "df_zamestnanci3[\"Cele Meno\"] =df_zamestnanci3[\"Meno\"] + \" \" + df_zamestnanci3[\"Priezvisko\"]\n",
    "df_zamestnanci3"
   ],
   "execution_count": 5,
   "outputs": [
    {
     "data": {
      "text/html": [
       "<div>\n",
       "<style scoped>\n",
       "    .dataframe tbody tr th:only-of-type {\n",
       "        vertical-align: middle;\n",
       "    }\n",
       "\n",
       "    .dataframe tbody tr th {\n",
       "        vertical-align: top;\n",
       "    }\n",
       "\n",
       "    .dataframe thead th {\n",
       "        text-align: right;\n",
       "    }\n",
       "</style>\n",
       "<table border=\"1\" class=\"dataframe\">\n",
       "  <thead>\n",
       "    <tr style=\"text-align: right;\">\n",
       "      <th></th>\n",
       "      <th>ID</th>\n",
       "      <th>Meno</th>\n",
       "      <th>Priezvisko</th>\n",
       "      <th>Vek</th>\n",
       "      <th>Mesto</th>\n",
       "      <th>Mzda</th>\n",
       "      <th>Datum</th>\n",
       "      <th>Mzda_po_Zdaneni</th>\n",
       "      <th>Mzda_Pohyblivy_Priemer</th>\n",
       "      <th>Mzda_Expanzny_Priemer</th>\n",
       "      <th>Rok</th>\n",
       "      <th>Cele Meno</th>\n",
       "    </tr>\n",
       "  </thead>\n",
       "  <tbody>\n",
       "    <tr>\n",
       "      <th>2</th>\n",
       "      <td>3</td>\n",
       "      <td>Matej</td>\n",
       "      <td>Farkaš</td>\n",
       "      <td>33</td>\n",
       "      <td>Žilina</td>\n",
       "      <td>1912</td>\n",
       "      <td>2022-01-16</td>\n",
       "      <td>1720.8</td>\n",
       "      <td>2264.333333</td>\n",
       "      <td>2264.333333</td>\n",
       "      <td>2022</td>\n",
       "      <td>Matej Farkaš</td>\n",
       "    </tr>\n",
       "    <tr>\n",
       "      <th>3</th>\n",
       "      <td>4</td>\n",
       "      <td>Tomáš</td>\n",
       "      <td>Farkaš</td>\n",
       "      <td>50</td>\n",
       "      <td>Prešov</td>\n",
       "      <td>2564</td>\n",
       "      <td>2022-01-23</td>\n",
       "      <td>2307.6</td>\n",
       "      <td>2435.666667</td>\n",
       "      <td>2339.250000</td>\n",
       "      <td>2022</td>\n",
       "      <td>Tomáš Farkaš</td>\n",
       "    </tr>\n",
       "    <tr>\n",
       "      <th>4</th>\n",
       "      <td>5</td>\n",
       "      <td>Pavol</td>\n",
       "      <td>Baláž</td>\n",
       "      <td>26</td>\n",
       "      <td>Bratislava</td>\n",
       "      <td>1981</td>\n",
       "      <td>2022-01-30</td>\n",
       "      <td>1782.9</td>\n",
       "      <td>2152.333333</td>\n",
       "      <td>2267.600000</td>\n",
       "      <td>2022</td>\n",
       "      <td>Pavol Baláž</td>\n",
       "    </tr>\n",
       "    <tr>\n",
       "      <th>5</th>\n",
       "      <td>6</td>\n",
       "      <td>Robert</td>\n",
       "      <td>Tóth</td>\n",
       "      <td>23</td>\n",
       "      <td>Bratislava</td>\n",
       "      <td>1412</td>\n",
       "      <td>2022-02-06</td>\n",
       "      <td>1270.8</td>\n",
       "      <td>1985.666667</td>\n",
       "      <td>2125.000000</td>\n",
       "      <td>2022</td>\n",
       "      <td>Robert Tóth</td>\n",
       "    </tr>\n",
       "    <tr>\n",
       "      <th>6</th>\n",
       "      <td>7</td>\n",
       "      <td>Martin</td>\n",
       "      <td>Varga</td>\n",
       "      <td>33</td>\n",
       "      <td>Nitra</td>\n",
       "      <td>3749</td>\n",
       "      <td>2022-02-13</td>\n",
       "      <td>2999.2</td>\n",
       "      <td>2380.666667</td>\n",
       "      <td>2357.000000</td>\n",
       "      <td>2022</td>\n",
       "      <td>Martin Varga</td>\n",
       "    </tr>\n",
       "    <tr>\n",
       "      <th>...</th>\n",
       "      <td>...</td>\n",
       "      <td>...</td>\n",
       "      <td>...</td>\n",
       "      <td>...</td>\n",
       "      <td>...</td>\n",
       "      <td>...</td>\n",
       "      <td>...</td>\n",
       "      <td>...</td>\n",
       "      <td>...</td>\n",
       "      <td>...</td>\n",
       "      <td>...</td>\n",
       "      <td>...</td>\n",
       "    </tr>\n",
       "    <tr>\n",
       "      <th>95</th>\n",
       "      <td>96</td>\n",
       "      <td>Robert</td>\n",
       "      <td>Baláž</td>\n",
       "      <td>47</td>\n",
       "      <td>Poprad</td>\n",
       "      <td>2265</td>\n",
       "      <td>2023-10-29</td>\n",
       "      <td>2038.5</td>\n",
       "      <td>1796.000000</td>\n",
       "      <td>3171.447917</td>\n",
       "      <td>2023</td>\n",
       "      <td>Robert Baláž</td>\n",
       "    </tr>\n",
       "    <tr>\n",
       "      <th>96</th>\n",
       "      <td>97</td>\n",
       "      <td>Juraj</td>\n",
       "      <td>Tóth</td>\n",
       "      <td>50</td>\n",
       "      <td>Nitra</td>\n",
       "      <td>1598</td>\n",
       "      <td>2023-11-05</td>\n",
       "      <td>1438.2</td>\n",
       "      <td>1830.333333</td>\n",
       "      <td>3155.226804</td>\n",
       "      <td>2023</td>\n",
       "      <td>Juraj Tóth</td>\n",
       "    </tr>\n",
       "    <tr>\n",
       "      <th>97</th>\n",
       "      <td>98</td>\n",
       "      <td>Pavol</td>\n",
       "      <td>Kováč</td>\n",
       "      <td>45</td>\n",
       "      <td>Poprad</td>\n",
       "      <td>1295</td>\n",
       "      <td>2023-11-12</td>\n",
       "      <td>1165.5</td>\n",
       "      <td>1719.333333</td>\n",
       "      <td>3136.244898</td>\n",
       "      <td>2023</td>\n",
       "      <td>Pavol Kováč</td>\n",
       "    </tr>\n",
       "    <tr>\n",
       "      <th>98</th>\n",
       "      <td>99</td>\n",
       "      <td>Juraj</td>\n",
       "      <td>Horváth</td>\n",
       "      <td>64</td>\n",
       "      <td>Nitra</td>\n",
       "      <td>3402</td>\n",
       "      <td>2023-11-19</td>\n",
       "      <td>2721.6</td>\n",
       "      <td>2098.333333</td>\n",
       "      <td>3138.929293</td>\n",
       "      <td>2023</td>\n",
       "      <td>Juraj Horváth</td>\n",
       "    </tr>\n",
       "    <tr>\n",
       "      <th>99</th>\n",
       "      <td>100</td>\n",
       "      <td>Matej</td>\n",
       "      <td>Nagy</td>\n",
       "      <td>50</td>\n",
       "      <td>Trnava</td>\n",
       "      <td>2719</td>\n",
       "      <td>2023-11-26</td>\n",
       "      <td>2447.1</td>\n",
       "      <td>2472.000000</td>\n",
       "      <td>3134.730000</td>\n",
       "      <td>2023</td>\n",
       "      <td>Matej Nagy</td>\n",
       "    </tr>\n",
       "  </tbody>\n",
       "</table>\n",
       "<p>98 rows × 12 columns</p>\n",
       "</div>"
      ]
     },
     "metadata": {},
     "output_type": "display_data"
    }
   ],
   "metadata": {
    "datalore": {
     "node_id": "5cdXClajpnHUGPDzijByPX",
     "type": "CODE",
     "hide_input_from_viewers": true,
     "hide_output_from_viewers": true
    }
   }
  },
  {
   "cell_type": "markdown",
   "source": [
    "## Export dát do rôznych formátov"
   ],
   "attachments": {},
   "metadata": {
    "datalore": {
     "node_id": "lwvbfFCNjIML5CKNHKr1Qo",
     "type": "MD",
     "hide_input_from_viewers": true,
     "hide_output_from_viewers": true
    }
   }
  },
  {
   "cell_type": "code",
   "source": [
    "import openpyxl\n",
    "df_zamestnanci3.to_excel(\"export-excel.xlsx\",sheet_name= \"Zamestnanci\", index = False)\n",
    "\n",
    "df_zamestnanci3.to_html(\"export-zamestnanci.html\")\n",
    "df_zamestnanci3.to_json(\"export-zamestnanci.json\")\n",
    "df_zamestnanci3.to_xml(\"export-zamestnanci.xml\")"
   ],
   "execution_count": 11,
   "outputs": [],
   "metadata": {
    "datalore": {
     "node_id": "4qfB9wE4m8QCjboZ0rhe7j",
     "type": "CODE",
     "hide_input_from_viewers": true,
     "hide_output_from_viewers": true
    }
   }
  },
  {
   "cell_type": "code",
   "source": [
    "!pip install openpyxl"
   ],
   "execution_count": 1,
   "outputs": [
    {
     "name": "stdout",
     "text": [
      "Collecting openpyxl\r\n",
      "  Downloading openpyxl-3.1.2-py2.py3-none-any.whl (249 kB)\r\n",
      "\u001B[?25l     \u001B[90m━━━━━━━━━━━━━━━━━━━━━━━━━━━━━━━━━━━━━━━━\u001B[0m \u001B[32m0.0/250.0 kB\u001B[0m \u001B[31m?\u001B[0m eta \u001B[36m-:--:--\u001B[0m\r\u001B[2K     \u001B[90m━━━━━━━━━━━━━━━━━━━━━━━━━━━━━━━━━━━━━━\u001B[0m \u001B[32m250.0/250.0 kB\u001B[0m \u001B[31m20.6 MB/s\u001B[0m eta \u001B[36m0:00:00\u001B[0m\r\n",
      "\u001B[?25hCollecting et-xmlfile (from openpyxl)\r\n",
      "  Downloading et_xmlfile-1.1.0-py3-none-any.whl (4.7 kB)\r\n",
      "Installing collected packages: et-xmlfile, openpyxl\r\n",
      "Successfully installed et-xmlfile-1.1.0 openpyxl-3.1.2\r\n",
      "\r\n",
      "\u001B[1m[\u001B[0m\u001B[34;49mnotice\u001B[0m\u001B[1;39;49m]\u001B[0m\u001B[39;49m A new release of pip is available: \u001B[0m\u001B[31;49m23.1.2\u001B[0m\u001B[39;49m -> \u001B[0m\u001B[32;49m24.0\u001B[0m\r\n",
      "\u001B[1m[\u001B[0m\u001B[34;49mnotice\u001B[0m\u001B[1;39;49m]\u001B[0m\u001B[39;49m To update, run: \u001B[0m\u001B[32;49mpip install --upgrade pip\u001B[0m\r\n"
     ],
     "output_type": "stream"
    }
   ],
   "metadata": {
    "datalore": {
     "node_id": "OmHv6ALz0stJzcQd5dgeoV",
     "type": "CODE",
     "hide_input_from_viewers": true,
     "hide_output_from_viewers": true
    }
   }
  },
  {
   "cell_type": "code",
   "source": [],
   "execution_count": 13,
   "outputs": [
    {
     "ename": "SyntaxError",
     "evalue": "SyntaxError: invalid syntax",
     "traceback": [
      "\u001B[0;31m---------------------------------------------------------------------------",
      "Traceback (most recent call last)",
      "SyntaxError: invalid syntax"
     ],
     "output_type": "error"
    }
   ],
   "metadata": {
    "datalore": {
     "node_id": "4nCz4mhz8NY4EsED7QQGFV",
     "type": "CODE",
     "hide_input_from_viewers": true,
     "hide_output_from_viewers": true
    }
   }
  },
  {
   "cell_type": "markdown",
   "source": [
    "## Vizualizácia dát priamo z pandas"
   ],
   "attachments": {},
   "metadata": {
    "datalore": {
     "node_id": "Ym37KwtiwXTxLCFISTA4UY",
     "type": "MD",
     "hide_input_from_viewers": true,
     "hide_output_from_viewers": true
    }
   }
  },
  {
   "cell_type": "code",
   "source": [
    "import matplotlib.pyplot as plt\n",
    "\n",
    "df_zamestnanci3[\"Vek\"].hist()\n",
    "plt.show()\n",
    "\n",
    "df_zamestnanci3.plot(kind=\"scatter\", x=\"Vek\", y=\"Mzda\")\n",
    "plt.show()"
   ],
   "execution_count": 18,
   "outputs": [
    {
     "data": {
      "image/png": "[encoded data removed]"
     },
     "metadata": {
      "image/png": {}
     },
     "output_type": "display_data"
    },
    {
     "data": {
      "image/png": "[encoded data removed]"
     },
     "metadata": {
      "image/png": {}
     },
     "output_type": "display_data"
    }
   ],
   "metadata": {
    "datalore": {
     "node_id": "EU1TRcZYNxPUX0enuSRzQx",
     "type": "CODE",
     "hide_input_from_viewers": true,
     "hide_output_from_viewers": true
    }
   }
  },
  {
   "cell_type": "markdown",
   "source": [
    "## 11. Zmena formátu dátových typov"
   ],
   "attachments": {},
   "metadata": {
    "datalore": {
     "node_id": "FCz8RfWadIaJ2RYJnqADE2",
     "type": "MD",
     "hide_input_from_viewers": true,
     "hide_output_from_viewers": true
    }
   }
  },
  {
   "cell_type": "code",
   "source": [],
   "execution_count": 20,
   "outputs": [
    {
     "data": {
      "text/html": [
       "<div>\n",
       "<style scoped>\n",
       "    .dataframe tbody tr th:only-of-type {\n",
       "        vertical-align: middle;\n",
       "    }\n",
       "\n",
       "    .dataframe tbody tr th {\n",
       "        vertical-align: top;\n",
       "    }\n",
       "\n",
       "    .dataframe thead th {\n",
       "        text-align: right;\n",
       "    }\n",
       "</style>\n",
       "<table border=\"1\" class=\"dataframe\">\n",
       "  <thead>\n",
       "    <tr style=\"text-align: right;\">\n",
       "      <th></th>\n",
       "      <th>ID</th>\n",
       "      <th>Meno</th>\n",
       "      <th>Priezvisko</th>\n",
       "      <th>Vek</th>\n",
       "      <th>Mesto</th>\n",
       "      <th>Mzda</th>\n",
       "      <th>Datum</th>\n",
       "      <th>Mzda_po_Zdaneni</th>\n",
       "      <th>Mzda_Pohyblivy_Priemer</th>\n",
       "      <th>Mzda_Expanzny_Priemer</th>\n",
       "      <th>Rok</th>\n",
       "      <th>Plný názov</th>\n",
       "    </tr>\n",
       "  </thead>\n",
       "  <tbody>\n",
       "    <tr>\n",
       "      <th>0</th>\n",
       "      <td>1</td>\n",
       "      <td>Pavol</td>\n",
       "      <td>Horváth</td>\n",
       "      <td>39</td>\n",
       "      <td>Nitra</td>\n",
       "      <td>2050.0</td>\n",
       "      <td>2022-01-02</td>\n",
       "      <td>1845.0</td>\n",
       "      <td>NaN</td>\n",
       "      <td>2050.000000</td>\n",
       "      <td>2022</td>\n",
       "      <td>Pavol Horváth</td>\n",
       "    </tr>\n",
       "    <tr>\n",
       "      <th>1</th>\n",
       "      <td>2</td>\n",
       "      <td>Lukáš</td>\n",
       "      <td>Slovak</td>\n",
       "      <td>28</td>\n",
       "      <td>Prešov</td>\n",
       "      <td>2831.0</td>\n",
       "      <td>2022-01-09</td>\n",
       "      <td>2547.9</td>\n",
       "      <td>NaN</td>\n",
       "      <td>2440.500000</td>\n",
       "      <td>2022</td>\n",
       "      <td>Lukáš Slovak</td>\n",
       "    </tr>\n",
       "    <tr>\n",
       "      <th>2</th>\n",
       "      <td>3</td>\n",
       "      <td>Matej</td>\n",
       "      <td>Farkaš</td>\n",
       "      <td>33</td>\n",
       "      <td>Žilina</td>\n",
       "      <td>1912.0</td>\n",
       "      <td>2022-01-16</td>\n",
       "      <td>1720.8</td>\n",
       "      <td>2264.333333</td>\n",
       "      <td>2264.333333</td>\n",
       "      <td>2022</td>\n",
       "      <td>Matej Farkaš</td>\n",
       "    </tr>\n",
       "    <tr>\n",
       "      <th>3</th>\n",
       "      <td>4</td>\n",
       "      <td>Tomáš</td>\n",
       "      <td>Farkaš</td>\n",
       "      <td>50</td>\n",
       "      <td>Prešov</td>\n",
       "      <td>2564.0</td>\n",
       "      <td>2022-01-23</td>\n",
       "      <td>2307.6</td>\n",
       "      <td>2435.666667</td>\n",
       "      <td>2339.250000</td>\n",
       "      <td>2022</td>\n",
       "      <td>Tomáš Farkaš</td>\n",
       "    </tr>\n",
       "    <tr>\n",
       "      <th>4</th>\n",
       "      <td>5</td>\n",
       "      <td>Pavol</td>\n",
       "      <td>Baláž</td>\n",
       "      <td>26</td>\n",
       "      <td>Bratislava</td>\n",
       "      <td>1981.0</td>\n",
       "      <td>2022-01-30</td>\n",
       "      <td>1782.9</td>\n",
       "      <td>2152.333333</td>\n",
       "      <td>2267.600000</td>\n",
       "      <td>2022</td>\n",
       "      <td>Pavol Baláž</td>\n",
       "    </tr>\n",
       "    <tr>\n",
       "      <th>...</th>\n",
       "      <td>...</td>\n",
       "      <td>...</td>\n",
       "      <td>...</td>\n",
       "      <td>...</td>\n",
       "      <td>...</td>\n",
       "      <td>...</td>\n",
       "      <td>...</td>\n",
       "      <td>...</td>\n",
       "      <td>...</td>\n",
       "      <td>...</td>\n",
       "      <td>...</td>\n",
       "      <td>...</td>\n",
       "    </tr>\n",
       "    <tr>\n",
       "      <th>95</th>\n",
       "      <td>96</td>\n",
       "      <td>Robert</td>\n",
       "      <td>Baláž</td>\n",
       "      <td>47</td>\n",
       "      <td>Poprad</td>\n",
       "      <td>2265.0</td>\n",
       "      <td>2023-10-29</td>\n",
       "      <td>2038.5</td>\n",
       "      <td>1796.000000</td>\n",
       "      <td>3171.447917</td>\n",
       "      <td>2023</td>\n",
       "      <td>Robert Baláž</td>\n",
       "    </tr>\n",
       "    <tr>\n",
       "      <th>96</th>\n",
       "      <td>97</td>\n",
       "      <td>Juraj</td>\n",
       "      <td>Tóth</td>\n",
       "      <td>50</td>\n",
       "      <td>Nitra</td>\n",
       "      <td>1598.0</td>\n",
       "      <td>2023-11-05</td>\n",
       "      <td>1438.2</td>\n",
       "      <td>1830.333333</td>\n",
       "      <td>3155.226804</td>\n",
       "      <td>2023</td>\n",
       "      <td>Juraj Tóth</td>\n",
       "    </tr>\n",
       "    <tr>\n",
       "      <th>97</th>\n",
       "      <td>98</td>\n",
       "      <td>Pavol</td>\n",
       "      <td>Kováč</td>\n",
       "      <td>45</td>\n",
       "      <td>Poprad</td>\n",
       "      <td>1295.0</td>\n",
       "      <td>2023-11-12</td>\n",
       "      <td>1165.5</td>\n",
       "      <td>1719.333333</td>\n",
       "      <td>3136.244898</td>\n",
       "      <td>2023</td>\n",
       "      <td>Pavol Kováč</td>\n",
       "    </tr>\n",
       "    <tr>\n",
       "      <th>98</th>\n",
       "      <td>99</td>\n",
       "      <td>Juraj</td>\n",
       "      <td>Horváth</td>\n",
       "      <td>64</td>\n",
       "      <td>Nitra</td>\n",
       "      <td>3402.0</td>\n",
       "      <td>2023-11-19</td>\n",
       "      <td>2721.6</td>\n",
       "      <td>2098.333333</td>\n",
       "      <td>3138.929293</td>\n",
       "      <td>2023</td>\n",
       "      <td>Juraj Horváth</td>\n",
       "    </tr>\n",
       "    <tr>\n",
       "      <th>99</th>\n",
       "      <td>100</td>\n",
       "      <td>Matej</td>\n",
       "      <td>Nagy</td>\n",
       "      <td>50</td>\n",
       "      <td>Trnava</td>\n",
       "      <td>2719.0</td>\n",
       "      <td>2023-11-26</td>\n",
       "      <td>2447.1</td>\n",
       "      <td>2472.000000</td>\n",
       "      <td>3134.730000</td>\n",
       "      <td>2023</td>\n",
       "      <td>Matej Nagy</td>\n",
       "    </tr>\n",
       "  </tbody>\n",
       "</table>\n",
       "<p>100 rows × 12 columns</p>\n",
       "</div>"
      ]
     },
     "metadata": {},
     "output_type": "display_data"
    }
   ],
   "metadata": {
    "datalore": {
     "node_id": "YC7UApfG4m4ZITvAdEfUM1",
     "type": "CODE",
     "hide_input_from_viewers": true,
     "hide_output_from_viewers": true
    }
   }
  },
  {
   "cell_type": "markdown",
   "source": [
    "## Využitie apply() pre transformáciu dát\n",
    "Metóda apply() umožňuje aplikovať funkciu na každý element stĺpca alebo riadku DataFrame."
   ],
   "attachments": {},
   "metadata": {
    "datalore": {
     "node_id": "Mjkpl2yFuBitHUEnH9KNVV",
     "type": "MD",
     "hide_input_from_viewers": true,
     "hide_output_from_viewers": true
    }
   }
  },
  {
   "cell_type": "code",
   "source": [],
   "execution_count": 21,
   "outputs": [
    {
     "data": {
      "text/html": [
       "<div>\n",
       "<style scoped>\n",
       "    .dataframe tbody tr th:only-of-type {\n",
       "        vertical-align: middle;\n",
       "    }\n",
       "\n",
       "    .dataframe tbody tr th {\n",
       "        vertical-align: top;\n",
       "    }\n",
       "\n",
       "    .dataframe thead th {\n",
       "        text-align: right;\n",
       "    }\n",
       "</style>\n",
       "<table border=\"1\" class=\"dataframe\">\n",
       "  <thead>\n",
       "    <tr style=\"text-align: right;\">\n",
       "      <th></th>\n",
       "      <th>ID</th>\n",
       "      <th>Meno</th>\n",
       "      <th>Priezvisko</th>\n",
       "      <th>Vek</th>\n",
       "      <th>Mesto</th>\n",
       "      <th>Mzda</th>\n",
       "      <th>Datum</th>\n",
       "      <th>Mzda_po_Zdaneni</th>\n",
       "      <th>Mzda_Pohyblivy_Priemer</th>\n",
       "      <th>Mzda_Expanzny_Priemer</th>\n",
       "      <th>Rok</th>\n",
       "      <th>Plný názov</th>\n",
       "      <th>Veková kategória</th>\n",
       "    </tr>\n",
       "  </thead>\n",
       "  <tbody>\n",
       "    <tr>\n",
       "      <th>0</th>\n",
       "      <td>1</td>\n",
       "      <td>Pavol</td>\n",
       "      <td>Horváth</td>\n",
       "      <td>39</td>\n",
       "      <td>Nitra</td>\n",
       "      <td>2050.0</td>\n",
       "      <td>2022-01-02</td>\n",
       "      <td>1845.0</td>\n",
       "      <td>NaN</td>\n",
       "      <td>2050.000000</td>\n",
       "      <td>2022</td>\n",
       "      <td>Pavol Horváth</td>\n",
       "      <td>Stredný vek</td>\n",
       "    </tr>\n",
       "    <tr>\n",
       "      <th>1</th>\n",
       "      <td>2</td>\n",
       "      <td>Lukáš</td>\n",
       "      <td>Slovak</td>\n",
       "      <td>28</td>\n",
       "      <td>Prešov</td>\n",
       "      <td>2831.0</td>\n",
       "      <td>2022-01-09</td>\n",
       "      <td>2547.9</td>\n",
       "      <td>NaN</td>\n",
       "      <td>2440.500000</td>\n",
       "      <td>2022</td>\n",
       "      <td>Lukáš Slovak</td>\n",
       "      <td>Mladý</td>\n",
       "    </tr>\n",
       "    <tr>\n",
       "      <th>2</th>\n",
       "      <td>3</td>\n",
       "      <td>Matej</td>\n",
       "      <td>Farkaš</td>\n",
       "      <td>33</td>\n",
       "      <td>Žilina</td>\n",
       "      <td>1912.0</td>\n",
       "      <td>2022-01-16</td>\n",
       "      <td>1720.8</td>\n",
       "      <td>2264.333333</td>\n",
       "      <td>2264.333333</td>\n",
       "      <td>2022</td>\n",
       "      <td>Matej Farkaš</td>\n",
       "      <td>Stredný vek</td>\n",
       "    </tr>\n",
       "    <tr>\n",
       "      <th>3</th>\n",
       "      <td>4</td>\n",
       "      <td>Tomáš</td>\n",
       "      <td>Farkaš</td>\n",
       "      <td>50</td>\n",
       "      <td>Prešov</td>\n",
       "      <td>2564.0</td>\n",
       "      <td>2022-01-23</td>\n",
       "      <td>2307.6</td>\n",
       "      <td>2435.666667</td>\n",
       "      <td>2339.250000</td>\n",
       "      <td>2022</td>\n",
       "      <td>Tomáš Farkaš</td>\n",
       "      <td>Stredný vek</td>\n",
       "    </tr>\n",
       "    <tr>\n",
       "      <th>4</th>\n",
       "      <td>5</td>\n",
       "      <td>Pavol</td>\n",
       "      <td>Baláž</td>\n",
       "      <td>26</td>\n",
       "      <td>Bratislava</td>\n",
       "      <td>1981.0</td>\n",
       "      <td>2022-01-30</td>\n",
       "      <td>1782.9</td>\n",
       "      <td>2152.333333</td>\n",
       "      <td>2267.600000</td>\n",
       "      <td>2022</td>\n",
       "      <td>Pavol Baláž</td>\n",
       "      <td>Mladý</td>\n",
       "    </tr>\n",
       "    <tr>\n",
       "      <th>...</th>\n",
       "      <td>...</td>\n",
       "      <td>...</td>\n",
       "      <td>...</td>\n",
       "      <td>...</td>\n",
       "      <td>...</td>\n",
       "      <td>...</td>\n",
       "      <td>...</td>\n",
       "      <td>...</td>\n",
       "      <td>...</td>\n",
       "      <td>...</td>\n",
       "      <td>...</td>\n",
       "      <td>...</td>\n",
       "      <td>...</td>\n",
       "    </tr>\n",
       "    <tr>\n",
       "      <th>95</th>\n",
       "      <td>96</td>\n",
       "      <td>Robert</td>\n",
       "      <td>Baláž</td>\n",
       "      <td>47</td>\n",
       "      <td>Poprad</td>\n",
       "      <td>2265.0</td>\n",
       "      <td>2023-10-29</td>\n",
       "      <td>2038.5</td>\n",
       "      <td>1796.000000</td>\n",
       "      <td>3171.447917</td>\n",
       "      <td>2023</td>\n",
       "      <td>Robert Baláž</td>\n",
       "      <td>Stredný vek</td>\n",
       "    </tr>\n",
       "    <tr>\n",
       "      <th>96</th>\n",
       "      <td>97</td>\n",
       "      <td>Juraj</td>\n",
       "      <td>Tóth</td>\n",
       "      <td>50</td>\n",
       "      <td>Nitra</td>\n",
       "      <td>1598.0</td>\n",
       "      <td>2023-11-05</td>\n",
       "      <td>1438.2</td>\n",
       "      <td>1830.333333</td>\n",
       "      <td>3155.226804</td>\n",
       "      <td>2023</td>\n",
       "      <td>Juraj Tóth</td>\n",
       "      <td>Stredný vek</td>\n",
       "    </tr>\n",
       "    <tr>\n",
       "      <th>97</th>\n",
       "      <td>98</td>\n",
       "      <td>Pavol</td>\n",
       "      <td>Kováč</td>\n",
       "      <td>45</td>\n",
       "      <td>Poprad</td>\n",
       "      <td>1295.0</td>\n",
       "      <td>2023-11-12</td>\n",
       "      <td>1165.5</td>\n",
       "      <td>1719.333333</td>\n",
       "      <td>3136.244898</td>\n",
       "      <td>2023</td>\n",
       "      <td>Pavol Kováč</td>\n",
       "      <td>Stredný vek</td>\n",
       "    </tr>\n",
       "    <tr>\n",
       "      <th>98</th>\n",
       "      <td>99</td>\n",
       "      <td>Juraj</td>\n",
       "      <td>Horváth</td>\n",
       "      <td>64</td>\n",
       "      <td>Nitra</td>\n",
       "      <td>3402.0</td>\n",
       "      <td>2023-11-19</td>\n",
       "      <td>2721.6</td>\n",
       "      <td>2098.333333</td>\n",
       "      <td>3138.929293</td>\n",
       "      <td>2023</td>\n",
       "      <td>Juraj Horváth</td>\n",
       "      <td>Starší</td>\n",
       "    </tr>\n",
       "    <tr>\n",
       "      <th>99</th>\n",
       "      <td>100</td>\n",
       "      <td>Matej</td>\n",
       "      <td>Nagy</td>\n",
       "      <td>50</td>\n",
       "      <td>Trnava</td>\n",
       "      <td>2719.0</td>\n",
       "      <td>2023-11-26</td>\n",
       "      <td>2447.1</td>\n",
       "      <td>2472.000000</td>\n",
       "      <td>3134.730000</td>\n",
       "      <td>2023</td>\n",
       "      <td>Matej Nagy</td>\n",
       "      <td>Stredný vek</td>\n",
       "    </tr>\n",
       "  </tbody>\n",
       "</table>\n",
       "<p>100 rows × 13 columns</p>\n",
       "</div>"
      ]
     },
     "metadata": {},
     "output_type": "display_data"
    }
   ],
   "metadata": {
    "datalore": {
     "node_id": "e7UTiYxOMvXCblgnqao496",
     "type": "CODE",
     "hide_input_from_viewers": true,
     "hide_output_from_viewers": true
    }
   }
  },
  {
   "cell_type": "markdown",
   "source": [
    "## Práca s textovými dátami"
   ],
   "attachments": {},
   "metadata": {
    "datalore": {
     "node_id": "v3yxWbStZO2JIoWNHgGvDx",
     "type": "MD",
     "hide_input_from_viewers": true,
     "hide_output_from_viewers": true
    }
   }
  },
  {
   "cell_type": "code",
   "source": [],
   "execution_count": 24,
   "outputs": [
    {
     "data": {
      "text/html": [
       "<div>\n",
       "<style scoped>\n",
       "    .dataframe tbody tr th:only-of-type {\n",
       "        vertical-align: middle;\n",
       "    }\n",
       "\n",
       "    .dataframe tbody tr th {\n",
       "        vertical-align: top;\n",
       "    }\n",
       "\n",
       "    .dataframe thead th {\n",
       "        text-align: right;\n",
       "    }\n",
       "</style>\n",
       "<table border=\"1\" class=\"dataframe\">\n",
       "  <thead>\n",
       "    <tr style=\"text-align: right;\">\n",
       "      <th></th>\n",
       "      <th>ID</th>\n",
       "      <th>Meno</th>\n",
       "      <th>Priezvisko</th>\n",
       "      <th>Vek</th>\n",
       "      <th>Mesto</th>\n",
       "      <th>Mzda</th>\n",
       "      <th>Datum</th>\n",
       "      <th>Mzda_po_Zdaneni</th>\n",
       "      <th>Mzda_Pohyblivy_Priemer</th>\n",
       "      <th>Mzda_Expanzny_Priemer</th>\n",
       "      <th>Rok</th>\n",
       "      <th>Plný názov</th>\n",
       "      <th>Veková kategória</th>\n",
       "      <th>Dĺžka mena</th>\n",
       "    </tr>\n",
       "  </thead>\n",
       "  <tbody>\n",
       "    <tr>\n",
       "      <th>0</th>\n",
       "      <td>1</td>\n",
       "      <td>Pavol</td>\n",
       "      <td>Horváth</td>\n",
       "      <td>39</td>\n",
       "      <td>nitra</td>\n",
       "      <td>2050.0</td>\n",
       "      <td>2022-01-02</td>\n",
       "      <td>1845.0</td>\n",
       "      <td>NaN</td>\n",
       "      <td>2050.000000</td>\n",
       "      <td>2022</td>\n",
       "      <td>Pavol Horváth</td>\n",
       "      <td>Stredný vek</td>\n",
       "      <td>5</td>\n",
       "    </tr>\n",
       "    <tr>\n",
       "      <th>1</th>\n",
       "      <td>2</td>\n",
       "      <td>Lukáš</td>\n",
       "      <td>Slovak</td>\n",
       "      <td>28</td>\n",
       "      <td>prešov</td>\n",
       "      <td>2831.0</td>\n",
       "      <td>2022-01-09</td>\n",
       "      <td>2547.9</td>\n",
       "      <td>NaN</td>\n",
       "      <td>2440.500000</td>\n",
       "      <td>2022</td>\n",
       "      <td>Lukáš Slovak</td>\n",
       "      <td>Mladý</td>\n",
       "      <td>5</td>\n",
       "    </tr>\n",
       "    <tr>\n",
       "      <th>2</th>\n",
       "      <td>3</td>\n",
       "      <td>Matej</td>\n",
       "      <td>Farkaš</td>\n",
       "      <td>33</td>\n",
       "      <td>žilina</td>\n",
       "      <td>1912.0</td>\n",
       "      <td>2022-01-16</td>\n",
       "      <td>1720.8</td>\n",
       "      <td>2264.333333</td>\n",
       "      <td>2264.333333</td>\n",
       "      <td>2022</td>\n",
       "      <td>Matej Farkaš</td>\n",
       "      <td>Stredný vek</td>\n",
       "      <td>5</td>\n",
       "    </tr>\n",
       "    <tr>\n",
       "      <th>3</th>\n",
       "      <td>4</td>\n",
       "      <td>Tomáš</td>\n",
       "      <td>Farkaš</td>\n",
       "      <td>50</td>\n",
       "      <td>prešov</td>\n",
       "      <td>2564.0</td>\n",
       "      <td>2022-01-23</td>\n",
       "      <td>2307.6</td>\n",
       "      <td>2435.666667</td>\n",
       "      <td>2339.250000</td>\n",
       "      <td>2022</td>\n",
       "      <td>Tomáš Farkaš</td>\n",
       "      <td>Stredný vek</td>\n",
       "      <td>5</td>\n",
       "    </tr>\n",
       "    <tr>\n",
       "      <th>4</th>\n",
       "      <td>5</td>\n",
       "      <td>Pavol</td>\n",
       "      <td>Baláž</td>\n",
       "      <td>26</td>\n",
       "      <td>bratislava</td>\n",
       "      <td>1981.0</td>\n",
       "      <td>2022-01-30</td>\n",
       "      <td>1782.9</td>\n",
       "      <td>2152.333333</td>\n",
       "      <td>2267.600000</td>\n",
       "      <td>2022</td>\n",
       "      <td>Pavol Baláž</td>\n",
       "      <td>Mladý</td>\n",
       "      <td>5</td>\n",
       "    </tr>\n",
       "    <tr>\n",
       "      <th>...</th>\n",
       "      <td>...</td>\n",
       "      <td>...</td>\n",
       "      <td>...</td>\n",
       "      <td>...</td>\n",
       "      <td>...</td>\n",
       "      <td>...</td>\n",
       "      <td>...</td>\n",
       "      <td>...</td>\n",
       "      <td>...</td>\n",
       "      <td>...</td>\n",
       "      <td>...</td>\n",
       "      <td>...</td>\n",
       "      <td>...</td>\n",
       "      <td>...</td>\n",
       "    </tr>\n",
       "    <tr>\n",
       "      <th>95</th>\n",
       "      <td>96</td>\n",
       "      <td>Robert</td>\n",
       "      <td>Baláž</td>\n",
       "      <td>47</td>\n",
       "      <td>poprad</td>\n",
       "      <td>2265.0</td>\n",
       "      <td>2023-10-29</td>\n",
       "      <td>2038.5</td>\n",
       "      <td>1796.000000</td>\n",
       "      <td>3171.447917</td>\n",
       "      <td>2023</td>\n",
       "      <td>Robert Baláž</td>\n",
       "      <td>Stredný vek</td>\n",
       "      <td>6</td>\n",
       "    </tr>\n",
       "    <tr>\n",
       "      <th>96</th>\n",
       "      <td>97</td>\n",
       "      <td>Juraj</td>\n",
       "      <td>Tóth</td>\n",
       "      <td>50</td>\n",
       "      <td>nitra</td>\n",
       "      <td>1598.0</td>\n",
       "      <td>2023-11-05</td>\n",
       "      <td>1438.2</td>\n",
       "      <td>1830.333333</td>\n",
       "      <td>3155.226804</td>\n",
       "      <td>2023</td>\n",
       "      <td>Juraj Tóth</td>\n",
       "      <td>Stredný vek</td>\n",
       "      <td>5</td>\n",
       "    </tr>\n",
       "    <tr>\n",
       "      <th>97</th>\n",
       "      <td>98</td>\n",
       "      <td>Pavol</td>\n",
       "      <td>Kováč</td>\n",
       "      <td>45</td>\n",
       "      <td>poprad</td>\n",
       "      <td>1295.0</td>\n",
       "      <td>2023-11-12</td>\n",
       "      <td>1165.5</td>\n",
       "      <td>1719.333333</td>\n",
       "      <td>3136.244898</td>\n",
       "      <td>2023</td>\n",
       "      <td>Pavol Kováč</td>\n",
       "      <td>Stredný vek</td>\n",
       "      <td>5</td>\n",
       "    </tr>\n",
       "    <tr>\n",
       "      <th>98</th>\n",
       "      <td>99</td>\n",
       "      <td>Juraj</td>\n",
       "      <td>Horváth</td>\n",
       "      <td>64</td>\n",
       "      <td>nitra</td>\n",
       "      <td>3402.0</td>\n",
       "      <td>2023-11-19</td>\n",
       "      <td>2721.6</td>\n",
       "      <td>2098.333333</td>\n",
       "      <td>3138.929293</td>\n",
       "      <td>2023</td>\n",
       "      <td>Juraj Horváth</td>\n",
       "      <td>Starší</td>\n",
       "      <td>5</td>\n",
       "    </tr>\n",
       "    <tr>\n",
       "      <th>99</th>\n",
       "      <td>100</td>\n",
       "      <td>Matej</td>\n",
       "      <td>Nagy</td>\n",
       "      <td>50</td>\n",
       "      <td>trnava</td>\n",
       "      <td>2719.0</td>\n",
       "      <td>2023-11-26</td>\n",
       "      <td>2447.1</td>\n",
       "      <td>2472.000000</td>\n",
       "      <td>3134.730000</td>\n",
       "      <td>2023</td>\n",
       "      <td>Matej Nagy</td>\n",
       "      <td>Stredný vek</td>\n",
       "      <td>5</td>\n",
       "    </tr>\n",
       "  </tbody>\n",
       "</table>\n",
       "<p>100 rows × 14 columns</p>\n",
       "</div>"
      ]
     },
     "metadata": {},
     "output_type": "display_data"
    }
   ],
   "metadata": {
    "datalore": {
     "node_id": "K1EfLcvFPK0CHcdvgmS3fN",
     "type": "CODE",
     "hide_input_from_viewers": true,
     "hide_output_from_viewers": true
    }
   }
  },
  {
   "cell_type": "markdown",
   "source": [
    "## indexy a MultiIndex\n",
    "Práca s hierarchickými indexami umožňuje efektívne spracovávať a analyzovať dáta usporiadané na viacerých úrovniach."
   ],
   "attachments": {},
   "metadata": {
    "datalore": {
     "node_id": "E8s4ZqBjbgt43nzU1ASfes",
     "type": "MD",
     "hide_input_from_viewers": true,
     "hide_output_from_viewers": true
    }
   }
  },
  {
   "cell_type": "code",
   "source": [],
   "execution_count": 35,
   "outputs": [
    {
     "name": "stdout",
     "text": [
      "Populácia    432000\n",
      "Name: (2020, Bratislava), dtype: int64\n"
     ],
     "output_type": "stream"
    },
    {
     "data": {
      "text/html": [
       "<div>\n",
       "<style scoped>\n",
       "    .dataframe tbody tr th:only-of-type {\n",
       "        vertical-align: middle;\n",
       "    }\n",
       "\n",
       "    .dataframe tbody tr th {\n",
       "        vertical-align: top;\n",
       "    }\n",
       "\n",
       "    .dataframe thead th {\n",
       "        text-align: right;\n",
       "    }\n",
       "</style>\n",
       "<table border=\"1\" class=\"dataframe\">\n",
       "  <thead>\n",
       "    <tr style=\"text-align: right;\">\n",
       "      <th></th>\n",
       "      <th></th>\n",
       "      <th>Populácia</th>\n",
       "    </tr>\n",
       "    <tr>\n",
       "      <th>Rok</th>\n",
       "      <th>Mesto</th>\n",
       "      <th></th>\n",
       "    </tr>\n",
       "  </thead>\n",
       "  <tbody>\n",
       "    <tr>\n",
       "      <th rowspan=\"2\" valign=\"top\">2020</th>\n",
       "      <th>Bratislava</th>\n",
       "      <td>432000</td>\n",
       "    </tr>\n",
       "    <tr>\n",
       "      <th>Košice</th>\n",
       "      <td>240000</td>\n",
       "    </tr>\n",
       "    <tr>\n",
       "      <th rowspan=\"2\" valign=\"top\">2021</th>\n",
       "      <th>Bratislava</th>\n",
       "      <td>435000</td>\n",
       "    </tr>\n",
       "    <tr>\n",
       "      <th>Košice</th>\n",
       "      <td>242000</td>\n",
       "    </tr>\n",
       "  </tbody>\n",
       "</table>\n",
       "</div>"
      ]
     },
     "metadata": {},
     "output_type": "display_data"
    }
   ],
   "metadata": {
    "datalore": {
     "node_id": "8RUYrMN4uXFGsN7nQX7wbc",
     "type": "CODE",
     "hide_input_from_viewers": true,
     "hide_output_from_viewers": true
    }
   }
  },
  {
   "cell_type": "markdown",
   "source": [
    "## Filtrovanie dát pomocou query()"
   ],
   "attachments": {},
   "metadata": {
    "datalore": {
     "node_id": "nHNfFQ6hzcbZP06ZmyLYV2",
     "type": "MD",
     "hide_input_from_viewers": true,
     "hide_output_from_viewers": true
    }
   }
  },
  {
   "cell_type": "code",
   "source": [],
   "execution_count": 50,
   "outputs": [
    {
     "data": {
      "text/html": [
       "<div>\n",
       "<style scoped>\n",
       "    .dataframe tbody tr th:only-of-type {\n",
       "        vertical-align: middle;\n",
       "    }\n",
       "\n",
       "    .dataframe tbody tr th {\n",
       "        vertical-align: top;\n",
       "    }\n",
       "\n",
       "    .dataframe thead th {\n",
       "        text-align: right;\n",
       "    }\n",
       "</style>\n",
       "<table border=\"1\" class=\"dataframe\">\n",
       "  <thead>\n",
       "    <tr style=\"text-align: right;\">\n",
       "      <th></th>\n",
       "      <th>ID</th>\n",
       "      <th>Meno</th>\n",
       "      <th>Priezvisko</th>\n",
       "      <th>Vek</th>\n",
       "      <th>Mesto</th>\n",
       "      <th>Mzda</th>\n",
       "      <th>Datum</th>\n",
       "      <th>Mzda_po_Zdaneni</th>\n",
       "      <th>Mzda_Pohyblivy_Priemer</th>\n",
       "      <th>Mzda_Expanzny_Priemer</th>\n",
       "      <th>Rok</th>\n",
       "      <th>Plný_názov</th>\n",
       "      <th>Veková_kategória</th>\n",
       "      <th>Dĺžka_mena</th>\n",
       "    </tr>\n",
       "  </thead>\n",
       "  <tbody>\n",
       "    <tr>\n",
       "      <th>0</th>\n",
       "      <td>1</td>\n",
       "      <td>Pavol</td>\n",
       "      <td>Horváth</td>\n",
       "      <td>39</td>\n",
       "      <td>nitra</td>\n",
       "      <td>2050.0</td>\n",
       "      <td>2022-01-02</td>\n",
       "      <td>1845.0</td>\n",
       "      <td>NaN</td>\n",
       "      <td>2050.000000</td>\n",
       "      <td>2022</td>\n",
       "      <td>Pavol Horváth</td>\n",
       "      <td>Stredný vek</td>\n",
       "      <td>5</td>\n",
       "    </tr>\n",
       "    <tr>\n",
       "      <th>1</th>\n",
       "      <td>2</td>\n",
       "      <td>Lukáš</td>\n",
       "      <td>Slovak</td>\n",
       "      <td>28</td>\n",
       "      <td>prešov</td>\n",
       "      <td>2831.0</td>\n",
       "      <td>2022-01-09</td>\n",
       "      <td>2547.9</td>\n",
       "      <td>NaN</td>\n",
       "      <td>2440.500000</td>\n",
       "      <td>2022</td>\n",
       "      <td>Lukáš Slovak</td>\n",
       "      <td>Mladý</td>\n",
       "      <td>5</td>\n",
       "    </tr>\n",
       "    <tr>\n",
       "      <th>6</th>\n",
       "      <td>7</td>\n",
       "      <td>Martin</td>\n",
       "      <td>Varga</td>\n",
       "      <td>33</td>\n",
       "      <td>nitra</td>\n",
       "      <td>3749.0</td>\n",
       "      <td>2022-02-13</td>\n",
       "      <td>2999.2</td>\n",
       "      <td>2380.666667</td>\n",
       "      <td>2357.000000</td>\n",
       "      <td>2022</td>\n",
       "      <td>Martin Varga</td>\n",
       "      <td>Stredný vek</td>\n",
       "      <td>6</td>\n",
       "    </tr>\n",
       "    <tr>\n",
       "      <th>8</th>\n",
       "      <td>9</td>\n",
       "      <td>Matej</td>\n",
       "      <td>Nagy</td>\n",
       "      <td>20</td>\n",
       "      <td>prešov</td>\n",
       "      <td>4572.0</td>\n",
       "      <td>2022-02-27</td>\n",
       "      <td>3657.6</td>\n",
       "      <td>3260.000000</td>\n",
       "      <td>2503.333333</td>\n",
       "      <td>2022</td>\n",
       "      <td>Matej Nagy</td>\n",
       "      <td>Mladý</td>\n",
       "      <td>5</td>\n",
       "    </tr>\n",
       "    <tr>\n",
       "      <th>9</th>\n",
       "      <td>10</td>\n",
       "      <td>Tomáš</td>\n",
       "      <td>Varga</td>\n",
       "      <td>37</td>\n",
       "      <td>trenčín</td>\n",
       "      <td>4243.0</td>\n",
       "      <td>2022-03-06</td>\n",
       "      <td>3394.4</td>\n",
       "      <td>3424.666667</td>\n",
       "      <td>2677.300000</td>\n",
       "      <td>2022</td>\n",
       "      <td>Tomáš Varga</td>\n",
       "      <td>Stredný vek</td>\n",
       "      <td>5</td>\n",
       "    </tr>\n",
       "    <tr>\n",
       "      <th>11</th>\n",
       "      <td>12</td>\n",
       "      <td>Matej</td>\n",
       "      <td>Varga</td>\n",
       "      <td>36</td>\n",
       "      <td>martin</td>\n",
       "      <td>2370.0</td>\n",
       "      <td>2022-03-20</td>\n",
       "      <td>2133.0</td>\n",
       "      <td>3861.000000</td>\n",
       "      <td>2842.750000</td>\n",
       "      <td>2022</td>\n",
       "      <td>Matej Varga</td>\n",
       "      <td>Stredný vek</td>\n",
       "      <td>5</td>\n",
       "    </tr>\n",
       "    <tr>\n",
       "      <th>13</th>\n",
       "      <td>14</td>\n",
       "      <td>Martin</td>\n",
       "      <td>Varga</td>\n",
       "      <td>20</td>\n",
       "      <td>nitra</td>\n",
       "      <td>3194.0</td>\n",
       "      <td>2022-04-03</td>\n",
       "      <td>2555.2</td>\n",
       "      <td>2348.000000</td>\n",
       "      <td>2770.500000</td>\n",
       "      <td>2022</td>\n",
       "      <td>Martin Varga</td>\n",
       "      <td>Mladý</td>\n",
       "      <td>6</td>\n",
       "    </tr>\n",
       "    <tr>\n",
       "      <th>14</th>\n",
       "      <td>15</td>\n",
       "      <td>Michal</td>\n",
       "      <td>Slovak</td>\n",
       "      <td>36</td>\n",
       "      <td>prešov</td>\n",
       "      <td>4047.0</td>\n",
       "      <td>2022-04-10</td>\n",
       "      <td>3237.6</td>\n",
       "      <td>2907.000000</td>\n",
       "      <td>2855.600000</td>\n",
       "      <td>2022</td>\n",
       "      <td>Michal Slovak</td>\n",
       "      <td>Stredný vek</td>\n",
       "      <td>6</td>\n",
       "    </tr>\n",
       "    <tr>\n",
       "      <th>15</th>\n",
       "      <td>16</td>\n",
       "      <td>Tomáš</td>\n",
       "      <td>Tóth</td>\n",
       "      <td>37</td>\n",
       "      <td>bratislava</td>\n",
       "      <td>2579.0</td>\n",
       "      <td>2022-04-17</td>\n",
       "      <td>2321.1</td>\n",
       "      <td>3273.333333</td>\n",
       "      <td>2838.312500</td>\n",
       "      <td>2022</td>\n",
       "      <td>Tomáš Tóth</td>\n",
       "      <td>Stredný vek</td>\n",
       "      <td>5</td>\n",
       "    </tr>\n",
       "    <tr>\n",
       "      <th>16</th>\n",
       "      <td>17</td>\n",
       "      <td>Peter</td>\n",
       "      <td>Molnár</td>\n",
       "      <td>49</td>\n",
       "      <td>žilina</td>\n",
       "      <td>4406.0</td>\n",
       "      <td>2022-04-24</td>\n",
       "      <td>3524.8</td>\n",
       "      <td>3677.333333</td>\n",
       "      <td>2930.529412</td>\n",
       "      <td>2022</td>\n",
       "      <td>Peter Molnár</td>\n",
       "      <td>Stredný vek</td>\n",
       "      <td>5</td>\n",
       "    </tr>\n",
       "    <tr>\n",
       "      <th>17</th>\n",
       "      <td>18</td>\n",
       "      <td>Matej</td>\n",
       "      <td>Farkaš</td>\n",
       "      <td>24</td>\n",
       "      <td>nitra</td>\n",
       "      <td>3644.0</td>\n",
       "      <td>2022-05-01</td>\n",
       "      <td>2915.2</td>\n",
       "      <td>3543.000000</td>\n",
       "      <td>2970.166667</td>\n",
       "      <td>2022</td>\n",
       "      <td>Matej Farkaš</td>\n",
       "      <td>Mladý</td>\n",
       "      <td>5</td>\n",
       "    </tr>\n",
       "    <tr>\n",
       "      <th>22</th>\n",
       "      <td>23</td>\n",
       "      <td>Robert</td>\n",
       "      <td>Varga</td>\n",
       "      <td>35</td>\n",
       "      <td>trenčín</td>\n",
       "      <td>3041.0</td>\n",
       "      <td>2022-06-05</td>\n",
       "      <td>2432.8</td>\n",
       "      <td>3067.333333</td>\n",
       "      <td>3124.608696</td>\n",
       "      <td>2022</td>\n",
       "      <td>Robert Varga</td>\n",
       "      <td>Stredný vek</td>\n",
       "      <td>6</td>\n",
       "    </tr>\n",
       "    <tr>\n",
       "      <th>24</th>\n",
       "      <td>25</td>\n",
       "      <td>Juraj</td>\n",
       "      <td>Slovak</td>\n",
       "      <td>18</td>\n",
       "      <td>banská bystrica</td>\n",
       "      <td>3859.0</td>\n",
       "      <td>2022-06-19</td>\n",
       "      <td>3087.2</td>\n",
       "      <td>3619.666667</td>\n",
       "      <td>3187.360000</td>\n",
       "      <td>2022</td>\n",
       "      <td>Juraj Slovak</td>\n",
       "      <td>Mladý</td>\n",
       "      <td>5</td>\n",
       "    </tr>\n",
       "    <tr>\n",
       "      <th>25</th>\n",
       "      <td>26</td>\n",
       "      <td>Ján</td>\n",
       "      <td>Kováč</td>\n",
       "      <td>28</td>\n",
       "      <td>poprad</td>\n",
       "      <td>3165.0</td>\n",
       "      <td>2022-06-26</td>\n",
       "      <td>2532.0</td>\n",
       "      <td>3661.000000</td>\n",
       "      <td>3186.500000</td>\n",
       "      <td>2022</td>\n",
       "      <td>Ján Kováč</td>\n",
       "      <td>Mladý</td>\n",
       "      <td>3</td>\n",
       "    </tr>\n",
       "    <tr>\n",
       "      <th>26</th>\n",
       "      <td>27</td>\n",
       "      <td>Robert</td>\n",
       "      <td>Kováč</td>\n",
       "      <td>45</td>\n",
       "      <td>prešov</td>\n",
       "      <td>3379.0</td>\n",
       "      <td>2022-07-03</td>\n",
       "      <td>2703.2</td>\n",
       "      <td>3467.666667</td>\n",
       "      <td>3193.629630</td>\n",
       "      <td>2022</td>\n",
       "      <td>Robert Kováč</td>\n",
       "      <td>Stredný vek</td>\n",
       "      <td>6</td>\n",
       "    </tr>\n",
       "    <tr>\n",
       "      <th>27</th>\n",
       "      <td>28</td>\n",
       "      <td>Martin</td>\n",
       "      <td>Tóth</td>\n",
       "      <td>42</td>\n",
       "      <td>martin</td>\n",
       "      <td>2535.0</td>\n",
       "      <td>2022-07-10</td>\n",
       "      <td>2281.5</td>\n",
       "      <td>3026.333333</td>\n",
       "      <td>3170.107143</td>\n",
       "      <td>2022</td>\n",
       "      <td>Martin Tóth</td>\n",
       "      <td>Stredný vek</td>\n",
       "      <td>6</td>\n",
       "    </tr>\n",
       "    <tr>\n",
       "      <th>28</th>\n",
       "      <td>29</td>\n",
       "      <td>Pavol</td>\n",
       "      <td>Farkaš</td>\n",
       "      <td>40</td>\n",
       "      <td>martin</td>\n",
       "      <td>2657.0</td>\n",
       "      <td>2022-07-17</td>\n",
       "      <td>2391.3</td>\n",
       "      <td>2857.000000</td>\n",
       "      <td>3152.413793</td>\n",
       "      <td>2022</td>\n",
       "      <td>Pavol Farkaš</td>\n",
       "      <td>Stredný vek</td>\n",
       "      <td>5</td>\n",
       "    </tr>\n",
       "    <tr>\n",
       "      <th>29</th>\n",
       "      <td>30</td>\n",
       "      <td>Lukáš</td>\n",
       "      <td>Farkaš</td>\n",
       "      <td>48</td>\n",
       "      <td>košice</td>\n",
       "      <td>2970.0</td>\n",
       "      <td>2022-07-24</td>\n",
       "      <td>2673.0</td>\n",
       "      <td>2720.666667</td>\n",
       "      <td>3146.333333</td>\n",
       "      <td>2022</td>\n",
       "      <td>Lukáš Farkaš</td>\n",
       "      <td>Stredný vek</td>\n",
       "      <td>5</td>\n",
       "    </tr>\n",
       "    <tr>\n",
       "      <th>30</th>\n",
       "      <td>31</td>\n",
       "      <td>Juraj</td>\n",
       "      <td>Kováč</td>\n",
       "      <td>47</td>\n",
       "      <td>banská bystrica</td>\n",
       "      <td>3749.0</td>\n",
       "      <td>2022-07-31</td>\n",
       "      <td>2999.2</td>\n",
       "      <td>3125.333333</td>\n",
       "      <td>3165.774194</td>\n",
       "      <td>2022</td>\n",
       "      <td>Juraj Kováč</td>\n",
       "      <td>Stredný vek</td>\n",
       "      <td>5</td>\n",
       "    </tr>\n",
       "    <tr>\n",
       "      <th>33</th>\n",
       "      <td>34</td>\n",
       "      <td>Martin</td>\n",
       "      <td>Nagy</td>\n",
       "      <td>24</td>\n",
       "      <td>poprad</td>\n",
       "      <td>3389.0</td>\n",
       "      <td>2022-08-21</td>\n",
       "      <td>2711.2</td>\n",
       "      <td>4056.666667</td>\n",
       "      <td>3244.382353</td>\n",
       "      <td>2022</td>\n",
       "      <td>Martin Nagy</td>\n",
       "      <td>Mladý</td>\n",
       "      <td>6</td>\n",
       "    </tr>\n",
       "    <tr>\n",
       "      <th>34</th>\n",
       "      <td>35</td>\n",
       "      <td>Pavol</td>\n",
       "      <td>Horváth</td>\n",
       "      <td>33</td>\n",
       "      <td>košice</td>\n",
       "      <td>2531.0</td>\n",
       "      <td>2022-08-28</td>\n",
       "      <td>2277.9</td>\n",
       "      <td>3516.666667</td>\n",
       "      <td>3224.000000</td>\n",
       "      <td>2022</td>\n",
       "      <td>Pavol Horváth</td>\n",
       "      <td>Stredný vek</td>\n",
       "      <td>5</td>\n",
       "    </tr>\n",
       "    <tr>\n",
       "      <th>35</th>\n",
       "      <td>36</td>\n",
       "      <td>Tomáš</td>\n",
       "      <td>Molnár</td>\n",
       "      <td>43</td>\n",
       "      <td>poprad</td>\n",
       "      <td>3716.0</td>\n",
       "      <td>2022-09-04</td>\n",
       "      <td>2972.8</td>\n",
       "      <td>3212.000000</td>\n",
       "      <td>3237.666667</td>\n",
       "      <td>2022</td>\n",
       "      <td>Tomáš Molnár</td>\n",
       "      <td>Stredný vek</td>\n",
       "      <td>5</td>\n",
       "    </tr>\n",
       "    <tr>\n",
       "      <th>37</th>\n",
       "      <td>38</td>\n",
       "      <td>Pavol</td>\n",
       "      <td>Tóth</td>\n",
       "      <td>18</td>\n",
       "      <td>martin</td>\n",
       "      <td>2248.0</td>\n",
       "      <td>2022-09-18</td>\n",
       "      <td>2023.2</td>\n",
       "      <td>2626.333333</td>\n",
       "      <td>3176.815789</td>\n",
       "      <td>2022</td>\n",
       "      <td>Pavol Tóth</td>\n",
       "      <td>Mladý</td>\n",
       "      <td>5</td>\n",
       "    </tr>\n",
       "    <tr>\n",
       "      <th>38</th>\n",
       "      <td>39</td>\n",
       "      <td>Peter</td>\n",
       "      <td>Nagy</td>\n",
       "      <td>29</td>\n",
       "      <td>bratislava</td>\n",
       "      <td>3987.0</td>\n",
       "      <td>2022-09-25</td>\n",
       "      <td>3189.6</td>\n",
       "      <td>2716.666667</td>\n",
       "      <td>3197.589744</td>\n",
       "      <td>2022</td>\n",
       "      <td>Peter Nagy</td>\n",
       "      <td>Mladý</td>\n",
       "      <td>5</td>\n",
       "    </tr>\n",
       "    <tr>\n",
       "      <th>39</th>\n",
       "      <td>40</td>\n",
       "      <td>Lukáš</td>\n",
       "      <td>Kováč</td>\n",
       "      <td>22</td>\n",
       "      <td>trenčín</td>\n",
       "      <td>3739.0</td>\n",
       "      <td>2022-10-02</td>\n",
       "      <td>2991.2</td>\n",
       "      <td>3324.666667</td>\n",
       "      <td>3211.125000</td>\n",
       "      <td>2022</td>\n",
       "      <td>Lukáš Kováč</td>\n",
       "      <td>Mladý</td>\n",
       "      <td>5</td>\n",
       "    </tr>\n",
       "    <tr>\n",
       "      <th>42</th>\n",
       "      <td>43</td>\n",
       "      <td>Robert</td>\n",
       "      <td>Szabó</td>\n",
       "      <td>26</td>\n",
       "      <td>poprad</td>\n",
       "      <td>4446.0</td>\n",
       "      <td>2022-10-23</td>\n",
       "      <td>3556.8</td>\n",
       "      <td>2492.000000</td>\n",
       "      <td>3160.953488</td>\n",
       "      <td>2022</td>\n",
       "      <td>Robert Szabó</td>\n",
       "      <td>Mladý</td>\n",
       "      <td>6</td>\n",
       "    </tr>\n",
       "    <tr>\n",
       "      <th>45</th>\n",
       "      <td>46</td>\n",
       "      <td>Tomáš</td>\n",
       "      <td>Slovak</td>\n",
       "      <td>36</td>\n",
       "      <td>prešov</td>\n",
       "      <td>2831.0</td>\n",
       "      <td>2022-11-13</td>\n",
       "      <td>2547.9</td>\n",
       "      <td>2389.666667</td>\n",
       "      <td>3110.652174</td>\n",
       "      <td>2022</td>\n",
       "      <td>Tomáš Slovak</td>\n",
       "      <td>Stredný vek</td>\n",
       "      <td>5</td>\n",
       "    </tr>\n",
       "    <tr>\n",
       "      <th>46</th>\n",
       "      <td>47</td>\n",
       "      <td>Peter</td>\n",
       "      <td>Szabó</td>\n",
       "      <td>33</td>\n",
       "      <td>košice</td>\n",
       "      <td>4646.0</td>\n",
       "      <td>2022-11-20</td>\n",
       "      <td>3716.8</td>\n",
       "      <td>3354.666667</td>\n",
       "      <td>3143.319149</td>\n",
       "      <td>2022</td>\n",
       "      <td>Peter Szabó</td>\n",
       "      <td>Stredný vek</td>\n",
       "      <td>5</td>\n",
       "    </tr>\n",
       "    <tr>\n",
       "      <th>47</th>\n",
       "      <td>48</td>\n",
       "      <td>Lukáš</td>\n",
       "      <td>Szabó</td>\n",
       "      <td>20</td>\n",
       "      <td>trenčín</td>\n",
       "      <td>3327.0</td>\n",
       "      <td>2022-11-27</td>\n",
       "      <td>2661.6</td>\n",
       "      <td>3601.333333</td>\n",
       "      <td>3147.145833</td>\n",
       "      <td>2022</td>\n",
       "      <td>Lukáš Szabó</td>\n",
       "      <td>Mladý</td>\n",
       "      <td>5</td>\n",
       "    </tr>\n",
       "    <tr>\n",
       "      <th>48</th>\n",
       "      <td>49</td>\n",
       "      <td>Pavol</td>\n",
       "      <td>Kováč</td>\n",
       "      <td>37</td>\n",
       "      <td>martin</td>\n",
       "      <td>2468.0</td>\n",
       "      <td>2022-12-04</td>\n",
       "      <td>2221.2</td>\n",
       "      <td>3480.333333</td>\n",
       "      <td>3133.285714</td>\n",
       "      <td>2022</td>\n",
       "      <td>Pavol Kováč</td>\n",
       "      <td>Stredný vek</td>\n",
       "      <td>5</td>\n",
       "    </tr>\n",
       "    <tr>\n",
       "      <th>49</th>\n",
       "      <td>50</td>\n",
       "      <td>Matej</td>\n",
       "      <td>Szabó</td>\n",
       "      <td>41</td>\n",
       "      <td>poprad</td>\n",
       "      <td>4900.0</td>\n",
       "      <td>2022-12-11</td>\n",
       "      <td>3920.0</td>\n",
       "      <td>3565.000000</td>\n",
       "      <td>3168.620000</td>\n",
       "      <td>2022</td>\n",
       "      <td>Matej Szabó</td>\n",
       "      <td>Stredný vek</td>\n",
       "      <td>5</td>\n",
       "    </tr>\n",
       "    <tr>\n",
       "      <th>51</th>\n",
       "      <td>52</td>\n",
       "      <td>Ján</td>\n",
       "      <td>Farkaš</td>\n",
       "      <td>41</td>\n",
       "      <td>trenčín</td>\n",
       "      <td>4398.0</td>\n",
       "      <td>2022-12-25</td>\n",
       "      <td>3518.4</td>\n",
       "      <td>4312.000000</td>\n",
       "      <td>3201.288462</td>\n",
       "      <td>2022</td>\n",
       "      <td>Ján Farkaš</td>\n",
       "      <td>Stredný vek</td>\n",
       "      <td>3</td>\n",
       "    </tr>\n",
       "    <tr>\n",
       "      <th>52</th>\n",
       "      <td>53</td>\n",
       "      <td>Lukáš</td>\n",
       "      <td>Nagy</td>\n",
       "      <td>28</td>\n",
       "      <td>žilina</td>\n",
       "      <td>4813.0</td>\n",
       "      <td>2023-01-01</td>\n",
       "      <td>3850.4</td>\n",
       "      <td>4283.000000</td>\n",
       "      <td>3231.698113</td>\n",
       "      <td>2023</td>\n",
       "      <td>Lukáš Nagy</td>\n",
       "      <td>Mladý</td>\n",
       "      <td>5</td>\n",
       "    </tr>\n",
       "    <tr>\n",
       "      <th>57</th>\n",
       "      <td>58</td>\n",
       "      <td>Michal</td>\n",
       "      <td>Varga</td>\n",
       "      <td>37</td>\n",
       "      <td>trnava</td>\n",
       "      <td>3446.0</td>\n",
       "      <td>2023-02-05</td>\n",
       "      <td>2756.8</td>\n",
       "      <td>4196.000000</td>\n",
       "      <td>3261.689655</td>\n",
       "      <td>2023</td>\n",
       "      <td>Michal Varga</td>\n",
       "      <td>Stredný vek</td>\n",
       "      <td>6</td>\n",
       "    </tr>\n",
       "    <tr>\n",
       "      <th>59</th>\n",
       "      <td>60</td>\n",
       "      <td>Robert</td>\n",
       "      <td>Baláž</td>\n",
       "      <td>42</td>\n",
       "      <td>košice</td>\n",
       "      <td>2982.0</td>\n",
       "      <td>2023-02-19</td>\n",
       "      <td>2683.8</td>\n",
       "      <td>2693.666667</td>\n",
       "      <td>3230.216667</td>\n",
       "      <td>2023</td>\n",
       "      <td>Robert Baláž</td>\n",
       "      <td>Stredný vek</td>\n",
       "      <td>6</td>\n",
       "    </tr>\n",
       "    <tr>\n",
       "      <th>61</th>\n",
       "      <td>62</td>\n",
       "      <td>Michal</td>\n",
       "      <td>Baláž</td>\n",
       "      <td>42</td>\n",
       "      <td>banská bystrica</td>\n",
       "      <td>3796.0</td>\n",
       "      <td>2023-03-05</td>\n",
       "      <td>3036.8</td>\n",
       "      <td>3484.000000</td>\n",
       "      <td>3246.500000</td>\n",
       "      <td>2023</td>\n",
       "      <td>Michal Baláž</td>\n",
       "      <td>Stredný vek</td>\n",
       "      <td>6</td>\n",
       "    </tr>\n",
       "    <tr>\n",
       "      <th>63</th>\n",
       "      <td>64</td>\n",
       "      <td>Robert</td>\n",
       "      <td>Kováč</td>\n",
       "      <td>35</td>\n",
       "      <td>trenčín</td>\n",
       "      <td>2525.0</td>\n",
       "      <td>2023-03-19</td>\n",
       "      <td>2272.5</td>\n",
       "      <td>2665.333333</td>\n",
       "      <td>3210.671875</td>\n",
       "      <td>2023</td>\n",
       "      <td>Robert Kováč</td>\n",
       "      <td>Stredný vek</td>\n",
       "      <td>6</td>\n",
       "    </tr>\n",
       "    <tr>\n",
       "      <th>68</th>\n",
       "      <td>69</td>\n",
       "      <td>Pavol</td>\n",
       "      <td>Farkaš</td>\n",
       "      <td>33</td>\n",
       "      <td>banská bystrica</td>\n",
       "      <td>4874.0</td>\n",
       "      <td>2023-04-23</td>\n",
       "      <td>3899.2</td>\n",
       "      <td>2468.000000</td>\n",
       "      <td>3161.927536</td>\n",
       "      <td>2023</td>\n",
       "      <td>Pavol Farkaš</td>\n",
       "      <td>Stredný vek</td>\n",
       "      <td>5</td>\n",
       "    </tr>\n",
       "    <tr>\n",
       "      <th>72</th>\n",
       "      <td>73</td>\n",
       "      <td>Peter</td>\n",
       "      <td>Tóth</td>\n",
       "      <td>21</td>\n",
       "      <td>banská bystrica</td>\n",
       "      <td>4046.0</td>\n",
       "      <td>2023-05-21</td>\n",
       "      <td>3236.8</td>\n",
       "      <td>2729.000000</td>\n",
       "      <td>3157.904110</td>\n",
       "      <td>2023</td>\n",
       "      <td>Peter Tóth</td>\n",
       "      <td>Mladý</td>\n",
       "      <td>5</td>\n",
       "    </tr>\n",
       "    <tr>\n",
       "      <th>75</th>\n",
       "      <td>76</td>\n",
       "      <td>Robert</td>\n",
       "      <td>Slovak</td>\n",
       "      <td>38</td>\n",
       "      <td>bratislava</td>\n",
       "      <td>4248.0</td>\n",
       "      <td>2023-06-11</td>\n",
       "      <td>3398.4</td>\n",
       "      <td>2396.000000</td>\n",
       "      <td>3127.828947</td>\n",
       "      <td>2023</td>\n",
       "      <td>Robert Slovak</td>\n",
       "      <td>Stredný vek</td>\n",
       "      <td>6</td>\n",
       "    </tr>\n",
       "    <tr>\n",
       "      <th>76</th>\n",
       "      <td>77</td>\n",
       "      <td>Juraj</td>\n",
       "      <td>Slovak</td>\n",
       "      <td>37</td>\n",
       "      <td>martin</td>\n",
       "      <td>3708.0</td>\n",
       "      <td>2023-06-18</td>\n",
       "      <td>2966.4</td>\n",
       "      <td>3194.666667</td>\n",
       "      <td>3135.363636</td>\n",
       "      <td>2023</td>\n",
       "      <td>Juraj Slovak</td>\n",
       "      <td>Stredný vek</td>\n",
       "      <td>5</td>\n",
       "    </tr>\n",
       "    <tr>\n",
       "      <th>78</th>\n",
       "      <td>79</td>\n",
       "      <td>Ján</td>\n",
       "      <td>Horváth</td>\n",
       "      <td>24</td>\n",
       "      <td>nitra</td>\n",
       "      <td>4365.0</td>\n",
       "      <td>2023-07-02</td>\n",
       "      <td>3492.0</td>\n",
       "      <td>3216.000000</td>\n",
       "      <td>3131.177215</td>\n",
       "      <td>2023</td>\n",
       "      <td>Ján Horváth</td>\n",
       "      <td>Mladý</td>\n",
       "      <td>3</td>\n",
       "    </tr>\n",
       "    <tr>\n",
       "      <th>79</th>\n",
       "      <td>80</td>\n",
       "      <td>Juraj</td>\n",
       "      <td>Nagy</td>\n",
       "      <td>20</td>\n",
       "      <td>trnava</td>\n",
       "      <td>3404.0</td>\n",
       "      <td>2023-07-09</td>\n",
       "      <td>2723.2</td>\n",
       "      <td>3114.666667</td>\n",
       "      <td>3134.587500</td>\n",
       "      <td>2023</td>\n",
       "      <td>Juraj Nagy</td>\n",
       "      <td>Mladý</td>\n",
       "      <td>5</td>\n",
       "    </tr>\n",
       "    <tr>\n",
       "      <th>80</th>\n",
       "      <td>81</td>\n",
       "      <td>Pavol</td>\n",
       "      <td>Farkaš</td>\n",
       "      <td>34</td>\n",
       "      <td>žilina</td>\n",
       "      <td>3867.0</td>\n",
       "      <td>2023-07-16</td>\n",
       "      <td>3093.6</td>\n",
       "      <td>3878.666667</td>\n",
       "      <td>3143.629630</td>\n",
       "      <td>2023</td>\n",
       "      <td>Pavol Farkaš</td>\n",
       "      <td>Stredný vek</td>\n",
       "      <td>5</td>\n",
       "    </tr>\n",
       "    <tr>\n",
       "      <th>82</th>\n",
       "      <td>83</td>\n",
       "      <td>Matej</td>\n",
       "      <td>Slovak</td>\n",
       "      <td>29</td>\n",
       "      <td>žilina</td>\n",
       "      <td>2022.0</td>\n",
       "      <td>2023-07-30</td>\n",
       "      <td>1819.8</td>\n",
       "      <td>3191.666667</td>\n",
       "      <td>3136.650602</td>\n",
       "      <td>2023</td>\n",
       "      <td>Matej Slovak</td>\n",
       "      <td>Mladý</td>\n",
       "      <td>5</td>\n",
       "    </tr>\n",
       "    <tr>\n",
       "      <th>83</th>\n",
       "      <td>84</td>\n",
       "      <td>Ján</td>\n",
       "      <td>Slovak</td>\n",
       "      <td>39</td>\n",
       "      <td>prešov</td>\n",
       "      <td>4979.0</td>\n",
       "      <td>2023-08-06</td>\n",
       "      <td>3983.2</td>\n",
       "      <td>3562.333333</td>\n",
       "      <td>3158.583333</td>\n",
       "      <td>2023</td>\n",
       "      <td>Ján Slovak</td>\n",
       "      <td>Stredný vek</td>\n",
       "      <td>3</td>\n",
       "    </tr>\n",
       "    <tr>\n",
       "      <th>84</th>\n",
       "      <td>85</td>\n",
       "      <td>Matej</td>\n",
       "      <td>Varga</td>\n",
       "      <td>39</td>\n",
       "      <td>trnava</td>\n",
       "      <td>2471.0</td>\n",
       "      <td>2023-08-13</td>\n",
       "      <td>2223.9</td>\n",
       "      <td>3157.333333</td>\n",
       "      <td>3150.494118</td>\n",
       "      <td>2023</td>\n",
       "      <td>Matej Varga</td>\n",
       "      <td>Stredný vek</td>\n",
       "      <td>5</td>\n",
       "    </tr>\n",
       "    <tr>\n",
       "      <th>86</th>\n",
       "      <td>87</td>\n",
       "      <td>Martin</td>\n",
       "      <td>Tóth</td>\n",
       "      <td>47</td>\n",
       "      <td>žilina</td>\n",
       "      <td>2587.0</td>\n",
       "      <td>2023-08-27</td>\n",
       "      <td>2328.3</td>\n",
       "      <td>2700.333333</td>\n",
       "      <td>3142.781609</td>\n",
       "      <td>2023</td>\n",
       "      <td>Martin Tóth</td>\n",
       "      <td>Stredný vek</td>\n",
       "      <td>6</td>\n",
       "    </tr>\n",
       "    <tr>\n",
       "      <th>90</th>\n",
       "      <td>91</td>\n",
       "      <td>Martin</td>\n",
       "      <td>Kováč</td>\n",
       "      <td>25</td>\n",
       "      <td>bratislava</td>\n",
       "      <td>3226.0</td>\n",
       "      <td>2023-09-24</td>\n",
       "      <td>2580.8</td>\n",
       "      <td>4077.333333</td>\n",
       "      <td>3191.263736</td>\n",
       "      <td>2023</td>\n",
       "      <td>Martin Kováč</td>\n",
       "      <td>Mladý</td>\n",
       "      <td>6</td>\n",
       "    </tr>\n",
       "    <tr>\n",
       "      <th>91</th>\n",
       "      <td>92</td>\n",
       "      <td>Ján</td>\n",
       "      <td>Farkaš</td>\n",
       "      <td>44</td>\n",
       "      <td>martin</td>\n",
       "      <td>3814.0</td>\n",
       "      <td>2023-10-01</td>\n",
       "      <td>3051.2</td>\n",
       "      <td>3902.000000</td>\n",
       "      <td>3198.032609</td>\n",
       "      <td>2023</td>\n",
       "      <td>Ján Farkaš</td>\n",
       "      <td>Stredný vek</td>\n",
       "      <td>3</td>\n",
       "    </tr>\n",
       "    <tr>\n",
       "      <th>92</th>\n",
       "      <td>93</td>\n",
       "      <td>Tomáš</td>\n",
       "      <td>Baláž</td>\n",
       "      <td>44</td>\n",
       "      <td>prešov</td>\n",
       "      <td>4852.0</td>\n",
       "      <td>2023-10-08</td>\n",
       "      <td>3881.6</td>\n",
       "      <td>3964.000000</td>\n",
       "      <td>3215.817204</td>\n",
       "      <td>2023</td>\n",
       "      <td>Tomáš Baláž</td>\n",
       "      <td>Stredný vek</td>\n",
       "      <td>5</td>\n",
       "    </tr>\n",
       "    <tr>\n",
       "      <th>95</th>\n",
       "      <td>96</td>\n",
       "      <td>Robert</td>\n",
       "      <td>Baláž</td>\n",
       "      <td>47</td>\n",
       "      <td>poprad</td>\n",
       "      <td>2265.0</td>\n",
       "      <td>2023-10-29</td>\n",
       "      <td>2038.5</td>\n",
       "      <td>1796.000000</td>\n",
       "      <td>3171.447917</td>\n",
       "      <td>2023</td>\n",
       "      <td>Robert Baláž</td>\n",
       "      <td>Stredný vek</td>\n",
       "      <td>6</td>\n",
       "    </tr>\n",
       "  </tbody>\n",
       "</table>\n",
       "</div>"
      ]
     },
     "metadata": {},
     "output_type": "display_data"
    }
   ],
   "metadata": {
    "datalore": {
     "node_id": "FQn6vyNHr4Ra0k0omQn8UV",
     "type": "CODE",
     "hide_input_from_viewers": true,
     "hide_output_from_viewers": true
    }
   }
  },
  {
   "cell_type": "markdown",
   "source": [
    "## Detekcia a odstránenie duplicitných záznamov"
   ],
   "attachments": {},
   "metadata": {
    "datalore": {
     "node_id": "6jFokKoGY7GlUvDC7N8j54",
     "type": "MD",
     "hide_input_from_viewers": true,
     "hide_output_from_viewers": true
    }
   }
  },
  {
   "cell_type": "code",
   "source": [],
   "execution_count": 59,
   "outputs": [
    {
     "data": {
      "text/html": [
       "<div>\n",
       "<style scoped>\n",
       "    .dataframe tbody tr th:only-of-type {\n",
       "        vertical-align: middle;\n",
       "    }\n",
       "\n",
       "    .dataframe tbody tr th {\n",
       "        vertical-align: top;\n",
       "    }\n",
       "\n",
       "    .dataframe thead th {\n",
       "        text-align: right;\n",
       "    }\n",
       "</style>\n",
       "<table border=\"1\" class=\"dataframe\">\n",
       "  <thead>\n",
       "    <tr style=\"text-align: right;\">\n",
       "      <th></th>\n",
       "      <th>ID</th>\n",
       "      <th>Meno</th>\n",
       "      <th>Priezvisko</th>\n",
       "      <th>Vek</th>\n",
       "      <th>Mesto</th>\n",
       "      <th>Mzda</th>\n",
       "      <th>Datum</th>\n",
       "      <th>Mzda_po_Zdaneni</th>\n",
       "      <th>Mzda_Pohyblivy_Priemer</th>\n",
       "      <th>Mzda_Expanzny_Priemer</th>\n",
       "      <th>Rok</th>\n",
       "      <th>Plný_názov</th>\n",
       "      <th>Veková_kategória</th>\n",
       "      <th>Dĺžka_mena</th>\n",
       "    </tr>\n",
       "  </thead>\n",
       "  <tbody>\n",
       "    <tr>\n",
       "      <th>0</th>\n",
       "      <td>1</td>\n",
       "      <td>Pavol</td>\n",
       "      <td>Horváth</td>\n",
       "      <td>39</td>\n",
       "      <td>nitra</td>\n",
       "      <td>2050.0</td>\n",
       "      <td>2022-01-02</td>\n",
       "      <td>1845.0</td>\n",
       "      <td>NaN</td>\n",
       "      <td>2050.000000</td>\n",
       "      <td>2022</td>\n",
       "      <td>Pavol Horváth</td>\n",
       "      <td>Stredný vek</td>\n",
       "      <td>5</td>\n",
       "    </tr>\n",
       "    <tr>\n",
       "      <th>1</th>\n",
       "      <td>2</td>\n",
       "      <td>Lukáš</td>\n",
       "      <td>Slovak</td>\n",
       "      <td>28</td>\n",
       "      <td>prešov</td>\n",
       "      <td>2831.0</td>\n",
       "      <td>2022-01-09</td>\n",
       "      <td>2547.9</td>\n",
       "      <td>NaN</td>\n",
       "      <td>2440.500000</td>\n",
       "      <td>2022</td>\n",
       "      <td>Lukáš Slovak</td>\n",
       "      <td>Mladý</td>\n",
       "      <td>5</td>\n",
       "    </tr>\n",
       "    <tr>\n",
       "      <th>2</th>\n",
       "      <td>3</td>\n",
       "      <td>Matej</td>\n",
       "      <td>Farkaš</td>\n",
       "      <td>33</td>\n",
       "      <td>žilina</td>\n",
       "      <td>1912.0</td>\n",
       "      <td>2022-01-16</td>\n",
       "      <td>1720.8</td>\n",
       "      <td>2264.333333</td>\n",
       "      <td>2264.333333</td>\n",
       "      <td>2022</td>\n",
       "      <td>Matej Farkaš</td>\n",
       "      <td>Stredný vek</td>\n",
       "      <td>5</td>\n",
       "    </tr>\n",
       "    <tr>\n",
       "      <th>3</th>\n",
       "      <td>4</td>\n",
       "      <td>Tomáš</td>\n",
       "      <td>Farkaš</td>\n",
       "      <td>50</td>\n",
       "      <td>prešov</td>\n",
       "      <td>2564.0</td>\n",
       "      <td>2022-01-23</td>\n",
       "      <td>2307.6</td>\n",
       "      <td>2435.666667</td>\n",
       "      <td>2339.250000</td>\n",
       "      <td>2022</td>\n",
       "      <td>Tomáš Farkaš</td>\n",
       "      <td>Stredný vek</td>\n",
       "      <td>5</td>\n",
       "    </tr>\n",
       "    <tr>\n",
       "      <th>4</th>\n",
       "      <td>5</td>\n",
       "      <td>Pavol</td>\n",
       "      <td>Baláž</td>\n",
       "      <td>26</td>\n",
       "      <td>bratislava</td>\n",
       "      <td>1981.0</td>\n",
       "      <td>2022-01-30</td>\n",
       "      <td>1782.9</td>\n",
       "      <td>2152.333333</td>\n",
       "      <td>2267.600000</td>\n",
       "      <td>2022</td>\n",
       "      <td>Pavol Baláž</td>\n",
       "      <td>Mladý</td>\n",
       "      <td>5</td>\n",
       "    </tr>\n",
       "    <tr>\n",
       "      <th>...</th>\n",
       "      <td>...</td>\n",
       "      <td>...</td>\n",
       "      <td>...</td>\n",
       "      <td>...</td>\n",
       "      <td>...</td>\n",
       "      <td>...</td>\n",
       "      <td>...</td>\n",
       "      <td>...</td>\n",
       "      <td>...</td>\n",
       "      <td>...</td>\n",
       "      <td>...</td>\n",
       "      <td>...</td>\n",
       "      <td>...</td>\n",
       "      <td>...</td>\n",
       "    </tr>\n",
       "    <tr>\n",
       "      <th>95</th>\n",
       "      <td>96</td>\n",
       "      <td>Robert</td>\n",
       "      <td>Baláž</td>\n",
       "      <td>47</td>\n",
       "      <td>poprad</td>\n",
       "      <td>2265.0</td>\n",
       "      <td>2023-10-29</td>\n",
       "      <td>2038.5</td>\n",
       "      <td>1796.000000</td>\n",
       "      <td>3171.447917</td>\n",
       "      <td>2023</td>\n",
       "      <td>Robert Baláž</td>\n",
       "      <td>Stredný vek</td>\n",
       "      <td>6</td>\n",
       "    </tr>\n",
       "    <tr>\n",
       "      <th>96</th>\n",
       "      <td>97</td>\n",
       "      <td>Juraj</td>\n",
       "      <td>Tóth</td>\n",
       "      <td>50</td>\n",
       "      <td>nitra</td>\n",
       "      <td>1598.0</td>\n",
       "      <td>2023-11-05</td>\n",
       "      <td>1438.2</td>\n",
       "      <td>1830.333333</td>\n",
       "      <td>3155.226804</td>\n",
       "      <td>2023</td>\n",
       "      <td>Juraj Tóth</td>\n",
       "      <td>Stredný vek</td>\n",
       "      <td>5</td>\n",
       "    </tr>\n",
       "    <tr>\n",
       "      <th>97</th>\n",
       "      <td>98</td>\n",
       "      <td>Pavol</td>\n",
       "      <td>Kováč</td>\n",
       "      <td>45</td>\n",
       "      <td>poprad</td>\n",
       "      <td>1295.0</td>\n",
       "      <td>2023-11-12</td>\n",
       "      <td>1165.5</td>\n",
       "      <td>1719.333333</td>\n",
       "      <td>3136.244898</td>\n",
       "      <td>2023</td>\n",
       "      <td>Pavol Kováč</td>\n",
       "      <td>Stredný vek</td>\n",
       "      <td>5</td>\n",
       "    </tr>\n",
       "    <tr>\n",
       "      <th>98</th>\n",
       "      <td>99</td>\n",
       "      <td>Juraj</td>\n",
       "      <td>Horváth</td>\n",
       "      <td>64</td>\n",
       "      <td>nitra</td>\n",
       "      <td>3402.0</td>\n",
       "      <td>2023-11-19</td>\n",
       "      <td>2721.6</td>\n",
       "      <td>2098.333333</td>\n",
       "      <td>3138.929293</td>\n",
       "      <td>2023</td>\n",
       "      <td>Juraj Horváth</td>\n",
       "      <td>Starší</td>\n",
       "      <td>5</td>\n",
       "    </tr>\n",
       "    <tr>\n",
       "      <th>99</th>\n",
       "      <td>100</td>\n",
       "      <td>Matej</td>\n",
       "      <td>Nagy</td>\n",
       "      <td>50</td>\n",
       "      <td>trnava</td>\n",
       "      <td>2719.0</td>\n",
       "      <td>2023-11-26</td>\n",
       "      <td>2447.1</td>\n",
       "      <td>2472.000000</td>\n",
       "      <td>3134.730000</td>\n",
       "      <td>2023</td>\n",
       "      <td>Matej Nagy</td>\n",
       "      <td>Stredný vek</td>\n",
       "      <td>5</td>\n",
       "    </tr>\n",
       "  </tbody>\n",
       "</table>\n",
       "<p>100 rows × 14 columns</p>\n",
       "</div>"
      ]
     },
     "metadata": {},
     "output_type": "display_data"
    }
   ],
   "metadata": {
    "datalore": {
     "node_id": "5dsL7Co9Jiv8pa5wy79oiV",
     "type": "CODE",
     "hide_input_from_viewers": true,
     "hide_output_from_viewers": true
    }
   }
  },
  {
   "cell_type": "code",
   "source": [
    "# Identifikácia riadkov, ktoré sú duplicitné (okrem prvého výskytu)"
   ],
   "execution_count": 60,
   "outputs": [
    {
     "data": {
      "text/html": [
       "<pre>0     False\n",
       "1     False\n",
       "2     False\n",
       "3     False\n",
       "4     False\n",
       "      ...  \n",
       "95    False\n",
       "96    False\n",
       "97    False\n",
       "98    False\n",
       "99    False\n",
       "Length: 100, dtype: bool</pre>"
      ]
     },
     "metadata": {},
     "output_type": "display_data"
    }
   ],
   "metadata": {
    "datalore": {
     "node_id": "Hd2hqmCXVM6Bce9hIFiNXg",
     "type": "CODE",
     "hide_input_from_viewers": true,
     "hide_output_from_viewers": true
    }
   }
  },
  {
   "cell_type": "markdown",
   "source": [
    "## Práca s externými dátami"
   ],
   "attachments": {},
   "metadata": {
    "datalore": {
     "node_id": "6sKpnovnw2Q1scIQDP0kzJ",
     "type": "MD",
     "hide_input_from_viewers": true,
     "hide_output_from_viewers": true
    }
   }
  },
  {
   "cell_type": "code",
   "source": [],
   "execution_count": null,
   "outputs": [],
   "metadata": {
    "datalore": {
     "node_id": "AREyYJ2bTOVk4RiY2ZFbff",
     "type": "CODE",
     "hide_input_from_viewers": true,
     "hide_output_from_viewers": true
    }
   }
  },
  {
   "cell_type": "markdown",
   "source": [
    "## Dynamické vytvorenie stĺpcov\n",
    "Dynamické generovanie nových stĺpcov na základe existujúcich hodnôt v DataFrame."
   ],
   "attachments": {},
   "metadata": {
    "datalore": {
     "node_id": "RtqTDmWjLfQYnBN43eLsNy",
     "type": "MD",
     "hide_input_from_viewers": true,
     "hide_output_from_viewers": true
    }
   }
  },
  {
   "cell_type": "code",
   "source": [],
   "execution_count": 61,
   "outputs": [
    {
     "data": {
      "text/html": [
       "<div>\n",
       "<style scoped>\n",
       "    .dataframe tbody tr th:only-of-type {\n",
       "        vertical-align: middle;\n",
       "    }\n",
       "\n",
       "    .dataframe tbody tr th {\n",
       "        vertical-align: top;\n",
       "    }\n",
       "\n",
       "    .dataframe thead th {\n",
       "        text-align: right;\n",
       "    }\n",
       "</style>\n",
       "<table border=\"1\" class=\"dataframe\">\n",
       "  <thead>\n",
       "    <tr style=\"text-align: right;\">\n",
       "      <th></th>\n",
       "      <th>ID</th>\n",
       "      <th>Meno</th>\n",
       "      <th>Priezvisko</th>\n",
       "      <th>Vek</th>\n",
       "      <th>Mesto</th>\n",
       "      <th>Mzda</th>\n",
       "      <th>Datum</th>\n",
       "      <th>Mzda_po_Zdaneni</th>\n",
       "      <th>Mzda_Pohyblivy_Priemer</th>\n",
       "      <th>Mzda_Expanzny_Priemer</th>\n",
       "      <th>Rok</th>\n",
       "      <th>Plný_názov</th>\n",
       "      <th>Veková_kategória</th>\n",
       "      <th>Dĺžka_mena</th>\n",
       "      <th>Plat po zdanení</th>\n",
       "    </tr>\n",
       "  </thead>\n",
       "  <tbody>\n",
       "    <tr>\n",
       "      <th>0</th>\n",
       "      <td>1</td>\n",
       "      <td>Pavol</td>\n",
       "      <td>Horváth</td>\n",
       "      <td>39</td>\n",
       "      <td>nitra</td>\n",
       "      <td>2050.0</td>\n",
       "      <td>2022-01-02</td>\n",
       "      <td>1845.0</td>\n",
       "      <td>NaN</td>\n",
       "      <td>2050.000000</td>\n",
       "      <td>2022</td>\n",
       "      <td>Pavol Horváth</td>\n",
       "      <td>Stredný vek</td>\n",
       "      <td>5</td>\n",
       "      <td>1845.0</td>\n",
       "    </tr>\n",
       "    <tr>\n",
       "      <th>1</th>\n",
       "      <td>2</td>\n",
       "      <td>Lukáš</td>\n",
       "      <td>Slovak</td>\n",
       "      <td>28</td>\n",
       "      <td>prešov</td>\n",
       "      <td>2831.0</td>\n",
       "      <td>2022-01-09</td>\n",
       "      <td>2547.9</td>\n",
       "      <td>NaN</td>\n",
       "      <td>2440.500000</td>\n",
       "      <td>2022</td>\n",
       "      <td>Lukáš Slovak</td>\n",
       "      <td>Mladý</td>\n",
       "      <td>5</td>\n",
       "      <td>2547.9</td>\n",
       "    </tr>\n",
       "    <tr>\n",
       "      <th>2</th>\n",
       "      <td>3</td>\n",
       "      <td>Matej</td>\n",
       "      <td>Farkaš</td>\n",
       "      <td>33</td>\n",
       "      <td>žilina</td>\n",
       "      <td>1912.0</td>\n",
       "      <td>2022-01-16</td>\n",
       "      <td>1720.8</td>\n",
       "      <td>2264.333333</td>\n",
       "      <td>2264.333333</td>\n",
       "      <td>2022</td>\n",
       "      <td>Matej Farkaš</td>\n",
       "      <td>Stredný vek</td>\n",
       "      <td>5</td>\n",
       "      <td>1720.8</td>\n",
       "    </tr>\n",
       "    <tr>\n",
       "      <th>3</th>\n",
       "      <td>4</td>\n",
       "      <td>Tomáš</td>\n",
       "      <td>Farkaš</td>\n",
       "      <td>50</td>\n",
       "      <td>prešov</td>\n",
       "      <td>2564.0</td>\n",
       "      <td>2022-01-23</td>\n",
       "      <td>2307.6</td>\n",
       "      <td>2435.666667</td>\n",
       "      <td>2339.250000</td>\n",
       "      <td>2022</td>\n",
       "      <td>Tomáš Farkaš</td>\n",
       "      <td>Stredný vek</td>\n",
       "      <td>5</td>\n",
       "      <td>2307.6</td>\n",
       "    </tr>\n",
       "    <tr>\n",
       "      <th>4</th>\n",
       "      <td>5</td>\n",
       "      <td>Pavol</td>\n",
       "      <td>Baláž</td>\n",
       "      <td>26</td>\n",
       "      <td>bratislava</td>\n",
       "      <td>1981.0</td>\n",
       "      <td>2022-01-30</td>\n",
       "      <td>1782.9</td>\n",
       "      <td>2152.333333</td>\n",
       "      <td>2267.600000</td>\n",
       "      <td>2022</td>\n",
       "      <td>Pavol Baláž</td>\n",
       "      <td>Mladý</td>\n",
       "      <td>5</td>\n",
       "      <td>1782.9</td>\n",
       "    </tr>\n",
       "    <tr>\n",
       "      <th>...</th>\n",
       "      <td>...</td>\n",
       "      <td>...</td>\n",
       "      <td>...</td>\n",
       "      <td>...</td>\n",
       "      <td>...</td>\n",
       "      <td>...</td>\n",
       "      <td>...</td>\n",
       "      <td>...</td>\n",
       "      <td>...</td>\n",
       "      <td>...</td>\n",
       "      <td>...</td>\n",
       "      <td>...</td>\n",
       "      <td>...</td>\n",
       "      <td>...</td>\n",
       "      <td>...</td>\n",
       "    </tr>\n",
       "    <tr>\n",
       "      <th>95</th>\n",
       "      <td>96</td>\n",
       "      <td>Robert</td>\n",
       "      <td>Baláž</td>\n",
       "      <td>47</td>\n",
       "      <td>poprad</td>\n",
       "      <td>2265.0</td>\n",
       "      <td>2023-10-29</td>\n",
       "      <td>2038.5</td>\n",
       "      <td>1796.000000</td>\n",
       "      <td>3171.447917</td>\n",
       "      <td>2023</td>\n",
       "      <td>Robert Baláž</td>\n",
       "      <td>Stredný vek</td>\n",
       "      <td>6</td>\n",
       "      <td>2038.5</td>\n",
       "    </tr>\n",
       "    <tr>\n",
       "      <th>96</th>\n",
       "      <td>97</td>\n",
       "      <td>Juraj</td>\n",
       "      <td>Tóth</td>\n",
       "      <td>50</td>\n",
       "      <td>nitra</td>\n",
       "      <td>1598.0</td>\n",
       "      <td>2023-11-05</td>\n",
       "      <td>1438.2</td>\n",
       "      <td>1830.333333</td>\n",
       "      <td>3155.226804</td>\n",
       "      <td>2023</td>\n",
       "      <td>Juraj Tóth</td>\n",
       "      <td>Stredný vek</td>\n",
       "      <td>5</td>\n",
       "      <td>1438.2</td>\n",
       "    </tr>\n",
       "    <tr>\n",
       "      <th>97</th>\n",
       "      <td>98</td>\n",
       "      <td>Pavol</td>\n",
       "      <td>Kováč</td>\n",
       "      <td>45</td>\n",
       "      <td>poprad</td>\n",
       "      <td>1295.0</td>\n",
       "      <td>2023-11-12</td>\n",
       "      <td>1165.5</td>\n",
       "      <td>1719.333333</td>\n",
       "      <td>3136.244898</td>\n",
       "      <td>2023</td>\n",
       "      <td>Pavol Kováč</td>\n",
       "      <td>Stredný vek</td>\n",
       "      <td>5</td>\n",
       "      <td>1165.5</td>\n",
       "    </tr>\n",
       "    <tr>\n",
       "      <th>98</th>\n",
       "      <td>99</td>\n",
       "      <td>Juraj</td>\n",
       "      <td>Horváth</td>\n",
       "      <td>64</td>\n",
       "      <td>nitra</td>\n",
       "      <td>3402.0</td>\n",
       "      <td>2023-11-19</td>\n",
       "      <td>2721.6</td>\n",
       "      <td>2098.333333</td>\n",
       "      <td>3138.929293</td>\n",
       "      <td>2023</td>\n",
       "      <td>Juraj Horváth</td>\n",
       "      <td>Starší</td>\n",
       "      <td>5</td>\n",
       "      <td>2721.6</td>\n",
       "    </tr>\n",
       "    <tr>\n",
       "      <th>99</th>\n",
       "      <td>100</td>\n",
       "      <td>Matej</td>\n",
       "      <td>Nagy</td>\n",
       "      <td>50</td>\n",
       "      <td>trnava</td>\n",
       "      <td>2719.0</td>\n",
       "      <td>2023-11-26</td>\n",
       "      <td>2447.1</td>\n",
       "      <td>2472.000000</td>\n",
       "      <td>3134.730000</td>\n",
       "      <td>2023</td>\n",
       "      <td>Matej Nagy</td>\n",
       "      <td>Stredný vek</td>\n",
       "      <td>5</td>\n",
       "      <td>2447.1</td>\n",
       "    </tr>\n",
       "  </tbody>\n",
       "</table>\n",
       "<p>100 rows × 15 columns</p>\n",
       "</div>"
      ]
     },
     "metadata": {},
     "output_type": "display_data"
    }
   ],
   "metadata": {
    "datalore": {
     "node_id": "fFuZnadJVaT3NxCvlcm3QT",
     "type": "CODE",
     "hide_input_from_viewers": true,
     "hide_output_from_viewers": true
    }
   }
  },
  {
   "cell_type": "markdown",
   "source": [
    "# Matplotlib"
   ],
   "attachments": {},
   "metadata": {
    "datalore": {
     "node_id": "Matplotlib",
     "type": "MD",
     "hide_input_from_viewers": false,
     "hide_output_from_viewers": false,
     "sheet_delimiter": true
    }
   }
  },
  {
   "cell_type": "markdown",
   "source": [
    "# 📊 Matplotlib \n",
    "Grafická knižnica s rôznymi grafmi a vizualizáciami. V spojení s Pandas a Jupyter môžeme rýchlo získať prehľad o našich údajoch."
   ],
   "attachments": {},
   "metadata": {
    "datalore": {
     "node_id": "WZ3w2FjnrSpk4oPBkmkyDp",
     "type": "MD",
     "hide_input_from_viewers": false,
     "hide_output_from_viewers": false,
     "report_properties": {
      "rowId": "myhhnezgQ0zvYlWpblthei"
     }
    }
   }
  },
  {
   "cell_type": "code",
   "source": [
    "# 1. Inicializacia kniznic/modul\n",
    "import matplotlib.pyplot as plt\n",
    "import numpy as np\n",
    "\n",
    "# 2. Priprava dat/stiahnutie dat/ziskanie dat\n",
    "x = np.linspace(0, 4 * np.pi, 100)\n",
    "y = np.cos(x)\n",
    "\n",
    "# 3. Render/Vykreslenie grafu\n",
    "fig, ax = plt.subplots()\n",
    "# RGB, CMYK, HSV, HSL\n",
    "# 0-255\n",
    "ax.plot(x,y, color = \"#ff007e\", marker = \"^\")\n",
    "# ax.plot(x,y, color = \"#ff007e\", ls = \"--\", linewidth = 1, marker = \"o\")\n",
    "ax.set_title(\"Zavislost veku od mojej inteligencie\")\n",
    "ax.set_xlabel(\"Vek [roky]\")\n",
    "ax.set_ylabel(\"Inteligencia [IQ Body]\")\n",
    "plt.show()\n",
    "\n",
    "# 4. Export/ulozenie grafu\n",
    "fig.savefig(\"graf.png\")\n",
    "fig.savefig(\"graf.pdf\")"
   ],
   "execution_count": 116,
   "outputs": [
    {
     "data": {
      "image/png": "[encoded data removed]"
     },
     "metadata": {
      "image/png": {}
     },
     "output_type": "display_data"
    }
   ],
   "metadata": {
    "datalore": {
     "node_id": "CYT4zYZFuVOkkz2EfqffMi",
     "type": "CODE",
     "hide_input_from_viewers": false,
     "hide_output_from_viewers": false,
     "report_properties": {
      "rowId": "y4aNfeuepxv0VtxamAA5vR"
     }
    }
   }
  },
  {
   "cell_type": "code",
   "source": [
    "# 1. Inicializacia kniznic/modul\n",
    "import matplotlib.pyplot as plt\n",
    "import numpy as np\n",
    "\n",
    "# 2. Priprava dat/stiahnutie dat/ziskanie dat/generovanie dat\n",
    "x = np.random.uniform(0, 1, 10)\n",
    "y = np.random.uniform(0, 1, 10)\n",
    "\n",
    "fig, ax = plt.subplots()\n",
    "ax.scatter(x,y)  \n",
    "plt.show()"
   ],
   "execution_count": 19,
   "outputs": [
    {
     "data": {
      "image/png": "[encoded data removed]"
     },
     "metadata": {
      "image/png": {}
     },
     "output_type": "display_data"
    }
   ],
   "metadata": {
    "datalore": {
     "node_id": "Fqz0DhKsu9hFJm7o1mZyBI",
     "type": "CODE",
     "hide_input_from_viewers": false,
     "hide_output_from_viewers": false,
     "report_properties": {
      "rowId": "micetiPPogLZ8yu6ioRsxF"
     }
    }
   }
  },
  {
   "cell_type": "code",
   "source": [
    "# 1. Inicializacia kniznic/modul\n",
    "import matplotlib.pyplot as plt\n",
    "import numpy as np\n",
    "\n",
    "# 2. Priprava dat/stiahnutie dat/ziskanie dat/generovanie dat\n",
    "x = np.arange(10)\n",
    "y = np.random.uniform(1, 10, 10)\n",
    "\n",
    "fig, ax = plt.subplots()\n",
    "ax.bar(x, y)\n",
    "plt.show()"
   ],
   "execution_count": 46,
   "outputs": [
    {
     "data": {
      "image/png": "[encoded data removed]"
     },
     "metadata": {
      "image/png": {}
     },
     "output_type": "display_data"
    }
   ],
   "metadata": {
    "datalore": {
     "node_id": "s8cLF1h4te4thAMlywe1M8",
     "type": "CODE",
     "hide_input_from_viewers": false,
     "hide_output_from_viewers": false,
     "report_properties": {
      "rowId": "jBbIE1LidcCwStSAPH686f"
     }
    }
   }
  },
  {
   "cell_type": "code",
   "source": [
    "# 1. Inicializacia kniznic/modul\n",
    "import matplotlib.pyplot as plt\n",
    "import numpy as np\n",
    "\n",
    "# 2. Priprava dat/stiahnutie dat/ziskanie dat/generovanie dat\n",
    "x = np.random.uniform(0,1,4)\n",
    "fig, ax = plt.subplots()\n",
    "ax.pie(x)\n",
    "plt.show()"
   ],
   "execution_count": 57,
   "outputs": [
    {
     "data": {
      "image/png": "[encoded data removed]"
     },
     "metadata": {
      "image/png": {}
     },
     "output_type": "display_data"
    }
   ],
   "metadata": {
    "datalore": {
     "node_id": "JZOrxy7tubJoVnYIevByyx",
     "type": "CODE",
     "hide_input_from_viewers": false,
     "hide_output_from_viewers": false,
     "report_properties": {
      "rowId": "FHLb1t5D4UzHBPFKU8z9be"
     }
    }
   }
  },
  {
   "cell_type": "code",
   "source": [
    "# 1. Inicializacia kniznic/modul\n",
    "import matplotlib.pyplot as plt\n",
    "import numpy as np\n",
    "\n",
    "# 2. Priprava dat/stiahnutie dat/ziskanie dat/generovanie dat\n",
    "x = np.random.normal(50, 10, 10000)\n",
    "\n",
    "fig, ax = plt.subplots()\n",
    "ax.hist(x)\n",
    "plt.show()"
   ],
   "execution_count": 63,
   "outputs": [
    {
     "data": {
      "image/png": "[encoded data removed]"
     },
     "metadata": {
      "image/png": {}
     },
     "output_type": "display_data"
    }
   ],
   "metadata": {
    "datalore": {
     "node_id": "eiWOFgohjKkg27dWDjVvfR",
     "type": "CODE",
     "hide_input_from_viewers": false,
     "hide_output_from_viewers": false,
     "report_properties": {
      "rowId": "HILTdb7mG4v80s6SHesxY7"
     }
    }
   }
  },
  {
   "cell_type": "code",
   "source": [
    "# 1. Inicializacia kniznic/modul\n",
    "import matplotlib.pyplot as plt\n",
    "import numpy as np\n",
    "\n",
    "# 2. Priprava dat/stiahnutie dat/ziskanie dat/generovanie dat\n",
    "x = np.random.normal(0, 1, (100,2))\n",
    "\n",
    "fig, ax = plt.subplots()\n",
    "ax.boxplot(x)\n",
    "plt.show()"
   ],
   "execution_count": 66,
   "outputs": [
    {
     "data": {
      "image/png": "[encoded data removed]"
     },
     "metadata": {
      "image/png": {}
     },
     "output_type": "display_data"
    }
   ],
   "metadata": {
    "datalore": {
     "node_id": "sUuqFI2FJ6QVK7amQNKCbj",
     "type": "CODE",
     "hide_input_from_viewers": false,
     "hide_output_from_viewers": false,
     "report_properties": {
      "rowId": "piFepyW9JQBjGesRNWdPHa"
     }
    }
   }
  },
  {
   "cell_type": "markdown",
   "source": [
    "# Loc (Location) Umiestnenie title"
   ],
   "attachments": {},
   "metadata": {
    "datalore": {
     "node_id": "M4szRJMM42JbIK04dMFwCo",
     "type": "MD",
     "hide_input_from_viewers": false,
     "hide_output_from_viewers": false,
     "report_properties": {
      "rowId": "X6nqi3oJwt16DJftTl0Z0q"
     }
    }
   }
  },
  {
   "cell_type": "code",
   "source": [
    " "
   ],
   "execution_count": 49,
   "outputs": [
    {
     "data": {
      "image/png": "[encoded data removed]"
     },
     "metadata": {
      "image/png": {}
     },
     "output_type": "display_data"
    }
   ],
   "metadata": {
    "datalore": {
     "node_id": "li3nQ6BRP7RdJzCIGD2OT9",
     "type": "CODE",
     "hide_input_from_viewers": false,
     "hide_output_from_viewers": false,
     "report_properties": {
      "rowId": "05Cu7Nw9CpGsa9aW93eKFA"
     }
    }
   }
  },
  {
   "cell_type": "markdown",
   "source": [
    "# Fontsize, Color, Style - Veľkosť, farba, štýl textu"
   ],
   "attachments": {},
   "metadata": {
    "datalore": {
     "node_id": "v4AkIRfBMDsNIn0Pw2KOuo",
     "type": "MD",
     "hide_input_from_viewers": false,
     "hide_output_from_viewers": false,
     "report_properties": {
      "rowId": "CJU41iHhNU085OV3ueY0PG"
     }
    }
   }
  },
  {
   "cell_type": "code",
   "source": [
    " "
   ],
   "execution_count": 59,
   "outputs": [
    {
     "data": {
      "image/png": "[encoded data removed]"
     },
     "metadata": {
      "image/png": {}
     },
     "output_type": "display_data"
    }
   ],
   "metadata": {
    "datalore": {
     "node_id": "Jia3CatgVFtyxN0elofPY2",
     "type": "CODE",
     "hide_input_from_viewers": false,
     "hide_output_from_viewers": false,
     "report_properties": {
      "rowId": "OOGPy5OMyaVQSFQgwsNSSK"
     }
    }
   }
  },
  {
   "cell_type": "markdown",
   "source": [
    "# Matematické Výrazy"
   ],
   "attachments": {},
   "metadata": {
    "datalore": {
     "node_id": "JMamYx8KIa9JSid4svKoG5",
     "type": "MD",
     "hide_input_from_viewers": false,
     "hide_output_from_viewers": false,
     "report_properties": {
      "rowId": "CjgWXCSVrTczqlFotxVOXu"
     }
    }
   }
  },
  {
   "cell_type": "code",
   "source": [
    " "
   ],
   "execution_count": 1,
   "outputs": [
    {
     "data": {
      "image/png": "[encoded data removed]"
     },
     "metadata": {
      "image/png": {}
     },
     "output_type": "display_data"
    }
   ],
   "metadata": {
    "datalore": {
     "node_id": "eTwgzddnJxiCXug1b6r5M0",
     "type": "CODE",
     "hide_input_from_viewers": false,
     "hide_output_from_viewers": false,
     "report_properties": {
      "rowId": "djVznlnjdEwp9DpWqJCd58"
     }
    }
   }
  },
  {
   "cell_type": "code",
   "source": [
    " "
   ],
   "execution_count": 79,
   "outputs": [
    {
     "data": {
      "image/png": "[encoded data removed]"
     },
     "metadata": {
      "image/png": {}
     },
     "output_type": "display_data"
    }
   ],
   "metadata": {
    "datalore": {
     "node_id": "6X0NB2lxILO3qaWSVUXJMU",
     "type": "CODE",
     "hide_input_from_viewers": false,
     "hide_output_from_viewers": false,
     "report_properties": {
      "rowId": "XNnoBuYVjp4XptuOzsnllh"
     }
    }
   }
  },
  {
   "cell_type": "code",
   "source": [
    " "
   ],
   "execution_count": 112,
   "outputs": [
    {
     "data": {
      "image/png": "[encoded data removed]"
     },
     "metadata": {
      "image/png": {}
     },
     "output_type": "display_data"
    }
   ],
   "metadata": {
    "datalore": {
     "node_id": "SJ73cxypclDffVGRmVASuf",
     "type": "CODE",
     "hide_input_from_viewers": false,
     "hide_output_from_viewers": false,
     "report_properties": {
      "rowId": "SZ4tB7Mrwqg6y4Ep90mk03"
     }
    }
   }
  },
  {
   "cell_type": "code",
   "source": [
    " "
   ],
   "execution_count": 132,
   "outputs": [
    {
     "data": {
      "image/png": "[encoded data removed]"
     },
     "metadata": {
      "image/png": {}
     },
     "output_type": "display_data"
    }
   ],
   "metadata": {
    "datalore": {
     "node_id": "RepLhnHWp7XrGkHfvXgbt4",
     "type": "CODE",
     "hide_input_from_viewers": false,
     "hide_output_from_viewers": false,
     "report_properties": {
      "rowId": "SEP0IYSTXURbeKKiUMzukE"
     }
    }
   }
  },
  {
   "cell_type": "code",
   "source": [
    " "
   ],
   "execution_count": 120,
   "outputs": [
    {
     "data": {
      "image/png": "[encoded data removed]"
     },
     "metadata": {
      "image/png": {}
     },
     "output_type": "display_data"
    }
   ],
   "metadata": {
    "datalore": {
     "node_id": "Py8EzHZXJUfN7lPZswkrSj",
     "type": "CODE",
     "hide_input_from_viewers": false,
     "hide_output_from_viewers": false,
     "report_properties": {
      "rowId": "mbdbzZklzOhFA9VaNO2LuF"
     }
    }
   }
  },
  {
   "cell_type": "markdown",
   "source": [
    "# Numpy"
   ],
   "attachments": {},
   "metadata": {
    "datalore": {
     "node_id": "Numpy",
     "type": "MD",
     "hide_input_from_viewers": false,
     "hide_output_from_viewers": false,
     "sheet_delimiter": true
    }
   }
  },
  {
   "cell_type": "markdown",
   "source": [
    "## 🚀 NumPy\n",
    "knižnica jazyka Python, ktorá poskytuje infraštruktúru pre prácu s vektormi, maticami a všeobecne viacrozmernými poliami."
   ],
   "attachments": {},
   "metadata": {
    "datalore": {
     "node_id": "mEBWcHZ4v8C6bXnIVxwFUs",
     "type": "MD",
     "hide_input_from_viewers": true,
     "hide_output_from_viewers": true
    }
   }
  }
 ],
 "metadata": {
  "kernelspec": {
   "display_name": "Python",
   "language": "python",
   "name": "python"
  },
  "datalore": {
   "computation_mode": "JUPYTER",
   "package_manager": "pip",
   "base_environment": "default",
   "packages": [
    {
     "name": "bonobo",
     "source": "PIP"
    },
    {
     "name": "cowsay",
     "version": "6.1",
     "source": "PIP"
    }
   ],
   "report_row_ids": [
    "BuaxZHVowM1NDgIm5SGTW6",
    "nT01gqoCPDuxVxR1lZEjaG",
    "HnEJbqSEA5YeuN0S9J1MeG",
    "dt5hnZzXUFlltVlRnzQ6cE",
    "iF77wHN3KjirO3UBNMvq29",
    "fkCSJJhXTqtJ0foV4CZkjt",
    "E9cX2hSUAeBjar0TwM5syB",
    "csTaUBzwY1G6f6IoNz36lu",
    "WBOAojo2SfYR7FtzUsMDna",
    "4Ml2nJBg3YA5b888QcDtvX",
    "OUKhS7mp8fwrY3964Ez5y2",
    "m2yJ0WSWZS9uU0PymTdk79",
    "g0B6TRajuZsVSDETVtF4XR",
    "dLyUYYqxeb0pGMnsTKYOJk",
    "XmrrntkpfqpOEv14b1AWu4",
    "xdvYR1r5V3JHEb1AKLtndL",
    "2Bx7dAyMwfFgln8QkHrpJq",
    "YLZVSgnIbSmavWbowrdS8q",
    "g7KfLAHAMyhSnO4Na3rtV2",
    "xS8HaGjyVIprXoHLzaZeG6",
    "yDnUZRdNbM8mTn9X47mDZP",
    "DDn7df11BmiRIZOvOfmH3x",
    "S0Db82KeEH6AMyZTsAzoNq",
    "OtQfIcnqT3bqgAGqS1GBrC",
    "ODTjgljc4F3gclXmhwTVSu",
    "U8WIV4tF0QEKHBplKZyDbc",
    "9nUi8dnJaJs1hA8dxPH3Hl",
    "PFqY3pQMHxzDThg6JKK739",
    "FMUGO3BhTNVzCt2y6deLRi",
    "RgqbOcIgNklcFGM46c39fN",
    "6V665QJ9YOu9wzx7OCKIhb",
    "myhhnezgQ0zvYlWpblthei",
    "y4aNfeuepxv0VtxamAA5vR",
    "micetiPPogLZ8yu6ioRsxF",
    "jBbIE1LidcCwStSAPH686f",
    "FHLb1t5D4UzHBPFKU8z9be",
    "HILTdb7mG4v80s6SHesxY7",
    "piFepyW9JQBjGesRNWdPHa",
    "X6nqi3oJwt16DJftTl0Z0q",
    "05Cu7Nw9CpGsa9aW93eKFA",
    "CJU41iHhNU085OV3ueY0PG",
    "OOGPy5OMyaVQSFQgwsNSSK",
    "CjgWXCSVrTczqlFotxVOXu",
    "djVznlnjdEwp9DpWqJCd58",
    "XNnoBuYVjp4XptuOzsnllh",
    "SZ4tB7Mrwqg6y4Ep90mk03",
    "SEP0IYSTXURbeKKiUMzukE",
    "mbdbzZklzOhFA9VaNO2LuF",
    "L7c9OdwRdJCrVIJjBI9FTE",
    "rruqSWkjmMnZ2BIvB3MSgX",
    "titqCmfkhMtEm1p8NjaGqC",
    "p9DgjhAmfNTcIvw8PlvEvn",
    "1AGXVeheUwlx0CoYOKaVos",
    "qTSjJR9z2qsSoz8xBd2Ixz",
    "MiCZDHRulYDa8k83MEERnW",
    "q6WzQrLyYicFIz3mhHX9rh",
    "uCjThPLnrYKsUJWnC8Rdbc",
    "0YQg2poAuoghVGOMNpoiNy",
    "G7EWHNHgoSNB0QBANJfxs3",
    "S8iYHru66vQ4dKnsKHWIqm",
    "5kv1w4O5BsIKftFfvTYt9R",
    "QVcZYHEOXcko9BWCtk55bz",
    "aJP3y2yXBzjJFE1t5NJMIN",
    "JW6knZSqV20BbILMOudfR1",
    "PCzzRbx4j9O16J55u6XezX",
    "lIsaieeolgRO4Vobl2iJSN",
    "aTu6IdH6uXEwUIlBHYhTcy"
   ],
   "version": 3
  }
 },
 "nbformat": 4,
 "nbformat_minor": 4
}
