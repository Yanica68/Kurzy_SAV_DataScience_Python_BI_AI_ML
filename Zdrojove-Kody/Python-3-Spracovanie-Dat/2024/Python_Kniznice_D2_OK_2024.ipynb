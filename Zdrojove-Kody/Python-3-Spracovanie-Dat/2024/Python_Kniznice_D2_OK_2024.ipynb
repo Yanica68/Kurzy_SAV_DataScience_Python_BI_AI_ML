{
 "cells": [
  {
   "cell_type": "markdown",
   "source": [
    "# Knižnice"
   ],
   "attachments": {},
   "metadata": {
    "datalore": {
     "node_id": "Knižnice",
     "type": "MD",
     "hide_input_from_viewers": false,
     "hide_output_from_viewers": false,
     "sheet_delimiter": true
    }
   }
  },
  {
   "cell_type": "markdown",
   "source": [
    "## 🐍 Kurz Python Knižnice (Spracovanie a Vizualizácia Dát)\n",
    "**🧑‍🏫 Lektor:** Miroslav Reiter  \n",
    "**📥 LinkedIn kontakt:** https://www.linkedin.com/in/miroslav-reiter/  \n",
    "\n",
    "`*Testovaci* **Text**`\n",
    "\n",
    "**✅ Osnova:** https://itkurzy.sav.sk/node/110 \n",
    "\n",
    "**🎞️ YouTube videá:** https://www.youtube.com/c/IT-AcademySK  \n",
    "**📇 Zdrojové kódy a materiály:** https://github.com/miroslav-reiter/Kurzy_SAV_Analytika_Python_R  \n",
    "\n",
    "**😊 Emojis:** Win + .  "
   ],
   "attachments": {},
   "metadata": {
    "datalore": {
     "node_id": "gtjaH8gOiCJE2ArnONNN4I",
     "type": "MD",
     "hide_input_from_viewers": false,
     "hide_output_from_viewers": false,
     "report_properties": {
      "rowId": "BuaxZHVowM1NDgIm5SGTW6"
     }
    }
   }
  },
  {
   "cell_type": "markdown",
   "source": [
    "# ⚒️ Používané nástroje dátovej analýzy\n",
    "- 🐍 **Python** - momentálne najpopulárnejší jazyk pre vedu o údajoch (Data science). Python je síce interpretovaný a pomalší jazyk ako C/C++, ale využitím knižníc, ako je NumPy (a Pandas navyše), sa môžeme priblížiť rýchlosti C.  \n",
    "  \n",
    "- 🪐 **Jupyter** - nástroj s prostredím interaktívneho notebooku, mocný prieskumný, vizualizačný a komunikačný nástroj.\n",
    "  \n",
    "- 🐼 **Pandas** - nástroj na manipuláciu s tabuľkovými údajmi v Pythone. Je to obrovská knižnica, ale ak poznáte správne metódy, môžeme vytvoriť výkonnú analýzu.\n",
    "  \n",
    "- 📊 **Matplotlib** - grafická knižnica s rôznymi grafmi a vizualizáciami. V spojení s Pandas a Jupyter môžeme rýchlo získať prehľad o našich údajoch.  \n",
    "  \n",
    "- 🚀 **Numpy** - knižnica jazyka Python, ktorá poskytuje infraštruktúru pre prácu s vektormi, maticami a všeobecne viacrozmernými poliami.\n",
    "\n",
    "😎 Existuje 300 000+ knižníc pre Python.  "
   ],
   "attachments": {},
   "metadata": {
    "datalore": {
     "node_id": "HlJXCNvBPNinkUIhkHUYU9",
     "type": "MD",
     "hide_input_from_viewers": false,
     "hide_output_from_viewers": false,
     "report_properties": {
      "rowId": "nT01gqoCPDuxVxR1lZEjaG"
     }
    }
   }
  },
  {
   "cell_type": "markdown",
   "source": [
    "# 📚 PIP, Knižnice a ich verzie \n",
    "**PIP (package installer for Python)** - Správca Balíčkov pre moduly programovacieho jazyka Python, Tiež napísaný v Pythone, Licencia MIT.  \n",
    "Dokumentácia PIP: https://pip.pypa.io/en/stable/\n",
    "\n",
    "**PyPI (The Python Package Index)** - Repozitár/úložisko softvéru pre programovací jazyk Python  \n",
    "https://pypi.org\n",
    "1"
   ],
   "attachments": {},
   "metadata": {
    "datalore": {
     "node_id": "utjXvhnaVEZx0y9tcUL1AW",
     "type": "MD",
     "hide_input_from_viewers": false,
     "hide_output_from_viewers": false,
     "report_properties": {
      "rowId": "HnEJbqSEA5YeuN0S9J1MeG"
     }
    }
   }
  },
  {
   "cell_type": "code",
   "source": [
    "# !pip list\n",
    "!pip install countryinfo"
   ],
   "execution_count": 2,
   "outputs": [
    {
     "name": "stdout",
     "text": [
      "Collecting countryinfo\r\n",
      "  Downloading countryinfo-0.1.2-py3-none-any.whl (602 kB)\r\n",
      "\u001B[?25l     \u001B[90m━━━━━━━━━━━━━━━━━━━━━━━━━━━━━━━━━━━━━━━━\u001B[0m \u001B[32m0.0/602.2 kB\u001B[0m \u001B[31m?\u001B[0m eta \u001B[36m-:--:--\u001B[0m\r\u001B[2K     \u001B[90m━━━━━━━━━━━━━━━━━━━━━━━━━━━━━━━━━━━━━━\u001B[0m \u001B[32m602.2/602.2 kB\u001B[0m \u001B[31m37.4 MB/s\u001B[0m eta \u001B[36m0:00:00\u001B[0m\r\n",
      "\u001B[?25hInstalling collected packages: countryinfo\r\n",
      "Successfully installed countryinfo-0.1.2\r\n",
      "\r\n",
      "\u001B[1m[\u001B[0m\u001B[34;49mnotice\u001B[0m\u001B[1;39;49m]\u001B[0m\u001B[39;49m A new release of pip is available: \u001B[0m\u001B[31;49m23.1.2\u001B[0m\u001B[39;49m -> \u001B[0m\u001B[32;49m23.3.1\u001B[0m\r\n",
      "\u001B[1m[\u001B[0m\u001B[34;49mnotice\u001B[0m\u001B[1;39;49m]\u001B[0m\u001B[39;49m To update, run: \u001B[0m\u001B[32;49mpip install --upgrade pip\u001B[0m\r\n"
     ],
     "output_type": "stream"
    }
   ],
   "metadata": {
    "datalore": {
     "node_id": "9qcpLqqMxlDm2F9q53LHot",
     "type": "CODE",
     "hide_input_from_viewers": false,
     "hide_output_from_viewers": false,
     "report_properties": {
      "rowId": "dt5hnZzXUFlltVlRnzQ6cE"
     }
    }
   }
  },
  {
   "cell_type": "code",
   "source": [
    "!pip list"
   ],
   "execution_count": 3,
   "outputs": [
    {
     "name": "stdout",
     "text": [
      "Package                       Version\r\n",
      "----------------------------- ----------------\r\n",
      "absl-py                       2.0.0\r\n",
      "aiohttp                       3.8.4\r\n",
      "aiosignal                     1.3.1\r\n",
      "alabaster                     0.7.13\r\n",
      "annotated-types               0.6.0\r\n",
      "anyio                         3.7.1\r\n",
      "argon2-cffi                   23.1.0\r\n",
      "argon2-cffi-bindings          21.2.0\r\n",
      "astunparse                    1.6.3\r\n",
      "async-timeout                 4.0.3\r\n",
      "attrs                         23.1.0\r\n",
      "Babel                         2.13.0\r\n",
      "backcall                      0.2.0\r\n",
      "beautifulsoup4                4.12.2\r\n",
      "bleach                        6.1.0\r\n",
      "blis                          0.7.11\r\n",
      "bokeh                         3.1.1\r\n",
      "boto3                         1.26.133\r\n",
      "botocore                      1.29.165\r\n",
      "cachetools                    5.3.1\r\n",
      "catalogue                     2.0.10\r\n",
      "certifi                       2023.7.22\r\n",
      "cffi                          1.16.0\r\n",
      "charset-normalizer            3.3.0\r\n",
      "click                         8.1.7\r\n",
      "click-plugins                 1.1.1\r\n",
      "cligj                         0.7.2\r\n",
      "cloudpathlib                  0.15.1\r\n",
      "cmake                         3.27.6\r\n",
      "confection                    0.1.3\r\n",
      "contourpy                     1.1.1\r\n",
      "countryinfo                   0.1.2\r\n",
      "cycler                        0.12.1\r\n",
      "cymem                         2.0.8\r\n",
      "decorator                     5.1.1\r\n",
      "defusedxml                    0.7.1\r\n",
      "descartes                     1.1.0\r\n",
      "docutils                      0.20.1\r\n",
      "duckdb                        0.7.1\r\n",
      "exceptiongroup                1.1.3\r\n",
      "fastai                        2.7.12\r\n",
      "fastcore                      1.5.29\r\n",
      "fastdownload                  0.0.7\r\n",
      "fastjsonschema                2.18.1\r\n",
      "fastprogress                  1.0.3\r\n",
      "filelock                      3.12.4\r\n",
      "Fiona                         1.9.3\r\n",
      "flatbuffers                   23.5.26\r\n",
      "fonttools                     4.43.1\r\n",
      "frozenlist                    1.4.0\r\n",
      "fsspec                        2023.9.2\r\n",
      "gast                          0.4.0\r\n",
      "gensim                        4.3.1\r\n",
      "geopandas                     0.13.0\r\n",
      "google-auth                   2.23.3\r\n",
      "google-auth-oauthlib          0.4.6\r\n",
      "google-pasta                  0.2.0\r\n",
      "greenlet                      3.0.0\r\n",
      "grpcio                        1.59.0\r\n",
      "h5py                          3.10.0\r\n",
      "huggingface-hub               0.18.0\r\n",
      "idna                          3.4\r\n",
      "imageio                       2.31.5\r\n",
      "imagesize                     1.4.1\r\n",
      "importlib-metadata            6.8.0\r\n",
      "importlib-resources           6.1.0\r\n",
      "ipykernel                     5.5.3\r\n",
      "ipython                       7.31.1\r\n",
      "ipython-genutils              0.2.0\r\n",
      "ipywidgets                    7.6.5\r\n",
      "jedi                          0.17.2\r\n",
      "Jinja2                        3.1.2\r\n",
      "jmespath                      1.0.1\r\n",
      "joblib                        1.3.2\r\n",
      "jsonschema                    4.19.1\r\n",
      "jsonschema-specifications     2023.7.1\r\n",
      "jupyter-client                6.1.12\r\n",
      "jupyter_core                  5.4.0\r\n",
      "jupyter-server                1.24.0\r\n",
      "jupyterlab-pygments           0.2.2\r\n",
      "jupyterlab-widgets            3.0.9\r\n",
      "keras                         2.10.0\r\n",
      "Keras-Preprocessing           1.1.2\r\n",
      "kiwisolver                    1.4.5\r\n",
      "kotlin-jupyter-kernel         0.11.0.377\r\n",
      "langcodes                     3.3.0\r\n",
      "lazy_loader                   0.3\r\n",
      "lets-plot                     4.0.1\r\n",
      "libclang                      16.0.6\r\n",
      "lit                           17.0.2\r\n",
      "lxml                          4.9.2\r\n",
      "Markdown                      3.5\r\n",
      "MarkupSafe                    2.1.3\r\n",
      "matplotlib                    3.7.1\r\n",
      "matplotlib-inline             0.1.6\r\n",
      "mistune                       3.0.2\r\n",
      "mpmath                        1.3.0\r\n",
      "multidict                     6.0.4\r\n",
      "munch                         4.0.0\r\n",
      "murmurhash                    1.0.10\r\n",
      "nbclassic                     1.0.0\r\n",
      "nbclient                      0.8.0\r\n",
      "nbconvert                     7.9.2\r\n",
      "nbformat                      5.8.0\r\n",
      "nest-asyncio                  1.5.8\r\n",
      "networkx                      3.1\r\n",
      "notebook                      6.5.6\r\n",
      "notebook_shim                 0.2.3\r\n",
      "numpy                         1.24.3\r\n",
      "numpydoc                      1.5.0\r\n",
      "oauthlib                      3.2.2\r\n",
      "opencv-python-headless        4.7.0.72\r\n",
      "opt-einsum                    3.3.0\r\n",
      "packaging                     23.2\r\n",
      "palettable                    3.3.3\r\n",
      "pandas                        1.5.3\r\n",
      "pandas-datareader             0.10.0\r\n",
      "pandocfilters                 1.5.0\r\n",
      "parso                         0.7.1\r\n",
      "pathy                         0.10.2\r\n",
      "patsy                         0.5.3\r\n",
      "pexpect                       4.8.0\r\n",
      "pickleshare                   0.7.5\r\n",
      "Pillow                        10.0.1\r\n",
      "pip                           23.1.2\r\n",
      "pkgutil_resolve_name          1.3.10\r\n",
      "platformdirs                  3.11.0\r\n",
      "plotly                        5.14.1\r\n",
      "preshed                       3.0.9\r\n",
      "prometheus-client             0.17.1\r\n",
      "prompt-toolkit                3.0.39\r\n",
      "protobuf                      3.19.6\r\n",
      "psycopg2-binary               2.9.6\r\n",
      "ptyprocess                    0.7.0\r\n",
      "py4j                          0.10.9.7\r\n",
      "pyasn1                        0.5.0\r\n",
      "pyasn1-modules                0.3.0\r\n",
      "pycparser                     2.21\r\n",
      "pydantic                      2.4.2\r\n",
      "pydantic_core                 2.10.1\r\n",
      "Pygments                      2.16.1\r\n",
      "PyMySQL                       1.0.3\r\n",
      "pyparsing                     3.1.1\r\n",
      "pypng                         0.20220715.0\r\n",
      "pyproj                        3.5.0\r\n",
      "pyspark                       3.4.0\r\n",
      "python-dateutil               2.8.2\r\n",
      "pytz                          2023.3.post1\r\n",
      "PyWavelets                    1.4.1\r\n",
      "PyYAML                        6.0.1\r\n",
      "pyzmq                         24.0.1\r\n",
      "referencing                   0.30.2\r\n",
      "regex                         2023.10.3\r\n",
      "requests                      2.30.0\r\n",
      "requests-oauthlib             1.3.1\r\n",
      "rpds-py                       0.10.6\r\n",
      "rsa                           4.9\r\n",
      "s3transfer                    0.6.2\r\n",
      "scikit-image                  0.20.0\r\n",
      "scikit-learn                  1.2.2\r\n",
      "scipy                         1.9.1\r\n",
      "seaborn                       0.12.2\r\n",
      "Send2Trash                    1.8.2\r\n",
      "setuptools                    68.2.2\r\n",
      "shapely                       2.0.1\r\n",
      "six                           1.16.0\r\n",
      "smart-open                    6.4.0\r\n",
      "sniffio                       1.3.0\r\n",
      "snowballstemmer               2.2.0\r\n",
      "soupsieve                     2.5\r\n",
      "spacy                         3.7.1\r\n",
      "spacy-legacy                  3.0.12\r\n",
      "spacy-loggers                 1.0.5\r\n",
      "Sphinx                        7.1.2\r\n",
      "sphinxcontrib-applehelp       1.0.4\r\n",
      "sphinxcontrib-devhelp         1.0.2\r\n",
      "sphinxcontrib-htmlhelp        2.0.1\r\n",
      "sphinxcontrib-jsmath          1.0.1\r\n",
      "sphinxcontrib-qthelp          1.0.3\r\n",
      "sphinxcontrib-serializinghtml 1.1.5\r\n",
      "SQLAlchemy                    2.0.13\r\n",
      "srsly                         2.4.8\r\n",
      "statsmodels                   0.14.0\r\n",
      "sympy                         1.12\r\n",
      "tenacity                      8.2.3\r\n",
      "tensorboard                   2.10.1\r\n",
      "tensorboard-data-server       0.6.1\r\n",
      "tensorboard-plugin-wit        1.8.1\r\n",
      "tensorflow-cpu                2.10.1\r\n",
      "tensorflow-estimator          2.10.0\r\n",
      "tensorflow-io-gcs-filesystem  0.34.0\r\n",
      "termcolor                     2.3.0\r\n",
      "terminado                     0.17.1\r\n",
      "thinc                         8.2.1\r\n",
      "threadpoolctl                 3.2.0\r\n",
      "tifffile                      2023.7.10\r\n",
      "tinycss2                      1.2.1\r\n",
      "tokenizers                    0.13.3\r\n",
      "torch                         2.0.1+cu117\r\n",
      "torchvision                   0.15.2+rocm5.4.2\r\n",
      "tornado                       6.3.3\r\n",
      "tqdm                          4.66.1\r\n",
      "traitlets                     5.11.2\r\n",
      "transformers                  4.29.1\r\n",
      "triton                        2.0.0\r\n",
      "typer                         0.9.0\r\n",
      "typing_extensions             4.8.0\r\n",
      "urllib3                       1.26.17\r\n",
      "wasabi                        1.1.2\r\n",
      "wcwidth                       0.2.8\r\n",
      "weasel                        0.3.2\r\n",
      "webencodings                  0.5.1\r\n",
      "websocket-client              1.6.4\r\n",
      "Werkzeug                      3.0.0\r\n",
      "wheel                         0.41.2\r\n",
      "widgetsnbextension            3.5.2\r\n",
      "wrapt                         1.15.0\r\n",
      "xgboost                       1.7.5\r\n",
      "xlrd                          2.0.1\r\n",
      "xyzservices                   2023.10.0\r\n",
      "yarl                          1.9.2\r\n",
      "zipp                          3.17.0\r\n",
      "\r\n",
      "\u001B[1m[\u001B[0m\u001B[34;49mnotice\u001B[0m\u001B[1;39;49m]\u001B[0m\u001B[39;49m A new release of pip is available: \u001B[0m\u001B[31;49m23.1.2\u001B[0m\u001B[39;49m -> \u001B[0m\u001B[32;49m23.3.1\u001B[0m\r\n",
      "\u001B[1m[\u001B[0m\u001B[34;49mnotice\u001B[0m\u001B[1;39;49m]\u001B[0m\u001B[39;49m To update, run: \u001B[0m\u001B[32;49mpip install --upgrade pip\u001B[0m\r\n"
     ],
     "output_type": "stream"
    }
   ],
   "metadata": {
    "datalore": {
     "node_id": "Qf2fGBT29Tp85ig2h3H6be",
     "type": "CODE",
     "hide_input_from_viewers": false,
     "hide_output_from_viewers": false,
     "report_properties": {
      "rowId": "iF77wHN3KjirO3UBNMvq29"
     }
    }
   }
  },
  {
   "cell_type": "code",
   "source": [
    "import pprint\n",
    "# import countryinfo\n",
    "\n",
    "from countryinfo import CountryInfo\n",
    "\n",
    "#kraj = CountryInfo(\"Singapore\")\n",
    "kraj = CountryInfo(\"Slovakia\")\n",
    "print(f\"Slovakia: {kraj.info()}\")\n",
    "print(f\"Slovakia Hlavne mesto: {kraj.capital()}\")\n",
    "print(f\"Slovakia hranice: {kraj.borders()}\")\n",
    "print(f\"Slovakia pocet obyvatelov: {kraj.population()}\")"
   ],
   "execution_count": 12,
   "outputs": [
    {
     "name": "stdout",
     "text": [
      "Slovakia: {'name': 'Slovakia', 'altSpellings': ['SK', 'Slovak Republic', 'Slovenská republika'], 'area': 49037, 'borders': ['AUT', 'CZE', 'HUN', 'POL', 'UKR'], 'callingCodes': ['421'], 'capital': 'Bratislava', 'capital_latlng': [48.151699, 17.109306], 'currencies': ['EUR'], 'demonym': 'Slovak', 'flag': '', 'geoJSON': {'type': 'FeatureCollection', 'features': [{'type': 'Feature', 'id': 'SVK', 'properties': {'name': 'Slovakia'}, 'geometry': {'type': 'Polygon', 'coordinates': [[[18.853144, 49.49623], [18.909575, 49.435846], [19.320713, 49.571574], [19.825023, 49.217125], [20.415839, 49.431453], [20.887955, 49.328772], [21.607808, 49.470107], [22.558138, 49.085738], [22.280842, 48.825392], [22.085608, 48.422264], [21.872236, 48.319971], [20.801294, 48.623854], [20.473562, 48.56285], [20.239054, 48.327567], [19.769471, 48.202691], [19.661364, 48.266615], [19.174365, 48.111379], [18.777025, 48.081768], [18.696513, 47.880954], [17.857133, 47.758429], [17.488473, 47.867466], [16.979667, 48.123497], [16.879983, 48.470013], [16.960288, 48.596982], [17.101985, 48.816969], [17.545007, 48.800019], [17.886485, 48.903475], [17.913512, 48.996493], [18.104973, 49.043983], [18.170498, 49.271515], [18.399994, 49.315001], [18.554971, 49.495015], [18.853144, 49.49623]]]}}]}, 'ISO': {'alpha2': 'SK', 'alpha3': 'SVK'}, 'languages': ['sk'], 'latlng': [48.66666666, 19.5], 'nativeName': 'Slovensko', 'population': 5415949, 'provinces': ['Banskobystricky', 'Bratislavsky', 'Kosicky', 'Nitriansky', 'Presovsky', 'Trenciansky', 'Trnavsky', 'Zilinsky'], 'region': 'Europe', 'subregion': 'Eastern Europe', 'timezones': ['UTC+01:00'], 'tld': ['.sk'], 'translations': {'de': 'Slowakei', 'es': 'República Eslovaca', 'fr': 'Slovaquie', 'ja': 'スロバキア', 'it': 'Slovacchia'}, 'wiki': 'http://en.wikipedia.org/wiki/slovakia'}\n",
      "Slovakia Hlavne mesto: Bratislava\n",
      "Slovakia hranice: ['AUT', 'CZE', 'HUN', 'POL', 'UKR']\n",
      "Slovakia pocet obyvatelov: 5415949\n"
     ],
     "output_type": "stream"
    },
    {
     "name": "stderr",
     "text": [
      "\n"
     ],
     "output_type": "stream"
    },
    {
     "ename": "TypeError",
     "evalue": "'module' object is not callable",
     "traceback": [
      "\u001B[0;31m---------------------------------------------------------------------------",
      "Traceback (most recent call last)",
      "'module' object is not callable"
     ],
     "output_type": "error"
    }
   ],
   "metadata": {
    "datalore": {
     "node_id": "vXhEMhQaQDN2QTvhMIF6rf",
     "type": "CODE",
     "hide_input_from_viewers": false,
     "hide_output_from_viewers": false,
     "report_properties": {
      "rowId": "fkCSJJhXTqtJ0foV4CZkjt"
     }
    }
   }
  },
  {
   "cell_type": "markdown",
   "source": [
    "# 💀 Spracovanie Chýb (Exception - Výnimiek), Údajov, Dátového Toku\n",
    "try - except - finally  \n",
    "\n",
    "https://docs.python.org/3/tutorial/errors.html "
   ],
   "attachments": {},
   "metadata": {
    "datalore": {
     "node_id": "O6f5kWGeujRXtOQVWAlLTl",
     "type": "MD",
     "hide_input_from_viewers": false,
     "hide_output_from_viewers": false,
     "report_properties": {
      "rowId": "E9cX2hSUAeBjar0TwM5syB"
     }
    }
   }
  },
  {
   "cell_type": "code",
   "source": [
    "try:\n",
    "    # Dataframes (Datove Ramce) = Tabulky\n",
    "    # Uzitocne metody import, export, statistiky\n",
    "    import pandas as pd\n",
    "    # Grafy, Diagramy, Vizualizacie\n",
    "    import matplotlib.pyplot as plt\n",
    "    # Vysoka matematika, VVP, polia (array), matice (matrix)\n",
    "    import numpy as np\n",
    "    # Parsovanie, stahovanie udajov z webstranok scraping\n",
    "    import pyparsing as pp\n",
    "    #import bonobo\n",
    "\n",
    "    print(\"TRY:\")\n",
    "    print(\"✅ Moduly/kniznice boli nacitane\")\n",
    "    print(f\"Pandas verzia: {pd.__version__}\")\n",
    "    print(f\"Numpy verzia: {np.__version__}\")\n",
    "    print(f\"pyparsing verzia: {pp.__version__}\")\n",
    "\n",
    "except:\n",
    "    print(\"EXCEPT: Moduly/Kniznice neboli nacitane, nastala chyba...\")\n",
    "\n",
    "finally:\n",
    "    print(\"\\nFINALLY: Tento text sa vypise vzdy\")"
   ],
   "execution_count": 1,
   "outputs": [
    {
     "name": "stdout",
     "text": [
      "TRY:\n",
      "✅ Moduly/kniznice boli nacitane\n",
      "Pandas verzia: 1.5.3\n",
      "Numpy verzia: 1.24.3\n",
      "pyparsing verzia: 3.1.2\n",
      "\n",
      "FINALLY: Tento text sa vypise vzdy\n"
     ],
     "output_type": "stream"
    }
   ],
   "metadata": {
    "datalore": {
     "node_id": "xxC61eI2Oqyzy8GmzzwrET",
     "type": "CODE",
     "hide_input_from_viewers": false,
     "hide_output_from_viewers": false,
     "report_properties": {
      "rowId": "csTaUBzwY1G6f6IoNz36lu"
     }
    }
   }
  },
  {
   "cell_type": "code",
   "source": [
    "while True:\n",
    "    try:\n",
    "        cislo = int(input(\"Zadaj nejake cislo: \"))\n",
    "        print(f\"Cislo: {cislo}\")\n",
    "        break\n",
    "    except ValueError:\n",
    "        print(f\"Zadaj platne cislo a nie retazec...\")"
   ],
   "execution_count": 28,
   "outputs": [
    {
     "name": "stdout",
     "text": [
      "Zadaj nejake cislo:  karol\n",
      "Zadaj platne cislo a nie retazec...\n",
      "Zadaj nejake cislo:    \n",
      "Zadaj platne cislo a nie retazec...\n",
      "Zadaj nejake cislo:  47\n",
      "Cislo: 47\n"
     ],
     "output_type": "stream"
    }
   ],
   "metadata": {
    "datalore": {
     "node_id": "pJKsT83yGfF6ZUc2u9NzI6",
     "type": "CODE",
     "hide_input_from_viewers": false,
     "hide_output_from_viewers": false,
     "report_properties": {
      "rowId": "WBOAojo2SfYR7FtzUsMDna"
     }
    }
   }
  },
  {
   "cell_type": "markdown",
   "source": [
    "# Pandas Úvod"
   ],
   "attachments": {},
   "metadata": {
    "datalore": {
     "node_id": "Pandas Úvod",
     "type": "MD",
     "hide_input_from_viewers": false,
     "hide_output_from_viewers": false,
     "sheet_delimiter": true
    }
   }
  },
  {
   "cell_type": "markdown",
   "source": [
    "# 🐼 Pandas (Python Data Analysis Library)\n",
    "\n",
    "- Nástroj na manipuláciu s tabuľkovými údajmi v Pythone. \n",
    "- Je to obrovská knižnica, ale ak používate správne metódy, môžeme vytvoriť výkonné analýzy údajov.\n"
   ],
   "attachments": {},
   "metadata": {
    "datalore": {
     "node_id": "iwhhjraiHtYOrngrYu20CF",
     "type": "MD",
     "hide_input_from_viewers": true,
     "hide_output_from_viewers": true
    }
   }
  },
  {
   "cell_type": "markdown",
   "source": [
    "## Vytvorenie DataFrame a Series"
   ],
   "attachments": {},
   "metadata": {
    "datalore": {
     "node_id": "7B4nGocVceNZdDsznYFwiv",
     "type": "MD",
     "hide_input_from_viewers": true,
     "hide_output_from_viewers": true
    }
   }
  },
  {
   "cell_type": "code",
   "source": [
    "import pandas as pd\n",
    "\n",
    "# Vytvorenie Series\n",
    "data_series = pd.Series([1, 3, 5, 7, 9])\n",
    "\n",
    "# Vytvorenie DataFrame\n",
    "data_frame = pd.DataFrame({\n",
    "    'Stĺpec 1': [1, 2, 3, 4, 5],\n",
    "    'Stĺpec 2': ['a', 'b', 'c', 'd', 'e']\n",
    "})\n",
    "\n",
    "data_series\n",
    "data_frame "
   ],
   "execution_count": 3,
   "outputs": [
    {
     "data": {
      "text/html": [
       "<div>\n",
       "<style scoped>\n",
       "    .dataframe tbody tr th:only-of-type {\n",
       "        vertical-align: middle;\n",
       "    }\n",
       "\n",
       "    .dataframe tbody tr th {\n",
       "        vertical-align: top;\n",
       "    }\n",
       "\n",
       "    .dataframe thead th {\n",
       "        text-align: right;\n",
       "    }\n",
       "</style>\n",
       "<table border=\"1\" class=\"dataframe\">\n",
       "  <thead>\n",
       "    <tr style=\"text-align: right;\">\n",
       "      <th></th>\n",
       "      <th>Stĺpec 1</th>\n",
       "      <th>Stĺpec 2</th>\n",
       "    </tr>\n",
       "  </thead>\n",
       "  <tbody>\n",
       "    <tr>\n",
       "      <th>0</th>\n",
       "      <td>1</td>\n",
       "      <td>a</td>\n",
       "    </tr>\n",
       "    <tr>\n",
       "      <th>1</th>\n",
       "      <td>2</td>\n",
       "      <td>b</td>\n",
       "    </tr>\n",
       "    <tr>\n",
       "      <th>2</th>\n",
       "      <td>3</td>\n",
       "      <td>c</td>\n",
       "    </tr>\n",
       "    <tr>\n",
       "      <th>3</th>\n",
       "      <td>4</td>\n",
       "      <td>d</td>\n",
       "    </tr>\n",
       "    <tr>\n",
       "      <th>4</th>\n",
       "      <td>5</td>\n",
       "      <td>e</td>\n",
       "    </tr>\n",
       "  </tbody>\n",
       "</table>\n",
       "</div>"
      ]
     },
     "metadata": {},
     "output_type": "display_data"
    }
   ],
   "metadata": {
    "datalore": {
     "node_id": "60ICCivULU6YmSsUnPo9jk",
     "type": "CODE",
     "hide_input_from_viewers": true,
     "hide_output_from_viewers": true
    }
   }
  },
  {
   "cell_type": "markdown",
   "source": [
    "## Zisťovanie a nastavovanie dátových typov\n",
    "Pre zistenie dátového typu stĺpca môžete použiť vlastnosť .dtypes na DataFrame alebo .dtype na Series:"
   ],
   "attachments": {},
   "metadata": {
    "datalore": {
     "node_id": "WjemJHU2bT7EgdpCQ3AZdo",
     "type": "MD",
     "hide_input_from_viewers": true,
     "hide_output_from_viewers": true
    }
   }
  },
  {
   "cell_type": "code",
   "source": [
    "import pandas as pd\n",
    "\n",
    "df = pd.DataFrame({'A': [1, 2, 3], 'B': ['a', 'b', 'c']})\n",
    "print(df.dtypes)\n",
    "\n",
    "series = pd.Series([1, 2, 3])\n",
    "print(series.dtype)"
   ],
   "execution_count": 4,
   "outputs": [
    {
     "name": "stdout",
     "text": [
      "A     int64\n",
      "B    object\n",
      "dtype: object\n",
      "int64\n"
     ],
     "output_type": "stream"
    }
   ],
   "metadata": {
    "datalore": {
     "node_id": "vmydY15qDB0Up4pkb56mUC",
     "type": "CODE",
     "hide_input_from_viewers": true,
     "hide_output_from_viewers": true
    }
   }
  },
  {
   "cell_type": "markdown",
   "source": [
    "## Pandas dtypes"
   ],
   "attachments": {},
   "metadata": {
    "datalore": {
     "node_id": "IYHsVLseotQA8GZkJ1pawh",
     "type": "MD",
     "hide_input_from_viewers": true,
     "hide_output_from_viewers": true
    }
   }
  },
  {
   "cell_type": "code",
   "source": [
    "import pandas as pd\n",
    "import numpy as np\n",
    "\n",
    "# Vytvorenie DataFrame s rôznymi dátovými typmi\n",
    "df = pd.DataFrame({\n",
    "    'Object': ['text', 'v Pandas', 'príklad'],  # Textový typ\n",
    "    'Int64': pd.Series([1, 2, np.nan], dtype=pd.Int64Dtype()),  # Celočíselný typ s podporou NaN\n",
    "    'int64': [1, 2, 3],\n",
    "    'Float64': [1.1, 2.2, 3.3],  # Reálny typ\n",
    "    'Bool': [True, False, True],  # Boolovský typ\n",
    "    'Datetime64': pd.to_datetime(['2023-01-01', '2023-01-02', '2023-01-03']),  # Dátum a čas\n",
    "    'Timedelta[ns]': pd.to_timedelta([pd.NaT, '1 days', '2 days']),  # Rozdiel časov\n",
    "    'Category': pd.Series(['a', 'b', 'a'], dtype='category')  # Kategorický typ\n",
    "})\n",
    "\n",
    "print(df)\n",
    "print(df.dtypes)\n",
    "\n",
    "df"
   ],
   "execution_count": 10,
   "outputs": [
    {
     "name": "stdout",
     "text": [
      "     Object  Int64  int64  Float64   Bool Datetime64 Timedelta[ns] Category\n",
      "0      text      1      1      1.1   True 2023-01-01           NaT        a\n",
      "1  v Pandas      2      2      2.2  False 2023-01-02        1 days        b\n",
      "2   príklad   <NA>      3      3.3   True 2023-01-03        2 days        a\n",
      "Object                    object\n",
      "Int64                      Int64\n",
      "int64                      int64\n",
      "Float64                  float64\n",
      "Bool                        bool\n",
      "Datetime64        datetime64[ns]\n",
      "Timedelta[ns]    timedelta64[ns]\n",
      "Category                category\n",
      "dtype: object\n"
     ],
     "output_type": "stream"
    },
    {
     "data": {
      "text/html": [
       "<div>\n",
       "<style scoped>\n",
       "    .dataframe tbody tr th:only-of-type {\n",
       "        vertical-align: middle;\n",
       "    }\n",
       "\n",
       "    .dataframe tbody tr th {\n",
       "        vertical-align: top;\n",
       "    }\n",
       "\n",
       "    .dataframe thead th {\n",
       "        text-align: right;\n",
       "    }\n",
       "</style>\n",
       "<table border=\"1\" class=\"dataframe\">\n",
       "  <thead>\n",
       "    <tr style=\"text-align: right;\">\n",
       "      <th></th>\n",
       "      <th>Object</th>\n",
       "      <th>Int64</th>\n",
       "      <th>int64</th>\n",
       "      <th>Float64</th>\n",
       "      <th>Bool</th>\n",
       "      <th>Datetime64</th>\n",
       "      <th>Timedelta[ns]</th>\n",
       "      <th>Category</th>\n",
       "    </tr>\n",
       "  </thead>\n",
       "  <tbody>\n",
       "    <tr>\n",
       "      <th>0</th>\n",
       "      <td>text</td>\n",
       "      <td>1</td>\n",
       "      <td>1</td>\n",
       "      <td>1.1</td>\n",
       "      <td>True</td>\n",
       "      <td>2023-01-01</td>\n",
       "      <td>NaT</td>\n",
       "      <td>a</td>\n",
       "    </tr>\n",
       "    <tr>\n",
       "      <th>1</th>\n",
       "      <td>v Pandas</td>\n",
       "      <td>2</td>\n",
       "      <td>2</td>\n",
       "      <td>2.2</td>\n",
       "      <td>False</td>\n",
       "      <td>2023-01-02</td>\n",
       "      <td>1 days</td>\n",
       "      <td>b</td>\n",
       "    </tr>\n",
       "    <tr>\n",
       "      <th>2</th>\n",
       "      <td>príklad</td>\n",
       "      <td>&lt;NA&gt;</td>\n",
       "      <td>3</td>\n",
       "      <td>3.3</td>\n",
       "      <td>True</td>\n",
       "      <td>2023-01-03</td>\n",
       "      <td>2 days</td>\n",
       "      <td>a</td>\n",
       "    </tr>\n",
       "  </tbody>\n",
       "</table>\n",
       "</div>"
      ]
     },
     "metadata": {},
     "output_type": "display_data"
    }
   ],
   "metadata": {
    "datalore": {
     "node_id": "JYyte7IfDdWmNUuZhijK4y",
     "type": "CODE",
     "hide_input_from_viewers": true,
     "hide_output_from_viewers": true
    }
   }
  },
  {
   "cell_type": "markdown",
   "source": [
    "## Základy s Dátumami a Časmi"
   ],
   "attachments": {},
   "metadata": {
    "datalore": {
     "node_id": "37yQygOKntHHrxa6NYkQGs",
     "type": "MD",
     "hide_input_from_viewers": true,
     "hide_output_from_viewers": true
    }
   }
  },
  {
   "cell_type": "code",
   "source": [
    "import pandas as pd\n",
    "\n",
    "# Vytvorenie DataFrame s dátumovým stĺpcom\n",
    "df = pd.DataFrame({\n",
    "    'Date': pd.to_datetime(['2023-01-01', '2023-01-02', '2023-01-03'])\n",
    "})\n",
    "\n",
    "# Pridanie stĺpca s dátumom a časom\n",
    "df['Datetime'] = pd.to_datetime(['2023-01-01 10:00', '2023-01-02 11:30', '2023-01-03 15:45'])\n",
    "\n",
    "print(df)"
   ],
   "execution_count": 11,
   "outputs": [
    {
     "name": "stdout",
     "text": [
      "        Date            Datetime\n",
      "0 2023-01-01 2023-01-01 10:00:00\n",
      "1 2023-01-02 2023-01-02 11:30:00\n",
      "2 2023-01-03 2023-01-03 15:45:00\n"
     ],
     "output_type": "stream"
    }
   ],
   "metadata": {
    "datalore": {
     "node_id": "jXs7eAGBVINhXVqzVUa4KG",
     "type": "CODE",
     "hide_input_from_viewers": true,
     "hide_output_from_viewers": true
    }
   }
  },
  {
   "cell_type": "code",
   "source": [
    "# Extrahovanie komponentov dátumu a času\n",
    "df['Year'] = df['Datetime'].dt.year\n",
    "df['Month'] = df['Datetime'].dt.month\n",
    "df['Day'] = df['Datetime'].dt.day\n",
    "df['Hour'] = df['Datetime'].dt.hour\n",
    "df['Minute'] = df['Datetime'].dt.minute\n",
    "\n",
    "print(df)"
   ],
   "execution_count": 12,
   "outputs": [
    {
     "name": "stdout",
     "text": [
      "        Date            Datetime  Year  Month  Day  Hour  Minute\n",
      "0 2023-01-01 2023-01-01 10:00:00  2023      1    1    10       0\n",
      "1 2023-01-02 2023-01-02 11:30:00  2023      1    2    11      30\n",
      "2 2023-01-03 2023-01-03 15:45:00  2023      1    3    15      45\n"
     ],
     "output_type": "stream"
    }
   ],
   "metadata": {
    "datalore": {
     "node_id": "TXZWZJ33Var0kxZWr76woo",
     "type": "CODE",
     "hide_input_from_viewers": true,
     "hide_output_from_viewers": true
    }
   }
  },
  {
   "cell_type": "code",
   "source": [
    "# Pridanie jedného dňa k dátumom\n",
    "df['Date_plus_1day'] = df['Date'] + pd.Timedelta(days=1)\n",
    "\n",
    "# Rozdiel medzi dátumami\n",
    "df['Diff_days'] = df['Date_plus_1day'] - df['Date']\n",
    "\n",
    "print(df)"
   ],
   "execution_count": 13,
   "outputs": [
    {
     "name": "stdout",
     "text": [
      "        Date            Datetime  Year  Month  Day  Hour  Minute  \\\n",
      "0 2023-01-01 2023-01-01 10:00:00  2023      1    1    10       0   \n",
      "1 2023-01-02 2023-01-02 11:30:00  2023      1    2    11      30   \n",
      "2 2023-01-03 2023-01-03 15:45:00  2023      1    3    15      45   \n",
      "\n",
      "  Date_plus_1day Diff_days  \n",
      "0     2023-01-02    1 days  \n",
      "1     2023-01-03    1 days  \n",
      "2     2023-01-04    1 days  \n"
     ],
     "output_type": "stream"
    }
   ],
   "metadata": {
    "datalore": {
     "node_id": "3Oz4NFK39ZIwikq5YRUBTZ",
     "type": "CODE",
     "hide_input_from_viewers": true,
     "hide_output_from_viewers": true
    }
   }
  },
  {
   "cell_type": "code",
   "source": [
    "import pandas as pd\n",
    "\n",
    "# Generovanie dátumového rozsahu pre január 2023, každý deň\n",
    "date_range = pd.date_range(start='2023-01-01', end='2023-01-31')\n",
    "\n",
    "# Vytvorenie DataFrame s týmito dátumami ako indexom\n",
    "df = pd.DataFrame(index=date_range, columns=['Hodnota'])\n",
    "df['Hodnota'] = range(1, len(df) + 1)\n",
    "\n",
    "print(df)\n"
   ],
   "execution_count": 15,
   "outputs": [
    {
     "name": "stdout",
     "text": [
      "            Hodnota\n",
      "2023-01-01        1\n",
      "2023-01-02        2\n",
      "2023-01-03        3\n",
      "2023-01-04        4\n",
      "2023-01-05        5\n",
      "2023-01-06        6\n",
      "2023-01-07        7\n",
      "2023-01-08        8\n",
      "2023-01-09        9\n",
      "2023-01-10       10\n",
      "2023-01-11       11\n",
      "2023-01-12       12\n",
      "2023-01-13       13\n",
      "2023-01-14       14\n",
      "2023-01-15       15\n",
      "2023-01-16       16\n",
      "2023-01-17       17\n",
      "2023-01-18       18\n",
      "2023-01-19       19\n",
      "2023-01-20       20\n",
      "2023-01-21       21\n",
      "2023-01-22       22\n",
      "2023-01-23       23\n",
      "2023-01-24       24\n",
      "2023-01-25       25\n",
      "2023-01-26       26\n",
      "2023-01-27       27\n",
      "2023-01-28       28\n",
      "2023-01-29       29\n",
      "2023-01-30       30\n",
      "2023-01-31       31\n"
     ],
     "output_type": "stream"
    },
    {
     "data": {
      "text/plain": [
       "DatetimeIndex(['2023-01-01', '2023-01-02', '2023-01-03', '2023-01-04',\n",
       "               '2023-01-05', '2023-01-06', '2023-01-07', '2023-01-08',\n",
       "               '2023-01-09', '2023-01-10', '2023-01-11', '2023-01-12',\n",
       "               '2023-01-13', '2023-01-14', '2023-01-15', '2023-01-16',\n",
       "               '2023-01-17', '2023-01-18', '2023-01-19', '2023-01-20',\n",
       "               '2023-01-21', '2023-01-22', '2023-01-23', '2023-01-24',\n",
       "               '2023-01-25', '2023-01-26', '2023-01-27', '2023-01-28',\n",
       "               '2023-01-29', '2023-01-30', '2023-01-31'],\n",
       "              dtype='datetime64[ns]', freq='D')"
      ]
     },
     "metadata": {},
     "output_type": "display_data"
    }
   ],
   "metadata": {
    "datalore": {
     "node_id": "o8ZrBlER4k2oboHxhiS1h6",
     "type": "CODE",
     "hide_input_from_viewers": true,
     "hide_output_from_viewers": true
    }
   }
  },
  {
   "cell_type": "markdown",
   "source": [
    "## Frekvencie v pd.date_range()\n",
    "Frekvencia (freq parameter) určuje intervaly medzi dátumami v rozsahu. Napríklad, 'D' pre dni, 'W' pre týždne, 'M' pre koniec mesiaca, 'Q' pre koniec štvrťroka, atď. Ak potrebujete rozsah dátumov pre každú nedeľu v januári 2023"
   ],
   "attachments": {},
   "metadata": {
    "datalore": {
     "node_id": "PRrm9Z3AMLaYCK41EHYMaW",
     "type": "MD",
     "hide_input_from_viewers": true,
     "hide_output_from_viewers": true
    }
   }
  },
  {
   "cell_type": "code",
   "source": [
    "# Generovanie dátumov každú nedeľu v januári 2024\n",
    "sunday_dates = pd.date_range(start='2024-01-01', end='2024-01-31', freq='W-SUN')\n",
    "\n",
    "print(sunday_dates)"
   ],
   "execution_count": 17,
   "outputs": [
    {
     "name": "stdout",
     "text": [
      "DatetimeIndex(['2024-01-07', '2024-01-14', '2024-01-21', '2024-01-28'], dtype='datetime64[ns]', freq='W-SUN')\n"
     ],
     "output_type": "stream"
    }
   ],
   "metadata": {
    "datalore": {
     "node_id": "FeBD1vQjk4hl5ZIAGBsWtr",
     "type": "CODE",
     "hide_input_from_viewers": true,
     "hide_output_from_viewers": true
    }
   }
  },
  {
   "cell_type": "markdown",
   "source": [
    "## Načítanie dátového súboru do Pandas DataFrame"
   ],
   "attachments": {},
   "metadata": {
    "datalore": {
     "node_id": "tFcU0x2expd98bxTXnn7OV",
     "type": "MD",
     "hide_input_from_viewers": true,
     "hide_output_from_viewers": true
    }
   }
  },
  {
   "cell_type": "code",
   "source": [
    "import pandas as pd\n",
    "\n",
    "# Načítanie CSV súboru\n",
    "df_zamestnanci = pd.read_csv('pandas_zamestnanci.csv')\n",
    "\n",
    "# Zobrazenie prvých 5 riadkov\n",
    "print(df_zamestnanci.head())"
   ],
   "execution_count": 18,
   "outputs": [
    {
     "name": "stdout",
     "text": [
      "   identifikátor    meno  vek  príjem dátum_nastupu\n",
      "0            101   Jozef   28    2500    2020-04-01\n",
      "1            102   Elena   34    3200    2019-05-15\n",
      "2            103   Marek   45    4500    2018-02-20\n",
      "3            104  Zuzana   29    2750    2021-01-30\n",
      "4            105   Lukáš   38    3000    2020-11-10\n"
     ],
     "output_type": "stream"
    }
   ],
   "metadata": {
    "datalore": {
     "node_id": "IyjIljOa09Y0ls1i3rAw42",
     "type": "CODE",
     "hide_input_from_viewers": true,
     "hide_output_from_viewers": true
    }
   }
  },
  {
   "cell_type": "markdown",
   "source": [
    "## Čistenie dát"
   ],
   "attachments": {},
   "metadata": {
    "datalore": {
     "node_id": "Nmh9775HhYrXlmmTNbnh2R",
     "type": "MD",
     "hide_input_from_viewers": true,
     "hide_output_from_viewers": true
    }
   }
  },
  {
   "cell_type": "code",
   "source": [
    "# Odstránenie riadkov s chýbajúcimi hodnotami\n",
    "df_clean = df_zamestnanci.dropna()\n",
    "\n",
    "# Vyplnenie chýbajúcich hodnôt priemerom stĺpca\n",
    "df_filled = df_zamestnanci.fillna(df_zamestnanci.mean())"
   ],
   "execution_count": 22,
   "outputs": [
    {
     "name": "stderr",
     "text": [
      "<ipython-input-22-48e541687889>:5: FutureWarning: The default value of numeric_only in DataFrame.mean is deprecated. In a future version, it will default to False. In addition, specifying 'numeric_only=None' is deprecated. Select only valid columns or specify the value of numeric_only to silence this warning.\n",
      "  df_filled = df_zamestnanci.fillna(df_zamestnanci.mean())\n"
     ],
     "output_type": "stream"
    }
   ],
   "metadata": {
    "datalore": {
     "node_id": "ahcV3PI87yiZz8TWP6NuBA",
     "type": "CODE",
     "hide_input_from_viewers": true,
     "hide_output_from_viewers": true
    }
   }
  },
  {
   "cell_type": "code",
   "source": [
    "# Zistenie základných štatistík pre numerické stĺpce\n",
    "print(df_zamestnanci.describe())\n",
    "\n",
    "# Počet unikátnych hodnôt v stĺpci\n",
    "print(df_zamestnanci['príjem'].nunique())\n",
    "\n",
    "# Priemerná hodnota v stĺpci\n",
    "print(df_zamestnanci['príjem'].mean())"
   ],
   "execution_count": 27,
   "outputs": [
    {
     "name": "stdout",
     "text": [
      "       identifikátor        vek       príjem\n",
      "count       5.000000   5.000000     5.000000\n",
      "mean      103.000000  34.800000  3190.000000\n",
      "std         1.581139   6.978539   778.138805\n",
      "min       101.000000  28.000000  2500.000000\n",
      "25%       102.000000  29.000000  2750.000000\n",
      "50%       103.000000  34.000000  3000.000000\n",
      "75%       104.000000  38.000000  3200.000000\n",
      "max       105.000000  45.000000  4500.000000\n",
      "5\n",
      "3190.0\n"
     ],
     "output_type": "stream"
    }
   ],
   "metadata": {
    "datalore": {
     "node_id": "RSC9zlJsiNAql3OLhfbwNU",
     "type": "CODE",
     "hide_input_from_viewers": true,
     "hide_output_from_viewers": true
    }
   }
  },
  {
   "cell_type": "markdown",
   "source": [
    "# Pandas Projekt"
   ],
   "attachments": {},
   "metadata": {
    "datalore": {
     "node_id": "Pandas Projekt",
     "type": "MD",
     "hide_input_from_viewers": false,
     "hide_output_from_viewers": false,
     "sheet_delimiter": true
    }
   }
  },
  {
   "cell_type": "markdown",
   "source": [
    "# 🐼 Pandas (Python Data Analysis Library)"
   ],
   "attachments": {},
   "metadata": {
    "datalore": {
     "node_id": "j9lMhZpVTbYwuC4w9mV3pv",
     "type": "MD",
     "hide_input_from_viewers": true,
     "hide_output_from_viewers": true
    }
   }
  },
  {
   "cell_type": "markdown",
   "source": [
    "## Načítanie dát z CSV súboru"
   ],
   "attachments": {},
   "metadata": {
    "datalore": {
     "node_id": "vpwykkQa0ARuUUHdwKX8cn",
     "type": "MD",
     "hide_input_from_viewers": true,
     "hide_output_from_viewers": true
    }
   }
  },
  {
   "cell_type": "code",
   "source": [
    "import pandas as pd\n",
    "\n",
    "# Načítanie dát z CSV súboru do DataFrame\n",
    "df = pd.read_csv(\"zamestnanci.csv\")\n",
    "\n",
    "# Zobrazenie prvých 5 riadkov dát\n",
    "print(df.head())"
   ],
   "execution_count": 1,
   "outputs": [
    {
     "name": "stdout",
     "text": [
      "   ID   Meno  Vek            Mesto  Plat\n",
      "0   1    Ján   28       Bratislava  1200\n",
      "1   2    Eva   34           Košice  1500\n",
      "2   3  Peter   45           Prešov  1100\n",
      "3   4  Lucia   29           Žilina  1300\n",
      "4   5  Tomáš   23  Banská Bystrica  1400\n"
     ],
     "output_type": "stream"
    }
   ],
   "metadata": {
    "datalore": {
     "node_id": "aiR55SoLRYFrTcaWNKRRbW",
     "type": "CODE",
     "hide_input_from_viewers": true,
     "hide_output_from_viewers": true
    }
   }
  },
  {
   "cell_type": "markdown",
   "source": [
    "## Výber stĺpcov a riadkov"
   ],
   "attachments": {},
   "metadata": {
    "datalore": {
     "node_id": "rmGY60MKDZNx8D36CzcZyz",
     "type": "MD",
     "hide_input_from_viewers": true,
     "hide_output_from_viewers": true
    }
   }
  },
  {
   "cell_type": "code",
   "source": [
    "# Výber stĺpca \"meno\"\n",
    "vybrany_stlpec_meno = df[\"Meno\"]\n",
    "\n",
    "# Výber riadkov, kde hodnota v stĺpci plat je väčšia ako 1200\n",
    "vybrane_riadky = df[df[\"Plat\"] > 1200]\n",
    "\n",
    "# Zobrazenie výsledkov\n",
    "print(vybrany_stlpec_meno.head())\n",
    "print(\"--------------------------------------------\\n\")\n",
    "print(vybrane_riadky.head())"
   ],
   "execution_count": 2,
   "outputs": [
    {
     "name": "stdout",
     "text": [
      "0      Ján\n",
      "1      Eva\n",
      "2    Peter\n",
      "3    Lucia\n",
      "4    Tomáš\n",
      "Name: Meno, dtype: object\n",
      "--------------------------------------------\n",
      "\n",
      "   ID   Meno  Vek            Mesto  Plat\n",
      "1   2    Eva   34           Košice  1500\n",
      "3   4  Lucia   29           Žilina  1300\n",
      "4   5  Tomáš   23  Banská Bystrica  1400\n"
     ],
     "output_type": "stream"
    }
   ],
   "metadata": {
    "datalore": {
     "node_id": "pbe32xUQRmyRJjBWsOKKAc",
     "type": "CODE",
     "hide_input_from_viewers": true,
     "hide_output_from_viewers": true
    }
   }
  },
  {
   "cell_type": "markdown",
   "source": [
    "## Zmena hodnôt v DataFrame"
   ],
   "attachments": {},
   "metadata": {
    "datalore": {
     "node_id": "4neBfVW3FBUcPdSjFkJWqN",
     "type": "MD",
     "hide_input_from_viewers": true,
     "hide_output_from_viewers": true
    }
   }
  },
  {
   "cell_type": "code",
   "source": [
    "# Zmena hodnôt v stĺpci 'meno_stlpca' na 0, kde sú hodnoty menšie ako 10\n",
    "df.loc[df['Plat'] < 1200, 'Plat'] = 1200\n",
    "\n",
    "# Zobrazenie upravených dát\n",
    "print(df.head())"
   ],
   "execution_count": 3,
   "outputs": [
    {
     "name": "stdout",
     "text": [
      "   ID   Meno  Vek            Mesto  Plat\n",
      "0   1    Ján   28       Bratislava  1200\n",
      "1   2    Eva   34           Košice  1500\n",
      "2   3  Peter   45           Prešov  1200\n",
      "3   4  Lucia   29           Žilina  1300\n",
      "4   5  Tomáš   23  Banská Bystrica  1400\n"
     ],
     "output_type": "stream"
    }
   ],
   "metadata": {
    "datalore": {
     "node_id": "IDGIP5Phg0m8hzUyFSEJEk",
     "type": "CODE",
     "hide_input_from_viewers": true,
     "hide_output_from_viewers": true
    }
   }
  },
  {
   "cell_type": "markdown",
   "source": [
    "## Zoskupenie a agregácia dát"
   ],
   "attachments": {},
   "metadata": {
    "datalore": {
     "node_id": "4j8HMTfVjCt2EowzMveK8R",
     "type": "MD",
     "hide_input_from_viewers": true,
     "hide_output_from_viewers": true
    }
   }
  },
  {
   "cell_type": "code",
   "source": [
    "# Zoskupenie dát podľa stĺpca 'kategoria' Mesto a výpočet priemernej hodnoty pre každú kategóriu v stĺpci 'hodnota' Plat\n",
    "skupinovy_priemer = df.groupby('Mesto')['Plat'].mean()\n",
    "\n",
    "# Zobrazenie výsledkov\n",
    "print(skupinovy_priemer)"
   ],
   "execution_count": 4,
   "outputs": [
    {
     "name": "stdout",
     "text": [
      "Mesto\n",
      "Banská Bystrica    1400.0\n",
      "Bratislava         1200.0\n",
      "Košice             1500.0\n",
      "Prešov             1200.0\n",
      "Žilina             1300.0\n",
      "Name: Plat, dtype: float64\n"
     ],
     "output_type": "stream"
    }
   ],
   "metadata": {
    "datalore": {
     "node_id": "4c7hGFBEUz9bkzITbYPQqq",
     "type": "CODE",
     "hide_input_from_viewers": true,
     "hide_output_from_viewers": true
    }
   }
  },
  {
   "cell_type": "code",
   "source": [
    "import pandas as pd\n",
    "\n",
    "# Načítanie dát z CSV súboru do DataFrame\n",
    "df2 = pd.read_csv(\"zamestnanci2-100R.csv\")\n",
    "\n",
    "# Zobrazenie prvých 5 riadkov dát\n",
    "print(df2.head())"
   ],
   "execution_count": 2,
   "outputs": [
    {
     "name": "stdout",
     "text": [
      "   ID   Meno Priezvisko  Vek       Mesto  Mzda       Datum  Mzda_po_Zdaneni  \\\n",
      "0   1  Pavol    Horváth   39       Nitra  2050  2022-01-02           1845.0   \n",
      "1   2  Lukáš     Slovak   28      Prešov  2831  2022-01-09           2547.9   \n",
      "2   3  Matej     Farkaš   33      Žilina  1912  2022-01-16           1720.8   \n",
      "3   4  Tomáš     Farkaš   50      Prešov  2564  2022-01-23           2307.6   \n",
      "4   5  Pavol      Baláž   26  Bratislava  1981  2022-01-30           1782.9   \n",
      "\n",
      "   Mzda_Pohyblivy_Priemer  Mzda_Expanzny_Priemer  \n",
      "0                     NaN            2050.000000  \n",
      "1                     NaN            2440.500000  \n",
      "2             2264.333333            2264.333333  \n",
      "3             2435.666667            2339.250000  \n",
      "4             2152.333333            2267.600000  \n"
     ],
     "output_type": "stream"
    }
   ],
   "metadata": {
    "datalore": {
     "node_id": "hWjYgvR3tAx7RY4T1Y0rnP",
     "type": "CODE",
     "hide_input_from_viewers": true,
     "hide_output_from_viewers": true
    }
   }
  },
  {
   "cell_type": "markdown",
   "source": [
    "## Práca s dátumami"
   ],
   "attachments": {},
   "metadata": {
    "datalore": {
     "node_id": "9XhTsJHCRPJMfCV45uFHXL",
     "type": "MD",
     "hide_input_from_viewers": true,
     "hide_output_from_viewers": true
    }
   }
  },
  {
   "cell_type": "code",
   "source": [
    "import pandas as pd\n",
    "\n",
    "# Predpokladajme, že máš DataFrame s dátumovým stĺpcom 'Datum'\n",
    "df2['Datum'] = pd.to_datetime(df2['Datum'])\n",
    "\n",
    "# Pridanie nového stĺpca s rokom\n",
    "df2['Rok'] = df2['Datum'].dt.year\n",
    "\n",
    "# Filtrovanie riadkov s dátumom po určitom dátume\n",
    "df_po_datume = df2[df2['Datum'] > '2023-01-01']\n",
    "\n",
    "# Zobrazenie výsledkov\n",
    "print(df_po_datume.head())\n",
    "\n",
    "df_po_datume.head()"
   ],
   "execution_count": 4,
   "outputs": [
    {
     "name": "stdout",
     "text": [
      "    ID    Meno Priezvisko  Vek       Mesto  Mzda      Datum  Mzda_po_Zdaneni  \\\n",
      "53  54   Peter      Baláž   25      Žilina  1966 2023-01-08           1769.4   \n",
      "54  55   Matej      Szabó   53  Bratislava  3344 2023-01-15           2675.2   \n",
      "55  56   Lukáš       Tóth   55      Martin  4273 2023-01-22           3418.4   \n",
      "56  57   Peter     Slovak   57      Prešov  4869 2023-01-29           3895.2   \n",
      "57  58  Michal      Varga   37      Trnava  3446 2023-02-05           2756.8   \n",
      "\n",
      "    Mzda_Pohyblivy_Priemer  Mzda_Expanzny_Priemer   Rok  \n",
      "53             3725.666667            3208.259259  2023  \n",
      "54             3374.333333            3210.727273  2023  \n",
      "55             3194.333333            3229.696429  2023  \n",
      "56             4162.000000            3258.456140  2023  \n",
      "57             4196.000000            3261.689655  2023  \n"
     ],
     "output_type": "stream"
    },
    {
     "data": {
      "text/html": [
       "<div>\n",
       "<style scoped>\n",
       "    .dataframe tbody tr th:only-of-type {\n",
       "        vertical-align: middle;\n",
       "    }\n",
       "\n",
       "    .dataframe tbody tr th {\n",
       "        vertical-align: top;\n",
       "    }\n",
       "\n",
       "    .dataframe thead th {\n",
       "        text-align: right;\n",
       "    }\n",
       "</style>\n",
       "<table border=\"1\" class=\"dataframe\">\n",
       "  <thead>\n",
       "    <tr style=\"text-align: right;\">\n",
       "      <th></th>\n",
       "      <th>ID</th>\n",
       "      <th>Meno</th>\n",
       "      <th>Priezvisko</th>\n",
       "      <th>Vek</th>\n",
       "      <th>Mesto</th>\n",
       "      <th>Mzda</th>\n",
       "      <th>Datum</th>\n",
       "      <th>Mzda_po_Zdaneni</th>\n",
       "      <th>Mzda_Pohyblivy_Priemer</th>\n",
       "      <th>Mzda_Expanzny_Priemer</th>\n",
       "      <th>Rok</th>\n",
       "    </tr>\n",
       "  </thead>\n",
       "  <tbody>\n",
       "    <tr>\n",
       "      <th>53</th>\n",
       "      <td>54</td>\n",
       "      <td>Peter</td>\n",
       "      <td>Baláž</td>\n",
       "      <td>25</td>\n",
       "      <td>Žilina</td>\n",
       "      <td>1966</td>\n",
       "      <td>2023-01-08</td>\n",
       "      <td>1769.4</td>\n",
       "      <td>3725.666667</td>\n",
       "      <td>3208.259259</td>\n",
       "      <td>2023</td>\n",
       "    </tr>\n",
       "    <tr>\n",
       "      <th>54</th>\n",
       "      <td>55</td>\n",
       "      <td>Matej</td>\n",
       "      <td>Szabó</td>\n",
       "      <td>53</td>\n",
       "      <td>Bratislava</td>\n",
       "      <td>3344</td>\n",
       "      <td>2023-01-15</td>\n",
       "      <td>2675.2</td>\n",
       "      <td>3374.333333</td>\n",
       "      <td>3210.727273</td>\n",
       "      <td>2023</td>\n",
       "    </tr>\n",
       "    <tr>\n",
       "      <th>55</th>\n",
       "      <td>56</td>\n",
       "      <td>Lukáš</td>\n",
       "      <td>Tóth</td>\n",
       "      <td>55</td>\n",
       "      <td>Martin</td>\n",
       "      <td>4273</td>\n",
       "      <td>2023-01-22</td>\n",
       "      <td>3418.4</td>\n",
       "      <td>3194.333333</td>\n",
       "      <td>3229.696429</td>\n",
       "      <td>2023</td>\n",
       "    </tr>\n",
       "    <tr>\n",
       "      <th>56</th>\n",
       "      <td>57</td>\n",
       "      <td>Peter</td>\n",
       "      <td>Slovak</td>\n",
       "      <td>57</td>\n",
       "      <td>Prešov</td>\n",
       "      <td>4869</td>\n",
       "      <td>2023-01-29</td>\n",
       "      <td>3895.2</td>\n",
       "      <td>4162.000000</td>\n",
       "      <td>3258.456140</td>\n",
       "      <td>2023</td>\n",
       "    </tr>\n",
       "    <tr>\n",
       "      <th>57</th>\n",
       "      <td>58</td>\n",
       "      <td>Michal</td>\n",
       "      <td>Varga</td>\n",
       "      <td>37</td>\n",
       "      <td>Trnava</td>\n",
       "      <td>3446</td>\n",
       "      <td>2023-02-05</td>\n",
       "      <td>2756.8</td>\n",
       "      <td>4196.000000</td>\n",
       "      <td>3261.689655</td>\n",
       "      <td>2023</td>\n",
       "    </tr>\n",
       "  </tbody>\n",
       "</table>\n",
       "</div>"
      ]
     },
     "metadata": {},
     "output_type": "display_data"
    }
   ],
   "metadata": {
    "datalore": {
     "node_id": "WLnqoPb0nxNAogxi3aEFV1",
     "type": "CODE",
     "hide_input_from_viewers": true,
     "hide_output_from_viewers": true
    }
   }
  },
  {
   "cell_type": "markdown",
   "source": [
    "## Práca s chýbajúcimi dátami"
   ],
   "attachments": {},
   "metadata": {
    "datalore": {
     "node_id": "4jTPXXfuEcK06ewt86zhWO",
     "type": "MD",
     "hide_input_from_viewers": true,
     "hide_output_from_viewers": true
    }
   }
  },
  {
   "cell_type": "code",
   "source": [
    "# Predpokladajme, že máš DataFrame df s nejakými chýbajúcimi hodnotami\n",
    "\n",
    "# Vyplnenie chýbajúcich hodnôt stĺpca 'Mzda' priemerom\n",
    "df2['Mzda'].fillna(df2['Mzda'].mean(), inplace=True)\n",
    "\n",
    "# Odstránenie riadkov, kde chýbajú hodnoty v akomkoľvek stĺpci\n",
    "df_cisty = df2.dropna()\n",
    "\n",
    "# Zobrazenie výsledkov\n",
    "print(df_cisty.head())"
   ],
   "execution_count": 5,
   "outputs": [
    {
     "name": "stdout",
     "text": [
      "   ID    Meno Priezvisko  Vek       Mesto  Mzda      Datum  Mzda_po_Zdaneni  \\\n",
      "2   3   Matej     Farkaš   33      Žilina  1912 2022-01-16           1720.8   \n",
      "3   4   Tomáš     Farkaš   50      Prešov  2564 2022-01-23           2307.6   \n",
      "4   5   Pavol      Baláž   26  Bratislava  1981 2022-01-30           1782.9   \n",
      "5   6  Robert       Tóth   23  Bratislava  1412 2022-02-06           1270.8   \n",
      "6   7  Martin      Varga   33       Nitra  3749 2022-02-13           2999.2   \n",
      "\n",
      "   Mzda_Pohyblivy_Priemer  Mzda_Expanzny_Priemer   Rok  \n",
      "2             2264.333333            2264.333333  2022  \n",
      "3             2435.666667            2339.250000  2022  \n",
      "4             2152.333333            2267.600000  2022  \n",
      "5             1985.666667            2125.000000  2022  \n",
      "6             2380.666667            2357.000000  2022  \n"
     ],
     "output_type": "stream"
    }
   ],
   "metadata": {
    "datalore": {
     "node_id": "2Cx9W5Huqs1JRo76qjCYEv",
     "type": "CODE",
     "hide_input_from_viewers": true,
     "hide_output_from_viewers": true
    }
   }
  },
  {
   "cell_type": "markdown",
   "source": [
    "## Vytváranie nových stĺpcov z existujúcich"
   ],
   "attachments": {},
   "metadata": {
    "datalore": {
     "node_id": "pvLds3WyEphWMIw1sV5vOY",
     "type": "MD",
     "hide_input_from_viewers": true,
     "hide_output_from_viewers": true
    }
   }
  },
  {
   "cell_type": "code",
   "source": [
    "# Vytvorenie nového stĺpca 'Plný názov', ktorý je kombináciou stĺpcov 'Meno' a 'Priezvisko'\n",
    "df2['Plný názov'] = df2['Meno'] + ' ' + df2['Priezvisko']\n",
    "\n",
    "# Zobrazenie výsledkov\n",
    "print(df2[['Plný názov']].head())"
   ],
   "execution_count": 6,
   "outputs": [
    {
     "name": "stdout",
     "text": [
      "      Plný názov\n",
      "0  Pavol Horváth\n",
      "1   Lukáš Slovak\n",
      "2   Matej Farkaš\n",
      "3   Tomáš Farkaš\n",
      "4    Pavol Baláž\n"
     ],
     "output_type": "stream"
    }
   ],
   "metadata": {
    "datalore": {
     "node_id": "5cdXClajpnHUGPDzijByPX",
     "type": "CODE",
     "hide_input_from_viewers": true,
     "hide_output_from_viewers": true
    }
   }
  },
  {
   "cell_type": "markdown",
   "source": [
    "## Export dát do rôznych formátov"
   ],
   "attachments": {},
   "metadata": {
    "datalore": {
     "node_id": "lwvbfFCNjIML5CKNHKr1Qo",
     "type": "MD",
     "hide_input_from_viewers": true,
     "hide_output_from_viewers": true
    }
   }
  },
  {
   "cell_type": "code",
   "source": [
    "## Export dát do rôznych formátov\n",
    "\n",
    "# Replace spaces in column names with underscores\n",
    "df2.columns = df2.columns.str.replace(' ', '_')\n",
    "\n",
    "# Export DataFrame do Excel súboru\n",
    "df2.to_excel('export_data.xlsx', index=False)\n",
    "\n",
    "# Export do JSON formátu\n",
    "df2.to_json('export_data.json')\n",
    "\n",
    "# Export DataFrame do HTML súboru\n",
    "df2.to_html('export_data.html')\n",
    "\n",
    "# Now the XML export should not have the previous problem\n",
    "df2.to_xml('expexport_data.sql')"
   ],
   "execution_count": 31,
   "outputs": [],
   "metadata": {
    "datalore": {
     "node_id": "4qfB9wE4m8QCjboZ0rhe7j",
     "type": "CODE",
     "hide_input_from_viewers": true,
     "hide_output_from_viewers": true
    }
   }
  },
  {
   "cell_type": "code",
   "source": [
    "!pip install openpyxl"
   ],
   "execution_count": 14,
   "outputs": [
    {
     "name": "stdout",
     "text": [
      "Requirement already satisfied: openpyxl in /opt/python/envs/default/lib/python3.8/site-packages (3.1.2)\r\n",
      "Requirement already satisfied: et-xmlfile in /opt/python/envs/default/lib/python3.8/site-packages (from openpyxl) (1.1.0)\r\n",
      "\r\n",
      "\u001B[1m[\u001B[0m\u001B[34;49mnotice\u001B[0m\u001B[1;39;49m]\u001B[0m\u001B[39;49m A new release of pip is available: \u001B[0m\u001B[31;49m23.1.2\u001B[0m\u001B[39;49m -> \u001B[0m\u001B[32;49m24.0\u001B[0m\r\n",
      "\u001B[1m[\u001B[0m\u001B[34;49mnotice\u001B[0m\u001B[1;39;49m]\u001B[0m\u001B[39;49m To update, run: \u001B[0m\u001B[32;49mpip install --upgrade pip\u001B[0m\r\n"
     ],
     "output_type": "stream"
    }
   ],
   "metadata": {
    "datalore": {
     "node_id": "OmHv6ALz0stJzcQd5dgeoV",
     "type": "CODE",
     "hide_input_from_viewers": true,
     "hide_output_from_viewers": true
    }
   }
  },
  {
   "cell_type": "code",
   "source": [
    "# Import required libraries and check if 'openpyxl' is installed\n",
    "import sys\n",
    "import importlib\n",
    "\n",
    "# Check if 'openpyxl' package is available\n",
    "if importlib.util.find_spec('openpyxl') is None:\n",
    "    print(\"openpyxl module is not installed. Starting the installation...\")\n",
    "    !pip install openpyxl\n",
    "else:\n",
    "    print(\"openpyxl module is installed.\")\n",
    "\n",
    "import openpyxl\n",
    "\n",
    "# Export DataFrame to Excel file\n",
    "try:\n",
    "    df2.to_excel('export_data.xlsx', index=False)\n",
    "    print(\"Excel file has been successfully exported.\")\n",
    "except Exception as e:\n",
    "    print(f\"An error occurred during Excel file export: {e}\")\n",
    "\n",
    "# Export to JSON format\n",
    "try:\n",
    "    df2.to_json('export_data.json')\n",
    "    print(\"JSON file has been successfully exported.\")\n",
    "except Exception as e:\n",
    "    print(f\"An error occurred during JSON file export: {e}\") JSON file export: {e}\")"
   ],
   "execution_count": 13,
   "outputs": [
    {
     "ename": "SyntaxError",
     "evalue": "SyntaxError: invalid syntax",
     "traceback": [
      "\u001B[0;31m---------------------------------------------------------------------------",
      "Traceback (most recent call last)",
      "SyntaxError: invalid syntax"
     ],
     "output_type": "error"
    }
   ],
   "metadata": {
    "datalore": {
     "node_id": "4nCz4mhz8NY4EsED7QQGFV",
     "type": "CODE",
     "hide_input_from_viewers": true,
     "hide_output_from_viewers": true
    }
   }
  },
  {
   "cell_type": "markdown",
   "source": [
    "## Vizualizácia dát priamo z pandas"
   ],
   "attachments": {},
   "metadata": {
    "datalore": {
     "node_id": "Ym37KwtiwXTxLCFISTA4UY",
     "type": "MD",
     "hide_input_from_viewers": true,
     "hide_output_from_viewers": true
    }
   }
  },
  {
   "cell_type": "code",
   "source": [
    "import matplotlib.pyplot as plt\n",
    "\n",
    "# Vytvorenie histogramu pre stĺpec 'Vek'\n",
    "df2['Vek'].hist()\n",
    "plt.show()\n",
    "\n",
    "# Vytvorenie scatter plotu pre 'Vek' a 'Mzda'\n",
    "df2.plot(kind='scatter', x='Vek', y='Mzda')\n",
    "plt.show()"
   ],
   "execution_count": 17,
   "outputs": [
    {
     "data": {
      "image/png": "[encoded data removed]"
     },
     "metadata": {
      "image/png": {}
     },
     "output_type": "display_data"
    },
    {
     "data": {
      "image/png": "[encoded data removed]"
     },
     "metadata": {
      "image/png": {}
     },
     "output_type": "display_data"
    }
   ],
   "metadata": {
    "datalore": {
     "node_id": "EU1TRcZYNxPUX0enuSRzQx",
     "type": "CODE",
     "hide_input_from_viewers": true,
     "hide_output_from_viewers": true
    }
   }
  },
  {
   "cell_type": "markdown",
   "source": [
    "## 11. Zmena formátu dátových typov"
   ],
   "attachments": {},
   "metadata": {
    "datalore": {
     "node_id": "FCz8RfWadIaJ2RYJnqADE2",
     "type": "MD",
     "hide_input_from_viewers": true,
     "hide_output_from_viewers": true
    }
   }
  },
  {
   "cell_type": "code",
   "source": [
    "# Zmena dátového typu stĺpca 'ID' na string\n",
    "df2['ID'] = df2['ID'].astype(str)\n",
    "\n",
    "# Zmena dátového typu stĺpca 'Mzda' na float\n",
    "df2['Mzda'] = df2['Mzda'].astype(float)\n",
    "\n",
    "df2"
   ],
   "execution_count": 20,
   "outputs": [
    {
     "data": {
      "text/html": [
       "<div>\n",
       "<style scoped>\n",
       "    .dataframe tbody tr th:only-of-type {\n",
       "        vertical-align: middle;\n",
       "    }\n",
       "\n",
       "    .dataframe tbody tr th {\n",
       "        vertical-align: top;\n",
       "    }\n",
       "\n",
       "    .dataframe thead th {\n",
       "        text-align: right;\n",
       "    }\n",
       "</style>\n",
       "<table border=\"1\" class=\"dataframe\">\n",
       "  <thead>\n",
       "    <tr style=\"text-align: right;\">\n",
       "      <th></th>\n",
       "      <th>ID</th>\n",
       "      <th>Meno</th>\n",
       "      <th>Priezvisko</th>\n",
       "      <th>Vek</th>\n",
       "      <th>Mesto</th>\n",
       "      <th>Mzda</th>\n",
       "      <th>Datum</th>\n",
       "      <th>Mzda_po_Zdaneni</th>\n",
       "      <th>Mzda_Pohyblivy_Priemer</th>\n",
       "      <th>Mzda_Expanzny_Priemer</th>\n",
       "      <th>Rok</th>\n",
       "      <th>Plný názov</th>\n",
       "    </tr>\n",
       "  </thead>\n",
       "  <tbody>\n",
       "    <tr>\n",
       "      <th>0</th>\n",
       "      <td>1</td>\n",
       "      <td>Pavol</td>\n",
       "      <td>Horváth</td>\n",
       "      <td>39</td>\n",
       "      <td>Nitra</td>\n",
       "      <td>2050.0</td>\n",
       "      <td>2022-01-02</td>\n",
       "      <td>1845.0</td>\n",
       "      <td>NaN</td>\n",
       "      <td>2050.000000</td>\n",
       "      <td>2022</td>\n",
       "      <td>Pavol Horváth</td>\n",
       "    </tr>\n",
       "    <tr>\n",
       "      <th>1</th>\n",
       "      <td>2</td>\n",
       "      <td>Lukáš</td>\n",
       "      <td>Slovak</td>\n",
       "      <td>28</td>\n",
       "      <td>Prešov</td>\n",
       "      <td>2831.0</td>\n",
       "      <td>2022-01-09</td>\n",
       "      <td>2547.9</td>\n",
       "      <td>NaN</td>\n",
       "      <td>2440.500000</td>\n",
       "      <td>2022</td>\n",
       "      <td>Lukáš Slovak</td>\n",
       "    </tr>\n",
       "    <tr>\n",
       "      <th>2</th>\n",
       "      <td>3</td>\n",
       "      <td>Matej</td>\n",
       "      <td>Farkaš</td>\n",
       "      <td>33</td>\n",
       "      <td>Žilina</td>\n",
       "      <td>1912.0</td>\n",
       "      <td>2022-01-16</td>\n",
       "      <td>1720.8</td>\n",
       "      <td>2264.333333</td>\n",
       "      <td>2264.333333</td>\n",
       "      <td>2022</td>\n",
       "      <td>Matej Farkaš</td>\n",
       "    </tr>\n",
       "    <tr>\n",
       "      <th>3</th>\n",
       "      <td>4</td>\n",
       "      <td>Tomáš</td>\n",
       "      <td>Farkaš</td>\n",
       "      <td>50</td>\n",
       "      <td>Prešov</td>\n",
       "      <td>2564.0</td>\n",
       "      <td>2022-01-23</td>\n",
       "      <td>2307.6</td>\n",
       "      <td>2435.666667</td>\n",
       "      <td>2339.250000</td>\n",
       "      <td>2022</td>\n",
       "      <td>Tomáš Farkaš</td>\n",
       "    </tr>\n",
       "    <tr>\n",
       "      <th>4</th>\n",
       "      <td>5</td>\n",
       "      <td>Pavol</td>\n",
       "      <td>Baláž</td>\n",
       "      <td>26</td>\n",
       "      <td>Bratislava</td>\n",
       "      <td>1981.0</td>\n",
       "      <td>2022-01-30</td>\n",
       "      <td>1782.9</td>\n",
       "      <td>2152.333333</td>\n",
       "      <td>2267.600000</td>\n",
       "      <td>2022</td>\n",
       "      <td>Pavol Baláž</td>\n",
       "    </tr>\n",
       "    <tr>\n",
       "      <th>...</th>\n",
       "      <td>...</td>\n",
       "      <td>...</td>\n",
       "      <td>...</td>\n",
       "      <td>...</td>\n",
       "      <td>...</td>\n",
       "      <td>...</td>\n",
       "      <td>...</td>\n",
       "      <td>...</td>\n",
       "      <td>...</td>\n",
       "      <td>...</td>\n",
       "      <td>...</td>\n",
       "      <td>...</td>\n",
       "    </tr>\n",
       "    <tr>\n",
       "      <th>95</th>\n",
       "      <td>96</td>\n",
       "      <td>Robert</td>\n",
       "      <td>Baláž</td>\n",
       "      <td>47</td>\n",
       "      <td>Poprad</td>\n",
       "      <td>2265.0</td>\n",
       "      <td>2023-10-29</td>\n",
       "      <td>2038.5</td>\n",
       "      <td>1796.000000</td>\n",
       "      <td>3171.447917</td>\n",
       "      <td>2023</td>\n",
       "      <td>Robert Baláž</td>\n",
       "    </tr>\n",
       "    <tr>\n",
       "      <th>96</th>\n",
       "      <td>97</td>\n",
       "      <td>Juraj</td>\n",
       "      <td>Tóth</td>\n",
       "      <td>50</td>\n",
       "      <td>Nitra</td>\n",
       "      <td>1598.0</td>\n",
       "      <td>2023-11-05</td>\n",
       "      <td>1438.2</td>\n",
       "      <td>1830.333333</td>\n",
       "      <td>3155.226804</td>\n",
       "      <td>2023</td>\n",
       "      <td>Juraj Tóth</td>\n",
       "    </tr>\n",
       "    <tr>\n",
       "      <th>97</th>\n",
       "      <td>98</td>\n",
       "      <td>Pavol</td>\n",
       "      <td>Kováč</td>\n",
       "      <td>45</td>\n",
       "      <td>Poprad</td>\n",
       "      <td>1295.0</td>\n",
       "      <td>2023-11-12</td>\n",
       "      <td>1165.5</td>\n",
       "      <td>1719.333333</td>\n",
       "      <td>3136.244898</td>\n",
       "      <td>2023</td>\n",
       "      <td>Pavol Kováč</td>\n",
       "    </tr>\n",
       "    <tr>\n",
       "      <th>98</th>\n",
       "      <td>99</td>\n",
       "      <td>Juraj</td>\n",
       "      <td>Horváth</td>\n",
       "      <td>64</td>\n",
       "      <td>Nitra</td>\n",
       "      <td>3402.0</td>\n",
       "      <td>2023-11-19</td>\n",
       "      <td>2721.6</td>\n",
       "      <td>2098.333333</td>\n",
       "      <td>3138.929293</td>\n",
       "      <td>2023</td>\n",
       "      <td>Juraj Horváth</td>\n",
       "    </tr>\n",
       "    <tr>\n",
       "      <th>99</th>\n",
       "      <td>100</td>\n",
       "      <td>Matej</td>\n",
       "      <td>Nagy</td>\n",
       "      <td>50</td>\n",
       "      <td>Trnava</td>\n",
       "      <td>2719.0</td>\n",
       "      <td>2023-11-26</td>\n",
       "      <td>2447.1</td>\n",
       "      <td>2472.000000</td>\n",
       "      <td>3134.730000</td>\n",
       "      <td>2023</td>\n",
       "      <td>Matej Nagy</td>\n",
       "    </tr>\n",
       "  </tbody>\n",
       "</table>\n",
       "<p>100 rows × 12 columns</p>\n",
       "</div>"
      ]
     },
     "metadata": {},
     "output_type": "display_data"
    }
   ],
   "metadata": {
    "datalore": {
     "node_id": "YC7UApfG4m4ZITvAdEfUM1",
     "type": "CODE",
     "hide_input_from_viewers": true,
     "hide_output_from_viewers": true
    }
   }
  },
  {
   "cell_type": "markdown",
   "source": [
    "## Využitie apply() pre transformáciu dát\n",
    "Metóda apply() umožňuje aplikovať funkciu na každý element stĺpca alebo riadku DataFrame."
   ],
   "attachments": {},
   "metadata": {
    "datalore": {
     "node_id": "Mjkpl2yFuBitHUEnH9KNVV",
     "type": "MD",
     "hide_input_from_viewers": true,
     "hide_output_from_viewers": true
    }
   }
  },
  {
   "cell_type": "code",
   "source": [
    "# Vytvorenie funkcie, ktorá kategorizuje vek\n",
    "def kategorizuj_vek(vek):\n",
    "    if vek < 30:\n",
    "        return 'Mladý'\n",
    "    elif vek < 60:\n",
    "        return 'Stredný vek'\n",
    "    else:\n",
    "        return 'Starší'\n",
    "\n",
    "# Aplikovanie funkcie na stĺpec 'Vek'\n",
    "df2['Veková kategória'] = df2['Vek'].apply(kategorizuj_vek)\n",
    "df2"
   ],
   "execution_count": 21,
   "outputs": [
    {
     "data": {
      "text/html": [
       "<div>\n",
       "<style scoped>\n",
       "    .dataframe tbody tr th:only-of-type {\n",
       "        vertical-align: middle;\n",
       "    }\n",
       "\n",
       "    .dataframe tbody tr th {\n",
       "        vertical-align: top;\n",
       "    }\n",
       "\n",
       "    .dataframe thead th {\n",
       "        text-align: right;\n",
       "    }\n",
       "</style>\n",
       "<table border=\"1\" class=\"dataframe\">\n",
       "  <thead>\n",
       "    <tr style=\"text-align: right;\">\n",
       "      <th></th>\n",
       "      <th>ID</th>\n",
       "      <th>Meno</th>\n",
       "      <th>Priezvisko</th>\n",
       "      <th>Vek</th>\n",
       "      <th>Mesto</th>\n",
       "      <th>Mzda</th>\n",
       "      <th>Datum</th>\n",
       "      <th>Mzda_po_Zdaneni</th>\n",
       "      <th>Mzda_Pohyblivy_Priemer</th>\n",
       "      <th>Mzda_Expanzny_Priemer</th>\n",
       "      <th>Rok</th>\n",
       "      <th>Plný názov</th>\n",
       "      <th>Veková kategória</th>\n",
       "    </tr>\n",
       "  </thead>\n",
       "  <tbody>\n",
       "    <tr>\n",
       "      <th>0</th>\n",
       "      <td>1</td>\n",
       "      <td>Pavol</td>\n",
       "      <td>Horváth</td>\n",
       "      <td>39</td>\n",
       "      <td>Nitra</td>\n",
       "      <td>2050.0</td>\n",
       "      <td>2022-01-02</td>\n",
       "      <td>1845.0</td>\n",
       "      <td>NaN</td>\n",
       "      <td>2050.000000</td>\n",
       "      <td>2022</td>\n",
       "      <td>Pavol Horváth</td>\n",
       "      <td>Stredný vek</td>\n",
       "    </tr>\n",
       "    <tr>\n",
       "      <th>1</th>\n",
       "      <td>2</td>\n",
       "      <td>Lukáš</td>\n",
       "      <td>Slovak</td>\n",
       "      <td>28</td>\n",
       "      <td>Prešov</td>\n",
       "      <td>2831.0</td>\n",
       "      <td>2022-01-09</td>\n",
       "      <td>2547.9</td>\n",
       "      <td>NaN</td>\n",
       "      <td>2440.500000</td>\n",
       "      <td>2022</td>\n",
       "      <td>Lukáš Slovak</td>\n",
       "      <td>Mladý</td>\n",
       "    </tr>\n",
       "    <tr>\n",
       "      <th>2</th>\n",
       "      <td>3</td>\n",
       "      <td>Matej</td>\n",
       "      <td>Farkaš</td>\n",
       "      <td>33</td>\n",
       "      <td>Žilina</td>\n",
       "      <td>1912.0</td>\n",
       "      <td>2022-01-16</td>\n",
       "      <td>1720.8</td>\n",
       "      <td>2264.333333</td>\n",
       "      <td>2264.333333</td>\n",
       "      <td>2022</td>\n",
       "      <td>Matej Farkaš</td>\n",
       "      <td>Stredný vek</td>\n",
       "    </tr>\n",
       "    <tr>\n",
       "      <th>3</th>\n",
       "      <td>4</td>\n",
       "      <td>Tomáš</td>\n",
       "      <td>Farkaš</td>\n",
       "      <td>50</td>\n",
       "      <td>Prešov</td>\n",
       "      <td>2564.0</td>\n",
       "      <td>2022-01-23</td>\n",
       "      <td>2307.6</td>\n",
       "      <td>2435.666667</td>\n",
       "      <td>2339.250000</td>\n",
       "      <td>2022</td>\n",
       "      <td>Tomáš Farkaš</td>\n",
       "      <td>Stredný vek</td>\n",
       "    </tr>\n",
       "    <tr>\n",
       "      <th>4</th>\n",
       "      <td>5</td>\n",
       "      <td>Pavol</td>\n",
       "      <td>Baláž</td>\n",
       "      <td>26</td>\n",
       "      <td>Bratislava</td>\n",
       "      <td>1981.0</td>\n",
       "      <td>2022-01-30</td>\n",
       "      <td>1782.9</td>\n",
       "      <td>2152.333333</td>\n",
       "      <td>2267.600000</td>\n",
       "      <td>2022</td>\n",
       "      <td>Pavol Baláž</td>\n",
       "      <td>Mladý</td>\n",
       "    </tr>\n",
       "    <tr>\n",
       "      <th>...</th>\n",
       "      <td>...</td>\n",
       "      <td>...</td>\n",
       "      <td>...</td>\n",
       "      <td>...</td>\n",
       "      <td>...</td>\n",
       "      <td>...</td>\n",
       "      <td>...</td>\n",
       "      <td>...</td>\n",
       "      <td>...</td>\n",
       "      <td>...</td>\n",
       "      <td>...</td>\n",
       "      <td>...</td>\n",
       "      <td>...</td>\n",
       "    </tr>\n",
       "    <tr>\n",
       "      <th>95</th>\n",
       "      <td>96</td>\n",
       "      <td>Robert</td>\n",
       "      <td>Baláž</td>\n",
       "      <td>47</td>\n",
       "      <td>Poprad</td>\n",
       "      <td>2265.0</td>\n",
       "      <td>2023-10-29</td>\n",
       "      <td>2038.5</td>\n",
       "      <td>1796.000000</td>\n",
       "      <td>3171.447917</td>\n",
       "      <td>2023</td>\n",
       "      <td>Robert Baláž</td>\n",
       "      <td>Stredný vek</td>\n",
       "    </tr>\n",
       "    <tr>\n",
       "      <th>96</th>\n",
       "      <td>97</td>\n",
       "      <td>Juraj</td>\n",
       "      <td>Tóth</td>\n",
       "      <td>50</td>\n",
       "      <td>Nitra</td>\n",
       "      <td>1598.0</td>\n",
       "      <td>2023-11-05</td>\n",
       "      <td>1438.2</td>\n",
       "      <td>1830.333333</td>\n",
       "      <td>3155.226804</td>\n",
       "      <td>2023</td>\n",
       "      <td>Juraj Tóth</td>\n",
       "      <td>Stredný vek</td>\n",
       "    </tr>\n",
       "    <tr>\n",
       "      <th>97</th>\n",
       "      <td>98</td>\n",
       "      <td>Pavol</td>\n",
       "      <td>Kováč</td>\n",
       "      <td>45</td>\n",
       "      <td>Poprad</td>\n",
       "      <td>1295.0</td>\n",
       "      <td>2023-11-12</td>\n",
       "      <td>1165.5</td>\n",
       "      <td>1719.333333</td>\n",
       "      <td>3136.244898</td>\n",
       "      <td>2023</td>\n",
       "      <td>Pavol Kováč</td>\n",
       "      <td>Stredný vek</td>\n",
       "    </tr>\n",
       "    <tr>\n",
       "      <th>98</th>\n",
       "      <td>99</td>\n",
       "      <td>Juraj</td>\n",
       "      <td>Horváth</td>\n",
       "      <td>64</td>\n",
       "      <td>Nitra</td>\n",
       "      <td>3402.0</td>\n",
       "      <td>2023-11-19</td>\n",
       "      <td>2721.6</td>\n",
       "      <td>2098.333333</td>\n",
       "      <td>3138.929293</td>\n",
       "      <td>2023</td>\n",
       "      <td>Juraj Horváth</td>\n",
       "      <td>Starší</td>\n",
       "    </tr>\n",
       "    <tr>\n",
       "      <th>99</th>\n",
       "      <td>100</td>\n",
       "      <td>Matej</td>\n",
       "      <td>Nagy</td>\n",
       "      <td>50</td>\n",
       "      <td>Trnava</td>\n",
       "      <td>2719.0</td>\n",
       "      <td>2023-11-26</td>\n",
       "      <td>2447.1</td>\n",
       "      <td>2472.000000</td>\n",
       "      <td>3134.730000</td>\n",
       "      <td>2023</td>\n",
       "      <td>Matej Nagy</td>\n",
       "      <td>Stredný vek</td>\n",
       "    </tr>\n",
       "  </tbody>\n",
       "</table>\n",
       "<p>100 rows × 13 columns</p>\n",
       "</div>"
      ]
     },
     "metadata": {},
     "output_type": "display_data"
    }
   ],
   "metadata": {
    "datalore": {
     "node_id": "e7UTiYxOMvXCblgnqao496",
     "type": "CODE",
     "hide_input_from_viewers": true,
     "hide_output_from_viewers": true
    }
   }
  },
  {
   "cell_type": "markdown",
   "source": [
    "## Práca s textovými dátami"
   ],
   "attachments": {},
   "metadata": {
    "datalore": {
     "node_id": "v3yxWbStZO2JIoWNHgGvDx",
     "type": "MD",
     "hide_input_from_viewers": true,
     "hide_output_from_viewers": true
    }
   }
  },
  {
   "cell_type": "code",
   "source": [
    "# Prevod všetkých textových hodnôt v stĺpci 'Mesto' na malé písmená\n",
    "df2['Mesto'] = df2['Mesto'].str.lower()\n",
    "\n",
    "# Získanie dĺžky reťazca v stĺpci 'Meno'\n",
    "df2['Dĺžka mena'] = df2['Meno'].str.len()\n",
    "df2"
   ],
   "execution_count": 24,
   "outputs": [
    {
     "data": {
      "text/html": [
       "<div>\n",
       "<style scoped>\n",
       "    .dataframe tbody tr th:only-of-type {\n",
       "        vertical-align: middle;\n",
       "    }\n",
       "\n",
       "    .dataframe tbody tr th {\n",
       "        vertical-align: top;\n",
       "    }\n",
       "\n",
       "    .dataframe thead th {\n",
       "        text-align: right;\n",
       "    }\n",
       "</style>\n",
       "<table border=\"1\" class=\"dataframe\">\n",
       "  <thead>\n",
       "    <tr style=\"text-align: right;\">\n",
       "      <th></th>\n",
       "      <th>ID</th>\n",
       "      <th>Meno</th>\n",
       "      <th>Priezvisko</th>\n",
       "      <th>Vek</th>\n",
       "      <th>Mesto</th>\n",
       "      <th>Mzda</th>\n",
       "      <th>Datum</th>\n",
       "      <th>Mzda_po_Zdaneni</th>\n",
       "      <th>Mzda_Pohyblivy_Priemer</th>\n",
       "      <th>Mzda_Expanzny_Priemer</th>\n",
       "      <th>Rok</th>\n",
       "      <th>Plný názov</th>\n",
       "      <th>Veková kategória</th>\n",
       "      <th>Dĺžka mena</th>\n",
       "    </tr>\n",
       "  </thead>\n",
       "  <tbody>\n",
       "    <tr>\n",
       "      <th>0</th>\n",
       "      <td>1</td>\n",
       "      <td>Pavol</td>\n",
       "      <td>Horváth</td>\n",
       "      <td>39</td>\n",
       "      <td>nitra</td>\n",
       "      <td>2050.0</td>\n",
       "      <td>2022-01-02</td>\n",
       "      <td>1845.0</td>\n",
       "      <td>NaN</td>\n",
       "      <td>2050.000000</td>\n",
       "      <td>2022</td>\n",
       "      <td>Pavol Horváth</td>\n",
       "      <td>Stredný vek</td>\n",
       "      <td>5</td>\n",
       "    </tr>\n",
       "    <tr>\n",
       "      <th>1</th>\n",
       "      <td>2</td>\n",
       "      <td>Lukáš</td>\n",
       "      <td>Slovak</td>\n",
       "      <td>28</td>\n",
       "      <td>prešov</td>\n",
       "      <td>2831.0</td>\n",
       "      <td>2022-01-09</td>\n",
       "      <td>2547.9</td>\n",
       "      <td>NaN</td>\n",
       "      <td>2440.500000</td>\n",
       "      <td>2022</td>\n",
       "      <td>Lukáš Slovak</td>\n",
       "      <td>Mladý</td>\n",
       "      <td>5</td>\n",
       "    </tr>\n",
       "    <tr>\n",
       "      <th>2</th>\n",
       "      <td>3</td>\n",
       "      <td>Matej</td>\n",
       "      <td>Farkaš</td>\n",
       "      <td>33</td>\n",
       "      <td>žilina</td>\n",
       "      <td>1912.0</td>\n",
       "      <td>2022-01-16</td>\n",
       "      <td>1720.8</td>\n",
       "      <td>2264.333333</td>\n",
       "      <td>2264.333333</td>\n",
       "      <td>2022</td>\n",
       "      <td>Matej Farkaš</td>\n",
       "      <td>Stredný vek</td>\n",
       "      <td>5</td>\n",
       "    </tr>\n",
       "    <tr>\n",
       "      <th>3</th>\n",
       "      <td>4</td>\n",
       "      <td>Tomáš</td>\n",
       "      <td>Farkaš</td>\n",
       "      <td>50</td>\n",
       "      <td>prešov</td>\n",
       "      <td>2564.0</td>\n",
       "      <td>2022-01-23</td>\n",
       "      <td>2307.6</td>\n",
       "      <td>2435.666667</td>\n",
       "      <td>2339.250000</td>\n",
       "      <td>2022</td>\n",
       "      <td>Tomáš Farkaš</td>\n",
       "      <td>Stredný vek</td>\n",
       "      <td>5</td>\n",
       "    </tr>\n",
       "    <tr>\n",
       "      <th>4</th>\n",
       "      <td>5</td>\n",
       "      <td>Pavol</td>\n",
       "      <td>Baláž</td>\n",
       "      <td>26</td>\n",
       "      <td>bratislava</td>\n",
       "      <td>1981.0</td>\n",
       "      <td>2022-01-30</td>\n",
       "      <td>1782.9</td>\n",
       "      <td>2152.333333</td>\n",
       "      <td>2267.600000</td>\n",
       "      <td>2022</td>\n",
       "      <td>Pavol Baláž</td>\n",
       "      <td>Mladý</td>\n",
       "      <td>5</td>\n",
       "    </tr>\n",
       "    <tr>\n",
       "      <th>...</th>\n",
       "      <td>...</td>\n",
       "      <td>...</td>\n",
       "      <td>...</td>\n",
       "      <td>...</td>\n",
       "      <td>...</td>\n",
       "      <td>...</td>\n",
       "      <td>...</td>\n",
       "      <td>...</td>\n",
       "      <td>...</td>\n",
       "      <td>...</td>\n",
       "      <td>...</td>\n",
       "      <td>...</td>\n",
       "      <td>...</td>\n",
       "      <td>...</td>\n",
       "    </tr>\n",
       "    <tr>\n",
       "      <th>95</th>\n",
       "      <td>96</td>\n",
       "      <td>Robert</td>\n",
       "      <td>Baláž</td>\n",
       "      <td>47</td>\n",
       "      <td>poprad</td>\n",
       "      <td>2265.0</td>\n",
       "      <td>2023-10-29</td>\n",
       "      <td>2038.5</td>\n",
       "      <td>1796.000000</td>\n",
       "      <td>3171.447917</td>\n",
       "      <td>2023</td>\n",
       "      <td>Robert Baláž</td>\n",
       "      <td>Stredný vek</td>\n",
       "      <td>6</td>\n",
       "    </tr>\n",
       "    <tr>\n",
       "      <th>96</th>\n",
       "      <td>97</td>\n",
       "      <td>Juraj</td>\n",
       "      <td>Tóth</td>\n",
       "      <td>50</td>\n",
       "      <td>nitra</td>\n",
       "      <td>1598.0</td>\n",
       "      <td>2023-11-05</td>\n",
       "      <td>1438.2</td>\n",
       "      <td>1830.333333</td>\n",
       "      <td>3155.226804</td>\n",
       "      <td>2023</td>\n",
       "      <td>Juraj Tóth</td>\n",
       "      <td>Stredný vek</td>\n",
       "      <td>5</td>\n",
       "    </tr>\n",
       "    <tr>\n",
       "      <th>97</th>\n",
       "      <td>98</td>\n",
       "      <td>Pavol</td>\n",
       "      <td>Kováč</td>\n",
       "      <td>45</td>\n",
       "      <td>poprad</td>\n",
       "      <td>1295.0</td>\n",
       "      <td>2023-11-12</td>\n",
       "      <td>1165.5</td>\n",
       "      <td>1719.333333</td>\n",
       "      <td>3136.244898</td>\n",
       "      <td>2023</td>\n",
       "      <td>Pavol Kováč</td>\n",
       "      <td>Stredný vek</td>\n",
       "      <td>5</td>\n",
       "    </tr>\n",
       "    <tr>\n",
       "      <th>98</th>\n",
       "      <td>99</td>\n",
       "      <td>Juraj</td>\n",
       "      <td>Horváth</td>\n",
       "      <td>64</td>\n",
       "      <td>nitra</td>\n",
       "      <td>3402.0</td>\n",
       "      <td>2023-11-19</td>\n",
       "      <td>2721.6</td>\n",
       "      <td>2098.333333</td>\n",
       "      <td>3138.929293</td>\n",
       "      <td>2023</td>\n",
       "      <td>Juraj Horváth</td>\n",
       "      <td>Starší</td>\n",
       "      <td>5</td>\n",
       "    </tr>\n",
       "    <tr>\n",
       "      <th>99</th>\n",
       "      <td>100</td>\n",
       "      <td>Matej</td>\n",
       "      <td>Nagy</td>\n",
       "      <td>50</td>\n",
       "      <td>trnava</td>\n",
       "      <td>2719.0</td>\n",
       "      <td>2023-11-26</td>\n",
       "      <td>2447.1</td>\n",
       "      <td>2472.000000</td>\n",
       "      <td>3134.730000</td>\n",
       "      <td>2023</td>\n",
       "      <td>Matej Nagy</td>\n",
       "      <td>Stredný vek</td>\n",
       "      <td>5</td>\n",
       "    </tr>\n",
       "  </tbody>\n",
       "</table>\n",
       "<p>100 rows × 14 columns</p>\n",
       "</div>"
      ]
     },
     "metadata": {},
     "output_type": "display_data"
    }
   ],
   "metadata": {
    "datalore": {
     "node_id": "K1EfLcvFPK0CHcdvgmS3fN",
     "type": "CODE",
     "hide_input_from_viewers": true,
     "hide_output_from_viewers": true
    }
   }
  },
  {
   "cell_type": "markdown",
   "source": [
    "## indexy a MultiIndex\n",
    "Práca s hierarchickými indexami umožňuje efektívne spracovávať a analyzovať dáta usporiadané na viacerých úrovniach."
   ],
   "attachments": {},
   "metadata": {
    "datalore": {
     "node_id": "E8s4ZqBjbgt43nzU1ASfes",
     "type": "MD",
     "hide_input_from_viewers": true,
     "hide_output_from_viewers": true
    }
   }
  },
  {
   "cell_type": "code",
   "source": [
    "# Vytvorenie DataFrame s viacúrovňovým indexom\n",
    "multi_index_df = pd.DataFrame({\n",
    "    'Rok': [2020, 2020, 2021, 2021],\n",
    "    'Mesto': ['Bratislava', 'Košice', 'Bratislava', 'Košice'],\n",
    "    'Populácia': [432000, 240000, 435000, 242000]\n",
    "}).set_index(['Rok', 'Mesto'])\n",
    "\n",
    "\n",
    "# Prístup k dátam pre konkrétne mesto v konkrétnom roku\n",
    "print(multi_index_df.loc[(2020, 'Bratislava')])\n",
    "\n",
    "multi_index_df"
   ],
   "execution_count": 35,
   "outputs": [
    {
     "name": "stdout",
     "text": [
      "Populácia    432000\n",
      "Name: (2020, Bratislava), dtype: int64\n"
     ],
     "output_type": "stream"
    },
    {
     "data": {
      "text/html": [
       "<div>\n",
       "<style scoped>\n",
       "    .dataframe tbody tr th:only-of-type {\n",
       "        vertical-align: middle;\n",
       "    }\n",
       "\n",
       "    .dataframe tbody tr th {\n",
       "        vertical-align: top;\n",
       "    }\n",
       "\n",
       "    .dataframe thead th {\n",
       "        text-align: right;\n",
       "    }\n",
       "</style>\n",
       "<table border=\"1\" class=\"dataframe\">\n",
       "  <thead>\n",
       "    <tr style=\"text-align: right;\">\n",
       "      <th></th>\n",
       "      <th></th>\n",
       "      <th>Populácia</th>\n",
       "    </tr>\n",
       "    <tr>\n",
       "      <th>Rok</th>\n",
       "      <th>Mesto</th>\n",
       "      <th></th>\n",
       "    </tr>\n",
       "  </thead>\n",
       "  <tbody>\n",
       "    <tr>\n",
       "      <th rowspan=\"2\" valign=\"top\">2020</th>\n",
       "      <th>Bratislava</th>\n",
       "      <td>432000</td>\n",
       "    </tr>\n",
       "    <tr>\n",
       "      <th>Košice</th>\n",
       "      <td>240000</td>\n",
       "    </tr>\n",
       "    <tr>\n",
       "      <th rowspan=\"2\" valign=\"top\">2021</th>\n",
       "      <th>Bratislava</th>\n",
       "      <td>435000</td>\n",
       "    </tr>\n",
       "    <tr>\n",
       "      <th>Košice</th>\n",
       "      <td>242000</td>\n",
       "    </tr>\n",
       "  </tbody>\n",
       "</table>\n",
       "</div>"
      ]
     },
     "metadata": {},
     "output_type": "display_data"
    }
   ],
   "metadata": {
    "datalore": {
     "node_id": "8RUYrMN4uXFGsN7nQX7wbc",
     "type": "CODE",
     "hide_input_from_viewers": true,
     "hide_output_from_viewers": true
    }
   }
  },
  {
   "cell_type": "markdown",
   "source": [
    "## Filtrovanie dát pomocou query()"
   ],
   "attachments": {},
   "metadata": {
    "datalore": {
     "node_id": "nHNfFQ6hzcbZP06ZmyLYV2",
     "type": "MD",
     "hide_input_from_viewers": true,
     "hide_output_from_viewers": true
    }
   }
  },
  {
   "cell_type": "code",
   "source": [
    "# Filtrovanie riadkov, kde 'Mzda' je vyššia ako 2000 a 'Vek' je menší ako 50\n",
    "filtered_df = df2.query('Mzda > 2000 and Vek < 50')\n",
    "filtered_df"
   ],
   "execution_count": 50,
   "outputs": [
    {
     "data": {
      "text/html": [
       "<div>\n",
       "<style scoped>\n",
       "    .dataframe tbody tr th:only-of-type {\n",
       "        vertical-align: middle;\n",
       "    }\n",
       "\n",
       "    .dataframe tbody tr th {\n",
       "        vertical-align: top;\n",
       "    }\n",
       "\n",
       "    .dataframe thead th {\n",
       "        text-align: right;\n",
       "    }\n",
       "</style>\n",
       "<table border=\"1\" class=\"dataframe\">\n",
       "  <thead>\n",
       "    <tr style=\"text-align: right;\">\n",
       "      <th></th>\n",
       "      <th>ID</th>\n",
       "      <th>Meno</th>\n",
       "      <th>Priezvisko</th>\n",
       "      <th>Vek</th>\n",
       "      <th>Mesto</th>\n",
       "      <th>Mzda</th>\n",
       "      <th>Datum</th>\n",
       "      <th>Mzda_po_Zdaneni</th>\n",
       "      <th>Mzda_Pohyblivy_Priemer</th>\n",
       "      <th>Mzda_Expanzny_Priemer</th>\n",
       "      <th>Rok</th>\n",
       "      <th>Plný_názov</th>\n",
       "      <th>Veková_kategória</th>\n",
       "      <th>Dĺžka_mena</th>\n",
       "    </tr>\n",
       "  </thead>\n",
       "  <tbody>\n",
       "    <tr>\n",
       "      <th>0</th>\n",
       "      <td>1</td>\n",
       "      <td>Pavol</td>\n",
       "      <td>Horváth</td>\n",
       "      <td>39</td>\n",
       "      <td>nitra</td>\n",
       "      <td>2050.0</td>\n",
       "      <td>2022-01-02</td>\n",
       "      <td>1845.0</td>\n",
       "      <td>NaN</td>\n",
       "      <td>2050.000000</td>\n",
       "      <td>2022</td>\n",
       "      <td>Pavol Horváth</td>\n",
       "      <td>Stredný vek</td>\n",
       "      <td>5</td>\n",
       "    </tr>\n",
       "    <tr>\n",
       "      <th>1</th>\n",
       "      <td>2</td>\n",
       "      <td>Lukáš</td>\n",
       "      <td>Slovak</td>\n",
       "      <td>28</td>\n",
       "      <td>prešov</td>\n",
       "      <td>2831.0</td>\n",
       "      <td>2022-01-09</td>\n",
       "      <td>2547.9</td>\n",
       "      <td>NaN</td>\n",
       "      <td>2440.500000</td>\n",
       "      <td>2022</td>\n",
       "      <td>Lukáš Slovak</td>\n",
       "      <td>Mladý</td>\n",
       "      <td>5</td>\n",
       "    </tr>\n",
       "    <tr>\n",
       "      <th>6</th>\n",
       "      <td>7</td>\n",
       "      <td>Martin</td>\n",
       "      <td>Varga</td>\n",
       "      <td>33</td>\n",
       "      <td>nitra</td>\n",
       "      <td>3749.0</td>\n",
       "      <td>2022-02-13</td>\n",
       "      <td>2999.2</td>\n",
       "      <td>2380.666667</td>\n",
       "      <td>2357.000000</td>\n",
       "      <td>2022</td>\n",
       "      <td>Martin Varga</td>\n",
       "      <td>Stredný vek</td>\n",
       "      <td>6</td>\n",
       "    </tr>\n",
       "    <tr>\n",
       "      <th>8</th>\n",
       "      <td>9</td>\n",
       "      <td>Matej</td>\n",
       "      <td>Nagy</td>\n",
       "      <td>20</td>\n",
       "      <td>prešov</td>\n",
       "      <td>4572.0</td>\n",
       "      <td>2022-02-27</td>\n",
       "      <td>3657.6</td>\n",
       "      <td>3260.000000</td>\n",
       "      <td>2503.333333</td>\n",
       "      <td>2022</td>\n",
       "      <td>Matej Nagy</td>\n",
       "      <td>Mladý</td>\n",
       "      <td>5</td>\n",
       "    </tr>\n",
       "    <tr>\n",
       "      <th>9</th>\n",
       "      <td>10</td>\n",
       "      <td>Tomáš</td>\n",
       "      <td>Varga</td>\n",
       "      <td>37</td>\n",
       "      <td>trenčín</td>\n",
       "      <td>4243.0</td>\n",
       "      <td>2022-03-06</td>\n",
       "      <td>3394.4</td>\n",
       "      <td>3424.666667</td>\n",
       "      <td>2677.300000</td>\n",
       "      <td>2022</td>\n",
       "      <td>Tomáš Varga</td>\n",
       "      <td>Stredný vek</td>\n",
       "      <td>5</td>\n",
       "    </tr>\n",
       "    <tr>\n",
       "      <th>11</th>\n",
       "      <td>12</td>\n",
       "      <td>Matej</td>\n",
       "      <td>Varga</td>\n",
       "      <td>36</td>\n",
       "      <td>martin</td>\n",
       "      <td>2370.0</td>\n",
       "      <td>2022-03-20</td>\n",
       "      <td>2133.0</td>\n",
       "      <td>3861.000000</td>\n",
       "      <td>2842.750000</td>\n",
       "      <td>2022</td>\n",
       "      <td>Matej Varga</td>\n",
       "      <td>Stredný vek</td>\n",
       "      <td>5</td>\n",
       "    </tr>\n",
       "    <tr>\n",
       "      <th>13</th>\n",
       "      <td>14</td>\n",
       "      <td>Martin</td>\n",
       "      <td>Varga</td>\n",
       "      <td>20</td>\n",
       "      <td>nitra</td>\n",
       "      <td>3194.0</td>\n",
       "      <td>2022-04-03</td>\n",
       "      <td>2555.2</td>\n",
       "      <td>2348.000000</td>\n",
       "      <td>2770.500000</td>\n",
       "      <td>2022</td>\n",
       "      <td>Martin Varga</td>\n",
       "      <td>Mladý</td>\n",
       "      <td>6</td>\n",
       "    </tr>\n",
       "    <tr>\n",
       "      <th>14</th>\n",
       "      <td>15</td>\n",
       "      <td>Michal</td>\n",
       "      <td>Slovak</td>\n",
       "      <td>36</td>\n",
       "      <td>prešov</td>\n",
       "      <td>4047.0</td>\n",
       "      <td>2022-04-10</td>\n",
       "      <td>3237.6</td>\n",
       "      <td>2907.000000</td>\n",
       "      <td>2855.600000</td>\n",
       "      <td>2022</td>\n",
       "      <td>Michal Slovak</td>\n",
       "      <td>Stredný vek</td>\n",
       "      <td>6</td>\n",
       "    </tr>\n",
       "    <tr>\n",
       "      <th>15</th>\n",
       "      <td>16</td>\n",
       "      <td>Tomáš</td>\n",
       "      <td>Tóth</td>\n",
       "      <td>37</td>\n",
       "      <td>bratislava</td>\n",
       "      <td>2579.0</td>\n",
       "      <td>2022-04-17</td>\n",
       "      <td>2321.1</td>\n",
       "      <td>3273.333333</td>\n",
       "      <td>2838.312500</td>\n",
       "      <td>2022</td>\n",
       "      <td>Tomáš Tóth</td>\n",
       "      <td>Stredný vek</td>\n",
       "      <td>5</td>\n",
       "    </tr>\n",
       "    <tr>\n",
       "      <th>16</th>\n",
       "      <td>17</td>\n",
       "      <td>Peter</td>\n",
       "      <td>Molnár</td>\n",
       "      <td>49</td>\n",
       "      <td>žilina</td>\n",
       "      <td>4406.0</td>\n",
       "      <td>2022-04-24</td>\n",
       "      <td>3524.8</td>\n",
       "      <td>3677.333333</td>\n",
       "      <td>2930.529412</td>\n",
       "      <td>2022</td>\n",
       "      <td>Peter Molnár</td>\n",
       "      <td>Stredný vek</td>\n",
       "      <td>5</td>\n",
       "    </tr>\n",
       "    <tr>\n",
       "      <th>17</th>\n",
       "      <td>18</td>\n",
       "      <td>Matej</td>\n",
       "      <td>Farkaš</td>\n",
       "      <td>24</td>\n",
       "      <td>nitra</td>\n",
       "      <td>3644.0</td>\n",
       "      <td>2022-05-01</td>\n",
       "      <td>2915.2</td>\n",
       "      <td>3543.000000</td>\n",
       "      <td>2970.166667</td>\n",
       "      <td>2022</td>\n",
       "      <td>Matej Farkaš</td>\n",
       "      <td>Mladý</td>\n",
       "      <td>5</td>\n",
       "    </tr>\n",
       "    <tr>\n",
       "      <th>22</th>\n",
       "      <td>23</td>\n",
       "      <td>Robert</td>\n",
       "      <td>Varga</td>\n",
       "      <td>35</td>\n",
       "      <td>trenčín</td>\n",
       "      <td>3041.0</td>\n",
       "      <td>2022-06-05</td>\n",
       "      <td>2432.8</td>\n",
       "      <td>3067.333333</td>\n",
       "      <td>3124.608696</td>\n",
       "      <td>2022</td>\n",
       "      <td>Robert Varga</td>\n",
       "      <td>Stredný vek</td>\n",
       "      <td>6</td>\n",
       "    </tr>\n",
       "    <tr>\n",
       "      <th>24</th>\n",
       "      <td>25</td>\n",
       "      <td>Juraj</td>\n",
       "      <td>Slovak</td>\n",
       "      <td>18</td>\n",
       "      <td>banská bystrica</td>\n",
       "      <td>3859.0</td>\n",
       "      <td>2022-06-19</td>\n",
       "      <td>3087.2</td>\n",
       "      <td>3619.666667</td>\n",
       "      <td>3187.360000</td>\n",
       "      <td>2022</td>\n",
       "      <td>Juraj Slovak</td>\n",
       "      <td>Mladý</td>\n",
       "      <td>5</td>\n",
       "    </tr>\n",
       "    <tr>\n",
       "      <th>25</th>\n",
       "      <td>26</td>\n",
       "      <td>Ján</td>\n",
       "      <td>Kováč</td>\n",
       "      <td>28</td>\n",
       "      <td>poprad</td>\n",
       "      <td>3165.0</td>\n",
       "      <td>2022-06-26</td>\n",
       "      <td>2532.0</td>\n",
       "      <td>3661.000000</td>\n",
       "      <td>3186.500000</td>\n",
       "      <td>2022</td>\n",
       "      <td>Ján Kováč</td>\n",
       "      <td>Mladý</td>\n",
       "      <td>3</td>\n",
       "    </tr>\n",
       "    <tr>\n",
       "      <th>26</th>\n",
       "      <td>27</td>\n",
       "      <td>Robert</td>\n",
       "      <td>Kováč</td>\n",
       "      <td>45</td>\n",
       "      <td>prešov</td>\n",
       "      <td>3379.0</td>\n",
       "      <td>2022-07-03</td>\n",
       "      <td>2703.2</td>\n",
       "      <td>3467.666667</td>\n",
       "      <td>3193.629630</td>\n",
       "      <td>2022</td>\n",
       "      <td>Robert Kováč</td>\n",
       "      <td>Stredný vek</td>\n",
       "      <td>6</td>\n",
       "    </tr>\n",
       "    <tr>\n",
       "      <th>27</th>\n",
       "      <td>28</td>\n",
       "      <td>Martin</td>\n",
       "      <td>Tóth</td>\n",
       "      <td>42</td>\n",
       "      <td>martin</td>\n",
       "      <td>2535.0</td>\n",
       "      <td>2022-07-10</td>\n",
       "      <td>2281.5</td>\n",
       "      <td>3026.333333</td>\n",
       "      <td>3170.107143</td>\n",
       "      <td>2022</td>\n",
       "      <td>Martin Tóth</td>\n",
       "      <td>Stredný vek</td>\n",
       "      <td>6</td>\n",
       "    </tr>\n",
       "    <tr>\n",
       "      <th>28</th>\n",
       "      <td>29</td>\n",
       "      <td>Pavol</td>\n",
       "      <td>Farkaš</td>\n",
       "      <td>40</td>\n",
       "      <td>martin</td>\n",
       "      <td>2657.0</td>\n",
       "      <td>2022-07-17</td>\n",
       "      <td>2391.3</td>\n",
       "      <td>2857.000000</td>\n",
       "      <td>3152.413793</td>\n",
       "      <td>2022</td>\n",
       "      <td>Pavol Farkaš</td>\n",
       "      <td>Stredný vek</td>\n",
       "      <td>5</td>\n",
       "    </tr>\n",
       "    <tr>\n",
       "      <th>29</th>\n",
       "      <td>30</td>\n",
       "      <td>Lukáš</td>\n",
       "      <td>Farkaš</td>\n",
       "      <td>48</td>\n",
       "      <td>košice</td>\n",
       "      <td>2970.0</td>\n",
       "      <td>2022-07-24</td>\n",
       "      <td>2673.0</td>\n",
       "      <td>2720.666667</td>\n",
       "      <td>3146.333333</td>\n",
       "      <td>2022</td>\n",
       "      <td>Lukáš Farkaš</td>\n",
       "      <td>Stredný vek</td>\n",
       "      <td>5</td>\n",
       "    </tr>\n",
       "    <tr>\n",
       "      <th>30</th>\n",
       "      <td>31</td>\n",
       "      <td>Juraj</td>\n",
       "      <td>Kováč</td>\n",
       "      <td>47</td>\n",
       "      <td>banská bystrica</td>\n",
       "      <td>3749.0</td>\n",
       "      <td>2022-07-31</td>\n",
       "      <td>2999.2</td>\n",
       "      <td>3125.333333</td>\n",
       "      <td>3165.774194</td>\n",
       "      <td>2022</td>\n",
       "      <td>Juraj Kováč</td>\n",
       "      <td>Stredný vek</td>\n",
       "      <td>5</td>\n",
       "    </tr>\n",
       "    <tr>\n",
       "      <th>33</th>\n",
       "      <td>34</td>\n",
       "      <td>Martin</td>\n",
       "      <td>Nagy</td>\n",
       "      <td>24</td>\n",
       "      <td>poprad</td>\n",
       "      <td>3389.0</td>\n",
       "      <td>2022-08-21</td>\n",
       "      <td>2711.2</td>\n",
       "      <td>4056.666667</td>\n",
       "      <td>3244.382353</td>\n",
       "      <td>2022</td>\n",
       "      <td>Martin Nagy</td>\n",
       "      <td>Mladý</td>\n",
       "      <td>6</td>\n",
       "    </tr>\n",
       "    <tr>\n",
       "      <th>34</th>\n",
       "      <td>35</td>\n",
       "      <td>Pavol</td>\n",
       "      <td>Horváth</td>\n",
       "      <td>33</td>\n",
       "      <td>košice</td>\n",
       "      <td>2531.0</td>\n",
       "      <td>2022-08-28</td>\n",
       "      <td>2277.9</td>\n",
       "      <td>3516.666667</td>\n",
       "      <td>3224.000000</td>\n",
       "      <td>2022</td>\n",
       "      <td>Pavol Horváth</td>\n",
       "      <td>Stredný vek</td>\n",
       "      <td>5</td>\n",
       "    </tr>\n",
       "    <tr>\n",
       "      <th>35</th>\n",
       "      <td>36</td>\n",
       "      <td>Tomáš</td>\n",
       "      <td>Molnár</td>\n",
       "      <td>43</td>\n",
       "      <td>poprad</td>\n",
       "      <td>3716.0</td>\n",
       "      <td>2022-09-04</td>\n",
       "      <td>2972.8</td>\n",
       "      <td>3212.000000</td>\n",
       "      <td>3237.666667</td>\n",
       "      <td>2022</td>\n",
       "      <td>Tomáš Molnár</td>\n",
       "      <td>Stredný vek</td>\n",
       "      <td>5</td>\n",
       "    </tr>\n",
       "    <tr>\n",
       "      <th>37</th>\n",
       "      <td>38</td>\n",
       "      <td>Pavol</td>\n",
       "      <td>Tóth</td>\n",
       "      <td>18</td>\n",
       "      <td>martin</td>\n",
       "      <td>2248.0</td>\n",
       "      <td>2022-09-18</td>\n",
       "      <td>2023.2</td>\n",
       "      <td>2626.333333</td>\n",
       "      <td>3176.815789</td>\n",
       "      <td>2022</td>\n",
       "      <td>Pavol Tóth</td>\n",
       "      <td>Mladý</td>\n",
       "      <td>5</td>\n",
       "    </tr>\n",
       "    <tr>\n",
       "      <th>38</th>\n",
       "      <td>39</td>\n",
       "      <td>Peter</td>\n",
       "      <td>Nagy</td>\n",
       "      <td>29</td>\n",
       "      <td>bratislava</td>\n",
       "      <td>3987.0</td>\n",
       "      <td>2022-09-25</td>\n",
       "      <td>3189.6</td>\n",
       "      <td>2716.666667</td>\n",
       "      <td>3197.589744</td>\n",
       "      <td>2022</td>\n",
       "      <td>Peter Nagy</td>\n",
       "      <td>Mladý</td>\n",
       "      <td>5</td>\n",
       "    </tr>\n",
       "    <tr>\n",
       "      <th>39</th>\n",
       "      <td>40</td>\n",
       "      <td>Lukáš</td>\n",
       "      <td>Kováč</td>\n",
       "      <td>22</td>\n",
       "      <td>trenčín</td>\n",
       "      <td>3739.0</td>\n",
       "      <td>2022-10-02</td>\n",
       "      <td>2991.2</td>\n",
       "      <td>3324.666667</td>\n",
       "      <td>3211.125000</td>\n",
       "      <td>2022</td>\n",
       "      <td>Lukáš Kováč</td>\n",
       "      <td>Mladý</td>\n",
       "      <td>5</td>\n",
       "    </tr>\n",
       "    <tr>\n",
       "      <th>42</th>\n",
       "      <td>43</td>\n",
       "      <td>Robert</td>\n",
       "      <td>Szabó</td>\n",
       "      <td>26</td>\n",
       "      <td>poprad</td>\n",
       "      <td>4446.0</td>\n",
       "      <td>2022-10-23</td>\n",
       "      <td>3556.8</td>\n",
       "      <td>2492.000000</td>\n",
       "      <td>3160.953488</td>\n",
       "      <td>2022</td>\n",
       "      <td>Robert Szabó</td>\n",
       "      <td>Mladý</td>\n",
       "      <td>6</td>\n",
       "    </tr>\n",
       "    <tr>\n",
       "      <th>45</th>\n",
       "      <td>46</td>\n",
       "      <td>Tomáš</td>\n",
       "      <td>Slovak</td>\n",
       "      <td>36</td>\n",
       "      <td>prešov</td>\n",
       "      <td>2831.0</td>\n",
       "      <td>2022-11-13</td>\n",
       "      <td>2547.9</td>\n",
       "      <td>2389.666667</td>\n",
       "      <td>3110.652174</td>\n",
       "      <td>2022</td>\n",
       "      <td>Tomáš Slovak</td>\n",
       "      <td>Stredný vek</td>\n",
       "      <td>5</td>\n",
       "    </tr>\n",
       "    <tr>\n",
       "      <th>46</th>\n",
       "      <td>47</td>\n",
       "      <td>Peter</td>\n",
       "      <td>Szabó</td>\n",
       "      <td>33</td>\n",
       "      <td>košice</td>\n",
       "      <td>4646.0</td>\n",
       "      <td>2022-11-20</td>\n",
       "      <td>3716.8</td>\n",
       "      <td>3354.666667</td>\n",
       "      <td>3143.319149</td>\n",
       "      <td>2022</td>\n",
       "      <td>Peter Szabó</td>\n",
       "      <td>Stredný vek</td>\n",
       "      <td>5</td>\n",
       "    </tr>\n",
       "    <tr>\n",
       "      <th>47</th>\n",
       "      <td>48</td>\n",
       "      <td>Lukáš</td>\n",
       "      <td>Szabó</td>\n",
       "      <td>20</td>\n",
       "      <td>trenčín</td>\n",
       "      <td>3327.0</td>\n",
       "      <td>2022-11-27</td>\n",
       "      <td>2661.6</td>\n",
       "      <td>3601.333333</td>\n",
       "      <td>3147.145833</td>\n",
       "      <td>2022</td>\n",
       "      <td>Lukáš Szabó</td>\n",
       "      <td>Mladý</td>\n",
       "      <td>5</td>\n",
       "    </tr>\n",
       "    <tr>\n",
       "      <th>48</th>\n",
       "      <td>49</td>\n",
       "      <td>Pavol</td>\n",
       "      <td>Kováč</td>\n",
       "      <td>37</td>\n",
       "      <td>martin</td>\n",
       "      <td>2468.0</td>\n",
       "      <td>2022-12-04</td>\n",
       "      <td>2221.2</td>\n",
       "      <td>3480.333333</td>\n",
       "      <td>3133.285714</td>\n",
       "      <td>2022</td>\n",
       "      <td>Pavol Kováč</td>\n",
       "      <td>Stredný vek</td>\n",
       "      <td>5</td>\n",
       "    </tr>\n",
       "    <tr>\n",
       "      <th>49</th>\n",
       "      <td>50</td>\n",
       "      <td>Matej</td>\n",
       "      <td>Szabó</td>\n",
       "      <td>41</td>\n",
       "      <td>poprad</td>\n",
       "      <td>4900.0</td>\n",
       "      <td>2022-12-11</td>\n",
       "      <td>3920.0</td>\n",
       "      <td>3565.000000</td>\n",
       "      <td>3168.620000</td>\n",
       "      <td>2022</td>\n",
       "      <td>Matej Szabó</td>\n",
       "      <td>Stredný vek</td>\n",
       "      <td>5</td>\n",
       "    </tr>\n",
       "    <tr>\n",
       "      <th>51</th>\n",
       "      <td>52</td>\n",
       "      <td>Ján</td>\n",
       "      <td>Farkaš</td>\n",
       "      <td>41</td>\n",
       "      <td>trenčín</td>\n",
       "      <td>4398.0</td>\n",
       "      <td>2022-12-25</td>\n",
       "      <td>3518.4</td>\n",
       "      <td>4312.000000</td>\n",
       "      <td>3201.288462</td>\n",
       "      <td>2022</td>\n",
       "      <td>Ján Farkaš</td>\n",
       "      <td>Stredný vek</td>\n",
       "      <td>3</td>\n",
       "    </tr>\n",
       "    <tr>\n",
       "      <th>52</th>\n",
       "      <td>53</td>\n",
       "      <td>Lukáš</td>\n",
       "      <td>Nagy</td>\n",
       "      <td>28</td>\n",
       "      <td>žilina</td>\n",
       "      <td>4813.0</td>\n",
       "      <td>2023-01-01</td>\n",
       "      <td>3850.4</td>\n",
       "      <td>4283.000000</td>\n",
       "      <td>3231.698113</td>\n",
       "      <td>2023</td>\n",
       "      <td>Lukáš Nagy</td>\n",
       "      <td>Mladý</td>\n",
       "      <td>5</td>\n",
       "    </tr>\n",
       "    <tr>\n",
       "      <th>57</th>\n",
       "      <td>58</td>\n",
       "      <td>Michal</td>\n",
       "      <td>Varga</td>\n",
       "      <td>37</td>\n",
       "      <td>trnava</td>\n",
       "      <td>3446.0</td>\n",
       "      <td>2023-02-05</td>\n",
       "      <td>2756.8</td>\n",
       "      <td>4196.000000</td>\n",
       "      <td>3261.689655</td>\n",
       "      <td>2023</td>\n",
       "      <td>Michal Varga</td>\n",
       "      <td>Stredný vek</td>\n",
       "      <td>6</td>\n",
       "    </tr>\n",
       "    <tr>\n",
       "      <th>59</th>\n",
       "      <td>60</td>\n",
       "      <td>Robert</td>\n",
       "      <td>Baláž</td>\n",
       "      <td>42</td>\n",
       "      <td>košice</td>\n",
       "      <td>2982.0</td>\n",
       "      <td>2023-02-19</td>\n",
       "      <td>2683.8</td>\n",
       "      <td>2693.666667</td>\n",
       "      <td>3230.216667</td>\n",
       "      <td>2023</td>\n",
       "      <td>Robert Baláž</td>\n",
       "      <td>Stredný vek</td>\n",
       "      <td>6</td>\n",
       "    </tr>\n",
       "    <tr>\n",
       "      <th>61</th>\n",
       "      <td>62</td>\n",
       "      <td>Michal</td>\n",
       "      <td>Baláž</td>\n",
       "      <td>42</td>\n",
       "      <td>banská bystrica</td>\n",
       "      <td>3796.0</td>\n",
       "      <td>2023-03-05</td>\n",
       "      <td>3036.8</td>\n",
       "      <td>3484.000000</td>\n",
       "      <td>3246.500000</td>\n",
       "      <td>2023</td>\n",
       "      <td>Michal Baláž</td>\n",
       "      <td>Stredný vek</td>\n",
       "      <td>6</td>\n",
       "    </tr>\n",
       "    <tr>\n",
       "      <th>63</th>\n",
       "      <td>64</td>\n",
       "      <td>Robert</td>\n",
       "      <td>Kováč</td>\n",
       "      <td>35</td>\n",
       "      <td>trenčín</td>\n",
       "      <td>2525.0</td>\n",
       "      <td>2023-03-19</td>\n",
       "      <td>2272.5</td>\n",
       "      <td>2665.333333</td>\n",
       "      <td>3210.671875</td>\n",
       "      <td>2023</td>\n",
       "      <td>Robert Kováč</td>\n",
       "      <td>Stredný vek</td>\n",
       "      <td>6</td>\n",
       "    </tr>\n",
       "    <tr>\n",
       "      <th>68</th>\n",
       "      <td>69</td>\n",
       "      <td>Pavol</td>\n",
       "      <td>Farkaš</td>\n",
       "      <td>33</td>\n",
       "      <td>banská bystrica</td>\n",
       "      <td>4874.0</td>\n",
       "      <td>2023-04-23</td>\n",
       "      <td>3899.2</td>\n",
       "      <td>2468.000000</td>\n",
       "      <td>3161.927536</td>\n",
       "      <td>2023</td>\n",
       "      <td>Pavol Farkaš</td>\n",
       "      <td>Stredný vek</td>\n",
       "      <td>5</td>\n",
       "    </tr>\n",
       "    <tr>\n",
       "      <th>72</th>\n",
       "      <td>73</td>\n",
       "      <td>Peter</td>\n",
       "      <td>Tóth</td>\n",
       "      <td>21</td>\n",
       "      <td>banská bystrica</td>\n",
       "      <td>4046.0</td>\n",
       "      <td>2023-05-21</td>\n",
       "      <td>3236.8</td>\n",
       "      <td>2729.000000</td>\n",
       "      <td>3157.904110</td>\n",
       "      <td>2023</td>\n",
       "      <td>Peter Tóth</td>\n",
       "      <td>Mladý</td>\n",
       "      <td>5</td>\n",
       "    </tr>\n",
       "    <tr>\n",
       "      <th>75</th>\n",
       "      <td>76</td>\n",
       "      <td>Robert</td>\n",
       "      <td>Slovak</td>\n",
       "      <td>38</td>\n",
       "      <td>bratislava</td>\n",
       "      <td>4248.0</td>\n",
       "      <td>2023-06-11</td>\n",
       "      <td>3398.4</td>\n",
       "      <td>2396.000000</td>\n",
       "      <td>3127.828947</td>\n",
       "      <td>2023</td>\n",
       "      <td>Robert Slovak</td>\n",
       "      <td>Stredný vek</td>\n",
       "      <td>6</td>\n",
       "    </tr>\n",
       "    <tr>\n",
       "      <th>76</th>\n",
       "      <td>77</td>\n",
       "      <td>Juraj</td>\n",
       "      <td>Slovak</td>\n",
       "      <td>37</td>\n",
       "      <td>martin</td>\n",
       "      <td>3708.0</td>\n",
       "      <td>2023-06-18</td>\n",
       "      <td>2966.4</td>\n",
       "      <td>3194.666667</td>\n",
       "      <td>3135.363636</td>\n",
       "      <td>2023</td>\n",
       "      <td>Juraj Slovak</td>\n",
       "      <td>Stredný vek</td>\n",
       "      <td>5</td>\n",
       "    </tr>\n",
       "    <tr>\n",
       "      <th>78</th>\n",
       "      <td>79</td>\n",
       "      <td>Ján</td>\n",
       "      <td>Horváth</td>\n",
       "      <td>24</td>\n",
       "      <td>nitra</td>\n",
       "      <td>4365.0</td>\n",
       "      <td>2023-07-02</td>\n",
       "      <td>3492.0</td>\n",
       "      <td>3216.000000</td>\n",
       "      <td>3131.177215</td>\n",
       "      <td>2023</td>\n",
       "      <td>Ján Horváth</td>\n",
       "      <td>Mladý</td>\n",
       "      <td>3</td>\n",
       "    </tr>\n",
       "    <tr>\n",
       "      <th>79</th>\n",
       "      <td>80</td>\n",
       "      <td>Juraj</td>\n",
       "      <td>Nagy</td>\n",
       "      <td>20</td>\n",
       "      <td>trnava</td>\n",
       "      <td>3404.0</td>\n",
       "      <td>2023-07-09</td>\n",
       "      <td>2723.2</td>\n",
       "      <td>3114.666667</td>\n",
       "      <td>3134.587500</td>\n",
       "      <td>2023</td>\n",
       "      <td>Juraj Nagy</td>\n",
       "      <td>Mladý</td>\n",
       "      <td>5</td>\n",
       "    </tr>\n",
       "    <tr>\n",
       "      <th>80</th>\n",
       "      <td>81</td>\n",
       "      <td>Pavol</td>\n",
       "      <td>Farkaš</td>\n",
       "      <td>34</td>\n",
       "      <td>žilina</td>\n",
       "      <td>3867.0</td>\n",
       "      <td>2023-07-16</td>\n",
       "      <td>3093.6</td>\n",
       "      <td>3878.666667</td>\n",
       "      <td>3143.629630</td>\n",
       "      <td>2023</td>\n",
       "      <td>Pavol Farkaš</td>\n",
       "      <td>Stredný vek</td>\n",
       "      <td>5</td>\n",
       "    </tr>\n",
       "    <tr>\n",
       "      <th>82</th>\n",
       "      <td>83</td>\n",
       "      <td>Matej</td>\n",
       "      <td>Slovak</td>\n",
       "      <td>29</td>\n",
       "      <td>žilina</td>\n",
       "      <td>2022.0</td>\n",
       "      <td>2023-07-30</td>\n",
       "      <td>1819.8</td>\n",
       "      <td>3191.666667</td>\n",
       "      <td>3136.650602</td>\n",
       "      <td>2023</td>\n",
       "      <td>Matej Slovak</td>\n",
       "      <td>Mladý</td>\n",
       "      <td>5</td>\n",
       "    </tr>\n",
       "    <tr>\n",
       "      <th>83</th>\n",
       "      <td>84</td>\n",
       "      <td>Ján</td>\n",
       "      <td>Slovak</td>\n",
       "      <td>39</td>\n",
       "      <td>prešov</td>\n",
       "      <td>4979.0</td>\n",
       "      <td>2023-08-06</td>\n",
       "      <td>3983.2</td>\n",
       "      <td>3562.333333</td>\n",
       "      <td>3158.583333</td>\n",
       "      <td>2023</td>\n",
       "      <td>Ján Slovak</td>\n",
       "      <td>Stredný vek</td>\n",
       "      <td>3</td>\n",
       "    </tr>\n",
       "    <tr>\n",
       "      <th>84</th>\n",
       "      <td>85</td>\n",
       "      <td>Matej</td>\n",
       "      <td>Varga</td>\n",
       "      <td>39</td>\n",
       "      <td>trnava</td>\n",
       "      <td>2471.0</td>\n",
       "      <td>2023-08-13</td>\n",
       "      <td>2223.9</td>\n",
       "      <td>3157.333333</td>\n",
       "      <td>3150.494118</td>\n",
       "      <td>2023</td>\n",
       "      <td>Matej Varga</td>\n",
       "      <td>Stredný vek</td>\n",
       "      <td>5</td>\n",
       "    </tr>\n",
       "    <tr>\n",
       "      <th>86</th>\n",
       "      <td>87</td>\n",
       "      <td>Martin</td>\n",
       "      <td>Tóth</td>\n",
       "      <td>47</td>\n",
       "      <td>žilina</td>\n",
       "      <td>2587.0</td>\n",
       "      <td>2023-08-27</td>\n",
       "      <td>2328.3</td>\n",
       "      <td>2700.333333</td>\n",
       "      <td>3142.781609</td>\n",
       "      <td>2023</td>\n",
       "      <td>Martin Tóth</td>\n",
       "      <td>Stredný vek</td>\n",
       "      <td>6</td>\n",
       "    </tr>\n",
       "    <tr>\n",
       "      <th>90</th>\n",
       "      <td>91</td>\n",
       "      <td>Martin</td>\n",
       "      <td>Kováč</td>\n",
       "      <td>25</td>\n",
       "      <td>bratislava</td>\n",
       "      <td>3226.0</td>\n",
       "      <td>2023-09-24</td>\n",
       "      <td>2580.8</td>\n",
       "      <td>4077.333333</td>\n",
       "      <td>3191.263736</td>\n",
       "      <td>2023</td>\n",
       "      <td>Martin Kováč</td>\n",
       "      <td>Mladý</td>\n",
       "      <td>6</td>\n",
       "    </tr>\n",
       "    <tr>\n",
       "      <th>91</th>\n",
       "      <td>92</td>\n",
       "      <td>Ján</td>\n",
       "      <td>Farkaš</td>\n",
       "      <td>44</td>\n",
       "      <td>martin</td>\n",
       "      <td>3814.0</td>\n",
       "      <td>2023-10-01</td>\n",
       "      <td>3051.2</td>\n",
       "      <td>3902.000000</td>\n",
       "      <td>3198.032609</td>\n",
       "      <td>2023</td>\n",
       "      <td>Ján Farkaš</td>\n",
       "      <td>Stredný vek</td>\n",
       "      <td>3</td>\n",
       "    </tr>\n",
       "    <tr>\n",
       "      <th>92</th>\n",
       "      <td>93</td>\n",
       "      <td>Tomáš</td>\n",
       "      <td>Baláž</td>\n",
       "      <td>44</td>\n",
       "      <td>prešov</td>\n",
       "      <td>4852.0</td>\n",
       "      <td>2023-10-08</td>\n",
       "      <td>3881.6</td>\n",
       "      <td>3964.000000</td>\n",
       "      <td>3215.817204</td>\n",
       "      <td>2023</td>\n",
       "      <td>Tomáš Baláž</td>\n",
       "      <td>Stredný vek</td>\n",
       "      <td>5</td>\n",
       "    </tr>\n",
       "    <tr>\n",
       "      <th>95</th>\n",
       "      <td>96</td>\n",
       "      <td>Robert</td>\n",
       "      <td>Baláž</td>\n",
       "      <td>47</td>\n",
       "      <td>poprad</td>\n",
       "      <td>2265.0</td>\n",
       "      <td>2023-10-29</td>\n",
       "      <td>2038.5</td>\n",
       "      <td>1796.000000</td>\n",
       "      <td>3171.447917</td>\n",
       "      <td>2023</td>\n",
       "      <td>Robert Baláž</td>\n",
       "      <td>Stredný vek</td>\n",
       "      <td>6</td>\n",
       "    </tr>\n",
       "  </tbody>\n",
       "</table>\n",
       "</div>"
      ]
     },
     "metadata": {},
     "output_type": "display_data"
    }
   ],
   "metadata": {
    "datalore": {
     "node_id": "FQn6vyNHr4Ra0k0omQn8UV",
     "type": "CODE",
     "hide_input_from_viewers": true,
     "hide_output_from_viewers": true
    }
   }
  },
  {
   "cell_type": "markdown",
   "source": [
    "## Detekcia a odstránenie duplicitných záznamov"
   ],
   "attachments": {},
   "metadata": {
    "datalore": {
     "node_id": "6jFokKoGY7GlUvDC7N8j54",
     "type": "MD",
     "hide_input_from_viewers": true,
     "hide_output_from_viewers": true
    }
   }
  },
  {
   "cell_type": "code",
   "source": [
    "# Odstránenie duplicitných záznamov\n",
    "df_unique = df2.drop_duplicates()\n",
    "df_unique\n"
   ],
   "execution_count": 59,
   "outputs": [
    {
     "data": {
      "text/html": [
       "<div>\n",
       "<style scoped>\n",
       "    .dataframe tbody tr th:only-of-type {\n",
       "        vertical-align: middle;\n",
       "    }\n",
       "\n",
       "    .dataframe tbody tr th {\n",
       "        vertical-align: top;\n",
       "    }\n",
       "\n",
       "    .dataframe thead th {\n",
       "        text-align: right;\n",
       "    }\n",
       "</style>\n",
       "<table border=\"1\" class=\"dataframe\">\n",
       "  <thead>\n",
       "    <tr style=\"text-align: right;\">\n",
       "      <th></th>\n",
       "      <th>ID</th>\n",
       "      <th>Meno</th>\n",
       "      <th>Priezvisko</th>\n",
       "      <th>Vek</th>\n",
       "      <th>Mesto</th>\n",
       "      <th>Mzda</th>\n",
       "      <th>Datum</th>\n",
       "      <th>Mzda_po_Zdaneni</th>\n",
       "      <th>Mzda_Pohyblivy_Priemer</th>\n",
       "      <th>Mzda_Expanzny_Priemer</th>\n",
       "      <th>Rok</th>\n",
       "      <th>Plný_názov</th>\n",
       "      <th>Veková_kategória</th>\n",
       "      <th>Dĺžka_mena</th>\n",
       "    </tr>\n",
       "  </thead>\n",
       "  <tbody>\n",
       "    <tr>\n",
       "      <th>0</th>\n",
       "      <td>1</td>\n",
       "      <td>Pavol</td>\n",
       "      <td>Horváth</td>\n",
       "      <td>39</td>\n",
       "      <td>nitra</td>\n",
       "      <td>2050.0</td>\n",
       "      <td>2022-01-02</td>\n",
       "      <td>1845.0</td>\n",
       "      <td>NaN</td>\n",
       "      <td>2050.000000</td>\n",
       "      <td>2022</td>\n",
       "      <td>Pavol Horváth</td>\n",
       "      <td>Stredný vek</td>\n",
       "      <td>5</td>\n",
       "    </tr>\n",
       "    <tr>\n",
       "      <th>1</th>\n",
       "      <td>2</td>\n",
       "      <td>Lukáš</td>\n",
       "      <td>Slovak</td>\n",
       "      <td>28</td>\n",
       "      <td>prešov</td>\n",
       "      <td>2831.0</td>\n",
       "      <td>2022-01-09</td>\n",
       "      <td>2547.9</td>\n",
       "      <td>NaN</td>\n",
       "      <td>2440.500000</td>\n",
       "      <td>2022</td>\n",
       "      <td>Lukáš Slovak</td>\n",
       "      <td>Mladý</td>\n",
       "      <td>5</td>\n",
       "    </tr>\n",
       "    <tr>\n",
       "      <th>2</th>\n",
       "      <td>3</td>\n",
       "      <td>Matej</td>\n",
       "      <td>Farkaš</td>\n",
       "      <td>33</td>\n",
       "      <td>žilina</td>\n",
       "      <td>1912.0</td>\n",
       "      <td>2022-01-16</td>\n",
       "      <td>1720.8</td>\n",
       "      <td>2264.333333</td>\n",
       "      <td>2264.333333</td>\n",
       "      <td>2022</td>\n",
       "      <td>Matej Farkaš</td>\n",
       "      <td>Stredný vek</td>\n",
       "      <td>5</td>\n",
       "    </tr>\n",
       "    <tr>\n",
       "      <th>3</th>\n",
       "      <td>4</td>\n",
       "      <td>Tomáš</td>\n",
       "      <td>Farkaš</td>\n",
       "      <td>50</td>\n",
       "      <td>prešov</td>\n",
       "      <td>2564.0</td>\n",
       "      <td>2022-01-23</td>\n",
       "      <td>2307.6</td>\n",
       "      <td>2435.666667</td>\n",
       "      <td>2339.250000</td>\n",
       "      <td>2022</td>\n",
       "      <td>Tomáš Farkaš</td>\n",
       "      <td>Stredný vek</td>\n",
       "      <td>5</td>\n",
       "    </tr>\n",
       "    <tr>\n",
       "      <th>4</th>\n",
       "      <td>5</td>\n",
       "      <td>Pavol</td>\n",
       "      <td>Baláž</td>\n",
       "      <td>26</td>\n",
       "      <td>bratislava</td>\n",
       "      <td>1981.0</td>\n",
       "      <td>2022-01-30</td>\n",
       "      <td>1782.9</td>\n",
       "      <td>2152.333333</td>\n",
       "      <td>2267.600000</td>\n",
       "      <td>2022</td>\n",
       "      <td>Pavol Baláž</td>\n",
       "      <td>Mladý</td>\n",
       "      <td>5</td>\n",
       "    </tr>\n",
       "    <tr>\n",
       "      <th>...</th>\n",
       "      <td>...</td>\n",
       "      <td>...</td>\n",
       "      <td>...</td>\n",
       "      <td>...</td>\n",
       "      <td>...</td>\n",
       "      <td>...</td>\n",
       "      <td>...</td>\n",
       "      <td>...</td>\n",
       "      <td>...</td>\n",
       "      <td>...</td>\n",
       "      <td>...</td>\n",
       "      <td>...</td>\n",
       "      <td>...</td>\n",
       "      <td>...</td>\n",
       "    </tr>\n",
       "    <tr>\n",
       "      <th>95</th>\n",
       "      <td>96</td>\n",
       "      <td>Robert</td>\n",
       "      <td>Baláž</td>\n",
       "      <td>47</td>\n",
       "      <td>poprad</td>\n",
       "      <td>2265.0</td>\n",
       "      <td>2023-10-29</td>\n",
       "      <td>2038.5</td>\n",
       "      <td>1796.000000</td>\n",
       "      <td>3171.447917</td>\n",
       "      <td>2023</td>\n",
       "      <td>Robert Baláž</td>\n",
       "      <td>Stredný vek</td>\n",
       "      <td>6</td>\n",
       "    </tr>\n",
       "    <tr>\n",
       "      <th>96</th>\n",
       "      <td>97</td>\n",
       "      <td>Juraj</td>\n",
       "      <td>Tóth</td>\n",
       "      <td>50</td>\n",
       "      <td>nitra</td>\n",
       "      <td>1598.0</td>\n",
       "      <td>2023-11-05</td>\n",
       "      <td>1438.2</td>\n",
       "      <td>1830.333333</td>\n",
       "      <td>3155.226804</td>\n",
       "      <td>2023</td>\n",
       "      <td>Juraj Tóth</td>\n",
       "      <td>Stredný vek</td>\n",
       "      <td>5</td>\n",
       "    </tr>\n",
       "    <tr>\n",
       "      <th>97</th>\n",
       "      <td>98</td>\n",
       "      <td>Pavol</td>\n",
       "      <td>Kováč</td>\n",
       "      <td>45</td>\n",
       "      <td>poprad</td>\n",
       "      <td>1295.0</td>\n",
       "      <td>2023-11-12</td>\n",
       "      <td>1165.5</td>\n",
       "      <td>1719.333333</td>\n",
       "      <td>3136.244898</td>\n",
       "      <td>2023</td>\n",
       "      <td>Pavol Kováč</td>\n",
       "      <td>Stredný vek</td>\n",
       "      <td>5</td>\n",
       "    </tr>\n",
       "    <tr>\n",
       "      <th>98</th>\n",
       "      <td>99</td>\n",
       "      <td>Juraj</td>\n",
       "      <td>Horváth</td>\n",
       "      <td>64</td>\n",
       "      <td>nitra</td>\n",
       "      <td>3402.0</td>\n",
       "      <td>2023-11-19</td>\n",
       "      <td>2721.6</td>\n",
       "      <td>2098.333333</td>\n",
       "      <td>3138.929293</td>\n",
       "      <td>2023</td>\n",
       "      <td>Juraj Horváth</td>\n",
       "      <td>Starší</td>\n",
       "      <td>5</td>\n",
       "    </tr>\n",
       "    <tr>\n",
       "      <th>99</th>\n",
       "      <td>100</td>\n",
       "      <td>Matej</td>\n",
       "      <td>Nagy</td>\n",
       "      <td>50</td>\n",
       "      <td>trnava</td>\n",
       "      <td>2719.0</td>\n",
       "      <td>2023-11-26</td>\n",
       "      <td>2447.1</td>\n",
       "      <td>2472.000000</td>\n",
       "      <td>3134.730000</td>\n",
       "      <td>2023</td>\n",
       "      <td>Matej Nagy</td>\n",
       "      <td>Stredný vek</td>\n",
       "      <td>5</td>\n",
       "    </tr>\n",
       "  </tbody>\n",
       "</table>\n",
       "<p>100 rows × 14 columns</p>\n",
       "</div>"
      ]
     },
     "metadata": {},
     "output_type": "display_data"
    }
   ],
   "metadata": {
    "datalore": {
     "node_id": "5dsL7Co9Jiv8pa5wy79oiV",
     "type": "CODE",
     "hide_input_from_viewers": true,
     "hide_output_from_viewers": true
    }
   }
  },
  {
   "cell_type": "code",
   "source": [
    "# Identifikácia riadkov, ktoré sú duplicitné (okrem prvého výskytu)\n",
    "duplicates = df2.duplicated(keep='first')\n",
    "duplicates"
   ],
   "execution_count": 60,
   "outputs": [
    {
     "data": {
      "text/html": [
       "<pre>0     False\n",
       "1     False\n",
       "2     False\n",
       "3     False\n",
       "4     False\n",
       "      ...  \n",
       "95    False\n",
       "96    False\n",
       "97    False\n",
       "98    False\n",
       "99    False\n",
       "Length: 100, dtype: bool</pre>"
      ]
     },
     "metadata": {},
     "output_type": "display_data"
    }
   ],
   "metadata": {
    "datalore": {
     "node_id": "Hd2hqmCXVM6Bce9hIFiNXg",
     "type": "CODE",
     "hide_input_from_viewers": true,
     "hide_output_from_viewers": true
    }
   }
  },
  {
   "cell_type": "markdown",
   "source": [
    "## Práca s externými dátami"
   ],
   "attachments": {},
   "metadata": {
    "datalore": {
     "node_id": "6sKpnovnw2Q1scIQDP0kzJ",
     "type": "MD",
     "hide_input_from_viewers": true,
     "hide_output_from_viewers": true
    }
   }
  },
  {
   "cell_type": "code",
   "source": [
    "# Načítanie dát z Excel súboru\n",
    "excel_data = pd.read_excel('cesta_k_suboru.xlsx')\n",
    "\n",
    "# Zápis DataFrame do SQL databázy (potrebné spojenie s databázou)\n",
    "# df.to_sql('nazov_tabulky', con=spojenie)"
   ],
   "execution_count": null,
   "outputs": [],
   "metadata": {
    "datalore": {
     "node_id": "AREyYJ2bTOVk4RiY2ZFbff",
     "type": "CODE",
     "hide_input_from_viewers": true,
     "hide_output_from_viewers": true
    }
   }
  },
  {
   "cell_type": "markdown",
   "source": [
    "## Dynamické vytvorenie stĺpcov\n",
    "Dynamické generovanie nových stĺpcov na základe existujúcich hodnôt v DataFrame."
   ],
   "attachments": {},
   "metadata": {
    "datalore": {
     "node_id": "RtqTDmWjLfQYnBN43eLsNy",
     "type": "MD",
     "hide_input_from_viewers": true,
     "hide_output_from_viewers": true
    }
   }
  },
  {
   "cell_type": "code",
   "source": [
    "# Vytvorenie stĺpca 'Plat po zdanení' na základe podmienky\n",
    "df2['Plat po zdanení'] = df2['Mzda'].apply(lambda x: x * 0.8 if x > 3000 else x * 0.9)\n",
    "df2"
   ],
   "execution_count": 61,
   "outputs": [
    {
     "data": {
      "text/html": [
       "<div>\n",
       "<style scoped>\n",
       "    .dataframe tbody tr th:only-of-type {\n",
       "        vertical-align: middle;\n",
       "    }\n",
       "\n",
       "    .dataframe tbody tr th {\n",
       "        vertical-align: top;\n",
       "    }\n",
       "\n",
       "    .dataframe thead th {\n",
       "        text-align: right;\n",
       "    }\n",
       "</style>\n",
       "<table border=\"1\" class=\"dataframe\">\n",
       "  <thead>\n",
       "    <tr style=\"text-align: right;\">\n",
       "      <th></th>\n",
       "      <th>ID</th>\n",
       "      <th>Meno</th>\n",
       "      <th>Priezvisko</th>\n",
       "      <th>Vek</th>\n",
       "      <th>Mesto</th>\n",
       "      <th>Mzda</th>\n",
       "      <th>Datum</th>\n",
       "      <th>Mzda_po_Zdaneni</th>\n",
       "      <th>Mzda_Pohyblivy_Priemer</th>\n",
       "      <th>Mzda_Expanzny_Priemer</th>\n",
       "      <th>Rok</th>\n",
       "      <th>Plný_názov</th>\n",
       "      <th>Veková_kategória</th>\n",
       "      <th>Dĺžka_mena</th>\n",
       "      <th>Plat po zdanení</th>\n",
       "    </tr>\n",
       "  </thead>\n",
       "  <tbody>\n",
       "    <tr>\n",
       "      <th>0</th>\n",
       "      <td>1</td>\n",
       "      <td>Pavol</td>\n",
       "      <td>Horváth</td>\n",
       "      <td>39</td>\n",
       "      <td>nitra</td>\n",
       "      <td>2050.0</td>\n",
       "      <td>2022-01-02</td>\n",
       "      <td>1845.0</td>\n",
       "      <td>NaN</td>\n",
       "      <td>2050.000000</td>\n",
       "      <td>2022</td>\n",
       "      <td>Pavol Horváth</td>\n",
       "      <td>Stredný vek</td>\n",
       "      <td>5</td>\n",
       "      <td>1845.0</td>\n",
       "    </tr>\n",
       "    <tr>\n",
       "      <th>1</th>\n",
       "      <td>2</td>\n",
       "      <td>Lukáš</td>\n",
       "      <td>Slovak</td>\n",
       "      <td>28</td>\n",
       "      <td>prešov</td>\n",
       "      <td>2831.0</td>\n",
       "      <td>2022-01-09</td>\n",
       "      <td>2547.9</td>\n",
       "      <td>NaN</td>\n",
       "      <td>2440.500000</td>\n",
       "      <td>2022</td>\n",
       "      <td>Lukáš Slovak</td>\n",
       "      <td>Mladý</td>\n",
       "      <td>5</td>\n",
       "      <td>2547.9</td>\n",
       "    </tr>\n",
       "    <tr>\n",
       "      <th>2</th>\n",
       "      <td>3</td>\n",
       "      <td>Matej</td>\n",
       "      <td>Farkaš</td>\n",
       "      <td>33</td>\n",
       "      <td>žilina</td>\n",
       "      <td>1912.0</td>\n",
       "      <td>2022-01-16</td>\n",
       "      <td>1720.8</td>\n",
       "      <td>2264.333333</td>\n",
       "      <td>2264.333333</td>\n",
       "      <td>2022</td>\n",
       "      <td>Matej Farkaš</td>\n",
       "      <td>Stredný vek</td>\n",
       "      <td>5</td>\n",
       "      <td>1720.8</td>\n",
       "    </tr>\n",
       "    <tr>\n",
       "      <th>3</th>\n",
       "      <td>4</td>\n",
       "      <td>Tomáš</td>\n",
       "      <td>Farkaš</td>\n",
       "      <td>50</td>\n",
       "      <td>prešov</td>\n",
       "      <td>2564.0</td>\n",
       "      <td>2022-01-23</td>\n",
       "      <td>2307.6</td>\n",
       "      <td>2435.666667</td>\n",
       "      <td>2339.250000</td>\n",
       "      <td>2022</td>\n",
       "      <td>Tomáš Farkaš</td>\n",
       "      <td>Stredný vek</td>\n",
       "      <td>5</td>\n",
       "      <td>2307.6</td>\n",
       "    </tr>\n",
       "    <tr>\n",
       "      <th>4</th>\n",
       "      <td>5</td>\n",
       "      <td>Pavol</td>\n",
       "      <td>Baláž</td>\n",
       "      <td>26</td>\n",
       "      <td>bratislava</td>\n",
       "      <td>1981.0</td>\n",
       "      <td>2022-01-30</td>\n",
       "      <td>1782.9</td>\n",
       "      <td>2152.333333</td>\n",
       "      <td>2267.600000</td>\n",
       "      <td>2022</td>\n",
       "      <td>Pavol Baláž</td>\n",
       "      <td>Mladý</td>\n",
       "      <td>5</td>\n",
       "      <td>1782.9</td>\n",
       "    </tr>\n",
       "    <tr>\n",
       "      <th>...</th>\n",
       "      <td>...</td>\n",
       "      <td>...</td>\n",
       "      <td>...</td>\n",
       "      <td>...</td>\n",
       "      <td>...</td>\n",
       "      <td>...</td>\n",
       "      <td>...</td>\n",
       "      <td>...</td>\n",
       "      <td>...</td>\n",
       "      <td>...</td>\n",
       "      <td>...</td>\n",
       "      <td>...</td>\n",
       "      <td>...</td>\n",
       "      <td>...</td>\n",
       "      <td>...</td>\n",
       "    </tr>\n",
       "    <tr>\n",
       "      <th>95</th>\n",
       "      <td>96</td>\n",
       "      <td>Robert</td>\n",
       "      <td>Baláž</td>\n",
       "      <td>47</td>\n",
       "      <td>poprad</td>\n",
       "      <td>2265.0</td>\n",
       "      <td>2023-10-29</td>\n",
       "      <td>2038.5</td>\n",
       "      <td>1796.000000</td>\n",
       "      <td>3171.447917</td>\n",
       "      <td>2023</td>\n",
       "      <td>Robert Baláž</td>\n",
       "      <td>Stredný vek</td>\n",
       "      <td>6</td>\n",
       "      <td>2038.5</td>\n",
       "    </tr>\n",
       "    <tr>\n",
       "      <th>96</th>\n",
       "      <td>97</td>\n",
       "      <td>Juraj</td>\n",
       "      <td>Tóth</td>\n",
       "      <td>50</td>\n",
       "      <td>nitra</td>\n",
       "      <td>1598.0</td>\n",
       "      <td>2023-11-05</td>\n",
       "      <td>1438.2</td>\n",
       "      <td>1830.333333</td>\n",
       "      <td>3155.226804</td>\n",
       "      <td>2023</td>\n",
       "      <td>Juraj Tóth</td>\n",
       "      <td>Stredný vek</td>\n",
       "      <td>5</td>\n",
       "      <td>1438.2</td>\n",
       "    </tr>\n",
       "    <tr>\n",
       "      <th>97</th>\n",
       "      <td>98</td>\n",
       "      <td>Pavol</td>\n",
       "      <td>Kováč</td>\n",
       "      <td>45</td>\n",
       "      <td>poprad</td>\n",
       "      <td>1295.0</td>\n",
       "      <td>2023-11-12</td>\n",
       "      <td>1165.5</td>\n",
       "      <td>1719.333333</td>\n",
       "      <td>3136.244898</td>\n",
       "      <td>2023</td>\n",
       "      <td>Pavol Kováč</td>\n",
       "      <td>Stredný vek</td>\n",
       "      <td>5</td>\n",
       "      <td>1165.5</td>\n",
       "    </tr>\n",
       "    <tr>\n",
       "      <th>98</th>\n",
       "      <td>99</td>\n",
       "      <td>Juraj</td>\n",
       "      <td>Horváth</td>\n",
       "      <td>64</td>\n",
       "      <td>nitra</td>\n",
       "      <td>3402.0</td>\n",
       "      <td>2023-11-19</td>\n",
       "      <td>2721.6</td>\n",
       "      <td>2098.333333</td>\n",
       "      <td>3138.929293</td>\n",
       "      <td>2023</td>\n",
       "      <td>Juraj Horváth</td>\n",
       "      <td>Starší</td>\n",
       "      <td>5</td>\n",
       "      <td>2721.6</td>\n",
       "    </tr>\n",
       "    <tr>\n",
       "      <th>99</th>\n",
       "      <td>100</td>\n",
       "      <td>Matej</td>\n",
       "      <td>Nagy</td>\n",
       "      <td>50</td>\n",
       "      <td>trnava</td>\n",
       "      <td>2719.0</td>\n",
       "      <td>2023-11-26</td>\n",
       "      <td>2447.1</td>\n",
       "      <td>2472.000000</td>\n",
       "      <td>3134.730000</td>\n",
       "      <td>2023</td>\n",
       "      <td>Matej Nagy</td>\n",
       "      <td>Stredný vek</td>\n",
       "      <td>5</td>\n",
       "      <td>2447.1</td>\n",
       "    </tr>\n",
       "  </tbody>\n",
       "</table>\n",
       "<p>100 rows × 15 columns</p>\n",
       "</div>"
      ]
     },
     "metadata": {},
     "output_type": "display_data"
    }
   ],
   "metadata": {
    "datalore": {
     "node_id": "fFuZnadJVaT3NxCvlcm3QT",
     "type": "CODE",
     "hide_input_from_viewers": true,
     "hide_output_from_viewers": true
    }
   }
  },
  {
   "cell_type": "markdown",
   "source": [
    "## Skupinové transformácie\n",
    "Použitie transform() pre aplikovanie funkcií na skupiny dát, čím si zachováš pôvodnú veľkosť DataFrame."
   ],
   "attachments": {},
   "metadata": {
    "datalore": {
     "node_id": "a7pIxUEeiXcZybYSnCMY8h",
     "type": "MD",
     "hide_input_from_viewers": true,
     "hide_output_from_viewers": true
    }
   }
  },
  {
   "cell_type": "code",
   "source": [
    "# Normalizácia mzdy v rámci každého mesta\n",
    "df2['Mzda_normalizovaná'] = df2.groupby('Mesto')['Mzda'].transform(lambda x: (x - x.mean()) / x.std())\n",
    "\n",
    "df2"
   ],
   "execution_count": 67,
   "outputs": [
    {
     "data": {
      "text/html": [
       "<div>\n",
       "<style scoped>\n",
       "    .dataframe tbody tr th:only-of-type {\n",
       "        vertical-align: middle;\n",
       "    }\n",
       "\n",
       "    .dataframe tbody tr th {\n",
       "        vertical-align: top;\n",
       "    }\n",
       "\n",
       "    .dataframe thead th {\n",
       "        text-align: right;\n",
       "    }\n",
       "</style>\n",
       "<table border=\"1\" class=\"dataframe\">\n",
       "  <thead>\n",
       "    <tr style=\"text-align: right;\">\n",
       "      <th></th>\n",
       "      <th>ID</th>\n",
       "      <th>Meno</th>\n",
       "      <th>Priezvisko</th>\n",
       "      <th>Vek</th>\n",
       "      <th>Mesto</th>\n",
       "      <th>Mzda</th>\n",
       "      <th>Datum</th>\n",
       "      <th>Mzda_po_Zdaneni</th>\n",
       "      <th>Mzda_Pohyblivy_Priemer</th>\n",
       "      <th>Mzda_Expanzny_Priemer</th>\n",
       "      <th>Rok</th>\n",
       "      <th>Plný_názov</th>\n",
       "      <th>Veková_kategória</th>\n",
       "      <th>Dĺžka_mena</th>\n",
       "      <th>Plat po zdanení</th>\n",
       "      <th>Mzda_pohyblivý_priemer</th>\n",
       "      <th>Mzda_expanzný_priemer</th>\n",
       "      <th>Mzda_normalizovaná</th>\n",
       "    </tr>\n",
       "  </thead>\n",
       "  <tbody>\n",
       "    <tr>\n",
       "      <th>0</th>\n",
       "      <td>1</td>\n",
       "      <td>Pavol</td>\n",
       "      <td>Horváth</td>\n",
       "      <td>39</td>\n",
       "      <td>nitra</td>\n",
       "      <td>2050.0</td>\n",
       "      <td>2022-01-02</td>\n",
       "      <td>1845.0</td>\n",
       "      <td>NaN</td>\n",
       "      <td>2050.000000</td>\n",
       "      <td>2022</td>\n",
       "      <td>Pavol Horváth</td>\n",
       "      <td>Stredný vek</td>\n",
       "      <td>5</td>\n",
       "      <td>1845.0</td>\n",
       "      <td>NaN</td>\n",
       "      <td>2050.000000</td>\n",
       "      <td>-0.784255</td>\n",
       "    </tr>\n",
       "    <tr>\n",
       "      <th>1</th>\n",
       "      <td>2</td>\n",
       "      <td>Lukáš</td>\n",
       "      <td>Slovak</td>\n",
       "      <td>28</td>\n",
       "      <td>prešov</td>\n",
       "      <td>2831.0</td>\n",
       "      <td>2022-01-09</td>\n",
       "      <td>2547.9</td>\n",
       "      <td>NaN</td>\n",
       "      <td>2440.500000</td>\n",
       "      <td>2022</td>\n",
       "      <td>Lukáš Slovak</td>\n",
       "      <td>Mladý</td>\n",
       "      <td>5</td>\n",
       "      <td>2547.9</td>\n",
       "      <td>NaN</td>\n",
       "      <td>2440.500000</td>\n",
       "      <td>-0.662636</td>\n",
       "    </tr>\n",
       "    <tr>\n",
       "      <th>2</th>\n",
       "      <td>3</td>\n",
       "      <td>Matej</td>\n",
       "      <td>Farkaš</td>\n",
       "      <td>33</td>\n",
       "      <td>žilina</td>\n",
       "      <td>1912.0</td>\n",
       "      <td>2022-01-16</td>\n",
       "      <td>1720.8</td>\n",
       "      <td>2264.333333</td>\n",
       "      <td>2264.333333</td>\n",
       "      <td>2022</td>\n",
       "      <td>Matej Farkaš</td>\n",
       "      <td>Stredný vek</td>\n",
       "      <td>5</td>\n",
       "      <td>1720.8</td>\n",
       "      <td>2264.333333</td>\n",
       "      <td>2264.333333</td>\n",
       "      <td>-0.799397</td>\n",
       "    </tr>\n",
       "    <tr>\n",
       "      <th>3</th>\n",
       "      <td>4</td>\n",
       "      <td>Tomáš</td>\n",
       "      <td>Farkaš</td>\n",
       "      <td>50</td>\n",
       "      <td>prešov</td>\n",
       "      <td>2564.0</td>\n",
       "      <td>2022-01-23</td>\n",
       "      <td>2307.6</td>\n",
       "      <td>2435.666667</td>\n",
       "      <td>2339.250000</td>\n",
       "      <td>2022</td>\n",
       "      <td>Tomáš Farkaš</td>\n",
       "      <td>Stredný vek</td>\n",
       "      <td>5</td>\n",
       "      <td>2307.6</td>\n",
       "      <td>2435.666667</td>\n",
       "      <td>2339.250000</td>\n",
       "      <td>-0.887634</td>\n",
       "    </tr>\n",
       "    <tr>\n",
       "      <th>4</th>\n",
       "      <td>5</td>\n",
       "      <td>Pavol</td>\n",
       "      <td>Baláž</td>\n",
       "      <td>26</td>\n",
       "      <td>bratislava</td>\n",
       "      <td>1981.0</td>\n",
       "      <td>2022-01-30</td>\n",
       "      <td>1782.9</td>\n",
       "      <td>2152.333333</td>\n",
       "      <td>2267.600000</td>\n",
       "      <td>2022</td>\n",
       "      <td>Pavol Baláž</td>\n",
       "      <td>Mladý</td>\n",
       "      <td>5</td>\n",
       "      <td>1782.9</td>\n",
       "      <td>2152.333333</td>\n",
       "      <td>2267.600000</td>\n",
       "      <td>-0.851287</td>\n",
       "    </tr>\n",
       "    <tr>\n",
       "      <th>...</th>\n",
       "      <td>...</td>\n",
       "      <td>...</td>\n",
       "      <td>...</td>\n",
       "      <td>...</td>\n",
       "      <td>...</td>\n",
       "      <td>...</td>\n",
       "      <td>...</td>\n",
       "      <td>...</td>\n",
       "      <td>...</td>\n",
       "      <td>...</td>\n",
       "      <td>...</td>\n",
       "      <td>...</td>\n",
       "      <td>...</td>\n",
       "      <td>...</td>\n",
       "      <td>...</td>\n",
       "      <td>...</td>\n",
       "      <td>...</td>\n",
       "      <td>...</td>\n",
       "    </tr>\n",
       "    <tr>\n",
       "      <th>95</th>\n",
       "      <td>96</td>\n",
       "      <td>Robert</td>\n",
       "      <td>Baláž</td>\n",
       "      <td>47</td>\n",
       "      <td>poprad</td>\n",
       "      <td>2265.0</td>\n",
       "      <td>2023-10-29</td>\n",
       "      <td>2038.5</td>\n",
       "      <td>1796.000000</td>\n",
       "      <td>3171.447917</td>\n",
       "      <td>2023</td>\n",
       "      <td>Robert Baláž</td>\n",
       "      <td>Stredný vek</td>\n",
       "      <td>6</td>\n",
       "      <td>2038.5</td>\n",
       "      <td>1796.000000</td>\n",
       "      <td>3171.447917</td>\n",
       "      <td>-0.553264</td>\n",
       "    </tr>\n",
       "    <tr>\n",
       "      <th>96</th>\n",
       "      <td>97</td>\n",
       "      <td>Juraj</td>\n",
       "      <td>Tóth</td>\n",
       "      <td>50</td>\n",
       "      <td>nitra</td>\n",
       "      <td>1598.0</td>\n",
       "      <td>2023-11-05</td>\n",
       "      <td>1438.2</td>\n",
       "      <td>1830.333333</td>\n",
       "      <td>3155.226804</td>\n",
       "      <td>2023</td>\n",
       "      <td>Juraj Tóth</td>\n",
       "      <td>Stredný vek</td>\n",
       "      <td>5</td>\n",
       "      <td>1438.2</td>\n",
       "      <td>1830.333333</td>\n",
       "      <td>3155.226804</td>\n",
       "      <td>-1.150645</td>\n",
       "    </tr>\n",
       "    <tr>\n",
       "      <th>97</th>\n",
       "      <td>98</td>\n",
       "      <td>Pavol</td>\n",
       "      <td>Kováč</td>\n",
       "      <td>45</td>\n",
       "      <td>poprad</td>\n",
       "      <td>1295.0</td>\n",
       "      <td>2023-11-12</td>\n",
       "      <td>1165.5</td>\n",
       "      <td>1719.333333</td>\n",
       "      <td>3136.244898</td>\n",
       "      <td>2023</td>\n",
       "      <td>Pavol Kováč</td>\n",
       "      <td>Stredný vek</td>\n",
       "      <td>5</td>\n",
       "      <td>1165.5</td>\n",
       "      <td>1719.333333</td>\n",
       "      <td>3136.244898</td>\n",
       "      <td>-1.320148</td>\n",
       "    </tr>\n",
       "    <tr>\n",
       "      <th>98</th>\n",
       "      <td>99</td>\n",
       "      <td>Juraj</td>\n",
       "      <td>Horváth</td>\n",
       "      <td>64</td>\n",
       "      <td>nitra</td>\n",
       "      <td>3402.0</td>\n",
       "      <td>2023-11-19</td>\n",
       "      <td>2721.6</td>\n",
       "      <td>2098.333333</td>\n",
       "      <td>3138.929293</td>\n",
       "      <td>2023</td>\n",
       "      <td>Juraj Horváth</td>\n",
       "      <td>Starší</td>\n",
       "      <td>5</td>\n",
       "      <td>2721.6</td>\n",
       "      <td>2098.333333</td>\n",
       "      <td>3138.929293</td>\n",
       "      <td>0.311675</td>\n",
       "    </tr>\n",
       "    <tr>\n",
       "      <th>99</th>\n",
       "      <td>100</td>\n",
       "      <td>Matej</td>\n",
       "      <td>Nagy</td>\n",
       "      <td>50</td>\n",
       "      <td>trnava</td>\n",
       "      <td>2719.0</td>\n",
       "      <td>2023-11-26</td>\n",
       "      <td>2447.1</td>\n",
       "      <td>2472.000000</td>\n",
       "      <td>3134.730000</td>\n",
       "      <td>2023</td>\n",
       "      <td>Matej Nagy</td>\n",
       "      <td>Stredný vek</td>\n",
       "      <td>5</td>\n",
       "      <td>2447.1</td>\n",
       "      <td>2472.000000</td>\n",
       "      <td>3134.730000</td>\n",
       "      <td>-0.283870</td>\n",
       "    </tr>\n",
       "  </tbody>\n",
       "</table>\n",
       "<p>100 rows × 18 columns</p>\n",
       "</div>"
      ]
     },
     "metadata": {},
     "output_type": "display_data"
    }
   ],
   "metadata": {
    "datalore": {
     "node_id": "eo0GgIJFcuEowMqV7FLUPU",
     "type": "CODE",
     "hide_input_from_viewers": true,
     "hide_output_from_viewers": true
    }
   }
  },
  {
   "cell_type": "markdown",
   "source": [
    "## Rolling a Expanding operácie\n",
    "Použitie pohyblivých okien pre výpočet štatistík v časových radách alebo sekvenčných dátach."
   ],
   "attachments": {},
   "metadata": {
    "datalore": {
     "node_id": "cte1rR1edxt5uY1dDngCuH",
     "type": "MD",
     "hide_input_from_viewers": true,
     "hide_output_from_viewers": true
    }
   }
  },
  {
   "cell_type": "code",
   "source": [
    "# Výpočet pohyblivého priemeru mzdy pre posledné 3 pozorovania\n",
    "df2['Mzda_pohyblivý_priemer'] = df2['Mzda'].rolling(window=3).mean()\n",
    "print(df2['Mzda_pohyblivý_priemer'])\n",
    "\n",
    "# Expanzný priemer mzdy (kumulatívny priemer od začiatku do aktuálneho riadku)\n",
    "df2['Mzda_expanzný_priemer'] = df2['Mzda'].expanding().mean()\n",
    "print(df2['Mzda_expanzný_priemer'] )"
   ],
   "execution_count": 66,
   "outputs": [
    {
     "name": "stdout",
     "text": [
      "0             NaN\n",
      "1             NaN\n",
      "2     2264.333333\n",
      "3     2435.666667\n",
      "4     2152.333333\n",
      "         ...     \n",
      "95    1796.000000\n",
      "96    1830.333333\n",
      "97    1719.333333\n",
      "98    2098.333333\n",
      "99    2472.000000\n",
      "Name: Mzda_pohyblivý_priemer, Length: 100, dtype: float64\n",
      "0     2050.000000\n",
      "1     2440.500000\n",
      "2     2264.333333\n",
      "3     2339.250000\n",
      "4     2267.600000\n",
      "         ...     \n",
      "95    3171.447917\n",
      "96    3155.226804\n",
      "97    3136.244898\n",
      "98    3138.929293\n",
      "99    3134.730000\n",
      "Name: Mzda_expanzný_priemer, Length: 100, dtype: float64\n"
     ],
     "output_type": "stream"
    }
   ],
   "metadata": {
    "datalore": {
     "node_id": "2q0gAtqjnYU8Tl4WwgGBRZ",
     "type": "CODE",
     "hide_input_from_viewers": true,
     "hide_output_from_viewers": true
    }
   }
  },
  {
   "cell_type": "markdown",
   "source": [
    "# Matplotlib"
   ],
   "attachments": {},
   "metadata": {
    "datalore": {
     "node_id": "Matplotlib",
     "type": "MD",
     "hide_input_from_viewers": false,
     "hide_output_from_viewers": false,
     "sheet_delimiter": true
    }
   }
  },
  {
   "cell_type": "markdown",
   "source": [
    "# 📈 Matplotlib\n",
    "\n",
    "- Jedna z najpopulárnejších knižníc v jazyku Python na vykresľovanie grafov a vizualizáciu dát \n",
    "- Ponúka širokú škálu nástrojov na vytváranie statických, animovaných a interaktívnych vizualizácií\n",
    "- Je nízkoúrovňová knižnica grafov\n",
    "- Má syntax podobnú MATLABu\n",
    " "
   ],
   "attachments": {},
   "metadata": {
    "datalore": {
     "node_id": "wZBl1NslDVF7sCcpquZVyh",
     "type": "MD",
     "hide_input_from_viewers": true,
     "hide_output_from_viewers": true
    }
   }
  },
  {
   "cell_type": "markdown",
   "source": [
    "## Vytvorenie Jednoduchého Grafu"
   ],
   "attachments": {},
   "metadata": {
    "datalore": {
     "node_id": "1doMWUowYYn9IJcAFinaNa",
     "type": "MD",
     "hide_input_from_viewers": true,
     "hide_output_from_viewers": true
    }
   }
  },
  {
   "cell_type": "code",
   "source": [
    "import matplotlib.pyplot as plt\n",
    "\n",
    "# Dáta\n",
    "x = [1, 2, 3, 4, 5]\n",
    "y = [1, 4, 9, 16, 25]\n",
    "\n",
    "# Vytvorenie grafu\n",
    "plt.plot(x, y)\n",
    "\n",
    "# Pridanie názvov osí\n",
    "plt.xlabel('X Os')\n",
    "plt.ylabel('Y Os')\n",
    "\n",
    "# Zobrazenie grafu\n",
    "plt.show()"
   ],
   "execution_count": 6,
   "outputs": [
    {
     "data": {
      "image/png": "[encoded data removed]"
     },
     "metadata": {
      "image/png": {}
     },
     "output_type": "display_data"
    }
   ],
   "metadata": {
    "datalore": {
     "node_id": "eXEGg2VIVjNyMrSHxjucLQ",
     "type": "CODE",
     "hide_input_from_viewers": true,
     "hide_output_from_viewers": true
    }
   }
  },
  {
   "cell_type": "code",
   "source": [
    "import matplotlib.pyplot as plt\n",
    "\n",
    "# Vytvorenie hodnôt pre osi X a Y\n",
    "x = range(-10, 11)\n",
    "y = [i**2 for i in x]\n",
    "\n",
    "# Vytvorenie grafu\n",
    "plt.plot(x, y)\n",
    "\n",
    "# Pridanie popisov\n",
    "plt.title(\"Graf funkcie y = x^2\")\n",
    "plt.xlabel(\"x\")\n",
    "plt.ylabel(\"y\")\n",
    "\n",
    "# Zobrazenie grafu\n",
    "plt.show()"
   ],
   "execution_count": 1,
   "outputs": [
    {
     "data": {
      "image/png": "[encoded data removed]"
     },
     "metadata": {
      "image/png": {}
     },
     "output_type": "display_data"
    }
   ],
   "metadata": {
    "datalore": {
     "node_id": "m7epN3EXJJpqLH7rDtyyUL",
     "type": "CODE",
     "hide_input_from_viewers": true,
     "hide_output_from_viewers": true
    }
   }
  },
  {
   "cell_type": "markdown",
   "source": [
    "## Vytvorenie Viacerých Grafov v Jednom Obrázku\n",
    "ako vytvoriť viacero grafov vedľa seba pre porovnanie."
   ],
   "attachments": {},
   "metadata": {
    "datalore": {
     "node_id": "E87ychfXyzfuSlEjNxyaVm",
     "type": "MD",
     "hide_input_from_viewers": true,
     "hide_output_from_viewers": true
    }
   }
  },
  {
   "cell_type": "code",
   "source": [
    "import matplotlib.pyplot as plt\n",
    "\n",
    "# Dáta pre prvý graf\n",
    "x1 = [1, 2, 3, 4, 5]\n",
    "y1 = [1, 4, 9, 16, 25]\n",
    "\n",
    "# Dáta pre druhý graf\n",
    "x2 = [1, 2, 3, 4, 5]\n",
    "y2 = [2, 3, 5, 7, 11]\n",
    "\n",
    "# Vytvorenie prvho grafu\n",
    "plt.plot(x1, y1, label='Prvý Graf')\n",
    "\n",
    "# Vytvorenie druhého grafu\n",
    "plt.plot(x2, y2, label='Druhý Graf')\n",
    "\n",
    "# Pridanie legendy\n",
    "plt.legend()\n",
    "\n",
    "# Zobrazenie grafov\n",
    "plt.show()"
   ],
   "execution_count": 7,
   "outputs": [
    {
     "data": {
      "image/png": "[encoded data removed]"
     },
     "metadata": {
      "image/png": {}
     },
     "output_type": "display_data"
    }
   ],
   "metadata": {
    "datalore": {
     "node_id": "qQPNSQ6QDNNWohuQXSqlEr",
     "type": "CODE",
     "hide_input_from_viewers": true,
     "hide_output_from_viewers": true
    }
   }
  },
  {
   "cell_type": "code",
   "source": [
    "import matplotlib.pyplot as plt\n",
    "import numpy as np\n",
    "\n",
    "# Vytvorenie hodnôt\n",
    "x = np.linspace(0, 2, 100)\n",
    "y1 = x ** 2\n",
    "y2 = np.sin(x * np.pi)\n",
    "\n",
    "# Vytvorenie prvého grafu\n",
    "plt.subplot(1, 2, 1) # (riadky, stĺpce, index grafu)\n",
    "plt.plot(x, y1)\n",
    "plt.title(\"y = x^2\")\n",
    "\n",
    "# Vytvorenie druhého grafu\n",
    "plt.subplot(1, 2, 2)\n",
    "plt.plot(x, y2, 'r--') # 'r--' znamená červenú prerušovanú čiaru\n",
    "plt.title(\"y = sin(πx)\")\n",
    "\n",
    "# Zobrazenie grafov\n",
    "plt.show()"
   ],
   "execution_count": 2,
   "outputs": [
    {
     "data": {
      "image/png": "[encoded data removed]"
     },
     "metadata": {
      "image/png": {}
     },
     "output_type": "display_data"
    }
   ],
   "metadata": {
    "datalore": {
     "node_id": "obQGfG5jl0y6iru3kG5sa5",
     "type": "CODE",
     "hide_input_from_viewers": true,
     "hide_output_from_viewers": true
    }
   }
  },
  {
   "cell_type": "markdown",
   "source": [
    "## Vytvorenie Histogramu\n",
    "Histogram je užitočný na zobrazenie rozdelenia frekvencie hodnôt."
   ],
   "attachments": {},
   "metadata": {
    "datalore": {
     "node_id": "mMQ51y21jOF9pkklMKPtaF",
     "type": "MD",
     "hide_input_from_viewers": true,
     "hide_output_from_viewers": true
    }
   }
  },
  {
   "cell_type": "code",
   "source": [
    "import matplotlib.pyplot as plt\n",
    "import numpy as np\n",
    "\n",
    "# Náhodné dáta\n",
    "data = np.random.randn(1000)\n",
    "\n",
    "# Vytvorenie histogramu\n",
    "plt.hist(data, bins=30)\n",
    "\n",
    "# Pridanie názvov osí\n",
    "plt.xlabel('Hodnota')\n",
    "plt.ylabel('Frekvencia')\n",
    "\n",
    "# Zobrazenie histogramu\n",
    "plt.show()"
   ],
   "execution_count": 8,
   "outputs": [
    {
     "data": {
      "image/png": "[encoded data removed]"
     },
     "metadata": {
      "image/png": {}
     },
     "output_type": "display_data"
    }
   ],
   "metadata": {
    "datalore": {
     "node_id": "JOv2CfBlF6Ef2ejjUALvRQ",
     "type": "CODE",
     "hide_input_from_viewers": true,
     "hide_output_from_viewers": true
    }
   }
  },
  {
   "cell_type": "code",
   "source": [
    "import matplotlib.pyplot as plt\n",
    "import numpy as np\n",
    "\n",
    "# Generovanie náhodných dát\n",
    "data = np.random.randn(1000)\n",
    "\n",
    "# Vytvorenie histogramu\n",
    "plt.hist(data, bins=30, alpha=0.5, color='blue', edgecolor='black')\n",
    "\n",
    "# Pridanie popisov\n",
    "plt.title(\"Histogram náhodných hodnôt\")\n",
    "plt.xlabel(\"Hodnota\")\n",
    "plt.ylabel(\"Frekvencia\")\n",
    "\n",
    "# Zobrazenie histogramu\n",
    "plt.show()"
   ],
   "execution_count": 4,
   "outputs": [
    {
     "data": {
      "image/png": "[encoded data removed]"
     },
     "metadata": {
      "image/png": {}
     },
     "output_type": "display_data"
    }
   ],
   "metadata": {
    "datalore": {
     "node_id": "NuK0lJvNpHcVgu4UhSQxs4",
     "type": "CODE",
     "hide_input_from_viewers": true,
     "hide_output_from_viewers": true
    }
   }
  },
  {
   "cell_type": "markdown",
   "source": [
    "## Vytvorenie Koláčového Grafu\n",
    "Koláčový graf je dobrý na zobrazenie percentuálneho rozdelenia kategórií."
   ],
   "attachments": {},
   "metadata": {
    "datalore": {
     "node_id": "Mn7Ndrqlrtr3OHYbB0uFYo",
     "type": "MD",
     "hide_input_from_viewers": true,
     "hide_output_from_viewers": true
    }
   }
  },
  {
   "cell_type": "code",
   "source": [
    "import matplotlib.pyplot as plt\n",
    "\n",
    "# Dáta\n",
    "labels = 'A', 'B', 'C', 'D'\n",
    "sizes = [15, 30, 45, 10]\n",
    "\n",
    "# Vytvorenie koláčového grafu\n",
    "plt.pie(sizes, labels=labels, autopct='%1.1f%%', startangle=90)\n",
    "\n",
    "# Rovnaké osi pre kruhový vzhľad\n",
    "plt.axis('equal')  \n",
    "\n",
    "# Zobrazenie koláčového grafu\n",
    "plt.show()"
   ],
   "execution_count": 5,
   "outputs": [
    {
     "data": {
      "image/png": []
     },
     "metadata": {
      "image/png": {}
     },
     "output_type": "display_data"
    }
   ],
   "metadata": {
    "datalore": {
     "node_id": "h3qDK6ul0C5ndwHbmc88tQ",
     "type": "CODE",
     "hide_input_from_viewers": true,
     "hide_output_from_viewers": true
    }
   }
  },
  {
   "cell_type": "markdown",
   "source": [
    "## Vytvorenie Kontúrového Grafu\n",
    "Kontúrové grafy sú užitočné na vizualizáciu funkcií dvoch premenných. Tu je príklad, ako vytvoriť kontúrový graf funkcie z = x^2 + y^2."
   ],
   "attachments": {},
   "metadata": {
    "datalore": {
     "node_id": "Iej684XxHF1RwoiKE76yNc",
     "type": "MD",
     "hide_input_from_viewers": true,
     "hide_output_from_viewers": true
    }
   }
  },
  {
   "cell_type": "code",
   "source": [
    "import matplotlib.pyplot as plt\n",
    "import numpy as np\n",
    "\n",
    "# Vytvorenie siete hodnôt pre X a Y\n",
    "x = np.linspace(-5, 5, 50)\n",
    "y = np.linspace(-5, 5, 50)\n",
    "X, Y = np.meshgrid(x, y)\n",
    "\n",
    "# Výpočet hodnôt Z podľa funkcie\n",
    "Z = X**2 + Y**2\n",
    "\n",
    "# Vytvorenie kontúrového grafu\n",
    "plt.contourf(X, Y, Z, 20, cmap='RdGy')\n",
    "plt.colorbar()  # Zobraziť farebnú škálu\n",
    "\n",
    "# Pridanie popisov\n",
    "plt.title('Kontúrový graf z = x^2 + y^2')\n",
    "plt.xlabel('x')\n",
    "plt.ylabel('y')\n",
    "\n",
    "plt.show()"
   ],
   "execution_count": 10,
   "outputs": [
    {
     "data": {
      "image/png": "[encoded data removed]"
     },
     "metadata": {
      "image/png": {}
     },
     "output_type": "display_data"
    }
   ],
   "metadata": {
    "datalore": {
     "node_id": "Le9ygbYkjwSao0lAzwp5QL",
     "type": "CODE",
     "hide_input_from_viewers": true,
     "hide_output_from_viewers": true
    }
   }
  },
  {
   "cell_type": "markdown",
   "source": [
    "## Vytvorenie 3D Grafu\n",
    "Matplotlib môže vytvárať aj 3D vizualizácie. Tu je príklad 3D povrchového grafu"
   ],
   "attachments": {},
   "metadata": {
    "datalore": {
     "node_id": "JzmewyiQmvutt2g3LGgJbB",
     "type": "MD",
     "hide_input_from_viewers": true,
     "hide_output_from_viewers": true
    }
   }
  },
  {
   "cell_type": "code",
   "source": [
    "from mpl_toolkits.mplot3d import Axes3D\n",
    "import matplotlib.pyplot as plt\n",
    "import numpy as np\n",
    "\n",
    "fig = plt.figure()\n",
    "ax = fig.add_subplot(111, projection='3d')\n",
    "\n",
    "# Vytvorenie dát\n",
    "x = np.linspace(-5, 5, 50)\n",
    "y = np.linspace(-5, 5, 50)\n",
    "X, Y = np.meshgrid(x, y)\n",
    "Z = np.sin(np.sqrt(X**2 + Y**2))\n",
    "\n",
    "# Vytvorenie 3D povrchového grafu\n",
    "surf = ax.plot_surface(X, Y, Z, cmap='viridis')\n",
    "\n",
    "# Pridanie farebnej škály\n",
    "fig.colorbar(surf)\n",
    "\n",
    "# Pridanie popisov\n",
    "ax.set_title('3D povrchový graf sin(sqrt(x^2 + y^2))')\n",
    "ax.set_xlabel('X os')\n",
    "ax.set_ylabel('Y os')\n",
    "ax.set_zlabel('Z os')\n",
    "\n",
    "plt.show()"
   ],
   "execution_count": 11,
   "outputs": [
    {
     "data": {
      "image/png": "[encoded data removed]"
     },
     "metadata": {
      "image/png": {}
     },
     "output_type": "display_data"
    }
   ],
   "metadata": {
    "datalore": {
     "node_id": "frsGcVcPzeGwOwmorGQwNR",
     "type": "CODE",
     "hide_input_from_viewers": true,
     "hide_output_from_viewers": true
    }
   }
  },
  {
   "cell_type": "markdown",
   "source": [
    "## Vytvorenie Boxplotu\n",
    "Boxploty sú skvelé na zobrazenie distribúcie dát s ohľadom na kvartily."
   ],
   "attachments": {},
   "metadata": {
    "datalore": {
     "node_id": "7ukk28lIgb5v5EHx7vHgXX",
     "type": "MD",
     "hide_input_from_viewers": true,
     "hide_output_from_viewers": true
    }
   }
  },
  {
   "cell_type": "code",
   "source": [
    "import matplotlib.pyplot as plt\n",
    "import numpy as np\n",
    "\n",
    "# Generovanie dát\n",
    "data = np.random.rand(10, 5)\n",
    "\n",
    "# Vytvorenie boxplotu\n",
    "plt.boxplot(data)\n",
    "\n",
    "plt.title('Boxplot')\n",
    "plt.xlabel('Kategória')\n",
    "plt.ylabel('Hodnoty')\n",
    "\n",
    "plt.show()"
   ],
   "execution_count": 13,
   "outputs": [
    {
     "data": {
      "image/png": "[encoded data removed]"
     },
     "metadata": {
      "image/png": {}
     },
     "output_type": "display_data"
    }
   ],
   "metadata": {
    "datalore": {
     "node_id": "ELLHm4TRsDgVqspGS2HHkw",
     "type": "CODE",
     "hide_input_from_viewers": true,
     "hide_output_from_viewers": true
    }
   }
  },
  {
   "cell_type": "markdown",
   "source": [
    "## Vytvorenie Viacnásobných Subplotov\n",
    "Na demonštráciu, ako môžete vytvoriť viacnásobné subploty v rámci jedného obrázku"
   ],
   "attachments": {},
   "metadata": {
    "datalore": {
     "node_id": "CXU8QaMyFmAxXEgHD5HP7J",
     "type": "MD",
     "hide_input_from_viewers": true,
     "hide_output_from_viewers": true
    }
   }
  },
  {
   "cell_type": "code",
   "source": [
    "import matplotlib.pyplot as plt\n",
    "import numpy as np\n",
    "\n",
    "# Vytvorenie dát\n",
    "x = np.linspace(0, 2 * np.pi, 400)\n",
    "y1 = np.sin(x ** 2)\n",
    "y2 = np.cos(x ** 2)\n",
    "\n",
    "fig, axs = plt.subplots(2, 2)  # Vytvorenie mriežky 2x2 pre subploty\n",
    "\n",
    "# Vypĺňanie subplotov\n",
    "axs[0, 0].plot(x, y1)\n",
    "axs[0, 0].set_title('Os 0, 0')\n",
    "axs[0, 1].plot(x, y2, 'tab:orange')\n",
    "axs[0, 1].set_title('Os 0, 1')\n",
    "axs[1, 0].plot(x, -y1, 'tab:green')\n",
    "axs[1, 0].set_title('Os 1, 0')\n",
    "axs[1, 1].plot(x, -y2, 'tab:red')\n",
    "axs[1, 1].set_title('Os 1, 1')\n",
    "\n",
    "# Pre lepšiu orientáciu, automaticky nastaví rozloženie\n",
    "plt.tight_layout()\n",
    "plt.show()"
   ],
   "execution_count": 14,
   "outputs": [
    {
     "data": {
      "image/png": "[encoded data removed]"
     },
     "metadata": {
      "image/png": {}
     },
     "output_type": "display_data"
    }
   ],
   "metadata": {
    "datalore": {
     "node_id": "WxaWqEAPRVGaISMRKU1emi",
     "type": "CODE",
     "hide_input_from_viewers": true,
     "hide_output_from_viewers": true
    }
   }
  },
  {
   "cell_type": "markdown",
   "source": [
    "## Vytvorenie Stĺpcového Grafu\n",
    "Stĺpcové grafy sú ideálne na porovnávanie viacerých skupín dát."
   ],
   "attachments": {},
   "metadata": {
    "datalore": {
     "node_id": "vH8AtG5K6fhgNJq9EwphSO",
     "type": "MD",
     "hide_input_from_viewers": true,
     "hide_output_from_viewers": true
    }
   }
  },
  {
   "cell_type": "code",
   "source": [
    "import matplotlib.pyplot as plt\n",
    "import numpy as np\n",
    "\n",
    "# Nastavenie dát\n",
    "labels = ['Skupina 1', 'Skupina 2', 'Skupina 3', 'Skupina 4']\n",
    "men_means = [20, 35, 30, 35]\n",
    "women_means = [25, 32, 34, 20]\n",
    "\n",
    "x = np.arange(len(labels))  # Umiestnenie štítkov\n",
    "width = 0.35  # Šírka stĺpcov\n",
    "\n",
    "fig, ax = plt.subplots()\n",
    "rects1 = ax.bar(x - width/2, men_means, width, label='Muži')\n",
    "rects2 = ax.bar(x + width/2, women_means, width, label='Ženy')\n",
    "\n",
    "# Pridanie popisov\n",
    "ax.set_ylabel('Skóre')\n",
    "ax.set_title('Skóre podľa skupiny a pohlavia')\n",
    "ax.set_xticks(x)\n",
    "ax.set_xticklabels(labels)\n",
    "ax.legend()\n",
    "\n",
    "plt.show()"
   ],
   "execution_count": 15,
   "outputs": [
    {
     "data": {
      "image/png": "[encoded data removed]"
     },
     "metadata": {
      "image/png": {}
     },
     "output_type": "display_data"
    }
   ],
   "metadata": {
    "datalore": {
     "node_id": "KxUerrEFOvVxKJVQIWDeed",
     "type": "CODE",
     "hide_input_from_viewers": true,
     "hide_output_from_viewers": true
    }
   }
  },
  {
   "cell_type": "markdown",
   "source": [
    "## Vytvorenie Viacnásobných Čiarových Grafov\n",
    "Pre zobrazenie viacnásobných trendov v jednom diagrame."
   ],
   "attachments": {},
   "metadata": {
    "datalore": {
     "node_id": "dlK9dTlqK9EP08MJpTVbX6",
     "type": "MD",
     "hide_input_from_viewers": true,
     "hide_output_from_viewers": true
    }
   }
  },
  {
   "cell_type": "code",
   "source": [
    "import matplotlib.pyplot as plt\n",
    "\n",
    "# Dáta\n",
    "x = range(1, 6)\n",
    "y1 = [1, 4, 6, 8, 9]\n",
    "y2 = [2, 2, 7, 10, 12]\n",
    "y3 = [2, 8, 5, 10, 6]\n",
    "\n",
    "# Vytvorenie viacnásobných čiarových grafov\n",
    "plt.plot(x, y1, label=\"Skupina 1\")\n",
    "plt.plot(x, y2, label=\"Skupina 2\", linestyle='--')\n",
    "plt.plot(x, y3, label=\"Skupina 3\", linestyle=':', linewidth=4)\n",
    "\n",
    "# Pridanie legendy\n",
    "plt.legend()\n",
    "\n",
    "plt.title(\"Viacnásobné Čiarové Grafy\")\n",
    "plt.xlabel(\"X os\")\n",
    "plt.ylabel(\"Y os\")\n",
    "\n",
    "plt.show()"
   ],
   "execution_count": 16,
   "outputs": [
    {
     "data": {
      "image/png": "[encoded data removed]"
     },
     "metadata": {
      "image/png": {}
     },
     "output_type": "display_data"
    }
   ],
   "metadata": {
    "datalore": {
     "node_id": "H3C0ThiZiNYOy1oyGpJVMH",
     "type": "CODE",
     "hide_input_from_viewers": true,
     "hide_output_from_viewers": true
    }
   }
  },
  {
   "cell_type": "markdown",
   "source": [
    "## Anotácie v Grafe\n",
    "Ako pridať textové poznámky do grafu pre zvýraznenie dôležitých bodov."
   ],
   "attachments": {},
   "metadata": {
    "datalore": {
     "node_id": "qymabU5oLURqBEhhscVXTV",
     "type": "MD",
     "hide_input_from_viewers": true,
     "hide_output_from_viewers": true
    }
   }
  },
  {
   "cell_type": "code",
   "source": [
    "import matplotlib.pyplot as plt\n",
    "\n",
    "x = range(1, 10)\n",
    "y = [2, 3, 4, 5, 6, 7, 8, 9, 10]\n",
    "\n",
    "plt.plot(x, y)\n",
    "\n",
    "# Pridanie anotácie\n",
    "plt.annotate('Dôležitý bod', xy=(5, 6), xytext=(6, 6),\n",
    "             arrowprops=dict(facecolor='black', shrink=0.05))\n",
    "\n",
    "plt.title(\"Anotácie v Grafe\")\n",
    "plt.xlabel(\"X os\")\n",
    "plt.ylabel(\"Y os\")\n",
    "\n",
    "plt.show()"
   ],
   "execution_count": 17,
   "outputs": [
    {
     "data": {
      "image/png": "[encoded data removed]"
     },
     "metadata": {
      "image/png": {}
     },
     "output_type": "display_data"
    }
   ],
   "metadata": {
    "datalore": {
     "node_id": "qGvAUQf992edoHq7rgCp4t",
     "type": "CODE",
     "hide_input_from_viewers": true,
     "hide_output_from_viewers": true
    }
   }
  },
  {
   "cell_type": "markdown",
   "source": [
    "## Vytvorenie Heatmapy\n",
    "Heatmapy sú vynikajúce na zobrazenie hustoty alebo intenzity v priestore, napríklad frekvencie výskytu v matici."
   ],
   "attachments": {},
   "metadata": {
    "datalore": {
     "node_id": "gGeLHGes5SPHAD3O81gZc0",
     "type": "MD",
     "hide_input_from_viewers": true,
     "hide_output_from_viewers": true
    }
   }
  },
  {
   "cell_type": "code",
   "source": [
    "import numpy as np\n",
    "import matplotlib.pyplot as plt\n",
    "\n",
    "# Generovanie náhodných dát\n",
    "data = np.random.rand(10, 12)\n",
    "\n",
    "plt.imshow(data, cmap='hot', interpolation='nearest')\n",
    "\n",
    "plt.title(\"Heatmapa\")\n",
    "plt.colorbar()\n",
    "\n",
    "plt.show()"
   ],
   "execution_count": 18,
   "outputs": [
    {
     "data": {
      "image/png": "[encoded data removed]"
     },
     "metadata": {
      "image/png": {}
     },
     "output_type": "display_data"
    }
   ],
   "metadata": {
    "datalore": {
     "node_id": "9Va4YBrk3RDw0L5XyXSKsU",
     "type": "CODE",
     "hide_input_from_viewers": true,
     "hide_output_from_viewers": true
    }
   }
  },
  {
   "cell_type": "markdown",
   "source": [
    "## Vytvorenie Scatter Plotu (Bodového Grafu)\n",
    "Scatter ploty sú užitočné na zobrazenie vzťahov medzi dvoma premennými."
   ],
   "attachments": {},
   "metadata": {
    "datalore": {
     "node_id": "VdzDxFrVmb0FOOt1Esaitw",
     "type": "MD",
     "hide_input_from_viewers": true,
     "hide_output_from_viewers": true
    }
   }
  },
  {
   "cell_type": "code",
   "source": [
    "import matplotlib.pyplot as plt\n",
    "import numpy as np\n",
    "\n",
    "# Generovanie náhodných dát\n",
    "x = np.random.rand(50)\n",
    "y = np.random.rand(50)\n",
    "colors = np.random.rand(50)  # Farby bodov\n",
    "area = (30 * np.random.rand(50))**2  # Veľkosť bodov\n",
    "\n",
    "plt.scatter(x, y, s=area, c=colors, alpha=0.5)\n",
    "plt.title(\"Scatter Plot\")\n",
    "plt.xlabel(\"X os\")\n",
    "plt.ylabel(\"Y os\")\n",
    "\n",
    "plt.show()"
   ],
   "execution_count": 19,
   "outputs": [
    {
     "data": {
      "image/png": "[encoded data removed]"
     },
     "metadata": {
      "image/png": {}
     },
     "output_type": "display_data"
    }
   ],
   "metadata": {
    "datalore": {
     "node_id": "oi0DJZHpmfwcq9JCkaDMwc",
     "type": "CODE",
     "hide_input_from_viewers": true,
     "hide_output_from_viewers": true
    }
   }
  },
  {
   "cell_type": "markdown",
   "source": [
    "## Vytvorenie Vírivého Grafu (Quiver Plot)\n",
    "Vírivé grafy sú ideálne na zobrazenie vektorových polí, kde každý vektor má smer a veľkosť."
   ],
   "attachments": {},
   "metadata": {
    "datalore": {
     "node_id": "pGLhMuIdUrq3efiYh4BiXi",
     "type": "MD",
     "hide_input_from_viewers": true,
     "hide_output_from_viewers": true
    }
   }
  },
  {
   "cell_type": "code",
   "source": [
    "import matplotlib.pyplot as plt\n",
    "import numpy as np\n",
    "\n",
    "x, y = np.meshgrid(np.arange(0, 2, 0.2), np.arange(0, 2, 0.2))\n",
    "u = np.cos(x) * y\n",
    "v = np.sin(x) - y\n",
    "\n",
    "plt.quiver(x, y, u, v)\n",
    "plt.title(\"Vírivý Graf\")\n",
    "plt.xlabel(\"X os\")\n",
    "plt.ylabel(\"Y os\")\n",
    "\n",
    "plt.show()"
   ],
   "execution_count": 20,
   "outputs": [
    {
     "data": {
      "image/png": "[encoded data removed]"
     },
     "metadata": {
      "image/png": {}
     },
     "output_type": "display_data"
    }
   ],
   "metadata": {
    "datalore": {
     "node_id": "CgnVRiDNnJNXFawHiuVoSE",
     "type": "CODE",
     "hide_input_from_viewers": true,
     "hide_output_from_viewers": true
    }
   }
  },
  {
   "cell_type": "markdown",
   "source": [
    "## Vytvorenie Radarového Grafu (Spider Chart)\n",
    "Radarové grafy sú vynikajúce na porovnanie viacerých kvantitatívnych premenných."
   ],
   "attachments": {},
   "metadata": {
    "datalore": {
     "node_id": "UY6fMsThvU9oqMc3zpTlyz",
     "type": "MD",
     "hide_input_from_viewers": true,
     "hide_output_from_viewers": true
    }
   }
  },
  {
   "cell_type": "code",
   "source": [
    "import matplotlib.pyplot as plt\n",
    "import numpy as np\n",
    "\n",
    "# Dáta\n",
    "labels=np.array(['A', 'B', 'C', 'D'])\n",
    "stats=np.array([20, 34, 30, 35])\n",
    "\n",
    "angles=np.linspace(0, 2*np.pi, len(labels), endpoint=False).tolist()\n",
    "\n",
    "stats=np.concatenate((stats,[stats[0]]))\n",
    "angles+=angles[:1]\n",
    "\n",
    "fig, ax = plt.subplots(figsize=(6, 6), subplot_kw=dict(polar=True))\n",
    "ax.fill(angles, stats, color='red', alpha=0.25)\n",
    "ax.plot(angles, stats, color='red', linewidth=2)\n",
    "ax.set_yticklabels([])\n",
    "ax.set_xticks(angles[:-1])\n",
    "ax.set_xticklabels(labels)\n",
    "\n",
    "plt.title(\"Radarový Graf\")\n",
    "\n",
    "plt.show()"
   ],
   "execution_count": 22,
   "outputs": [
    {
     "data": {
      "image/png": "[encoded data removed]"
     },
     "metadata": {
      "image/png": {}
     },
     "output_type": "display_data"
    }
   ],
   "metadata": {
    "datalore": {
     "node_id": "crmIeBBPmD0CNQPEeTwVOR",
     "type": "CODE",
     "hide_input_from_viewers": true,
     "hide_output_from_viewers": true
    }
   }
  },
  {
   "cell_type": "markdown",
   "source": [
    "# Numpy"
   ],
   "attachments": {},
   "metadata": {
    "datalore": {
     "node_id": "Numpy",
     "type": "MD",
     "hide_input_from_viewers": false,
     "hide_output_from_viewers": false,
     "sheet_delimiter": true
    }
   }
  },
  {
   "cell_type": "markdown",
   "source": [
    "# 🚀 Numpy\n",
    "- Knižnica jazyka Python, ktorá poskytuje infraštruktúru pre prácu s vektormi, maticami a všeobecne viacrozmernými poliami\n",
    "- Poskytuje vysokovýkonný viacrozmerný objekt poľa (Array) a nástroje na prácu s týmito poľami\n",
    "- Výhody Numpy oproti Listu sú: menej pamäte, rýchlejšie, pohodlnejšie"
   ],
   "attachments": {},
   "metadata": {
    "datalore": {
     "node_id": "8Fo44wwIL6LkrIqCVK7LE6",
     "type": "MD",
     "hide_input_from_viewers": true,
     "hide_output_from_viewers": true
    }
   }
  },
  {
   "cell_type": "markdown",
   "source": [
    "## Vytvorenie NumPy poľa"
   ],
   "attachments": {},
   "metadata": {
    "datalore": {
     "node_id": "ngykN3VmLHw2zJLFWCRqzD",
     "type": "MD",
     "hide_input_from_viewers": true,
     "hide_output_from_viewers": true
    }
   }
  },
  {
   "cell_type": "code",
   "source": [
    "import numpy as np\n",
    "\n",
    "# Vytvorenie jednodimenzionálneho 1D poľa\n",
    "pole1D = np.array([1, 2, 3, 4, 5])\n",
    "print(f\"Jednodimenzionálne pole: {pole1D}\")\n",
    "\n",
    "# Vytvorenie dvojdimenzionálneho 2D poľa\n",
    "pole2D = np.array([[1, 2, 3], [4, 5, 6]])\n",
    "print(f\"Dvojdimenzionálne pole: {pole2D}\")"
   ],
   "execution_count": 2,
   "outputs": [
    {
     "name": "stdout",
     "text": [
      "Jednodimenzionálne pole: [1 2 3 4 5]\n",
      "Dvojdimenzionálne pole: [[1 2 3]\n",
      " [4 5 6]]\n"
     ],
     "output_type": "stream"
    }
   ],
   "metadata": {
    "datalore": {
     "node_id": "7n9ZZXMehut4UBDbx4XugM",
     "type": "CODE",
     "hide_input_from_viewers": true,
     "hide_output_from_viewers": true
    }
   }
  },
  {
   "cell_type": "markdown",
   "source": [
    "## Operácie s poliami"
   ],
   "attachments": {},
   "metadata": {
    "datalore": {
     "node_id": "IlMRlnHzKQfTPP6RSdZEir",
     "type": "MD",
     "hide_input_from_viewers": true,
     "hide_output_from_viewers": true
    }
   }
  },
  {
   "cell_type": "code",
   "source": [
    "# Sčítanie polí\n",
    "pole1 = np.array([1, 2, 3])\n",
    "pole2 = np.array([4, 5, 6])\n",
    "sucet = np.add(pole1, pole2)\n",
    "print(\"Súčet:\", sucet)\n",
    "\n",
    "# Násobenie polí\n",
    "nasobok = np.multiply(pole1, pole2)\n",
    "print(\"Násobok:\", nasobok)"
   ],
   "execution_count": 3,
   "outputs": [
    {
     "name": "stdout",
     "text": [
      "Súčet: [5 7 9]\n",
      "Násobok: [ 4 10 18]\n"
     ],
     "output_type": "stream"
    }
   ],
   "metadata": {
    "datalore": {
     "node_id": "9t84xx3vR2CX1ph9yKVnbm",
     "type": "CODE",
     "hide_input_from_viewers": true,
     "hide_output_from_viewers": true
    }
   }
  },
  {
   "cell_type": "markdown",
   "source": [
    "## Indexovanie a Slicing"
   ],
   "attachments": {},
   "metadata": {
    "datalore": {
     "node_id": "kL34L74W7z9jJoFTpKrSQt",
     "type": "MD",
     "hide_input_from_viewers": true,
     "hide_output_from_viewers": true
    }
   }
  },
  {
   "cell_type": "code",
   "source": [
    "# Indexovanie\n",
    "pole = np.array([1, 2, 3, 4, 5])\n",
    "print(\"Prvý element:\", pole[0])\n",
    "print(\"Posledný element:\", pole[-1])\n",
    "\n",
    "# Slicing\n",
    "podpole = pole[1:4]\n",
    "print(\"Podpole:\", podpole)"
   ],
   "execution_count": 4,
   "outputs": [
    {
     "name": "stdout",
     "text": [
      "Prvý element: 1\n",
      "Posledný element: 5\n",
      "Podpole: [2 3 4]\n"
     ],
     "output_type": "stream"
    }
   ],
   "metadata": {
    "datalore": {
     "node_id": "Oorglfz45baYC0rMNRYEl8",
     "type": "CODE",
     "hide_input_from_viewers": true,
     "hide_output_from_viewers": true
    }
   }
  },
  {
   "cell_type": "markdown",
   "source": [
    "## Zmena tvaru a veľkosti poľa"
   ],
   "attachments": {},
   "metadata": {
    "datalore": {
     "node_id": "yhVVDBdGBBIFmVQc9y6TnX",
     "type": "MD",
     "hide_input_from_viewers": true,
     "hide_output_from_viewers": true
    }
   }
  },
  {
   "cell_type": "code",
   "source": [
    "pole = np.arange(9) # Vytvorí pole s hodnotami od 0 do 8\n",
    "novy_tvar = pole.reshape(3, 3)\n",
    "print(\"Pole s novým tvarom:\\n\", novy_tvar)"
   ],
   "execution_count": 5,
   "outputs": [
    {
     "name": "stdout",
     "text": [
      "Pole s novým tvarom:\n",
      " [[0 1 2]\n",
      " [3 4 5]\n",
      " [6 7 8]]\n"
     ],
     "output_type": "stream"
    }
   ],
   "metadata": {
    "datalore": {
     "node_id": "QATkeaIHkTYUcGiyEIOQTk",
     "type": "CODE",
     "hide_input_from_viewers": true,
     "hide_output_from_viewers": true
    }
   }
  },
  {
   "cell_type": "markdown",
   "source": [
    "## Agregačné a štatistické funkcie"
   ],
   "attachments": {},
   "metadata": {
    "datalore": {
     "node_id": "EZoLnnor2T3E0wy1zbCQQE",
     "type": "MD",
     "hide_input_from_viewers": true,
     "hide_output_from_viewers": true
    }
   }
  },
  {
   "cell_type": "code",
   "source": [
    "pole = np.array([1, 2, 3, 4, 5])\n",
    "print(\"Maximum:\", np.max(pole))\n",
    "print(\"Priemer:\", np.mean(pole))\n",
    "print(\"Súčet:\", np.sum(pole))\n",
    "\n",
    "\n",
    "pole = np.array([1, 2, 3, 4, 5, 6])\n",
    "# Výpočet priemeru, mediánu, štandardnej odchýlky\n",
    "print(\"Priemer:\", np.mean(pole))\n",
    "print(\"Medián:\", np.median(pole))\n",
    "print(\"Štandardná odchýlka:\", np.std(pole))"
   ],
   "execution_count": 19,
   "outputs": [
    {
     "name": "stdout",
     "text": [
      "Maximum: 5\n",
      "Priemer: 3.0\n",
      "Súčet: 15\n",
      "Priemer: 3.5\n",
      "Medián: 3.5\n",
      "Štandardná odchýlka: 1.707825127659933\n"
     ],
     "output_type": "stream"
    }
   ],
   "metadata": {
    "datalore": {
     "node_id": "cG979cBJyXSMRGYheRUq9o",
     "type": "CODE",
     "hide_input_from_viewers": true,
     "hide_output_from_viewers": true
    }
   }
  },
  {
   "cell_type": "markdown",
   "source": [
    "## Boolovské indexovanie"
   ],
   "attachments": {},
   "metadata": {
    "datalore": {
     "node_id": "BzxQvsFgAHDhGT7A9qAu0P",
     "type": "MD",
     "hide_input_from_viewers": true,
     "hide_output_from_viewers": true
    }
   }
  },
  {
   "cell_type": "code",
   "source": [
    "pole = np.array([1, 2, 3, 4, 5])\n",
    "# Vráti pole pravdivých hodnôt tam, kde podmienka platí\n",
    "filtr = pole > 3\n",
    "print(\"Filtr:\", filtr)\n",
    "print(\"Pole s aplikovaným filtrom:\", pole[filtr])"
   ],
   "execution_count": 7,
   "outputs": [
    {
     "name": "stdout",
     "text": [
      "Filtr: [False False False  True  True]\n",
      "Pole s aplikovaným filtrom: [4 5]\n"
     ],
     "output_type": "stream"
    }
   ],
   "metadata": {
    "datalore": {
     "node_id": "szyu9mCq9Kldz9pSNazHdP",
     "type": "CODE",
     "hide_input_from_viewers": true,
     "hide_output_from_viewers": true
    }
   }
  },
  {
   "cell_type": "markdown",
   "source": [
    "## Vytvorenie špeciálnych polí"
   ],
   "attachments": {},
   "metadata": {
    "datalore": {
     "node_id": "Wr5NgzLcCLuKK8m5yCdLLp",
     "type": "MD",
     "hide_input_from_viewers": true,
     "hide_output_from_viewers": true
    }
   }
  },
  {
   "cell_type": "code",
   "source": [
    "import numpy as np\n",
    "\n",
    "# Vytvorenie poľa plného núl\n",
    "nuly = np.zeros((3, 3))\n",
    "print(f\"\\nPole plné núl:\\n\", nuly)\n",
    "\n",
    "# Vytvorenie poľa plného jednotiek\n",
    "jednotky = np.ones((2, 4))\n",
    "print(f\"\\nPole plné jednotiek:\\n\", jednotky)\n",
    "\n",
    "# Vytvorenie poľa s konštantnou hodnotou\n",
    "konstanta = np.full((2, 2), 7)\n",
    "print(f\"\\nPole s konštantnou hodnotou:\\n\", konstanta)\n",
    "\n",
    "# Vytvorenie jednotkovej matice\n",
    "identita = np.eye(3)\n",
    "print(f\"\\nJednotková matica:\\n\", identita)"
   ],
   "execution_count": 10,
   "outputs": [
    {
     "name": "stdout",
     "text": [
      "\n",
      "Pole plné núl:\n",
      " [[0. 0. 0.]\n",
      " [0. 0. 0.]\n",
      " [0. 0. 0.]]\n",
      "\n",
      "Pole plné jednotiek:\n",
      " [[1. 1. 1. 1.]\n",
      " [1. 1. 1. 1.]]\n",
      "\n",
      "Pole s konštantnou hodnotou:\n",
      " [[7 7]\n",
      " [7 7]]\n",
      "\n",
      "Jednotková matica:\n",
      " [[1. 0. 0.]\n",
      " [0. 1. 0.]\n",
      " [0. 0. 1.]]\n"
     ],
     "output_type": "stream"
    }
   ],
   "metadata": {
    "datalore": {
     "node_id": "QTopXuS2c8DEmF8RRCPVzD",
     "type": "CODE",
     "hide_input_from_viewers": true,
     "hide_output_from_viewers": true
    }
   }
  },
  {
   "cell_type": "markdown",
   "source": [
    "## Vytvorenie poľa s náhodnými hodnotami"
   ],
   "attachments": {},
   "metadata": {
    "datalore": {
     "node_id": "gMniuzatibe86riSzeOzYm",
     "type": "MD",
     "hide_input_from_viewers": true,
     "hide_output_from_viewers": true
    }
   }
  },
  {
   "cell_type": "code",
   "source": [
    "# Vytvorenie poľa s náhodnými číslami z uniformného rozdelenia\n",
    "nahodne_uniformne = np.random.rand(2, 3)\n",
    "print(\"Náhodné uniformné rozdelenie:\\n\", nahodne_uniformne)\n",
    "\n",
    "# Vytvorenie poľa s náhodnými celými číslami\n",
    "nahodne_cela_cisla = np.random.randint(1, 10, size=(3, 3))\n",
    "print(\"Náhodné celé čísla:\\n\", nahodne_cela_cisla)"
   ],
   "execution_count": 14,
   "outputs": [
    {
     "name": "stdout",
     "text": [
      "Náhodné uniformné rozdelenie:\n",
      " [[0.09968114 0.83648624 0.85087921]\n",
      " [0.64742506 0.11728677 0.68348589]]\n",
      "Náhodné celé čísla:\n",
      " [[4 2 8]\n",
      " [8 8 4]\n",
      " [5 1 5]]\n"
     ],
     "output_type": "stream"
    }
   ],
   "metadata": {
    "datalore": {
     "node_id": "0dkjF66vWvdZJGJJixDSBN",
     "type": "CODE",
     "hide_input_from_viewers": true,
     "hide_output_from_viewers": true
    }
   }
  },
  {
   "cell_type": "markdown",
   "source": [
    "## Lineárna algebra"
   ],
   "attachments": {},
   "metadata": {
    "datalore": {
     "node_id": "R0X8GWBIe2AREqTCJ3xrE2",
     "type": "MD",
     "hide_input_from_viewers": true,
     "hide_output_from_viewers": true
    }
   }
  },
  {
   "cell_type": "code",
   "source": [
    "# Násobenie matíc\n",
    "A = np.array([[1, 2], [3, 4]])\n",
    "B = np.array([[5, 6], [7, 8]])\n",
    "vysledok = np.dot(A, B)\n",
    "print(\"Násobenie matíc:\\n\", vysledok)\n",
    "\n",
    "# Výpočet determinantu\n",
    "det = np.linalg.det(A)\n",
    "print(\"Determinant matice A:\", det)\n",
    "\n",
    "# Výpočet inverznej matice\n",
    "inverzna = np.linalg.inv(A)\n",
    "print(\"Inverzná matica A:\\n\", inverzna)"
   ],
   "execution_count": 15,
   "outputs": [
    {
     "name": "stdout",
     "text": [
      "Násobenie matíc:\n",
      " [[19 22]\n",
      " [43 50]]\n",
      "Determinant matice A: -2.0000000000000004\n",
      "Inverzná matica A:\n",
      " [[-2.   1. ]\n",
      " [ 1.5 -0.5]]\n"
     ],
     "output_type": "stream"
    }
   ],
   "metadata": {
    "datalore": {
     "node_id": "lntw83BaTDZmXPN1ldS3aG",
     "type": "CODE",
     "hide_input_from_viewers": true,
     "hide_output_from_viewers": true
    }
   }
  },
  {
   "cell_type": "markdown",
   "source": [
    "## Manipulácia s tvarom a spájanie polí"
   ],
   "attachments": {},
   "metadata": {
    "datalore": {
     "node_id": "ei741uwggUf9ijhJ1Clunh",
     "type": "MD",
     "hide_input_from_viewers": true,
     "hide_output_from_viewers": true
    }
   }
  },
  {
   "cell_type": "code",
   "source": [
    "# Zmena tvaru\n",
    "pole = np.array([[1, 2, 3], [4, 5, 6]])\n",
    "novy_tvar = np.reshape(pole, (3, 2))\n",
    "print(\"Pole s novým tvarom:\\n\", novy_tvar)\n",
    "\n",
    "# Horizontálne spájanie\n",
    "A = np.array([1, 2, 3])\n",
    "B = np.array([4, 5, 6])\n",
    "spojene = np.hstack((A, B))\n",
    "print(\"Horizontálne spojené pole:\", spojene)\n",
    "\n",
    "# Vertikálne spájanie\n",
    "vertikalne_spojene = np.vstack((A, B))\n",
    "print(\"Vertikálne spojené pole:\\n\", vertikalne_spojene)"
   ],
   "execution_count": 16,
   "outputs": [
    {
     "name": "stdout",
     "text": [
      "Pole s novým tvarom:\n",
      " [[1 2]\n",
      " [3 4]\n",
      " [5 6]]\n",
      "Horizontálne spojené pole: [1 2 3 4 5 6]\n",
      "Vertikálne spojené pole:\n",
      " [[1 2 3]\n",
      " [4 5 6]]\n"
     ],
     "output_type": "stream"
    }
   ],
   "metadata": {
    "datalore": {
     "node_id": "jguxS2AhoE7HaCWXELxfyq",
     "type": "CODE",
     "hide_input_from_viewers": true,
     "hide_output_from_viewers": true
    }
   }
  },
  {
   "cell_type": "markdown",
   "source": [
    "## Rozšírené indexovanie a selekcia"
   ],
   "attachments": {},
   "metadata": {
    "datalore": {
     "node_id": "GcwjTiXiZJJXmYN9ErVPQ4",
     "type": "MD",
     "hide_input_from_viewers": true,
     "hide_output_from_viewers": true
    }
   }
  },
  {
   "cell_type": "code",
   "source": [
    "pole = np.array([[1, 2, 3], [4, 5, 6], [7, 8, 9]])\n",
    "\n",
    "# Vyberie prvý a posledný riadok\n",
    "vybrane_riadky = pole[[0, -1]]\n",
    "print(\"Vybrané riadky:\\n\", vybrane_riadky)\n",
    "\n",
    "# Boolean indexing pre výber prvkov väčších ako 5\n",
    "vyssie_hodnoty = pole[pole > 5]\n",
    "print(\"Prvky väčšie ako 5:\", vyssie_hodnoty)"
   ],
   "execution_count": 17,
   "outputs": [
    {
     "name": "stdout",
     "text": [
      "Vybrané riadky:\n",
      " [[1 2 3]\n",
      " [7 8 9]]\n",
      "Prvky väčšie ako 5: [6 7 8 9]\n"
     ],
     "output_type": "stream"
    }
   ],
   "metadata": {
    "datalore": {
     "node_id": "MjgZXNUiX8Yj0IdP6aNAnx",
     "type": "CODE",
     "hide_input_from_viewers": true,
     "hide_output_from_viewers": true
    }
   }
  },
  {
   "cell_type": "markdown",
   "source": [
    "## Operácie s viacrozmernými poliami"
   ],
   "attachments": {},
   "metadata": {
    "datalore": {
     "node_id": "s1gcfVptszW09M0ctje8EY",
     "type": "MD",
     "hide_input_from_viewers": true,
     "hide_output_from_viewers": true
    }
   }
  },
  {
   "cell_type": "code",
   "source": [
    "# Vytvorenie dvojdimenzionálneho poľa a vykonanie operácií\n",
    "pole2D = np.array([[1, 2, 3], [4, 5, 6], [7, 8, 9]])\n",
    "print(\"Súčet všetkých prvkov:\", np.sum(pole2D))\n",
    "print(\"Súčet prvkov v stĺpcoch:\", np.sum(pole2D, axis=0))\n",
    "print(\"Súčet prvkov v riadkoch:\", np.sum(pole2D, axis=1))"
   ],
   "execution_count": 18,
   "outputs": [
    {
     "name": "stdout",
     "text": [
      "Súčet všetkých prvkov: 45\n",
      "Súčet prvkov v stĺpcoch: [12 15 18]\n",
      "Súčet prvkov v riadkoch: [ 6 15 24]\n"
     ],
     "output_type": "stream"
    }
   ],
   "metadata": {
    "datalore": {
     "node_id": "f9ndDVDmfx7HAiBpBA8Fi8",
     "type": "CODE",
     "hide_input_from_viewers": true,
     "hide_output_from_viewers": true
    }
   }
  },
  {
   "cell_type": "markdown",
   "source": [
    "## Ukladanie a načítavanie NumPy polí do/z súboru"
   ],
   "attachments": {},
   "metadata": {
    "datalore": {
     "node_id": "mx9nPZqCvM6AK0em1TUgas",
     "type": "MD",
     "hide_input_from_viewers": true,
     "hide_output_from_viewers": true
    }
   }
  },
  {
   "cell_type": "code",
   "source": [
    "# Ukladanie do súboru\n",
    "pole = np.array([1, 2, 3, 4, 5])\n",
    "np.save('moje_pole.npy', pole)\n",
    "\n",
    "# Načítavanie zo súboru\n",
    "nacitane_pole = np.load('moje_pole.npy')\n",
    "print(\"Načítané pole:\", nacitane_pole)"
   ],
   "execution_count": 20,
   "outputs": [
    {
     "name": "stdout",
     "text": [
      "Načítané pole: [1 2 3 4 5]\n"
     ],
     "output_type": "stream"
    }
   ],
   "metadata": {
    "datalore": {
     "node_id": "ZByZ76pjRLJKXM30qX4woz",
     "type": "CODE",
     "hide_input_from_viewers": true,
     "hide_output_from_viewers": true
    }
   }
  },
  {
   "cell_type": "markdown",
   "source": [
    "# Plotly"
   ],
   "attachments": {},
   "metadata": {
    "datalore": {
     "node_id": "Plotly",
     "type": "MD",
     "hide_input_from_viewers": false,
     "hide_output_from_viewers": false,
     "sheet_delimiter": true
    }
   }
  },
  {
   "cell_type": "markdown",
   "source": [
    "# Plotly \n",
    "- Výkonná knižnica pre Python, ktorá sa používa na vytváranie interaktívnych a vizuálne atraktívnych grafikov a vizualizácií dát"
   ],
   "attachments": {},
   "metadata": {
    "datalore": {
     "node_id": "3eyieyIrQw4zfCcPbHhmAK",
     "type": "MD",
     "hide_input_from_viewers": true,
     "hide_output_from_viewers": true
    }
   }
  },
  {
   "cell_type": "markdown",
   "source": [
    "# Základný čiarový graf"
   ],
   "attachments": {},
   "metadata": {
    "datalore": {
     "node_id": "RLltO2aqbBlKJYtShNJEwS",
     "type": "MD",
     "hide_input_from_viewers": true,
     "hide_output_from_viewers": true
    }
   }
  },
  {
   "cell_type": "code",
   "source": [
    "import plotly.graph_objects as go\n",
    "\n",
    "# Dáta pre graf\n",
    "x_data = ['Január', 'Február', 'Marec', 'Apríl']\n",
    "y_data = [10, 15, 13, 17]\n",
    "\n",
    "# Vytvorenie grafu\n",
    "fig = go.Figure(data=go.Scatter(x=x_data, y=y_data, mode='lines+markers'))\n",
    "\n",
    "# Zobrazenie grafu\n",
    "fig.show()"
   ],
   "execution_count": 21,
   "outputs": [
    {
     "data": {
      "application/vnd.plotly.v1+json": {
       "data": [
        {
         "mode": "lines+markers",
         "x": [
          "Január",
          "Február",
          "Marec",
          "Apríl"
         ],
         "y": [
          10,
          15,
          13,
          17
         ],
         "type": "scatter"
        }
       ],
       "layout": {
        "template": {
         "data": {
          "histogram2dcontour": [
           {
            "type": "histogram2dcontour",
            "colorbar": {
             "outlinewidth": 0,
             "ticks": ""
            },
            "colorscale": [
             [
              0,
              "#0d0887"
             ],
             [
              0.1111111111111111,
              "#46039f"
             ],
             [
              0.2222222222222222,
              "#7201a8"
             ],
             [
              0.3333333333333333,
              "#9c179e"
             ],
             [
              0.4444444444444444,
              "#bd3786"
             ],
             [
              0.5555555555555556,
              "#d8576b"
             ],
             [
              0.6666666666666666,
              "#ed7953"
             ],
             [
              0.7777777777777778,
              "#fb9f3a"
             ],
             [
              0.8888888888888888,
              "#fdca26"
             ],
             [
              1,
              "#f0f921"
             ]
            ]
           }
          ],
          "choropleth": [
           {
            "type": "choropleth",
            "colorbar": {
             "outlinewidth": 0,
             "ticks": ""
            }
           }
          ],
          "histogram2d": [
           {
            "type": "histogram2d",
            "colorbar": {
             "outlinewidth": 0,
             "ticks": ""
            },
            "colorscale": [
             [
              0,
              "#0d0887"
             ],
             [
              0.1111111111111111,
              "#46039f"
             ],
             [
              0.2222222222222222,
              "#7201a8"
             ],
             [
              0.3333333333333333,
              "#9c179e"
             ],
             [
              0.4444444444444444,
              "#bd3786"
             ],
             [
              0.5555555555555556,
              "#d8576b"
             ],
             [
              0.6666666666666666,
              "#ed7953"
             ],
             [
              0.7777777777777778,
              "#fb9f3a"
             ],
             [
              0.8888888888888888,
              "#fdca26"
             ],
             [
              1,
              "#f0f921"
             ]
            ]
           }
          ],
          "heatmap": [
           {
            "type": "heatmap",
            "colorbar": {
             "outlinewidth": 0,
             "ticks": ""
            },
            "colorscale": [
             [
              0,
              "#0d0887"
             ],
             [
              0.1111111111111111,
              "#46039f"
             ],
             [
              0.2222222222222222,
              "#7201a8"
             ],
             [
              0.3333333333333333,
              "#9c179e"
             ],
             [
              0.4444444444444444,
              "#bd3786"
             ],
             [
              0.5555555555555556,
              "#d8576b"
             ],
             [
              0.6666666666666666,
              "#ed7953"
             ],
             [
              0.7777777777777778,
              "#fb9f3a"
             ],
             [
              0.8888888888888888,
              "#fdca26"
             ],
             [
              1,
              "#f0f921"
             ]
            ]
           }
          ],
          "heatmapgl": [
           {
            "type": "heatmapgl",
            "colorbar": {
             "outlinewidth": 0,
             "ticks": ""
            },
            "colorscale": [
             [
              0,
              "#0d0887"
             ],
             [
              0.1111111111111111,
              "#46039f"
             ],
             [
              0.2222222222222222,
              "#7201a8"
             ],
             [
              0.3333333333333333,
              "#9c179e"
             ],
             [
              0.4444444444444444,
              "#bd3786"
             ],
             [
              0.5555555555555556,
              "#d8576b"
             ],
             [
              0.6666666666666666,
              "#ed7953"
             ],
             [
              0.7777777777777778,
              "#fb9f3a"
             ],
             [
              0.8888888888888888,
              "#fdca26"
             ],
             [
              1,
              "#f0f921"
             ]
            ]
           }
          ],
          "contourcarpet": [
           {
            "type": "contourcarpet",
            "colorbar": {
             "outlinewidth": 0,
             "ticks": ""
            }
           }
          ],
          "contour": [
           {
            "type": "contour",
            "colorbar": {
             "outlinewidth": 0,
             "ticks": ""
            },
            "colorscale": [
             [
              0,
              "#0d0887"
             ],
             [
              0.1111111111111111,
              "#46039f"
             ],
             [
              0.2222222222222222,
              "#7201a8"
             ],
             [
              0.3333333333333333,
              "#9c179e"
             ],
             [
              0.4444444444444444,
              "#bd3786"
             ],
             [
              0.5555555555555556,
              "#d8576b"
             ],
             [
              0.6666666666666666,
              "#ed7953"
             ],
             [
              0.7777777777777778,
              "#fb9f3a"
             ],
             [
              0.8888888888888888,
              "#fdca26"
             ],
             [
              1,
              "#f0f921"
             ]
            ]
           }
          ],
          "surface": [
           {
            "type": "surface",
            "colorbar": {
             "outlinewidth": 0,
             "ticks": ""
            },
            "colorscale": [
             [
              0,
              "#0d0887"
             ],
             [
              0.1111111111111111,
              "#46039f"
             ],
             [
              0.2222222222222222,
              "#7201a8"
             ],
             [
              0.3333333333333333,
              "#9c179e"
             ],
             [
              0.4444444444444444,
              "#bd3786"
             ],
             [
              0.5555555555555556,
              "#d8576b"
             ],
             [
              0.6666666666666666,
              "#ed7953"
             ],
             [
              0.7777777777777778,
              "#fb9f3a"
             ],
             [
              0.8888888888888888,
              "#fdca26"
             ],
             [
              1,
              "#f0f921"
             ]
            ]
           }
          ],
          "mesh3d": [
           {
            "type": "mesh3d",
            "colorbar": {
             "outlinewidth": 0,
             "ticks": ""
            }
           }
          ],
          "scatter": [
           {
            "fillpattern": {
             "fillmode": "overlay",
             "size": 10,
             "solidity": 0.2
            },
            "type": "scatter"
           }
          ],
          "parcoords": [
           {
            "type": "parcoords",
            "line": {
             "colorbar": {
              "outlinewidth": 0,
              "ticks": ""
             }
            }
           }
          ],
          "scatterpolargl": [
           {
            "type": "scatterpolargl",
            "marker": {
             "colorbar": {
              "outlinewidth": 0,
              "ticks": ""
             }
            }
           }
          ],
          "bar": [
           {
            "error_x": {
             "color": "#2a3f5f"
            },
            "error_y": {
             "color": "#2a3f5f"
            },
            "marker": {
             "line": {
              "color": "#E5ECF6",
              "width": 0.5
             },
             "pattern": {
              "fillmode": "overlay",
              "size": 10,
              "solidity": 0.2
             }
            },
            "type": "bar"
           }
          ],
          "scattergeo": [
           {
            "type": "scattergeo",
            "marker": {
             "colorbar": {
              "outlinewidth": 0,
              "ticks": ""
             }
            }
           }
          ],
          "scatterpolar": [
           {
            "type": "scatterpolar",
            "marker": {
             "colorbar": {
              "outlinewidth": 0,
              "ticks": ""
             }
            }
           }
          ],
          "histogram": [
           {
            "marker": {
             "pattern": {
              "fillmode": "overlay",
              "size": 10,
              "solidity": 0.2
             }
            },
            "type": "histogram"
           }
          ],
          "scattergl": [
           {
            "type": "scattergl",
            "marker": {
             "colorbar": {
              "outlinewidth": 0,
              "ticks": ""
             }
            }
           }
          ],
          "scatter3d": [
           {
            "type": "scatter3d",
            "line": {
             "colorbar": {
              "outlinewidth": 0,
              "ticks": ""
             }
            },
            "marker": {
             "colorbar": {
              "outlinewidth": 0,
              "ticks": ""
             }
            }
           }
          ],
          "scattermapbox": [
           {
            "type": "scattermapbox",
            "marker": {
             "colorbar": {
              "outlinewidth": 0,
              "ticks": ""
             }
            }
           }
          ],
          "scatterternary": [
           {
            "type": "scatterternary",
            "marker": {
             "colorbar": {
              "outlinewidth": 0,
              "ticks": ""
             }
            }
           }
          ],
          "scattercarpet": [
           {
            "type": "scattercarpet",
            "marker": {
             "colorbar": {
              "outlinewidth": 0,
              "ticks": ""
             }
            }
           }
          ],
          "carpet": [
           {
            "aaxis": {
             "endlinecolor": "#2a3f5f",
             "gridcolor": "white",
             "linecolor": "white",
             "minorgridcolor": "white",
             "startlinecolor": "#2a3f5f"
            },
            "baxis": {
             "endlinecolor": "#2a3f5f",
             "gridcolor": "white",
             "linecolor": "white",
             "minorgridcolor": "white",
             "startlinecolor": "#2a3f5f"
            },
            "type": "carpet"
           }
          ],
          "table": [
           {
            "cells": {
             "fill": {
              "color": "#EBF0F8"
             },
             "line": {
              "color": "white"
             }
            },
            "header": {
             "fill": {
              "color": "#C8D4E3"
             },
             "line": {
              "color": "white"
             }
            },
            "type": "table"
           }
          ],
          "barpolar": [
           {
            "marker": {
             "line": {
              "color": "#E5ECF6",
              "width": 0.5
             },
             "pattern": {
              "fillmode": "overlay",
              "size": 10,
              "solidity": 0.2
             }
            },
            "type": "barpolar"
           }
          ],
          "pie": [
           {
            "automargin": true,
            "type": "pie"
           }
          ]
         },
         "layout": {
          "autotypenumbers": "strict",
          "colorway": [
           "#636efa",
           "#EF553B",
           "#00cc96",
           "#ab63fa",
           "#FFA15A",
           "#19d3f3",
           "#FF6692",
           "#B6E880",
           "#FF97FF",
           "#FECB52"
          ],
          "font": {
           "color": "#2a3f5f"
          },
          "hovermode": "closest",
          "hoverlabel": {
           "align": "left"
          },
          "paper_bgcolor": "white",
          "plot_bgcolor": "#E5ECF6",
          "polar": {
           "bgcolor": "#E5ECF6",
           "angularaxis": {
            "gridcolor": "white",
            "linecolor": "white",
            "ticks": ""
           },
           "radialaxis": {
            "gridcolor": "white",
            "linecolor": "white",
            "ticks": ""
           }
          },
          "ternary": {
           "bgcolor": "#E5ECF6",
           "aaxis": {
            "gridcolor": "white",
            "linecolor": "white",
            "ticks": ""
           },
           "baxis": {
            "gridcolor": "white",
            "linecolor": "white",
            "ticks": ""
           },
           "caxis": {
            "gridcolor": "white",
            "linecolor": "white",
            "ticks": ""
           }
          },
          "coloraxis": {
           "colorbar": {
            "outlinewidth": 0,
            "ticks": ""
           }
          },
          "colorscale": {
           "sequential": [
            [
             0,
             "#0d0887"
            ],
            [
             0.1111111111111111,
             "#46039f"
            ],
            [
             0.2222222222222222,
             "#7201a8"
            ],
            [
             0.3333333333333333,
             "#9c179e"
            ],
            [
             0.4444444444444444,
             "#bd3786"
            ],
            [
             0.5555555555555556,
             "#d8576b"
            ],
            [
             0.6666666666666666,
             "#ed7953"
            ],
            [
             0.7777777777777778,
             "#fb9f3a"
            ],
            [
             0.8888888888888888,
             "#fdca26"
            ],
            [
             1,
             "#f0f921"
            ]
           ],
           "sequentialminus": [
            [
             0,
             "#0d0887"
            ],
            [
             0.1111111111111111,
             "#46039f"
            ],
            [
             0.2222222222222222,
             "#7201a8"
            ],
            [
             0.3333333333333333,
             "#9c179e"
            ],
            [
             0.4444444444444444,
             "#bd3786"
            ],
            [
             0.5555555555555556,
             "#d8576b"
            ],
            [
             0.6666666666666666,
             "#ed7953"
            ],
            [
             0.7777777777777778,
             "#fb9f3a"
            ],
            [
             0.8888888888888888,
             "#fdca26"
            ],
            [
             1,
             "#f0f921"
            ]
           ],
           "diverging": [
            [
             0,
             "#8e0152"
            ],
            [
             0.1,
             "#c51b7d"
            ],
            [
             0.2,
             "#de77ae"
            ],
            [
             0.3,
             "#f1b6da"
            ],
            [
             0.4,
             "#fde0ef"
            ],
            [
             0.5,
             "#f7f7f7"
            ],
            [
             0.6,
             "#e6f5d0"
            ],
            [
             0.7,
             "#b8e186"
            ],
            [
             0.8,
             "#7fbc41"
            ],
            [
             0.9,
             "#4d9221"
            ],
            [
             1,
             "#276419"
            ]
           ]
          },
          "xaxis": {
           "gridcolor": "white",
           "linecolor": "white",
           "ticks": "",
           "title": {
            "standoff": 15
           },
           "zerolinecolor": "white",
           "automargin": true,
           "zerolinewidth": 2
          },
          "yaxis": {
           "gridcolor": "white",
           "linecolor": "white",
           "ticks": "",
           "title": {
            "standoff": 15
           },
           "zerolinecolor": "white",
           "automargin": true,
           "zerolinewidth": 2
          },
          "scene": {
           "xaxis": {
            "backgroundcolor": "#E5ECF6",
            "gridcolor": "white",
            "linecolor": "white",
            "showbackground": true,
            "ticks": "",
            "zerolinecolor": "white",
            "gridwidth": 2
           },
           "yaxis": {
            "backgroundcolor": "#E5ECF6",
            "gridcolor": "white",
            "linecolor": "white",
            "showbackground": true,
            "ticks": "",
            "zerolinecolor": "white",
            "gridwidth": 2
           },
           "zaxis": {
            "backgroundcolor": "#E5ECF6",
            "gridcolor": "white",
            "linecolor": "white",
            "showbackground": true,
            "ticks": "",
            "zerolinecolor": "white",
            "gridwidth": 2
           }
          },
          "shapedefaults": {
           "line": {
            "color": "#2a3f5f"
           }
          },
          "annotationdefaults": {
           "arrowcolor": "#2a3f5f",
           "arrowhead": 0,
           "arrowwidth": 1
          },
          "geo": {
           "bgcolor": "white",
           "landcolor": "#E5ECF6",
           "subunitcolor": "white",
           "showland": true,
           "showlakes": true,
           "lakecolor": "white"
          },
          "title": {
           "x": 0.05
          },
          "mapbox": {
           "style": "light"
          }
         }
        }
       },
       "config": {
        "plotlyServerURL": "https://plot.ly"
       }
      }
     },
     "metadata": {},
     "output_type": "display_data"
    }
   ],
   "metadata": {
    "datalore": {
     "node_id": "JBw5UCgKmzMgRVB5zesAdP",
     "type": "CODE",
     "hide_input_from_viewers": true,
     "hide_output_from_viewers": true
    }
   }
  },
  {
   "cell_type": "markdown",
   "source": [
    "# Stĺpcový graf\n",
    "Sú užitočné na porovnávanie hodnôt medzi rôznymi kategóriami. Tento príklad ukazuje, ako vytvoriť základný stĺpcový graf."
   ],
   "attachments": {},
   "metadata": {
    "datalore": {
     "node_id": "7F3RFA8bbMClK4G7LAhgcJ",
     "type": "MD",
     "hide_input_from_viewers": true,
     "hide_output_from_viewers": true
    }
   }
  },
  {
   "cell_type": "code",
   "source": [
    "import plotly.graph_objects as go\n",
    "\n",
    "# Dáta pre graf\n",
    "categories = ['Produkt A', 'Produkt B', 'Produkt C']\n",
    "values = [20, 34, 30]\n",
    "\n",
    "# Vytvorenie grafu\n",
    "fig = go.Figure(data=go.Bar(x=categories, y=values))\n",
    "\n",
    "# Zobrazenie grafu\n",
    "fig.show()"
   ],
   "execution_count": 22,
   "outputs": [
    {
     "data": {
      "application/vnd.plotly.v1+json": {
       "data": [
        {
         "x": [
          "Produkt A",
          "Produkt B",
          "Produkt C"
         ],
         "y": [
          20,
          34,
          30
         ],
         "type": "bar"
        }
       ],
       "layout": {
        "template": {
         "data": {
          "histogram2dcontour": [
           {
            "type": "histogram2dcontour",
            "colorbar": {
             "outlinewidth": 0,
             "ticks": ""
            },
            "colorscale": [
             [
              0,
              "#0d0887"
             ],
             [
              0.1111111111111111,
              "#46039f"
             ],
             [
              0.2222222222222222,
              "#7201a8"
             ],
             [
              0.3333333333333333,
              "#9c179e"
             ],
             [
              0.4444444444444444,
              "#bd3786"
             ],
             [
              0.5555555555555556,
              "#d8576b"
             ],
             [
              0.6666666666666666,
              "#ed7953"
             ],
             [
              0.7777777777777778,
              "#fb9f3a"
             ],
             [
              0.8888888888888888,
              "#fdca26"
             ],
             [
              1,
              "#f0f921"
             ]
            ]
           }
          ],
          "choropleth": [
           {
            "type": "choropleth",
            "colorbar": {
             "outlinewidth": 0,
             "ticks": ""
            }
           }
          ],
          "histogram2d": [
           {
            "type": "histogram2d",
            "colorbar": {
             "outlinewidth": 0,
             "ticks": ""
            },
            "colorscale": [
             [
              0,
              "#0d0887"
             ],
             [
              0.1111111111111111,
              "#46039f"
             ],
             [
              0.2222222222222222,
              "#7201a8"
             ],
             [
              0.3333333333333333,
              "#9c179e"
             ],
             [
              0.4444444444444444,
              "#bd3786"
             ],
             [
              0.5555555555555556,
              "#d8576b"
             ],
             [
              0.6666666666666666,
              "#ed7953"
             ],
             [
              0.7777777777777778,
              "#fb9f3a"
             ],
             [
              0.8888888888888888,
              "#fdca26"
             ],
             [
              1,
              "#f0f921"
             ]
            ]
           }
          ],
          "heatmap": [
           {
            "type": "heatmap",
            "colorbar": {
             "outlinewidth": 0,
             "ticks": ""
            },
            "colorscale": [
             [
              0,
              "#0d0887"
             ],
             [
              0.1111111111111111,
              "#46039f"
             ],
             [
              0.2222222222222222,
              "#7201a8"
             ],
             [
              0.3333333333333333,
              "#9c179e"
             ],
             [
              0.4444444444444444,
              "#bd3786"
             ],
             [
              0.5555555555555556,
              "#d8576b"
             ],
             [
              0.6666666666666666,
              "#ed7953"
             ],
             [
              0.7777777777777778,
              "#fb9f3a"
             ],
             [
              0.8888888888888888,
              "#fdca26"
             ],
             [
              1,
              "#f0f921"
             ]
            ]
           }
          ],
          "heatmapgl": [
           {
            "type": "heatmapgl",
            "colorbar": {
             "outlinewidth": 0,
             "ticks": ""
            },
            "colorscale": [
             [
              0,
              "#0d0887"
             ],
             [
              0.1111111111111111,
              "#46039f"
             ],
             [
              0.2222222222222222,
              "#7201a8"
             ],
             [
              0.3333333333333333,
              "#9c179e"
             ],
             [
              0.4444444444444444,
              "#bd3786"
             ],
             [
              0.5555555555555556,
              "#d8576b"
             ],
             [
              0.6666666666666666,
              "#ed7953"
             ],
             [
              0.7777777777777778,
              "#fb9f3a"
             ],
             [
              0.8888888888888888,
              "#fdca26"
             ],
             [
              1,
              "#f0f921"
             ]
            ]
           }
          ],
          "contourcarpet": [
           {
            "type": "contourcarpet",
            "colorbar": {
             "outlinewidth": 0,
             "ticks": ""
            }
           }
          ],
          "contour": [
           {
            "type": "contour",
            "colorbar": {
             "outlinewidth": 0,
             "ticks": ""
            },
            "colorscale": [
             [
              0,
              "#0d0887"
             ],
             [
              0.1111111111111111,
              "#46039f"
             ],
             [
              0.2222222222222222,
              "#7201a8"
             ],
             [
              0.3333333333333333,
              "#9c179e"
             ],
             [
              0.4444444444444444,
              "#bd3786"
             ],
             [
              0.5555555555555556,
              "#d8576b"
             ],
             [
              0.6666666666666666,
              "#ed7953"
             ],
             [
              0.7777777777777778,
              "#fb9f3a"
             ],
             [
              0.8888888888888888,
              "#fdca26"
             ],
             [
              1,
              "#f0f921"
             ]
            ]
           }
          ],
          "surface": [
           {
            "type": "surface",
            "colorbar": {
             "outlinewidth": 0,
             "ticks": ""
            },
            "colorscale": [
             [
              0,
              "#0d0887"
             ],
             [
              0.1111111111111111,
              "#46039f"
             ],
             [
              0.2222222222222222,
              "#7201a8"
             ],
             [
              0.3333333333333333,
              "#9c179e"
             ],
             [
              0.4444444444444444,
              "#bd3786"
             ],
             [
              0.5555555555555556,
              "#d8576b"
             ],
             [
              0.6666666666666666,
              "#ed7953"
             ],
             [
              0.7777777777777778,
              "#fb9f3a"
             ],
             [
              0.8888888888888888,
              "#fdca26"
             ],
             [
              1,
              "#f0f921"
             ]
            ]
           }
          ],
          "mesh3d": [
           {
            "type": "mesh3d",
            "colorbar": {
             "outlinewidth": 0,
             "ticks": ""
            }
           }
          ],
          "scatter": [
           {
            "fillpattern": {
             "fillmode": "overlay",
             "size": 10,
             "solidity": 0.2
            },
            "type": "scatter"
           }
          ],
          "parcoords": [
           {
            "type": "parcoords",
            "line": {
             "colorbar": {
              "outlinewidth": 0,
              "ticks": ""
             }
            }
           }
          ],
          "scatterpolargl": [
           {
            "type": "scatterpolargl",
            "marker": {
             "colorbar": {
              "outlinewidth": 0,
              "ticks": ""
             }
            }
           }
          ],
          "bar": [
           {
            "error_x": {
             "color": "#2a3f5f"
            },
            "error_y": {
             "color": "#2a3f5f"
            },
            "marker": {
             "line": {
              "color": "#E5ECF6",
              "width": 0.5
             },
             "pattern": {
              "fillmode": "overlay",
              "size": 10,
              "solidity": 0.2
             }
            },
            "type": "bar"
           }
          ],
          "scattergeo": [
           {
            "type": "scattergeo",
            "marker": {
             "colorbar": {
              "outlinewidth": 0,
              "ticks": ""
             }
            }
           }
          ],
          "scatterpolar": [
           {
            "type": "scatterpolar",
            "marker": {
             "colorbar": {
              "outlinewidth": 0,
              "ticks": ""
             }
            }
           }
          ],
          "histogram": [
           {
            "marker": {
             "pattern": {
              "fillmode": "overlay",
              "size": 10,
              "solidity": 0.2
             }
            },
            "type": "histogram"
           }
          ],
          "scattergl": [
           {
            "type": "scattergl",
            "marker": {
             "colorbar": {
              "outlinewidth": 0,
              "ticks": ""
             }
            }
           }
          ],
          "scatter3d": [
           {
            "type": "scatter3d",
            "line": {
             "colorbar": {
              "outlinewidth": 0,
              "ticks": ""
             }
            },
            "marker": {
             "colorbar": {
              "outlinewidth": 0,
              "ticks": ""
             }
            }
           }
          ],
          "scattermapbox": [
           {
            "type": "scattermapbox",
            "marker": {
             "colorbar": {
              "outlinewidth": 0,
              "ticks": ""
             }
            }
           }
          ],
          "scatterternary": [
           {
            "type": "scatterternary",
            "marker": {
             "colorbar": {
              "outlinewidth": 0,
              "ticks": ""
             }
            }
           }
          ],
          "scattercarpet": [
           {
            "type": "scattercarpet",
            "marker": {
             "colorbar": {
              "outlinewidth": 0,
              "ticks": ""
             }
            }
           }
          ],
          "carpet": [
           {
            "aaxis": {
             "endlinecolor": "#2a3f5f",
             "gridcolor": "white",
             "linecolor": "white",
             "minorgridcolor": "white",
             "startlinecolor": "#2a3f5f"
            },
            "baxis": {
             "endlinecolor": "#2a3f5f",
             "gridcolor": "white",
             "linecolor": "white",
             "minorgridcolor": "white",
             "startlinecolor": "#2a3f5f"
            },
            "type": "carpet"
           }
          ],
          "table": [
           {
            "cells": {
             "fill": {
              "color": "#EBF0F8"
             },
             "line": {
              "color": "white"
             }
            },
            "header": {
             "fill": {
              "color": "#C8D4E3"
             },
             "line": {
              "color": "white"
             }
            },
            "type": "table"
           }
          ],
          "barpolar": [
           {
            "marker": {
             "line": {
              "color": "#E5ECF6",
              "width": 0.5
             },
             "pattern": {
              "fillmode": "overlay",
              "size": 10,
              "solidity": 0.2
             }
            },
            "type": "barpolar"
           }
          ],
          "pie": [
           {
            "automargin": true,
            "type": "pie"
           }
          ]
         },
         "layout": {
          "autotypenumbers": "strict",
          "colorway": [
           "#636efa",
           "#EF553B",
           "#00cc96",
           "#ab63fa",
           "#FFA15A",
           "#19d3f3",
           "#FF6692",
           "#B6E880",
           "#FF97FF",
           "#FECB52"
          ],
          "font": {
           "color": "#2a3f5f"
          },
          "hovermode": "closest",
          "hoverlabel": {
           "align": "left"
          },
          "paper_bgcolor": "white",
          "plot_bgcolor": "#E5ECF6",
          "polar": {
           "bgcolor": "#E5ECF6",
           "angularaxis": {
            "gridcolor": "white",
            "linecolor": "white",
            "ticks": ""
           },
           "radialaxis": {
            "gridcolor": "white",
            "linecolor": "white",
            "ticks": ""
           }
          },
          "ternary": {
           "bgcolor": "#E5ECF6",
           "aaxis": {
            "gridcolor": "white",
            "linecolor": "white",
            "ticks": ""
           },
           "baxis": {
            "gridcolor": "white",
            "linecolor": "white",
            "ticks": ""
           },
           "caxis": {
            "gridcolor": "white",
            "linecolor": "white",
            "ticks": ""
           }
          },
          "coloraxis": {
           "colorbar": {
            "outlinewidth": 0,
            "ticks": ""
           }
          },
          "colorscale": {
           "sequential": [
            [
             0,
             "#0d0887"
            ],
            [
             0.1111111111111111,
             "#46039f"
            ],
            [
             0.2222222222222222,
             "#7201a8"
            ],
            [
             0.3333333333333333,
             "#9c179e"
            ],
            [
             0.4444444444444444,
             "#bd3786"
            ],
            [
             0.5555555555555556,
             "#d8576b"
            ],
            [
             0.6666666666666666,
             "#ed7953"
            ],
            [
             0.7777777777777778,
             "#fb9f3a"
            ],
            [
             0.8888888888888888,
             "#fdca26"
            ],
            [
             1,
             "#f0f921"
            ]
           ],
           "sequentialminus": [
            [
             0,
             "#0d0887"
            ],
            [
             0.1111111111111111,
             "#46039f"
            ],
            [
             0.2222222222222222,
             "#7201a8"
            ],
            [
             0.3333333333333333,
             "#9c179e"
            ],
            [
             0.4444444444444444,
             "#bd3786"
            ],
            [
             0.5555555555555556,
             "#d8576b"
            ],
            [
             0.6666666666666666,
             "#ed7953"
            ],
            [
             0.7777777777777778,
             "#fb9f3a"
            ],
            [
             0.8888888888888888,
             "#fdca26"
            ],
            [
             1,
             "#f0f921"
            ]
           ],
           "diverging": [
            [
             0,
             "#8e0152"
            ],
            [
             0.1,
             "#c51b7d"
            ],
            [
             0.2,
             "#de77ae"
            ],
            [
             0.3,
             "#f1b6da"
            ],
            [
             0.4,
             "#fde0ef"
            ],
            [
             0.5,
             "#f7f7f7"
            ],
            [
             0.6,
             "#e6f5d0"
            ],
            [
             0.7,
             "#b8e186"
            ],
            [
             0.8,
             "#7fbc41"
            ],
            [
             0.9,
             "#4d9221"
            ],
            [
             1,
             "#276419"
            ]
           ]
          },
          "xaxis": {
           "gridcolor": "white",
           "linecolor": "white",
           "ticks": "",
           "title": {
            "standoff": 15
           },
           "zerolinecolor": "white",
           "automargin": true,
           "zerolinewidth": 2
          },
          "yaxis": {
           "gridcolor": "white",
           "linecolor": "white",
           "ticks": "",
           "title": {
            "standoff": 15
           },
           "zerolinecolor": "white",
           "automargin": true,
           "zerolinewidth": 2
          },
          "scene": {
           "xaxis": {
            "backgroundcolor": "#E5ECF6",
            "gridcolor": "white",
            "linecolor": "white",
            "showbackground": true,
            "ticks": "",
            "zerolinecolor": "white",
            "gridwidth": 2
           },
           "yaxis": {
            "backgroundcolor": "#E5ECF6",
            "gridcolor": "white",
            "linecolor": "white",
            "showbackground": true,
            "ticks": "",
            "zerolinecolor": "white",
            "gridwidth": 2
           },
           "zaxis": {
            "backgroundcolor": "#E5ECF6",
            "gridcolor": "white",
            "linecolor": "white",
            "showbackground": true,
            "ticks": "",
            "zerolinecolor": "white",
            "gridwidth": 2
           }
          },
          "shapedefaults": {
           "line": {
            "color": "#2a3f5f"
           }
          },
          "annotationdefaults": {
           "arrowcolor": "#2a3f5f",
           "arrowhead": 0,
           "arrowwidth": 1
          },
          "geo": {
           "bgcolor": "white",
           "landcolor": "#E5ECF6",
           "subunitcolor": "white",
           "showland": true,
           "showlakes": true,
           "lakecolor": "white"
          },
          "title": {
           "x": 0.05
          },
          "mapbox": {
           "style": "light"
          }
         }
        }
       },
       "config": {
        "plotlyServerURL": "https://plot.ly"
       }
      }
     },
     "metadata": {},
     "output_type": "display_data"
    }
   ],
   "metadata": {
    "datalore": {
     "node_id": "eb49T3dmTBnl2P9Pl6xX2v",
     "type": "CODE",
     "hide_input_from_viewers": true,
     "hide_output_from_viewers": true
    }
   }
  },
  {
   "cell_type": "markdown",
   "source": [
    "# Koláčový graf\n",
    "Sú vhodné na zobrazovanie percentuálneho rozdelenia kategórií voči celku."
   ],
   "attachments": {},
   "metadata": {
    "datalore": {
     "node_id": "LwlKFqoy2iGASvdTjD1AZC",
     "type": "MD",
     "hide_input_from_viewers": true,
     "hide_output_from_viewers": true
    }
   }
  },
  {
   "cell_type": "code",
   "source": [
    "import plotly.graph_objects as go\n",
    "\n",
    "# Dáta pre graf\n",
    "labels = ['Oddelenie A', 'Oddelenie B', 'Oddelenie C']\n",
    "values = [450, 300, 250]\n",
    "\n",
    "# Vytvorenie grafu\n",
    "fig = go.Figure(data=go.Pie(labels=labels, values=values))\n",
    "\n",
    "# Zobrazenie grafu\n",
    "fig.show()"
   ],
   "execution_count": 23,
   "outputs": [
    {
     "data": {
      "application/vnd.plotly.v1+json": {
       "data": [
        {
         "labels": [
          "Oddelenie A",
          "Oddelenie B",
          "Oddelenie C"
         ],
         "values": [
          450,
          300,
          250
         ],
         "type": "pie"
        }
       ],
       "layout": {
        "template": {
         "data": {
          "histogram2dcontour": [
           {
            "type": "histogram2dcontour",
            "colorbar": {
             "outlinewidth": 0,
             "ticks": ""
            },
            "colorscale": [
             [
              0,
              "#0d0887"
             ],
             [
              0.1111111111111111,
              "#46039f"
             ],
             [
              0.2222222222222222,
              "#7201a8"
             ],
             [
              0.3333333333333333,
              "#9c179e"
             ],
             [
              0.4444444444444444,
              "#bd3786"
             ],
             [
              0.5555555555555556,
              "#d8576b"
             ],
             [
              0.6666666666666666,
              "#ed7953"
             ],
             [
              0.7777777777777778,
              "#fb9f3a"
             ],
             [
              0.8888888888888888,
              "#fdca26"
             ],
             [
              1,
              "#f0f921"
             ]
            ]
           }
          ],
          "choropleth": [
           {
            "type": "choropleth",
            "colorbar": {
             "outlinewidth": 0,
             "ticks": ""
            }
           }
          ],
          "histogram2d": [
           {
            "type": "histogram2d",
            "colorbar": {
             "outlinewidth": 0,
             "ticks": ""
            },
            "colorscale": [
             [
              0,
              "#0d0887"
             ],
             [
              0.1111111111111111,
              "#46039f"
             ],
             [
              0.2222222222222222,
              "#7201a8"
             ],
             [
              0.3333333333333333,
              "#9c179e"
             ],
             [
              0.4444444444444444,
              "#bd3786"
             ],
             [
              0.5555555555555556,
              "#d8576b"
             ],
             [
              0.6666666666666666,
              "#ed7953"
             ],
             [
              0.7777777777777778,
              "#fb9f3a"
             ],
             [
              0.8888888888888888,
              "#fdca26"
             ],
             [
              1,
              "#f0f921"
             ]
            ]
           }
          ],
          "heatmap": [
           {
            "type": "heatmap",
            "colorbar": {
             "outlinewidth": 0,
             "ticks": ""
            },
            "colorscale": [
             [
              0,
              "#0d0887"
             ],
             [
              0.1111111111111111,
              "#46039f"
             ],
             [
              0.2222222222222222,
              "#7201a8"
             ],
             [
              0.3333333333333333,
              "#9c179e"
             ],
             [
              0.4444444444444444,
              "#bd3786"
             ],
             [
              0.5555555555555556,
              "#d8576b"
             ],
             [
              0.6666666666666666,
              "#ed7953"
             ],
             [
              0.7777777777777778,
              "#fb9f3a"
             ],
             [
              0.8888888888888888,
              "#fdca26"
             ],
             [
              1,
              "#f0f921"
             ]
            ]
           }
          ],
          "heatmapgl": [
           {
            "type": "heatmapgl",
            "colorbar": {
             "outlinewidth": 0,
             "ticks": ""
            },
            "colorscale": [
             [
              0,
              "#0d0887"
             ],
             [
              0.1111111111111111,
              "#46039f"
             ],
             [
              0.2222222222222222,
              "#7201a8"
             ],
             [
              0.3333333333333333,
              "#9c179e"
             ],
             [
              0.4444444444444444,
              "#bd3786"
             ],
             [
              0.5555555555555556,
              "#d8576b"
             ],
             [
              0.6666666666666666,
              "#ed7953"
             ],
             [
              0.7777777777777778,
              "#fb9f3a"
             ],
             [
              0.8888888888888888,
              "#fdca26"
             ],
             [
              1,
              "#f0f921"
             ]
            ]
           }
          ],
          "contourcarpet": [
           {
            "type": "contourcarpet",
            "colorbar": {
             "outlinewidth": 0,
             "ticks": ""
            }
           }
          ],
          "contour": [
           {
            "type": "contour",
            "colorbar": {
             "outlinewidth": 0,
             "ticks": ""
            },
            "colorscale": [
             [
              0,
              "#0d0887"
             ],
             [
              0.1111111111111111,
              "#46039f"
             ],
             [
              0.2222222222222222,
              "#7201a8"
             ],
             [
              0.3333333333333333,
              "#9c179e"
             ],
             [
              0.4444444444444444,
              "#bd3786"
             ],
             [
              0.5555555555555556,
              "#d8576b"
             ],
             [
              0.6666666666666666,
              "#ed7953"
             ],
             [
              0.7777777777777778,
              "#fb9f3a"
             ],
             [
              0.8888888888888888,
              "#fdca26"
             ],
             [
              1,
              "#f0f921"
             ]
            ]
           }
          ],
          "surface": [
           {
            "type": "surface",
            "colorbar": {
             "outlinewidth": 0,
             "ticks": ""
            },
            "colorscale": [
             [
              0,
              "#0d0887"
             ],
             [
              0.1111111111111111,
              "#46039f"
             ],
             [
              0.2222222222222222,
              "#7201a8"
             ],
             [
              0.3333333333333333,
              "#9c179e"
             ],
             [
              0.4444444444444444,
              "#bd3786"
             ],
             [
              0.5555555555555556,
              "#d8576b"
             ],
             [
              0.6666666666666666,
              "#ed7953"
             ],
             [
              0.7777777777777778,
              "#fb9f3a"
             ],
             [
              0.8888888888888888,
              "#fdca26"
             ],
             [
              1,
              "#f0f921"
             ]
            ]
           }
          ],
          "mesh3d": [
           {
            "type": "mesh3d",
            "colorbar": {
             "outlinewidth": 0,
             "ticks": ""
            }
           }
          ],
          "scatter": [
           {
            "fillpattern": {
             "fillmode": "overlay",
             "size": 10,
             "solidity": 0.2
            },
            "type": "scatter"
           }
          ],
          "parcoords": [
           {
            "type": "parcoords",
            "line": {
             "colorbar": {
              "outlinewidth": 0,
              "ticks": ""
             }
            }
           }
          ],
          "scatterpolargl": [
           {
            "type": "scatterpolargl",
            "marker": {
             "colorbar": {
              "outlinewidth": 0,
              "ticks": ""
             }
            }
           }
          ],
          "bar": [
           {
            "error_x": {
             "color": "#2a3f5f"
            },
            "error_y": {
             "color": "#2a3f5f"
            },
            "marker": {
             "line": {
              "color": "#E5ECF6",
              "width": 0.5
             },
             "pattern": {
              "fillmode": "overlay",
              "size": 10,
              "solidity": 0.2
             }
            },
            "type": "bar"
           }
          ],
          "scattergeo": [
           {
            "type": "scattergeo",
            "marker": {
             "colorbar": {
              "outlinewidth": 0,
              "ticks": ""
             }
            }
           }
          ],
          "scatterpolar": [
           {
            "type": "scatterpolar",
            "marker": {
             "colorbar": {
              "outlinewidth": 0,
              "ticks": ""
             }
            }
           }
          ],
          "histogram": [
           {
            "marker": {
             "pattern": {
              "fillmode": "overlay",
              "size": 10,
              "solidity": 0.2
             }
            },
            "type": "histogram"
           }
          ],
          "scattergl": [
           {
            "type": "scattergl",
            "marker": {
             "colorbar": {
              "outlinewidth": 0,
              "ticks": ""
             }
            }
           }
          ],
          "scatter3d": [
           {
            "type": "scatter3d",
            "line": {
             "colorbar": {
              "outlinewidth": 0,
              "ticks": ""
             }
            },
            "marker": {
             "colorbar": {
              "outlinewidth": 0,
              "ticks": ""
             }
            }
           }
          ],
          "scattermapbox": [
           {
            "type": "scattermapbox",
            "marker": {
             "colorbar": {
              "outlinewidth": 0,
              "ticks": ""
             }
            }
           }
          ],
          "scatterternary": [
           {
            "type": "scatterternary",
            "marker": {
             "colorbar": {
              "outlinewidth": 0,
              "ticks": ""
             }
            }
           }
          ],
          "scattercarpet": [
           {
            "type": "scattercarpet",
            "marker": {
             "colorbar": {
              "outlinewidth": 0,
              "ticks": ""
             }
            }
           }
          ],
          "carpet": [
           {
            "aaxis": {
             "endlinecolor": "#2a3f5f",
             "gridcolor": "white",
             "linecolor": "white",
             "minorgridcolor": "white",
             "startlinecolor": "#2a3f5f"
            },
            "baxis": {
             "endlinecolor": "#2a3f5f",
             "gridcolor": "white",
             "linecolor": "white",
             "minorgridcolor": "white",
             "startlinecolor": "#2a3f5f"
            },
            "type": "carpet"
           }
          ],
          "table": [
           {
            "cells": {
             "fill": {
              "color": "#EBF0F8"
             },
             "line": {
              "color": "white"
             }
            },
            "header": {
             "fill": {
              "color": "#C8D4E3"
             },
             "line": {
              "color": "white"
             }
            },
            "type": "table"
           }
          ],
          "barpolar": [
           {
            "marker": {
             "line": {
              "color": "#E5ECF6",
              "width": 0.5
             },
             "pattern": {
              "fillmode": "overlay",
              "size": 10,
              "solidity": 0.2
             }
            },
            "type": "barpolar"
           }
          ],
          "pie": [
           {
            "automargin": true,
            "type": "pie"
           }
          ]
         },
         "layout": {
          "autotypenumbers": "strict",
          "colorway": [
           "#636efa",
           "#EF553B",
           "#00cc96",
           "#ab63fa",
           "#FFA15A",
           "#19d3f3",
           "#FF6692",
           "#B6E880",
           "#FF97FF",
           "#FECB52"
          ],
          "font": {
           "color": "#2a3f5f"
          },
          "hovermode": "closest",
          "hoverlabel": {
           "align": "left"
          },
          "paper_bgcolor": "white",
          "plot_bgcolor": "#E5ECF6",
          "polar": {
           "bgcolor": "#E5ECF6",
           "angularaxis": {
            "gridcolor": "white",
            "linecolor": "white",
            "ticks": ""
           },
           "radialaxis": {
            "gridcolor": "white",
            "linecolor": "white",
            "ticks": ""
           }
          },
          "ternary": {
           "bgcolor": "#E5ECF6",
           "aaxis": {
            "gridcolor": "white",
            "linecolor": "white",
            "ticks": ""
           },
           "baxis": {
            "gridcolor": "white",
            "linecolor": "white",
            "ticks": ""
           },
           "caxis": {
            "gridcolor": "white",
            "linecolor": "white",
            "ticks": ""
           }
          },
          "coloraxis": {
           "colorbar": {
            "outlinewidth": 0,
            "ticks": ""
           }
          },
          "colorscale": {
           "sequential": [
            [
             0,
             "#0d0887"
            ],
            [
             0.1111111111111111,
             "#46039f"
            ],
            [
             0.2222222222222222,
             "#7201a8"
            ],
            [
             0.3333333333333333,
             "#9c179e"
            ],
            [
             0.4444444444444444,
             "#bd3786"
            ],
            [
             0.5555555555555556,
             "#d8576b"
            ],
            [
             0.6666666666666666,
             "#ed7953"
            ],
            [
             0.7777777777777778,
             "#fb9f3a"
            ],
            [
             0.8888888888888888,
             "#fdca26"
            ],
            [
             1,
             "#f0f921"
            ]
           ],
           "sequentialminus": [
            [
             0,
             "#0d0887"
            ],
            [
             0.1111111111111111,
             "#46039f"
            ],
            [
             0.2222222222222222,
             "#7201a8"
            ],
            [
             0.3333333333333333,
             "#9c179e"
            ],
            [
             0.4444444444444444,
             "#bd3786"
            ],
            [
             0.5555555555555556,
             "#d8576b"
            ],
            [
             0.6666666666666666,
             "#ed7953"
            ],
            [
             0.7777777777777778,
             "#fb9f3a"
            ],
            [
             0.8888888888888888,
             "#fdca26"
            ],
            [
             1,
             "#f0f921"
            ]
           ],
           "diverging": [
            [
             0,
             "#8e0152"
            ],
            [
             0.1,
             "#c51b7d"
            ],
            [
             0.2,
             "#de77ae"
            ],
            [
             0.3,
             "#f1b6da"
            ],
            [
             0.4,
             "#fde0ef"
            ],
            [
             0.5,
             "#f7f7f7"
            ],
            [
             0.6,
             "#e6f5d0"
            ],
            [
             0.7,
             "#b8e186"
            ],
            [
             0.8,
             "#7fbc41"
            ],
            [
             0.9,
             "#4d9221"
            ],
            [
             1,
             "#276419"
            ]
           ]
          },
          "xaxis": {
           "gridcolor": "white",
           "linecolor": "white",
           "ticks": "",
           "title": {
            "standoff": 15
           },
           "zerolinecolor": "white",
           "automargin": true,
           "zerolinewidth": 2
          },
          "yaxis": {
           "gridcolor": "white",
           "linecolor": "white",
           "ticks": "",
           "title": {
            "standoff": 15
           },
           "zerolinecolor": "white",
           "automargin": true,
           "zerolinewidth": 2
          },
          "scene": {
           "xaxis": {
            "backgroundcolor": "#E5ECF6",
            "gridcolor": "white",
            "linecolor": "white",
            "showbackground": true,
            "ticks": "",
            "zerolinecolor": "white",
            "gridwidth": 2
           },
           "yaxis": {
            "backgroundcolor": "#E5ECF6",
            "gridcolor": "white",
            "linecolor": "white",
            "showbackground": true,
            "ticks": "",
            "zerolinecolor": "white",
            "gridwidth": 2
           },
           "zaxis": {
            "backgroundcolor": "#E5ECF6",
            "gridcolor": "white",
            "linecolor": "white",
            "showbackground": true,
            "ticks": "",
            "zerolinecolor": "white",
            "gridwidth": 2
           }
          },
          "shapedefaults": {
           "line": {
            "color": "#2a3f5f"
           }
          },
          "annotationdefaults": {
           "arrowcolor": "#2a3f5f",
           "arrowhead": 0,
           "arrowwidth": 1
          },
          "geo": {
           "bgcolor": "white",
           "landcolor": "#E5ECF6",
           "subunitcolor": "white",
           "showland": true,
           "showlakes": true,
           "lakecolor": "white"
          },
          "title": {
           "x": 0.05
          },
          "mapbox": {
           "style": "light"
          }
         }
        }
       },
       "config": {
        "plotlyServerURL": "https://plot.ly"
       }
      }
     },
     "metadata": {},
     "output_type": "display_data"
    }
   ],
   "metadata": {
    "datalore": {
     "node_id": "dvZo6KJYDUMF1A6olkiQtf",
     "type": "CODE",
     "hide_input_from_viewers": true,
     "hide_output_from_viewers": true
    }
   }
  },
  {
   "cell_type": "markdown",
   "source": [
    "## 3D Scatter Plot\n",
    "Sú užitočné na zobrazovanie vzťahov medzi 3 premennými"
   ],
   "attachments": {},
   "metadata": {
    "datalore": {
     "node_id": "DjJt8bc888p2k7cm9lLcNk",
     "type": "MD",
     "hide_input_from_viewers": true,
     "hide_output_from_viewers": true
    }
   }
  },
  {
   "cell_type": "code",
   "source": [
    "import plotly.graph_objects as go\n",
    "import numpy as np\n",
    "\n",
    "# Náhodné dáta\n",
    "x, y, z = np.random.random(100), np.random.random(100), np.random.random(100)\n",
    "\n",
    "# Vytvorenie grafu\n",
    "fig = go.Figure(data=[go.Scatter3d(x=x, y=y, z=z, mode='markers',\n",
    "                                   marker=dict(size=12, color=z, colorscale='Viridis', opacity=0.8))])\n",
    "\n",
    "# Zobrazenie grafu\n",
    "fig.show()"
   ],
   "execution_count": 24,
   "outputs": [
    {
     "data": {
      "application/vnd.plotly.v1+json": {
       "data": [
        {
         "marker": {
          "color": [
           0.6820653796601972,
           0.5586768745473264,
           0.06001379972303755,
           0.8687855721154328,
           0.04254531642898163,
           0.9308038009359638,
           0.6247330660552156,
           0.24803705186187153,
           0.9032817402190967,
           0.9843150461049475,
           0.8687755143988798,
           0.667590741590958,
           0.8124816157794016,
           0.835082624947618,
           0.22550067860837186,
           0.39854733993212654,
           0.25112799747579173,
           0.9789277814878361,
           0.3345045114923133,
           0.7077498194427163,
           0.042719942718599024,
           0.09270968363866816,
           0.18313319084502266,
           0.5412950155695668,
           0.7210099192233539,
           0.048584791330635646,
           0.9541882844837369,
           0.9323074781368906,
           0.07882238814941378,
           0.6025600284399839,
           0.7675091114303086,
           0.505195015690172,
           0.2954043368265217,
           0.7736249612108056,
           0.12410288711078077,
           0.7246502283014994,
           0.3819713796306562,
           0.42920121206017803,
           0.11896222106994048,
           0.6211557178240212,
           0.07322028921790935,
           0.5094916384231564,
           0.4414433238226412,
           0.8299375665860285,
           0.8252733022028508,
           0.6820940766064868,
           0.024602405222176382,
           0.04695380326867249,
           0.8864732289758905,
           0.07114686796659786,
           0.9407588925555861,
           0.07529134806709936,
           0.2554546712624882,
           0.6527768714560718,
           0.026264522376235,
           0.5298048082821546,
           0.5566546359113873,
           0.8345567309846663,
           0.9204958163775728,
           0.32130749613962784,
           0.7135309835671155,
           0.45504712989014917,
           0.8078981110762676,
           0.6126652481543843,
           0.5131062118168155,
           0.3108275344323792,
           0.8866817769698091,
           0.6010341218789882,
           0.06461937621558278,
           0.8210169148082809,
           0.38589918529152023,
           0.06625493089060064,
           0.6560854547636011,
           0.6987448270548114,
           0.14222909958593344,
           0.3933124888485149,
           0.4466304547526364,
           0.030368678561662255,
           0.4514114802284611,
           0.3275998220692896,
           0.6709849730464872,
           0.5008255608280062,
           0.615682091758216,
           0.2976641470846483,
           0.03872089834825876,
           0.6111055584174293,
           0.2893129670029849,
           0.6139970775229014,
           0.7413329054361422,
           0.6122373258135724,
           0.28948069141511046,
           0.1795694639797808,
           0.33615163012790095,
           0.09500342364474246,
           0.8534068489963236,
           0.1539317529153169,
           0.9568746806543685,
           0.9294378463015808,
           0.8926287278930244,
           0.6060532333148038
          ],
          "colorscale": [
           [
            0,
            "#440154"
           ],
           [
            0.1111111111111111,
            "#482878"
           ],
           [
            0.2222222222222222,
            "#3e4989"
           ],
           [
            0.3333333333333333,
            "#31688e"
           ],
           [
            0.4444444444444444,
            "#26828e"
           ],
           [
            0.5555555555555556,
            "#1f9e89"
           ],
           [
            0.6666666666666666,
            "#35b779"
           ],
           [
            0.7777777777777778,
            "#6ece58"
           ],
           [
            0.8888888888888888,
            "#b5de2b"
           ],
           [
            1,
            "#fde725"
           ]
          ],
          "opacity": 0.8,
          "size": 12
         },
         "mode": "markers",
         "x": [
          0.23533537000490623,
          0.9278170094668414,
          0.5546378041514832,
          0.14674133149099633,
          0.004779275684670736,
          0.30101823675092587,
          0.26598044276903177,
          0.9958658692671961,
          0.7450156871834048,
          0.1612255912520626,
          0.6937126844016824,
          0.32269418841747954,
          0.49093797266020156,
          0.42436510719338705,
          0.8452872780695472,
          0.40309867264247246,
          0.23720186476339822,
          0.3134143015119075,
          0.9062877944854453,
          0.9973832561528663,
          0.6905247525287481,
          0.2138344554036662,
          0.8274189248979352,
          0.8000720683372877,
          0.3387618789795257,
          0.692335634426782,
          0.901886137762905,
          0.6797919378860875,
          0.45992438218817056,
          0.8266197009999371,
          0.5802550393973387,
          0.418668368151357,
          0.7126740421205189,
          0.8464639948173546,
          0.2373265102458778,
          0.33653860720705575,
          0.49201458323833736,
          0.27448146136252827,
          0.8362295556928774,
          0.5728301171858556,
          0.497304942665461,
          0.6348050887397384,
          0.7215682156487053,
          0.32696313999090953,
          0.4213105703239939,
          0.49203912508695813,
          0.6375646667777779,
          0.36172924449655464,
          0.03812279542976982,
          0.23794458026889198,
          0.11030031339219226,
          0.37118532885744593,
          0.9825229752387151,
          0.1306247044113954,
          0.5724913889832043,
          0.692719500968296,
          0.3747563049716264,
          0.056271325667511696,
          0.28013722011106634,
          0.7782024287082719,
          0.6025520849189256,
          0.5923364630066541,
          0.9941077807619175,
          0.4158693506419795,
          0.4412637649186524,
          0.29176666438027854,
          0.6916658397513125,
          0.5913922526836615,
          0.3872838866783159,
          0.6657274560867678,
          0.055762254737990236,
          0.7791871527090787,
          0.1944789964565945,
          0.09237694589012391,
          0.33469574707084293,
          0.95925992515124,
          0.4191867059238611,
          0.9659804263796915,
          0.42974537068818197,
          0.9656523704358658,
          0.2165409268199705,
          0.19214668478186436,
          0.464582257717439,
          0.816142685173673,
          0.45266901037137075,
          0.6490837325212491,
          0.9824879578953257,
          0.5869178885273502,
          0.026926917986399457,
          0.5627127433684538,
          0.19334665786599403,
          0.2498227735898485,
          0.45368442835752365,
          0.6747523068011914,
          0.8170227780174126,
          0.4202420389247016,
          0.6893444641456292,
          0.03135906001707689,
          0.31368011401845697,
          0.8740082400303713
         ],
         "y": [
          0.17050844982397007,
          0.6556097453107116,
          0.12695434673775552,
          0.12602427744711564,
          0.9902835092508495,
          0.8632218029678491,
          0.8908987729483493,
          0.9810873569695228,
          0.49036076117798355,
          0.795231922198753,
          0.13682890768783973,
          0.2339665882048494,
          0.12371244774052292,
          0.4076812974563663,
          0.40618285124360753,
          0.15072285798472662,
          0.05445035650487018,
          0.2768229983860552,
          0.9505503370417642,
          0.08496743253760897,
          0.3990956637887224,
          0.39327946428297145,
          0.6112717997010825,
          0.9843094270729952,
          0.2125434649505188,
          0.8477695541894824,
          0.20372914014572807,
          0.9283550304191522,
          0.2254388424232675,
          0.3658066038321034,
          0.7914670954641142,
          0.5615641334157123,
          0.1646717799078311,
          0.26948092791145173,
          0.8584155911013184,
          0.3773558399647682,
          0.724892195740745,
          0.4145058969882045,
          0.43490796840021284,
          0.31739584759715245,
          0.2808278097412149,
          0.44198705690749707,
          0.3361832624489741,
          0.909894395384796,
          0.5165194615353638,
          0.11246549315871879,
          0.4404915564159724,
          0.21188839443012408,
          0.5291346269004988,
          0.33131763734085173,
          0.022029156540707473,
          0.5370547020048559,
          0.7368982609615808,
          0.7479322912292622,
          0.5106249278551518,
          0.6151480846319817,
          0.8519193649139069,
          0.35478281524219113,
          0.41625975193393594,
          0.3588970769934984,
          0.1640495447202781,
          0.8041393996855934,
          0.8634836997483485,
          0.5793616902527291,
          0.2985654740162057,
          0.3536020135370903,
          0.7344543754327115,
          0.8846654361041274,
          0.7201660737098134,
          0.97812011258259,
          0.1294391948031719,
          0.3730881862184269,
          0.32796489680070784,
          0.6002049555331954,
          0.3241444941821304,
          0.8257791359993992,
          0.22825381300317282,
          0.48351840568616455,
          0.5786150723564544,
          0.3565330995942011,
          0.28599551635454423,
          0.4154077886581914,
          0.8296833123838484,
          0.3949843025288071,
          0.36810564113105326,
          0.20197370757206623,
          0.6600887953726496,
          0.1924974999537893,
          0.09788962614786523,
          0.02543316349716296,
          0.03942074679265117,
          0.9825329209646783,
          0.8420781171875577,
          0.8857095755535552,
          0.5549807770318387,
          0.5670715538732211,
          0.3376518281614078,
          0.009070010158850117,
          0.6465821955338882,
          0.5565354348853168
         ],
         "z": [
          0.6820653796601972,
          0.5586768745473264,
          0.06001379972303755,
          0.8687855721154328,
          0.04254531642898163,
          0.9308038009359638,
          0.6247330660552156,
          0.24803705186187153,
          0.9032817402190967,
          0.9843150461049475,
          0.8687755143988798,
          0.667590741590958,
          0.8124816157794016,
          0.835082624947618,
          0.22550067860837186,
          0.39854733993212654,
          0.25112799747579173,
          0.9789277814878361,
          0.3345045114923133,
          0.7077498194427163,
          0.042719942718599024,
          0.09270968363866816,
          0.18313319084502266,
          0.5412950155695668,
          0.7210099192233539,
          0.048584791330635646,
          0.9541882844837369,
          0.9323074781368906,
          0.07882238814941378,
          0.6025600284399839,
          0.7675091114303086,
          0.505195015690172,
          0.2954043368265217,
          0.7736249612108056,
          0.12410288711078077,
          0.7246502283014994,
          0.3819713796306562,
          0.42920121206017803,
          0.11896222106994048,
          0.6211557178240212,
          0.07322028921790935,
          0.5094916384231564,
          0.4414433238226412,
          0.8299375665860285,
          0.8252733022028508,
          0.6820940766064868,
          0.024602405222176382,
          0.04695380326867249,
          0.8864732289758905,
          0.07114686796659786,
          0.9407588925555861,
          0.07529134806709936,
          0.2554546712624882,
          0.6527768714560718,
          0.026264522376235,
          0.5298048082821546,
          0.5566546359113873,
          0.8345567309846663,
          0.9204958163775728,
          0.32130749613962784,
          0.7135309835671155,
          0.45504712989014917,
          0.8078981110762676,
          0.6126652481543843,
          0.5131062118168155,
          0.3108275344323792,
          0.8866817769698091,
          0.6010341218789882,
          0.06461937621558278,
          0.8210169148082809,
          0.38589918529152023,
          0.06625493089060064,
          0.6560854547636011,
          0.6987448270548114,
          0.14222909958593344,
          0.3933124888485149,
          0.4466304547526364,
          0.030368678561662255,
          0.4514114802284611,
          0.3275998220692896,
          0.6709849730464872,
          0.5008255608280062,
          0.615682091758216,
          0.2976641470846483,
          0.03872089834825876,
          0.6111055584174293,
          0.2893129670029849,
          0.6139970775229014,
          0.7413329054361422,
          0.6122373258135724,
          0.28948069141511046,
          0.1795694639797808,
          0.33615163012790095,
          0.09500342364474246,
          0.8534068489963236,
          0.1539317529153169,
          0.9568746806543685,
          0.9294378463015808,
          0.8926287278930244,
          0.6060532333148038
         ],
         "type": "scatter3d"
        }
       ],
       "layout": {
        "template": {
         "data": {
          "histogram2dcontour": [
           {
            "type": "histogram2dcontour",
            "colorbar": {
             "outlinewidth": 0,
             "ticks": ""
            },
            "colorscale": [
             [
              0,
              "#0d0887"
             ],
             [
              0.1111111111111111,
              "#46039f"
             ],
             [
              0.2222222222222222,
              "#7201a8"
             ],
             [
              0.3333333333333333,
              "#9c179e"
             ],
             [
              0.4444444444444444,
              "#bd3786"
             ],
             [
              0.5555555555555556,
              "#d8576b"
             ],
             [
              0.6666666666666666,
              "#ed7953"
             ],
             [
              0.7777777777777778,
              "#fb9f3a"
             ],
             [
              0.8888888888888888,
              "#fdca26"
             ],
             [
              1,
              "#f0f921"
             ]
            ]
           }
          ],
          "choropleth": [
           {
            "type": "choropleth",
            "colorbar": {
             "outlinewidth": 0,
             "ticks": ""
            }
           }
          ],
          "histogram2d": [
           {
            "type": "histogram2d",
            "colorbar": {
             "outlinewidth": 0,
             "ticks": ""
            },
            "colorscale": [
             [
              0,
              "#0d0887"
             ],
             [
              0.1111111111111111,
              "#46039f"
             ],
             [
              0.2222222222222222,
              "#7201a8"
             ],
             [
              0.3333333333333333,
              "#9c179e"
             ],
             [
              0.4444444444444444,
              "#bd3786"
             ],
             [
              0.5555555555555556,
              "#d8576b"
             ],
             [
              0.6666666666666666,
              "#ed7953"
             ],
             [
              0.7777777777777778,
              "#fb9f3a"
             ],
             [
              0.8888888888888888,
              "#fdca26"
             ],
             [
              1,
              "#f0f921"
             ]
            ]
           }
          ],
          "heatmap": [
           {
            "type": "heatmap",
            "colorbar": {
             "outlinewidth": 0,
             "ticks": ""
            },
            "colorscale": [
             [
              0,
              "#0d0887"
             ],
             [
              0.1111111111111111,
              "#46039f"
             ],
             [
              0.2222222222222222,
              "#7201a8"
             ],
             [
              0.3333333333333333,
              "#9c179e"
             ],
             [
              0.4444444444444444,
              "#bd3786"
             ],
             [
              0.5555555555555556,
              "#d8576b"
             ],
             [
              0.6666666666666666,
              "#ed7953"
             ],
             [
              0.7777777777777778,
              "#fb9f3a"
             ],
             [
              0.8888888888888888,
              "#fdca26"
             ],
             [
              1,
              "#f0f921"
             ]
            ]
           }
          ],
          "heatmapgl": [
           {
            "type": "heatmapgl",
            "colorbar": {
             "outlinewidth": 0,
             "ticks": ""
            },
            "colorscale": [
             [
              0,
              "#0d0887"
             ],
             [
              0.1111111111111111,
              "#46039f"
             ],
             [
              0.2222222222222222,
              "#7201a8"
             ],
             [
              0.3333333333333333,
              "#9c179e"
             ],
             [
              0.4444444444444444,
              "#bd3786"
             ],
             [
              0.5555555555555556,
              "#d8576b"
             ],
             [
              0.6666666666666666,
              "#ed7953"
             ],
             [
              0.7777777777777778,
              "#fb9f3a"
             ],
             [
              0.8888888888888888,
              "#fdca26"
             ],
             [
              1,
              "#f0f921"
             ]
            ]
           }
          ],
          "contourcarpet": [
           {
            "type": "contourcarpet",
            "colorbar": {
             "outlinewidth": 0,
             "ticks": ""
            }
           }
          ],
          "contour": [
           {
            "type": "contour",
            "colorbar": {
             "outlinewidth": 0,
             "ticks": ""
            },
            "colorscale": [
             [
              0,
              "#0d0887"
             ],
             [
              0.1111111111111111,
              "#46039f"
             ],
             [
              0.2222222222222222,
              "#7201a8"
             ],
             [
              0.3333333333333333,
              "#9c179e"
             ],
             [
              0.4444444444444444,
              "#bd3786"
             ],
             [
              0.5555555555555556,
              "#d8576b"
             ],
             [
              0.6666666666666666,
              "#ed7953"
             ],
             [
              0.7777777777777778,
              "#fb9f3a"
             ],
             [
              0.8888888888888888,
              "#fdca26"
             ],
             [
              1,
              "#f0f921"
             ]
            ]
           }
          ],
          "surface": [
           {
            "type": "surface",
            "colorbar": {
             "outlinewidth": 0,
             "ticks": ""
            },
            "colorscale": [
             [
              0,
              "#0d0887"
             ],
             [
              0.1111111111111111,
              "#46039f"
             ],
             [
              0.2222222222222222,
              "#7201a8"
             ],
             [
              0.3333333333333333,
              "#9c179e"
             ],
             [
              0.4444444444444444,
              "#bd3786"
             ],
             [
              0.5555555555555556,
              "#d8576b"
             ],
             [
              0.6666666666666666,
              "#ed7953"
             ],
             [
              0.7777777777777778,
              "#fb9f3a"
             ],
             [
              0.8888888888888888,
              "#fdca26"
             ],
             [
              1,
              "#f0f921"
             ]
            ]
           }
          ],
          "mesh3d": [
           {
            "type": "mesh3d",
            "colorbar": {
             "outlinewidth": 0,
             "ticks": ""
            }
           }
          ],
          "scatter": [
           {
            "fillpattern": {
             "fillmode": "overlay",
             "size": 10,
             "solidity": 0.2
            },
            "type": "scatter"
           }
          ],
          "parcoords": [
           {
            "type": "parcoords",
            "line": {
             "colorbar": {
              "outlinewidth": 0,
              "ticks": ""
             }
            }
           }
          ],
          "scatterpolargl": [
           {
            "type": "scatterpolargl",
            "marker": {
             "colorbar": {
              "outlinewidth": 0,
              "ticks": ""
             }
            }
           }
          ],
          "bar": [
           {
            "error_x": {
             "color": "#2a3f5f"
            },
            "error_y": {
             "color": "#2a3f5f"
            },
            "marker": {
             "line": {
              "color": "#E5ECF6",
              "width": 0.5
             },
             "pattern": {
              "fillmode": "overlay",
              "size": 10,
              "solidity": 0.2
             }
            },
            "type": "bar"
           }
          ],
          "scattergeo": [
           {
            "type": "scattergeo",
            "marker": {
             "colorbar": {
              "outlinewidth": 0,
              "ticks": ""
             }
            }
           }
          ],
          "scatterpolar": [
           {
            "type": "scatterpolar",
            "marker": {
             "colorbar": {
              "outlinewidth": 0,
              "ticks": ""
             }
            }
           }
          ],
          "histogram": [
           {
            "marker": {
             "pattern": {
              "fillmode": "overlay",
              "size": 10,
              "solidity": 0.2
             }
            },
            "type": "histogram"
           }
          ],
          "scattergl": [
           {
            "type": "scattergl",
            "marker": {
             "colorbar": {
              "outlinewidth": 0,
              "ticks": ""
             }
            }
           }
          ],
          "scatter3d": [
           {
            "type": "scatter3d",
            "line": {
             "colorbar": {
              "outlinewidth": 0,
              "ticks": ""
             }
            },
            "marker": {
             "colorbar": {
              "outlinewidth": 0,
              "ticks": ""
             }
            }
           }
          ],
          "scattermapbox": [
           {
            "type": "scattermapbox",
            "marker": {
             "colorbar": {
              "outlinewidth": 0,
              "ticks": ""
             }
            }
           }
          ],
          "scatterternary": [
           {
            "type": "scatterternary",
            "marker": {
             "colorbar": {
              "outlinewidth": 0,
              "ticks": ""
             }
            }
           }
          ],
          "scattercarpet": [
           {
            "type": "scattercarpet",
            "marker": {
             "colorbar": {
              "outlinewidth": 0,
              "ticks": ""
             }
            }
           }
          ],
          "carpet": [
           {
            "aaxis": {
             "endlinecolor": "#2a3f5f",
             "gridcolor": "white",
             "linecolor": "white",
             "minorgridcolor": "white",
             "startlinecolor": "#2a3f5f"
            },
            "baxis": {
             "endlinecolor": "#2a3f5f",
             "gridcolor": "white",
             "linecolor": "white",
             "minorgridcolor": "white",
             "startlinecolor": "#2a3f5f"
            },
            "type": "carpet"
           }
          ],
          "table": [
           {
            "cells": {
             "fill": {
              "color": "#EBF0F8"
             },
             "line": {
              "color": "white"
             }
            },
            "header": {
             "fill": {
              "color": "#C8D4E3"
             },
             "line": {
              "color": "white"
             }
            },
            "type": "table"
           }
          ],
          "barpolar": [
           {
            "marker": {
             "line": {
              "color": "#E5ECF6",
              "width": 0.5
             },
             "pattern": {
              "fillmode": "overlay",
              "size": 10,
              "solidity": 0.2
             }
            },
            "type": "barpolar"
           }
          ],
          "pie": [
           {
            "automargin": true,
            "type": "pie"
           }
          ]
         },
         "layout": {
          "autotypenumbers": "strict",
          "colorway": [
           "#636efa",
           "#EF553B",
           "#00cc96",
           "#ab63fa",
           "#FFA15A",
           "#19d3f3",
           "#FF6692",
           "#B6E880",
           "#FF97FF",
           "#FECB52"
          ],
          "font": {
           "color": "#2a3f5f"
          },
          "hovermode": "closest",
          "hoverlabel": {
           "align": "left"
          },
          "paper_bgcolor": "white",
          "plot_bgcolor": "#E5ECF6",
          "polar": {
           "bgcolor": "#E5ECF6",
           "angularaxis": {
            "gridcolor": "white",
            "linecolor": "white",
            "ticks": ""
           },
           "radialaxis": {
            "gridcolor": "white",
            "linecolor": "white",
            "ticks": ""
           }
          },
          "ternary": {
           "bgcolor": "#E5ECF6",
           "aaxis": {
            "gridcolor": "white",
            "linecolor": "white",
            "ticks": ""
           },
           "baxis": {
            "gridcolor": "white",
            "linecolor": "white",
            "ticks": ""
           },
           "caxis": {
            "gridcolor": "white",
            "linecolor": "white",
            "ticks": ""
           }
          },
          "coloraxis": {
           "colorbar": {
            "outlinewidth": 0,
            "ticks": ""
           }
          },
          "colorscale": {
           "sequential": [
            [
             0,
             "#0d0887"
            ],
            [
             0.1111111111111111,
             "#46039f"
            ],
            [
             0.2222222222222222,
             "#7201a8"
            ],
            [
             0.3333333333333333,
             "#9c179e"
            ],
            [
             0.4444444444444444,
             "#bd3786"
            ],
            [
             0.5555555555555556,
             "#d8576b"
            ],
            [
             0.6666666666666666,
             "#ed7953"
            ],
            [
             0.7777777777777778,
             "#fb9f3a"
            ],
            [
             0.8888888888888888,
             "#fdca26"
            ],
            [
             1,
             "#f0f921"
            ]
           ],
           "sequentialminus": [
            [
             0,
             "#0d0887"
            ],
            [
             0.1111111111111111,
             "#46039f"
            ],
            [
             0.2222222222222222,
             "#7201a8"
            ],
            [
             0.3333333333333333,
             "#9c179e"
            ],
            [
             0.4444444444444444,
             "#bd3786"
            ],
            [
             0.5555555555555556,
             "#d8576b"
            ],
            [
             0.6666666666666666,
             "#ed7953"
            ],
            [
             0.7777777777777778,
             "#fb9f3a"
            ],
            [
             0.8888888888888888,
             "#fdca26"
            ],
            [
             1,
             "#f0f921"
            ]
           ],
           "diverging": [
            [
             0,
             "#8e0152"
            ],
            [
             0.1,
             "#c51b7d"
            ],
            [
             0.2,
             "#de77ae"
            ],
            [
             0.3,
             "#f1b6da"
            ],
            [
             0.4,
             "#fde0ef"
            ],
            [
             0.5,
             "#f7f7f7"
            ],
            [
             0.6,
             "#e6f5d0"
            ],
            [
             0.7,
             "#b8e186"
            ],
            [
             0.8,
             "#7fbc41"
            ],
            [
             0.9,
             "#4d9221"
            ],
            [
             1,
             "#276419"
            ]
           ]
          },
          "xaxis": {
           "gridcolor": "white",
           "linecolor": "white",
           "ticks": "",
           "title": {
            "standoff": 15
           },
           "zerolinecolor": "white",
           "automargin": true,
           "zerolinewidth": 2
          },
          "yaxis": {
           "gridcolor": "white",
           "linecolor": "white",
           "ticks": "",
           "title": {
            "standoff": 15
           },
           "zerolinecolor": "white",
           "automargin": true,
           "zerolinewidth": 2
          },
          "scene": {
           "xaxis": {
            "backgroundcolor": "#E5ECF6",
            "gridcolor": "white",
            "linecolor": "white",
            "showbackground": true,
            "ticks": "",
            "zerolinecolor": "white",
            "gridwidth": 2
           },
           "yaxis": {
            "backgroundcolor": "#E5ECF6",
            "gridcolor": "white",
            "linecolor": "white",
            "showbackground": true,
            "ticks": "",
            "zerolinecolor": "white",
            "gridwidth": 2
           },
           "zaxis": {
            "backgroundcolor": "#E5ECF6",
            "gridcolor": "white",
            "linecolor": "white",
            "showbackground": true,
            "ticks": "",
            "zerolinecolor": "white",
            "gridwidth": 2
           }
          },
          "shapedefaults": {
           "line": {
            "color": "#2a3f5f"
           }
          },
          "annotationdefaults": {
           "arrowcolor": "#2a3f5f",
           "arrowhead": 0,
           "arrowwidth": 1
          },
          "geo": {
           "bgcolor": "white",
           "landcolor": "#E5ECF6",
           "subunitcolor": "white",
           "showland": true,
           "showlakes": true,
           "lakecolor": "white"
          },
          "title": {
           "x": 0.05
          },
          "mapbox": {
           "style": "light"
          }
         }
        }
       },
       "config": {
        "plotlyServerURL": "https://plot.ly"
       }
      }
     },
     "metadata": {},
     "output_type": "display_data"
    }
   ],
   "metadata": {
    "datalore": {
     "node_id": "6K8doCB8zxdoIbnUnzlBtH",
     "type": "CODE",
     "hide_input_from_viewers": true,
     "hide_output_from_viewers": true
    }
   }
  },
  {
   "cell_type": "markdown",
   "source": [
    "## Heatmapa\n",
    "Sú užitočné na zobrazovanie intenzity alebo četnosti v dvojrozmernom formáte, často používané pre zobrazovanie dát v mriežke."
   ],
   "attachments": {},
   "metadata": {
    "datalore": {
     "node_id": "ei7ggPIQ0AC83FCprDaK0J",
     "type": "MD",
     "hide_input_from_viewers": true,
     "hide_output_from_viewers": true
    }
   }
  },
  {
   "cell_type": "code",
   "source": [
    "import plotly.graph_objects as go\n",
    "\n",
    "# Dáta pre heatmapu\n",
    "data = [[1, 20, 30], [20, 1, 60], [30, 60, 1]]\n",
    "\n",
    "# Vytvorenie heatmapy\n",
    "fig = go.Figure(data=go.Heatmap(z=data))\n",
    "\n",
    "# Zobrazenie heatmapy\n",
    "fig.show()"
   ],
   "execution_count": 25,
   "outputs": [
    {
     "data": {
      "application/vnd.plotly.v1+json": {
       "data": [
        {
         "z": [
          [
           1,
           20,
           30
          ],
          [
           20,
           1,
           60
          ],
          [
           30,
           60,
           1
          ]
         ],
         "type": "heatmap"
        }
       ],
       "layout": {
        "template": {
         "data": {
          "histogram2dcontour": [
           {
            "type": "histogram2dcontour",
            "colorbar": {
             "outlinewidth": 0,
             "ticks": ""
            },
            "colorscale": [
             [
              0,
              "#0d0887"
             ],
             [
              0.1111111111111111,
              "#46039f"
             ],
             [
              0.2222222222222222,
              "#7201a8"
             ],
             [
              0.3333333333333333,
              "#9c179e"
             ],
             [
              0.4444444444444444,
              "#bd3786"
             ],
             [
              0.5555555555555556,
              "#d8576b"
             ],
             [
              0.6666666666666666,
              "#ed7953"
             ],
             [
              0.7777777777777778,
              "#fb9f3a"
             ],
             [
              0.8888888888888888,
              "#fdca26"
             ],
             [
              1,
              "#f0f921"
             ]
            ]
           }
          ],
          "choropleth": [
           {
            "type": "choropleth",
            "colorbar": {
             "outlinewidth": 0,
             "ticks": ""
            }
           }
          ],
          "histogram2d": [
           {
            "type": "histogram2d",
            "colorbar": {
             "outlinewidth": 0,
             "ticks": ""
            },
            "colorscale": [
             [
              0,
              "#0d0887"
             ],
             [
              0.1111111111111111,
              "#46039f"
             ],
             [
              0.2222222222222222,
              "#7201a8"
             ],
             [
              0.3333333333333333,
              "#9c179e"
             ],
             [
              0.4444444444444444,
              "#bd3786"
             ],
             [
              0.5555555555555556,
              "#d8576b"
             ],
             [
              0.6666666666666666,
              "#ed7953"
             ],
             [
              0.7777777777777778,
              "#fb9f3a"
             ],
             [
              0.8888888888888888,
              "#fdca26"
             ],
             [
              1,
              "#f0f921"
             ]
            ]
           }
          ],
          "heatmap": [
           {
            "type": "heatmap",
            "colorbar": {
             "outlinewidth": 0,
             "ticks": ""
            },
            "colorscale": [
             [
              0,
              "#0d0887"
             ],
             [
              0.1111111111111111,
              "#46039f"
             ],
             [
              0.2222222222222222,
              "#7201a8"
             ],
             [
              0.3333333333333333,
              "#9c179e"
             ],
             [
              0.4444444444444444,
              "#bd3786"
             ],
             [
              0.5555555555555556,
              "#d8576b"
             ],
             [
              0.6666666666666666,
              "#ed7953"
             ],
             [
              0.7777777777777778,
              "#fb9f3a"
             ],
             [
              0.8888888888888888,
              "#fdca26"
             ],
             [
              1,
              "#f0f921"
             ]
            ]
           }
          ],
          "heatmapgl": [
           {
            "type": "heatmapgl",
            "colorbar": {
             "outlinewidth": 0,
             "ticks": ""
            },
            "colorscale": [
             [
              0,
              "#0d0887"
             ],
             [
              0.1111111111111111,
              "#46039f"
             ],
             [
              0.2222222222222222,
              "#7201a8"
             ],
             [
              0.3333333333333333,
              "#9c179e"
             ],
             [
              0.4444444444444444,
              "#bd3786"
             ],
             [
              0.5555555555555556,
              "#d8576b"
             ],
             [
              0.6666666666666666,
              "#ed7953"
             ],
             [
              0.7777777777777778,
              "#fb9f3a"
             ],
             [
              0.8888888888888888,
              "#fdca26"
             ],
             [
              1,
              "#f0f921"
             ]
            ]
           }
          ],
          "contourcarpet": [
           {
            "type": "contourcarpet",
            "colorbar": {
             "outlinewidth": 0,
             "ticks": ""
            }
           }
          ],
          "contour": [
           {
            "type": "contour",
            "colorbar": {
             "outlinewidth": 0,
             "ticks": ""
            },
            "colorscale": [
             [
              0,
              "#0d0887"
             ],
             [
              0.1111111111111111,
              "#46039f"
             ],
             [
              0.2222222222222222,
              "#7201a8"
             ],
             [
              0.3333333333333333,
              "#9c179e"
             ],
             [
              0.4444444444444444,
              "#bd3786"
             ],
             [
              0.5555555555555556,
              "#d8576b"
             ],
             [
              0.6666666666666666,
              "#ed7953"
             ],
             [
              0.7777777777777778,
              "#fb9f3a"
             ],
             [
              0.8888888888888888,
              "#fdca26"
             ],
             [
              1,
              "#f0f921"
             ]
            ]
           }
          ],
          "surface": [
           {
            "type": "surface",
            "colorbar": {
             "outlinewidth": 0,
             "ticks": ""
            },
            "colorscale": [
             [
              0,
              "#0d0887"
             ],
             [
              0.1111111111111111,
              "#46039f"
             ],
             [
              0.2222222222222222,
              "#7201a8"
             ],
             [
              0.3333333333333333,
              "#9c179e"
             ],
             [
              0.4444444444444444,
              "#bd3786"
             ],
             [
              0.5555555555555556,
              "#d8576b"
             ],
             [
              0.6666666666666666,
              "#ed7953"
             ],
             [
              0.7777777777777778,
              "#fb9f3a"
             ],
             [
              0.8888888888888888,
              "#fdca26"
             ],
             [
              1,
              "#f0f921"
             ]
            ]
           }
          ],
          "mesh3d": [
           {
            "type": "mesh3d",
            "colorbar": {
             "outlinewidth": 0,
             "ticks": ""
            }
           }
          ],
          "scatter": [
           {
            "fillpattern": {
             "fillmode": "overlay",
             "size": 10,
             "solidity": 0.2
            },
            "type": "scatter"
           }
          ],
          "parcoords": [
           {
            "type": "parcoords",
            "line": {
             "colorbar": {
              "outlinewidth": 0,
              "ticks": ""
             }
            }
           }
          ],
          "scatterpolargl": [
           {
            "type": "scatterpolargl",
            "marker": {
             "colorbar": {
              "outlinewidth": 0,
              "ticks": ""
             }
            }
           }
          ],
          "bar": [
           {
            "error_x": {
             "color": "#2a3f5f"
            },
            "error_y": {
             "color": "#2a3f5f"
            },
            "marker": {
             "line": {
              "color": "#E5ECF6",
              "width": 0.5
             },
             "pattern": {
              "fillmode": "overlay",
              "size": 10,
              "solidity": 0.2
             }
            },
            "type": "bar"
           }
          ],
          "scattergeo": [
           {
            "type": "scattergeo",
            "marker": {
             "colorbar": {
              "outlinewidth": 0,
              "ticks": ""
             }
            }
           }
          ],
          "scatterpolar": [
           {
            "type": "scatterpolar",
            "marker": {
             "colorbar": {
              "outlinewidth": 0,
              "ticks": ""
             }
            }
           }
          ],
          "histogram": [
           {
            "marker": {
             "pattern": {
              "fillmode": "overlay",
              "size": 10,
              "solidity": 0.2
             }
            },
            "type": "histogram"
           }
          ],
          "scattergl": [
           {
            "type": "scattergl",
            "marker": {
             "colorbar": {
              "outlinewidth": 0,
              "ticks": ""
             }
            }
           }
          ],
          "scatter3d": [
           {
            "type": "scatter3d",
            "line": {
             "colorbar": {
              "outlinewidth": 0,
              "ticks": ""
             }
            },
            "marker": {
             "colorbar": {
              "outlinewidth": 0,
              "ticks": ""
             }
            }
           }
          ],
          "scattermapbox": [
           {
            "type": "scattermapbox",
            "marker": {
             "colorbar": {
              "outlinewidth": 0,
              "ticks": ""
             }
            }
           }
          ],
          "scatterternary": [
           {
            "type": "scatterternary",
            "marker": {
             "colorbar": {
              "outlinewidth": 0,
              "ticks": ""
             }
            }
           }
          ],
          "scattercarpet": [
           {
            "type": "scattercarpet",
            "marker": {
             "colorbar": {
              "outlinewidth": 0,
              "ticks": ""
             }
            }
           }
          ],
          "carpet": [
           {
            "aaxis": {
             "endlinecolor": "#2a3f5f",
             "gridcolor": "white",
             "linecolor": "white",
             "minorgridcolor": "white",
             "startlinecolor": "#2a3f5f"
            },
            "baxis": {
             "endlinecolor": "#2a3f5f",
             "gridcolor": "white",
             "linecolor": "white",
             "minorgridcolor": "white",
             "startlinecolor": "#2a3f5f"
            },
            "type": "carpet"
           }
          ],
          "table": [
           {
            "cells": {
             "fill": {
              "color": "#EBF0F8"
             },
             "line": {
              "color": "white"
             }
            },
            "header": {
             "fill": {
              "color": "#C8D4E3"
             },
             "line": {
              "color": "white"
             }
            },
            "type": "table"
           }
          ],
          "barpolar": [
           {
            "marker": {
             "line": {
              "color": "#E5ECF6",
              "width": 0.5
             },
             "pattern": {
              "fillmode": "overlay",
              "size": 10,
              "solidity": 0.2
             }
            },
            "type": "barpolar"
           }
          ],
          "pie": [
           {
            "automargin": true,
            "type": "pie"
           }
          ]
         },
         "layout": {
          "autotypenumbers": "strict",
          "colorway": [
           "#636efa",
           "#EF553B",
           "#00cc96",
           "#ab63fa",
           "#FFA15A",
           "#19d3f3",
           "#FF6692",
           "#B6E880",
           "#FF97FF",
           "#FECB52"
          ],
          "font": {
           "color": "#2a3f5f"
          },
          "hovermode": "closest",
          "hoverlabel": {
           "align": "left"
          },
          "paper_bgcolor": "white",
          "plot_bgcolor": "#E5ECF6",
          "polar": {
           "bgcolor": "#E5ECF6",
           "angularaxis": {
            "gridcolor": "white",
            "linecolor": "white",
            "ticks": ""
           },
           "radialaxis": {
            "gridcolor": "white",
            "linecolor": "white",
            "ticks": ""
           }
          },
          "ternary": {
           "bgcolor": "#E5ECF6",
           "aaxis": {
            "gridcolor": "white",
            "linecolor": "white",
            "ticks": ""
           },
           "baxis": {
            "gridcolor": "white",
            "linecolor": "white",
            "ticks": ""
           },
           "caxis": {
            "gridcolor": "white",
            "linecolor": "white",
            "ticks": ""
           }
          },
          "coloraxis": {
           "colorbar": {
            "outlinewidth": 0,
            "ticks": ""
           }
          },
          "colorscale": {
           "sequential": [
            [
             0,
             "#0d0887"
            ],
            [
             0.1111111111111111,
             "#46039f"
            ],
            [
             0.2222222222222222,
             "#7201a8"
            ],
            [
             0.3333333333333333,
             "#9c179e"
            ],
            [
             0.4444444444444444,
             "#bd3786"
            ],
            [
             0.5555555555555556,
             "#d8576b"
            ],
            [
             0.6666666666666666,
             "#ed7953"
            ],
            [
             0.7777777777777778,
             "#fb9f3a"
            ],
            [
             0.8888888888888888,
             "#fdca26"
            ],
            [
             1,
             "#f0f921"
            ]
           ],
           "sequentialminus": [
            [
             0,
             "#0d0887"
            ],
            [
             0.1111111111111111,
             "#46039f"
            ],
            [
             0.2222222222222222,
             "#7201a8"
            ],
            [
             0.3333333333333333,
             "#9c179e"
            ],
            [
             0.4444444444444444,
             "#bd3786"
            ],
            [
             0.5555555555555556,
             "#d8576b"
            ],
            [
             0.6666666666666666,
             "#ed7953"
            ],
            [
             0.7777777777777778,
             "#fb9f3a"
            ],
            [
             0.8888888888888888,
             "#fdca26"
            ],
            [
             1,
             "#f0f921"
            ]
           ],
           "diverging": [
            [
             0,
             "#8e0152"
            ],
            [
             0.1,
             "#c51b7d"
            ],
            [
             0.2,
             "#de77ae"
            ],
            [
             0.3,
             "#f1b6da"
            ],
            [
             0.4,
             "#fde0ef"
            ],
            [
             0.5,
             "#f7f7f7"
            ],
            [
             0.6,
             "#e6f5d0"
            ],
            [
             0.7,
             "#b8e186"
            ],
            [
             0.8,
             "#7fbc41"
            ],
            [
             0.9,
             "#4d9221"
            ],
            [
             1,
             "#276419"
            ]
           ]
          },
          "xaxis": {
           "gridcolor": "white",
           "linecolor": "white",
           "ticks": "",
           "title": {
            "standoff": 15
           },
           "zerolinecolor": "white",
           "automargin": true,
           "zerolinewidth": 2
          },
          "yaxis": {
           "gridcolor": "white",
           "linecolor": "white",
           "ticks": "",
           "title": {
            "standoff": 15
           },
           "zerolinecolor": "white",
           "automargin": true,
           "zerolinewidth": 2
          },
          "scene": {
           "xaxis": {
            "backgroundcolor": "#E5ECF6",
            "gridcolor": "white",
            "linecolor": "white",
            "showbackground": true,
            "ticks": "",
            "zerolinecolor": "white",
            "gridwidth": 2
           },
           "yaxis": {
            "backgroundcolor": "#E5ECF6",
            "gridcolor": "white",
            "linecolor": "white",
            "showbackground": true,
            "ticks": "",
            "zerolinecolor": "white",
            "gridwidth": 2
           },
           "zaxis": {
            "backgroundcolor": "#E5ECF6",
            "gridcolor": "white",
            "linecolor": "white",
            "showbackground": true,
            "ticks": "",
            "zerolinecolor": "white",
            "gridwidth": 2
           }
          },
          "shapedefaults": {
           "line": {
            "color": "#2a3f5f"
           }
          },
          "annotationdefaults": {
           "arrowcolor": "#2a3f5f",
           "arrowhead": 0,
           "arrowwidth": 1
          },
          "geo": {
           "bgcolor": "white",
           "landcolor": "#E5ECF6",
           "subunitcolor": "white",
           "showland": true,
           "showlakes": true,
           "lakecolor": "white"
          },
          "title": {
           "x": 0.05
          },
          "mapbox": {
           "style": "light"
          }
         }
        }
       },
       "config": {
        "plotlyServerURL": "https://plot.ly"
       }
      }
     },
     "metadata": {},
     "output_type": "display_data"
    }
   ],
   "metadata": {
    "datalore": {
     "node_id": "7iJPtTJJo5jr8kN9EObvDh",
     "type": "CODE",
     "hide_input_from_viewers": true,
     "hide_output_from_viewers": true
    }
   }
  },
  {
   "cell_type": "markdown",
   "source": [
    "# Bublinový graf\n",
    "Bublinové grafy rozširujú scatter ploty tým, že veľkosť bubliny reprezentuje ďalšiu dimenziu dát"
   ],
   "attachments": {},
   "metadata": {
    "datalore": {
     "node_id": "JoYxDS2SrasUNmwX7yekpB",
     "type": "MD",
     "hide_input_from_viewers": true,
     "hide_output_from_viewers": true
    }
   }
  },
  {
   "cell_type": "code",
   "source": [
    "import plotly.graph_objects as go\n",
    "\n",
    "# Dáta\n",
    "x = [1, 2, 3, 4]\n",
    "y = [10, 11, 12, 13]\n",
    "size = [30, 80, 200, 100]\n",
    "\n",
    "# Vytvorenie bublinového grafu\n",
    "fig = go.Figure(data=[go.Scatter(x=x, y=y, mode='markers', marker=dict(size=size))])\n",
    "\n",
    "# Zobrazenie grafu\n",
    "fig.show()"
   ],
   "execution_count": 27,
   "outputs": [
    {
     "data": {
      "application/vnd.plotly.v1+json": {
       "data": [
        {
         "marker": {
          "size": [
           30,
           80,
           200,
           100
          ]
         },
         "mode": "markers",
         "x": [
          1,
          2,
          3,
          4
         ],
         "y": [
          10,
          11,
          12,
          13
         ],
         "type": "scatter"
        }
       ],
       "layout": {
        "template": {
         "data": {
          "histogram2dcontour": [
           {
            "type": "histogram2dcontour",
            "colorbar": {
             "outlinewidth": 0,
             "ticks": ""
            },
            "colorscale": [
             [
              0,
              "#0d0887"
             ],
             [
              0.1111111111111111,
              "#46039f"
             ],
             [
              0.2222222222222222,
              "#7201a8"
             ],
             [
              0.3333333333333333,
              "#9c179e"
             ],
             [
              0.4444444444444444,
              "#bd3786"
             ],
             [
              0.5555555555555556,
              "#d8576b"
             ],
             [
              0.6666666666666666,
              "#ed7953"
             ],
             [
              0.7777777777777778,
              "#fb9f3a"
             ],
             [
              0.8888888888888888,
              "#fdca26"
             ],
             [
              1,
              "#f0f921"
             ]
            ]
           }
          ],
          "choropleth": [
           {
            "type": "choropleth",
            "colorbar": {
             "outlinewidth": 0,
             "ticks": ""
            }
           }
          ],
          "histogram2d": [
           {
            "type": "histogram2d",
            "colorbar": {
             "outlinewidth": 0,
             "ticks": ""
            },
            "colorscale": [
             [
              0,
              "#0d0887"
             ],
             [
              0.1111111111111111,
              "#46039f"
             ],
             [
              0.2222222222222222,
              "#7201a8"
             ],
             [
              0.3333333333333333,
              "#9c179e"
             ],
             [
              0.4444444444444444,
              "#bd3786"
             ],
             [
              0.5555555555555556,
              "#d8576b"
             ],
             [
              0.6666666666666666,
              "#ed7953"
             ],
             [
              0.7777777777777778,
              "#fb9f3a"
             ],
             [
              0.8888888888888888,
              "#fdca26"
             ],
             [
              1,
              "#f0f921"
             ]
            ]
           }
          ],
          "heatmap": [
           {
            "type": "heatmap",
            "colorbar": {
             "outlinewidth": 0,
             "ticks": ""
            },
            "colorscale": [
             [
              0,
              "#0d0887"
             ],
             [
              0.1111111111111111,
              "#46039f"
             ],
             [
              0.2222222222222222,
              "#7201a8"
             ],
             [
              0.3333333333333333,
              "#9c179e"
             ],
             [
              0.4444444444444444,
              "#bd3786"
             ],
             [
              0.5555555555555556,
              "#d8576b"
             ],
             [
              0.6666666666666666,
              "#ed7953"
             ],
             [
              0.7777777777777778,
              "#fb9f3a"
             ],
             [
              0.8888888888888888,
              "#fdca26"
             ],
             [
              1,
              "#f0f921"
             ]
            ]
           }
          ],
          "heatmapgl": [
           {
            "type": "heatmapgl",
            "colorbar": {
             "outlinewidth": 0,
             "ticks": ""
            },
            "colorscale": [
             [
              0,
              "#0d0887"
             ],
             [
              0.1111111111111111,
              "#46039f"
             ],
             [
              0.2222222222222222,
              "#7201a8"
             ],
             [
              0.3333333333333333,
              "#9c179e"
             ],
             [
              0.4444444444444444,
              "#bd3786"
             ],
             [
              0.5555555555555556,
              "#d8576b"
             ],
             [
              0.6666666666666666,
              "#ed7953"
             ],
             [
              0.7777777777777778,
              "#fb9f3a"
             ],
             [
              0.8888888888888888,
              "#fdca26"
             ],
             [
              1,
              "#f0f921"
             ]
            ]
           }
          ],
          "contourcarpet": [
           {
            "type": "contourcarpet",
            "colorbar": {
             "outlinewidth": 0,
             "ticks": ""
            }
           }
          ],
          "contour": [
           {
            "type": "contour",
            "colorbar": {
             "outlinewidth": 0,
             "ticks": ""
            },
            "colorscale": [
             [
              0,
              "#0d0887"
             ],
             [
              0.1111111111111111,
              "#46039f"
             ],
             [
              0.2222222222222222,
              "#7201a8"
             ],
             [
              0.3333333333333333,
              "#9c179e"
             ],
             [
              0.4444444444444444,
              "#bd3786"
             ],
             [
              0.5555555555555556,
              "#d8576b"
             ],
             [
              0.6666666666666666,
              "#ed7953"
             ],
             [
              0.7777777777777778,
              "#fb9f3a"
             ],
             [
              0.8888888888888888,
              "#fdca26"
             ],
             [
              1,
              "#f0f921"
             ]
            ]
           }
          ],
          "surface": [
           {
            "type": "surface",
            "colorbar": {
             "outlinewidth": 0,
             "ticks": ""
            },
            "colorscale": [
             [
              0,
              "#0d0887"
             ],
             [
              0.1111111111111111,
              "#46039f"
             ],
             [
              0.2222222222222222,
              "#7201a8"
             ],
             [
              0.3333333333333333,
              "#9c179e"
             ],
             [
              0.4444444444444444,
              "#bd3786"
             ],
             [
              0.5555555555555556,
              "#d8576b"
             ],
             [
              0.6666666666666666,
              "#ed7953"
             ],
             [
              0.7777777777777778,
              "#fb9f3a"
             ],
             [
              0.8888888888888888,
              "#fdca26"
             ],
             [
              1,
              "#f0f921"
             ]
            ]
           }
          ],
          "mesh3d": [
           {
            "type": "mesh3d",
            "colorbar": {
             "outlinewidth": 0,
             "ticks": ""
            }
           }
          ],
          "scatter": [
           {
            "fillpattern": {
             "fillmode": "overlay",
             "size": 10,
             "solidity": 0.2
            },
            "type": "scatter"
           }
          ],
          "parcoords": [
           {
            "type": "parcoords",
            "line": {
             "colorbar": {
              "outlinewidth": 0,
              "ticks": ""
             }
            }
           }
          ],
          "scatterpolargl": [
           {
            "type": "scatterpolargl",
            "marker": {
             "colorbar": {
              "outlinewidth": 0,
              "ticks": ""
             }
            }
           }
          ],
          "bar": [
           {
            "error_x": {
             "color": "#2a3f5f"
            },
            "error_y": {
             "color": "#2a3f5f"
            },
            "marker": {
             "line": {
              "color": "#E5ECF6",
              "width": 0.5
             },
             "pattern": {
              "fillmode": "overlay",
              "size": 10,
              "solidity": 0.2
             }
            },
            "type": "bar"
           }
          ],
          "scattergeo": [
           {
            "type": "scattergeo",
            "marker": {
             "colorbar": {
              "outlinewidth": 0,
              "ticks": ""
             }
            }
           }
          ],
          "scatterpolar": [
           {
            "type": "scatterpolar",
            "marker": {
             "colorbar": {
              "outlinewidth": 0,
              "ticks": ""
             }
            }
           }
          ],
          "histogram": [
           {
            "marker": {
             "pattern": {
              "fillmode": "overlay",
              "size": 10,
              "solidity": 0.2
             }
            },
            "type": "histogram"
           }
          ],
          "scattergl": [
           {
            "type": "scattergl",
            "marker": {
             "colorbar": {
              "outlinewidth": 0,
              "ticks": ""
             }
            }
           }
          ],
          "scatter3d": [
           {
            "type": "scatter3d",
            "line": {
             "colorbar": {
              "outlinewidth": 0,
              "ticks": ""
             }
            },
            "marker": {
             "colorbar": {
              "outlinewidth": 0,
              "ticks": ""
             }
            }
           }
          ],
          "scattermapbox": [
           {
            "type": "scattermapbox",
            "marker": {
             "colorbar": {
              "outlinewidth": 0,
              "ticks": ""
             }
            }
           }
          ],
          "scatterternary": [
           {
            "type": "scatterternary",
            "marker": {
             "colorbar": {
              "outlinewidth": 0,
              "ticks": ""
             }
            }
           }
          ],
          "scattercarpet": [
           {
            "type": "scattercarpet",
            "marker": {
             "colorbar": {
              "outlinewidth": 0,
              "ticks": ""
             }
            }
           }
          ],
          "carpet": [
           {
            "aaxis": {
             "endlinecolor": "#2a3f5f",
             "gridcolor": "white",
             "linecolor": "white",
             "minorgridcolor": "white",
             "startlinecolor": "#2a3f5f"
            },
            "baxis": {
             "endlinecolor": "#2a3f5f",
             "gridcolor": "white",
             "linecolor": "white",
             "minorgridcolor": "white",
             "startlinecolor": "#2a3f5f"
            },
            "type": "carpet"
           }
          ],
          "table": [
           {
            "cells": {
             "fill": {
              "color": "#EBF0F8"
             },
             "line": {
              "color": "white"
             }
            },
            "header": {
             "fill": {
              "color": "#C8D4E3"
             },
             "line": {
              "color": "white"
             }
            },
            "type": "table"
           }
          ],
          "barpolar": [
           {
            "marker": {
             "line": {
              "color": "#E5ECF6",
              "width": 0.5
             },
             "pattern": {
              "fillmode": "overlay",
              "size": 10,
              "solidity": 0.2
             }
            },
            "type": "barpolar"
           }
          ],
          "pie": [
           {
            "automargin": true,
            "type": "pie"
           }
          ]
         },
         "layout": {
          "autotypenumbers": "strict",
          "colorway": [
           "#636efa",
           "#EF553B",
           "#00cc96",
           "#ab63fa",
           "#FFA15A",
           "#19d3f3",
           "#FF6692",
           "#B6E880",
           "#FF97FF",
           "#FECB52"
          ],
          "font": {
           "color": "#2a3f5f"
          },
          "hovermode": "closest",
          "hoverlabel": {
           "align": "left"
          },
          "paper_bgcolor": "white",
          "plot_bgcolor": "#E5ECF6",
          "polar": {
           "bgcolor": "#E5ECF6",
           "angularaxis": {
            "gridcolor": "white",
            "linecolor": "white",
            "ticks": ""
           },
           "radialaxis": {
            "gridcolor": "white",
            "linecolor": "white",
            "ticks": ""
           }
          },
          "ternary": {
           "bgcolor": "#E5ECF6",
           "aaxis": {
            "gridcolor": "white",
            "linecolor": "white",
            "ticks": ""
           },
           "baxis": {
            "gridcolor": "white",
            "linecolor": "white",
            "ticks": ""
           },
           "caxis": {
            "gridcolor": "white",
            "linecolor": "white",
            "ticks": ""
           }
          },
          "coloraxis": {
           "colorbar": {
            "outlinewidth": 0,
            "ticks": ""
           }
          },
          "colorscale": {
           "sequential": [
            [
             0,
             "#0d0887"
            ],
            [
             0.1111111111111111,
             "#46039f"
            ],
            [
             0.2222222222222222,
             "#7201a8"
            ],
            [
             0.3333333333333333,
             "#9c179e"
            ],
            [
             0.4444444444444444,
             "#bd3786"
            ],
            [
             0.5555555555555556,
             "#d8576b"
            ],
            [
             0.6666666666666666,
             "#ed7953"
            ],
            [
             0.7777777777777778,
             "#fb9f3a"
            ],
            [
             0.8888888888888888,
             "#fdca26"
            ],
            [
             1,
             "#f0f921"
            ]
           ],
           "sequentialminus": [
            [
             0,
             "#0d0887"
            ],
            [
             0.1111111111111111,
             "#46039f"
            ],
            [
             0.2222222222222222,
             "#7201a8"
            ],
            [
             0.3333333333333333,
             "#9c179e"
            ],
            [
             0.4444444444444444,
             "#bd3786"
            ],
            [
             0.5555555555555556,
             "#d8576b"
            ],
            [
             0.6666666666666666,
             "#ed7953"
            ],
            [
             0.7777777777777778,
             "#fb9f3a"
            ],
            [
             0.8888888888888888,
             "#fdca26"
            ],
            [
             1,
             "#f0f921"
            ]
           ],
           "diverging": [
            [
             0,
             "#8e0152"
            ],
            [
             0.1,
             "#c51b7d"
            ],
            [
             0.2,
             "#de77ae"
            ],
            [
             0.3,
             "#f1b6da"
            ],
            [
             0.4,
             "#fde0ef"
            ],
            [
             0.5,
             "#f7f7f7"
            ],
            [
             0.6,
             "#e6f5d0"
            ],
            [
             0.7,
             "#b8e186"
            ],
            [
             0.8,
             "#7fbc41"
            ],
            [
             0.9,
             "#4d9221"
            ],
            [
             1,
             "#276419"
            ]
           ]
          },
          "xaxis": {
           "gridcolor": "white",
           "linecolor": "white",
           "ticks": "",
           "title": {
            "standoff": 15
           },
           "zerolinecolor": "white",
           "automargin": true,
           "zerolinewidth": 2
          },
          "yaxis": {
           "gridcolor": "white",
           "linecolor": "white",
           "ticks": "",
           "title": {
            "standoff": 15
           },
           "zerolinecolor": "white",
           "automargin": true,
           "zerolinewidth": 2
          },
          "scene": {
           "xaxis": {
            "backgroundcolor": "#E5ECF6",
            "gridcolor": "white",
            "linecolor": "white",
            "showbackground": true,
            "ticks": "",
            "zerolinecolor": "white",
            "gridwidth": 2
           },
           "yaxis": {
            "backgroundcolor": "#E5ECF6",
            "gridcolor": "white",
            "linecolor": "white",
            "showbackground": true,
            "ticks": "",
            "zerolinecolor": "white",
            "gridwidth": 2
           },
           "zaxis": {
            "backgroundcolor": "#E5ECF6",
            "gridcolor": "white",
            "linecolor": "white",
            "showbackground": true,
            "ticks": "",
            "zerolinecolor": "white",
            "gridwidth": 2
           }
          },
          "shapedefaults": {
           "line": {
            "color": "#2a3f5f"
           }
          },
          "annotationdefaults": {
           "arrowcolor": "#2a3f5f",
           "arrowhead": 0,
           "arrowwidth": 1
          },
          "geo": {
           "bgcolor": "white",
           "landcolor": "#E5ECF6",
           "subunitcolor": "white",
           "showland": true,
           "showlakes": true,
           "lakecolor": "white"
          },
          "title": {
           "x": 0.05
          },
          "mapbox": {
           "style": "light"
          }
         }
        }
       },
       "config": {
        "plotlyServerURL": "https://plot.ly"
       }
      }
     },
     "metadata": {},
     "output_type": "display_data"
    }
   ],
   "metadata": {
    "datalore": {
     "node_id": "0B4GuyNt67Oq9q1JbVISdf",
     "type": "CODE",
     "hide_input_from_viewers": true,
     "hide_output_from_viewers": true
    }
   }
  },
  {
   "cell_type": "markdown",
   "source": [
    "## Box Plot\n",
    "Box ploty (alebo box-and-whisker grafy) sú užitočné na zobrazovanie distribúcie dát cez kvartily, odhalenie odľahlých hodnôt a porovnanie distribúcií medzi rôznymi skupinami."
   ],
   "attachments": {},
   "metadata": {
    "datalore": {
     "node_id": "Nrcp9aWEsyHmwbGmIx8aVI",
     "type": "MD",
     "hide_input_from_viewers": true,
     "hide_output_from_viewers": true
    }
   }
  },
  {
   "cell_type": "code",
   "source": [
    "import plotly.graph_objects as go\n",
    "\n",
    "# Dáta\n",
    "data = [go.Box(y=[1, 2, 3, 4, 5], name='Skupina 1'),\n",
    "        go.Box(y=[1, 2, 2, 3, 5], name='Skupina 2')]\n",
    "\n",
    "# Vytvorenie box plotu\n",
    "fig = go.Figure(data=data)\n",
    "\n",
    "# Zobrazenie grafu\n",
    "fig.show()"
   ],
   "execution_count": 28,
   "outputs": [
    {
     "data": {
      "application/vnd.plotly.v1+json": {
       "data": [
        {
         "name": "Skupina 1",
         "y": [
          1,
          2,
          3,
          4,
          5
         ],
         "type": "box"
        },
        {
         "name": "Skupina 2",
         "y": [
          1,
          2,
          2,
          3,
          5
         ],
         "type": "box"
        }
       ],
       "layout": {
        "template": {
         "data": {
          "histogram2dcontour": [
           {
            "type": "histogram2dcontour",
            "colorbar": {
             "outlinewidth": 0,
             "ticks": ""
            },
            "colorscale": [
             [
              0,
              "#0d0887"
             ],
             [
              0.1111111111111111,
              "#46039f"
             ],
             [
              0.2222222222222222,
              "#7201a8"
             ],
             [
              0.3333333333333333,
              "#9c179e"
             ],
             [
              0.4444444444444444,
              "#bd3786"
             ],
             [
              0.5555555555555556,
              "#d8576b"
             ],
             [
              0.6666666666666666,
              "#ed7953"
             ],
             [
              0.7777777777777778,
              "#fb9f3a"
             ],
             [
              0.8888888888888888,
              "#fdca26"
             ],
             [
              1,
              "#f0f921"
             ]
            ]
           }
          ],
          "choropleth": [
           {
            "type": "choropleth",
            "colorbar": {
             "outlinewidth": 0,
             "ticks": ""
            }
           }
          ],
          "histogram2d": [
           {
            "type": "histogram2d",
            "colorbar": {
             "outlinewidth": 0,
             "ticks": ""
            },
            "colorscale": [
             [
              0,
              "#0d0887"
             ],
             [
              0.1111111111111111,
              "#46039f"
             ],
             [
              0.2222222222222222,
              "#7201a8"
             ],
             [
              0.3333333333333333,
              "#9c179e"
             ],
             [
              0.4444444444444444,
              "#bd3786"
             ],
             [
              0.5555555555555556,
              "#d8576b"
             ],
             [
              0.6666666666666666,
              "#ed7953"
             ],
             [
              0.7777777777777778,
              "#fb9f3a"
             ],
             [
              0.8888888888888888,
              "#fdca26"
             ],
             [
              1,
              "#f0f921"
             ]
            ]
           }
          ],
          "heatmap": [
           {
            "type": "heatmap",
            "colorbar": {
             "outlinewidth": 0,
             "ticks": ""
            },
            "colorscale": [
             [
              0,
              "#0d0887"
             ],
             [
              0.1111111111111111,
              "#46039f"
             ],
             [
              0.2222222222222222,
              "#7201a8"
             ],
             [
              0.3333333333333333,
              "#9c179e"
             ],
             [
              0.4444444444444444,
              "#bd3786"
             ],
             [
              0.5555555555555556,
              "#d8576b"
             ],
             [
              0.6666666666666666,
              "#ed7953"
             ],
             [
              0.7777777777777778,
              "#fb9f3a"
             ],
             [
              0.8888888888888888,
              "#fdca26"
             ],
             [
              1,
              "#f0f921"
             ]
            ]
           }
          ],
          "heatmapgl": [
           {
            "type": "heatmapgl",
            "colorbar": {
             "outlinewidth": 0,
             "ticks": ""
            },
            "colorscale": [
             [
              0,
              "#0d0887"
             ],
             [
              0.1111111111111111,
              "#46039f"
             ],
             [
              0.2222222222222222,
              "#7201a8"
             ],
             [
              0.3333333333333333,
              "#9c179e"
             ],
             [
              0.4444444444444444,
              "#bd3786"
             ],
             [
              0.5555555555555556,
              "#d8576b"
             ],
             [
              0.6666666666666666,
              "#ed7953"
             ],
             [
              0.7777777777777778,
              "#fb9f3a"
             ],
             [
              0.8888888888888888,
              "#fdca26"
             ],
             [
              1,
              "#f0f921"
             ]
            ]
           }
          ],
          "contourcarpet": [
           {
            "type": "contourcarpet",
            "colorbar": {
             "outlinewidth": 0,
             "ticks": ""
            }
           }
          ],
          "contour": [
           {
            "type": "contour",
            "colorbar": {
             "outlinewidth": 0,
             "ticks": ""
            },
            "colorscale": [
             [
              0,
              "#0d0887"
             ],
             [
              0.1111111111111111,
              "#46039f"
             ],
             [
              0.2222222222222222,
              "#7201a8"
             ],
             [
              0.3333333333333333,
              "#9c179e"
             ],
             [
              0.4444444444444444,
              "#bd3786"
             ],
             [
              0.5555555555555556,
              "#d8576b"
             ],
             [
              0.6666666666666666,
              "#ed7953"
             ],
             [
              0.7777777777777778,
              "#fb9f3a"
             ],
             [
              0.8888888888888888,
              "#fdca26"
             ],
             [
              1,
              "#f0f921"
             ]
            ]
           }
          ],
          "surface": [
           {
            "type": "surface",
            "colorbar": {
             "outlinewidth": 0,
             "ticks": ""
            },
            "colorscale": [
             [
              0,
              "#0d0887"
             ],
             [
              0.1111111111111111,
              "#46039f"
             ],
             [
              0.2222222222222222,
              "#7201a8"
             ],
             [
              0.3333333333333333,
              "#9c179e"
             ],
             [
              0.4444444444444444,
              "#bd3786"
             ],
             [
              0.5555555555555556,
              "#d8576b"
             ],
             [
              0.6666666666666666,
              "#ed7953"
             ],
             [
              0.7777777777777778,
              "#fb9f3a"
             ],
             [
              0.8888888888888888,
              "#fdca26"
             ],
             [
              1,
              "#f0f921"
             ]
            ]
           }
          ],
          "mesh3d": [
           {
            "type": "mesh3d",
            "colorbar": {
             "outlinewidth": 0,
             "ticks": ""
            }
           }
          ],
          "scatter": [
           {
            "fillpattern": {
             "fillmode": "overlay",
             "size": 10,
             "solidity": 0.2
            },
            "type": "scatter"
           }
          ],
          "parcoords": [
           {
            "type": "parcoords",
            "line": {
             "colorbar": {
              "outlinewidth": 0,
              "ticks": ""
             }
            }
           }
          ],
          "scatterpolargl": [
           {
            "type": "scatterpolargl",
            "marker": {
             "colorbar": {
              "outlinewidth": 0,
              "ticks": ""
             }
            }
           }
          ],
          "bar": [
           {
            "error_x": {
             "color": "#2a3f5f"
            },
            "error_y": {
             "color": "#2a3f5f"
            },
            "marker": {
             "line": {
              "color": "#E5ECF6",
              "width": 0.5
             },
             "pattern": {
              "fillmode": "overlay",
              "size": 10,
              "solidity": 0.2
             }
            },
            "type": "bar"
           }
          ],
          "scattergeo": [
           {
            "type": "scattergeo",
            "marker": {
             "colorbar": {
              "outlinewidth": 0,
              "ticks": ""
             }
            }
           }
          ],
          "scatterpolar": [
           {
            "type": "scatterpolar",
            "marker": {
             "colorbar": {
              "outlinewidth": 0,
              "ticks": ""
             }
            }
           }
          ],
          "histogram": [
           {
            "marker": {
             "pattern": {
              "fillmode": "overlay",
              "size": 10,
              "solidity": 0.2
             }
            },
            "type": "histogram"
           }
          ],
          "scattergl": [
           {
            "type": "scattergl",
            "marker": {
             "colorbar": {
              "outlinewidth": 0,
              "ticks": ""
             }
            }
           }
          ],
          "scatter3d": [
           {
            "type": "scatter3d",
            "line": {
             "colorbar": {
              "outlinewidth": 0,
              "ticks": ""
             }
            },
            "marker": {
             "colorbar": {
              "outlinewidth": 0,
              "ticks": ""
             }
            }
           }
          ],
          "scattermapbox": [
           {
            "type": "scattermapbox",
            "marker": {
             "colorbar": {
              "outlinewidth": 0,
              "ticks": ""
             }
            }
           }
          ],
          "scatterternary": [
           {
            "type": "scatterternary",
            "marker": {
             "colorbar": {
              "outlinewidth": 0,
              "ticks": ""
             }
            }
           }
          ],
          "scattercarpet": [
           {
            "type": "scattercarpet",
            "marker": {
             "colorbar": {
              "outlinewidth": 0,
              "ticks": ""
             }
            }
           }
          ],
          "carpet": [
           {
            "aaxis": {
             "endlinecolor": "#2a3f5f",
             "gridcolor": "white",
             "linecolor": "white",
             "minorgridcolor": "white",
             "startlinecolor": "#2a3f5f"
            },
            "baxis": {
             "endlinecolor": "#2a3f5f",
             "gridcolor": "white",
             "linecolor": "white",
             "minorgridcolor": "white",
             "startlinecolor": "#2a3f5f"
            },
            "type": "carpet"
           }
          ],
          "table": [
           {
            "cells": {
             "fill": {
              "color": "#EBF0F8"
             },
             "line": {
              "color": "white"
             }
            },
            "header": {
             "fill": {
              "color": "#C8D4E3"
             },
             "line": {
              "color": "white"
             }
            },
            "type": "table"
           }
          ],
          "barpolar": [
           {
            "marker": {
             "line": {
              "color": "#E5ECF6",
              "width": 0.5
             },
             "pattern": {
              "fillmode": "overlay",
              "size": 10,
              "solidity": 0.2
             }
            },
            "type": "barpolar"
           }
          ],
          "pie": [
           {
            "automargin": true,
            "type": "pie"
           }
          ]
         },
         "layout": {
          "autotypenumbers": "strict",
          "colorway": [
           "#636efa",
           "#EF553B",
           "#00cc96",
           "#ab63fa",
           "#FFA15A",
           "#19d3f3",
           "#FF6692",
           "#B6E880",
           "#FF97FF",
           "#FECB52"
          ],
          "font": {
           "color": "#2a3f5f"
          },
          "hovermode": "closest",
          "hoverlabel": {
           "align": "left"
          },
          "paper_bgcolor": "white",
          "plot_bgcolor": "#E5ECF6",
          "polar": {
           "bgcolor": "#E5ECF6",
           "angularaxis": {
            "gridcolor": "white",
            "linecolor": "white",
            "ticks": ""
           },
           "radialaxis": {
            "gridcolor": "white",
            "linecolor": "white",
            "ticks": ""
           }
          },
          "ternary": {
           "bgcolor": "#E5ECF6",
           "aaxis": {
            "gridcolor": "white",
            "linecolor": "white",
            "ticks": ""
           },
           "baxis": {
            "gridcolor": "white",
            "linecolor": "white",
            "ticks": ""
           },
           "caxis": {
            "gridcolor": "white",
            "linecolor": "white",
            "ticks": ""
           }
          },
          "coloraxis": {
           "colorbar": {
            "outlinewidth": 0,
            "ticks": ""
           }
          },
          "colorscale": {
           "sequential": [
            [
             0,
             "#0d0887"
            ],
            [
             0.1111111111111111,
             "#46039f"
            ],
            [
             0.2222222222222222,
             "#7201a8"
            ],
            [
             0.3333333333333333,
             "#9c179e"
            ],
            [
             0.4444444444444444,
             "#bd3786"
            ],
            [
             0.5555555555555556,
             "#d8576b"
            ],
            [
             0.6666666666666666,
             "#ed7953"
            ],
            [
             0.7777777777777778,
             "#fb9f3a"
            ],
            [
             0.8888888888888888,
             "#fdca26"
            ],
            [
             1,
             "#f0f921"
            ]
           ],
           "sequentialminus": [
            [
             0,
             "#0d0887"
            ],
            [
             0.1111111111111111,
             "#46039f"
            ],
            [
             0.2222222222222222,
             "#7201a8"
            ],
            [
             0.3333333333333333,
             "#9c179e"
            ],
            [
             0.4444444444444444,
             "#bd3786"
            ],
            [
             0.5555555555555556,
             "#d8576b"
            ],
            [
             0.6666666666666666,
             "#ed7953"
            ],
            [
             0.7777777777777778,
             "#fb9f3a"
            ],
            [
             0.8888888888888888,
             "#fdca26"
            ],
            [
             1,
             "#f0f921"
            ]
           ],
           "diverging": [
            [
             0,
             "#8e0152"
            ],
            [
             0.1,
             "#c51b7d"
            ],
            [
             0.2,
             "#de77ae"
            ],
            [
             0.3,
             "#f1b6da"
            ],
            [
             0.4,
             "#fde0ef"
            ],
            [
             0.5,
             "#f7f7f7"
            ],
            [
             0.6,
             "#e6f5d0"
            ],
            [
             0.7,
             "#b8e186"
            ],
            [
             0.8,
             "#7fbc41"
            ],
            [
             0.9,
             "#4d9221"
            ],
            [
             1,
             "#276419"
            ]
           ]
          },
          "xaxis": {
           "gridcolor": "white",
           "linecolor": "white",
           "ticks": "",
           "title": {
            "standoff": 15
           },
           "zerolinecolor": "white",
           "automargin": true,
           "zerolinewidth": 2
          },
          "yaxis": {
           "gridcolor": "white",
           "linecolor": "white",
           "ticks": "",
           "title": {
            "standoff": 15
           },
           "zerolinecolor": "white",
           "automargin": true,
           "zerolinewidth": 2
          },
          "scene": {
           "xaxis": {
            "backgroundcolor": "#E5ECF6",
            "gridcolor": "white",
            "linecolor": "white",
            "showbackground": true,
            "ticks": "",
            "zerolinecolor": "white",
            "gridwidth": 2
           },
           "yaxis": {
            "backgroundcolor": "#E5ECF6",
            "gridcolor": "white",
            "linecolor": "white",
            "showbackground": true,
            "ticks": "",
            "zerolinecolor": "white",
            "gridwidth": 2
           },
           "zaxis": {
            "backgroundcolor": "#E5ECF6",
            "gridcolor": "white",
            "linecolor": "white",
            "showbackground": true,
            "ticks": "",
            "zerolinecolor": "white",
            "gridwidth": 2
           }
          },
          "shapedefaults": {
           "line": {
            "color": "#2a3f5f"
           }
          },
          "annotationdefaults": {
           "arrowcolor": "#2a3f5f",
           "arrowhead": 0,
           "arrowwidth": 1
          },
          "geo": {
           "bgcolor": "white",
           "landcolor": "#E5ECF6",
           "subunitcolor": "white",
           "showland": true,
           "showlakes": true,
           "lakecolor": "white"
          },
          "title": {
           "x": 0.05
          },
          "mapbox": {
           "style": "light"
          }
         }
        }
       },
       "config": {
        "plotlyServerURL": "https://plot.ly"
       }
      }
     },
     "metadata": {},
     "output_type": "display_data"
    }
   ],
   "metadata": {
    "datalore": {
     "node_id": "LKUx3VEl3Lv9fl4MTSkEou",
     "type": "CODE",
     "hide_input_from_viewers": true,
     "hide_output_from_viewers": true
    }
   }
  },
  {
   "cell_type": "code",
   "source": [],
   "execution_count": 29,
   "outputs": [
    {
     "data": {
      "application/vnd.plotly.v1+json": {
       "data": [
        {
         "base": 1000,
         "measure": [
          "relative",
          "relative",
          "total",
          "relative",
          "total"
         ],
         "x": [
          "Štart",
          "Predaj",
          "Marketing",
          "Vývoj",
          "Zisk"
         ],
         "y": [
          0,
          400,
          -300,
          -200,
          300
         ],
         "type": "waterfall"
        }
       ],
       "layout": {
        "template": {
         "data": {
          "histogram2dcontour": [
           {
            "type": "histogram2dcontour",
            "colorbar": {
             "outlinewidth": 0,
             "ticks": ""
            },
            "colorscale": [
             [
              0,
              "#0d0887"
             ],
             [
              0.1111111111111111,
              "#46039f"
             ],
             [
              0.2222222222222222,
              "#7201a8"
             ],
             [
              0.3333333333333333,
              "#9c179e"
             ],
             [
              0.4444444444444444,
              "#bd3786"
             ],
             [
              0.5555555555555556,
              "#d8576b"
             ],
             [
              0.6666666666666666,
              "#ed7953"
             ],
             [
              0.7777777777777778,
              "#fb9f3a"
             ],
             [
              0.8888888888888888,
              "#fdca26"
             ],
             [
              1,
              "#f0f921"
             ]
            ]
           }
          ],
          "choropleth": [
           {
            "type": "choropleth",
            "colorbar": {
             "outlinewidth": 0,
             "ticks": ""
            }
           }
          ],
          "histogram2d": [
           {
            "type": "histogram2d",
            "colorbar": {
             "outlinewidth": 0,
             "ticks": ""
            },
            "colorscale": [
             [
              0,
              "#0d0887"
             ],
             [
              0.1111111111111111,
              "#46039f"
             ],
             [
              0.2222222222222222,
              "#7201a8"
             ],
             [
              0.3333333333333333,
              "#9c179e"
             ],
             [
              0.4444444444444444,
              "#bd3786"
             ],
             [
              0.5555555555555556,
              "#d8576b"
             ],
             [
              0.6666666666666666,
              "#ed7953"
             ],
             [
              0.7777777777777778,
              "#fb9f3a"
             ],
             [
              0.8888888888888888,
              "#fdca26"
             ],
             [
              1,
              "#f0f921"
             ]
            ]
           }
          ],
          "heatmap": [
           {
            "type": "heatmap",
            "colorbar": {
             "outlinewidth": 0,
             "ticks": ""
            },
            "colorscale": [
             [
              0,
              "#0d0887"
             ],
             [
              0.1111111111111111,
              "#46039f"
             ],
             [
              0.2222222222222222,
              "#7201a8"
             ],
             [
              0.3333333333333333,
              "#9c179e"
             ],
             [
              0.4444444444444444,
              "#bd3786"
             ],
             [
              0.5555555555555556,
              "#d8576b"
             ],
             [
              0.6666666666666666,
              "#ed7953"
             ],
             [
              0.7777777777777778,
              "#fb9f3a"
             ],
             [
              0.8888888888888888,
              "#fdca26"
             ],
             [
              1,
              "#f0f921"
             ]
            ]
           }
          ],
          "heatmapgl": [
           {
            "type": "heatmapgl",
            "colorbar": {
             "outlinewidth": 0,
             "ticks": ""
            },
            "colorscale": [
             [
              0,
              "#0d0887"
             ],
             [
              0.1111111111111111,
              "#46039f"
             ],
             [
              0.2222222222222222,
              "#7201a8"
             ],
             [
              0.3333333333333333,
              "#9c179e"
             ],
             [
              0.4444444444444444,
              "#bd3786"
             ],
             [
              0.5555555555555556,
              "#d8576b"
             ],
             [
              0.6666666666666666,
              "#ed7953"
             ],
             [
              0.7777777777777778,
              "#fb9f3a"
             ],
             [
              0.8888888888888888,
              "#fdca26"
             ],
             [
              1,
              "#f0f921"
             ]
            ]
           }
          ],
          "contourcarpet": [
           {
            "type": "contourcarpet",
            "colorbar": {
             "outlinewidth": 0,
             "ticks": ""
            }
           }
          ],
          "contour": [
           {
            "type": "contour",
            "colorbar": {
             "outlinewidth": 0,
             "ticks": ""
            },
            "colorscale": [
             [
              0,
              "#0d0887"
             ],
             [
              0.1111111111111111,
              "#46039f"
             ],
             [
              0.2222222222222222,
              "#7201a8"
             ],
             [
              0.3333333333333333,
              "#9c179e"
             ],
             [
              0.4444444444444444,
              "#bd3786"
             ],
             [
              0.5555555555555556,
              "#d8576b"
             ],
             [
              0.6666666666666666,
              "#ed7953"
             ],
             [
              0.7777777777777778,
              "#fb9f3a"
             ],
             [
              0.8888888888888888,
              "#fdca26"
             ],
             [
              1,
              "#f0f921"
             ]
            ]
           }
          ],
          "surface": [
           {
            "type": "surface",
            "colorbar": {
             "outlinewidth": 0,
             "ticks": ""
            },
            "colorscale": [
             [
              0,
              "#0d0887"
             ],
             [
              0.1111111111111111,
              "#46039f"
             ],
             [
              0.2222222222222222,
              "#7201a8"
             ],
             [
              0.3333333333333333,
              "#9c179e"
             ],
             [
              0.4444444444444444,
              "#bd3786"
             ],
             [
              0.5555555555555556,
              "#d8576b"
             ],
             [
              0.6666666666666666,
              "#ed7953"
             ],
             [
              0.7777777777777778,
              "#fb9f3a"
             ],
             [
              0.8888888888888888,
              "#fdca26"
             ],
             [
              1,
              "#f0f921"
             ]
            ]
           }
          ],
          "mesh3d": [
           {
            "type": "mesh3d",
            "colorbar": {
             "outlinewidth": 0,
             "ticks": ""
            }
           }
          ],
          "scatter": [
           {
            "fillpattern": {
             "fillmode": "overlay",
             "size": 10,
             "solidity": 0.2
            },
            "type": "scatter"
           }
          ],
          "parcoords": [
           {
            "type": "parcoords",
            "line": {
             "colorbar": {
              "outlinewidth": 0,
              "ticks": ""
             }
            }
           }
          ],
          "scatterpolargl": [
           {
            "type": "scatterpolargl",
            "marker": {
             "colorbar": {
              "outlinewidth": 0,
              "ticks": ""
             }
            }
           }
          ],
          "bar": [
           {
            "error_x": {
             "color": "#2a3f5f"
            },
            "error_y": {
             "color": "#2a3f5f"
            },
            "marker": {
             "line": {
              "color": "#E5ECF6",
              "width": 0.5
             },
             "pattern": {
              "fillmode": "overlay",
              "size": 10,
              "solidity": 0.2
             }
            },
            "type": "bar"
           }
          ],
          "scattergeo": [
           {
            "type": "scattergeo",
            "marker": {
             "colorbar": {
              "outlinewidth": 0,
              "ticks": ""
             }
            }
           }
          ],
          "scatterpolar": [
           {
            "type": "scatterpolar",
            "marker": {
             "colorbar": {
              "outlinewidth": 0,
              "ticks": ""
             }
            }
           }
          ],
          "histogram": [
           {
            "marker": {
             "pattern": {
              "fillmode": "overlay",
              "size": 10,
              "solidity": 0.2
             }
            },
            "type": "histogram"
           }
          ],
          "scattergl": [
           {
            "type": "scattergl",
            "marker": {
             "colorbar": {
              "outlinewidth": 0,
              "ticks": ""
             }
            }
           }
          ],
          "scatter3d": [
           {
            "type": "scatter3d",
            "line": {
             "colorbar": {
              "outlinewidth": 0,
              "ticks": ""
             }
            },
            "marker": {
             "colorbar": {
              "outlinewidth": 0,
              "ticks": ""
             }
            }
           }
          ],
          "scattermapbox": [
           {
            "type": "scattermapbox",
            "marker": {
             "colorbar": {
              "outlinewidth": 0,
              "ticks": ""
             }
            }
           }
          ],
          "scatterternary": [
           {
            "type": "scatterternary",
            "marker": {
             "colorbar": {
              "outlinewidth": 0,
              "ticks": ""
             }
            }
           }
          ],
          "scattercarpet": [
           {
            "type": "scattercarpet",
            "marker": {
             "colorbar": {
              "outlinewidth": 0,
              "ticks": ""
             }
            }
           }
          ],
          "carpet": [
           {
            "aaxis": {
             "endlinecolor": "#2a3f5f",
             "gridcolor": "white",
             "linecolor": "white",
             "minorgridcolor": "white",
             "startlinecolor": "#2a3f5f"
            },
            "baxis": {
             "endlinecolor": "#2a3f5f",
             "gridcolor": "white",
             "linecolor": "white",
             "minorgridcolor": "white",
             "startlinecolor": "#2a3f5f"
            },
            "type": "carpet"
           }
          ],
          "table": [
           {
            "cells": {
             "fill": {
              "color": "#EBF0F8"
             },
             "line": {
              "color": "white"
             }
            },
            "header": {
             "fill": {
              "color": "#C8D4E3"
             },
             "line": {
              "color": "white"
             }
            },
            "type": "table"
           }
          ],
          "barpolar": [
           {
            "marker": {
             "line": {
              "color": "#E5ECF6",
              "width": 0.5
             },
             "pattern": {
              "fillmode": "overlay",
              "size": 10,
              "solidity": 0.2
             }
            },
            "type": "barpolar"
           }
          ],
          "pie": [
           {
            "automargin": true,
            "type": "pie"
           }
          ]
         },
         "layout": {
          "autotypenumbers": "strict",
          "colorway": [
           "#636efa",
           "#EF553B",
           "#00cc96",
           "#ab63fa",
           "#FFA15A",
           "#19d3f3",
           "#FF6692",
           "#B6E880",
           "#FF97FF",
           "#FECB52"
          ],
          "font": {
           "color": "#2a3f5f"
          },
          "hovermode": "closest",
          "hoverlabel": {
           "align": "left"
          },
          "paper_bgcolor": "white",
          "plot_bgcolor": "#E5ECF6",
          "polar": {
           "bgcolor": "#E5ECF6",
           "angularaxis": {
            "gridcolor": "white",
            "linecolor": "white",
            "ticks": ""
           },
           "radialaxis": {
            "gridcolor": "white",
            "linecolor": "white",
            "ticks": ""
           }
          },
          "ternary": {
           "bgcolor": "#E5ECF6",
           "aaxis": {
            "gridcolor": "white",
            "linecolor": "white",
            "ticks": ""
           },
           "baxis": {
            "gridcolor": "white",
            "linecolor": "white",
            "ticks": ""
           },
           "caxis": {
            "gridcolor": "white",
            "linecolor": "white",
            "ticks": ""
           }
          },
          "coloraxis": {
           "colorbar": {
            "outlinewidth": 0,
            "ticks": ""
           }
          },
          "colorscale": {
           "sequential": [
            [
             0,
             "#0d0887"
            ],
            [
             0.1111111111111111,
             "#46039f"
            ],
            [
             0.2222222222222222,
             "#7201a8"
            ],
            [
             0.3333333333333333,
             "#9c179e"
            ],
            [
             0.4444444444444444,
             "#bd3786"
            ],
            [
             0.5555555555555556,
             "#d8576b"
            ],
            [
             0.6666666666666666,
             "#ed7953"
            ],
            [
             0.7777777777777778,
             "#fb9f3a"
            ],
            [
             0.8888888888888888,
             "#fdca26"
            ],
            [
             1,
             "#f0f921"
            ]
           ],
           "sequentialminus": [
            [
             0,
             "#0d0887"
            ],
            [
             0.1111111111111111,
             "#46039f"
            ],
            [
             0.2222222222222222,
             "#7201a8"
            ],
            [
             0.3333333333333333,
             "#9c179e"
            ],
            [
             0.4444444444444444,
             "#bd3786"
            ],
            [
             0.5555555555555556,
             "#d8576b"
            ],
            [
             0.6666666666666666,
             "#ed7953"
            ],
            [
             0.7777777777777778,
             "#fb9f3a"
            ],
            [
             0.8888888888888888,
             "#fdca26"
            ],
            [
             1,
             "#f0f921"
            ]
           ],
           "diverging": [
            [
             0,
             "#8e0152"
            ],
            [
             0.1,
             "#c51b7d"
            ],
            [
             0.2,
             "#de77ae"
            ],
            [
             0.3,
             "#f1b6da"
            ],
            [
             0.4,
             "#fde0ef"
            ],
            [
             0.5,
             "#f7f7f7"
            ],
            [
             0.6,
             "#e6f5d0"
            ],
            [
             0.7,
             "#b8e186"
            ],
            [
             0.8,
             "#7fbc41"
            ],
            [
             0.9,
             "#4d9221"
            ],
            [
             1,
             "#276419"
            ]
           ]
          },
          "xaxis": {
           "gridcolor": "white",
           "linecolor": "white",
           "ticks": "",
           "title": {
            "standoff": 15
           },
           "zerolinecolor": "white",
           "automargin": true,
           "zerolinewidth": 2
          },
          "yaxis": {
           "gridcolor": "white",
           "linecolor": "white",
           "ticks": "",
           "title": {
            "standoff": 15
           },
           "zerolinecolor": "white",
           "automargin": true,
           "zerolinewidth": 2
          },
          "scene": {
           "xaxis": {
            "backgroundcolor": "#E5ECF6",
            "gridcolor": "white",
            "linecolor": "white",
            "showbackground": true,
            "ticks": "",
            "zerolinecolor": "white",
            "gridwidth": 2
           },
           "yaxis": {
            "backgroundcolor": "#E5ECF6",
            "gridcolor": "white",
            "linecolor": "white",
            "showbackground": true,
            "ticks": "",
            "zerolinecolor": "white",
            "gridwidth": 2
           },
           "zaxis": {
            "backgroundcolor": "#E5ECF6",
            "gridcolor": "white",
            "linecolor": "white",
            "showbackground": true,
            "ticks": "",
            "zerolinecolor": "white",
            "gridwidth": 2
           }
          },
          "shapedefaults": {
           "line": {
            "color": "#2a3f5f"
           }
          },
          "annotationdefaults": {
           "arrowcolor": "#2a3f5f",
           "arrowhead": 0,
           "arrowwidth": 1
          },
          "geo": {
           "bgcolor": "white",
           "landcolor": "#E5ECF6",
           "subunitcolor": "white",
           "showland": true,
           "showlakes": true,
           "lakecolor": "white"
          },
          "title": {
           "x": 0.05
          },
          "mapbox": {
           "style": "light"
          }
         }
        }
       },
       "config": {
        "plotlyServerURL": "https://plot.ly"
       }
      }
     },
     "metadata": {},
     "output_type": "display_data"
    }
   ],
   "metadata": {
    "datalore": {
     "node_id": "JMBrzlpzyxIMLlnjBDXvGT",
     "type": "CODE",
     "hide_input_from_viewers": true,
     "hide_output_from_viewers": true
    }
   }
  }
 ],
 "metadata": {
  "kernelspec": {
   "display_name": "Python",
   "language": "python",
   "name": "python"
  },
  "datalore": {
   "computation_mode": "JUPYTER",
   "package_manager": "pip",
   "base_environment": "default",
   "packages": [],
   "report_row_ids": [
    "BuaxZHVowM1NDgIm5SGTW6",
    "nT01gqoCPDuxVxR1lZEjaG",
    "HnEJbqSEA5YeuN0S9J1MeG",
    "dt5hnZzXUFlltVlRnzQ6cE",
    "iF77wHN3KjirO3UBNMvq29",
    "fkCSJJhXTqtJ0foV4CZkjt",
    "E9cX2hSUAeBjar0TwM5syB",
    "csTaUBzwY1G6f6IoNz36lu",
    "WBOAojo2SfYR7FtzUsMDna",
    "4Ml2nJBg3YA5b888QcDtvX",
    "OUKhS7mp8fwrY3964Ez5y2",
    "m2yJ0WSWZS9uU0PymTdk79",
    "g0B6TRajuZsVSDETVtF4XR",
    "dLyUYYqxeb0pGMnsTKYOJk",
    "XmrrntkpfqpOEv14b1AWu4",
    "xdvYR1r5V3JHEb1AKLtndL",
    "2Bx7dAyMwfFgln8QkHrpJq",
    "YLZVSgnIbSmavWbowrdS8q",
    "g7KfLAHAMyhSnO4Na3rtV2",
    "xS8HaGjyVIprXoHLzaZeG6",
    "yDnUZRdNbM8mTn9X47mDZP",
    "DDn7df11BmiRIZOvOfmH3x",
    "S0Db82KeEH6AMyZTsAzoNq",
    "OtQfIcnqT3bqgAGqS1GBrC",
    "ODTjgljc4F3gclXmhwTVSu",
    "U8WIV4tF0QEKHBplKZyDbc",
    "9nUi8dnJaJs1hA8dxPH3Hl",
    "PFqY3pQMHxzDThg6JKK739",
    "FMUGO3BhTNVzCt2y6deLRi",
    "RgqbOcIgNklcFGM46c39fN",
    "6V665QJ9YOu9wzx7OCKIhb",
    "myhhnezgQ0zvYlWpblthei",
    "y4aNfeuepxv0VtxamAA5vR",
    "micetiPPogLZ8yu6ioRsxF",
    "jBbIE1LidcCwStSAPH686f",
    "FHLb1t5D4UzHBPFKU8z9be",
    "HILTdb7mG4v80s6SHesxY7",
    "piFepyW9JQBjGesRNWdPHa",
    "X6nqi3oJwt16DJftTl0Z0q",
    "05Cu7Nw9CpGsa9aW93eKFA",
    "CJU41iHhNU085OV3ueY0PG",
    "OOGPy5OMyaVQSFQgwsNSSK",
    "CjgWXCSVrTczqlFotxVOXu",
    "djVznlnjdEwp9DpWqJCd58",
    "XNnoBuYVjp4XptuOzsnllh",
    "SZ4tB7Mrwqg6y4Ep90mk03",
    "SEP0IYSTXURbeKKiUMzukE",
    "mbdbzZklzOhFA9VaNO2LuF",
    "L7c9OdwRdJCrVIJjBI9FTE",
    "rruqSWkjmMnZ2BIvB3MSgX",
    "titqCmfkhMtEm1p8NjaGqC",
    "p9DgjhAmfNTcIvw8PlvEvn",
    "1AGXVeheUwlx0CoYOKaVos",
    "qTSjJR9z2qsSoz8xBd2Ixz",
    "MiCZDHRulYDa8k83MEERnW",
    "q6WzQrLyYicFIz3mhHX9rh",
    "uCjThPLnrYKsUJWnC8Rdbc",
    "0YQg2poAuoghVGOMNpoiNy",
    "G7EWHNHgoSNB0QBANJfxs3",
    "S8iYHru66vQ4dKnsKHWIqm",
    "5kv1w4O5BsIKftFfvTYt9R",
    "QVcZYHEOXcko9BWCtk55bz",
    "aJP3y2yXBzjJFE1t5NJMIN",
    "JW6knZSqV20BbILMOudfR1",
    "PCzzRbx4j9O16J55u6XezX",
    "lIsaieeolgRO4Vobl2iJSN",
    "aTu6IdH6uXEwUIlBHYhTcy"
   ],
   "version": 3
  }
 },
 "nbformat": 4,
 "nbformat_minor": 4
}
