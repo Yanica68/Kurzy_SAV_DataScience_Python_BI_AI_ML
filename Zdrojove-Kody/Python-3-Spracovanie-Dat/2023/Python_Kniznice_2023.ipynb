{
 "cells":[
  {
   "cell_type":"markdown",
   "source":[
    "# Kniznice"
   ],
   "attachments":{
    
   },
   "metadata":{
    "datalore":{
     "node_id":"Kniznice",
     "type":"MD",
     "hide_input_from_viewers":false,
     "hide_output_from_viewers":false,
     "sheet_delimiter":true
    }
   }
  },
  {
   "cell_type":"markdown",
   "source":[
    "## 🐍 Kurz Python Knižnice (Spracovanie a Vizualizácia Dát)\n",
    "**🧑‍🏫 Lektor:** Miroslav Reiter  \n",
    "**📥 LinkedIn kontakt:** https:\/\/www.linkedin.com\/in\/miroslav-reiter\/  \n",
    "\n",
    "`*Testovaci* **Text**`\n",
    "\n",
    "**✅ Osnova:** https:\/\/itkurzy.sav.sk\/node\/110 \n",
    "\n",
    "**🎞️ YouTube videá:** https:\/\/www.youtube.com\/c\/IT-AcademySK  \n",
    "**📇 Zdrojové kódy a materiály:** https:\/\/github.com\/miroslav-reiter\/Kurzy_SAV_Analytika_Python_R  \n",
    "\n",
    "**😊 Emojis:** Win + .  "
   ],
   "attachments":{
    
   },
   "metadata":{
    "datalore":{
     "node_id":"gtjaH8gOiCJE2ArnONNN4I",
     "type":"MD",
     "hide_input_from_viewers":false,
     "hide_output_from_viewers":false,
     "report_properties":{
      "rowId":"BuaxZHVowM1NDgIm5SGTW6"
     }
    }
   }
  },
  {
   "cell_type":"markdown",
   "source":[
    "# ⚒️ Používané nástroje dátovej analýzy\n",
    "- 🐍 **Python** - momentálne najpopulárnejší jazyk pre vedu o údajoch (Data science). Python je síce interpretovaný a pomalší jazyk ako C\/C++, ale využitím knižníc, ako je NumPy (a Pandas navyše), sa môžeme priblížiť rýchlosti C.  \n",
    "  \n",
    "- 🪐 **Jupyter** - nástroj s prostredím interaktívneho notebooku, mocný prieskumný, vizualizačný a komunikačný nástroj.\n",
    "  \n",
    "- 🐼 **Pandas** - nástroj na manipuláciu s tabuľkovými údajmi v Pythone. Je to obrovská knižnica, ale ak poznáte správne metódy, môžeme vytvoriť výkonnú analýzu.\n",
    "  \n",
    "- 📊 **Matplotlib** - grafická knižnica s rôznymi grafmi a vizualizáciami. V spojení s Pandas a Jupyter môžeme rýchlo získať prehľad o našich údajoch.  \n",
    "  \n",
    "- 🚀 **Numpy** - knižnica jazyka Python, ktorá poskytuje infraštruktúru pre prácu s vektormi, maticami a všeobecne viacrozmernými poliami.\n",
    "\n",
    "😎 Existuje 300 000+ knižníc pre Python.  "
   ],
   "attachments":{
    
   },
   "metadata":{
    "datalore":{
     "node_id":"HlJXCNvBPNinkUIhkHUYU9",
     "type":"MD",
     "hide_input_from_viewers":false,
     "hide_output_from_viewers":false,
     "report_properties":{
      "rowId":"nT01gqoCPDuxVxR1lZEjaG"
     }
    }
   }
  },
  {
   "cell_type":"markdown",
   "source":[
    "# 📚 PIP, Knižnice a ich verzie \n",
    "**PIP (package installer for Python)** - Správca Balíčkov pre moduly programovacieho jazyka Python, Tiež napísaný v Pythone, Licencia MIT.  \n",
    "Dokumentácia PIP: https:\/\/pip.pypa.io\/en\/stable\/\n",
    "\n",
    "**PyPI (The Python Package Index)** - Repozitár\/úložisko softvéru pre programovací jazyk Python  \n",
    "https:\/\/pypi.org\n",
    "1"
   ],
   "attachments":{
    
   },
   "metadata":{
    "datalore":{
     "node_id":"utjXvhnaVEZx0y9tcUL1AW",
     "type":"MD",
     "hide_input_from_viewers":false,
     "hide_output_from_viewers":false,
     "report_properties":{
      "rowId":"HnEJbqSEA5YeuN0S9J1MeG"
     }
    }
   }
  },
  {
   "cell_type":"code",
   "source":[
    "# !pip list\n",
    "!pip install countryinfo"
   ],
   "execution_count":2,
   "outputs":[
    {
     "name":"stdout",
     "text":[
      "Collecting countryinfo\r\n",
      "  Downloading countryinfo-0.1.2-py3-none-any.whl (602 kB)\r\n",
      "\u001b[?25l     \u001b[90m━━━━━━━━━━━━━━━━━━━━━━━━━━━━━━━━━━━━━━━━\u001b[0m \u001b[32m0.0\/602.2 kB\u001b[0m \u001b[31m?\u001b[0m eta \u001b[36m-:--:--\u001b[0m\r\u001b[2K     \u001b[90m━━━━━━━━━━━━━━━━━━━━━━━━━━━━━━━━━━━━━━\u001b[0m \u001b[32m602.2\/602.2 kB\u001b[0m \u001b[31m37.4 MB\/s\u001b[0m eta \u001b[36m0:00:00\u001b[0m\r\n",
      "\u001b[?25hInstalling collected packages: countryinfo\r\n",
      "Successfully installed countryinfo-0.1.2\r\n",
      "\r\n",
      "\u001b[1m[\u001b[0m\u001b[34;49mnotice\u001b[0m\u001b[1;39;49m]\u001b[0m\u001b[39;49m A new release of pip is available: \u001b[0m\u001b[31;49m23.1.2\u001b[0m\u001b[39;49m -> \u001b[0m\u001b[32;49m23.3.1\u001b[0m\r\n",
      "\u001b[1m[\u001b[0m\u001b[34;49mnotice\u001b[0m\u001b[1;39;49m]\u001b[0m\u001b[39;49m To update, run: \u001b[0m\u001b[32;49mpip install --upgrade pip\u001b[0m\r\n"
     ],
     "output_type":"stream"
    }
   ],
   "metadata":{
    "datalore":{
     "node_id":"9qcpLqqMxlDm2F9q53LHot",
     "type":"CODE",
     "hide_input_from_viewers":false,
     "hide_output_from_viewers":false,
     "report_properties":{
      "rowId":"dt5hnZzXUFlltVlRnzQ6cE"
     }
    }
   }
  },
  {
   "cell_type":"code",
   "source":[
    "!pip list"
   ],
   "execution_count":3,
   "outputs":[
    {
     "name":"stdout",
     "text":[
      "Package                       Version\r\n",
      "----------------------------- ----------------\r\n",
      "absl-py                       2.0.0\r\n",
      "aiohttp                       3.8.4\r\n",
      "aiosignal                     1.3.1\r\n",
      "alabaster                     0.7.13\r\n",
      "annotated-types               0.6.0\r\n",
      "anyio                         3.7.1\r\n",
      "argon2-cffi                   23.1.0\r\n",
      "argon2-cffi-bindings          21.2.0\r\n",
      "astunparse                    1.6.3\r\n",
      "async-timeout                 4.0.3\r\n",
      "attrs                         23.1.0\r\n",
      "Babel                         2.13.0\r\n",
      "backcall                      0.2.0\r\n",
      "beautifulsoup4                4.12.2\r\n",
      "bleach                        6.1.0\r\n",
      "blis                          0.7.11\r\n",
      "bokeh                         3.1.1\r\n",
      "boto3                         1.26.133\r\n",
      "botocore                      1.29.165\r\n",
      "cachetools                    5.3.1\r\n",
      "catalogue                     2.0.10\r\n",
      "certifi                       2023.7.22\r\n",
      "cffi                          1.16.0\r\n",
      "charset-normalizer            3.3.0\r\n",
      "click                         8.1.7\r\n",
      "click-plugins                 1.1.1\r\n",
      "cligj                         0.7.2\r\n",
      "cloudpathlib                  0.15.1\r\n",
      "cmake                         3.27.6\r\n",
      "confection                    0.1.3\r\n",
      "contourpy                     1.1.1\r\n",
      "countryinfo                   0.1.2\r\n",
      "cycler                        0.12.1\r\n",
      "cymem                         2.0.8\r\n",
      "decorator                     5.1.1\r\n",
      "defusedxml                    0.7.1\r\n",
      "descartes                     1.1.0\r\n",
      "docutils                      0.20.1\r\n",
      "duckdb                        0.7.1\r\n",
      "exceptiongroup                1.1.3\r\n",
      "fastai                        2.7.12\r\n",
      "fastcore                      1.5.29\r\n",
      "fastdownload                  0.0.7\r\n",
      "fastjsonschema                2.18.1\r\n",
      "fastprogress                  1.0.3\r\n",
      "filelock                      3.12.4\r\n",
      "Fiona                         1.9.3\r\n",
      "flatbuffers                   23.5.26\r\n",
      "fonttools                     4.43.1\r\n",
      "frozenlist                    1.4.0\r\n",
      "fsspec                        2023.9.2\r\n",
      "gast                          0.4.0\r\n",
      "gensim                        4.3.1\r\n",
      "geopandas                     0.13.0\r\n",
      "google-auth                   2.23.3\r\n",
      "google-auth-oauthlib          0.4.6\r\n",
      "google-pasta                  0.2.0\r\n",
      "greenlet                      3.0.0\r\n",
      "grpcio                        1.59.0\r\n",
      "h5py                          3.10.0\r\n",
      "huggingface-hub               0.18.0\r\n",
      "idna                          3.4\r\n",
      "imageio                       2.31.5\r\n",
      "imagesize                     1.4.1\r\n",
      "importlib-metadata            6.8.0\r\n",
      "importlib-resources           6.1.0\r\n",
      "ipykernel                     5.5.3\r\n",
      "ipython                       7.31.1\r\n",
      "ipython-genutils              0.2.0\r\n",
      "ipywidgets                    7.6.5\r\n",
      "jedi                          0.17.2\r\n",
      "Jinja2                        3.1.2\r\n",
      "jmespath                      1.0.1\r\n",
      "joblib                        1.3.2\r\n",
      "jsonschema                    4.19.1\r\n",
      "jsonschema-specifications     2023.7.1\r\n",
      "jupyter-client                6.1.12\r\n",
      "jupyter_core                  5.4.0\r\n",
      "jupyter-server                1.24.0\r\n",
      "jupyterlab-pygments           0.2.2\r\n",
      "jupyterlab-widgets            3.0.9\r\n",
      "keras                         2.10.0\r\n",
      "Keras-Preprocessing           1.1.2\r\n",
      "kiwisolver                    1.4.5\r\n",
      "kotlin-jupyter-kernel         0.11.0.377\r\n",
      "langcodes                     3.3.0\r\n",
      "lazy_loader                   0.3\r\n",
      "lets-plot                     4.0.1\r\n",
      "libclang                      16.0.6\r\n",
      "lit                           17.0.2\r\n",
      "lxml                          4.9.2\r\n",
      "Markdown                      3.5\r\n",
      "MarkupSafe                    2.1.3\r\n",
      "matplotlib                    3.7.1\r\n",
      "matplotlib-inline             0.1.6\r\n",
      "mistune                       3.0.2\r\n",
      "mpmath                        1.3.0\r\n",
      "multidict                     6.0.4\r\n",
      "munch                         4.0.0\r\n",
      "murmurhash                    1.0.10\r\n",
      "nbclassic                     1.0.0\r\n",
      "nbclient                      0.8.0\r\n",
      "nbconvert                     7.9.2\r\n",
      "nbformat                      5.8.0\r\n",
      "nest-asyncio                  1.5.8\r\n",
      "networkx                      3.1\r\n",
      "notebook                      6.5.6\r\n",
      "notebook_shim                 0.2.3\r\n",
      "numpy                         1.24.3\r\n",
      "numpydoc                      1.5.0\r\n",
      "oauthlib                      3.2.2\r\n",
      "opencv-python-headless        4.7.0.72\r\n",
      "opt-einsum                    3.3.0\r\n",
      "packaging                     23.2\r\n",
      "palettable                    3.3.3\r\n",
      "pandas                        1.5.3\r\n",
      "pandas-datareader             0.10.0\r\n",
      "pandocfilters                 1.5.0\r\n",
      "parso                         0.7.1\r\n",
      "pathy                         0.10.2\r\n",
      "patsy                         0.5.3\r\n",
      "pexpect                       4.8.0\r\n",
      "pickleshare                   0.7.5\r\n",
      "Pillow                        10.0.1\r\n",
      "pip                           23.1.2\r\n",
      "pkgutil_resolve_name          1.3.10\r\n",
      "platformdirs                  3.11.0\r\n",
      "plotly                        5.14.1\r\n",
      "preshed                       3.0.9\r\n",
      "prometheus-client             0.17.1\r\n",
      "prompt-toolkit                3.0.39\r\n",
      "protobuf                      3.19.6\r\n",
      "psycopg2-binary               2.9.6\r\n",
      "ptyprocess                    0.7.0\r\n",
      "py4j                          0.10.9.7\r\n",
      "pyasn1                        0.5.0\r\n",
      "pyasn1-modules                0.3.0\r\n",
      "pycparser                     2.21\r\n",
      "pydantic                      2.4.2\r\n",
      "pydantic_core                 2.10.1\r\n",
      "Pygments                      2.16.1\r\n",
      "PyMySQL                       1.0.3\r\n",
      "pyparsing                     3.1.1\r\n",
      "pypng                         0.20220715.0\r\n",
      "pyproj                        3.5.0\r\n",
      "pyspark                       3.4.0\r\n",
      "python-dateutil               2.8.2\r\n",
      "pytz                          2023.3.post1\r\n",
      "PyWavelets                    1.4.1\r\n",
      "PyYAML                        6.0.1\r\n",
      "pyzmq                         24.0.1\r\n",
      "referencing                   0.30.2\r\n",
      "regex                         2023.10.3\r\n",
      "requests                      2.30.0\r\n",
      "requests-oauthlib             1.3.1\r\n",
      "rpds-py                       0.10.6\r\n",
      "rsa                           4.9\r\n",
      "s3transfer                    0.6.2\r\n",
      "scikit-image                  0.20.0\r\n",
      "scikit-learn                  1.2.2\r\n",
      "scipy                         1.9.1\r\n",
      "seaborn                       0.12.2\r\n",
      "Send2Trash                    1.8.2\r\n",
      "setuptools                    68.2.2\r\n",
      "shapely                       2.0.1\r\n",
      "six                           1.16.0\r\n",
      "smart-open                    6.4.0\r\n",
      "sniffio                       1.3.0\r\n",
      "snowballstemmer               2.2.0\r\n",
      "soupsieve                     2.5\r\n",
      "spacy                         3.7.1\r\n",
      "spacy-legacy                  3.0.12\r\n",
      "spacy-loggers                 1.0.5\r\n",
      "Sphinx                        7.1.2\r\n",
      "sphinxcontrib-applehelp       1.0.4\r\n",
      "sphinxcontrib-devhelp         1.0.2\r\n",
      "sphinxcontrib-htmlhelp        2.0.1\r\n",
      "sphinxcontrib-jsmath          1.0.1\r\n",
      "sphinxcontrib-qthelp          1.0.3\r\n",
      "sphinxcontrib-serializinghtml 1.1.5\r\n",
      "SQLAlchemy                    2.0.13\r\n",
      "srsly                         2.4.8\r\n",
      "statsmodels                   0.14.0\r\n",
      "sympy                         1.12\r\n",
      "tenacity                      8.2.3\r\n",
      "tensorboard                   2.10.1\r\n",
      "tensorboard-data-server       0.6.1\r\n",
      "tensorboard-plugin-wit        1.8.1\r\n",
      "tensorflow-cpu                2.10.1\r\n",
      "tensorflow-estimator          2.10.0\r\n",
      "tensorflow-io-gcs-filesystem  0.34.0\r\n",
      "termcolor                     2.3.0\r\n",
      "terminado                     0.17.1\r\n",
      "thinc                         8.2.1\r\n",
      "threadpoolctl                 3.2.0\r\n",
      "tifffile                      2023.7.10\r\n",
      "tinycss2                      1.2.1\r\n",
      "tokenizers                    0.13.3\r\n",
      "torch                         2.0.1+cu117\r\n",
      "torchvision                   0.15.2+rocm5.4.2\r\n",
      "tornado                       6.3.3\r\n",
      "tqdm                          4.66.1\r\n",
      "traitlets                     5.11.2\r\n",
      "transformers                  4.29.1\r\n",
      "triton                        2.0.0\r\n",
      "typer                         0.9.0\r\n",
      "typing_extensions             4.8.0\r\n",
      "urllib3                       1.26.17\r\n",
      "wasabi                        1.1.2\r\n",
      "wcwidth                       0.2.8\r\n",
      "weasel                        0.3.2\r\n",
      "webencodings                  0.5.1\r\n",
      "websocket-client              1.6.4\r\n",
      "Werkzeug                      3.0.0\r\n",
      "wheel                         0.41.2\r\n",
      "widgetsnbextension            3.5.2\r\n",
      "wrapt                         1.15.0\r\n",
      "xgboost                       1.7.5\r\n",
      "xlrd                          2.0.1\r\n",
      "xyzservices                   2023.10.0\r\n",
      "yarl                          1.9.2\r\n",
      "zipp                          3.17.0\r\n",
      "\r\n",
      "\u001b[1m[\u001b[0m\u001b[34;49mnotice\u001b[0m\u001b[1;39;49m]\u001b[0m\u001b[39;49m A new release of pip is available: \u001b[0m\u001b[31;49m23.1.2\u001b[0m\u001b[39;49m -> \u001b[0m\u001b[32;49m23.3.1\u001b[0m\r\n",
      "\u001b[1m[\u001b[0m\u001b[34;49mnotice\u001b[0m\u001b[1;39;49m]\u001b[0m\u001b[39;49m To update, run: \u001b[0m\u001b[32;49mpip install --upgrade pip\u001b[0m\r\n"
     ],
     "output_type":"stream"
    }
   ],
   "metadata":{
    "datalore":{
     "node_id":"Qf2fGBT29Tp85ig2h3H6be",
     "type":"CODE",
     "hide_input_from_viewers":false,
     "hide_output_from_viewers":false,
     "report_properties":{
      "rowId":"iF77wHN3KjirO3UBNMvq29"
     }
    }
   }
  },
  {
   "cell_type":"code",
   "source":[
    "import pprint\n",
    "# import countryinfo\n",
    "\n",
    "from countryinfo import CountryInfo\n",
    "\n",
    "#kraj = CountryInfo(\"Singapore\")\n",
    "kraj = CountryInfo(\"Slovakia\")\n",
    "print(f\"Slovakia: {kraj.info()}\")\n",
    "print(f\"Slovakia Hlavne mesto: {kraj.capital()}\")\n",
    "print(f\"Slovakia hranice: {kraj.borders()}\")\n",
    "print(f\"Slovakia pocet obyvatelov: {kraj.population()}\")\n"
   ],
   "execution_count":12,
   "outputs":[
    {
     "name":"stdout",
     "text":[
      "Slovakia: {'name': 'Slovakia', 'altSpellings': ['SK', 'Slovak Republic', 'Slovenská republika'], 'area': 49037, 'borders': ['AUT', 'CZE', 'HUN', 'POL', 'UKR'], 'callingCodes': ['421'], 'capital': 'Bratislava', 'capital_latlng': [48.151699, 17.109306], 'currencies': ['EUR'], 'demonym': 'Slovak', 'flag': '', 'geoJSON': {'type': 'FeatureCollection', 'features': [{'type': 'Feature', 'id': 'SVK', 'properties': {'name': 'Slovakia'}, 'geometry': {'type': 'Polygon', 'coordinates': [[[18.853144, 49.49623], [18.909575, 49.435846], [19.320713, 49.571574], [19.825023, 49.217125], [20.415839, 49.431453], [20.887955, 49.328772], [21.607808, 49.470107], [22.558138, 49.085738], [22.280842, 48.825392], [22.085608, 48.422264], [21.872236, 48.319971], [20.801294, 48.623854], [20.473562, 48.56285], [20.239054, 48.327567], [19.769471, 48.202691], [19.661364, 48.266615], [19.174365, 48.111379], [18.777025, 48.081768], [18.696513, 47.880954], [17.857133, 47.758429], [17.488473, 47.867466], [16.979667, 48.123497], [16.879983, 48.470013], [16.960288, 48.596982], [17.101985, 48.816969], [17.545007, 48.800019], [17.886485, 48.903475], [17.913512, 48.996493], [18.104973, 49.043983], [18.170498, 49.271515], [18.399994, 49.315001], [18.554971, 49.495015], [18.853144, 49.49623]]]}}]}, 'ISO': {'alpha2': 'SK', 'alpha3': 'SVK'}, 'languages': ['sk'], 'latlng': [48.66666666, 19.5], 'nativeName': 'Slovensko', 'population': 5415949, 'provinces': ['Banskobystricky', 'Bratislavsky', 'Kosicky', 'Nitriansky', 'Presovsky', 'Trenciansky', 'Trnavsky', 'Zilinsky'], 'region': 'Europe', 'subregion': 'Eastern Europe', 'timezones': ['UTC+01:00'], 'tld': ['.sk'], 'translations': {'de': 'Slowakei', 'es': 'República Eslovaca', 'fr': 'Slovaquie', 'ja': 'スロバキア', 'it': 'Slovacchia'}, 'wiki': 'http:\/\/en.wikipedia.org\/wiki\/slovakia'}\n",
      "Slovakia Hlavne mesto: Bratislava\n",
      "Slovakia hranice: ['AUT', 'CZE', 'HUN', 'POL', 'UKR']\n",
      "Slovakia pocet obyvatelov: 5415949\n"
     ],
     "output_type":"stream"
    },
    {
     "ename":"TypeError",
     "evalue":"TypeError: 'module' object is not callable",
     "traceback":[
      "\u001b[0;31m---------------------------------------------------------------------------",
      "Traceback (most recent call last)",
      "    at line 13 in <module>",
      "TypeError: 'module' object is not callable"
     ],
     "output_type":"error"
    }
   ],
   "metadata":{
    "datalore":{
     "node_id":"vXhEMhQaQDN2QTvhMIF6rf",
     "type":"CODE",
     "hide_input_from_viewers":false,
     "hide_output_from_viewers":false,
     "report_properties":{
      "rowId":"fkCSJJhXTqtJ0foV4CZkjt"
     }
    }
   }
  },
  {
   "cell_type":"markdown",
   "source":[
    "# 💀 Spracovanie Chýb (Exception - Výnimiek), Údajov, Dátového Toku\n",
    "try - except - finally  \n",
    "\n",
    "https:\/\/docs.python.org\/3\/tutorial\/errors.html "
   ],
   "attachments":{
    
   },
   "metadata":{
    "datalore":{
     "node_id":"O6f5kWGeujRXtOQVWAlLTl",
     "type":"MD",
     "hide_input_from_viewers":false,
     "hide_output_from_viewers":false,
     "report_properties":{
      "rowId":"E9cX2hSUAeBjar0TwM5syB"
     }
    }
   }
  },
  {
   "cell_type":"code",
   "source":[
    "try:\n",
    "    # Dataframes (Datove Ramce) = Tabulky\n",
    "    # Uzitocne metody import, export, statistiky\n",
    "    import pandas as pd\n",
    "    # Grafy, Diagramy, Vizualizacie\n",
    "    import matplotlib.pyplot as plt\n",
    "    # Vysoka matematika, VVP, polia (array), matice (matrix)\n",
    "    import numpy as np\n",
    "    # Parsovanie, stahovanie udajov z webstranok scraping\n",
    "    import pyparsing as pp\n",
    "    #import bonobo\n",
    "\n",
    "    print(\"TRY:\")\n",
    "    print(\"✅ Moduly\/kniznice boli nacitane\")\n",
    "    print(f\"Pandas verzia: {pd.__version__}\")\n",
    "    print(f\"Numpy verzia: {np.__version__}\")\n",
    "    print(f\"pyparsing verzia: {pp.__version__}\")\n",
    "\n",
    "except:\n",
    "    print(\"EXCEPT: Moduly\/Kniznice neboli nacitane, nastala chyba...\")\n",
    "\n",
    "finally:\n",
    "    print(\"\\nFINALLY: Tento text sa vypise vzdy\")\n",
    "\n"
   ],
   "execution_count":23,
   "outputs":[
    {
     "name":"stdout",
     "text":[
      "TRY:\n",
      "✅ Moduly\/kniznice boli nacitane\n",
      "Pandas verzia: 1.5.3\n",
      "Numpy verzia: 1.24.3\n",
      "pyparsing verzia: 3.1.1\n",
      "\n",
      "FINALLY: Tento text sa vypise vzdy\n"
     ],
     "output_type":"stream"
    }
   ],
   "metadata":{
    "datalore":{
     "node_id":"xxC61eI2Oqyzy8GmzzwrET",
     "type":"CODE",
     "hide_input_from_viewers":false,
     "hide_output_from_viewers":false,
     "report_properties":{
      "rowId":"csTaUBzwY1G6f6IoNz36lu"
     }
    }
   }
  },
  {
   "cell_type":"code",
   "source":[
    "while True:\n",
    "    try:\n",
    "        cislo = int(input(\"Zadaj nejake cislo: \"))\n",
    "        print(f\"Cislo: {cislo}\")\n",
    "        break\n",
    "    except ValueError:\n",
    "        print(f\"Zadaj platne cislo a nie retazec...\")"
   ],
   "execution_count":28,
   "outputs":[
    {
     "name":"stdout",
     "text":[
      "Zadaj nejake cislo:  karol\n",
      "Zadaj platne cislo a nie retazec...\n",
      "Zadaj nejake cislo:    \n",
      "Zadaj platne cislo a nie retazec...\n",
      "Zadaj nejake cislo:  47\n",
      "Cislo: 47\n"
     ],
     "output_type":"stream"
    }
   ],
   "metadata":{
    "datalore":{
     "node_id":"pJKsT83yGfF6ZUc2u9NzI6",
     "type":"CODE",
     "hide_input_from_viewers":false,
     "hide_output_from_viewers":false,
     "report_properties":{
      "rowId":"WBOAojo2SfYR7FtzUsMDna"
     }
    }
   }
  },
  {
   "cell_type":"markdown",
   "source":[
    "# Pandas"
   ],
   "attachments":{
    
   },
   "metadata":{
    "datalore":{
     "node_id":"Pandas",
     "type":"MD",
     "hide_input_from_viewers":false,
     "hide_output_from_viewers":false,
     "sheet_delimiter":true
    }
   }
  },
  {
   "cell_type":"code",
   "source":[
    "import pandas as pd\n",
    "\n",
    "# {} Slovnik dict, kluc:hodnota, key:value\n",
    "# JSON\n",
    "data_zakaznici = {\n",
    "    \"mena\": [\"Jozef\", \"Roman\", \"Zuzana\", \"Monika\", \"Alexander\", \"Ingrid\"],\n",
    "    \"vek\": [18, 23, 45, 27, 36, 98]\n",
    "}\n",
    "print(f\"data_zakaznici: {data_zakaznici}\")\n",
    "# Dict (Slovnik) -> DataFrame (Tabulka)\n",
    "df_klienti = pd.DataFrame(data_zakaznici)\n",
    "df_klienti\n",
    "\n",
    "print(df_klienti)\n",
    "\n",
    "display(df_klienti)\n",
    "\n",
    "df_klienti\n"
   ],
   "execution_count":37,
   "outputs":[
    {
     "name":"stdout",
     "text":[
      "data_zakaznici: {'mena': ['Jozef', 'Roman', 'Zuzana', 'Monika', 'Alexander', 'Ingrid'], 'vek': [18, 23, 45, 27, 36, 98]}\n",
      "        mena  vek\n",
      "0      Jozef   18\n",
      "1      Roman   23\n",
      "2     Zuzana   45\n",
      "3     Monika   27\n",
      "4  Alexander   36\n",
      "5     Ingrid   98\n"
     ],
     "output_type":"stream"
    },
    {
     "data":{
      "text\/html":[
       "<div>\n",
       "<style scoped>\n",
       "    .dataframe tbody tr th:only-of-type {\n",
       "        vertical-align: middle;\n",
       "    }\n",
       "\n",
       "    .dataframe tbody tr th {\n",
       "        vertical-align: top;\n",
       "    }\n",
       "\n",
       "    .dataframe thead th {\n",
       "        text-align: right;\n",
       "    }\n",
       "<\/style>\n",
       "<table border=\"1\" class=\"dataframe\">\n",
       "  <thead>\n",
       "    <tr style=\"text-align: right;\">\n",
       "      <th><\/th>\n",
       "      <th>mena<\/th>\n",
       "      <th>vek<\/th>\n",
       "    <\/tr>\n",
       "  <\/thead>\n",
       "  <tbody>\n",
       "    <tr>\n",
       "      <th>0<\/th>\n",
       "      <td>Jozef<\/td>\n",
       "      <td>18<\/td>\n",
       "    <\/tr>\n",
       "    <tr>\n",
       "      <th>1<\/th>\n",
       "      <td>Roman<\/td>\n",
       "      <td>23<\/td>\n",
       "    <\/tr>\n",
       "    <tr>\n",
       "      <th>2<\/th>\n",
       "      <td>Zuzana<\/td>\n",
       "      <td>45<\/td>\n",
       "    <\/tr>\n",
       "    <tr>\n",
       "      <th>3<\/th>\n",
       "      <td>Monika<\/td>\n",
       "      <td>27<\/td>\n",
       "    <\/tr>\n",
       "    <tr>\n",
       "      <th>4<\/th>\n",
       "      <td>Alexander<\/td>\n",
       "      <td>36<\/td>\n",
       "    <\/tr>\n",
       "    <tr>\n",
       "      <th>5<\/th>\n",
       "      <td>Ingrid<\/td>\n",
       "      <td>98<\/td>\n",
       "    <\/tr>\n",
       "  <\/tbody>\n",
       "<\/table>\n",
       "<\/div>"
      ]
     },
     "metadata":{
      
     },
     "output_type":"display_data"
    },
    {
     "data":{
      "text\/html":[
       "<div>\n",
       "<style scoped>\n",
       "    .dataframe tbody tr th:only-of-type {\n",
       "        vertical-align: middle;\n",
       "    }\n",
       "\n",
       "    .dataframe tbody tr th {\n",
       "        vertical-align: top;\n",
       "    }\n",
       "\n",
       "    .dataframe thead th {\n",
       "        text-align: right;\n",
       "    }\n",
       "<\/style>\n",
       "<table border=\"1\" class=\"dataframe\">\n",
       "  <thead>\n",
       "    <tr style=\"text-align: right;\">\n",
       "      <th><\/th>\n",
       "      <th>mena<\/th>\n",
       "      <th>vek<\/th>\n",
       "    <\/tr>\n",
       "  <\/thead>\n",
       "  <tbody>\n",
       "    <tr>\n",
       "      <th>0<\/th>\n",
       "      <td>Jozef<\/td>\n",
       "      <td>18<\/td>\n",
       "    <\/tr>\n",
       "    <tr>\n",
       "      <th>1<\/th>\n",
       "      <td>Roman<\/td>\n",
       "      <td>23<\/td>\n",
       "    <\/tr>\n",
       "    <tr>\n",
       "      <th>2<\/th>\n",
       "      <td>Zuzana<\/td>\n",
       "      <td>45<\/td>\n",
       "    <\/tr>\n",
       "    <tr>\n",
       "      <th>3<\/th>\n",
       "      <td>Monika<\/td>\n",
       "      <td>27<\/td>\n",
       "    <\/tr>\n",
       "    <tr>\n",
       "      <th>4<\/th>\n",
       "      <td>Alexander<\/td>\n",
       "      <td>36<\/td>\n",
       "    <\/tr>\n",
       "    <tr>\n",
       "      <th>5<\/th>\n",
       "      <td>Ingrid<\/td>\n",
       "      <td>98<\/td>\n",
       "    <\/tr>\n",
       "  <\/tbody>\n",
       "<\/table>\n",
       "<\/div>"
      ]
     },
     "metadata":{
      
     },
     "output_type":"display_data"
    }
   ],
   "metadata":{
    "datalore":{
     "node_id":"21SsZLDs8jyA4eTU021soY",
     "type":"CODE",
     "hide_input_from_viewers":false,
     "hide_output_from_viewers":false,
     "report_properties":{
      "rowId":"4Ml2nJBg3YA5b888QcDtvX"
     }
    }
   }
  },
  {
   "cell_type":"code",
   "source":[
    "from lets_plot import * \n",
    "ggplot() + \\\n",
    "geom_line(aes(x=\"mena\", y=\"vek\"), data=df_klienti, sampling=\"none\" if df_klienti.size < 2500 else sampling_systematic(n=2500), color=\"#ff0026\") + \\\n",
    "ggtitle(\"Graf ...\") "
   ],
   "execution_count":43,
   "outputs":[
    {
     "data":{
      "text\/html":[
       "<html lang=\"en\">\n",
       "   <head>\n",
       "       <script type=\"text\/javascript\" data-lets-plot-script=\"library\" src=\"https:\/\/cdn.jsdelivr.net\/gh\/JetBrains\/lets-plot@v4.0.1\/js-package\/distr\/lets-plot.min.js\"><\/script>\n",
       "   <\/head>\n",
       "   <body>\n",
       "          <div id=\"VDn4GV\"><\/div>\n",
       "   <script type=\"text\/javascript\" data-lets-plot-script=\"plot\">\n",
       "       var plotSpec={\n",
       "\"mapping\":{\n",
       "},\n",
       "\"data_meta\":{\n",
       "},\n",
       "\"ggtitle\":{\n",
       "\"text\":\"Graf ...\"\n",
       "},\n",
       "\"kind\":\"plot\",\n",
       "\"scales\":[],\n",
       "\"layers\":[{\n",
       "\"geom\":\"line\",\n",
       "\"data\":{\n",
       "\"mena\":[\"Jozef\",\"Roman\",\"Zuzana\",\"Monika\",\"Alexander\",\"Ingrid\"],\n",
       "\"vek\":[18.0,23.0,45.0,27.0,36.0,98.0]\n",
       "},\n",
       "\"mapping\":{\n",
       "\"x\":\"mena\",\n",
       "\"y\":\"vek\"\n",
       "},\n",
       "\"sampling\":\"none\",\n",
       "\"data_meta\":{\n",
       "},\n",
       "\"color\":\"#ff0026\"\n",
       "}],\n",
       "\"metainfo_list\":[]\n",
       "};\n",
       "       var plotContainer = document.getElementById(\"VDn4GV\");\n",
       "       LetsPlot.buildPlotFromProcessedSpecs(plotSpec, -1, -1, plotContainer);\n",
       "   <\/script>\n",
       "   <\/body>\n",
       "<\/html>"
      ]
     },
     "metadata":{
      
     },
     "output_type":"display_data"
    }
   ],
   "metadata":{
    "datalore":{
     "node_id":"LpAKmqGOED8GCCR4sitgcP",
     "type":"PLOT",
     "hide_input_from_viewers":false,
     "hide_output_from_viewers":false,
     "report_properties":{
      "rowId":"OUKhS7mp8fwrY3964Ez5y2"
     },
     "plot_state":{
      "label":"Graf ...",
      "sampling":true,
      "reactive":true,
      "plots":[
       {
        "type":"LINE",
        "variable":"df_klienti",
        "xAxis":{
         "label":"",
         "value":"mena",
         "scale":"NONE"
        },
        "yAxis":{
         "label":"",
         "value":"vek",
         "scale":"NONE"
        },
        "colorAxis":{
         "label":"",
         "value":"#ff0026",
         "scale":"NONE"
        }
       }
      ]
     }
    }
   }
  },
  {
   "cell_type":"code",
   "source":[
    "from lets_plot import *\n",
    "ggplot(df_klienti) + geom_line(aes(x=\"mena\", y=\"vek\"))"
   ],
   "execution_count":38,
   "outputs":[
    {
     "data":{
      "text\/html":[
       "<html lang=\"en\">\n",
       "   <head>\n",
       "       <script type=\"text\/javascript\" data-lets-plot-script=\"library\" src=\"https:\/\/cdn.jsdelivr.net\/gh\/JetBrains\/lets-plot@v4.0.1\/js-package\/distr\/lets-plot.min.js\"><\/script>\n",
       "   <\/head>\n",
       "   <body>\n",
       "          <div id=\"bzcxTd\"><\/div>\n",
       "   <script type=\"text\/javascript\" data-lets-plot-script=\"plot\">\n",
       "       var plotSpec={\n",
       "\"data\":{\n",
       "\"mena\":[\"Jozef\",\"Roman\",\"Zuzana\",\"Monika\",\"Alexander\",\"Ingrid\"],\n",
       "\"vek\":[18.0,23.0,45.0,27.0,36.0,98.0]\n",
       "},\n",
       "\"mapping\":{\n",
       "},\n",
       "\"data_meta\":{\n",
       "},\n",
       "\"kind\":\"plot\",\n",
       "\"scales\":[],\n",
       "\"layers\":[{\n",
       "\"geom\":\"line\",\n",
       "\"mapping\":{\n",
       "\"x\":\"mena\",\n",
       "\"y\":\"vek\"\n",
       "},\n",
       "\"data_meta\":{\n",
       "},\n",
       "\"data\":{\n",
       "}\n",
       "}],\n",
       "\"metainfo_list\":[]\n",
       "};\n",
       "       var plotContainer = document.getElementById(\"bzcxTd\");\n",
       "       LetsPlot.buildPlotFromProcessedSpecs(plotSpec, -1, -1, plotContainer);\n",
       "   <\/script>\n",
       "   <\/body>\n",
       "<\/html>"
      ]
     },
     "metadata":{
      
     },
     "output_type":"display_data"
    }
   ],
   "metadata":{
    "datalore":{
     "node_id":"JChgrEXnaWm2hca2oX23Q5",
     "type":"CODE",
     "hide_input_from_viewers":false,
     "hide_output_from_viewers":false,
     "report_properties":{
      "rowId":"m2yJ0WSWZS9uU0PymTdk79"
     }
    }
   }
  },
  {
   "cell_type":"code",
   "source":[
    "import numpy as np\n",
    "import pandas as pd\n",
    "# Series (1 dimenzia\/stlpec)\n",
    "\n",
    "cisla = pd.Series([1,2,9,np.nan, 56, -9])\n",
    "cisla\n",
    "\n",
    "datumy = pd.date_range(\"20230101\", periods=5)\n",
    "datumy\n",
    "\n",
    "#tabulka = pd.DataFrame(np.random.randn(5,4), index = datumy, columns= list(\"ABCD\"))\n",
    "\n",
    "tabulka = pd.DataFrame(np.random.randn(5,4), index = datumy, columns= [\"Hodnota 1\", \"Hodnota 2\", \"Hodnota 3\", \"Hodnota 4\"])\n",
    "\n",
    "tabulka"
   ],
   "execution_count":7,
   "outputs":[
    {
     "data":{
      "text\/html":[
       "<div>\n",
       "<style scoped>\n",
       "    .dataframe tbody tr th:only-of-type {\n",
       "        vertical-align: middle;\n",
       "    }\n",
       "\n",
       "    .dataframe tbody tr th {\n",
       "        vertical-align: top;\n",
       "    }\n",
       "\n",
       "    .dataframe thead th {\n",
       "        text-align: right;\n",
       "    }\n",
       "<\/style>\n",
       "<table border=\"1\" class=\"dataframe\">\n",
       "  <thead>\n",
       "    <tr style=\"text-align: right;\">\n",
       "      <th><\/th>\n",
       "      <th>Hodnota 1<\/th>\n",
       "      <th>Hodnota 2<\/th>\n",
       "      <th>Hodnota 3<\/th>\n",
       "      <th>Hodnota 4<\/th>\n",
       "    <\/tr>\n",
       "  <\/thead>\n",
       "  <tbody>\n",
       "    <tr>\n",
       "      <th>2023-01-01<\/th>\n",
       "      <td>1.394059<\/td>\n",
       "      <td>-2.413074<\/td>\n",
       "      <td>-0.720977<\/td>\n",
       "      <td>2.537604<\/td>\n",
       "    <\/tr>\n",
       "    <tr>\n",
       "      <th>2023-01-02<\/th>\n",
       "      <td>0.948144<\/td>\n",
       "      <td>0.341576<\/td>\n",
       "      <td>2.356603<\/td>\n",
       "      <td>0.942561<\/td>\n",
       "    <\/tr>\n",
       "    <tr>\n",
       "      <th>2023-01-03<\/th>\n",
       "      <td>0.943534<\/td>\n",
       "      <td>0.190876<\/td>\n",
       "      <td>0.710139<\/td>\n",
       "      <td>0.741574<\/td>\n",
       "    <\/tr>\n",
       "    <tr>\n",
       "      <th>2023-01-04<\/th>\n",
       "      <td>0.534097<\/td>\n",
       "      <td>-0.148132<\/td>\n",
       "      <td>-0.356003<\/td>\n",
       "      <td>1.625872<\/td>\n",
       "    <\/tr>\n",
       "    <tr>\n",
       "      <th>2023-01-05<\/th>\n",
       "      <td>-0.614277<\/td>\n",
       "      <td>1.139069<\/td>\n",
       "      <td>-0.473545<\/td>\n",
       "      <td>-1.134909<\/td>\n",
       "    <\/tr>\n",
       "  <\/tbody>\n",
       "<\/table>\n",
       "<\/div>"
      ]
     },
     "metadata":{
      
     },
     "output_type":"display_data"
    }
   ],
   "metadata":{
    "datalore":{
     "node_id":"cFJNNBag2O2xYAy9qCylxi",
     "type":"CODE",
     "hide_input_from_viewers":false,
     "hide_output_from_viewers":false,
     "report_properties":{
      "rowId":"g0B6TRajuZsVSDETVtF4XR"
     }
    }
   }
  },
  {
   "cell_type":"code",
   "source":[
    "# 2. Seria\n",
    "import numpy as np\n",
    "import pandas as pd\n",
    "\n",
    "seria = pd.Series()\n",
    "#seria\n",
    "\n",
    "data = np.array([\"a\", \"x\", \"e\", \"k\",\"p\"])\n",
    "seria = pd.Series(data)\n",
    "#seria\n"
   ],
   "execution_count":14,
   "outputs":[
    {
     "name":"stderr",
     "text":[
      "<ipython-input-14-b14ed849fd4b>:5: FutureWarning: The default dtype for empty Series will be 'object' instead of 'float64' in a future version. Specify a dtype explicitly to silence this warning.\n",
      "  seria = pd.Series()\n"
     ],
     "output_type":"stream"
    },
    {
     "ename":"ValueError",
     "evalue":"ValueError: If using all scalar values, you must pass an index",
     "traceback":[
      "\u001b[0;31m---------------------------------------------------------------------------",
      "Traceback (most recent call last)",
      "    at line 14 in <module>",
      "    at line 664 in __init__(self, data, index, columns, dtype, copy)",
      "    at line 493 in dict_to_mgr(data, index, columns, dtype, typ, copy)",
      "    at line 118 in arrays_to_mgr(arrays, columns, index, dtype, verify_integrity, typ, consolidate)",
      "    at line 656 in _extract_index(data)",
      "ValueError: If using all scalar values, you must pass an index"
     ],
     "output_type":"error"
    }
   ],
   "metadata":{
    "datalore":{
     "node_id":"L4jck7rksLgCpFPcuCrpry",
     "type":"CODE",
     "hide_input_from_viewers":false,
     "hide_output_from_viewers":false,
     "report_properties":{
      "rowId":"dLyUYYqxeb0pGMnsTKYOJk"
     }
    }
   }
  },
  {
   "cell_type":"code",
   "source":[
    "# 2. DataFrame\n",
    "\n",
    "df_projekt = pd.DataFrame({\n",
    "    \"A\": 5.5,\n",
    "    \"B\": pd.Timestamp(\"20240501\"),\n",
    "    \"C\": pd.Series(1, index = list(range(4)), dtype=\"float32\"),\n",
    "    \"D\": \"Karol\",\n",
    "    \"E\": pd.Categorical([\"Modra\", \"Zelena\",\"Cervena\",\"Biela\"]),\n",
    "    \"F\": np.array([10] * 4 , dtype=\"int32\"),\n",
    "    \"G\": 100\n",
    "})\n",
    "\n",
    "df_projekt\n",
    "df_projekt.dtypes"
   ],
   "execution_count":23,
   "outputs":[
    {
     "data":{
      "text\/html":[
       "<pre>A           float64\n",
       "B    datetime64[ns]\n",
       "C           float32\n",
       "D            object\n",
       "E          category\n",
       "F             int32\n",
       "G             int64\n",
       "dtype: object<\/pre>"
      ]
     },
     "metadata":{
      
     },
     "output_type":"display_data"
    }
   ],
   "metadata":{
    "datalore":{
     "node_id":"oP0nZKV5UmQ4g4N7lDw45l",
     "type":"CODE",
     "hide_input_from_viewers":false,
     "hide_output_from_viewers":false,
     "report_properties":{
      "rowId":"XmrrntkpfqpOEv14b1AWu4"
     }
    }
   }
  },
  {
   "cell_type":"code",
   "source":[
    "list(range(4))"
   ],
   "execution_count":18,
   "outputs":[
    {
     "data":{
      "text\/plain":[
       "[0, 1, 2, 3]"
      ]
     },
     "metadata":{
      
     },
     "output_type":"display_data"
    }
   ],
   "metadata":{
    "datalore":{
     "node_id":"OkSwBrzLDyyBsYTAHmCAQu",
     "type":"CODE",
     "hide_input_from_viewers":false,
     "hide_output_from_viewers":false,
     "report_properties":{
      "rowId":"xdvYR1r5V3JHEb1AKLtndL"
     }
    }
   }
  },
  {
   "cell_type":"code",
   "source":[
    "import pandas as pd\n",
    "\n",
    "# Import z CSV\n",
    "df_navstevnici = pd.read_csv(\"visitors.csv\")\n",
    "df_zdroje = pd.read_csv(\"sources.csv\")\n",
    "#df_navstevnici\n",
    "# Export do str\n",
    "print(df_zdroje.to_string())"
   ],
   "execution_count":27,
   "outputs":[
    {
     "name":"stdout",
     "text":[
      "                                             name  visitors  bounce_rate  visit_duration\n",
      "0                                          Google     36375           65             102\n",
      "1                                   Direct \/ None     13232           59             191\n",
      "2                                        Facebook      1651           74              29\n",
      "3                                            Bing      1583           55             143\n",
      "4                                     172.25.63.2       760           77             378\n",
      "5                                      DuckDuckGo       302           62              84\n",
      "6                                 zus-exnarova.sk       289           84              44\n",
      "7                                          Seznam       183           35              90\n",
      "8                                      dennikn.sk       119           87              30\n",
      "9                                 zuspetrzalka.sk       116           82              53\n",
      "10                                      Instagram       108           61              38\n",
      "11                                         Yandex       105           88              18\n",
      "12                                   petrzalka.sk       104           56             109\n",
      "13                                        paas.sk       102           80              48\n",
      "14                           portal.bratislava.sk        95           77             376\n",
      "15                                        imhd.sk        80           92              29\n",
      "16                               sk.wikipedia.org        78           74             141\n",
      "17                             old2.bratislava.sk        70           52             161\n",
      "18                                    dubravka.sk        70           50              96\n",
      "19                                        banm.sk        65           64             188\n",
      "20                                         Yahoo!        62           60              73\n",
      "21                            konto.bratislava.sk        50           65              80\n",
      "22                                         olo.sk        45           66              54\n",
      "23                               en.wikipedia.org        43           69              31\n",
      "24                                         Ecosia        43           57              70\n",
      "25                                      zoznam.sk        37           58              93\n",
      "26                                    bezmapy.com        35          100               0\n",
      "27                                        sita.sk        32           16             220\n",
      "28                                     newsletter        32           94             128\n",
      "29                                         tsb.sk        30           67             246\n",
      "30                        petrzalskaelektricka.sk        30           70              59\n",
      "31                             en.m.wikipedia.org        30           42              38\n",
      "32                         inovacie.bratislava.sk        29           45             209\n",
      "33                               search.brave.com        29           53              85\n",
      "34                               de.wikipedia.org        26           35              70\n",
      "35                               zivaspomienka.sk        26           65              45\n",
      "36                             sk.m.wikipedia.org        25           84               3\n",
      "37                                  staremesto.sk        24           50              78\n",
      "38                                       ebama.sk        23           96              40\n",
      "39                        geoportal.bratislava.sk        22           32             500\n",
      "40                                          Gmail        20           67              55\n",
      "41                                         mib.sk        19           67             145\n",
      "42                                  startpage.com        19           55              42\n",
      "43                   komunalnypodnikbratislavy.sk        18           78              10\n",
      "44                                        raca.sk        18           50              61\n",
      "45                               tasks.office.com        18           20             633\n",
      "46                            zahorskabystrica.sk        18           63             209\n",
      "47                        obrazovky.bratislava.sk        17           37             174\n",
      "48                             ukraineslovakia.sk        17           35             110\n",
      "49                                     ruzinov.sk        17           71             275\n",
      "50                                    marianum.sk        14           64               8\n",
      "51                   statics.teams.cdn.office.net        14           67             146\n",
      "52                             bravo.staffino.com        14           57              26\n",
      "53                                       yimba.sk        14           47             118\n",
      "54                               fr.wikipedia.org        14           79              22\n",
      "55                                     vrakuna.sk        13           64              59\n",
      "56                                mail.centrum.cz        12          100               0\n",
      "57                             devinskanovaves.sk        12           75             266\n",
      "58                                       devin.sk        12           33              43\n",
      "59                             de.m.wikipedia.org        12           42              22\n",
      "60                                 umeniemesta.sk        12           86              29\n",
      "61                          bratislavskenoviny.sk        12           69              46\n",
      "62                              mobil.citylife.sk        11           36              64\n",
      "63                                    janpinka.sk        11           87             111\n",
      "64                           domovjesenezivota.eu        11           50             186\n",
      "65                            zszelba.edupage.org        11           58              68\n",
      "66                                zus-exnarova.eu        10           70             114\n",
      "67                              zelena-strecha.sk         9          100               0\n",
      "68                                        mapy.cz         9           40             118\n",
      "69                          esluzby.bratislava.sk         9           67             257\n",
      "70                                  vivamusica.sk         8           90              11\n",
      "71                            krizovecentrumba.sk         8           38               5\n",
      "72                                   biskupice.sk         8           25             244\n",
      "73                             djsarchitecture.sk         8           75               2\n",
      "74                                       starz.sk         8           67              46\n",
      "75                                 musicexport.sk         8           89              31\n",
      "76                            odkazprestarostu.sk         8           89              21\n",
      "77                             skyscrapercity.com         8           75              22\n",
      "78                                 paneurouni.com         8           88               4\n",
      "79                           simple.wikipedia.org         8          100               0\n",
      "80                                     vajnory.sk         7           86             188\n",
      "81                         intranet.bratislava.sk         7           40            1457\n",
      "82                               cs.wikipedia.org         7           29              71\n",
      "83                                      gerium.sk         7           57              11\n",
      "84                                    citylife.sk         6           17             103\n",
      "85                                    Seznam Mail         6           50             188\n",
      "86                   christmasmarketsineurope.com         6           83               1\n",
      "87                                        inba.sk         6           50               9\n",
      "88                        strongcitiesnetwork.org         6           67               2\n",
      "89                                l.messenger.com         6           67              65\n",
      "90                                 obecrovinka.sk         6           67               2\n",
      "91                                         tvr.sk         6           50               8\n",
      "92                  freewalkingtourbratislava.com         6           89              13\n",
      "93                             cs.m.wikipedia.org         6           17              27\n",
      "94                                         dpb.sk         5           60             308\n",
      "95                                   link.azet.sk         5           40             574\n",
      "96        city-account-next.staging.bratislava.sk         5           40             195\n",
      "97                               ru.wikipedia.org         5           40              68\n",
      "98                                    Google News         5           40             199\n",
      "99                                     olympic.sk         5           67              38\n",
      "100                               slovnaftbajk.sk         5           80               9\n",
      "101                                   mapotic.com         5          100               0\n",
      "102                              viennaoffices.at         5           20             152\n",
      "103                                     amcef.com         5          100               0\n",
      "104                                         Qwant         5           80              61\n",
      "105                                     cunovo.eu         5           20              94\n",
      "106                klimatickyodolna.bratislava.sk         5           60             318\n",
      "107                         bratislava-rusovce.sk         5           20             370\n",
      "108                                   archinfo.sk         5           80               3\n",
      "109                              preprava-osob.eu         5           40              17\n",
      "110                      petrzalskydomseniorov.eu         4           75               1\n",
      "111                                 presearch.com         4          100               0\n",
      "112                                      LinkedIn         4           75               4\n",
      "113                              zusvrbenskeho.eu         4           50              56\n",
      "114                           karta.bratislava.sk         4           25               6\n",
      "115                                 vodici.dpb.sk         4           75              76\n",
      "116                                     donau.com         4           75               0\n",
      "117                           brainee.hnonline.sk         4          100               0\n",
      "118                              zoobratislava.sk         4           75             138\n",
      "119                                budpolicajt.sk         4           75               1\n",
      "120                          olosk.sharepoint.com         4           43             118\n",
      "121                              it.wikipedia.org         4           25              28\n",
      "122                                     127.0.0.1         4           75              19\n",
      "123                      krtkovanie-bratislava.sk         3          100               0\n",
      "124                                hlukovamapa.sk         3           67               9\n",
      "125                            monikadebnarova.sk         3           67              12\n",
      "126                                    mepasys.sk         3           67              13\n",
      "127                           arena-bratislava.eu         3          100               0\n",
      "128                              novacvernovka.eu         3          100               0\n",
      "129                               nepela-arena.eu         3           67              37\n",
      "130                           teams.microsoft.com         3           33             663\n",
      "131                              forms.office.com         3          100               0\n",
      "132                             msp.bratislava.sk         3           75             100\n",
      "133                            ru.m.wikipedia.org         3          100               0\n",
      "134                    samosprava.transparency.sk         3          100               0\n",
      "135                                 glassdoor.com         3           33              10\n",
      "136                                 archeofilm.sk         3           33             233\n",
      "137                            it.m.wikipedia.org         3          100               0\n",
      "138                    bratislavavoorbeginners.nl         3           33              31\n",
      "139                                        GitHub         3           33             842\n",
      "140                                 karlovaves.sk         3           33             527\n",
      "141                            fr.m.wikipedia.org         3           25              16\n",
      "142            euc-powerpoint.officeapps.live.com         3            0              57\n",
      "143                               ba-cam-canex.sk         3           43             618\n",
      "144                         prod.uhrs.playmsn.com         3           67               7\n",
      "145                                 sk.airbnb.com         2           50              14\n",
      "146                              obchodnaulica.sk         2          100               0\n",
      "147                            uk.m.wikipedia.org         2           50              52\n",
      "148                              cyklokoalicia.sk         2            0              72\n",
      "149                         pomeste.bratislava.sk         2          100               0\n",
      "150                              web.telegram.org         2           33              99\n",
      "151                                 nighttime.org         2          100               0\n",
      "152                 euc-excel.officeapps.live.com         2          100               0\n",
      "153                                        sng.sk         2            0             347\n",
      "154                   publicadministration.un.org         2            0              64\n",
      "155                                 horyamesto.sk         2           50              18\n",
      "156                                upcmail.upc.sk         2           50               6\n",
      "157                    magistratba.sharepoint.com         2          100               0\n",
      "158                              uk.wikipedia.org         2           50              70\n",
      "159                                    upracme.sk         2           50             318\n",
      "160                  bratislava-sk.translate.goog         2           50              24\n",
      "161                     conferences-scientific.cz         2          100               0\n",
      "162                              zh.wikipedia.org         2            0              56\n",
      "163                               mch.estranky.sk         2          100               0\n",
      "164                                 santegidio.sk         2          100               0\n",
      "165                               mestopredeti.sk         2          100               0\n",
      "166                             student.fpvucm.sk         2          100               0\n",
      "167                              da.wikipedia.org         2            0              23\n",
      "168                                        dtv.sk         2            0              34\n",
      "169                                   post.sme.sk         2           67               2\n",
      "170                                       ta3.com         2          100               0\n",
      "171                               privacywall.org         2          100               0\n",
      "172                               archi-guide.com         2            0              13\n",
      "173                            pl.m.wikipedia.org         2            0              42\n",
      "174                        opendata.bratislava.sk         2          100               0\n",
      "175                                     linktr.ee         2          100               0\n",
      "176                                     cvicko.sk         2           50             134\n",
      "177                               mail.centrum.sk         2           50              78\n",
      "178                            ja.m.wikipedia.org         2          100               0\n",
      "179                                  startitup.sk         2           50              22\n",
      "180                               api-app.imhd.sk         2          100               0\n",
      "181                       studyinslovakia.saia.sk         2           33              35\n",
      "182                                     teamba.sk         2          100               0\n",
      "183                                     yandex.kz         2          100               0\n",
      "184                        srdcovky.nadaciavub.sk         2           50              60\n",
      "185                            info-bratislava.sk         1            0             324\n",
      "186                        nadacia.kooperativa.sk         1          100               0\n",
      "187                       kupaliska.bratislava.sk         1          100               0\n",
      "188                                     korkep.sk         1          100               0\n",
      "189                                    upwork.com         1          100               0\n",
      "190                             mayorsofeurope.eu         1            0              48\n",
      "191                           profilebuilder.site         1          100               0\n",
      "192                                 kcmd.uniza.sk         1          100               0\n",
      "193                         karieraexpo.zoznam.sk         1          100               0\n",
      "194                                 ipbpartner.sk         1            0               4\n",
      "195                                    ahrefs.com         1          100               0\n",
      "196                                    topliga.sk         1          100               0\n",
      "197                              sr.wikipedia.org         1            0              54\n",
      "198  agol-geoportal-test-1-1-magba.hub.arcgis.com         1          100               0\n",
      "199                                 m.motoride.sk         1          100               0\n",
      "200                                   bmx-raca.sk         1          100               0\n",
      "201                             fr.wikivoyage.org         1            0             140\n",
      "202                        devin.smartcity.online         1          100               0\n",
      "203                              pl.wikipedia.org         1          100               0\n",
      "204                              es.wikipedia.org         1          100               0\n",
      "205                           rozkukajsa.uniba.sk         1          100               0\n",
      "206                                        gmb.sk         1          100               0\n",
      "207             euc-word-edit.officeapps.live.com         1          100               0\n",
      "208                            app.grantexpert.sk         1          100               0\n",
      "209                                 m.nearbyme.io         1            0              24\n",
      "210                             employment.gov.sk         1            0              27\n",
      "211                                svet-online.cz         1          100               0\n",
      "212                              et.wikipedia.org         1          100               0\n",
      "213                                        bbb.sk         1            0              14\n",
      "214                                wetterklima.de         1            0               5\n",
      "215                                         ya.ru         1          100               0\n",
      "216                    paas.staging.bratislava.sk         1          100               0\n",
      "217                                 novyny.sme.sk         1          100               0\n",
      "218                                      uniba.sk         1          100               0\n",
      "219                              verejnesutaze.sk         1            0               4\n",
      "220                              reality.trend.sk         1            0              59\n",
      "221                               summit.mib.test         1          100               0\n",
      "222                            beta.skalibrace.cz         1          100               0\n",
      "223                                     e-obce.sk         1            0             520\n",
      "224                              ja.wikipedia.org         1          100               0\n",
      "225                                           GMX         1          100               0\n",
      "226                                   fireball.de         1          100               0\n",
      "227                            tr.m.wikipedia.org         1            0              17\n",
      "228                                   barikada.sk         1          100               0\n",
      "229              vecernikbratislava.wordpress.com         1          100               0\n",
      "230                                       chem.sk         1          100               0\n",
      "231                                       Youtube         1            0             247\n",
      "232                                   taskade.com         1           50             262\n",
      "233               artbase.kunsthallebratislava.sk         1          100               0\n",
      "234                             tripadvisor.co.uk         1          100               0\n",
      "235                        summit.mestopredeti.sk         1            0            8321\n",
      "236                              app.paymoapp.com         1          100               0\n",
      "237                                      zenzo.sk         1          100               0\n",
      "238                                savba.savba.sk         1            0             282\n",
      "239                                    sbdbaii.sk         1          100               0\n",
      "240                            sr.m.wikipedia.org         1          100               0\n",
      "241                                    covid.chat         1            0            1731\n",
      "242                     org62.lightning.force.com         1          100               0\n",
      "243                           tyzdenvdevinskej.sk         1          100               0\n",
      "244                                 setuptype.com         1          100               0\n",
      "245                               petalsearch.com         1          100               0\n",
      "246                                  zoominfo.com         1            0              12\n",
      "247                             kapital-noviny.sk         1          100               0\n",
      "248                             orcabratislava.sk         1          100               0\n",
      "249                                    en.mapy.cz         1            0             311\n",
      "250                                    fa.cvut.cz         1            0            1751\n",
      "251                                    citybus.cz         1          100               0\n",
      "252                                    fklamac.sk         1          100               0\n",
      "253                                linuxexpres.cz         1          100               0\n",
      "254                                     claude.ai         1            0              10\n",
      "255                                  newdesign.sk         1            0               5\n",
      "256                   bratislavskegurmanskedni.sk         1          100               0\n",
      "257                                    sk.mapy.cz         1          100               0\n",
      "258                               forum5.over.net         1          100               0\n",
      "259                              bratislavaden.sk         1          100               0\n",
      "260                                waze.corp.goog         1            0              43\n",
      "261                            vstavana-skrina.sk         1          100               0\n",
      "262                                 coronation.sk         1          100               0\n",
      "263                                   blog.sme.sk         1          100               0\n",
      "264                          podnety.petrzalka.sk         1          100               0\n",
      "265                         forum2023.globsec.org         1          100               0\n",
      "266                          survey123.arcgis.com         1            0            1220\n",
      "267                              vipapartments.eu         1          100               0\n",
      "268                              el.wikipedia.org         1           50              10\n",
      "269                           joinup.ec.europa.eu         1          100               0\n",
      "270                              literarnyklub.sk         1          100               0\n",
      "271                                zusvytvarka.eu         1            0             229\n",
      "272                                        ma7.sk         1          100               0\n",
      "273                          cestovanie.pravda.sk         1          100               0\n",
      "274                                   2011.sng.sk         1          100               0\n",
      "275                          pactoffreecities.com         1          100               0\n",
      "276                                  refresher.sk         1          100               0\n",
      "277                                korunovacie.sk         1          100               0\n",
      "278                       idp.rbinternational.com         1          100               0\n",
      "279                              h2020prospect.eu         1          100               0\n",
      "280                                    search1.me         1            0             176\n",
      "281                              spravy.pravda.sk         1            0              19\n",
      "282                              lt.wikipedia.org         1            0             304\n",
      "283                           visitbratislava.com         1          100               0\n",
      "284                                 swisscows.com         1            0             351\n",
      "285                                  imars.eb.com         1          100               0\n",
      "286                                     herrys.sk         1          100               0\n",
      "287                               staratrznica.sk         1          100               0\n",
      "288                                domquovadis.sk         1          100               0\n",
      "289                                       vsmu.sk         1          100               0\n",
      "290                                  hiperkaoz.sk         1          100               0\n",
      "291                                    zarohom.sk         1            0             962\n",
      "292                              odpady-portal.sk         1            0             652\n",
      "293                          apiarp.bluemonkey.sk         1          100               0\n",
      "294                              sh.wikipedia.org         1            0               9\n",
      "295                        confluence.in.here.com         1            0             307\n",
      "296                                   app.wibo.ai         1          100               0\n",
      "297                       mixaddins.azureedge.net         1          100               0\n",
      "298                      detstvobeznasilia.gov.sk         1          100               0\n",
      "299                            usmevpredruhych.sk         1            0              36\n"
     ],
     "output_type":"stream"
    }
   ],
   "metadata":{
    "datalore":{
     "node_id":"VDYILSscrTNic90gK3CFpX",
     "type":"CODE",
     "hide_input_from_viewers":false,
     "hide_output_from_viewers":false,
     "report_properties":{
      "rowId":"2Bx7dAyMwfFgln8QkHrpJq"
     }
    }
   }
  },
  {
   "cell_type":"code",
   "source":[
    "import pandas as pd\n",
    "\n",
    "# Import z CSV\n",
    "df_pohrebnictvo = pd.read_csv(\"pohrebnictvo-2023.csv\")\n",
    "df_pohrebnictvo"
   ],
   "execution_count":28,
   "outputs":[
    {
     "ename":"UnicodeDecodeError",
     "evalue":"UnicodeDecodeError: 'utf-8' codec can't decode byte 0xe9 in position 7: invalid continuation byte",
     "traceback":[
      "\u001b[0;31m---------------------------------------------------------------------------",
      "Traceback (most recent call last)",
      "    at line 4 in <module>",
      "    at line 211 in wrapper(*args, **kwargs)",
      "    at line 331 in wrapper(*args, **kwargs)",
      "    at line 950 in read_csv(filepath_or_buffer, sep, delimiter, header, names, index_col, usecols, squeeze, prefix, mangle_dupe_cols, dtype, engine, converters, true_values, false_values, skipinitialspace, skiprows, skipfooter, nrows, na_values, keep_default_na, na_filter, verbose, skip_blank_lines, parse_dates, infer_datetime_format, keep_date_col, date_parser, dayfirst, cache_dates, iterator, chunksize, compression, thousands, decimal, lineterminator, quotechar, quoting, doublequote, escapechar, comment, encoding, encoding_errors, dialect, error_bad_lines, warn_bad_lines, on_bad_lines, delim_whitespace, low_memory, memory_map, float_precision, storage_options)",
      "    at line 605 in _read(filepath_or_buffer, kwds)",
      "    at line 1442 in __init__(self, f, engine, **kwds)",
      "    at line 1753 in _make_engine(self, f, engine)",
      "    at line 79 in __init__(self, src, **kwds)",
      "    at line 0 in pandas._libs.parsers.TextReader.__cinit__()",
      "    at line 0 in pandas._libs.parsers.TextReader._get_header()",
      "    at line 0 in pandas._libs.parsers.TextReader._tokenize_rows()",
      "    at line 0 in pandas._libs.parsers.raise_parser_error()",
      "UnicodeDecodeError: 'utf-8' codec can't decode byte 0xe9 in position 7: invalid continuation byte"
     ],
     "output_type":"error"
    }
   ],
   "metadata":{
    "datalore":{
     "node_id":"579CWq71A9gOd7xhKnjfIs",
     "type":"CODE",
     "hide_input_from_viewers":false,
     "hide_output_from_viewers":false,
     "report_properties":{
      "rowId":"YLZVSgnIbSmavWbowrdS8q"
     }
    }
   }
  },
  {
   "cell_type":"code",
   "source":[
    "import pandas as pd\n",
    "\n",
    "# Import z CSV\n",
    "df_excel = pd.read_csv(\"Excel\/Data1.csv\", sep=\";\")\n",
    "df_excel"
   ],
   "execution_count":30,
   "outputs":[
    {
     "data":{
      "text\/html":[
       "<div>\n",
       "<style scoped>\n",
       "    .dataframe tbody tr th:only-of-type {\n",
       "        vertical-align: middle;\n",
       "    }\n",
       "\n",
       "    .dataframe tbody tr th {\n",
       "        vertical-align: top;\n",
       "    }\n",
       "\n",
       "    .dataframe thead th {\n",
       "        text-align: right;\n",
       "    }\n",
       "<\/style>\n",
       "<table border=\"1\" class=\"dataframe\">\n",
       "  <thead>\n",
       "    <tr style=\"text-align: right;\">\n",
       "      <th><\/th>\n",
       "      <th>Meno<\/th>\n",
       "      <th>Priezvisko<\/th>\n",
       "      <th>Mzda<\/th>\n",
       "      <th>Email<\/th>\n",
       "    <\/tr>\n",
       "  <\/thead>\n",
       "  <tbody>\n",
       "    <tr>\n",
       "      <th>0<\/th>\n",
       "      <td>Adam<\/td>\n",
       "      <td>Sagnala<\/td>\n",
       "      <td>2500<\/td>\n",
       "      <td>a<\/td>\n",
       "    <\/tr>\n",
       "    <tr>\n",
       "      <th>1<\/th>\n",
       "      <td>Monika<\/td>\n",
       "      <td>Dlha<\/td>\n",
       "      <td>9600<\/td>\n",
       "      <td>v<\/td>\n",
       "    <\/tr>\n",
       "    <tr>\n",
       "      <th>2<\/th>\n",
       "      <td>Peter<\/td>\n",
       "      <td>Rychly<\/td>\n",
       "      <td>1200<\/td>\n",
       "      <td>x<\/td>\n",
       "    <\/tr>\n",
       "  <\/tbody>\n",
       "<\/table>\n",
       "<\/div>"
      ]
     },
     "metadata":{
      
     },
     "output_type":"display_data"
    }
   ],
   "metadata":{
    "datalore":{
     "node_id":"b2bhcXwNIDQKSFAzIginEK",
     "type":"CODE",
     "hide_input_from_viewers":false,
     "hide_output_from_viewers":false,
     "report_properties":{
      "rowId":"g7KfLAHAMyhSnO4Na3rtV2"
     }
    }
   }
  },
  {
   "cell_type":"code",
   "source":[
    "import pandas as pd\n",
    "\n",
    "# Import z CSV\n",
    "df_excel2 = pd.read_csv(\"Excel\/Data1.csv\", sep=\";\")\n",
    "df_excel"
   ],
   "execution_count":34,
   "outputs":[
    {
     "data":{
      "text\/html":[
       "<div>\n",
       "<style scoped>\n",
       "    .dataframe tbody tr th:only-of-type {\n",
       "        vertical-align: middle;\n",
       "    }\n",
       "\n",
       "    .dataframe tbody tr th {\n",
       "        vertical-align: top;\n",
       "    }\n",
       "\n",
       "    .dataframe thead th {\n",
       "        text-align: right;\n",
       "    }\n",
       "<\/style>\n",
       "<table border=\"1\" class=\"dataframe\">\n",
       "  <thead>\n",
       "    <tr style=\"text-align: right;\">\n",
       "      <th><\/th>\n",
       "      <th>Meno<\/th>\n",
       "      <th>Priezvisko<\/th>\n",
       "      <th>Mzda<\/th>\n",
       "      <th>Email<\/th>\n",
       "    <\/tr>\n",
       "  <\/thead>\n",
       "  <tbody>\n",
       "    <tr>\n",
       "      <th>0<\/th>\n",
       "      <td>Adam<\/td>\n",
       "      <td>Sagnala<\/td>\n",
       "      <td>2500<\/td>\n",
       "      <td>a<\/td>\n",
       "    <\/tr>\n",
       "    <tr>\n",
       "      <th>1<\/th>\n",
       "      <td>Monika<\/td>\n",
       "      <td>Dlha<\/td>\n",
       "      <td>9600<\/td>\n",
       "      <td>v<\/td>\n",
       "    <\/tr>\n",
       "    <tr>\n",
       "      <th>2<\/th>\n",
       "      <td>Peter<\/td>\n",
       "      <td>Rychly<\/td>\n",
       "      <td>1200<\/td>\n",
       "      <td>x<\/td>\n",
       "    <\/tr>\n",
       "  <\/tbody>\n",
       "<\/table>\n",
       "<\/div>"
      ]
     },
     "metadata":{
      
     },
     "output_type":"display_data"
    }
   ],
   "metadata":{
    "datalore":{
     "node_id":"IEZeB6kbTvdHaTscmeZ61A",
     "type":"CODE",
     "hide_input_from_viewers":false,
     "hide_output_from_viewers":false,
     "report_properties":{
      "rowId":"xS8HaGjyVIprXoHLzaZeG6"
     }
    }
   }
  },
  {
   "cell_type":"code",
   "source":[
    "!pip install openpyxl"
   ],
   "execution_count":37,
   "outputs":[
    {
     "name":"stdout",
     "text":[
      "Collecting openpyxl\r\n",
      "  Downloading openpyxl-3.1.2-py2.py3-none-any.whl (249 kB)\r\n",
      "\u001b[?25l     \u001b[90m━━━━━━━━━━━━━━━━━━━━━━━━━━━━━━━━━━━━━━━━\u001b[0m \u001b[32m0.0\/250.0 kB\u001b[0m \u001b[31m?\u001b[0m eta \u001b[36m-:--:--\u001b[0m\r\u001b[2K     \u001b[90m━━━━━━━━━━━━━━━━━━━━━━━━━━━━━━━━━━━━━━\u001b[0m \u001b[32m250.0\/250.0 kB\u001b[0m \u001b[31m16.6 MB\/s\u001b[0m eta \u001b[36m0:00:00\u001b[0m\r\n",
      "\u001b[?25hCollecting et-xmlfile (from openpyxl)\r\n",
      "  Downloading et_xmlfile-1.1.0-py3-none-any.whl (4.7 kB)\r\n",
      "Installing collected packages: et-xmlfile, openpyxl\r\n",
      "Successfully installed et-xmlfile-1.1.0 openpyxl-3.1.2\r\n",
      "\r\n",
      "\u001b[1m[\u001b[0m\u001b[34;49mnotice\u001b[0m\u001b[1;39;49m]\u001b[0m\u001b[39;49m A new release of pip is available: \u001b[0m\u001b[31;49m23.1.2\u001b[0m\u001b[39;49m -> \u001b[0m\u001b[32;49m23.3.1\u001b[0m\r\n",
      "\u001b[1m[\u001b[0m\u001b[34;49mnotice\u001b[0m\u001b[1;39;49m]\u001b[0m\u001b[39;49m To update, run: \u001b[0m\u001b[32;49mpip install --upgrade pip\u001b[0m\r\n"
     ],
     "output_type":"stream"
    }
   ],
   "metadata":{
    "datalore":{
     "node_id":"RSPcRR9oYwc4mAjJcepAc0",
     "type":"CODE",
     "hide_input_from_viewers":false,
     "hide_output_from_viewers":false,
     "report_properties":{
      "rowId":"yDnUZRdNbM8mTn9X47mDZP"
     }
    }
   }
  },
  {
   "cell_type":"code",
   "source":[
    "import pandas as pd\n",
    "import openpyxl\n",
    "\n",
    "data = pd.read_excel(r\"\/data\/notebook_files\/Excel\/Data.xlsx\", index_col= 0, names= [\"Meno\", \"Kontakt\", \"S3\", \"S4\"])\n",
    "data\n",
    "# df_zamestnanci = pd.DataFrame(data, columns = [\"Krstne Meno\", \"Priezvisko\", \"Vyplata\", \"Email\"])\n",
    "# df_zamestnanci"
   ],
   "execution_count":52,
   "outputs":[
    {
     "data":{
      "text\/html":[
       "<div>\n",
       "<style scoped>\n",
       "    .dataframe tbody tr th:only-of-type {\n",
       "        vertical-align: middle;\n",
       "    }\n",
       "\n",
       "    .dataframe tbody tr th {\n",
       "        vertical-align: top;\n",
       "    }\n",
       "\n",
       "    .dataframe thead th {\n",
       "        text-align: right;\n",
       "    }\n",
       "<\/style>\n",
       "<table border=\"1\" class=\"dataframe\">\n",
       "  <thead>\n",
       "    <tr style=\"text-align: right;\">\n",
       "      <th><\/th>\n",
       "      <th>Kontakt<\/th>\n",
       "      <th>S3<\/th>\n",
       "      <th>S4<\/th>\n",
       "    <\/tr>\n",
       "    <tr>\n",
       "      <th>Meno<\/th>\n",
       "      <th><\/th>\n",
       "      <th><\/th>\n",
       "      <th><\/th>\n",
       "    <\/tr>\n",
       "  <\/thead>\n",
       "  <tbody>\n",
       "    <tr>\n",
       "      <th>Adam<\/th>\n",
       "      <td>Sagnala<\/td>\n",
       "      <td>2500<\/td>\n",
       "      <td>a<\/td>\n",
       "    <\/tr>\n",
       "    <tr>\n",
       "      <th>Monika<\/th>\n",
       "      <td>Dlha<\/td>\n",
       "      <td>9600<\/td>\n",
       "      <td>v<\/td>\n",
       "    <\/tr>\n",
       "    <tr>\n",
       "      <th>Peter<\/th>\n",
       "      <td>Rychly<\/td>\n",
       "      <td>1200<\/td>\n",
       "      <td>x<\/td>\n",
       "    <\/tr>\n",
       "  <\/tbody>\n",
       "<\/table>\n",
       "<\/div>"
      ]
     },
     "metadata":{
      
     },
     "output_type":"display_data"
    }
   ],
   "metadata":{
    "datalore":{
     "node_id":"GntjIl9ot3jDv76aNgFwB2",
     "type":"CODE",
     "hide_input_from_viewers":false,
     "hide_output_from_viewers":false,
     "report_properties":{
      "rowId":"DDn7df11BmiRIZOvOfmH3x"
     }
    }
   }
  },
  {
   "cell_type":"markdown",
   "source":[
    "# Výber dát (Data Slice)"
   ],
   "attachments":{
    
   },
   "metadata":{
    "datalore":{
     "node_id":"5HoZ0QGwk1JBYDSwlnH71c",
     "type":"MD",
     "hide_input_from_viewers":false,
     "hide_output_from_viewers":false,
     "report_properties":{
      "rowId":"S0Db82KeEH6AMyZTsAzoNq"
     }
    }
   }
  },
  {
   "cell_type":"code",
   "source":[
    " "
   ],
   "execution_count":4,
   "outputs":[
    {
     "name":"stdout",
     "text":[
      " Pocet poloziek v Dataframe: 10\n",
      "Prve 3 zaznamy\/riadok: \n",
      "\n"
     ],
     "output_type":"stream"
    },
    {
     "name":"stderr",
     "text":[
      "\n"
     ],
     "output_type":"stream"
    },
    {
     "data":{
      "text\/html":[
       "<div>\n",
       "<style scoped>\n",
       "    .dataframe tbody tr th:only-of-type {\n",
       "        vertical-align: middle;\n",
       "    }\n",
       "\n",
       "    .dataframe tbody tr th {\n",
       "        vertical-align: top;\n",
       "    }\n",
       "\n",
       "    .dataframe thead th {\n",
       "        text-align: right;\n",
       "    }\n",
       "<\/style>\n",
       "<table border=\"1\" class=\"dataframe\">\n",
       "  <thead>\n",
       "    <tr style=\"text-align: right;\">\n",
       "      <th><\/th>\n",
       "      <th>mena<\/th>\n",
       "      <th>vek<\/th>\n",
       "    <\/tr>\n",
       "  <\/thead>\n",
       "  <tbody>\n",
       "    <tr>\n",
       "      <th>0<\/th>\n",
       "      <td>Peter<\/td>\n",
       "      <td>35.0<\/td>\n",
       "    <\/tr>\n",
       "    <tr>\n",
       "      <th>1<\/th>\n",
       "      <td>Jarmila<\/td>\n",
       "      <td>28.0<\/td>\n",
       "    <\/tr>\n",
       "  <\/tbody>\n",
       "<\/table>\n",
       "<\/div>"
      ]
     },
     "metadata":{
      
     },
     "output_type":"display_data"
    }
   ],
   "metadata":{
    "datalore":{
     "node_id":"1P7A1zZojQvF7Z5hcKNVzY",
     "type":"CODE",
     "hide_input_from_viewers":false,
     "hide_output_from_viewers":false,
     "report_properties":{
      "rowId":"OtQfIcnqT3bqgAGqS1GBrC"
     }
    }
   }
  },
  {
   "cell_type":"code",
   "source":[
    " "
   ],
   "execution_count":153,
   "outputs":[
    {
     "name":"stdout",
     "text":[
      "Posledne 3 zaznamy\/riadok: \n",
      "\n"
     ],
     "output_type":"stream"
    },
    {
     "name":"stderr",
     "text":[
      "\n"
     ],
     "output_type":"stream"
    },
    {
     "data":{
      "text\/html":[
       "<div>\n",
       "<style scoped>\n",
       "    .dataframe tbody tr th:only-of-type {\n",
       "        vertical-align: middle;\n",
       "    }\n",
       "\n",
       "    .dataframe tbody tr th {\n",
       "        vertical-align: top;\n",
       "    }\n",
       "\n",
       "    .dataframe thead th {\n",
       "        text-align: right;\n",
       "    }\n",
       "<\/style>\n",
       "<table border=\"1\" class=\"dataframe\">\n",
       "  <thead>\n",
       "    <tr style=\"text-align: right;\">\n",
       "      <th><\/th>\n",
       "      <th>mena<\/th>\n",
       "      <th>vek<\/th>\n",
       "    <\/tr>\n",
       "  <\/thead>\n",
       "  <tbody>\n",
       "    <tr>\n",
       "      <th>2<\/th>\n",
       "      <td>Jana<\/td>\n",
       "      <td>21<\/td>\n",
       "    <\/tr>\n",
       "    <tr>\n",
       "      <th>3<\/th>\n",
       "      <td>Veronika<\/td>\n",
       "      <td>32<\/td>\n",
       "    <\/tr>\n",
       "  <\/tbody>\n",
       "<\/table>\n",
       "<\/div>"
      ]
     },
     "metadata":{
      
     },
     "output_type":"display_data"
    }
   ],
   "metadata":{
    "datalore":{
     "node_id":"v5HQibd84Iki0MQpQCNlin",
     "type":"CODE",
     "hide_input_from_viewers":false,
     "hide_output_from_viewers":false,
     "report_properties":{
      "rowId":"ODTjgljc4F3gclXmhwTVSu"
     }
    }
   }
  },
  {
   "cell_type":"code",
   "source":[
    " "
   ],
   "execution_count":155,
   "outputs":[
    {
     "name":"stdout",
     "text":[
      "<class 'pandas.core.frame.DataFrame'>\n",
      "RangeIndex: 4 entries, 0 to 3\n",
      "Data columns (total 2 columns):\n",
      " #   Column  Non-Null Count  Dtype \n",
      "---  ------  --------------  ----- \n",
      " 0   mena    4 non-null      object\n",
      " 1   vek     4 non-null      int64 \n",
      "dtypes: int64(1), object(1)\n",
      "memory usage: 192.0+ bytes\n",
      "\n"
     ],
     "output_type":"stream"
    },
    {
     "name":"stderr",
     "text":[
      "\n"
     ],
     "output_type":"stream"
    },
    {
     "data":{
      "text\/plain":[
       "pandas.core.frame.DataFrame"
      ]
     },
     "metadata":{
      
     },
     "output_type":"display_data"
    }
   ],
   "metadata":{
    "datalore":{
     "node_id":"UnvWou8NxxZW6dMV1xk219",
     "type":"CODE",
     "hide_input_from_viewers":false,
     "hide_output_from_viewers":false,
     "report_properties":{
      "rowId":"U8WIV4tF0QEKHBplKZyDbc"
     }
    }
   }
  },
  {
   "cell_type":"code",
   "source":[
    " "
   ],
   "execution_count":159,
   "outputs":[
    {
     "data":{
      "text\/html":[
       "<pre>mena    5\n",
       "vek     4\n",
       "dtype: int64<\/pre>"
      ]
     },
     "metadata":{
      
     },
     "output_type":"display_data"
    }
   ],
   "metadata":{
    "datalore":{
     "node_id":"2IJYs6RtViDEGlq7cHblsB",
     "type":"CODE",
     "hide_input_from_viewers":false,
     "hide_output_from_viewers":false,
     "report_properties":{
      "rowId":"9nUi8dnJaJs1hA8dxPH3Hl"
     }
    }
   }
  },
  {
   "cell_type":"code",
   "source":[
    " "
   ],
   "execution_count":165,
   "outputs":[
    {
     "name":"stdout",
     "text":[
      "vek    29.0\n",
      "dtype: float64\n",
      "mena    Veronika\n",
      "vek         35.0\n",
      "dtype: object\n",
      "\n"
     ],
     "output_type":"stream"
    },
    {
     "name":"stderr",
     "text":[
      "\n",
      "<ipython-input-165-8ebff90eb94d>:1: FutureWarning: Dropping of nuisance columns in DataFrame reductions (with 'numeric_only=None') is deprecated; in a future version this will raise TypeError.  Select only valid columns before calling the reduction.\n",
      "  print(df_studenti.mean())\n"
     ],
     "output_type":"stream"
    }
   ],
   "metadata":{
    "datalore":{
     "node_id":"pQmtJsPnb8ApenFGUmaiGM",
     "type":"CODE",
     "hide_input_from_viewers":false,
     "hide_output_from_viewers":false,
     "report_properties":{
      "rowId":"PFqY3pQMHxzDThg6JKK739"
     }
    }
   }
  },
  {
   "cell_type":"code",
   "source":[
    " "
   ],
   "execution_count":167,
   "outputs":[
    {
     "data":{
      "text\/html":[
       "<div>\n",
       "<style scoped>\n",
       "    .dataframe tbody tr th:only-of-type {\n",
       "        vertical-align: middle;\n",
       "    }\n",
       "\n",
       "    .dataframe tbody tr th {\n",
       "        vertical-align: top;\n",
       "    }\n",
       "\n",
       "    .dataframe thead th {\n",
       "        text-align: right;\n",
       "    }\n",
       "<\/style>\n",
       "<table border=\"1\" class=\"dataframe\">\n",
       "  <thead>\n",
       "    <tr style=\"text-align: right;\">\n",
       "      <th><\/th>\n",
       "      <th>date<\/th>\n",
       "      <th>visitors<\/th>\n",
       "      <th>pageviews<\/th>\n",
       "      <th>visits<\/th>\n",
       "      <th>views_per_visit<\/th>\n",
       "      <th>bounce_rate<\/th>\n",
       "      <th>visit_duration<\/th>\n",
       "    <\/tr>\n",
       "  <\/thead>\n",
       "  <tbody>\n",
       "    <tr>\n",
       "      <th>0<\/th>\n",
       "      <td>2023-03-13<\/td>\n",
       "      <td>2068<\/td>\n",
       "      <td>6742<\/td>\n",
       "      <td>2430<\/td>\n",
       "      <td>2.77<\/td>\n",
       "      <td>63<\/td>\n",
       "      <td>198<\/td>\n",
       "    <\/tr>\n",
       "    <tr>\n",
       "      <th>1<\/th>\n",
       "      <td>2023-03-14<\/td>\n",
       "      <td>1990<\/td>\n",
       "      <td>6332<\/td>\n",
       "      <td>2252<\/td>\n",
       "      <td>2.81<\/td>\n",
       "      <td>61<\/td>\n",
       "      <td>193<\/td>\n",
       "    <\/tr>\n",
       "    <tr>\n",
       "      <th>2<\/th>\n",
       "      <td>2023-03-15<\/td>\n",
       "      <td>1976<\/td>\n",
       "      <td>6125<\/td>\n",
       "      <td>2279<\/td>\n",
       "      <td>2.69<\/td>\n",
       "      <td>62<\/td>\n",
       "      <td>199<\/td>\n",
       "    <\/tr>\n",
       "    <tr>\n",
       "      <th>3<\/th>\n",
       "      <td>2023-03-16<\/td>\n",
       "      <td>1894<\/td>\n",
       "      <td>6710<\/td>\n",
       "      <td>2261<\/td>\n",
       "      <td>2.97<\/td>\n",
       "      <td>62<\/td>\n",
       "      <td>204<\/td>\n",
       "    <\/tr>\n",
       "    <tr>\n",
       "      <th>4<\/th>\n",
       "      <td>2023-03-17<\/td>\n",
       "      <td>1465<\/td>\n",
       "      <td>5008<\/td>\n",
       "      <td>1717<\/td>\n",
       "      <td>2.91<\/td>\n",
       "      <td>62<\/td>\n",
       "      <td>182<\/td>\n",
       "    <\/tr>\n",
       "    <tr>\n",
       "      <th>5<\/th>\n",
       "      <td>2023-03-18<\/td>\n",
       "      <td>893<\/td>\n",
       "      <td>1820<\/td>\n",
       "      <td>967<\/td>\n",
       "      <td>1.88<\/td>\n",
       "      <td>73<\/td>\n",
       "      <td>79<\/td>\n",
       "    <\/tr>\n",
       "    <tr>\n",
       "      <th>6<\/th>\n",
       "      <td>2023-03-19<\/td>\n",
       "      <td>953<\/td>\n",
       "      <td>2058<\/td>\n",
       "      <td>1039<\/td>\n",
       "      <td>1.98<\/td>\n",
       "      <td>72<\/td>\n",
       "      <td>94<\/td>\n",
       "    <\/tr>\n",
       "    <tr>\n",
       "      <th>7<\/th>\n",
       "      <td>2023-03-20<\/td>\n",
       "      <td>1958<\/td>\n",
       "      <td>6095<\/td>\n",
       "      <td>2242<\/td>\n",
       "      <td>2.72<\/td>\n",
       "      <td>63<\/td>\n",
       "      <td>183<\/td>\n",
       "    <\/tr>\n",
       "    <tr>\n",
       "      <th>8<\/th>\n",
       "      <td>2023-03-21<\/td>\n",
       "      <td>2073<\/td>\n",
       "      <td>6315<\/td>\n",
       "      <td>2414<\/td>\n",
       "      <td>2.61<\/td>\n",
       "      <td>63<\/td>\n",
       "      <td>151<\/td>\n",
       "    <\/tr>\n",
       "    <tr>\n",
       "      <th>9<\/th>\n",
       "      <td>2023-03-22<\/td>\n",
       "      <td>2013<\/td>\n",
       "      <td>6321<\/td>\n",
       "      <td>2311<\/td>\n",
       "      <td>2.73<\/td>\n",
       "      <td>63<\/td>\n",
       "      <td>171<\/td>\n",
       "    <\/tr>\n",
       "    <tr>\n",
       "      <th>10<\/th>\n",
       "      <td>2023-03-23<\/td>\n",
       "      <td>2123<\/td>\n",
       "      <td>6352<\/td>\n",
       "      <td>2447<\/td>\n",
       "      <td>2.60<\/td>\n",
       "      <td>64<\/td>\n",
       "      <td>157<\/td>\n",
       "    <\/tr>\n",
       "    <tr>\n",
       "      <th>11<\/th>\n",
       "      <td>2023-03-24<\/td>\n",
       "      <td>1701<\/td>\n",
       "      <td>5135<\/td>\n",
       "      <td>1990<\/td>\n",
       "      <td>2.57<\/td>\n",
       "      <td>64<\/td>\n",
       "      <td>160<\/td>\n",
       "    <\/tr>\n",
       "    <tr>\n",
       "      <th>12<\/th>\n",
       "      <td>2023-03-25<\/td>\n",
       "      <td>1076<\/td>\n",
       "      <td>2374<\/td>\n",
       "      <td>1176<\/td>\n",
       "      <td>2.02<\/td>\n",
       "      <td>67<\/td>\n",
       "      <td>83<\/td>\n",
       "    <\/tr>\n",
       "    <tr>\n",
       "      <th>13<\/th>\n",
       "      <td>2023-03-26<\/td>\n",
       "      <td>1152<\/td>\n",
       "      <td>2454<\/td>\n",
       "      <td>1239<\/td>\n",
       "      <td>1.98<\/td>\n",
       "      <td>71<\/td>\n",
       "      <td>69<\/td>\n",
       "    <\/tr>\n",
       "    <tr>\n",
       "      <th>14<\/th>\n",
       "      <td>2023-03-27<\/td>\n",
       "      <td>2118<\/td>\n",
       "      <td>7209<\/td>\n",
       "      <td>2419<\/td>\n",
       "      <td>2.97<\/td>\n",
       "      <td>61<\/td>\n",
       "      <td>176<\/td>\n",
       "    <\/tr>\n",
       "    <tr>\n",
       "      <th>15<\/th>\n",
       "      <td>2023-03-28<\/td>\n",
       "      <td>2015<\/td>\n",
       "      <td>6146<\/td>\n",
       "      <td>2262<\/td>\n",
       "      <td>2.50<\/td>\n",
       "      <td>62<\/td>\n",
       "      <td>134<\/td>\n",
       "    <\/tr>\n",
       "    <tr>\n",
       "      <th>16<\/th>\n",
       "      <td>2023-03-29<\/td>\n",
       "      <td>1954<\/td>\n",
       "      <td>6615<\/td>\n",
       "      <td>2308<\/td>\n",
       "      <td>2.86<\/td>\n",
       "      <td>62<\/td>\n",
       "      <td>160<\/td>\n",
       "    <\/tr>\n",
       "    <tr>\n",
       "      <th>17<\/th>\n",
       "      <td>2023-03-30<\/td>\n",
       "      <td>1960<\/td>\n",
       "      <td>6232<\/td>\n",
       "      <td>2256<\/td>\n",
       "      <td>2.76<\/td>\n",
       "      <td>62<\/td>\n",
       "      <td>145<\/td>\n",
       "    <\/tr>\n",
       "    <tr>\n",
       "      <th>18<\/th>\n",
       "      <td>2023-03-31<\/td>\n",
       "      <td>1685<\/td>\n",
       "      <td>5392<\/td>\n",
       "      <td>1940<\/td>\n",
       "      <td>2.78<\/td>\n",
       "      <td>64<\/td>\n",
       "      <td>158<\/td>\n",
       "    <\/tr>\n",
       "    <tr>\n",
       "      <th>19<\/th>\n",
       "      <td>2023-04-01<\/td>\n",
       "      <td>1144<\/td>\n",
       "      <td>2386<\/td>\n",
       "      <td>1224<\/td>\n",
       "      <td>1.95<\/td>\n",
       "      <td>71<\/td>\n",
       "      <td>63<\/td>\n",
       "    <\/tr>\n",
       "    <tr>\n",
       "      <th>20<\/th>\n",
       "      <td>2023-04-02<\/td>\n",
       "      <td>1451<\/td>\n",
       "      <td>3472<\/td>\n",
       "      <td>1580<\/td>\n",
       "      <td>2.20<\/td>\n",
       "      <td>69<\/td>\n",
       "      <td>95<\/td>\n",
       "    <\/tr>\n",
       "    <tr>\n",
       "      <th>21<\/th>\n",
       "      <td>2023-04-03<\/td>\n",
       "      <td>2228<\/td>\n",
       "      <td>7731<\/td>\n",
       "      <td>2608<\/td>\n",
       "      <td>2.48<\/td>\n",
       "      <td>61<\/td>\n",
       "      <td>131<\/td>\n",
       "    <\/tr>\n",
       "    <tr>\n",
       "      <th>22<\/th>\n",
       "      <td>2023-04-04<\/td>\n",
       "      <td>3456<\/td>\n",
       "      <td>10873<\/td>\n",
       "      <td>4109<\/td>\n",
       "      <td>2.42<\/td>\n",
       "      <td>68<\/td>\n",
       "      <td>180<\/td>\n",
       "    <\/tr>\n",
       "    <tr>\n",
       "      <th>23<\/th>\n",
       "      <td>2023-04-05<\/td>\n",
       "      <td>1104<\/td>\n",
       "      <td>9656<\/td>\n",
       "      <td>2014<\/td>\n",
       "      <td>5.00<\/td>\n",
       "      <td>52<\/td>\n",
       "      <td>459<\/td>\n",
       "    <\/tr>\n",
       "    <tr>\n",
       "      <th>24<\/th>\n",
       "      <td>2023-04-06<\/td>\n",
       "      <td>1304<\/td>\n",
       "      <td>8717<\/td>\n",
       "      <td>2208<\/td>\n",
       "      <td>3.63<\/td>\n",
       "      <td>46<\/td>\n",
       "      <td>412<\/td>\n",
       "    <\/tr>\n",
       "    <tr>\n",
       "      <th>25<\/th>\n",
       "      <td>2023-04-07<\/td>\n",
       "      <td>1844<\/td>\n",
       "      <td>11852<\/td>\n",
       "      <td>3333<\/td>\n",
       "      <td>3.25<\/td>\n",
       "      <td>35<\/td>\n",
       "      <td>442<\/td>\n",
       "    <\/tr>\n",
       "    <tr>\n",
       "      <th>26<\/th>\n",
       "      <td>2023-04-08<\/td>\n",
       "      <td>1316<\/td>\n",
       "      <td>6744<\/td>\n",
       "      <td>2265<\/td>\n",
       "      <td>3.39<\/td>\n",
       "      <td>41<\/td>\n",
       "      <td>412<\/td>\n",
       "    <\/tr>\n",
       "    <tr>\n",
       "      <th>27<\/th>\n",
       "      <td>2023-04-09<\/td>\n",
       "      <td>1168<\/td>\n",
       "      <td>6007<\/td>\n",
       "      <td>1931<\/td>\n",
       "      <td>3.55<\/td>\n",
       "      <td>47<\/td>\n",
       "      <td>396<\/td>\n",
       "    <\/tr>\n",
       "    <tr>\n",
       "      <th>28<\/th>\n",
       "      <td>2023-04-10<\/td>\n",
       "      <td>1229<\/td>\n",
       "      <td>5910<\/td>\n",
       "      <td>1984<\/td>\n",
       "      <td>2.73<\/td>\n",
       "      <td>46<\/td>\n",
       "      <td>364<\/td>\n",
       "    <\/tr>\n",
       "    <tr>\n",
       "      <th>29<\/th>\n",
       "      <td>2023-04-11<\/td>\n",
       "      <td>1101<\/td>\n",
       "      <td>11671<\/td>\n",
       "      <td>1974<\/td>\n",
       "      <td>6.00<\/td>\n",
       "      <td>44<\/td>\n",
       "      <td>584<\/td>\n",
       "    <\/tr>\n",
       "    <tr>\n",
       "      <th>30<\/th>\n",
       "      <td>2023-04-12<\/td>\n",
       "      <td>293<\/td>\n",
       "      <td>2215<\/td>\n",
       "      <td>412<\/td>\n",
       "      <td>7.13<\/td>\n",
       "      <td>52<\/td>\n",
       "      <td>619<\/td>\n",
       "    <\/tr>\n",
       "  <\/tbody>\n",
       "<\/table>\n",
       "<\/div>"
      ]
     },
     "metadata":{
      
     },
     "output_type":"display_data"
    }
   ],
   "metadata":{
    "datalore":{
     "node_id":"KSyKQhAph3OOe8L7vnMfms",
     "type":"CODE",
     "hide_input_from_viewers":false,
     "hide_output_from_viewers":false,
     "report_properties":{
      "rowId":"FMUGO3BhTNVzCt2y6deLRi"
     }
    }
   }
  },
  {
   "cell_type":"code",
   "source":[
    "from lets_plot import * \n",
    "ggplot() + \\\n",
    "geom_line(aes(x=\"date\", y=\"bounce_rate\"), data=df_navstevnici_web_ba1, sampling=\"none\" if df_navstevnici_web_ba1.size < 2500 else sampling_systematic(n=2500)) + \\\n",
    "ggtitle(\"Chart\") "
   ],
   "execution_count":169,
   "outputs":[
    {
     "data":{
      "text\/html":[
       "<html lang=\"en\">\n",
       "   <head>\n",
       "       <script type=\"text\/javascript\" data-lets-plot-script=\"library\" src=\"https:\/\/cdn.jsdelivr.net\/gh\/JetBrains\/lets-plot@v3.1.0\/js-package\/distr\/lets-plot.min.js\"><\/script>\n",
       "   <\/head>\n",
       "   <body>\n",
       "          <div id=\"zzLNKX\"><\/div>\n",
       "   <script type=\"text\/javascript\" data-lets-plot-script=\"plot\">\n",
       "       var plotSpec={\n",
       "\"mapping\":{\n",
       "},\n",
       "\"data_meta\":{\n",
       "},\n",
       "\"ggtitle\":{\n",
       "\"text\":\"Chart\"\n",
       "},\n",
       "\"kind\":\"plot\",\n",
       "\"scales\":[],\n",
       "\"layers\":[{\n",
       "\"geom\":\"line\",\n",
       "\"data\":{\n",
       "\"date\":[\"2023-03-13\",\"2023-03-14\",\"2023-03-15\",\"2023-03-16\",\"2023-03-17\",\"2023-03-18\",\"2023-03-19\",\"2023-03-20\",\"2023-03-21\",\"2023-03-22\",\"2023-03-23\",\"2023-03-24\",\"2023-03-25\",\"2023-03-26\",\"2023-03-27\",\"2023-03-28\",\"2023-03-29\",\"2023-03-30\",\"2023-03-31\",\"2023-04-01\",\"2023-04-02\",\"2023-04-03\",\"2023-04-04\",\"2023-04-05\",\"2023-04-06\",\"2023-04-07\",\"2023-04-08\",\"2023-04-09\",\"2023-04-10\",\"2023-04-11\",\"2023-04-12\"],\n",
       "\"bounce_rate\":[63.0,61.0,62.0,62.0,62.0,73.0,72.0,63.0,63.0,63.0,64.0,64.0,67.0,71.0,61.0,62.0,62.0,62.0,64.0,71.0,69.0,61.0,68.0,52.0,46.0,35.0,41.0,47.0,46.0,44.0,52.0]\n",
       "},\n",
       "\"mapping\":{\n",
       "\"x\":\"date\",\n",
       "\"y\":\"bounce_rate\"\n",
       "},\n",
       "\"sampling\":\"none\",\n",
       "\"data_meta\":{\n",
       "}\n",
       "}],\n",
       "\"metainfo_list\":[]\n",
       "};\n",
       "       var plotContainer = document.getElementById(\"zzLNKX\");\n",
       "       LetsPlot.buildPlotFromProcessedSpecs(plotSpec, -1, -1, plotContainer);\n",
       "   <\/script>\n",
       "   <\/body>\n",
       "<\/html>"
      ]
     },
     "metadata":{
      
     },
     "output_type":"display_data"
    }
   ],
   "metadata":{
    "datalore":{
     "node_id":"S3PEIJPze8GzZehLpyjKdi",
     "type":"PLOT",
     "hide_input_from_viewers":false,
     "hide_output_from_viewers":false,
     "report_properties":{
      "rowId":"RgqbOcIgNklcFGM46c39fN"
     },
     "plot_state":{
      "label":"Chart",
      "sampling":true,
      "reactive":true,
      "plots":[
       {
        "type":"LINE",
        "variable":"df_navstevnici_web_ba1",
        "xAxis":{
         "label":"",
         "value":"date",
         "scale":"NONE"
        },
        "yAxis":{
         "label":"",
         "value":"bounce_rate",
         "scale":"NONE"
        },
        "colorAxis":{
         "label":"",
         "scale":"NONE"
        }
       }
      ]
     }
    }
   }
  },
  {
   "cell_type":"code",
   "source":[
    " "
   ],
   "execution_count":168,
   "outputs":[
    {
     "data":{
      "text\/html":[
       "<html lang=\"en\">\n",
       "   <head>\n",
       "       <script type=\"text\/javascript\" data-lets-plot-script=\"library\" src=\"https:\/\/cdn.jsdelivr.net\/gh\/JetBrains\/lets-plot@v3.1.0\/js-package\/distr\/lets-plot.min.js\"><\/script>\n",
       "   <\/head>\n",
       "   <body>\n",
       "          <div id=\"W1U7af\"><\/div>\n",
       "   <script type=\"text\/javascript\" data-lets-plot-script=\"plot\">\n",
       "       var plotSpec={\n",
       "\"data\":{\n",
       "\"date\":[\"2023-03-13\",\"2023-03-14\",\"2023-03-15\",\"2023-03-16\",\"2023-03-17\",\"2023-03-18\",\"2023-03-19\",\"2023-03-20\",\"2023-03-21\",\"2023-03-22\",\"2023-03-23\",\"2023-03-24\",\"2023-03-25\",\"2023-03-26\",\"2023-03-27\",\"2023-03-28\",\"2023-03-29\",\"2023-03-30\",\"2023-03-31\",\"2023-04-01\",\"2023-04-02\",\"2023-04-03\",\"2023-04-04\",\"2023-04-05\",\"2023-04-06\",\"2023-04-07\",\"2023-04-08\",\"2023-04-09\",\"2023-04-10\",\"2023-04-11\",\"2023-04-12\"],\n",
       "\"bounce_rate\":[63.0,61.0,62.0,62.0,62.0,73.0,72.0,63.0,63.0,63.0,64.0,64.0,67.0,71.0,61.0,62.0,62.0,62.0,64.0,71.0,69.0,61.0,68.0,52.0,46.0,35.0,41.0,47.0,46.0,44.0,52.0]\n",
       "},\n",
       "\"mapping\":{\n",
       "},\n",
       "\"data_meta\":{\n",
       "},\n",
       "\"kind\":\"plot\",\n",
       "\"scales\":[],\n",
       "\"layers\":[{\n",
       "\"geom\":\"line\",\n",
       "\"mapping\":{\n",
       "\"x\":\"date\",\n",
       "\"y\":\"bounce_rate\"\n",
       "},\n",
       "\"data_meta\":{\n",
       "},\n",
       "\"data\":{\n",
       "}\n",
       "}],\n",
       "\"metainfo_list\":[]\n",
       "};\n",
       "       var plotContainer = document.getElementById(\"W1U7af\");\n",
       "       LetsPlot.buildPlotFromProcessedSpecs(plotSpec, -1, -1, plotContainer);\n",
       "   <\/script>\n",
       "   <\/body>\n",
       "<\/html>"
      ]
     },
     "metadata":{
      
     },
     "output_type":"display_data"
    }
   ],
   "metadata":{
    "datalore":{
     "node_id":"Qg7B4YlQlD1gsTyClwdSIa",
     "type":"CODE",
     "hide_input_from_viewers":false,
     "hide_output_from_viewers":false,
     "report_properties":{
      "rowId":"6V665QJ9YOu9wzx7OCKIhb"
     }
    }
   }
  },
  {
   "cell_type":"markdown",
   "source":[
    "# Matplotlib"
   ],
   "attachments":{
    
   },
   "metadata":{
    "datalore":{
     "node_id":"Matplotlib",
     "type":"MD",
     "hide_input_from_viewers":false,
     "hide_output_from_viewers":false,
     "sheet_delimiter":true
    }
   }
  },
  {
   "cell_type":"markdown",
   "source":[
    "# Matplotlib "
   ],
   "attachments":{
    
   },
   "metadata":{
    "datalore":{
     "node_id":"WZ3w2FjnrSpk4oPBkmkyDp",
     "type":"MD",
     "hide_input_from_viewers":false,
     "hide_output_from_viewers":false,
     "report_properties":{
      "rowId":"myhhnezgQ0zvYlWpblthei"
     }
    }
   }
  },
  {
   "cell_type":"code",
   "source":[
    "# 1. Inicializacia kniznic\/modul\n",
    "import matplotlib.pyplot as plt\n",
    "import numpy as np\n",
    "\n",
    "# 2. Priprava dat\/stiahnutie dat\/ziskanie dat\n",
    "x = np.linspace(0, 4 * np.pi, 100)\n",
    "y = np.cos(x)\n",
    "\n",
    "# 3. Render\/Vykreslenie grafu\n",
    "fig, ax = plt.subplots()\n",
    "# RGB, CMYK, HSV, HSL\n",
    "# 0-255\n",
    "ax.plot(x,y, color = \"#ff007e\", marker = \"^\")\n",
    "# ax.plot(x,y, color = \"#ff007e\", ls = \"--\", linewidth = 1, marker = \"o\")\n",
    "ax.set_title(\"Zavislost veku od mojej inteligencie\")\n",
    "ax.set_xlabel(\"Vek [roky]\")\n",
    "ax.set_ylabel(\"Inteligencia [IQ Body]\")\n",
    "plt.show()\n",
    "\n",
    "# 4. Export\/ulozenie grafu\n",
    "fig.savefig(\"graf.png\")\n",
    "fig.savefig(\"graf.pdf\")"
   ],
   "execution_count":116,
   "outputs":[
    {
     "data":{
      "image\/png":"[encoded data removed]"
     },
     "metadata":{
      "image\/png":{
       
      }
     },
     "output_type":"display_data"
    }
   ],
   "metadata":{
    "datalore":{
     "node_id":"CYT4zYZFuVOkkz2EfqffMi",
     "type":"CODE",
     "hide_input_from_viewers":false,
     "hide_output_from_viewers":false,
     "report_properties":{
      "rowId":"y4aNfeuepxv0VtxamAA5vR"
     }
    }
   }
  },
  {
   "cell_type":"code",
   "source":[
    "# 1. Inicializacia kniznic\/modul\n",
    "import matplotlib.pyplot as plt\n",
    "import numpy as np\n",
    "\n",
    "# 2. Priprava dat\/stiahnutie dat\/ziskanie dat\/generovanie dat\n",
    "x = np.random.uniform(0, 1, 10)\n",
    "y = np.random.uniform(0, 1, 10)\n",
    "\n",
    "fig, ax = plt.subplots()\n",
    "ax.scatter(x,y)  \n",
    "plt.show()"
   ],
   "execution_count":19,
   "outputs":[
    {
     "data":{
      "image\/png":"[encoded data removed]"
     },
     "metadata":{
      "image\/png":{
       
      }
     },
     "output_type":"display_data"
    }
   ],
   "metadata":{
    "datalore":{
     "node_id":"Fqz0DhKsu9hFJm7o1mZyBI",
     "type":"CODE",
     "hide_input_from_viewers":false,
     "hide_output_from_viewers":false,
     "report_properties":{
      "rowId":"micetiPPogLZ8yu6ioRsxF"
     }
    }
   }
  },
  {
   "cell_type":"code",
   "source":[
    "# 1. Inicializacia kniznic\/modul\n",
    "import matplotlib.pyplot as plt\n",
    "import numpy as np\n",
    "\n",
    "# 2. Priprava dat\/stiahnutie dat\/ziskanie dat\/generovanie dat\n",
    "x = np.arange(10)\n",
    "y = np.random.uniform(1, 10, 10)\n",
    "\n",
    "fig, ax = plt.subplots()\n",
    "ax.bar(x, y)\n",
    "plt.show()"
   ],
   "execution_count":46,
   "outputs":[
    {
     "data":{
      "image\/png":"[encoded data removed]"
     },
     "metadata":{
      "image\/png":{
       
      }
     },
     "output_type":"display_data"
    }
   ],
   "metadata":{
    "datalore":{
     "node_id":"s8cLF1h4te4thAMlywe1M8",
     "type":"CODE",
     "hide_input_from_viewers":false,
     "hide_output_from_viewers":false,
     "report_properties":{
      "rowId":"jBbIE1LidcCwStSAPH686f"
     }
    }
   }
  },
  {
   "cell_type":"code",
   "source":[
    "# 1. Inicializacia kniznic\/modul\n",
    "import matplotlib.pyplot as plt\n",
    "import numpy as np\n",
    "\n",
    "# 2. Priprava dat\/stiahnutie dat\/ziskanie dat\/generovanie dat\n",
    "x = np.random.uniform(0,1,4)\n",
    "fig, ax = plt.subplots()\n",
    "ax.pie(x)\n",
    "plt.show()"
   ],
   "execution_count":57,
   "outputs":[
    {
     "data":{
      "image\/png":"[encoded data removed]"
     },
     "metadata":{
      "image\/png":{
       
      }
     },
     "output_type":"display_data"
    }
   ],
   "metadata":{
    "datalore":{
     "node_id":"JZOrxy7tubJoVnYIevByyx",
     "type":"CODE",
     "hide_input_from_viewers":false,
     "hide_output_from_viewers":false,
     "report_properties":{
      "rowId":"FHLb1t5D4UzHBPFKU8z9be"
     }
    }
   }
  },
  {
   "cell_type":"code",
   "source":[
    "# 1. Inicializacia kniznic\/modul\n",
    "import matplotlib.pyplot as plt\n",
    "import numpy as np\n",
    "\n",
    "# 2. Priprava dat\/stiahnutie dat\/ziskanie dat\/generovanie dat\n",
    "x = np.random.normal(50, 10, 10000)\n",
    "\n",
    "fig, ax = plt.subplots()\n",
    "ax.hist(x)\n",
    "plt.show()"
   ],
   "execution_count":63,
   "outputs":[
    {
     "data":{
      "image\/png":"[encoded data removed]"
     },
     "metadata":{
      "image\/png":{
       
      }
     },
     "output_type":"display_data"
    }
   ],
   "metadata":{
    "datalore":{
     "node_id":"eiWOFgohjKkg27dWDjVvfR",
     "type":"CODE",
     "hide_input_from_viewers":false,
     "hide_output_from_viewers":false,
     "report_properties":{
      "rowId":"HILTdb7mG4v80s6SHesxY7"
     }
    }
   }
  },
  {
   "cell_type":"code",
   "source":[
    "# 1. Inicializacia kniznic\/modul\n",
    "import matplotlib.pyplot as plt\n",
    "import numpy as np\n",
    "\n",
    "# 2. Priprava dat\/stiahnutie dat\/ziskanie dat\/generovanie dat\n",
    "x = np.random.normal(0, 1, (100,2))\n",
    "\n",
    "fig, ax = plt.subplots()\n",
    "ax.boxplot(x)\n",
    "plt.show()"
   ],
   "execution_count":66,
   "outputs":[
    {
     "data":{
      "image\/png":"[encoded data removed]"
     },
     "metadata":{
      "image\/png":{
       
      }
     },
     "output_type":"display_data"
    }
   ],
   "metadata":{
    "datalore":{
     "node_id":"sUuqFI2FJ6QVK7amQNKCbj",
     "type":"CODE",
     "hide_input_from_viewers":false,
     "hide_output_from_viewers":false,
     "report_properties":{
      "rowId":"piFepyW9JQBjGesRNWdPHa"
     }
    }
   }
  },
  {
   "cell_type":"markdown",
   "source":[
    "# Loc (Location) Umiestnenie title"
   ],
   "attachments":{
    
   },
   "metadata":{
    "datalore":{
     "node_id":"M4szRJMM42JbIK04dMFwCo",
     "type":"MD",
     "hide_input_from_viewers":false,
     "hide_output_from_viewers":false,
     "report_properties":{
      "rowId":"X6nqi3oJwt16DJftTl0Z0q"
     }
    }
   }
  },
  {
   "cell_type":"code",
   "source":[
    " "
   ],
   "execution_count":49,
   "outputs":[
    {
     "data":{
      "image\/png":"[encoded data removed]"
     },
     "metadata":{
      "image\/png":{
       
      }
     },
     "output_type":"display_data"
    }
   ],
   "metadata":{
    "datalore":{
     "node_id":"li3nQ6BRP7RdJzCIGD2OT9",
     "type":"CODE",
     "hide_input_from_viewers":false,
     "hide_output_from_viewers":false,
     "report_properties":{
      "rowId":"05Cu7Nw9CpGsa9aW93eKFA"
     }
    }
   }
  },
  {
   "cell_type":"markdown",
   "source":[
    "# Fontsize, Color, Style - Veľkosť, farba, štýl textu"
   ],
   "attachments":{
    
   },
   "metadata":{
    "datalore":{
     "node_id":"v4AkIRfBMDsNIn0Pw2KOuo",
     "type":"MD",
     "hide_input_from_viewers":false,
     "hide_output_from_viewers":false,
     "report_properties":{
      "rowId":"CJU41iHhNU085OV3ueY0PG"
     }
    }
   }
  },
  {
   "cell_type":"code",
   "source":[
    " "
   ],
   "execution_count":59,
   "outputs":[
    {
     "data":{
      "image\/png":"[encoded data removed]"
     },
     "metadata":{
      "image\/png":{
       
      }
     },
     "output_type":"display_data"
    }
   ],
   "metadata":{
    "datalore":{
     "node_id":"Jia3CatgVFtyxN0elofPY2",
     "type":"CODE",
     "hide_input_from_viewers":false,
     "hide_output_from_viewers":false,
     "report_properties":{
      "rowId":"OOGPy5OMyaVQSFQgwsNSSK"
     }
    }
   }
  },
  {
   "cell_type":"markdown",
   "source":[
    "# Matematické Výrazy"
   ],
   "attachments":{
    
   },
   "metadata":{
    "datalore":{
     "node_id":"JMamYx8KIa9JSid4svKoG5",
     "type":"MD",
     "hide_input_from_viewers":false,
     "hide_output_from_viewers":false,
     "report_properties":{
      "rowId":"CjgWXCSVrTczqlFotxVOXu"
     }
    }
   }
  },
  {
   "cell_type":"code",
   "source":[
    " "
   ],
   "execution_count":1,
   "outputs":[
    {
     "data":{
      "image\/png":"[encoded data removed]"
     },
     "metadata":{
      "image\/png":{
       
      }
     },
     "output_type":"display_data"
    }
   ],
   "metadata":{
    "datalore":{
     "node_id":"eTwgzddnJxiCXug1b6r5M0",
     "type":"CODE",
     "hide_input_from_viewers":false,
     "hide_output_from_viewers":false,
     "report_properties":{
      "rowId":"djVznlnjdEwp9DpWqJCd58"
     }
    }
   }
  },
  {
   "cell_type":"code",
   "source":[
    " "
   ],
   "execution_count":79,
   "outputs":[
    {
     "data":{
      "image\/png":"[encoded data removed]"
     },
     "metadata":{
      "image\/png":{
       
      }
     },
     "output_type":"display_data"
    }
   ],
   "metadata":{
    "datalore":{
     "node_id":"6X0NB2lxILO3qaWSVUXJMU",
     "type":"CODE",
     "hide_input_from_viewers":false,
     "hide_output_from_viewers":false,
     "report_properties":{
      "rowId":"XNnoBuYVjp4XptuOzsnllh"
     }
    }
   }
  },
  {
   "cell_type":"code",
   "source":[
    " "
   ],
   "execution_count":112,
   "outputs":[
    {
     "data":{
      "image\/png":"[encoded data removed]"
     },
     "metadata":{
      "image\/png":{
       
      }
     },
     "output_type":"display_data"
    }
   ],
   "metadata":{
    "datalore":{
     "node_id":"SJ73cxypclDffVGRmVASuf",
     "type":"CODE",
     "hide_input_from_viewers":false,
     "hide_output_from_viewers":false,
     "report_properties":{
      "rowId":"SZ4tB7Mrwqg6y4Ep90mk03"
     }
    }
   }
  },
  {
   "cell_type":"code",
   "source":[
    " "
   ],
   "execution_count":132,
   "outputs":[
    {
     "data":{
      "image\/png":"[encoded data removed]"
     },
     "metadata":{
      "image\/png":{
       
      }
     },
     "output_type":"display_data"
    }
   ],
   "metadata":{
    "datalore":{
     "node_id":"RepLhnHWp7XrGkHfvXgbt4",
     "type":"CODE",
     "hide_input_from_viewers":false,
     "hide_output_from_viewers":false,
     "report_properties":{
      "rowId":"SEP0IYSTXURbeKKiUMzukE"
     }
    }
   }
  },
  {
   "cell_type":"code",
   "source":[
    " "
   ],
   "execution_count":120,
   "outputs":[
    {
     "data":{
      "image\/png":"[encoded data removed]"
     },
     "metadata":{
      "image\/png":{
       
      }
     },
     "output_type":"display_data"
    }
   ],
   "metadata":{
    "datalore":{
     "node_id":"Py8EzHZXJUfN7lPZswkrSj",
     "type":"CODE",
     "hide_input_from_viewers":false,
     "hide_output_from_viewers":false,
     "report_properties":{
      "rowId":"mbdbzZklzOhFA9VaNO2LuF"
     }
    }
   }
  },
  {
   "cell_type":"markdown",
   "source":[
    "# Numpy"
   ],
   "attachments":{
    
   },
   "metadata":{
    "datalore":{
     "node_id":"Numpy",
     "type":"MD",
     "hide_input_from_viewers":false,
     "hide_output_from_viewers":false,
     "sheet_delimiter":true
    }
   }
  },
  {
   "cell_type":"code",
   "source":[
    
   ],
   "execution_count":null,
   "outputs":[
    
   ],
   "metadata":{
    "datalore":{
     "node_id":"qcYkZiqk24QTC3WvG11ZBN",
     "type":"CODE",
     "hide_input_from_viewers":true,
     "hide_output_from_viewers":true
    }
   }
  },
  {
   "cell_type":"markdown",
   "source":[
    "# Pandas Metody"
   ],
   "attachments":{
    
   },
   "metadata":{
    "datalore":{
     "node_id":"Pandas Metody",
     "type":"MD",
     "hide_input_from_viewers":false,
     "hide_output_from_viewers":false,
     "sheet_delimiter":true
    }
   }
  },
  {
   "cell_type":"markdown",
   "source":[
    "# Import Dát"
   ],
   "attachments":{
    
   },
   "metadata":{
    "datalore":{
     "node_id":"4TR5TkcbMTNGORVtyKTuMX",
     "type":"MD",
     "hide_input_from_viewers":false,
     "hide_output_from_viewers":false,
     "report_properties":{
      "rowId":"L7c9OdwRdJCrVIJjBI9FTE"
     }
    }
   }
  },
  {
   "cell_type":"code",
   "source":[
    "!pip install openpyxl"
   ],
   "execution_count":3,
   "outputs":[
    {
     "name":"stdout",
     "text":[
      "Collecting openpyxl\r\n",
      "  Downloading openpyxl-3.1.2-py2.py3-none-any.whl (249 kB)\r\n",
      "\u001b[?25l     \u001b[90m━━━━━━━━━━━━━━━━━━━━━━━━━━━━━━━━━━━━━━━━\u001b[0m \u001b[32m0.0\/250.0 kB\u001b[0m \u001b[31m?\u001b[0m eta \u001b[36m-:--:--\u001b[0m\r\u001b[2K     \u001b[90m━━━━━━━━━━━━━━━━━━━━━━━━━━━━━━━━━━━━━━\u001b[0m \u001b[32m250.0\/250.0 kB\u001b[0m \u001b[31m24.2 MB\/s\u001b[0m eta \u001b[36m0:00:00\u001b[0m\r\n",
      "\u001b[?25hCollecting et-xmlfile (from openpyxl)\r\n",
      "  Downloading et_xmlfile-1.1.0-py3-none-any.whl (4.7 kB)\r\n",
      "Installing collected packages: et-xmlfile, openpyxl\r\n",
      "Successfully installed et-xmlfile-1.1.0 openpyxl-3.1.2\r\n",
      "\r\n",
      "\u001b[1m[\u001b[0m\u001b[34;49mnotice\u001b[0m\u001b[1;39;49m]\u001b[0m\u001b[39;49m A new release of pip is available: \u001b[0m\u001b[31;49m23.1.2\u001b[0m\u001b[39;49m -> \u001b[0m\u001b[32;49m23.3.1\u001b[0m\r\n",
      "\u001b[1m[\u001b[0m\u001b[34;49mnotice\u001b[0m\u001b[1;39;49m]\u001b[0m\u001b[39;49m To update, run: \u001b[0m\u001b[32;49mpip install --upgrade pip\u001b[0m\r\n"
     ],
     "output_type":"stream"
    }
   ],
   "metadata":{
    "datalore":{
     "node_id":"XiQwViIdh6uDJKg9fDmdG8",
     "type":"CODE",
     "hide_input_from_viewers":false,
     "hide_output_from_viewers":false,
     "report_properties":{
      "rowId":"rruqSWkjmMnZ2BIvB3MSgX"
     }
    }
   }
  },
  {
   "cell_type":"code",
   "source":[
    "import pandas as pd\n",
    "import openpyxl\n",
    "df_excel = pd.read_excel(\"\/data\/notebook_files\/Excel\/Data.xlsx\", sheet_name = \"Hárok1\")\n",
    "df_excel"
   ],
   "execution_count":6,
   "outputs":[
    {
     "data":{
      "text\/html":[
       "<div>\n",
       "<style scoped>\n",
       "    .dataframe tbody tr th:only-of-type {\n",
       "        vertical-align: middle;\n",
       "    }\n",
       "\n",
       "    .dataframe tbody tr th {\n",
       "        vertical-align: top;\n",
       "    }\n",
       "\n",
       "    .dataframe thead th {\n",
       "        text-align: right;\n",
       "    }\n",
       "<\/style>\n",
       "<table border=\"1\" class=\"dataframe\">\n",
       "  <thead>\n",
       "    <tr style=\"text-align: right;\">\n",
       "      <th><\/th>\n",
       "      <th>Meno<\/th>\n",
       "      <th>Priezvisko<\/th>\n",
       "      <th>Mzda<\/th>\n",
       "      <th>Email<\/th>\n",
       "    <\/tr>\n",
       "  <\/thead>\n",
       "  <tbody>\n",
       "    <tr>\n",
       "      <th>0<\/th>\n",
       "      <td>Adam<\/td>\n",
       "      <td>Sagnala<\/td>\n",
       "      <td>2500<\/td>\n",
       "      <td>a<\/td>\n",
       "    <\/tr>\n",
       "    <tr>\n",
       "      <th>1<\/th>\n",
       "      <td>Monika<\/td>\n",
       "      <td>Dlha<\/td>\n",
       "      <td>9600<\/td>\n",
       "      <td>v<\/td>\n",
       "    <\/tr>\n",
       "    <tr>\n",
       "      <th>2<\/th>\n",
       "      <td>Peter<\/td>\n",
       "      <td>Rychly<\/td>\n",
       "      <td>1200<\/td>\n",
       "      <td>x<\/td>\n",
       "    <\/tr>\n",
       "  <\/tbody>\n",
       "<\/table>\n",
       "<\/div>"
      ]
     },
     "metadata":{
      
     },
     "output_type":"display_data"
    }
   ],
   "metadata":{
    "datalore":{
     "node_id":"Kpj7IkbshTVqVy7MwuQEn0",
     "type":"CODE",
     "hide_input_from_viewers":false,
     "hide_output_from_viewers":false,
     "report_properties":{
      "rowId":"titqCmfkhMtEm1p8NjaGqC"
     }
    }
   }
  },
  {
   "cell_type":"markdown",
   "source":[
    "# Databázové Testovacie Dáta  \n",
    "https:\/\/www.databasetestdata.com\/generated-data "
   ],
   "attachments":{
    
   },
   "metadata":{
    "datalore":{
     "node_id":"5GT9ECraOIvqZGbB8i8Qa9",
     "type":"MD",
     "hide_input_from_viewers":false,
     "hide_output_from_viewers":false,
     "report_properties":{
      "rowId":"p9DgjhAmfNTcIvw8PlvEvn"
     }
    }
   }
  },
  {
   "cell_type":"code",
   "source":[
    "df_json = pd.read_json(\"JS\/pouzivatelia.js\")\n",
    "df_json"
   ],
   "execution_count":9,
   "outputs":[
    {
     "data":{
      "text\/html":[
       "<div>\n",
       "<style scoped>\n",
       "    .dataframe tbody tr th:only-of-type {\n",
       "        vertical-align: middle;\n",
       "    }\n",
       "\n",
       "    .dataframe tbody tr th {\n",
       "        vertical-align: top;\n",
       "    }\n",
       "\n",
       "    .dataframe thead th {\n",
       "        text-align: right;\n",
       "    }\n",
       "<\/style>\n",
       "<table border=\"1\" class=\"dataframe\">\n",
       "  <thead>\n",
       "    <tr style=\"text-align: right;\">\n",
       "      <th><\/th>\n",
       "      <th>Full Name<\/th>\n",
       "      <th>Country<\/th>\n",
       "      <th>Created At<\/th>\n",
       "      <th>Id<\/th>\n",
       "      <th>Email<\/th>\n",
       "    <\/tr>\n",
       "  <\/thead>\n",
       "  <tbody>\n",
       "    <tr>\n",
       "      <th>0<\/th>\n",
       "      <td>Raymundo Legros IV<\/td>\n",
       "      <td>Burundi<\/td>\n",
       "      <td>1984-02-10T05:25:06.734Z<\/td>\n",
       "      <td>0<\/td>\n",
       "      <td>Randall_Muller@ivory.info<\/td>\n",
       "    <\/tr>\n",
       "    <tr>\n",
       "      <th>1<\/th>\n",
       "      <td>Kiley Hills<\/td>\n",
       "      <td>Belgium<\/td>\n",
       "      <td>1986-12-11T20:50:03.224Z<\/td>\n",
       "      <td>1<\/td>\n",
       "      <td>Jovany@adriana.tv<\/td>\n",
       "    <\/tr>\n",
       "    <tr>\n",
       "      <th>2<\/th>\n",
       "      <td>Mohamed Mills<\/td>\n",
       "      <td>United States<\/td>\n",
       "      <td>2008-11-19T14:57:52.218Z<\/td>\n",
       "      <td>2<\/td>\n",
       "      <td>Houston.Schmeler@rebecca.me<\/td>\n",
       "    <\/tr>\n",
       "    <tr>\n",
       "      <th>3<\/th>\n",
       "      <td>Modesta Stokes<\/td>\n",
       "      <td>Argentina<\/td>\n",
       "      <td>2016-05-12T09:03:49.324Z<\/td>\n",
       "      <td>3<\/td>\n",
       "      <td>Jaydon@morris.biz<\/td>\n",
       "    <\/tr>\n",
       "    <tr>\n",
       "      <th>4<\/th>\n",
       "      <td>Brannon Hackett III<\/td>\n",
       "      <td>Japan<\/td>\n",
       "      <td>2000-07-21T03:50:38.237Z<\/td>\n",
       "      <td>4<\/td>\n",
       "      <td>Erin_Altenwerth@willie.org<\/td>\n",
       "    <\/tr>\n",
       "    <tr>\n",
       "      <th>...<\/th>\n",
       "      <td>...<\/td>\n",
       "      <td>...<\/td>\n",
       "      <td>...<\/td>\n",
       "      <td>...<\/td>\n",
       "      <td>...<\/td>\n",
       "    <\/tr>\n",
       "    <tr>\n",
       "      <th>995<\/th>\n",
       "      <td>Sammy Donnelly<\/td>\n",
       "      <td>Micronesia<\/td>\n",
       "      <td>2019-04-11T17:41:44.806Z<\/td>\n",
       "      <td>995<\/td>\n",
       "      <td>Nakia_Krajcik@america.org<\/td>\n",
       "    <\/tr>\n",
       "    <tr>\n",
       "      <th>996<\/th>\n",
       "      <td>Ms. Alexzander Schaden<\/td>\n",
       "      <td>Indonesia<\/td>\n",
       "      <td>2005-02-06T16:43:06.818Z<\/td>\n",
       "      <td>996<\/td>\n",
       "      <td>Alba.Boehm@brad.name<\/td>\n",
       "    <\/tr>\n",
       "    <tr>\n",
       "      <th>997<\/th>\n",
       "      <td>Harrison Miller<\/td>\n",
       "      <td>Martinique<\/td>\n",
       "      <td>2000-06-14T20:13:04.331Z<\/td>\n",
       "      <td>997<\/td>\n",
       "      <td>Silas_Adams@bernice.co.uk<\/td>\n",
       "    <\/tr>\n",
       "    <tr>\n",
       "      <th>998<\/th>\n",
       "      <td>Marcella Schoen<\/td>\n",
       "      <td>Christmas Island<\/td>\n",
       "      <td>2007-04-06T22:19:50.149Z<\/td>\n",
       "      <td>998<\/td>\n",
       "      <td>Avery.Schroeder@jayson.us<\/td>\n",
       "    <\/tr>\n",
       "    <tr>\n",
       "      <th>999<\/th>\n",
       "      <td>Mr. Abelardo Donnelly<\/td>\n",
       "      <td>Ireland<\/td>\n",
       "      <td>2000-03-16T15:05:02.942Z<\/td>\n",
       "      <td>999<\/td>\n",
       "      <td>Saul_Brown@zelda.io<\/td>\n",
       "    <\/tr>\n",
       "  <\/tbody>\n",
       "<\/table>\n",
       "<p>1000 rows × 5 columns<\/p>\n",
       "<\/div>"
      ]
     },
     "metadata":{
      
     },
     "output_type":"display_data"
    }
   ],
   "metadata":{
    "datalore":{
     "node_id":"VvyzWoclQHUsmbaogziyhn",
     "type":"CODE",
     "hide_input_from_viewers":false,
     "hide_output_from_viewers":false,
     "report_properties":{
      "rowId":"1AGXVeheUwlx0CoYOKaVos"
     }
    }
   }
  },
  {
   "cell_type":"code",
   "source":[
    "# \\s whitespace\n",
    "# \\t tab\n",
    "# \",\" ,\n",
    "# \\n new line novy riadok\n",
    "# : \n",
    "import os\n",
    "import sys\n",
    "\n",
    "df_txt = pd.read_csv(\"subor.txt\", sep=\"\\s\")"
   ],
   "execution_count":null,
   "outputs":[
    
   ],
   "metadata":{
    "datalore":{
     "node_id":"gfuHY7FtrmmLig1BQOk5rm",
     "type":"CODE",
     "hide_input_from_viewers":false,
     "hide_output_from_viewers":false,
     "report_properties":{
      "rowId":"qTSjJR9z2qsSoz8xBd2Ixz"
     }
    }
   }
  },
  {
   "cell_type":"code",
   "source":[
    "df_csv = pd.read_csv(\"CSV\/sources.csv\")\n",
    "df_csv"
   ],
   "execution_count":11,
   "outputs":[
    {
     "data":{
      "text\/html":[
       "<div>\n",
       "<style scoped>\n",
       "    .dataframe tbody tr th:only-of-type {\n",
       "        vertical-align: middle;\n",
       "    }\n",
       "\n",
       "    .dataframe tbody tr th {\n",
       "        vertical-align: top;\n",
       "    }\n",
       "\n",
       "    .dataframe thead th {\n",
       "        text-align: right;\n",
       "    }\n",
       "<\/style>\n",
       "<table border=\"1\" class=\"dataframe\">\n",
       "  <thead>\n",
       "    <tr style=\"text-align: right;\">\n",
       "      <th><\/th>\n",
       "      <th>name<\/th>\n",
       "      <th>visitors<\/th>\n",
       "      <th>bounce_rate<\/th>\n",
       "      <th>visit_duration<\/th>\n",
       "    <\/tr>\n",
       "  <\/thead>\n",
       "  <tbody>\n",
       "    <tr>\n",
       "      <th>0<\/th>\n",
       "      <td>Google<\/td>\n",
       "      <td>36375<\/td>\n",
       "      <td>65<\/td>\n",
       "      <td>102<\/td>\n",
       "    <\/tr>\n",
       "    <tr>\n",
       "      <th>1<\/th>\n",
       "      <td>Direct \/ None<\/td>\n",
       "      <td>13232<\/td>\n",
       "      <td>59<\/td>\n",
       "      <td>191<\/td>\n",
       "    <\/tr>\n",
       "    <tr>\n",
       "      <th>2<\/th>\n",
       "      <td>Facebook<\/td>\n",
       "      <td>1651<\/td>\n",
       "      <td>74<\/td>\n",
       "      <td>29<\/td>\n",
       "    <\/tr>\n",
       "    <tr>\n",
       "      <th>3<\/th>\n",
       "      <td>Bing<\/td>\n",
       "      <td>1583<\/td>\n",
       "      <td>55<\/td>\n",
       "      <td>143<\/td>\n",
       "    <\/tr>\n",
       "    <tr>\n",
       "      <th>4<\/th>\n",
       "      <td>172.25.63.2<\/td>\n",
       "      <td>760<\/td>\n",
       "      <td>77<\/td>\n",
       "      <td>378<\/td>\n",
       "    <\/tr>\n",
       "    <tr>\n",
       "      <th>...<\/th>\n",
       "      <td>...<\/td>\n",
       "      <td>...<\/td>\n",
       "      <td>...<\/td>\n",
       "      <td>...<\/td>\n",
       "    <\/tr>\n",
       "    <tr>\n",
       "      <th>295<\/th>\n",
       "      <td>confluence.in.here.com<\/td>\n",
       "      <td>1<\/td>\n",
       "      <td>0<\/td>\n",
       "      <td>307<\/td>\n",
       "    <\/tr>\n",
       "    <tr>\n",
       "      <th>296<\/th>\n",
       "      <td>app.wibo.ai<\/td>\n",
       "      <td>1<\/td>\n",
       "      <td>100<\/td>\n",
       "      <td>0<\/td>\n",
       "    <\/tr>\n",
       "    <tr>\n",
       "      <th>297<\/th>\n",
       "      <td>mixaddins.azureedge.net<\/td>\n",
       "      <td>1<\/td>\n",
       "      <td>100<\/td>\n",
       "      <td>0<\/td>\n",
       "    <\/tr>\n",
       "    <tr>\n",
       "      <th>298<\/th>\n",
       "      <td>detstvobeznasilia.gov.sk<\/td>\n",
       "      <td>1<\/td>\n",
       "      <td>100<\/td>\n",
       "      <td>0<\/td>\n",
       "    <\/tr>\n",
       "    <tr>\n",
       "      <th>299<\/th>\n",
       "      <td>usmevpredruhych.sk<\/td>\n",
       "      <td>1<\/td>\n",
       "      <td>0<\/td>\n",
       "      <td>36<\/td>\n",
       "    <\/tr>\n",
       "  <\/tbody>\n",
       "<\/table>\n",
       "<p>300 rows × 4 columns<\/p>\n",
       "<\/div>"
      ]
     },
     "metadata":{
      
     },
     "output_type":"display_data"
    }
   ],
   "metadata":{
    "datalore":{
     "node_id":"PSoLANio3Tbe8jmeQaiCoR",
     "type":"CODE",
     "hide_input_from_viewers":false,
     "hide_output_from_viewers":false,
     "report_properties":{
      "rowId":"MiCZDHRulYDa8k83MEERnW"
     }
    }
   }
  },
  {
   "cell_type":"markdown",
   "source":[
    "# Data Export"
   ],
   "attachments":{
    
   },
   "metadata":{
    "datalore":{
     "node_id":"1OYG3D6z4s82Tts55e9zbh",
     "type":"MD",
     "hide_input_from_viewers":false,
     "hide_output_from_viewers":false,
     "report_properties":{
      "rowId":"q6WzQrLyYicFIz3mhHX9rh"
     }
    }
   }
  },
  {
   "cell_type":"code",
   "source":[
    "df_csv.info()\n",
    "type(df_csv)"
   ],
   "execution_count":18,
   "outputs":[
    {
     "name":"stdout",
     "text":[
      "<class 'pandas.core.frame.DataFrame'>\n",
      "RangeIndex: 300 entries, 0 to 299\n",
      "Data columns (total 4 columns):\n",
      " #   Column          Non-Null Count  Dtype \n",
      "---  ------          --------------  ----- \n",
      " 0   name            300 non-null    object\n",
      " 1   visitors        300 non-null    int64 \n",
      " 2   bounce_rate     300 non-null    int64 \n",
      " 3   visit_duration  300 non-null    int64 \n",
      "dtypes: int64(3), object(1)\n",
      "memory usage: 9.5+ KB\n"
     ],
     "output_type":"stream"
    },
    {
     "data":{
      "text\/plain":[
       "pandas.core.frame.DataFrame"
      ]
     },
     "metadata":{
      
     },
     "output_type":"display_data"
    }
   ],
   "metadata":{
    "datalore":{
     "node_id":"dVeqYU1ViHDav6vah5wnpJ",
     "type":"CODE",
     "hide_input_from_viewers":false,
     "hide_output_from_viewers":false,
     "report_properties":{
      "rowId":"uCjThPLnrYKsUJWnC8Rdbc"
     }
    }
   }
  },
  {
   "cell_type":"code",
   "source":[
    "# Prvych 10 vysledok\n",
    "df_csv.head(10)"
   ],
   "execution_count":15,
   "outputs":[
    {
     "data":{
      "text\/html":[
       "<div>\n",
       "<style scoped>\n",
       "    .dataframe tbody tr th:only-of-type {\n",
       "        vertical-align: middle;\n",
       "    }\n",
       "\n",
       "    .dataframe tbody tr th {\n",
       "        vertical-align: top;\n",
       "    }\n",
       "\n",
       "    .dataframe thead th {\n",
       "        text-align: right;\n",
       "    }\n",
       "<\/style>\n",
       "<table border=\"1\" class=\"dataframe\">\n",
       "  <thead>\n",
       "    <tr style=\"text-align: right;\">\n",
       "      <th><\/th>\n",
       "      <th>name<\/th>\n",
       "      <th>visitors<\/th>\n",
       "      <th>bounce_rate<\/th>\n",
       "      <th>visit_duration<\/th>\n",
       "    <\/tr>\n",
       "  <\/thead>\n",
       "  <tbody>\n",
       "    <tr>\n",
       "      <th>0<\/th>\n",
       "      <td>Google<\/td>\n",
       "      <td>36375<\/td>\n",
       "      <td>65<\/td>\n",
       "      <td>102<\/td>\n",
       "    <\/tr>\n",
       "    <tr>\n",
       "      <th>1<\/th>\n",
       "      <td>Direct \/ None<\/td>\n",
       "      <td>13232<\/td>\n",
       "      <td>59<\/td>\n",
       "      <td>191<\/td>\n",
       "    <\/tr>\n",
       "    <tr>\n",
       "      <th>2<\/th>\n",
       "      <td>Facebook<\/td>\n",
       "      <td>1651<\/td>\n",
       "      <td>74<\/td>\n",
       "      <td>29<\/td>\n",
       "    <\/tr>\n",
       "    <tr>\n",
       "      <th>3<\/th>\n",
       "      <td>Bing<\/td>\n",
       "      <td>1583<\/td>\n",
       "      <td>55<\/td>\n",
       "      <td>143<\/td>\n",
       "    <\/tr>\n",
       "    <tr>\n",
       "      <th>4<\/th>\n",
       "      <td>172.25.63.2<\/td>\n",
       "      <td>760<\/td>\n",
       "      <td>77<\/td>\n",
       "      <td>378<\/td>\n",
       "    <\/tr>\n",
       "    <tr>\n",
       "      <th>5<\/th>\n",
       "      <td>DuckDuckGo<\/td>\n",
       "      <td>302<\/td>\n",
       "      <td>62<\/td>\n",
       "      <td>84<\/td>\n",
       "    <\/tr>\n",
       "    <tr>\n",
       "      <th>6<\/th>\n",
       "      <td>zus-exnarova.sk<\/td>\n",
       "      <td>289<\/td>\n",
       "      <td>84<\/td>\n",
       "      <td>44<\/td>\n",
       "    <\/tr>\n",
       "    <tr>\n",
       "      <th>7<\/th>\n",
       "      <td>Seznam<\/td>\n",
       "      <td>183<\/td>\n",
       "      <td>35<\/td>\n",
       "      <td>90<\/td>\n",
       "    <\/tr>\n",
       "    <tr>\n",
       "      <th>8<\/th>\n",
       "      <td>dennikn.sk<\/td>\n",
       "      <td>119<\/td>\n",
       "      <td>87<\/td>\n",
       "      <td>30<\/td>\n",
       "    <\/tr>\n",
       "    <tr>\n",
       "      <th>9<\/th>\n",
       "      <td>zuspetrzalka.sk<\/td>\n",
       "      <td>116<\/td>\n",
       "      <td>82<\/td>\n",
       "      <td>53<\/td>\n",
       "    <\/tr>\n",
       "  <\/tbody>\n",
       "<\/table>\n",
       "<\/div>"
      ]
     },
     "metadata":{
      
     },
     "output_type":"display_data"
    }
   ],
   "metadata":{
    "datalore":{
     "node_id":"uucQMWSEPxFqzl4dojrzxW",
     "type":"CODE",
     "hide_input_from_viewers":false,
     "hide_output_from_viewers":false,
     "report_properties":{
      "rowId":"0YQg2poAuoghVGOMNpoiNy"
     }
    }
   }
  },
  {
   "cell_type":"code",
   "source":[
    "# Poslednych 10 vysledok\n",
    "df_csv.tail(10)"
   ],
   "execution_count":17,
   "outputs":[
    {
     "data":{
      "text\/html":[
       "<div>\n",
       "<style scoped>\n",
       "    .dataframe tbody tr th:only-of-type {\n",
       "        vertical-align: middle;\n",
       "    }\n",
       "\n",
       "    .dataframe tbody tr th {\n",
       "        vertical-align: top;\n",
       "    }\n",
       "\n",
       "    .dataframe thead th {\n",
       "        text-align: right;\n",
       "    }\n",
       "<\/style>\n",
       "<table border=\"1\" class=\"dataframe\">\n",
       "  <thead>\n",
       "    <tr style=\"text-align: right;\">\n",
       "      <th><\/th>\n",
       "      <th>name<\/th>\n",
       "      <th>visitors<\/th>\n",
       "      <th>bounce_rate<\/th>\n",
       "      <th>visit_duration<\/th>\n",
       "    <\/tr>\n",
       "  <\/thead>\n",
       "  <tbody>\n",
       "    <tr>\n",
       "      <th>290<\/th>\n",
       "      <td>hiperkaoz.sk<\/td>\n",
       "      <td>1<\/td>\n",
       "      <td>100<\/td>\n",
       "      <td>0<\/td>\n",
       "    <\/tr>\n",
       "    <tr>\n",
       "      <th>291<\/th>\n",
       "      <td>zarohom.sk<\/td>\n",
       "      <td>1<\/td>\n",
       "      <td>0<\/td>\n",
       "      <td>962<\/td>\n",
       "    <\/tr>\n",
       "    <tr>\n",
       "      <th>292<\/th>\n",
       "      <td>odpady-portal.sk<\/td>\n",
       "      <td>1<\/td>\n",
       "      <td>0<\/td>\n",
       "      <td>652<\/td>\n",
       "    <\/tr>\n",
       "    <tr>\n",
       "      <th>293<\/th>\n",
       "      <td>apiarp.bluemonkey.sk<\/td>\n",
       "      <td>1<\/td>\n",
       "      <td>100<\/td>\n",
       "      <td>0<\/td>\n",
       "    <\/tr>\n",
       "    <tr>\n",
       "      <th>294<\/th>\n",
       "      <td>sh.wikipedia.org<\/td>\n",
       "      <td>1<\/td>\n",
       "      <td>0<\/td>\n",
       "      <td>9<\/td>\n",
       "    <\/tr>\n",
       "    <tr>\n",
       "      <th>295<\/th>\n",
       "      <td>confluence.in.here.com<\/td>\n",
       "      <td>1<\/td>\n",
       "      <td>0<\/td>\n",
       "      <td>307<\/td>\n",
       "    <\/tr>\n",
       "    <tr>\n",
       "      <th>296<\/th>\n",
       "      <td>app.wibo.ai<\/td>\n",
       "      <td>1<\/td>\n",
       "      <td>100<\/td>\n",
       "      <td>0<\/td>\n",
       "    <\/tr>\n",
       "    <tr>\n",
       "      <th>297<\/th>\n",
       "      <td>mixaddins.azureedge.net<\/td>\n",
       "      <td>1<\/td>\n",
       "      <td>100<\/td>\n",
       "      <td>0<\/td>\n",
       "    <\/tr>\n",
       "    <tr>\n",
       "      <th>298<\/th>\n",
       "      <td>detstvobeznasilia.gov.sk<\/td>\n",
       "      <td>1<\/td>\n",
       "      <td>100<\/td>\n",
       "      <td>0<\/td>\n",
       "    <\/tr>\n",
       "    <tr>\n",
       "      <th>299<\/th>\n",
       "      <td>usmevpredruhych.sk<\/td>\n",
       "      <td>1<\/td>\n",
       "      <td>0<\/td>\n",
       "      <td>36<\/td>\n",
       "    <\/tr>\n",
       "  <\/tbody>\n",
       "<\/table>\n",
       "<\/div>"
      ]
     },
     "metadata":{
      
     },
     "output_type":"display_data"
    }
   ],
   "metadata":{
    "datalore":{
     "node_id":"0A02gCLIKVwRsAkBmOOzVW",
     "type":"CODE",
     "hide_input_from_viewers":false,
     "hide_output_from_viewers":false,
     "report_properties":{
      "rowId":"G7EWHNHgoSNB0QBANJfxs3"
     }
    }
   }
  },
  {
   "cell_type":"code",
   "source":[
    "df_csv.count()"
   ],
   "execution_count":19,
   "outputs":[
    {
     "data":{
      "text\/html":[
       "<pre>name              300\n",
       "visitors          300\n",
       "bounce_rate       300\n",
       "visit_duration    300\n",
       "dtype: int64<\/pre>"
      ]
     },
     "metadata":{
      
     },
     "output_type":"display_data"
    }
   ],
   "metadata":{
    "datalore":{
     "node_id":"xgfpEhfc9jddoBt6sM1dKQ",
     "type":"CODE",
     "hide_input_from_viewers":false,
     "hide_output_from_viewers":false,
     "report_properties":{
      "rowId":"S8iYHru66vQ4dKnsKHWIqm"
     }
    }
   }
  },
  {
   "cell_type":"code",
   "source":[
    "df_csv.max()"
   ],
   "execution_count":20,
   "outputs":[
    {
     "data":{
      "text\/html":[
       "<pre>name              zusvytvarka.eu\n",
       "visitors                   36375\n",
       "bounce_rate                  100\n",
       "visit_duration              8321\n",
       "dtype: object<\/pre>"
      ]
     },
     "metadata":{
      
     },
     "output_type":"display_data"
    }
   ],
   "metadata":{
    "datalore":{
     "node_id":"drqR4GwMOhx7LuqcNRwTeL",
     "type":"CODE",
     "hide_input_from_viewers":false,
     "hide_output_from_viewers":false,
     "report_properties":{
      "rowId":"5kv1w4O5BsIKftFfvTYt9R"
     }
    }
   }
  },
  {
   "cell_type":"code",
   "source":[
    "df_csv.min()"
   ],
   "execution_count":21,
   "outputs":[
    {
     "data":{
      "text\/html":[
       "<pre>name              127.0.0.1\n",
       "visitors                  1\n",
       "bounce_rate               0\n",
       "visit_duration            0\n",
       "dtype: object<\/pre>"
      ]
     },
     "metadata":{
      
     },
     "output_type":"display_data"
    }
   ],
   "metadata":{
    "datalore":{
     "node_id":"lw3YQFMJPeqeK0TQctEkMh",
     "type":"CODE",
     "hide_input_from_viewers":false,
     "hide_output_from_viewers":false,
     "report_properties":{
      "rowId":"QVcZYHEOXcko9BWCtk55bz"
     }
    }
   }
  },
  {
   "cell_type":"code",
   "source":[
    "df_csv.mean()"
   ],
   "execution_count":22,
   "outputs":[
    {
     "name":"stderr",
     "text":[
      "<ipython-input-22-b95e40065b8c>:1: FutureWarning: The default value of numeric_only in DataFrame.mean is deprecated. In a future version, it will default to False. In addition, specifying 'numeric_only=None' is deprecated. Select only valid columns or specify the value of numeric_only to silence this warning.\n",
      "  df_csv.mean()\n"
     ],
     "output_type":"stream"
    },
    {
     "data":{
      "text\/html":[
       "<pre>visitors          190.46\n",
       "bounce_rate        65.17\n",
       "visit_duration    121.73\n",
       "dtype: float64<\/pre>"
      ]
     },
     "metadata":{
      
     },
     "output_type":"display_data"
    }
   ],
   "metadata":{
    "datalore":{
     "node_id":"VZpNVLI2hZfshWDvUvQbxS",
     "type":"CODE",
     "hide_input_from_viewers":false,
     "hide_output_from_viewers":false,
     "report_properties":{
      "rowId":"aJP3y2yXBzjJFE1t5NJMIN"
     }
    }
   }
  },
  {
   "cell_type":"code",
   "source":[
    "df_csv.describe()"
   ],
   "execution_count":24,
   "outputs":[
    {
     "data":{
      "text\/html":[
       "<div>\n",
       "<style scoped>\n",
       "    .dataframe tbody tr th:only-of-type {\n",
       "        vertical-align: middle;\n",
       "    }\n",
       "\n",
       "    .dataframe tbody tr th {\n",
       "        vertical-align: top;\n",
       "    }\n",
       "\n",
       "    .dataframe thead th {\n",
       "        text-align: right;\n",
       "    }\n",
       "<\/style>\n",
       "<table border=\"1\" class=\"dataframe\">\n",
       "  <thead>\n",
       "    <tr style=\"text-align: right;\">\n",
       "      <th><\/th>\n",
       "      <th>visitors<\/th>\n",
       "      <th>bounce_rate<\/th>\n",
       "      <th>visit_duration<\/th>\n",
       "    <\/tr>\n",
       "  <\/thead>\n",
       "  <tbody>\n",
       "    <tr>\n",
       "      <th>count<\/th>\n",
       "      <td>300.000000<\/td>\n",
       "      <td>300.000000<\/td>\n",
       "      <td>300.000000<\/td>\n",
       "    <\/tr>\n",
       "    <tr>\n",
       "      <th>mean<\/th>\n",
       "      <td>190.460000<\/td>\n",
       "      <td>65.170000<\/td>\n",
       "      <td>121.730000<\/td>\n",
       "    <\/tr>\n",
       "    <tr>\n",
       "      <th>std<\/th>\n",
       "      <td>2234.947096<\/td>\n",
       "      <td>35.744931<\/td>\n",
       "      <td>523.313437<\/td>\n",
       "    <\/tr>\n",
       "    <tr>\n",
       "      <th>min<\/th>\n",
       "      <td>1.000000<\/td>\n",
       "      <td>0.000000<\/td>\n",
       "      <td>0.000000<\/td>\n",
       "    <\/tr>\n",
       "    <tr>\n",
       "      <th>25%<\/th>\n",
       "      <td>1.000000<\/td>\n",
       "      <td>40.000000<\/td>\n",
       "      <td>0.000000<\/td>\n",
       "    <\/tr>\n",
       "    <tr>\n",
       "      <th>50%<\/th>\n",
       "      <td>2.000000<\/td>\n",
       "      <td>72.500000<\/td>\n",
       "      <td>14.000000<\/td>\n",
       "    <\/tr>\n",
       "    <tr>\n",
       "      <th>75%<\/th>\n",
       "      <td>8.000000<\/td>\n",
       "      <td>100.000000<\/td>\n",
       "      <td>84.250000<\/td>\n",
       "    <\/tr>\n",
       "    <tr>\n",
       "      <th>max<\/th>\n",
       "      <td>36375.000000<\/td>\n",
       "      <td>100.000000<\/td>\n",
       "      <td>8321.000000<\/td>\n",
       "    <\/tr>\n",
       "  <\/tbody>\n",
       "<\/table>\n",
       "<\/div>"
      ]
     },
     "metadata":{
      
     },
     "output_type":"display_data"
    }
   ],
   "metadata":{
    "datalore":{
     "node_id":"8cZmvKOSIncpumKAYdEjXv",
     "type":"CODE",
     "hide_input_from_viewers":false,
     "hide_output_from_viewers":false,
     "report_properties":{
      "rowId":"JW6knZSqV20BbILMOudfR1"
     }
    }
   }
  },
  {
   "cell_type":"code",
   "source":[
    "df_csv.ndim\n",
    "df_csv.shape\n",
    "\n",
    "df_csv.visitors"
   ],
   "execution_count":27,
   "outputs":[
    {
     "data":{
      "text\/plain":[
       "(300, 4)"
      ]
     },
     "metadata":{
      
     },
     "output_type":"display_data"
    }
   ],
   "metadata":{
    "datalore":{
     "node_id":"36aCDjcFflXEynLHPzDf1P",
     "type":"CODE",
     "hide_input_from_viewers":false,
     "hide_output_from_viewers":false,
     "report_properties":{
      "rowId":"PCzzRbx4j9O16J55u6XezX"
     }
    }
   }
  },
  {
   "cell_type":"code",
   "source":[
    "df_csv"
   ],
   "execution_count":28,
   "outputs":[
    {
     "data":{
      "text\/html":[
       "<div>\n",
       "<style scoped>\n",
       "    .dataframe tbody tr th:only-of-type {\n",
       "        vertical-align: middle;\n",
       "    }\n",
       "\n",
       "    .dataframe tbody tr th {\n",
       "        vertical-align: top;\n",
       "    }\n",
       "\n",
       "    .dataframe thead th {\n",
       "        text-align: right;\n",
       "    }\n",
       "<\/style>\n",
       "<table border=\"1\" class=\"dataframe\">\n",
       "  <thead>\n",
       "    <tr style=\"text-align: right;\">\n",
       "      <th><\/th>\n",
       "      <th>name<\/th>\n",
       "      <th>visitors<\/th>\n",
       "      <th>bounce_rate<\/th>\n",
       "      <th>visit_duration<\/th>\n",
       "    <\/tr>\n",
       "  <\/thead>\n",
       "  <tbody>\n",
       "    <tr>\n",
       "      <th>0<\/th>\n",
       "      <td>Google<\/td>\n",
       "      <td>36375<\/td>\n",
       "      <td>65<\/td>\n",
       "      <td>102<\/td>\n",
       "    <\/tr>\n",
       "    <tr>\n",
       "      <th>1<\/th>\n",
       "      <td>Direct \/ None<\/td>\n",
       "      <td>13232<\/td>\n",
       "      <td>59<\/td>\n",
       "      <td>191<\/td>\n",
       "    <\/tr>\n",
       "    <tr>\n",
       "      <th>2<\/th>\n",
       "      <td>Facebook<\/td>\n",
       "      <td>1651<\/td>\n",
       "      <td>74<\/td>\n",
       "      <td>29<\/td>\n",
       "    <\/tr>\n",
       "    <tr>\n",
       "      <th>3<\/th>\n",
       "      <td>Bing<\/td>\n",
       "      <td>1583<\/td>\n",
       "      <td>55<\/td>\n",
       "      <td>143<\/td>\n",
       "    <\/tr>\n",
       "    <tr>\n",
       "      <th>4<\/th>\n",
       "      <td>172.25.63.2<\/td>\n",
       "      <td>760<\/td>\n",
       "      <td>77<\/td>\n",
       "      <td>378<\/td>\n",
       "    <\/tr>\n",
       "    <tr>\n",
       "      <th>...<\/th>\n",
       "      <td>...<\/td>\n",
       "      <td>...<\/td>\n",
       "      <td>...<\/td>\n",
       "      <td>...<\/td>\n",
       "    <\/tr>\n",
       "    <tr>\n",
       "      <th>295<\/th>\n",
       "      <td>confluence.in.here.com<\/td>\n",
       "      <td>1<\/td>\n",
       "      <td>0<\/td>\n",
       "      <td>307<\/td>\n",
       "    <\/tr>\n",
       "    <tr>\n",
       "      <th>296<\/th>\n",
       "      <td>app.wibo.ai<\/td>\n",
       "      <td>1<\/td>\n",
       "      <td>100<\/td>\n",
       "      <td>0<\/td>\n",
       "    <\/tr>\n",
       "    <tr>\n",
       "      <th>297<\/th>\n",
       "      <td>mixaddins.azureedge.net<\/td>\n",
       "      <td>1<\/td>\n",
       "      <td>100<\/td>\n",
       "      <td>0<\/td>\n",
       "    <\/tr>\n",
       "    <tr>\n",
       "      <th>298<\/th>\n",
       "      <td>detstvobeznasilia.gov.sk<\/td>\n",
       "      <td>1<\/td>\n",
       "      <td>100<\/td>\n",
       "      <td>0<\/td>\n",
       "    <\/tr>\n",
       "    <tr>\n",
       "      <th>299<\/th>\n",
       "      <td>usmevpredruhych.sk<\/td>\n",
       "      <td>1<\/td>\n",
       "      <td>0<\/td>\n",
       "      <td>36<\/td>\n",
       "    <\/tr>\n",
       "  <\/tbody>\n",
       "<\/table>\n",
       "<p>300 rows × 4 columns<\/p>\n",
       "<\/div>"
      ]
     },
     "metadata":{
      
     },
     "output_type":"display_data"
    }
   ],
   "metadata":{
    "datalore":{
     "node_id":"zvtNj2dFcC2kui3ZMuULF4",
     "type":"CODE",
     "hide_input_from_viewers":false,
     "hide_output_from_viewers":false,
     "report_properties":{
      "rowId":"lIsaieeolgRO4Vobl2iJSN"
     }
    }
   }
  },
  {
   "cell_type":"code",
   "source":[
    "df_csv.visitors.to_csv(\"export.csv\")\n",
    "\n",
    "df_csv.visitors.to_json(\"export.js\")\n",
    "\n",
    "df_csv.visitors.to_string(\"export.txt\")"
   ],
   "execution_count":35,
   "outputs":[
    {
     "ename":"TypeError",
     "evalue":"TypeError: to_sql() missing 1 required positional argument: 'con'",
     "traceback":[
      "\u001b[0;31m---------------------------------------------------------------------------",
      "Traceback (most recent call last)",
      "    at line 7 in <module>",
      "TypeError: to_sql() missing 1 required positional argument: 'con'"
     ],
     "output_type":"error"
    }
   ],
   "metadata":{
    "datalore":{
     "node_id":"e5BQSUoKsEiFnATyU6LNRw",
     "type":"CODE",
     "hide_input_from_viewers":false,
     "hide_output_from_viewers":false,
     "report_properties":{
      "rowId":"aTu6IdH6uXEwUIlBHYhTcy"
     }
    }
   }
  },
  {
   "cell_type":"markdown",
   "source":[
    "# Grafy Formatovanie"
   ],
   "attachments":{
    
   },
   "metadata":{
    "datalore":{
     "node_id":"Grafy Formatovanie",
     "type":"MD",
     "hide_input_from_viewers":false,
     "hide_output_from_viewers":false,
     "sheet_delimiter":true
    }
   }
  },
  {
   "cell_type":"code",
   "source":[
    "import matplotlib.pyplot as plt\n",
    "\n",
    "fig, ax = plt.subplots()\n",
    "# o x s ^\n",
    "ax.plot(range(6), marker = \"^\", color = \"red\")\n",
    "# 'normal', 'italic', 'oblique'\n",
    "plt.title(r\"$\\sigma + \\omega + \\delta$\", color = \"green\", style = \"oblique\")\n",
    "plt.suptitle(\"Graf zavislosti...\")\n",
    "plt.show()"
   ],
   "execution_count":26,
   "outputs":[
    {
     "data":{
      "image\/png":"[encoded data removed]"
     },
     "metadata":{
      "image\/png":{
       
      }
     },
     "output_type":"display_data"
    }
   ],
   "metadata":{
    "datalore":{
     "node_id":"GJYCpwMGt6Y9TdxOw5p0sU",
     "type":"CODE",
     "hide_input_from_viewers":true,
     "hide_output_from_viewers":true
    }
   }
  },
  {
   "cell_type":"code",
   "source":[
    "import matplotlib.pyplot as plt\n",
    "\n",
    "fig, (ax1, ax2) = plt.subplots(1, 2)\n",
    "# o x s ^\n",
    "ax1.plot(range(6), marker = \"^\", color = \"red\")\n",
    "\n",
    "ax2.plot(range(6), marker = \"*\", color = \"navy\")\n",
    "# 'normal', 'italic', 'oblique'\n",
    "\n",
    "plt.suptitle(\"Graf zavislosti...\")\n",
    "ax1.set_title(r\"Titulka graf 1 $\\alpha$\")\n",
    "ax2.set_title(r\"Titulka graf 2 $\\beta$\")\n",
    "plt.show()"
   ],
   "execution_count":31,
   "outputs":[
    {
     "data":{
      "image\/png":"[encoded data removed]"
     },
     "metadata":{
      "image\/png":{
       
      }
     },
     "output_type":"display_data"
    }
   ],
   "metadata":{
    "datalore":{
     "node_id":"nG7o4ntL8DS0GvXBK2FZjD",
     "type":"CODE",
     "hide_input_from_viewers":true,
     "hide_output_from_viewers":true
    }
   }
  },
  {
   "cell_type":"code",
   "source":[
    "import matplotlib.pyplot as plt\n",
    "import numpy as np\n",
    "\n",
    "fig, ax = plt.subplots()\n",
    "ax.plot(np.sin(np.linspace(0, 10)))\n",
    "plt.text(0.5, 0.5, \"Stred Center\", transform = ax.transAxes)\n",
    "plt.text(0.05, 0.95, \"Top Left\", transform = ax.transAxes, color = \"#BB00BB\")\n",
    "plt.text(0.75, 0.05, \"Bottom Right\", transform = ax.transAxes, fontsize = 6)\n",
    "plt.text(0.05, 0.05, \"Bottom Left\", transform = ax.transAxes, color = \"red\", fontsize = 18, rotation = 45)\n",
    "plt.figtext(0.5, 1, \"Figure Text\")\n",
    "ax.set_facecolor(\"lavender\")\n",
    "plt.show()"
   ],
   "execution_count":63,
   "outputs":[
    {
     "data":{
      "image\/png":"[encoded data removed]"
     },
     "metadata":{
      "image\/png":{
       
      }
     },
     "output_type":"display_data"
    }
   ],
   "metadata":{
    "datalore":{
     "node_id":"fGA7Kwti5zi3U8Aelq0d3K",
     "type":"CODE",
     "hide_input_from_viewers":true,
     "hide_output_from_viewers":true
    }
   }
  },
  {
   "cell_type":"code",
   "source":[
    "import matplotlib.pyplot as plt\n",
    "import numpy as np\n",
    "\n",
    "plt.style.use(\"fast\")\n",
    "\n",
    "fig, ax = plt.subplots()\n",
    "ax.plot(np.sin(np.linspace(0, 10)))\n",
    "plt.text(0.5, 0.5, \"Stred Center\", transform = ax.transAxes)\n",
    "plt.text(0.05, 0.95, \"Top Left\", transform = ax.transAxes, color = \"#BB00BB\")\n",
    "plt.text(0.75, 0.05, \"Bottom Right\", transform = ax.transAxes, fontsize = 6)\n",
    "plt.text(0.05, 0.05, \"Bottom Left\", transform = ax.transAxes, color = \"red\", fontsize = 18, rotation = 45)\n",
    "plt.figtext(0.5, 1, \"Figure Text\")\n",
    "#ax.set_facecolor(\"lavender\")\n",
    "plt.show()"
   ],
   "execution_count":73,
   "outputs":[
    {
     "data":{
      "image\/png":[
       
      ]
     },
     "metadata":{
      "image\/png":{
       
      }
     },
     "output_type":"display_data"
    }
   ],
   "metadata":{
    "datalore":{
     "node_id":"X2hsRIffEW0mxeMwvJdWNk",
     "type":"CODE",
     "hide_input_from_viewers":true,
     "hide_output_from_viewers":true
    }
   }
  },
  {
   "cell_type":"code",
   "source":[
    "import matplotlib.pyplot as plt\n",
    "print(plt.style.available)\n",
    "print(len(plt.style.available))"
   ],
   "execution_count":67,
   "outputs":[
    {
     "name":"stdout",
     "text":[
      "['Solarize_Light2', '_classic_test_patch', '_mpl-gallery', '_mpl-gallery-nogrid', 'bmh', 'classic', 'dark_background', 'fast', 'fivethirtyeight', 'ggplot', 'grayscale', 'seaborn-v0_8', 'seaborn-v0_8-bright', 'seaborn-v0_8-colorblind', 'seaborn-v0_8-dark', 'seaborn-v0_8-dark-palette', 'seaborn-v0_8-darkgrid', 'seaborn-v0_8-deep', 'seaborn-v0_8-muted', 'seaborn-v0_8-notebook', 'seaborn-v0_8-paper', 'seaborn-v0_8-pastel', 'seaborn-v0_8-poster', 'seaborn-v0_8-talk', 'seaborn-v0_8-ticks', 'seaborn-v0_8-white', 'seaborn-v0_8-whitegrid', 'tableau-colorblind10']\n",
      "28\n"
     ],
     "output_type":"stream"
    }
   ],
   "metadata":{
    "datalore":{
     "node_id":"GXRvf5KbZCtOf0WK3y9Gb4",
     "type":"CODE",
     "hide_input_from_viewers":true,
     "hide_output_from_viewers":true
    }
   }
  },
  {
   "cell_type":"code",
   "source":[
    "import matplotlib.pyplot as plt\n",
    "import numpy as np\n",
    "\n",
    "plt.style.use(\"_classic_test_patch\")\n",
    "\n",
    "fig, ax = plt.subplots()\n",
    "ax.plot(np.sin(np.linspace(0, 10)))\n",
    "plt.text(0.5, 0.5, \"Stred Center\", transform = ax.transAxes)\n",
    "plt.text(0.05, 0.95, \"Top Left\", transform = ax.transAxes, color = \"#BB00BB\")\n",
    "plt.text(0.75, 0.05, \"Bottom Right\", transform = ax.transAxes, fontsize = 6)\n",
    "plt.text(0.05, 0.05, \"Bottom Left\", transform = ax.transAxes, color = \"red\", fontsize = 18, rotation = 45)\n",
    "plt.figtext(0.5, 1, \"Figure Text\")\n",
    "#ax.set_facecolor(\"lavender\")\n",
    "ax.grid(axis = \"y\")\n",
    "plt.show()"
   ],
   "execution_count":82,
   "outputs":[
    {
     "data":{
      "image\/png":"[encoded data removed]"
     },
     "metadata":{
      "image\/png":{
       
      }
     },
     "output_type":"display_data"
    }
   ],
   "metadata":{
    "datalore":{
     "node_id":"4hwN2NL1PJ7nxAcOq7GViK",
     "type":"CODE",
     "hide_input_from_viewers":true,
     "hide_output_from_viewers":true
    }
   }
  },
  {
   "cell_type":"markdown",
   "source":[
    "# RUZ"
   ],
   "attachments":{
    
   },
   "metadata":{
    "datalore":{
     "node_id":"RUZ",
     "type":"MD",
     "hide_input_from_viewers":false,
     "hide_output_from_viewers":false,
     "sheet_delimiter":true
    }
   }
  },
  {
   "cell_type":"code",
   "source":[
    "import requests, json\n",
    "import pandas as pd\n",
    "import numpy as np\n",
    "import matplotlib.pyplot as plt\n",
    "\n",
    "url_kraje = \"https:\/\/www.registeruz.sk\/cruz-public\/api\/kraje\"\n",
    "url_okresy = \"https:\/\/www.registeruz.sk\/cruz-public\/api\/okresy\"\n",
    "url_sablony = \"https:\/\/www.registeruz.sk\/cruz-public\/api\/sablony\"\n",
    "\n",
    "api_kraje = requests.get(url_kraje).text\n",
    "api_okresy = requests.get(url_okresy).text\n",
    "api_sablony = requests.get(url_sablony).text\n",
    "\n",
    "json_kraje = json.loads(api_kraje)\n",
    "json_okresy = json.loads(api_okresy)\n",
    "json_sablony = json.loads(api_sablony)\n",
    "\n",
    "json_okresy"
   ],
   "execution_count":20,
   "outputs":[
    {
     "data":{
      "text\/plain":[
       "{'lokacie': [{'nadradenaLokacia': 'SK010',\n",
       "   'kod': 'SK0101',\n",
       "   'nazov': {'sk': 'Bratislava I', 'en': 'Bratislava I'}},\n",
       "  {'nadradenaLokacia': 'SK010',\n",
       "   'kod': 'SK0102',\n",
       "   'nazov': {'sk': 'Bratislava II', 'en': 'Bratislava II'}},\n",
       "  {'nadradenaLokacia': 'SK010',\n",
       "   'kod': 'SK0103',\n",
       "   'nazov': {'sk': 'Bratislava III', 'en': 'Bratislava III'}},\n",
       "  {'nadradenaLokacia': 'SK010',\n",
       "   'kod': 'SK0104',\n",
       "   'nazov': {'sk': 'Bratislava IV', 'en': 'Bratislava IV'}},\n",
       "  {'nadradenaLokacia': 'SK010',\n",
       "   'kod': 'SK0105',\n",
       "   'nazov': {'sk': 'Bratislava V', 'en': 'Bratislava V'}},\n",
       "  {'nadradenaLokacia': 'SK010',\n",
       "   'kod': 'SK0106',\n",
       "   'nazov': {'sk': 'Malacky', 'en': 'Malacky'}},\n",
       "  {'nadradenaLokacia': 'SK010',\n",
       "   'kod': 'SK0107',\n",
       "   'nazov': {'sk': 'Pezinok', 'en': 'Pezinok'}},\n",
       "  {'nadradenaLokacia': 'SK010',\n",
       "   'kod': 'SK0108',\n",
       "   'nazov': {'sk': 'Senec', 'en': 'Senec'}},\n",
       "  {'nadradenaLokacia': 'SK021',\n",
       "   'kod': 'SK0211',\n",
       "   'nazov': {'sk': 'Dunajská Streda', 'en': 'Dunajská Streda'}},\n",
       "  {'nadradenaLokacia': 'SK021',\n",
       "   'kod': 'SK0212',\n",
       "   'nazov': {'sk': 'Galanta', 'en': 'Galanta'}},\n",
       "  {'nadradenaLokacia': 'SK021',\n",
       "   'kod': 'SK0213',\n",
       "   'nazov': {'sk': 'Hlohovec', 'en': 'Hlohovec'}},\n",
       "  {'nadradenaLokacia': 'SK021',\n",
       "   'kod': 'SK0214',\n",
       "   'nazov': {'sk': 'Piešťany', 'en': 'Piešťany'}},\n",
       "  {'nadradenaLokacia': 'SK021',\n",
       "   'kod': 'SK0215',\n",
       "   'nazov': {'sk': 'Senica', 'en': 'Senica'}},\n",
       "  {'nadradenaLokacia': 'SK021',\n",
       "   'kod': 'SK0216',\n",
       "   'nazov': {'sk': 'Skalica', 'en': 'Skalica'}},\n",
       "  {'nadradenaLokacia': 'SK021',\n",
       "   'kod': 'SK0217',\n",
       "   'nazov': {'sk': 'Trnava', 'en': 'Trnava'}},\n",
       "  {'nadradenaLokacia': 'SK022',\n",
       "   'kod': 'SK0221',\n",
       "   'nazov': {'sk': 'Bánovce nad Bebravou', 'en': 'Bánovce nad Bebravou'}},\n",
       "  {'nadradenaLokacia': 'SK022',\n",
       "   'kod': 'SK0222',\n",
       "   'nazov': {'sk': 'Ilava', 'en': 'Ilava'}},\n",
       "  {'nadradenaLokacia': 'SK022',\n",
       "   'kod': 'SK0223',\n",
       "   'nazov': {'sk': 'Myjava', 'en': 'Myjava'}},\n",
       "  {'nadradenaLokacia': 'SK022',\n",
       "   'kod': 'SK0224',\n",
       "   'nazov': {'sk': 'Nové Mesto nad Váhom', 'en': 'Nové Mesto nad Váhom'}},\n",
       "  {'nadradenaLokacia': 'SK022',\n",
       "   'kod': 'SK0225',\n",
       "   'nazov': {'sk': 'Partizánske', 'en': 'Partizánske'}},\n",
       "  {'nadradenaLokacia': 'SK022',\n",
       "   'kod': 'SK0226',\n",
       "   'nazov': {'sk': 'Považská Bystrica', 'en': 'Považská Bystrica'}},\n",
       "  {'nadradenaLokacia': 'SK022',\n",
       "   'kod': 'SK0227',\n",
       "   'nazov': {'sk': 'Prievidza', 'en': 'Prievidza'}},\n",
       "  {'nadradenaLokacia': 'SK022',\n",
       "   'kod': 'SK0228',\n",
       "   'nazov': {'sk': 'Púchov', 'en': 'Púchov'}},\n",
       "  {'nadradenaLokacia': 'SK022',\n",
       "   'kod': 'SK0229',\n",
       "   'nazov': {'sk': 'Trenčín', 'en': 'Trenčín'}},\n",
       "  {'nadradenaLokacia': 'SK023',\n",
       "   'kod': 'SK0231',\n",
       "   'nazov': {'sk': 'Komárno', 'en': 'Komárno'}},\n",
       "  {'nadradenaLokacia': 'SK023',\n",
       "   'kod': 'SK0232',\n",
       "   'nazov': {'sk': 'Levice', 'en': 'Levice'}},\n",
       "  {'nadradenaLokacia': 'SK023',\n",
       "   'kod': 'SK0233',\n",
       "   'nazov': {'sk': 'Nitra', 'en': 'Nitra'}},\n",
       "  {'nadradenaLokacia': 'SK023',\n",
       "   'kod': 'SK0234',\n",
       "   'nazov': {'sk': 'Nové Zámky', 'en': 'Nové Zámky'}},\n",
       "  {'nadradenaLokacia': 'SK023',\n",
       "   'kod': 'SK0235',\n",
       "   'nazov': {'sk': 'Šaľa', 'en': 'Šaľa'}},\n",
       "  {'nadradenaLokacia': 'SK023',\n",
       "   'kod': 'SK0236',\n",
       "   'nazov': {'sk': 'Topoľčany', 'en': 'Topoľčany'}},\n",
       "  {'nadradenaLokacia': 'SK023',\n",
       "   'kod': 'SK0237',\n",
       "   'nazov': {'sk': 'Zlaté Moravce', 'en': 'Zlaté Moravce'}},\n",
       "  {'nadradenaLokacia': 'SK031',\n",
       "   'kod': 'SK031A',\n",
       "   'nazov': {'sk': 'Tvrdošín', 'en': 'Tvrdošín'}},\n",
       "  {'nadradenaLokacia': 'SK031',\n",
       "   'kod': 'SK031B',\n",
       "   'nazov': {'sk': 'Žilina', 'en': 'Žilina'}},\n",
       "  {'nadradenaLokacia': 'SK031',\n",
       "   'kod': 'SK0311',\n",
       "   'nazov': {'sk': 'Bytča', 'en': 'Bytča'}},\n",
       "  {'nadradenaLokacia': 'SK031',\n",
       "   'kod': 'SK0312',\n",
       "   'nazov': {'sk': 'Čadca', 'en': 'Čadca'}},\n",
       "  {'nadradenaLokacia': 'SK031',\n",
       "   'kod': 'SK0313',\n",
       "   'nazov': {'sk': 'Dolný Kubín', 'en': 'Dolný Kubín'}},\n",
       "  {'nadradenaLokacia': 'SK031',\n",
       "   'kod': 'SK0314',\n",
       "   'nazov': {'sk': 'Kysucké Nové Mesto', 'en': 'Kysucké Nové Mesto'}},\n",
       "  {'nadradenaLokacia': 'SK031',\n",
       "   'kod': 'SK0315',\n",
       "   'nazov': {'sk': 'Liptovský Mikuláš', 'en': 'Liptovský Mikuláš'}},\n",
       "  {'nadradenaLokacia': 'SK031',\n",
       "   'kod': 'SK0316',\n",
       "   'nazov': {'sk': 'Martin', 'en': 'Martin'}},\n",
       "  {'nadradenaLokacia': 'SK031',\n",
       "   'kod': 'SK0317',\n",
       "   'nazov': {'sk': 'Námestovo', 'en': 'Námestovo'}},\n",
       "  {'nadradenaLokacia': 'SK031',\n",
       "   'kod': 'SK0318',\n",
       "   'nazov': {'sk': 'Ružomberok', 'en': 'Ružomberok'}},\n",
       "  {'nadradenaLokacia': 'SK031',\n",
       "   'kod': 'SK0319',\n",
       "   'nazov': {'sk': 'Turčianske Teplice', 'en': 'Turčianske Teplice'}},\n",
       "  {'nadradenaLokacia': 'SK032',\n",
       "   'kod': 'SK032A',\n",
       "   'nazov': {'sk': 'Veľký Krtíš', 'en': 'Veľký Krtíš'}},\n",
       "  {'nadradenaLokacia': 'SK032',\n",
       "   'kod': 'SK032B',\n",
       "   'nazov': {'sk': 'Zvolen', 'en': 'Zvolen'}},\n",
       "  {'nadradenaLokacia': 'SK032',\n",
       "   'kod': 'SK032C',\n",
       "   'nazov': {'sk': 'Žarnovica', 'en': 'Žarnovica'}},\n",
       "  {'nadradenaLokacia': 'SK032',\n",
       "   'kod': 'SK032D',\n",
       "   'nazov': {'sk': 'Žiar nad Hronom', 'en': 'Žiar nad Hronom'}},\n",
       "  {'nadradenaLokacia': 'SK032',\n",
       "   'kod': 'SK0321',\n",
       "   'nazov': {'sk': 'Banská Bystrica', 'en': 'Banská Bystrica'}},\n",
       "  {'nadradenaLokacia': 'SK032',\n",
       "   'kod': 'SK0322',\n",
       "   'nazov': {'sk': 'Banská Štiavnica', 'en': 'Banská Štiavnica'}},\n",
       "  {'nadradenaLokacia': 'SK032',\n",
       "   'kod': 'SK0323',\n",
       "   'nazov': {'sk': 'Brezno', 'en': 'Brezno'}},\n",
       "  {'nadradenaLokacia': 'SK032',\n",
       "   'kod': 'SK0324',\n",
       "   'nazov': {'sk': 'Detva', 'en': 'Detva'}},\n",
       "  {'nadradenaLokacia': 'SK032',\n",
       "   'kod': 'SK0325',\n",
       "   'nazov': {'sk': 'Krupina', 'en': 'Krupina'}},\n",
       "  {'nadradenaLokacia': 'SK032',\n",
       "   'kod': 'SK0326',\n",
       "   'nazov': {'sk': 'Lučenec', 'en': 'Lučenec'}},\n",
       "  {'nadradenaLokacia': 'SK032',\n",
       "   'kod': 'SK0327',\n",
       "   'nazov': {'sk': 'Poltár', 'en': 'Poltár'}},\n",
       "  {'nadradenaLokacia': 'SK032',\n",
       "   'kod': 'SK0328',\n",
       "   'nazov': {'sk': 'Revúca', 'en': 'Revúca'}},\n",
       "  {'nadradenaLokacia': 'SK032',\n",
       "   'kod': 'SK0329',\n",
       "   'nazov': {'sk': 'Rimavská Sobota', 'en': 'Rimavská Sobota'}},\n",
       "  {'nadradenaLokacia': 'SK041',\n",
       "   'kod': 'SK041A',\n",
       "   'nazov': {'sk': 'Stará Ľubovňa', 'en': 'Stará Ľubovňa'}},\n",
       "  {'nadradenaLokacia': 'SK041',\n",
       "   'kod': 'SK041B',\n",
       "   'nazov': {'sk': 'Stropkov', 'en': 'Stropkov'}},\n",
       "  {'nadradenaLokacia': 'SK041',\n",
       "   'kod': 'SK041C',\n",
       "   'nazov': {'sk': 'Svidník', 'en': 'Svidník'}},\n",
       "  {'nadradenaLokacia': 'SK041',\n",
       "   'kod': 'SK041D',\n",
       "   'nazov': {'sk': 'Vranov nad Topľou', 'en': 'Vranov nad Topľou'}},\n",
       "  {'nadradenaLokacia': 'SK041',\n",
       "   'kod': 'SK0411',\n",
       "   'nazov': {'sk': 'Bardejov', 'en': 'Bardejov'}},\n",
       "  {'nadradenaLokacia': 'SK041',\n",
       "   'kod': 'SK0412',\n",
       "   'nazov': {'sk': 'Humenné', 'en': 'Humenné'}},\n",
       "  {'nadradenaLokacia': 'SK041',\n",
       "   'kod': 'SK0413',\n",
       "   'nazov': {'sk': 'Kežmarok', 'en': 'Kežmarok'}},\n",
       "  {'nadradenaLokacia': 'SK041',\n",
       "   'kod': 'SK0414',\n",
       "   'nazov': {'sk': 'Levoča', 'en': 'Levoča'}},\n",
       "  {'nadradenaLokacia': 'SK041',\n",
       "   'kod': 'SK0415',\n",
       "   'nazov': {'sk': 'Medzilaborce', 'en': 'Medzilaborce'}},\n",
       "  {'nadradenaLokacia': 'SK041',\n",
       "   'kod': 'SK0416',\n",
       "   'nazov': {'sk': 'Poprad', 'en': 'Poprad'}},\n",
       "  {'nadradenaLokacia': 'SK041',\n",
       "   'kod': 'SK0417',\n",
       "   'nazov': {'sk': 'Prešov', 'en': 'Prešov'}},\n",
       "  {'nadradenaLokacia': 'SK041',\n",
       "   'kod': 'SK0418',\n",
       "   'nazov': {'sk': 'Sabinov', 'en': 'Sabinov'}},\n",
       "  {'nadradenaLokacia': 'SK041',\n",
       "   'kod': 'SK0419',\n",
       "   'nazov': {'sk': 'Snina', 'en': 'Snina'}},\n",
       "  {'nadradenaLokacia': 'SK042',\n",
       "   'kod': 'SK042A',\n",
       "   'nazov': {'sk': 'Spišská Nová Ves', 'en': 'Spišská Nová Ves'}},\n",
       "  {'nadradenaLokacia': 'SK042',\n",
       "   'kod': 'SK042B',\n",
       "   'nazov': {'sk': 'Trebišov', 'en': 'Trebišov'}},\n",
       "  {'nadradenaLokacia': 'SK042',\n",
       "   'kod': 'SK0421',\n",
       "   'nazov': {'sk': 'Gelnica', 'en': 'Gelnica'}},\n",
       "  {'nadradenaLokacia': 'SK042',\n",
       "   'kod': 'SK0422',\n",
       "   'nazov': {'sk': 'Košice I', 'en': 'Košice I'}},\n",
       "  {'nadradenaLokacia': 'SK042',\n",
       "   'kod': 'SK0423',\n",
       "   'nazov': {'sk': 'Košice II', 'en': 'Košice II'}},\n",
       "  {'nadradenaLokacia': 'SK042',\n",
       "   'kod': 'SK0424',\n",
       "   'nazov': {'sk': 'Košice III', 'en': 'Košice III'}},\n",
       "  {'nadradenaLokacia': 'SK042',\n",
       "   'kod': 'SK0425',\n",
       "   'nazov': {'sk': 'Košice IV', 'en': 'Košice IV'}},\n",
       "  {'nadradenaLokacia': 'SK042',\n",
       "   'kod': 'SK0426',\n",
       "   'nazov': {'sk': 'Košice - okolie', 'en': 'Košice - okolie'}},\n",
       "  {'nadradenaLokacia': 'SK042',\n",
       "   'kod': 'SK0427',\n",
       "   'nazov': {'sk': 'Michalovce', 'en': 'Michalovce'}},\n",
       "  {'nadradenaLokacia': 'SK042',\n",
       "   'kod': 'SK0428',\n",
       "   'nazov': {'sk': 'Rožňava', 'en': 'Rožňava'}},\n",
       "  {'nadradenaLokacia': 'SK042',\n",
       "   'kod': 'SK0429',\n",
       "   'nazov': {'sk': 'Sobrance', 'en': 'Sobrance'}},\n",
       "  {'nadradenaLokacia': 'SKZZ',\n",
       "   'kod': 'SKZZZ',\n",
       "   'nazov': {'sk': 'Zahraničie', 'en': 'Extra-regio'}},\n",
       "  {'nadradenaLokacia': 'SKZZZ',\n",
       "   'kod': 'SKZZZZ',\n",
       "   'nazov': {'sk': 'Zahraničie', 'en': 'Extra-regio'}}]}"
      ]
     },
     "metadata":{
      
     },
     "output_type":"display_data"
    }
   ],
   "metadata":{
    "datalore":{
     "node_id":"jn0RM7O2gRUE01pYr6hSCd",
     "type":"CODE",
     "hide_input_from_viewers":true,
     "hide_output_from_viewers":true
    }
   }
  },
  {
   "cell_type":"code",
   "source":[
    "# Cyklus for\n",
    "for polozka in json_kraje[\"lokacie\"]:\n",
    "    print(polozka[\"kod\"].ljust(5, \" \"), polozka[\"nazov\"][\"sk\"].ljust(20, \" \"), polozka[\"nazov\"][\"en\"], sep = \"\\t\") "
   ],
   "execution_count":17,
   "outputs":[
    {
     "name":"stdout",
     "text":[
      "SK010\tBratislavský kraj   \tRegion of Bratislava\n",
      "SK021\tTrnavský kraj       \tRegion of Trnava\n",
      "SK022\tTrenčiansky kraj    \tRegion of Trenčín\n",
      "SK023\tNitriansky kraj     \tRegion of Nitra\n",
      "SK031\tŽilinský kraj       \tRegion of Žilina\n",
      "SK032\tBanskobystrický kraj\tReg.of Banská Bystrica\n",
      "SK041\tPrešovský kraj      \tRegion of Prešov\n",
      "SK042\tKošický kraj        \tRegion of Košice\n",
      "SKZZ \tZahraničie          \tExtra-regio\n",
      "SKZZZ\tZahraničie          \tExtra-regio\n"
     ],
     "output_type":"stream"
    }
   ],
   "metadata":{
    "datalore":{
     "node_id":"pbfFozs6cKCpbY5n38Y73z",
     "type":"CODE",
     "hide_input_from_viewers":true,
     "hide_output_from_viewers":true
    }
   }
  },
  {
   "cell_type":"code",
   "source":[
    "# Pandas\n",
    "okresy = pd.json_normalize(json_okresy[\"lokacie\"])\n",
    "print(okresy)\n",
    "\n",
    "okresy"
   ],
   "execution_count":22,
   "outputs":[
    {
     "name":"stdout",
     "text":[
      "   nadradenaLokacia     kod        nazov.sk        nazov.en\n",
      "0             SK010  SK0101    Bratislava I    Bratislava I\n",
      "1             SK010  SK0102   Bratislava II   Bratislava II\n",
      "2             SK010  SK0103  Bratislava III  Bratislava III\n",
      "3             SK010  SK0104   Bratislava IV   Bratislava IV\n",
      "4             SK010  SK0105    Bratislava V    Bratislava V\n",
      "..              ...     ...             ...             ...\n",
      "76            SK042  SK0427      Michalovce      Michalovce\n",
      "77            SK042  SK0428         Rožňava         Rožňava\n",
      "78            SK042  SK0429        Sobrance        Sobrance\n",
      "79             SKZZ   SKZZZ      Zahraničie     Extra-regio\n",
      "80            SKZZZ  SKZZZZ      Zahraničie     Extra-regio\n",
      "\n",
      "[81 rows x 4 columns]\n"
     ],
     "output_type":"stream"
    },
    {
     "data":{
      "text\/html":[
       "<div>\n",
       "<style scoped>\n",
       "    .dataframe tbody tr th:only-of-type {\n",
       "        vertical-align: middle;\n",
       "    }\n",
       "\n",
       "    .dataframe tbody tr th {\n",
       "        vertical-align: top;\n",
       "    }\n",
       "\n",
       "    .dataframe thead th {\n",
       "        text-align: right;\n",
       "    }\n",
       "<\/style>\n",
       "<table border=\"1\" class=\"dataframe\">\n",
       "  <thead>\n",
       "    <tr style=\"text-align: right;\">\n",
       "      <th><\/th>\n",
       "      <th>nadradenaLokacia<\/th>\n",
       "      <th>kod<\/th>\n",
       "      <th>nazov.sk<\/th>\n",
       "      <th>nazov.en<\/th>\n",
       "    <\/tr>\n",
       "  <\/thead>\n",
       "  <tbody>\n",
       "    <tr>\n",
       "      <th>0<\/th>\n",
       "      <td>SK010<\/td>\n",
       "      <td>SK0101<\/td>\n",
       "      <td>Bratislava I<\/td>\n",
       "      <td>Bratislava I<\/td>\n",
       "    <\/tr>\n",
       "    <tr>\n",
       "      <th>1<\/th>\n",
       "      <td>SK010<\/td>\n",
       "      <td>SK0102<\/td>\n",
       "      <td>Bratislava II<\/td>\n",
       "      <td>Bratislava II<\/td>\n",
       "    <\/tr>\n",
       "    <tr>\n",
       "      <th>2<\/th>\n",
       "      <td>SK010<\/td>\n",
       "      <td>SK0103<\/td>\n",
       "      <td>Bratislava III<\/td>\n",
       "      <td>Bratislava III<\/td>\n",
       "    <\/tr>\n",
       "    <tr>\n",
       "      <th>3<\/th>\n",
       "      <td>SK010<\/td>\n",
       "      <td>SK0104<\/td>\n",
       "      <td>Bratislava IV<\/td>\n",
       "      <td>Bratislava IV<\/td>\n",
       "    <\/tr>\n",
       "    <tr>\n",
       "      <th>4<\/th>\n",
       "      <td>SK010<\/td>\n",
       "      <td>SK0105<\/td>\n",
       "      <td>Bratislava V<\/td>\n",
       "      <td>Bratislava V<\/td>\n",
       "    <\/tr>\n",
       "    <tr>\n",
       "      <th>...<\/th>\n",
       "      <td>...<\/td>\n",
       "      <td>...<\/td>\n",
       "      <td>...<\/td>\n",
       "      <td>...<\/td>\n",
       "    <\/tr>\n",
       "    <tr>\n",
       "      <th>76<\/th>\n",
       "      <td>SK042<\/td>\n",
       "      <td>SK0427<\/td>\n",
       "      <td>Michalovce<\/td>\n",
       "      <td>Michalovce<\/td>\n",
       "    <\/tr>\n",
       "    <tr>\n",
       "      <th>77<\/th>\n",
       "      <td>SK042<\/td>\n",
       "      <td>SK0428<\/td>\n",
       "      <td>Rožňava<\/td>\n",
       "      <td>Rožňava<\/td>\n",
       "    <\/tr>\n",
       "    <tr>\n",
       "      <th>78<\/th>\n",
       "      <td>SK042<\/td>\n",
       "      <td>SK0429<\/td>\n",
       "      <td>Sobrance<\/td>\n",
       "      <td>Sobrance<\/td>\n",
       "    <\/tr>\n",
       "    <tr>\n",
       "      <th>79<\/th>\n",
       "      <td>SKZZ<\/td>\n",
       "      <td>SKZZZ<\/td>\n",
       "      <td>Zahraničie<\/td>\n",
       "      <td>Extra-regio<\/td>\n",
       "    <\/tr>\n",
       "    <tr>\n",
       "      <th>80<\/th>\n",
       "      <td>SKZZZ<\/td>\n",
       "      <td>SKZZZZ<\/td>\n",
       "      <td>Zahraničie<\/td>\n",
       "      <td>Extra-regio<\/td>\n",
       "    <\/tr>\n",
       "  <\/tbody>\n",
       "<\/table>\n",
       "<p>81 rows × 4 columns<\/p>\n",
       "<\/div>"
      ]
     },
     "metadata":{
      
     },
     "output_type":"display_data"
    }
   ],
   "metadata":{
    "datalore":{
     "node_id":"yzbDmzaeEajaMRlOEB66kz",
     "type":"CODE",
     "hide_input_from_viewers":true,
     "hide_output_from_viewers":true
    }
   }
  },
  {
   "cell_type":"code",
   "source":[
    "def vykresli_data():\n",
    "    x_zoznam = []\n",
    "    y_zoznam = []\n",
    "\n",
    "    for polozka in json_kraje[\"lokacie\"]:\n",
    "        x_zoznam.append(polozka[\"nazov\"][\"sk\"] + \" \" + (polozka[\"kod\"]))\n",
    "        y_zoznam.append(polozka[\"kod\"])\n",
    "    return x_zoznam\n",
    "\n",
    "\n",
    "np.random.seed(6000)\n",
    "sirka = 10 * np.random.rand(len(vykresli_data()))\n",
    "\n",
    "plt.barh(y = vykresli_data(), width=sirka, label = \"Slovensko\")\n",
    "plt.grid()\n",
    "plt.legend()\n",
    "plt.xlabel(\"Roky\")\n",
    "plt.ylabel(\"Kod lokacie\")\n",
    "plt.title(\"RUZ Data\", fontsize = 24, color = \"gold\")\n",
    "plt.show()"
   ],
   "execution_count":58,
   "outputs":[
    {
     "data":{
      "image\/png":"[encoded data removed]"
     },
     "metadata":{
      "image\/png":{
       
      }
     },
     "output_type":"display_data"
    }
   ],
   "metadata":{
    "datalore":{
     "node_id":"pAxE8Q7rEjVl5FhlHlFbhw",
     "type":"CODE",
     "hide_input_from_viewers":true,
     "hide_output_from_viewers":true
    }
   }
  }
 ],
 "metadata":{
  "kernelspec":{
   "display_name":"Python",
   "language":"python",
   "name":"python"
  },
  "datalore":{
   "computation_mode":"JUPYTER",
   "package_manager":"pip",
   "base_environment":"default",
   "packages":[
    
   ],
   "report_row_ids":[
    "BuaxZHVowM1NDgIm5SGTW6",
    "nT01gqoCPDuxVxR1lZEjaG",
    "HnEJbqSEA5YeuN0S9J1MeG",
    "dt5hnZzXUFlltVlRnzQ6cE",
    "iF77wHN3KjirO3UBNMvq29",
    "fkCSJJhXTqtJ0foV4CZkjt",
    "E9cX2hSUAeBjar0TwM5syB",
    "csTaUBzwY1G6f6IoNz36lu",
    "WBOAojo2SfYR7FtzUsMDna",
    "4Ml2nJBg3YA5b888QcDtvX",
    "OUKhS7mp8fwrY3964Ez5y2",
    "m2yJ0WSWZS9uU0PymTdk79",
    "g0B6TRajuZsVSDETVtF4XR",
    "dLyUYYqxeb0pGMnsTKYOJk",
    "XmrrntkpfqpOEv14b1AWu4",
    "xdvYR1r5V3JHEb1AKLtndL",
    "2Bx7dAyMwfFgln8QkHrpJq",
    "YLZVSgnIbSmavWbowrdS8q",
    "g7KfLAHAMyhSnO4Na3rtV2",
    "xS8HaGjyVIprXoHLzaZeG6",
    "yDnUZRdNbM8mTn9X47mDZP",
    "DDn7df11BmiRIZOvOfmH3x",
    "S0Db82KeEH6AMyZTsAzoNq",
    "OtQfIcnqT3bqgAGqS1GBrC",
    "ODTjgljc4F3gclXmhwTVSu",
    "U8WIV4tF0QEKHBplKZyDbc",
    "9nUi8dnJaJs1hA8dxPH3Hl",
    "PFqY3pQMHxzDThg6JKK739",
    "FMUGO3BhTNVzCt2y6deLRi",
    "RgqbOcIgNklcFGM46c39fN",
    "6V665QJ9YOu9wzx7OCKIhb",
    "myhhnezgQ0zvYlWpblthei",
    "y4aNfeuepxv0VtxamAA5vR",
    "micetiPPogLZ8yu6ioRsxF",
    "jBbIE1LidcCwStSAPH686f",
    "FHLb1t5D4UzHBPFKU8z9be",
    "HILTdb7mG4v80s6SHesxY7",
    "piFepyW9JQBjGesRNWdPHa",
    "X6nqi3oJwt16DJftTl0Z0q",
    "05Cu7Nw9CpGsa9aW93eKFA",
    "CJU41iHhNU085OV3ueY0PG",
    "OOGPy5OMyaVQSFQgwsNSSK",
    "CjgWXCSVrTczqlFotxVOXu",
    "djVznlnjdEwp9DpWqJCd58",
    "XNnoBuYVjp4XptuOzsnllh",
    "SZ4tB7Mrwqg6y4Ep90mk03",
    "SEP0IYSTXURbeKKiUMzukE",
    "mbdbzZklzOhFA9VaNO2LuF",
    "L7c9OdwRdJCrVIJjBI9FTE",
    "rruqSWkjmMnZ2BIvB3MSgX",
    "titqCmfkhMtEm1p8NjaGqC",
    "p9DgjhAmfNTcIvw8PlvEvn",
    "1AGXVeheUwlx0CoYOKaVos",
    "qTSjJR9z2qsSoz8xBd2Ixz",
    "MiCZDHRulYDa8k83MEERnW",
    "q6WzQrLyYicFIz3mhHX9rh",
    "uCjThPLnrYKsUJWnC8Rdbc",
    "0YQg2poAuoghVGOMNpoiNy",
    "G7EWHNHgoSNB0QBANJfxs3",
    "S8iYHru66vQ4dKnsKHWIqm",
    "5kv1w4O5BsIKftFfvTYt9R",
    "QVcZYHEOXcko9BWCtk55bz",
    "aJP3y2yXBzjJFE1t5NJMIN",
    "JW6knZSqV20BbILMOudfR1",
    "PCzzRbx4j9O16J55u6XezX",
    "lIsaieeolgRO4Vobl2iJSN",
    "aTu6IdH6uXEwUIlBHYhTcy"
   ],
   "version":3
  }
 },
 "nbformat":4,
 "nbformat_minor":4
}