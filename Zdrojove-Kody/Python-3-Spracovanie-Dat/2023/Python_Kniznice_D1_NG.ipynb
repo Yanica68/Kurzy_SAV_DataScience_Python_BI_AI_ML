{
 "cells":[
  {
   "cell_type":"markdown",
   "source":[
    "# Kniznice"
   ],
   "attachments":{
    
   },
   "metadata":{
    "datalore":{
     "node_id":"Kniznice",
     "type":"MD",
     "hide_input_from_viewers":false,
     "hide_output_from_viewers":false,
     "sheet_delimiter":true
    }
   }
  },
  {
   "cell_type":"markdown",
   "source":[
    "# 🐍 Kurz Python Knižnice (Spracovanie a Vizualizácia Dát)\n",
    "**🧑‍🏫 Lektor:** Miroslav Reiter  \n",
    "**📥 LinkedIn kontakt:** https:\/\/www.linkedin.com\/in\/miroslav-reiter\/  \n",
    "\n",
    "**✅ Osnova:** https:\/\/itkurzy.sav.sk\/node\/110 \n",
    "\n",
    "**🎞️ YouTube videá:** https:\/\/www.youtube.com\/c\/IT-AcademySK  \n",
    "**📇 Zdrojové kódy a materiály:** https:\/\/github.com\/miroslav-reiter\/Kurzy_SAV_Analytika_Python_R  \n",
    "\n",
    "**😊 Emojis:** Win + .  "
   ],
   "attachments":{
    
   },
   "metadata":{
    "datalore":{
     "node_id":"gtjaH8gOiCJE2ArnONNN4I",
     "type":"MD",
     "hide_input_from_viewers":true,
     "hide_output_from_viewers":true
    }
   }
  },
  {
   "cell_type":"markdown",
   "source":[
    "# ⚒️ Používané nástroje dátovej analýzy\n",
    "- 🐍 **Python** - momentálne najpopulárnejší jazyk pre vedu o údajoch (Data science). Python je síce interpretovaný a pomalší jazyk ako C\/C++, ale využitím knižníc, ako je NumPy (a Pandas navyše), sa môžeme priblížiť rýchlosti C.  \n",
    "  \n",
    "- 🪐 **Jupyter** - nástroj s prostredím interaktívneho notebooku, mocný prieskumný, vizualizačný a komunikačný nástroj.\n",
    "  \n",
    "- 🐼 **Pandas** - nástroj na manipuláciu s tabuľkovými údajmi v Pythone. Je to obrovská knižnica, ale ak poznáte správne metódy, môžeme vytvoriť výkonnú analýzu.\n",
    "  \n",
    "- 📊 **Matplotlib** - grafická knižnica s rôznymi grafmi a vizualizáciami. V spojení s Pandas a Jupyter môžeme rýchlo získať prehľad o našich údajoch.  \n",
    "  \n",
    "- 🚀 **Numpy** - knižnica jazyka Python, ktorá poskytuje infraštruktúru pre prácu s vektormi, maticami a všeobecne viacrozmernými poliami.\n",
    "\n",
    "😎 Existuje 300 000+ knižníc pre Python.  "
   ],
   "attachments":{
    
   },
   "metadata":{
    "datalore":{
     "node_id":"HlJXCNvBPNinkUIhkHUYU9",
     "type":"MD",
     "hide_input_from_viewers":true,
     "hide_output_from_viewers":true
    }
   }
  },
  {
   "cell_type":"markdown",
   "source":[
    "# 📚 PIP, Knižnice a ich verzie \n",
    "**PIP (package installer for Python)** - Správca Balíčkov pre moduly programovacieho jazyka Python, Tiež napísaný v Pythone, Licencia MIT.  \n",
    "Dokumentácia PIP: https:\/\/pip.pypa.io\/en\/stable\/\n",
    "\n",
    "**PyPI (The Python Package Index)** - Repozitár\/úložisko softvéru pre programovací jazyk Python  \n",
    "https:\/\/pypi.org"
   ],
   "attachments":{
    
   },
   "metadata":{
    "datalore":{
     "node_id":"utjXvhnaVEZx0y9tcUL1AW",
     "type":"MD",
     "hide_input_from_viewers":true,
     "hide_output_from_viewers":true
    }
   }
  },
  {
   "cell_type":"code",
   "source":[
    "# !pip install meno_balíka\n",
    "# !pip list\n",
    "# !pip uninstall meno_balíka"
   ],
   "execution_count":null,
   "outputs":[
    
   ],
   "metadata":{
    "datalore":{
     "node_id":"vXhEMhQaQDN2QTvhMIF6rf",
     "type":"CODE",
     "hide_input_from_viewers":true,
     "hide_output_from_viewers":true
    }
   }
  },
  {
   "cell_type":"markdown",
   "source":[
    "# 💀 Spracovanie Chýb (Exception - Výnimiek), Údajov, Dátového Toku\n",
    "try - except - finally"
   ],
   "attachments":{
    
   },
   "metadata":{
    "datalore":{
     "node_id":"O6f5kWGeujRXtOQVWAlLTl",
     "type":"MD",
     "hide_input_from_viewers":true,
     "hide_output_from_viewers":true
    }
   }
  },
  {
   "cell_type":"code",
   "source":[
    
   ],
   "execution_count":null,
   "outputs":[
    
   ],
   "metadata":{
    "datalore":{
     "node_id":"xxC61eI2Oqyzy8GmzzwrET",
     "type":"CODE",
     "hide_input_from_viewers":true,
     "hide_output_from_viewers":true
    }
   }
  },
  {
   "cell_type":"markdown",
   "source":[
    "# Matplotlib"
   ],
   "attachments":{
    
   },
   "metadata":{
    "datalore":{
     "node_id":"Matplotlib",
     "type":"MD",
     "hide_input_from_viewers":false,
     "hide_output_from_viewers":false,
     "sheet_delimiter":true
    }
   }
  },
  {
   "cell_type":"code",
   "source":[
    
   ],
   "execution_count":null,
   "outputs":[
    
   ],
   "metadata":{
    "datalore":{
     "node_id":"vZRVvjmHrdLSaK5J6pKuUk",
     "type":"CODE",
     "hide_input_from_viewers":true,
     "hide_output_from_viewers":true
    }
   }
  },
  {
   "cell_type":"markdown",
   "source":[
    "# Pandas"
   ],
   "attachments":{
    
   },
   "metadata":{
    "datalore":{
     "node_id":"Pandas",
     "type":"MD",
     "hide_input_from_viewers":false,
     "hide_output_from_viewers":false,
     "sheet_delimiter":true
    }
   }
  },
  {
   "cell_type":"code",
   "source":[
    
   ],
   "execution_count":null,
   "outputs":[
    
   ],
   "metadata":{
    "datalore":{
     "node_id":"21SsZLDs8jyA4eTU021soY",
     "type":"CODE",
     "hide_input_from_viewers":true,
     "hide_output_from_viewers":true
    }
   }
  },
  {
   "cell_type":"markdown",
   "source":[
    "# Numpy"
   ],
   "attachments":{
    
   },
   "metadata":{
    "datalore":{
     "node_id":"Numpy",
     "type":"MD",
     "hide_input_from_viewers":false,
     "hide_output_from_viewers":false,
     "sheet_delimiter":true
    }
   }
  },
  {
   "cell_type":"code",
   "source":[
    
   ],
   "execution_count":null,
   "outputs":[
    
   ],
   "metadata":{
    "datalore":{
     "node_id":"qcYkZiqk24QTC3WvG11ZBN",
     "type":"CODE",
     "hide_input_from_viewers":true,
     "hide_output_from_viewers":true
    }
   }
  }
 ],
 "metadata":{
  "kernelspec":{
   "display_name":"Python",
   "language":"python",
   "name":"python"
  },
  "datalore":{
   "computation_mode":"JUPYTER",
   "package_manager":"pip",
   "base_environment":"default",
   "packages":[
    
   ],
   "report_row_ids":[
    
   ],
   "version":2
  }
 },
 "nbformat":4,
 "nbformat_minor":4
}