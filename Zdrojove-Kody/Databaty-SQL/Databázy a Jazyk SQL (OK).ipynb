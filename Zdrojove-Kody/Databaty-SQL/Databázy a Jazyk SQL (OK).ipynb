{
 "cells":[
  {
   "cell_type":"markdown",
   "source":[
    "# Úvod do Databáz a DBMS"
   ],
   "attachments":{
    
   },
   "metadata":{
    "datalore":{
     "node_id":"Úvod do Databáz a DBMS",
     "type":"MD",
     "hide_input_from_viewers":false,
     "hide_output_from_viewers":false,
     "sheet_delimiter":true
    }
   }
  },
  {
   "cell_type":"markdown",
   "source":[
    "## 👩‍🔬👨‍🔬 Kurz Data Science (Databázy a Jazyk SQL)\n",
    "**🧑‍🏫 Lektor:** Miroslav Reiter  \n",
    "**📥 LinkedIn kontakt:** https:\/\/www.linkedin.com\/in\/miroslav-reiter\/  \n",
    "\n",
    "`*Testovaci* **Text**`\n",
    "\n",
    "**✅ Osnova:** https:\/\/itkurzy.sav.sk\/node\/195\n",
    "\n",
    "**🎞️ YouTube videá:** https:\/\/www.youtube.com\/c\/IT-AcademySK  \n",
    "**📇 Zdrojové kódy a materiály:** https:\/\/github.com\/miroslav-reiter\/Kurzy_SAV_Analytika_Python_R  \n",
    "\n",
    "**😊 Emojis:** Win + .  "
   ],
   "attachments":{
    
   },
   "metadata":{
    "datalore":{
     "node_id":"pmFpM1Ishk43Rn6KMyp5zq",
     "type":"MD",
     "hide_input_from_viewers":true,
     "hide_output_from_viewers":true
    }
   }
  },
  {
   "cell_type":"markdown",
   "source":[
    "# Čo je Databáza?\n",
    "\n",
    "1. Kontajnér na ukladanie a organizáciu údajov\n",
    "2. Kolekcia dát, ktoré sú systematicky usporiadané tak, aby bolo možné ľahko pristupovať k nim, spravovať ich a aktualizovať \n",
    "3. Sú nevyhnutné pre rôzne aplikácie a organizácie, pretože poskytujú efektívny spôsob, ako ukladať, načítať a analyzovať veľké objemy údajov\n",
    "\n",
    "# Čo je DBMS (Database Management System)?\n",
    "* Softvérový nástroj alebo súbor nástrojov používaný na vytváranie, spravovanie a prispôsobovanie databáz \n",
    "* Umožňuje používateľom ukladať, spracovávať a analyzovať veľké množstvo štruktúrovanej informácie a spravovať dáta s vysokou účinnosťou a bezpečnosťou"
   ],
   "attachments":{
    
   },
   "metadata":{
    "datalore":{
     "node_id":"RPo4MPDa5cOgj7oFQFoj3N",
     "type":"MD",
     "hide_input_from_viewers":true,
     "hide_output_from_viewers":true
    }
   }
  },
  {
   "cell_type":"markdown",
   "source":[
    "# Príklady Využitia Databáz \n",
    "1. Bankovníctvo: Na ukladanie informácií o klientoch, ich účtoch, transakciách, pôžičkách a iných finančných službách\n",
    "2. **Online obchody a e-commerce**: Na správu eshopu, zákazníckych údajov, objednávok, platobných informácií a historie nákupov\n",
    "3. Zdravotníctvo: Na ukladanie pacientskych záznamov, lekárskych predpisov, výsledkov testov a informácií o liečbe\n",
    "4. **Vzdelávanie**: Na správu študentských záznamov, kurzov, známok a registrácie\n",
    "5. Telekomunikácie: Na správu informácií o zákazníkoch, hovoroch, fakturácii a sieťových dátach\n",
    "6. Výroba: Na sledovanie výrobných procesov, zásob, objednávok a dodávateľských reťazcov\n",
    "7. Doprava a logistika: Na sledovanie zásielok, vozového parku, cestovných itinerárov a údajov o preprave\n",
    "8. Vládne a verejné služby: Na evidenciu občianskych údajov, daňových záznamov, evidencie vozidiel a iných verejných záznamov\n",
    "9. **Sociálne médiá a online platformy**: Na ukladanie údajov o používateľoch, ich interakciách, príspevkoch a sieťových vzťahoch\n",
    "10. **Vedecký výskum a dátovej analýzy**: Na ukladanie a analyzovanie veľkých súborov údajov v oblastiach ako genómika, klimatológia, fyzika a mnoho ďalších\n",
    "\n",
    "# DBMS Funkcie\n",
    "1. Ukladanie dát: Umožňuje ukladanie rôznych druhov dát v organizovanej forme\n",
    "2. Manipulácia s dátami: Podpora pre vytváranie, aktualizáciu, mazanie a vyhľadávanie dát\n",
    "3. Transakčný manažment: Zabezpečuje integritu dát pri súčasnom prístupe viacerých používateľov a zabezpečuje, že všetky transakcie sú kompletné a konzistentné\n",
    "4. Zabezpečenie a správa oprávnení: Umožňuje definovať, kto má prístup k akým dátam a aké operácie môže s dátami vykonávať\n",
    "5. Zálohovanie a obnova: Umožňuje zálohovanie dát a ich obnovu v prípade systémového zlyhania alebo straty dát"
   ],
   "attachments":{
    
   },
   "metadata":{
    "datalore":{
     "node_id":"CPgvkkAJ7NZPlqqjhsa2z2",
     "type":"MD",
     "hide_input_from_viewers":true,
     "hide_output_from_viewers":true
    }
   }
  },
  {
   "cell_type":"markdown",
   "source":[
    "# Konkrétne DBMS\/DB\n",
    "1. MySQL: Obľúbený open-source relačný databázový systém, ktorý je často používaný v web aplikáciách, vrátane online obchodov a webov\n",
    "2. PostgreSQL: Vysoko sofistikovaný open-source objektovo-relačný DBMS, známy pre svoju robustnosť, skalovateľnosť a podporu komplexných dátových typov\n",
    "3. Microsoft SQL Server: Komplexný komerčný DBMS od spoločnosti Microsoft, populárny vo firemnom prostredí, ponúka rozsiahle nástroje a integráciu s inými produktmi Microsoftu\n",
    "4. Oracle Database: Veľmi výkonný a rozšírený komerčný DBMS, používaný hlavne veľkými spoločnosťami a organizáciami pre kritické aplikácie\n",
    "5. MongoDB: Populárny NoSQL databázový systém orientovaný na dokumenty, vhodný pre aplikácie, ktoré vyžadujú rýchle spracovanie veľkého množstva nestrukturovaných dát\n",
    "6. SQLite: Ľahká, embeddable databáza, ktorá nevyžaduje samostatný serverový proces, často používaná v mobilných aplikáciách a malých webových projektoch\n",
    "7. IBM DB2: Výkonný komerčný DBMS, ktorý sa používa v rôznych podnikových a analytických aplikáciách\n",
    "8. Apache Cassandra: Škálovateľný, vysokovýkonný distribuovaný NoSQL DBMS, navrhnutý pre spracovanie veľkých objemov dát rozložených naprieč mnohými servermi\n",
    "9. Redis: Výkonný databázový systém v pamäti, ktorý sa často používa ako vyrovnávacia pamäť alebo na ukladanie dát v reálnom čase\n",
    "10. Amazon DynamoDB: Plne spravovaná NoSQL databázová služba poskytovaná Amazon Web Services, navrhnutá pre jednoduché škálovanie a vysokú dostupnosť\n"
   ],
   "attachments":{
    
   },
   "metadata":{
    "datalore":{
     "node_id":"7mkxSqmcyNKp5WM7dsKyRK",
     "type":"MD",
     "hide_input_from_viewers":true,
     "hide_output_from_viewers":true
    }
   }
  },
  {
   "cell_type":"markdown",
   "source":[
    "# 1. Ktorý databázový systém je najpoužívanejší na svete a prečo?"
   ],
   "attachments":{
    
   },
   "metadata":{
    "datalore":{
     "node_id":"7hHFF80uYdjPkcdv2LHfs6",
     "type":"MD",
     "hide_input_from_viewers":true,
     "hide_output_from_viewers":true
    }
   }
  },
  {
   "cell_type":"code",
   "source":[
    
   ],
   "execution_count":null,
   "outputs":[
    
   ],
   "metadata":{
    "datalore":{
     "node_id":"0ShvMXEKXSX7xfIPuiZtKy",
     "type":"CODE",
     "hide_input_from_viewers":true,
     "hide_output_from_viewers":true
    }
   }
  },
  {
   "cell_type":"markdown",
   "source":[
    "# 2. Ktorý databázový systém je najpoužívanejší pre webstránkach a eshopoch?"
   ],
   "attachments":{
    
   },
   "metadata":{
    "datalore":{
     "node_id":"OT80qCFxVhrBROBkpAwtqi",
     "type":"MD",
     "hide_input_from_viewers":true,
     "hide_output_from_viewers":true
    }
   }
  },
  {
   "cell_type":"markdown",
   "source":[
    "# Pripojenie sa na DB"
   ],
   "attachments":{
    
   },
   "metadata":{
    "datalore":{
     "node_id":"Lv1Or8fAb5V24rg7feUGku",
     "type":"MD",
     "hide_input_from_viewers":true,
     "hide_output_from_viewers":true
    }
   }
  },
  {
   "cell_type":"markdown",
   "source":[
    "## 🐬 MySQL \n",
    "Inštalátor: https:\/\/dev.mysql.com\/downloads\/mysql\/ | https:\/\/www.wampserver.com\/en\/  \n",
    "Porty: 3306-3311  \n",
    "User: root  \n",
    "Heslo: bez (Wamp)\/vase(MySql installer)  \n",
    "JDBC driver: https:\/\/dev.mysql.com\/downloads\/connector\/j\/  \n",
    "\n",
    "##  🐘 PostgreSQL \n",
    "Inštalátor: https:\/\/www.postgresql.org\/download\/windows\/  \n",
    "Porty: 5432  \n",
    "User: postgres  \n",
    "Heslo: vase(PostgreSQL installer)  \n",
    "JDBC driver: https:\/\/jdbc.postgresql.org\/download.html  \n",
    "\n",
    "##  🎩 Apache Derby  \n",
    "Inštalátor: https:\/\/db.apache.org\/derby\/derby_downloads.html  \n",
    "Porty: 1527  \n",
    "\n",
    "##  ☁️ Oracle DB  \n",
    "Inštalátor: https:\/\/www.oracle.com\/database\/technologies\/appdev\/xe.html  \n",
    "Porty: 1521  \n",
    "SID: xe  \n",
    "\n",
    "##  🦢 SQLite  \n",
    "Inštalátor: https:\/\/www.sqlite.org\/download.html  \n",
    "Porty: nemá porty  "
   ],
   "attachments":{
    
   },
   "metadata":{
    "datalore":{
     "node_id":"eYODywV6wh8VgwnfTfiKtQ",
     "type":"MD",
     "hide_input_from_viewers":true,
     "hide_output_from_viewers":true
    }
   }
  },
  {
   "cell_type":"markdown",
   "source":[
    "## 🗄️ Údaje na Testovacie Pripojenie na Databázu na DOMA\n",
    "### 🐬 MySQL \n",
    "**Hostiteľ [host]:** mysql57.r2.websupport.sk  \n",
    "Databáza [database\/schema]: Kurz_DB_SQL  \n",
    "**Používateľ [user]:** Kurz_DB_SQL  \n",
    "Heslo [password]: Buduci_analytik123  \n",
    "**Port:** 3311  \n",
    "\n",
    "### 🐘 PostgreSQL \n",
    "**Hostiteľ [host]:** postgresql.r2.websupport.sk  \n",
    "Databáza [database\/schema]: Kurz_VAVA_JDBC  \n",
    "**Používateľ [user]:** Kurz_VAVA_JDBC  \n",
    "Heslo [password]: Kurz_java_developeri_2023  \n",
    "**Port:** 5432   "
   ],
   "attachments":{
    
   },
   "metadata":{
    "datalore":{
     "node_id":"8OHBLPDqEidUtGXPZeogCd",
     "type":"MD",
     "hide_input_from_viewers":true,
     "hide_output_from_viewers":true
    }
   }
  },
  {
   "cell_type":"markdown",
   "source":[
    "# Výpis Všetkých Tabuliek (Tabuliek)"
   ],
   "attachments":{
    
   },
   "metadata":{
    "datalore":{
     "node_id":"Ytpwu6py5ucjmGTj2aZEO6",
     "type":"MD",
     "hide_input_from_viewers":true,
     "hide_output_from_viewers":true
    }
   }
  },
  {
   "cell_type":"code",
   "source":[
    "show tables;"
   ],
   "execution_count":1,
   "outputs":[
    {
     "data":{
      "text\/html":[
       "<div>\n",
       "<style scoped>\n",
       "    .dataframe tbody tr th:only-of-type {\n",
       "        vertical-align: middle;\n",
       "    }\n",
       "\n",
       "    .dataframe tbody tr th {\n",
       "        vertical-align: top;\n",
       "    }\n",
       "\n",
       "    .dataframe thead th {\n",
       "        text-align: right;\n",
       "    }\n",
       "<\/style>\n",
       "<table border=\"1\" class=\"dataframe\">\n",
       "  <thead>\n",
       "    <tr style=\"text-align: right;\">\n",
       "      <th><\/th>\n",
       "      <th>Tables_in_DB_MySQL<\/th>\n",
       "    <\/tr>\n",
       "  <\/thead>\n",
       "  <tbody>\n",
       "    <tr>\n",
       "      <th>0<\/th>\n",
       "      <td>DEPT<\/td>\n",
       "    <\/tr>\n",
       "    <tr>\n",
       "      <th>1<\/th>\n",
       "      <td>EMP<\/td>\n",
       "    <\/tr>\n",
       "    <tr>\n",
       "      <th>2<\/th>\n",
       "      <td>Studenti<\/td>\n",
       "    <\/tr>\n",
       "    <tr>\n",
       "      <th>3<\/th>\n",
       "      <td>T1<\/td>\n",
       "    <\/tr>\n",
       "    <tr>\n",
       "      <th>4<\/th>\n",
       "      <td>T10<\/td>\n",
       "    <\/tr>\n",
       "    <tr>\n",
       "      <th>5<\/th>\n",
       "      <td>T100<\/td>\n",
       "    <\/tr>\n",
       "    <tr>\n",
       "      <th>6<\/th>\n",
       "      <td>Znamky<\/td>\n",
       "    <\/tr>\n",
       "    <tr>\n",
       "      <th>7<\/th>\n",
       "      <td>nobel<\/td>\n",
       "    <\/tr>\n",
       "    <tr>\n",
       "      <th>8<\/th>\n",
       "      <td>world<\/td>\n",
       "    <\/tr>\n",
       "  <\/tbody>\n",
       "<\/table>\n",
       "<\/div>"
      ]
     },
     "metadata":{
      
     },
     "output_type":"display_data"
    }
   ],
   "metadata":{
    "datalore":{
     "node_id":"970fh9tZdcHUEy8K33LPdw",
     "type":"SQL",
     "hide_input_from_viewers":true,
     "hide_output_from_viewers":true,
     "sql_cell_properties":{
      "dbId":"o3xwDOTwGyDFOgwr0TtQr1",
      "variableName":"df_1",
      "dialect":"mysql.8"
     }
    }
   }
  },
  {
   "cell_type":"markdown",
   "source":[
    
   ],
   "attachments":{
    
   },
   "metadata":{
    "datalore":{
     "node_id":"QQITWgJ8QMPqSNLWiXNDmQ",
     "type":"MD",
     "hide_input_from_viewers":true,
     "hide_output_from_viewers":true
    }
   }
  },
  {
   "cell_type":"markdown",
   "source":[
    "# Prvé Dopyty v Jazyku SQL (Selecty)"
   ],
   "attachments":{
    
   },
   "metadata":{
    "datalore":{
     "node_id":"ZMOOpbJKlpCivBjRj1NMyB",
     "type":"MD",
     "hide_input_from_viewers":true,
     "hide_output_from_viewers":true
    }
   }
  },
  {
   "cell_type":"code",
   "source":[
    "select * from world;"
   ],
   "execution_count":2,
   "outputs":[
    {
     "data":{
      "text\/html":[
       "<div>\n",
       "<style scoped>\n",
       "    .dataframe tbody tr th:only-of-type {\n",
       "        vertical-align: middle;\n",
       "    }\n",
       "\n",
       "    .dataframe tbody tr th {\n",
       "        vertical-align: top;\n",
       "    }\n",
       "\n",
       "    .dataframe thead th {\n",
       "        text-align: right;\n",
       "    }\n",
       "<\/style>\n",
       "<table border=\"1\" class=\"dataframe\">\n",
       "  <thead>\n",
       "    <tr style=\"text-align: right;\">\n",
       "      <th><\/th>\n",
       "      <th>name<\/th>\n",
       "      <th>continent<\/th>\n",
       "      <th>area<\/th>\n",
       "      <th>population<\/th>\n",
       "      <th>gdp<\/th>\n",
       "      <th>capital<\/th>\n",
       "      <th>tld<\/th>\n",
       "      <th>flag<\/th>\n",
       "    <\/tr>\n",
       "  <\/thead>\n",
       "  <tbody>\n",
       "    <tr>\n",
       "      <th>0<\/th>\n",
       "      <td>Afghanistan<\/td>\n",
       "      <td>Asia<\/td>\n",
       "      <td>652230<\/td>\n",
       "      <td>25500100<\/td>\n",
       "      <td>2.036400e+10<\/td>\n",
       "      <td>Kabul<\/td>\n",
       "      <td>.af<\/td>\n",
       "      <td>\/\/upload.wikimedia.org\/wikipedia\/commons\/9\/9a\/...<\/td>\n",
       "    <\/tr>\n",
       "    <tr>\n",
       "      <th>1<\/th>\n",
       "      <td>Albania<\/td>\n",
       "      <td>Europe<\/td>\n",
       "      <td>28748<\/td>\n",
       "      <td>2821977<\/td>\n",
       "      <td>1.204400e+10<\/td>\n",
       "      <td>Tirana<\/td>\n",
       "      <td>.al<\/td>\n",
       "      <td>\/\/upload.wikimedia.org\/wikipedia\/commons\/3\/36\/...<\/td>\n",
       "    <\/tr>\n",
       "    <tr>\n",
       "      <th>2<\/th>\n",
       "      <td>Algeria<\/td>\n",
       "      <td>Africa<\/td>\n",
       "      <td>2381741<\/td>\n",
       "      <td>38700000<\/td>\n",
       "      <td>2.070210e+05<\/td>\n",
       "      <td>Algiers<\/td>\n",
       "      <td>.dz<\/td>\n",
       "      <td>\/\/upload.wikimedia.org\/wikipedia\/commons\/7\/77\/...<\/td>\n",
       "    <\/tr>\n",
       "    <tr>\n",
       "      <th>3<\/th>\n",
       "      <td>Andorra<\/td>\n",
       "      <td>Europe<\/td>\n",
       "      <td>468<\/td>\n",
       "      <td>76098<\/td>\n",
       "      <td>3.222000e+09<\/td>\n",
       "      <td>Andorra la Vella<\/td>\n",
       "      <td>.ad<\/td>\n",
       "      <td>\/\/upload.wikimedia.org\/wikipedia\/commons\/1\/19\/...<\/td>\n",
       "    <\/tr>\n",
       "    <tr>\n",
       "      <th>4<\/th>\n",
       "      <td>Angola<\/td>\n",
       "      <td>Africa<\/td>\n",
       "      <td>1246700<\/td>\n",
       "      <td>19183590<\/td>\n",
       "      <td>1.163080e+05<\/td>\n",
       "      <td>Luanda<\/td>\n",
       "      <td>.ao<\/td>\n",
       "      <td>\/\/upload.wikimedia.org\/wikipedia\/commons\/9\/9d\/...<\/td>\n",
       "    <\/tr>\n",
       "    <tr>\n",
       "      <th>...<\/th>\n",
       "      <td>...<\/td>\n",
       "      <td>...<\/td>\n",
       "      <td>...<\/td>\n",
       "      <td>...<\/td>\n",
       "      <td>...<\/td>\n",
       "      <td>...<\/td>\n",
       "      <td>...<\/td>\n",
       "      <td>...<\/td>\n",
       "    <\/tr>\n",
       "    <tr>\n",
       "      <th>190<\/th>\n",
       "      <td>Venezuela<\/td>\n",
       "      <td>South America<\/td>\n",
       "      <td>916445<\/td>\n",
       "      <td>28946101<\/td>\n",
       "      <td>3.824240e+05<\/td>\n",
       "      <td>Caracas<\/td>\n",
       "      <td>.ve<\/td>\n",
       "      <td>\/\/upload.wikimedia.org\/wikipedia\/commons\/0\/06\/...<\/td>\n",
       "    <\/tr>\n",
       "    <tr>\n",
       "      <th>191<\/th>\n",
       "      <td>Vietnam<\/td>\n",
       "      <td>Asia<\/td>\n",
       "      <td>331212<\/td>\n",
       "      <td>89708900<\/td>\n",
       "      <td>1.558200e+04<\/td>\n",
       "      <td>Hanoi<\/td>\n",
       "      <td>.vn<\/td>\n",
       "      <td>\/\/upload.wikimedia.org\/wikipedia\/commons\/2\/21\/...<\/td>\n",
       "    <\/tr>\n",
       "    <tr>\n",
       "      <th>192<\/th>\n",
       "      <td>Yemen<\/td>\n",
       "      <td>Asia<\/td>\n",
       "      <td>527968<\/td>\n",
       "      <td>25235000<\/td>\n",
       "      <td>3.283100e+10<\/td>\n",
       "      <td>Sana‘a<\/td>\n",
       "      <td>.ye<\/td>\n",
       "      <td>\/\/upload.wikimedia.org\/wikipedia\/commons\/8\/89\/...<\/td>\n",
       "    <\/tr>\n",
       "    <tr>\n",
       "      <th>193<\/th>\n",
       "      <td>Zambia<\/td>\n",
       "      <td>Africa<\/td>\n",
       "      <td>752612<\/td>\n",
       "      <td>15023315<\/td>\n",
       "      <td>2.149000e+10<\/td>\n",
       "      <td>Lusaka<\/td>\n",
       "      <td>.zm<\/td>\n",
       "      <td>\/\/upload.wikimedia.org\/wikipedia\/commons\/0\/06\/...<\/td>\n",
       "    <\/tr>\n",
       "    <tr>\n",
       "      <th>194<\/th>\n",
       "      <td>Zimbabwe<\/td>\n",
       "      <td>Africa<\/td>\n",
       "      <td>390757<\/td>\n",
       "      <td>13061239<\/td>\n",
       "      <td>9.802000e+09<\/td>\n",
       "      <td>Harare<\/td>\n",
       "      <td>.zw<\/td>\n",
       "      <td>\/\/upload.wikimedia.org\/wikipedia\/commons\/6\/6a\/...<\/td>\n",
       "    <\/tr>\n",
       "  <\/tbody>\n",
       "<\/table>\n",
       "<p>195 rows × 8 columns<\/p>\n",
       "<\/div>"
      ]
     },
     "metadata":{
      
     },
     "output_type":"display_data"
    }
   ],
   "metadata":{
    "datalore":{
     "node_id":"7J8pMkrF2DbY5EzKIOX1pj",
     "type":"SQL",
     "hide_input_from_viewers":true,
     "hide_output_from_viewers":true,
     "sql_cell_properties":{
      "dbId":"o3xwDOTwGyDFOgwr0TtQr1",
      "variableName":"df_2",
      "dialect":"mysql.8"
     }
    }
   }
  },
  {
   "cell_type":"markdown",
   "source":[
    "# Identifikácia DB"
   ],
   "attachments":{
    
   },
   "metadata":{
    "datalore":{
     "node_id":"Identifikácia DB",
     "type":"MD",
     "hide_input_from_viewers":false,
     "hide_output_from_viewers":false,
     "sheet_delimiter":true
    }
   }
  },
  {
   "cell_type":"markdown",
   "source":[
    "# 🕵️ Identifikácia DB\n",
    "1. Technologický stack webovej stránky\n",
    "2. Dokumentácia alebo technické podrobnosti na webovej stránke\n",
    "3. Analýza HTTP hlavičky a kód stránky\n",
    "4. Kontakt vývojárov alebo správcov stránky\n",
    "5. Vyhľadávanie na internete\n",
    "6. Chybové hlášky\n",
    "7. Nástroje na reverzné inžinierstvo a hack"
   ],
   "attachments":{
    
   },
   "metadata":{
    "datalore":{
     "node_id":"CyAGR3GIhptBj8xblAF1z8",
     "type":"MD",
     "hide_input_from_viewers":true,
     "hide_output_from_viewers":true
    }
   }
  },
  {
   "cell_type":"markdown",
   "source":[
    "# Technologický Profil\/Stack webovej stránky"
   ],
   "attachments":{
    
   },
   "metadata":{
    "datalore":{
     "node_id":"RYrNH0nOe3E3u1rvJWhTJm",
     "type":"MD",
     "hide_input_from_viewers":true,
     "hide_output_from_viewers":true
    }
   }
  },
  {
   "cell_type":"markdown",
   "source":[
    "**Wappalyer**  \n",
    "https:\/\/chromewebstore.google.com\/detail\/wappalyzer-technology-pro\/gppongmhjkpfnbhagpmjfkannfbllamg  \n",
    "\n",
    "**BuilthWith**  \n",
    "https:\/\/chromewebstore.google.com\/detail\/builtwith-technology-prof\/dapjbgnjinbpoindlpdmhochffioedbn  "
   ],
   "attachments":{
    
   },
   "metadata":{
    "datalore":{
     "node_id":"B1qI19FdqqqIKgmwjwXYFm",
     "type":"MD",
     "hide_input_from_viewers":true,
     "hide_output_from_viewers":true
    }
   }
  },
  {
   "cell_type":"markdown",
   "source":[
    "# Dokumentácia alebo technické podrobnosti na webovej stránke"
   ],
   "attachments":{
    
   },
   "metadata":{
    "datalore":{
     "node_id":"vOqxqEDbq9Fda3Dy33wuZS",
     "type":"MD",
     "hide_input_from_viewers":true,
     "hide_output_from_viewers":true
    }
   }
  },
  {
   "cell_type":"code",
   "source":[
    
   ],
   "execution_count":null,
   "outputs":[
    
   ],
   "metadata":{
    "datalore":{
     "node_id":"Stz1s1yJEKCynYxqqy3RxP",
     "type":"CODE",
     "hide_input_from_viewers":true,
     "hide_output_from_viewers":true
    }
   }
  },
  {
   "cell_type":"markdown",
   "source":[
    "# Chybové Hlášky"
   ],
   "attachments":{
    
   },
   "metadata":{
    "datalore":{
     "node_id":"CTRnn7bu0UT33lj4XdOayn",
     "type":"MD",
     "hide_input_from_viewers":true,
     "hide_output_from_viewers":true
    }
   }
  },
  {
   "cell_type":"code",
   "source":[
    
   ],
   "execution_count":null,
   "outputs":[
    
   ],
   "metadata":{
    "datalore":{
     "node_id":"NwPPN8do66WqySUORqIBwx",
     "type":"CODE",
     "hide_input_from_viewers":true,
     "hide_output_from_viewers":true
    }
   }
  },
  {
   "cell_type":"markdown",
   "source":[
    "# SQL"
   ],
   "attachments":{
    
   },
   "metadata":{
    "datalore":{
     "node_id":"SQL",
     "type":"MD",
     "hide_input_from_viewers":false,
     "hide_output_from_viewers":false,
     "sheet_delimiter":true
    }
   }
  },
  {
   "cell_type":"markdown",
   "source":[
    "# 👌 Jazyk SQL\n",
    "* Skratka pre „Structured Query Language“ (Štruktúrovaný dopytovací jazyk), \n",
    "* Je štandardný jazyk používaný na správu a manipuláciu s dátami v relačných databázových systémoch. \n",
    "* Umožňuje vytvárať, upravovať, spravovať a dotazovať sa na databázy, čo zahŕňa operácie ako vkladanie, aktualizácia, mazanie a vyberanie dát. Jazyk SQL je široko používaný v oblasti databázového programovania a správy dát.  \n",
    "  \n",
    "1. DQL – Data Query Language\n",
    "2. DML – Data Manipulation Language\n",
    "3. DDL – Data Definition Language\n",
    "4. DCL – Data Control Language"
   ],
   "attachments":{
    
   },
   "metadata":{
    "datalore":{
     "node_id":"jlTSsPhEx0KmYbRcZegz49",
     "type":"MD",
     "hide_input_from_viewers":true,
     "hide_output_from_viewers":true
    }
   }
  },
  {
   "cell_type":"markdown",
   "source":[
    "# SQL Jazyk – DML"
   ],
   "attachments":{
    
   },
   "metadata":{
    "datalore":{
     "node_id":"EXLUXU3NUCnFTPFvxiJSDP",
     "type":"MD",
     "hide_input_from_viewers":true,
     "hide_output_from_viewers":true
    }
   }
  },
  {
   "cell_type":"markdown",
   "source":[
    "1. SELECT – výber dát  \n",
    "2. INSERT – vloženie dát \n",
    "3. UPDATE – aktualizácia dát \n",
    "4. DELETE – zmazanie dát \n",
    "5. UPSERT – aktualizácia a súčasne vkladanie dát   "
   ],
   "attachments":{
    
   },
   "metadata":{
    "datalore":{
     "node_id":"ZuVtuCdhJvFvvMQrZUr5fM",
     "type":"MD",
     "hide_input_from_viewers":true,
     "hide_output_from_viewers":true
    }
   }
  },
  {
   "cell_type":"markdown",
   "source":[
    "# Vlastnosti jazyka SQL\n",
    "1. Medzery navyše sú ignorované\n",
    "2. Nie je senzitívny na veľkosť písmen\n",
    "3. Príkazy sú oddeľované bodkočiarkou\n",
    "4. Klauzuly sú špeciálne kľúčové slová\n",
    "5. Výrazy vracajú skalárne hodnoty alebo tabuľky\n",
    "6. Predikát predstavuje podmienku – 3–hodnotová logika\n"
   ],
   "attachments":{
    
   },
   "metadata":{
    "datalore":{
     "node_id":"Cu186oBClg3KOcny4vn4EJ",
     "type":"MD",
     "hide_input_from_viewers":true,
     "hide_output_from_viewers":true
    }
   }
  },
  {
   "cell_type":"code",
   "source":[
    "SELECT * FROM EMP;"
   ],
   "execution_count":4,
   "outputs":[
    {
     "data":{
      "text\/html":[
       "<div>\n",
       "<style scoped>\n",
       "    .dataframe tbody tr th:only-of-type {\n",
       "        vertical-align: middle;\n",
       "    }\n",
       "\n",
       "    .dataframe tbody tr th {\n",
       "        vertical-align: top;\n",
       "    }\n",
       "\n",
       "    .dataframe thead th {\n",
       "        text-align: right;\n",
       "    }\n",
       "<\/style>\n",
       "<table border=\"1\" class=\"dataframe\">\n",
       "  <thead>\n",
       "    <tr style=\"text-align: right;\">\n",
       "      <th><\/th>\n",
       "      <th>EMPNO<\/th>\n",
       "      <th>ENAME<\/th>\n",
       "      <th>JOB<\/th>\n",
       "      <th>MGR<\/th>\n",
       "      <th>HIREDATE<\/th>\n",
       "      <th>SAL<\/th>\n",
       "      <th>COMM<\/th>\n",
       "      <th>DEPTNO<\/th>\n",
       "    <\/tr>\n",
       "  <\/thead>\n",
       "  <tbody>\n",
       "    <tr>\n",
       "      <th>0<\/th>\n",
       "      <td>7369<\/td>\n",
       "      <td>SMITH<\/td>\n",
       "      <td>CLERK<\/td>\n",
       "      <td>7902.0<\/td>\n",
       "      <td>1980-12-17<\/td>\n",
       "      <td>800<\/td>\n",
       "      <td>NaN<\/td>\n",
       "      <td>20<\/td>\n",
       "    <\/tr>\n",
       "    <tr>\n",
       "      <th>1<\/th>\n",
       "      <td>7499<\/td>\n",
       "      <td>ALLEN<\/td>\n",
       "      <td>SALESMAN<\/td>\n",
       "      <td>7698.0<\/td>\n",
       "      <td>1981-02-20<\/td>\n",
       "      <td>1600<\/td>\n",
       "      <td>300.0<\/td>\n",
       "      <td>30<\/td>\n",
       "    <\/tr>\n",
       "    <tr>\n",
       "      <th>2<\/th>\n",
       "      <td>7521<\/td>\n",
       "      <td>WARD<\/td>\n",
       "      <td>SALESMAN<\/td>\n",
       "      <td>7698.0<\/td>\n",
       "      <td>1981-02-22<\/td>\n",
       "      <td>1250<\/td>\n",
       "      <td>500.0<\/td>\n",
       "      <td>30<\/td>\n",
       "    <\/tr>\n",
       "    <tr>\n",
       "      <th>3<\/th>\n",
       "      <td>7566<\/td>\n",
       "      <td>JONES<\/td>\n",
       "      <td>MANAGER<\/td>\n",
       "      <td>7839.0<\/td>\n",
       "      <td>1981-04-02<\/td>\n",
       "      <td>2975<\/td>\n",
       "      <td>NaN<\/td>\n",
       "      <td>20<\/td>\n",
       "    <\/tr>\n",
       "    <tr>\n",
       "      <th>4<\/th>\n",
       "      <td>7654<\/td>\n",
       "      <td>MARTIN<\/td>\n",
       "      <td>SALESMAN<\/td>\n",
       "      <td>7698.0<\/td>\n",
       "      <td>1981-09-28<\/td>\n",
       "      <td>1250<\/td>\n",
       "      <td>1400.0<\/td>\n",
       "      <td>30<\/td>\n",
       "    <\/tr>\n",
       "    <tr>\n",
       "      <th>5<\/th>\n",
       "      <td>7698<\/td>\n",
       "      <td>BLAKE<\/td>\n",
       "      <td>MANAGER<\/td>\n",
       "      <td>7839.0<\/td>\n",
       "      <td>1981-05-01<\/td>\n",
       "      <td>2850<\/td>\n",
       "      <td>NaN<\/td>\n",
       "      <td>30<\/td>\n",
       "    <\/tr>\n",
       "    <tr>\n",
       "      <th>6<\/th>\n",
       "      <td>7782<\/td>\n",
       "      <td>CLARK<\/td>\n",
       "      <td>MANAGER<\/td>\n",
       "      <td>7839.0<\/td>\n",
       "      <td>1981-06-09<\/td>\n",
       "      <td>2450<\/td>\n",
       "      <td>NaN<\/td>\n",
       "      <td>10<\/td>\n",
       "    <\/tr>\n",
       "    <tr>\n",
       "      <th>7<\/th>\n",
       "      <td>7788<\/td>\n",
       "      <td>SCOTT<\/td>\n",
       "      <td>ANALYST<\/td>\n",
       "      <td>7566.0<\/td>\n",
       "      <td>1982-12-09<\/td>\n",
       "      <td>3000<\/td>\n",
       "      <td>NaN<\/td>\n",
       "      <td>20<\/td>\n",
       "    <\/tr>\n",
       "    <tr>\n",
       "      <th>8<\/th>\n",
       "      <td>7839<\/td>\n",
       "      <td>KING<\/td>\n",
       "      <td>PRESIDENT<\/td>\n",
       "      <td>NaN<\/td>\n",
       "      <td>1981-11-17<\/td>\n",
       "      <td>5000<\/td>\n",
       "      <td>NaN<\/td>\n",
       "      <td>10<\/td>\n",
       "    <\/tr>\n",
       "    <tr>\n",
       "      <th>9<\/th>\n",
       "      <td>7844<\/td>\n",
       "      <td>TURNER<\/td>\n",
       "      <td>SALESMAN<\/td>\n",
       "      <td>7698.0<\/td>\n",
       "      <td>1981-09-08<\/td>\n",
       "      <td>1500<\/td>\n",
       "      <td>0.0<\/td>\n",
       "      <td>30<\/td>\n",
       "    <\/tr>\n",
       "    <tr>\n",
       "      <th>10<\/th>\n",
       "      <td>7876<\/td>\n",
       "      <td>ADAMS<\/td>\n",
       "      <td>CLERK<\/td>\n",
       "      <td>7788.0<\/td>\n",
       "      <td>1983-01-12<\/td>\n",
       "      <td>1100<\/td>\n",
       "      <td>NaN<\/td>\n",
       "      <td>20<\/td>\n",
       "    <\/tr>\n",
       "    <tr>\n",
       "      <th>11<\/th>\n",
       "      <td>7900<\/td>\n",
       "      <td>JAMES<\/td>\n",
       "      <td>CLERK<\/td>\n",
       "      <td>7698.0<\/td>\n",
       "      <td>1981-12-03<\/td>\n",
       "      <td>950<\/td>\n",
       "      <td>NaN<\/td>\n",
       "      <td>30<\/td>\n",
       "    <\/tr>\n",
       "    <tr>\n",
       "      <th>12<\/th>\n",
       "      <td>7902<\/td>\n",
       "      <td>FORD<\/td>\n",
       "      <td>ANALYST<\/td>\n",
       "      <td>7566.0<\/td>\n",
       "      <td>1981-12-03<\/td>\n",
       "      <td>3000<\/td>\n",
       "      <td>NaN<\/td>\n",
       "      <td>20<\/td>\n",
       "    <\/tr>\n",
       "    <tr>\n",
       "      <th>13<\/th>\n",
       "      <td>7934<\/td>\n",
       "      <td>MILLER<\/td>\n",
       "      <td>CLERK<\/td>\n",
       "      <td>7782.0<\/td>\n",
       "      <td>1982-01-23<\/td>\n",
       "      <td>1300<\/td>\n",
       "      <td>NaN<\/td>\n",
       "      <td>10<\/td>\n",
       "    <\/tr>\n",
       "  <\/tbody>\n",
       "<\/table>\n",
       "<\/div>"
      ]
     },
     "metadata":{
      
     },
     "output_type":"display_data"
    }
   ],
   "metadata":{
    "datalore":{
     "node_id":"QmUzLlBvUWCzNLCUN2DwaJ",
     "type":"SQL",
     "hide_input_from_viewers":true,
     "hide_output_from_viewers":true,
     "sql_cell_properties":{
      "dbId":"30mmHcmNZfSWCiirkD4rnW",
      "variableName":"df_5",
      "dialect":"mysql.8"
     }
    }
   }
  },
  {
   "cell_type":"code",
   "source":[
    "-- Jednoriadkovy komentar\n",
    "\/*\n",
    "    Autor: Miroslav Reiter\n",
    "    Verzia: 1.0\n",
    "*\/\n",
    "# Jednoriadkovy komentar\n",
    "SELECT * FROM world;"
   ],
   "execution_count":8,
   "outputs":[
    {
     "data":{
      "text\/html":[
       "<div>\n",
       "<style scoped>\n",
       "    .dataframe tbody tr th:only-of-type {\n",
       "        vertical-align: middle;\n",
       "    }\n",
       "\n",
       "    .dataframe tbody tr th {\n",
       "        vertical-align: top;\n",
       "    }\n",
       "\n",
       "    .dataframe thead th {\n",
       "        text-align: right;\n",
       "    }\n",
       "<\/style>\n",
       "<table border=\"1\" class=\"dataframe\">\n",
       "  <thead>\n",
       "    <tr style=\"text-align: right;\">\n",
       "      <th><\/th>\n",
       "      <th>name<\/th>\n",
       "      <th>continent<\/th>\n",
       "      <th>area<\/th>\n",
       "      <th>population<\/th>\n",
       "      <th>gdp<\/th>\n",
       "      <th>capital<\/th>\n",
       "      <th>tld<\/th>\n",
       "      <th>flag<\/th>\n",
       "    <\/tr>\n",
       "  <\/thead>\n",
       "  <tbody>\n",
       "    <tr>\n",
       "      <th>0<\/th>\n",
       "      <td>Afghanistan<\/td>\n",
       "      <td>Asia<\/td>\n",
       "      <td>652230<\/td>\n",
       "      <td>25500100<\/td>\n",
       "      <td>2.036400e+10<\/td>\n",
       "      <td>Kabul<\/td>\n",
       "      <td>.af<\/td>\n",
       "      <td>\/\/upload.wikimedia.org\/wikipedia\/commons\/9\/9a\/...<\/td>\n",
       "    <\/tr>\n",
       "    <tr>\n",
       "      <th>1<\/th>\n",
       "      <td>Albania<\/td>\n",
       "      <td>Europe<\/td>\n",
       "      <td>28748<\/td>\n",
       "      <td>2821977<\/td>\n",
       "      <td>1.204400e+10<\/td>\n",
       "      <td>Tirana<\/td>\n",
       "      <td>.al<\/td>\n",
       "      <td>\/\/upload.wikimedia.org\/wikipedia\/commons\/3\/36\/...<\/td>\n",
       "    <\/tr>\n",
       "    <tr>\n",
       "      <th>2<\/th>\n",
       "      <td>Algeria<\/td>\n",
       "      <td>Africa<\/td>\n",
       "      <td>2381741<\/td>\n",
       "      <td>38700000<\/td>\n",
       "      <td>2.070210e+05<\/td>\n",
       "      <td>Algiers<\/td>\n",
       "      <td>.dz<\/td>\n",
       "      <td>\/\/upload.wikimedia.org\/wikipedia\/commons\/7\/77\/...<\/td>\n",
       "    <\/tr>\n",
       "    <tr>\n",
       "      <th>3<\/th>\n",
       "      <td>Andorra<\/td>\n",
       "      <td>Europe<\/td>\n",
       "      <td>468<\/td>\n",
       "      <td>76098<\/td>\n",
       "      <td>3.222000e+09<\/td>\n",
       "      <td>Andorra la Vella<\/td>\n",
       "      <td>.ad<\/td>\n",
       "      <td>\/\/upload.wikimedia.org\/wikipedia\/commons\/1\/19\/...<\/td>\n",
       "    <\/tr>\n",
       "    <tr>\n",
       "      <th>4<\/th>\n",
       "      <td>Angola<\/td>\n",
       "      <td>Africa<\/td>\n",
       "      <td>1246700<\/td>\n",
       "      <td>19183590<\/td>\n",
       "      <td>1.163080e+05<\/td>\n",
       "      <td>Luanda<\/td>\n",
       "      <td>.ao<\/td>\n",
       "      <td>\/\/upload.wikimedia.org\/wikipedia\/commons\/9\/9d\/...<\/td>\n",
       "    <\/tr>\n",
       "    <tr>\n",
       "      <th>...<\/th>\n",
       "      <td>...<\/td>\n",
       "      <td>...<\/td>\n",
       "      <td>...<\/td>\n",
       "      <td>...<\/td>\n",
       "      <td>...<\/td>\n",
       "      <td>...<\/td>\n",
       "      <td>...<\/td>\n",
       "      <td>...<\/td>\n",
       "    <\/tr>\n",
       "    <tr>\n",
       "      <th>385<\/th>\n",
       "      <td>Venezuela<\/td>\n",
       "      <td>South America<\/td>\n",
       "      <td>916445<\/td>\n",
       "      <td>28946101<\/td>\n",
       "      <td>3.824240e+05<\/td>\n",
       "      <td>Caracas<\/td>\n",
       "      <td>.ve<\/td>\n",
       "      <td>\/\/upload.wikimedia.org\/wikipedia\/commons\/0\/06\/...<\/td>\n",
       "    <\/tr>\n",
       "    <tr>\n",
       "      <th>386<\/th>\n",
       "      <td>Vietnam<\/td>\n",
       "      <td>Asia<\/td>\n",
       "      <td>331212<\/td>\n",
       "      <td>89708900<\/td>\n",
       "      <td>1.558200e+04<\/td>\n",
       "      <td>Hanoi<\/td>\n",
       "      <td>.vn<\/td>\n",
       "      <td>\/\/upload.wikimedia.org\/wikipedia\/commons\/2\/21\/...<\/td>\n",
       "    <\/tr>\n",
       "    <tr>\n",
       "      <th>387<\/th>\n",
       "      <td>Yemen<\/td>\n",
       "      <td>Asia<\/td>\n",
       "      <td>527968<\/td>\n",
       "      <td>25235000<\/td>\n",
       "      <td>3.283100e+10<\/td>\n",
       "      <td>Sana‘a<\/td>\n",
       "      <td>.ye<\/td>\n",
       "      <td>\/\/upload.wikimedia.org\/wikipedia\/commons\/8\/89\/...<\/td>\n",
       "    <\/tr>\n",
       "    <tr>\n",
       "      <th>388<\/th>\n",
       "      <td>Zambia<\/td>\n",
       "      <td>Africa<\/td>\n",
       "      <td>752612<\/td>\n",
       "      <td>15023315<\/td>\n",
       "      <td>2.149000e+10<\/td>\n",
       "      <td>Lusaka<\/td>\n",
       "      <td>.zm<\/td>\n",
       "      <td>\/\/upload.wikimedia.org\/wikipedia\/commons\/0\/06\/...<\/td>\n",
       "    <\/tr>\n",
       "    <tr>\n",
       "      <th>389<\/th>\n",
       "      <td>Zimbabwe<\/td>\n",
       "      <td>Africa<\/td>\n",
       "      <td>390757<\/td>\n",
       "      <td>13061239<\/td>\n",
       "      <td>9.802000e+09<\/td>\n",
       "      <td>Harare<\/td>\n",
       "      <td>.zw<\/td>\n",
       "      <td>\/\/upload.wikimedia.org\/wikipedia\/commons\/6\/6a\/...<\/td>\n",
       "    <\/tr>\n",
       "  <\/tbody>\n",
       "<\/table>\n",
       "<p>390 rows × 8 columns<\/p>\n",
       "<\/div>"
      ]
     },
     "metadata":{
      
     },
     "output_type":"display_data"
    }
   ],
   "metadata":{
    "datalore":{
     "node_id":"OaxozSDXwH23rLFyDjYO6e",
     "type":"SQL",
     "hide_input_from_viewers":true,
     "hide_output_from_viewers":true,
     "sql_cell_properties":{
      "dbId":"30mmHcmNZfSWCiirkD4rnW",
      "variableName":"df_6",
      "dialect":"mysql.8"
     }
    }
   }
  },
  {
   "cell_type":"code",
   "source":[
    "select * from world limit 5;\n",
    "select * from EMP limit 5;"
   ],
   "execution_count":10,
   "outputs":[
    {
     "data":{
      "text\/html":[
       "<div>\n",
       "<style scoped>\n",
       "    .dataframe tbody tr th:only-of-type {\n",
       "        vertical-align: middle;\n",
       "    }\n",
       "\n",
       "    .dataframe tbody tr th {\n",
       "        vertical-align: top;\n",
       "    }\n",
       "\n",
       "    .dataframe thead th {\n",
       "        text-align: right;\n",
       "    }\n",
       "<\/style>\n",
       "<table border=\"1\" class=\"dataframe\">\n",
       "  <thead>\n",
       "    <tr style=\"text-align: right;\">\n",
       "      <th><\/th>\n",
       "      <th>EMPNO<\/th>\n",
       "      <th>ENAME<\/th>\n",
       "      <th>JOB<\/th>\n",
       "      <th>MGR<\/th>\n",
       "      <th>HIREDATE<\/th>\n",
       "      <th>SAL<\/th>\n",
       "      <th>COMM<\/th>\n",
       "      <th>DEPTNO<\/th>\n",
       "    <\/tr>\n",
       "  <\/thead>\n",
       "  <tbody>\n",
       "    <tr>\n",
       "      <th>0<\/th>\n",
       "      <td>7369<\/td>\n",
       "      <td>SMITH<\/td>\n",
       "      <td>CLERK<\/td>\n",
       "      <td>7902<\/td>\n",
       "      <td>1980-12-17<\/td>\n",
       "      <td>800<\/td>\n",
       "      <td>NaN<\/td>\n",
       "      <td>20<\/td>\n",
       "    <\/tr>\n",
       "    <tr>\n",
       "      <th>1<\/th>\n",
       "      <td>7499<\/td>\n",
       "      <td>ALLEN<\/td>\n",
       "      <td>SALESMAN<\/td>\n",
       "      <td>7698<\/td>\n",
       "      <td>1981-02-20<\/td>\n",
       "      <td>1600<\/td>\n",
       "      <td>300.0<\/td>\n",
       "      <td>30<\/td>\n",
       "    <\/tr>\n",
       "    <tr>\n",
       "      <th>2<\/th>\n",
       "      <td>7521<\/td>\n",
       "      <td>WARD<\/td>\n",
       "      <td>SALESMAN<\/td>\n",
       "      <td>7698<\/td>\n",
       "      <td>1981-02-22<\/td>\n",
       "      <td>1250<\/td>\n",
       "      <td>500.0<\/td>\n",
       "      <td>30<\/td>\n",
       "    <\/tr>\n",
       "    <tr>\n",
       "      <th>3<\/th>\n",
       "      <td>7566<\/td>\n",
       "      <td>JONES<\/td>\n",
       "      <td>MANAGER<\/td>\n",
       "      <td>7839<\/td>\n",
       "      <td>1981-04-02<\/td>\n",
       "      <td>2975<\/td>\n",
       "      <td>NaN<\/td>\n",
       "      <td>20<\/td>\n",
       "    <\/tr>\n",
       "    <tr>\n",
       "      <th>4<\/th>\n",
       "      <td>7654<\/td>\n",
       "      <td>MARTIN<\/td>\n",
       "      <td>SALESMAN<\/td>\n",
       "      <td>7698<\/td>\n",
       "      <td>1981-09-28<\/td>\n",
       "      <td>1250<\/td>\n",
       "      <td>1400.0<\/td>\n",
       "      <td>30<\/td>\n",
       "    <\/tr>\n",
       "  <\/tbody>\n",
       "<\/table>\n",
       "<\/div>"
      ]
     },
     "metadata":{
      
     },
     "output_type":"display_data"
    }
   ],
   "metadata":{
    "datalore":{
     "node_id":"cwuSzStnvbjw5YxwmicBEX",
     "type":"SQL",
     "hide_input_from_viewers":true,
     "hide_output_from_viewers":true,
     "sql_cell_properties":{
      "dbId":"30mmHcmNZfSWCiirkD4rnW",
      "variableName":"df_7",
      "dialect":"mysql.8"
     }
    }
   }
  },
  {
   "cell_type":"code",
   "source":[
    "select * from world limit 4,5;"
   ],
   "execution_count":12,
   "outputs":[
    {
     "data":{
      "text\/html":[
       "<div>\n",
       "<style scoped>\n",
       "    .dataframe tbody tr th:only-of-type {\n",
       "        vertical-align: middle;\n",
       "    }\n",
       "\n",
       "    .dataframe tbody tr th {\n",
       "        vertical-align: top;\n",
       "    }\n",
       "\n",
       "    .dataframe thead th {\n",
       "        text-align: right;\n",
       "    }\n",
       "<\/style>\n",
       "<table border=\"1\" class=\"dataframe\">\n",
       "  <thead>\n",
       "    <tr style=\"text-align: right;\">\n",
       "      <th><\/th>\n",
       "      <th>name<\/th>\n",
       "      <th>continent<\/th>\n",
       "      <th>area<\/th>\n",
       "      <th>population<\/th>\n",
       "      <th>gdp<\/th>\n",
       "      <th>capital<\/th>\n",
       "      <th>tld<\/th>\n",
       "      <th>flag<\/th>\n",
       "    <\/tr>\n",
       "  <\/thead>\n",
       "  <tbody>\n",
       "    <tr>\n",
       "      <th>0<\/th>\n",
       "      <td>Angola<\/td>\n",
       "      <td>Africa<\/td>\n",
       "      <td>1246700<\/td>\n",
       "      <td>19183590<\/td>\n",
       "      <td>1.163080e+05<\/td>\n",
       "      <td>Luanda<\/td>\n",
       "      <td>.ao<\/td>\n",
       "      <td>\/\/upload.wikimedia.org\/wikipedia\/commons\/9\/9d\/...<\/td>\n",
       "    <\/tr>\n",
       "    <tr>\n",
       "      <th>1<\/th>\n",
       "      <td>Antigua and Barbuda<\/td>\n",
       "      <td>Caribbean<\/td>\n",
       "      <td>442<\/td>\n",
       "      <td>86295<\/td>\n",
       "      <td>1.176000e+09<\/td>\n",
       "      <td>St. John's<\/td>\n",
       "      <td>.ag<\/td>\n",
       "      <td>\/\/upload.wikimedia.org\/wikipedia\/commons\/8\/89\/...<\/td>\n",
       "    <\/tr>\n",
       "    <tr>\n",
       "      <th>2<\/th>\n",
       "      <td>Argentina<\/td>\n",
       "      <td>South America<\/td>\n",
       "      <td>2780400<\/td>\n",
       "      <td>42669500<\/td>\n",
       "      <td>4.770280e+05<\/td>\n",
       "      <td>Buenos Aires<\/td>\n",
       "      <td>.ar<\/td>\n",
       "      <td>\/\/upload.wikimedia.org\/wikipedia\/commons\/1\/1a\/...<\/td>\n",
       "    <\/tr>\n",
       "    <tr>\n",
       "      <th>3<\/th>\n",
       "      <td>Armenia<\/td>\n",
       "      <td>Eurasia<\/td>\n",
       "      <td>29743<\/td>\n",
       "      <td>3017400<\/td>\n",
       "      <td>9.950000e+09<\/td>\n",
       "      <td>Yerevan<\/td>\n",
       "      <td>.am<\/td>\n",
       "      <td>\/\/upload.wikimedia.org\/wikipedia\/commons\/2\/2f\/...<\/td>\n",
       "    <\/tr>\n",
       "    <tr>\n",
       "      <th>4<\/th>\n",
       "      <td>Australia<\/td>\n",
       "      <td>Oceania<\/td>\n",
       "      <td>7692024<\/td>\n",
       "      <td>23545500<\/td>\n",
       "      <td>1.564420e+05<\/td>\n",
       "      <td>Canberra<\/td>\n",
       "      <td>.au<\/td>\n",
       "      <td>\/\/upload.wikimedia.org\/wikipedia\/commons\/b\/b9\/...<\/td>\n",
       "    <\/tr>\n",
       "  <\/tbody>\n",
       "<\/table>\n",
       "<\/div>"
      ]
     },
     "metadata":{
      
     },
     "output_type":"display_data"
    }
   ],
   "metadata":{
    "datalore":{
     "node_id":"Qk5QjulfXkzDLuRaS89AeX",
     "type":"SQL",
     "hide_input_from_viewers":true,
     "hide_output_from_viewers":true,
     "sql_cell_properties":{
      "dbId":"30mmHcmNZfSWCiirkD4rnW",
      "variableName":"df_8",
      "dialect":"mysql.8"
     }
    }
   }
  },
  {
   "cell_type":"code",
   "source":[
    "# Filter - where\n",
    "select * from world\n",
    "where name = \"Slovakia\""
   ],
   "execution_count":13,
   "outputs":[
    {
     "data":{
      "text\/html":[
       "<div>\n",
       "<style scoped>\n",
       "    .dataframe tbody tr th:only-of-type {\n",
       "        vertical-align: middle;\n",
       "    }\n",
       "\n",
       "    .dataframe tbody tr th {\n",
       "        vertical-align: top;\n",
       "    }\n",
       "\n",
       "    .dataframe thead th {\n",
       "        text-align: right;\n",
       "    }\n",
       "<\/style>\n",
       "<table border=\"1\" class=\"dataframe\">\n",
       "  <thead>\n",
       "    <tr style=\"text-align: right;\">\n",
       "      <th><\/th>\n",
       "      <th>name<\/th>\n",
       "      <th>continent<\/th>\n",
       "      <th>area<\/th>\n",
       "      <th>population<\/th>\n",
       "      <th>gdp<\/th>\n",
       "      <th>capital<\/th>\n",
       "      <th>tld<\/th>\n",
       "      <th>flag<\/th>\n",
       "    <\/tr>\n",
       "  <\/thead>\n",
       "  <tbody>\n",
       "    <tr>\n",
       "      <th>0<\/th>\n",
       "      <td>Slovakia<\/td>\n",
       "      <td>Europe<\/td>\n",
       "      <td>49037<\/td>\n",
       "      <td>5415949<\/td>\n",
       "      <td>9.134900e+10<\/td>\n",
       "      <td>Bratislava<\/td>\n",
       "      <td>.sk<\/td>\n",
       "      <td>\/\/upload.wikimedia.org\/wikipedia\/commons\/e\/e6\/...<\/td>\n",
       "    <\/tr>\n",
       "    <tr>\n",
       "      <th>1<\/th>\n",
       "      <td>Slovakia<\/td>\n",
       "      <td>Europe<\/td>\n",
       "      <td>49037<\/td>\n",
       "      <td>5415949<\/td>\n",
       "      <td>9.134900e+10<\/td>\n",
       "      <td>Bratislava<\/td>\n",
       "      <td>.sk<\/td>\n",
       "      <td>\/\/upload.wikimedia.org\/wikipedia\/commons\/e\/e6\/...<\/td>\n",
       "    <\/tr>\n",
       "  <\/tbody>\n",
       "<\/table>\n",
       "<\/div>"
      ]
     },
     "metadata":{
      
     },
     "output_type":"display_data"
    }
   ],
   "metadata":{
    "datalore":{
     "node_id":"cTpIdUW0tKcbW3XMePMhhk",
     "type":"SQL",
     "hide_input_from_viewers":true,
     "hide_output_from_viewers":true,
     "sql_cell_properties":{
      "dbId":"30mmHcmNZfSWCiirkD4rnW",
      "variableName":"df_9",
      "dialect":"mysql.8"
     }
    }
   }
  },
  {
   "cell_type":"code",
   "source":[
    "select capital, population, name, population\n",
    "from world"
   ],
   "execution_count":15,
   "outputs":[
    {
     "data":{
      "text\/html":[
       "<div>\n",
       "<style scoped>\n",
       "    .dataframe tbody tr th:only-of-type {\n",
       "        vertical-align: middle;\n",
       "    }\n",
       "\n",
       "    .dataframe tbody tr th {\n",
       "        vertical-align: top;\n",
       "    }\n",
       "\n",
       "    .dataframe thead th {\n",
       "        text-align: right;\n",
       "    }\n",
       "<\/style>\n",
       "<table border=\"1\" class=\"dataframe\">\n",
       "  <thead>\n",
       "    <tr style=\"text-align: right;\">\n",
       "      <th><\/th>\n",
       "      <th>capital<\/th>\n",
       "      <th>population<\/th>\n",
       "      <th>name<\/th>\n",
       "      <th>population<\/th>\n",
       "    <\/tr>\n",
       "  <\/thead>\n",
       "  <tbody>\n",
       "    <tr>\n",
       "      <th>0<\/th>\n",
       "      <td>Kabul<\/td>\n",
       "      <td>25500100<\/td>\n",
       "      <td>Afghanistan<\/td>\n",
       "      <td>25500100<\/td>\n",
       "    <\/tr>\n",
       "    <tr>\n",
       "      <th>1<\/th>\n",
       "      <td>Tirana<\/td>\n",
       "      <td>2821977<\/td>\n",
       "      <td>Albania<\/td>\n",
       "      <td>2821977<\/td>\n",
       "    <\/tr>\n",
       "    <tr>\n",
       "      <th>2<\/th>\n",
       "      <td>Algiers<\/td>\n",
       "      <td>38700000<\/td>\n",
       "      <td>Algeria<\/td>\n",
       "      <td>38700000<\/td>\n",
       "    <\/tr>\n",
       "    <tr>\n",
       "      <th>3<\/th>\n",
       "      <td>Andorra la Vella<\/td>\n",
       "      <td>76098<\/td>\n",
       "      <td>Andorra<\/td>\n",
       "      <td>76098<\/td>\n",
       "    <\/tr>\n",
       "    <tr>\n",
       "      <th>4<\/th>\n",
       "      <td>Luanda<\/td>\n",
       "      <td>19183590<\/td>\n",
       "      <td>Angola<\/td>\n",
       "      <td>19183590<\/td>\n",
       "    <\/tr>\n",
       "    <tr>\n",
       "      <th>...<\/th>\n",
       "      <td>...<\/td>\n",
       "      <td>...<\/td>\n",
       "      <td>...<\/td>\n",
       "      <td>...<\/td>\n",
       "    <\/tr>\n",
       "    <tr>\n",
       "      <th>385<\/th>\n",
       "      <td>Caracas<\/td>\n",
       "      <td>28946101<\/td>\n",
       "      <td>Venezuela<\/td>\n",
       "      <td>28946101<\/td>\n",
       "    <\/tr>\n",
       "    <tr>\n",
       "      <th>386<\/th>\n",
       "      <td>Hanoi<\/td>\n",
       "      <td>89708900<\/td>\n",
       "      <td>Vietnam<\/td>\n",
       "      <td>89708900<\/td>\n",
       "    <\/tr>\n",
       "    <tr>\n",
       "      <th>387<\/th>\n",
       "      <td>Sana‘a<\/td>\n",
       "      <td>25235000<\/td>\n",
       "      <td>Yemen<\/td>\n",
       "      <td>25235000<\/td>\n",
       "    <\/tr>\n",
       "    <tr>\n",
       "      <th>388<\/th>\n",
       "      <td>Lusaka<\/td>\n",
       "      <td>15023315<\/td>\n",
       "      <td>Zambia<\/td>\n",
       "      <td>15023315<\/td>\n",
       "    <\/tr>\n",
       "    <tr>\n",
       "      <th>389<\/th>\n",
       "      <td>Harare<\/td>\n",
       "      <td>13061239<\/td>\n",
       "      <td>Zimbabwe<\/td>\n",
       "      <td>13061239<\/td>\n",
       "    <\/tr>\n",
       "  <\/tbody>\n",
       "<\/table>\n",
       "<p>390 rows × 4 columns<\/p>\n",
       "<\/div>"
      ]
     },
     "metadata":{
      
     },
     "output_type":"display_data"
    }
   ],
   "metadata":{
    "datalore":{
     "node_id":"qHfPXbmR3cngYAXKicw6xX",
     "type":"SQL",
     "hide_input_from_viewers":true,
     "hide_output_from_viewers":true,
     "sql_cell_properties":{
      "dbId":"30mmHcmNZfSWCiirkD4rnW",
      "variableName":"df_10",
      "dialect":"mysql.8"
     }
    }
   }
  },
  {
   "cell_type":"code",
   "source":[
    "select name, population, area\n",
    "from world\n",
    "where name = \"Slovakia\"\n",
    "or name = \"Poland\"\n",
    "or name = \"Hungary\""
   ],
   "execution_count":18,
   "outputs":[
    {
     "data":{
      "text\/html":[
       "<div>\n",
       "<style scoped>\n",
       "    .dataframe tbody tr th:only-of-type {\n",
       "        vertical-align: middle;\n",
       "    }\n",
       "\n",
       "    .dataframe tbody tr th {\n",
       "        vertical-align: top;\n",
       "    }\n",
       "\n",
       "    .dataframe thead th {\n",
       "        text-align: right;\n",
       "    }\n",
       "<\/style>\n",
       "<table border=\"1\" class=\"dataframe\">\n",
       "  <thead>\n",
       "    <tr style=\"text-align: right;\">\n",
       "      <th><\/th>\n",
       "      <th>name<\/th>\n",
       "      <th>population<\/th>\n",
       "      <th>area<\/th>\n",
       "    <\/tr>\n",
       "  <\/thead>\n",
       "  <tbody>\n",
       "    <tr>\n",
       "      <th>0<\/th>\n",
       "      <td>Hungary<\/td>\n",
       "      <td>9879000<\/td>\n",
       "      <td>93028<\/td>\n",
       "    <\/tr>\n",
       "    <tr>\n",
       "      <th>1<\/th>\n",
       "      <td>Poland<\/td>\n",
       "      <td>38496000<\/td>\n",
       "      <td>312679<\/td>\n",
       "    <\/tr>\n",
       "    <tr>\n",
       "      <th>2<\/th>\n",
       "      <td>Slovakia<\/td>\n",
       "      <td>5415949<\/td>\n",
       "      <td>49037<\/td>\n",
       "    <\/tr>\n",
       "    <tr>\n",
       "      <th>3<\/th>\n",
       "      <td>Hungary<\/td>\n",
       "      <td>9879000<\/td>\n",
       "      <td>93028<\/td>\n",
       "    <\/tr>\n",
       "    <tr>\n",
       "      <th>4<\/th>\n",
       "      <td>Poland<\/td>\n",
       "      <td>38496000<\/td>\n",
       "      <td>312679<\/td>\n",
       "    <\/tr>\n",
       "    <tr>\n",
       "      <th>5<\/th>\n",
       "      <td>Slovakia<\/td>\n",
       "      <td>5415949<\/td>\n",
       "      <td>49037<\/td>\n",
       "    <\/tr>\n",
       "  <\/tbody>\n",
       "<\/table>\n",
       "<\/div>"
      ]
     },
     "metadata":{
      
     },
     "output_type":"display_data"
    }
   ],
   "metadata":{
    "datalore":{
     "node_id":"THQThitrscyCdldv2APev3",
     "type":"SQL",
     "hide_input_from_viewers":true,
     "hide_output_from_viewers":true,
     "sql_cell_properties":{
      "dbId":"30mmHcmNZfSWCiirkD4rnW",
      "variableName":"df_11",
      "dialect":"mysql.8"
     }
    }
   }
  },
  {
   "cell_type":"code",
   "source":[
    "select name, population, area\n",
    "from world\n",
    "where name in (\"Hungary\", \"Slovakia\", \"Poland\")"
   ],
   "execution_count":19,
   "outputs":[
    {
     "data":{
      "text\/html":[
       "<div>\n",
       "<style scoped>\n",
       "    .dataframe tbody tr th:only-of-type {\n",
       "        vertical-align: middle;\n",
       "    }\n",
       "\n",
       "    .dataframe tbody tr th {\n",
       "        vertical-align: top;\n",
       "    }\n",
       "\n",
       "    .dataframe thead th {\n",
       "        text-align: right;\n",
       "    }\n",
       "<\/style>\n",
       "<table border=\"1\" class=\"dataframe\">\n",
       "  <thead>\n",
       "    <tr style=\"text-align: right;\">\n",
       "      <th><\/th>\n",
       "      <th>name<\/th>\n",
       "      <th>population<\/th>\n",
       "      <th>area<\/th>\n",
       "    <\/tr>\n",
       "  <\/thead>\n",
       "  <tbody>\n",
       "    <tr>\n",
       "      <th>0<\/th>\n",
       "      <td>Hungary<\/td>\n",
       "      <td>9879000<\/td>\n",
       "      <td>93028<\/td>\n",
       "    <\/tr>\n",
       "    <tr>\n",
       "      <th>1<\/th>\n",
       "      <td>Poland<\/td>\n",
       "      <td>38496000<\/td>\n",
       "      <td>312679<\/td>\n",
       "    <\/tr>\n",
       "    <tr>\n",
       "      <th>2<\/th>\n",
       "      <td>Slovakia<\/td>\n",
       "      <td>5415949<\/td>\n",
       "      <td>49037<\/td>\n",
       "    <\/tr>\n",
       "    <tr>\n",
       "      <th>3<\/th>\n",
       "      <td>Hungary<\/td>\n",
       "      <td>9879000<\/td>\n",
       "      <td>93028<\/td>\n",
       "    <\/tr>\n",
       "    <tr>\n",
       "      <th>4<\/th>\n",
       "      <td>Poland<\/td>\n",
       "      <td>38496000<\/td>\n",
       "      <td>312679<\/td>\n",
       "    <\/tr>\n",
       "    <tr>\n",
       "      <th>5<\/th>\n",
       "      <td>Slovakia<\/td>\n",
       "      <td>5415949<\/td>\n",
       "      <td>49037<\/td>\n",
       "    <\/tr>\n",
       "  <\/tbody>\n",
       "<\/table>\n",
       "<\/div>"
      ]
     },
     "metadata":{
      
     },
     "output_type":"display_data"
    }
   ],
   "metadata":{
    "datalore":{
     "node_id":"8bkdznygB5kqgmLsnmi7xG",
     "type":"SQL",
     "hide_input_from_viewers":true,
     "hide_output_from_viewers":true,
     "sql_cell_properties":{
      "dbId":"30mmHcmNZfSWCiirkD4rnW",
      "variableName":"df_12",
      "dialect":"mysql.8"
     }
    }
   }
  },
  {
   "cell_type":"code",
   "source":[
    "select name, continent, population\n",
    "from world\n",
    "where population between 5000000 and 10000000"
   ],
   "execution_count":21,
   "outputs":[
    {
     "data":{
      "text\/html":[
       "<div>\n",
       "<style scoped>\n",
       "    .dataframe tbody tr th:only-of-type {\n",
       "        vertical-align: middle;\n",
       "    }\n",
       "\n",
       "    .dataframe tbody tr th {\n",
       "        vertical-align: top;\n",
       "    }\n",
       "\n",
       "    .dataframe thead th {\n",
       "        text-align: right;\n",
       "    }\n",
       "<\/style>\n",
       "<table border=\"1\" class=\"dataframe\">\n",
       "  <thead>\n",
       "    <tr style=\"text-align: right;\">\n",
       "      <th><\/th>\n",
       "      <th>name<\/th>\n",
       "      <th>continent<\/th>\n",
       "      <th>population<\/th>\n",
       "    <\/tr>\n",
       "  <\/thead>\n",
       "  <tbody>\n",
       "    <tr>\n",
       "      <th>0<\/th>\n",
       "      <td>Austria<\/td>\n",
       "      <td>Europe<\/td>\n",
       "      <td>8504850<\/td>\n",
       "    <\/tr>\n",
       "    <tr>\n",
       "      <th>1<\/th>\n",
       "      <td>Azerbaijan<\/td>\n",
       "      <td>Asia<\/td>\n",
       "      <td>9477100<\/td>\n",
       "    <\/tr>\n",
       "    <tr>\n",
       "      <th>2<\/th>\n",
       "      <td>Belarus<\/td>\n",
       "      <td>Europe<\/td>\n",
       "      <td>9467000<\/td>\n",
       "    <\/tr>\n",
       "    <tr>\n",
       "      <th>3<\/th>\n",
       "      <td>Benin<\/td>\n",
       "      <td>Africa<\/td>\n",
       "      <td>9988068<\/td>\n",
       "    <\/tr>\n",
       "    <tr>\n",
       "      <th>4<\/th>\n",
       "      <td>Bulgaria<\/td>\n",
       "      <td>Europe<\/td>\n",
       "      <td>7245677<\/td>\n",
       "    <\/tr>\n",
       "    <tr>\n",
       "      <th>...<\/th>\n",
       "      <td>...<\/td>\n",
       "      <td>...<\/td>\n",
       "      <td>...<\/td>\n",
       "    <\/tr>\n",
       "    <tr>\n",
       "      <th>59<\/th>\n",
       "      <td>Switzerland<\/td>\n",
       "      <td>Europe<\/td>\n",
       "      <td>8160900<\/td>\n",
       "    <\/tr>\n",
       "    <tr>\n",
       "      <th>60<\/th>\n",
       "      <td>Tajikistan<\/td>\n",
       "      <td>Asia<\/td>\n",
       "      <td>8160000<\/td>\n",
       "    <\/tr>\n",
       "    <tr>\n",
       "      <th>61<\/th>\n",
       "      <td>Togo<\/td>\n",
       "      <td>Africa<\/td>\n",
       "      <td>6993000<\/td>\n",
       "    <\/tr>\n",
       "    <tr>\n",
       "      <th>62<\/th>\n",
       "      <td>Turkmenistan<\/td>\n",
       "      <td>Asia<\/td>\n",
       "      <td>5307000<\/td>\n",
       "    <\/tr>\n",
       "    <tr>\n",
       "      <th>63<\/th>\n",
       "      <td>United Arab Emirates<\/td>\n",
       "      <td>Asia<\/td>\n",
       "      <td>9446000<\/td>\n",
       "    <\/tr>\n",
       "  <\/tbody>\n",
       "<\/table>\n",
       "<p>64 rows × 3 columns<\/p>\n",
       "<\/div>"
      ]
     },
     "metadata":{
      
     },
     "output_type":"display_data"
    }
   ],
   "metadata":{
    "datalore":{
     "node_id":"luEypjiUVd3x5kScmYsZRP",
     "type":"SQL",
     "hide_input_from_viewers":true,
     "hide_output_from_viewers":true,
     "sql_cell_properties":{
      "dbId":"30mmHcmNZfSWCiirkD4rnW",
      "variableName":"df_13",
      "dialect":"mysql.8"
     }
    }
   }
  },
  {
   "cell_type":"code",
   "source":[
    "select * from EMP\n",
    "where sal BETWEEN 1000 and 2500;"
   ],
   "execution_count":22,
   "outputs":[
    {
     "data":{
      "text\/html":[
       "<div>\n",
       "<style scoped>\n",
       "    .dataframe tbody tr th:only-of-type {\n",
       "        vertical-align: middle;\n",
       "    }\n",
       "\n",
       "    .dataframe tbody tr th {\n",
       "        vertical-align: top;\n",
       "    }\n",
       "\n",
       "    .dataframe thead th {\n",
       "        text-align: right;\n",
       "    }\n",
       "<\/style>\n",
       "<table border=\"1\" class=\"dataframe\">\n",
       "  <thead>\n",
       "    <tr style=\"text-align: right;\">\n",
       "      <th><\/th>\n",
       "      <th>EMPNO<\/th>\n",
       "      <th>ENAME<\/th>\n",
       "      <th>JOB<\/th>\n",
       "      <th>MGR<\/th>\n",
       "      <th>HIREDATE<\/th>\n",
       "      <th>SAL<\/th>\n",
       "      <th>COMM<\/th>\n",
       "      <th>DEPTNO<\/th>\n",
       "    <\/tr>\n",
       "  <\/thead>\n",
       "  <tbody>\n",
       "    <tr>\n",
       "      <th>0<\/th>\n",
       "      <td>7499<\/td>\n",
       "      <td>ALLEN<\/td>\n",
       "      <td>SALESMAN<\/td>\n",
       "      <td>7698<\/td>\n",
       "      <td>1981-02-20<\/td>\n",
       "      <td>1600<\/td>\n",
       "      <td>300.0<\/td>\n",
       "      <td>30<\/td>\n",
       "    <\/tr>\n",
       "    <tr>\n",
       "      <th>1<\/th>\n",
       "      <td>7521<\/td>\n",
       "      <td>WARD<\/td>\n",
       "      <td>SALESMAN<\/td>\n",
       "      <td>7698<\/td>\n",
       "      <td>1981-02-22<\/td>\n",
       "      <td>1250<\/td>\n",
       "      <td>500.0<\/td>\n",
       "      <td>30<\/td>\n",
       "    <\/tr>\n",
       "    <tr>\n",
       "      <th>2<\/th>\n",
       "      <td>7654<\/td>\n",
       "      <td>MARTIN<\/td>\n",
       "      <td>SALESMAN<\/td>\n",
       "      <td>7698<\/td>\n",
       "      <td>1981-09-28<\/td>\n",
       "      <td>1250<\/td>\n",
       "      <td>1400.0<\/td>\n",
       "      <td>30<\/td>\n",
       "    <\/tr>\n",
       "    <tr>\n",
       "      <th>3<\/th>\n",
       "      <td>7782<\/td>\n",
       "      <td>CLARK<\/td>\n",
       "      <td>MANAGER<\/td>\n",
       "      <td>7839<\/td>\n",
       "      <td>1981-06-09<\/td>\n",
       "      <td>2450<\/td>\n",
       "      <td>NaN<\/td>\n",
       "      <td>10<\/td>\n",
       "    <\/tr>\n",
       "    <tr>\n",
       "      <th>4<\/th>\n",
       "      <td>7844<\/td>\n",
       "      <td>TURNER<\/td>\n",
       "      <td>SALESMAN<\/td>\n",
       "      <td>7698<\/td>\n",
       "      <td>1981-09-08<\/td>\n",
       "      <td>1500<\/td>\n",
       "      <td>0.0<\/td>\n",
       "      <td>30<\/td>\n",
       "    <\/tr>\n",
       "    <tr>\n",
       "      <th>5<\/th>\n",
       "      <td>7876<\/td>\n",
       "      <td>ADAMS<\/td>\n",
       "      <td>CLERK<\/td>\n",
       "      <td>7788<\/td>\n",
       "      <td>1983-01-12<\/td>\n",
       "      <td>1100<\/td>\n",
       "      <td>NaN<\/td>\n",
       "      <td>20<\/td>\n",
       "    <\/tr>\n",
       "    <tr>\n",
       "      <th>6<\/th>\n",
       "      <td>7934<\/td>\n",
       "      <td>MILLER<\/td>\n",
       "      <td>CLERK<\/td>\n",
       "      <td>7782<\/td>\n",
       "      <td>1982-01-23<\/td>\n",
       "      <td>1300<\/td>\n",
       "      <td>NaN<\/td>\n",
       "      <td>10<\/td>\n",
       "    <\/tr>\n",
       "  <\/tbody>\n",
       "<\/table>\n",
       "<\/div>"
      ]
     },
     "metadata":{
      
     },
     "output_type":"display_data"
    }
   ],
   "metadata":{
    "datalore":{
     "node_id":"5zuHjFCwaLYN4m1oPpx5pP",
     "type":"SQL",
     "hide_input_from_viewers":true,
     "hide_output_from_viewers":true,
     "sql_cell_properties":{
      "dbId":"30mmHcmNZfSWCiirkD4rnW",
      "variableName":"df_14",
      "dialect":"mysql.8"
     }
    }
   }
  },
  {
   "cell_type":"code",
   "source":[
    "# order by (Zotried)\n",
    "\n",
    "\/* select name, population from world\n",
    "order by name DESC *\/\n",
    "\n",
    "select name, population from world\n",
    "order by population ASC"
   ],
   "execution_count":27,
   "outputs":[
    {
     "data":{
      "text\/html":[
       "<div>\n",
       "<style scoped>\n",
       "    .dataframe tbody tr th:only-of-type {\n",
       "        vertical-align: middle;\n",
       "    }\n",
       "\n",
       "    .dataframe tbody tr th {\n",
       "        vertical-align: top;\n",
       "    }\n",
       "\n",
       "    .dataframe thead th {\n",
       "        text-align: right;\n",
       "    }\n",
       "<\/style>\n",
       "<table border=\"1\" class=\"dataframe\">\n",
       "  <thead>\n",
       "    <tr style=\"text-align: right;\">\n",
       "      <th><\/th>\n",
       "      <th>name<\/th>\n",
       "      <th>population<\/th>\n",
       "    <\/tr>\n",
       "  <\/thead>\n",
       "  <tbody>\n",
       "    <tr>\n",
       "      <th>0<\/th>\n",
       "      <td>Vatican City<\/td>\n",
       "      <td>839<\/td>\n",
       "    <\/tr>\n",
       "    <tr>\n",
       "      <th>1<\/th>\n",
       "      <td>Vatican City<\/td>\n",
       "      <td>839<\/td>\n",
       "    <\/tr>\n",
       "    <tr>\n",
       "      <th>2<\/th>\n",
       "      <td>Nauru<\/td>\n",
       "      <td>9945<\/td>\n",
       "    <\/tr>\n",
       "    <tr>\n",
       "      <th>3<\/th>\n",
       "      <td>Nauru<\/td>\n",
       "      <td>9945<\/td>\n",
       "    <\/tr>\n",
       "    <tr>\n",
       "      <th>4<\/th>\n",
       "      <td>Tuvalu<\/td>\n",
       "      <td>11323<\/td>\n",
       "    <\/tr>\n",
       "    <tr>\n",
       "      <th>...<\/th>\n",
       "      <td>...<\/td>\n",
       "      <td>...<\/td>\n",
       "    <\/tr>\n",
       "    <tr>\n",
       "      <th>385<\/th>\n",
       "      <td>United States<\/td>\n",
       "      <td>318320000<\/td>\n",
       "    <\/tr>\n",
       "    <tr>\n",
       "      <th>386<\/th>\n",
       "      <td>India<\/td>\n",
       "      <td>1246160000<\/td>\n",
       "    <\/tr>\n",
       "    <tr>\n",
       "      <th>387<\/th>\n",
       "      <td>India<\/td>\n",
       "      <td>1246160000<\/td>\n",
       "    <\/tr>\n",
       "    <tr>\n",
       "      <th>388<\/th>\n",
       "      <td>China<\/td>\n",
       "      <td>1365370000<\/td>\n",
       "    <\/tr>\n",
       "    <tr>\n",
       "      <th>389<\/th>\n",
       "      <td>China<\/td>\n",
       "      <td>1365370000<\/td>\n",
       "    <\/tr>\n",
       "  <\/tbody>\n",
       "<\/table>\n",
       "<p>390 rows × 2 columns<\/p>\n",
       "<\/div>"
      ]
     },
     "metadata":{
      
     },
     "output_type":"display_data"
    }
   ],
   "metadata":{
    "datalore":{
     "node_id":"4GaClQKz0uImUpGXLQnmZT",
     "type":"SQL",
     "hide_input_from_viewers":true,
     "hide_output_from_viewers":true,
     "sql_cell_properties":{
      "dbId":"30mmHcmNZfSWCiirkD4rnW",
      "variableName":"df_15",
      "dialect":"mysql.8"
     }
    }
   }
  },
  {
   "cell_type":"code",
   "source":[
    "# Distinct, Group by Zoskupenie\n",
    "select distinct continent from world\n",
    "order by continent;"
   ],
   "execution_count":30,
   "outputs":[
    {
     "data":{
      "text\/html":[
       "<div>\n",
       "<style scoped>\n",
       "    .dataframe tbody tr th:only-of-type {\n",
       "        vertical-align: middle;\n",
       "    }\n",
       "\n",
       "    .dataframe tbody tr th {\n",
       "        vertical-align: top;\n",
       "    }\n",
       "\n",
       "    .dataframe thead th {\n",
       "        text-align: right;\n",
       "    }\n",
       "<\/style>\n",
       "<table border=\"1\" class=\"dataframe\">\n",
       "  <thead>\n",
       "    <tr style=\"text-align: right;\">\n",
       "      <th><\/th>\n",
       "      <th>continent<\/th>\n",
       "    <\/tr>\n",
       "  <\/thead>\n",
       "  <tbody>\n",
       "    <tr>\n",
       "      <th>0<\/th>\n",
       "      <td>Africa<\/td>\n",
       "    <\/tr>\n",
       "    <tr>\n",
       "      <th>1<\/th>\n",
       "      <td>Asia<\/td>\n",
       "    <\/tr>\n",
       "    <tr>\n",
       "      <th>2<\/th>\n",
       "      <td>Caribbean<\/td>\n",
       "    <\/tr>\n",
       "    <tr>\n",
       "      <th>3<\/th>\n",
       "      <td>Eurasia<\/td>\n",
       "    <\/tr>\n",
       "    <tr>\n",
       "      <th>4<\/th>\n",
       "      <td>Europe<\/td>\n",
       "    <\/tr>\n",
       "    <tr>\n",
       "      <th>5<\/th>\n",
       "      <td>North America<\/td>\n",
       "    <\/tr>\n",
       "    <tr>\n",
       "      <th>6<\/th>\n",
       "      <td>Oceania<\/td>\n",
       "    <\/tr>\n",
       "    <tr>\n",
       "      <th>7<\/th>\n",
       "      <td>South America<\/td>\n",
       "    <\/tr>\n",
       "  <\/tbody>\n",
       "<\/table>\n",
       "<\/div>"
      ]
     },
     "metadata":{
      
     },
     "output_type":"display_data"
    }
   ],
   "metadata":{
    "datalore":{
     "node_id":"Bgj12of4CpaRgu7sXxz4Vz",
     "type":"SQL",
     "hide_input_from_viewers":true,
     "hide_output_from_viewers":true,
     "sql_cell_properties":{
      "dbId":"30mmHcmNZfSWCiirkD4rnW",
      "variableName":"df_16",
      "dialect":"mysql.8"
     }
    }
   }
  },
  {
   "cell_type":"code",
   "source":[
    "# Distinct, Group by Zoskupenie\n",
    "select continent from world\n",
    "group by continent\n",
    "order by continent;"
   ],
   "execution_count":32,
   "outputs":[
    {
     "data":{
      "text\/html":[
       "<div>\n",
       "<style scoped>\n",
       "    .dataframe tbody tr th:only-of-type {\n",
       "        vertical-align: middle;\n",
       "    }\n",
       "\n",
       "    .dataframe tbody tr th {\n",
       "        vertical-align: top;\n",
       "    }\n",
       "\n",
       "    .dataframe thead th {\n",
       "        text-align: right;\n",
       "    }\n",
       "<\/style>\n",
       "<table border=\"1\" class=\"dataframe\">\n",
       "  <thead>\n",
       "    <tr style=\"text-align: right;\">\n",
       "      <th><\/th>\n",
       "      <th>continent<\/th>\n",
       "    <\/tr>\n",
       "  <\/thead>\n",
       "  <tbody>\n",
       "    <tr>\n",
       "      <th>0<\/th>\n",
       "      <td>Africa<\/td>\n",
       "    <\/tr>\n",
       "    <tr>\n",
       "      <th>1<\/th>\n",
       "      <td>Asia<\/td>\n",
       "    <\/tr>\n",
       "    <tr>\n",
       "      <th>2<\/th>\n",
       "      <td>Caribbean<\/td>\n",
       "    <\/tr>\n",
       "    <tr>\n",
       "      <th>3<\/th>\n",
       "      <td>Eurasia<\/td>\n",
       "    <\/tr>\n",
       "    <tr>\n",
       "      <th>4<\/th>\n",
       "      <td>Europe<\/td>\n",
       "    <\/tr>\n",
       "    <tr>\n",
       "      <th>5<\/th>\n",
       "      <td>North America<\/td>\n",
       "    <\/tr>\n",
       "    <tr>\n",
       "      <th>6<\/th>\n",
       "      <td>Oceania<\/td>\n",
       "    <\/tr>\n",
       "    <tr>\n",
       "      <th>7<\/th>\n",
       "      <td>South America<\/td>\n",
       "    <\/tr>\n",
       "  <\/tbody>\n",
       "<\/table>\n",
       "<\/div>"
      ]
     },
     "metadata":{
      
     },
     "output_type":"display_data"
    }
   ],
   "metadata":{
    "datalore":{
     "node_id":"Zy3fLfBiZdSf2RXuElmp1y",
     "type":"SQL",
     "hide_input_from_viewers":true,
     "hide_output_from_viewers":true,
     "sql_cell_properties":{
      "dbId":"30mmHcmNZfSWCiirkD4rnW",
      "variableName":"df_17",
      "dialect":"mysql.8"
     }
    }
   }
  },
  {
   "cell_type":"code",
   "source":[
    
   ],
   "execution_count":null,
   "outputs":[
    
   ],
   "metadata":{
    "datalore":{
     "node_id":"A9G8czYWduySxW2KuYoawq",
     "type":"CODE",
     "hide_input_from_viewers":true,
     "hide_output_from_viewers":true
    }
   }
  },
  {
   "cell_type":"code",
   "source":[
    "\/*select count(*)\n",
    "from world;*\/\n",
    "\n",
    "select count(name)\n",
    "from world;"
   ],
   "execution_count":34,
   "outputs":[
    {
     "data":{
      "text\/html":[
       "<div>\n",
       "<style scoped>\n",
       "    .dataframe tbody tr th:only-of-type {\n",
       "        vertical-align: middle;\n",
       "    }\n",
       "\n",
       "    .dataframe tbody tr th {\n",
       "        vertical-align: top;\n",
       "    }\n",
       "\n",
       "    .dataframe thead th {\n",
       "        text-align: right;\n",
       "    }\n",
       "<\/style>\n",
       "<table border=\"1\" class=\"dataframe\">\n",
       "  <thead>\n",
       "    <tr style=\"text-align: right;\">\n",
       "      <th><\/th>\n",
       "      <th>count(name)<\/th>\n",
       "    <\/tr>\n",
       "  <\/thead>\n",
       "  <tbody>\n",
       "    <tr>\n",
       "      <th>0<\/th>\n",
       "      <td>390<\/td>\n",
       "    <\/tr>\n",
       "  <\/tbody>\n",
       "<\/table>\n",
       "<\/div>"
      ]
     },
     "metadata":{
      
     },
     "output_type":"display_data"
    }
   ],
   "metadata":{
    "datalore":{
     "node_id":"uMFOVIJlsz4imCoYn6h5Av",
     "type":"SQL",
     "hide_input_from_viewers":true,
     "hide_output_from_viewers":true,
     "sql_cell_properties":{
      "dbId":"30mmHcmNZfSWCiirkD4rnW",
      "variableName":"df_18",
      "dialect":"mysql.8"
     }
    }
   }
  },
  {
   "cell_type":"code",
   "source":[
    "select *\n",
    "from world;"
   ],
   "execution_count":35,
   "outputs":[
    {
     "data":{
      "text\/html":[
       "<div>\n",
       "<style scoped>\n",
       "    .dataframe tbody tr th:only-of-type {\n",
       "        vertical-align: middle;\n",
       "    }\n",
       "\n",
       "    .dataframe tbody tr th {\n",
       "        vertical-align: top;\n",
       "    }\n",
       "\n",
       "    .dataframe thead th {\n",
       "        text-align: right;\n",
       "    }\n",
       "<\/style>\n",
       "<table border=\"1\" class=\"dataframe\">\n",
       "  <thead>\n",
       "    <tr style=\"text-align: right;\">\n",
       "      <th><\/th>\n",
       "      <th>name<\/th>\n",
       "      <th>continent<\/th>\n",
       "      <th>area<\/th>\n",
       "      <th>population<\/th>\n",
       "      <th>gdp<\/th>\n",
       "      <th>capital<\/th>\n",
       "      <th>tld<\/th>\n",
       "      <th>flag<\/th>\n",
       "    <\/tr>\n",
       "  <\/thead>\n",
       "  <tbody>\n",
       "    <tr>\n",
       "      <th>0<\/th>\n",
       "      <td>Afghanistan<\/td>\n",
       "      <td>Asia<\/td>\n",
       "      <td>652230<\/td>\n",
       "      <td>25500100<\/td>\n",
       "      <td>2.036400e+10<\/td>\n",
       "      <td>Kabul<\/td>\n",
       "      <td>.af<\/td>\n",
       "      <td>\/\/upload.wikimedia.org\/wikipedia\/commons\/9\/9a\/...<\/td>\n",
       "    <\/tr>\n",
       "    <tr>\n",
       "      <th>1<\/th>\n",
       "      <td>Albania<\/td>\n",
       "      <td>Europe<\/td>\n",
       "      <td>28748<\/td>\n",
       "      <td>2821977<\/td>\n",
       "      <td>1.204400e+10<\/td>\n",
       "      <td>Tirana<\/td>\n",
       "      <td>.al<\/td>\n",
       "      <td>\/\/upload.wikimedia.org\/wikipedia\/commons\/3\/36\/...<\/td>\n",
       "    <\/tr>\n",
       "    <tr>\n",
       "      <th>2<\/th>\n",
       "      <td>Algeria<\/td>\n",
       "      <td>Africa<\/td>\n",
       "      <td>2381741<\/td>\n",
       "      <td>38700000<\/td>\n",
       "      <td>2.070210e+05<\/td>\n",
       "      <td>Algiers<\/td>\n",
       "      <td>.dz<\/td>\n",
       "      <td>\/\/upload.wikimedia.org\/wikipedia\/commons\/7\/77\/...<\/td>\n",
       "    <\/tr>\n",
       "    <tr>\n",
       "      <th>3<\/th>\n",
       "      <td>Andorra<\/td>\n",
       "      <td>Europe<\/td>\n",
       "      <td>468<\/td>\n",
       "      <td>76098<\/td>\n",
       "      <td>3.222000e+09<\/td>\n",
       "      <td>Andorra la Vella<\/td>\n",
       "      <td>.ad<\/td>\n",
       "      <td>\/\/upload.wikimedia.org\/wikipedia\/commons\/1\/19\/...<\/td>\n",
       "    <\/tr>\n",
       "    <tr>\n",
       "      <th>4<\/th>\n",
       "      <td>Angola<\/td>\n",
       "      <td>Africa<\/td>\n",
       "      <td>1246700<\/td>\n",
       "      <td>19183590<\/td>\n",
       "      <td>1.163080e+05<\/td>\n",
       "      <td>Luanda<\/td>\n",
       "      <td>.ao<\/td>\n",
       "      <td>\/\/upload.wikimedia.org\/wikipedia\/commons\/9\/9d\/...<\/td>\n",
       "    <\/tr>\n",
       "    <tr>\n",
       "      <th>...<\/th>\n",
       "      <td>...<\/td>\n",
       "      <td>...<\/td>\n",
       "      <td>...<\/td>\n",
       "      <td>...<\/td>\n",
       "      <td>...<\/td>\n",
       "      <td>...<\/td>\n",
       "      <td>...<\/td>\n",
       "      <td>...<\/td>\n",
       "    <\/tr>\n",
       "    <tr>\n",
       "      <th>385<\/th>\n",
       "      <td>Venezuela<\/td>\n",
       "      <td>South America<\/td>\n",
       "      <td>916445<\/td>\n",
       "      <td>28946101<\/td>\n",
       "      <td>3.824240e+05<\/td>\n",
       "      <td>Caracas<\/td>\n",
       "      <td>.ve<\/td>\n",
       "      <td>\/\/upload.wikimedia.org\/wikipedia\/commons\/0\/06\/...<\/td>\n",
       "    <\/tr>\n",
       "    <tr>\n",
       "      <th>386<\/th>\n",
       "      <td>Vietnam<\/td>\n",
       "      <td>Asia<\/td>\n",
       "      <td>331212<\/td>\n",
       "      <td>89708900<\/td>\n",
       "      <td>1.558200e+04<\/td>\n",
       "      <td>Hanoi<\/td>\n",
       "      <td>.vn<\/td>\n",
       "      <td>\/\/upload.wikimedia.org\/wikipedia\/commons\/2\/21\/...<\/td>\n",
       "    <\/tr>\n",
       "    <tr>\n",
       "      <th>387<\/th>\n",
       "      <td>Yemen<\/td>\n",
       "      <td>Asia<\/td>\n",
       "      <td>527968<\/td>\n",
       "      <td>25235000<\/td>\n",
       "      <td>3.283100e+10<\/td>\n",
       "      <td>Sana‘a<\/td>\n",
       "      <td>.ye<\/td>\n",
       "      <td>\/\/upload.wikimedia.org\/wikipedia\/commons\/8\/89\/...<\/td>\n",
       "    <\/tr>\n",
       "    <tr>\n",
       "      <th>388<\/th>\n",
       "      <td>Zambia<\/td>\n",
       "      <td>Africa<\/td>\n",
       "      <td>752612<\/td>\n",
       "      <td>15023315<\/td>\n",
       "      <td>2.149000e+10<\/td>\n",
       "      <td>Lusaka<\/td>\n",
       "      <td>.zm<\/td>\n",
       "      <td>\/\/upload.wikimedia.org\/wikipedia\/commons\/0\/06\/...<\/td>\n",
       "    <\/tr>\n",
       "    <tr>\n",
       "      <th>389<\/th>\n",
       "      <td>Zimbabwe<\/td>\n",
       "      <td>Africa<\/td>\n",
       "      <td>390757<\/td>\n",
       "      <td>13061239<\/td>\n",
       "      <td>9.802000e+09<\/td>\n",
       "      <td>Harare<\/td>\n",
       "      <td>.zw<\/td>\n",
       "      <td>\/\/upload.wikimedia.org\/wikipedia\/commons\/6\/6a\/...<\/td>\n",
       "    <\/tr>\n",
       "  <\/tbody>\n",
       "<\/table>\n",
       "<p>390 rows × 8 columns<\/p>\n",
       "<\/div>"
      ]
     },
     "metadata":{
      
     },
     "output_type":"display_data"
    }
   ],
   "metadata":{
    "datalore":{
     "node_id":"MA2o49DAhJIU7fQlHtE8Fe",
     "type":"SQL",
     "hide_input_from_viewers":true,
     "hide_output_from_viewers":true,
     "sql_cell_properties":{
      "dbId":"30mmHcmNZfSWCiirkD4rnW",
      "variableName":"df_19",
      "dialect":"mysql.8"
     }
    }
   }
  },
  {
   "cell_type":"code",
   "source":[
    "select *, cast(HIREDATE as char) from EMP;"
   ],
   "execution_count":36,
   "outputs":[
    {
     "data":{
      "text\/html":[
       "<div>\n",
       "<style scoped>\n",
       "    .dataframe tbody tr th:only-of-type {\n",
       "        vertical-align: middle;\n",
       "    }\n",
       "\n",
       "    .dataframe tbody tr th {\n",
       "        vertical-align: top;\n",
       "    }\n",
       "\n",
       "    .dataframe thead th {\n",
       "        text-align: right;\n",
       "    }\n",
       "<\/style>\n",
       "<table border=\"1\" class=\"dataframe\">\n",
       "  <thead>\n",
       "    <tr style=\"text-align: right;\">\n",
       "      <th><\/th>\n",
       "      <th>EMPNO<\/th>\n",
       "      <th>ENAME<\/th>\n",
       "      <th>JOB<\/th>\n",
       "      <th>MGR<\/th>\n",
       "      <th>HIREDATE<\/th>\n",
       "      <th>SAL<\/th>\n",
       "      <th>COMM<\/th>\n",
       "      <th>DEPTNO<\/th>\n",
       "      <th>cast(HIREDATE as char)<\/th>\n",
       "    <\/tr>\n",
       "  <\/thead>\n",
       "  <tbody>\n",
       "    <tr>\n",
       "      <th>0<\/th>\n",
       "      <td>7369<\/td>\n",
       "      <td>SMITH<\/td>\n",
       "      <td>CLERK<\/td>\n",
       "      <td>7902.0<\/td>\n",
       "      <td>1980-12-17<\/td>\n",
       "      <td>800<\/td>\n",
       "      <td>NaN<\/td>\n",
       "      <td>20<\/td>\n",
       "      <td>1980-12-17<\/td>\n",
       "    <\/tr>\n",
       "    <tr>\n",
       "      <th>1<\/th>\n",
       "      <td>7499<\/td>\n",
       "      <td>ALLEN<\/td>\n",
       "      <td>SALESMAN<\/td>\n",
       "      <td>7698.0<\/td>\n",
       "      <td>1981-02-20<\/td>\n",
       "      <td>1600<\/td>\n",
       "      <td>300.0<\/td>\n",
       "      <td>30<\/td>\n",
       "      <td>1981-02-20<\/td>\n",
       "    <\/tr>\n",
       "    <tr>\n",
       "      <th>2<\/th>\n",
       "      <td>7521<\/td>\n",
       "      <td>WARD<\/td>\n",
       "      <td>SALESMAN<\/td>\n",
       "      <td>7698.0<\/td>\n",
       "      <td>1981-02-22<\/td>\n",
       "      <td>1250<\/td>\n",
       "      <td>500.0<\/td>\n",
       "      <td>30<\/td>\n",
       "      <td>1981-02-22<\/td>\n",
       "    <\/tr>\n",
       "    <tr>\n",
       "      <th>3<\/th>\n",
       "      <td>7566<\/td>\n",
       "      <td>JONES<\/td>\n",
       "      <td>MANAGER<\/td>\n",
       "      <td>7839.0<\/td>\n",
       "      <td>1981-04-02<\/td>\n",
       "      <td>2975<\/td>\n",
       "      <td>NaN<\/td>\n",
       "      <td>20<\/td>\n",
       "      <td>1981-04-02<\/td>\n",
       "    <\/tr>\n",
       "    <tr>\n",
       "      <th>4<\/th>\n",
       "      <td>7654<\/td>\n",
       "      <td>MARTIN<\/td>\n",
       "      <td>SALESMAN<\/td>\n",
       "      <td>7698.0<\/td>\n",
       "      <td>1981-09-28<\/td>\n",
       "      <td>1250<\/td>\n",
       "      <td>1400.0<\/td>\n",
       "      <td>30<\/td>\n",
       "      <td>1981-09-28<\/td>\n",
       "    <\/tr>\n",
       "    <tr>\n",
       "      <th>5<\/th>\n",
       "      <td>7698<\/td>\n",
       "      <td>BLAKE<\/td>\n",
       "      <td>MANAGER<\/td>\n",
       "      <td>7839.0<\/td>\n",
       "      <td>1981-05-01<\/td>\n",
       "      <td>2850<\/td>\n",
       "      <td>NaN<\/td>\n",
       "      <td>30<\/td>\n",
       "      <td>1981-05-01<\/td>\n",
       "    <\/tr>\n",
       "    <tr>\n",
       "      <th>6<\/th>\n",
       "      <td>7782<\/td>\n",
       "      <td>CLARK<\/td>\n",
       "      <td>MANAGER<\/td>\n",
       "      <td>7839.0<\/td>\n",
       "      <td>1981-06-09<\/td>\n",
       "      <td>2450<\/td>\n",
       "      <td>NaN<\/td>\n",
       "      <td>10<\/td>\n",
       "      <td>1981-06-09<\/td>\n",
       "    <\/tr>\n",
       "    <tr>\n",
       "      <th>7<\/th>\n",
       "      <td>7788<\/td>\n",
       "      <td>SCOTT<\/td>\n",
       "      <td>ANALYST<\/td>\n",
       "      <td>7566.0<\/td>\n",
       "      <td>1982-12-09<\/td>\n",
       "      <td>3000<\/td>\n",
       "      <td>NaN<\/td>\n",
       "      <td>20<\/td>\n",
       "      <td>1982-12-09<\/td>\n",
       "    <\/tr>\n",
       "    <tr>\n",
       "      <th>8<\/th>\n",
       "      <td>7839<\/td>\n",
       "      <td>KING<\/td>\n",
       "      <td>PRESIDENT<\/td>\n",
       "      <td>NaN<\/td>\n",
       "      <td>1981-11-17<\/td>\n",
       "      <td>5000<\/td>\n",
       "      <td>NaN<\/td>\n",
       "      <td>10<\/td>\n",
       "      <td>1981-11-17<\/td>\n",
       "    <\/tr>\n",
       "    <tr>\n",
       "      <th>9<\/th>\n",
       "      <td>7844<\/td>\n",
       "      <td>TURNER<\/td>\n",
       "      <td>SALESMAN<\/td>\n",
       "      <td>7698.0<\/td>\n",
       "      <td>1981-09-08<\/td>\n",
       "      <td>1500<\/td>\n",
       "      <td>0.0<\/td>\n",
       "      <td>30<\/td>\n",
       "      <td>1981-09-08<\/td>\n",
       "    <\/tr>\n",
       "    <tr>\n",
       "      <th>10<\/th>\n",
       "      <td>7876<\/td>\n",
       "      <td>ADAMS<\/td>\n",
       "      <td>CLERK<\/td>\n",
       "      <td>7788.0<\/td>\n",
       "      <td>1983-01-12<\/td>\n",
       "      <td>1100<\/td>\n",
       "      <td>NaN<\/td>\n",
       "      <td>20<\/td>\n",
       "      <td>1983-01-12<\/td>\n",
       "    <\/tr>\n",
       "    <tr>\n",
       "      <th>11<\/th>\n",
       "      <td>7900<\/td>\n",
       "      <td>JAMES<\/td>\n",
       "      <td>CLERK<\/td>\n",
       "      <td>7698.0<\/td>\n",
       "      <td>1981-12-03<\/td>\n",
       "      <td>950<\/td>\n",
       "      <td>NaN<\/td>\n",
       "      <td>30<\/td>\n",
       "      <td>1981-12-03<\/td>\n",
       "    <\/tr>\n",
       "    <tr>\n",
       "      <th>12<\/th>\n",
       "      <td>7902<\/td>\n",
       "      <td>FORD<\/td>\n",
       "      <td>ANALYST<\/td>\n",
       "      <td>7566.0<\/td>\n",
       "      <td>1981-12-03<\/td>\n",
       "      <td>3000<\/td>\n",
       "      <td>NaN<\/td>\n",
       "      <td>20<\/td>\n",
       "      <td>1981-12-03<\/td>\n",
       "    <\/tr>\n",
       "    <tr>\n",
       "      <th>13<\/th>\n",
       "      <td>7934<\/td>\n",
       "      <td>MILLER<\/td>\n",
       "      <td>CLERK<\/td>\n",
       "      <td>7782.0<\/td>\n",
       "      <td>1982-01-23<\/td>\n",
       "      <td>1300<\/td>\n",
       "      <td>NaN<\/td>\n",
       "      <td>10<\/td>\n",
       "      <td>1982-01-23<\/td>\n",
       "    <\/tr>\n",
       "  <\/tbody>\n",
       "<\/table>\n",
       "<\/div>"
      ]
     },
     "metadata":{
      
     },
     "output_type":"display_data"
    }
   ],
   "metadata":{
    "datalore":{
     "node_id":"GOmIuxyhSIqmOysUTbtELp",
     "type":"SQL",
     "hide_input_from_viewers":true,
     "hide_output_from_viewers":true,
     "sql_cell_properties":{
      "dbId":"30mmHcmNZfSWCiirkD4rnW",
      "variableName":"df_20",
      "dialect":"mysql.8"
     }
    }
   }
  },
  {
   "cell_type":"code",
   "source":[
    "select cast('2023-11-29' as date);"
   ],
   "execution_count":37,
   "outputs":[
    {
     "data":{
      "text\/html":[
       "<div>\n",
       "<style scoped>\n",
       "    .dataframe tbody tr th:only-of-type {\n",
       "        vertical-align: middle;\n",
       "    }\n",
       "\n",
       "    .dataframe tbody tr th {\n",
       "        vertical-align: top;\n",
       "    }\n",
       "\n",
       "    .dataframe thead th {\n",
       "        text-align: right;\n",
       "    }\n",
       "<\/style>\n",
       "<table border=\"1\" class=\"dataframe\">\n",
       "  <thead>\n",
       "    <tr style=\"text-align: right;\">\n",
       "      <th><\/th>\n",
       "      <th>cast('2023-11-29' as date)<\/th>\n",
       "    <\/tr>\n",
       "  <\/thead>\n",
       "  <tbody>\n",
       "    <tr>\n",
       "      <th>0<\/th>\n",
       "      <td>2023-11-29<\/td>\n",
       "    <\/tr>\n",
       "  <\/tbody>\n",
       "<\/table>\n",
       "<\/div>"
      ]
     },
     "metadata":{
      
     },
     "output_type":"display_data"
    }
   ],
   "metadata":{
    "datalore":{
     "node_id":"MmniFZW8lGjSLeYo8XYpry",
     "type":"SQL",
     "hide_input_from_viewers":true,
     "hide_output_from_viewers":true,
     "sql_cell_properties":{
      "dbId":"30mmHcmNZfSWCiirkD4rnW",
      "variableName":"df_21",
      "dialect":"mysql.8"
     }
    }
   }
  },
  {
   "cell_type":"markdown",
   "source":[
    "# Test DB"
   ],
   "attachments":{
    
   },
   "metadata":{
    "datalore":{
     "node_id":"Test DB",
     "type":"MD",
     "hide_input_from_viewers":false,
     "hide_output_from_viewers":false,
     "sheet_delimiter":true
    }
   }
  },
  {
   "cell_type":"code",
   "source":[
    "show tables;"
   ],
   "execution_count":1,
   "outputs":[
    {
     "data":{
      "text\/html":[
       "<div>\n",
       "<style scoped>\n",
       "    .dataframe tbody tr th:only-of-type {\n",
       "        vertical-align: middle;\n",
       "    }\n",
       "\n",
       "    .dataframe tbody tr th {\n",
       "        vertical-align: top;\n",
       "    }\n",
       "\n",
       "    .dataframe thead th {\n",
       "        text-align: right;\n",
       "    }\n",
       "<\/style>\n",
       "<table border=\"1\" class=\"dataframe\">\n",
       "  <thead>\n",
       "    <tr style=\"text-align: right;\">\n",
       "      <th><\/th>\n",
       "      <th>Tables_in_DB_MySQL<\/th>\n",
       "    <\/tr>\n",
       "  <\/thead>\n",
       "  <tbody>\n",
       "    <tr>\n",
       "      <th>0<\/th>\n",
       "      <td>DEPT<\/td>\n",
       "    <\/tr>\n",
       "    <tr>\n",
       "      <th>1<\/th>\n",
       "      <td>EMP<\/td>\n",
       "    <\/tr>\n",
       "    <tr>\n",
       "      <th>2<\/th>\n",
       "      <td>Studenti<\/td>\n",
       "    <\/tr>\n",
       "    <tr>\n",
       "      <th>3<\/th>\n",
       "      <td>T1<\/td>\n",
       "    <\/tr>\n",
       "    <tr>\n",
       "      <th>4<\/th>\n",
       "      <td>T10<\/td>\n",
       "    <\/tr>\n",
       "    <tr>\n",
       "      <th>5<\/th>\n",
       "      <td>T100<\/td>\n",
       "    <\/tr>\n",
       "    <tr>\n",
       "      <th>6<\/th>\n",
       "      <td>Znamky<\/td>\n",
       "    <\/tr>\n",
       "    <tr>\n",
       "      <th>7<\/th>\n",
       "      <td>nobel<\/td>\n",
       "    <\/tr>\n",
       "    <tr>\n",
       "      <th>8<\/th>\n",
       "      <td>world<\/td>\n",
       "    <\/tr>\n",
       "  <\/tbody>\n",
       "<\/table>\n",
       "<\/div>"
      ]
     },
     "metadata":{
      
     },
     "output_type":"display_data"
    }
   ],
   "metadata":{
    "datalore":{
     "node_id":"yPTrsirfaDfiByJh3wuMXZ",
     "type":"SQL",
     "hide_input_from_viewers":true,
     "hide_output_from_viewers":true,
     "sql_cell_properties":{
      "dbId":"30mmHcmNZfSWCiirkD4rnW",
      "variableName":"df_3",
      "dialect":"mysql.8"
     }
    }
   }
  },
  {
   "cell_type":"code",
   "source":[
    "show tables;"
   ],
   "execution_count":2,
   "outputs":[
    {
     "data":{
      "text\/html":[
       "<div>\n",
       "<style scoped>\n",
       "    .dataframe tbody tr th:only-of-type {\n",
       "        vertical-align: middle;\n",
       "    }\n",
       "\n",
       "    .dataframe tbody tr th {\n",
       "        vertical-align: top;\n",
       "    }\n",
       "\n",
       "    .dataframe thead th {\n",
       "        text-align: right;\n",
       "    }\n",
       "<\/style>\n",
       "<table border=\"1\" class=\"dataframe\">\n",
       "  <thead>\n",
       "    <tr style=\"text-align: right;\">\n",
       "      <th><\/th>\n",
       "      <th>Tables_in_DB_MySQL<\/th>\n",
       "    <\/tr>\n",
       "  <\/thead>\n",
       "  <tbody>\n",
       "    <tr>\n",
       "      <th>0<\/th>\n",
       "      <td>DEPT<\/td>\n",
       "    <\/tr>\n",
       "    <tr>\n",
       "      <th>1<\/th>\n",
       "      <td>EMP<\/td>\n",
       "    <\/tr>\n",
       "    <tr>\n",
       "      <th>2<\/th>\n",
       "      <td>Studenti<\/td>\n",
       "    <\/tr>\n",
       "    <tr>\n",
       "      <th>3<\/th>\n",
       "      <td>T1<\/td>\n",
       "    <\/tr>\n",
       "    <tr>\n",
       "      <th>4<\/th>\n",
       "      <td>T10<\/td>\n",
       "    <\/tr>\n",
       "    <tr>\n",
       "      <th>5<\/th>\n",
       "      <td>T100<\/td>\n",
       "    <\/tr>\n",
       "    <tr>\n",
       "      <th>6<\/th>\n",
       "      <td>Znamky<\/td>\n",
       "    <\/tr>\n",
       "    <tr>\n",
       "      <th>7<\/th>\n",
       "      <td>nobel<\/td>\n",
       "    <\/tr>\n",
       "    <tr>\n",
       "      <th>8<\/th>\n",
       "      <td>world<\/td>\n",
       "    <\/tr>\n",
       "  <\/tbody>\n",
       "<\/table>\n",
       "<\/div>"
      ]
     },
     "metadata":{
      
     },
     "output_type":"display_data"
    }
   ],
   "metadata":{
    "datalore":{
     "node_id":"PTQjDK93X965JJ6Ypqk6h6",
     "type":"SQL",
     "hide_input_from_viewers":true,
     "hide_output_from_viewers":true,
     "sql_cell_properties":{
      "dbId":"30mmHcmNZfSWCiirkD4rnW",
      "variableName":"df_4",
      "dialect":"mysql.8"
     }
    }
   }
  }
 ],
 "metadata":{
  "kernelspec":{
   "display_name":"Python",
   "language":"python",
   "name":"python"
  },
  "datalore":{
   "computation_mode":"JUPYTER",
   "package_manager":"pip",
   "base_environment":"default",
   "packages":[
    
   ],
   "report_row_ids":[
    
   ],
   "version":3
  }
 },
 "nbformat":4,
 "nbformat_minor":4
}