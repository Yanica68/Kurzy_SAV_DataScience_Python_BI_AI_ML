{
 "cells":[
  {
   "cell_type":"markdown",
   "source":[
    "# D1"
   ],
   "attachments":{
    
   },
   "metadata":{
    "datalore":{
     "node_id":"D1",
     "type":"MD",
     "hide_input_from_viewers":false,
     "hide_output_from_viewers":false,
     "sheet_delimiter":true
    }
   }
  },
  {
   "cell_type":"markdown",
   "source":[
    "# 🐍 Kurz Python III. Pokročilý (Objektové Programovanie II)\n",
    "**🧑‍🏫 Lektor:** Miroslav Reiter  \n",
    "**📥 LinkedIn kontakt:** https:\/\/www.linkedin.com\/in\/miroslav-reiter\/  \n",
    "\n",
    "**✅ Osnova:** https:\/\/itkurzy.sav.sk\/node\/194\n",
    "\n",
    "**🎞️ YouTube videá:** https:\/\/www.youtube.com\/c\/IT-AcademySK  \n",
    "**📇 Zdrojové kódy a materiály:** https:\/\/github.com\/miroslav-reiter\/Kurzy_SAV_Analytika_Python_R  \n",
    "\n",
    "**😊 Emojis:** Win + .  "
   ],
   "attachments":{
    
   },
   "metadata":{
    "datalore":{
     "node_id":"qRdXhRnZVVPQc9OEaStvFK",
     "type":"MD",
     "hide_input_from_viewers":false,
     "hide_output_from_viewers":false,
     "report_properties":{
      "rowId":"e3SflrAZQKNNp9Bvno12Hw"
     }
    }
   }
  },
  {
   "cell_type":"code",
   "source":[
    
   ],
   "execution_count":null,
   "outputs":[
    
   ],
   "metadata":{
    "datalore":{
     "node_id":"7kmnO9avKN2654YtBFwVug",
     "type":"CODE",
     "hide_input_from_viewers":true,
     "hide_output_from_viewers":true
    }
   }
  },
  {
   "cell_type":"markdown",
   "source":[
    "# 🦮 Triedy (Clasess)\n",
    "Python je multiparadigmový programovací jazyk, ktorý podporuje objektovo orientované programovanie (OOP) **prostredníctvom tried**, ktoré môžete definovať pomocou **kľúčového slova class**. \n",
    "\n",
    "Triedu si môžete predstaviť ako časť kódu, ktorá špecifikuje **údaje** a **správanie**, ktoré predstavujú a modelujú konkrétny **typ objektu**.\n",
    "\n",
    "Bežnou analógiou je, že trieda je ako plán domu. Pomocou nákresu môžete vytvoriť niekoľko domov a dokonca aj celé sídlisko. Každý betónový dom je objekt alebo príklad, ktorý je odvodený z plánu.\n",
    "\n",
    "Každá inštancia môže mať svoje vlastné vlastnosti, ako je farba, vlastník a dizajn interiéru. Tieto vlastnosti nesú to, čo je bežne známe ako stav objektu. Prípady môžu mať aj rôzne správanie, napríklad zamykanie dverí a okien, otváranie garážových brán, zapínanie a vypínanie svetiel, polievanie záhrady a ďalšie.\n",
    "\n",
    "V OOP bežne používate termín **atribúty** na označenie **vlastností** alebo **údajov** spojených s konkrétnym objektom danej triedy. V Pythone sú **atribúty premenné** definované **vo vnútri triedy** s cieľom **uložiť všetky požadované údaje**, aby trieda fungovala.\n",
    "\n",
    "Podobne budete používať termín **metódy** na označenie rôznych **správaní**, ktoré budú **objekty vykazovať**. Metódy sú **funkcie**, ktoré definujete **v rámci triedy**. Tieto funkcie zvyčajne fungujú na alebo s atribútmi základnej inštancie alebo triedy. **Atribúty** a **metódy** sa **súhrnne označujú** ako **členovia triedy** alebo **objektu**.\n",
    "\n",
    "Môžete písať plne **funkčné triedy** na **modelovanie skutočného sveta**. Tieto triedy vám pomôžu **lepšie zorganizovať váš kód** a **vyriešiť zložité programovacie problémy**.\n",
    "\n",
    "**Triedy** môžete **použiť** napríklad na **vytváranie objekto**v, ktoré **napodobňujú** ľudí, zvieratá, vozidlá, knihy, budovy, autá alebo iné objekty. Môžete tiež modelovať **virtuálne objekty**, ako je webový server, adresárový strom, chatbot, správca súborov a ďalšie."
   ],
   "attachments":{
    
   },
   "metadata":{
    "datalore":{
     "node_id":"JByBNsSDmT3R64DEDrxAoI",
     "type":"MD",
     "hide_input_from_viewers":true,
     "hide_output_from_viewers":true
    }
   }
  },
  {
   "cell_type":"code",
   "source":[
    "import math\n",
    "\n",
    "class Gula:\n",
    "    \"\"\"\n",
    "    @r - polomer v metroch napr. 5 m\n",
    "    \"\"\"\n",
    "    def __init__(self, r):\n",
    "        self.r = r\n",
    "\n",
    "    \"\"\"\n",
    "    Objem gule\n",
    "    @r - polomer v metroch napr. 5 m\n",
    "    @return Objem gule v m^3\n",
    "    \"\"\"\n",
    "    def vypocitaj_objem(self):\n",
    "        return round(4\/3 * math.pi * math.pow(self.r,3))\n",
    "    \n",
    "    \"\"\"\n",
    "    Obal gule\n",
    "    @r - polomer v metroch napr. 5 m\n",
    "    @return obal gule v m^2\n",
    "    \"\"\"\n",
    "    def vypocitaj_povrch(self):\n",
    "        return round(4 * math.pi * math.pow(self.r,2))\n",
    "    \n",
    "    \"\"\"\n",
    "    Projekčná plocha (plocha tieňa)\n",
    "    @r - polomer v metroch napr. 5 m\n",
    "    @return projekcna plocha gule v m^2\n",
    "    \"\"\"\n",
    "    def vypocitaj_projekcna_plocha(self):\n",
    "        return round(math.pi * math.pow(self.r,2))\n",
    "    \n",
    "    \"\"\"\n",
    "    Obvod najvacsi gule\n",
    "    @r - polomer v metroch napr. 5 m\n",
    "    @return najvacsi obvod gule v m^2\n",
    "    \"\"\"\n",
    "    def vypocitaj_obvod_najvacsi(self):\n",
    "        return round(2 * math.pi * self.r)"
   ],
   "execution_count":13,
   "outputs":[
    
   ],
   "metadata":{
    "datalore":{
     "node_id":"EDfHYFoX6Q4TPaI2EYeOy2",
     "type":"CODE",
     "hide_input_from_viewers":true,
     "hide_output_from_viewers":true
    }
   }
  },
  {
   "cell_type":"markdown",
   "source":[
    "## 🐶 Vytváranie objektov z triedy\n",
    "\n",
    "**Akcia vytvorenia konkrétnych objektov** z **existujúcej triedy** je známa ako **inštanciácia**. S každou inštanciou vytvoríte nový objekt cieľovej triedy.\n",
    "\n",
    "Ak chcete vytvoriť objekt triedy Python, ako je Gula, musíte zavolať **konštruktor triedy Gula()** s párom zátvoriek a sadou **vhodných argumentov**. Aké argumenty? V Pythone konštruktor triedy akceptuje rovnaké argumenty ako metóda .__init__(). V tomto príklade trieda Gula očakáva argument polomeru.\n",
    "\n",
    "Volanie konštruktora triedy s rôznymi hodnotami argumentov vám umožní vytvárať rôzne objekty alebo inštancie cieľovej triedy. Vo vyššie uvedenom príklade sú gula_1 a gula_2 samostatnými inštanciami Gule. Inými slovami, **sú to 2 rôzne a konkrétne gule**."
   ],
   "attachments":{
    
   },
   "metadata":{
    "datalore":{
     "node_id":"DcDUyZwpJTTeMveGiHPIDr",
     "type":"MD",
     "hide_input_from_viewers":true,
     "hide_output_from_viewers":true
    }
   }
  },
  {
   "cell_type":"code",
   "source":[
    "# from Gula import Gula\n",
    "from __main__ import Gula\n",
    "\n",
    "# TypeError: __init__() missing 1 required positional argument: 'r'\n",
    "# gula_1 = Gula()\n",
    "\n",
    "gula_1 = Gula(10)\n",
    "# Warning Statement seems to have no effect\n",
    "# gula_1\n",
    "print(gula_1)\n",
    "\n",
    "gula_2 = Gula(20)\n",
    "print(gula_2)\n",
    "\n",
    "print(f\"Objem Gule je: {gula_1.vypocitaj_objem()} m^3\")\n",
    "print(f\"Povrch Gule je: {gula_1.vypocitaj_povrch()} m^2\")\n",
    "print(f\"Projekčná plocha Gule je: {gula_1.vypocitaj_projekcna_plocha()} m^2\")"
   ],
   "execution_count":18,
   "outputs":[
    
   ],
   "metadata":{
    "datalore":{
     "node_id":"KZEMMpCOoMpdNuIxhyVIon",
     "type":"CODE",
     "hide_input_from_viewers":true,
     "hide_output_from_viewers":true
    }
   }
  },
  {
   "cell_type":"markdown",
   "source":[
    "## 🤔 Name Mangling"
   ],
   "attachments":{
    
   },
   "metadata":{
    "datalore":{
     "node_id":"OINy9iHgphMNNOq7Tl7iYG",
     "type":"MD",
     "hide_input_from_viewers":true,
     "hide_output_from_viewers":true
    }
   }
  },
  {
   "cell_type":"markdown",
   "source":[
    "Dôležitou konvenciou pomenovania, ktorú môžete vidieť a používať v triedach Pythonu, je pridanie dvoch podčiarkovníkov na začiatku k názvom atribútov a metód. Táto konvencia názvov spúšťa to, čo je známe ako name mangling (mangľovanie mien).\n",
    "\n",
    "Zmena názvu je automatická transformácia názvov, ktorá pred meno člena pripojí názov triedy, napríklad v metóde _ClassName__attribute alebo _ClassName__. Výsledkom je skrytie mena. Inými slovami, zmenené názvy nie sú k dispozícii na priamy prístup. Nie sú súčasťou verejného rozhrania API triedy.\n",
    "\n",
    "**Vstavaná funkcia vars()**, ktorá **vracia slovník všetkých členov** **spojených s daným objektom**. Tento **slovník** hrá dôležitú úlohu v triedach Pythonu napríklad pri atribúte .__dict__."
   ],
   "attachments":{
    
   },
   "metadata":{
    "datalore":{
     "node_id":"r5JsKiVaCaZyKFXLcf7FTF",
     "type":"MD",
     "hide_input_from_viewers":true,
     "hide_output_from_viewers":true
    }
   }
  },
  {
   "cell_type":"code",
   "source":[
    "class TriedaPriklad:\n",
    "    def __init__(self, data):\n",
    "        self.data = data\n",
    "    def __metoda(self):\n",
    "        print(self.data)\n",
    "\n",
    "instancia_priklad = TriedaPriklad(\"Servus!\")\n",
    "print(f\"Zoznam atribútov\/dát v Instancii\/Objekte: {vars(instancia_priklad)}\")\n",
    "\n",
    "print(f\"Zoznam atribútov\/dát a metód v Triede: {vars(TriedaPriklad)}\")\n",
    "\n",
    "instancia_priklad = TriedaPriklad(\"Servus!\")\n",
    "# AttributeError: 'TriedaPriklad' object has no attribute '__data'\n",
    "# instancia_priklad.__data\n",
    "\n",
    "# AttributeError: 'TriedaPriklad' object has no attribute '__metoda'\n",
    "# instancia_priklad.__metoda()"
   ],
   "execution_count":25,
   "outputs":[
    
   ],
   "metadata":{
    "datalore":{
     "node_id":"7X4K00ZEjLSbabTWlE3TS4",
     "type":"CODE",
     "hide_input_from_viewers":true,
     "hide_output_from_viewers":true
    }
   }
  },
  {
   "cell_type":"markdown",
   "source":[
    "## ✅ Výhody používania tried\n",
    "Triedy sú stavebnými kameňmi objektovo orientovaného programovania v Pythone. Umožňujú vám využiť silu Pythonu pri písaní a organizovaní kódu. Keď sa dozviete o triedach, budete môcť využívať všetky výhody, ktoré poskytujú. \n",
    "\n",
    "Pomocou tried môžete:\n",
    "1. Modelovať a riešiť zložité problémy v reálnom svete: Nájdete veľa situácií, v ktorých sa objekty vo vašom kóde mapujú na objekty skutočného sveta. To vám môže pomôcť premýšľať o zložitých problémoch, čo povedie k lepším riešeniam vašich problémov s programovaním.\n",
    "\n",
    "2. Opätovne použiž kód a vyhnúť sa opakovaniu (DRY): Môžete definovať hierarchie súvisiacich tried. Základné triedy na vrchole hierarchie poskytujú bežnú funkčnosť, ktorú môžete neskôr znova použiť v podtriedach nižšie v hierarchii. To vám umožní znížiť duplicitu kódu a podporiť opätovné použitie kódu.\n",
    "   \n",
    "3. Zapúzdriť súvisiace údaje a správanie do 1 entity: Triedy Pythonu môžete použiť na spojenie súvisiacich atribútov a metód do jedinej entity, objektu. To vám pomôže lepšie organizovať váš kód pomocou modulárnych a autonómnych entít, ktoré môžete dokonca opätovne použiť vo viacerých projektoch.\n",
    "   \n",
    "4. Abstrahovať detaily implementácie konceptov a objektov: Triedy môžete použiť na abstrahovanie detailov implementácie základných konceptov a objektov. To vám pomôže poskytnúť vašim používateľom intuitívne rozhrania (API) na spracovanie zložitých údajov a správania.\n",
    "   \n",
    "5. Odomknúť polymorfizmus pomocou bežných rozhraní: Môžete implementovať konkrétne rozhranie do niekoľkých mierne odlišných tried a používať ich vo svojom kóde zameniteľne. Vďaka tomu bude váš kód flexibilnejší a prispôsobivejší.\n",
    "    \n",
    "6.  Triedy Pythonu vám môžu pomôcť písať organizovanejší, štruktúrovaný, udržiavateľný, opakovane použiteľný, flexibilný a používateľsky prívetivejší kód. Sú skvelou pomôckou, ale v niektorých situáciách príliš skomplikujú vaše riešenia.\n",
    "\n",
    "V Pythone verejné atribúty a metódy triedy tvoria to, čo poznáte ako rozhranie triedy alebo aplikačné programové rozhranie (API)."
   ],
   "attachments":{
    
   },
   "metadata":{
    "datalore":{
     "node_id":"xuzZIs6LqTMcydRpnPJqMk",
     "type":"MD",
     "hide_input_from_viewers":true,
     "hide_output_from_viewers":true
    }
   }
  },
  {
   "cell_type":"markdown",
   "source":[
    "## ❌ Kedy sa vyhnúť používaniu tried\n",
    "\n",
    "Triedy Pythonu sú celkom skvelé a výkonné nástroje, ktoré môžete použiť vo viacerých scenároch. Z tohto dôvodu majú niektorí ľudia tendenciu nadužívať triedy a riešiť všetky svoje problémy s kódovaním pomocou nich. Niekedy však použitie triedy nie je najlepším riešením. Niekedy stačí pár funkcií.\n",
    "\n",
    "V praxi sa stretnete s niekoľkými situáciami, v ktorých by ste sa mali lekciám vyhnúť. Napríklad by ste nemali používať bežné kurzy, keď potrebujete:\n",
    "\n",
    "Uchovávajte iba údaje. Namiesto toho použite triedu údajov alebo pomenovanú n-tku.\n",
    "Poskytnite jedinú metódu. Namiesto toho použite funkciu.\n",
    "Dátové triedy, enumerácie a pomenované n-tice sú špeciálne navrhnuté na ukladanie údajov. Takže môžu byť najlepším riešením, ak vaša trieda nemá pripojené žiadne správanie.\n",
    "\n",
    "Ak má vaša trieda vo svojom rozhraní API jedinú metódu, nemusíte triedu vyžadovať. Namiesto toho použite funkciu, pokiaľ medzi hovormi nepotrebujete zachovať určitý stav. Ak sa neskôr objavia ďalšie metódy, vždy môžete vytvoriť triedu. Pamätajte na princíp Pythonu:\n",
    "\n",
    "Jednoduché je lepšie ako zložité. (zdroj)\n",
    "\n",
    "Okrem toho by ste sa mali vyhnúť vytváraniu vlastných tried, aby ste zabalili funkcie, ktoré sú dostupné prostredníctvom vstavaných typov alebo tried tretích strán. Použite priamo typ alebo triedu tretej strany.\n",
    "\n",
    "Nájdete mnoho ďalších všeobecných situácií, v ktorých možno nebudete musieť používať triedy v kóde Pythonu. Napríklad triedy nie sú potrebné, keď pracujete s:\n",
    "\n",
    "Malý a jednoduchý program alebo skript, ktorý nevyžaduje zložité dátové štruktúry alebo logiku. V tomto prípade môže byť používanie tried prehnané.\n",
    "\n",
    "Program kritický pre výkon. Triedy zvyšujú réžiu vášho programu, najmä keď potrebujete vytvoriť veľa objektov. Môže to ovplyvniť všeobecnú výkonnosť vášho kódu.\n",
    "\n",
    "Starý kódový základ. Ak existujúca kódová základňa nepoužíva triedy, nemali by ste ich zavádzať. Tým sa naruší súčasný štýl kódovania a naruší sa konzistencia kódu.\n",
    "\n",
    "Tím s iným štýlom kódovania. Ak váš súčasný tím nepoužíva triedy, držte sa ich štýlu kódovania. Tým sa zabezpečí konzistentnosť v rámci projektu.\n",
    "\n",
    "Kódová základňa, ktorá využíva funkčné programovanie. Ak je daná kódová základňa v súčasnosti napísaná funkčným prístupom, nemali by ste zavádzať triedy. Tým sa naruší základná paradigma kódovania."
   ],
   "attachments":{
    
   },
   "metadata":{
    "datalore":{
     "node_id":"eGFm1Y1Y1HuTHZ4K5joK6o",
     "type":"MD",
     "hide_input_from_viewers":true,
     "hide_output_from_viewers":true
    }
   }
  },
  {
   "cell_type":"code",
   "source":[
    "# AI trieda zakaznik a zistenie veku zakaznika z roku narodenia \n",
    "from datetime import date\n",
    "\n",
    "class Zakaznik:\n",
    "    def __init__(self, rokNarodenia):\n",
    "        self.rokNarodenia = rokNarodenia\n",
    "    \n",
    "    def zistiVek(self):\n",
    "        aktualnyRok = date.today().year\n",
    "        vek = aktualnyRok - self.rokNarodenia\n",
    "        # return aktualnyRok - self.rokNarodenia\n",
    "        return vek\n",
    "    \n",
    "\n",
    "# Create a customer with birth year 1990\n",
    "rokNarodenia = abs(int(input(\"Zadajte rok narodenia: \")))\n",
    "zakaznik1 = Zakaznik(rokNarodenia)\n",
    "zakaznik2 = Zakaznik(1990)\n",
    "print(f\"Vek zákazníka1 je: {zakaznik1.zistiVek()} rokov.\")\n",
    "print(f\"Vek zákazníka2 je: {zakaznik2.zistiVek()} rokov.\")"
   ],
   "execution_count":3,
   "outputs":[
    
   ],
   "metadata":{
    "datalore":{
     "node_id":"rJ6mJsBcevp37q1IcckTBF",
     "type":"CODE",
     "hide_input_from_viewers":true,
     "hide_output_from_viewers":true
    }
   }
  },
  {
   "cell_type":"code",
   "source":[
    "# trieda zakaznik a zistenie veku zakaznika z roku narodenia \n",
    "class Zakaznik:\n",
    "    def __init__(self, rokNarodenia):\n",
    "        self.rokNarodenia = rokNarodenia\n",
    "    \n",
    "    def zistiVek(self):\n",
    "        aktualnyRok = date.today().year\n",
    "        vek = aktualnyRok - self.rokNarodenia\n",
    "        return vek\n",
    "\n",
    "# Create a customer with birth year 1990\n",
    "zakaznik = Zakaznik(1990)\n",
    "print(f\"Vek zákazníka je: {zakaznik.zistiVek()} rokov.\")"
   ],
   "execution_count":null,
   "outputs":[
    
   ],
   "metadata":{
    "datalore":{
     "node_id":"xdU9vZptAOtJnm3KoSUCtn",
     "type":"CODE",
     "hide_input_from_viewers":true,
     "hide_output_from_viewers":true
    }
   }
  },
  {
   "cell_type":"code",
   "source":[
    "# # trieda osoba a výpočet jeho bmi aj s ulozenim bmi aj vysvetlenim co hodnota bmi znamena po slovensky \n",
    "# Python\n",
    "# trieda osoba a výpočet jeho bmi aj s ulozenim bmi aj vysvetlenim co hodnota bmi znamena po slovensky\n",
    "class Osoba:\n",
    "    def __init__(self, vaha, vyska):\n",
    "        self.vaha = vaha\n",
    "        # The height would be in meters, hence converting cm to meters\n",
    "        self.vyska = vyska \/ 100\n",
    "        self.bmi = self.vypocitat_bmi()\n",
    "\n",
    "    def vypocitat_bmi(self):\n",
    "        return self.vaha \/ (self.vyska ** 2)\n",
    "\n",
    "    def interpretovat_bmi(self):\n",
    "        if self.bmi < 18.5:\n",
    "            return \"Nedostatočná váha\"\n",
    "        elif 18.5 <= self.bmi < 25:\n",
    "            return \"Normálna váha\"\n",
    "        elif 25 <= self.bmi < 30:\n",
    "            return \"Nadváha\"\n",
    "        else:\n",
    "            return \"Obezita\"\n",
    "\n",
    "osoba1 = Osoba(70, 175)  # 70 kg weight and 175 cm height\n",
    "print(f\"BMI osoby je: {osoba1.bmi}\")\n",
    "print(f\"Interpretácia: {osoba1.interpretovat_bmi()}\")"
   ],
   "execution_count":5,
   "outputs":[
    
   ],
   "metadata":{
    "datalore":{
     "node_id":"RYozsm6gBvHyKCmj1eZwnx",
     "type":"CODE",
     "hide_input_from_viewers":true,
     "hide_output_from_viewers":true
    }
   }
  },
  {
   "cell_type":"markdown",
   "source":[
    "# 📘 Mutovateľnosť\/Nemutovateľnosť\n",
    "\n",
    "V programovaní máte nemenný (immutable) objekt, ak nemôžete zmeniť stav objektu po jeho vytvorení. Naproti tomu meniteľný (mutabôe) objekt umožňuje po vytvorení upraviť jeho vnútorný stav. Stručne povedané, to, či môžete zmeniť stav objektu alebo obsiahnuté údaje, určuje, či je tento objekt mutable alebo immutable.\n",
    "\n",
    "* Príklady **mutable** objektov: list, set, dict, byte array  \n",
    "* Príklady **immutable** objektov: number (int, float, complex), string, tuple, frozen set, bytes"
   ],
   "attachments":{
    
   },
   "metadata":{
    "datalore":{
     "node_id":"PjrSyITUWLIhGaXHwNV29o",
     "type":"MD",
     "hide_input_from_viewers":false,
     "hide_output_from_viewers":false,
     "report_properties":{
      "rowId":"e3SflrAZQKNNp9Bvno12Hw"
     }
    }
   }
  },
  {
   "cell_type":"code",
   "source":[
    "\n",
    "class Pes:\n",
    "    # 1. Vlastnosti (Properties) - Premenné, Dátové Zložky\n",
    "    meno = \"\"\n",
    "    rasa = str()\n",
    "    je_lenivy = False\n",
    "    vek = 0\n",
    "    hmotnost = 0.2\n",
    "    pohlavie = [\"samec\", \"samica\"]\n",
    "\n",
    "    # 2. Spravanie\/Chovanie - Metody\/Def\n",
    "    def spi(self):\n",
    "        print(\"Spi a je mu dobre...\")\n",
    "\n",
    "    def lezi(self):\n",
    "        print(\"Lezi...\")\n",
    "\n",
    "    def vypis_info(self):\n",
    "        print(f\"\\nAko sa vola: {self.meno}\")\n",
    "        print(f\"Aka je to rasa: {self.rasa}\")\n",
    "        print(f\"Kolko ma rokov: {self.vek}\")\n",
    "\n",
    "luigi2 = Pes()\n",
    "luigi2.meno = \"Luigi\"\n",
    "luigi2.rasa = \"Pomerian\"\n",
    "luigi2.vek = 2\n",
    "luigi2.je_lenivy = True\n",
    "luigi2.hmotnost = 2.5\n",
    "\n",
    "lassie = Pes()\n",
    "lassie.rasa = \"Kolia\"\n",
    "lassie.hmotnost = 5\n",
    "lassie.meno = \"Lassie\"\n",
    "\n",
    "lassie.lezi()\n",
    "lassie.spi()\n",
    "lassie.vypis_info()\n",
    "\n",
    "rexik = Pes()\n",
    "rexik.vypis_info()\n",
    "rexik.meno = \"Rexik\"\n",
    "rexik.rasa = \"Ovciak\"\n",
    "rexik.vek = 5\n",
    "rexik.vypis_info()\n",
    "rexik.spi()"
   ],
   "execution_count":null,
   "outputs":[
    
   ],
   "metadata":{
    "datalore":{
     "node_id":"2FS7Rvv9XwbktAMfTP8Zla",
     "type":"CODE",
     "hide_input_from_viewers":true,
     "hide_output_from_viewers":true
    }
   }
  },
  {
   "cell_type":"code",
   "source":[
    "print(id(rexik))\n",
    "\n",
    "print(id(lassie))\n",
    "print(f\"luigi2 id: {id(luigi2)}\")\n",
    "\n",
    "doge = Pes()\n",
    "print(f\"doge id: {id(doge)}\")\n",
    "print(f\"Su objekty doge a luigi2 rovnake: {doge == luigi2}\")\n",
    "print(f\"Su objekty doge a luigi2 rovnake: {doge is luigi2}\")\n",
    "\n",
    "doge = luigi2\n",
    "print(f\"\\ndoge id: {id(doge)}\")\n",
    "print(f\"luigi2 id: {id(luigi2)}\")\n",
    "print(f\"Su objekty doge a luigi2 rovnake: {doge == luigi2}\")\n",
    "print(f\"Su objekty doge a luigi2 rovnake: {doge is luigi2}\")"
   ],
   "execution_count":null,
   "outputs":[
    
   ],
   "metadata":{
    "datalore":{
     "node_id":"hPVqVqBZq8lSiiWR3ik8eb",
     "type":"CODE",
     "hide_input_from_viewers":true,
     "hide_output_from_viewers":true
    }
   }
  },
  {
   "cell_type":"code",
   "source":[
    "a = 1\n",
    "b = a\n",
    "c = b\n",
    "d = 1\n",
    "\n",
    "print(f\"a ma id {id(a)}\")\n",
    "print(f\"b ma id {id(b)}\")\n",
    "print(f\"c ma id {id(c)}\")\n",
    "print(f\"d ma id {id(d)}\")\n",
    "\n",
    "print(f\"a is d {a is d}\")\n",
    "print(f\"a is b {a is b}\")"
   ],
   "execution_count":null,
   "outputs":[
    
   ],
   "metadata":{
    "datalore":{
     "node_id":"ma8fZBrXex6YgiGZHYp5JS",
     "type":"CODE",
     "hide_input_from_viewers":true,
     "hide_output_from_viewers":true
    }
   }
  },
  {
   "cell_type":"markdown",
   "source":[
    "# 🙆 Príklady z Praxe OOP"
   ],
   "attachments":{
    
   },
   "metadata":{
    "datalore":{
     "node_id":"A2HCi5l3ziRYBargIO6emM",
     "type":"MD",
     "hide_input_from_viewers":true,
     "hide_output_from_viewers":true
    }
   }
  },
  {
   "cell_type":"markdown",
   "source":[
    "## 🧾 GUI Formuláre (Graphical User Interface)"
   ],
   "attachments":{
    
   },
   "metadata":{
    "datalore":{
     "node_id":"uWlGxGTRXfJXMQoQERJdLZ",
     "type":"MD",
     "hide_input_from_viewers":true,
     "hide_output_from_viewers":true
    }
   }
  },
  {
   "cell_type":"code",
   "source":[
    "dpw_farba_tricka = \"Modra\""
   ],
   "execution_count":null,
   "outputs":[
    
   ],
   "metadata":{
    "datalore":{
     "node_id":"bOpqqosGrkWhd8RKIE9XA6",
     "type":"CONTROL",
     "hide_input_from_viewers":false,
     "hide_output_from_viewers":false,
     "report_properties":{
      "rowId":"e3SflrAZQKNNp9Bvno12Hw"
     },
     "controls_state":[
      {
       "type":"DROPDOWN",
       "label":"Farba tricka:",
       "variable":"dpw_farba_tricka",
       "value":"Modra",
       "values":[
        
       ],
       "items":[
        "Cierna",
        "Zelena",
        "Modra"
       ],
       "multiselect":false,
       "respectSelectionOrder":false
      }
     ]
    }
   }
  },
  {
   "cell_type":"code",
   "source":[
    "print(f\"Vybral si si: {dpw_farba_tricka}\")"
   ],
   "execution_count":null,
   "outputs":[
    
   ],
   "metadata":{
    "datalore":{
     "node_id":"dF0x8DAothXBswRNnNUGXN",
     "type":"CODE",
     "hide_input_from_viewers":false,
     "hide_output_from_viewers":false,
     "report_properties":{
      "rowId":"e3SflrAZQKNNp9Bvno12Hw"
     }
    }
   }
  },
  {
   "cell_type":"markdown",
   "source":[
    "## 🖨️ Modul pprint\n",
    "\n",
    "Poskytuje možnosť **„pekne vytlačiť“** ľubovoľné **dátové štruktúry Pythonu vo forme**, ktorú možno použiť ako vstup pre interpreta. \n",
    "\n",
    "Ak formátované štruktúry obsahujú objekty, ktoré nie sú základnými typmi Pythonu, reprezentáciu možno nebude možné načítať. To môže byť prípad, ak sú zahrnuté objekty, ako sú súbory, sockety alebo triedy, ako aj mnohé iné objekty, ktoré nie sú reprezentovateľné ako literály Pythonu.\n",
    "\n",
    "Formátovaná reprezentácia udržiava objekty na **jednom riadku**, ak je to možné, a **rozdeľuje ich** na **viacero riadkov**, ak sa **nezmestia do povolenej šírky**. Objekty PrettyPrinter vytvorte explicitne, ak potrebujete upraviť obmedzenie šírky. "
   ],
   "attachments":{
    
   },
   "metadata":{
    "datalore":{
     "node_id":"KaES0yAqhrBk0E9LFItB39",
     "type":"MD",
     "hide_input_from_viewers":true,
     "hide_output_from_viewers":true
    }
   }
  },
  {
   "cell_type":"code",
   "source":[
    "import pprint\n",
    "# https:\/\/docs.python.org\/3\/library\/pprint.html\n",
    "stuff = ['spam', 'eggs', 'lumberjack', 'knights', 'ni']\n",
    "stuff.insert(0, stuff[:])\n",
    "pp = pprint.PrettyPrinter(indent=4)\n",
    "pp.pprint(stuff)\n",
    "\n",
    "pp = pprint.PrettyPrinter(width=41, compact=True)\n",
    "pp.pprint(stuff)\n",
    "\n",
    "tup = ('spam', ('eggs', ('lumberjack', ('knights', ('ni', ('dead',\n",
    "('parrot', ('fresh fruit',))))))))\n",
    "pp = pprint.PrettyPrinter(depth=6)\n",
    "pp.pprint(tup)"
   ],
   "execution_count":2,
   "outputs":[
    
   ],
   "metadata":{
    "datalore":{
     "node_id":"MxmD6wSzcCZ1FoM3kz1pYv",
     "type":"CODE",
     "hide_input_from_viewers":true,
     "hide_output_from_viewers":true
    }
   }
  },
  {
   "cell_type":"code",
   "source":[
    "print(stuff)\n",
    "print(tup)"
   ],
   "execution_count":7,
   "outputs":[
    
   ],
   "metadata":{
    "datalore":{
     "node_id":"0t2x9mKXaYMYYY2dYpoPWX",
     "type":"CODE",
     "hide_input_from_viewers":true,
     "hide_output_from_viewers":true
    }
   }
  },
  {
   "cell_type":"code",
   "source":[
    "import json\n",
    "import pprint\n",
    "from urllib.request import urlopen\n",
    "with urlopen('https:\/\/pypi.org\/pypi\/sampleproject\/json') as resp:\n",
    "    project_info = json.load(resp)['info']\n",
    "\n",
    "pprint.pprint(project_info)"
   ],
   "execution_count":3,
   "outputs":[
    
   ],
   "metadata":{
    "datalore":{
     "node_id":"gTHBHdap1Ng5TZOizCjGqM",
     "type":"CODE",
     "hide_input_from_viewers":true,
     "hide_output_from_viewers":true
    }
   }
  },
  {
   "cell_type":"code",
   "source":[
    "print(project_info)"
   ],
   "execution_count":5,
   "outputs":[
    
   ],
   "metadata":{
    "datalore":{
     "node_id":"YH3rGmjy4xJLwcYtbL6PMB",
     "type":"CODE",
     "hide_input_from_viewers":true,
     "hide_output_from_viewers":true
    }
   }
  },
  {
   "cell_type":"code",
   "source":[
    "pprint.pprint(project_info, depth=1)"
   ],
   "execution_count":4,
   "outputs":[
    
   ],
   "metadata":{
    "datalore":{
     "node_id":"RMDa6BYuXI2FuhbTGLEXKV",
     "type":"CODE",
     "hide_input_from_viewers":true,
     "hide_output_from_viewers":true
    }
   }
  },
  {
   "cell_type":"markdown",
   "source":[
    "# RE"
   ],
   "attachments":{
    
   },
   "metadata":{
    "datalore":{
     "node_id":"RE",
     "type":"MD",
     "hide_input_from_viewers":false,
     "hide_output_from_viewers":false,
     "sheet_delimiter":true
    }
   }
  },
  {
   "cell_type":"markdown",
   "source":[
    "# 📟 Regulárne Výrazy (Regular Expressions Regex)\n",
    "\n",
    "https:\/\/docs.python.org\/3\/library\/re.html\n",
    "\n",
    "Modul re poskytuje **operácie porovnávania regulárnych výrazov** podobné tým, ktoré sa nachádzajú v Perle.\n",
    "\n",
    "Vzory aj reťazce, ktoré sa majú vyhľadávať, môžu byť **reťazce Unicode (str)**, ako aj **8-bitové reťazce (bajty)**. \n",
    "\n",
    "**Reťazce Unicode a 8-bitové reťazce však nemožno kombinovať**: to znamená, že reťazec Unicode nemôžete priradiť k bajtovému vzoru alebo naopak; podobne, keď žiadate o nahradenie, náhradný reťazec musí byť rovnakého typu ako vzor aj hľadaný reťazec.\n",
    "\n",
    "**Regulárne výrazy používajú znak spätnej lomky ('\\')** na označenie špeciálnych foriem alebo na umožnenie použitia špeciálnych znakov bez vyvolania ich špeciálneho významu. Toto koliduje s tým, že Python používa rovnaký znak na rovnaký účel v reťazcových literáloch; napríklad, aby ste zodpovedali **doslovnej spätnej lomke, možno budete musieť napísať '\\\\\\\\'** ako reťazec vzoru, pretože **regulárny výraz musí byť \\\\** a každá spätná lomka musí byť vyjadrená ako \\\\ vnútri bežného reťazcového literálu Pythonu"
   ],
   "attachments":{
    
   },
   "metadata":{
    "datalore":{
     "node_id":"Xs30zyj04MssIRuKPnXp8R",
     "type":"MD",
     "hide_input_from_viewers":true,
     "hide_output_from_viewers":true
    }
   }
  },
  {
   "cell_type":"code",
   "source":[
    "import re\n",
    "\n",
    "# Vyhľada reťazec a zisti, či sa začína na „Dnes“ a končí na „den“\n",
    "text = \"Dnes je pekný den\"\n",
    "vysledok = re.search(\"^Dnes.*den$\", text)\n",
    "\n",
    "print(f\"txt: {text} a vysledok: {vysledok}\")"
   ],
   "execution_count":15,
   "outputs":[
    
   ],
   "metadata":{
    "datalore":{
     "node_id":"J4aAz8XEQXVyG4mWWzRLOV",
     "type":"CODE",
     "hide_input_from_viewers":true,
     "hide_output_from_viewers":true
    }
   }
  },
  {
   "cell_type":"code",
   "source":[
    "import re\n",
    "\n",
    "# Funkcia findall() vráti zoznam obsahujúci všetky zhody.\n",
    "text2 = \"Dnes je pekný den aj zajtra bude pekný den\"\n",
    "vysledok2 = re.findall(\"den\", text2)\n",
    "vysledok3 = re.findall(\"vecer\", text2)\n",
    "\n",
    "print(f\"txt: {text2} a vysledok: {vysledok2}\")\n",
    "print(f\"txt: {text2} a vysledok: {vysledok3}\")"
   ],
   "execution_count":17,
   "outputs":[
    
   ],
   "metadata":{
    "datalore":{
     "node_id":"5fSnJTm5zVrZWWs8nEdid4",
     "type":"CODE",
     "hide_input_from_viewers":true,
     "hide_output_from_viewers":true
    }
   }
  },
  {
   "cell_type":"code",
   "source":[
    "import re\n",
    "\n",
    "text3 = \"Dnes je pekný den aj zajtra bude pekný den\"\n",
    "vysledok4 = re.search(\"\\s\", text3)\n",
    "\n",
    "print(f\"Prvý biely znak (medzera) je umiestnený na pozícii: {vysledok4.start()}\")"
   ],
   "execution_count":21,
   "outputs":[
    
   ],
   "metadata":{
    "datalore":{
     "node_id":"9yenOkb6m4rMyzozrCpVh9",
     "type":"CODE",
     "hide_input_from_viewers":true,
     "hide_output_from_viewers":true
    }
   }
  },
  {
   "cell_type":"code",
   "source":[
    "import re\n",
    "\n",
    "text4 = \"Dnes je pekný den aj zajtra bude pekný den\"\n",
    "vysledok5 = re.search(\"kino\", text4)\n",
    "\n",
    "print(f\"Retazec kino: je umiestnený na pozícii: {vysledok5}\")"
   ],
   "execution_count":79,
   "outputs":[
    
   ],
   "metadata":{
    "datalore":{
     "node_id":"D1So2FN2SF9QxqU45MCQsn",
     "type":"CODE",
     "hide_input_from_viewers":true,
     "hide_output_from_viewers":true
    }
   }
  },
  {
   "cell_type":"code",
   "source":[
    "import re\n",
    "# split - Rozdelenie reťazca na každom znaku medzery\n",
    "text_dlhy = \"Dnes je pekný den aj zajtra bude pekný den\"\n",
    "vystup = re.split(\"\\s\", text_dlhy)\n",
    "print(f\"Str -> List: {vystup}\")"
   ],
   "execution_count":25,
   "outputs":[
    
   ],
   "metadata":{
    "datalore":{
     "node_id":"5U4FRWZqxtVsIuRAaauWma",
     "type":"CODE",
     "hide_input_from_viewers":true,
     "hide_output_from_viewers":true
    }
   }
  },
  {
   "cell_type":"code",
   "source":[
    "import re\n",
    "# split - Rozdelenie reťazca podľa 1. medzery\n",
    "text_dlhy = \"Dnes je pekný den aj zajtra bude pekný den\"\n",
    "vystup = re.split(\"\\s\", text_dlhy, 1)\n",
    "print(f\"Str -> List: {vystup}\")"
   ],
   "execution_count":26,
   "outputs":[
    
   ],
   "metadata":{
    "datalore":{
     "node_id":"7Y3C4SQ7cLc01iKnGHedbX",
     "type":"CODE",
     "hide_input_from_viewers":true,
     "hide_output_from_viewers":true
    }
   }
  },
  {
   "cell_type":"code",
   "source":[
    "import re\n",
    "# sub - Nahraďenie každého prázdneho znaku emojim 👍\n",
    "text_dlhy = \"Dnes je pekný den aj zajtra bude pekný den\"\n",
    "vystup = re.sub(\"\\s\", \"👍\", text_dlhy)\n",
    "print(f\"{vystup}\")"
   ],
   "execution_count":30,
   "outputs":[
    
   ],
   "metadata":{
    "datalore":{
     "node_id":"H55QVnPM5QSPLzuneX9Lab",
     "type":"CODE",
     "hide_input_from_viewers":true,
     "hide_output_from_viewers":true
    }
   }
  },
  {
   "cell_type":"code",
   "source":[
    "import re\n",
    "# Počet náhradení riadite zadaním parametra počet\n",
    "text_dlhy = \"Dnes je pekný den aj zajtra bude pekný den\"\n",
    "vystup = re.sub(\"\\s\", \"👍\", text_dlhy, 2)\n",
    "print(f\"{vystup}\")"
   ],
   "execution_count":32,
   "outputs":[
    
   ],
   "metadata":{
    "datalore":{
     "node_id":"iKTNnnzBxKEySJi7gGIV5i",
     "type":"CODE",
     "hide_input_from_viewers":true,
     "hide_output_from_viewers":true
    }
   }
  },
  {
   "cell_type":"code",
   "source":[
    "import re\n",
    "# Match Object je objekt obsahujúci informácie o vyhľadávaní a výsledku\n",
    "# Ak nedôjde k žiadnej zhode, namiesto položky Match Object sa vráti hodnota None\n",
    "\n",
    "# Objekt Match má vlastnosti a metódy používané na získanie informácií o vyhľadávaní a výsledku:\n",
    "\n",
    "# .span() vráti n-ticu obsahujúcu počiatočnú a koncovú pozíciu zhody.\n",
    "# .string vráti reťazec odovzdaný do funkcie\n",
    "# .group() vráti časť reťazca, kde bola zhoda\n",
    "\n",
    "text_dlhy = \"Dnes je pekný den aj zajtra bude pekný den\"\n",
    "vystup = re.search(\"den\", text_dlhy)\n",
    "print(f\"{vystup}\")\n",
    "print(f\"1. span: {vystup.span()}\")\n",
    "print(f\"2. string: {vystup.string}\")\n",
    "print(f\"3. string: {vystup.group()}\")"
   ],
   "execution_count":38,
   "outputs":[
    
   ],
   "metadata":{
    "datalore":{
     "node_id":"0hO5CLq1ksNKP7uBS08gSr",
     "type":"CODE",
     "hide_input_from_viewers":true,
     "hide_output_from_viewers":true
    }
   }
  },
  {
   "cell_type":"code",
   "source":[
    "import re\n",
    "krajiny =  [\"Afghanistan\",\"Albania\",\"Czechia\", \"Denmark\",       \n",
    "            \"Finland\", \"Hungary\", \"Iceland\", \"Netherlands\", \n",
    "            \"Poland\", \"Russia\",\n",
    "            \"Slovakia\",\"Switzerland\"]\n",
    "\n",
    "print(\"Zoznam necislovany krajin obsahujuce land|stan:\")\n",
    "for krajina in krajiny:\n",
    "  if re.search('land|stan', krajina):\n",
    "    print(f\"✅ {krajina}\")\n",
    "      \n",
    "print(\"\\nZoznam cislovany krajin obsahujuce land|stan:\")\n",
    "for i, krajina in enumerate(krajiny):\n",
    "  if re.search('land|stan', krajina):\n",
    "    print(f\"{i+1} {krajina}\")"
   ],
   "execution_count":11,
   "outputs":[
    
   ],
   "metadata":{
    "datalore":{
     "node_id":"FH0CK8WPYSfQesg013Z6cA",
     "type":"CODE",
     "hide_input_from_viewers":true,
     "hide_output_from_viewers":true
    }
   }
  },
  {
   "cell_type":"markdown",
   "source":[
    "# Mutable"
   ],
   "attachments":{
    
   },
   "metadata":{
    "datalore":{
     "node_id":"Mutable",
     "type":"MD",
     "hide_input_from_viewers":false,
     "hide_output_from_viewers":false,
     "sheet_delimiter":true
    }
   }
  },
  {
   "cell_type":"markdown",
   "source":[
    "# 📘 Mutovateľnosť\/Nemutovateľnosť\n",
    "\n",
    "V programovaní máte nemenný (immutable) objekt, ak nemôžete zmeniť stav objektu po jeho vytvorení. Naproti tomu meniteľný (mutabôe) objekt umožňuje po vytvorení upraviť jeho vnútorný stav. Stručne povedané, to, či môžete zmeniť stav objektu alebo obsiahnuté údaje, určuje, či je tento objekt mutable alebo immutable.\n",
    "\n",
    "* Príklady **mutable** objektov: list, set, dict, byte array  \n",
    "* Príklady **immutable** objektov: number (int, float, complex), string, tuple, frozen set, bytes"
   ],
   "attachments":{
    
   },
   "metadata":{
    "datalore":{
     "node_id":"wRQMzNtETpI6ZwIL3g22YC",
     "type":"MD",
     "hide_input_from_viewers":true,
     "hide_output_from_viewers":true
    }
   }
  },
  {
   "cell_type":"code",
   "source":[
    "podnik_nazov = \"ABC s.r.o.\"\n",
    "print(f\"Nazov podniku je: {podnik_nazov} a id objektu: {id(podnik_nazov)}\")\n",
    "\n",
    "# Rebrand\n",
    "podnik_nazov = \"XYZ s.r.o.\"\n",
    "print(f\"Nazov podniku je: {podnik_nazov} a id objektu: {id(podnik_nazov)}\")\n",
    "\n",
    "pocet_ntb_skladom = 32\n",
    "print(f\"\\nPocet ntb je: {pocet_ntb_skladom} a id objektu: {id(pocet_ntb_skladom)}\")\n",
    "\n",
    "# Predaj notebook\n",
    "pocet_ntb_skladom = 16\n",
    "print(f\"Pocet ntb je: {pocet_ntb_skladom} a id objektu: {id(pocet_ntb_skladom)}\")\n",
    "\n",
    "# HR Hiring, Nabor novych clenov\n",
    "zoznam_zamestnanci = [\"Vladimir\", \"Monika\", \"Zuzana\", \"Jozef\"]\n",
    "print(f\"\\nZoznam zam je: {zoznam_zamestnanci} a id objektu: {id(zoznam_zamestnanci)}\")\n",
    "\n",
    "zoznam_zamestnanci.append(\"Jana\")\n",
    "zoznam_zamestnanci.extend([\"Gabriel\", \"Alexander\", \"Ingrid\"])\n",
    "\n",
    "print(f\"Zoznam zam je: {zoznam_zamestnanci} a id objektu: {id(zoznam_zamestnanci)}\")"
   ],
   "execution_count":21,
   "outputs":[
    {
     "name":"stdout",
     "text":[
      "Nazov podniku je: ABC s.r.o. a id objektu: 140517717434864\n",
      "Nazov podniku je: XYZ s.r.o. a id objektu: 140517717438192\n",
      "\n",
      "Pocet ntb je: 32 a id objektu: 140517866734880\n",
      "Pocet ntb je: 16 a id objektu: 140517866734368\n",
      "\n",
      "Zoznam zam je: ['Vladimir', 'Monika', 'Zuzana', 'Jozef'] a id objektu: 140517797884416\n",
      "Zoznam zam je: ['Vladimir', 'Monika', 'Zuzana', 'Jozef', 'Jana', 'Gabriel', 'Alexander', 'Ingrid'] a id objektu: 140517797884416\n"
     ],
     "output_type":"stream"
    }
   ],
   "metadata":{
    "datalore":{
     "node_id":"5sZAAtfou8HS1uUiPMsfOt",
     "type":"CODE",
     "hide_input_from_viewers":true,
     "hide_output_from_viewers":true
    }
   }
  },
  {
   "cell_type":"markdown",
   "source":[
    "# String"
   ],
   "attachments":{
    
   },
   "metadata":{
    "datalore":{
     "node_id":"String",
     "type":"MD",
     "hide_input_from_viewers":false,
     "hide_output_from_viewers":false,
     "sheet_delimiter":true
    }
   }
  },
  {
   "cell_type":"markdown",
   "source":[
    "# String\n",
    "\n",
    "- https:\/\/docs.python.org\/3\/library\/string.html?highlight=string#module-string  \n",
    "- https:\/\/docs.python.org\/3\/library\/stdtypes.html#text-sequence-type-str  "
   ],
   "attachments":{
    
   },
   "metadata":{
    "datalore":{
     "node_id":"gKEeSHs7hWYiMMhX97Ili9",
     "type":"MD",
     "hide_input_from_viewers":true,
     "hide_output_from_viewers":true
    }
   }
  },
  {
   "cell_type":"markdown",
   "source":[
    "## String (Reťazcové) Konštanty"
   ],
   "attachments":{
    
   },
   "metadata":{
    "datalore":{
     "node_id":"uNCE1z8KyL45jKfYoZKAx4",
     "type":"MD",
     "hide_input_from_viewers":true,
     "hide_output_from_viewers":true
    }
   }
  },
  {
   "cell_type":"code",
   "source":[
    "import string\n",
    "print(string.ascii_letters)\n",
    "print(string.ascii_lowercase)\n",
    "print(string.ascii_uppercase)\n",
    "print(string.digits)\n",
    "a = 2\n",
    "# Ciselny retazec\n",
    "b = \"2\"\n",
    "\n",
    "print(string.hexdigits)\n",
    "print(string.octdigits)\n",
    "print(string.punctuation)\n",
    "print(string.printable)\n",
    "print(string.whitespace)"
   ],
   "execution_count":31,
   "outputs":[
    {
     "name":"stdout",
     "text":[
      "abcdefghijklmnopqrstuvwxyzABCDEFGHIJKLMNOPQRSTUVWXYZ\n",
      "abcdefghijklmnopqrstuvwxyz\n",
      "ABCDEFGHIJKLMNOPQRSTUVWXYZ\n",
      "0123456789\n",
      "0123456789abcdefABCDEF\n",
      "01234567\n",
      "!\"#$%&'()*+,-.\/:;<=>?@[\\]^_`{|}~\n",
      "0123456789abcdefghijklmnopqrstuvwxyzABCDEFGHIJKLMNOPQRSTUVWXYZ!\"#$%&'()*+,-.\/:;<=>?@[\\]^_`{|}~ \t\n",
      "\r\u000b\f\n",
      " \t\n",
      "\r\u000b\f\n"
     ],
     "output_type":"stream"
    }
   ],
   "metadata":{
    "datalore":{
     "node_id":"OUwKZ0Ah14kirlP84MbP5X",
     "type":"CODE",
     "hide_input_from_viewers":true,
     "hide_output_from_viewers":true
    }
   }
  },
  {
   "cell_type":"markdown",
   "source":[
    "## String (Reťazcové) Operátory"
   ],
   "attachments":{
    
   },
   "metadata":{
    "datalore":{
     "node_id":"O7kvMS9tQpU5PciggzC3jY",
     "type":"MD",
     "hide_input_from_viewers":true,
     "hide_output_from_viewers":true
    }
   }
  },
  {
   "cell_type":"code",
   "source":[
    "student1 = \"Roman\"\n",
    "student2 = \"Monika\"\n",
    "student3 = \"Adam Sangala\"\n",
    "\n",
    "print(student1 + \" + \" + student2)\n",
    "print(student1 * 4)\n",
    "print((student1 + \" \")* 4)\n",
    "\n",
    "print(\"adam\" > \"ava\")\n",
    "print(\"adam\" < \"ava\")\n",
    "print(\"adam\" == \"aya\")\n",
    "print(\"adam\" != \"aya\")\n",
    "\n",
    "\n",
    "print(\"adam\" is \"aya\")\n",
    "print(student1 is student2)\n",
    "print(\"adam\" == \"aya\")\n",
    "print(student1 == student2)\n",
    "\n",
    "print(\"a\" in \"aya\")\n",
    "print(\"ay\" in \"aya\")\n",
    "print(\"a\" in student1)"
   ],
   "execution_count":48,
   "outputs":[
    {
     "name":"stdout",
     "text":[
      "Roman + Monika\n",
      "RomanRomanRomanRoman\n",
      "Roman Roman Roman Roman \n",
      "False\n",
      "True\n",
      "False\n",
      "True\n",
      "False\n",
      "False\n",
      "False\n",
      "False\n",
      "True\n",
      "True\n",
      "True\n"
     ],
     "output_type":"stream"
    },
    {
     "name":"stderr",
     "text":[
      "<>:15: SyntaxWarning: \"is\" with a literal. Did you mean \"==\"?\n",
      "<>:15: SyntaxWarning: \"is\" with a literal. Did you mean \"==\"?\n",
      "<ipython-input-48-656bc7a8d7a7>:15: SyntaxWarning: \"is\" with a literal. Did you mean \"==\"?\n",
      "  print(\"adam\" is \"aya\")\n"
     ],
     "output_type":"stream"
    }
   ],
   "metadata":{
    "datalore":{
     "node_id":"fOMCC6Y86AqA1neowgTCjX",
     "type":"CODE",
     "hide_input_from_viewers":true,
     "hide_output_from_viewers":true
    }
   }
  },
  {
   "cell_type":"code",
   "source":[
    " "
   ],
   "execution_count":86,
   "outputs":[
    {
     "name":"stdout",
     "text":[
      "False\n",
      "False\n",
      "True\n"
     ],
     "output_type":"stream"
    },
    {
     "name":"stderr",
     "text":[
      "<>:1: SyntaxWarning: \"is\" with a literal. Did you mean \"==\"?\n",
      "<>:1: SyntaxWarning: \"is\" with a literal. Did you mean \"==\"?\n",
      "<ipython-input-86-46645f55715c>:1: SyntaxWarning: \"is\" with a literal. Did you mean \"==\"?\n",
      "  print(\"Adam\" is \"Eva\")\n"
     ],
     "output_type":"stream"
    }
   ],
   "metadata":{
    "datalore":{
     "node_id":"bHadMLY7SW48hFwXgXQyN6",
     "type":"CODE",
     "hide_input_from_viewers":true,
     "hide_output_from_viewers":true
    }
   }
  },
  {
   "cell_type":"markdown",
   "source":[
    "## String (Reťazcové) Metódy\n",
    "Reťazce implementujú všetky bežné sekvenčné operácie spolu s ďalšími metódami nižšie.\n",
    "\n",
    "Reťazce tiež podporujú 2 štýly formátovania reťazcov:\n",
    "1. Poskytuje veľkú mieru flexibility a prispôsobenia (str.format(), Format String Syntax a Custom String Formatting) \n",
    "2. Založený na formátovaní štýlu C printf, ktorý zvláda užší rozsah typov. Je to o niečo ťažšie správne použiť, ale je často rýchlejší pre prípady, ktoré zvládne (formátovanie reťazcov v štýle printf)."
   ],
   "attachments":{
    
   },
   "metadata":{
    "datalore":{
     "node_id":"Ob2yJ83kpHw9cR0wAQQxKA",
     "type":"MD",
     "hide_input_from_viewers":true,
     "hide_output_from_viewers":true
    }
   }
  },
  {
   "cell_type":"code",
   "source":[
    "text = \"Dnes je pekny\"\n",
    "print(text[0])    \n",
    "print(text[-1]) \n",
    "print(list(text))\n",
    "\n",
    "print(text[0:4])\n",
    "print(text[-5:])\n",
    "print(text[-5:0])"
   ],
   "execution_count":59,
   "outputs":[
    {
     "name":"stdout",
     "text":[
      "D\n",
      "y\n",
      "['D', 'n', 'e', 's', ' ', 'j', 'e', ' ', 'p', 'e', 'k', 'n', 'y']\n",
      "Dnes\n",
      "pekny\n",
      "\n"
     ],
     "output_type":"stream"
    }
   ],
   "metadata":{
    "datalore":{
     "node_id":"qIIB0vRBt85GBGa31CKwo6",
     "type":"CODE",
     "hide_input_from_viewers":true,
     "hide_output_from_viewers":true
    }
   }
  },
  {
   "cell_type":"code",
   "source":[
    "cele_meno = \"ing. adam sangala\"\n",
    "    \n",
    "print(f\"capitalize -> {cele_meno.capitalize()}\")         \n",
    "print(f\"casefold -> {cele_meno.casefold()}\")         \n",
    "print(f\"title -> {cele_meno.title()}\")         \n",
    "print(f\"upper -> {cele_meno.upper()}\")         \n",
    "print(f\"lower -> {cele_meno.lower()}\") \n",
    "\n",
    "print(f\"\\ncenter -> {cele_meno.center(25)}\")\n",
    "\n",
    "print(f\"\\ncount a -> {cele_meno.count('a')}\") \n",
    "znak_hladany = \"a\"\n",
    "print(f\"count a -> {cele_meno.count(znak_hladany)}\")  \n",
    "print(f\"count an -> {cele_meno.count('an')}\")\n",
    "\n",
    "print(f\"\\nencode -> {cele_meno.encode('ascii')}\") \n",
    "print(f\"encode -> {cele_meno.encode('iso8859')}\") \n",
    "\n",
    "print(f\"\\nendswith -> {cele_meno.endswith('Sangala')}\") \n",
    "print(f\"endswith -> {cele_meno.endswith('sangala')}\") \n",
    "print(f\"startswith -> {cele_meno.startswith('sangala')}\") \n",
    "print(f\"startswith -> {cele_meno.startswith('ing')}\") \n",
    "\n",
    "\n"
   ],
   "execution_count":85,
   "outputs":[
    {
     "name":"stdout",
     "text":[
      "capitalize -> Ing. adam sangala\n",
      "casefold -> ing. adam sangala\n",
      "title -> Ing. Adam Sangala\n",
      "upper -> ING. ADAM SANGALA\n",
      "lower -> ing. adam sangala\n",
      "\n",
      "center ->     ing. adam sangala    \n",
      "\n",
      "count a -> 5\n",
      "count a -> 5\n",
      "count an -> 1\n",
      "\n",
      "encode -> b'ing. adam sangala'\n",
      "encode -> b'ing. adam sangala'\n",
      "\n",
      "endswith -> False\n",
      "endswith -> True\n",
      "startswith -> False\n",
      "startswith -> True\n"
     ],
     "output_type":"stream"
    }
   ],
   "metadata":{
    "datalore":{
     "node_id":"tWFgfeBUvwotHvZLcaKWsI",
     "type":"CODE",
     "hide_input_from_viewers":true,
     "hide_output_from_viewers":true
    }
   }
  },
  {
   "cell_type":"code",
   "source":[
    "cele_meno = \"ing. adam sangala\"\n",
    "\n",
    "print(f\"find -> {cele_meno.find('a')}\") \n",
    "print(f\"find -> {cele_meno.find(' ')}\") \n",
    "print(f\"find -> {cele_meno.find(' ', 4)}\") \n",
    "\n",
    "print(\"format 2+7 -> {0} {1}\".format(2+7, 3+6)) \n",
    "\n",
    "print(f\"\\nindex -> {cele_meno.index('a')}\") \n",
    "print(f\"index -> {cele_meno.index(' ')}\") \n",
    "\n"
   ],
   "execution_count":96,
   "outputs":[
    {
     "name":"stdout",
     "text":[
      "find -> 5\n",
      "find -> 4\n",
      "find -> 4\n",
      "format 2+7 -> 9 9\n",
      "\n",
      "index -> 5\n",
      "index -> 4\n"
     ],
     "output_type":"stream"
    }
   ],
   "metadata":{
    "datalore":{
     "node_id":"1wgzDQ4ULoEbu7APcnpeGt",
     "type":"CODE",
     "hide_input_from_viewers":true,
     "hide_output_from_viewers":true
    }
   }
  },
  {
   "cell_type":"code",
   "source":[
    "cele_meno = \"adam sangala\"\n",
    "# AttributeError: 'int' object has no attribute 'isalnum'\n",
    "vek = \"15\"\n",
    "\n",
    "print(f\"\\nisalnum -> {cele_meno.isalnum()}\") \n",
    "print(f\"isalnum -> {vek.isalnum()}\") \n",
    "\n",
    "print(f\"\\nisalpha -> {cele_meno.isalpha()}\") \n",
    "print(f\"isalpha -> {vek.isalpha()}\") \n",
    "\n",
    "print(f\"\\nisascii -> {cele_meno.isascii()}\") \n",
    "print(f\"isascii -> {vek.isascii()}\") "
   ],
   "execution_count":109,
   "outputs":[
    {
     "name":"stdout",
     "text":[
      "\n",
      "isalnum -> False\n",
      "isalnum -> True\n",
      "\n",
      "isalpha -> False\n",
      "isalpha -> False\n",
      "\n",
      "isascii -> True\n",
      "isascii -> True\n",
      "\n",
      "isdecimal -> False\n",
      "isdecimal -> True\n"
     ],
     "output_type":"stream"
    }
   ],
   "metadata":{
    "datalore":{
     "node_id":"YmZIPwooISSOvqdmaxMSXQ",
     "type":"CODE",
     "hide_input_from_viewers":true,
     "hide_output_from_viewers":true
    }
   }
  },
  {
   "cell_type":"code",
   "source":[
    "cele_meno = \"10 adam sangala\"\n",
    "vek = \"15\"\n",
    "\n",
    "print(f\"\\nisdecimal -> {cele_meno.isdecimal()}\") \n",
    "print(f\"isdecimal -> {vek.isdecimal()}\") \n",
    "\n",
    "print(f\"\\nisdigit -> {cele_meno.isdigit()}\") \n",
    "print(f\"iisdigit -> {vek.isdigit()}\") \n",
    "\n",
    "print(f\"\\nisnumeric -> {cele_meno.isnumeric()}\") \n",
    "print(f\"isnumeric -> {vek.isnumeric()}\") "
   ],
   "execution_count":113,
   "outputs":[
    {
     "name":"stdout",
     "text":[
      "\n",
      "isdecimal -> False\n",
      "isdecimal -> True\n",
      "\n",
      "isdigit -> False\n",
      "iisdigit -> True\n",
      "\n",
      "isnumeric -> False\n",
      "isnumeric -> True\n"
     ],
     "output_type":"stream"
    }
   ],
   "metadata":{
    "datalore":{
     "node_id":"vpvN2MVynIaCAiHJNUaMJR",
     "type":"CODE",
     "hide_input_from_viewers":true,
     "hide_output_from_viewers":true
    }
   }
  },
  {
   "cell_type":"code",
   "source":[
    "import keyword\n",
    "\n",
    "print(keyword.kwlist)\n",
    "print(len(keyword.kwlist))\n",
    "\n",
    "cele_meno = \"10 adam sangala\"\n",
    "vek = \"15\"\n",
    "\n",
    "print(f\"\\nisidentifier -> {cele_meno.isidentifier()}\") \n",
    "print(f\"isidentifier -> {'class'.isidentifier()}\") "
   ],
   "execution_count":117,
   "outputs":[
    {
     "name":"stdout",
     "text":[
      "['False', 'None', 'True', 'and', 'as', 'assert', 'async', 'await', 'break', 'class', 'continue', 'def', 'del', 'elif', 'else', 'except', 'finally', 'for', 'from', 'global', 'if', 'import', 'in', 'is', 'lambda', 'nonlocal', 'not', 'or', 'pass', 'raise', 'return', 'try', 'while', 'with', 'yield']\n",
      "35\n",
      "\n",
      "isidentifier -> False\n",
      "\n",
      "isidentifier -> True\n"
     ],
     "output_type":"stream"
    }
   ],
   "metadata":{
    "datalore":{
     "node_id":"7k1hytcHecsHPc0zJfhZVC",
     "type":"CODE",
     "hide_input_from_viewers":true,
     "hide_output_from_viewers":true
    }
   }
  },
  {
   "cell_type":"code",
   "source":[
    "cele_meno = \"10 adam sangala\"\n",
    "vek = \"15\"\n",
    "frajerka_meno = \" \"\n",
    "\n",
    "print(f\"\\nisprintable -> {cele_meno.isprintable()}\") \n",
    "print(f\"isidentifier -> {vek.isprintable()}\") \n",
    "print(f\"isidentifier -> {frajerka_meno.isprintable()}\")\n",
    "\n",
    "# nbsp alt + 0160  \n",
    "print(f\"isidentifier -> {' '.isprintable()}\") \n",
    "print(f\"isidentifier -> {'☺'.isprintable()}\") \n",
    "print(f\"isidentifier -> {'☻'.isprintable()}\") "
   ],
   "execution_count":122,
   "outputs":[
    {
     "name":"stdout",
     "text":[
      "\n",
      "isprintable -> True\n",
      "isidentifier -> True\n",
      "isidentifier -> True\n",
      "isidentifier -> False\n",
      "isidentifier -> True\n",
      "isidentifier -> True\n"
     ],
     "output_type":"stream"
    }
   ],
   "metadata":{
    "datalore":{
     "node_id":"OG8jKYkcrGU46UvZUmLHpZ",
     "type":"CODE",
     "hide_input_from_viewers":true,
     "hide_output_from_viewers":true
    }
   }
  },
  {
   "cell_type":"code",
   "source":[
    "cele_meno = \"adam sangala\"\n",
    "print(f\"\\nisspace -> {cele_meno.isspace()}\") \n",
    "print(f\"isspace -> {' '.isspace()}\") \n",
    "print(f\"isspace -> {'   '.isspace()}\") \n",
    "print(f\"isspace -> {' ☻  '.isspace()}\") \n",
    "\n",
    "print(f\"\\njoin -> {cele_meno.join(', ')}\") \n",
    "\n",
    "print(f\"\\nljust -> {cele_meno.ljust(500)}\") \n",
    "print(f\"\\nljust -> {cele_meno.ljust(50, '*')}\") "
   ],
   "execution_count":133,
   "outputs":[
    {
     "name":"stdout",
     "text":[
      "\n",
      "isspace -> False\n",
      "isspace -> True\n",
      "isspace -> True\n",
      "isspace -> False\n",
      "\n",
      "join -> ,adam sangala \n",
      "\n",
      "ljust -> adam sangala                                                                                                                                                                                                                                                                                                                                                                                                                                                                                                        \n",
      "\n",
      "ljust -> adam sangala**************************************\n"
     ],
     "output_type":"stream"
    }
   ],
   "metadata":{
    "datalore":{
     "node_id":"zyJYk4AOxq6fF465rsljdd",
     "type":"CODE",
     "hide_input_from_viewers":true,
     "hide_output_from_viewers":true
    }
   }
  },
  {
   "cell_type":"code",
   "source":[
    "# strip = trim\n",
    "cele_meno = \"    adam sangala   \"\n",
    "meno = \"Peter Mudry\"\n",
    "vek = \"   18   \"\n",
    "\n",
    "print(f\"\\nlstrip -> {cele_meno.lstrip()}\") \n",
    "print(f\"\\lstrip -> {vek.lstrip()}\") \n",
    "\n",
    "print(f\"\\nrstrip -> {cele_meno.rstrip()}\") \n",
    "print(f\"rstrip -> {vek.rstrip()}\") \n",
    "\n",
    "print(f\"\\nstrip -> {cele_meno.strip()}\") \n",
    "print(f\"strip -> {vek.strip()}\") \n",
    "\n",
    "print(f\"replace -> {cele_meno.replace('Adam', 'Karol')}\") \n",
    "print(f\"replace -> {cele_meno.replace('adam', 'Karol')}\") \n",
    "print(f\"replace -> {cele_meno.replace('adam', 'Adam')}\") \n",
    "print(f\"replace -> {cele_meno.replace('adam  ', 'Adam')}\") \n",
    "print(f\"replace -> {cele_meno.replace('adam ', '')}\") \n",
    "\n",
    "print(f\"\\npartion -> {cele_meno.partition(' ')}\") \n",
    "print(f\"partion -> {meno.partition(' ')}\") "
   ],
   "execution_count":148,
   "outputs":[
    {
     "name":"stdout",
     "text":[
      "\n",
      "lstrip -> adam sangala   \n",
      "\\lstrip -> 18   \n",
      "\n",
      "rstrip ->     adam sangala\n",
      "rstrip ->    18\n",
      "\n",
      "strip -> adam sangala\n",
      "strip -> 18\n",
      "replace ->     adam sangala   \n",
      "replace ->     Karol sangala   \n",
      "replace ->     Adam sangala   \n",
      "replace ->     adam sangala   \n",
      "replace ->     sangala   \n",
      "\n",
      "partion -> ('', ' ', '   adam sangala   ')\n",
      "partion -> ('Peter', ' ', 'Mudry')\n"
     ],
     "output_type":"stream"
    }
   ],
   "metadata":{
    "datalore":{
     "node_id":"TMyBUCU6OQRszhmDQpNLz1",
     "type":"CODE",
     "hide_input_from_viewers":true,
     "hide_output_from_viewers":true
    }
   }
  },
  {
   "cell_type":"code",
   "source":[
    "print(f\"swapcase -> {meno.swapcase()}\") \n",
    "print(f\"swapcase -> {cele_meno.swapcase()}\") "
   ],
   "execution_count":149,
   "outputs":[
    {
     "name":"stdout",
     "text":[
      "swapcase -> pETER mUDRY\n",
      "swapcase ->     ADAM SANGALA   \n"
     ],
     "output_type":"stream"
    }
   ],
   "metadata":{
    "datalore":{
     "node_id":"Pvt55v6DULXMA5TzS09js8",
     "type":"CODE",
     "hide_input_from_viewers":true,
     "hide_output_from_viewers":true
    }
   }
  },
  {
   "cell_type":"code",
   "source":[
    "cele_meno = \"    adam   sangala   \"\n",
    "meno = \"Peter   Mudry\"\n",
    "\n",
    "print(f\"split -> {meno.split()}\") \n",
    "print(f\"split -> {cele_meno.split()}\") "
   ],
   "execution_count":152,
   "outputs":[
    {
     "name":"stdout",
     "text":[
      "split -> ['Peter', 'Mudry']\n",
      "split -> ['adam', 'sangala']\n"
     ],
     "output_type":"stream"
    }
   ],
   "metadata":{
    "datalore":{
     "node_id":"vBllBMpXbMEUbQ6k3xivov",
     "type":"CODE",
     "hide_input_from_viewers":true,
     "hide_output_from_viewers":true
    }
   }
  },
  {
   "cell_type":"code",
   "source":[
    "print(f\"zfill -> {'15'.zfill(3)}\") \n",
    "print(f\"zfill -> {'-15'.zfill(3)}\") \n",
    "\n",
    "print(f\"zfill -> {'15'.zfill(6)}\") \n",
    "print(f\"zfill -> {'-15'.zfill(6)}\") "
   ],
   "execution_count":154,
   "outputs":[
    {
     "name":"stdout",
     "text":[
      "zfill -> 015\n",
      "zfill -> -15\n",
      "zfill -> 000015\n",
      "zfill -> -00015\n"
     ],
     "output_type":"stream"
    }
   ],
   "metadata":{
    "datalore":{
     "node_id":"4xDyrXw9uYUuehYta67fu1",
     "type":"CODE",
     "hide_input_from_viewers":true,
     "hide_output_from_viewers":true
    }
   }
  },
  {
   "cell_type":"code",
   "source":[
    "  "
   ],
   "execution_count":181,
   "outputs":[
    {
     "name":"stdout",
     "text":[
      "A. ['1', '2', '3']\n",
      "B. ['1', '2,3']\n",
      "C. ['1', '2', '', '3', '']\n",
      "D. ['1', '2', '3']\n",
      "E. ['1', '2 3']\n",
      "F. ['1', '2', '3']\n",
      "G. []\n",
      "H. ['One line']\n",
      "I. ['']\n"
     ],
     "output_type":"stream"
    }
   ],
   "metadata":{
    "datalore":{
     "node_id":"Oqln70oqOHTNW0TVKaeapg",
     "type":"CODE",
     "hide_input_from_viewers":true,
     "hide_output_from_viewers":true
    }
   }
  },
  {
   "cell_type":"markdown",
   "source":[
    "# Secrets"
   ],
   "attachments":{
    
   },
   "metadata":{
    "datalore":{
     "node_id":"Secrets",
     "type":"MD",
     "hide_input_from_viewers":false,
     "hide_output_from_viewers":false,
     "sheet_delimiter":true
    }
   }
  },
  {
   "cell_type":"markdown",
   "source":[
    "# Modul Secrets\n",
    "\n",
    "https:\/\/docs.python.org\/3\/library\/secrets.html  \n",
    "Generovanie bezpečných náhodných čísel na správu tajných informácií\n",
    "Modul tajných informácií sa používa na generovanie kryptograficky silných náhodných čísel vhodných na správu údajov, ako sú heslá, autentifikácia účtov, bezpečnostné tokeny a súvisiace tajomstvá.\n",
    "\n",
    "Secrets by sa mali používať prednostne pred predvoleným generátorom pseudonáhodných čísel v module random, ktorý je určený na modelovanie a simuláciu, nie na bezpečnosť alebo kryptografiu.\n"
   ],
   "attachments":{
    
   },
   "metadata":{
    "datalore":{
     "node_id":"DwQlfP7MmugTPSBEyJXz01",
     "type":"MD",
     "hide_input_from_viewers":true,
     "hide_output_from_viewers":true
    }
   }
  },
  {
   "cell_type":"code",
   "source":[
    "import secrets\n",
    "import string\n",
    "import random\n",
    "\n",
    "abeceda = string.ascii_letters + string.digits\n",
    "print(f\"abeceda: {abeceda}\")\n",
    "\n",
    "heslo = \"\".join(secrets.choice(abeceda) for i in range(12))\n",
    "print(f\"heslo: {heslo}\")"
   ],
   "execution_count":196,
   "outputs":[
    {
     "name":"stdout",
     "text":[
      "abeceda: abcdefghijklmnopqrstuvwxyzABCDEFGHIJKLMNOPQRSTUVWXYZ0123456789\n",
      "heslo: fmIeM2lqSDAP\n"
     ],
     "output_type":"stream"
    }
   ],
   "metadata":{
    "datalore":{
     "node_id":"Ad4oAKrDmZ5kjtroUtCJDb",
     "type":"CODE",
     "hide_input_from_viewers":true,
     "hide_output_from_viewers":true
    }
   }
  },
  {
   "cell_type":"code",
   "source":[
    "import secrets\n",
    "\n",
    "url = \"https:\/\/www.domena.sk\/psw=\" + secrets.token_urlsafe()\n",
    "print(f\"URL: {url}\")"
   ],
   "execution_count":226,
   "outputs":[
    {
     "name":"stdout",
     "text":[
      "URL: https:\/\/www.domena.sk\/psw=6hzDlrAYK4zKecnhCaJmKKED6nNQAyBPxyN7tOivXhY\n"
     ],
     "output_type":"stream"
    }
   ],
   "metadata":{
    "datalore":{
     "node_id":"yupF8pmE6DfUicBhcIUC0x",
     "type":"CODE",
     "hide_input_from_viewers":true,
     "hide_output_from_viewers":true
    }
   }
  },
  {
   "cell_type":"markdown",
   "source":[
    "# langdetect"
   ],
   "attachments":{
    
   },
   "metadata":{
    "datalore":{
     "node_id":"langdetect",
     "type":"MD",
     "hide_input_from_viewers":false,
     "hide_output_from_viewers":false,
     "sheet_delimiter":true
    }
   }
  },
  {
   "cell_type":"code",
   "source":[
    "#!pip install langdetect\n",
    "# https:\/\/github.com\/Mimino666\/langdetect\n",
    "# https:\/\/pypi.org\/project\/langdetect\/\n",
    "# noinspection PyUnresolvedReferences\n",
    "  "
   ],
   "execution_count":18,
   "outputs":[
    {
     "name":"stdout",
     "text":[
      "Zadajte lubovolny text v lubovolnom jazyku:  uno y dos\n",
      "Identifikovany jazyk -> es\n"
     ],
     "output_type":"stream"
    }
   ],
   "metadata":{
    "datalore":{
     "node_id":"sgqjG5PjVaHGSe4QOARE9y",
     "type":"CODE",
     "hide_input_from_viewers":true,
     "hide_output_from_viewers":true
    }
   }
  },
  {
   "cell_type":"code",
   "source":[
    "#!pip install langdetect\n",
    "\n",
    "from langdetect import detect\n",
    "\n",
    "vstupny_text = input(\"Zadaj lubovolny retazec v lubovolnom jazyka: \")\n",
    "print(f\"Identifikovany jazyku: {detect(vstupny_text)}\")\n"
   ],
   "execution_count":236,
   "outputs":[
    {
     "name":"stdout",
     "text":[
      "Zadaj lubovolny retazec v lubovolnom jazyka:  management\n",
      "Identifikovany jazyku: nl\n"
     ],
     "output_type":"stream"
    }
   ],
   "metadata":{
    "datalore":{
     "node_id":"jHgysqVpCJj4zeU5Innnkk",
     "type":"CODE",
     "hide_input_from_viewers":true,
     "hide_output_from_viewers":true
    }
   }
  },
  {
   "cell_type":"code",
   "source":[
    "# ! pip install cowsay"
   ],
   "execution_count":null,
   "outputs":[
    
   ],
   "metadata":{
    "datalore":{
     "node_id":"qd4zCn1UbfdzQLe3ym030q",
     "type":"CODE",
     "hide_input_from_viewers":true,
     "hide_output_from_viewers":true
    }
   }
  },
  {
   "cell_type":"markdown",
   "source":[
    "# Type Hinting"
   ],
   "attachments":{
    
   },
   "metadata":{
    "datalore":{
     "node_id":"Type Hinting",
     "type":"MD",
     "hide_input_from_viewers":false,
     "hide_output_from_viewers":false,
     "sheet_delimiter":true
    }
   }
  },
  {
   "cell_type":"markdown",
   "source":[
    "# Type Hinting"
   ],
   "attachments":{
    
   },
   "metadata":{
    "datalore":{
     "node_id":"qhHZiy797RigJwdNjq1L3a",
     "type":"MD",
     "hide_input_from_viewers":true,
     "hide_output_from_viewers":true
    }
   }
  },
  {
   "cell_type":"code",
   "source":[
    "# outer\/global scope\n",
    "# noinspection PyShadowingNames\n",
    "def vypis_ahoj(meno: str) -> str:\n",
    "    # inner\/local scope\n",
    "    return \"Ahoj, \" + meno  "
   ],
   "execution_count":25,
   "outputs":[
    {
     "data":{
      "text\/plain":[
       "'Ahoj, Karol'"
      ]
     },
     "metadata":{
      
     },
     "output_type":"display_data"
    }
   ],
   "metadata":{
    "datalore":{
     "node_id":"EoDN1tqUfg8tNSz6cbRMe7",
     "type":"CODE",
     "hide_input_from_viewers":true,
     "hide_output_from_viewers":true
    }
   }
  },
  {
   "cell_type":"code",
   "source":[
    "from datetime import datetime\n",
    "import time\n",
    "\n",
    "def log(sprava:str) -> None:\n",
    "    print(datetime.now(), \" - \", sprava)\n",
    "\n",
    "log(5)\n",
    "log(\"Toto je sprava 1\")\n",
    "time.sleep(2)\n",
    "log(\"Toto je sprava 2\")\n",
    "time.sleep(3)\n",
    "log(\"Toto je sprava 3\")"
   ],
   "execution_count":241,
   "outputs":[
    {
     "name":"stdout",
     "text":[
      "2023-10-19 11:10:39.034752  -  5\n",
      "2023-10-19 11:10:39.036142  -  Toto je sprava 1\n",
      "2023-10-19 11:10:41.039266  -  Toto je sprava 2\n",
      "2023-10-19 11:10:44.043720  -  Toto je sprava 3\n"
     ],
     "output_type":"stream"
    }
   ],
   "metadata":{
    "datalore":{
     "node_id":"PbeYH63yRzKqKgvlweSTA5",
     "type":"CODE",
     "hide_input_from_viewers":true,
     "hide_output_from_viewers":true
    }
   }
  },
  {
   "cell_type":"code",
   "source":[
    "# Python 3.10\n",
    "\"\"\"\n",
    "    c1 cislo 1\n",
    "\"\"\"\n",
    "def sucet(c1 : int | float , c2 : int | float) -> int | float:\n",
    "    return c1 + c2\n",
    "\n",
    "print(sucet(5,2))"
   ],
   "execution_count":244,
   "outputs":[
    {
     "ename":"TypeError",
     "evalue":"TypeError: unsupported operand type(s) for |: 'type' and 'type'",
     "traceback":[
      "\u001b[0;31m---------------------------------------------------------------------------",
      "Traceback (most recent call last)",
      "    at line 5 in <module>",
      "TypeError: unsupported operand type(s) for |: 'type' and 'type'"
     ],
     "output_type":"error"
    }
   ],
   "metadata":{
    "datalore":{
     "node_id":"1MTYMXz9okEFdAg4x6iCmE",
     "type":"CODE",
     "hide_input_from_viewers":true,
     "hide_output_from_viewers":true
    }
   }
  },
  {
   "cell_type":"code",
   "source":[
    "from typing import Union\n",
    "cislo = Union[int, float]\n",
    "\n",
    "def sucet2(c1 : cislo , c2 : cislo) -> cislo:\n",
    "    return c1 + c2\n",
    "\n",
    "print(sucet2(5,2))"
   ],
   "execution_count":41,
   "outputs":[
    {
     "ename":"TypeError",
     "evalue":"TypeError: unsupported operand type(s) for |: 'type' and 'type'",
     "traceback":[
      "\u001b[0;31m---------------------------------------------------------------------------",
      "Traceback (most recent call last)",
      "    at line 1 in <module>",
      "TypeError: unsupported operand type(s) for |: 'type' and 'type'"
     ],
     "output_type":"error"
    }
   ],
   "metadata":{
    "datalore":{
     "node_id":"A1sjjEqk1Sfl2b2dXvqjKJ",
     "type":"CODE",
     "hide_input_from_viewers":true,
     "hide_output_from_viewers":true
    }
   }
  },
  {
   "cell_type":"code",
   "source":[
    " "
   ],
   "execution_count":42,
   "outputs":[
    {
     "name":"stdout",
     "text":[
      "7\n"
     ],
     "output_type":"stream"
    }
   ],
   "metadata":{
    "datalore":{
     "node_id":"L2GzKvve3pKP891fxvhwOx",
     "type":"CODE",
     "hide_input_from_viewers":true,
     "hide_output_from_viewers":true
    }
   }
  },
  {
   "cell_type":"code",
   "source":[
    "  "
   ],
   "execution_count":37,
   "outputs":[
    {
     "name":"stdout",
     "text":[
      "Python Je Krasny Jazyk\n",
      "----------------------\n",
      "******** Python Je Krasny Jazyk ********\n"
     ],
     "output_type":"stream"
    }
   ],
   "metadata":{
    "datalore":{
     "node_id":"dkNUIffh81rVow3cZu8Apz",
     "type":"CODE",
     "hide_input_from_viewers":true,
     "hide_output_from_viewers":true
    }
   }
  },
  {
   "cell_type":"markdown",
   "source":[
    "# Collections"
   ],
   "attachments":{
    
   },
   "metadata":{
    "datalore":{
     "node_id":"Collections",
     "type":"MD",
     "hide_input_from_viewers":false,
     "hide_output_from_viewers":false,
     "sheet_delimiter":true
    }
   }
  },
  {
   "cell_type":"markdown",
   "source":[
    "# 🗳️ Collections a Deque ((Double-Ended Queue - Obojstranná Fronta)\n",
    "Princíp FIFO - First in First Out (Queue)\n",
    "\n",
    "https:\/\/docs.python.org\/3\/library\/collections.html?highlight=collections   "
   ],
   "attachments":{
    
   },
   "metadata":{
    "datalore":{
     "node_id":"jNIPzihD9NHVSTDaDO2Pda",
     "type":"MD",
     "hide_input_from_viewers":true,
     "hide_output_from_viewers":true
    }
   }
  },
  {
   "cell_type":"code",
   "source":[
    "  "
   ],
   "execution_count":14,
   "outputs":[
    {
     "name":"stdout",
     "text":[
      "Obsah fronty deq1: deque([100, 99.99, 'NSC', True, None, [1, 2, 3]])\n"
     ],
     "output_type":"stream"
    }
   ],
   "metadata":{
    "datalore":{
     "node_id":"YtBWh14Dh6fXO7AqqCJwam",
     "type":"CODE",
     "hide_input_from_viewers":true,
     "hide_output_from_viewers":true
    }
   }
  },
  {
   "cell_type":"code",
   "source":[
    "  "
   ],
   "execution_count":13,
   "outputs":[
    {
     "name":"stdout",
     "text":[
      "1. Obsah fronty deq_parne_cisla: deque([2, 4, 6, 8, 10])\n",
      "2. Obsah fronty deq_parne_cisla: deque([2, 4, 6, 8, 10, '1500', '1600', 20000])\n",
      "3. Obsah fronty deq_parne_cisla: deque(['166', 80, -8, 2, 4, 6, 8, 10, '1500', '1600', 20000])\n"
     ],
     "output_type":"stream"
    }
   ],
   "metadata":{
    "datalore":{
     "node_id":"EzKtJiioGhVDZx0iVNeUdb",
     "type":"CODE",
     "hide_input_from_viewers":true,
     "hide_output_from_viewers":true
    }
   }
  },
  {
   "cell_type":"code",
   "source":[
    " "
   ],
   "execution_count":12,
   "outputs":[
    {
     "name":"stdout",
     "text":[
      "dequeInstancia: deque([1, 2, 3, 4, 5, 6, 7, 8], maxlen=8)\n",
      "dequeInstancia2: deque([3, 4, 5, 6, 7, 8, 9, 10], maxlen=8)\n"
     ],
     "output_type":"stream"
    }
   ],
   "metadata":{
    "datalore":{
     "node_id":"wm0emcbdHVWWVzO7KWqftU",
     "type":"CODE",
     "hide_input_from_viewers":true,
     "hide_output_from_viewers":true
    }
   }
  },
  {
   "cell_type":"markdown",
   "source":[
    "# Reťazce a Seq"
   ],
   "attachments":{
    
   },
   "metadata":{
    "datalore":{
     "node_id":"Reťazce a Seq",
     "type":"MD",
     "hide_input_from_viewers":false,
     "hide_output_from_viewers":false,
     "sheet_delimiter":true
    }
   }
  },
  {
   "cell_type":"markdown",
   "source":[
    "# ⛓️‍💥Spájanie Reťazcov (Concatenating strings)\n",
    "\n",
    "Efektivita (Základné pravidlo optimalizácie)  \n",
    "Bez zbytočného presunu\/pohybu údajov  \n",
    "Stačí poznať Python spôsoby a vyhnete sa správaniu so zložitosťou O(n**2) namiesto lineárneho správania  "
   ],
   "attachments":{
    
   },
   "metadata":{
    "datalore":{
     "node_id":"G2QqK3dCakT9LK1i72hY8b",
     "type":"MD",
     "hide_input_from_viewers":true,
     "hide_output_from_viewers":true
    }
   }
  },
  {
   "cell_type":"code",
   "source":[
    " "
   ],
   "execution_count":56,
   "outputs":[
    
   ],
   "metadata":{
    "datalore":{
     "node_id":"8MrGgSvPYwFpkD4AfFSlbm",
     "type":"CODE",
     "hide_input_from_viewers":true,
     "hide_output_from_viewers":true
    }
   }
  },
  {
   "cell_type":"code",
   "source":[
    "  "
   ],
   "execution_count":54,
   "outputs":[
    
   ],
   "metadata":{
    "datalore":{
     "node_id":"IikUoOvMJTXeoaObWpD3zV",
     "type":"CODE",
     "hide_input_from_viewers":true,
     "hide_output_from_viewers":true
    }
   }
  },
  {
   "cell_type":"markdown",
   "source":[
    "# 🌀 Aktualizácia Sekvencií (Updating Sequences)"
   ],
   "attachments":{
    
   },
   "metadata":{
    "datalore":{
     "node_id":"l96b9iqr0vqNxEXKziWzfE",
     "type":"MD",
     "hide_input_from_viewers":true,
     "hide_output_from_viewers":true
    }
   }
  },
  {
   "cell_type":"code",
   "source":[
    " "
   ],
   "execution_count":61,
   "outputs":[
    
   ],
   "metadata":{
    "datalore":{
     "node_id":"6aXUoeM3K6nGIl8hi3v6Da",
     "type":"CODE",
     "hide_input_from_viewers":true,
     "hide_output_from_viewers":true
    }
   }
  },
  {
   "cell_type":"markdown",
   "source":[
    "# 🕵️‍♂️ Hľadanie Sekvencií (Find Sequence)"
   ],
   "attachments":{
    
   },
   "metadata":{
    "datalore":{
     "node_id":"rwBdVp01tliJsK5b8pgccZ",
     "type":"MD",
     "hide_input_from_viewers":true,
     "hide_output_from_viewers":true
    }
   }
  },
  {
   "cell_type":"code",
   "source":[
    " "
   ],
   "execution_count":8,
   "outputs":[
    
   ],
   "metadata":{
    "datalore":{
     "node_id":"24q4mVKPtfwqF9nPFGx6yf",
     "type":"CODE",
     "hide_input_from_viewers":true,
     "hide_output_from_viewers":true
    }
   }
  },
  {
   "cell_type":"markdown",
   "source":[
    "# Decor"
   ],
   "attachments":{
    
   },
   "metadata":{
    "datalore":{
     "node_id":"Decor",
     "type":"MD",
     "hide_input_from_viewers":false,
     "hide_output_from_viewers":false,
     "sheet_delimiter":true
    }
   }
  },
  {
   "cell_type":"markdown",
   "source":[
    "# Dekorátory"
   ],
   "attachments":{
    
   },
   "metadata":{
    "datalore":{
     "node_id":"qZVrEENThNPY7h0UjgBaLF",
     "type":"MD",
     "hide_input_from_viewers":true,
     "hide_output_from_viewers":true
    }
   }
  },
  {
   "cell_type":"code",
   "source":[
    "  "
   ],
   "execution_count":29,
   "outputs":[
    
   ],
   "metadata":{
    "datalore":{
     "node_id":"uvUZ6DaF2evkDpsb1ERFrX",
     "type":"CODE",
     "hide_input_from_viewers":true,
     "hide_output_from_viewers":true
    }
   }
  },
  {
   "cell_type":"code",
   "source":[
    "# Chceme, aby funkcia subtract() vždy odčítala nižšie číslo od vyššieho. Takže keď volame (4,8), malo by to urobiť 8-4 nie 4-8. Aby sme to dosiahli"
   ],
   "execution_count":null,
   "outputs":[
    
   ],
   "metadata":{
    "datalore":{
     "node_id":"8np9wcddbr6yeXVWgMhnse",
     "type":"CODE",
     "hide_input_from_viewers":true,
     "hide_output_from_viewers":true
    }
   }
  },
  {
   "cell_type":"code",
   "source":[
    "  "
   ],
   "execution_count":30,
   "outputs":[
    
   ],
   "metadata":{
    "datalore":{
     "node_id":"uDEYwmu0O4b21rDFkITRM4",
     "type":"CODE",
     "hide_input_from_viewers":true,
     "hide_output_from_viewers":true
    }
   }
  },
  {
   "cell_type":"code",
   "source":[
    " "
   ],
   "execution_count":33,
   "outputs":[
    
   ],
   "metadata":{
    "datalore":{
     "node_id":"9XElCAyvlwNqVfuvU5jKJs",
     "type":"CODE",
     "hide_input_from_viewers":true,
     "hide_output_from_viewers":true
    }
   }
  },
  {
   "cell_type":"code",
   "source":[
    "  "
   ],
   "execution_count":67,
   "outputs":[
    
   ],
   "metadata":{
    "datalore":{
     "node_id":"j2tLPYwse7d8OEOqpwZoV5",
     "type":"CODE",
     "hide_input_from_viewers":true,
     "hide_output_from_viewers":true
    }
   }
  },
  {
   "cell_type":"code",
   "source":[
    " "
   ],
   "execution_count":19,
   "outputs":[
    
   ],
   "metadata":{
    "datalore":{
     "node_id":"vBinwqKTpbNR3s0L20qC0L",
     "type":"CODE",
     "hide_input_from_viewers":true,
     "hide_output_from_viewers":true
    }
   }
  },
  {
   "cell_type":"code",
   "source":[
    "  "
   ],
   "execution_count":20,
   "outputs":[
    {
     "name":"stdout",
     "text":[
      "Prijmite prosím zmluvné podmienky...\n",
      "\n",
      "Microsoft inštalácia začala\n",
      "Prijmite prosím zmluvné podmienky...\n",
      "\n",
      "Adobe Reader inštalácia začala\n",
      "Prijmite prosím zmluvné podmienky...\n",
      "\n",
      "Spotify inštalácia začala\n",
      "Microsoft inštalácia začala\n"
     ],
     "output_type":"stream"
    },
    {
     "ename":"NameError",
     "evalue":"NameError: name 'instalovat_adobe_reader' is not defined",
     "traceback":[
      "\u001b[0;31m---------------------------------------------------------------------------",
      "Traceback (most recent call last)",
      "    at line 14 in <module>",
      "NameError: name 'instalovat_adobe_reader' is not defined"
     ],
     "output_type":"error"
    }
   ],
   "metadata":{
    "datalore":{
     "node_id":"wGdWZso8eUDvyUNdWMXfuD",
     "type":"CODE",
     "hide_input_from_viewers":true,
     "hide_output_from_viewers":true
    }
   }
  },
  {
   "cell_type":"code",
   "source":[
    "  "
   ],
   "execution_count":21,
   "outputs":[
    {
     "name":"stdout",
     "text":[
      "============\n",
      "Ahoj, Svet!\n",
      "============\n"
     ],
     "output_type":"stream"
    }
   ],
   "metadata":{
    "datalore":{
     "node_id":"X7udDeUvgYK7UrI7di4Q93",
     "type":"CODE",
     "hide_input_from_viewers":true,
     "hide_output_from_viewers":true
    }
   }
  },
  {
   "cell_type":"markdown",
   "source":[
    "# Lambdy"
   ],
   "attachments":{
    
   },
   "metadata":{
    "datalore":{
     "node_id":"Lambdy",
     "type":"MD",
     "hide_input_from_viewers":false,
     "hide_output_from_viewers":false,
     "sheet_delimiter":true
    }
   }
  },
  {
   "cell_type":"markdown",
   "source":[
    "# Lambdy (Lambdas)\n",
    "\n",
    "Sú malé, anonymné funkcie, ktoré podliehajú prísnejšej, ale stručnejšej syntaxi ako bežné funkcie Pythonu.\n",
    "\n",
    "Alonzo Church formalizoval lambda kalkul, jazyk založený na čistej abstrakcii, v 30. rokoch 20. storočia. \n",
    "\n",
    "Funkcie lambda sa tiež označujú ako lambda abstrakcie, čo je priamy odkaz na abstrakciu pôvodného stvorenia Alonza Churcha.\n",
    "\n",
    "Lambda kalkulus dokáže zakódovať akýkoľvek výpočet. Je to Turingovo kompletný, ale na rozdiel od koncepcie Turingovho stroja je čistý a nezachováva žiadny stav.\n",
    "\n",
    "Funkčné jazyky majú svoj pôvod v matematickej logike a lambda kalkule, zatiaľ čo imperatívne programovacie jazyky zahŕňajú stavový model výpočtu, ktorý vynašiel Alan Turing. \n",
    "\n",
    "Dva výpočtové modely, lambda kalkul a Turingove stroje, sa dajú navzájom preložiť. Táto ekvivalencia je známa ako Church-Turingova hypotéza."
   ],
   "attachments":{
    
   },
   "metadata":{
    "datalore":{
     "node_id":"cWs4ZlWMiDjiAssibu0pni",
     "type":"MD",
     "hide_input_from_viewers":true,
     "hide_output_from_viewers":true
    }
   }
  },
  {
   "cell_type":"code",
   "source":[
    "def funkcia(x):\n",
    "    return x\n",
    "\n",
    "def vypis_nieco(x):\n",
    "    return x"
   ],
   "execution_count":185,
   "outputs":[
    
   ],
   "metadata":{
    "datalore":{
     "node_id":"6oqxBUcBeUlpBHSn05D2X0",
     "type":"CODE",
     "hide_input_from_viewers":true,
     "hide_output_from_viewers":true
    }
   }
  },
  {
   "cell_type":"code",
   "source":[
    "# Výraz sa skladá z:\n",
    "# Kľúčové slovo (keyword): lambda\n",
    "# Viazaná premenná (bound variable) - argument: x\n",
    "# Telo (body): x\n",
    "\n",
    "lambda x: x\n",
    "(lambda x: x+100)(10)"
   ],
   "execution_count":245,
   "outputs":[
    {
     "data":{
      "text\/plain":[
       "110"
      ]
     },
     "metadata":{
      
     },
     "output_type":"display_data"
    }
   ],
   "metadata":{
    "datalore":{
     "node_id":"Nx381dtrYk4cCtnJxQTR00",
     "type":"CODE",
     "hide_input_from_viewers":true,
     "hide_output_from_viewers":true
    }
   }
  },
  {
   "cell_type":"code",
   "source":[
    "print((lambda x: x+100)(10))\n",
    "\n",
    "# (lambda x: x + 100)(10) = lambda 10: 10 + 100\n",
    "#                      = 10 + 100\n",
    "#                      = 110"
   ],
   "execution_count":249,
   "outputs":[
    {
     "name":"stdout",
     "text":[
      "110\n"
     ],
     "output_type":"stream"
    }
   ],
   "metadata":{
    "datalore":{
     "node_id":"nho4jqxoGCNNURdMsOSYZW",
     "type":"CODE",
     "hide_input_from_viewers":true,
     "hide_output_from_viewers":true
    }
   }
  },
  {
   "cell_type":"code",
   "source":[
    "# Funkcionalny pristup\/funkcionalne programovanie\n",
    "inkrementuj = lambda x: x + 1\n",
    "\n",
    "print(inkrementuj(5))\n",
    "print(inkrementuj(99))\n",
    "\n",
    "# Deklarativny\/imperativny pristup - proceduralne\/OO programovanie\n",
    "def inkrementuj2(x):\n",
    "    return x + 1"
   ],
   "execution_count":253,
   "outputs":[
    {
     "name":"stdout",
     "text":[
      "6\n",
      "100\n"
     ],
     "output_type":"stream"
    }
   ],
   "metadata":{
    "datalore":{
     "node_id":"OBlMOHuc4GpU1Kk26axUtL",
     "type":"CODE",
     "hide_input_from_viewers":true,
     "hide_output_from_viewers":true
    }
   }
  },
  {
   "cell_type":"code",
   "source":[
    "# noinspection PyShadowingNames\n",
    "klient_cele_meno = lambda meno, priezvisko: f\"Cele meno je: {meno.title()} {priezvisko.title()}\"\n",
    "\n",
    "klient_cele_meno(\"aDAm\", \"sangala\")"
   ],
   "execution_count":255,
   "outputs":[
    {
     "data":{
      "text\/plain":[
       "'Cele meno je: Adam Sangala'"
      ]
     },
     "metadata":{
      
     },
     "output_type":"display_data"
    }
   ],
   "metadata":{
    "datalore":{
     "node_id":"giVQ9tblEaCZQKMzBGWbPx",
     "type":"CODE",
     "hide_input_from_viewers":true,
     "hide_output_from_viewers":true
    }
   }
  },
  {
   "cell_type":"code",
   "source":[
    "def klient_cele_meno(meno, priezvisko):\n",
    "    return f\"Cele meno je: {meno.title()} {priezvisko.title()}\""
   ],
   "execution_count":196,
   "outputs":[
    {
     "data":{
      "text\/plain":[
       "'Cele meno klienta je: Adam Sangala'"
      ]
     },
     "metadata":{
      
     },
     "output_type":"display_data"
    }
   ],
   "metadata":{
    "datalore":{
     "node_id":"GT7zXtoa4xG0X3e4r6CdKY",
     "type":"CODE",
     "hide_input_from_viewers":true,
     "hide_output_from_viewers":true
    }
   }
  },
  {
   "cell_type":"markdown",
   "source":[
    "# Anonymné funkcie\n",
    "\n",
    "Nasledujúce výrazy sa môžu používať zameniteľne v závislosti od typu a kultúry programovacieho jazyka:\n",
    "1. Anonymné funkcie\n",
    "2. Funkcie lambda\n",
    "3. Lambda výrazy\n",
    "4. Lambda abstrakcie\n",
    "5. Lambda forma\n",
    "6. Funkčné literály"
   ],
   "attachments":{
    
   },
   "metadata":{
    "datalore":{
     "node_id":"QoEegVexjlewmD3APRAzFr",
     "type":"MD",
     "hide_input_from_viewers":true,
     "hide_output_from_viewers":true
    }
   }
  },
  {
   "cell_type":"code",
   "source":[
    "(lambda a, b: a + b)(7, 3)"
   ],
   "execution_count":257,
   "outputs":[
    {
     "data":{
      "text\/plain":[
       "10"
      ]
     },
     "metadata":{
      
     },
     "output_type":"display_data"
    }
   ],
   "metadata":{
    "datalore":{
     "node_id":"XvnH3KO1xIgtcL8vmOSHT9",
     "type":"CODE",
     "hide_input_from_viewers":true,
     "hide_output_from_viewers":true
    }
   }
  },
  {
   "cell_type":"code",
   "source":[
    "  "
   ],
   "execution_count":213,
   "outputs":[
    {
     "name":"stdout",
     "text":[
      "A. 6\n",
      "B. 6\n",
      "C. 6\n",
      "D. 6\n",
      "E. 6\n",
      "F. 6\n"
     ],
     "output_type":"stream"
    }
   ],
   "metadata":{
    "datalore":{
     "node_id":"MRchiFJsYpA4k7qZwkHsbW",
     "type":"CODE",
     "hide_input_from_viewers":true,
     "hide_output_from_viewers":true
    }
   }
  },
  {
   "cell_type":"markdown",
   "source":[
    "# Vhodné použitie výrazov lambda\n",
    "\n",
    "Niektoré z argumentov proti lambdas v Pythone sú:\n",
    "1. Problémy s čitateľnosťou\n",
    "2. Zavedenie funkčného spôsobu myslenia\n",
    "3. Ťažká syntax s kľúčovým slovom lambda\n",
    "\n",
    "\n",
    "Funkcie lambda majú vlastnosti, ktoré niekedy poskytujú hodnotu pre jazyk Python a pre vývojárov."
   ],
   "attachments":{
    
   },
   "metadata":{
    "datalore":{
     "node_id":"i1LsaYf9fhDAF3f9pPoXUS",
     "type":"MD",
     "hide_input_from_viewers":true,
     "hide_output_from_viewers":true
    }
   }
  },
  {
   "cell_type":"code",
   "source":[
    "print(list(map(lambda x: x.upper(), [\"macicka\", \"psik\", \"papagaj\"])))\n",
    "print(list(map(lambda x: x.title(), [\"macicka\", \"psik\", \"papagaj\"])))\n",
    "\n",
    "print(list(filter(lambda x: \"i\" in x, [\"macicka\", \"psik\", \"papagaj\"])))\n",
    "\n",
    "delitelnost_2 = lambda x: x % 2 == 0\n",
    "print(list(filter(delitelnost_2, [1,2,3,4,5,6,7,8])))\n",
    "print(list(filter(delitelnost_2, range(20))))"
   ],
   "execution_count":268,
   "outputs":[
    {
     "name":"stdout",
     "text":[
      "['MACICKA', 'PSIK', 'PAPAGAJ']\n",
      "['Macicka', 'Psik', 'Papagaj']\n",
      "['macicka', 'psik']\n",
      "[2, 4, 6, 8]\n",
      "[0, 2, 4, 6, 8, 10, 12, 14, 16, 18]\n"
     ],
     "output_type":"stream"
    }
   ],
   "metadata":{
    "datalore":{
     "node_id":"lx68YD7B0oZhjyqTwsspHu",
     "type":"CODE",
     "hide_input_from_viewers":true,
     "hide_output_from_viewers":true
    }
   }
  },
  {
   "cell_type":"code",
   "source":[
    "ids = ['id1', 'id2', 'id30', 'id3', 'id22', 'id100']\n",
    "# Lexikografické triedenie\n",
    "print(sorted(ids))\n",
    "\n",
    "ids_zoradene = sorted(ids, reverse= True)\n",
    "print(ids_zoradene)\n",
    "\n",
    "# Číselné triedenie\n",
    "ids_zoradene2 = sorted(ids, key= lambda x: int(x[2:]))\n",
    "print(ids_zoradene2)\n",
    "\n",
    "ids_zoradene3 = sorted(ids, key= lambda x: int(x[2:]))\n",
    "print(ids_zoradene3)\n"
   ],
   "execution_count":278,
   "outputs":[
    {
     "name":"stdout",
     "text":[
      "['id1', 'id100', 'id2', 'id22', 'id3', 'id30']\n",
      "['id30', 'id3', 'id22', 'id2', 'id100', 'id1']\n",
      "['id1', 'id2', 'id3', 'id22', 'id30', 'id100']\n",
      "['id1', 'id2', 'id3', 'id22', 'id30', 'id100']\n"
     ],
     "output_type":"stream"
    }
   ],
   "metadata":{
    "datalore":{
     "node_id":"rE2Mtfwd6HHul9zt4V265E",
     "type":"CODE",
     "hide_input_from_viewers":true,
     "hide_output_from_viewers":true
    }
   }
  },
  {
   "cell_type":"code",
   "source":[
    "from functools import reduce\n",
    "print(reduce(lambda acc, x: f'{acc} | {x}', ['cat', 'dog', 'cow']))"
   ],
   "execution_count":280,
   "outputs":[
    {
     "name":"stdout",
     "text":[
      "cat | dog | cow\n"
     ],
     "output_type":"stream"
    }
   ],
   "metadata":{
    "datalore":{
     "node_id":"wUTu9Qf0wj43shUfoZYzpz",
     "type":"CODE",
     "hide_input_from_viewers":true,
     "hide_output_from_viewers":true
    }
   }
  },
  {
   "cell_type":"code",
   "source":[
    "from functools import reduce\n",
    "print(reduce(lambda acc, x: f'{acc} | {x}', ['cat', 'dog', 'cow']))"
   ],
   "execution_count":null,
   "outputs":[
    
   ],
   "metadata":{
    "datalore":{
     "node_id":"q4xsPltbkrahAv0akwHZ3j",
     "type":"CODE",
     "hide_input_from_viewers":true,
     "hide_output_from_viewers":true
    }
   }
  },
  {
   "cell_type":"markdown",
   "source":[
    "# OOP Metódy"
   ],
   "attachments":{
    
   },
   "metadata":{
    "datalore":{
     "node_id":"OOP Metódy",
     "type":"MD",
     "hide_input_from_viewers":false,
     "hide_output_from_viewers":false,
     "sheet_delimiter":true
    }
   }
  },
  {
   "cell_type":"markdown",
   "source":[
    "# Inštančné, Statické Metódy a Metódy Triedy "
   ],
   "attachments":{
    
   },
   "metadata":{
    "datalore":{
     "node_id":"6EDBBu2mvO1TZKSDgoenFG",
     "type":"MD",
     "hide_input_from_viewers":true,
     "hide_output_from_viewers":true
    }
   }
  },
  {
   "cell_type":"code",
   "source":[
    "  "
   ],
   "execution_count":20,
   "outputs":[
    
   ],
   "metadata":{
    "datalore":{
     "node_id":"MsvLGgzHodwShRyN6tttkR",
     "type":"CODE",
     "hide_input_from_viewers":true,
     "hide_output_from_viewers":true
    }
   }
  },
  {
   "cell_type":"code",
   "source":[
    "  "
   ],
   "execution_count":27,
   "outputs":[
    {
     "name":"stdout",
     "text":[
      "1. metoda: ('Inštančná (Objektová) Metóda', <__main__.Trieda object at 0x7f6903f95e80>)\n",
      "\n",
      "2a. metoda: ('Metóda Triedy (Triedová Metóda)', <class '__main__.Trieda'>)\n",
      "\n",
      "3a. metoda: Statická Metóda\n",
      "3b. metoda: Statická Metóda\n"
     ],
     "output_type":"stream"
    }
   ],
   "metadata":{
    "datalore":{
     "node_id":"SVCLfnFyVOb0ejXrnoJAme",
     "type":"CODE",
     "hide_input_from_viewers":true,
     "hide_output_from_viewers":true
    }
   }
  }
 ],
 "metadata":{
  "kernelspec":{
   "display_name":"Python",
   "language":"python",
   "name":"python"
  },
  "datalore":{
   "computation_mode":"JUPYTER",
   "package_manager":"pip",
   "base_environment":"default",
   "packages":[
    
   ],
   "report_row_ids":[
    "e3SflrAZQKNNp9Bvno12Hw"
   ],
   "version":3
  }
 },
 "nbformat":4,
 "nbformat_minor":4
}