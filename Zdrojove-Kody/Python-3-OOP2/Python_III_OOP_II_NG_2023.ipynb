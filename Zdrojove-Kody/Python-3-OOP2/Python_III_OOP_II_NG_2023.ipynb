{
 "cells":[
  {
   "cell_type":"markdown",
   "source":[
    "# D1"
   ],
   "attachments":{
    
   },
   "metadata":{
    "datalore":{
     "node_id":"D1",
     "type":"MD",
     "hide_input_from_viewers":false,
     "hide_output_from_viewers":false,
     "sheet_delimiter":true
    }
   }
  },
  {
   "cell_type":"markdown",
   "source":[
    "# 🐍 Kurz Python III. Pokročilý (Objektové Programovanie II)\n",
    "**🧑‍🏫 Lektor:** Miroslav Reiter  \n",
    "**📥 LinkedIn kontakt:** https:\/\/www.linkedin.com\/in\/miroslav-reiter\/  \n",
    "\n",
    "**✅ Osnova:** https:\/\/itkurzy.sav.sk\/node\/194\n",
    "\n",
    "**🎞️ YouTube videá:** https:\/\/www.youtube.com\/c\/IT-AcademySK  \n",
    "**📇 Zdrojové kódy a materiály:** https:\/\/github.com\/miroslav-reiter\/Kurzy_SAV_Analytika_Python_R  \n",
    "\n",
    "**😊 Emojis:** Win + .  "
   ],
   "attachments":{
    
   },
   "metadata":{
    "datalore":{
     "node_id":"qRdXhRnZVVPQc9OEaStvFK",
     "type":"MD",
     "hide_input_from_viewers":false,
     "hide_output_from_viewers":false,
     "report_properties":{
      "rowId":"e3SflrAZQKNNp9Bvno12Hw"
     }
    }
   }
  },
  {
   "cell_type":"markdown",
   "source":[
    "# 🦮 Triedy (Clasess)\n",
    "Python je multiparadigmový programovací jazyk, ktorý podporuje objektovo orientované programovanie (OOP) **prostredníctvom tried**, ktoré môžete definovať pomocou **kľúčového slova class**. \n",
    "\n",
    "Triedu si môžete predstaviť ako časť kódu, ktorá špecifikuje **údaje** a **správanie**, ktoré predstavujú a modelujú konkrétny **typ objektu**.\n",
    "\n",
    "Bežnou analógiou je, že trieda je ako plán domu. Pomocou nákresu môžete vytvoriť niekoľko domov a dokonca aj celé sídlisko. Každý betónový dom je objekt alebo príklad, ktorý je odvodený z plánu.\n",
    "\n",
    "Každá inštancia môže mať svoje vlastné vlastnosti, ako je farba, vlastník a dizajn interiéru. Tieto vlastnosti nesú to, čo je bežne známe ako stav objektu. Prípady môžu mať aj rôzne správanie, napríklad zamykanie dverí a okien, otváranie garážových brán, zapínanie a vypínanie svetiel, polievanie záhrady a ďalšie.\n",
    "\n",
    "V OOP bežne používate termín **atribúty** na označenie **vlastností** alebo **údajov** spojených s konkrétnym objektom danej triedy. V Pythone sú **atribúty premenné** definované **vo vnútri triedy** s cieľom **uložiť všetky požadované údaje**, aby trieda fungovala.\n",
    "\n",
    "Podobne budete používať termín **metódy** na označenie rôznych **správaní**, ktoré budú **objekty vykazovať**. Metódy sú **funkcie**, ktoré definujete **v rámci triedy**. Tieto funkcie zvyčajne fungujú na alebo s atribútmi základnej inštancie alebo triedy. **Atribúty** a **metódy** sa **súhrnne označujú** ako **členovia triedy** alebo **objektu**.\n",
    "\n",
    "Môžete písať plne **funkčné triedy** na **modelovanie skutočného sveta**. Tieto triedy vám pomôžu **lepšie zorganizovať váš kód** a **vyriešiť zložité programovacie problémy**.\n",
    "\n",
    "**Triedy** môžete **použiť** napríklad na **vytváranie objekto**v, ktoré **napodobňujú** ľudí, zvieratá, vozidlá, knihy, budovy, autá alebo iné objekty. Môžete tiež modelovať **virtuálne objekty**, ako je webový server, adresárový strom, chatbot, správca súborov a ďalšie."
   ],
   "attachments":{
    
   },
   "metadata":{
    "datalore":{
     "node_id":"JByBNsSDmT3R64DEDrxAoI",
     "type":"MD",
     "hide_input_from_viewers":true,
     "hide_output_from_viewers":true
    }
   }
  },
  {
   "cell_type":"code",
   "source":[
    
   ],
   "execution_count":null,
   "outputs":[
    
   ],
   "metadata":{
    "datalore":{
     "node_id":"bs6ac2KIOlMKdxFzn3zSnP",
     "type":"CODE",
     "hide_input_from_viewers":true,
     "hide_output_from_viewers":true
    }
   }
  },
  {
   "cell_type":"markdown",
   "source":[
    "## 🐶 Vytváranie objektov z triedy\n",
    "\n",
    "**Akcia vytvorenia konkrétnych objektov** z **existujúcej triedy** je známa ako **inštanciácia**. S každou inštanciou vytvoríte nový objekt cieľovej triedy.\n",
    "\n",
    "Ak chcete vytvoriť objekt triedy Python, ako je Gula, musíte zavolať **konštruktor triedy Gula()** s párom zátvoriek a sadou **vhodných argumentov**. Aké argumenty? V Pythone konštruktor triedy akceptuje rovnaké argumenty ako metóda .__init__(). V tomto príklade trieda Gula očakáva argument polomeru.\n",
    "\n",
    "Volanie konštruktora triedy s rôznymi hodnotami argumentov vám umožní vytvárať rôzne objekty alebo inštancie cieľovej triedy. Vo vyššie uvedenom príklade sú gula_1 a gula_2 samostatnými inštanciami Gule. Inými slovami, **sú to 2 rôzne a konkrétne gule**."
   ],
   "attachments":{
    
   },
   "metadata":{
    "datalore":{
     "node_id":"DcDUyZwpJTTeMveGiHPIDr",
     "type":"MD",
     "hide_input_from_viewers":true,
     "hide_output_from_viewers":true
    }
   }
  },
  {
   "cell_type":"code",
   "source":[
    "  "
   ],
   "execution_count":18,
   "outputs":[
    {
     "name":"stdout",
     "text":[
      "<__main__.Gula object at 0x7fe08ad90940>\n",
      "<__main__.Gula object at 0x7fe08ad90820>\n",
      "Objem Gule je: 4189 m^3\n",
      "Povrch Gule je: 1257 m^2\n",
      "Projekčná plocha Gule je: 314 m^2\n"
     ],
     "output_type":"stream"
    }
   ],
   "metadata":{
    "datalore":{
     "node_id":"KZEMMpCOoMpdNuIxhyVIon",
     "type":"CODE",
     "hide_input_from_viewers":true,
     "hide_output_from_viewers":true
    }
   }
  },
  {
   "cell_type":"markdown",
   "source":[
    "## 🤔 Name Mangling"
   ],
   "attachments":{
    
   },
   "metadata":{
    "datalore":{
     "node_id":"OINy9iHgphMNNOq7Tl7iYG",
     "type":"MD",
     "hide_input_from_viewers":true,
     "hide_output_from_viewers":true
    }
   }
  },
  {
   "cell_type":"markdown",
   "source":[
    "Dôležitou konvenciou pomenovania, ktorú môžete vidieť a používať v triedach Pythonu, je pridanie dvoch podčiarkovníkov na začiatku k názvom atribútov a metód. Táto konvencia názvov spúšťa to, čo je známe ako name mangling (mangľovanie mien).\n",
    "\n",
    "Zmena názvu je automatická transformácia názvov, ktorá pred meno člena pripojí názov triedy, napríklad v metóde _ClassName__attribute alebo _ClassName__. Výsledkom je skrytie mena. Inými slovami, zmenené názvy nie sú k dispozícii na priamy prístup. Nie sú súčasťou verejného rozhrania API triedy.\n",
    "\n",
    "**Vstavaná funkcia vars()**, ktorá **vracia slovník všetkých členov** **spojených s daným objektom**. Tento **slovník** hrá dôležitú úlohu v triedach Pythonu napríklad pri atribúte .__dict__."
   ],
   "attachments":{
    
   },
   "metadata":{
    "datalore":{
     "node_id":"r5JsKiVaCaZyKFXLcf7FTF",
     "type":"MD",
     "hide_input_from_viewers":true,
     "hide_output_from_viewers":true
    }
   }
  },
  {
   "cell_type":"code",
   "source":[
    "  "
   ],
   "execution_count":25,
   "outputs":[
    {
     "name":"stdout",
     "text":[
      "Zoznam atribútov\/dát v Instancii\/Objekte: {'data': 'Servus!'}\n",
      "Zoznam atribútov\/dát a metod v Triede: {'__module__': '__main__', '__init__': <function TriedaPriklad.__init__ at 0x7fe081d5fdc0>, '_TriedaPriklad__metoda': <function TriedaPriklad.__metoda at 0x7fe081d5fd30>, '__dict__': <attribute '__dict__' of 'TriedaPriklad' objects>, '__weakref__': <attribute '__weakref__' of 'TriedaPriklad' objects>, '__doc__': None}\n"
     ],
     "output_type":"stream"
    }
   ],
   "metadata":{
    "datalore":{
     "node_id":"7X4K00ZEjLSbabTWlE3TS4",
     "type":"CODE",
     "hide_input_from_viewers":true,
     "hide_output_from_viewers":true
    }
   }
  },
  {
   "cell_type":"markdown",
   "source":[
    "## ✅ Výhody používania tried\n",
    "Triedy sú stavebnými kameňmi objektovo orientovaného programovania v Pythone. Umožňujú vám využiť silu Pythonu pri písaní a organizovaní kódu. Keď sa dozviete o triedach, budete môcť využívať všetky výhody, ktoré poskytujú. \n",
    "\n",
    "Pomocou tried môžete:\n",
    "1. Modelovať a riešiť zložité problémy v reálnom svete: Nájdete veľa situácií, v ktorých sa objekty vo vašom kóde mapujú na objekty skutočného sveta. To vám môže pomôcť premýšľať o zložitých problémoch, čo povedie k lepším riešeniam vašich problémov s programovaním.\n",
    "\n",
    "2. Opätovne použiž kód a vyhnúť sa opakovaniu (DRY): Môžete definovať hierarchie súvisiacich tried. Základné triedy na vrchole hierarchie poskytujú bežnú funkčnosť, ktorú môžete neskôr znova použiť v podtriedach nižšie v hierarchii. To vám umožní znížiť duplicitu kódu a podporiť opätovné použitie kódu.\n",
    "   \n",
    "3. Zapúzdriť súvisiace údaje a správanie do 1 entity: Triedy Pythonu môžete použiť na spojenie súvisiacich atribútov a metód do jedinej entity, objektu. To vám pomôže lepšie organizovať váš kód pomocou modulárnych a autonómnych entít, ktoré môžete dokonca opätovne použiť vo viacerých projektoch.\n",
    "   \n",
    "4. Abstrahovať detaily implementácie konceptov a objektov: Triedy môžete použiť na abstrahovanie detailov implementácie základných konceptov a objektov. To vám pomôže poskytnúť vašim používateľom intuitívne rozhrania (API) na spracovanie zložitých údajov a správania.\n",
    "   \n",
    "5. Odomknúť polymorfizmus pomocou bežných rozhraní: Môžete implementovať konkrétne rozhranie do niekoľkých mierne odlišných tried a používať ich vo svojom kóde zameniteľne. Vďaka tomu bude váš kód flexibilnejší a prispôsobivejší.\n",
    "    \n",
    "6.  Triedy Pythonu vám môžu pomôcť písať organizovanejší, štruktúrovaný, udržiavateľný, opakovane použiteľný, flexibilný a používateľsky prívetivejší kód. Sú skvelou pomôckou, ale v niektorých situáciách príliš skomplikujú vaše riešenia.\n",
    "\n",
    "V Pythone verejné atribúty a metódy triedy tvoria to, čo poznáte ako rozhranie triedy alebo aplikačné programové rozhranie (API)."
   ],
   "attachments":{
    
   },
   "metadata":{
    "datalore":{
     "node_id":"xuzZIs6LqTMcydRpnPJqMk",
     "type":"MD",
     "hide_input_from_viewers":true,
     "hide_output_from_viewers":true
    }
   }
  },
  {
   "cell_type":"markdown",
   "source":[
    "## ❌ Kedy sa vyhnúť používaniu tried\n",
    "\n",
    "Triedy Pythonu sú celkom skvelé a výkonné nástroje, ktoré môžete použiť vo viacerých scenároch. Z tohto dôvodu majú niektorí ľudia tendenciu nadužívať triedy a riešiť všetky svoje problémy s kódovaním pomocou nich. Niekedy však použitie triedy nie je najlepším riešením. Niekedy stačí pár funkcií.\n",
    "\n",
    "V praxi sa stretnete s niekoľkými situáciami, v ktorých by ste sa mali lekciám vyhnúť. Napríklad by ste nemali používať bežné kurzy, keď potrebujete:\n",
    "\n",
    "Uchovávajte iba údaje. Namiesto toho použite triedu údajov alebo pomenovanú n-tku.\n",
    "Poskytnite jedinú metódu. Namiesto toho použite funkciu.\n",
    "Dátové triedy, enumerácie a pomenované n-tice sú špeciálne navrhnuté na ukladanie údajov. Takže môžu byť najlepším riešením, ak vaša trieda nemá pripojené žiadne správanie.\n",
    "\n",
    "Ak má vaša trieda vo svojom rozhraní API jedinú metódu, nemusíte triedu vyžadovať. Namiesto toho použite funkciu, pokiaľ medzi hovormi nepotrebujete zachovať určitý stav. Ak sa neskôr objavia ďalšie metódy, vždy môžete vytvoriť triedu. Pamätajte na princíp Pythonu:\n",
    "\n",
    "Jednoduché je lepšie ako zložité.\n",
    "\n",
    "Okrem toho by ste sa mali vyhnúť vytváraniu vlastných tried, aby ste zabalili funkcie, ktoré sú dostupné prostredníctvom vstavaných typov alebo tried tretích strán. Použite priamo typ alebo triedu tretej strany.\n",
    "\n",
    "Nájdete mnoho ďalších všeobecných situácií, v ktorých možno nebudete musieť používať triedy v kóde Pythonu. Napríklad triedy nie sú potrebné, keď pracujete s:\n",
    "\n",
    "1. Malý a jednoduchý program alebo skript, ktorý nevyžaduje zložité dátové štruktúry alebo logiku. V tomto prípade môže byť používanie tried prehnané.\n",
    "   \n",
    "2. Program kritický pre výkon. Triedy zvyšujú réžiu vášho programu, najmä keď potrebujete vytvoriť veľa objektov. Môže to ovplyvniť všeobecnú výkonnosť vášho kódu.\n",
    "   \n",
    "3. Starý kódový základ. Ak existujúca kódová základňa nepoužíva triedy, nemali by ste ich zavádzať. Tým sa naruší súčasný štýl kódovania a naruší sa konzistencia kódu.\n",
    "   \n",
    "4. Tím s iným štýlom kódovania. Ak váš súčasný tím nepoužíva triedy, držte sa ich štýlu kódovania. Tým sa zabezpečí konzistentnosť v rámci projektu.\n",
    "   \n",
    "5. Kódová základňa, ktorá využíva funkčné programovanie. Ak je daná kódová základňa v súčasnosti napísaná funkčným prístupom, nemali by ste zavádzať triedy. Tým sa naruší základná paradigma kódovania."
   ],
   "attachments":{
    
   },
   "metadata":{
    "datalore":{
     "node_id":"eGFm1Y1Y1HuTHZ4K5joK6o",
     "type":"MD",
     "hide_input_from_viewers":true,
     "hide_output_from_viewers":true
    }
   }
  },
  {
   "cell_type":"code",
   "source":[
    
   ],
   "execution_count":3,
   "outputs":[
    {
     "name":"stdout",
     "text":[
      "Zadajte rok narodenia:  1988\n",
      "Vek zákazníka1 je: 35 rokov.\n",
      "Vek zákazníka2 je: 33 rokov.\n"
     ],
     "output_type":"stream"
    }
   ],
   "metadata":{
    "datalore":{
     "node_id":"rJ6mJsBcevp37q1IcckTBF",
     "type":"CODE",
     "hide_input_from_viewers":true,
     "hide_output_from_viewers":true
    }
   }
  },
  {
   "cell_type":"code",
   "source":[
    
   ],
   "execution_count":null,
   "outputs":[
    
   ],
   "metadata":{
    "datalore":{
     "node_id":"xdU9vZptAOtJnm3KoSUCtn",
     "type":"CODE",
     "hide_input_from_viewers":true,
     "hide_output_from_viewers":true
    }
   }
  },
  {
   "cell_type":"code",
   "source":[
    
   ],
   "execution_count":5,
   "outputs":[
    {
     "name":"stdout",
     "text":[
      "BMI osoby je: 22.857142857142858\n",
      "Interpretácia: Normálna váha\n"
     ],
     "output_type":"stream"
    }
   ],
   "metadata":{
    "datalore":{
     "node_id":"RYozsm6gBvHyKCmj1eZwnx",
     "type":"CODE",
     "hide_input_from_viewers":true,
     "hide_output_from_viewers":true
    }
   }
  },
  {
   "cell_type":"markdown",
   "source":[
    "# 📘 Mutovateľnosť\/Nemutovateľnosť\n",
    "* Príklady **mutable** objektov: list, set, dict, byte array  \n",
    "* Príklady **immutable** objektov: number (int, float, complex), string, tuple, frozen set, bytes"
   ],
   "attachments":{
    
   },
   "metadata":{
    "datalore":{
     "node_id":"PjrSyITUWLIhGaXHwNV29o",
     "type":"MD",
     "hide_input_from_viewers":false,
     "hide_output_from_viewers":false,
     "report_properties":{
      "rowId":"e3SflrAZQKNNp9Bvno12Hw"
     }
    }
   }
  },
  {
   "cell_type":"code",
   "source":[
    
   ],
   "execution_count":null,
   "outputs":[
    {
     "name":"stdout",
     "text":[
      "Lezi...\n",
      "Spi a je mu dobre...\n",
      "\n",
      "Ako sa vola: Lassie\n",
      "Aka je to rasa: Kolia\n",
      "Kolko ma rokov: 0\n",
      "\n",
      "Ako sa vola: \n",
      "Aka je to rasa: \n",
      "Kolko ma rokov: 0\n",
      "\n",
      "Ako sa vola: Rexik\n",
      "Aka je to rasa: Ovciak\n",
      "Kolko ma rokov: 5\n",
      "Spi a je mu dobre...\n"
     ],
     "output_type":"stream"
    }
   ],
   "metadata":{
    "datalore":{
     "node_id":"2FS7Rvv9XwbktAMfTP8Zla",
     "type":"CODE",
     "hide_input_from_viewers":true,
     "hide_output_from_viewers":true
    }
   }
  },
  {
   "cell_type":"code",
   "source":[
    
   ],
   "execution_count":null,
   "outputs":[
    {
     "name":"stdout",
     "text":[
      "140697471490272\n",
      "140697471809520\n",
      "luigi2 id: 140697471483472\n",
      "doge id: 140697471692752\n",
      "Su objekty doge a luigi2 rovnake: False\n",
      "Su objekty doge a luigi2 rovnake: False\n",
      "\n",
      "doge id: 140697471483472\n",
      "luigi2 id: 140697471483472\n",
      "Su objekty doge a luigi2 rovnake: True\n",
      "Su objekty doge a luigi2 rovnake: True\n"
     ],
     "output_type":"stream"
    }
   ],
   "metadata":{
    "datalore":{
     "node_id":"hPVqVqBZq8lSiiWR3ik8eb",
     "type":"CODE",
     "hide_input_from_viewers":true,
     "hide_output_from_viewers":true
    }
   }
  },
  {
   "cell_type":"code",
   "source":[
    
   ],
   "execution_count":null,
   "outputs":[
    {
     "name":"stdout",
     "text":[
      "a ma id 140697540219200\n",
      "b ma id 140697540219200\n",
      "c ma id 140697540219200\n",
      "d ma id 140697540219200\n",
      "a is d True\n",
      "a is b True\n"
     ],
     "output_type":"stream"
    }
   ],
   "metadata":{
    "datalore":{
     "node_id":"ma8fZBrXex6YgiGZHYp5JS",
     "type":"CODE",
     "hide_input_from_viewers":true,
     "hide_output_from_viewers":true
    }
   }
  },
  {
   "cell_type":"markdown",
   "source":[
    "# 🙆 Príklady z Praxe OOP"
   ],
   "attachments":{
    
   },
   "metadata":{
    "datalore":{
     "node_id":"A2HCi5l3ziRYBargIO6emM",
     "type":"MD",
     "hide_input_from_viewers":true,
     "hide_output_from_viewers":true
    }
   }
  },
  {
   "cell_type":"markdown",
   "source":[
    "## 🧾 GUI Formuláre (Graphical User Interface)"
   ],
   "attachments":{
    
   },
   "metadata":{
    "datalore":{
     "node_id":"uWlGxGTRXfJXMQoQERJdLZ",
     "type":"MD",
     "hide_input_from_viewers":true,
     "hide_output_from_viewers":true
    }
   }
  },
  {
   "cell_type":"code",
   "source":[
    
   ],
   "execution_count":null,
   "outputs":[
    
   ],
   "metadata":{
    "datalore":{
     "node_id":"bOdGvTqpF3ml5HSFRoz1Xx",
     "type":"CODE",
     "hide_input_from_viewers":true,
     "hide_output_from_viewers":true
    }
   }
  },
  {
   "cell_type":"code",
   "source":[
    
   ],
   "execution_count":null,
   "outputs":[
    
   ],
   "metadata":{
    "datalore":{
     "node_id":"9sDjJsipro2qMTRTywbSdD",
     "type":"CODE",
     "hide_input_from_viewers":true,
     "hide_output_from_viewers":true
    }
   }
  },
  {
   "cell_type":"markdown",
   "source":[
    "## 🖨️ Modul pprint\n",
    "\n",
    "Poskytuje možnosť **„pekne vytlačiť“** ľubovoľné **dátové štruktúry Pythonu vo forme**, ktorú možno použiť ako vstup pre interpreta. \n",
    "\n",
    "Ak formátované štruktúry obsahujú objekty, ktoré nie sú základnými typmi Pythonu, reprezentáciu možno nebude možné načítať. To môže byť prípad, ak sú zahrnuté objekty, ako sú súbory, sockety alebo triedy, ako aj mnohé iné objekty, ktoré nie sú reprezentovateľné ako literály Pythonu.\n",
    "\n",
    "Formátovaná reprezentácia udržiava objekty na **jednom riadku**, ak je to možné, a **rozdeľuje ich** na **viacero riadkov**, ak sa **nezmestia do povolenej šírky**. Objekty PrettyPrinter vytvorte explicitne, ak potrebujete upraviť obmedzenie šírky. "
   ],
   "attachments":{
    
   },
   "metadata":{
    "datalore":{
     "node_id":"KaES0yAqhrBk0E9LFItB39",
     "type":"MD",
     "hide_input_from_viewers":true,
     "hide_output_from_viewers":true
    }
   }
  },
  {
   "cell_type":"code",
   "source":[
    " "
   ],
   "execution_count":2,
   "outputs":[
    {
     "name":"stdout",
     "text":[
      "[   ['spam', 'eggs', 'lumberjack', 'knights', 'ni'],\n",
      "    'spam',\n",
      "    'eggs',\n",
      "    'lumberjack',\n",
      "    'knights',\n",
      "    'ni']\n",
      "[['spam', 'eggs', 'lumberjack',\n",
      "  'knights', 'ni'],\n",
      " 'spam', 'eggs', 'lumberjack', 'knights',\n",
      " 'ni']\n",
      "('spam', ('eggs', ('lumberjack', ('knights', ('ni', ('dead', (...)))))))\n"
     ],
     "output_type":"stream"
    }
   ],
   "metadata":{
    "datalore":{
     "node_id":"MxmD6wSzcCZ1FoM3kz1pYv",
     "type":"CODE",
     "hide_input_from_viewers":true,
     "hide_output_from_viewers":true
    }
   }
  },
  {
   "cell_type":"code",
   "source":[
    " "
   ],
   "execution_count":7,
   "outputs":[
    {
     "name":"stdout",
     "text":[
      "[['spam', 'eggs', 'lumberjack', 'knights', 'ni'], 'spam', 'eggs', 'lumberjack', 'knights', 'ni']\n",
      "('spam', ('eggs', ('lumberjack', ('knights', ('ni', ('dead', ('parrot', ('fresh fruit',))))))))\n"
     ],
     "output_type":"stream"
    }
   ],
   "metadata":{
    "datalore":{
     "node_id":"0t2x9mKXaYMYYY2dYpoPWX",
     "type":"CODE",
     "hide_input_from_viewers":true,
     "hide_output_from_viewers":true
    }
   }
  },
  {
   "cell_type":"code",
   "source":[
    " "
   ],
   "execution_count":3,
   "outputs":[
    {
     "name":"stdout",
     "text":[
      "{'author': '',\n",
      " 'author_email': '\"A. Random Developer\" <author@example.com>',\n",
      " 'bugtrack_url': None,\n",
      " 'classifiers': ['Development Status :: 3 - Alpha',\n",
      "                 'Intended Audience :: Developers',\n",
      "                 'License :: OSI Approved :: MIT License',\n",
      "                 'Programming Language :: Python :: 3',\n",
      "                 'Programming Language :: Python :: 3 :: Only',\n",
      "                 'Programming Language :: Python :: 3.10',\n",
      "                 'Programming Language :: Python :: 3.11',\n",
      "                 'Programming Language :: Python :: 3.7',\n",
      "                 'Programming Language :: Python :: 3.8',\n",
      "                 'Programming Language :: Python :: 3.9',\n",
      "                 'Topic :: Software Development :: Build Tools'],\n",
      " 'description': '# A sample Python project\\n'\n",
      "                '\\n'\n",
      "                '![Python '\n",
      "                'Logo](https:\/\/www.python.org\/static\/community_logos\/python-logo.png '\n",
      "                '\"Sample inline image\")\\n'\n",
      "                '\\n'\n",
      "                'A sample project that exists as an aid to the [Python '\n",
      "                'Packaging User\\n'\n",
      "                \"Guide][packaging guide]'s [Tutorial on Packaging and \"\n",
      "                'Distributing\\n'\n",
      "                'Projects][distribution tutorial].\\n'\n",
      "                '\\n'\n",
      "                'This project does not aim to cover best practices for Python '\n",
      "                'project\\n'\n",
      "                'development as a whole. For example, it does not provide '\n",
      "                'guidance or tool\\n'\n",
      "                'recommendations for version control, documentation, or '\n",
      "                'testing.\\n'\n",
      "                '\\n'\n",
      "                '[The source for this project is available here][src].\\n'\n",
      "                '\\n'\n",
      "                'The metadata for a Python project is defined in the '\n",
      "                '`pyproject.toml` file,\\n'\n",
      "                'an example of which is included in this project. You should '\n",
      "                'edit this file\\n'\n",
      "                'accordingly to adapt this sample project to your needs.\\n'\n",
      "                '\\n'\n",
      "                '----\\n'\n",
      "                '\\n'\n",
      "                'This is the README file for the project.\\n'\n",
      "                '\\n'\n",
      "                'The file should use UTF-8 encoding and can be written using\\n'\n",
      "                '[reStructuredText][rst] or [markdown][md use] with the '\n",
      "                'appropriate [key set][md\\n'\n",
      "                'use]. It will be used to generate the project webpage on PyPI '\n",
      "                'and will be\\n'\n",
      "                'displayed as the project homepage on common code-hosting '\n",
      "                'services, and should be\\n'\n",
      "                'written for that purpose.\\n'\n",
      "                '\\n'\n",
      "                'Typical contents for this file would include an overview of '\n",
      "                'the project, basic\\n'\n",
      "                'usage examples, etc. Generally, including the project '\n",
      "                'changelog in here is not a\\n'\n",
      "                \"good idea, although a simple “What's New” section for the \"\n",
      "                'most recent version\\n'\n",
      "                'may be appropriate.\\n'\n",
      "                '\\n'\n",
      "                '[packaging guide]: https:\/\/packaging.python.org\\n'\n",
      "                '[distribution tutorial]: '\n",
      "                'https:\/\/packaging.python.org\/tutorials\/packaging-projects\/\\n'\n",
      "                '[src]: https:\/\/github.com\/pypa\/sampleproject\\n'\n",
      "                '[rst]: http:\/\/docutils.sourceforge.net\/rst.html\\n'\n",
      "                '[md]: https:\/\/tools.ietf.org\/html\/rfc7764#section-3.5 '\n",
      "                '\"CommonMark variant\"\\n'\n",
      "                '[md use]: '\n",
      "                'https:\/\/packaging.python.org\/specifications\/core-metadata\/#description-content-type-optional\\n',\n",
      " 'description_content_type': 'text\/markdown',\n",
      " 'docs_url': None,\n",
      " 'download_url': '',\n",
      " 'downloads': {'last_day': -1, 'last_month': -1, 'last_week': -1},\n",
      " 'home_page': '',\n",
      " 'keywords': 'sample,setuptools,development',\n",
      " 'license': 'Copyright (c) 2016 The Python Packaging Authority (PyPA)  '\n",
      "            'Permission is hereby granted, free of charge, to any person '\n",
      "            'obtaining a copy of this software and associated documentation '\n",
      "            'files (the \"Software\"), to deal in the Software without '\n",
      "            'restriction, including without limitation the rights to use, '\n",
      "            'copy, modify, merge, publish, distribute, sublicense, and\/or sell '\n",
      "            'copies of the Software, and to permit persons to whom the '\n",
      "            'Software is furnished to do so, subject to the following '\n",
      "            'conditions:  The above copyright notice and this permission '\n",
      "            'notice shall be included in all copies or substantial portions of '\n",
      "            'the Software.  THE SOFTWARE IS PROVIDED \"AS IS\", WITHOUT WARRANTY '\n",
      "            'OF ANY KIND, EXPRESS OR IMPLIED, INCLUDING BUT NOT LIMITED TO THE '\n",
      "            'WARRANTIES OF MERCHANTABILITY, FITNESS FOR A PARTICULAR PURPOSE '\n",
      "            'AND NONINFRINGEMENT. IN NO EVENT SHALL THE AUTHORS OR COPYRIGHT '\n",
      "            'HOLDERS BE LIABLE FOR ANY CLAIM, DAMAGES OR OTHER LIABILITY, '\n",
      "            'WHETHER IN AN ACTION OF CONTRACT, TORT OR OTHERWISE, ARISING '\n",
      "            'FROM, OUT OF OR IN CONNECTION WITH THE SOFTWARE OR THE USE OR '\n",
      "            'OTHER DEALINGS IN THE SOFTWARE. ',\n",
      " 'maintainer': '',\n",
      " 'maintainer_email': '\"A. Great Maintainer\" <maintainer@example.com>',\n",
      " 'name': 'sampleproject',\n",
      " 'package_url': 'https:\/\/pypi.org\/project\/sampleproject\/',\n",
      " 'platform': None,\n",
      " 'project_url': 'https:\/\/pypi.org\/project\/sampleproject\/',\n",
      " 'project_urls': {'Bug Reports': 'https:\/\/github.com\/pypa\/sampleproject\/issues',\n",
      "                  'Funding': 'https:\/\/donate.pypi.org',\n",
      "                  'Homepage': 'https:\/\/github.com\/pypa\/sampleproject',\n",
      "                  'Say Thanks!': 'http:\/\/saythanks.io\/to\/example',\n",
      "                  'Source': 'https:\/\/github.com\/pypa\/sampleproject\/'},\n",
      " 'release_url': 'https:\/\/pypi.org\/project\/sampleproject\/3.0.0\/',\n",
      " 'requires_dist': ['peppercorn',\n",
      "                   \"check-manifest ; extra == 'dev'\",\n",
      "                   \"coverage ; extra == 'test'\"],\n",
      " 'requires_python': '>=3.7',\n",
      " 'summary': 'A sample Python project',\n",
      " 'version': '3.0.0',\n",
      " 'yanked': False,\n",
      " 'yanked_reason': None}\n"
     ],
     "output_type":"stream"
    }
   ],
   "metadata":{
    "datalore":{
     "node_id":"gTHBHdap1Ng5TZOizCjGqM",
     "type":"CODE",
     "hide_input_from_viewers":true,
     "hide_output_from_viewers":true
    }
   }
  },
  {
   "cell_type":"code",
   "source":[
    " "
   ],
   "execution_count":5,
   "outputs":[
    {
     "name":"stdout",
     "text":[
      "{'author': '', 'author_email': '\"A. Random Developer\" <author@example.com>', 'bugtrack_url': None, 'classifiers': ['Development Status :: 3 - Alpha', 'Intended Audience :: Developers', 'License :: OSI Approved :: MIT License', 'Programming Language :: Python :: 3', 'Programming Language :: Python :: 3 :: Only', 'Programming Language :: Python :: 3.10', 'Programming Language :: Python :: 3.11', 'Programming Language :: Python :: 3.7', 'Programming Language :: Python :: 3.8', 'Programming Language :: Python :: 3.9', 'Topic :: Software Development :: Build Tools'], 'description': '# A sample Python project\\n\\n![Python Logo](https:\/\/www.python.org\/static\/community_logos\/python-logo.png \"Sample inline image\")\\n\\nA sample project that exists as an aid to the [Python Packaging User\\nGuide][packaging guide]\\'s [Tutorial on Packaging and Distributing\\nProjects][distribution tutorial].\\n\\nThis project does not aim to cover best practices for Python project\\ndevelopment as a whole. For example, it does not provide guidance or tool\\nrecommendations for version control, documentation, or testing.\\n\\n[The source for this project is available here][src].\\n\\nThe metadata for a Python project is defined in the `pyproject.toml` file,\\nan example of which is included in this project. You should edit this file\\naccordingly to adapt this sample project to your needs.\\n\\n----\\n\\nThis is the README file for the project.\\n\\nThe file should use UTF-8 encoding and can be written using\\n[reStructuredText][rst] or [markdown][md use] with the appropriate [key set][md\\nuse]. It will be used to generate the project webpage on PyPI and will be\\ndisplayed as the project homepage on common code-hosting services, and should be\\nwritten for that purpose.\\n\\nTypical contents for this file would include an overview of the project, basic\\nusage examples, etc. Generally, including the project changelog in here is not a\\ngood idea, although a simple “What\\'s New” section for the most recent version\\nmay be appropriate.\\n\\n[packaging guide]: https:\/\/packaging.python.org\\n[distribution tutorial]: https:\/\/packaging.python.org\/tutorials\/packaging-projects\/\\n[src]: https:\/\/github.com\/pypa\/sampleproject\\n[rst]: http:\/\/docutils.sourceforge.net\/rst.html\\n[md]: https:\/\/tools.ietf.org\/html\/rfc7764#section-3.5 \"CommonMark variant\"\\n[md use]: https:\/\/packaging.python.org\/specifications\/core-metadata\/#description-content-type-optional\\n', 'description_content_type': 'text\/markdown', 'docs_url': None, 'download_url': '', 'downloads': {'last_day': -1, 'last_month': -1, 'last_week': -1}, 'home_page': '', 'keywords': 'sample,setuptools,development', 'license': 'Copyright (c) 2016 The Python Packaging Authority (PyPA)  Permission is hereby granted, free of charge, to any person obtaining a copy of this software and associated documentation files (the \"Software\"), to deal in the Software without restriction, including without limitation the rights to use, copy, modify, merge, publish, distribute, sublicense, and\/or sell copies of the Software, and to permit persons to whom the Software is furnished to do so, subject to the following conditions:  The above copyright notice and this permission notice shall be included in all copies or substantial portions of the Software.  THE SOFTWARE IS PROVIDED \"AS IS\", WITHOUT WARRANTY OF ANY KIND, EXPRESS OR IMPLIED, INCLUDING BUT NOT LIMITED TO THE WARRANTIES OF MERCHANTABILITY, FITNESS FOR A PARTICULAR PURPOSE AND NONINFRINGEMENT. IN NO EVENT SHALL THE AUTHORS OR COPYRIGHT HOLDERS BE LIABLE FOR ANY CLAIM, DAMAGES OR OTHER LIABILITY, WHETHER IN AN ACTION OF CONTRACT, TORT OR OTHERWISE, ARISING FROM, OUT OF OR IN CONNECTION WITH THE SOFTWARE OR THE USE OR OTHER DEALINGS IN THE SOFTWARE. ', 'maintainer': '', 'maintainer_email': '\"A. Great Maintainer\" <maintainer@example.com>', 'name': 'sampleproject', 'package_url': 'https:\/\/pypi.org\/project\/sampleproject\/', 'platform': None, 'project_url': 'https:\/\/pypi.org\/project\/sampleproject\/', 'project_urls': {'Bug Reports': 'https:\/\/github.com\/pypa\/sampleproject\/issues', 'Funding': 'https:\/\/donate.pypi.org', 'Homepage': 'https:\/\/github.com\/pypa\/sampleproject', 'Say Thanks!': 'http:\/\/saythanks.io\/to\/example', 'Source': 'https:\/\/github.com\/pypa\/sampleproject\/'}, 'release_url': 'https:\/\/pypi.org\/project\/sampleproject\/3.0.0\/', 'requires_dist': ['peppercorn', \"check-manifest ; extra == 'dev'\", \"coverage ; extra == 'test'\"], 'requires_python': '>=3.7', 'summary': 'A sample Python project', 'version': '3.0.0', 'yanked': False, 'yanked_reason': None}\n"
     ],
     "output_type":"stream"
    }
   ],
   "metadata":{
    "datalore":{
     "node_id":"YH3rGmjy4xJLwcYtbL6PMB",
     "type":"CODE",
     "hide_input_from_viewers":true,
     "hide_output_from_viewers":true
    }
   }
  },
  {
   "cell_type":"code",
   "source":[
    " "
   ],
   "execution_count":4,
   "outputs":[
    {
     "name":"stdout",
     "text":[
      "{'author': '',\n",
      " 'author_email': '\"A. Random Developer\" <author@example.com>',\n",
      " 'bugtrack_url': None,\n",
      " 'classifiers': [...],\n",
      " 'description': '# A sample Python project\\n'\n",
      "                '\\n'\n",
      "                '![Python '\n",
      "                'Logo](https:\/\/www.python.org\/static\/community_logos\/python-logo.png '\n",
      "                '\"Sample inline image\")\\n'\n",
      "                '\\n'\n",
      "                'A sample project that exists as an aid to the [Python '\n",
      "                'Packaging User\\n'\n",
      "                \"Guide][packaging guide]'s [Tutorial on Packaging and \"\n",
      "                'Distributing\\n'\n",
      "                'Projects][distribution tutorial].\\n'\n",
      "                '\\n'\n",
      "                'This project does not aim to cover best practices for Python '\n",
      "                'project\\n'\n",
      "                'development as a whole. For example, it does not provide '\n",
      "                'guidance or tool\\n'\n",
      "                'recommendations for version control, documentation, or '\n",
      "                'testing.\\n'\n",
      "                '\\n'\n",
      "                '[The source for this project is available here][src].\\n'\n",
      "                '\\n'\n",
      "                'The metadata for a Python project is defined in the '\n",
      "                '`pyproject.toml` file,\\n'\n",
      "                'an example of which is included in this project. You should '\n",
      "                'edit this file\\n'\n",
      "                'accordingly to adapt this sample project to your needs.\\n'\n",
      "                '\\n'\n",
      "                '----\\n'\n",
      "                '\\n'\n",
      "                'This is the README file for the project.\\n'\n",
      "                '\\n'\n",
      "                'The file should use UTF-8 encoding and can be written using\\n'\n",
      "                '[reStructuredText][rst] or [markdown][md use] with the '\n",
      "                'appropriate [key set][md\\n'\n",
      "                'use]. It will be used to generate the project webpage on PyPI '\n",
      "                'and will be\\n'\n",
      "                'displayed as the project homepage on common code-hosting '\n",
      "                'services, and should be\\n'\n",
      "                'written for that purpose.\\n'\n",
      "                '\\n'\n",
      "                'Typical contents for this file would include an overview of '\n",
      "                'the project, basic\\n'\n",
      "                'usage examples, etc. Generally, including the project '\n",
      "                'changelog in here is not a\\n'\n",
      "                \"good idea, although a simple “What's New” section for the \"\n",
      "                'most recent version\\n'\n",
      "                'may be appropriate.\\n'\n",
      "                '\\n'\n",
      "                '[packaging guide]: https:\/\/packaging.python.org\\n'\n",
      "                '[distribution tutorial]: '\n",
      "                'https:\/\/packaging.python.org\/tutorials\/packaging-projects\/\\n'\n",
      "                '[src]: https:\/\/github.com\/pypa\/sampleproject\\n'\n",
      "                '[rst]: http:\/\/docutils.sourceforge.net\/rst.html\\n'\n",
      "                '[md]: https:\/\/tools.ietf.org\/html\/rfc7764#section-3.5 '\n",
      "                '\"CommonMark variant\"\\n'\n",
      "                '[md use]: '\n",
      "                'https:\/\/packaging.python.org\/specifications\/core-metadata\/#description-content-type-optional\\n',\n",
      " 'description_content_type': 'text\/markdown',\n",
      " 'docs_url': None,\n",
      " 'download_url': '',\n",
      " 'downloads': {...},\n",
      " 'home_page': '',\n",
      " 'keywords': 'sample,setuptools,development',\n",
      " 'license': 'Copyright (c) 2016 The Python Packaging Authority (PyPA)  '\n",
      "            'Permission is hereby granted, free of charge, to any person '\n",
      "            'obtaining a copy of this software and associated documentation '\n",
      "            'files (the \"Software\"), to deal in the Software without '\n",
      "            'restriction, including without limitation the rights to use, '\n",
      "            'copy, modify, merge, publish, distribute, sublicense, and\/or sell '\n",
      "            'copies of the Software, and to permit persons to whom the '\n",
      "            'Software is furnished to do so, subject to the following '\n",
      "            'conditions:  The above copyright notice and this permission '\n",
      "            'notice shall be included in all copies or substantial portions of '\n",
      "            'the Software.  THE SOFTWARE IS PROVIDED \"AS IS\", WITHOUT WARRANTY '\n",
      "            'OF ANY KIND, EXPRESS OR IMPLIED, INCLUDING BUT NOT LIMITED TO THE '\n",
      "            'WARRANTIES OF MERCHANTABILITY, FITNESS FOR A PARTICULAR PURPOSE '\n",
      "            'AND NONINFRINGEMENT. IN NO EVENT SHALL THE AUTHORS OR COPYRIGHT '\n",
      "            'HOLDERS BE LIABLE FOR ANY CLAIM, DAMAGES OR OTHER LIABILITY, '\n",
      "            'WHETHER IN AN ACTION OF CONTRACT, TORT OR OTHERWISE, ARISING '\n",
      "            'FROM, OUT OF OR IN CONNECTION WITH THE SOFTWARE OR THE USE OR '\n",
      "            'OTHER DEALINGS IN THE SOFTWARE. ',\n",
      " 'maintainer': '',\n",
      " 'maintainer_email': '\"A. Great Maintainer\" <maintainer@example.com>',\n",
      " 'name': 'sampleproject',\n",
      " 'package_url': 'https:\/\/pypi.org\/project\/sampleproject\/',\n",
      " 'platform': None,\n",
      " 'project_url': 'https:\/\/pypi.org\/project\/sampleproject\/',\n",
      " 'project_urls': {...},\n",
      " 'release_url': 'https:\/\/pypi.org\/project\/sampleproject\/3.0.0\/',\n",
      " 'requires_dist': [...],\n",
      " 'requires_python': '>=3.7',\n",
      " 'summary': 'A sample Python project',\n",
      " 'version': '3.0.0',\n",
      " 'yanked': False,\n",
      " 'yanked_reason': None}\n"
     ],
     "output_type":"stream"
    }
   ],
   "metadata":{
    "datalore":{
     "node_id":"RMDa6BYuXI2FuhbTGLEXKV",
     "type":"CODE",
     "hide_input_from_viewers":true,
     "hide_output_from_viewers":true
    }
   }
  },
  {
   "cell_type":"markdown",
   "source":[
    "# Regulárne Výrazy"
   ],
   "attachments":{
    
   },
   "metadata":{
    "datalore":{
     "node_id":"Regulárne Výrazy",
     "type":"MD",
     "hide_input_from_viewers":false,
     "hide_output_from_viewers":false,
     "sheet_delimiter":true
    }
   }
  },
  {
   "cell_type":"markdown",
   "source":[
    "# 📟 Regulárne Výrazy (Regular Expressions Regex)\n",
    "\n",
    "https:\/\/docs.python.org\/3\/library\/re.html\n",
    "\n",
    "Modul re poskytuje **operácie porovnávania regulárnych výrazov** podobné tým, ktoré sa nachádzajú v Perle.\n",
    "\n",
    "Vzory aj reťazce, ktoré sa majú vyhľadávať, môžu byť **reťazce Unicode (str)**, ako aj **8-bitové reťazce (bajty)**. \n",
    "\n",
    "**Reťazce Unicode a 8-bitové reťazce však nemožno kombinovať**: to znamená, že reťazec Unicode nemôžete priradiť k bajtovému vzoru alebo naopak; podobne, keď žiadate o nahradenie, náhradný reťazec musí byť rovnakého typu ako vzor aj hľadaný reťazec.\n",
    "\n",
    "**Regulárne výrazy používajú znak spätnej lomky ('\\')** na označenie špeciálnych foriem alebo na umožnenie použitia špeciálnych znakov bez vyvolania ich špeciálneho významu. Toto koliduje s tým, že Python používa rovnaký znak na rovnaký účel v reťazcových literáloch; napríklad, aby ste zodpovedali **doslovnej spätnej lomke, možno budete musieť napísať '\\\\\\\\'** ako reťazec vzoru, pretože **regulárny výraz musí byť \\\\** a každá spätná lomka musí byť vyjadrená ako \\\\ vnútri bežného reťazcového literálu Pythonu"
   ],
   "attachments":{
    
   },
   "metadata":{
    "datalore":{
     "node_id":"Xs30zyj04MssIRuKPnXp8R",
     "type":"MD",
     "hide_input_from_viewers":true,
     "hide_output_from_viewers":true
    }
   }
  },
  {
   "cell_type":"code",
   "source":[
    " "
   ],
   "execution_count":15,
   "outputs":[
    {
     "name":"stdout",
     "text":[
      "txt: Dnes je pekný den a vysledok: <re.Match object; span=(0, 17), match='Dnes je pekný den'>\n"
     ],
     "output_type":"stream"
    }
   ],
   "metadata":{
    "datalore":{
     "node_id":"J4aAz8XEQXVyG4mWWzRLOV",
     "type":"CODE",
     "hide_input_from_viewers":true,
     "hide_output_from_viewers":true
    }
   }
  },
  {
   "cell_type":"code",
   "source":[
    " "
   ],
   "execution_count":17,
   "outputs":[
    {
     "name":"stdout",
     "text":[
      "txt: Dnes je pekný den aj zajtra bude pekný den a vysledok: ['den', 'den']\n",
      "txt: Dnes je pekný den aj zajtra bude pekný den a vysledok: []\n"
     ],
     "output_type":"stream"
    }
   ],
   "metadata":{
    "datalore":{
     "node_id":"5fSnJTm5zVrZWWs8nEdid4",
     "type":"CODE",
     "hide_input_from_viewers":true,
     "hide_output_from_viewers":true
    }
   }
  },
  {
   "cell_type":"code",
   "source":[
    " "
   ],
   "execution_count":21,
   "outputs":[
    {
     "name":"stdout",
     "text":[
      "Prvý biely znak (medzera) je umiestnený na pozícii: 4\n"
     ],
     "output_type":"stream"
    }
   ],
   "metadata":{
    "datalore":{
     "node_id":"9yenOkb6m4rMyzozrCpVh9",
     "type":"CODE",
     "hide_input_from_viewers":true,
     "hide_output_from_viewers":true
    }
   }
  },
  {
   "cell_type":"code",
   "source":[
    " "
   ],
   "execution_count":23,
   "outputs":[
    {
     "ename":"AttributeError",
     "evalue":"AttributeError: 'NoneType' object has no attribute 'start'",
     "traceback":[
      "\u001b[0;31m---------------------------------------------------------------------------",
      "Traceback (most recent call last)",
      "    at line 6 in <module>",
      "AttributeError: 'NoneType' object has no attribute 'start'"
     ],
     "output_type":"error"
    }
   ],
   "metadata":{
    "datalore":{
     "node_id":"D1So2FN2SF9QxqU45MCQsn",
     "type":"CODE",
     "hide_input_from_viewers":true,
     "hide_output_from_viewers":true
    }
   }
  },
  {
   "cell_type":"code",
   "source":[
    " "
   ],
   "execution_count":25,
   "outputs":[
    {
     "name":"stdout",
     "text":[
      "Str -> List: ['Dnes', 'je', 'pekný', 'den', 'aj', 'zajtra', 'bude', 'pekný', 'den']\n"
     ],
     "output_type":"stream"
    }
   ],
   "metadata":{
    "datalore":{
     "node_id":"5U4FRWZqxtVsIuRAaauWma",
     "type":"CODE",
     "hide_input_from_viewers":true,
     "hide_output_from_viewers":true
    }
   }
  },
  {
   "cell_type":"code",
   "source":[
    " "
   ],
   "execution_count":26,
   "outputs":[
    {
     "name":"stdout",
     "text":[
      "Str -> List: ['Dnes', 'je pekný den aj zajtra bude pekný den']\n"
     ],
     "output_type":"stream"
    }
   ],
   "metadata":{
    "datalore":{
     "node_id":"7Y3C4SQ7cLc01iKnGHedbX",
     "type":"CODE",
     "hide_input_from_viewers":true,
     "hide_output_from_viewers":true
    }
   }
  },
  {
   "cell_type":"code",
   "source":[
    " "
   ],
   "execution_count":30,
   "outputs":[
    {
     "name":"stdout",
     "text":[
      "Dnes👍je👍pekný👍den👍aj👍zajtra👍bude👍pekný👍den\n"
     ],
     "output_type":"stream"
    }
   ],
   "metadata":{
    "datalore":{
     "node_id":"H55QVnPM5QSPLzuneX9Lab",
     "type":"CODE",
     "hide_input_from_viewers":true,
     "hide_output_from_viewers":true
    }
   }
  },
  {
   "cell_type":"code",
   "source":[
    " "
   ],
   "execution_count":32,
   "outputs":[
    {
     "name":"stdout",
     "text":[
      "Dnes👍je👍pekný den aj zajtra bude pekný den\n"
     ],
     "output_type":"stream"
    }
   ],
   "metadata":{
    "datalore":{
     "node_id":"iKTNnnzBxKEySJi7gGIV5i",
     "type":"CODE",
     "hide_input_from_viewers":true,
     "hide_output_from_viewers":true
    }
   }
  },
  {
   "cell_type":"code",
   "source":[
    " "
   ],
   "execution_count":38,
   "outputs":[
    {
     "name":"stdout",
     "text":[
      "<re.Match object; span=(14, 17), match='den'>\n",
      "1. span: (14, 17)\n",
      "2. string: Dnes je pekný den aj zajtra bude pekný den\n",
      "3. string: den\n"
     ],
     "output_type":"stream"
    }
   ],
   "metadata":{
    "datalore":{
     "node_id":"0hO5CLq1ksNKP7uBS08gSr",
     "type":"CODE",
     "hide_input_from_viewers":true,
     "hide_output_from_viewers":true
    }
   }
  },
  {
   "cell_type":"code",
   "source":[
    " "
   ],
   "execution_count":11,
   "outputs":[
    {
     "name":"stdout",
     "text":[
      "Zoznam necislovany krajin obsahujuce land|stan:\n",
      "✅ Afghanistan\n",
      "✅ Finland\n",
      "✅ Iceland\n",
      "✅ Netherlands\n",
      "✅ Poland\n",
      "✅ Switzerland\n",
      "\n",
      "Zoznam cislovany krajin obsahujuce land|stan:\n",
      "1 Afghanistan\n",
      "5 Finland\n",
      "7 Iceland\n",
      "8 Netherlands\n",
      "9 Poland\n",
      "12 Switzerland\n"
     ],
     "output_type":"stream"
    }
   ],
   "metadata":{
    "datalore":{
     "node_id":"FH0CK8WPYSfQesg013Z6cA",
     "type":"CODE",
     "hide_input_from_viewers":true,
     "hide_output_from_viewers":true
    }
   }
  },
  {
   "cell_type":"markdown",
   "source":[
    "# Reťazce"
   ],
   "attachments":{
    
   },
   "metadata":{
    "datalore":{
     "node_id":"Reťazce",
     "type":"MD",
     "hide_input_from_viewers":false,
     "hide_output_from_viewers":false,
     "sheet_delimiter":true
    }
   }
  },
  {
   "cell_type":"markdown",
   "source":[
    "# ⛓️‍💥Spájanie Reťazcov (Concatenating strings)\n",
    "\n",
    "Efektivita (Základné pravidlo optimalizácie)  \n",
    "Bez zbytočného presunu\/pohybu údajov  \n",
    "Stačí poznať Python spôsoby a vyhnete sa správaniu so zložitosťou O(n**2) namiesto lineárneho správania  "
   ],
   "attachments":{
    
   },
   "metadata":{
    "datalore":{
     "node_id":"G2QqK3dCakT9LK1i72hY8b",
     "type":"MD",
     "hide_input_from_viewers":true,
     "hide_output_from_viewers":true
    }
   }
  },
  {
   "cell_type":"code",
   "source":[
    "studenti = ['Adam', 'Rachel', 'Matej', 'Radoslav',\n",
    "'Brano', 'Maros', 'Julia', 'Cyril']\n",
    "\n",
    " "
   ],
   "execution_count":56,
   "outputs":[
    {
     "name":"stdout",
     "text":[
      "1. Spôsob klasický\n",
      "Adam, Rachel, Matej, Radoslav, Brano, Maros, Julia, Cyril\n",
      "\n",
      "2. Spôsob Python\n",
      "Adam, Rachel, Matej, Radoslav, Brano, Maros, Julia, Cyril\n"
     ],
     "output_type":"stream"
    }
   ],
   "metadata":{
    "datalore":{
     "node_id":"8MrGgSvPYwFpkD4AfFSlbm",
     "type":"CODE",
     "hide_input_from_viewers":true,
     "hide_output_from_viewers":true
    }
   }
  },
  {
   "cell_type":"code",
   "source":[
    " "
   ],
   "execution_count":54,
   "outputs":[
    {
     "name":"stdout",
     "text":[
      "1. Spôsob klasický\n",
      "('Adam', 'Sangala', 48, 'python@hpc.sk')\n",
      "('Adam', 'Sangala', 48, 'python@hpc.sk')\n",
      "\n",
      "2. Spôsob Python\n",
      "('Adam', 'Sangala', 48, 'python@hpc.sk')\n"
     ],
     "output_type":"stream"
    }
   ],
   "metadata":{
    "datalore":{
     "node_id":"IikUoOvMJTXeoaObWpD3zV",
     "type":"CODE",
     "hide_input_from_viewers":true,
     "hide_output_from_viewers":true
    }
   }
  },
  {
   "cell_type":"markdown",
   "source":[
    "# 🌀 Aktualizácia Sekvencií (Updating Sequences)"
   ],
   "attachments":{
    
   },
   "metadata":{
    "datalore":{
     "node_id":"l96b9iqr0vqNxEXKziWzfE",
     "type":"MD",
     "hide_input_from_viewers":true,
     "hide_output_from_viewers":true
    }
   }
  },
  {
   "cell_type":"code",
   "source":[
    " "
   ],
   "execution_count":61,
   "outputs":[
    {
     "name":"stdout",
     "text":[
      "1. Spôsob klasický\n",
      "Zoznam studentov1: ['Adam', 'Rachel', 'Matej', 'Radoslav', 'Brano', 'Maros', 'Julia', 'Cyril']\n",
      "Zoznam studentov1 po del[0] - Adam: ['Rachel', 'Matej', 'Radoslav', 'Brano', 'Maros', 'Julia', 'Cyril']\n",
      "Zoznam studentov1 po pop(0) - Rachel: ['Matej', 'Radoslav', 'Brano', 'Maros', 'Julia', 'Cyril']\n",
      "Zoznam studentov1 po insert(0) - Marek: ['Marek', 'Matej', 'Radoslav', 'Brano', 'Maros', 'Julia', 'Cyril']\n",
      "\n",
      "2. Spôsob Python\n",
      "Zoznam studentov2: deque(['Adam', 'Rachel', 'Matej', 'Radoslav', 'Brano', 'Maros', 'Julia', 'Cyril'])\n",
      "Zoznam studentov2 po del[0] - Adam: deque(['Rachel', 'Matej', 'Radoslav', 'Brano', 'Maros', 'Julia', 'Cyril'])\n",
      "Zoznam studentov2 po popleft - Rachel: deque(['Matej', 'Radoslav', 'Brano', 'Maros', 'Julia', 'Cyril'])\n",
      "Zoznam studentov2 po appendleft('Marek') - Marek: deque(['Marek', 'Matej', 'Radoslav', 'Brano', 'Maros', 'Julia', 'Cyril'])\n"
     ],
     "output_type":"stream"
    }
   ],
   "metadata":{
    "datalore":{
     "node_id":"6aXUoeM3K6nGIl8hi3v6Da",
     "type":"CODE",
     "hide_input_from_viewers":true,
     "hide_output_from_viewers":true
    }
   }
  },
  {
   "cell_type":"markdown",
   "source":[
    "# 🕵️‍♂️ Hľadanie Sekvencií (Find Sequence)"
   ],
   "attachments":{
    
   },
   "metadata":{
    "datalore":{
     "node_id":"rwBdVp01tliJsK5b8pgccZ",
     "type":"MD",
     "hide_input_from_viewers":true,
     "hide_output_from_viewers":true
    }
   }
  },
  {
   "cell_type":"code",
   "source":[
    " "
   ],
   "execution_count":8,
   "outputs":[
    {
     "name":"stdout",
     "text":[
      "1. Spôsob klasický\n",
      "0\n",
      "6\n",
      "-1\n",
      "\n",
      "2. Spôsob Python\n",
      "0\n",
      "6\n",
      "-1\n"
     ],
     "output_type":"stream"
    }
   ],
   "metadata":{
    "datalore":{
     "node_id":"24q4mVKPtfwqF9nPFGx6yf",
     "type":"CODE",
     "hide_input_from_viewers":true,
     "hide_output_from_viewers":true
    }
   }
  },
  {
   "cell_type":"markdown",
   "source":[
    "# PIP"
   ],
   "attachments":{
    
   },
   "metadata":{
    "datalore":{
     "node_id":"PIP",
     "type":"MD",
     "hide_input_from_viewers":false,
     "hide_output_from_viewers":false,
     "sheet_delimiter":true
    }
   }
  },
  {
   "cell_type":"code",
   "source":[
    "#!pip install langdetect\n",
    "# https:\/\/github.com\/Mimino666\/langdetect\n",
    "# https:\/\/pypi.org\/project\/langdetect\/\n",
    "  "
   ],
   "execution_count":81,
   "outputs":[
    {
     "name":"stdout",
     "text":[
      "Zadajte lubovolny text v lubovolnom jazyku:  how to you du?\n",
      "so\n"
     ],
     "output_type":"stream"
    }
   ],
   "metadata":{
    "datalore":{
     "node_id":"sgqjG5PjVaHGSe4QOARE9y",
     "type":"CODE",
     "hide_input_from_viewers":true,
     "hide_output_from_viewers":true
    }
   }
  },
  {
   "cell_type":"code",
   "source":[
    "# ! pip install cowsay"
   ],
   "execution_count":null,
   "outputs":[
    
   ],
   "metadata":{
    "datalore":{
     "node_id":"qd4zCn1UbfdzQLe3ym030q",
     "type":"CODE",
     "hide_input_from_viewers":true,
     "hide_output_from_viewers":true
    }
   }
  }
 ],
 "metadata":{
  "kernelspec":{
   "display_name":"Python",
   "language":"python",
   "name":"python"
  },
  "datalore":{
   "computation_mode":"JUPYTER",
   "package_manager":"pip",
   "base_environment":"default",
   "packages":[
    
   ],
   "report_row_ids":[
    "e3SflrAZQKNNp9Bvno12Hw"
   ],
   "version":3
  }
 },
 "nbformat":4,
 "nbformat_minor":4
}