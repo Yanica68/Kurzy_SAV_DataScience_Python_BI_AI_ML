{
 "cells":[
  {
   "cell_type":"markdown",
   "source":[
    "## 🐍 Kurz Python Databázy (Python a spracovanie dát z databázy)\n",
    "**🧑‍🏫 Lektor:** Miroslav Reiter  \n",
    "**📥 LinkedIn kontakt:** https:\/\/www.linkedin.com\/in\/miroslav-reiter\/  \n",
    "\n",
    "**✅ Osnova:** https:\/\/itkurzy.sav.sk\/node\/178\n",
    "\n",
    "**🎞️ YouTube videá:** https:\/\/www.youtube.com\/c\/IT-AcademySK  \n",
    "**📇 Zdrojové kódy a materiály:** https:\/\/github.com\/miroslav-reiter\/Kurzy_SAV_Analytika_Python_R  \n",
    "\n",
    "**😊 Emojis:** Win + .  "
   ],
   "attachments":{
    
   },
   "metadata":{
    "datalore":{
     "node_id":"ZdJHFw9QGaNTb8qjRxSV97",
     "type":"MD",
     "hide_input_from_viewers":true,
     "hide_output_from_viewers":true
    }
   }
  },
  {
   "cell_type":"markdown",
   "source":[
    "# ⚒️ Najpoužívanejšie nástroje dátovej analýzy\n",
    "- 🐍 **Python** - momentálne najpopulárnejší jazyk pre vedu o údajoch (Data science). Python je síce interpretovaný a pomalší jazyk ako C\/C++, ale využitím knižníc, ako je NumPy (a Pandas navyše), sa môžeme priblížiť rýchlosti C.  \n",
    "  \n",
    "- 🪐 **Jupyter** - nástroj s prostredím interaktívneho notebooku, mocný prieskumný, vizualizačný a komunikačný nástroj.\n",
    "  \n",
    "- 🐼 **Pandas** - nástroj na manipuláciu s tabuľkovými údajmi v Pythone. Je to obrovská knižnica, ale ak poznáte správne metódy, môžeme vytvoriť výkonnú analýzu.\n",
    "  \n",
    "- 📊 **Matplotlib** - grafická knižnica s rôznymi grafmi a vizualizáciami. V spojení s Pandas a Jupyter môžeme rýchlo získať prehľad o našich údajoch.  \n",
    "  \n",
    "- 🚀 **Numpy** - knižnica jazyka Python, ktorá poskytuje infraštruktúru pre prácu s vektormi, maticami a všeobecne viacrozmernými poliami.\n",
    "\n",
    "## 📚 Knižnice\/Moduly pre prácu s Databázami\n",
    "1.   \n",
    "1.   \n",
    "1.  \n",
    "1.   \n",
    "1.   \n",
    "1.   \n",
    "\n",
    "😎 Existuje 300 000+ knižníc pre Python.  "
   ],
   "attachments":{
    
   },
   "metadata":{
    "datalore":{
     "node_id":"ggnnPQeBFPA5O0kmBbzf5p",
     "type":"MD",
     "hide_input_from_viewers":true,
     "hide_output_from_viewers":true
    }
   }
  },
  {
   "cell_type":"markdown",
   "source":[
    "# 📚 PIP, Knižnice a ich verzie \n",
    "**PIP (package installer for Python)** - Správca Balíčkov pre moduly programovacieho jazyka Python, Tiež napísaný v Pythone, Licencia MIT.  \n",
    "Dokumentácia PIP: https:\/\/pip.pypa.io\/en\/stable\/\n",
    "\n",
    "**PyPI (The Python Package Index)** - Repozitár\/úložisko softvéru pre programovací jazyk Python  \n",
    "https:\/\/pypi.org\n",
    "\n",
    "```python\n",
    "# !pip list  \n",
    "# !pip install pymysql  \n",
    "# !pip install psycopg2\n",
    "\n",
    "# import pymysql  \n",
    "import pymysql as mys\n",
    "import psycopg2 as ps\n",
    "```\n",
    "## Dokumentácia\n",
    "[MySQL pymysql](https:\/\/pypi.org\/project\/pymysql\/)\n",
    "[PostgreSQL - psycopg2](https:\/\/pypi.org\/project\/psycopg2\/)"
   ],
   "attachments":{
    
   },
   "metadata":{
    "datalore":{
     "node_id":"leOj7Gu38wjVcQic8XQw76",
     "type":"MD",
     "hide_input_from_viewers":true,
     "hide_output_from_viewers":true
    }
   }
  },
  {
   "cell_type":"markdown",
   "source":[
    "# 🔌 Pripojenie sa na Databázu MySQL"
   ],
   "attachments":{
    
   },
   "metadata":{
    "datalore":{
     "node_id":"3eBdGWItYf3dJR7HIkNtG8",
     "type":"MD",
     "hide_input_from_viewers":true,
     "hide_output_from_viewers":true
    }
   }
  },
  {
   "cell_type":"code",
   "source":[
    
   ],
   "execution_count":37,
   "outputs":[
    {
     "name":"stdout",
     "text":[
      "Sme pripojeny na MySQL s verziou: 5.7.10\n",
      "5.7.10\n",
      "Sme pripojeny na hostitela\/sluzbu: mysql57.r2.websupport.sk\n",
      "socket mysql57.r2.websupport.sk:3311\n"
     ],
     "output_type":"stream"
    }
   ],
   "metadata":{
    "datalore":{
     "node_id":"9UY61gitiHSUdXMkGlviFN",
     "type":"CODE",
     "hide_input_from_viewers":true,
     "hide_output_from_viewers":true
    }
   }
  },
  {
   "cell_type":"markdown",
   "source":[
    "# 🖱️ Kurzory (Cursors)"
   ],
   "attachments":{
    
   },
   "metadata":{
    "datalore":{
     "node_id":"WNrHnqNj8OutiGJIJjeDyX",
     "type":"MD",
     "hide_input_from_viewers":true,
     "hide_output_from_viewers":true
    }
   }
  },
  {
   "cell_type":"code",
   "source":[
    
   ],
   "execution_count":null,
   "outputs":[
    
   ],
   "metadata":{
    "datalore":{
     "node_id":"yslTvVI3QoBiktlNBWWR38",
     "type":"CODE",
     "hide_input_from_viewers":true,
     "hide_output_from_viewers":true
    }
   }
  },
  {
   "cell_type":"markdown",
   "source":[
    "# 🐼 Pandas (Python Data Analysis Library)"
   ],
   "attachments":{
    
   },
   "metadata":{
    "datalore":{
     "node_id":"49Zw8wmg9tw9Ddq8DFgkZx",
     "type":"MD",
     "hide_input_from_viewers":true,
     "hide_output_from_viewers":true
    }
   }
  },
  {
   "cell_type":"code",
   "source":[
    
   ],
   "execution_count":54,
   "outputs":[
    {
     "data":{
      "text\/html":[
       "<div>\n",
       "<style scoped>\n",
       "    .dataframe tbody tr th:only-of-type {\n",
       "        vertical-align: middle;\n",
       "    }\n",
       "\n",
       "    .dataframe tbody tr th {\n",
       "        vertical-align: top;\n",
       "    }\n",
       "\n",
       "    .dataframe thead th {\n",
       "        text-align: right;\n",
       "    }\n",
       "<\/style>\n",
       "<table border=\"1\" class=\"dataframe\">\n",
       "  <thead>\n",
       "    <tr style=\"text-align: right;\">\n",
       "      <th><\/th>\n",
       "      <th>EMPNO<\/th>\n",
       "      <th>ENAME<\/th>\n",
       "      <th>JOB<\/th>\n",
       "      <th>MGR<\/th>\n",
       "      <th>HIREDATE<\/th>\n",
       "      <th>SAL<\/th>\n",
       "      <th>COMM<\/th>\n",
       "      <th>DEPTNO<\/th>\n",
       "    <\/tr>\n",
       "  <\/thead>\n",
       "  <tbody>\n",
       "    <tr>\n",
       "      <th>0<\/th>\n",
       "      <td>7369<\/td>\n",
       "      <td>SMITH<\/td>\n",
       "      <td>CLERK<\/td>\n",
       "      <td>7902.0<\/td>\n",
       "      <td>1980-12-17<\/td>\n",
       "      <td>800<\/td>\n",
       "      <td>NaN<\/td>\n",
       "      <td>20<\/td>\n",
       "    <\/tr>\n",
       "    <tr>\n",
       "      <th>1<\/th>\n",
       "      <td>7499<\/td>\n",
       "      <td>ALLEN<\/td>\n",
       "      <td>SALESMAN<\/td>\n",
       "      <td>7698.0<\/td>\n",
       "      <td>1981-02-20<\/td>\n",
       "      <td>1600<\/td>\n",
       "      <td>300.0<\/td>\n",
       "      <td>30<\/td>\n",
       "    <\/tr>\n",
       "    <tr>\n",
       "      <th>2<\/th>\n",
       "      <td>7521<\/td>\n",
       "      <td>WARD<\/td>\n",
       "      <td>SALESMAN<\/td>\n",
       "      <td>7698.0<\/td>\n",
       "      <td>1981-02-22<\/td>\n",
       "      <td>1250<\/td>\n",
       "      <td>500.0<\/td>\n",
       "      <td>30<\/td>\n",
       "    <\/tr>\n",
       "    <tr>\n",
       "      <th>3<\/th>\n",
       "      <td>7566<\/td>\n",
       "      <td>JONES<\/td>\n",
       "      <td>MANAGER<\/td>\n",
       "      <td>7839.0<\/td>\n",
       "      <td>1981-04-02<\/td>\n",
       "      <td>2975<\/td>\n",
       "      <td>NaN<\/td>\n",
       "      <td>20<\/td>\n",
       "    <\/tr>\n",
       "    <tr>\n",
       "      <th>4<\/th>\n",
       "      <td>7654<\/td>\n",
       "      <td>MARTIN<\/td>\n",
       "      <td>SALESMAN<\/td>\n",
       "      <td>7698.0<\/td>\n",
       "      <td>1981-09-28<\/td>\n",
       "      <td>1250<\/td>\n",
       "      <td>1400.0<\/td>\n",
       "      <td>30<\/td>\n",
       "    <\/tr>\n",
       "    <tr>\n",
       "      <th>5<\/th>\n",
       "      <td>7698<\/td>\n",
       "      <td>BLAKE<\/td>\n",
       "      <td>MANAGER<\/td>\n",
       "      <td>7839.0<\/td>\n",
       "      <td>1981-05-01<\/td>\n",
       "      <td>2850<\/td>\n",
       "      <td>NaN<\/td>\n",
       "      <td>30<\/td>\n",
       "    <\/tr>\n",
       "    <tr>\n",
       "      <th>6<\/th>\n",
       "      <td>7782<\/td>\n",
       "      <td>CLARK<\/td>\n",
       "      <td>MANAGER<\/td>\n",
       "      <td>7839.0<\/td>\n",
       "      <td>1981-06-09<\/td>\n",
       "      <td>2450<\/td>\n",
       "      <td>NaN<\/td>\n",
       "      <td>10<\/td>\n",
       "    <\/tr>\n",
       "    <tr>\n",
       "      <th>7<\/th>\n",
       "      <td>7788<\/td>\n",
       "      <td>SCOTT<\/td>\n",
       "      <td>ANALYST<\/td>\n",
       "      <td>7566.0<\/td>\n",
       "      <td>1982-12-09<\/td>\n",
       "      <td>3000<\/td>\n",
       "      <td>NaN<\/td>\n",
       "      <td>20<\/td>\n",
       "    <\/tr>\n",
       "    <tr>\n",
       "      <th>8<\/th>\n",
       "      <td>7839<\/td>\n",
       "      <td>KING<\/td>\n",
       "      <td>PRESIDENT<\/td>\n",
       "      <td>NaN<\/td>\n",
       "      <td>1981-11-17<\/td>\n",
       "      <td>5000<\/td>\n",
       "      <td>NaN<\/td>\n",
       "      <td>10<\/td>\n",
       "    <\/tr>\n",
       "    <tr>\n",
       "      <th>9<\/th>\n",
       "      <td>7844<\/td>\n",
       "      <td>TURNER<\/td>\n",
       "      <td>SALESMAN<\/td>\n",
       "      <td>7698.0<\/td>\n",
       "      <td>1981-09-08<\/td>\n",
       "      <td>1500<\/td>\n",
       "      <td>0.0<\/td>\n",
       "      <td>30<\/td>\n",
       "    <\/tr>\n",
       "    <tr>\n",
       "      <th>10<\/th>\n",
       "      <td>7876<\/td>\n",
       "      <td>ADAMS<\/td>\n",
       "      <td>CLERK<\/td>\n",
       "      <td>7788.0<\/td>\n",
       "      <td>1983-01-12<\/td>\n",
       "      <td>1100<\/td>\n",
       "      <td>NaN<\/td>\n",
       "      <td>20<\/td>\n",
       "    <\/tr>\n",
       "    <tr>\n",
       "      <th>11<\/th>\n",
       "      <td>7900<\/td>\n",
       "      <td>JAMES<\/td>\n",
       "      <td>CLERK<\/td>\n",
       "      <td>7698.0<\/td>\n",
       "      <td>1981-12-03<\/td>\n",
       "      <td>950<\/td>\n",
       "      <td>NaN<\/td>\n",
       "      <td>30<\/td>\n",
       "    <\/tr>\n",
       "    <tr>\n",
       "      <th>12<\/th>\n",
       "      <td>7902<\/td>\n",
       "      <td>FORD<\/td>\n",
       "      <td>ANALYST<\/td>\n",
       "      <td>7566.0<\/td>\n",
       "      <td>1981-12-03<\/td>\n",
       "      <td>3000<\/td>\n",
       "      <td>NaN<\/td>\n",
       "      <td>20<\/td>\n",
       "    <\/tr>\n",
       "    <tr>\n",
       "      <th>13<\/th>\n",
       "      <td>7934<\/td>\n",
       "      <td>MILLER<\/td>\n",
       "      <td>CLERK<\/td>\n",
       "      <td>7782.0<\/td>\n",
       "      <td>1982-01-23<\/td>\n",
       "      <td>1300<\/td>\n",
       "      <td>NaN<\/td>\n",
       "      <td>10<\/td>\n",
       "    <\/tr>\n",
       "  <\/tbody>\n",
       "<\/table>\n",
       "<\/div>"
      ]
     },
     "metadata":{
      
     },
     "output_type":"display_data"
    }
   ],
   "metadata":{
    "datalore":{
     "node_id":"duXcNbjxUx2BVuSdcPqreL",
     "type":"CODE",
     "hide_input_from_viewers":true,
     "hide_output_from_viewers":true
    }
   }
  },
  {
   "cell_type":"markdown",
   "source":[
    "# Výber dát (Select) v Pandas"
   ],
   "attachments":{
    
   },
   "metadata":{
    "datalore":{
     "node_id":"7dyhqZzc6urGT4aatFCNYk",
     "type":"MD",
     "hide_input_from_viewers":true,
     "hide_output_from_viewers":true
    }
   }
  },
  {
   "cell_type":"code",
   "source":[
    
   ],
   "execution_count":61,
   "outputs":[
    {
     "data":{
      "text\/html":[
       "<pre>1      ALLEN\n",
       "2       WARD\n",
       "3      JONES\n",
       "4     MARTIN\n",
       "5      BLAKE\n",
       "6      CLARK\n",
       "7      SCOTT\n",
       "8       KING\n",
       "9     TURNER\n",
       "10     ADAMS\n",
       "12      FORD\n",
       "13    MILLER\n",
       "Name: ENAME, dtype: object<\/pre>"
      ]
     },
     "metadata":{
      
     },
     "output_type":"display_data"
    }
   ],
   "metadata":{
    "datalore":{
     "node_id":"l1rKTWzsvAdYxPkAlp1Y3q",
     "type":"CODE",
     "hide_input_from_viewers":true,
     "hide_output_from_viewers":true
    }
   }
  },
  {
   "cell_type":"markdown",
   "source":[
    "# Grafy"
   ],
   "attachments":{
    
   },
   "metadata":{
    "datalore":{
     "node_id":"ydhLxHSB3nI3uFkb6f0N2U",
     "type":"MD",
     "hide_input_from_viewers":true,
     "hide_output_from_viewers":true
    }
   }
  },
  {
   "cell_type":"code",
   "source":[
    
   ],
   "execution_count":79,
   "outputs":[
    {
     "data":{
      "image\/png":"[encoded data removed]"
     },
     "metadata":{
      "image\/png":{
       
      }
     },
     "output_type":"display_data"
    },
    {
     "data":{
      "image\/png":"[encoded data removed]"
     },
     "metadata":{
      "image\/png":{
       
      }
     },
     "output_type":"display_data"
    },
    {
     "data":{
      "image\/png":"[encoded data removed]"
     },
     "metadata":{
      "image\/png":{
       
      }
     },
     "output_type":"display_data"
    },
    {
     "data":{
      "image\/png":"[encoded data removed]"
     },
     "metadata":{
      "image\/png":{
       
      }
     },
     "output_type":"display_data"
    },
    {
     "data":{
      "image\/png":"[encoded data removed]"
     },
     "metadata":{
      "image\/png":{
       
      }
     },
     "output_type":"display_data"
    },
    {
     "data":{
      "image\/png":"[encoded data removed]"
     },
     "metadata":{
      "image\/png":{
       
      }
     },
     "output_type":"display_data"
    }
   ],
   "metadata":{
    "datalore":{
     "node_id":"lksYBRop1JUublkr96Gkw6",
     "type":"CODE",
     "hide_input_from_viewers":true,
     "hide_output_from_viewers":true
    }
   }
  },
  {
   "cell_type":"markdown",
   "source":[
    "# Dôležité Poznámky Pandas\n",
    "- Pri výbere podmnožín údajov sa používajú hranaté zátvorky []\n",
    "- V týchto zátvorkách môžete použiť jeden štítok stĺpca\/riadku, zoznam štítkov stĺpca\/riadku, časť štítkov, podmienený výraz alebo dvojbodku\n",
    "- Ak používate názvy riadkov a stĺpcov, vyberte konkrétne riadky a\/alebo stĺpce pomocou loc\n",
    "- Pri použití pozícií v tabuľke vyberte konkrétne riadky a\/alebo stĺpce pomocou iloc\n",
    "- Výberu môžete priradiť nové hodnoty na základe loc\/iloc\n",
    "\n",
    "https:\/\/pandas.pydata.org\/docs\/getting_started\/intro_tutorials\/03_subset_data.html"
   ],
   "attachments":{
    
   },
   "metadata":{
    "datalore":{
     "node_id":"nU07lxhnRZwobHUM0DIia3",
     "type":"MD",
     "hide_input_from_viewers":true,
     "hide_output_from_viewers":true
    }
   }
  },
  {
   "cell_type":"markdown",
   "source":[
    "# 🌲 Premenné Prostredia (Environs - Environment variables)"
   ],
   "attachments":{
    
   },
   "metadata":{
    "datalore":{
     "node_id":"u8yPvv7PhYTT8s5FbALFMX",
     "type":"MD",
     "hide_input_from_viewers":true,
     "hide_output_from_viewers":true
    }
   }
  },
  {
   "cell_type":"code",
   "source":[
    
   ],
   "execution_count":4,
   "outputs":[
    {
     "name":"stdout",
     "text":[
      "mysql57.r2.websupport.sk\n"
     ],
     "output_type":"stream"
    },
    {
     "data":{
      "text\/html":[
       "<div>\n",
       "<style scoped>\n",
       "    .dataframe tbody tr th:only-of-type {\n",
       "        vertical-align: middle;\n",
       "    }\n",
       "\n",
       "    .dataframe tbody tr th {\n",
       "        vertical-align: top;\n",
       "    }\n",
       "\n",
       "    .dataframe thead th {\n",
       "        text-align: right;\n",
       "    }\n",
       "<\/style>\n",
       "<table border=\"1\" class=\"dataframe\">\n",
       "  <thead>\n",
       "    <tr style=\"text-align: right;\">\n",
       "      <th><\/th>\n",
       "      <th>EMPNO<\/th>\n",
       "      <th>ENAME<\/th>\n",
       "      <th>JOB<\/th>\n",
       "      <th>MGR<\/th>\n",
       "      <th>HIREDATE<\/th>\n",
       "      <th>SAL<\/th>\n",
       "      <th>COMM<\/th>\n",
       "      <th>DEPTNO<\/th>\n",
       "    <\/tr>\n",
       "  <\/thead>\n",
       "  <tbody>\n",
       "    <tr>\n",
       "      <th>0<\/th>\n",
       "      <td>7369<\/td>\n",
       "      <td>SMITH<\/td>\n",
       "      <td>CLERK<\/td>\n",
       "      <td>7902.0<\/td>\n",
       "      <td>1980-12-17<\/td>\n",
       "      <td>800<\/td>\n",
       "      <td>NaN<\/td>\n",
       "      <td>20<\/td>\n",
       "    <\/tr>\n",
       "    <tr>\n",
       "      <th>1<\/th>\n",
       "      <td>7499<\/td>\n",
       "      <td>ALLEN<\/td>\n",
       "      <td>SALESMAN<\/td>\n",
       "      <td>7698.0<\/td>\n",
       "      <td>1981-02-20<\/td>\n",
       "      <td>1600<\/td>\n",
       "      <td>300.0<\/td>\n",
       "      <td>30<\/td>\n",
       "    <\/tr>\n",
       "    <tr>\n",
       "      <th>2<\/th>\n",
       "      <td>7521<\/td>\n",
       "      <td>WARD<\/td>\n",
       "      <td>SALESMAN<\/td>\n",
       "      <td>7698.0<\/td>\n",
       "      <td>1981-02-22<\/td>\n",
       "      <td>1250<\/td>\n",
       "      <td>500.0<\/td>\n",
       "      <td>30<\/td>\n",
       "    <\/tr>\n",
       "    <tr>\n",
       "      <th>3<\/th>\n",
       "      <td>7566<\/td>\n",
       "      <td>JONES<\/td>\n",
       "      <td>MANAGER<\/td>\n",
       "      <td>7839.0<\/td>\n",
       "      <td>1981-04-02<\/td>\n",
       "      <td>2975<\/td>\n",
       "      <td>NaN<\/td>\n",
       "      <td>20<\/td>\n",
       "    <\/tr>\n",
       "    <tr>\n",
       "      <th>4<\/th>\n",
       "      <td>7654<\/td>\n",
       "      <td>MARTIN<\/td>\n",
       "      <td>SALESMAN<\/td>\n",
       "      <td>7698.0<\/td>\n",
       "      <td>1981-09-28<\/td>\n",
       "      <td>1250<\/td>\n",
       "      <td>1400.0<\/td>\n",
       "      <td>30<\/td>\n",
       "    <\/tr>\n",
       "    <tr>\n",
       "      <th>5<\/th>\n",
       "      <td>7698<\/td>\n",
       "      <td>BLAKE<\/td>\n",
       "      <td>MANAGER<\/td>\n",
       "      <td>7839.0<\/td>\n",
       "      <td>1981-05-01<\/td>\n",
       "      <td>2850<\/td>\n",
       "      <td>NaN<\/td>\n",
       "      <td>30<\/td>\n",
       "    <\/tr>\n",
       "    <tr>\n",
       "      <th>6<\/th>\n",
       "      <td>7782<\/td>\n",
       "      <td>CLARK<\/td>\n",
       "      <td>MANAGER<\/td>\n",
       "      <td>7839.0<\/td>\n",
       "      <td>1981-06-09<\/td>\n",
       "      <td>2450<\/td>\n",
       "      <td>NaN<\/td>\n",
       "      <td>10<\/td>\n",
       "    <\/tr>\n",
       "    <tr>\n",
       "      <th>7<\/th>\n",
       "      <td>7788<\/td>\n",
       "      <td>SCOTT<\/td>\n",
       "      <td>ANALYST<\/td>\n",
       "      <td>7566.0<\/td>\n",
       "      <td>1982-12-09<\/td>\n",
       "      <td>3000<\/td>\n",
       "      <td>NaN<\/td>\n",
       "      <td>20<\/td>\n",
       "    <\/tr>\n",
       "    <tr>\n",
       "      <th>8<\/th>\n",
       "      <td>7839<\/td>\n",
       "      <td>KING<\/td>\n",
       "      <td>PRESIDENT<\/td>\n",
       "      <td>NaN<\/td>\n",
       "      <td>1981-11-17<\/td>\n",
       "      <td>5000<\/td>\n",
       "      <td>NaN<\/td>\n",
       "      <td>10<\/td>\n",
       "    <\/tr>\n",
       "    <tr>\n",
       "      <th>9<\/th>\n",
       "      <td>7844<\/td>\n",
       "      <td>TURNER<\/td>\n",
       "      <td>SALESMAN<\/td>\n",
       "      <td>7698.0<\/td>\n",
       "      <td>1981-09-08<\/td>\n",
       "      <td>1500<\/td>\n",
       "      <td>0.0<\/td>\n",
       "      <td>30<\/td>\n",
       "    <\/tr>\n",
       "    <tr>\n",
       "      <th>10<\/th>\n",
       "      <td>7876<\/td>\n",
       "      <td>ADAMS<\/td>\n",
       "      <td>CLERK<\/td>\n",
       "      <td>7788.0<\/td>\n",
       "      <td>1983-01-12<\/td>\n",
       "      <td>1100<\/td>\n",
       "      <td>NaN<\/td>\n",
       "      <td>20<\/td>\n",
       "    <\/tr>\n",
       "    <tr>\n",
       "      <th>11<\/th>\n",
       "      <td>7900<\/td>\n",
       "      <td>JAMES<\/td>\n",
       "      <td>CLERK<\/td>\n",
       "      <td>7698.0<\/td>\n",
       "      <td>1981-12-03<\/td>\n",
       "      <td>950<\/td>\n",
       "      <td>NaN<\/td>\n",
       "      <td>30<\/td>\n",
       "    <\/tr>\n",
       "    <tr>\n",
       "      <th>12<\/th>\n",
       "      <td>7902<\/td>\n",
       "      <td>FORD<\/td>\n",
       "      <td>ANALYST<\/td>\n",
       "      <td>7566.0<\/td>\n",
       "      <td>1981-12-03<\/td>\n",
       "      <td>3000<\/td>\n",
       "      <td>NaN<\/td>\n",
       "      <td>20<\/td>\n",
       "    <\/tr>\n",
       "    <tr>\n",
       "      <th>13<\/th>\n",
       "      <td>7934<\/td>\n",
       "      <td>MILLER<\/td>\n",
       "      <td>CLERK<\/td>\n",
       "      <td>7782.0<\/td>\n",
       "      <td>1982-01-23<\/td>\n",
       "      <td>1300<\/td>\n",
       "      <td>NaN<\/td>\n",
       "      <td>10<\/td>\n",
       "    <\/tr>\n",
       "  <\/tbody>\n",
       "<\/table>\n",
       "<\/div>"
      ]
     },
     "metadata":{
      
     },
     "output_type":"display_data"
    }
   ],
   "metadata":{
    "datalore":{
     "node_id":"xq7l1sezi3jtqeH9JV4cRs",
     "type":"CODE",
     "hide_input_from_viewers":true,
     "hide_output_from_viewers":true
    }
   }
  },
  {
   "cell_type":"markdown",
   "source":[
    "# 🤐 Tajomstvá (Secrets) už označené ako zastaralé"
   ],
   "attachments":{
    
   },
   "metadata":{
    "datalore":{
     "node_id":"Ij1Fs3bUh1RMop7lxepINs",
     "type":"MD",
     "hide_input_from_viewers":true,
     "hide_output_from_viewers":true
    }
   }
  },
  {
   "cell_type":"code",
   "source":[
    
   ],
   "execution_count":null,
   "outputs":[
    
   ],
   "metadata":{
    "datalore":{
     "node_id":"l4ftt9SWUqW4XjrZJgJm3n",
     "type":"CODE",
     "hide_input_from_viewers":true,
     "hide_output_from_viewers":true
    }
   }
  },
  {
   "cell_type":"markdown",
   "source":[
    "# 🔌 Pripojenie sa na Databázu PostgreSQL"
   ],
   "attachments":{
    
   },
   "metadata":{
    "datalore":{
     "node_id":"T4ogEvganpIA8dDneF1cWc",
     "type":"MD",
     "hide_input_from_viewers":true,
     "hide_output_from_viewers":true
    }
   }
  },
  {
   "cell_type":"code",
   "source":[
    
   ],
   "execution_count":1,
   "outputs":[
    {
     "ename":"OperationalError",
     "evalue":"OperationalError: connection to server at \"demo-database.private.datalore.io\" (10.0.12.130), port 5432 failed: Connection timed out\n\tIs the server running on that host and accepting TCP\/IP connections?\n",
     "traceback":[
      "\u001b[0;31m---------------------------------------------------------------------------",
      "Traceback (most recent call last)",
      "    at line 11 in <module>",
      "    at line 122 in connect(dsn, connection_factory, cursor_factory, **kwargs)",
      "OperationalError: connection to server at \"demo-database.private.datalore.io\" (10.0.12.130), port 5432 failed: Connection timed out\n\tIs the server running on that host and accepting TCP\/IP connections?\n"
     ],
     "output_type":"error"
    }
   ],
   "metadata":{
    "datalore":{
     "node_id":"ux5knanKrltTg3IlTpIjwy",
     "type":"CODE",
     "hide_input_from_viewers":true,
     "hide_output_from_viewers":true
    }
   }
  },
  {
   "cell_type":"code",
   "source":[
    
   ],
   "execution_count":10,
   "outputs":[
    {
     "ename":"ImportError",
     "evalue":"ImportError: libodbc.so.2: cannot open shared object file: No such file or directory",
     "traceback":[
      "\u001b[0;31m---------------------------------------------------------------------------",
      "Traceback (most recent call last)",
      "    at line 3 in <module>",
      "ImportError: libodbc.so.2: cannot open shared object file: No such file or directory"
     ],
     "output_type":"error"
    }
   ],
   "metadata":{
    "datalore":{
     "node_id":"GFK03bBMYauJP7AHDv09H5",
     "type":"CODE",
     "hide_input_from_viewers":true,
     "hide_output_from_viewers":true
    }
   }
  }
 ],
 "metadata":{
  "kernelspec":{
   "display_name":"Python",
   "language":"python",
   "name":"python"
  },
  "datalore":{
   "computation_mode":"JUPYTER",
   "package_manager":"pip",
   "base_environment":"default",
   "packages":[
    
   ],
   "report_row_ids":[
    
   ],
   "version":3
  }
 },
 "nbformat":4,
 "nbformat_minor":4
}