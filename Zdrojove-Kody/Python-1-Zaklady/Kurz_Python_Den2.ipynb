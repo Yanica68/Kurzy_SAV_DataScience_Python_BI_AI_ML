{
 "cells": [
  {
   "cell_type": "markdown",
   "id": "11af71de",
   "metadata": {},
   "source": [
    "# 01. Riadiace štruktúry (control flow)"
   ]
  },
  {
   "cell_type": "code",
   "execution_count": 1,
   "id": "b4ed728c",
   "metadata": {
    "ExecuteTime": {
     "end_time": "2022-06-16T07:44:37.234372Z",
     "start_time": "2022-06-16T07:44:37.224366Z"
    }
   },
   "outputs": [],
   "source": [
    "# if (elif, else) - vetvenie, rozhodovanie\n",
    "# for, while - cykly - opakovanie\n",
    "# break, continue"
   ]
  },
  {
   "cell_type": "markdown",
   "id": "4656fdbe",
   "metadata": {},
   "source": [
    "## A. Štruktúra IF, input"
   ]
  },
  {
   "cell_type": "code",
   "execution_count": 37,
   "id": "16d4c9ec",
   "metadata": {
    "ExecuteTime": {
     "end_time": "2022-06-16T08:28:43.242670Z",
     "start_time": "2022-06-16T08:28:41.224820Z"
    }
   },
   "outputs": [
    {
     "name": "stdout",
     "output_type": "stream",
     "text": [
      "Zadaj svoje krstne meno: adam\n",
      "Vitaj, Adam\n",
      "Gratulujem k meninam, ziskavate 10 % zlavu v eshope...\n"
     ]
    }
   ],
   "source": [
    "# Strip (Trim) - Odstranie medzier na zaciatku aj konci retazci\n",
    "# Title (Proper) - Prvy znak bude velky, ostatne male\n",
    "zakaznik_meno = input(\"Zadaj svoje krstne meno: \")\n",
    "zakaznik_meno = zakaznik_meno.title().strip()\n",
    "print(\"Vitaj,\", zakaznik_meno)\n",
    "\n",
    "# Mutovatelnost/Nemutovalnost objektov/string\n",
    "\n",
    "# produkt_pocet_kusov = abs(int(input(\"Zadaj pocet kusov: \")))\n",
    "# print(f\"\\nVybrali ste {produkt_pocet_kusov} kusov\")\n",
    "\n",
    "# Operator = Priradenie, assigment\n",
    "a = 5\n",
    "vek_klient = 30\n",
    "\n",
    "# Operator == Porovnanie, Rovnosti\n",
    "# 5 == 5 True\n",
    "# 5 == 3 False\n",
    "# 5 != 3 True\n",
    "\n",
    "\n",
    "# < > <= >= !=\n",
    "if zakaznik_meno == \"Ema\":\n",
    "    print(\"Gratulujem k meninam, ziskavate 12 % zlavu v eshope...\")\n",
    "# else if\n",
    "elif zakaznik_meno == \"Adam\":\n",
    "    print(\"Gratulujem k meninam, ziskavate 10 % zlavu v eshope...\")\n",
    "else:\n",
    "    print(\"Skus to nabuduce, prid zajtra alebo ked budes mat meniny\")\n"
   ]
  },
  {
   "cell_type": "markdown",
   "id": "c41957f2",
   "metadata": {
    "ExecuteTime": {
     "end_time": "2022-06-16T08:15:40.398707Z",
     "start_time": "2022-06-16T08:15:40.384681Z"
    }
   },
   "source": [
    "## B. Štruktúra for (cyklus), zoznamy"
   ]
  },
  {
   "cell_type": "code",
   "execution_count": 57,
   "id": "8ee0fc1f",
   "metadata": {
    "ExecuteTime": {
     "end_time": "2022-06-16T08:51:58.235262Z",
     "start_time": "2022-06-16T08:51:58.214252Z"
    }
   },
   "outputs": [
    {
     "name": "stdout",
     "output_type": "stream",
     "text": [
      "<class 'list'>\n",
      "[1, 2, 3, 4, 5]\n",
      "<class 'list'>\n",
      "['Eva', 'Maria', 'Maros']\n",
      "<class 'list'>\n",
      "['Karol', 29, True, 1956.23, 'karol@sav.sk', [1, 2, 3]]\n",
      "<class 'range'>\n",
      "[0, 1, 2, 3, 4]\n",
      "KAROL\n",
      "['K', 'A', 'R', 'O', 'L']\n",
      "[0, 1, 2, 3, 4]\n",
      "[0, 1, 2, 3, 4, 5, 6, 7, 8, 9]\n",
      "[1, 2, 3, 4, 5, 6, 7, 8, 9, 10]\n",
      "[1, 3, 5, 7, 9]\n",
      "[0, 100, 200, 300, 400, 500, 600, 700, 800, 900]\n"
     ]
    }
   ],
   "source": [
    "# List - Zoznam - Datova struktura \n",
    "# List podobne Pole (Arrays/Arraylist)\n",
    "cisla_zoznam = [1, 2, 3, 4, 5]\n",
    "print(type(cisla_zoznam))\n",
    "print(cisla_zoznam)\n",
    "\n",
    "mena_zoznam = [\"Eva\", \"Maria\", \"Maros\"]\n",
    "print(type(mena_zoznam))\n",
    "print(mena_zoznam)\n",
    "\n",
    "info_zamestnanec = [\"Karol\", 29, True, 1956.23, \"karol@sav.sk\", [1,2,3]]\n",
    "print(type(info_zamestnanec))\n",
    "print(info_zamestnanec)\n",
    "\n",
    "print(type(range(5)))\n",
    "print(list(range(5)))\n",
    "\n",
    "print(\"KAROL\")\n",
    "print(list(\"KAROL\"))\n",
    "print(list(range(5)))\n",
    "print(list(range(10)))\n",
    "print(list(range(1, 11)))\n",
    "print(list(range(1, 11, 2)))\n",
    "print(list(range(0, 1000, 100)))\n",
    "\n"
   ]
  },
  {
   "cell_type": "code",
   "execution_count": 64,
   "id": "ee60e49c",
   "metadata": {
    "ExecuteTime": {
     "end_time": "2022-06-16T08:58:42.137733Z",
     "start_time": "2022-06-16T08:58:42.113708Z"
    }
   },
   "outputs": [
    {
     "name": "stdout",
     "output_type": "stream",
     "text": [
      "\n",
      "range(5)\n",
      "0\n",
      "1\n",
      "2\n",
      "3\n",
      "4\n",
      "\n",
      "range(5, 10)\n",
      "5\n",
      "6\n",
      "7\n",
      "8\n",
      "9\n",
      "x tam je....\n"
     ]
    }
   ],
   "source": [
    "print(\"\\nrange(5)\")\n",
    "for i in range(5):\n",
    "    print(i)\n",
    "\n",
    "print(\"\\nrange(5, 10)\")\n",
    "for i in range(5,10):\n",
    "    print(i)\n",
    "    \n",
    "# Operator in -> True, False\n",
    "if \"x\" in \"xena\":\n",
    "    print(\"x tam je....\")\n",
    "else:\n",
    "    print(\"x tam nie je...\")\n"
   ]
  },
  {
   "cell_type": "code",
   "execution_count": 73,
   "id": "ce8f4456",
   "metadata": {
    "ExecuteTime": {
     "end_time": "2022-06-16T09:26:46.108371Z",
     "start_time": "2022-06-16T09:26:46.090371Z"
    }
   },
   "outputs": [
    {
     "name": "stdout",
     "output_type": "stream",
     "text": [
      "['Notebook MSI', 'Myska LG', 'Tlaciaren HP']\n",
      "\n",
      "Zoznam vsetkych produktov: \n",
      "✅ produkt\n",
      "✅ produkt\n",
      "✅ produkt\n",
      "\n",
      "Zoznam a: \n",
      "1\n",
      "2\n",
      "3\n"
     ]
    }
   ],
   "source": [
    "# Zoznam/list\n",
    "zoznam_produktov = [\"Notebook MSI\", \"Myska LG\", \"Tlaciaren HP\"]\n",
    "print(zoznam_produktov)\n",
    "\n",
    "print(\"\\nZoznam vsetkych produktov: \")\n",
    "for produkt in zoznam_produktov:\n",
    "    print(\"✅\", produkt)\n",
    "\n",
    "print(\"\\nZoznam a: \")\n",
    "for a in [1,2,3]:\n",
    "    print(a)"
   ]
  },
  {
   "cell_type": "markdown",
   "id": "e9a21e59",
   "metadata": {},
   "source": [
    "## C. Štruktúra while (cyklus)"
   ]
  },
  {
   "cell_type": "code",
   "execution_count": 79,
   "id": "3da10a1d",
   "metadata": {
    "ExecuteTime": {
     "end_time": "2022-06-16T09:36:32.736551Z",
     "start_time": "2022-06-16T09:36:29.702789Z"
    }
   },
   "outputs": [
    {
     "name": "stdout",
     "output_type": "stream",
     "text": [
      "Zadaj cele cislo: 1\n",
      "1. Hura\n",
      "2. Hura\n",
      "3. Hura\n",
      "4. Hura\n",
      "5. Hura\n"
     ]
    }
   ],
   "source": [
    "# Ctrl + /\n",
    "# Nekonecny cyklus\n",
    "# while(True):\n",
    "#     print(\"Zit nonstop\")\n",
    "\n",
    "i = int(input(\"Zadaj cele cislo: \"))\n",
    "\n",
    "while i <= 5:\n",
    "    print(f\"{i}. Hura\")\n",
    "    i = i + 1\n",
    "    \n",
    "    \n"
   ]
  },
  {
   "cell_type": "code",
   "execution_count": 88,
   "id": "3a19f09e",
   "metadata": {
    "ExecuteTime": {
     "end_time": "2022-06-16T09:48:55.657415Z",
     "start_time": "2022-06-16T09:48:51.520800Z"
    }
   },
   "outputs": [
    {
     "name": "stdout",
     "output_type": "stream",
     "text": [
      "Zadaj rok: 2024\n",
      "2024\n",
      "2028\n",
      "2032\n",
      "2036\n",
      "2040\n",
      "2044\n",
      "2048\n",
      "Koncime\n"
     ]
    }
   ],
   "source": [
    "# Rok 2022 - 2100, pres.\n",
    "rok  = int(input(\"Zadaj rok: \"))\n",
    "while (rok < 2100):\n",
    "    if rok >= 2050:\n",
    "        print(\"Koncime\")\n",
    "        break\n",
    "        \n",
    "    print(rok)\n",
    "    \n",
    "    # rok = rok + 4\n",
    "    # Skrateny programatorsky zapis += -= /= *= %=\n",
    "    rok += 4\n"
   ]
  },
  {
   "cell_type": "code",
   "execution_count": 90,
   "id": "6cec5c2d",
   "metadata": {
    "ExecuteTime": {
     "end_time": "2022-06-16T09:53:48.542873Z",
     "start_time": "2022-06-16T09:53:45.656927Z"
    }
   },
   "outputs": [
    {
     "name": "stdout",
     "output_type": "stream",
     "text": [
      "Zadaj cele cislo: 0\n",
      "1 .ideme dalej\n",
      "Pokracujeme dalej\n",
      "3 .ideme dalej\n",
      "Pokracujeme dalej\n",
      "5 .ideme dalej\n",
      "Pokracujeme dalej\n"
     ]
    }
   ],
   "source": [
    "i = int(input(\"Zadaj cele cislo: \"))\n",
    "\n",
    "while i <= 5:\n",
    "    i = i + 1\n",
    "    \n",
    "    if i % 2 == 0:\n",
    "        print(\"Pokracujeme dalej\")\n",
    "        continue\n",
    "    else:\n",
    "        print(f\"{i} .ideme dalej\")"
   ]
  },
  {
   "cell_type": "markdown",
   "id": "d5ac5596",
   "metadata": {},
   "source": [
    "## 02. Zoznamy, vyber dat (slicing)"
   ]
  },
  {
   "cell_type": "code",
   "execution_count": 119,
   "id": "6efc68e0",
   "metadata": {
    "ExecuteTime": {
     "end_time": "2022-06-16T10:27:09.053455Z",
     "start_time": "2022-06-16T10:27:09.030427Z"
    }
   },
   "outputs": [
    {
     "name": "stdout",
     "output_type": "stream",
     "text": [
      "[100, 8, 10, 5, 7, -5, 0, -8, -500, 1000, 1999, -1999]\n",
      "1. polozka/0. index -->  100\n",
      "2. polozka/1. index -->  8\n",
      "Pocet poloziek -->  12\n",
      "Sucet poloziek -->  617\n",
      "\n",
      "Posledna polozka -->  -1999\n",
      "Predposledna polozka -->  1999\n",
      "\n",
      "Posledna polozka -->  -1999\n",
      "Predposledna polozka -->  1999\n",
      "5. polozka/4. index -->  7\n",
      "\n",
      "Slice 0:4 -->  [100, 8, 10, 5]\n",
      "Slice 1:4 -->  [8, 10, 5]\n",
      "Slice 1:5 -->  [8, 10, 5, 7]\n",
      "Slice :5 -->  [100, 8, 10, 5, 7]\n",
      "Slice :7 -->  [100, 8, 10, 5, 7, -5, 0]\n",
      "Slice 5: -->  [-5, 0, -8, -500, 1000, 1999, -1999]\n",
      "Slice 7: -->  [-8, -500, 1000, 1999, -1999]\n",
      "\n",
      "Slice : -->  [100, 8, 10, 5, 7, -5, 0, -8, -500, 1000, 1999, -1999]\n",
      "Slice ::2 -->  [100, 10, 7, 0, -500, 1999]\n",
      "Slice ::3 -->  [100, 5, 0, 1000]\n",
      "Slice ::1 -->  [100, 8, 10, 5, 7, -5, 0, -8, -500, 1000, 1999, -1999]\n",
      "Slice ::-1 -->  [-1999, 1999, 1000, -500, -8, 0, -5, 7, 5, 10, 8, 100]\n",
      "Slice ::-2 -->  [-1999, 1000, -8, -5, 5, 8]\n",
      "Slice 5:2:-2 -->  [-5, 5]\n",
      "Slice 2:5:-2 -->  []\n",
      "Slice -5:-2:-2 -->  []\n",
      "Slice -2:-5:-2 -->  [1999, -500]\n",
      "[0, 2, 5]\n"
     ]
    }
   ],
   "source": [
    "zoznam_oblubene_cisla = [100, 8, 10, 5, 7, -5, 0, -8, -500, 1000, 1999, -1999]\n",
    "print(zoznam_oblubene_cisla)\n",
    "\n",
    "# Indexovanie\n",
    "print(\"1. polozka/0. index --> \", zoznam_oblubene_cisla[0])\n",
    "print(\"2. polozka/1. index --> \", zoznam_oblubene_cisla[1])\n",
    "\n",
    "print(\"Pocet poloziek --> \", len(zoznam_oblubene_cisla))\n",
    "print(\"Sucet poloziek --> \", sum(zoznam_oblubene_cisla))\n",
    "\n",
    "print(\"\\nPosledna polozka --> \", zoznam_oblubene_cisla[-1])\n",
    "print(\"Predposledna polozka --> \", zoznam_oblubene_cisla[-2])\n",
    "\n",
    "print(\"\\nPosledna polozka --> \", zoznam_oblubene_cisla[len(zoznam_oblubene_cisla) - 1])\n",
    "print(\"Predposledna polozka --> \", zoznam_oblubene_cisla[len(zoznam_oblubene_cisla) - 2])\n",
    "\n",
    "print(\"5. polozka/4. index --> \", zoznam_oblubene_cisla[4])\n",
    "\n",
    "print(\"\\nSlice 0:4 --> \", zoznam_oblubene_cisla[0:4])\n",
    "print(\"Slice 1:4 --> \", zoznam_oblubene_cisla[1:4])\n",
    "print(\"Slice 1:5 --> \", zoznam_oblubene_cisla[1:5])\n",
    "print(\"Slice :5 --> \", zoznam_oblubene_cisla[:5])\n",
    "print(\"Slice :7 --> \", zoznam_oblubene_cisla[:7])\n",
    "print(\"Slice 5: --> \", zoznam_oblubene_cisla[5:])\n",
    "print(\"Slice 7: --> \", zoznam_oblubene_cisla[7:])\n",
    "\n",
    "print(\"\\nSlice : --> \", zoznam_oblubene_cisla[:])\n",
    "print(\"Slice ::2 --> \", zoznam_oblubene_cisla[::2])\n",
    "print(\"Slice ::3 --> \", zoznam_oblubene_cisla[::3])\n",
    "\n",
    "print(\"Slice ::1 --> \", zoznam_oblubene_cisla[::1])\n",
    "print(\"Slice ::-1 --> \", zoznam_oblubene_cisla[::-1])\n",
    "print(\"Slice ::-2 --> \", zoznam_oblubene_cisla[::-2])\n",
    "\n",
    "print(\"Slice 5:2:-2 --> \", zoznam_oblubene_cisla[5:2:-2])\n",
    "print(\"Slice 2:5:-2 --> \", zoznam_oblubene_cisla[2:5:-2])\n",
    "\n",
    "print(\"Slice -5:-2:-2 --> \", zoznam_oblubene_cisla[-5:-2:-2])\n",
    "print(\"Slice -2:-5:-2 --> \", zoznam_oblubene_cisla[-2:-5:-2])\n",
    "\n",
    "zoznam = [0,1,2,3,5,6]\n",
    "print(zoznam[::2])\n"
   ]
  },
  {
   "cell_type": "markdown",
   "id": "f740134a",
   "metadata": {},
   "source": [
    "## 03. Zabudovane funkcie/metody pre zoznamy/listy"
   ]
  },
  {
   "cell_type": "code",
   "execution_count": 143,
   "id": "295077b5",
   "metadata": {
    "ExecuteTime": {
     "end_time": "2022-06-16T11:41:18.795727Z",
     "start_time": "2022-06-16T11:41:18.767727Z"
    }
   },
   "outputs": [
    {
     "name": "stdout",
     "output_type": "stream",
     "text": [
      "Original --> ['Karol', 'Peter', 'Karol', 'Ivana', 'Adam', 'Maria', 'Xenia', 'Marcel']\n",
      "Novy zoznam --> ['Karol', 'Peter', 'Karol', 'Ivana', 'Adam', 'Maria', 'Xenia', 'Marcel', 'Tamara']\n",
      "Novy zoznam --> ['Karol', 'Peter', 'Karol', 'Ivana', 'Adam', 'Maria', 'Xenia', 'Marcel', 'Tamara', 'Servac', 'Bonifac']\n",
      "Novy zoznam --> ['Karol', 'Peter', 'Karol', 'Ivana', 'Adam', 'Maria', 'Xenia', 'Marcel', 'Tamara', 'Servac', 'Bonifac']\n",
      "\n",
      "zoznam_klientov_zaloha --> ['Karol', 'Peter', 'Karol', 'Ivana', 'Adam', 'Maria', 'Xenia', 'Marcel', 'Tamara', 'Servac', 'Bonifac']\n",
      "Pocet prvkov vsetkych -->  11\n",
      "Pocet prvkov Karol -->  2\n",
      "Na ktorom indexe je Karol -->  0\n",
      "\n",
      "Novy zoznam --> ['Ladislav', 'Karol', 'Peter', 'Karol', 'Ivana', 'Adam', 'Maria', 'Xenia', 'Marcel', 'Tamara', 'Servac', 'Bonifac']\n",
      "Novy zoznam --> ['Ladislav', 'Karol', 'Zuzana', 'Peter', 'Karol', 'Ivana', 'Adam', 'Maria', 'Xenia', 'Marcel', 'Tamara', 'Servac', 'Bonifac']\n",
      "Novy zoznam --> ['Ladislav', 'Karol', 'Zuzana', 'Peter', 'Karol', 'Ivana', 'Adam', 'Maria', 'Xenia', 'Marcel', 'Tamara', 'Servac', 'Tana', 'Bonifac']\n",
      "\n",
      "Novy zoznam --> ['Karol', 'Zuzana', 'Peter', 'Karol', 'Ivana', 'Adam', 'Maria', 'Xenia', 'Marcel', 'Tamara', 'Servac', 'Tana', 'Bonifac']\n",
      "Co som odstranil --> Ladislav\n",
      "\n",
      "Novy zoznam --> ['Karol', 'Zuzana', 'Peter', 'Karol', 'Ivana', 'Adam', 'Maria', 'Xenia', 'Marcel', 'Tamara', 'Servac', 'Tana']\n",
      "\n",
      "Novy zoznam --> ['Tana', 'Servac', 'Tamara', 'Marcel', 'Xenia', 'Maria', 'Adam', 'Ivana', 'Karol', 'Peter', 'Zuzana', 'Karol']\n",
      "\n",
      "Novy zoznam --> ['Adam', 'Ivana', 'Karol', 'Karol', 'Marcel', 'Maria', 'Peter', 'Servac', 'Tamara', 'Tana', 'Xenia', 'Zuzana']\n"
     ]
    }
   ],
   "source": [
    "zoznam_klientov = [\"Karol\", \"Peter\", \"Karol\", \"Ivana\", \"Adam\", \"Maria\", \"Xenia\", \"Marcel\"]\n",
    "print(\"Original -->\", zoznam_klientov)\n",
    "zoznam_klientov.append(\"Tamara\")\n",
    "print(\"Novy zoznam -->\", zoznam_klientov)\n",
    "# zoznam_klientov.append([\"Nina\", \"Ursula\"])\n",
    "# print(\"Novy zoznam -->\", zoznam_klientov)\n",
    "zoznam_klientov.extend([\"Servac\", \"Bonifac\"])\n",
    "print(\"Novy zoznam -->\", zoznam_klientov)\n",
    "# zoznam_klientov.clear()\n",
    "# zoznam_klientov = []\n",
    "print(\"Novy zoznam -->\", zoznam_klientov)\n",
    "zoznam_klientov_zaloha = zoznam_klientov.copy()\n",
    "print(\"\\nzoznam_klientov_zaloha -->\", zoznam_klientov_zaloha)\n",
    "print(\"Pocet prvkov vsetkych --> \", len(zoznam_klientov))\n",
    "print(\"Pocet prvkov Karol --> \", zoznam_klientov.count(\"Karol\"))\n",
    "\n",
    "print(\"Na ktorom indexe je Karol --> \", zoznam_klientov.index(\"Karol\"))\n",
    "\n",
    "zoznam_klientov.insert(0, \"Ladislav\")\n",
    "print(\"\\nNovy zoznam -->\", zoznam_klientov)\n",
    "\n",
    "zoznam_klientov.insert(2, \"Zuzana\")\n",
    "print(\"Novy zoznam -->\", zoznam_klientov)\n",
    "\n",
    "zoznam_klientov.insert(-1, \"Tana\")\n",
    "print(\"Novy zoznam -->\", zoznam_klientov)\n",
    "\n",
    "odstranena_polozka = zoznam_klientov.pop(0)\n",
    "print(\"\\nNovy zoznam -->\", zoznam_klientov)\n",
    "print(\"Co som odstranil -->\", odstranena_polozka)\n",
    "\n",
    "zoznam_klientov.remove(\"Bonifac\")\n",
    "print(\"\\nNovy zoznam -->\", zoznam_klientov)\n",
    "\n",
    "zoznam_klientov.reverse()\n",
    "print(\"\\nNovy zoznam -->\", zoznam_klientov)\n",
    "\n",
    "zoznam_klientov.sort()\n",
    "print(\"\\nNovy zoznam -->\", zoznam_klientov)\n"
   ]
  },
  {
   "cell_type": "markdown",
   "id": "f73bf72c",
   "metadata": {},
   "source": [
    "# 04. Práca s textovými súbormi"
   ]
  },
  {
   "cell_type": "code",
   "execution_count": 159,
   "id": "4d50bcdf",
   "metadata": {
    "ExecuteTime": {
     "end_time": "2022-06-16T11:53:50.382052Z",
     "start_time": "2022-06-16T11:53:50.359052Z"
    }
   },
   "outputs": [
    {
     "name": "stdout",
     "output_type": "stream",
     "text": [
      "<_io.TextIOWrapper name='data2.txt' mode='w' encoding='utf-8'>\n",
      "Som zapisal do suboru\n",
      "\n",
      "Som precital zo suboru:\n",
      "['Python je super...\\n', 'Java je super...\\n']\n"
     ]
    }
   ],
   "source": [
    "# r - read\n",
    "# w - write\n",
    "# a - append\n",
    "# b - binary\n",
    "\n",
    "try:\n",
    "    subor = open(\"data2.txt\", mode = \"w\", encoding = \"utf-8\")\n",
    "    print(subor)\n",
    "    print(\"Som zapisal do suboru\")\n",
    "    subor.write(\"Python je super...\\n\")\n",
    "    subor.write(\"Java je super...\\n\")\n",
    "    \n",
    "finally:\n",
    "    subor.close()\n",
    "    \n",
    "try:\n",
    "    subor = open(\"data2.txt\", mode = \"r\", encoding = \"utf-8\")\n",
    "    print(\"\\nSom precital zo suboru:\")\n",
    "    print(subor.readlines())\n",
    "    \n",
    "finally:\n",
    "    subor.close()\n",
    "    "
   ]
  },
  {
   "cell_type": "markdown",
   "id": "9b7f55a3",
   "metadata": {},
   "source": [
    "# 05. Vlastne funkcie/definicie"
   ]
  },
  {
   "cell_type": "code",
   "execution_count": 166,
   "id": "28c3757c",
   "metadata": {
    "ExecuteTime": {
     "end_time": "2022-06-16T12:05:56.139287Z",
     "start_time": "2022-06-16T12:05:56.122288Z"
    }
   },
   "outputs": [
    {
     "name": "stdout",
     "output_type": "stream",
     "text": [
      "Ahoj\n",
      "Obvod trojuholnika --> 6\n",
      "Obvod trojuholnika --> 42\n",
      "Adam Sangala\n"
     ]
    }
   ],
   "source": [
    "# Funkcia, metoda, definicia\n",
    "# DRY\n",
    "\n",
    "def vypis_ahoj():\n",
    "    \"\"\"Toto je funkcia, ktora vypise Ahoj\"\"\"\n",
    "    print(\"Ahoj\")\n",
    "\n",
    "def vypocitaj_obvod_trojuholnik(a, b, c):\n",
    "    print(\"Obvod trojuholnika -->\", a + b + c)\n",
    "    \n",
    "def vypis_cele_meno_pouzivatela(m, p):\n",
    "    \"\"\"m - meno, p - priezvisko\"\"\"\n",
    "    cele_meno = m.strip() + \" \" + p.strip()\n",
    "    cele_meno = cele_meno.title()\n",
    "    return cele_meno\n",
    "    \n",
    "# Volanie funkcie\n",
    "vypis_ahoj()\n",
    "vypocitaj_obvod_trojuholnik(1,2,3)\n",
    "vypocitaj_obvod_trojuholnik(10,2,30)\n",
    "print(vypis_cele_meno_pouzivatela(\"Adam\", \"Sangala\"))"
   ]
  },
  {
   "cell_type": "code",
   "execution_count": null,
   "id": "c96158b3",
   "metadata": {},
   "outputs": [],
   "source": []
  }
 ],
 "metadata": {
  "kernelspec": {
   "display_name": "Python 3 (ipykernel)",
   "language": "python",
   "name": "python3"
  },
  "language_info": {
   "codemirror_mode": {
    "name": "ipython",
    "version": 3
   },
   "file_extension": ".py",
   "mimetype": "text/x-python",
   "name": "python",
   "nbconvert_exporter": "python",
   "pygments_lexer": "ipython3",
   "version": "3.9.7"
  },
  "toc": {
   "base_numbering": 1,
   "nav_menu": {},
   "number_sections": true,
   "sideBar": true,
   "skip_h1_title": false,
   "title_cell": "Table of Contents",
   "title_sidebar": "Contents",
   "toc_cell": false,
   "toc_position": {},
   "toc_section_display": true,
   "toc_window_display": false
  },
  "varInspector": {
   "cols": {
    "lenName": 16,
    "lenType": 16,
    "lenVar": 40
   },
   "kernels_config": {
    "python": {
     "delete_cmd_postfix": "",
     "delete_cmd_prefix": "del ",
     "library": "var_list.py",
     "varRefreshCmd": "print(var_dic_list())"
    },
    "r": {
     "delete_cmd_postfix": ") ",
     "delete_cmd_prefix": "rm(",
     "library": "var_list.r",
     "varRefreshCmd": "cat(var_dic_list()) "
    }
   },
   "types_to_exclude": [
    "module",
    "function",
    "builtin_function_or_method",
    "instance",
    "_Feature"
   ],
   "window_display": false
  }
 },
 "nbformat": 4,
 "nbformat_minor": 5
}
