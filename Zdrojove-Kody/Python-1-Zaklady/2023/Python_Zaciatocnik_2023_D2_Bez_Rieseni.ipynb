{
 "cells":[
  {
   "cell_type":"markdown",
   "source":[
    "# D1"
   ],
   "attachments":{
    
   },
   "metadata":{
    "datalore":{
     "node_id":"D1",
     "type":"MD",
     "hide_input_from_viewers":false,
     "hide_output_from_viewers":false,
     "sheet_delimiter":true
    }
   }
  },
  {
   "cell_type":"markdown",
   "source":[
    "# 🐍 Kurz Python I. Začiatočník\n",
    "**🧑‍🏫 Lektor:** Miroslav Reiter  \n",
    "**📥 LinkedIn kontakt:** https:\/\/www.linkedin.com\/in\/miroslav-reiter\/  \n",
    "\n",
    "**✅ Osnova:** https:\/\/itkurzy.sav.sk\/node\/29\n",
    "\n",
    "**🎞️ YouTube videá:** https:\/\/www.youtube.com\/c\/IT-AcademySK  \n",
    "**📇 Zdrojové kódy a materiály:** https:\/\/github.com\/miroslav-reiter\/Kurzy_SAV_Analytika_Python_R  \n",
    "\n",
    "**😊 Emojis:** Win + .  \n",
    "**🔖 MarkDown Dokumentácia:** https:\/\/www.markdownguide.org\/getting-started\/"
   ],
   "attachments":{
    
   },
   "metadata":{
    "datalore":{
     "node_id":"v5rhv4NK5w3eS0qmrZiGKf",
     "type":"MD",
     "hide_input_from_viewers":false,
     "hide_output_from_viewers":false,
     "report_properties":{
      "rowId":"FDlPjbmq8mVKoEaLz8cpQj"
     }
    }
   }
  },
  {
   "cell_type":"markdown",
   "source":[
    "## 📝 Jazyk Markdown\n",
    "Toto je **dokumentácia**  \n",
    "Toto je tretí riadok  \n",
    "win + ."
   ],
   "attachments":{
    
   },
   "metadata":{
    "datalore":{
     "node_id":"PlTI3IeqepsP02Qbt1N8EF",
     "type":"MD",
     "hide_input_from_viewers":true,
     "hide_output_from_viewers":true
    }
   }
  },
  {
   "cell_type":"markdown",
   "source":[
    "## 🖨 Tlač (Výpis), Komentáre, Kódovanie, Dokumentácia"
   ],
   "attachments":{
    
   },
   "metadata":{
    "datalore":{
     "node_id":"YXGgOQrfCvBzNWu98Oi528",
     "type":"MD",
     "hide_input_from_viewers":false,
     "hide_output_from_viewers":false,
     "report_properties":{
      "rowId":"mLERHDLkPm3QJgHLUkYKm3"
     }
    }
   }
  },
  {
   "cell_type":"code",
   "source":[
    "# -*- coding: utf-8 -*-\n",
    "\n",
    "# # Toto je jednoriadkovy komentar\n",
    "# # alt + 35, shift + 3\n",
    "# print(\"Toto je text, retazec\")\n",
    "# print(\"Ahoj, Svet!\")\n",
    "# #print(\"Hello, World!\")\n",
    "\n",
    "\n",
    "\n",
    "\"\"\"\n",
    "    Toto je docstring\n",
    "    Dokumentacny retazec\n",
    "    Toto je nasa dokumentacia ku zdrojovemu kodu...\n",
    "    Autor:\n",
    "    Verzia:\n",
    "\"\"\"\n",
    "\n",
    "print(__doc__) # toto je doc"
   ],
   "execution_count":null,
   "outputs":[
    {
     "name":"stdout",
     "text":[
      "\n",
      "    Toto je docstring\n",
      "    Dokumentacny retazec\n",
      "    Toto je nasa dokumentacia ku zdrojovemu kodu...\n",
      "    Autor:\n",
      "    Verzia:\n",
      "\n"
     ],
     "output_type":"stream"
    }
   ],
   "metadata":{
    "datalore":{
     "node_id":"mIqBypR1TPybH7MJd075ER",
     "type":"CODE",
     "hide_input_from_viewers":false,
     "hide_output_from_viewers":false,
     "report_properties":{
      "rowId":"CVww9FE3nadZfAszg445uX"
     }
    }
   }
  },
  {
   "cell_type":"code",
   "source":[
    "# hello world \n",
    "print(\"hello world\")"
   ],
   "execution_count":null,
   "outputs":[
    
   ],
   "metadata":{
    "datalore":{
     "node_id":"p83jPbsC8glFep94clVrcK",
     "type":"CODE",
     "hide_input_from_viewers":true,
     "hide_output_from_viewers":true
    }
   }
  },
  {
   "cell_type":"code",
   "source":[
    "# ahoj svet \n",
    "# print the phrase \"ahoj svet\"\n",
    "print(\"ahoj svet\")"
   ],
   "execution_count":null,
   "outputs":[
    
   ],
   "metadata":{
    "datalore":{
     "node_id":"6wKwnjlJd660Y0jzut40J7",
     "type":"CODE",
     "hide_input_from_viewers":true,
     "hide_output_from_viewers":true
    }
   }
  },
  {
   "cell_type":"markdown",
   "source":[
    "## 🗳️ Dátové Typy a Premenné"
   ],
   "attachments":{
    
   },
   "metadata":{
    "datalore":{
     "node_id":"JbxlEVzd6GsOCWRSnDWPP4",
     "type":"MD",
     "hide_input_from_viewers":false,
     "hide_output_from_viewers":false,
     "report_properties":{
      "rowId":"T1eK16tKGo7EYPxTMlwmvt"
     }
    }
   }
  },
  {
   "cell_type":"code",
   "source":[
    
   ],
   "execution_count":null,
   "outputs":[
    
   ],
   "metadata":{
    "datalore":{
     "node_id":"ePLMn1MW9NMpwihwOtrMqr",
     "type":"CODE",
     "hide_input_from_viewers":true,
     "hide_output_from_viewers":true
    }
   }
  },
  {
   "cell_type":"code",
   "source":[
    "# datumy v pythone \n",
    "import datetime\n",
    "\n",
    "# getting current date and time\n",
    "d = datetime.datetime.now()\n",
    "print(\"Current date and time: \", d)"
   ],
   "execution_count":null,
   "outputs":[
    {
     "name":"stdout",
     "text":[
      "Current date and time:  2023-09-20 09:58:21.135380\n"
     ],
     "output_type":"stream"
    }
   ],
   "metadata":{
    "datalore":{
     "node_id":"NBaBu1XeHrCzU9Sdf5La80",
     "type":"CODE",
     "hide_input_from_viewers":true,
     "hide_output_from_viewers":true
    }
   }
  },
  {
   "cell_type":"code",
   "source":[
    "# histogram iq ludia \n",
    "import matplotlib.pyplot as plt\n",
    "import numpy as np\n",
    "\n",
    "# the IQ scores of a group of people\n",
    "# as an example let's generate some scores randomly around average IQ score which is 100\n",
    "np.random.seed(0)\n",
    "iq_scores = np.random.normal(100, 15, 1000)\n",
    "\n",
    "# creating a histogram\n",
    "plt.hist(iq_scores, bins=20, edgecolor='black')\n",
    "\n",
    "plt.title('Histogram of IQ scores')\n",
    "plt.xlabel('IQ score')\n",
    "plt.ylabel('Frequency')\n",
    "\n",
    "plt.show()"
   ],
   "execution_count":null,
   "outputs":[
    {
     "data":{
      "image\/png":"[encoded data removed]"
     },
     "metadata":{
      "image\/png":{
       
      }
     },
     "output_type":"display_data"
    }
   ],
   "metadata":{
    "datalore":{
     "node_id":"y8fkWOdPiuCCpC2DYlkcnm",
     "type":"CODE",
     "hide_input_from_viewers":true,
     "hide_output_from_viewers":true
    }
   }
  },
  {
   "cell_type":"code",
   "source":[
    "# pexeso \n",
    "# pexeso game\n",
    "\n",
    "import random\n",
    "\n",
    "# Define pairs \n",
    "pairs = ['A', 'B', 'C', 'D']\n",
    "\n",
    "# Shuffle the deck\n",
    "deck = pairs * 2\n",
    "random.shuffle(deck)\n",
    "\n",
    "# The game state\n",
    "state = ['_'] * 8\n",
    "\n",
    "while '_' in state:\n",
    "    print(' '.join(state))\n",
    "    first_choice = int(input(\"Enter the first index (between 0 to 7): \"))\n",
    "    print(deck[first_choice])\n",
    "    second_choice = int(input(\"Enter the second index (between 0 to 7): \"))\n",
    "    if deck[first_choice] == deck[second_choice]:\n",
    "        state[first_choice] = deck[first_choice]\n",
    "        state[second_choice] = deck[second_choice]\n",
    "    else:\n",
    "        print(\"Sorry, try again.\")\n",
    "        \n",
    "print(' '.join(state))\n",
    "print(\"Congratulations! You've matched all pairs.\")"
   ],
   "execution_count":null,
   "outputs":[
    {
     "name":"stdout",
     "text":[
      "_ _ _ _ _ _ _ _\n"
     ],
     "output_type":"stream"
    }
   ],
   "metadata":{
    "datalore":{
     "node_id":"PNIQ8Iz2Vecto5wcCgkEvw",
     "type":"CODE",
     "hide_input_from_viewers":true,
     "hide_output_from_viewers":true
    }
   }
  },
  {
   "cell_type":"code",
   "source":[
    "print(\"Ahoj Svet\")\n",
    "print('Hello World')\n",
    "\n",
    "print(\"Ahoj svet 'ahoj nebo' cauko\")"
   ],
   "execution_count":null,
   "outputs":[
    {
     "name":"stdout",
     "text":[
      "Ahoj Svet\n",
      "Hello World\n",
      "Ahoj svet 'ahoj nebo' cauko\n"
     ],
     "output_type":"stream"
    }
   ],
   "metadata":{
    "datalore":{
     "node_id":"R52v31OKlUAhOl9NK5WFyc",
     "type":"CODE",
     "hide_input_from_viewers":true,
     "hide_output_from_viewers":true
    }
   }
  },
  {
   "cell_type":"code",
   "source":[
    "# grafy kolacovy v pythone \n",
    "# grafy kolacovy v pythone\n",
    "import matplotlib.pyplot as plt\n",
    "\n",
    "# Let's assume we have following data\n",
    "labels = ['Cervena', 'Modra', 'Green', 'Purple']\n",
    "sizes = [15, 30, 45, 10]\n",
    "\n",
    "# Let's create a pie chart\n",
    "fig1, ax1 = plt.subplots()\n",
    "ax1.pie(sizes, labels=labels, autopct='%1.1f%%',\n",
    "        shadow=True, startangle=90)\n",
    "\n",
    "# Equal aspect ratio ensures that pie is drawn as a circle.\n",
    "ax1.axis('equal')\n",
    "\n",
    "plt.show()"
   ],
   "execution_count":null,
   "outputs":[
    {
     "data":{
      "image\/png":"[encoded data removed]"
     },
     "metadata":{
      "image\/png":{
       
      }
     },
     "output_type":"display_data"
    }
   ],
   "metadata":{
    "datalore":{
     "node_id":"O1kkxQQRIQ6X7jSbiCE75K",
     "type":"CODE",
     "hide_input_from_viewers":true,
     "hide_output_from_viewers":true
    }
   }
  },
  {
   "cell_type":"code",
   "source":[
    "# farby v pythone \n",
    "# farby v pythone \n",
    "\n",
    "# Define colors in RGB format\n",
    "colors = {\n",
    "    \"red\": (255, 0, 0),\n",
    "    \"green\": (0, 255, 0),\n",
    "    \"blue\": (0, 0, 255),\n",
    "    \"white\": (255, 255, 255),\n",
    "    \"black\": (0, 0, 0),\n",
    "}\n",
    "\n",
    "# Print each color name with its RGB value\n",
    "for color, rgb in colors.items():\n",
    "    print(f\"The RGB value of {color} is {rgb}\")"
   ],
   "execution_count":null,
   "outputs":[
    {
     "name":"stdout",
     "text":[
      "The RGB value of red is (255, 0, 0)\n",
      "The RGB value of green is (0, 255, 0)\n",
      "The RGB value of blue is (0, 0, 255)\n",
      "The RGB value of white is (255, 255, 255)\n",
      "The RGB value of black is (0, 0, 0)\n"
     ],
     "output_type":"stream"
    }
   ],
   "metadata":{
    "datalore":{
     "node_id":"3AhfegEjEncPCcYREtyNEH",
     "type":"CODE",
     "hide_input_from_viewers":true,
     "hide_output_from_viewers":true
    }
   }
  },
  {
   "cell_type":"code",
   "source":[
    "# Cele Cisla (Integer - int) - Z, -5, -10, 0, 10000000\n",
    "pocet_zamestnancov = 5\n",
    "print(pocet_zamestnancov)\n",
    "print(type(pocet_zamestnancov))\n",
    "\n",
    "# Realne Cisla (float) - R\n",
    "mzda_zamestnanec_socialista = 931.69\n",
    "print(mzda_zamestnanec_socialista)\n",
    "print(type(mzda_zamestnanec_socialista))\n",
    "\n",
    "# Komplexne cisla - C\n",
    "komplexne_cislo = 3+2j\n",
    "print(komplexne_cislo)\n",
    "print(type(komplexne_cislo))\n",
    "\n",
    "# Retazce (string)\n",
    "nazov_podniku = \"ABC s.r.o.\"\n",
    "print(nazov_podniku)\n",
    "print(type(nazov_podniku))\n",
    "\n",
    "# Bool\/Boolean - True, False\n",
    "je_zamestnanec_PN = False\n",
    "print(je_zamestnanec_PN)\n",
    "print(type(je_zamestnanec_PN))\n",
    "\n",
    "# None - Nic\n",
    "kosik = None\n",
    "print(kosik)\n",
    "print(type(kosik))\n",
    "\n",
    "# Komplexnejsie\/zlozitejsie datove typy\n",
    "# Zoznam (List) []\n",
    "zoznam_zamestnancov = [\"Peter\", \"Eva\", \"Zuzana\", \"Michal\", \"Jaroslav\"]\n",
    "zoznam_miezd = [1500, 6500, 3500, 1700]\n",
    "profil_zakaznik = [1, \"Miroslav\", \"Reiter\", 500.69, True, [\"nieco\", \"nieco\"]]\n",
    "print(zoznam_miezd)\n",
    "print(zoznam_zamestnancov)\n",
    "print(type(zoznam_zamestnancov))\n",
    "\n",
    "# Tica (Tuple) ()\n",
    "tica_cisla = (1,2,3,4,5)\n",
    "print(tica_cisla)\n",
    "print(type(tica_cisla))\n",
    "\n",
    "tica_cisla2 = 10,11\n",
    "print(tica_cisla2)\n",
    "print(type(tica_cisla2))\n",
    "\n",
    "# Mnoziny (Sets) {}\n",
    "mnozina_predmetov = {\"informatika\", \"hudobna vychova\", \"telocvik\", \"informatika\"}\n",
    "print(mnozina_predmetov)\n",
    "print(type(mnozina_predmetov))\n",
    "\n",
    "# Slovnik (Dict) - asociativne zoznamy\/polia\n",
    "# kluc:hodnota, key:value, JSON\n",
    "rodina = {\"mama\":\"Ivana\", \"otec\":\"Peter\", \"syn\":[\"Karol\", \"Oto\"], \"psiky\" : [\"Luigi\", \"Mario\", \"Yoshi\"] }\n",
    "print(rodina)\n",
    "print(type(rodina))"
   ],
   "execution_count":null,
   "outputs":[
    {
     "name":"stdout",
     "text":[
      "5\n",
      "<class 'int'>\n",
      "931.69\n",
      "<class 'float'>\n",
      "(3+2j)\n",
      "<class 'complex'>\n",
      "ABC s.r.o.\n",
      "<class 'str'>\n",
      "False\n",
      "<class 'bool'>\n",
      "None\n",
      "<class 'NoneType'>\n",
      "[1500, 6500, 3500, 1700]\n",
      "['Peter', 'Eva', 'Zuzana', 'Michal', 'Jaroslav']\n",
      "<class 'list'>\n",
      "(1, 2, 3, 4, 5)\n",
      "<class 'tuple'>\n",
      "(10, 11)\n",
      "<class 'tuple'>\n",
      "{'hudobna vychova', 'telocvik', 'informatika'}\n",
      "<class 'set'>\n",
      "{'mama': 'Ivana', 'otec': 'Peter', 'syn': ['Karol', 'Oto'], 'psiky': ['Luigi', 'Mario', 'Yoshi']}\n",
      "<class 'dict'>\n"
     ],
     "output_type":"stream"
    }
   ],
   "metadata":{
    "datalore":{
     "node_id":"Ssh2vvgrBfJxWhCrYI3APn",
     "type":"CODE",
     "hide_input_from_viewers":false,
     "hide_output_from_viewers":false,
     "report_properties":{
      "rowId":"b6TWcfnM8GlqhGM2f8Jptc"
     }
    }
   }
  },
  {
   "cell_type":"code",
   "source":[
    "print(5+2)\n",
    "# Escaped sequence, ukoncovacie sekvencie\n",
    "# \\n new line novy riadok, odriadkuje\n",
    "# \\\" \"\n",
    "# \\\\ \\\n",
    "# \\t temp\n",
    "# \\' '\n",
    "\n",
    "print(\"Ahoj\" + \" \" + \"svet \\n\\n\")\n",
    "print(\"Ahoj\", \"svet\")\n",
    "print(\"Ahoj svet\")\n",
    "\n",
    "print(\"\\\"\")\n",
    "print(\"\\\\\")\n",
    "print(\"C:\\\\temp\")\n",
    "print(\"Meno: \\t Adam\")\n",
    "print(\"() () [] {}\")"
   ],
   "execution_count":null,
   "outputs":[
    {
     "name":"stdout",
     "text":[
      "7\n",
      "Ahoj svet \n",
      "\n",
      "\n",
      "Ahoj svet\n",
      "Ahoj svet\n",
      "\"\n",
      "\\\n",
      "C:\\temp\n",
      "Meno: \t Adam\n",
      "() () [] {}\n"
     ],
     "output_type":"stream"
    }
   ],
   "metadata":{
    "datalore":{
     "node_id":"zjV07dRfWN2MEqTEkG4i8F",
     "type":"CODE",
     "hide_input_from_viewers":true,
     "hide_output_from_viewers":true
    }
   }
  },
  {
   "cell_type":"markdown",
   "source":[
    "## 🎲 Zabudované (built-in) Funkcie, Operácie"
   ],
   "attachments":{
    
   },
   "metadata":{
    "datalore":{
     "node_id":"ftzsGh45wGI5LgREMG6bfg",
     "type":"MD",
     "hide_input_from_viewers":false,
     "hide_output_from_viewers":false,
     "report_properties":{
      "rowId":"vWn1evk0fscC82HO987J03"
     }
    }
   }
  },
  {
   "cell_type":"code",
   "source":[
    
   ],
   "execution_count":null,
   "outputs":[
    {
     "name":"stdout",
     "text":[
      "Zoznam cisel: [1, 2, 3, 4, 5, 6, 7, -5, -9] ma typ:  <class 'list'>\n",
      "Maximum: 7\n",
      "Minimum: -9\n",
      "Sum: 14\n",
      "Pocet cisel: 9\n",
      "8\n",
      "32\n",
      "2.5\n",
      "2\n",
      "1\n",
      "Zoradenie + reverse: [7, 6, 5, 4, 3, 2, 1, -5, -9]\n",
      "Reverse: <list_reverseiterator object at 0x7fa3c02573a0>\n",
      "Zoznam original: [-5, True, False, 0, 100.6]\n",
      "Zoznam sorted: [-5, False, 0, True, 100.6]\n"
     ],
     "output_type":"stream"
    }
   ],
   "metadata":{
    "datalore":{
     "node_id":"nayUobzOd7x13muIA7kmOr",
     "type":"CODE",
     "hide_input_from_viewers":false,
     "hide_output_from_viewers":false,
     "report_properties":{
      "rowId":"w1ObBNk9CfUR8skQE3zrDx"
     }
    }
   }
  },
  {
   "cell_type":"markdown",
   "source":[
    "## 🔥Pretypovanie (Implicitne a Explicitne)"
   ],
   "attachments":{
    
   },
   "metadata":{
    "datalore":{
     "node_id":"jvwcmTzZMbJewSaYSnYsiZ",
     "type":"MD",
     "hide_input_from_viewers":false,
     "hide_output_from_viewers":false,
     "report_properties":{
      "rowId":"8NsXor2Hqv1WsD0H5z3xRn"
     }
    }
   }
  },
  {
   "cell_type":"code",
   "source":[
    "print(2+3)\n",
    "# Implicitne pretypovanie\n",
    "print(2+3.5)\n",
    "\n",
    "print(\"Laco\" + \" + \" + \"Monika\" + \" \" + \"= velka laska\")\n",
    "# Explicitne pretypovanie int -> str\n",
    "print(\"Laco ma mzdu: \" + str(1289) + \"Eur\")\n",
    "\n",
    "# Explicitne pretypovanie float -> int\n",
    "print(int(1289.99))\n",
    "\n",
    "# Explicitne pretypovanie float -> bool\n",
    "print(bool(1289.99))\n",
    "print(bool(-100))\n",
    "\n",
    "# F-String (Formatted string)\n",
    "mzda_manazer = 3469.36\n",
    "prax_manazer = 3\n",
    "print(f\"Peter ma mzdu: {mzda_manazer} Eur a ma {prax_manazer} roky praxe\")\n",
    "\n",
    "programator_prax = 6\n",
    "programator_mzda = 2460\n",
    "\n",
    "print(f\"Programator mzda: {programator_mzda} Eur, prax: {programator_prax} rokov\")\n",
    "\n",
    "print(f\"Vyraz {1+2}\")\n",
    "print(f\"Vyraz 1+2\")"
   ],
   "execution_count":null,
   "outputs":[
    {
     "name":"stdout",
     "text":[
      "5\n",
      "5.5\n",
      "Laco + Monika = velka laska\n",
      "Laco ma mzdu: 1289Eur\n",
      "1289\n",
      "True\n",
      "True\n",
      "Peter ma mzdu: 3469.36 Eur a ma 3 roky praxe\n",
      "Programator mzda: 2460 Eur, prax: 6 rokov\n",
      "Vyraz 3\n",
      "Vyraz 1+2\n"
     ],
     "output_type":"stream"
    }
   ],
   "metadata":{
    "datalore":{
     "node_id":"P54Kif3MaKZUG4yyX8MZwI",
     "type":"CODE",
     "hide_input_from_viewers":false,
     "hide_output_from_viewers":false,
     "report_properties":{
      "rowId":"jR8WA6Taiyr0qHRUCHSQ7E"
     }
    }
   }
  },
  {
   "cell_type":"markdown",
   "source":[
    "## ❇️ Zoznamy a Výber Dát (Slicing)"
   ],
   "attachments":{
    
   },
   "metadata":{
    "datalore":{
     "node_id":"haJlWirtWalQSKXJnQeART",
     "type":"MD",
     "hide_input_from_viewers":false,
     "hide_output_from_viewers":false,
     "report_properties":{
      "rowId":"pwgv1InDZ7mtZI9kJVWoP9"
     }
    }
   }
  },
  {
   "cell_type":"code",
   "source":[
    
   ],
   "execution_count":null,
   "outputs":[
    {
     "name":"stdout",
     "text":[
      "Zoznam cisel: [-5, 0, 2, 3, 7, 9, 10, 100]\n",
      "Pocet cisel: 8\n",
      "1. polozka\/0. index: -5\n",
      "2. polozka\/1. index: 0\n",
      "Posledna. polozka\/-1. index: 100\n",
      "Posledna. polozka\/-1. index: 100\n",
      "Predposledna polozka\/-2. index: 100\n",
      "Predposledna polozka\/-2. index: 10\n",
      "1:3 -> [0, 2]\n",
      "0:3 -> [-5, 0, 2]\n",
      ":5 -> [-5, 0, 2, 3, 7]\n",
      "5: -> [9, 10, 100]\n",
      ": -> [-5, 0, 2, 3, 7, 9, 10, 100]\n",
      "::: -> [-5, 0, 2, 3, 7, 9, 10, 100]\n",
      "::2 -> [-5, 2, 7, 10]\n",
      "::-1 -> [100, 10, 9, 7, 3, 2, 0, -5]\n",
      "::-2 -> [100, 9, 3, 0]\n",
      "0:5:-1 -> []\n",
      "5:0:-1 -> [9, 7, 3, 2, 0]\n",
      "0:-5:-1 -> []\n",
      "-5:0:-1 -> [3, 2, 0]\n"
     ],
     "output_type":"stream"
    }
   ],
   "metadata":{
    "datalore":{
     "node_id":"igZV4gZG7H81XJB9M8ouUF",
     "type":"CODE",
     "hide_input_from_viewers":false,
     "hide_output_from_viewers":false,
     "report_properties":{
      "rowId":"gC1fBU7SFG38h6Mvu9bfp3"
     }
    }
   }
  },
  {
   "cell_type":"markdown",
   "source":[
    "## ✅ Zabudované Metódy pre Zoznamy\/Lists"
   ],
   "attachments":{
    
   },
   "metadata":{
    "datalore":{
     "node_id":"BbOoyApm7qPRcqMJm1vhU3",
     "type":"MD",
     "hide_input_from_viewers":false,
     "hide_output_from_viewers":false,
     "report_properties":{
      "rowId":"Q0919U57pLuE5TpCPDcgpZ"
     }
    }
   }
  },
  {
   "cell_type":"code",
   "source":[
    
   ],
   "execution_count":null,
   "outputs":[
    {
     "name":"stdout",
     "text":[
      "Zoznam klientov: ['Adam', 'Martina', 'Jozef', 'Maria']\n",
      "Zoznam klientov po append: ['Adam', 'Martina', 'Jozef', 'Maria', 'Eva', 'Marta', 'Dusan']\n",
      "Zoznam klientov: ['Adam', 'Martina', 'Jozef', 'Maria', 'Eva', 'Marta', 'Dusan', 'Igor', 'Xenia']\n",
      "id(zoznam_klientov) --> 139634590600000\n",
      "id(zoznam_klientov_zaloha) --> 139634593531328\n",
      "id(zoznam_klientov2) --> 139634590600000\n",
      "Na ktorom indexe je Eva:  4\n",
      "Na ktorom indexe je Xenia:  8\n",
      "Zoznam klientov: ['Chuck', 'Chuck', 'Adam', 'Martina', 'Jozef', 'Maria', 'Eva', 'Marta', 'Dusan', 'Igor', 'Xenia']\n",
      "Zoznam klientov: ['Chuck', 'Adam', 'Martina', 'Jozef', 'Maria', 'Eva', 'Marta', 'Dusan', 'Igor', 'Xenia']\n",
      "Vymazana polozka: Chuck\n",
      "Zoznam klientov: ['Chuck', 'Adam', 'Martina', 'Jozef', 'Maria', 'Eva', 'Dusan', 'Igor', 'Xenia']\n"
     ],
     "output_type":"stream"
    }
   ],
   "metadata":{
    "datalore":{
     "node_id":"z8jeRwjThOU0BPslUVJABy",
     "type":"CODE",
     "hide_input_from_viewers":false,
     "hide_output_from_viewers":false,
     "report_properties":{
      "rowId":"ox2kxC206B7s4De7vUoe6D"
     }
    }
   }
  },
  {
   "cell_type":"code",
   "source":[
    
   ],
   "execution_count":null,
   "outputs":[
    {
     "name":"stdout",
     "text":[
      "Zoradeny zoznam klientov Vzostupne: ['Adam', 'Chuck', 'Dusan', 'Eva', 'Igor', 'Jozef', 'Maria', 'Martina', 'Xenia']\n",
      "Zoradeny zoznam klientov Zostupne: ['Xenia', 'Martina', 'Maria', 'Jozef', 'Igor', 'Eva', 'Dusan', 'Chuck', 'Adam']\n"
     ],
     "output_type":"stream"
    }
   ],
   "metadata":{
    "datalore":{
     "node_id":"FcioSEGFblg6dyACJKn3Wr",
     "type":"CODE",
     "hide_input_from_viewers":false,
     "hide_output_from_viewers":false,
     "report_properties":{
      "rowId":"KfCFtcJ6nFofZN9uJIm5E3"
     }
    }
   }
  },
  {
   "cell_type":"code",
   "source":[
    
   ],
   "execution_count":null,
   "outputs":[
    {
     "name":"stdout",
     "text":[
      "id(a) -> 139634950357440\n",
      "id(b) -> 139634950357600\n",
      "id(c) -> 139634950357440\n",
      "id(d) -> 139634950357440\n"
     ],
     "output_type":"stream"
    }
   ],
   "metadata":{
    "datalore":{
     "node_id":"gRG6SnBbrZum6H5ITccdc8",
     "type":"CODE",
     "hide_input_from_viewers":false,
     "hide_output_from_viewers":false,
     "report_properties":{
      "rowId":"ENZN5Y3sKWKQkzf31Nevu8"
     }
    }
   }
  },
  {
   "cell_type":"markdown",
   "source":[
    "## 📋Tice (Tuple)"
   ],
   "attachments":{
    
   },
   "metadata":{
    "datalore":{
     "node_id":"Wo7sulgP1bv8V5qLEYe9L1",
     "type":"MD",
     "hide_input_from_viewers":false,
     "hide_output_from_viewers":false,
     "report_properties":{
      "rowId":"BYdMknCgAy4uFzTpOduC9i"
     }
    }
   }
  },
  {
   "cell_type":"code",
   "source":[
    
   ],
   "execution_count":null,
   "outputs":[
    {
     "name":"stdout",
     "text":[
      "tica cisel: (100, 1, 2, 3, 5, 7, 9, 100, 100) typ: <class 'tuple'>\n",
      "0. index\/1. polozka:  100\n"
     ],
     "output_type":"stream"
    }
   ],
   "metadata":{
    "datalore":{
     "node_id":"EmmDIVDWWq22wzSosRCDVY",
     "type":"CODE",
     "hide_input_from_viewers":false,
     "hide_output_from_viewers":false,
     "report_properties":{
      "rowId":"QjL3nLvGszMuwGmHdoEb2q"
     }
    }
   }
  },
  {
   "cell_type":"code",
   "source":[
    
   ],
   "execution_count":null,
   "outputs":[
    {
     "name":"stdout",
     "text":[
      "<module 'math' from '\/opt\/python\/lib\/python3.8\/lib-dynload\/math.cpython-38-x86_64-linux-gnu.so'>\n",
      "<class 'module'>\n",
      "This module provides access to the mathematical functions\n",
      "defined by the C standard.\n",
      "['__doc__', '__file__', '__loader__', '__name__', '__package__', '__spec__', 'acos', 'acosh', 'asin', 'asinh', 'atan', 'atan2', 'atanh', 'ceil', 'comb', 'copysign', 'cos', 'cosh', 'degrees', 'dist', 'e', 'erf', 'erfc', 'exp', 'expm1', 'fabs', 'factorial', 'floor', 'fmod', 'frexp', 'fsum', 'gamma', 'gcd', 'hypot', 'inf', 'isclose', 'isfinite', 'isinf', 'isnan', 'isqrt', 'ldexp', 'lgamma', 'log', 'log10', 'log1p', 'log2', 'modf', 'nan', 'perm', 'pi', 'pow', 'prod', 'radians', 'remainder', 'sin', 'sinh', 'sqrt', 'tan', 'tanh', 'tau', 'trunc']\n",
      "Help on built-in function fmod in module math:\n",
      "\n",
      "fmod(x, y, \/)\n",
      "    Return fmod(x, y), according to platform C.\n",
      "    \n",
      "    x % y may differ.\n",
      "\n",
      "None\n"
     ],
     "output_type":"stream"
    }
   ],
   "metadata":{
    "datalore":{
     "node_id":"p7Ux68iTdceKfWdDFxqOxV",
     "type":"CODE",
     "hide_input_from_viewers":false,
     "hide_output_from_viewers":false,
     "report_properties":{
      "rowId":"kxXbZMdpfqWqYJ7S2o2Jzv"
     }
    }
   }
  },
  {
   "cell_type":"markdown",
   "source":[
    "# D2"
   ],
   "attachments":{
    
   },
   "metadata":{
    "datalore":{
     "node_id":"D2",
     "type":"MD",
     "hide_input_from_viewers":false,
     "hide_output_from_viewers":false,
     "sheet_delimiter":true
    }
   }
  },
  {
   "cell_type":"markdown",
   "source":[
    "# 🐍 Kurz Python I. Začiatočník\n",
    "**🧑‍🏫 Lektor:** Miroslav Reiter  \n",
    "**📥 LinkedIn kontakt:** https:\/\/www.linkedin.com\/in\/miroslav-reiter\/  \n",
    "\n",
    "**✅ Osnova:** https:\/\/itkurzy.sav.sk\/node\/29\n",
    "\n",
    "**🎞️ YouTube videá:** https:\/\/www.youtube.com\/c\/IT-AcademySK  \n",
    "**📇 Zdrojové kódy a materiály:** https:\/\/github.com\/miroslav-reiter\/Kurzy_SAV_Analytika_Python_R  \n",
    "\n",
    "**😊 Emojis:** Win + .  \n",
    "**🔖 MarkDown Dokumentácia:** https:\/\/www.markdownguide.org\/getting-started\/"
   ],
   "attachments":{
    
   },
   "metadata":{
    "datalore":{
     "node_id":"U7D6nXnHhyrpQCCwlKA8J8",
     "type":"MD",
     "hide_input_from_viewers":true,
     "hide_output_from_viewers":true
    }
   }
  },
  {
   "cell_type":"markdown",
   "source":[
    "## 🫶 Filozofia a Princípy Python"
   ],
   "attachments":{
    
   },
   "metadata":{
    "datalore":{
     "node_id":"CPLp7ANIME89UFbjvto9U0",
     "type":"MD",
     "hide_input_from_viewers":true,
     "hide_output_from_viewers":true
    }
   }
  },
  {
   "cell_type":"code",
   "source":[
    
   ],
   "execution_count":null,
   "outputs":[
    
   ],
   "metadata":{
    "datalore":{
     "node_id":"n35A09nAZPoZyMvER1OvYO",
     "type":"CODE",
     "hide_input_from_viewers":true,
     "hide_output_from_viewers":true
    }
   }
  },
  {
   "cell_type":"markdown",
   "source":[
    "## 🎛️ Riadiace štruktúry (Control flow)"
   ],
   "attachments":{
    
   },
   "metadata":{
    "datalore":{
     "node_id":"oRNSnF6ZE05jJ9Q8ADiTSN",
     "type":"MD",
     "hide_input_from_viewers":true,
     "hide_output_from_viewers":true
    }
   }
  },
  {
   "cell_type":"markdown",
   "source":[
    " "
   ],
   "attachments":{
    
   },
   "metadata":{
    "datalore":{
     "node_id":"scXQTVdcNjY6npWA19toms",
     "type":"MD",
     "hide_input_from_viewers":true,
     "hide_output_from_viewers":true
    }
   }
  },
  {
   "cell_type":"code",
   "source":[
    " "
   ],
   "execution_count":null,
   "outputs":[
    
   ],
   "metadata":{
    "datalore":{
     "node_id":"SDXH99GYNyPMGnG36gQ6Aw",
     "type":"CODE",
     "hide_input_from_viewers":true,
     "hide_output_from_viewers":true
    }
   }
  },
  {
   "cell_type":"markdown",
   "source":[
    "## 🚓 Štruktúra If"
   ],
   "attachments":{
    
   },
   "metadata":{
    "datalore":{
     "node_id":"hLyaTpclPRbuoP71ArbPxN",
     "type":"MD",
     "hide_input_from_viewers":true,
     "hide_output_from_viewers":true
    }
   }
  },
  {
   "cell_type":"code",
   "source":[
    
   ],
   "execution_count":null,
   "outputs":[
    
   ],
   "metadata":{
    "datalore":{
     "node_id":"wXkDNML0JN9ISe5g0QsPif",
     "type":"CODE",
     "hide_input_from_viewers":true,
     "hide_output_from_viewers":true
    }
   }
  },
  {
   "cell_type":"markdown",
   "source":[
    "## ✔️ Logické operátory "
   ],
   "attachments":{
    
   },
   "metadata":{
    "datalore":{
     "node_id":"CwWbvsaqgxJTH4pp1bIYjE",
     "type":"MD",
     "hide_input_from_viewers":true,
     "hide_output_from_viewers":true
    }
   }
  },
  {
   "cell_type":"code",
   "source":[
    
   ],
   "execution_count":null,
   "outputs":[
    
   ],
   "metadata":{
    "datalore":{
     "node_id":"YhrtNzDZgMYIMXsoOdDLf2",
     "type":"CODE",
     "hide_input_from_viewers":true,
     "hide_output_from_viewers":true
    }
   }
  },
  {
   "cell_type":"markdown",
   "source":[
    "## 🗎 Zoznamy, Range, Operátor in"
   ],
   "attachments":{
    
   },
   "metadata":{
    "datalore":{
     "node_id":"sxGVYAjAg57ujHZY7aF6ba",
     "type":"MD",
     "hide_input_from_viewers":true,
     "hide_output_from_viewers":true
    }
   }
  },
  {
   "cell_type":"code",
   "source":[
    
   ],
   "execution_count":null,
   "outputs":[
    
   ],
   "metadata":{
    "datalore":{
     "node_id":"rYBji2ghz0VpjxKWp7YizM",
     "type":"CODE",
     "hide_input_from_viewers":true,
     "hide_output_from_viewers":true
    }
   }
  },
  {
   "cell_type":"markdown",
   "source":[
    "## 🐹 Štruktúra for (Cyklus)"
   ],
   "attachments":{
    
   },
   "metadata":{
    "datalore":{
     "node_id":"0B9EpPYdWyknKMhgEVYQWW",
     "type":"MD",
     "hide_input_from_viewers":true,
     "hide_output_from_viewers":true
    }
   }
  },
  {
   "cell_type":"code",
   "source":[
    
   ],
   "execution_count":null,
   "outputs":[
    
   ],
   "metadata":{
    "datalore":{
     "node_id":"X5huUlpa0gZP21mbthdwJd",
     "type":"CODE",
     "hide_input_from_viewers":true,
     "hide_output_from_viewers":true
    }
   }
  },
  {
   "cell_type":"markdown",
   "source":[
    "## ➕ Operátory"
   ],
   "attachments":{
    
   },
   "metadata":{
    "datalore":{
     "node_id":"N0rOyNuaa1Rdopn7UgmqwF",
     "type":"MD",
     "hide_input_from_viewers":true,
     "hide_output_from_viewers":true
    }
   }
  },
  {
   "cell_type":"code",
   "source":[
    
   ],
   "execution_count":null,
   "outputs":[
    
   ],
   "metadata":{
    "datalore":{
     "node_id":"0976Qft6LkWiZvZbISOLGe",
     "type":"CODE",
     "hide_input_from_viewers":true,
     "hide_output_from_viewers":true
    }
   }
  },
  {
   "cell_type":"markdown",
   "source":[
    "## 🧮 Reverzné prechádzanie, enumerácia"
   ],
   "attachments":{
    
   },
   "metadata":{
    "datalore":{
     "node_id":"hTLp91I9VzOpCacIBULhQy",
     "type":"MD",
     "hide_input_from_viewers":true,
     "hide_output_from_viewers":true
    }
   }
  },
  {
   "cell_type":"code",
   "source":[
    
   ],
   "execution_count":null,
   "outputs":[
    
   ],
   "metadata":{
    "datalore":{
     "node_id":"ho82jXeScg7mIe0yTmfrxE",
     "type":"CODE",
     "hide_input_from_viewers":true,
     "hide_output_from_viewers":true
    }
   }
  },
  {
   "cell_type":"markdown",
   "source":[
    "## 🐹 Štruktúra while (cyklus), break"
   ],
   "attachments":{
    
   },
   "metadata":{
    "datalore":{
     "node_id":"DhNT04jJO4BaDanVHLNKRX",
     "type":"MD",
     "hide_input_from_viewers":true,
     "hide_output_from_viewers":true
    }
   }
  },
  {
   "cell_type":"code",
   "source":[
    
   ],
   "execution_count":null,
   "outputs":[
    
   ],
   "metadata":{
    "datalore":{
     "node_id":"uoyplRBuE6U5PoLlCsGza4",
     "type":"CODE",
     "hide_input_from_viewers":true,
     "hide_output_from_viewers":true
    }
   }
  },
  {
   "cell_type":"markdown",
   "source":[
    "## 🐇 Continue"
   ],
   "attachments":{
    
   },
   "metadata":{
    "datalore":{
     "node_id":"PXjQ1KovJqXreVi4aSdaaK",
     "type":"MD",
     "hide_input_from_viewers":true,
     "hide_output_from_viewers":true
    }
   }
  },
  {
   "cell_type":"code",
   "source":[
    
   ],
   "execution_count":null,
   "outputs":[
    
   ],
   "metadata":{
    "datalore":{
     "node_id":"D1XZRGDDrEdOOykbVp5pqI",
     "type":"CODE",
     "hide_input_from_viewers":true,
     "hide_output_from_viewers":true
    }
   }
  },
  {
   "cell_type":"markdown",
   "source":[
    "## 📁 Práca so Súbormi"
   ],
   "attachments":{
    
   },
   "metadata":{
    "datalore":{
     "node_id":"yV8dXxPV3DpugEoKuZljhP",
     "type":"MD",
     "hide_input_from_viewers":true,
     "hide_output_from_viewers":true
    }
   }
  },
  {
   "cell_type":"code",
   "source":[
    
   ],
   "execution_count":null,
   "outputs":[
    
   ],
   "metadata":{
    "datalore":{
     "node_id":"ZUr6959xJj65J6VNdt3iMb",
     "type":"CODE",
     "hide_input_from_viewers":true,
     "hide_output_from_viewers":true
    }
   }
  },
  {
   "cell_type":"markdown",
   "source":[
    "## 📇 Slovníky (dict) a množiny (sets)"
   ],
   "attachments":{
    
   },
   "metadata":{
    "datalore":{
     "node_id":"t4dHLk6q7bbeZixYTGRwEf",
     "type":"MD",
     "hide_input_from_viewers":true,
     "hide_output_from_viewers":true
    }
   }
  },
  {
   "cell_type":"code",
   "source":[
    
   ],
   "execution_count":null,
   "outputs":[
    
   ],
   "metadata":{
    "datalore":{
     "node_id":"gBge9CqoU3s7PFA30SFCQX",
     "type":"CODE",
     "hide_input_from_viewers":true,
     "hide_output_from_viewers":true
    }
   }
  },
  {
   "cell_type":"markdown",
   "source":[
    "## 💻 Vlastné funkcie\/podprogram (definicie)"
   ],
   "attachments":{
    
   },
   "metadata":{
    "datalore":{
     "node_id":"qr9Mxymg3IFvWFUNhFJBl6",
     "type":"MD",
     "hide_input_from_viewers":true,
     "hide_output_from_viewers":true
    }
   }
  },
  {
   "cell_type":"code",
   "source":[
    
   ],
   "execution_count":null,
   "outputs":[
    
   ],
   "metadata":{
    "datalore":{
     "node_id":"BYDnRNltcg3HCc72gsWnEt",
     "type":"CODE",
     "hide_input_from_viewers":true,
     "hide_output_from_viewers":true
    }
   }
  },
  {
   "cell_type":"markdown",
   "source":[
    "# AI"
   ],
   "attachments":{
    
   },
   "metadata":{
    "datalore":{
     "node_id":"AI",
     "type":"MD",
     "hide_input_from_viewers":false,
     "hide_output_from_viewers":false,
     "sheet_delimiter":true
    }
   }
  },
  {
   "cell_type":"code",
   "source":[
    "# ahoj svet \n",
    "# ahoj svet\n",
    "print(\"ahoj svet\")"
   ],
   "execution_count":null,
   "outputs":[
    
   ],
   "metadata":{
    "datalore":{
     "node_id":"K4X2b7mudRNcQYxyIkkEMR",
     "type":"CODE",
     "hide_input_from_viewers":true,
     "hide_output_from_viewers":true
    }
   }
  },
  {
   "cell_type":"code",
   "source":[
    "# gui hello world \n",
    "from tkinter import Tk, Label\n",
    "\n",
    "def create_gui():\n",
    "    root = Tk()\n",
    "    Label(root, text=\"Hello World\").pack()\n",
    "    root.mainloop()\n",
    "\n",
    "create_gui()"
   ],
   "execution_count":null,
   "outputs":[
    {
     "ename":"ImportError",
     "evalue":"ImportError: libtk8.6.so: cannot open shared object file: No such file or directory",
     "traceback":[
      "\u001b[0;31m---------------------------------------------------------------------------",
      "Traceback (most recent call last)",
      "ImportError: libtk8.6.so: cannot open shared object file: No such file or directory"
     ],
     "output_type":"error"
    }
   ],
   "metadata":{
    "datalore":{
     "node_id":"LpQsrxrV8SMOjSR6b4wRi5",
     "type":"CODE",
     "hide_input_from_viewers":true,
     "hide_output_from_viewers":true
    }
   }
  },
  {
   "cell_type":"code",
   "source":[
    "# super mario konzola \n",
    "# super mario console\n",
    "def print_mario(position):\n",
    "    print (' ' * position + 'mario')\n",
    "    print ('#' * 10)\n",
    "\n",
    "def move_mario():\n",
    "    position = 0\n",
    "    while True:\n",
    "        print_mario(position)\n",
    "        move = input(\"Enter 'left', 'right' or 'quit': \")\n",
    "        if move == 'left':\n",
    "            position = max(0, position - 1)\n",
    "        elif move == 'right':\n",
    "            position = min(9, position + 1)\n",
    "        elif move == 'quit':\n",
    "            break\n",
    "        else:\n",
    "            print(\"Invalid move. Please input either 'left', 'right' or 'quit'.\")\n",
    "\n",
    "move_mario()"
   ],
   "execution_count":null,
   "outputs":[
    {
     "name":"stdout",
     "text":[
      "mario\n",
      "##########\n",
      "Enter 'left', 'right' or 'quit':  left\n",
      "mario\n",
      "##########\n",
      "Enter 'left', 'right' or 'quit':  quit\n"
     ],
     "output_type":"stream"
    }
   ],
   "metadata":{
    "datalore":{
     "node_id":"98SSwsLRrO5yjDhhoyWG3E",
     "type":"CODE",
     "hide_input_from_viewers":true,
     "hide_output_from_viewers":true
    }
   }
  },
  {
   "cell_type":"code",
   "source":[
    "# čiarový graf \n",
    "# %% Python\n",
    "import matplotlib.pyplot as plt\n",
    "\n",
    "# Create some example data\n",
    "x = [1, 2, 3, 4, 5, 6, 7, 8, 9, 10]\n",
    "y = [2, 3, 5, 7, 11, 13, 17, 19, 23, 29]\n",
    "\n",
    "# Create the line graph\n",
    "plt.plot(x, y)\n",
    "\n",
    "# Add title and labels for axes\n",
    "plt.title('Line graph')\n",
    "plt.xlabel('X-axis')\n",
    "plt.ylabel('Y-axis')\n",
    "\n",
    "# Display the graph\n",
    "plt.show()"
   ],
   "execution_count":null,
   "outputs":[
    {
     "data":{
      "image\/png":"[encoded data removed]"
     },
     "metadata":{
      "image\/png":{
       
      }
     },
     "output_type":"display_data"
    }
   ],
   "metadata":{
    "datalore":{
     "node_id":"IX2chIB5CFSHQ53FKONNOX",
     "type":"CODE",
     "hide_input_from_viewers":true,
     "hide_output_from_viewers":true
    }
   }
  },
  {
   "cell_type":"code",
   "source":[
    "# spusti zdrojový kod o 18:00 \n",
    "import schedule\n",
    "import time\n",
    "\n",
    "def run_scripts():\n",
    "    # Put the source code you want to run here\n",
    "\n",
    "    pass\n",
    "\n",
    "# Schedule the task\n",
    "schedule.every().day.at(\"18:00\").do(run_scripts)\n",
    "\n",
    "# Keep the script running\n",
    "while True:\n",
    "    schedule.run_pending()\n",
    "    time.sleep(1)"
   ],
   "execution_count":null,
   "outputs":[
    
   ],
   "metadata":{
    "datalore":{
     "node_id":"CLBUvuFDPEFvvj9MB5fZJu",
     "type":"CODE",
     "hide_input_from_viewers":true,
     "hide_output_from_viewers":true
    }
   }
  },
  {
   "cell_type":"code",
   "source":[
    "# pošli email v pythone \n",
    "import smtplib\n",
    "from email.mime.multipart import MIMEMultipart\n",
    "from email.mime.text import MIMEText\n",
    "\n",
    "from_address = \"from_address@email.com\"\n",
    "to_address = \"to_address@email.com\"\n",
    "password = \"password\"  # Please be careful with passwords\n",
    "\n",
    "# Create a multipart message\n",
    "msg = MIMEMultipart()\n",
    "msg['From'] = from_address\n",
    "msg['To'] = to_address\n",
    "msg['Subject'] = \"Test email from Python\"\n",
    "\n",
    "# Create the message body\n",
    "body = \"This is a test email sent from Python.\"\n",
    "msg.attach(MIMEText(body, 'plain'))\n",
    "\n",
    "# Send the email\n",
    "server = smtplib.SMTP('smtp.gmail.com', 587)\n",
    "server.starttls()  # Secure the connection\n",
    "server.login(from_address, password)\n",
    "text = msg.as_string()  # Convert the message to string\n",
    "server.sendmail(from_address, to_address, text)\n",
    "server.quit()\n",
    "\n",
    "obrázo"
   ],
   "execution_count":null,
   "outputs":[
    
   ],
   "metadata":{
    "datalore":{
     "node_id":"1T3Tfi9iMARclgKRVJ3jxH",
     "type":"CODE",
     "hide_input_from_viewers":true,
     "hide_output_from_viewers":true
    }
   }
  },
  {
   "cell_type":"code",
   "source":[
    "# fraktal  \n",
    "# fraktal\n",
    "import numpy as np\n",
    "import matplotlib.pyplot as plt\n",
    "\n",
    "def mandelbrot(c, max_iter):\n",
    "    z = c\n",
    "    for n in range(max_iter):\n",
    "        if abs(z) > 2:\n",
    "            return n\n",
    "        z = z*z + c\n",
    "    return max_iter\n",
    "\n",
    "def draw_mandelbrot(xmin,xmax,ymin,ymax,width,height,max_iter):\n",
    "    r1 = np.linspace(xmin, xmax, width)\n",
    "    r2 = np.linspace(ymin, ymax, height)\n",
    "    return (r1,r2,np.array([[mandelbrot(complex(r, i),max_iter) for r in r1] for i in r2]))\n",
    "\n",
    "image_width = 800\n",
    "image_height = 800\n",
    "xmin = -2.0\n",
    "xmax = 1.0\n",
    "ymin = -1.5\n",
    "ymax = 1.5\n",
    "max_iter = 256\n",
    "\n",
    "dx, dy, mandelbrot_set = draw_mandelbrot(xmin,xmax,ymin,ymax,image_width,image_height,max_iter)\n",
    "\n",
    "plt.imshow(mandelbrot_set, extent=(xmin, xmax, ymin, ymax))\n",
    "plt.show()"
   ],
   "execution_count":null,
   "outputs":[
    {
     "data":{
      "image\/png":"[encoded data removed]"
     },
     "metadata":{
      "image\/png":{
       
      }
     },
     "output_type":"display_data"
    }
   ],
   "metadata":{
    "datalore":{
     "node_id":"5TklvHPGFUjZaAxgkADUf8",
     "type":"CODE",
     "hide_input_from_viewers":true,
     "hide_output_from_viewers":true
    }
   }
  },
  {
   "cell_type":"code",
   "source":[
    "# vytvor eshop \n",
    "class Product:\n",
    "    def __init__(self, id, name, price):\n",
    "        self.id = id\n",
    "        self.name = name\n",
    "        self.price = price\n",
    "\n",
    "class ShoppingCart:\n",
    "    def __init__(self):\n",
    "        self.items = []\n",
    "        \n",
    "    def add_item(self, product):\n",
    "        self.items.append(product)\n",
    "        \n",
    "    def checkout(self):\n",
    "        total = sum([item.price for item in self.items])\n",
    "        self.items = []  # Clear cart after checkout\n",
    "        return total\n",
    "\n",
    "# Create some products\n",
    "product1 = Product(1, 'Apple', 1.0)\n",
    "product2 = Product(2, 'Orange', 1.5)\n",
    "\n",
    "# Add products to shopping cart\n",
    "cart = ShoppingCart()\n",
    "cart.add_item(product1)\n",
    "cart.add_item(product2)\n",
    "\n",
    "# Checkout\n",
    "total = cart.checkout()\n",
    "print('Total: ', total)"
   ],
   "execution_count":null,
   "outputs":[
    
   ],
   "metadata":{
    "datalore":{
     "node_id":"GAtqQACrpUgNVMAKQS0boN",
     "type":"CODE",
     "hide_input_from_viewers":true,
     "hide_output_from_viewers":true
    }
   }
  },
  {
   "cell_type":"code",
   "source":[
    "# vytvor eshop "
   ],
   "execution_count":null,
   "outputs":[
    
   ],
   "metadata":{
    "datalore":{
     "node_id":"bUNsKrzD9RbzcLWxv7rZKh",
     "type":"CODE",
     "hide_input_from_viewers":true,
     "hide_output_from_viewers":true
    }
   }
  }
 ],
 "metadata":{
  "kernelspec":{
   "display_name":"Python",
   "language":"python",
   "name":"python"
  },
  "datalore":{
   "computation_mode":"JUPYTER",
   "package_manager":"pip",
   "base_environment":"default",
   "packages":[
    
   ],
   "report_row_ids":[
    "FDlPjbmq8mVKoEaLz8cpQj",
    "mLERHDLkPm3QJgHLUkYKm3",
    "CVww9FE3nadZfAszg445uX",
    "T1eK16tKGo7EYPxTMlwmvt",
    "b6TWcfnM8GlqhGM2f8Jptc",
    "vWn1evk0fscC82HO987J03",
    "w1ObBNk9CfUR8skQE3zrDx",
    "8NsXor2Hqv1WsD0H5z3xRn",
    "jR8WA6Taiyr0qHRUCHSQ7E",
    "pwgv1InDZ7mtZI9kJVWoP9",
    "gC1fBU7SFG38h6Mvu9bfp3",
    "Q0919U57pLuE5TpCPDcgpZ",
    "ox2kxC206B7s4De7vUoe6D",
    "KfCFtcJ6nFofZN9uJIm5E3",
    "ENZN5Y3sKWKQkzf31Nevu8",
    "BYdMknCgAy4uFzTpOduC9i",
    "QjL3nLvGszMuwGmHdoEb2q",
    "kxXbZMdpfqWqYJ7S2o2Jzv"
   ],
   "version":3
  }
 },
 "nbformat":4,
 "nbformat_minor":4
}