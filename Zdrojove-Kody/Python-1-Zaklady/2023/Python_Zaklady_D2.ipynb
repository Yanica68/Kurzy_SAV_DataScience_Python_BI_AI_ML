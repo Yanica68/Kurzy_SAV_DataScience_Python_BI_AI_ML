{
 "cells":[
  {
   "cell_type":"markdown",
   "source":[
    "# Kurz Python Základy 🐍 "
   ],
   "attachments":{
    
   },
   "metadata":{
    "datalore":{
     "node_id":"9XmRUIgv5PWHiZIzZ3HG8R",
     "type":"MD",
     "hide_input_from_viewers":false,
     "hide_output_from_viewers":false,
     "report_properties":{
      
     }
    }
   }
  },
  {
   "cell_type":"code",
   "source":[
    
   ],
   "execution_count":null,
   "outputs":[
    {
     "name":"stdout",
     "text":[
      "The Zen of Python, by Tim Peters\n",
      "\n",
      "Beautiful is better than ugly.\n",
      "Explicit is better than implicit.\n",
      "Simple is better than complex.\n",
      "Complex is better than complicated.\n",
      "Flat is better than nested.\n",
      "Sparse is better than dense.\n",
      "Readability counts.\n",
      "Special cases aren't special enough to break the rules.\n",
      "Although practicality beats purity.\n",
      "Errors should never pass silently.\n",
      "Unless explicitly silenced.\n",
      "In the face of ambiguity, refuse the temptation to guess.\n",
      "There should be one-- and preferably only one --obvious way to do it.\n",
      "Although that way may not be obvious at first unless you're Dutch.\n",
      "Now is better than never.\n",
      "Although never is often better than *right* now.\n",
      "If the implementation is hard to explain, it's a bad idea.\n",
      "If the implementation is easy to explain, it may be a good idea.\n",
      "Namespaces are one honking great idea -- let's do more of those!\n"
     ],
     "output_type":"stream"
    }
   ],
   "metadata":{
    "datalore":{
     "node_id":"m1ULw9w5hxQBxrXNDPpFdn",
     "type":"CODE",
     "hide_input_from_viewers":false,
     "hide_output_from_viewers":false,
     "report_properties":{
      
     }
    }
   }
  },
  {
   "cell_type":"markdown",
   "source":[
    "## I. Riadiace štruktúry (Control flow)"
   ],
   "attachments":{
    
   },
   "metadata":{
    "datalore":{
     "node_id":"IsQE7lgef4Wvz2X95I6tsC",
     "type":"MD",
     "hide_input_from_viewers":false,
     "hide_output_from_viewers":false,
     "report_properties":{
      
     }
    }
   }
  },
  {
   "cell_type":"markdown",
   "source":[
    "1. if, else, elif - vetvenie, rozhodovat\n",
    "2. for - cyklus, opakovanie\n",
    "3. while - cyklus, opakovanie  \n",
    "break, continue"
   ],
   "attachments":{
    
   },
   "metadata":{
    "datalore":{
     "node_id":"HPNhOMK8o2RbcrucGiAKKE",
     "type":"MD",
     "hide_input_from_viewers":false,
     "hide_output_from_viewers":false,
     "report_properties":{
      
     }
    }
   }
  },
  {
   "cell_type":"markdown",
   "source":[
    "## II. Štruktúra If"
   ],
   "attachments":{
    
   },
   "metadata":{
    "datalore":{
     "node_id":"gSFnl8qkkY28riUV0eKDR8",
     "type":"MD",
     "hide_input_from_viewers":false,
     "hide_output_from_viewers":false,
     "report_properties":{
      
     }
    }
   }
  },
  {
   "cell_type":"code",
   "source":[
    
   ],
   "execution_count":null,
   "outputs":[
    {
     "name":"stdout",
     "text":[
      "Kolko mas rokov --> 18\n",
      "Mas 18 rokov\n",
      "Dostanes vodicak...\n",
      "Gratulujem, už si dospelý\n"
     ],
     "output_type":"stream"
    }
   ],
   "metadata":{
    "datalore":{
     "node_id":"UTcOnMNd27qPHQ0c0DU0AO",
     "type":"CODE",
     "hide_input_from_viewers":false,
     "hide_output_from_viewers":false,
     "report_properties":{
      
     }
    }
   }
  },
  {
   "cell_type":"markdown",
   "source":[
    "## III. Priradenie a Porovnanie"
   ],
   "attachments":{
    
   },
   "metadata":{
    "datalore":{
     "node_id":"rWVv2mgvnSvwmH9eWf2zSw",
     "type":"MD",
     "hide_input_from_viewers":false,
     "hide_output_from_viewers":false,
     "report_properties":{
      
     }
    }
   }
  },
  {
   "cell_type":"code",
   "source":[
    "# a - and (log. súčin)\n",
    "# alebo - or (log. súčet)\n",
    "# negácia - not\n",
    " \n",
    "# True = log. 1\n",
    "# False = log. 0\n",
    "\n",
    "# = priradenie"
   ],
   "execution_count":null,
   "outputs":[
    {
     "name":"stdout",
     "text":[
      "\n",
      "And\n",
      "True\n",
      "False\n",
      "\n",
      "Or\n",
      "True\n",
      "True\n",
      "True\n",
      "False\n",
      "\n",
      "Not\n",
      "False\n",
      "False\n",
      "False\n",
      "True\n",
      "\n",
      "Porovnanie\n",
      "False\n",
      "True\n",
      "True\n",
      "False\n"
     ],
     "output_type":"stream"
    }
   ],
   "metadata":{
    "datalore":{
     "node_id":"yANt2CckoHOmplODQIPC1i",
     "type":"CODE",
     "hide_input_from_viewers":false,
     "hide_output_from_viewers":false,
     "report_properties":{
      
     }
    }
   }
  },
  {
   "cell_type":"markdown",
   "source":[
    "## IV. Zoznamy, Range, Operátor in"
   ],
   "attachments":{
    
   },
   "metadata":{
    "datalore":{
     "node_id":"xdDM9B5paWR4gbNXpv5DMt",
     "type":"MD",
     "hide_input_from_viewers":false,
     "hide_output_from_viewers":false,
     "report_properties":{
      
     }
    }
   }
  },
  {
   "cell_type":"code",
   "source":[
    
   ],
   "execution_count":null,
   "outputs":[
    {
     "name":"stdout",
     "text":[
      "Celkovy pocet zamestnancov --> 7\n",
      "1. zamestnanec, 0. index --> Ivan\n",
      "2. zamestnanec, 1. index --> Monika\n",
      "5. zamestnanec, 4. index --> Peter\n",
      "\n",
      "Posledny zamestnanec, -1 index --> Ursula\n",
      "Predposledny zamestnanec, -2 index --> Milan\n",
      "Milan, -3 index --> Peter\n",
      "\n",
      "Posledny zamestnanec, -1 index --> Ursula\n",
      "Predposledny zamestnanec, -2 index --> Milan\n",
      "\n",
      "Range:\n",
      "[0, 1, 2, 3, 4]\n",
      "[0, 1, 2, 3, 4, 5, 6, 7, 8, 9]\n",
      "[1, 2, 3, 4, 5, 6, 7, 8, 9]\n",
      "[-10, -9, -8, -7, -6, -5, -4, -3, -2, -1, 0, 1, 2, 3, 4, 5, 6, 7, 8, 9, 10]\n",
      "[-10, -8, -6, -4, -2, 0, 2, 4, 6, 8, 10]\n",
      "\n",
      "Operator in retazec\n",
      "True\n",
      "False\n",
      "False\n",
      "\n",
      "Operator in zoznam\n",
      "True\n",
      "True\n",
      "False\n"
     ],
     "output_type":"stream"
    }
   ],
   "metadata":{
    "datalore":{
     "node_id":"clUg5ny21A7q2g3ZKF2qSU",
     "type":"CODE",
     "hide_input_from_viewers":false,
     "hide_output_from_viewers":false,
     "report_properties":{
      
     }
    }
   }
  },
  {
   "cell_type":"markdown",
   "source":[
    "## V. Štruktúra for (cyklus)"
   ],
   "attachments":{
    
   },
   "metadata":{
    "datalore":{
     "node_id":"Tm8ao8urcH74ieQeg5kKYV",
     "type":"MD",
     "hide_input_from_viewers":false,
     "hide_output_from_viewers":false,
     "report_properties":{
      
     }
    }
   }
  },
  {
   "cell_type":"code",
   "source":[
    
   ],
   "execution_count":null,
   "outputs":[
    {
     "name":"stdout",
     "text":[
      "range(5)\n",
      "0 . Ahoj svet\n",
      "1 . Ahoj svet\n",
      "2 . Ahoj svet\n",
      "3 . Ahoj svet\n",
      "4 . Ahoj svet\n",
      "\n",
      "range(1, 6)\n",
      "1 . Ahoj svet\n",
      "2 . Ahoj svet\n",
      "3 . Ahoj svet\n",
      "4 . Ahoj svet\n",
      "5 . Ahoj svet\n",
      "\n",
      "Zoznam zamestnancov:\n",
      "Ivan\n",
      "Monika\n",
      "Maria\n",
      "Tomas\n",
      "Peter\n",
      "Milan\n",
      "Ursula\n",
      "\n",
      "sucet: 45\n",
      "[1, 2, 3, 4, 5, 6, 7, 8, 9]\n",
      "Pocet hodnot: 9\n",
      "Priemer hodnot: 5.0\n"
     ],
     "output_type":"stream"
    }
   ],
   "metadata":{
    "datalore":{
     "node_id":"rrRLVc7M1QAuV2rvBq0Kch",
     "type":"CODE",
     "hide_input_from_viewers":false,
     "hide_output_from_viewers":false,
     "report_properties":{
      
     }
    }
   }
  },
  {
   "cell_type":"markdown",
   "source":[
    "## VI. Operátory"
   ],
   "attachments":{
    
   },
   "metadata":{
    "datalore":{
     "node_id":"CxhLuqAvO7TbYhRiFy1YVl",
     "type":"MD",
     "hide_input_from_viewers":false,
     "hide_output_from_viewers":false,
     "report_properties":{
      
     }
    }
   }
  },
  {
   "cell_type":"markdown",
   "source":[
    "Unárne - 1 (not)\n",
    "Binárne - 2 (* \/ and or)\n",
    "Ternárne - 3 if else\n",
    "python list comprehension"
   ],
   "attachments":{
    
   },
   "metadata":{
    "datalore":{
     "node_id":"BWd36np7izShFrr8Bm0lOE",
     "type":"MD",
     "hide_input_from_viewers":false,
     "hide_output_from_viewers":false,
     "report_properties":{
      
     }
    }
   }
  },
  {
   "cell_type":"code",
   "source":[
    
   ],
   "execution_count":null,
   "outputs":[
    {
     "data":{
      "text\/plain":[
       "False"
      ]
     },
     "metadata":{
      
     },
     "output_type":"display_data"
    }
   ],
   "metadata":{
    "datalore":{
     "node_id":"f1aGtDV3yV4OUfjiO6eSVK",
     "type":"CODE",
     "hide_input_from_viewers":false,
     "hide_output_from_viewers":false,
     "report_properties":{
      
     }
    }
   }
  },
  {
   "cell_type":"markdown",
   "source":[
    "## VIII. Reverzné prechádzanie, enumerácia"
   ],
   "attachments":{
    
   },
   "metadata":{
    "datalore":{
     "node_id":"rkwOxCQi4bDU9DQuNtxkUC",
     "type":"MD",
     "hide_input_from_viewers":false,
     "hide_output_from_viewers":false,
     "report_properties":{
      
     }
    }
   }
  },
  {
   "cell_type":"code",
   "source":[
    
   ],
   "execution_count":null,
   "outputs":[
    {
     "name":"stdout",
     "text":[
      "\n",
      "Zoznam zamestnancov:\n",
      "['Ivan', 'Monika', 'Maria', 'Tomas', 'Peter', 'Milan', 'Ursula']\n",
      "\n",
      "Reverzny zoznam zamestnancov:\n",
      "Ursula\n",
      "Milan\n",
      "Peter\n",
      "Tomas\n",
      "Maria\n",
      "Monika\n",
      "Ivan\n",
      "\n",
      "Cislovany zoznam zamestnancov:\n",
      "1 --> Ivan\n",
      "2 --> Monika\n",
      "3 --> Maria\n",
      "4 --> Tomas\n",
      "5 --> Peter\n",
      "6 --> Milan\n",
      "7 --> Ursula\n"
     ],
     "output_type":"stream"
    }
   ],
   "metadata":{
    "datalore":{
     "node_id":"1ANn34WyI690ZojAKL1Qkb",
     "type":"CODE",
     "hide_input_from_viewers":false,
     "hide_output_from_viewers":false,
     "report_properties":{
      
     }
    }
   }
  },
  {
   "cell_type":"markdown",
   "source":[
    "## IX. Štruktúra while (cyklus), break"
   ],
   "attachments":{
    
   },
   "metadata":{
    "datalore":{
     "node_id":"hqrksC0jb7OeUsm3InsLDu",
     "type":"MD",
     "hide_input_from_viewers":false,
     "hide_output_from_viewers":false,
     "report_properties":{
      
     }
    }
   }
  },
  {
   "cell_type":"code",
   "source":[
    
   ],
   "execution_count":null,
   "outputs":[
    {
     "name":"stdout",
     "text":[
      "1 Ahoj Python\n",
      "2 Ahoj Python\n",
      "3 Ahoj Python\n",
      "4 Ahoj Python\n",
      "5 Ahoj Python\n",
      "6 Ahoj Python\n",
      "7 Ahoj Python\n",
      "8 Ahoj Python\n",
      "9 Ahoj Python\n",
      "10 Ahoj Python\n",
      "Sme na konci...\n",
      "\n",
      "Chcem zit nonstop v roku  2023\n",
      "Chcem zit nonstop v roku  2024\n",
      "Chcem zit nonstop v roku  2025\n",
      "Chcem zit nonstop v roku  2026\n",
      "Chcem zit nonstop v roku  2027\n",
      "Chcem zit nonstop v roku  2028\n",
      "Chcem zit nonstop v roku  2029\n",
      "Chcem zit nonstop v roku  2030\n",
      "Koncime\n"
     ],
     "output_type":"stream"
    }
   ],
   "metadata":{
    "datalore":{
     "node_id":"iFBCSgvk7H68Co1dbhl9Pq",
     "type":"CODE",
     "hide_input_from_viewers":false,
     "hide_output_from_viewers":false,
     "report_properties":{
      
     }
    }
   }
  },
  {
   "cell_type":"markdown",
   "source":[
    "## X. Continue"
   ],
   "attachments":{
    
   },
   "metadata":{
    "datalore":{
     "node_id":"V4yhX0Z4fCXyTqn4wvdvWv",
     "type":"MD",
     "hide_input_from_viewers":false,
     "hide_output_from_viewers":false,
     "report_properties":{
      
     }
    }
   }
  },
  {
   "cell_type":"code",
   "source":[
    
   ],
   "execution_count":null,
   "outputs":[
    {
     "name":"stdout",
     "text":[
      "0\n",
      "2\n",
      "4\n",
      "6\n",
      "8\n",
      "10\n",
      "12\n",
      "14\n",
      "16\n",
      "18\n"
     ],
     "output_type":"stream"
    }
   ],
   "metadata":{
    "datalore":{
     "node_id":"On0DD6luJn14evHrPnALel",
     "type":"CODE",
     "hide_input_from_viewers":false,
     "hide_output_from_viewers":false,
     "report_properties":{
      
     }
    }
   }
  },
  {
   "cell_type":"markdown",
   "source":[
    "## XI. Práca so súbormi"
   ],
   "attachments":{
    
   },
   "metadata":{
    "datalore":{
     "node_id":"aKhIi9DbLSs4jJZyNgI0AS",
     "type":"MD",
     "hide_input_from_viewers":false,
     "hide_output_from_viewers":false,
     "report_properties":{
      
     }
    }
   }
  },
  {
   "cell_type":"code",
   "source":[
    
   ],
   "execution_count":null,
   "outputs":[
    {
     "name":"stdout",
     "text":[
      "Som zapisal...\n"
     ],
     "output_type":"stream"
    }
   ],
   "metadata":{
    "datalore":{
     "node_id":"psRsOoMy6BpXmdQhZNeY2G",
     "type":"CODE",
     "hide_input_from_viewers":false,
     "hide_output_from_viewers":false,
     "report_properties":{
      
     }
    }
   }
  },
  {
   "cell_type":"code",
   "source":[
    
   ],
   "execution_count":null,
   "outputs":[
    {
     "name":"stdout",
     "text":[
      "Obsah suboru:\n",
      " 2022\n"
     ],
     "output_type":"stream"
    }
   ],
   "metadata":{
    "datalore":{
     "node_id":"DgESyixgP8z0Yh2JSAi4l3",
     "type":"CODE",
     "hide_input_from_viewers":false,
     "hide_output_from_viewers":false,
     "report_properties":{
      
     }
    }
   }
  },
  {
   "cell_type":"code",
   "source":[
    
   ],
   "execution_count":null,
   "outputs":[
    {
     "name":"stdout",
     "text":[
      "2\n",
      "KarolEva\n",
      "1Eva\n"
     ],
     "output_type":"stream"
    }
   ],
   "metadata":{
    "datalore":{
     "node_id":"WekljD78wOLzXjtLfKORmb",
     "type":"CODE",
     "hide_input_from_viewers":false,
     "hide_output_from_viewers":false,
     "report_properties":{
      
     }
    }
   }
  },
  {
   "cell_type":"markdown",
   "source":[
    "## XII. Slovníky (dict) a množiny (sets)"
   ],
   "attachments":{
    
   },
   "metadata":{
    "datalore":{
     "node_id":"5StmKSnV2MknvVr764nkDT",
     "type":"MD",
     "hide_input_from_viewers":false,
     "hide_output_from_viewers":false,
     "report_properties":{
      
     }
    }
   }
  },
  {
   "cell_type":"code",
   "source":[
    
   ],
   "execution_count":null,
   "outputs":[
    {
     "name":"stdout",
     "text":[
      "Obsah: {'Mama': 'Monika', 'Otec': 'Jozef', 'Brat': 'Michal', 'Teta': 'Anna'} typ: <class 'dict'>\n",
      "1. v slovnik: Monika\n",
      "Teta: Anna\n",
      "Kluc je: Mama ma hodnotu Monika\n",
      "Kluc je: Otec ma hodnotu Jozef\n",
      "Kluc je: Brat ma hodnotu Michal\n",
      "Kluc je: Teta ma hodnotu Anna\n",
      "Obsah: {'Ivan': 'programator', 'Monika': 'analytik', 'Maria': 'personalista', 'Tomas': 'programator', 'Peter': 'analytik', 'Milan': 'personalista'} typ: <class 'dict'>\n",
      "Obsah: {0: 'programator', 1: 'analytik', 2: 'personalista', 3: 'programator', 4: 'analytik', 5: 'personalista'} typ: <class 'dict'>\n",
      "Obsah: {'Mysky', 'Tlaciaren', 'Notebooky'} typ: <class 'set'>\n"
     ],
     "output_type":"stream"
    }
   ],
   "metadata":{
    "datalore":{
     "node_id":"DfMAyJSFKkiCn40fiENIAx",
     "type":"CODE",
     "hide_input_from_viewers":false,
     "hide_output_from_viewers":false,
     "report_properties":{
      
     }
    }
   }
  },
  {
   "cell_type":"markdown",
   "source":[
    "## XIII. Vlastné funkcie\/podprogram (definicie)"
   ],
   "attachments":{
    
   },
   "metadata":{
    "datalore":{
     "node_id":"An9ZHDYaLFXpo0mrc3SeX5",
     "type":"MD",
     "hide_input_from_viewers":false,
     "hide_output_from_viewers":false,
     "report_properties":{
      
     }
    }
   }
  },
  {
   "cell_type":"code",
   "source":[
    
   ],
   "execution_count":null,
   "outputs":[
    {
     "name":"stdout",
     "text":[
      "<class 'function'>\n",
      "Toto je dokumentacia\/pokec k funkcii\n",
      "Ahoj Ing. Adam Sangala\n"
     ],
     "output_type":"stream"
    }
   ],
   "metadata":{
    "datalore":{
     "node_id":"0RPUOaCh0ULXG4hMsqJhFh",
     "type":"CODE",
     "hide_input_from_viewers":false,
     "hide_output_from_viewers":false,
     "report_properties":{
      
     }
    }
   }
  },
  {
   "cell_type":"code",
   "source":[
    
   ],
   "execution_count":null,
   "outputs":[
    
   ],
   "metadata":{
    "datalore":{
     "node_id":"eFzzJU9zenrHv4K0eRt3lt",
     "type":"CODE",
     "hide_input_from_viewers":false,
     "hide_output_from_viewers":false,
     "report_properties":{
      
     }
    }
   }
  }
 ],
 "metadata":{
  "kernelspec":{
   "display_name":"Python",
   "language":"python",
   "name":"python"
  },
  "datalore":{
   "version":1,
   "computation_mode":"JUPYTER",
   "package_manager":"pip",
   "base_environment":"default",
   "packages":[
    
   ]
  }
 },
 "nbformat":4,
 "nbformat_minor":4
}