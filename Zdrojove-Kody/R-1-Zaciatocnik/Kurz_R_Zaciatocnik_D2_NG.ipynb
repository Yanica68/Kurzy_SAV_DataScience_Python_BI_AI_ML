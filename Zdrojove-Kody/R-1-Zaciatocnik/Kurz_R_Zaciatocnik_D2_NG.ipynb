{
 "cells":[
  {
   "cell_type":"markdown",
   "source":[
    "# D1"
   ],
   "attachments":{
    
   },
   "metadata":{
    "datalore":{
     "node_id":"D1",
     "type":"MD",
     "hide_input_from_viewers":false,
     "hide_output_from_viewers":false,
     "sheet_delimiter":true
    }
   }
  },
  {
   "cell_type":"markdown",
   "source":[
    "# 📊 Kurz Jazyk R I. Začiatočník\n",
    "**🧑‍🏫 Lektor:** Miroslav Reiter  \n",
    "**📥 LinkedIn kontakt:** https:\/\/www.linkedin.com\/in\/miroslav-reiter\/  \n",
    "\n",
    "**✅ Osnova:** https:\/\/itkurzy.sav.sk\/node\/161\n",
    "\n",
    "**🎞️ YouTube videá:** https:\/\/www.youtube.com\/c\/IT-AcademySK  \n",
    "**📇 Zdrojové kódy a materiály:** https:\/\/github.com\/miroslav-reiter\/Kurzy_SAV_Analytika_Python_R  \n",
    "\n",
    "**😊 Emojis:** Win + .  \n",
    "**🔖 MarkDown Dokumentácia:** https:\/\/www.markdownguide.org\/getting-started\/"
   ],
   "attachments":{
    
   },
   "metadata":{
    "datalore":{
     "node_id":"vOlVX1YKeVi2gNbQJejb04",
     "type":"MD",
     "hide_input_from_viewers":false,
     "hide_output_from_viewers":false,
     "report_properties":{
      "rowId":"2yqI43O1W51KPp1amXS11E"
     }
    }
   }
  },
  {
   "cell_type":"markdown",
   "source":[
    "# 🆘 Markdown a R-Markdown\n",
    "Jednoduchý **značkovací jazyk**, ktorý slúži na **úpravu jednoduchého textu** a jeho následný **prevod na formátovaný text** publikovateľný na webe, najmä vo **formáte HTML**. Umožňuje pomocou jednoduchých formátovacích značiek vyznačiť v texte nadpisy a zoznamy, doplniť odkazy, obrázky atď. \n",
    "\n",
    "Cieľom jazyka je, aby bol **text dobre čitateľný** a **publikovateľný** aj v pôvodnom formáte jednoduchého textu.\n",
    "\n",
    "```markdown\n",
    "# (Znak Mriežky\/Hashes) - Nadpisy (Heading) - Ctrl + [\n",
    "```\n",
    "# (Znak Mriežky\/Hashes) - Nadpisy (Heading) \n",
    "\n",
    "```markdown\n",
    "# Hlavný Nadpis - Nadpis 1. úrovne H1\n",
    "```\n",
    "# Hlavný Nadpis - Nadpis 1. úrovne H1\n",
    "```markdown\n",
    "\n",
    "## Podnadpis - Nadpis 2. úrovne H2\n",
    "```\n",
    "## Podnadpis - Nadpis 2. úrovne H2\n",
    "```markdown\n",
    "\n",
    "## Podpodnadpis - Nadpis 3. úrovne H3\n",
    "```\n",
    "## Podpodnadpis - Nadpis 3. úrovne H3\n",
    "\n",
    "```markdown\n",
    "**Tučný Text** (Znak 2x Hiezdička\/Asterisk) - Tučný Text (Bold) - Ctrl + B\n",
    "```\n",
    "**Tučný Text** (Znak 2x Hiezdička\/Asterisk) - Tučný Text (Bold)\n",
    "\n",
    "```markdown\n",
    "*Kurzíva Text* (Znak 1x Hiezdička\/Asterisk) - Kurzíva Text (Italics) - Ctrl + I\n",
    "```\n",
    "*Kurzíva Text* (Znak 1x Hiezdička\/Asterisk) - Kurzíva Text (Italics)  \n",
    "\n",
    "```markdown\n",
    "~~Prečiarknutý Text~~ (Znak 2x Vlnovka\/Tilde) - Prečiarknutý Text (Strike) - Alt + S\n",
    "```\n",
    "~~Prečiarknutý Text~~ (Znak 2x Vlnovka\/Tilde) - Prečiarknutý Text (Strike) - Alt + S\n",
    "\n",
    "\n",
    "```markdown\n",
    "- Priemer\n",
    "- Medián\n",
    "- Modus\n",
    "```\n",
    "Nečíslovaný Zoznam (Unordered list UL) - Ctrl + l\n",
    "- Priemer\n",
    "- Medián\n",
    "- Modus\n",
    "\n",
    "```markdown\n",
    "- Priemer\n",
    "- Medián\n",
    "- Modus\n",
    "```\n",
    "Číslovaný Zoznam (Ordered list OL) \n",
    "1. Aritmetický Priemer\n",
    "2. Harmonický Priemer\n",
    "3. Geometrický Priemer\n",
    "\n",
    "```{r echo=T}\n",
    "5+6\n",
    "5*6\/7*8\n",
    "(5*6)\/7*8\n",
    "```"
   ],
   "attachments":{
    
   },
   "metadata":{
    "datalore":{
     "node_id":"3x6DirM95rqgAINiDnNBaV",
     "type":"MD",
     "hide_input_from_viewers":false,
     "hide_output_from_viewers":false,
     "report_properties":{
      "rowId":"BI6ffjRySnfOmpvuAVQ73E"
     }
    }
   }
  },
  {
   "cell_type":"markdown",
   "source":[
    "# Príklad Jazyk Markdown \n"
   ],
   "attachments":{
    
   },
   "metadata":{
    "datalore":{
     "node_id":"fSpGHOeFeiD6tMJyvLeeU5",
     "type":"MD",
     "hide_input_from_viewers":true,
     "hide_output_from_viewers":true
    }
   }
  },
  {
   "cell_type":"markdown",
   "source":[
    "Vitajte na **online kurz R**\n",
    "Naučíme sa spolu:\n",
    "1. Jazyk ~~Python~~ R\n",
    "2. Premenné a Konštanty  \n",
    "3. Dátové Typy  \n",
    "4. Funkcie a Operátory  "
   ],
   "attachments":{
    
   },
   "metadata":{
    "datalore":{
     "node_id":"ZXzfHbDR7FVspuVMd3l7k7",
     "type":"MD",
     "hide_input_from_viewers":true,
     "hide_output_from_viewers":true
    }
   }
  },
  {
   "cell_type":"markdown",
   "source":[
    "# 🎁 Akú verziu Jazyka R používame a kde je Rko nainštalované?\n",
    "Funkcie home a version"
   ],
   "attachments":{
    
   },
   "metadata":{
    "datalore":{
     "node_id":"6PtMp2sflmeGQ78PbC0Dln",
     "type":"MD",
     "hide_input_from_viewers":true,
     "hide_output_from_viewers":true
    }
   }
  },
  {
   "cell_type":"code",
   "source":[
    "# Kde je Rko nainštalované?\n",
    "R.home()\n",
    "\n",
    "# Komplexné informácie o verzií, platforme, os, revízie a iné\n",
    "# # (alt + 35)\n",
    "# alt + medzera\n",
    "# win + medzera\n",
    "R.version\n",
    "\n",
    "\n",
    "\n",
    "# Vytiahne informáciu o os a platforme\n",
    "# $ Pomenovaný zoznam (list), dátový rámec (dataframe), podmnožina stĺpcov (subset)\n",
    "R.version$os\n",
    "R.version$platform\n",
    "\n",
    "# Alternatíva cez funkcie\n",
    "R.Version()$version\n",
    "R.Version()$version.string"
   ],
   "execution_count":1,
   "outputs":[
    {
     "data":{
      "text\/html":[
       "'\/opt\/anaconda3\/envs\/minimal\/lib\/R'"
      ]
     },
     "metadata":{
      
     },
     "output_type":"display_data"
    },
    {
     "data":{
      "text\/plain":[
       "               _                           \n",
       "platform       x86_64-conda-linux-gnu      \n",
       "arch           x86_64                      \n",
       "os             linux-gnu                   \n",
       "system         x86_64, linux-gnu           \n",
       "status                                     \n",
       "major          4                           \n",
       "minor          2.3                         \n",
       "year           2023                        \n",
       "month          03                          \n",
       "day            15                          \n",
       "svn rev        83980                       \n",
       "language       R                           \n",
       "version.string R version 4.2.3 (2023-03-15)\n",
       "nickname       Shortstop Beagle            "
      ]
     },
     "metadata":{
      
     },
     "output_type":"display_data"
    },
    {
     "data":{
      "text\/html":[
       "'linux-gnu'"
      ]
     },
     "metadata":{
      
     },
     "output_type":"display_data"
    },
    {
     "data":{
      "text\/html":[
       "'x86_64-conda-linux-gnu'"
      ]
     },
     "metadata":{
      
     },
     "output_type":"display_data"
    },
    {
     "data":{
      "text\/html":[
       "'R version 4.2.3 (2023-03-15)'"
      ]
     },
     "metadata":{
      
     },
     "output_type":"display_data"
    },
    {
     "data":{
      "text\/html":[
       "'R version 4.2.3 (2023-03-15)'"
      ]
     },
     "metadata":{
      
     },
     "output_type":"display_data"
    }
   ],
   "metadata":{
    "datalore":{
     "node_id":"uXjkrYhDa9nhJgB5ml4TMI",
     "type":"CODE",
     "hide_input_from_viewers":true,
     "hide_output_from_viewers":true
    }
   }
  },
  {
   "cell_type":"markdown",
   "source":[
    "# 🖨 Používateľský Výstup, Tlač"
   ],
   "attachments":{
    
   },
   "metadata":{
    "datalore":{
     "node_id":"gqvfahVYQQvdvMe41v2btK",
     "type":"MD",
     "hide_input_from_viewers":false,
     "hide_output_from_viewers":false,
     "report_properties":{
      "rowId":"tbQgla3zEqSK6kkx7vuS6V"
     }
    }
   }
  },
  {
   "cell_type":"code",
   "source":[
    "# Mriežka (Alt + 35) - Komentár (Poznámky a Dokumentácia)\n",
    "print(\"Ahoj, Svet\")\n",
    "print(\"Ahoj, Svet 2\", quote = FALSE)\n",
    "print(paste(\"Ahoj\", \"Čauko\", \"Servus\", \"Ciao\"))\n",
    "# \\n\n",
    "cat(\"Hello, World \\n\\n\")\n",
    "writeLines(\"Vitaj na kurze R\")\n",
    "\n",
    "# Využitie Premenných (Variables)\n",
    "premenna = \"Kurz Jazyka R 1\"\n",
    "print(premenna)\n",
    "\n",
    "# Styl jazyk R\n",
    "premenna2 <- \"Kurz Jazyka R 2\"\n",
    "print(premenna2)\n",
    "\n",
    "\n",
    "# Príkazový Riadok (CMD)\n",
    "# Rscript ahojsvet.R"
   ],
   "execution_count":2,
   "outputs":[
    {
     "name":"stdout",
     "text":[
      "[1] \"Ahoj, Svet\"\n",
      "[1] Ahoj, Svet 2\n",
      "[1] \"Ahoj Čauko Servus Ciao\"\n",
      "Hello, World \n",
      "\n",
      "Vitaj na kurze R\n",
      "[1] \"Kurz Jazyka R 1\"\n",
      "[1] \"Kurz Jazyka R 2\"\n"
     ],
     "output_type":"stream"
    }
   ],
   "metadata":{
    "datalore":{
     "node_id":"S4cMf8Ha31Wvzfi2dJTlec",
     "type":"CODE",
     "hide_input_from_viewers":false,
     "hide_output_from_viewers":false,
     "report_properties":{
      "rowId":"VFLN9ZWugHQkpN2NUvp6Hi"
     }
    }
   }
  },
  {
   "cell_type":"markdown",
   "source":[
    "# 🎲 Aritmetické Operátory (Operácie) pre Skalárne Dátové Typy"
   ],
   "attachments":{
    
   },
   "metadata":{
    "datalore":{
     "node_id":"QGKWRgfX59xsNBIv1UMlmF",
     "type":"MD",
     "hide_input_from_viewers":false,
     "hide_output_from_viewers":false,
     "report_properties":{
      "rowId":"8v7LC9cLwoAVnQfcQhKi98"
     }
    }
   }
  },
  {
   "cell_type":"code",
   "source":[
    "# + - * \/ ;\n",
    "# 2+3\n",
    "# 2*3\n",
    "# 9\/3\n",
    "# 2\/3\n",
    "# 5*4\/3\n",
    "# (5*4)\/9\n",
    "# 5*(4\/9)\n",
    "\n",
    "# 1 + 5; 3 * 3 - 8\n",
    "\n",
    "# Mocnina\n",
    "# 2^5\n",
    "# 2**5\n",
    "\n",
    "# Realne delenie \/\n",
    "5\/2\n",
    "\n",
    "# Delenie so zvyskom (modulo)\n",
    "5 %% 2\n",
    "\n",
    "# Celociselne delenie\n",
    "5 %\/% 2\n",
    "\n",
    "# Infix Operátory Backticks (Spatne uvodzky) ` `\n",
    "# Môžete zavolať operátor ako funkciu\n",
    "`+`(2, 3)\n",
    "`*`(2, 3)\n",
    "`>`(2, 3)"
   ],
   "execution_count":3,
   "outputs":[
    {
     "data":{
      "text\/html":[
       "2.5"
      ]
     },
     "metadata":{
      
     },
     "output_type":"display_data"
    },
    {
     "data":{
      "text\/html":[
       "1"
      ]
     },
     "metadata":{
      
     },
     "output_type":"display_data"
    },
    {
     "data":{
      "text\/html":[
       "2"
      ]
     },
     "metadata":{
      
     },
     "output_type":"display_data"
    },
    {
     "data":{
      "text\/html":[
       "5"
      ]
     },
     "metadata":{
      
     },
     "output_type":"display_data"
    },
    {
     "data":{
      "text\/html":[
       "6"
      ]
     },
     "metadata":{
      
     },
     "output_type":"display_data"
    },
    {
     "data":{
      "text\/html":[
       "FALSE"
      ]
     },
     "metadata":{
      
     },
     "output_type":"display_data"
    }
   ],
   "metadata":{
    "datalore":{
     "node_id":"Ogf1i5WNhCOnRYroo9zMN4",
     "type":"CODE",
     "hide_input_from_viewers":false,
     "hide_output_from_viewers":false,
     "report_properties":{
      "rowId":"CDv9xVX7maOA1qOBZ1abEu"
     }
    }
   }
  },
  {
   "cell_type":"markdown",
   "source":[
    "# 🔥 Zabudované Funkcie a Konštanty"
   ],
   "attachments":{
    
   },
   "metadata":{
    "datalore":{
     "node_id":"FmKM65MrpLzulyXz6hL5o1",
     "type":"MD",
     "hide_input_from_viewers":false,
     "hide_output_from_viewers":false,
     "report_properties":{
      "rowId":"KBNDnpaRPXYQ9KNDq8Ypgw"
     }
    }
   }
  },
  {
   "cell_type":"code",
   "source":[
    "# Zaokruhlovanie, orezanie\n",
    "# cat(\"ceiling\\n\")\n",
    "# print(ceiling(9.000001))\n",
    "# # Ctrl + d (duplikuj riadok)\n",
    "# print(ceiling(9.999999))\n",
    "# print(ceiling(9.00000))\n",
    "\n",
    "# cat(\"floor\\n\")\n",
    "# print(floor(9.000001))\n",
    "# print(floor(9.999999))\n",
    "\n",
    "# cat(\"round\\n\")\n",
    "# print(round(9.99))\n",
    "# print(round(9.0000))\n",
    "# print(round(9.00001))\n",
    "# print(round(9.856))\n",
    "# print(round(9.856, digits = 2))\n",
    "\n",
    "# cat(\"trunc\\n\")\n",
    "# print(trunc(9.999))\n",
    "# print(trunc(9.0000))\n",
    "# print(trunc(9.00001))\n",
    "# print(trunc(9.856))\n",
    "\n",
    "# Aritmetika\n",
    "# print(abs(-91))\n",
    "# print(log(10))\n",
    "# print(log10(10))\n",
    "# print(exp(10))\n",
    "# print(sqrt(81))\n",
    "# print(sin(4 * pi))\n",
    "# print(max(-9,5,0,-3,6,10))\n",
    "# print(min(-9,5,0,-3,6,10))\n",
    "\n",
    "# Plot Grafy\n",
    "# plot(sin(4 * pi))\n",
    "# plot(sin, 0, 2 * pi)\n",
    "\n",
    "x = seq(0, 2 * pi, length.out = 100)\n",
    "y = sin(x)\n",
    "#plot(x,y, type = \"l\")\n",
    "\n",
    "# Character (string-retazcov)\n",
    "# print(tolower(\"EVA NEKRIC NA MNA!\"))\n",
    "# print(toupper(\"tichucko som povedal...\"))\n",
    "# print(paste(\"jeden\", 1, 'dva', 2, \"tri\"))\n",
    "\n",
    "meno = \"Adam\"\n",
    "priezvisko = \"Sangala\"\n",
    "cele_meno = paste(meno, priezvisko, sep=\" *** \")\n",
    "print(cele_meno)\n",
    "length(cele_meno)\n",
    "nchar(cele_meno)\n",
    "\n",
    "zoznam_miest <- \"Bratislava, Nitra, Trnava, Košice, Považská Bystrica\"\n",
    "print(strsplit(zoznam_miest, \",\"))\n",
    "a = strsplit(zoznam_miest, \",\")\n",
    "print(length(a))\n",
    "print(nchar(a))\n",
    "\n",
    "print(substr(\"SK8411000000002926456123\", start=5, stop=8))\n",
    "\n",
    "IBAN <- \"SK8411000000002926456123\"\n",
    "print(sub(\"SK\",\"CZ\", IBAN))"
   ],
   "execution_count":4,
   "outputs":[
    {
     "name":"stdout",
     "text":[
      "[1] \"Adam *** Sangala\"\n",
      "[[1]]\n",
      "[1] \"Bratislava\"         \" Nitra\"             \" Trnava\"           \n",
      "[4] \" Košice\"            \" Považská Bystrica\"\n",
      "\n",
      "[1] 1\n",
      "[1] 69\n",
      "[1] \"1100\"\n",
      "[1] \"CZ8411000000002926456123\"\n"
     ],
     "output_type":"stream"
    },
    {
     "data":{
      "text\/html":[
       "1"
      ]
     },
     "metadata":{
      
     },
     "output_type":"display_data"
    },
    {
     "data":{
      "text\/html":[
       "16"
      ]
     },
     "metadata":{
      
     },
     "output_type":"display_data"
    }
   ],
   "metadata":{
    "datalore":{
     "node_id":"9mVcvJg1dKF7c04DDcWpZD",
     "type":"CODE",
     "hide_input_from_viewers":false,
     "hide_output_from_viewers":false,
     "report_properties":{
      "rowId":"4BnaEbDwAGbXBQAullhOO5"
     }
    }
   }
  },
  {
   "cell_type":"markdown",
   "source":[
    "# 💡 Zabudované Konštanty"
   ],
   "attachments":{
    
   },
   "metadata":{
    "datalore":{
     "node_id":"XpjZlRCWvXWIvnOsXPPAhG",
     "type":"MD",
     "hide_input_from_viewers":true,
     "hide_output_from_viewers":true
    }
   }
  },
  {
   "cell_type":"code",
   "source":[
    "# Konštanty\n",
    "print(pi)\n",
    "month.abb\n",
    "month.name\n",
    "letters\n",
    "LETTERS\n",
    "\n",
    "# Vyber dat - Slicing (Python way)\n",
    "# Inclusive\n",
    "month.name[1:5]\n",
    "\n",
    "\n",
    "# (R way)\n",
    "month.name[c(1:5)]\n",
    "month.name[c(1:5, 7)]\n",
    "month.name[c(1,2,3,7, 12)]\n",
    "month.name[c(1,2,3,7, 12)]"
   ],
   "execution_count":5,
   "outputs":[
    {
     "name":"stdout",
     "text":[
      "[1] 3.141593\n"
     ],
     "output_type":"stream"
    },
    {
     "data":{
      "text\/html":[
       "<style>\n",
       ".list-inline {list-style: none; margin:0; padding: 0}\n",
       ".list-inline>li {display: inline-block}\n",
       ".list-inline>li:not(:last-child)::after {content: \"\\00b7\"; padding: 0 .5ex}\n",
       "<\/style>\n",
       "<ol class=list-inline><li>'Jan'<\/li><li>'Feb'<\/li><li>'Mar'<\/li><li>'Apr'<\/li><li>'May'<\/li><li>'Jun'<\/li><li>'Jul'<\/li><li>'Aug'<\/li><li>'Sep'<\/li><li>'Oct'<\/li><li>'Nov'<\/li><li>'Dec'<\/li><\/ol>\n"
      ]
     },
     "metadata":{
      
     },
     "output_type":"display_data"
    },
    {
     "data":{
      "text\/html":[
       "<style>\n",
       ".list-inline {list-style: none; margin:0; padding: 0}\n",
       ".list-inline>li {display: inline-block}\n",
       ".list-inline>li:not(:last-child)::after {content: \"\\00b7\"; padding: 0 .5ex}\n",
       "<\/style>\n",
       "<ol class=list-inline><li>'January'<\/li><li>'February'<\/li><li>'March'<\/li><li>'April'<\/li><li>'May'<\/li><li>'June'<\/li><li>'July'<\/li><li>'August'<\/li><li>'September'<\/li><li>'October'<\/li><li>'November'<\/li><li>'December'<\/li><\/ol>\n"
      ]
     },
     "metadata":{
      
     },
     "output_type":"display_data"
    },
    {
     "data":{
      "text\/html":[
       "<style>\n",
       ".list-inline {list-style: none; margin:0; padding: 0}\n",
       ".list-inline>li {display: inline-block}\n",
       ".list-inline>li:not(:last-child)::after {content: \"\\00b7\"; padding: 0 .5ex}\n",
       "<\/style>\n",
       "<ol class=list-inline><li>'a'<\/li><li>'b'<\/li><li>'c'<\/li><li>'d'<\/li><li>'e'<\/li><li>'f'<\/li><li>'g'<\/li><li>'h'<\/li><li>'i'<\/li><li>'j'<\/li><li>'k'<\/li><li>'l'<\/li><li>'m'<\/li><li>'n'<\/li><li>'o'<\/li><li>'p'<\/li><li>'q'<\/li><li>'r'<\/li><li>'s'<\/li><li>'t'<\/li><li>'u'<\/li><li>'v'<\/li><li>'w'<\/li><li>'x'<\/li><li>'y'<\/li><li>'z'<\/li><\/ol>\n"
      ]
     },
     "metadata":{
      
     },
     "output_type":"display_data"
    },
    {
     "data":{
      "text\/html":[
       "<style>\n",
       ".list-inline {list-style: none; margin:0; padding: 0}\n",
       ".list-inline>li {display: inline-block}\n",
       ".list-inline>li:not(:last-child)::after {content: \"\\00b7\"; padding: 0 .5ex}\n",
       "<\/style>\n",
       "<ol class=list-inline><li>'A'<\/li><li>'B'<\/li><li>'C'<\/li><li>'D'<\/li><li>'E'<\/li><li>'F'<\/li><li>'G'<\/li><li>'H'<\/li><li>'I'<\/li><li>'J'<\/li><li>'K'<\/li><li>'L'<\/li><li>'M'<\/li><li>'N'<\/li><li>'O'<\/li><li>'P'<\/li><li>'Q'<\/li><li>'R'<\/li><li>'S'<\/li><li>'T'<\/li><li>'U'<\/li><li>'V'<\/li><li>'W'<\/li><li>'X'<\/li><li>'Y'<\/li><li>'Z'<\/li><\/ol>\n"
      ]
     },
     "metadata":{
      
     },
     "output_type":"display_data"
    },
    {
     "data":{
      "text\/html":[
       "<style>\n",
       ".list-inline {list-style: none; margin:0; padding: 0}\n",
       ".list-inline>li {display: inline-block}\n",
       ".list-inline>li:not(:last-child)::after {content: \"\\00b7\"; padding: 0 .5ex}\n",
       "<\/style>\n",
       "<ol class=list-inline><li>'January'<\/li><li>'February'<\/li><li>'March'<\/li><li>'April'<\/li><li>'May'<\/li><\/ol>\n"
      ]
     },
     "metadata":{
      
     },
     "output_type":"display_data"
    },
    {
     "data":{
      "text\/html":[
       "<style>\n",
       ".list-inline {list-style: none; margin:0; padding: 0}\n",
       ".list-inline>li {display: inline-block}\n",
       ".list-inline>li:not(:last-child)::after {content: \"\\00b7\"; padding: 0 .5ex}\n",
       "<\/style>\n",
       "<ol class=list-inline><li>'January'<\/li><li>'February'<\/li><li>'March'<\/li><li>'April'<\/li><li>'May'<\/li><\/ol>\n"
      ]
     },
     "metadata":{
      
     },
     "output_type":"display_data"
    },
    {
     "data":{
      "text\/html":[
       "<style>\n",
       ".list-inline {list-style: none; margin:0; padding: 0}\n",
       ".list-inline>li {display: inline-block}\n",
       ".list-inline>li:not(:last-child)::after {content: \"\\00b7\"; padding: 0 .5ex}\n",
       "<\/style>\n",
       "<ol class=list-inline><li>'January'<\/li><li>'February'<\/li><li>'March'<\/li><li>'April'<\/li><li>'May'<\/li><li>'July'<\/li><\/ol>\n"
      ]
     },
     "metadata":{
      
     },
     "output_type":"display_data"
    },
    {
     "data":{
      "text\/html":[
       "<style>\n",
       ".list-inline {list-style: none; margin:0; padding: 0}\n",
       ".list-inline>li {display: inline-block}\n",
       ".list-inline>li:not(:last-child)::after {content: \"\\00b7\"; padding: 0 .5ex}\n",
       "<\/style>\n",
       "<ol class=list-inline><li>'January'<\/li><li>'February'<\/li><li>'March'<\/li><li>'July'<\/li><li>'December'<\/li><\/ol>\n"
      ]
     },
     "metadata":{
      
     },
     "output_type":"display_data"
    },
    {
     "data":{
      "text\/html":[
       "<style>\n",
       ".list-inline {list-style: none; margin:0; padding: 0}\n",
       ".list-inline>li {display: inline-block}\n",
       ".list-inline>li:not(:last-child)::after {content: \"\\00b7\"; padding: 0 .5ex}\n",
       "<\/style>\n",
       "<ol class=list-inline><li>'January'<\/li><li>'February'<\/li><li>'March'<\/li><li>'July'<\/li><li>'December'<\/li><\/ol>\n"
      ]
     },
     "metadata":{
      
     },
     "output_type":"display_data"
    }
   ],
   "metadata":{
    "datalore":{
     "node_id":"oTcZM2qTCsAQElOidzH6Ae",
     "type":"CODE",
     "hide_input_from_viewers":true,
     "hide_output_from_viewers":true
    }
   }
  },
  {
   "cell_type":"markdown",
   "source":[
    "# 🗳️ Premenné\/Objekty a Dátové Typy"
   ],
   "attachments":{
    
   },
   "metadata":{
    "datalore":{
     "node_id":"Dmi3N1Mw4HZebNjntAsF8M",
     "type":"MD",
     "hide_input_from_viewers":false,
     "hide_output_from_viewers":false,
     "report_properties":{
      "rowId":"2pD6SZKYNibOd1EQfh0XNa"
     }
    }
   }
  },
  {
   "cell_type":"code",
   "source":[
    "# 5 skalárnych dátových typov sú číselné (numeric), znakové (character), celočíselné (integer), logické (logical) a komplexné (complex)\n",
    "# Názov premennej priradenie hodnoty (= alebo <-)\n",
    "a = 5\n",
    "aa <- 5\n",
    "#aa -> b\n",
    "b = 5L\n",
    "d = TRUE\n",
    "e = T\n",
    "f = FALSE\n",
    "g = 10i\n",
    "h = 10 - 10i\n",
    "i = \"Adam Šangala\"\n",
    "j = NULL\n",
    "k = NA\n",
    "l = Inf\n",
    "n = NaN\n",
    "o = 999.99\n",
    "\n",
    "#identical(a, b)\n",
    "\n",
    "#?NULL\n",
    "#is.null(o)\n",
    "?Inf"
   ],
   "execution_count":6,
   "outputs":[
    {
     "data":{
      "text\/html":[
       "\n",
       "<table style=\"width: 100%;\"><tr><td>is.finite {base}<\/td><td style=\"text-align: right;\">R Documentation<\/td><\/tr><\/table>\n",
       "\n",
       "<h2>Finite, Infinite and NaN Numbers<\/h2>\n",
       "\n",
       "<h3>Description<\/h3>\n",
       "\n",
       "<p><code>is.finite<\/code> and <code>is.infinite<\/code> return a vector of the same\n",
       "length as <code>x<\/code>, indicating which elements are finite (not infinite\n",
       "and not missing) or infinite.\n",
       "<\/p>\n",
       "<p><code>Inf<\/code> and <code>-Inf<\/code> are positive and negative infinity\n",
       "whereas <code>NaN<\/code> means &lsquo;Not a Number&rsquo;.  (These apply to numeric\n",
       "values and real and imaginary parts of complex values but not to\n",
       "values of integer vectors.)  <code>Inf<\/code> and <code>NaN<\/code> are\n",
       "reserved words in the <span style=\"font-family: Courier New, Courier; color: #666666;\"><b>R<\/b><\/span> language.\n",
       "<\/p>\n",
       "\n",
       "\n",
       "<h3>Usage<\/h3>\n",
       "\n",
       "<pre><code class='language-R'>is.finite(x)\n",
       "is.infinite(x)\n",
       "is.nan(x)\n",
       "\n",
       "Inf\n",
       "NaN\n",
       "<\/code><\/pre>\n",
       "\n",
       "\n",
       "<h3>Arguments<\/h3>\n",
       "\n",
       "<table>\n",
       "<tr style=\"vertical-align: top;\"><td><code>x<\/code><\/td>\n",
       "<td>\n",
       "<p><span style=\"font-family: Courier New, Courier; color: #666666;\"><b>R<\/b><\/span> object to be tested: the default methods handle atomic\n",
       "vectors.<\/p>\n",
       "<\/td><\/tr>\n",
       "<\/table>\n",
       "\n",
       "\n",
       "<h3>Details<\/h3>\n",
       "\n",
       "<p><code>is.finite<\/code> returns a vector of the same length as <code>x<\/code> the\n",
       "jth element of which is <code>TRUE<\/code> if <code>x[j]<\/code> is finite (i.e., it\n",
       "is not one of the values <code>NA<\/code>, <code>NaN<\/code>, <code>Inf<\/code> or\n",
       "<code>-Inf<\/code>) and <code>FALSE<\/code> otherwise.  Complex\n",
       "numbers are finite if both the real and imaginary parts are.\n",
       "<\/p>\n",
       "<p><code>is.infinite<\/code> returns a vector of the same length as <code>x<\/code> the\n",
       "jth element of which is <code>TRUE<\/code> if <code>x[j]<\/code> is infinite (i.e.,\n",
       "equal to one of <code>Inf<\/code> or <code>-Inf<\/code>) and <code>FALSE<\/code>\n",
       "otherwise.  This will be false unless <code>x<\/code> is numeric or complex.\n",
       "Complex numbers are infinite if either the real or the imaginary part is.\n",
       "<\/p>\n",
       "<p><code>is.nan<\/code> tests if a numeric value is <code>NaN<\/code>.  Do not test\n",
       "equality to <code>NaN<\/code>, or even use <code>identical<\/code>, since\n",
       "systems typically have many different NaN values.  One of these is\n",
       "used for the numeric missing value <code>NA<\/code>, and <code>is.nan<\/code> is\n",
       "false for that value.  A complex number is regarded as <code>NaN<\/code> if\n",
       "either the real or imaginary part is <code>NaN<\/code> but not <code>NA<\/code>.\n",
       "All elements of logical, integer and raw vectors are considered not to\n",
       "be NaN.\n",
       "<\/p>\n",
       "<p>All three functions accept <code>NULL<\/code> as input and return a length\n",
       "zero result. The default methods accept character and raw vectors, and\n",
       "return <code>FALSE<\/code> for all entries. Prior to <span style=\"font-family: Courier New, Courier; color: #666666;\"><b>R<\/b><\/span> version 2.14.0 they\n",
       "accepted all input, returning <code>FALSE<\/code> for most non-numeric\n",
       "values; cases which are not atomic vectors are now signalled as\n",
       "errors.\n",
       "<\/p>\n",
       "<p>All three functions are generic: you can write methods to handle\n",
       "specific classes of objects, see InternalMethods.\n",
       "<\/p>\n",
       "\n",
       "\n",
       "<h3>Value<\/h3>\n",
       "\n",
       "<p>A logical vector of the same length as <code>x<\/code>: <code>dim<\/code>,\n",
       "<code>dimnames<\/code> and <code>names<\/code> attributes are preserved.\n",
       "<\/p>\n",
       "\n",
       "\n",
       "<h3>Note<\/h3>\n",
       "\n",
       "<p>In <span style=\"font-family: Courier New, Courier; color: #666666;\"><b>R<\/b><\/span>, basically all mathematical functions (including basic\n",
       "<code>Arithmetic<\/code>), are supposed to work properly with\n",
       "<code>+\/- Inf<\/code> and <code>NaN<\/code> as input or output.\n",
       "<\/p>\n",
       "<p>The basic rule should be that calls and relations with <code>Inf<\/code>s\n",
       "really are statements with a proper mathematical <em>limit<\/em>.\n",
       "<\/p>\n",
       "<p>Computations involving <code>NaN<\/code> will return <code>NaN<\/code> or perhaps\n",
       "<code>NA<\/code>: which of those two is not guaranteed and may depend\n",
       "on the <span style=\"font-family: Courier New, Courier; color: #666666;\"><b>R<\/b><\/span> platform (since compilers may re-order computations).\n",
       "<\/p>\n",
       "\n",
       "\n",
       "<h3>References<\/h3>\n",
       "\n",
       "<p>The IEC 60559 standard, also known as the\n",
       "ANSI\/IEEE 754 Floating-Point Standard.\n",
       "<\/p>\n",
       "<p><a href=\"https:\/\/en.wikipedia.org\/wiki\/NaN\">https:\/\/en.wikipedia.org\/wiki\/NaN<\/a>.\n",
       "<\/p>\n",
       "<p>D. Goldberg (1991).\n",
       "What Every Computer Scientist Should Know about Floating-Point\n",
       "Arithmetic.\n",
       "<em>ACM Computing Surveys<\/em>, <b>23<\/b>(1), 5&ndash;48.\n",
       "<a href=\"https:\/\/doi.org\/10.1145\/103162.103163\">doi:10.1145\/103162.103163<\/a>.\n",
       "<br \/>\n",
       "\n",
       "\n",
       "\n",
       "\n",
       "\n",
       "\n",
       "\n",
       "Also available at\n",
       "<a href=\"https:\/\/docs.oracle.com\/cd\/E19957-01\/806-3568\/ncg_goldberg.html\">https:\/\/docs.oracle.com\/cd\/E19957-01\/806-3568\/ncg_goldberg.html<\/a>.\n",
       "<\/p>\n",
       "<p>The C99 function <code>isfinite<\/code> is used for <code>is.finite<\/code>.\n",
       "<\/p>\n",
       "\n",
       "\n",
       "<h3>See Also<\/h3>\n",
       "\n",
       "<p><code>NA<\/code>, &lsquo;<em>Not Available<\/em>&rsquo; which is not a number\n",
       "as well, however usually used for missing values and applies to many\n",
       "modes, not just numeric and complex.\n",
       "<\/p>\n",
       "<p><code>Arithmetic<\/code>, <code>double<\/code>.\n",
       "<\/p>\n",
       "\n",
       "\n",
       "<h3>Examples<\/h3>\n",
       "\n",
       "<pre><code class='language-R'>pi \/ 0 ## = Inf a non-zero number divided by zero creates infinity\n",
       "0 \/ 0  ## =  NaN\n",
       "\n",
       "1\/0 + 1\/0 # Inf\n",
       "1\/0 - 1\/0 # NaN\n",
       "\n",
       "stopifnot(\n",
       "    1\/0 == Inf,\n",
       "    1\/Inf == 0\n",
       ")\n",
       "sin(Inf)\n",
       "cos(Inf)\n",
       "tan(Inf)\n",
       "<\/code><\/pre>\n",
       "\n",
       "<hr \/><div style=\"text-align: center;\">[Package <em>base<\/em> version 4.2.3 ]<\/div>\n",
       "<\/div>"
      ]
     },
     "metadata":{
      
     },
     "output_type":"display_data"
    }
   ],
   "metadata":{
    "datalore":{
     "node_id":"myM6FjdVa1YZ69mDD25AEq",
     "type":"CODE",
     "hide_input_from_viewers":false,
     "hide_output_from_viewers":false,
     "report_properties":{
      "rowId":"3JFSwCweKdXShhPjeYQJqk"
     }
    }
   }
  },
  {
   "cell_type":"code",
   "source":[
    "-5\/0"
   ],
   "execution_count":7,
   "outputs":[
    {
     "data":{
      "text\/html":[
       "-Inf"
      ]
     },
     "metadata":{
      
     },
     "output_type":"display_data"
    }
   ],
   "metadata":{
    "datalore":{
     "node_id":"unimAuaMfcEJQJRdTE0vOB",
     "type":"CODE",
     "hide_input_from_viewers":true,
     "hide_output_from_viewers":true
    }
   }
  },
  {
   "cell_type":"markdown",
   "source":[
    "# ❇️ Formátovanie, Typy, Triedy"
   ],
   "attachments":{
    
   },
   "metadata":{
    "datalore":{
     "node_id":"yUbsT8bHuR469V2HHv5FeC",
     "type":"MD",
     "hide_input_from_viewers":false,
     "hide_output_from_viewers":false,
     "report_properties":{
      "rowId":"L8uSOJ8ajE0799WZnLeIFx"
     }
    }
   }
  },
  {
   "cell_type":"code",
   "source":[
    "# Ukoncovacie sekvencie, escaped sequences\n",
    "# \\n new line novy riadok\/odriadkuj\n",
    "# \\t tab tabulator\n",
    "# \\\\ \\\n",
    "# \\\" \"\n",
    "# \\' '\n",
    "\n",
    "cat(\"typeof class: \\n\")\n",
    "cat(typeof(a), \"\\n\")\n",
    "cat(typeof(d), \"\\n\")\n",
    "cat(typeof(b), \"\\n\")\n",
    "\n",
    "cat(\"\\nclass class: \\n\")\n",
    "cat(class(a), \"\\n\")\n",
    "cat(class(d), \"\\n\")\n",
    "cat(class(b), \"\\n\")\n",
    "\n",
    "\n",
    "cat(\"typeof str class: \\n\")\n",
    "cat(typeof(str(a)), \"\\n\")\n",
    "cat(typeof(str(d)), \"\\n\")\n",
    "cat(typeof(str(b)), \"\\n\")\n",
    "\n",
    "writeLines(\"Mena \\t Priezviska \\t Emaily\")\n",
    "cat(\"C:\\\\temp\\\\data\")"
   ],
   "execution_count":8,
   "outputs":[
    {
     "name":"stdout",
     "text":[
      "typeof class: \n",
      "double \n",
      "logical \n",
      "integer \n",
      "\n",
      "class class: \n",
      "numeric \n",
      "logical \n",
      "integer \n",
      "typeof str class: \n",
      " num 5\n",
      "NULL \n",
      " logi TRUE\n",
      "NULL \n",
      " int 5\n",
      "NULL \n",
      "Mena \t Priezviska \t Emaily\n",
      "C:\\temp\\data"
     ],
     "output_type":"stream"
    }
   ],
   "metadata":{
    "datalore":{
     "node_id":"iB889Mfg508sMcCckrJj8K",
     "type":"CODE",
     "hide_input_from_viewers":false,
     "hide_output_from_viewers":false,
     "report_properties":{
      "rowId":"hYPmvfMhmOt65VXbbPip0f"
     }
    }
   }
  },
  {
   "cell_type":"markdown",
   "source":[
    "## 📊 Generovanie Dát a Grafy"
   ],
   "attachments":{
    
   },
   "metadata":{
    "datalore":{
     "node_id":"ZDVB2DiqThdROtrxYl76xq",
     "type":"MD",
     "hide_input_from_viewers":false,
     "hide_output_from_viewers":false,
     "report_properties":{
      "rowId":"137ZnTuf6jsRfNgvWEvT8Q"
     }
    }
   }
  },
  {
   "cell_type":"code",
   "source":[
    "test <- rnorm(n = 200, mean = 100, sd = 2)\n",
    "test_prve_3 <- head(test, n = 3L)\n",
    "test_posledne_3 <- tail(test, n = 3L)\n",
    "\n",
    "summary(test)\n",
    "#par(mfcol = c(1,3))\n",
    "par(mfrow = c(1,2))\n",
    "boxplot(test, horizontal = TRUE)\n",
    "plot(test)\n",
    "hist(test)\n",
    "\n",
    "\n",
    "??mfcol"
   ],
   "execution_count":9,
   "outputs":[
    {
     "data":{
      "text\/plain":[
       "   Min. 1st Qu.  Median    Mean 3rd Qu.    Max. \n",
       "  94.05   98.79  100.06  100.11  101.44  106.25 "
      ]
     },
     "metadata":{
      
     },
     "output_type":"display_data"
    },
    {
     "data":{
      "image\/png":"[encoded data removed]"
     },
     "metadata":{
      "image\/png":{
       "width":420,
       "height":420
      }
     },
     "output_type":"display_data"
    },
    {
     "data":{
      "image\/png":"[encoded data removed]"
     },
     "metadata":{
      "image\/png":{
       "width":420,
       "height":420
      }
     },
     "output_type":"display_data"
    },
    {
     "data":{
      "text\/plain":[
       "R Information\n",
       "\n",
       "Help files with alias or concept or title matching ‘mfcol’ using fuzzy\n",
       "matching:\n",
       "\n",
       "\n",
       "crayon::num_colors      Number of colors the terminal supports\n",
       "  Aliases: num_colors\n",
       "ggplot2::geom_bar       Bar charts\n",
       "  Aliases: geom_col\n",
       "ggplot2::ggplot2-ggproto\n",
       "                        Base ggproto classes for ggplot2\n",
       "  Aliases: GeomCol\n",
       "ggplot2::scale_colour_brewer\n",
       "                        Sequential, diverging and qualitative colour\n",
       "                        scales from ColorBrewer\n",
       "graphics::par           Set or Query Graphical Parameters\n",
       "  Concepts: mfcol\n",
       "grDevices::rainbow      Color Palettes\n",
       "  Aliases: cm.colors\n",
       "parallel::mccollect     Evaluate an R Expression Asynchronously in a\n",
       "                        Separate Process\n",
       "  Aliases: mccollect\n",
       "stats::.checkMFClasses\n",
       "                        Functions to Check the Type of Variables passed\n",
       "                        to Model Frames\n",
       "  Aliases: .checkMFClasses, .MFclass\n",
       "tcltk::TkCommands       Tk non-widget commands\n",
       "  Aliases: tkwm.colormapwindows\n",
       "\n",
       "\n",
       "Type '?PKG::FOO' to inspect entries 'PKG::FOO', or 'TYPE?PKG::FOO' for\n",
       "entries like 'PKG::FOO-TYPE'.\n",
       "\n",
       "\n"
      ]
     },
     "metadata":{
      
     },
     "output_type":"display_data"
    }
   ],
   "metadata":{
    "datalore":{
     "node_id":"XJsttHpbHwq3m4hfu8aSZY",
     "type":"CODE",
     "hide_input_from_viewers":false,
     "hide_output_from_viewers":false,
     "report_properties":{
      "rowId":"wUALTAFw4pZGfPkGOt484n"
     }
    }
   }
  },
  {
   "cell_type":"code",
   "source":[
    "# Data\n",
    "data <- c(10, 20, 30, 40, 50, 60, 100, 900)\n",
    "data[-2]\n",
    "\n",
    "dochadzka = c(T, T, F, T, \"20\")\n",
    "dochadzka\n",
    "\n",
    "# Inkluzivne\n",
    "sekvencia1 = seq(10, 20)\n",
    "sekvencia2 = c(10:20)\n",
    "# pozicne\n",
    "sekvencia3 = seq(1,20,2)\n",
    "\n",
    "# argumenty\/parametre\n",
    "sekvencia4 = seq( by = 2, from = 1, to = 20)\n",
    "\n",
    "sekvencia1\n",
    "sekvencia2\n",
    "sekvencia3\n",
    "sekvencia4"
   ],
   "execution_count":10,
   "outputs":[
    {
     "data":{
      "text\/html":[
       "<style>\n",
       ".list-inline {list-style: none; margin:0; padding: 0}\n",
       ".list-inline>li {display: inline-block}\n",
       ".list-inline>li:not(:last-child)::after {content: \"\\00b7\"; padding: 0 .5ex}\n",
       "<\/style>\n",
       "<ol class=list-inline><li>10<\/li><li>30<\/li><li>40<\/li><li>50<\/li><li>60<\/li><li>100<\/li><li>900<\/li><\/ol>\n"
      ]
     },
     "metadata":{
      
     },
     "output_type":"display_data"
    },
    {
     "data":{
      "text\/html":[
       "<style>\n",
       ".list-inline {list-style: none; margin:0; padding: 0}\n",
       ".list-inline>li {display: inline-block}\n",
       ".list-inline>li:not(:last-child)::after {content: \"\\00b7\"; padding: 0 .5ex}\n",
       "<\/style>\n",
       "<ol class=list-inline><li>'TRUE'<\/li><li>'TRUE'<\/li><li>'FALSE'<\/li><li>'TRUE'<\/li><li>'20'<\/li><\/ol>\n"
      ]
     },
     "metadata":{
      
     },
     "output_type":"display_data"
    },
    {
     "data":{
      "text\/html":[
       "<style>\n",
       ".list-inline {list-style: none; margin:0; padding: 0}\n",
       ".list-inline>li {display: inline-block}\n",
       ".list-inline>li:not(:last-child)::after {content: \"\\00b7\"; padding: 0 .5ex}\n",
       "<\/style>\n",
       "<ol class=list-inline><li>10<\/li><li>11<\/li><li>12<\/li><li>13<\/li><li>14<\/li><li>15<\/li><li>16<\/li><li>17<\/li><li>18<\/li><li>19<\/li><li>20<\/li><\/ol>\n"
      ]
     },
     "metadata":{
      
     },
     "output_type":"display_data"
    },
    {
     "data":{
      "text\/html":[
       "<style>\n",
       ".list-inline {list-style: none; margin:0; padding: 0}\n",
       ".list-inline>li {display: inline-block}\n",
       ".list-inline>li:not(:last-child)::after {content: \"\\00b7\"; padding: 0 .5ex}\n",
       "<\/style>\n",
       "<ol class=list-inline><li>10<\/li><li>11<\/li><li>12<\/li><li>13<\/li><li>14<\/li><li>15<\/li><li>16<\/li><li>17<\/li><li>18<\/li><li>19<\/li><li>20<\/li><\/ol>\n"
      ]
     },
     "metadata":{
      
     },
     "output_type":"display_data"
    },
    {
     "data":{
      "text\/html":[
       "<style>\n",
       ".list-inline {list-style: none; margin:0; padding: 0}\n",
       ".list-inline>li {display: inline-block}\n",
       ".list-inline>li:not(:last-child)::after {content: \"\\00b7\"; padding: 0 .5ex}\n",
       "<\/style>\n",
       "<ol class=list-inline><li>1<\/li><li>3<\/li><li>5<\/li><li>7<\/li><li>9<\/li><li>11<\/li><li>13<\/li><li>15<\/li><li>17<\/li><li>19<\/li><\/ol>\n"
      ]
     },
     "metadata":{
      
     },
     "output_type":"display_data"
    },
    {
     "data":{
      "text\/html":[
       "<style>\n",
       ".list-inline {list-style: none; margin:0; padding: 0}\n",
       ".list-inline>li {display: inline-block}\n",
       ".list-inline>li:not(:last-child)::after {content: \"\\00b7\"; padding: 0 .5ex}\n",
       "<\/style>\n",
       "<ol class=list-inline><li>1<\/li><li>3<\/li><li>5<\/li><li>7<\/li><li>9<\/li><li>11<\/li><li>13<\/li><li>15<\/li><li>17<\/li><li>19<\/li><\/ol>\n"
      ]
     },
     "metadata":{
      
     },
     "output_type":"display_data"
    }
   ],
   "metadata":{
    "datalore":{
     "node_id":"A2URAKOoMA5UfzcijX1BuL",
     "type":"CODE",
     "hide_input_from_viewers":false,
     "hide_output_from_viewers":false,
     "report_properties":{
      "rowId":"QkbdWGownb0GbKNEztWeWF"
     }
    }
   }
  },
  {
   "cell_type":"markdown",
   "source":[
    "# ✅ Zabudované Štatistické Funkcie"
   ],
   "attachments":{
    
   },
   "metadata":{
    "datalore":{
     "node_id":"7cBdCiyFnwxdeTUSLTbOfu",
     "type":"MD",
     "hide_input_from_viewers":true,
     "hide_output_from_viewers":true
    }
   }
  },
  {
   "cell_type":"code",
   "source":[
    "vektor_cisel <- c(1:10, 40)\n",
    "print(vektor_cisel)\n",
    "print(mean(vektor_cisel))\n",
    "print(sd(vektor_cisel))\n",
    "print(median(vektor_cisel))\n",
    "print(quantile(vektor_cisel))\n",
    "print(quantile(vektor_cisel, 0.5))\n",
    "print(quantile(vektor_cisel, 0.75))\n",
    "print(range(vektor_cisel))\n",
    "print(sum(vektor_cisel))\n",
    "print(max(vektor_cisel))\n",
    "print(min(vektor_cisel))"
   ],
   "execution_count":11,
   "outputs":[
    {
     "name":"stdout",
     "text":[
      " [1]  1  2  3  4  5  6  7  8  9 10 40\n",
      "[1] 8.636364\n",
      "[1] 10.79141\n",
      "[1] 6\n",
      "  0%  25%  50%  75% 100% \n",
      " 1.0  3.5  6.0  8.5 40.0 \n",
      "50% \n",
      "  6 \n",
      "75% \n",
      "8.5 \n",
      "[1]  1 40\n",
      "[1] 95\n",
      "[1] 40\n",
      "[1] 1\n"
     ],
     "output_type":"stream"
    }
   ],
   "metadata":{
    "datalore":{
     "node_id":"mv2CH1iiC2ECCdDLZpvpje",
     "type":"CODE",
     "hide_input_from_viewers":true,
     "hide_output_from_viewers":true
    }
   }
  },
  {
   "cell_type":"code",
   "source":[
    "# dnorm\n",
    "a <- seq(-5, 5, by = 0.1)\n",
    "b <- dnorm(a, mean=2.5, sd = 0.5)\n",
    "png(file=\"dnorm.png\")\n",
    "plot(a, b)\n",
    "dev.off()"
   ],
   "execution_count":12,
   "outputs":[
    {
     "data":{
      "text\/html":[
       "<strong>png:<\/strong> 2"
      ]
     },
     "metadata":{
      
     },
     "output_type":"display_data"
    }
   ],
   "metadata":{
    "datalore":{
     "node_id":"q8XAA0UH6ysYdy8A8taXj3",
     "type":"CODE",
     "hide_input_from_viewers":true,
     "hide_output_from_viewers":true
    }
   }
  },
  {
   "cell_type":"code",
   "source":[
    "# pnorm\n",
    "a <- seq(-7, 7, by = 0.2)\n",
    "b <- pnorm(a, mean=2.5, sd = 2)\n",
    "\n",
    "png(file=\"pnorm4.png\")\n",
    "bmp(file=\"pnorm4.bmp\")\n",
    "plot(a, b)\n",
    "dev.off()\n"
   ],
   "execution_count":13,
   "outputs":[
    {
     "data":{
      "text\/html":[
       "<strong>png:<\/strong> 2"
      ]
     },
     "metadata":{
      
     },
     "output_type":"display_data"
    }
   ],
   "metadata":{
    "datalore":{
     "node_id":"PehDfUJhn511grGAkZR2Dj",
     "type":"CODE",
     "hide_input_from_viewers":true,
     "hide_output_from_viewers":true
    }
   }
  },
  {
   "cell_type":"code",
   "source":[
    "# rnorm"
   ],
   "execution_count":14,
   "outputs":[
    
   ],
   "metadata":{
    "datalore":{
     "node_id":"9Y8X0WZYRfuE40J4te10oB",
     "type":"CODE",
     "hide_input_from_viewers":true,
     "hide_output_from_viewers":true
    }
   }
  },
  {
   "cell_type":"code",
   "source":[
    "# dbinom\n"
   ],
   "execution_count":15,
   "outputs":[
    
   ],
   "metadata":{
    "datalore":{
     "node_id":"YMdkDg32S3S11wTZMfG5XH",
     "type":"CODE",
     "hide_input_from_viewers":true,
     "hide_output_from_viewers":true
    }
   }
  },
  {
   "cell_type":"markdown",
   "source":[
    "# 🏢 Workspace"
   ],
   "attachments":{
    
   },
   "metadata":{
    "datalore":{
     "node_id":"ZH1yefWrX0PBGPXGiHiaxG",
     "type":"MD",
     "hide_input_from_viewers":false,
     "hide_output_from_viewers":false,
     "report_properties":{
      "rowId":"MPEAjnZIMrNsYTtwALXTLz"
     }
    }
   }
  },
  {
   "cell_type":"code",
   "source":[
    
   ],
   "execution_count":null,
   "outputs":[
    
   ],
   "metadata":{
    "datalore":{
     "node_id":"l59y6qMnuoUxrzytUqRSS8",
     "type":"CODE",
     "hide_input_from_viewers":false,
     "hide_output_from_viewers":false,
     "report_properties":{
      "rowId":"CebEAfjU63C93II7hisjBY"
     }
    }
   }
  },
  {
   "cell_type":"code",
   "source":[
    
   ],
   "execution_count":null,
   "outputs":[
    
   ],
   "metadata":{
    "datalore":{
     "node_id":"pfvKwA2BsrV7BY6V1yaxOI",
     "type":"CODE",
     "hide_input_from_viewers":false,
     "hide_output_from_viewers":false,
     "report_properties":{
      "rowId":"YC4xlAr5qRJz9HnZVhTtZ5"
     }
    }
   }
  },
  {
   "cell_type":"code",
   "source":[
    
   ],
   "execution_count":null,
   "outputs":[
    
   ],
   "metadata":{
    "datalore":{
     "node_id":"TuImF7bng4EDvHpZ4HV2iA",
     "type":"CODE",
     "hide_input_from_viewers":false,
     "hide_output_from_viewers":false,
     "report_properties":{
      "rowId":"3yGrBjuv6gJ3Ph3b1UNSiY"
     }
    }
   }
  },
  {
   "cell_type":"code",
   "source":[
    "\n"
   ],
   "execution_count":null,
   "outputs":[
    
   ],
   "metadata":{
    "datalore":{
     "node_id":"h7nolYRbTQVJhzsd563fTF",
     "type":"CODE",
     "hide_input_from_viewers":false,
     "hide_output_from_viewers":false,
     "report_properties":{
      "rowId":"7xFr30Q7EBJ7zJgMoWyXpJ"
     }
    }
   }
  },
  {
   "cell_type":"markdown",
   "source":[
    "# ℹ️ Bonus (packages)"
   ],
   "attachments":{
    
   },
   "metadata":{
    "datalore":{
     "node_id":"jP8at6glbXiNjNfEAfNwWC",
     "type":"MD",
     "hide_input_from_viewers":true,
     "hide_output_from_viewers":true
    }
   }
  },
  {
   "cell_type":"code",
   "source":[
    
   ],
   "execution_count":null,
   "outputs":[
    
   ],
   "metadata":{
    "datalore":{
     "node_id":"y26pP5sjMRxuOjGM2iS4oz",
     "type":"CODE",
     "hide_input_from_viewers":true,
     "hide_output_from_viewers":true
    }
   }
  },
  {
   "cell_type":"markdown",
   "source":[
    "# D2"
   ],
   "attachments":{
    
   },
   "metadata":{
    "datalore":{
     "node_id":"D2",
     "type":"MD",
     "hide_input_from_viewers":false,
     "hide_output_from_viewers":false,
     "sheet_delimiter":true
    }
   }
  },
  {
   "cell_type":"code",
   "source":[
    
   ],
   "execution_count":null,
   "outputs":[
    
   ],
   "metadata":{
    "datalore":{
     "node_id":"Ufg87u0Y0OVrmF5jFB4eIw",
     "type":"CODE",
     "hide_input_from_viewers":true,
     "hide_output_from_viewers":true
    }
   }
  },
  {
   "cell_type":"code",
   "source":[
    
   ],
   "execution_count":null,
   "outputs":[
    
   ],
   "metadata":{
    "datalore":{
     "node_id":"zLCqoaf7UiXtC8TnpGcYRw",
     "type":"CODE",
     "hide_input_from_viewers":true,
     "hide_output_from_viewers":true
    }
   }
  },
  {
   "cell_type":"markdown",
   "source":[
    "*Dnes* je **pekný deň**"
   ],
   "attachments":{
    
   },
   "metadata":{
    "datalore":{
     "node_id":"tClr28eQsXkhlNjAUDrWbz",
     "type":"MD",
     "hide_input_from_viewers":true,
     "hide_output_from_viewers":true
    }
   }
  },
  {
   "cell_type":"markdown",
   "source":[
    "## Kurz Jazyk"
   ],
   "attachments":{
    
   },
   "metadata":{
    "datalore":{
     "node_id":"b2Ru3lBhecIXXwV6M72TAf",
     "type":"MD",
     "hide_input_from_viewers":true,
     "hide_output_from_viewers":true
    }
   }
  },
  {
   "cell_type":"markdown",
   "source":[
    "# Vstup_UI_Controls"
   ],
   "attachments":{
    
   },
   "metadata":{
    "datalore":{
     "node_id":"Vstup_UI_Controls",
     "type":"MD",
     "hide_input_from_viewers":false,
     "hide_output_from_viewers":false,
     "sheet_delimiter":true
    }
   }
  },
  {
   "cell_type":"markdown",
   "source":[
    "# Používateľský Vstup (input)"
   ],
   "attachments":{
    
   },
   "metadata":{
    "datalore":{
     "node_id":"d91V1nq7vAdqPzPq5LtY2V",
     "type":"MD",
     "hide_input_from_viewers":true,
     "hide_output_from_viewers":true
    }
   }
  },
  {
   "cell_type":"code",
   "source":[
    "# meno <- readline(prompt = \"Zadaj svoje meno: \")\n",
    "# vek <- readline(prompt = \"Zadaj svoj vek: \")\n",
    "# print(typeof(vek))\n",
    "# # Konvertovnie, explicitne pretypovanie\n",
    "# vek <- as.integer(vek)\n",
    "# print(typeof(vek))\n",
    "# print(paste(\"Dobrý deň\", meno, \"mas\", vek, \"rokov\"))\n",
    "\n",
    "# vek <- as.numeric(vek)\n",
    "# print(typeof(vek))"
   ],
   "execution_count":16,
   "outputs":[
    
   ],
   "metadata":{
    "datalore":{
     "node_id":"0Cq1pm1LlUUPEAtz1TQnYE",
     "type":"CODE",
     "hide_input_from_viewers":true,
     "hide_output_from_viewers":true
    }
   }
  },
  {
   "cell_type":"markdown",
   "source":[
    "# UI Prvky (Controls)"
   ],
   "attachments":{
    
   },
   "metadata":{
    "datalore":{
     "node_id":"wxRmJZ3pD8caCozmLoj1aV",
     "type":"MD",
     "hide_input_from_viewers":true,
     "hide_output_from_viewers":true
    }
   }
  },
  {
   "cell_type":"code",
   "source":[
    
   ],
   "execution_count":null,
   "outputs":[
    
   ],
   "metadata":{
    "datalore":{
     "node_id":"Aar3Ug2eUM9yJYdOFNV57K",
     "type":"CODE",
     "hide_input_from_viewers":true,
     "hide_output_from_viewers":true
    }
   }
  },
  {
   "cell_type":"code",
   "source":[
    "ckb_vop <- TRUE"
   ],
   "execution_count":17,
   "outputs":[
    
   ],
   "metadata":{
    "datalore":{
     "node_id":"iK3E3VqDGMZF6fcy5Gldou",
     "type":"CONTROL",
     "hide_input_from_viewers":true,
     "hide_output_from_viewers":true,
     "controls_state":[
      {
       "type":"CHECKBOX",
       "label":"Suhlas s VOP",
       "variable":"ckb_vop",
       "value":true
      }
     ]
    }
   }
  },
  {
   "cell_type":"code",
   "source":[
    "print(paste(\"Dal si suhlas: \", ckb_vop))"
   ],
   "execution_count":18,
   "outputs":[
    {
     "name":"stdout",
     "text":[
      "[1] \"Dal si suhlas:  TRUE\"\n"
     ],
     "output_type":"stream"
    }
   ],
   "metadata":{
    "datalore":{
     "node_id":"opMV4AwsAbl7bcA2KbmLPI",
     "type":"CODE",
     "hide_input_from_viewers":true,
     "hide_output_from_viewers":true
    }
   }
  },
  {
   "cell_type":"code",
   "source":[
    
   ],
   "execution_count":null,
   "outputs":[
    
   ],
   "metadata":{
    "datalore":{
     "node_id":"bzn9iPRsu135o1OyxTF2SX",
     "type":"CODE",
     "hide_input_from_viewers":true,
     "hide_output_from_viewers":true
    }
   }
  },
  {
   "cell_type":"code",
   "source":[
    "dp_farby <- \"modrá\""
   ],
   "execution_count":19,
   "outputs":[
    
   ],
   "metadata":{
    "datalore":{
     "node_id":"20DrU6WshWERKGSKk3nqr2",
     "type":"CONTROL",
     "hide_input_from_viewers":true,
     "hide_output_from_viewers":true,
     "controls_state":[
      {
       "type":"DROPDOWN",
       "label":"Farby auto",
       "variable":"dp_farby",
       "value":"modrá",
       "values":[
        
       ],
       "items":[
        "čierna",
        "biela",
        "modrá",
        "zelená"
       ],
       "multiselect":false
      }
     ]
    }
   }
  },
  {
   "cell_type":"code",
   "source":[
    "print(paste(\"Dal si suhlas: \", dp_farby))"
   ],
   "execution_count":20,
   "outputs":[
    {
     "name":"stdout",
     "text":[
      "[1] \"Dal si suhlas:  modrá\"\n"
     ],
     "output_type":"stream"
    }
   ],
   "metadata":{
    "datalore":{
     "node_id":"ftTUjuBTbbnmFznCvL2IpP",
     "type":"CODE",
     "hide_input_from_viewers":true,
     "hide_output_from_viewers":true
    }
   }
  },
  {
   "cell_type":"code",
   "source":[
    
   ],
   "execution_count":null,
   "outputs":[
    
   ],
   "metadata":{
    "datalore":{
     "node_id":"KCNz7CDLNctXC5AOXzThHO",
     "type":"CODE",
     "hide_input_from_viewers":true,
     "hide_output_from_viewers":true
    }
   }
  },
  {
   "cell_type":"code",
   "source":[
    "txt_meno <- \"Nikola\""
   ],
   "execution_count":21,
   "outputs":[
    
   ],
   "metadata":{
    "datalore":{
     "node_id":"1CA6FIMvgC7cG7cL2awZgq",
     "type":"CONTROL",
     "hide_input_from_viewers":true,
     "hide_output_from_viewers":true,
     "controls_state":[
      {
       "type":"INPUT",
       "label":"Krstné meno:",
       "variable":"txt_meno",
       "value":"Nikola",
       "multiline":false
      }
     ]
    }
   }
  },
  {
   "cell_type":"code",
   "source":[
    "print(paste(\"Ako sa volas: \", txt_meno))"
   ],
   "execution_count":22,
   "outputs":[
    {
     "name":"stdout",
     "text":[
      "[1] \"Ako sa volas:  Nikola\"\n"
     ],
     "output_type":"stream"
    }
   ],
   "metadata":{
    "datalore":{
     "node_id":"3YdbeQv2kiBpeSIkR0QNcj",
     "type":"CODE",
     "hide_input_from_viewers":true,
     "hide_output_from_viewers":true
    }
   }
  },
  {
   "cell_type":"code",
   "source":[
    "dtp_nastup_praca <- as.Date(\"2344-05-25\")"
   ],
   "execution_count":23,
   "outputs":[
    
   ],
   "metadata":{
    "datalore":{
     "node_id":"P0bBYxBIYIZhCL6O9Mh2Lo",
     "type":"CONTROL",
     "hide_input_from_viewers":true,
     "hide_output_from_viewers":true,
     "controls_state":[
      {
       "type":"DATEPICKER",
       "label":"Nástup do práce",
       "variable":"dtp_nastup_praca",
       "startDateValue":"2344-05-25",
       "range":false
      }
     ]
    }
   }
  },
  {
   "cell_type":"code",
   "source":[
    "print(paste(\"Nastupil si: \", dtp_nastup_praca))"
   ],
   "execution_count":24,
   "outputs":[
    {
     "name":"stdout",
     "text":[
      "[1] \"Nastupil si:  2344-05-25\"\n"
     ],
     "output_type":"stream"
    }
   ],
   "metadata":{
    "datalore":{
     "node_id":"FBOCbUUbwG1hN10ftmzdN1",
     "type":"CODE",
     "hide_input_from_viewers":true,
     "hide_output_from_viewers":true
    }
   }
  },
  {
   "cell_type":"code",
   "source":[
    
   ],
   "execution_count":null,
   "outputs":[
    
   ],
   "metadata":{
    "datalore":{
     "node_id":"5ceSZtwThdGDfHMqdzMKkQ",
     "type":"CODE",
     "hide_input_from_viewers":true,
     "hide_output_from_viewers":true
    }
   }
  },
  {
   "cell_type":"code",
   "source":[
    "slider_1 <- 6"
   ],
   "execution_count":25,
   "outputs":[
    
   ],
   "metadata":{
    "datalore":{
     "node_id":"ZNJpwBVuCTBnpDBfXGkRGr",
     "type":"CONTROL",
     "hide_input_from_viewers":true,
     "hide_output_from_viewers":true,
     "controls_state":[
      {
       "type":"SLIDER",
       "label":"Slider 1",
       "variable":"slider_1",
       "value":"6",
       "min":"0",
       "max":"10",
       "step":"1",
       "minExpression":"",
       "maxExpression":"",
       "stepExpression":""
      }
     ]
    }
   }
  },
  {
   "cell_type":"code",
   "source":[
    
   ],
   "execution_count":null,
   "outputs":[
    
   ],
   "metadata":{
    "datalore":{
     "node_id":"oXMIVLh6TtoEo8tAaRrOdq",
     "type":"CODE",
     "hide_input_from_viewers":true,
     "hide_output_from_viewers":true
    }
   }
  },
  {
   "cell_type":"code",
   "source":[
    
   ],
   "execution_count":null,
   "outputs":[
    
   ],
   "metadata":{
    "datalore":{
     "node_id":"7Yzbeg7wErBLvedrX12gmY",
     "type":"RUN",
     "hide_input_from_viewers":true,
     "hide_output_from_viewers":true,
     "run_cell_properties":{
      "label":"Button",
      "showCode":true
     }
    }
   }
  },
  {
   "cell_type":"markdown",
   "source":[
    "# Riadiace_Struktury"
   ],
   "attachments":{
    
   },
   "metadata":{
    "datalore":{
     "node_id":"Riadiace_Struktury",
     "type":"MD",
     "hide_input_from_viewers":false,
     "hide_output_from_viewers":false,
     "sheet_delimiter":true
    }
   }
  },
  {
   "cell_type":"code",
   "source":[
    "# if else, else if"
   ],
   "execution_count":26,
   "outputs":[
    
   ],
   "metadata":{
    "datalore":{
     "node_id":"Vkb9ExJL9LcGOS2xOeDZfQ",
     "type":"CODE",
     "hide_input_from_viewers":true,
     "hide_output_from_viewers":true
    }
   }
  },
  {
   "cell_type":"code",
   "source":[
    "a <- 5\n",
    "b <- 8\n",
    "# > < >= <= == != <>\n",
    "if (a > b) {\n",
    "    cat(\"a je vacsie b\")\n",
    "} else if (a == b) {\n",
    "    cat(\"a a b su rovnake\")\n",
    "} else {\n",
    "    cat(\"b je vacsie a\")\n",
    "}"
   ],
   "execution_count":28,
   "outputs":[
    {
     "name":"stdout",
     "text":[
      "b je vacsie a"
     ],
     "output_type":"stream"
    }
   ],
   "metadata":{
    "datalore":{
     "node_id":"ZDTG9wwErtSfBsSvTWZ9qk",
     "type":"CODE",
     "hide_input_from_viewers":true,
     "hide_output_from_viewers":true
    }
   }
  },
  {
   "cell_type":"code",
   "source":[
    "# Operator priradenia =\n",
    "a = 3\n",
    "\n",
    "# Operator porovnania ==\n",
    "5 == 5\n",
    "a == 3\n",
    "a == 5"
   ],
   "execution_count":29,
   "outputs":[
    {
     "data":{
      "text\/html":[
       "TRUE"
      ]
     },
     "metadata":{
      
     },
     "output_type":"display_data"
    },
    {
     "data":{
      "text\/html":[
       "TRUE"
      ]
     },
     "metadata":{
      
     },
     "output_type":"display_data"
    },
    {
     "data":{
      "text\/html":[
       "FALSE"
      ]
     },
     "metadata":{
      
     },
     "output_type":"display_data"
    }
   ],
   "metadata":{
    "datalore":{
     "node_id":"htxKS3UpFsSUqDNG7GYplk",
     "type":"CODE",
     "hide_input_from_viewers":true,
     "hide_output_from_viewers":true
    }
   }
  },
  {
   "cell_type":"markdown",
   "source":[
    "# Cyklus while"
   ],
   "attachments":{
    
   },
   "metadata":{
    "datalore":{
     "node_id":"P3297ekGaINC81bIloemt8",
     "type":"MD",
     "hide_input_from_viewers":true,
     "hide_output_from_viewers":true
    }
   }
  },
  {
   "cell_type":"code",
   "source":[
    "i <- 1\n",
    "while(i < 10){\n",
    "    cat(paste(i, \". Chcem zit nonstop \\n\", sep=\"\"))\n",
    "    i <- i + 1\n",
    "}"
   ],
   "execution_count":30,
   "outputs":[
    {
     "name":"stdout",
     "text":[
      "1. Chcem zit nonstop \n",
      "2. Chcem zit nonstop \n",
      "3. Chcem zit nonstop \n",
      "4. Chcem zit nonstop \n",
      "5. Chcem zit nonstop \n",
      "6. Chcem zit nonstop \n",
      "7. Chcem zit nonstop \n",
      "8. Chcem zit nonstop \n",
      "9. Chcem zit nonstop \n"
     ],
     "output_type":"stream"
    }
   ],
   "metadata":{
    "datalore":{
     "node_id":"YVwbJ612OryhWs7y5kgIbq",
     "type":"CODE",
     "hide_input_from_viewers":true,
     "hide_output_from_viewers":true
    }
   }
  },
  {
   "cell_type":"code",
   "source":[
    "i <- 1\n",
    "while(i < 100){\n",
    "    if(i >= 50) {\n",
    "        cat(\"Koncime...\")\n",
    "        break\n",
    "    }\n",
    "    cat(paste(i, \". Chcem zit nonstop \\n\", sep=\"\"))\n",
    "    i <- i + 10\n",
    "}"
   ],
   "execution_count":33,
   "outputs":[
    {
     "name":"stdout",
     "text":[
      "1. Chcem zit nonstop \n",
      "11. Chcem zit nonstop \n",
      "21. Chcem zit nonstop \n",
      "31. Chcem zit nonstop \n",
      "41. Chcem zit nonstop \n",
      "Koncime..."
     ],
     "output_type":"stream"
    }
   ],
   "metadata":{
    "datalore":{
     "node_id":"q9N7V1sW0bdckYQQm46Crq",
     "type":"CODE",
     "hide_input_from_viewers":true,
     "hide_output_from_viewers":true
    }
   }
  },
  {
   "cell_type":"code",
   "source":[
    "# matrix()\n",
    "# vector()\n",
    "# array()\n",
    "# data.frame()\n",
    "zoznam_kurzy <- list(\"Kurz Data Science\", \"Kurz R\", \"Kurz SQL\", \"Kurz Python\", \"Kurz NoSQL\")\n",
    "\n",
    "for(kurz in zoznam_kurzy){\n",
    "    cat(paste(\"🍩 \", kurz, \"\\n\"))\n",
    "}"
   ],
   "execution_count":34,
   "outputs":[
    {
     "name":"stdout",
     "text":[
      "🍩  Kurz Data Science \n",
      "🍩  Kurz R \n",
      "🍩  Kurz SQL \n",
      "🍩  Kurz Python \n",
      "🍩  Kurz NoSQL \n"
     ],
     "output_type":"stream"
    }
   ],
   "metadata":{
    "datalore":{
     "node_id":"mizlShHMrzasQbwB2d7viJ",
     "type":"CODE",
     "hide_input_from_viewers":true,
     "hide_output_from_viewers":true
    }
   }
  },
  {
   "cell_type":"code",
   "source":[
    "x <- 1\n",
    "\n",
    "repeat {\n",
    "\n",
    "    if (x > 20) {\n",
    "        cat(\"Koncime a ideme na obed\")\n",
    "        break\n",
    "    }\n",
    "\n",
    "    cat(\"Chcem zit nonstop \\n\")\n",
    "    x <- x + 2\n",
    "}"
   ],
   "execution_count":35,
   "outputs":[
    {
     "name":"stdout",
     "text":[
      "Chcem zit nonstop \n",
      "Chcem zit nonstop \n",
      "Chcem zit nonstop \n",
      "Chcem zit nonstop \n",
      "Chcem zit nonstop \n",
      "Chcem zit nonstop \n",
      "Chcem zit nonstop \n",
      "Chcem zit nonstop \n",
      "Chcem zit nonstop \n",
      "Chcem zit nonstop \n",
      "Koncime a ideme na obed"
     ],
     "output_type":"stream"
    }
   ],
   "metadata":{
    "datalore":{
     "node_id":"hmYDtLyqbBNd6I0gaygydX",
     "type":"CODE",
     "hide_input_from_viewers":true,
     "hide_output_from_viewers":true
    }
   }
  },
  {
   "cell_type":"markdown",
   "source":[
    "# Funkcie"
   ],
   "attachments":{
    
   },
   "metadata":{
    "datalore":{
     "node_id":"Funkcie",
     "type":"MD",
     "hide_input_from_viewers":false,
     "hide_output_from_viewers":false,
     "sheet_delimiter":true
    }
   }
  },
  {
   "cell_type":"code",
   "source":[
    "vypis_cau <- function() {\n",
    "    print(\"Cau\")\n",
    "}\n",
    "\n",
    "vypis_cau()"
   ],
   "execution_count":36,
   "outputs":[
    {
     "name":"stdout",
     "text":[
      "[1] \"Cau\"\n"
     ],
     "output_type":"stream"
    }
   ],
   "metadata":{
    "datalore":{
     "node_id":"p0WzlkLkaoD3DHVifTY8oS",
     "type":"CODE",
     "hide_input_from_viewers":true,
     "hide_output_from_viewers":true
    }
   }
  },
  {
   "cell_type":"code",
   "source":[
    "# Popis funkcie\n",
    "# @t - titul napr. Ing\n",
    "# @m - krstne meno napr. Adam\n",
    "# vypis_cele_meno_student <- function(t, m, p) {\n",
    "\n",
    "# Globalny priestor\/Scope\n",
    "a = 1\n",
    "b <- 3\n",
    "print(\"Globalny priestor\/Scope\")\n",
    "print(a)\n",
    "\n",
    "vypis_cele_meno_student <- function(titul, meno, priezvisko = \"Sangala\") {\n",
    "    # Lokalny priestor\n",
    "    # x1 = 3\n",
    "    # print(x1)\n",
    "    print(paste(titul, meno, priezvisko))\n",
    "    print(\"Lokalny priestor\/Scope\")\n",
    "    a <<- 22\n",
    "    print(a)\n",
    "}\n",
    "\n",
    "print(\"Globalny priestor\/Scope 2\")\n",
    "print(a)\n",
    "#print(x1)\n",
    "\n",
    "vypis_cele_meno_student(\"Ing.\", \"Adam\")\n",
    "vypis_cele_meno_student(\"Ing.\", \"Monika\", \"Dlha\")\n",
    "vypis_cele_meno_student(\"Bc.\", \"Tomas\")"
   ],
   "execution_count":37,
   "outputs":[
    {
     "name":"stdout",
     "text":[
      "[1] \"Globalny priestor\/Scope\"\n",
      "[1] 1\n",
      "[1] \"Globalny priestor\/Scope 2\"\n",
      "[1] 1\n",
      "[1] \"Ing. Adam Sangala\"\n",
      "[1] \"Lokalny priestor\/Scope\"\n",
      "[1] 22\n",
      "[1] \"Ing. Monika Dlha\"\n",
      "[1] \"Lokalny priestor\/Scope\"\n",
      "[1] 22\n",
      "[1] \"Bc. Tomas Sangala\"\n",
      "[1] \"Lokalny priestor\/Scope\"\n",
      "[1] 22\n"
     ],
     "output_type":"stream"
    }
   ],
   "metadata":{
    "datalore":{
     "node_id":"HEVqzcVOC0wUX5PTRgm8vj",
     "type":"CODE",
     "hide_input_from_viewers":true,
     "hide_output_from_viewers":true
    }
   }
  },
  {
   "cell_type":"code",
   "source":[
    "je_parne <- function(x) {\n",
    "    if (x %% 2 == 0) {\n",
    "        cat(\"Je to parne \\n\")\n",
    "    }\n",
    "    else {\n",
    "        cat(\"Je to neparne \\n\")\n",
    "    }\n",
    "}\n",
    "\n",
    "je_parne(5)\n",
    "je_parne(6)"
   ],
   "execution_count":38,
   "outputs":[
    {
     "name":"stdout",
     "text":[
      "Je to neparne \n",
      "Je to parne \n"
     ],
     "output_type":"stream"
    }
   ],
   "metadata":{
    "datalore":{
     "node_id":"ikUCyGvML6bHqj1YiV2lNq",
     "type":"CODE",
     "hide_input_from_viewers":true,
     "hide_output_from_viewers":true
    }
   }
  },
  {
   "cell_type":"code",
   "source":[
    "kosinus <- function(w = 1, min = -2 * pi, max = 2 * pi) {\n",
    "    x <- seq(-2 * pi, 2 * pi, length = 200)\n",
    "    plot(x, sin(w * x), type=\"l\")\n",
    "}\n",
    "\n",
    "kosinus()\n",
    "kosinus(w = 2)\n",
    "kosinus(w = 3)\n",
    "kosinus(w = 3, min = -3 * pi)"
   ],
   "execution_count":39,
   "outputs":[
    {
     "data":{
      "image\/png":"[encoded data removed]"
     },
     "metadata":{
      "image\/png":{
       "width":420,
       "height":420
      }
     },
     "output_type":"display_data"
    },
    {
     "data":{
      "image\/png":"[encoded data removed]"
     },
     "metadata":{
      "image\/png":{
       "width":420,
       "height":420
      }
     },
     "output_type":"display_data"
    },
    {
     "data":{
      "image\/png":"[encoded data removed]"
     },
     "metadata":{
      "image\/png":{
       "width":420,
       "height":420
      }
     },
     "output_type":"display_data"
    }
   ],
   "metadata":{
    "datalore":{
     "node_id":"6pkkrXQluNbybPcN4P8W7O",
     "type":"CODE",
     "hide_input_from_viewers":true,
     "hide_output_from_viewers":true
    }
   }
  },
  {
   "cell_type":"markdown",
   "source":[
    "# Balicky"
   ],
   "attachments":{
    
   },
   "metadata":{
    "datalore":{
     "node_id":"Balicky",
     "type":"MD",
     "hide_input_from_viewers":false,
     "hide_output_from_viewers":false,
     "sheet_delimiter":true
    }
   }
  },
  {
   "cell_type":"code",
   "source":[
    "#install.packages(\"dplyr\")\n",
    "#install.packages(\"tidyverse\")\n",
    "library(dplyr)\n",
    "\n",
    "# pipe (|)  %>%\n",
    "cars %>% subset(speed >= 10) %>% summary()"
   ],
   "execution_count":40,
   "outputs":[
    {
     "name":"stderr",
     "text":[
      "\n",
      "Attaching package: ‘dplyr’\n",
      "\n",
      "\n",
      "The following objects are masked from ‘package:stats’:\n",
      "\n",
      "    filter, lag\n",
      "\n",
      "\n",
      "The following objects are masked from ‘package:base’:\n",
      "\n",
      "    intersect, setdiff, setequal, union\n",
      "\n",
      "\n"
     ],
     "output_type":"stream"
    },
    {
     "data":{
      "text\/html":[
       "<pre>     speed            dist       \n",
       " Min.   :10.00   Min.   : 14.00  \n",
       " 1st Qu.:13.00   1st Qu.: 28.00  \n",
       " Median :16.50   Median : 41.00  \n",
       " Mean   :16.61   Mean   : 47.39  \n",
       " 3rd Qu.:20.00   3rd Qu.: 61.00  \n",
       " Max.   :25.00   Max.   :120.00  <\/pre>"
      ]
     },
     "metadata":{
      
     },
     "output_type":"display_data"
    }
   ],
   "metadata":{
    "datalore":{
     "node_id":"Qa3OofT5mA0i5SObEToJEU",
     "type":"CODE",
     "hide_input_from_viewers":true,
     "hide_output_from_viewers":true
    }
   }
  },
  {
   "cell_type":"code",
   "source":[
    "starwars %>% filter(sex == \"male\")\n",
    "# select\n",
    "# filter\n",
    "# mutate\n",
    "# arrange\n",
    "# summarize"
   ],
   "execution_count":41,
   "outputs":[
    {
     "data":{
      "text\/html":[
       "<table class=\"dataframe\">\n",
       "<caption>A tibble: 60 × 14<\/caption>\n",
       "<thead>\n",
       "\t<tr><th scope=col>name<\/th><th scope=col>height<\/th><th scope=col>mass<\/th><th scope=col>hair_color<\/th><th scope=col>skin_color<\/th><th scope=col>eye_color<\/th><th scope=col>birth_year<\/th><th scope=col>sex<\/th><th scope=col>gender<\/th><th scope=col>homeworld<\/th><th scope=col>species<\/th><th scope=col>films<\/th><th scope=col>vehicles<\/th><th scope=col>starships<\/th><\/tr>\n",
       "\t<tr><th scope=col>&lt;chr&gt;<\/th><th scope=col>&lt;int&gt;<\/th><th scope=col>&lt;dbl&gt;<\/th><th scope=col>&lt;chr&gt;<\/th><th scope=col>&lt;chr&gt;<\/th><th scope=col>&lt;chr&gt;<\/th><th scope=col>&lt;dbl&gt;<\/th><th scope=col>&lt;chr&gt;<\/th><th scope=col>&lt;chr&gt;<\/th><th scope=col>&lt;chr&gt;<\/th><th scope=col>&lt;chr&gt;<\/th><th scope=col>&lt;list&gt;<\/th><th scope=col>&lt;list&gt;<\/th><th scope=col>&lt;list&gt;<\/th><\/tr>\n",
       "<\/thead>\n",
       "<tbody>\n",
       "\t<tr><td>Luke Skywalker       <\/td><td>172<\/td><td> 77.0<\/td><td>blond        <\/td><td>fair               <\/td><td>blue         <\/td><td> 19.0<\/td><td>male<\/td><td>masculine<\/td><td>Tatooine      <\/td><td>Human         <\/td><td>The Empire Strikes Back, Revenge of the Sith    , Return of the Jedi     , A New Hope             , The Force Awakens      <\/td><td>Snowspeeder          , Imperial Speeder Bike<\/td><td>X-wing          , Imperial shuttle<\/td><\/tr>\n",
       "\t<tr><td>Darth Vader          <\/td><td>202<\/td><td>136.0<\/td><td>none         <\/td><td>white              <\/td><td>yellow       <\/td><td> 41.9<\/td><td>male<\/td><td>masculine<\/td><td>Tatooine      <\/td><td>Human         <\/td><td>The Empire Strikes Back, Revenge of the Sith    , Return of the Jedi     , A New Hope             <\/td><td><\/td><td>TIE Advanced x1<\/td><\/tr>\n",
       "\t<tr><td>Owen Lars            <\/td><td>178<\/td><td>120.0<\/td><td>brown, grey  <\/td><td>light              <\/td><td>blue         <\/td><td> 52.0<\/td><td>male<\/td><td>masculine<\/td><td>Tatooine      <\/td><td>Human         <\/td><td>Attack of the Clones, Revenge of the Sith , A New Hope          <\/td><td><\/td><td><\/td><\/tr>\n",
       "\t<tr><td>Biggs Darklighter    <\/td><td>183<\/td><td> 84.0<\/td><td>black        <\/td><td>light              <\/td><td>brown        <\/td><td> 24.0<\/td><td>male<\/td><td>masculine<\/td><td>Tatooine      <\/td><td>Human         <\/td><td>A New Hope<\/td><td><\/td><td>X-wing<\/td><\/tr>\n",
       "\t<tr><td>Obi-Wan Kenobi       <\/td><td>182<\/td><td> 77.0<\/td><td>auburn, white<\/td><td>fair               <\/td><td>blue-gray    <\/td><td> 57.0<\/td><td>male<\/td><td>masculine<\/td><td>Stewjon       <\/td><td>Human         <\/td><td>The Empire Strikes Back, Attack of the Clones   , The Phantom Menace     , Revenge of the Sith    , Return of the Jedi     , A New Hope             <\/td><td>Tribubble bongo<\/td><td>Jedi starfighter        , Trade Federation cruiser, Naboo star skiff        , Jedi Interceptor        , Belbullab-22 starfighter<\/td><\/tr>\n",
       "\t<tr><td>Anakin Skywalker     <\/td><td>188<\/td><td> 84.0<\/td><td>blond        <\/td><td>fair               <\/td><td>blue         <\/td><td> 41.9<\/td><td>male<\/td><td>masculine<\/td><td>Tatooine      <\/td><td>Human         <\/td><td>Attack of the Clones, The Phantom Menace  , Revenge of the Sith <\/td><td>Zephyr-G swoop bike, XJ-6 airspeeder    <\/td><td>Trade Federation cruiser, Jedi Interceptor        , Naboo fighter           <\/td><\/tr>\n",
       "\t<tr><td>Wilhuff Tarkin       <\/td><td>180<\/td><td>   NA<\/td><td>auburn, grey <\/td><td>fair               <\/td><td>blue         <\/td><td> 64.0<\/td><td>male<\/td><td>masculine<\/td><td>Eriadu        <\/td><td>Human         <\/td><td>Revenge of the Sith, A New Hope         <\/td><td><\/td><td><\/td><\/tr>\n",
       "\t<tr><td>Chewbacca            <\/td><td>228<\/td><td>112.0<\/td><td>brown        <\/td><td>unknown            <\/td><td>blue         <\/td><td>200.0<\/td><td>male<\/td><td>masculine<\/td><td>Kashyyyk      <\/td><td>Wookiee       <\/td><td>The Empire Strikes Back, Revenge of the Sith    , Return of the Jedi     , A New Hope             , The Force Awakens      <\/td><td>AT-ST<\/td><td>Millennium Falcon, Imperial shuttle <\/td><\/tr>\n",
       "\t<tr><td>Han Solo             <\/td><td>180<\/td><td> 80.0<\/td><td>brown        <\/td><td>fair               <\/td><td>brown        <\/td><td> 29.0<\/td><td>male<\/td><td>masculine<\/td><td>Corellia      <\/td><td>Human         <\/td><td>The Empire Strikes Back, Return of the Jedi     , A New Hope             , The Force Awakens      <\/td><td><\/td><td>Millennium Falcon, Imperial shuttle <\/td><\/tr>\n",
       "\t<tr><td>Greedo               <\/td><td>173<\/td><td> 74.0<\/td><td>NA           <\/td><td>green              <\/td><td>black        <\/td><td> 44.0<\/td><td>male<\/td><td>masculine<\/td><td>Rodia         <\/td><td>Rodian        <\/td><td>A New Hope<\/td><td><\/td><td><\/td><\/tr>\n",
       "\t<tr><td>Wedge Antilles       <\/td><td>170<\/td><td> 77.0<\/td><td>brown        <\/td><td>fair               <\/td><td>hazel        <\/td><td> 21.0<\/td><td>male<\/td><td>masculine<\/td><td>Corellia      <\/td><td>Human         <\/td><td>The Empire Strikes Back, Return of the Jedi     , A New Hope             <\/td><td>Snowspeeder<\/td><td>X-wing<\/td><\/tr>\n",
       "\t<tr><td>Jek Tono Porkins     <\/td><td>180<\/td><td>110.0<\/td><td>brown        <\/td><td>fair               <\/td><td>blue         <\/td><td>   NA<\/td><td>male<\/td><td>masculine<\/td><td>Bestine IV    <\/td><td>Human         <\/td><td>A New Hope<\/td><td><\/td><td>X-wing<\/td><\/tr>\n",
       "\t<tr><td>Yoda                 <\/td><td> 66<\/td><td> 17.0<\/td><td>white        <\/td><td>green              <\/td><td>brown        <\/td><td>896.0<\/td><td>male<\/td><td>masculine<\/td><td>NA            <\/td><td>Yoda's species<\/td><td>The Empire Strikes Back, Attack of the Clones   , The Phantom Menace     , Revenge of the Sith    , Return of the Jedi     <\/td><td><\/td><td><\/td><\/tr>\n",
       "\t<tr><td>Palpatine            <\/td><td>170<\/td><td> 75.0<\/td><td>grey         <\/td><td>pale               <\/td><td>yellow       <\/td><td> 82.0<\/td><td>male<\/td><td>masculine<\/td><td>Naboo         <\/td><td>Human         <\/td><td>The Empire Strikes Back, Attack of the Clones   , The Phantom Menace     , Revenge of the Sith    , Return of the Jedi     <\/td><td><\/td><td><\/td><\/tr>\n",
       "\t<tr><td>Boba Fett            <\/td><td>183<\/td><td> 78.2<\/td><td>black        <\/td><td>fair               <\/td><td>brown        <\/td><td> 31.5<\/td><td>male<\/td><td>masculine<\/td><td>Kamino        <\/td><td>Human         <\/td><td>The Empire Strikes Back, Attack of the Clones   , Return of the Jedi     <\/td><td><\/td><td>Slave 1<\/td><\/tr>\n",
       "\t<tr><td>Bossk                <\/td><td>190<\/td><td>113.0<\/td><td>none         <\/td><td>green              <\/td><td>red          <\/td><td> 53.0<\/td><td>male<\/td><td>masculine<\/td><td>Trandosha     <\/td><td>Trandoshan    <\/td><td>The Empire Strikes Back<\/td><td><\/td><td><\/td><\/tr>\n",
       "\t<tr><td>Lando Calrissian     <\/td><td>177<\/td><td> 79.0<\/td><td>black        <\/td><td>dark               <\/td><td>brown        <\/td><td> 31.0<\/td><td>male<\/td><td>masculine<\/td><td>Socorro       <\/td><td>Human         <\/td><td>The Empire Strikes Back, Return of the Jedi     <\/td><td><\/td><td>Millennium Falcon<\/td><\/tr>\n",
       "\t<tr><td>Lobot                <\/td><td>175<\/td><td> 79.0<\/td><td>none         <\/td><td>light              <\/td><td>blue         <\/td><td> 37.0<\/td><td>male<\/td><td>masculine<\/td><td>Bespin        <\/td><td>Human         <\/td><td>The Empire Strikes Back<\/td><td><\/td><td><\/td><\/tr>\n",
       "\t<tr><td>Ackbar               <\/td><td>180<\/td><td> 83.0<\/td><td>none         <\/td><td>brown mottle       <\/td><td>orange       <\/td><td> 41.0<\/td><td>male<\/td><td>masculine<\/td><td>Mon Cala      <\/td><td>Mon Calamari  <\/td><td>Return of the Jedi, The Force Awakens <\/td><td><\/td><td><\/td><\/tr>\n",
       "\t<tr><td>Arvel Crynyd         <\/td><td> NA<\/td><td>   NA<\/td><td>brown        <\/td><td>fair               <\/td><td>brown        <\/td><td>   NA<\/td><td>male<\/td><td>masculine<\/td><td>NA            <\/td><td>Human         <\/td><td>Return of the Jedi<\/td><td><\/td><td>A-wing<\/td><\/tr>\n",
       "\t<tr><td>Wicket Systri Warrick<\/td><td> 88<\/td><td> 20.0<\/td><td>brown        <\/td><td>brown              <\/td><td>brown        <\/td><td>  8.0<\/td><td>male<\/td><td>masculine<\/td><td>Endor         <\/td><td>Ewok          <\/td><td>Return of the Jedi<\/td><td><\/td><td><\/td><\/tr>\n",
       "\t<tr><td>Nien Nunb            <\/td><td>160<\/td><td> 68.0<\/td><td>none         <\/td><td>grey               <\/td><td>black        <\/td><td>   NA<\/td><td>male<\/td><td>masculine<\/td><td>Sullust       <\/td><td>Sullustan     <\/td><td>Return of the Jedi<\/td><td><\/td><td>Millennium Falcon<\/td><\/tr>\n",
       "\t<tr><td>Qui-Gon Jinn         <\/td><td>193<\/td><td> 89.0<\/td><td>brown        <\/td><td>fair               <\/td><td>blue         <\/td><td> 92.0<\/td><td>male<\/td><td>masculine<\/td><td>NA            <\/td><td>Human         <\/td><td>The Phantom Menace<\/td><td>Tribubble bongo<\/td><td><\/td><\/tr>\n",
       "\t<tr><td>Nute Gunray          <\/td><td>191<\/td><td> 90.0<\/td><td>none         <\/td><td>mottled green      <\/td><td>red          <\/td><td>   NA<\/td><td>male<\/td><td>masculine<\/td><td>Cato Neimoidia<\/td><td>Neimodian     <\/td><td>Attack of the Clones, The Phantom Menace  , Revenge of the Sith <\/td><td><\/td><td><\/td><\/tr>\n",
       "\t<tr><td>Finis Valorum        <\/td><td>170<\/td><td>   NA<\/td><td>blond        <\/td><td>fair               <\/td><td>blue         <\/td><td> 91.0<\/td><td>male<\/td><td>masculine<\/td><td>Coruscant     <\/td><td>Human         <\/td><td>The Phantom Menace<\/td><td><\/td><td><\/td><\/tr>\n",
       "\t<tr><td>Jar Jar Binks        <\/td><td>196<\/td><td> 66.0<\/td><td>none         <\/td><td>orange             <\/td><td>orange       <\/td><td> 52.0<\/td><td>male<\/td><td>masculine<\/td><td>Naboo         <\/td><td>Gungan        <\/td><td>Attack of the Clones, The Phantom Menace  <\/td><td><\/td><td><\/td><\/tr>\n",
       "\t<tr><td>Roos Tarpals         <\/td><td>224<\/td><td> 82.0<\/td><td>none         <\/td><td>grey               <\/td><td>orange       <\/td><td>   NA<\/td><td>male<\/td><td>masculine<\/td><td>Naboo         <\/td><td>Gungan        <\/td><td>The Phantom Menace<\/td><td><\/td><td><\/td><\/tr>\n",
       "\t<tr><td>Rugor Nass           <\/td><td>206<\/td><td>   NA<\/td><td>none         <\/td><td>green              <\/td><td>orange       <\/td><td>   NA<\/td><td>male<\/td><td>masculine<\/td><td>Naboo         <\/td><td>Gungan        <\/td><td>The Phantom Menace<\/td><td><\/td><td><\/td><\/tr>\n",
       "\t<tr><td>Watto                <\/td><td>137<\/td><td>   NA<\/td><td>black        <\/td><td>blue, grey         <\/td><td>yellow       <\/td><td>   NA<\/td><td>male<\/td><td>masculine<\/td><td>Toydaria      <\/td><td>Toydarian     <\/td><td>Attack of the Clones, The Phantom Menace  <\/td><td><\/td><td><\/td><\/tr>\n",
       "\t<tr><td>Sebulba              <\/td><td>112<\/td><td> 40.0<\/td><td>none         <\/td><td>grey, red          <\/td><td>orange       <\/td><td>   NA<\/td><td>male<\/td><td>masculine<\/td><td>Malastare     <\/td><td>Dug           <\/td><td>The Phantom Menace<\/td><td><\/td><td><\/td><\/tr>\n",
       "\t<tr><td>Darth Maul           <\/td><td>175<\/td><td> 80.0<\/td><td>none         <\/td><td>red                <\/td><td>yellow       <\/td><td> 54.0<\/td><td>male<\/td><td>masculine<\/td><td>Dathomir      <\/td><td>Zabrak        <\/td><td>The Phantom Menace<\/td><td>Sith speeder<\/td><td>Scimitar<\/td><\/tr>\n",
       "\t<tr><td>Bib Fortuna          <\/td><td>180<\/td><td>   NA<\/td><td>none         <\/td><td>pale               <\/td><td>pink         <\/td><td>   NA<\/td><td>male<\/td><td>masculine<\/td><td>Ryloth        <\/td><td>Twi'lek       <\/td><td>Return of the Jedi<\/td><td><\/td><td><\/td><\/tr>\n",
       "\t<tr><td>Dud Bolt             <\/td><td> 94<\/td><td> 45.0<\/td><td>none         <\/td><td>blue, grey         <\/td><td>yellow       <\/td><td>   NA<\/td><td>male<\/td><td>masculine<\/td><td>Vulpter       <\/td><td>Vulptereen    <\/td><td>The Phantom Menace<\/td><td><\/td><td><\/td><\/tr>\n",
       "\t<tr><td>Gasgano              <\/td><td>122<\/td><td>   NA<\/td><td>none         <\/td><td>white, blue        <\/td><td>black        <\/td><td>   NA<\/td><td>male<\/td><td>masculine<\/td><td>Troiken       <\/td><td>Xexto         <\/td><td>The Phantom Menace<\/td><td><\/td><td><\/td><\/tr>\n",
       "\t<tr><td>Ben Quadinaros       <\/td><td>163<\/td><td> 65.0<\/td><td>none         <\/td><td>grey, green, yellow<\/td><td>orange       <\/td><td>   NA<\/td><td>male<\/td><td>masculine<\/td><td>Tund          <\/td><td>Toong         <\/td><td>The Phantom Menace<\/td><td><\/td><td><\/td><\/tr>\n",
       "\t<tr><td>Mace Windu           <\/td><td>188<\/td><td> 84.0<\/td><td>none         <\/td><td>dark               <\/td><td>brown        <\/td><td> 72.0<\/td><td>male<\/td><td>masculine<\/td><td>Haruun Kal    <\/td><td>Human         <\/td><td>Attack of the Clones, The Phantom Menace  , Revenge of the Sith <\/td><td><\/td><td><\/td><\/tr>\n",
       "\t<tr><td>Ki-Adi-Mundi         <\/td><td>198<\/td><td> 82.0<\/td><td>white        <\/td><td>pale               <\/td><td>yellow       <\/td><td> 92.0<\/td><td>male<\/td><td>masculine<\/td><td>Cerea         <\/td><td>Cerean        <\/td><td>Attack of the Clones, The Phantom Menace  , Revenge of the Sith <\/td><td><\/td><td><\/td><\/tr>\n",
       "\t<tr><td>Kit Fisto            <\/td><td>196<\/td><td> 87.0<\/td><td>none         <\/td><td>green              <\/td><td>black        <\/td><td>   NA<\/td><td>male<\/td><td>masculine<\/td><td>Glee Anselm   <\/td><td>Nautolan      <\/td><td>Attack of the Clones, The Phantom Menace  , Revenge of the Sith <\/td><td><\/td><td><\/td><\/tr>\n",
       "\t<tr><td>Eeth Koth            <\/td><td>171<\/td><td>   NA<\/td><td>black        <\/td><td>brown              <\/td><td>brown        <\/td><td>   NA<\/td><td>male<\/td><td>masculine<\/td><td>Iridonia      <\/td><td>Zabrak        <\/td><td>The Phantom Menace , Revenge of the Sith<\/td><td><\/td><td><\/td><\/tr>\n",
       "\t<tr><td>Saesee Tiin          <\/td><td>188<\/td><td>   NA<\/td><td>none         <\/td><td>pale               <\/td><td>orange       <\/td><td>   NA<\/td><td>male<\/td><td>masculine<\/td><td>Iktotch       <\/td><td>Iktotchi      <\/td><td>The Phantom Menace , Revenge of the Sith<\/td><td><\/td><td><\/td><\/tr>\n",
       "\t<tr><td>Yarael Poof          <\/td><td>264<\/td><td>   NA<\/td><td>none         <\/td><td>white              <\/td><td>yellow       <\/td><td>   NA<\/td><td>male<\/td><td>masculine<\/td><td>Quermia       <\/td><td>Quermian      <\/td><td>The Phantom Menace<\/td><td><\/td><td><\/td><\/tr>\n",
       "\t<tr><td>Plo Koon             <\/td><td>188<\/td><td> 80.0<\/td><td>none         <\/td><td>orange             <\/td><td>black        <\/td><td> 22.0<\/td><td>male<\/td><td>masculine<\/td><td>Dorin         <\/td><td>Kel Dor       <\/td><td>Attack of the Clones, The Phantom Menace  , Revenge of the Sith <\/td><td><\/td><td>Jedi starfighter<\/td><\/tr>\n",
       "\t<tr><td>Mas Amedda           <\/td><td>196<\/td><td>   NA<\/td><td>none         <\/td><td>blue               <\/td><td>blue         <\/td><td>   NA<\/td><td>male<\/td><td>masculine<\/td><td>Champala      <\/td><td>Chagrian      <\/td><td>Attack of the Clones, The Phantom Menace  <\/td><td><\/td><td><\/td><\/tr>\n",
       "\t<tr><td>Gregar Typho         <\/td><td>185<\/td><td> 85.0<\/td><td>black        <\/td><td>dark               <\/td><td>brown        <\/td><td>   NA<\/td><td>male<\/td><td>masculine<\/td><td>Naboo         <\/td><td>Human         <\/td><td>Attack of the Clones<\/td><td><\/td><td>Naboo fighter<\/td><\/tr>\n",
       "\t<tr><td>Cliegg Lars          <\/td><td>183<\/td><td>   NA<\/td><td>brown        <\/td><td>fair               <\/td><td>blue         <\/td><td> 82.0<\/td><td>male<\/td><td>masculine<\/td><td>Tatooine      <\/td><td>Human         <\/td><td>Attack of the Clones<\/td><td><\/td><td><\/td><\/tr>\n",
       "\t<tr><td>Poggle the Lesser    <\/td><td>183<\/td><td> 80.0<\/td><td>none         <\/td><td>green              <\/td><td>yellow       <\/td><td>   NA<\/td><td>male<\/td><td>masculine<\/td><td>Geonosis      <\/td><td>Geonosian     <\/td><td>Attack of the Clones, Revenge of the Sith <\/td><td><\/td><td><\/td><\/tr>\n",
       "\t<tr><td>Dooku                <\/td><td>193<\/td><td> 80.0<\/td><td>white        <\/td><td>fair               <\/td><td>brown        <\/td><td>102.0<\/td><td>male<\/td><td>masculine<\/td><td>Serenno       <\/td><td>Human         <\/td><td>Attack of the Clones, Revenge of the Sith <\/td><td>Flitknot speeder<\/td><td><\/td><\/tr>\n",
       "\t<tr><td>Bail Prestor Organa  <\/td><td>191<\/td><td>   NA<\/td><td>black        <\/td><td>tan                <\/td><td>brown        <\/td><td> 67.0<\/td><td>male<\/td><td>masculine<\/td><td>Alderaan      <\/td><td>Human         <\/td><td>Attack of the Clones, Revenge of the Sith <\/td><td><\/td><td><\/td><\/tr>\n",
       "\t<tr><td>Jango Fett           <\/td><td>183<\/td><td> 79.0<\/td><td>black        <\/td><td>tan                <\/td><td>brown        <\/td><td> 66.0<\/td><td>male<\/td><td>masculine<\/td><td>Concord Dawn  <\/td><td>Human         <\/td><td>Attack of the Clones<\/td><td><\/td><td><\/td><\/tr>\n",
       "\t<tr><td>Dexter Jettster      <\/td><td>198<\/td><td>102.0<\/td><td>none         <\/td><td>brown              <\/td><td>yellow       <\/td><td>   NA<\/td><td>male<\/td><td>masculine<\/td><td>Ojom          <\/td><td>Besalisk      <\/td><td>Attack of the Clones<\/td><td><\/td><td><\/td><\/tr>\n",
       "\t<tr><td>Lama Su              <\/td><td>229<\/td><td> 88.0<\/td><td>none         <\/td><td>grey               <\/td><td>black        <\/td><td>   NA<\/td><td>male<\/td><td>masculine<\/td><td>Kamino        <\/td><td>Kaminoan      <\/td><td>Attack of the Clones<\/td><td><\/td><td><\/td><\/tr>\n",
       "\t<tr><td>Ratts Tyerell        <\/td><td> 79<\/td><td> 15.0<\/td><td>none         <\/td><td>grey, blue         <\/td><td>unknown      <\/td><td>   NA<\/td><td>male<\/td><td>masculine<\/td><td>Aleen Minor   <\/td><td>Aleena        <\/td><td>The Phantom Menace<\/td><td><\/td><td><\/td><\/tr>\n",
       "\t<tr><td>Wat Tambor           <\/td><td>193<\/td><td> 48.0<\/td><td>none         <\/td><td>green, grey        <\/td><td>unknown      <\/td><td>   NA<\/td><td>male<\/td><td>masculine<\/td><td>Skako         <\/td><td>Skakoan       <\/td><td>Attack of the Clones<\/td><td><\/td><td><\/td><\/tr>\n",
       "\t<tr><td>San Hill             <\/td><td>191<\/td><td>   NA<\/td><td>none         <\/td><td>grey               <\/td><td>gold         <\/td><td>   NA<\/td><td>male<\/td><td>masculine<\/td><td>Muunilinst    <\/td><td>Muun          <\/td><td>Attack of the Clones<\/td><td><\/td><td><\/td><\/tr>\n",
       "\t<tr><td>Grievous             <\/td><td>216<\/td><td>159.0<\/td><td>none         <\/td><td>brown, white       <\/td><td>green, yellow<\/td><td>   NA<\/td><td>male<\/td><td>masculine<\/td><td>Kalee         <\/td><td>Kaleesh       <\/td><td>Revenge of the Sith<\/td><td>Tsmeu-6 personal wheel bike<\/td><td>Belbullab-22 starfighter<\/td><\/tr>\n",
       "\t<tr><td>Tarfful              <\/td><td>234<\/td><td>136.0<\/td><td>brown        <\/td><td>brown              <\/td><td>blue         <\/td><td>   NA<\/td><td>male<\/td><td>masculine<\/td><td>Kashyyyk      <\/td><td>Wookiee       <\/td><td>Revenge of the Sith<\/td><td><\/td><td><\/td><\/tr>\n",
       "\t<tr><td>Raymus Antilles      <\/td><td>188<\/td><td> 79.0<\/td><td>brown        <\/td><td>light              <\/td><td>brown        <\/td><td>   NA<\/td><td>male<\/td><td>masculine<\/td><td>Alderaan      <\/td><td>Human         <\/td><td>Revenge of the Sith, A New Hope         <\/td><td><\/td><td><\/td><\/tr>\n",
       "\t<tr><td>Tion Medon           <\/td><td>206<\/td><td> 80.0<\/td><td>none         <\/td><td>grey               <\/td><td>black        <\/td><td>   NA<\/td><td>male<\/td><td>masculine<\/td><td>Utapau        <\/td><td>Pau'an        <\/td><td>Revenge of the Sith<\/td><td><\/td><td><\/td><\/tr>\n",
       "\t<tr><td>Finn                 <\/td><td> NA<\/td><td>   NA<\/td><td>black        <\/td><td>dark               <\/td><td>dark         <\/td><td>   NA<\/td><td>male<\/td><td>masculine<\/td><td>NA            <\/td><td>Human         <\/td><td>The Force Awakens<\/td><td><\/td><td><\/td><\/tr>\n",
       "\t<tr><td>Poe Dameron          <\/td><td> NA<\/td><td>   NA<\/td><td>brown        <\/td><td>light              <\/td><td>brown        <\/td><td>   NA<\/td><td>male<\/td><td>masculine<\/td><td>NA            <\/td><td>Human         <\/td><td>The Force Awakens<\/td><td><\/td><td>T-70 X-wing fighter<\/td><\/tr>\n",
       "<\/tbody>\n",
       "<\/table>\n"
      ]
     },
     "metadata":{
      
     },
     "output_type":"display_data"
    }
   ],
   "metadata":{
    "datalore":{
     "node_id":"Pdmw26UUVLNH4c6FKnmXqg",
     "type":"CODE",
     "hide_input_from_viewers":true,
     "hide_output_from_viewers":true
    }
   }
  },
  {
   "cell_type":"code",
   "source":[
    "starwars %>% select(name, height, ends_with(\"color\"))"
   ],
   "execution_count":42,
   "outputs":[
    {
     "data":{
      "text\/html":[
       "<table class=\"dataframe\">\n",
       "<caption>A tibble: 87 × 5<\/caption>\n",
       "<thead>\n",
       "\t<tr><th scope=col>name<\/th><th scope=col>height<\/th><th scope=col>hair_color<\/th><th scope=col>skin_color<\/th><th scope=col>eye_color<\/th><\/tr>\n",
       "\t<tr><th scope=col>&lt;chr&gt;<\/th><th scope=col>&lt;int&gt;<\/th><th scope=col>&lt;chr&gt;<\/th><th scope=col>&lt;chr&gt;<\/th><th scope=col>&lt;chr&gt;<\/th><\/tr>\n",
       "<\/thead>\n",
       "<tbody>\n",
       "\t<tr><td>Luke Skywalker       <\/td><td>172<\/td><td>blond        <\/td><td>fair            <\/td><td>blue     <\/td><\/tr>\n",
       "\t<tr><td>C-3PO                <\/td><td>167<\/td><td>NA           <\/td><td>gold            <\/td><td>yellow   <\/td><\/tr>\n",
       "\t<tr><td>R2-D2                <\/td><td> 96<\/td><td>NA           <\/td><td>white, blue     <\/td><td>red      <\/td><\/tr>\n",
       "\t<tr><td>Darth Vader          <\/td><td>202<\/td><td>none         <\/td><td>white           <\/td><td>yellow   <\/td><\/tr>\n",
       "\t<tr><td>Leia Organa          <\/td><td>150<\/td><td>brown        <\/td><td>light           <\/td><td>brown    <\/td><\/tr>\n",
       "\t<tr><td>Owen Lars            <\/td><td>178<\/td><td>brown, grey  <\/td><td>light           <\/td><td>blue     <\/td><\/tr>\n",
       "\t<tr><td>Beru Whitesun lars   <\/td><td>165<\/td><td>brown        <\/td><td>light           <\/td><td>blue     <\/td><\/tr>\n",
       "\t<tr><td>R5-D4                <\/td><td> 97<\/td><td>NA           <\/td><td>white, red      <\/td><td>red      <\/td><\/tr>\n",
       "\t<tr><td>Biggs Darklighter    <\/td><td>183<\/td><td>black        <\/td><td>light           <\/td><td>brown    <\/td><\/tr>\n",
       "\t<tr><td>Obi-Wan Kenobi       <\/td><td>182<\/td><td>auburn, white<\/td><td>fair            <\/td><td>blue-gray<\/td><\/tr>\n",
       "\t<tr><td>Anakin Skywalker     <\/td><td>188<\/td><td>blond        <\/td><td>fair            <\/td><td>blue     <\/td><\/tr>\n",
       "\t<tr><td>Wilhuff Tarkin       <\/td><td>180<\/td><td>auburn, grey <\/td><td>fair            <\/td><td>blue     <\/td><\/tr>\n",
       "\t<tr><td>Chewbacca            <\/td><td>228<\/td><td>brown        <\/td><td>unknown         <\/td><td>blue     <\/td><\/tr>\n",
       "\t<tr><td>Han Solo             <\/td><td>180<\/td><td>brown        <\/td><td>fair            <\/td><td>brown    <\/td><\/tr>\n",
       "\t<tr><td>Greedo               <\/td><td>173<\/td><td>NA           <\/td><td>green           <\/td><td>black    <\/td><\/tr>\n",
       "\t<tr><td>Jabba Desilijic Tiure<\/td><td>175<\/td><td>NA           <\/td><td>green-tan, brown<\/td><td>orange   <\/td><\/tr>\n",
       "\t<tr><td>Wedge Antilles       <\/td><td>170<\/td><td>brown        <\/td><td>fair            <\/td><td>hazel    <\/td><\/tr>\n",
       "\t<tr><td>Jek Tono Porkins     <\/td><td>180<\/td><td>brown        <\/td><td>fair            <\/td><td>blue     <\/td><\/tr>\n",
       "\t<tr><td>Yoda                 <\/td><td> 66<\/td><td>white        <\/td><td>green           <\/td><td>brown    <\/td><\/tr>\n",
       "\t<tr><td>Palpatine            <\/td><td>170<\/td><td>grey         <\/td><td>pale            <\/td><td>yellow   <\/td><\/tr>\n",
       "\t<tr><td>Boba Fett            <\/td><td>183<\/td><td>black        <\/td><td>fair            <\/td><td>brown    <\/td><\/tr>\n",
       "\t<tr><td>IG-88                <\/td><td>200<\/td><td>none         <\/td><td>metal           <\/td><td>red      <\/td><\/tr>\n",
       "\t<tr><td>Bossk                <\/td><td>190<\/td><td>none         <\/td><td>green           <\/td><td>red      <\/td><\/tr>\n",
       "\t<tr><td>Lando Calrissian     <\/td><td>177<\/td><td>black        <\/td><td>dark            <\/td><td>brown    <\/td><\/tr>\n",
       "\t<tr><td>Lobot                <\/td><td>175<\/td><td>none         <\/td><td>light           <\/td><td>blue     <\/td><\/tr>\n",
       "\t<tr><td>Ackbar               <\/td><td>180<\/td><td>none         <\/td><td>brown mottle    <\/td><td>orange   <\/td><\/tr>\n",
       "\t<tr><td>Mon Mothma           <\/td><td>150<\/td><td>auburn       <\/td><td>fair            <\/td><td>blue     <\/td><\/tr>\n",
       "\t<tr><td>Arvel Crynyd         <\/td><td> NA<\/td><td>brown        <\/td><td>fair            <\/td><td>brown    <\/td><\/tr>\n",
       "\t<tr><td>Wicket Systri Warrick<\/td><td> 88<\/td><td>brown        <\/td><td>brown           <\/td><td>brown    <\/td><\/tr>\n",
       "\t<tr><td>Nien Nunb            <\/td><td>160<\/td><td>none         <\/td><td>grey            <\/td><td>black    <\/td><\/tr>\n",
       "\t<tr><td>⋮<\/td><td>⋮<\/td><td>⋮<\/td><td>⋮<\/td><td>⋮<\/td><\/tr>\n",
       "\t<tr><td>Cordé              <\/td><td>157<\/td><td>brown  <\/td><td>light              <\/td><td>brown        <\/td><\/tr>\n",
       "\t<tr><td>Cliegg Lars        <\/td><td>183<\/td><td>brown  <\/td><td>fair               <\/td><td>blue         <\/td><\/tr>\n",
       "\t<tr><td>Poggle the Lesser  <\/td><td>183<\/td><td>none   <\/td><td>green              <\/td><td>yellow       <\/td><\/tr>\n",
       "\t<tr><td>Luminara Unduli    <\/td><td>170<\/td><td>black  <\/td><td>yellow             <\/td><td>blue         <\/td><\/tr>\n",
       "\t<tr><td>Barriss Offee      <\/td><td>166<\/td><td>black  <\/td><td>yellow             <\/td><td>blue         <\/td><\/tr>\n",
       "\t<tr><td>Dormé              <\/td><td>165<\/td><td>brown  <\/td><td>light              <\/td><td>brown        <\/td><\/tr>\n",
       "\t<tr><td>Dooku              <\/td><td>193<\/td><td>white  <\/td><td>fair               <\/td><td>brown        <\/td><\/tr>\n",
       "\t<tr><td>Bail Prestor Organa<\/td><td>191<\/td><td>black  <\/td><td>tan                <\/td><td>brown        <\/td><\/tr>\n",
       "\t<tr><td>Jango Fett         <\/td><td>183<\/td><td>black  <\/td><td>tan                <\/td><td>brown        <\/td><\/tr>\n",
       "\t<tr><td>Zam Wesell         <\/td><td>168<\/td><td>blonde <\/td><td>fair, green, yellow<\/td><td>yellow       <\/td><\/tr>\n",
       "\t<tr><td>Dexter Jettster    <\/td><td>198<\/td><td>none   <\/td><td>brown              <\/td><td>yellow       <\/td><\/tr>\n",
       "\t<tr><td>Lama Su            <\/td><td>229<\/td><td>none   <\/td><td>grey               <\/td><td>black        <\/td><\/tr>\n",
       "\t<tr><td>Taun We            <\/td><td>213<\/td><td>none   <\/td><td>grey               <\/td><td>black        <\/td><\/tr>\n",
       "\t<tr><td>Jocasta Nu         <\/td><td>167<\/td><td>white  <\/td><td>fair               <\/td><td>blue         <\/td><\/tr>\n",
       "\t<tr><td>Ratts Tyerell      <\/td><td> 79<\/td><td>none   <\/td><td>grey, blue         <\/td><td>unknown      <\/td><\/tr>\n",
       "\t<tr><td>R4-P17             <\/td><td> 96<\/td><td>none   <\/td><td>silver, red        <\/td><td>red, blue    <\/td><\/tr>\n",
       "\t<tr><td>Wat Tambor         <\/td><td>193<\/td><td>none   <\/td><td>green, grey        <\/td><td>unknown      <\/td><\/tr>\n",
       "\t<tr><td>San Hill           <\/td><td>191<\/td><td>none   <\/td><td>grey               <\/td><td>gold         <\/td><\/tr>\n",
       "\t<tr><td>Shaak Ti           <\/td><td>178<\/td><td>none   <\/td><td>red, blue, white   <\/td><td>black        <\/td><\/tr>\n",
       "\t<tr><td>Grievous           <\/td><td>216<\/td><td>none   <\/td><td>brown, white       <\/td><td>green, yellow<\/td><\/tr>\n",
       "\t<tr><td>Tarfful            <\/td><td>234<\/td><td>brown  <\/td><td>brown              <\/td><td>blue         <\/td><\/tr>\n",
       "\t<tr><td>Raymus Antilles    <\/td><td>188<\/td><td>brown  <\/td><td>light              <\/td><td>brown        <\/td><\/tr>\n",
       "\t<tr><td>Sly Moore          <\/td><td>178<\/td><td>none   <\/td><td>pale               <\/td><td>white        <\/td><\/tr>\n",
       "\t<tr><td>Tion Medon         <\/td><td>206<\/td><td>none   <\/td><td>grey               <\/td><td>black        <\/td><\/tr>\n",
       "\t<tr><td>Finn               <\/td><td> NA<\/td><td>black  <\/td><td>dark               <\/td><td>dark         <\/td><\/tr>\n",
       "\t<tr><td>Rey                <\/td><td> NA<\/td><td>brown  <\/td><td>light              <\/td><td>hazel        <\/td><\/tr>\n",
       "\t<tr><td>Poe Dameron        <\/td><td> NA<\/td><td>brown  <\/td><td>light              <\/td><td>brown        <\/td><\/tr>\n",
       "\t<tr><td>BB8                <\/td><td> NA<\/td><td>none   <\/td><td>none               <\/td><td>black        <\/td><\/tr>\n",
       "\t<tr><td>Captain Phasma     <\/td><td> NA<\/td><td>unknown<\/td><td>unknown            <\/td><td>unknown      <\/td><\/tr>\n",
       "\t<tr><td>Padmé Amidala      <\/td><td>165<\/td><td>brown  <\/td><td>light              <\/td><td>brown        <\/td><\/tr>\n",
       "<\/tbody>\n",
       "<\/table>\n"
      ]
     },
     "metadata":{
      
     },
     "output_type":"display_data"
    }
   ],
   "metadata":{
    "datalore":{
     "node_id":"TPxNWBdVd2toB6KZ8H0i9i",
     "type":"CODE",
     "hide_input_from_viewers":true,
     "hide_output_from_viewers":true
    }
   }
  },
  {
   "cell_type":"code",
   "source":[
    "starwars %>% arrange(name)"
   ],
   "execution_count":44,
   "outputs":[
    {
     "data":{
      "text\/html":[
       "<table class=\"dataframe\">\n",
       "<caption>A tibble: 87 × 14<\/caption>\n",
       "<thead>\n",
       "\t<tr><th scope=col>name<\/th><th scope=col>height<\/th><th scope=col>mass<\/th><th scope=col>hair_color<\/th><th scope=col>skin_color<\/th><th scope=col>eye_color<\/th><th scope=col>birth_year<\/th><th scope=col>sex<\/th><th scope=col>gender<\/th><th scope=col>homeworld<\/th><th scope=col>species<\/th><th scope=col>films<\/th><th scope=col>vehicles<\/th><th scope=col>starships<\/th><\/tr>\n",
       "\t<tr><th scope=col>&lt;chr&gt;<\/th><th scope=col>&lt;int&gt;<\/th><th scope=col>&lt;dbl&gt;<\/th><th scope=col>&lt;chr&gt;<\/th><th scope=col>&lt;chr&gt;<\/th><th scope=col>&lt;chr&gt;<\/th><th scope=col>&lt;dbl&gt;<\/th><th scope=col>&lt;chr&gt;<\/th><th scope=col>&lt;chr&gt;<\/th><th scope=col>&lt;chr&gt;<\/th><th scope=col>&lt;chr&gt;<\/th><th scope=col>&lt;list&gt;<\/th><th scope=col>&lt;list&gt;<\/th><th scope=col>&lt;list&gt;<\/th><\/tr>\n",
       "<\/thead>\n",
       "<tbody>\n",
       "\t<tr><td>Ackbar             <\/td><td>180<\/td><td> 83.0<\/td><td>none   <\/td><td>brown mottle       <\/td><td>orange <\/td><td> 41.0<\/td><td>male  <\/td><td>masculine<\/td><td>Mon Cala <\/td><td>Mon Calamari<\/td><td>Return of the Jedi, The Force Awakens <\/td><td><\/td><td><\/td><\/tr>\n",
       "\t<tr><td>Adi Gallia         <\/td><td>184<\/td><td> 50.0<\/td><td>none   <\/td><td>dark               <\/td><td>blue   <\/td><td>   NA<\/td><td>female<\/td><td>feminine <\/td><td>Coruscant<\/td><td>Tholothian  <\/td><td>The Phantom Menace , Revenge of the Sith<\/td><td><\/td><td><\/td><\/tr>\n",
       "\t<tr><td>Anakin Skywalker   <\/td><td>188<\/td><td> 84.0<\/td><td>blond  <\/td><td>fair               <\/td><td>blue   <\/td><td> 41.9<\/td><td>male  <\/td><td>masculine<\/td><td>Tatooine <\/td><td>Human       <\/td><td>Attack of the Clones, The Phantom Menace  , Revenge of the Sith <\/td><td>Zephyr-G swoop bike, XJ-6 airspeeder    <\/td><td>Trade Federation cruiser, Jedi Interceptor        , Naboo fighter           <\/td><\/tr>\n",
       "\t<tr><td>Arvel Crynyd       <\/td><td> NA<\/td><td>   NA<\/td><td>brown  <\/td><td>fair               <\/td><td>brown  <\/td><td>   NA<\/td><td>male  <\/td><td>masculine<\/td><td>NA       <\/td><td>Human       <\/td><td>Return of the Jedi<\/td><td><\/td><td>A-wing<\/td><\/tr>\n",
       "\t<tr><td>Ayla Secura        <\/td><td>178<\/td><td> 55.0<\/td><td>none   <\/td><td>blue               <\/td><td>hazel  <\/td><td> 48.0<\/td><td>female<\/td><td>feminine <\/td><td>Ryloth   <\/td><td>Twi'lek     <\/td><td>Attack of the Clones, The Phantom Menace  , Revenge of the Sith <\/td><td><\/td><td><\/td><\/tr>\n",
       "\t<tr><td>BB8                <\/td><td> NA<\/td><td>   NA<\/td><td>none   <\/td><td>none               <\/td><td>black  <\/td><td>   NA<\/td><td>none  <\/td><td>masculine<\/td><td>NA       <\/td><td>Droid       <\/td><td>The Force Awakens<\/td><td><\/td><td><\/td><\/tr>\n",
       "\t<tr><td>Bail Prestor Organa<\/td><td>191<\/td><td>   NA<\/td><td>black  <\/td><td>tan                <\/td><td>brown  <\/td><td> 67.0<\/td><td>male  <\/td><td>masculine<\/td><td>Alderaan <\/td><td>Human       <\/td><td>Attack of the Clones, Revenge of the Sith <\/td><td><\/td><td><\/td><\/tr>\n",
       "\t<tr><td>Barriss Offee      <\/td><td>166<\/td><td> 50.0<\/td><td>black  <\/td><td>yellow             <\/td><td>blue   <\/td><td> 40.0<\/td><td>female<\/td><td>feminine <\/td><td>Mirial   <\/td><td>Mirialan    <\/td><td>Attack of the Clones<\/td><td><\/td><td><\/td><\/tr>\n",
       "\t<tr><td>Ben Quadinaros     <\/td><td>163<\/td><td> 65.0<\/td><td>none   <\/td><td>grey, green, yellow<\/td><td>orange <\/td><td>   NA<\/td><td>male  <\/td><td>masculine<\/td><td>Tund     <\/td><td>Toong       <\/td><td>The Phantom Menace<\/td><td><\/td><td><\/td><\/tr>\n",
       "\t<tr><td>Beru Whitesun lars <\/td><td>165<\/td><td> 75.0<\/td><td>brown  <\/td><td>light              <\/td><td>blue   <\/td><td> 47.0<\/td><td>female<\/td><td>feminine <\/td><td>Tatooine <\/td><td>Human       <\/td><td>Attack of the Clones, Revenge of the Sith , A New Hope          <\/td><td><\/td><td><\/td><\/tr>\n",
       "\t<tr><td>Bib Fortuna        <\/td><td>180<\/td><td>   NA<\/td><td>none   <\/td><td>pale               <\/td><td>pink   <\/td><td>   NA<\/td><td>male  <\/td><td>masculine<\/td><td>Ryloth   <\/td><td>Twi'lek     <\/td><td>Return of the Jedi<\/td><td><\/td><td><\/td><\/tr>\n",
       "\t<tr><td>Biggs Darklighter  <\/td><td>183<\/td><td> 84.0<\/td><td>black  <\/td><td>light              <\/td><td>brown  <\/td><td> 24.0<\/td><td>male  <\/td><td>masculine<\/td><td>Tatooine <\/td><td>Human       <\/td><td>A New Hope<\/td><td><\/td><td>X-wing<\/td><\/tr>\n",
       "\t<tr><td>Boba Fett          <\/td><td>183<\/td><td> 78.2<\/td><td>black  <\/td><td>fair               <\/td><td>brown  <\/td><td> 31.5<\/td><td>male  <\/td><td>masculine<\/td><td>Kamino   <\/td><td>Human       <\/td><td>The Empire Strikes Back, Attack of the Clones   , Return of the Jedi     <\/td><td><\/td><td>Slave 1<\/td><\/tr>\n",
       "\t<tr><td>Bossk              <\/td><td>190<\/td><td>113.0<\/td><td>none   <\/td><td>green              <\/td><td>red    <\/td><td> 53.0<\/td><td>male  <\/td><td>masculine<\/td><td>Trandosha<\/td><td>Trandoshan  <\/td><td>The Empire Strikes Back<\/td><td><\/td><td><\/td><\/tr>\n",
       "\t<tr><td>C-3PO              <\/td><td>167<\/td><td> 75.0<\/td><td>NA     <\/td><td>gold               <\/td><td>yellow <\/td><td>112.0<\/td><td>none  <\/td><td>masculine<\/td><td>Tatooine <\/td><td>Droid       <\/td><td>The Empire Strikes Back, Attack of the Clones   , The Phantom Menace     , Revenge of the Sith    , Return of the Jedi     , A New Hope             <\/td><td><\/td><td><\/td><\/tr>\n",
       "\t<tr><td>Captain Phasma     <\/td><td> NA<\/td><td>   NA<\/td><td>unknown<\/td><td>unknown            <\/td><td>unknown<\/td><td>   NA<\/td><td>NA    <\/td><td>NA       <\/td><td>NA       <\/td><td>NA          <\/td><td>The Force Awakens<\/td><td><\/td><td><\/td><\/tr>\n",
       "\t<tr><td>Chewbacca          <\/td><td>228<\/td><td>112.0<\/td><td>brown  <\/td><td>unknown            <\/td><td>blue   <\/td><td>200.0<\/td><td>male  <\/td><td>masculine<\/td><td>Kashyyyk <\/td><td>Wookiee     <\/td><td>The Empire Strikes Back, Revenge of the Sith    , Return of the Jedi     , A New Hope             , The Force Awakens      <\/td><td>AT-ST<\/td><td>Millennium Falcon, Imperial shuttle <\/td><\/tr>\n",
       "\t<tr><td>Cliegg Lars        <\/td><td>183<\/td><td>   NA<\/td><td>brown  <\/td><td>fair               <\/td><td>blue   <\/td><td> 82.0<\/td><td>male  <\/td><td>masculine<\/td><td>Tatooine <\/td><td>Human       <\/td><td>Attack of the Clones<\/td><td><\/td><td><\/td><\/tr>\n",
       "\t<tr><td>Cordé              <\/td><td>157<\/td><td>   NA<\/td><td>brown  <\/td><td>light              <\/td><td>brown  <\/td><td>   NA<\/td><td>female<\/td><td>feminine <\/td><td>Naboo    <\/td><td>Human       <\/td><td>Attack of the Clones<\/td><td><\/td><td><\/td><\/tr>\n",
       "\t<tr><td>Darth Maul         <\/td><td>175<\/td><td> 80.0<\/td><td>none   <\/td><td>red                <\/td><td>yellow <\/td><td> 54.0<\/td><td>male  <\/td><td>masculine<\/td><td>Dathomir <\/td><td>Zabrak      <\/td><td>The Phantom Menace<\/td><td>Sith speeder<\/td><td>Scimitar<\/td><\/tr>\n",
       "\t<tr><td>Darth Vader        <\/td><td>202<\/td><td>136.0<\/td><td>none   <\/td><td>white              <\/td><td>yellow <\/td><td> 41.9<\/td><td>male  <\/td><td>masculine<\/td><td>Tatooine <\/td><td>Human       <\/td><td>The Empire Strikes Back, Revenge of the Sith    , Return of the Jedi     , A New Hope             <\/td><td><\/td><td>TIE Advanced x1<\/td><\/tr>\n",
       "\t<tr><td>Dexter Jettster    <\/td><td>198<\/td><td>102.0<\/td><td>none   <\/td><td>brown              <\/td><td>yellow <\/td><td>   NA<\/td><td>male  <\/td><td>masculine<\/td><td>Ojom     <\/td><td>Besalisk    <\/td><td>Attack of the Clones<\/td><td><\/td><td><\/td><\/tr>\n",
       "\t<tr><td>Dooku              <\/td><td>193<\/td><td> 80.0<\/td><td>white  <\/td><td>fair               <\/td><td>brown  <\/td><td>102.0<\/td><td>male  <\/td><td>masculine<\/td><td>Serenno  <\/td><td>Human       <\/td><td>Attack of the Clones, Revenge of the Sith <\/td><td>Flitknot speeder<\/td><td><\/td><\/tr>\n",
       "\t<tr><td>Dormé              <\/td><td>165<\/td><td>   NA<\/td><td>brown  <\/td><td>light              <\/td><td>brown  <\/td><td>   NA<\/td><td>female<\/td><td>feminine <\/td><td>Naboo    <\/td><td>Human       <\/td><td>Attack of the Clones<\/td><td><\/td><td><\/td><\/tr>\n",
       "\t<tr><td>Dud Bolt           <\/td><td> 94<\/td><td> 45.0<\/td><td>none   <\/td><td>blue, grey         <\/td><td>yellow <\/td><td>   NA<\/td><td>male  <\/td><td>masculine<\/td><td>Vulpter  <\/td><td>Vulptereen  <\/td><td>The Phantom Menace<\/td><td><\/td><td><\/td><\/tr>\n",
       "\t<tr><td>Eeth Koth          <\/td><td>171<\/td><td>   NA<\/td><td>black  <\/td><td>brown              <\/td><td>brown  <\/td><td>   NA<\/td><td>male  <\/td><td>masculine<\/td><td>Iridonia <\/td><td>Zabrak      <\/td><td>The Phantom Menace , Revenge of the Sith<\/td><td><\/td><td><\/td><\/tr>\n",
       "\t<tr><td>Finis Valorum      <\/td><td>170<\/td><td>   NA<\/td><td>blond  <\/td><td>fair               <\/td><td>blue   <\/td><td> 91.0<\/td><td>male  <\/td><td>masculine<\/td><td>Coruscant<\/td><td>Human       <\/td><td>The Phantom Menace<\/td><td><\/td><td><\/td><\/tr>\n",
       "\t<tr><td>Finn               <\/td><td> NA<\/td><td>   NA<\/td><td>black  <\/td><td>dark               <\/td><td>dark   <\/td><td>   NA<\/td><td>male  <\/td><td>masculine<\/td><td>NA       <\/td><td>Human       <\/td><td>The Force Awakens<\/td><td><\/td><td><\/td><\/tr>\n",
       "\t<tr><td>Gasgano            <\/td><td>122<\/td><td>   NA<\/td><td>none   <\/td><td>white, blue        <\/td><td>black  <\/td><td>   NA<\/td><td>male  <\/td><td>masculine<\/td><td>Troiken  <\/td><td>Xexto       <\/td><td>The Phantom Menace<\/td><td><\/td><td><\/td><\/tr>\n",
       "\t<tr><td>Greedo             <\/td><td>173<\/td><td> 74.0<\/td><td>NA     <\/td><td>green              <\/td><td>black  <\/td><td> 44.0<\/td><td>male  <\/td><td>masculine<\/td><td>Rodia    <\/td><td>Rodian      <\/td><td>A New Hope<\/td><td><\/td><td><\/td><\/tr>\n",
       "\t<tr><td>⋮<\/td><td>⋮<\/td><td>⋮<\/td><td>⋮<\/td><td>⋮<\/td><td>⋮<\/td><td>⋮<\/td><td>⋮<\/td><td>⋮<\/td><td>⋮<\/td><td>⋮<\/td><td>⋮<\/td><td>⋮<\/td><td>⋮<\/td><\/tr>\n",
       "\t<tr><td>Poe Dameron          <\/td><td> NA<\/td><td> NA<\/td><td>brown       <\/td><td>light              <\/td><td>brown    <\/td><td> NA<\/td><td>male  <\/td><td>masculine<\/td><td>NA         <\/td><td>Human         <\/td><td>The Force Awakens<\/td><td><\/td><td>T-70 X-wing fighter<\/td><\/tr>\n",
       "\t<tr><td>Poggle the Lesser    <\/td><td>183<\/td><td> 80<\/td><td>none        <\/td><td>green              <\/td><td>yellow   <\/td><td> NA<\/td><td>male  <\/td><td>masculine<\/td><td>Geonosis   <\/td><td>Geonosian     <\/td><td>Attack of the Clones, Revenge of the Sith <\/td><td><\/td><td><\/td><\/tr>\n",
       "\t<tr><td>Quarsh Panaka        <\/td><td>183<\/td><td> NA<\/td><td>black       <\/td><td>dark               <\/td><td>brown    <\/td><td> 62<\/td><td>NA    <\/td><td>NA       <\/td><td>Naboo      <\/td><td>NA            <\/td><td>The Phantom Menace<\/td><td><\/td><td><\/td><\/tr>\n",
       "\t<tr><td>Qui-Gon Jinn         <\/td><td>193<\/td><td> 89<\/td><td>brown       <\/td><td>fair               <\/td><td>blue     <\/td><td> 92<\/td><td>male  <\/td><td>masculine<\/td><td>NA         <\/td><td>Human         <\/td><td>The Phantom Menace<\/td><td>Tribubble bongo<\/td><td><\/td><\/tr>\n",
       "\t<tr><td>R2-D2                <\/td><td> 96<\/td><td> 32<\/td><td>NA          <\/td><td>white, blue        <\/td><td>red      <\/td><td> 33<\/td><td>none  <\/td><td>masculine<\/td><td>Naboo      <\/td><td>Droid         <\/td><td>The Empire Strikes Back, Attack of the Clones   , The Phantom Menace     , Revenge of the Sith    , Return of the Jedi     , A New Hope             , The Force Awakens      <\/td><td><\/td><td><\/td><\/tr>\n",
       "\t<tr><td>R4-P17               <\/td><td> 96<\/td><td> NA<\/td><td>none        <\/td><td>silver, red        <\/td><td>red, blue<\/td><td> NA<\/td><td>none  <\/td><td>feminine <\/td><td>NA         <\/td><td>Droid         <\/td><td>Attack of the Clones, Revenge of the Sith <\/td><td><\/td><td><\/td><\/tr>\n",
       "\t<tr><td>R5-D4                <\/td><td> 97<\/td><td> 32<\/td><td>NA          <\/td><td>white, red         <\/td><td>red      <\/td><td> NA<\/td><td>none  <\/td><td>masculine<\/td><td>Tatooine   <\/td><td>Droid         <\/td><td>A New Hope<\/td><td><\/td><td><\/td><\/tr>\n",
       "\t<tr><td>Ratts Tyerell        <\/td><td> 79<\/td><td> 15<\/td><td>none        <\/td><td>grey, blue         <\/td><td>unknown  <\/td><td> NA<\/td><td>male  <\/td><td>masculine<\/td><td>Aleen Minor<\/td><td>Aleena        <\/td><td>The Phantom Menace<\/td><td><\/td><td><\/td><\/tr>\n",
       "\t<tr><td>Raymus Antilles      <\/td><td>188<\/td><td> 79<\/td><td>brown       <\/td><td>light              <\/td><td>brown    <\/td><td> NA<\/td><td>male  <\/td><td>masculine<\/td><td>Alderaan   <\/td><td>Human         <\/td><td>Revenge of the Sith, A New Hope         <\/td><td><\/td><td><\/td><\/tr>\n",
       "\t<tr><td>Rey                  <\/td><td> NA<\/td><td> NA<\/td><td>brown       <\/td><td>light              <\/td><td>hazel    <\/td><td> NA<\/td><td>female<\/td><td>feminine <\/td><td>NA         <\/td><td>Human         <\/td><td>The Force Awakens<\/td><td><\/td><td><\/td><\/tr>\n",
       "\t<tr><td>Ric Olié             <\/td><td>183<\/td><td> NA<\/td><td>brown       <\/td><td>fair               <\/td><td>blue     <\/td><td> NA<\/td><td>NA    <\/td><td>NA       <\/td><td>Naboo      <\/td><td>NA            <\/td><td>The Phantom Menace<\/td><td><\/td><td>Naboo Royal Starship<\/td><\/tr>\n",
       "\t<tr><td>Roos Tarpals         <\/td><td>224<\/td><td> 82<\/td><td>none        <\/td><td>grey               <\/td><td>orange   <\/td><td> NA<\/td><td>male  <\/td><td>masculine<\/td><td>Naboo      <\/td><td>Gungan        <\/td><td>The Phantom Menace<\/td><td><\/td><td><\/td><\/tr>\n",
       "\t<tr><td>Rugor Nass           <\/td><td>206<\/td><td> NA<\/td><td>none        <\/td><td>green              <\/td><td>orange   <\/td><td> NA<\/td><td>male  <\/td><td>masculine<\/td><td>Naboo      <\/td><td>Gungan        <\/td><td>The Phantom Menace<\/td><td><\/td><td><\/td><\/tr>\n",
       "\t<tr><td>Saesee Tiin          <\/td><td>188<\/td><td> NA<\/td><td>none        <\/td><td>pale               <\/td><td>orange   <\/td><td> NA<\/td><td>male  <\/td><td>masculine<\/td><td>Iktotch    <\/td><td>Iktotchi      <\/td><td>The Phantom Menace , Revenge of the Sith<\/td><td><\/td><td><\/td><\/tr>\n",
       "\t<tr><td>San Hill             <\/td><td>191<\/td><td> NA<\/td><td>none        <\/td><td>grey               <\/td><td>gold     <\/td><td> NA<\/td><td>male  <\/td><td>masculine<\/td><td>Muunilinst <\/td><td>Muun          <\/td><td>Attack of the Clones<\/td><td><\/td><td><\/td><\/tr>\n",
       "\t<tr><td>Sebulba              <\/td><td>112<\/td><td> 40<\/td><td>none        <\/td><td>grey, red          <\/td><td>orange   <\/td><td> NA<\/td><td>male  <\/td><td>masculine<\/td><td>Malastare  <\/td><td>Dug           <\/td><td>The Phantom Menace<\/td><td><\/td><td><\/td><\/tr>\n",
       "\t<tr><td>Shaak Ti             <\/td><td>178<\/td><td> 57<\/td><td>none        <\/td><td>red, blue, white   <\/td><td>black    <\/td><td> NA<\/td><td>female<\/td><td>feminine <\/td><td>Shili      <\/td><td>Togruta       <\/td><td>Attack of the Clones, Revenge of the Sith <\/td><td><\/td><td><\/td><\/tr>\n",
       "\t<tr><td>Shmi Skywalker       <\/td><td>163<\/td><td> NA<\/td><td>black       <\/td><td>fair               <\/td><td>brown    <\/td><td> 72<\/td><td>female<\/td><td>feminine <\/td><td>Tatooine   <\/td><td>Human         <\/td><td>Attack of the Clones, The Phantom Menace  <\/td><td><\/td><td><\/td><\/tr>\n",
       "\t<tr><td>Sly Moore            <\/td><td>178<\/td><td> 48<\/td><td>none        <\/td><td>pale               <\/td><td>white    <\/td><td> NA<\/td><td>NA    <\/td><td>NA       <\/td><td>Umbara     <\/td><td>NA            <\/td><td>Attack of the Clones, Revenge of the Sith <\/td><td><\/td><td><\/td><\/tr>\n",
       "\t<tr><td>Tarfful              <\/td><td>234<\/td><td>136<\/td><td>brown       <\/td><td>brown              <\/td><td>blue     <\/td><td> NA<\/td><td>male  <\/td><td>masculine<\/td><td>Kashyyyk   <\/td><td>Wookiee       <\/td><td>Revenge of the Sith<\/td><td><\/td><td><\/td><\/tr>\n",
       "\t<tr><td>Taun We              <\/td><td>213<\/td><td> NA<\/td><td>none        <\/td><td>grey               <\/td><td>black    <\/td><td> NA<\/td><td>female<\/td><td>feminine <\/td><td>Kamino     <\/td><td>Kaminoan      <\/td><td>Attack of the Clones<\/td><td><\/td><td><\/td><\/tr>\n",
       "\t<tr><td>Tion Medon           <\/td><td>206<\/td><td> 80<\/td><td>none        <\/td><td>grey               <\/td><td>black    <\/td><td> NA<\/td><td>male  <\/td><td>masculine<\/td><td>Utapau     <\/td><td>Pau'an        <\/td><td>Revenge of the Sith<\/td><td><\/td><td><\/td><\/tr>\n",
       "\t<tr><td>Wat Tambor           <\/td><td>193<\/td><td> 48<\/td><td>none        <\/td><td>green, grey        <\/td><td>unknown  <\/td><td> NA<\/td><td>male  <\/td><td>masculine<\/td><td>Skako      <\/td><td>Skakoan       <\/td><td>Attack of the Clones<\/td><td><\/td><td><\/td><\/tr>\n",
       "\t<tr><td>Watto                <\/td><td>137<\/td><td> NA<\/td><td>black       <\/td><td>blue, grey         <\/td><td>yellow   <\/td><td> NA<\/td><td>male  <\/td><td>masculine<\/td><td>Toydaria   <\/td><td>Toydarian     <\/td><td>Attack of the Clones, The Phantom Menace  <\/td><td><\/td><td><\/td><\/tr>\n",
       "\t<tr><td>Wedge Antilles       <\/td><td>170<\/td><td> 77<\/td><td>brown       <\/td><td>fair               <\/td><td>hazel    <\/td><td> 21<\/td><td>male  <\/td><td>masculine<\/td><td>Corellia   <\/td><td>Human         <\/td><td>The Empire Strikes Back, Return of the Jedi     , A New Hope             <\/td><td>Snowspeeder<\/td><td>X-wing<\/td><\/tr>\n",
       "\t<tr><td>Wicket Systri Warrick<\/td><td> 88<\/td><td> 20<\/td><td>brown       <\/td><td>brown              <\/td><td>brown    <\/td><td>  8<\/td><td>male  <\/td><td>masculine<\/td><td>Endor      <\/td><td>Ewok          <\/td><td>Return of the Jedi<\/td><td><\/td><td><\/td><\/tr>\n",
       "\t<tr><td>Wilhuff Tarkin       <\/td><td>180<\/td><td> NA<\/td><td>auburn, grey<\/td><td>fair               <\/td><td>blue     <\/td><td> 64<\/td><td>male  <\/td><td>masculine<\/td><td>Eriadu     <\/td><td>Human         <\/td><td>Revenge of the Sith, A New Hope         <\/td><td><\/td><td><\/td><\/tr>\n",
       "\t<tr><td>Yarael Poof          <\/td><td>264<\/td><td> NA<\/td><td>none        <\/td><td>white              <\/td><td>yellow   <\/td><td> NA<\/td><td>male  <\/td><td>masculine<\/td><td>Quermia    <\/td><td>Quermian      <\/td><td>The Phantom Menace<\/td><td><\/td><td><\/td><\/tr>\n",
       "\t<tr><td>Yoda                 <\/td><td> 66<\/td><td> 17<\/td><td>white       <\/td><td>green              <\/td><td>brown    <\/td><td>896<\/td><td>male  <\/td><td>masculine<\/td><td>NA         <\/td><td>Yoda's species<\/td><td>The Empire Strikes Back, Attack of the Clones   , The Phantom Menace     , Revenge of the Sith    , Return of the Jedi     <\/td><td><\/td><td><\/td><\/tr>\n",
       "\t<tr><td>Zam Wesell           <\/td><td>168<\/td><td> 55<\/td><td>blonde      <\/td><td>fair, green, yellow<\/td><td>yellow   <\/td><td> NA<\/td><td>female<\/td><td>feminine <\/td><td>Zolan      <\/td><td>Clawdite      <\/td><td>Attack of the Clones<\/td><td>Koro-2 Exodrive airspeeder<\/td><td><\/td><\/tr>\n",
       "<\/tbody>\n",
       "<\/table>\n"
      ]
     },
     "metadata":{
      
     },
     "output_type":"display_data"
    }
   ],
   "metadata":{
    "datalore":{
     "node_id":"grbZ8a7xRZJ8K3FNi1aIKq",
     "type":"CODE",
     "hide_input_from_viewers":true,
     "hide_output_from_viewers":true
    }
   }
  },
  {
   "cell_type":"code",
   "source":[
    "starwars %>% mutate(bmi = mass \/ ((height \/ 100))^2) %>% select (name:mass, bmi)"
   ],
   "execution_count":45,
   "outputs":[
    {
     "data":{
      "text\/html":[
       "<table class=\"dataframe\">\n",
       "<caption>A tibble: 87 × 4<\/caption>\n",
       "<thead>\n",
       "\t<tr><th scope=col>name<\/th><th scope=col>height<\/th><th scope=col>mass<\/th><th scope=col>bmi<\/th><\/tr>\n",
       "\t<tr><th scope=col>&lt;chr&gt;<\/th><th scope=col>&lt;int&gt;<\/th><th scope=col>&lt;dbl&gt;<\/th><th scope=col>&lt;dbl&gt;<\/th><\/tr>\n",
       "<\/thead>\n",
       "<tbody>\n",
       "\t<tr><td>Luke Skywalker       <\/td><td>172<\/td><td>  77.0<\/td><td> 26.02758<\/td><\/tr>\n",
       "\t<tr><td>C-3PO                <\/td><td>167<\/td><td>  75.0<\/td><td> 26.89232<\/td><\/tr>\n",
       "\t<tr><td>R2-D2                <\/td><td> 96<\/td><td>  32.0<\/td><td> 34.72222<\/td><\/tr>\n",
       "\t<tr><td>Darth Vader          <\/td><td>202<\/td><td> 136.0<\/td><td> 33.33007<\/td><\/tr>\n",
       "\t<tr><td>Leia Organa          <\/td><td>150<\/td><td>  49.0<\/td><td> 21.77778<\/td><\/tr>\n",
       "\t<tr><td>Owen Lars            <\/td><td>178<\/td><td> 120.0<\/td><td> 37.87401<\/td><\/tr>\n",
       "\t<tr><td>Beru Whitesun lars   <\/td><td>165<\/td><td>  75.0<\/td><td> 27.54821<\/td><\/tr>\n",
       "\t<tr><td>R5-D4                <\/td><td> 97<\/td><td>  32.0<\/td><td> 34.00999<\/td><\/tr>\n",
       "\t<tr><td>Biggs Darklighter    <\/td><td>183<\/td><td>  84.0<\/td><td> 25.08286<\/td><\/tr>\n",
       "\t<tr><td>Obi-Wan Kenobi       <\/td><td>182<\/td><td>  77.0<\/td><td> 23.24598<\/td><\/tr>\n",
       "\t<tr><td>Anakin Skywalker     <\/td><td>188<\/td><td>  84.0<\/td><td> 23.76641<\/td><\/tr>\n",
       "\t<tr><td>Wilhuff Tarkin       <\/td><td>180<\/td><td>    NA<\/td><td>       NA<\/td><\/tr>\n",
       "\t<tr><td>Chewbacca            <\/td><td>228<\/td><td> 112.0<\/td><td> 21.54509<\/td><\/tr>\n",
       "\t<tr><td>Han Solo             <\/td><td>180<\/td><td>  80.0<\/td><td> 24.69136<\/td><\/tr>\n",
       "\t<tr><td>Greedo               <\/td><td>173<\/td><td>  74.0<\/td><td> 24.72518<\/td><\/tr>\n",
       "\t<tr><td>Jabba Desilijic Tiure<\/td><td>175<\/td><td>1358.0<\/td><td>443.42857<\/td><\/tr>\n",
       "\t<tr><td>Wedge Antilles       <\/td><td>170<\/td><td>  77.0<\/td><td> 26.64360<\/td><\/tr>\n",
       "\t<tr><td>Jek Tono Porkins     <\/td><td>180<\/td><td> 110.0<\/td><td> 33.95062<\/td><\/tr>\n",
       "\t<tr><td>Yoda                 <\/td><td> 66<\/td><td>  17.0<\/td><td> 39.02663<\/td><\/tr>\n",
       "\t<tr><td>Palpatine            <\/td><td>170<\/td><td>  75.0<\/td><td> 25.95156<\/td><\/tr>\n",
       "\t<tr><td>Boba Fett            <\/td><td>183<\/td><td>  78.2<\/td><td> 23.35095<\/td><\/tr>\n",
       "\t<tr><td>IG-88                <\/td><td>200<\/td><td> 140.0<\/td><td> 35.00000<\/td><\/tr>\n",
       "\t<tr><td>Bossk                <\/td><td>190<\/td><td> 113.0<\/td><td> 31.30194<\/td><\/tr>\n",
       "\t<tr><td>Lando Calrissian     <\/td><td>177<\/td><td>  79.0<\/td><td> 25.21625<\/td><\/tr>\n",
       "\t<tr><td>Lobot                <\/td><td>175<\/td><td>  79.0<\/td><td> 25.79592<\/td><\/tr>\n",
       "\t<tr><td>Ackbar               <\/td><td>180<\/td><td>  83.0<\/td><td> 25.61728<\/td><\/tr>\n",
       "\t<tr><td>Mon Mothma           <\/td><td>150<\/td><td>    NA<\/td><td>       NA<\/td><\/tr>\n",
       "\t<tr><td>Arvel Crynyd         <\/td><td> NA<\/td><td>    NA<\/td><td>       NA<\/td><\/tr>\n",
       "\t<tr><td>Wicket Systri Warrick<\/td><td> 88<\/td><td>  20.0<\/td><td> 25.82645<\/td><\/tr>\n",
       "\t<tr><td>Nien Nunb            <\/td><td>160<\/td><td>  68.0<\/td><td> 26.56250<\/td><\/tr>\n",
       "\t<tr><td>⋮<\/td><td>⋮<\/td><td>⋮<\/td><td>⋮<\/td><\/tr>\n",
       "\t<tr><td>Cordé              <\/td><td>157<\/td><td>   NA<\/td><td>      NA<\/td><\/tr>\n",
       "\t<tr><td>Cliegg Lars        <\/td><td>183<\/td><td>   NA<\/td><td>      NA<\/td><\/tr>\n",
       "\t<tr><td>Poggle the Lesser  <\/td><td>183<\/td><td> 80.0<\/td><td>23.88844<\/td><\/tr>\n",
       "\t<tr><td>Luminara Unduli    <\/td><td>170<\/td><td> 56.2<\/td><td>19.44637<\/td><\/tr>\n",
       "\t<tr><td>Barriss Offee      <\/td><td>166<\/td><td> 50.0<\/td><td>18.14487<\/td><\/tr>\n",
       "\t<tr><td>Dormé              <\/td><td>165<\/td><td>   NA<\/td><td>      NA<\/td><\/tr>\n",
       "\t<tr><td>Dooku              <\/td><td>193<\/td><td> 80.0<\/td><td>21.47709<\/td><\/tr>\n",
       "\t<tr><td>Bail Prestor Organa<\/td><td>191<\/td><td>   NA<\/td><td>      NA<\/td><\/tr>\n",
       "\t<tr><td>Jango Fett         <\/td><td>183<\/td><td> 79.0<\/td><td>23.58984<\/td><\/tr>\n",
       "\t<tr><td>Zam Wesell         <\/td><td>168<\/td><td> 55.0<\/td><td>19.48696<\/td><\/tr>\n",
       "\t<tr><td>Dexter Jettster    <\/td><td>198<\/td><td>102.0<\/td><td>26.01775<\/td><\/tr>\n",
       "\t<tr><td>Lama Su            <\/td><td>229<\/td><td> 88.0<\/td><td>16.78076<\/td><\/tr>\n",
       "\t<tr><td>Taun We            <\/td><td>213<\/td><td>   NA<\/td><td>      NA<\/td><\/tr>\n",
       "\t<tr><td>Jocasta Nu         <\/td><td>167<\/td><td>   NA<\/td><td>      NA<\/td><\/tr>\n",
       "\t<tr><td>Ratts Tyerell      <\/td><td> 79<\/td><td> 15.0<\/td><td>24.03461<\/td><\/tr>\n",
       "\t<tr><td>R4-P17             <\/td><td> 96<\/td><td>   NA<\/td><td>      NA<\/td><\/tr>\n",
       "\t<tr><td>Wat Tambor         <\/td><td>193<\/td><td> 48.0<\/td><td>12.88625<\/td><\/tr>\n",
       "\t<tr><td>San Hill           <\/td><td>191<\/td><td>   NA<\/td><td>      NA<\/td><\/tr>\n",
       "\t<tr><td>Shaak Ti           <\/td><td>178<\/td><td> 57.0<\/td><td>17.99015<\/td><\/tr>\n",
       "\t<tr><td>Grievous           <\/td><td>216<\/td><td>159.0<\/td><td>34.07922<\/td><\/tr>\n",
       "\t<tr><td>Tarfful            <\/td><td>234<\/td><td>136.0<\/td><td>24.83746<\/td><\/tr>\n",
       "\t<tr><td>Raymus Antilles    <\/td><td>188<\/td><td> 79.0<\/td><td>22.35174<\/td><\/tr>\n",
       "\t<tr><td>Sly Moore          <\/td><td>178<\/td><td> 48.0<\/td><td>15.14960<\/td><\/tr>\n",
       "\t<tr><td>Tion Medon         <\/td><td>206<\/td><td> 80.0<\/td><td>18.85192<\/td><\/tr>\n",
       "\t<tr><td>Finn               <\/td><td> NA<\/td><td>   NA<\/td><td>      NA<\/td><\/tr>\n",
       "\t<tr><td>Rey                <\/td><td> NA<\/td><td>   NA<\/td><td>      NA<\/td><\/tr>\n",
       "\t<tr><td>Poe Dameron        <\/td><td> NA<\/td><td>   NA<\/td><td>      NA<\/td><\/tr>\n",
       "\t<tr><td>BB8                <\/td><td> NA<\/td><td>   NA<\/td><td>      NA<\/td><\/tr>\n",
       "\t<tr><td>Captain Phasma     <\/td><td> NA<\/td><td>   NA<\/td><td>      NA<\/td><\/tr>\n",
       "\t<tr><td>Padmé Amidala      <\/td><td>165<\/td><td> 45.0<\/td><td>16.52893<\/td><\/tr>\n",
       "<\/tbody>\n",
       "<\/table>\n"
      ]
     },
     "metadata":{
      
     },
     "output_type":"display_data"
    }
   ],
   "metadata":{
    "datalore":{
     "node_id":"MQAk8DEIW4hSAt4akh44rW",
     "type":"CODE",
     "hide_input_from_viewers":true,
     "hide_output_from_viewers":true
    }
   }
  },
  {
   "cell_type":"code",
   "source":[
    "data()"
   ],
   "execution_count":46,
   "outputs":[
    {
     "data":{
      "text\/html":[
       "<h3>Data sets<\/h3>\n",
       "<table class=\"dataframe\">\n",
       "<caption>A data.frame: 109 × 3<\/caption>\n",
       "<thead>\n",
       "\t<tr><th scope=col>Package<\/th><th scope=col>Item<\/th><th scope=col>Title<\/th><\/tr>\n",
       "\t<tr><th scope=col>&lt;chr&gt;<\/th><th scope=col>&lt;chr&gt;<\/th><th scope=col>&lt;chr&gt;<\/th><\/tr>\n",
       "<\/thead>\n",
       "<tbody>\n",
       "\t<tr><td>dplyr   <\/td><td>band_instruments      <\/td><td>Band membership                                                <\/td><\/tr>\n",
       "\t<tr><td>dplyr   <\/td><td>band_instruments2     <\/td><td>Band membership                                                <\/td><\/tr>\n",
       "\t<tr><td>dplyr   <\/td><td>band_members          <\/td><td>Band membership                                                <\/td><\/tr>\n",
       "\t<tr><td>dplyr   <\/td><td>starwars              <\/td><td>Starwars characters                                            <\/td><\/tr>\n",
       "\t<tr><td>dplyr   <\/td><td>storms                <\/td><td>Storm tracks data                                              <\/td><\/tr>\n",
       "\t<tr><td>datasets<\/td><td>AirPassengers         <\/td><td>Monthly Airline Passenger Numbers 1949-1960                    <\/td><\/tr>\n",
       "\t<tr><td>datasets<\/td><td>BJsales               <\/td><td>Sales Data with Leading Indicator                              <\/td><\/tr>\n",
       "\t<tr><td>datasets<\/td><td>BJsales.lead (BJsales)<\/td><td>Sales Data with Leading Indicator                              <\/td><\/tr>\n",
       "\t<tr><td>datasets<\/td><td>BOD                   <\/td><td>Biochemical Oxygen Demand                                      <\/td><\/tr>\n",
       "\t<tr><td>datasets<\/td><td>CO2                   <\/td><td>Carbon Dioxide Uptake in Grass Plants                          <\/td><\/tr>\n",
       "\t<tr><td>datasets<\/td><td>ChickWeight           <\/td><td>Weight versus age of chicks on different diets                 <\/td><\/tr>\n",
       "\t<tr><td>datasets<\/td><td>DNase                 <\/td><td>Elisa assay of DNase                                           <\/td><\/tr>\n",
       "\t<tr><td>datasets<\/td><td>EuStockMarkets        <\/td><td>Daily Closing Prices of Major European Stock Indices, 1991-1998<\/td><\/tr>\n",
       "\t<tr><td>datasets<\/td><td>Formaldehyde          <\/td><td>Determination of Formaldehyde                                  <\/td><\/tr>\n",
       "\t<tr><td>datasets<\/td><td>HairEyeColor          <\/td><td>Hair and Eye Color of Statistics Students                      <\/td><\/tr>\n",
       "\t<tr><td>datasets<\/td><td>Harman23.cor          <\/td><td>Harman Example 2.3                                             <\/td><\/tr>\n",
       "\t<tr><td>datasets<\/td><td>Harman74.cor          <\/td><td>Harman Example 7.4                                             <\/td><\/tr>\n",
       "\t<tr><td>datasets<\/td><td>Indometh              <\/td><td>Pharmacokinetics of Indomethacin                               <\/td><\/tr>\n",
       "\t<tr><td>datasets<\/td><td>InsectSprays          <\/td><td>Effectiveness of Insect Sprays                                 <\/td><\/tr>\n",
       "\t<tr><td>datasets<\/td><td><span style=white-space:pre-wrap>JohnsonJohnson        <\/span><\/td><td><span style=white-space:pre-wrap>Quarterly Earnings per Johnson &amp; Johnson Share                 <\/span><\/td><\/tr>\n",
       "\t<tr><td>datasets<\/td><td>LakeHuron             <\/td><td>Level of Lake Huron 1875-1972                                  <\/td><\/tr>\n",
       "\t<tr><td>datasets<\/td><td>LifeCycleSavings      <\/td><td>Intercountry Life-Cycle Savings Data                           <\/td><\/tr>\n",
       "\t<tr><td>datasets<\/td><td>Loblolly              <\/td><td>Growth of Loblolly pine trees                                  <\/td><\/tr>\n",
       "\t<tr><td>datasets<\/td><td>Nile                  <\/td><td>Flow of the River Nile                                         <\/td><\/tr>\n",
       "\t<tr><td>datasets<\/td><td>Orange                <\/td><td>Growth of Orange Trees                                         <\/td><\/tr>\n",
       "\t<tr><td>datasets<\/td><td>OrchardSprays         <\/td><td>Potency of Orchard Sprays                                      <\/td><\/tr>\n",
       "\t<tr><td>datasets<\/td><td>PlantGrowth           <\/td><td>Results from an Experiment on Plant Growth                     <\/td><\/tr>\n",
       "\t<tr><td>datasets<\/td><td>Puromycin             <\/td><td>Reaction Velocity of an Enzymatic Reaction                     <\/td><\/tr>\n",
       "\t<tr><td>datasets<\/td><td>Seatbelts             <\/td><td>Road Casualties in Great Britain 1969-84                       <\/td><\/tr>\n",
       "\t<tr><td>datasets<\/td><td>Theoph                <\/td><td>Pharmacokinetics of Theophylline                               <\/td><\/tr>\n",
       "\t<tr><td>datasets<\/td><td>Titanic               <\/td><td>Survival of passengers on the Titanic                          <\/td><\/tr>\n",
       "\t<tr><td>datasets<\/td><td>ToothGrowth           <\/td><td>The Effect of Vitamin C on Tooth Growth in Guinea Pigs         <\/td><\/tr>\n",
       "\t<tr><td>datasets<\/td><td>UCBAdmissions         <\/td><td>Student Admissions at UC Berkeley                              <\/td><\/tr>\n",
       "\t<tr><td>datasets<\/td><td>UKDriverDeaths        <\/td><td>Road Casualties in Great Britain 1969-84                       <\/td><\/tr>\n",
       "\t<tr><td>datasets<\/td><td>UKgas                 <\/td><td>UK Quarterly Gas Consumption                                   <\/td><\/tr>\n",
       "\t<tr><td>datasets<\/td><td>USAccDeaths           <\/td><td>Accidental Deaths in the US 1973-1978                          <\/td><\/tr>\n",
       "\t<tr><td>datasets<\/td><td>USArrests             <\/td><td>Violent Crime Rates by US State                                <\/td><\/tr>\n",
       "\t<tr><td>datasets<\/td><td>USJudgeRatings        <\/td><td>Lawyers' Ratings of State Judges in the US Superior Court      <\/td><\/tr>\n",
       "\t<tr><td>datasets<\/td><td>USPersonalExpenditure <\/td><td>Personal Expenditure Data                                      <\/td><\/tr>\n",
       "\t<tr><td>datasets<\/td><td>UScitiesD             <\/td><td>Distances Between European Cities and Between US Cities        <\/td><\/tr>\n",
       "\t<tr><td>datasets<\/td><td>VADeaths              <\/td><td>Death Rates in Virginia (1940)                                 <\/td><\/tr>\n",
       "\t<tr><td>datasets<\/td><td>WWWusage              <\/td><td>Internet Usage per Minute                                      <\/td><\/tr>\n",
       "\t<tr><td>datasets<\/td><td>WorldPhones           <\/td><td>The World's Telephones                                         <\/td><\/tr>\n",
       "\t<tr><td>datasets<\/td><td>ability.cov           <\/td><td>Ability and Intelligence Tests                                 <\/td><\/tr>\n",
       "\t<tr><td>datasets<\/td><td>airmiles              <\/td><td>Passenger Miles on Commercial US Airlines, 1937-1960           <\/td><\/tr>\n",
       "\t<tr><td>datasets<\/td><td>airquality            <\/td><td>New York Air Quality Measurements                              <\/td><\/tr>\n",
       "\t<tr><td>datasets<\/td><td>anscombe              <\/td><td>Anscombe's Quartet of 'Identical' Simple Linear Regressions    <\/td><\/tr>\n",
       "\t<tr><td>datasets<\/td><td>attenu                <\/td><td>The Joyner-Boore Attenuation Data                              <\/td><\/tr>\n",
       "\t<tr><td>datasets<\/td><td>attitude              <\/td><td>The Chatterjee-Price Attitude Data                             <\/td><\/tr>\n",
       "\t<tr><td>datasets<\/td><td>austres               <\/td><td>Quarterly Time Series of the Number of Australian Residents    <\/td><\/tr>\n",
       "\t<tr><td>datasets<\/td><td>beaver1 (beavers)     <\/td><td>Body Temperature Series of Two Beavers                         <\/td><\/tr>\n",
       "\t<tr><td>datasets<\/td><td>beaver2 (beavers)     <\/td><td>Body Temperature Series of Two Beavers                         <\/td><\/tr>\n",
       "\t<tr><td>datasets<\/td><td>cars                  <\/td><td>Speed and Stopping Distances of Cars                           <\/td><\/tr>\n",
       "\t<tr><td>datasets<\/td><td>chickwts              <\/td><td>Chicken Weights by Feed Type                                   <\/td><\/tr>\n",
       "\t<tr><td>datasets<\/td><td>co2                   <\/td><td>Mauna Loa Atmospheric CO2 Concentration                        <\/td><\/tr>\n",
       "\t<tr><td>datasets<\/td><td>crimtab               <\/td><td>Student's 3000 Criminals Data                                  <\/td><\/tr>\n",
       "\t<tr><td>datasets<\/td><td>discoveries           <\/td><td>Yearly Numbers of Important Discoveries                        <\/td><\/tr>\n",
       "\t<tr><td>datasets<\/td><td>esoph                 <\/td><td>Smoking, Alcohol and (O)esophageal Cancer                      <\/td><\/tr>\n",
       "\t<tr><td>datasets<\/td><td>euro                  <\/td><td>Conversion Rates of Euro Currencies                            <\/td><\/tr>\n",
       "\t<tr><td>datasets<\/td><td>euro.cross (euro)     <\/td><td>Conversion Rates of Euro Currencies                            <\/td><\/tr>\n",
       "\t<tr><td>datasets<\/td><td>eurodist              <\/td><td>Distances Between European Cities and Between US Cities        <\/td><\/tr>\n",
       "\t<tr><td>datasets<\/td><td>faithful              <\/td><td>Old Faithful Geyser Data                                       <\/td><\/tr>\n",
       "\t<tr><td>datasets<\/td><td>fdeaths (UKLungDeaths)<\/td><td>Monthly Deaths from Lung Diseases in the UK                    <\/td><\/tr>\n",
       "\t<tr><td>datasets<\/td><td>freeny                <\/td><td>Freeny's Revenue Data                                          <\/td><\/tr>\n",
       "\t<tr><td>datasets<\/td><td>freeny.x (freeny)     <\/td><td>Freeny's Revenue Data                                          <\/td><\/tr>\n",
       "\t<tr><td>datasets<\/td><td>freeny.y (freeny)     <\/td><td>Freeny's Revenue Data                                          <\/td><\/tr>\n",
       "\t<tr><td>datasets<\/td><td>infert                <\/td><td>Infertility after Spontaneous and Induced Abortion             <\/td><\/tr>\n",
       "\t<tr><td>datasets<\/td><td>iris                  <\/td><td>Edgar Anderson's Iris Data                                     <\/td><\/tr>\n",
       "\t<tr><td>datasets<\/td><td>iris3                 <\/td><td>Edgar Anderson's Iris Data                                     <\/td><\/tr>\n",
       "\t<tr><td>datasets<\/td><td>islands               <\/td><td>Areas of the World's Major Landmasses                          <\/td><\/tr>\n",
       "\t<tr><td>datasets<\/td><td>ldeaths (UKLungDeaths)<\/td><td>Monthly Deaths from Lung Diseases in the UK                    <\/td><\/tr>\n",
       "\t<tr><td>datasets<\/td><td>lh                    <\/td><td>Luteinizing Hormone in Blood Samples                           <\/td><\/tr>\n",
       "\t<tr><td>datasets<\/td><td>longley               <\/td><td>Longley's Economic Regression Data                             <\/td><\/tr>\n",
       "\t<tr><td>datasets<\/td><td>lynx                  <\/td><td>Annual Canadian Lynx trappings 1821-1934                       <\/td><\/tr>\n",
       "\t<tr><td>datasets<\/td><td>mdeaths (UKLungDeaths)<\/td><td>Monthly Deaths from Lung Diseases in the UK                    <\/td><\/tr>\n",
       "\t<tr><td>datasets<\/td><td>morley                <\/td><td>Michelson Speed of Light Data                                  <\/td><\/tr>\n",
       "\t<tr><td>datasets<\/td><td>mtcars                <\/td><td>Motor Trend Car Road Tests                                     <\/td><\/tr>\n",
       "\t<tr><td>datasets<\/td><td>nhtemp                <\/td><td>Average Yearly Temperatures in New Haven                       <\/td><\/tr>\n",
       "\t<tr><td>datasets<\/td><td>nottem                <\/td><td>Average Monthly Temperatures at Nottingham, 1920-1939          <\/td><\/tr>\n",
       "\t<tr><td>datasets<\/td><td>npk                   <\/td><td>Classical N, P, K Factorial Experiment                         <\/td><\/tr>\n",
       "\t<tr><td>datasets<\/td><td>occupationalStatus    <\/td><td>Occupational Status of Fathers and their Sons                  <\/td><\/tr>\n",
       "\t<tr><td>datasets<\/td><td>precip                <\/td><td>Annual Precipitation in US Cities                              <\/td><\/tr>\n",
       "\t<tr><td>datasets<\/td><td>presidents            <\/td><td>Quarterly Approval Ratings of US Presidents                    <\/td><\/tr>\n",
       "\t<tr><td>datasets<\/td><td>pressure              <\/td><td>Vapor Pressure of Mercury as a Function of Temperature         <\/td><\/tr>\n",
       "\t<tr><td>datasets<\/td><td>quakes                <\/td><td>Locations of Earthquakes off Fiji                              <\/td><\/tr>\n",
       "\t<tr><td>datasets<\/td><td>randu                 <\/td><td>Random Numbers from Congruential Generator RANDU               <\/td><\/tr>\n",
       "\t<tr><td>datasets<\/td><td>rivers                <\/td><td>Lengths of Major North American Rivers                         <\/td><\/tr>\n",
       "\t<tr><td>datasets<\/td><td>rock                  <\/td><td>Measurements on Petroleum Rock Samples                         <\/td><\/tr>\n",
       "\t<tr><td>datasets<\/td><td>sleep                 <\/td><td>Student's Sleep Data                                           <\/td><\/tr>\n",
       "\t<tr><td>datasets<\/td><td>stack.loss (stackloss)<\/td><td>Brownlee's Stack Loss Plant Data                               <\/td><\/tr>\n",
       "\t<tr><td>datasets<\/td><td>stack.x (stackloss)   <\/td><td>Brownlee's Stack Loss Plant Data                               <\/td><\/tr>\n",
       "\t<tr><td>datasets<\/td><td>stackloss             <\/td><td>Brownlee's Stack Loss Plant Data                               <\/td><\/tr>\n",
       "\t<tr><td>datasets<\/td><td>state.abb (state)     <\/td><td>US State Facts and Figures                                     <\/td><\/tr>\n",
       "\t<tr><td>datasets<\/td><td>state.area (state)    <\/td><td>US State Facts and Figures                                     <\/td><\/tr>\n",
       "\t<tr><td>datasets<\/td><td>state.center (state)  <\/td><td>US State Facts and Figures                                     <\/td><\/tr>\n",
       "\t<tr><td>datasets<\/td><td>state.division (state)<\/td><td>US State Facts and Figures                                     <\/td><\/tr>\n",
       "\t<tr><td>datasets<\/td><td>state.name (state)    <\/td><td>US State Facts and Figures                                     <\/td><\/tr>\n",
       "\t<tr><td>datasets<\/td><td>state.region (state)  <\/td><td>US State Facts and Figures                                     <\/td><\/tr>\n",
       "\t<tr><td>datasets<\/td><td>state.x77 (state)     <\/td><td>US State Facts and Figures                                     <\/td><\/tr>\n",
       "\t<tr><td>datasets<\/td><td>sunspot.month         <\/td><td>Monthly Sunspot Data, from 1749 to \"Present\"                   <\/td><\/tr>\n",
       "\t<tr><td>datasets<\/td><td>sunspot.year          <\/td><td>Yearly Sunspot Data, 1700-1988                                 <\/td><\/tr>\n",
       "\t<tr><td>datasets<\/td><td>sunspots              <\/td><td>Monthly Sunspot Numbers, 1749-1983                             <\/td><\/tr>\n",
       "\t<tr><td>datasets<\/td><td>swiss                 <\/td><td>Swiss Fertility and Socioeconomic Indicators (1888) Data       <\/td><\/tr>\n",
       "\t<tr><td>datasets<\/td><td>treering              <\/td><td>Yearly Treering Data, -6000-1979                               <\/td><\/tr>\n",
       "\t<tr><td>datasets<\/td><td>trees                 <\/td><td>Diameter, Height and Volume for Black Cherry Trees             <\/td><\/tr>\n",
       "\t<tr><td>datasets<\/td><td>uspop                 <\/td><td>Populations Recorded by the US Census                          <\/td><\/tr>\n",
       "\t<tr><td>datasets<\/td><td>volcano               <\/td><td>Topographic Information on Auckland's Maunga Whau Volcano      <\/td><\/tr>\n",
       "\t<tr><td>datasets<\/td><td>warpbreaks            <\/td><td>The Number of Breaks in Yarn during Weaving                    <\/td><\/tr>\n",
       "\t<tr><td>datasets<\/td><td>women                 <\/td><td>Average Heights and Weights for American Women                 <\/td><\/tr>\n",
       "<\/tbody>\n",
       "<\/table>\n",
       "\n",
       "<p>Use ‘data(package = .packages(all.available = TRUE))’\n",
       "to list the data sets in all *available* packages.<\/p>"
      ]
     },
     "metadata":{
      
     },
     "output_type":"display_data"
    }
   ],
   "metadata":{
    "datalore":{
     "node_id":"hGOl4ERseGTs6RPegE5sG6",
     "type":"CODE",
     "hide_input_from_viewers":true,
     "hide_output_from_viewers":true
    }
   }
  }
 ],
 "metadata":{
  "kernelspec":{
   "display_name":"R",
   "language":"r",
   "name":"ir"
  },
  "datalore":{
   "computation_mode":"REACTIVE",
   "package_manager":"conda",
   "base_environment":"minimal",
   "packages":[
    
   ],
   "report_row_ids":[
    "2yqI43O1W51KPp1amXS11E",
    "BI6ffjRySnfOmpvuAVQ73E",
    "tbQgla3zEqSK6kkx7vuS6V",
    "VFLN9ZWugHQkpN2NUvp6Hi",
    "8v7LC9cLwoAVnQfcQhKi98",
    "CDv9xVX7maOA1qOBZ1abEu",
    "KBNDnpaRPXYQ9KNDq8Ypgw",
    "4BnaEbDwAGbXBQAullhOO5",
    "2pD6SZKYNibOd1EQfh0XNa",
    "3JFSwCweKdXShhPjeYQJqk",
    "fsuhLWJh4IJ1guH0tifCyx",
    "L8uSOJ8ajE0799WZnLeIFx",
    "hYPmvfMhmOt65VXbbPip0f",
    "137ZnTuf6jsRfNgvWEvT8Q",
    "wUALTAFw4pZGfPkGOt484n",
    "QkbdWGownb0GbKNEztWeWF",
    "MPEAjnZIMrNsYTtwALXTLz",
    "CebEAfjU63C93II7hisjBY",
    "YC4xlAr5qRJz9HnZVhTtZ5",
    "3yGrBjuv6gJ3Ph3b1UNSiY",
    "7xFr30Q7EBJ7zJgMoWyXpJ",
    "wkdlvucAyeYGesUdmeotTl",
    "d1zDgQ7cS9illcMwbyyopS"
   ],
   "version":3
  }
 },
 "nbformat":4,
 "nbformat_minor":4
}